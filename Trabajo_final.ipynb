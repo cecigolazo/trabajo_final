{
  "cells": [
    {
      "cell_type": "markdown",
      "metadata": {
        "id": "view-in-github",
        "colab_type": "text"
      },
      "source": [
        "<a href=\"https://colab.research.google.com/github/practigol/trabajo_final/blob/main/Trabajo_final.ipynb\" target=\"_parent\"><img src=\"https://colab.research.google.com/assets/colab-badge.svg\" alt=\"Open In Colab\"/></a>"
      ]
    },
    {
      "cell_type": "markdown",
      "metadata": {
        "id": "3C8jufPFT23v"
      },
      "source": [
        "# **Predicción de la pobreza en Argentina**\n",
        "\n",
        "El objetivo de este trabajo es diseñar un modelo de aprendizaje automático que pueda predecir la pobreza en Argentina, a partir de los datos disponibles en la Encuesta Permanente de Hogares (https://www.indec.gob.ar/indec/web/Institucional-Indec-BasesDeDatos). \n",
        "\n",
        "Las bases de datos que se toman en este caso son las del último trimestre del año 2021.\n",
        "\n",
        "\n"
      ]
    },
    {
      "cell_type": "code",
      "execution_count": 1,
      "metadata": {
        "id": "BwBzJH2KA06h"
      },
      "outputs": [],
      "source": [
        "import numpy as np # linear algebra\n",
        "import pandas as pd # data processing, CSV file I/O (e.g. pd.read_csv)\n",
        "import matplotlib.pyplot as plt # data visualization\n",
        "import seaborn as sns # statistical data visualization\n",
        "%matplotlib inline\n",
        "\n",
        "# Input data files are available in the \"../input/\" directory.\n",
        "# For example, running this (by clicking run or pressing Shift+Enter) will list all files under the input directory\n",
        "\n",
        "import os\n",
        "import warnings\n",
        "\n",
        "warnings.filterwarnings('ignore')"
      ]
    },
    {
      "cell_type": "markdown",
      "metadata": {
        "id": "HmNBTgGhKSGa"
      },
      "source": [
        "# **Creamos el dataset**"
      ]
    },
    {
      "cell_type": "code",
      "execution_count": 171,
      "metadata": {
        "colab": {
          "base_uri": "https://localhost:8080/",
          "height": 40
        },
        "id": "RahFhAckBA7m",
        "outputId": "1458fc0b-f63e-4bfe-e5b6-b5143ef42335"
      },
      "outputs": [
        {
          "data": {
            "text/html": [
              "\n",
              "     <input type=\"file\" id=\"files-1bcfabcf-8f29-4314-8efe-8cfdef7adc89\" name=\"files[]\" multiple disabled\n",
              "        style=\"border:none\" />\n",
              "     <output id=\"result-1bcfabcf-8f29-4314-8efe-8cfdef7adc89\">\n",
              "      Upload widget is only available when the cell has been executed in the\n",
              "      current browser session. Please rerun this cell to enable.\n",
              "      </output>\n",
              "      <script>// Copyright 2017 Google LLC\n",
              "//\n",
              "// Licensed under the Apache License, Version 2.0 (the \"License\");\n",
              "// you may not use this file except in compliance with the License.\n",
              "// You may obtain a copy of the License at\n",
              "//\n",
              "//      http://www.apache.org/licenses/LICENSE-2.0\n",
              "//\n",
              "// Unless required by applicable law or agreed to in writing, software\n",
              "// distributed under the License is distributed on an \"AS IS\" BASIS,\n",
              "// WITHOUT WARRANTIES OR CONDITIONS OF ANY KIND, either express or implied.\n",
              "// See the License for the specific language governing permissions and\n",
              "// limitations under the License.\n",
              "\n",
              "/**\n",
              " * @fileoverview Helpers for google.colab Python module.\n",
              " */\n",
              "(function(scope) {\n",
              "function span(text, styleAttributes = {}) {\n",
              "  const element = document.createElement('span');\n",
              "  element.textContent = text;\n",
              "  for (const key of Object.keys(styleAttributes)) {\n",
              "    element.style[key] = styleAttributes[key];\n",
              "  }\n",
              "  return element;\n",
              "}\n",
              "\n",
              "// Max number of bytes which will be uploaded at a time.\n",
              "const MAX_PAYLOAD_SIZE = 100 * 1024;\n",
              "\n",
              "function _uploadFiles(inputId, outputId) {\n",
              "  const steps = uploadFilesStep(inputId, outputId);\n",
              "  const outputElement = document.getElementById(outputId);\n",
              "  // Cache steps on the outputElement to make it available for the next call\n",
              "  // to uploadFilesContinue from Python.\n",
              "  outputElement.steps = steps;\n",
              "\n",
              "  return _uploadFilesContinue(outputId);\n",
              "}\n",
              "\n",
              "// This is roughly an async generator (not supported in the browser yet),\n",
              "// where there are multiple asynchronous steps and the Python side is going\n",
              "// to poll for completion of each step.\n",
              "// This uses a Promise to block the python side on completion of each step,\n",
              "// then passes the result of the previous step as the input to the next step.\n",
              "function _uploadFilesContinue(outputId) {\n",
              "  const outputElement = document.getElementById(outputId);\n",
              "  const steps = outputElement.steps;\n",
              "\n",
              "  const next = steps.next(outputElement.lastPromiseValue);\n",
              "  return Promise.resolve(next.value.promise).then((value) => {\n",
              "    // Cache the last promise value to make it available to the next\n",
              "    // step of the generator.\n",
              "    outputElement.lastPromiseValue = value;\n",
              "    return next.value.response;\n",
              "  });\n",
              "}\n",
              "\n",
              "/**\n",
              " * Generator function which is called between each async step of the upload\n",
              " * process.\n",
              " * @param {string} inputId Element ID of the input file picker element.\n",
              " * @param {string} outputId Element ID of the output display.\n",
              " * @return {!Iterable<!Object>} Iterable of next steps.\n",
              " */\n",
              "function* uploadFilesStep(inputId, outputId) {\n",
              "  const inputElement = document.getElementById(inputId);\n",
              "  inputElement.disabled = false;\n",
              "\n",
              "  const outputElement = document.getElementById(outputId);\n",
              "  outputElement.innerHTML = '';\n",
              "\n",
              "  const pickedPromise = new Promise((resolve) => {\n",
              "    inputElement.addEventListener('change', (e) => {\n",
              "      resolve(e.target.files);\n",
              "    });\n",
              "  });\n",
              "\n",
              "  const cancel = document.createElement('button');\n",
              "  inputElement.parentElement.appendChild(cancel);\n",
              "  cancel.textContent = 'Cancel upload';\n",
              "  const cancelPromise = new Promise((resolve) => {\n",
              "    cancel.onclick = () => {\n",
              "      resolve(null);\n",
              "    };\n",
              "  });\n",
              "\n",
              "  // Wait for the user to pick the files.\n",
              "  const files = yield {\n",
              "    promise: Promise.race([pickedPromise, cancelPromise]),\n",
              "    response: {\n",
              "      action: 'starting',\n",
              "    }\n",
              "  };\n",
              "\n",
              "  cancel.remove();\n",
              "\n",
              "  // Disable the input element since further picks are not allowed.\n",
              "  inputElement.disabled = true;\n",
              "\n",
              "  if (!files) {\n",
              "    return {\n",
              "      response: {\n",
              "        action: 'complete',\n",
              "      }\n",
              "    };\n",
              "  }\n",
              "\n",
              "  for (const file of files) {\n",
              "    const li = document.createElement('li');\n",
              "    li.append(span(file.name, {fontWeight: 'bold'}));\n",
              "    li.append(span(\n",
              "        `(${file.type || 'n/a'}) - ${file.size} bytes, ` +\n",
              "        `last modified: ${\n",
              "            file.lastModifiedDate ? file.lastModifiedDate.toLocaleDateString() :\n",
              "                                    'n/a'} - `));\n",
              "    const percent = span('0% done');\n",
              "    li.appendChild(percent);\n",
              "\n",
              "    outputElement.appendChild(li);\n",
              "\n",
              "    const fileDataPromise = new Promise((resolve) => {\n",
              "      const reader = new FileReader();\n",
              "      reader.onload = (e) => {\n",
              "        resolve(e.target.result);\n",
              "      };\n",
              "      reader.readAsArrayBuffer(file);\n",
              "    });\n",
              "    // Wait for the data to be ready.\n",
              "    let fileData = yield {\n",
              "      promise: fileDataPromise,\n",
              "      response: {\n",
              "        action: 'continue',\n",
              "      }\n",
              "    };\n",
              "\n",
              "    // Use a chunked sending to avoid message size limits. See b/62115660.\n",
              "    let position = 0;\n",
              "    do {\n",
              "      const length = Math.min(fileData.byteLength - position, MAX_PAYLOAD_SIZE);\n",
              "      const chunk = new Uint8Array(fileData, position, length);\n",
              "      position += length;\n",
              "\n",
              "      const base64 = btoa(String.fromCharCode.apply(null, chunk));\n",
              "      yield {\n",
              "        response: {\n",
              "          action: 'append',\n",
              "          file: file.name,\n",
              "          data: base64,\n",
              "        },\n",
              "      };\n",
              "\n",
              "      let percentDone = fileData.byteLength === 0 ?\n",
              "          100 :\n",
              "          Math.round((position / fileData.byteLength) * 100);\n",
              "      percent.textContent = `${percentDone}% done`;\n",
              "\n",
              "    } while (position < fileData.byteLength);\n",
              "  }\n",
              "\n",
              "  // All done.\n",
              "  yield {\n",
              "    response: {\n",
              "      action: 'complete',\n",
              "    }\n",
              "  };\n",
              "}\n",
              "\n",
              "scope.google = scope.google || {};\n",
              "scope.google.colab = scope.google.colab || {};\n",
              "scope.google.colab._files = {\n",
              "  _uploadFiles,\n",
              "  _uploadFilesContinue,\n",
              "};\n",
              "})(self);\n",
              "</script> "
            ],
            "text/plain": [
              "<IPython.core.display.HTML object>"
            ]
          },
          "metadata": {},
          "output_type": "display_data"
        }
      ],
      "source": [
        "#cargamos el archivo de individuos \"usu_individual_T421.csv\"\n",
        "\n",
        "from google.colab import files\n",
        "uploaded  = files.upload() "
      ]
    },
    {
      "cell_type": "code",
      "execution_count": 56,
      "metadata": {
        "id": "BOfj5reHCqcb"
      },
      "outputs": [],
      "source": [
        "df_individual = pd.read_csv(\"usu_individual_T421.csv\")"
      ]
    },
    {
      "cell_type": "code",
      "execution_count": 57,
      "metadata": {
        "colab": {
          "base_uri": "https://localhost:8080/"
        },
        "id": "Ix3p_VwvGcPr",
        "outputId": "1846c427-0434-44c8-aeb0-ff851f0eaffa"
      },
      "outputs": [
        {
          "output_type": "execute_result",
          "data": {
            "text/plain": [
              "(50154, 177)"
            ]
          },
          "metadata": {},
          "execution_count": 57
        }
      ],
      "source": [
        "df_individual.shape"
      ]
    },
    {
      "cell_type": "code",
      "execution_count": 58,
      "metadata": {
        "id": "MdnN-BXrCx-_"
      },
      "outputs": [],
      "source": [
        "# le asignamos un % a cada persona que vive en el hogar según género y edad, en la variable 'AE_ctrol_ind'\n",
        "\n",
        "condiciones = [\n",
        "    (df_individual ['CH04'] >= 1) & (df_individual['CH06'] < 1),\n",
        "    (df_individual['CH04'] >= 1) & (df_individual['CH06'] == 1),\n",
        "    (df_individual['CH04'] >= 1) & (df_individual['CH06'] == 2),\n",
        "    (df_individual['CH04'] >= 1) & (df_individual['CH06'] == 3),\n",
        "    (df_individual['CH04'] >= 1) & (df_individual['CH06'] == 4),\n",
        "    (df_individual['CH04'] >= 1 ) & ( df_individual['CH06'] == 5),\n",
        "    (df_individual['CH04'] >= 1) & (df_individual['CH06'] == 6),\n",
        "    (df_individual['CH04'] >= 1) & (df_individual['CH06'] == 7),\n",
        "    (df_individual['CH04'] >= 1) & (df_individual['CH06'] == 8),\n",
        "    (df_individual['CH04'] >= 1) & (df_individual['CH06'] == 9),\n",
        "    (df_individual['CH04'] >= 1) & (df_individual['CH06'] == 10),\n",
        "    (df_individual['CH04'] >= 1) & (df_individual['CH06'] == 11),\n",
        "    (df_individual['CH04'] >= 1) & (df_individual['CH06'] == 12),\n",
        "    (df_individual['CH04'] == 2) & (df_individual['CH06'] >= 13) & (df_individual['CH06'] <=14),\n",
        "    (df_individual['CH04'] == 2) & (df_individual['CH06'] >= 15) & (df_individual['CH06'] <=17),\n",
        "    (df_individual['CH04'] == 2) & (df_individual['CH06'] >= 18) & (df_individual['CH06'] <=29),\n",
        "    (df_individual['CH04'] == 2) & (df_individual['CH06'] >= 30) & (df_individual['CH06'] <=45),\n",
        "    (df_individual['CH04'] == 2) & (df_individual['CH06'] >= 46) & (df_individual['CH06'] <=60),\n",
        "    (df_individual['CH04'] == 2) & (df_individual['CH06'] >= 61) & (df_individual['CH06'] <=75),\n",
        "    (df_individual['CH04'] == 2) & (df_individual['CH06'] > 75),\n",
        "    (df_individual['CH04'] == 1) & (df_individual['CH06'] ==10),\n",
        "    (df_individual['CH04'] == 1) & (df_individual['CH06'] ==11),\n",
        "    (df_individual['CH04'] == 1) & (df_individual['CH06'] ==12),\n",
        "    (df_individual['CH04'] == 1) & (df_individual['CH06'] ==13),\n",
        "    (df_individual['CH04'] == 1) & (df_individual['CH06'] ==14),\n",
        "    (df_individual['CH04'] == 1) & (df_individual['CH06'] ==15),\n",
        "    (df_individual['CH04'] == 1) & (df_individual['CH06'] ==16),\n",
        "    (df_individual['CH04'] == 1) & (df_individual['CH06'] ==17),\n",
        "    (df_individual['CH04'] == 1) & (df_individual['CH06'] >= 18) & (df_individual['CH06'] <=29),\n",
        "    (df_individual['CH04'] == 1) & (df_individual['CH06'] >= 30) & (df_individual['CH06'] <=45),\n",
        "    (df_individual['CH04'] == 1) & (df_individual['CH06'] >= 46) & (df_individual['CH06'] <=60),\n",
        "    (df_individual['CH04'] == 1) & (df_individual['CH06'] >= 61) & (df_individual['CH06'] <=75),\n",
        "    (df_individual['CH04'] == 1) & (df_individual['CH06'] > 75)   \n",
        "    ]\n",
        "\n",
        "opciones = [0.35,0.37,0.46,0.51,0.55,0.60,0.64,0.66,0.68,0.69,0.70,0.72,0.74,0.76,0.77,0.76,0.77,0.76,0.67,0.63,0.79,0.82,0.85,0.90,\n",
        "            0.96,1.00,1.03,1.04,1.02,1.00,1.00,0.83,0.74]\n",
        "\n"
      ]
    },
    {
      "cell_type": "code",
      "execution_count": 60,
      "metadata": {
        "id": "JWTr4G0ZNu8I"
      },
      "outputs": [],
      "source": [
        "df_individual['AE_ctrol_ind']=np.select(condiciones,opciones)"
      ]
    },
    {
      "cell_type": "code",
      "execution_count": 61,
      "metadata": {
        "colab": {
          "base_uri": "https://localhost:8080/",
          "height": 473
        },
        "id": "iAI_PMJgOAxO",
        "outputId": "957703cd-94fc-4e0b-c205-cf1de2227da3"
      },
      "outputs": [
        {
          "output_type": "execute_result",
          "data": {
            "text/plain": [
              "                          CODUSU  ANO4  TRIMESTRE  NRO_HOGAR  COMPONENTE  H15  \\\n",
              "0  TQRMNOPPQHMOLPCDEGNFJ00714305  2021          4          1           4    1   \n",
              "1  TQRMNOQPYHKMPUCDEIJAH00663642  2021          4          1           1    1   \n",
              "2  TQRMNOQPYHKMPUCDEIJAH00663642  2021          4          1           2    1   \n",
              "3  TQRMNOQYRHMOQRCDEIJAH00718661  2021          4          1           1    1   \n",
              "4  TQRMNOPSTHMMLPCDEFMDB00713515  2021          4          1           2    1   \n",
              "\n",
              "   REGION MAS_500  AGLOMERADO  PONDERA  CH03  CH04                 CH05  CH06  \\\n",
              "0      44       N          17      309     3     1  2008-02-14 00:00:00    13   \n",
              "1       1       S          33     1573     1     1  1942-07-07 00:00:00    79   \n",
              "2       1       S          33     1573     2     2  1942-02-05 00:00:00    79   \n",
              "3       1       S          33     2635     1     1  1900-01-01 00:00:00    48   \n",
              "4      43       N           6       87     2     2  1900-01-01 00:00:00    65   \n",
              "\n",
              "   CH07  CH08  CH09  CH10  CH11  CH12  CH13  CH14  CH15  CH15_COD  CH16  \\\n",
              "0     5     1     1     1     1     4     2   0.0     1       NaN     1   \n",
              "1     2     1     1     2     0     2     1   NaN     3      90.0     1   \n",
              "2     2     1     1     2     0     4     2   3.0     3      22.0     1   \n",
              "3     2     1     1     2     0     4     1   NaN     1       NaN     1   \n",
              "4     2     1     1     2     0     4     1   NaN     1       NaN     1   \n",
              "\n",
              "   CH16_COD  NIVEL_ED  ESTADO  CAT_OCUP  CAT_INAC  IMPUTA  PP02C1  PP02C2  \\\n",
              "0       NaN         3       3         0         3     NaN       0       0   \n",
              "1       NaN         2       3         0         1     NaN       0       0   \n",
              "2       NaN         3       3         0         1     NaN       0       0   \n",
              "3       NaN         4       1         3         0     NaN       0       0   \n",
              "4       NaN         4       3         0         1     NaN       0       0   \n",
              "\n",
              "   PP02C3  PP02C4  PP02C5  PP02C6  PP02C7  PP02C8  PP02E  ...  ADECOCUR  \\\n",
              "0       0       0       0       0       0       0      0  ...         0   \n",
              "1       0       0       0       0       0       0      0  ...         0   \n",
              "2       0       0       0       0       0       0      0  ...         0   \n",
              "3       0       0       0       0       0       0      0  ...        12   \n",
              "4       0       0       0       0       0       0      0  ...         0   \n",
              "\n",
              "   PONDIIO  TOT_P12     P47T  DECINDR  IDECINDR  RDECINDR  GDECINDR  PDECINDR  \\\n",
              "0      309        0      0.0        0       0.0         0       NaN       0.0   \n",
              "1     1573        0  35000.0        5       NaN         4       5.0       NaN   \n",
              "2     1573        0  29000.0        4       NaN         4       4.0       NaN   \n",
              "3        0        0     -9.0       12       NaN        12      12.0       NaN   \n",
              "4       87        0  26000.0        4       4.0         4       NaN       4.0   \n",
              "\n",
              "   ADECINDR  PONDII   V2_M  V3_M  V4_M  V5_M  V8_M  V9_M  V10_M  V11_M  V12_M  \\\n",
              "0         0     309      0     0     0     0     0     0      0      0      0   \n",
              "1         5    1954  35000     0     0     0     0     0      0      0      0   \n",
              "2         4    1960  29000     0     0     0     0     0      0      0      0   \n",
              "3        12       0      0     0     0  4000     0     0      0      0      0   \n",
              "4         3     106  26000     0     0     0     0     0      0      0      0   \n",
              "\n",
              "   V18_M  V19_AM  V21_M   T_VI     ITF  DECIFR  IDECIFR  RDECIFR  GDECIFR  \\\n",
              "0      0       0      0      0  134000       8      9.0        7      NaN   \n",
              "1      0       0      0  35000   64000       4      NaN        4      4.0   \n",
              "2      0       0      0  29000   64000       4      NaN        4      4.0   \n",
              "3      0       0      0   4000       0      12      NaN       12     12.0   \n",
              "4      0       0      0  26000   86000       6      7.0        7      NaN   \n",
              "\n",
              "   PDECIFR  ADECIFR     IPCF  DECCFR  IDECCFR  RDECCFR  GDECCFR  PDECCFR  \\\n",
              "0      9.0        7  33500.0       6      7.0        5      NaN      7.0   \n",
              "1      NaN        4  32000.0       6      NaN        6      6.0      NaN   \n",
              "2      NaN        4  32000.0       6      NaN        6      6.0      NaN   \n",
              "3      NaN       12      0.0      12      NaN       12     12.0      NaN   \n",
              "4      7.0        7  43000.0       7      8.0        8      NaN      8.0   \n",
              "\n",
              "   ADECCFR  PONDIH  AE_ctrol_ind  \n",
              "0        5     411          0.90  \n",
              "1        6    2285          0.74  \n",
              "2        6    2285          0.63  \n",
              "3       12       0          1.00  \n",
              "4        8     129          0.67  \n",
              "\n",
              "[5 rows x 178 columns]"
            ],
            "text/html": [
              "\n",
              "  <div id=\"df-156e6ebd-7542-4e3a-8e10-5d6fa08c13fa\">\n",
              "    <div class=\"colab-df-container\">\n",
              "      <div>\n",
              "<style scoped>\n",
              "    .dataframe tbody tr th:only-of-type {\n",
              "        vertical-align: middle;\n",
              "    }\n",
              "\n",
              "    .dataframe tbody tr th {\n",
              "        vertical-align: top;\n",
              "    }\n",
              "\n",
              "    .dataframe thead th {\n",
              "        text-align: right;\n",
              "    }\n",
              "</style>\n",
              "<table border=\"1\" class=\"dataframe\">\n",
              "  <thead>\n",
              "    <tr style=\"text-align: right;\">\n",
              "      <th></th>\n",
              "      <th>CODUSU</th>\n",
              "      <th>ANO4</th>\n",
              "      <th>TRIMESTRE</th>\n",
              "      <th>NRO_HOGAR</th>\n",
              "      <th>COMPONENTE</th>\n",
              "      <th>H15</th>\n",
              "      <th>REGION</th>\n",
              "      <th>MAS_500</th>\n",
              "      <th>AGLOMERADO</th>\n",
              "      <th>PONDERA</th>\n",
              "      <th>CH03</th>\n",
              "      <th>CH04</th>\n",
              "      <th>CH05</th>\n",
              "      <th>CH06</th>\n",
              "      <th>CH07</th>\n",
              "      <th>CH08</th>\n",
              "      <th>CH09</th>\n",
              "      <th>CH10</th>\n",
              "      <th>CH11</th>\n",
              "      <th>CH12</th>\n",
              "      <th>CH13</th>\n",
              "      <th>CH14</th>\n",
              "      <th>CH15</th>\n",
              "      <th>CH15_COD</th>\n",
              "      <th>CH16</th>\n",
              "      <th>CH16_COD</th>\n",
              "      <th>NIVEL_ED</th>\n",
              "      <th>ESTADO</th>\n",
              "      <th>CAT_OCUP</th>\n",
              "      <th>CAT_INAC</th>\n",
              "      <th>IMPUTA</th>\n",
              "      <th>PP02C1</th>\n",
              "      <th>PP02C2</th>\n",
              "      <th>PP02C3</th>\n",
              "      <th>PP02C4</th>\n",
              "      <th>PP02C5</th>\n",
              "      <th>PP02C6</th>\n",
              "      <th>PP02C7</th>\n",
              "      <th>PP02C8</th>\n",
              "      <th>PP02E</th>\n",
              "      <th>...</th>\n",
              "      <th>ADECOCUR</th>\n",
              "      <th>PONDIIO</th>\n",
              "      <th>TOT_P12</th>\n",
              "      <th>P47T</th>\n",
              "      <th>DECINDR</th>\n",
              "      <th>IDECINDR</th>\n",
              "      <th>RDECINDR</th>\n",
              "      <th>GDECINDR</th>\n",
              "      <th>PDECINDR</th>\n",
              "      <th>ADECINDR</th>\n",
              "      <th>PONDII</th>\n",
              "      <th>V2_M</th>\n",
              "      <th>V3_M</th>\n",
              "      <th>V4_M</th>\n",
              "      <th>V5_M</th>\n",
              "      <th>V8_M</th>\n",
              "      <th>V9_M</th>\n",
              "      <th>V10_M</th>\n",
              "      <th>V11_M</th>\n",
              "      <th>V12_M</th>\n",
              "      <th>V18_M</th>\n",
              "      <th>V19_AM</th>\n",
              "      <th>V21_M</th>\n",
              "      <th>T_VI</th>\n",
              "      <th>ITF</th>\n",
              "      <th>DECIFR</th>\n",
              "      <th>IDECIFR</th>\n",
              "      <th>RDECIFR</th>\n",
              "      <th>GDECIFR</th>\n",
              "      <th>PDECIFR</th>\n",
              "      <th>ADECIFR</th>\n",
              "      <th>IPCF</th>\n",
              "      <th>DECCFR</th>\n",
              "      <th>IDECCFR</th>\n",
              "      <th>RDECCFR</th>\n",
              "      <th>GDECCFR</th>\n",
              "      <th>PDECCFR</th>\n",
              "      <th>ADECCFR</th>\n",
              "      <th>PONDIH</th>\n",
              "      <th>AE_ctrol_ind</th>\n",
              "    </tr>\n",
              "  </thead>\n",
              "  <tbody>\n",
              "    <tr>\n",
              "      <th>0</th>\n",
              "      <td>TQRMNOPPQHMOLPCDEGNFJ00714305</td>\n",
              "      <td>2021</td>\n",
              "      <td>4</td>\n",
              "      <td>1</td>\n",
              "      <td>4</td>\n",
              "      <td>1</td>\n",
              "      <td>44</td>\n",
              "      <td>N</td>\n",
              "      <td>17</td>\n",
              "      <td>309</td>\n",
              "      <td>3</td>\n",
              "      <td>1</td>\n",
              "      <td>2008-02-14 00:00:00</td>\n",
              "      <td>13</td>\n",
              "      <td>5</td>\n",
              "      <td>1</td>\n",
              "      <td>1</td>\n",
              "      <td>1</td>\n",
              "      <td>1</td>\n",
              "      <td>4</td>\n",
              "      <td>2</td>\n",
              "      <td>0.0</td>\n",
              "      <td>1</td>\n",
              "      <td>NaN</td>\n",
              "      <td>1</td>\n",
              "      <td>NaN</td>\n",
              "      <td>3</td>\n",
              "      <td>3</td>\n",
              "      <td>0</td>\n",
              "      <td>3</td>\n",
              "      <td>NaN</td>\n",
              "      <td>0</td>\n",
              "      <td>0</td>\n",
              "      <td>0</td>\n",
              "      <td>0</td>\n",
              "      <td>0</td>\n",
              "      <td>0</td>\n",
              "      <td>0</td>\n",
              "      <td>0</td>\n",
              "      <td>0</td>\n",
              "      <td>...</td>\n",
              "      <td>0</td>\n",
              "      <td>309</td>\n",
              "      <td>0</td>\n",
              "      <td>0.0</td>\n",
              "      <td>0</td>\n",
              "      <td>0.0</td>\n",
              "      <td>0</td>\n",
              "      <td>NaN</td>\n",
              "      <td>0.0</td>\n",
              "      <td>0</td>\n",
              "      <td>309</td>\n",
              "      <td>0</td>\n",
              "      <td>0</td>\n",
              "      <td>0</td>\n",
              "      <td>0</td>\n",
              "      <td>0</td>\n",
              "      <td>0</td>\n",
              "      <td>0</td>\n",
              "      <td>0</td>\n",
              "      <td>0</td>\n",
              "      <td>0</td>\n",
              "      <td>0</td>\n",
              "      <td>0</td>\n",
              "      <td>0</td>\n",
              "      <td>134000</td>\n",
              "      <td>8</td>\n",
              "      <td>9.0</td>\n",
              "      <td>7</td>\n",
              "      <td>NaN</td>\n",
              "      <td>9.0</td>\n",
              "      <td>7</td>\n",
              "      <td>33500.0</td>\n",
              "      <td>6</td>\n",
              "      <td>7.0</td>\n",
              "      <td>5</td>\n",
              "      <td>NaN</td>\n",
              "      <td>7.0</td>\n",
              "      <td>5</td>\n",
              "      <td>411</td>\n",
              "      <td>0.90</td>\n",
              "    </tr>\n",
              "    <tr>\n",
              "      <th>1</th>\n",
              "      <td>TQRMNOQPYHKMPUCDEIJAH00663642</td>\n",
              "      <td>2021</td>\n",
              "      <td>4</td>\n",
              "      <td>1</td>\n",
              "      <td>1</td>\n",
              "      <td>1</td>\n",
              "      <td>1</td>\n",
              "      <td>S</td>\n",
              "      <td>33</td>\n",
              "      <td>1573</td>\n",
              "      <td>1</td>\n",
              "      <td>1</td>\n",
              "      <td>1942-07-07 00:00:00</td>\n",
              "      <td>79</td>\n",
              "      <td>2</td>\n",
              "      <td>1</td>\n",
              "      <td>1</td>\n",
              "      <td>2</td>\n",
              "      <td>0</td>\n",
              "      <td>2</td>\n",
              "      <td>1</td>\n",
              "      <td>NaN</td>\n",
              "      <td>3</td>\n",
              "      <td>90.0</td>\n",
              "      <td>1</td>\n",
              "      <td>NaN</td>\n",
              "      <td>2</td>\n",
              "      <td>3</td>\n",
              "      <td>0</td>\n",
              "      <td>1</td>\n",
              "      <td>NaN</td>\n",
              "      <td>0</td>\n",
              "      <td>0</td>\n",
              "      <td>0</td>\n",
              "      <td>0</td>\n",
              "      <td>0</td>\n",
              "      <td>0</td>\n",
              "      <td>0</td>\n",
              "      <td>0</td>\n",
              "      <td>0</td>\n",
              "      <td>...</td>\n",
              "      <td>0</td>\n",
              "      <td>1573</td>\n",
              "      <td>0</td>\n",
              "      <td>35000.0</td>\n",
              "      <td>5</td>\n",
              "      <td>NaN</td>\n",
              "      <td>4</td>\n",
              "      <td>5.0</td>\n",
              "      <td>NaN</td>\n",
              "      <td>5</td>\n",
              "      <td>1954</td>\n",
              "      <td>35000</td>\n",
              "      <td>0</td>\n",
              "      <td>0</td>\n",
              "      <td>0</td>\n",
              "      <td>0</td>\n",
              "      <td>0</td>\n",
              "      <td>0</td>\n",
              "      <td>0</td>\n",
              "      <td>0</td>\n",
              "      <td>0</td>\n",
              "      <td>0</td>\n",
              "      <td>0</td>\n",
              "      <td>35000</td>\n",
              "      <td>64000</td>\n",
              "      <td>4</td>\n",
              "      <td>NaN</td>\n",
              "      <td>4</td>\n",
              "      <td>4.0</td>\n",
              "      <td>NaN</td>\n",
              "      <td>4</td>\n",
              "      <td>32000.0</td>\n",
              "      <td>6</td>\n",
              "      <td>NaN</td>\n",
              "      <td>6</td>\n",
              "      <td>6.0</td>\n",
              "      <td>NaN</td>\n",
              "      <td>6</td>\n",
              "      <td>2285</td>\n",
              "      <td>0.74</td>\n",
              "    </tr>\n",
              "    <tr>\n",
              "      <th>2</th>\n",
              "      <td>TQRMNOQPYHKMPUCDEIJAH00663642</td>\n",
              "      <td>2021</td>\n",
              "      <td>4</td>\n",
              "      <td>1</td>\n",
              "      <td>2</td>\n",
              "      <td>1</td>\n",
              "      <td>1</td>\n",
              "      <td>S</td>\n",
              "      <td>33</td>\n",
              "      <td>1573</td>\n",
              "      <td>2</td>\n",
              "      <td>2</td>\n",
              "      <td>1942-02-05 00:00:00</td>\n",
              "      <td>79</td>\n",
              "      <td>2</td>\n",
              "      <td>1</td>\n",
              "      <td>1</td>\n",
              "      <td>2</td>\n",
              "      <td>0</td>\n",
              "      <td>4</td>\n",
              "      <td>2</td>\n",
              "      <td>3.0</td>\n",
              "      <td>3</td>\n",
              "      <td>22.0</td>\n",
              "      <td>1</td>\n",
              "      <td>NaN</td>\n",
              "      <td>3</td>\n",
              "      <td>3</td>\n",
              "      <td>0</td>\n",
              "      <td>1</td>\n",
              "      <td>NaN</td>\n",
              "      <td>0</td>\n",
              "      <td>0</td>\n",
              "      <td>0</td>\n",
              "      <td>0</td>\n",
              "      <td>0</td>\n",
              "      <td>0</td>\n",
              "      <td>0</td>\n",
              "      <td>0</td>\n",
              "      <td>0</td>\n",
              "      <td>...</td>\n",
              "      <td>0</td>\n",
              "      <td>1573</td>\n",
              "      <td>0</td>\n",
              "      <td>29000.0</td>\n",
              "      <td>4</td>\n",
              "      <td>NaN</td>\n",
              "      <td>4</td>\n",
              "      <td>4.0</td>\n",
              "      <td>NaN</td>\n",
              "      <td>4</td>\n",
              "      <td>1960</td>\n",
              "      <td>29000</td>\n",
              "      <td>0</td>\n",
              "      <td>0</td>\n",
              "      <td>0</td>\n",
              "      <td>0</td>\n",
              "      <td>0</td>\n",
              "      <td>0</td>\n",
              "      <td>0</td>\n",
              "      <td>0</td>\n",
              "      <td>0</td>\n",
              "      <td>0</td>\n",
              "      <td>0</td>\n",
              "      <td>29000</td>\n",
              "      <td>64000</td>\n",
              "      <td>4</td>\n",
              "      <td>NaN</td>\n",
              "      <td>4</td>\n",
              "      <td>4.0</td>\n",
              "      <td>NaN</td>\n",
              "      <td>4</td>\n",
              "      <td>32000.0</td>\n",
              "      <td>6</td>\n",
              "      <td>NaN</td>\n",
              "      <td>6</td>\n",
              "      <td>6.0</td>\n",
              "      <td>NaN</td>\n",
              "      <td>6</td>\n",
              "      <td>2285</td>\n",
              "      <td>0.63</td>\n",
              "    </tr>\n",
              "    <tr>\n",
              "      <th>3</th>\n",
              "      <td>TQRMNOQYRHMOQRCDEIJAH00718661</td>\n",
              "      <td>2021</td>\n",
              "      <td>4</td>\n",
              "      <td>1</td>\n",
              "      <td>1</td>\n",
              "      <td>1</td>\n",
              "      <td>1</td>\n",
              "      <td>S</td>\n",
              "      <td>33</td>\n",
              "      <td>2635</td>\n",
              "      <td>1</td>\n",
              "      <td>1</td>\n",
              "      <td>1900-01-01 00:00:00</td>\n",
              "      <td>48</td>\n",
              "      <td>2</td>\n",
              "      <td>1</td>\n",
              "      <td>1</td>\n",
              "      <td>2</td>\n",
              "      <td>0</td>\n",
              "      <td>4</td>\n",
              "      <td>1</td>\n",
              "      <td>NaN</td>\n",
              "      <td>1</td>\n",
              "      <td>NaN</td>\n",
              "      <td>1</td>\n",
              "      <td>NaN</td>\n",
              "      <td>4</td>\n",
              "      <td>1</td>\n",
              "      <td>3</td>\n",
              "      <td>0</td>\n",
              "      <td>NaN</td>\n",
              "      <td>0</td>\n",
              "      <td>0</td>\n",
              "      <td>0</td>\n",
              "      <td>0</td>\n",
              "      <td>0</td>\n",
              "      <td>0</td>\n",
              "      <td>0</td>\n",
              "      <td>0</td>\n",
              "      <td>0</td>\n",
              "      <td>...</td>\n",
              "      <td>12</td>\n",
              "      <td>0</td>\n",
              "      <td>0</td>\n",
              "      <td>-9.0</td>\n",
              "      <td>12</td>\n",
              "      <td>NaN</td>\n",
              "      <td>12</td>\n",
              "      <td>12.0</td>\n",
              "      <td>NaN</td>\n",
              "      <td>12</td>\n",
              "      <td>0</td>\n",
              "      <td>0</td>\n",
              "      <td>0</td>\n",
              "      <td>0</td>\n",
              "      <td>4000</td>\n",
              "      <td>0</td>\n",
              "      <td>0</td>\n",
              "      <td>0</td>\n",
              "      <td>0</td>\n",
              "      <td>0</td>\n",
              "      <td>0</td>\n",
              "      <td>0</td>\n",
              "      <td>0</td>\n",
              "      <td>4000</td>\n",
              "      <td>0</td>\n",
              "      <td>12</td>\n",
              "      <td>NaN</td>\n",
              "      <td>12</td>\n",
              "      <td>12.0</td>\n",
              "      <td>NaN</td>\n",
              "      <td>12</td>\n",
              "      <td>0.0</td>\n",
              "      <td>12</td>\n",
              "      <td>NaN</td>\n",
              "      <td>12</td>\n",
              "      <td>12.0</td>\n",
              "      <td>NaN</td>\n",
              "      <td>12</td>\n",
              "      <td>0</td>\n",
              "      <td>1.00</td>\n",
              "    </tr>\n",
              "    <tr>\n",
              "      <th>4</th>\n",
              "      <td>TQRMNOPSTHMMLPCDEFMDB00713515</td>\n",
              "      <td>2021</td>\n",
              "      <td>4</td>\n",
              "      <td>1</td>\n",
              "      <td>2</td>\n",
              "      <td>1</td>\n",
              "      <td>43</td>\n",
              "      <td>N</td>\n",
              "      <td>6</td>\n",
              "      <td>87</td>\n",
              "      <td>2</td>\n",
              "      <td>2</td>\n",
              "      <td>1900-01-01 00:00:00</td>\n",
              "      <td>65</td>\n",
              "      <td>2</td>\n",
              "      <td>1</td>\n",
              "      <td>1</td>\n",
              "      <td>2</td>\n",
              "      <td>0</td>\n",
              "      <td>4</td>\n",
              "      <td>1</td>\n",
              "      <td>NaN</td>\n",
              "      <td>1</td>\n",
              "      <td>NaN</td>\n",
              "      <td>1</td>\n",
              "      <td>NaN</td>\n",
              "      <td>4</td>\n",
              "      <td>3</td>\n",
              "      <td>0</td>\n",
              "      <td>1</td>\n",
              "      <td>NaN</td>\n",
              "      <td>0</td>\n",
              "      <td>0</td>\n",
              "      <td>0</td>\n",
              "      <td>0</td>\n",
              "      <td>0</td>\n",
              "      <td>0</td>\n",
              "      <td>0</td>\n",
              "      <td>0</td>\n",
              "      <td>0</td>\n",
              "      <td>...</td>\n",
              "      <td>0</td>\n",
              "      <td>87</td>\n",
              "      <td>0</td>\n",
              "      <td>26000.0</td>\n",
              "      <td>4</td>\n",
              "      <td>4.0</td>\n",
              "      <td>4</td>\n",
              "      <td>NaN</td>\n",
              "      <td>4.0</td>\n",
              "      <td>3</td>\n",
              "      <td>106</td>\n",
              "      <td>26000</td>\n",
              "      <td>0</td>\n",
              "      <td>0</td>\n",
              "      <td>0</td>\n",
              "      <td>0</td>\n",
              "      <td>0</td>\n",
              "      <td>0</td>\n",
              "      <td>0</td>\n",
              "      <td>0</td>\n",
              "      <td>0</td>\n",
              "      <td>0</td>\n",
              "      <td>0</td>\n",
              "      <td>26000</td>\n",
              "      <td>86000</td>\n",
              "      <td>6</td>\n",
              "      <td>7.0</td>\n",
              "      <td>7</td>\n",
              "      <td>NaN</td>\n",
              "      <td>7.0</td>\n",
              "      <td>7</td>\n",
              "      <td>43000.0</td>\n",
              "      <td>7</td>\n",
              "      <td>8.0</td>\n",
              "      <td>8</td>\n",
              "      <td>NaN</td>\n",
              "      <td>8.0</td>\n",
              "      <td>8</td>\n",
              "      <td>129</td>\n",
              "      <td>0.67</td>\n",
              "    </tr>\n",
              "  </tbody>\n",
              "</table>\n",
              "<p>5 rows × 178 columns</p>\n",
              "</div>\n",
              "      <button class=\"colab-df-convert\" onclick=\"convertToInteractive('df-156e6ebd-7542-4e3a-8e10-5d6fa08c13fa')\"\n",
              "              title=\"Convert this dataframe to an interactive table.\"\n",
              "              style=\"display:none;\">\n",
              "        \n",
              "  <svg xmlns=\"http://www.w3.org/2000/svg\" height=\"24px\"viewBox=\"0 0 24 24\"\n",
              "       width=\"24px\">\n",
              "    <path d=\"M0 0h24v24H0V0z\" fill=\"none\"/>\n",
              "    <path d=\"M18.56 5.44l.94 2.06.94-2.06 2.06-.94-2.06-.94-.94-2.06-.94 2.06-2.06.94zm-11 1L8.5 8.5l.94-2.06 2.06-.94-2.06-.94L8.5 2.5l-.94 2.06-2.06.94zm10 10l.94 2.06.94-2.06 2.06-.94-2.06-.94-.94-2.06-.94 2.06-2.06.94z\"/><path d=\"M17.41 7.96l-1.37-1.37c-.4-.4-.92-.59-1.43-.59-.52 0-1.04.2-1.43.59L10.3 9.45l-7.72 7.72c-.78.78-.78 2.05 0 2.83L4 21.41c.39.39.9.59 1.41.59.51 0 1.02-.2 1.41-.59l7.78-7.78 2.81-2.81c.8-.78.8-2.07 0-2.86zM5.41 20L4 18.59l7.72-7.72 1.47 1.35L5.41 20z\"/>\n",
              "  </svg>\n",
              "      </button>\n",
              "      \n",
              "  <style>\n",
              "    .colab-df-container {\n",
              "      display:flex;\n",
              "      flex-wrap:wrap;\n",
              "      gap: 12px;\n",
              "    }\n",
              "\n",
              "    .colab-df-convert {\n",
              "      background-color: #E8F0FE;\n",
              "      border: none;\n",
              "      border-radius: 50%;\n",
              "      cursor: pointer;\n",
              "      display: none;\n",
              "      fill: #1967D2;\n",
              "      height: 32px;\n",
              "      padding: 0 0 0 0;\n",
              "      width: 32px;\n",
              "    }\n",
              "\n",
              "    .colab-df-convert:hover {\n",
              "      background-color: #E2EBFA;\n",
              "      box-shadow: 0px 1px 2px rgba(60, 64, 67, 0.3), 0px 1px 3px 1px rgba(60, 64, 67, 0.15);\n",
              "      fill: #174EA6;\n",
              "    }\n",
              "\n",
              "    [theme=dark] .colab-df-convert {\n",
              "      background-color: #3B4455;\n",
              "      fill: #D2E3FC;\n",
              "    }\n",
              "\n",
              "    [theme=dark] .colab-df-convert:hover {\n",
              "      background-color: #434B5C;\n",
              "      box-shadow: 0px 1px 3px 1px rgba(0, 0, 0, 0.15);\n",
              "      filter: drop-shadow(0px 1px 2px rgba(0, 0, 0, 0.3));\n",
              "      fill: #FFFFFF;\n",
              "    }\n",
              "  </style>\n",
              "\n",
              "      <script>\n",
              "        const buttonEl =\n",
              "          document.querySelector('#df-156e6ebd-7542-4e3a-8e10-5d6fa08c13fa button.colab-df-convert');\n",
              "        buttonEl.style.display =\n",
              "          google.colab.kernel.accessAllowed ? 'block' : 'none';\n",
              "\n",
              "        async function convertToInteractive(key) {\n",
              "          const element = document.querySelector('#df-156e6ebd-7542-4e3a-8e10-5d6fa08c13fa');\n",
              "          const dataTable =\n",
              "            await google.colab.kernel.invokeFunction('convertToInteractive',\n",
              "                                                     [key], {});\n",
              "          if (!dataTable) return;\n",
              "\n",
              "          const docLinkHtml = 'Like what you see? Visit the ' +\n",
              "            '<a target=\"_blank\" href=https://colab.research.google.com/notebooks/data_table.ipynb>data table notebook</a>'\n",
              "            + ' to learn more about interactive tables.';\n",
              "          element.innerHTML = '';\n",
              "          dataTable['output_type'] = 'display_data';\n",
              "          await google.colab.output.renderOutput(dataTable, element);\n",
              "          const docLink = document.createElement('div');\n",
              "          docLink.innerHTML = docLinkHtml;\n",
              "          element.appendChild(docLink);\n",
              "        }\n",
              "      </script>\n",
              "    </div>\n",
              "  </div>\n",
              "  "
            ]
          },
          "metadata": {},
          "execution_count": 61
        }
      ],
      "source": [
        "df_individual.head()"
      ]
    },
    {
      "cell_type": "code",
      "execution_count": 62,
      "metadata": {
        "id": "8o9uLIkDT3Ki"
      },
      "outputs": [],
      "source": [
        "#seleccionamos solo las columnas que nos interesan para este estudio (ver archivo \"EPH_registro_4T2021.pdf\")\n",
        "\n",
        "df_personas = df_individual[['CODUSU','NRO_HOGAR','CH03','CH04','CH06','CH08','NIVEL_ED','CAT_OCUP','CAT_INAC','AE_ctrol_ind']]"
      ]
    },
    {
      "cell_type": "code",
      "execution_count": 63,
      "metadata": {
        "colab": {
          "base_uri": "https://localhost:8080/",
          "height": 206
        },
        "id": "qHs7-uGldkz0",
        "outputId": "6724b908-6a81-4e28-fac6-a31e93d16cbc"
      },
      "outputs": [
        {
          "output_type": "execute_result",
          "data": {
            "text/plain": [
              "                          CODUSU  NRO_HOGAR  CH03  CH04  CH06  CH08  NIVEL_ED  \\\n",
              "0  TQRMNOPPQHMOLPCDEGNFJ00714305          1     3     1    13     1         3   \n",
              "1  TQRMNOQPYHKMPUCDEIJAH00663642          1     1     1    79     1         2   \n",
              "2  TQRMNOQPYHKMPUCDEIJAH00663642          1     2     2    79     1         3   \n",
              "3  TQRMNOQYRHMOQRCDEIJAH00718661          1     1     1    48     1         4   \n",
              "4  TQRMNOPSTHMMLPCDEFMDB00713515          1     2     2    65     1         4   \n",
              "\n",
              "   CAT_OCUP  CAT_INAC  AE_ctrol_ind  \n",
              "0         0         3          0.90  \n",
              "1         0         1          0.74  \n",
              "2         0         1          0.63  \n",
              "3         3         0          1.00  \n",
              "4         0         1          0.67  "
            ],
            "text/html": [
              "\n",
              "  <div id=\"df-20f2da08-6868-4f2d-9369-bb48c95d3ff3\">\n",
              "    <div class=\"colab-df-container\">\n",
              "      <div>\n",
              "<style scoped>\n",
              "    .dataframe tbody tr th:only-of-type {\n",
              "        vertical-align: middle;\n",
              "    }\n",
              "\n",
              "    .dataframe tbody tr th {\n",
              "        vertical-align: top;\n",
              "    }\n",
              "\n",
              "    .dataframe thead th {\n",
              "        text-align: right;\n",
              "    }\n",
              "</style>\n",
              "<table border=\"1\" class=\"dataframe\">\n",
              "  <thead>\n",
              "    <tr style=\"text-align: right;\">\n",
              "      <th></th>\n",
              "      <th>CODUSU</th>\n",
              "      <th>NRO_HOGAR</th>\n",
              "      <th>CH03</th>\n",
              "      <th>CH04</th>\n",
              "      <th>CH06</th>\n",
              "      <th>CH08</th>\n",
              "      <th>NIVEL_ED</th>\n",
              "      <th>CAT_OCUP</th>\n",
              "      <th>CAT_INAC</th>\n",
              "      <th>AE_ctrol_ind</th>\n",
              "    </tr>\n",
              "  </thead>\n",
              "  <tbody>\n",
              "    <tr>\n",
              "      <th>0</th>\n",
              "      <td>TQRMNOPPQHMOLPCDEGNFJ00714305</td>\n",
              "      <td>1</td>\n",
              "      <td>3</td>\n",
              "      <td>1</td>\n",
              "      <td>13</td>\n",
              "      <td>1</td>\n",
              "      <td>3</td>\n",
              "      <td>0</td>\n",
              "      <td>3</td>\n",
              "      <td>0.90</td>\n",
              "    </tr>\n",
              "    <tr>\n",
              "      <th>1</th>\n",
              "      <td>TQRMNOQPYHKMPUCDEIJAH00663642</td>\n",
              "      <td>1</td>\n",
              "      <td>1</td>\n",
              "      <td>1</td>\n",
              "      <td>79</td>\n",
              "      <td>1</td>\n",
              "      <td>2</td>\n",
              "      <td>0</td>\n",
              "      <td>1</td>\n",
              "      <td>0.74</td>\n",
              "    </tr>\n",
              "    <tr>\n",
              "      <th>2</th>\n",
              "      <td>TQRMNOQPYHKMPUCDEIJAH00663642</td>\n",
              "      <td>1</td>\n",
              "      <td>2</td>\n",
              "      <td>2</td>\n",
              "      <td>79</td>\n",
              "      <td>1</td>\n",
              "      <td>3</td>\n",
              "      <td>0</td>\n",
              "      <td>1</td>\n",
              "      <td>0.63</td>\n",
              "    </tr>\n",
              "    <tr>\n",
              "      <th>3</th>\n",
              "      <td>TQRMNOQYRHMOQRCDEIJAH00718661</td>\n",
              "      <td>1</td>\n",
              "      <td>1</td>\n",
              "      <td>1</td>\n",
              "      <td>48</td>\n",
              "      <td>1</td>\n",
              "      <td>4</td>\n",
              "      <td>3</td>\n",
              "      <td>0</td>\n",
              "      <td>1.00</td>\n",
              "    </tr>\n",
              "    <tr>\n",
              "      <th>4</th>\n",
              "      <td>TQRMNOPSTHMMLPCDEFMDB00713515</td>\n",
              "      <td>1</td>\n",
              "      <td>2</td>\n",
              "      <td>2</td>\n",
              "      <td>65</td>\n",
              "      <td>1</td>\n",
              "      <td>4</td>\n",
              "      <td>0</td>\n",
              "      <td>1</td>\n",
              "      <td>0.67</td>\n",
              "    </tr>\n",
              "  </tbody>\n",
              "</table>\n",
              "</div>\n",
              "      <button class=\"colab-df-convert\" onclick=\"convertToInteractive('df-20f2da08-6868-4f2d-9369-bb48c95d3ff3')\"\n",
              "              title=\"Convert this dataframe to an interactive table.\"\n",
              "              style=\"display:none;\">\n",
              "        \n",
              "  <svg xmlns=\"http://www.w3.org/2000/svg\" height=\"24px\"viewBox=\"0 0 24 24\"\n",
              "       width=\"24px\">\n",
              "    <path d=\"M0 0h24v24H0V0z\" fill=\"none\"/>\n",
              "    <path d=\"M18.56 5.44l.94 2.06.94-2.06 2.06-.94-2.06-.94-.94-2.06-.94 2.06-2.06.94zm-11 1L8.5 8.5l.94-2.06 2.06-.94-2.06-.94L8.5 2.5l-.94 2.06-2.06.94zm10 10l.94 2.06.94-2.06 2.06-.94-2.06-.94-.94-2.06-.94 2.06-2.06.94z\"/><path d=\"M17.41 7.96l-1.37-1.37c-.4-.4-.92-.59-1.43-.59-.52 0-1.04.2-1.43.59L10.3 9.45l-7.72 7.72c-.78.78-.78 2.05 0 2.83L4 21.41c.39.39.9.59 1.41.59.51 0 1.02-.2 1.41-.59l7.78-7.78 2.81-2.81c.8-.78.8-2.07 0-2.86zM5.41 20L4 18.59l7.72-7.72 1.47 1.35L5.41 20z\"/>\n",
              "  </svg>\n",
              "      </button>\n",
              "      \n",
              "  <style>\n",
              "    .colab-df-container {\n",
              "      display:flex;\n",
              "      flex-wrap:wrap;\n",
              "      gap: 12px;\n",
              "    }\n",
              "\n",
              "    .colab-df-convert {\n",
              "      background-color: #E8F0FE;\n",
              "      border: none;\n",
              "      border-radius: 50%;\n",
              "      cursor: pointer;\n",
              "      display: none;\n",
              "      fill: #1967D2;\n",
              "      height: 32px;\n",
              "      padding: 0 0 0 0;\n",
              "      width: 32px;\n",
              "    }\n",
              "\n",
              "    .colab-df-convert:hover {\n",
              "      background-color: #E2EBFA;\n",
              "      box-shadow: 0px 1px 2px rgba(60, 64, 67, 0.3), 0px 1px 3px 1px rgba(60, 64, 67, 0.15);\n",
              "      fill: #174EA6;\n",
              "    }\n",
              "\n",
              "    [theme=dark] .colab-df-convert {\n",
              "      background-color: #3B4455;\n",
              "      fill: #D2E3FC;\n",
              "    }\n",
              "\n",
              "    [theme=dark] .colab-df-convert:hover {\n",
              "      background-color: #434B5C;\n",
              "      box-shadow: 0px 1px 3px 1px rgba(0, 0, 0, 0.15);\n",
              "      filter: drop-shadow(0px 1px 2px rgba(0, 0, 0, 0.3));\n",
              "      fill: #FFFFFF;\n",
              "    }\n",
              "  </style>\n",
              "\n",
              "      <script>\n",
              "        const buttonEl =\n",
              "          document.querySelector('#df-20f2da08-6868-4f2d-9369-bb48c95d3ff3 button.colab-df-convert');\n",
              "        buttonEl.style.display =\n",
              "          google.colab.kernel.accessAllowed ? 'block' : 'none';\n",
              "\n",
              "        async function convertToInteractive(key) {\n",
              "          const element = document.querySelector('#df-20f2da08-6868-4f2d-9369-bb48c95d3ff3');\n",
              "          const dataTable =\n",
              "            await google.colab.kernel.invokeFunction('convertToInteractive',\n",
              "                                                     [key], {});\n",
              "          if (!dataTable) return;\n",
              "\n",
              "          const docLinkHtml = 'Like what you see? Visit the ' +\n",
              "            '<a target=\"_blank\" href=https://colab.research.google.com/notebooks/data_table.ipynb>data table notebook</a>'\n",
              "            + ' to learn more about interactive tables.';\n",
              "          element.innerHTML = '';\n",
              "          dataTable['output_type'] = 'display_data';\n",
              "          await google.colab.output.renderOutput(dataTable, element);\n",
              "          const docLink = document.createElement('div');\n",
              "          docLink.innerHTML = docLinkHtml;\n",
              "          element.appendChild(docLink);\n",
              "        }\n",
              "      </script>\n",
              "    </div>\n",
              "  </div>\n",
              "  "
            ]
          },
          "metadata": {},
          "execution_count": 63
        }
      ],
      "source": [
        "df_personas.head()"
      ]
    },
    {
      "cell_type": "code",
      "execution_count": 64,
      "metadata": {
        "id": "B5sAk0OuNpiW"
      },
      "outputs": [],
      "source": [
        "#sumamos el % de cada persona que compone el hogar (las variables CODUSU y NRO_HOGAR identifican a cada hogar)\n",
        "\n",
        "df_suma = df_personas.groupby(['CODUSU','NRO_HOGAR']).AE_ctrol_ind.sum()"
      ]
    },
    {
      "cell_type": "code",
      "execution_count": 65,
      "metadata": {
        "colab": {
          "base_uri": "https://localhost:8080/"
        },
        "id": "D9yT3Op7Nplg",
        "outputId": "fd089cee-6bfd-4d21-e29f-63188bfe8784"
      },
      "outputs": [
        {
          "output_type": "execute_result",
          "data": {
            "text/plain": [
              "CODUSU                         NRO_HOGAR\n",
              "TQRMNOPPQHJLKTCDEGNFJ00699079  1            1.40\n",
              "TQRMNOPPQHJMKMCDEFKID00667054  1            1.77\n",
              "TQRMNOPPQHJMKMCDEOJAH00697751  1            0.63\n",
              "TQRMNOPPQHJMKTCDEHNHB00686535  1            2.19\n",
              "TQRMNOPPQHJMLPCDEFNFF00670213  1            1.52\n",
              "Name: AE_ctrol_ind, dtype: float64"
            ]
          },
          "metadata": {},
          "execution_count": 65
        }
      ],
      "source": [
        "df_suma.head()"
      ]
    },
    {
      "cell_type": "code",
      "execution_count": 66,
      "metadata": {
        "colab": {
          "base_uri": "https://localhost:8080/"
        },
        "id": "uKG9mJW_dlAK",
        "outputId": "30a0aa41-c6c4-44eb-ceed-73ff731a7586"
      },
      "outputs": [
        {
          "output_type": "execute_result",
          "data": {
            "text/plain": [
              "(17037,)"
            ]
          },
          "metadata": {},
          "execution_count": 66
        }
      ],
      "source": [
        "df_suma.shape"
      ]
    },
    {
      "cell_type": "code",
      "execution_count": 67,
      "metadata": {
        "id": "CVyiMCzAaj0k"
      },
      "outputs": [],
      "source": [
        "#unimos los dos dataframes según las variables CODUSU y NRO_HOGAR\n",
        "\n",
        "df_personas_suma = pd.merge(df_personas, df_suma, on=['CODUSU','NRO_HOGAR'])"
      ]
    },
    {
      "cell_type": "code",
      "execution_count": 68,
      "metadata": {
        "colab": {
          "base_uri": "https://localhost:8080/",
          "height": 206
        },
        "id": "P9x7vhRYSghx",
        "outputId": "7b4995ef-2f2f-406c-de75-c1d75e2c2b38"
      },
      "outputs": [
        {
          "output_type": "execute_result",
          "data": {
            "text/plain": [
              "                          CODUSU  NRO_HOGAR  CH03  CH04  CH06  CH08  NIVEL_ED  \\\n",
              "0  TQRMNOPPQHMOLPCDEGNFJ00714305          1     3     1    13     1         3   \n",
              "1  TQRMNOPPQHMOLPCDEGNFJ00714305          1     1     2    37     1         6   \n",
              "2  TQRMNOPPQHMOLPCDEGNFJ00714305          1     2     1    37     1         4   \n",
              "3  TQRMNOPPQHMOLPCDEGNFJ00714305          1     3     2     8     1         1   \n",
              "4  TQRMNOQPYHKMPUCDEIJAH00663642          1     1     1    79     1         2   \n",
              "\n",
              "   CAT_OCUP  CAT_INAC  AE_ctrol_ind_x  AE_ctrol_ind_y  \n",
              "0         0         3            0.90            3.35  \n",
              "1         3         0            0.77            3.35  \n",
              "2         3         0            1.00            3.35  \n",
              "3         0         3            0.68            3.35  \n",
              "4         0         1            0.74            1.37  "
            ],
            "text/html": [
              "\n",
              "  <div id=\"df-e5790941-7b49-4028-9cd1-8b2ef7f05e69\">\n",
              "    <div class=\"colab-df-container\">\n",
              "      <div>\n",
              "<style scoped>\n",
              "    .dataframe tbody tr th:only-of-type {\n",
              "        vertical-align: middle;\n",
              "    }\n",
              "\n",
              "    .dataframe tbody tr th {\n",
              "        vertical-align: top;\n",
              "    }\n",
              "\n",
              "    .dataframe thead th {\n",
              "        text-align: right;\n",
              "    }\n",
              "</style>\n",
              "<table border=\"1\" class=\"dataframe\">\n",
              "  <thead>\n",
              "    <tr style=\"text-align: right;\">\n",
              "      <th></th>\n",
              "      <th>CODUSU</th>\n",
              "      <th>NRO_HOGAR</th>\n",
              "      <th>CH03</th>\n",
              "      <th>CH04</th>\n",
              "      <th>CH06</th>\n",
              "      <th>CH08</th>\n",
              "      <th>NIVEL_ED</th>\n",
              "      <th>CAT_OCUP</th>\n",
              "      <th>CAT_INAC</th>\n",
              "      <th>AE_ctrol_ind_x</th>\n",
              "      <th>AE_ctrol_ind_y</th>\n",
              "    </tr>\n",
              "  </thead>\n",
              "  <tbody>\n",
              "    <tr>\n",
              "      <th>0</th>\n",
              "      <td>TQRMNOPPQHMOLPCDEGNFJ00714305</td>\n",
              "      <td>1</td>\n",
              "      <td>3</td>\n",
              "      <td>1</td>\n",
              "      <td>13</td>\n",
              "      <td>1</td>\n",
              "      <td>3</td>\n",
              "      <td>0</td>\n",
              "      <td>3</td>\n",
              "      <td>0.90</td>\n",
              "      <td>3.35</td>\n",
              "    </tr>\n",
              "    <tr>\n",
              "      <th>1</th>\n",
              "      <td>TQRMNOPPQHMOLPCDEGNFJ00714305</td>\n",
              "      <td>1</td>\n",
              "      <td>1</td>\n",
              "      <td>2</td>\n",
              "      <td>37</td>\n",
              "      <td>1</td>\n",
              "      <td>6</td>\n",
              "      <td>3</td>\n",
              "      <td>0</td>\n",
              "      <td>0.77</td>\n",
              "      <td>3.35</td>\n",
              "    </tr>\n",
              "    <tr>\n",
              "      <th>2</th>\n",
              "      <td>TQRMNOPPQHMOLPCDEGNFJ00714305</td>\n",
              "      <td>1</td>\n",
              "      <td>2</td>\n",
              "      <td>1</td>\n",
              "      <td>37</td>\n",
              "      <td>1</td>\n",
              "      <td>4</td>\n",
              "      <td>3</td>\n",
              "      <td>0</td>\n",
              "      <td>1.00</td>\n",
              "      <td>3.35</td>\n",
              "    </tr>\n",
              "    <tr>\n",
              "      <th>3</th>\n",
              "      <td>TQRMNOPPQHMOLPCDEGNFJ00714305</td>\n",
              "      <td>1</td>\n",
              "      <td>3</td>\n",
              "      <td>2</td>\n",
              "      <td>8</td>\n",
              "      <td>1</td>\n",
              "      <td>1</td>\n",
              "      <td>0</td>\n",
              "      <td>3</td>\n",
              "      <td>0.68</td>\n",
              "      <td>3.35</td>\n",
              "    </tr>\n",
              "    <tr>\n",
              "      <th>4</th>\n",
              "      <td>TQRMNOQPYHKMPUCDEIJAH00663642</td>\n",
              "      <td>1</td>\n",
              "      <td>1</td>\n",
              "      <td>1</td>\n",
              "      <td>79</td>\n",
              "      <td>1</td>\n",
              "      <td>2</td>\n",
              "      <td>0</td>\n",
              "      <td>1</td>\n",
              "      <td>0.74</td>\n",
              "      <td>1.37</td>\n",
              "    </tr>\n",
              "  </tbody>\n",
              "</table>\n",
              "</div>\n",
              "      <button class=\"colab-df-convert\" onclick=\"convertToInteractive('df-e5790941-7b49-4028-9cd1-8b2ef7f05e69')\"\n",
              "              title=\"Convert this dataframe to an interactive table.\"\n",
              "              style=\"display:none;\">\n",
              "        \n",
              "  <svg xmlns=\"http://www.w3.org/2000/svg\" height=\"24px\"viewBox=\"0 0 24 24\"\n",
              "       width=\"24px\">\n",
              "    <path d=\"M0 0h24v24H0V0z\" fill=\"none\"/>\n",
              "    <path d=\"M18.56 5.44l.94 2.06.94-2.06 2.06-.94-2.06-.94-.94-2.06-.94 2.06-2.06.94zm-11 1L8.5 8.5l.94-2.06 2.06-.94-2.06-.94L8.5 2.5l-.94 2.06-2.06.94zm10 10l.94 2.06.94-2.06 2.06-.94-2.06-.94-.94-2.06-.94 2.06-2.06.94z\"/><path d=\"M17.41 7.96l-1.37-1.37c-.4-.4-.92-.59-1.43-.59-.52 0-1.04.2-1.43.59L10.3 9.45l-7.72 7.72c-.78.78-.78 2.05 0 2.83L4 21.41c.39.39.9.59 1.41.59.51 0 1.02-.2 1.41-.59l7.78-7.78 2.81-2.81c.8-.78.8-2.07 0-2.86zM5.41 20L4 18.59l7.72-7.72 1.47 1.35L5.41 20z\"/>\n",
              "  </svg>\n",
              "      </button>\n",
              "      \n",
              "  <style>\n",
              "    .colab-df-container {\n",
              "      display:flex;\n",
              "      flex-wrap:wrap;\n",
              "      gap: 12px;\n",
              "    }\n",
              "\n",
              "    .colab-df-convert {\n",
              "      background-color: #E8F0FE;\n",
              "      border: none;\n",
              "      border-radius: 50%;\n",
              "      cursor: pointer;\n",
              "      display: none;\n",
              "      fill: #1967D2;\n",
              "      height: 32px;\n",
              "      padding: 0 0 0 0;\n",
              "      width: 32px;\n",
              "    }\n",
              "\n",
              "    .colab-df-convert:hover {\n",
              "      background-color: #E2EBFA;\n",
              "      box-shadow: 0px 1px 2px rgba(60, 64, 67, 0.3), 0px 1px 3px 1px rgba(60, 64, 67, 0.15);\n",
              "      fill: #174EA6;\n",
              "    }\n",
              "\n",
              "    [theme=dark] .colab-df-convert {\n",
              "      background-color: #3B4455;\n",
              "      fill: #D2E3FC;\n",
              "    }\n",
              "\n",
              "    [theme=dark] .colab-df-convert:hover {\n",
              "      background-color: #434B5C;\n",
              "      box-shadow: 0px 1px 3px 1px rgba(0, 0, 0, 0.15);\n",
              "      filter: drop-shadow(0px 1px 2px rgba(0, 0, 0, 0.3));\n",
              "      fill: #FFFFFF;\n",
              "    }\n",
              "  </style>\n",
              "\n",
              "      <script>\n",
              "        const buttonEl =\n",
              "          document.querySelector('#df-e5790941-7b49-4028-9cd1-8b2ef7f05e69 button.colab-df-convert');\n",
              "        buttonEl.style.display =\n",
              "          google.colab.kernel.accessAllowed ? 'block' : 'none';\n",
              "\n",
              "        async function convertToInteractive(key) {\n",
              "          const element = document.querySelector('#df-e5790941-7b49-4028-9cd1-8b2ef7f05e69');\n",
              "          const dataTable =\n",
              "            await google.colab.kernel.invokeFunction('convertToInteractive',\n",
              "                                                     [key], {});\n",
              "          if (!dataTable) return;\n",
              "\n",
              "          const docLinkHtml = 'Like what you see? Visit the ' +\n",
              "            '<a target=\"_blank\" href=https://colab.research.google.com/notebooks/data_table.ipynb>data table notebook</a>'\n",
              "            + ' to learn more about interactive tables.';\n",
              "          element.innerHTML = '';\n",
              "          dataTable['output_type'] = 'display_data';\n",
              "          await google.colab.output.renderOutput(dataTable, element);\n",
              "          const docLink = document.createElement('div');\n",
              "          docLink.innerHTML = docLinkHtml;\n",
              "          element.appendChild(docLink);\n",
              "        }\n",
              "      </script>\n",
              "    </div>\n",
              "  </div>\n",
              "  "
            ]
          },
          "metadata": {},
          "execution_count": 68
        }
      ],
      "source": [
        "df_personas_suma.head()"
      ]
    },
    {
      "cell_type": "code",
      "execution_count": 69,
      "metadata": {
        "id": "HxvWMCDvUbrB"
      },
      "outputs": [],
      "source": [
        "#renombramos las columnas\n",
        "\n",
        "df_personas_suma = df_personas_suma.rename(columns={\n",
        "     'CH03':'parentesco',\n",
        "     'CH04':'genero',\n",
        "     'CH06':'edad',\n",
        "     'CH08':'cob_medica',\n",
        "     'AE_ctrol_ind_x':'AE_ctrol_ind',\n",
        "     'AE_ctrol_ind_y':'AE_ctrol_ind_sum'})"
      ]
    },
    {
      "cell_type": "code",
      "execution_count": 70,
      "metadata": {
        "colab": {
          "base_uri": "https://localhost:8080/",
          "height": 176
        },
        "id": "_k3D7D1DUtJY",
        "outputId": "e7f7c2e5-5e89-46e7-e443-e5c6b86b1752"
      },
      "outputs": [
        {
          "output_type": "execute_result",
          "data": {
            "text/plain": [
              "                          CODUSU  NRO_HOGAR  parentesco  genero  edad  \\\n",
              "0  TQRMNOPPQHMOLPCDEGNFJ00714305          1           3       1    13   \n",
              "1  TQRMNOPPQHMOLPCDEGNFJ00714305          1           1       2    37   \n",
              "\n",
              "   cob_medica  NIVEL_ED  CAT_OCUP  CAT_INAC  AE_ctrol_ind  AE_ctrol_ind_sum  \n",
              "0           1         3         0         3          0.90              3.35  \n",
              "1           1         6         3         0          0.77              3.35  "
            ],
            "text/html": [
              "\n",
              "  <div id=\"df-0125e120-d40c-4440-8571-4ed6b2ffe743\">\n",
              "    <div class=\"colab-df-container\">\n",
              "      <div>\n",
              "<style scoped>\n",
              "    .dataframe tbody tr th:only-of-type {\n",
              "        vertical-align: middle;\n",
              "    }\n",
              "\n",
              "    .dataframe tbody tr th {\n",
              "        vertical-align: top;\n",
              "    }\n",
              "\n",
              "    .dataframe thead th {\n",
              "        text-align: right;\n",
              "    }\n",
              "</style>\n",
              "<table border=\"1\" class=\"dataframe\">\n",
              "  <thead>\n",
              "    <tr style=\"text-align: right;\">\n",
              "      <th></th>\n",
              "      <th>CODUSU</th>\n",
              "      <th>NRO_HOGAR</th>\n",
              "      <th>parentesco</th>\n",
              "      <th>genero</th>\n",
              "      <th>edad</th>\n",
              "      <th>cob_medica</th>\n",
              "      <th>NIVEL_ED</th>\n",
              "      <th>CAT_OCUP</th>\n",
              "      <th>CAT_INAC</th>\n",
              "      <th>AE_ctrol_ind</th>\n",
              "      <th>AE_ctrol_ind_sum</th>\n",
              "    </tr>\n",
              "  </thead>\n",
              "  <tbody>\n",
              "    <tr>\n",
              "      <th>0</th>\n",
              "      <td>TQRMNOPPQHMOLPCDEGNFJ00714305</td>\n",
              "      <td>1</td>\n",
              "      <td>3</td>\n",
              "      <td>1</td>\n",
              "      <td>13</td>\n",
              "      <td>1</td>\n",
              "      <td>3</td>\n",
              "      <td>0</td>\n",
              "      <td>3</td>\n",
              "      <td>0.90</td>\n",
              "      <td>3.35</td>\n",
              "    </tr>\n",
              "    <tr>\n",
              "      <th>1</th>\n",
              "      <td>TQRMNOPPQHMOLPCDEGNFJ00714305</td>\n",
              "      <td>1</td>\n",
              "      <td>1</td>\n",
              "      <td>2</td>\n",
              "      <td>37</td>\n",
              "      <td>1</td>\n",
              "      <td>6</td>\n",
              "      <td>3</td>\n",
              "      <td>0</td>\n",
              "      <td>0.77</td>\n",
              "      <td>3.35</td>\n",
              "    </tr>\n",
              "  </tbody>\n",
              "</table>\n",
              "</div>\n",
              "      <button class=\"colab-df-convert\" onclick=\"convertToInteractive('df-0125e120-d40c-4440-8571-4ed6b2ffe743')\"\n",
              "              title=\"Convert this dataframe to an interactive table.\"\n",
              "              style=\"display:none;\">\n",
              "        \n",
              "  <svg xmlns=\"http://www.w3.org/2000/svg\" height=\"24px\"viewBox=\"0 0 24 24\"\n",
              "       width=\"24px\">\n",
              "    <path d=\"M0 0h24v24H0V0z\" fill=\"none\"/>\n",
              "    <path d=\"M18.56 5.44l.94 2.06.94-2.06 2.06-.94-2.06-.94-.94-2.06-.94 2.06-2.06.94zm-11 1L8.5 8.5l.94-2.06 2.06-.94-2.06-.94L8.5 2.5l-.94 2.06-2.06.94zm10 10l.94 2.06.94-2.06 2.06-.94-2.06-.94-.94-2.06-.94 2.06-2.06.94z\"/><path d=\"M17.41 7.96l-1.37-1.37c-.4-.4-.92-.59-1.43-.59-.52 0-1.04.2-1.43.59L10.3 9.45l-7.72 7.72c-.78.78-.78 2.05 0 2.83L4 21.41c.39.39.9.59 1.41.59.51 0 1.02-.2 1.41-.59l7.78-7.78 2.81-2.81c.8-.78.8-2.07 0-2.86zM5.41 20L4 18.59l7.72-7.72 1.47 1.35L5.41 20z\"/>\n",
              "  </svg>\n",
              "      </button>\n",
              "      \n",
              "  <style>\n",
              "    .colab-df-container {\n",
              "      display:flex;\n",
              "      flex-wrap:wrap;\n",
              "      gap: 12px;\n",
              "    }\n",
              "\n",
              "    .colab-df-convert {\n",
              "      background-color: #E8F0FE;\n",
              "      border: none;\n",
              "      border-radius: 50%;\n",
              "      cursor: pointer;\n",
              "      display: none;\n",
              "      fill: #1967D2;\n",
              "      height: 32px;\n",
              "      padding: 0 0 0 0;\n",
              "      width: 32px;\n",
              "    }\n",
              "\n",
              "    .colab-df-convert:hover {\n",
              "      background-color: #E2EBFA;\n",
              "      box-shadow: 0px 1px 2px rgba(60, 64, 67, 0.3), 0px 1px 3px 1px rgba(60, 64, 67, 0.15);\n",
              "      fill: #174EA6;\n",
              "    }\n",
              "\n",
              "    [theme=dark] .colab-df-convert {\n",
              "      background-color: #3B4455;\n",
              "      fill: #D2E3FC;\n",
              "    }\n",
              "\n",
              "    [theme=dark] .colab-df-convert:hover {\n",
              "      background-color: #434B5C;\n",
              "      box-shadow: 0px 1px 3px 1px rgba(0, 0, 0, 0.15);\n",
              "      filter: drop-shadow(0px 1px 2px rgba(0, 0, 0, 0.3));\n",
              "      fill: #FFFFFF;\n",
              "    }\n",
              "  </style>\n",
              "\n",
              "      <script>\n",
              "        const buttonEl =\n",
              "          document.querySelector('#df-0125e120-d40c-4440-8571-4ed6b2ffe743 button.colab-df-convert');\n",
              "        buttonEl.style.display =\n",
              "          google.colab.kernel.accessAllowed ? 'block' : 'none';\n",
              "\n",
              "        async function convertToInteractive(key) {\n",
              "          const element = document.querySelector('#df-0125e120-d40c-4440-8571-4ed6b2ffe743');\n",
              "          const dataTable =\n",
              "            await google.colab.kernel.invokeFunction('convertToInteractive',\n",
              "                                                     [key], {});\n",
              "          if (!dataTable) return;\n",
              "\n",
              "          const docLinkHtml = 'Like what you see? Visit the ' +\n",
              "            '<a target=\"_blank\" href=https://colab.research.google.com/notebooks/data_table.ipynb>data table notebook</a>'\n",
              "            + ' to learn more about interactive tables.';\n",
              "          element.innerHTML = '';\n",
              "          dataTable['output_type'] = 'display_data';\n",
              "          await google.colab.output.renderOutput(dataTable, element);\n",
              "          const docLink = document.createElement('div');\n",
              "          docLink.innerHTML = docLinkHtml;\n",
              "          element.appendChild(docLink);\n",
              "        }\n",
              "      </script>\n",
              "    </div>\n",
              "  </div>\n",
              "  "
            ]
          },
          "metadata": {},
          "execution_count": 70
        }
      ],
      "source": [
        "df_personas_suma.head(2)"
      ]
    },
    {
      "cell_type": "code",
      "execution_count": 71,
      "metadata": {
        "colab": {
          "base_uri": "https://localhost:8080/"
        },
        "id": "aO8myyQEVROW",
        "outputId": "b2b0c9d6-df97-4fbb-cddc-4c4fef57fe50"
      },
      "outputs": [
        {
          "output_type": "execute_result",
          "data": {
            "text/plain": [
              "(50154, 11)"
            ]
          },
          "metadata": {},
          "execution_count": 71
        }
      ],
      "source": [
        "df_personas_suma.shape"
      ]
    },
    {
      "cell_type": "code",
      "execution_count": 72,
      "metadata": {
        "id": "C36-R3tcniae"
      },
      "outputs": [],
      "source": [
        "#seleccionamos solo los que cumplen la condición de jefes/as de hogar\n",
        "\n",
        "df_personas_jefes = df_personas_suma.loc[df_personas_suma.loc[:, 'parentesco'] == 1]"
      ]
    },
    {
      "cell_type": "code",
      "execution_count": 73,
      "metadata": {
        "colab": {
          "base_uri": "https://localhost:8080/",
          "height": 270
        },
        "id": "_X9L1WcVrGCh",
        "outputId": "31f775c3-77ad-4cc8-b910-a3086c61423a"
      },
      "outputs": [
        {
          "output_type": "execute_result",
          "data": {
            "text/plain": [
              "                           CODUSU  NRO_HOGAR  parentesco  genero  edad  \\\n",
              "1   TQRMNOPPQHMOLPCDEGNFJ00714305          1           1       2    37   \n",
              "4   TQRMNOQPYHKMPUCDEIJAH00663642          1           1       1    79   \n",
              "6   TQRMNOQYRHMOQRCDEIJAH00718661          1           1       1    48   \n",
              "12  TQRMNOPSTHMMLPCDEFMDB00713515          1           1       1    67   \n",
              "13  TQRMNOQQSHJMKUCDEHJGH00702130          1           1       2    76   \n",
              "\n",
              "    cob_medica  NIVEL_ED  CAT_OCUP  CAT_INAC  AE_ctrol_ind  AE_ctrol_ind_sum  \n",
              "1            1         6         3         0          0.77              3.35  \n",
              "4            1         2         0         1          0.74              1.37  \n",
              "6            1         4         3         0          1.00              4.24  \n",
              "12           1         5         0         1          0.83              1.50  \n",
              "13           1         6         0         1          0.63              1.63  "
            ],
            "text/html": [
              "\n",
              "  <div id=\"df-94b0b3fe-4442-4af2-9135-ef3b6af93568\">\n",
              "    <div class=\"colab-df-container\">\n",
              "      <div>\n",
              "<style scoped>\n",
              "    .dataframe tbody tr th:only-of-type {\n",
              "        vertical-align: middle;\n",
              "    }\n",
              "\n",
              "    .dataframe tbody tr th {\n",
              "        vertical-align: top;\n",
              "    }\n",
              "\n",
              "    .dataframe thead th {\n",
              "        text-align: right;\n",
              "    }\n",
              "</style>\n",
              "<table border=\"1\" class=\"dataframe\">\n",
              "  <thead>\n",
              "    <tr style=\"text-align: right;\">\n",
              "      <th></th>\n",
              "      <th>CODUSU</th>\n",
              "      <th>NRO_HOGAR</th>\n",
              "      <th>parentesco</th>\n",
              "      <th>genero</th>\n",
              "      <th>edad</th>\n",
              "      <th>cob_medica</th>\n",
              "      <th>NIVEL_ED</th>\n",
              "      <th>CAT_OCUP</th>\n",
              "      <th>CAT_INAC</th>\n",
              "      <th>AE_ctrol_ind</th>\n",
              "      <th>AE_ctrol_ind_sum</th>\n",
              "    </tr>\n",
              "  </thead>\n",
              "  <tbody>\n",
              "    <tr>\n",
              "      <th>1</th>\n",
              "      <td>TQRMNOPPQHMOLPCDEGNFJ00714305</td>\n",
              "      <td>1</td>\n",
              "      <td>1</td>\n",
              "      <td>2</td>\n",
              "      <td>37</td>\n",
              "      <td>1</td>\n",
              "      <td>6</td>\n",
              "      <td>3</td>\n",
              "      <td>0</td>\n",
              "      <td>0.77</td>\n",
              "      <td>3.35</td>\n",
              "    </tr>\n",
              "    <tr>\n",
              "      <th>4</th>\n",
              "      <td>TQRMNOQPYHKMPUCDEIJAH00663642</td>\n",
              "      <td>1</td>\n",
              "      <td>1</td>\n",
              "      <td>1</td>\n",
              "      <td>79</td>\n",
              "      <td>1</td>\n",
              "      <td>2</td>\n",
              "      <td>0</td>\n",
              "      <td>1</td>\n",
              "      <td>0.74</td>\n",
              "      <td>1.37</td>\n",
              "    </tr>\n",
              "    <tr>\n",
              "      <th>6</th>\n",
              "      <td>TQRMNOQYRHMOQRCDEIJAH00718661</td>\n",
              "      <td>1</td>\n",
              "      <td>1</td>\n",
              "      <td>1</td>\n",
              "      <td>48</td>\n",
              "      <td>1</td>\n",
              "      <td>4</td>\n",
              "      <td>3</td>\n",
              "      <td>0</td>\n",
              "      <td>1.00</td>\n",
              "      <td>4.24</td>\n",
              "    </tr>\n",
              "    <tr>\n",
              "      <th>12</th>\n",
              "      <td>TQRMNOPSTHMMLPCDEFMDB00713515</td>\n",
              "      <td>1</td>\n",
              "      <td>1</td>\n",
              "      <td>1</td>\n",
              "      <td>67</td>\n",
              "      <td>1</td>\n",
              "      <td>5</td>\n",
              "      <td>0</td>\n",
              "      <td>1</td>\n",
              "      <td>0.83</td>\n",
              "      <td>1.50</td>\n",
              "    </tr>\n",
              "    <tr>\n",
              "      <th>13</th>\n",
              "      <td>TQRMNOQQSHJMKUCDEHJGH00702130</td>\n",
              "      <td>1</td>\n",
              "      <td>1</td>\n",
              "      <td>2</td>\n",
              "      <td>76</td>\n",
              "      <td>1</td>\n",
              "      <td>6</td>\n",
              "      <td>0</td>\n",
              "      <td>1</td>\n",
              "      <td>0.63</td>\n",
              "      <td>1.63</td>\n",
              "    </tr>\n",
              "  </tbody>\n",
              "</table>\n",
              "</div>\n",
              "      <button class=\"colab-df-convert\" onclick=\"convertToInteractive('df-94b0b3fe-4442-4af2-9135-ef3b6af93568')\"\n",
              "              title=\"Convert this dataframe to an interactive table.\"\n",
              "              style=\"display:none;\">\n",
              "        \n",
              "  <svg xmlns=\"http://www.w3.org/2000/svg\" height=\"24px\"viewBox=\"0 0 24 24\"\n",
              "       width=\"24px\">\n",
              "    <path d=\"M0 0h24v24H0V0z\" fill=\"none\"/>\n",
              "    <path d=\"M18.56 5.44l.94 2.06.94-2.06 2.06-.94-2.06-.94-.94-2.06-.94 2.06-2.06.94zm-11 1L8.5 8.5l.94-2.06 2.06-.94-2.06-.94L8.5 2.5l-.94 2.06-2.06.94zm10 10l.94 2.06.94-2.06 2.06-.94-2.06-.94-.94-2.06-.94 2.06-2.06.94z\"/><path d=\"M17.41 7.96l-1.37-1.37c-.4-.4-.92-.59-1.43-.59-.52 0-1.04.2-1.43.59L10.3 9.45l-7.72 7.72c-.78.78-.78 2.05 0 2.83L4 21.41c.39.39.9.59 1.41.59.51 0 1.02-.2 1.41-.59l7.78-7.78 2.81-2.81c.8-.78.8-2.07 0-2.86zM5.41 20L4 18.59l7.72-7.72 1.47 1.35L5.41 20z\"/>\n",
              "  </svg>\n",
              "      </button>\n",
              "      \n",
              "  <style>\n",
              "    .colab-df-container {\n",
              "      display:flex;\n",
              "      flex-wrap:wrap;\n",
              "      gap: 12px;\n",
              "    }\n",
              "\n",
              "    .colab-df-convert {\n",
              "      background-color: #E8F0FE;\n",
              "      border: none;\n",
              "      border-radius: 50%;\n",
              "      cursor: pointer;\n",
              "      display: none;\n",
              "      fill: #1967D2;\n",
              "      height: 32px;\n",
              "      padding: 0 0 0 0;\n",
              "      width: 32px;\n",
              "    }\n",
              "\n",
              "    .colab-df-convert:hover {\n",
              "      background-color: #E2EBFA;\n",
              "      box-shadow: 0px 1px 2px rgba(60, 64, 67, 0.3), 0px 1px 3px 1px rgba(60, 64, 67, 0.15);\n",
              "      fill: #174EA6;\n",
              "    }\n",
              "\n",
              "    [theme=dark] .colab-df-convert {\n",
              "      background-color: #3B4455;\n",
              "      fill: #D2E3FC;\n",
              "    }\n",
              "\n",
              "    [theme=dark] .colab-df-convert:hover {\n",
              "      background-color: #434B5C;\n",
              "      box-shadow: 0px 1px 3px 1px rgba(0, 0, 0, 0.15);\n",
              "      filter: drop-shadow(0px 1px 2px rgba(0, 0, 0, 0.3));\n",
              "      fill: #FFFFFF;\n",
              "    }\n",
              "  </style>\n",
              "\n",
              "      <script>\n",
              "        const buttonEl =\n",
              "          document.querySelector('#df-94b0b3fe-4442-4af2-9135-ef3b6af93568 button.colab-df-convert');\n",
              "        buttonEl.style.display =\n",
              "          google.colab.kernel.accessAllowed ? 'block' : 'none';\n",
              "\n",
              "        async function convertToInteractive(key) {\n",
              "          const element = document.querySelector('#df-94b0b3fe-4442-4af2-9135-ef3b6af93568');\n",
              "          const dataTable =\n",
              "            await google.colab.kernel.invokeFunction('convertToInteractive',\n",
              "                                                     [key], {});\n",
              "          if (!dataTable) return;\n",
              "\n",
              "          const docLinkHtml = 'Like what you see? Visit the ' +\n",
              "            '<a target=\"_blank\" href=https://colab.research.google.com/notebooks/data_table.ipynb>data table notebook</a>'\n",
              "            + ' to learn more about interactive tables.';\n",
              "          element.innerHTML = '';\n",
              "          dataTable['output_type'] = 'display_data';\n",
              "          await google.colab.output.renderOutput(dataTable, element);\n",
              "          const docLink = document.createElement('div');\n",
              "          docLink.innerHTML = docLinkHtml;\n",
              "          element.appendChild(docLink);\n",
              "        }\n",
              "      </script>\n",
              "    </div>\n",
              "  </div>\n",
              "  "
            ]
          },
          "metadata": {},
          "execution_count": 73
        }
      ],
      "source": [
        "df_personas_jefes.head()"
      ]
    },
    {
      "cell_type": "code",
      "execution_count": 74,
      "metadata": {
        "colab": {
          "base_uri": "https://localhost:8080/"
        },
        "id": "PGXKYnK_rzuF",
        "outputId": "008eccfa-6bdd-4f4a-cbc7-26e2ae3d5ccd"
      },
      "outputs": [
        {
          "output_type": "execute_result",
          "data": {
            "text/plain": [
              "(17037, 11)"
            ]
          },
          "metadata": {},
          "execution_count": 74
        }
      ],
      "source": [
        "#comprobamos la cantidad de filas\n",
        "\n",
        "df_personas_jefes.shape"
      ]
    },
    {
      "cell_type": "code",
      "execution_count": 23,
      "metadata": {
        "colab": {
          "base_uri": "https://localhost:8080/",
          "height": 74
        },
        "id": "yjEgBwTLSidc",
        "outputId": "4f7bb876-55e4-4fba-9b0c-e074657735e1"
      },
      "outputs": [
        {
          "output_type": "display_data",
          "data": {
            "text/plain": [
              "<IPython.core.display.HTML object>"
            ],
            "text/html": [
              "\n",
              "     <input type=\"file\" id=\"files-0b76c258-458f-4df6-800d-c41bd986d8af\" name=\"files[]\" multiple disabled\n",
              "        style=\"border:none\" />\n",
              "     <output id=\"result-0b76c258-458f-4df6-800d-c41bd986d8af\">\n",
              "      Upload widget is only available when the cell has been executed in the\n",
              "      current browser session. Please rerun this cell to enable.\n",
              "      </output>\n",
              "      <script>// Copyright 2017 Google LLC\n",
              "//\n",
              "// Licensed under the Apache License, Version 2.0 (the \"License\");\n",
              "// you may not use this file except in compliance with the License.\n",
              "// You may obtain a copy of the License at\n",
              "//\n",
              "//      http://www.apache.org/licenses/LICENSE-2.0\n",
              "//\n",
              "// Unless required by applicable law or agreed to in writing, software\n",
              "// distributed under the License is distributed on an \"AS IS\" BASIS,\n",
              "// WITHOUT WARRANTIES OR CONDITIONS OF ANY KIND, either express or implied.\n",
              "// See the License for the specific language governing permissions and\n",
              "// limitations under the License.\n",
              "\n",
              "/**\n",
              " * @fileoverview Helpers for google.colab Python module.\n",
              " */\n",
              "(function(scope) {\n",
              "function span(text, styleAttributes = {}) {\n",
              "  const element = document.createElement('span');\n",
              "  element.textContent = text;\n",
              "  for (const key of Object.keys(styleAttributes)) {\n",
              "    element.style[key] = styleAttributes[key];\n",
              "  }\n",
              "  return element;\n",
              "}\n",
              "\n",
              "// Max number of bytes which will be uploaded at a time.\n",
              "const MAX_PAYLOAD_SIZE = 100 * 1024;\n",
              "\n",
              "function _uploadFiles(inputId, outputId) {\n",
              "  const steps = uploadFilesStep(inputId, outputId);\n",
              "  const outputElement = document.getElementById(outputId);\n",
              "  // Cache steps on the outputElement to make it available for the next call\n",
              "  // to uploadFilesContinue from Python.\n",
              "  outputElement.steps = steps;\n",
              "\n",
              "  return _uploadFilesContinue(outputId);\n",
              "}\n",
              "\n",
              "// This is roughly an async generator (not supported in the browser yet),\n",
              "// where there are multiple asynchronous steps and the Python side is going\n",
              "// to poll for completion of each step.\n",
              "// This uses a Promise to block the python side on completion of each step,\n",
              "// then passes the result of the previous step as the input to the next step.\n",
              "function _uploadFilesContinue(outputId) {\n",
              "  const outputElement = document.getElementById(outputId);\n",
              "  const steps = outputElement.steps;\n",
              "\n",
              "  const next = steps.next(outputElement.lastPromiseValue);\n",
              "  return Promise.resolve(next.value.promise).then((value) => {\n",
              "    // Cache the last promise value to make it available to the next\n",
              "    // step of the generator.\n",
              "    outputElement.lastPromiseValue = value;\n",
              "    return next.value.response;\n",
              "  });\n",
              "}\n",
              "\n",
              "/**\n",
              " * Generator function which is called between each async step of the upload\n",
              " * process.\n",
              " * @param {string} inputId Element ID of the input file picker element.\n",
              " * @param {string} outputId Element ID of the output display.\n",
              " * @return {!Iterable<!Object>} Iterable of next steps.\n",
              " */\n",
              "function* uploadFilesStep(inputId, outputId) {\n",
              "  const inputElement = document.getElementById(inputId);\n",
              "  inputElement.disabled = false;\n",
              "\n",
              "  const outputElement = document.getElementById(outputId);\n",
              "  outputElement.innerHTML = '';\n",
              "\n",
              "  const pickedPromise = new Promise((resolve) => {\n",
              "    inputElement.addEventListener('change', (e) => {\n",
              "      resolve(e.target.files);\n",
              "    });\n",
              "  });\n",
              "\n",
              "  const cancel = document.createElement('button');\n",
              "  inputElement.parentElement.appendChild(cancel);\n",
              "  cancel.textContent = 'Cancel upload';\n",
              "  const cancelPromise = new Promise((resolve) => {\n",
              "    cancel.onclick = () => {\n",
              "      resolve(null);\n",
              "    };\n",
              "  });\n",
              "\n",
              "  // Wait for the user to pick the files.\n",
              "  const files = yield {\n",
              "    promise: Promise.race([pickedPromise, cancelPromise]),\n",
              "    response: {\n",
              "      action: 'starting',\n",
              "    }\n",
              "  };\n",
              "\n",
              "  cancel.remove();\n",
              "\n",
              "  // Disable the input element since further picks are not allowed.\n",
              "  inputElement.disabled = true;\n",
              "\n",
              "  if (!files) {\n",
              "    return {\n",
              "      response: {\n",
              "        action: 'complete',\n",
              "      }\n",
              "    };\n",
              "  }\n",
              "\n",
              "  for (const file of files) {\n",
              "    const li = document.createElement('li');\n",
              "    li.append(span(file.name, {fontWeight: 'bold'}));\n",
              "    li.append(span(\n",
              "        `(${file.type || 'n/a'}) - ${file.size} bytes, ` +\n",
              "        `last modified: ${\n",
              "            file.lastModifiedDate ? file.lastModifiedDate.toLocaleDateString() :\n",
              "                                    'n/a'} - `));\n",
              "    const percent = span('0% done');\n",
              "    li.appendChild(percent);\n",
              "\n",
              "    outputElement.appendChild(li);\n",
              "\n",
              "    const fileDataPromise = new Promise((resolve) => {\n",
              "      const reader = new FileReader();\n",
              "      reader.onload = (e) => {\n",
              "        resolve(e.target.result);\n",
              "      };\n",
              "      reader.readAsArrayBuffer(file);\n",
              "    });\n",
              "    // Wait for the data to be ready.\n",
              "    let fileData = yield {\n",
              "      promise: fileDataPromise,\n",
              "      response: {\n",
              "        action: 'continue',\n",
              "      }\n",
              "    };\n",
              "\n",
              "    // Use a chunked sending to avoid message size limits. See b/62115660.\n",
              "    let position = 0;\n",
              "    do {\n",
              "      const length = Math.min(fileData.byteLength - position, MAX_PAYLOAD_SIZE);\n",
              "      const chunk = new Uint8Array(fileData, position, length);\n",
              "      position += length;\n",
              "\n",
              "      const base64 = btoa(String.fromCharCode.apply(null, chunk));\n",
              "      yield {\n",
              "        response: {\n",
              "          action: 'append',\n",
              "          file: file.name,\n",
              "          data: base64,\n",
              "        },\n",
              "      };\n",
              "\n",
              "      let percentDone = fileData.byteLength === 0 ?\n",
              "          100 :\n",
              "          Math.round((position / fileData.byteLength) * 100);\n",
              "      percent.textContent = `${percentDone}% done`;\n",
              "\n",
              "    } while (position < fileData.byteLength);\n",
              "  }\n",
              "\n",
              "  // All done.\n",
              "  yield {\n",
              "    response: {\n",
              "      action: 'complete',\n",
              "    }\n",
              "  };\n",
              "}\n",
              "\n",
              "scope.google = scope.google || {};\n",
              "scope.google.colab = scope.google.colab || {};\n",
              "scope.google.colab._files = {\n",
              "  _uploadFiles,\n",
              "  _uploadFilesContinue,\n",
              "};\n",
              "})(self);\n",
              "</script> "
            ]
          },
          "metadata": {}
        },
        {
          "output_type": "stream",
          "name": "stdout",
          "text": [
            "Saving usu_hogar_T421.csv to usu_hogar_T421.csv\n"
          ]
        }
      ],
      "source": [
        "#cargamos el archivo de hogares \"usu_hogar_T421.csv\"\n",
        "\n",
        "from google.colab import files\n",
        "uploaded  = files.upload() "
      ]
    },
    {
      "cell_type": "code",
      "execution_count": 85,
      "metadata": {
        "id": "079eUZH0bboZ"
      },
      "outputs": [],
      "source": [
        "df_hogares = pd.read_csv(\"usu_hogar_T421.csv\")"
      ]
    },
    {
      "cell_type": "code",
      "execution_count": 86,
      "metadata": {
        "colab": {
          "base_uri": "https://localhost:8080/"
        },
        "id": "r-T8WY3Sr7cD",
        "outputId": "3558d6a5-00a0-41d8-cc5e-9c2f55138936"
      },
      "outputs": [
        {
          "output_type": "execute_result",
          "data": {
            "text/plain": [
              "(17037, 88)"
            ]
          },
          "metadata": {},
          "execution_count": 86
        }
      ],
      "source": [
        "#comprobamos la cantidad de filas\n",
        "\n",
        "df_hogares.shape"
      ]
    },
    {
      "cell_type": "code",
      "execution_count": 87,
      "metadata": {
        "id": "Ni5sI17AnD3p"
      },
      "outputs": [],
      "source": [
        "#unimos los dos dataframes, que tienen la misma cantidad de filas, según las variables CODUSU y NRO_HOGAR\n",
        "\n",
        "df_dataset = pd.merge(df_hogares, df_personas_jefes, on=['CODUSU','NRO_HOGAR'])"
      ]
    },
    {
      "cell_type": "code",
      "execution_count": 88,
      "metadata": {
        "colab": {
          "base_uri": "https://localhost:8080/"
        },
        "id": "yCUnWi5XK918",
        "outputId": "3494fbf0-8eaa-4faf-f4a4-a2d3d6ee59b5"
      },
      "outputs": [
        {
          "output_type": "execute_result",
          "data": {
            "text/plain": [
              "(17037, 97)"
            ]
          },
          "metadata": {},
          "execution_count": 88
        }
      ],
      "source": [
        "#comprobamos la cantidad de filas\n",
        "\n",
        "df_dataset.shape"
      ]
    },
    {
      "cell_type": "code",
      "execution_count": 89,
      "metadata": {
        "colab": {
          "base_uri": "https://localhost:8080/",
          "height": 205
        },
        "id": "KYbChetLnSfC",
        "outputId": "e26a2efe-edea-4353-91c8-566b9aabd657"
      },
      "outputs": [
        {
          "output_type": "execute_result",
          "data": {
            "text/plain": [
              "                          CODUSU  ANO4  TRIMESTRE  NRO_HOGAR  REALIZADA  \\\n",
              "0  TQRMNOQRPHMOKOCDEOJAH00714382  2021          4          1          1   \n",
              "1  TQRMNOQYUHMMKPCDEOJAH00714383  2021          4          1          1   \n",
              "\n",
              "   REGION MAS_500  AGLOMERADO  PONDERA  IV1 IV1_ESP  IV2  IV3 IV3_ESP  IV4  \\\n",
              "0      44       N          93      116    1     NaN    1    1     NaN    4   \n",
              "1      44       N          93       46    1     NaN    4    1     NaN    2   \n",
              "\n",
              "   IV5  IV6  IV7 IV7_ESP  IV8  IV9  IV10  IV11  IV12_1  IV12_2  IV12_3  II1  \\\n",
              "0    1    1    1     NaN    1    1     1     1       2       2       2    1   \n",
              "1    1    1    1     NaN    1    1     1     1       2       2       2    4   \n",
              "\n",
              "   II2  II3  II3_1  II4_1  II4_2  II4_3  II5  II5_1  II6  II6_1  II7 II7_ESP  \\\n",
              "0    1    2      0      1      2      2    2      0    2      0    1     NaN   \n",
              "1    2    2      0      1      2      1    2      0    2      0    3     NaN   \n",
              "\n",
              "   II8  ... V14  V15  V16  V17  V18  V19_A  V19_B  IX_TOT  IX_MEN10  \\\n",
              "0    1  ...   2    2    2    2    2      2      2       3         2   \n",
              "1    1  ...   2    2    2    2    2      2      2       2         0   \n",
              "\n",
              "   IX_MAYEQ10  ITF  DECIFR  IDECIFR  RDECIFR  GDECIFR  PDECIFR  ADECIFR  IPCF  \\\n",
              "0           1    0      12     12.0       12      NaN     12.0       12   0.0   \n",
              "1           2    0      12     12.0       12      NaN     12.0       12   0.0   \n",
              "\n",
              "   DECCFR  IDECCFR  RDECCFR  GDECCFR  PDECCFR  ADECCFR  PONDIH  VII1_1  \\\n",
              "0      12     12.0       12      NaN     12.0       12       0       1   \n",
              "1      12     12.0       12      NaN     12.0       12       0       1   \n",
              "\n",
              "   VII1_2  VII2_1  VII2_2  VII2_3  VII2_4  parentesco  genero  edad  \\\n",
              "0       0      98       0       0       0           1       2    38   \n",
              "1       0      98       0       0       0           1       2    64   \n",
              "\n",
              "   cob_medica  NIVEL_ED  CAT_OCUP  CAT_INAC  AE_ctrol_ind  AE_ctrol_ind_sum  \n",
              "0           1         6         3         0          0.77              2.10  \n",
              "1           1         6         0         1          0.67              1.44  \n",
              "\n",
              "[2 rows x 97 columns]"
            ],
            "text/html": [
              "\n",
              "  <div id=\"df-cdf464d4-6cbe-4866-9d7c-718d74780d2c\">\n",
              "    <div class=\"colab-df-container\">\n",
              "      <div>\n",
              "<style scoped>\n",
              "    .dataframe tbody tr th:only-of-type {\n",
              "        vertical-align: middle;\n",
              "    }\n",
              "\n",
              "    .dataframe tbody tr th {\n",
              "        vertical-align: top;\n",
              "    }\n",
              "\n",
              "    .dataframe thead th {\n",
              "        text-align: right;\n",
              "    }\n",
              "</style>\n",
              "<table border=\"1\" class=\"dataframe\">\n",
              "  <thead>\n",
              "    <tr style=\"text-align: right;\">\n",
              "      <th></th>\n",
              "      <th>CODUSU</th>\n",
              "      <th>ANO4</th>\n",
              "      <th>TRIMESTRE</th>\n",
              "      <th>NRO_HOGAR</th>\n",
              "      <th>REALIZADA</th>\n",
              "      <th>REGION</th>\n",
              "      <th>MAS_500</th>\n",
              "      <th>AGLOMERADO</th>\n",
              "      <th>PONDERA</th>\n",
              "      <th>IV1</th>\n",
              "      <th>IV1_ESP</th>\n",
              "      <th>IV2</th>\n",
              "      <th>IV3</th>\n",
              "      <th>IV3_ESP</th>\n",
              "      <th>IV4</th>\n",
              "      <th>IV5</th>\n",
              "      <th>IV6</th>\n",
              "      <th>IV7</th>\n",
              "      <th>IV7_ESP</th>\n",
              "      <th>IV8</th>\n",
              "      <th>IV9</th>\n",
              "      <th>IV10</th>\n",
              "      <th>IV11</th>\n",
              "      <th>IV12_1</th>\n",
              "      <th>IV12_2</th>\n",
              "      <th>IV12_3</th>\n",
              "      <th>II1</th>\n",
              "      <th>II2</th>\n",
              "      <th>II3</th>\n",
              "      <th>II3_1</th>\n",
              "      <th>II4_1</th>\n",
              "      <th>II4_2</th>\n",
              "      <th>II4_3</th>\n",
              "      <th>II5</th>\n",
              "      <th>II5_1</th>\n",
              "      <th>II6</th>\n",
              "      <th>II6_1</th>\n",
              "      <th>II7</th>\n",
              "      <th>II7_ESP</th>\n",
              "      <th>II8</th>\n",
              "      <th>...</th>\n",
              "      <th>V14</th>\n",
              "      <th>V15</th>\n",
              "      <th>V16</th>\n",
              "      <th>V17</th>\n",
              "      <th>V18</th>\n",
              "      <th>V19_A</th>\n",
              "      <th>V19_B</th>\n",
              "      <th>IX_TOT</th>\n",
              "      <th>IX_MEN10</th>\n",
              "      <th>IX_MAYEQ10</th>\n",
              "      <th>ITF</th>\n",
              "      <th>DECIFR</th>\n",
              "      <th>IDECIFR</th>\n",
              "      <th>RDECIFR</th>\n",
              "      <th>GDECIFR</th>\n",
              "      <th>PDECIFR</th>\n",
              "      <th>ADECIFR</th>\n",
              "      <th>IPCF</th>\n",
              "      <th>DECCFR</th>\n",
              "      <th>IDECCFR</th>\n",
              "      <th>RDECCFR</th>\n",
              "      <th>GDECCFR</th>\n",
              "      <th>PDECCFR</th>\n",
              "      <th>ADECCFR</th>\n",
              "      <th>PONDIH</th>\n",
              "      <th>VII1_1</th>\n",
              "      <th>VII1_2</th>\n",
              "      <th>VII2_1</th>\n",
              "      <th>VII2_2</th>\n",
              "      <th>VII2_3</th>\n",
              "      <th>VII2_4</th>\n",
              "      <th>parentesco</th>\n",
              "      <th>genero</th>\n",
              "      <th>edad</th>\n",
              "      <th>cob_medica</th>\n",
              "      <th>NIVEL_ED</th>\n",
              "      <th>CAT_OCUP</th>\n",
              "      <th>CAT_INAC</th>\n",
              "      <th>AE_ctrol_ind</th>\n",
              "      <th>AE_ctrol_ind_sum</th>\n",
              "    </tr>\n",
              "  </thead>\n",
              "  <tbody>\n",
              "    <tr>\n",
              "      <th>0</th>\n",
              "      <td>TQRMNOQRPHMOKOCDEOJAH00714382</td>\n",
              "      <td>2021</td>\n",
              "      <td>4</td>\n",
              "      <td>1</td>\n",
              "      <td>1</td>\n",
              "      <td>44</td>\n",
              "      <td>N</td>\n",
              "      <td>93</td>\n",
              "      <td>116</td>\n",
              "      <td>1</td>\n",
              "      <td>NaN</td>\n",
              "      <td>1</td>\n",
              "      <td>1</td>\n",
              "      <td>NaN</td>\n",
              "      <td>4</td>\n",
              "      <td>1</td>\n",
              "      <td>1</td>\n",
              "      <td>1</td>\n",
              "      <td>NaN</td>\n",
              "      <td>1</td>\n",
              "      <td>1</td>\n",
              "      <td>1</td>\n",
              "      <td>1</td>\n",
              "      <td>2</td>\n",
              "      <td>2</td>\n",
              "      <td>2</td>\n",
              "      <td>1</td>\n",
              "      <td>1</td>\n",
              "      <td>2</td>\n",
              "      <td>0</td>\n",
              "      <td>1</td>\n",
              "      <td>2</td>\n",
              "      <td>2</td>\n",
              "      <td>2</td>\n",
              "      <td>0</td>\n",
              "      <td>2</td>\n",
              "      <td>0</td>\n",
              "      <td>1</td>\n",
              "      <td>NaN</td>\n",
              "      <td>1</td>\n",
              "      <td>...</td>\n",
              "      <td>2</td>\n",
              "      <td>2</td>\n",
              "      <td>2</td>\n",
              "      <td>2</td>\n",
              "      <td>2</td>\n",
              "      <td>2</td>\n",
              "      <td>2</td>\n",
              "      <td>3</td>\n",
              "      <td>2</td>\n",
              "      <td>1</td>\n",
              "      <td>0</td>\n",
              "      <td>12</td>\n",
              "      <td>12.0</td>\n",
              "      <td>12</td>\n",
              "      <td>NaN</td>\n",
              "      <td>12.0</td>\n",
              "      <td>12</td>\n",
              "      <td>0.0</td>\n",
              "      <td>12</td>\n",
              "      <td>12.0</td>\n",
              "      <td>12</td>\n",
              "      <td>NaN</td>\n",
              "      <td>12.0</td>\n",
              "      <td>12</td>\n",
              "      <td>0</td>\n",
              "      <td>1</td>\n",
              "      <td>0</td>\n",
              "      <td>98</td>\n",
              "      <td>0</td>\n",
              "      <td>0</td>\n",
              "      <td>0</td>\n",
              "      <td>1</td>\n",
              "      <td>2</td>\n",
              "      <td>38</td>\n",
              "      <td>1</td>\n",
              "      <td>6</td>\n",
              "      <td>3</td>\n",
              "      <td>0</td>\n",
              "      <td>0.77</td>\n",
              "      <td>2.10</td>\n",
              "    </tr>\n",
              "    <tr>\n",
              "      <th>1</th>\n",
              "      <td>TQRMNOQYUHMMKPCDEOJAH00714383</td>\n",
              "      <td>2021</td>\n",
              "      <td>4</td>\n",
              "      <td>1</td>\n",
              "      <td>1</td>\n",
              "      <td>44</td>\n",
              "      <td>N</td>\n",
              "      <td>93</td>\n",
              "      <td>46</td>\n",
              "      <td>1</td>\n",
              "      <td>NaN</td>\n",
              "      <td>4</td>\n",
              "      <td>1</td>\n",
              "      <td>NaN</td>\n",
              "      <td>2</td>\n",
              "      <td>1</td>\n",
              "      <td>1</td>\n",
              "      <td>1</td>\n",
              "      <td>NaN</td>\n",
              "      <td>1</td>\n",
              "      <td>1</td>\n",
              "      <td>1</td>\n",
              "      <td>1</td>\n",
              "      <td>2</td>\n",
              "      <td>2</td>\n",
              "      <td>2</td>\n",
              "      <td>4</td>\n",
              "      <td>2</td>\n",
              "      <td>2</td>\n",
              "      <td>0</td>\n",
              "      <td>1</td>\n",
              "      <td>2</td>\n",
              "      <td>1</td>\n",
              "      <td>2</td>\n",
              "      <td>0</td>\n",
              "      <td>2</td>\n",
              "      <td>0</td>\n",
              "      <td>3</td>\n",
              "      <td>NaN</td>\n",
              "      <td>1</td>\n",
              "      <td>...</td>\n",
              "      <td>2</td>\n",
              "      <td>2</td>\n",
              "      <td>2</td>\n",
              "      <td>2</td>\n",
              "      <td>2</td>\n",
              "      <td>2</td>\n",
              "      <td>2</td>\n",
              "      <td>2</td>\n",
              "      <td>0</td>\n",
              "      <td>2</td>\n",
              "      <td>0</td>\n",
              "      <td>12</td>\n",
              "      <td>12.0</td>\n",
              "      <td>12</td>\n",
              "      <td>NaN</td>\n",
              "      <td>12.0</td>\n",
              "      <td>12</td>\n",
              "      <td>0.0</td>\n",
              "      <td>12</td>\n",
              "      <td>12.0</td>\n",
              "      <td>12</td>\n",
              "      <td>NaN</td>\n",
              "      <td>12.0</td>\n",
              "      <td>12</td>\n",
              "      <td>0</td>\n",
              "      <td>1</td>\n",
              "      <td>0</td>\n",
              "      <td>98</td>\n",
              "      <td>0</td>\n",
              "      <td>0</td>\n",
              "      <td>0</td>\n",
              "      <td>1</td>\n",
              "      <td>2</td>\n",
              "      <td>64</td>\n",
              "      <td>1</td>\n",
              "      <td>6</td>\n",
              "      <td>0</td>\n",
              "      <td>1</td>\n",
              "      <td>0.67</td>\n",
              "      <td>1.44</td>\n",
              "    </tr>\n",
              "  </tbody>\n",
              "</table>\n",
              "<p>2 rows × 97 columns</p>\n",
              "</div>\n",
              "      <button class=\"colab-df-convert\" onclick=\"convertToInteractive('df-cdf464d4-6cbe-4866-9d7c-718d74780d2c')\"\n",
              "              title=\"Convert this dataframe to an interactive table.\"\n",
              "              style=\"display:none;\">\n",
              "        \n",
              "  <svg xmlns=\"http://www.w3.org/2000/svg\" height=\"24px\"viewBox=\"0 0 24 24\"\n",
              "       width=\"24px\">\n",
              "    <path d=\"M0 0h24v24H0V0z\" fill=\"none\"/>\n",
              "    <path d=\"M18.56 5.44l.94 2.06.94-2.06 2.06-.94-2.06-.94-.94-2.06-.94 2.06-2.06.94zm-11 1L8.5 8.5l.94-2.06 2.06-.94-2.06-.94L8.5 2.5l-.94 2.06-2.06.94zm10 10l.94 2.06.94-2.06 2.06-.94-2.06-.94-.94-2.06-.94 2.06-2.06.94z\"/><path d=\"M17.41 7.96l-1.37-1.37c-.4-.4-.92-.59-1.43-.59-.52 0-1.04.2-1.43.59L10.3 9.45l-7.72 7.72c-.78.78-.78 2.05 0 2.83L4 21.41c.39.39.9.59 1.41.59.51 0 1.02-.2 1.41-.59l7.78-7.78 2.81-2.81c.8-.78.8-2.07 0-2.86zM5.41 20L4 18.59l7.72-7.72 1.47 1.35L5.41 20z\"/>\n",
              "  </svg>\n",
              "      </button>\n",
              "      \n",
              "  <style>\n",
              "    .colab-df-container {\n",
              "      display:flex;\n",
              "      flex-wrap:wrap;\n",
              "      gap: 12px;\n",
              "    }\n",
              "\n",
              "    .colab-df-convert {\n",
              "      background-color: #E8F0FE;\n",
              "      border: none;\n",
              "      border-radius: 50%;\n",
              "      cursor: pointer;\n",
              "      display: none;\n",
              "      fill: #1967D2;\n",
              "      height: 32px;\n",
              "      padding: 0 0 0 0;\n",
              "      width: 32px;\n",
              "    }\n",
              "\n",
              "    .colab-df-convert:hover {\n",
              "      background-color: #E2EBFA;\n",
              "      box-shadow: 0px 1px 2px rgba(60, 64, 67, 0.3), 0px 1px 3px 1px rgba(60, 64, 67, 0.15);\n",
              "      fill: #174EA6;\n",
              "    }\n",
              "\n",
              "    [theme=dark] .colab-df-convert {\n",
              "      background-color: #3B4455;\n",
              "      fill: #D2E3FC;\n",
              "    }\n",
              "\n",
              "    [theme=dark] .colab-df-convert:hover {\n",
              "      background-color: #434B5C;\n",
              "      box-shadow: 0px 1px 3px 1px rgba(0, 0, 0, 0.15);\n",
              "      filter: drop-shadow(0px 1px 2px rgba(0, 0, 0, 0.3));\n",
              "      fill: #FFFFFF;\n",
              "    }\n",
              "  </style>\n",
              "\n",
              "      <script>\n",
              "        const buttonEl =\n",
              "          document.querySelector('#df-cdf464d4-6cbe-4866-9d7c-718d74780d2c button.colab-df-convert');\n",
              "        buttonEl.style.display =\n",
              "          google.colab.kernel.accessAllowed ? 'block' : 'none';\n",
              "\n",
              "        async function convertToInteractive(key) {\n",
              "          const element = document.querySelector('#df-cdf464d4-6cbe-4866-9d7c-718d74780d2c');\n",
              "          const dataTable =\n",
              "            await google.colab.kernel.invokeFunction('convertToInteractive',\n",
              "                                                     [key], {});\n",
              "          if (!dataTable) return;\n",
              "\n",
              "          const docLinkHtml = 'Like what you see? Visit the ' +\n",
              "            '<a target=\"_blank\" href=https://colab.research.google.com/notebooks/data_table.ipynb>data table notebook</a>'\n",
              "            + ' to learn more about interactive tables.';\n",
              "          element.innerHTML = '';\n",
              "          dataTable['output_type'] = 'display_data';\n",
              "          await google.colab.output.renderOutput(dataTable, element);\n",
              "          const docLink = document.createElement('div');\n",
              "          docLink.innerHTML = docLinkHtml;\n",
              "          element.appendChild(docLink);\n",
              "        }\n",
              "      </script>\n",
              "    </div>\n",
              "  </div>\n",
              "  "
            ]
          },
          "metadata": {},
          "execution_count": 89
        }
      ],
      "source": [
        "df_dataset.head(2)"
      ]
    },
    {
      "cell_type": "code",
      "source": [
        "#df_dataset = df_dataset.drop(['Unnamed: 0'], axis=1)"
      ],
      "metadata": {
        "id": "pdTVOt7DiChw"
      },
      "execution_count": 80,
      "outputs": []
    },
    {
      "cell_type": "code",
      "execution_count": 90,
      "metadata": {
        "id": "wYHohGGiE_ZT"
      },
      "outputs": [],
      "source": [
        "#la variable ITF representa el monto de ingreso total familiar\n",
        "#a este monto lo dividimos por la suma de % de las personas que residen en el hogar para obtener el ingreso por adulto equivalente\n",
        "\n",
        "df_dataset['adulto_equivalente']= df_dataset.apply(lambda row: row.ITF/row.AE_ctrol_ind_sum, axis=1)"
      ]
    },
    {
      "cell_type": "code",
      "execution_count": 91,
      "metadata": {
        "id": "DXJ_jn3lKoQF"
      },
      "outputs": [],
      "source": [
        "df_dataset['adulto_equivalente']= round(df_dataset['adulto_equivalente'], 2)"
      ]
    },
    {
      "cell_type": "code",
      "execution_count": 92,
      "metadata": {
        "colab": {
          "base_uri": "https://localhost:8080/",
          "height": 299
        },
        "id": "697UkkJnJFHZ",
        "outputId": "9e5ddd0e-807e-42fb-c8d0-81995adf1542"
      },
      "outputs": [
        {
          "output_type": "execute_result",
          "data": {
            "text/plain": [
              "                          CODUSU  ANO4  TRIMESTRE  NRO_HOGAR  REALIZADA  \\\n",
              "0  TQRMNOQRPHMOKOCDEOJAH00714382  2021          4          1          1   \n",
              "1  TQRMNOQYUHMMKPCDEOJAH00714383  2021          4          1          1   \n",
              "2  TQRMNOPSWHMMKRCDEOJAH00714384  2021          4          1          1   \n",
              "3  TQRMNOQYSHMNKTCDEOJAH00714386  2021          4          1          1   \n",
              "4  TQRMNOQXVHLLPQCDEIJAH00718674  2021          4          1          1   \n",
              "\n",
              "   REGION MAS_500  AGLOMERADO  PONDERA  IV1 IV1_ESP  IV2  IV3 IV3_ESP  IV4  \\\n",
              "0      44       N          93      116    1     NaN    1    1     NaN    4   \n",
              "1      44       N          93       46    1     NaN    4    1     NaN    2   \n",
              "2      44       N          93       43    1     NaN    3    1     NaN    1   \n",
              "3      44       N          93       64    2     NaN    2    1     NaN    4   \n",
              "4       1       S          33     2822    1     NaN    3    1     NaN    4   \n",
              "\n",
              "   IV5  IV6  IV7 IV7_ESP  IV8  IV9  IV10  IV11  IV12_1  IV12_2  IV12_3  II1  \\\n",
              "0    1    1    1     NaN    1    1     1     1       2       2       2    1   \n",
              "1    1    1    1     NaN    1    1     1     1       2       2       2    4   \n",
              "2    1    1    1     NaN    1    1     1     1       2       2       2    3   \n",
              "3    1    1    1     NaN    1    1     1     1       2       2       2    2   \n",
              "4    1    1    1     NaN    1    1     2     3       2       2       2    3   \n",
              "\n",
              "   II2  II3  II3_1  II4_1  II4_2  II4_3  II5  II5_1  II6  II6_1  II7 II7_ESP  \\\n",
              "0    1    2      0      1      2      2    2      0    2      0    1     NaN   \n",
              "1    2    2      0      1      2      1    2      0    2      0    3     NaN   \n",
              "2    1    2      0      1      1      2    2      0    2      0    1     NaN   \n",
              "3    2    2      0      1      2      2    2      0    2      0    6     NaN   \n",
              "4    3    2      0      1      1      2    2      0    2      0    1     NaN   \n",
              "\n",
              "   II8  ... V15  V16  V17  V18  V19_A  V19_B  IX_TOT  IX_MEN10  IX_MAYEQ10  \\\n",
              "0    1  ...   2    2    2    2      2      2       3         2           1   \n",
              "1    1  ...   2    2    2    2      2      2       2         0           2   \n",
              "2    1  ...   1    1    2    2      2      2       2         0           2   \n",
              "3    1  ...   2    1    2    2      2      2       4         1           3   \n",
              "4    1  ...   1    1    2    2      2      2       4         0           4   \n",
              "\n",
              "     ITF  DECIFR  IDECIFR  RDECIFR  GDECIFR  PDECIFR  ADECIFR     IPCF  \\\n",
              "0      0      12     12.0       12      NaN     12.0       12      0.0   \n",
              "1      0      12     12.0       12      NaN     12.0       12      0.0   \n",
              "2  77500       5      6.0        4      NaN      6.0        4  38750.0   \n",
              "3  85000       6      6.0        5      NaN      6.0        5  21250.0   \n",
              "4  96870       7      NaN        6      7.0      NaN        7  24217.5   \n",
              "\n",
              "   DECCFR  IDECCFR  RDECCFR  GDECCFR  PDECCFR  ADECCFR  PONDIH  VII1_1  \\\n",
              "0      12     12.0       12      NaN     12.0       12       0       1   \n",
              "1      12     12.0       12      NaN     12.0       12       0       1   \n",
              "2       7      7.0        5      NaN      7.0        5      57       1   \n",
              "3       4      4.0        3      NaN      4.0        3      58       2   \n",
              "4       4      NaN        4      4.0      NaN        4    5658       1   \n",
              "\n",
              "   VII1_2  VII2_1  VII2_2  VII2_3  VII2_4  parentesco  genero  edad  \\\n",
              "0       0      98       0       0       0           1       2    38   \n",
              "1       0      98       0       0       0           1       2    64   \n",
              "2       2      98       0       0       0           1       1    72   \n",
              "3       0      98       0       0       0           1       1    38   \n",
              "4       2      98       0       0       0           1       1    67   \n",
              "\n",
              "   cob_medica  NIVEL_ED  CAT_OCUP  CAT_INAC  AE_ctrol_ind  AE_ctrol_ind_sum  \\\n",
              "0           1         6         3         0          0.77              2.10   \n",
              "1           1         6         0         1          0.67              1.44   \n",
              "2           1         2         0         1          0.83              1.50   \n",
              "3           1         4         3         0          1.00              3.13   \n",
              "4           1         4         3         0          0.83              3.33   \n",
              "\n",
              "   adulto_equivalente  \n",
              "0                0.00  \n",
              "1                0.00  \n",
              "2            51666.67  \n",
              "3            27156.55  \n",
              "4            29090.09  \n",
              "\n",
              "[5 rows x 98 columns]"
            ],
            "text/html": [
              "\n",
              "  <div id=\"df-3d2cb4c6-0c48-4503-9392-a7196a1d7033\">\n",
              "    <div class=\"colab-df-container\">\n",
              "      <div>\n",
              "<style scoped>\n",
              "    .dataframe tbody tr th:only-of-type {\n",
              "        vertical-align: middle;\n",
              "    }\n",
              "\n",
              "    .dataframe tbody tr th {\n",
              "        vertical-align: top;\n",
              "    }\n",
              "\n",
              "    .dataframe thead th {\n",
              "        text-align: right;\n",
              "    }\n",
              "</style>\n",
              "<table border=\"1\" class=\"dataframe\">\n",
              "  <thead>\n",
              "    <tr style=\"text-align: right;\">\n",
              "      <th></th>\n",
              "      <th>CODUSU</th>\n",
              "      <th>ANO4</th>\n",
              "      <th>TRIMESTRE</th>\n",
              "      <th>NRO_HOGAR</th>\n",
              "      <th>REALIZADA</th>\n",
              "      <th>REGION</th>\n",
              "      <th>MAS_500</th>\n",
              "      <th>AGLOMERADO</th>\n",
              "      <th>PONDERA</th>\n",
              "      <th>IV1</th>\n",
              "      <th>IV1_ESP</th>\n",
              "      <th>IV2</th>\n",
              "      <th>IV3</th>\n",
              "      <th>IV3_ESP</th>\n",
              "      <th>IV4</th>\n",
              "      <th>IV5</th>\n",
              "      <th>IV6</th>\n",
              "      <th>IV7</th>\n",
              "      <th>IV7_ESP</th>\n",
              "      <th>IV8</th>\n",
              "      <th>IV9</th>\n",
              "      <th>IV10</th>\n",
              "      <th>IV11</th>\n",
              "      <th>IV12_1</th>\n",
              "      <th>IV12_2</th>\n",
              "      <th>IV12_3</th>\n",
              "      <th>II1</th>\n",
              "      <th>II2</th>\n",
              "      <th>II3</th>\n",
              "      <th>II3_1</th>\n",
              "      <th>II4_1</th>\n",
              "      <th>II4_2</th>\n",
              "      <th>II4_3</th>\n",
              "      <th>II5</th>\n",
              "      <th>II5_1</th>\n",
              "      <th>II6</th>\n",
              "      <th>II6_1</th>\n",
              "      <th>II7</th>\n",
              "      <th>II7_ESP</th>\n",
              "      <th>II8</th>\n",
              "      <th>...</th>\n",
              "      <th>V15</th>\n",
              "      <th>V16</th>\n",
              "      <th>V17</th>\n",
              "      <th>V18</th>\n",
              "      <th>V19_A</th>\n",
              "      <th>V19_B</th>\n",
              "      <th>IX_TOT</th>\n",
              "      <th>IX_MEN10</th>\n",
              "      <th>IX_MAYEQ10</th>\n",
              "      <th>ITF</th>\n",
              "      <th>DECIFR</th>\n",
              "      <th>IDECIFR</th>\n",
              "      <th>RDECIFR</th>\n",
              "      <th>GDECIFR</th>\n",
              "      <th>PDECIFR</th>\n",
              "      <th>ADECIFR</th>\n",
              "      <th>IPCF</th>\n",
              "      <th>DECCFR</th>\n",
              "      <th>IDECCFR</th>\n",
              "      <th>RDECCFR</th>\n",
              "      <th>GDECCFR</th>\n",
              "      <th>PDECCFR</th>\n",
              "      <th>ADECCFR</th>\n",
              "      <th>PONDIH</th>\n",
              "      <th>VII1_1</th>\n",
              "      <th>VII1_2</th>\n",
              "      <th>VII2_1</th>\n",
              "      <th>VII2_2</th>\n",
              "      <th>VII2_3</th>\n",
              "      <th>VII2_4</th>\n",
              "      <th>parentesco</th>\n",
              "      <th>genero</th>\n",
              "      <th>edad</th>\n",
              "      <th>cob_medica</th>\n",
              "      <th>NIVEL_ED</th>\n",
              "      <th>CAT_OCUP</th>\n",
              "      <th>CAT_INAC</th>\n",
              "      <th>AE_ctrol_ind</th>\n",
              "      <th>AE_ctrol_ind_sum</th>\n",
              "      <th>adulto_equivalente</th>\n",
              "    </tr>\n",
              "  </thead>\n",
              "  <tbody>\n",
              "    <tr>\n",
              "      <th>0</th>\n",
              "      <td>TQRMNOQRPHMOKOCDEOJAH00714382</td>\n",
              "      <td>2021</td>\n",
              "      <td>4</td>\n",
              "      <td>1</td>\n",
              "      <td>1</td>\n",
              "      <td>44</td>\n",
              "      <td>N</td>\n",
              "      <td>93</td>\n",
              "      <td>116</td>\n",
              "      <td>1</td>\n",
              "      <td>NaN</td>\n",
              "      <td>1</td>\n",
              "      <td>1</td>\n",
              "      <td>NaN</td>\n",
              "      <td>4</td>\n",
              "      <td>1</td>\n",
              "      <td>1</td>\n",
              "      <td>1</td>\n",
              "      <td>NaN</td>\n",
              "      <td>1</td>\n",
              "      <td>1</td>\n",
              "      <td>1</td>\n",
              "      <td>1</td>\n",
              "      <td>2</td>\n",
              "      <td>2</td>\n",
              "      <td>2</td>\n",
              "      <td>1</td>\n",
              "      <td>1</td>\n",
              "      <td>2</td>\n",
              "      <td>0</td>\n",
              "      <td>1</td>\n",
              "      <td>2</td>\n",
              "      <td>2</td>\n",
              "      <td>2</td>\n",
              "      <td>0</td>\n",
              "      <td>2</td>\n",
              "      <td>0</td>\n",
              "      <td>1</td>\n",
              "      <td>NaN</td>\n",
              "      <td>1</td>\n",
              "      <td>...</td>\n",
              "      <td>2</td>\n",
              "      <td>2</td>\n",
              "      <td>2</td>\n",
              "      <td>2</td>\n",
              "      <td>2</td>\n",
              "      <td>2</td>\n",
              "      <td>3</td>\n",
              "      <td>2</td>\n",
              "      <td>1</td>\n",
              "      <td>0</td>\n",
              "      <td>12</td>\n",
              "      <td>12.0</td>\n",
              "      <td>12</td>\n",
              "      <td>NaN</td>\n",
              "      <td>12.0</td>\n",
              "      <td>12</td>\n",
              "      <td>0.0</td>\n",
              "      <td>12</td>\n",
              "      <td>12.0</td>\n",
              "      <td>12</td>\n",
              "      <td>NaN</td>\n",
              "      <td>12.0</td>\n",
              "      <td>12</td>\n",
              "      <td>0</td>\n",
              "      <td>1</td>\n",
              "      <td>0</td>\n",
              "      <td>98</td>\n",
              "      <td>0</td>\n",
              "      <td>0</td>\n",
              "      <td>0</td>\n",
              "      <td>1</td>\n",
              "      <td>2</td>\n",
              "      <td>38</td>\n",
              "      <td>1</td>\n",
              "      <td>6</td>\n",
              "      <td>3</td>\n",
              "      <td>0</td>\n",
              "      <td>0.77</td>\n",
              "      <td>2.10</td>\n",
              "      <td>0.00</td>\n",
              "    </tr>\n",
              "    <tr>\n",
              "      <th>1</th>\n",
              "      <td>TQRMNOQYUHMMKPCDEOJAH00714383</td>\n",
              "      <td>2021</td>\n",
              "      <td>4</td>\n",
              "      <td>1</td>\n",
              "      <td>1</td>\n",
              "      <td>44</td>\n",
              "      <td>N</td>\n",
              "      <td>93</td>\n",
              "      <td>46</td>\n",
              "      <td>1</td>\n",
              "      <td>NaN</td>\n",
              "      <td>4</td>\n",
              "      <td>1</td>\n",
              "      <td>NaN</td>\n",
              "      <td>2</td>\n",
              "      <td>1</td>\n",
              "      <td>1</td>\n",
              "      <td>1</td>\n",
              "      <td>NaN</td>\n",
              "      <td>1</td>\n",
              "      <td>1</td>\n",
              "      <td>1</td>\n",
              "      <td>1</td>\n",
              "      <td>2</td>\n",
              "      <td>2</td>\n",
              "      <td>2</td>\n",
              "      <td>4</td>\n",
              "      <td>2</td>\n",
              "      <td>2</td>\n",
              "      <td>0</td>\n",
              "      <td>1</td>\n",
              "      <td>2</td>\n",
              "      <td>1</td>\n",
              "      <td>2</td>\n",
              "      <td>0</td>\n",
              "      <td>2</td>\n",
              "      <td>0</td>\n",
              "      <td>3</td>\n",
              "      <td>NaN</td>\n",
              "      <td>1</td>\n",
              "      <td>...</td>\n",
              "      <td>2</td>\n",
              "      <td>2</td>\n",
              "      <td>2</td>\n",
              "      <td>2</td>\n",
              "      <td>2</td>\n",
              "      <td>2</td>\n",
              "      <td>2</td>\n",
              "      <td>0</td>\n",
              "      <td>2</td>\n",
              "      <td>0</td>\n",
              "      <td>12</td>\n",
              "      <td>12.0</td>\n",
              "      <td>12</td>\n",
              "      <td>NaN</td>\n",
              "      <td>12.0</td>\n",
              "      <td>12</td>\n",
              "      <td>0.0</td>\n",
              "      <td>12</td>\n",
              "      <td>12.0</td>\n",
              "      <td>12</td>\n",
              "      <td>NaN</td>\n",
              "      <td>12.0</td>\n",
              "      <td>12</td>\n",
              "      <td>0</td>\n",
              "      <td>1</td>\n",
              "      <td>0</td>\n",
              "      <td>98</td>\n",
              "      <td>0</td>\n",
              "      <td>0</td>\n",
              "      <td>0</td>\n",
              "      <td>1</td>\n",
              "      <td>2</td>\n",
              "      <td>64</td>\n",
              "      <td>1</td>\n",
              "      <td>6</td>\n",
              "      <td>0</td>\n",
              "      <td>1</td>\n",
              "      <td>0.67</td>\n",
              "      <td>1.44</td>\n",
              "      <td>0.00</td>\n",
              "    </tr>\n",
              "    <tr>\n",
              "      <th>2</th>\n",
              "      <td>TQRMNOPSWHMMKRCDEOJAH00714384</td>\n",
              "      <td>2021</td>\n",
              "      <td>4</td>\n",
              "      <td>1</td>\n",
              "      <td>1</td>\n",
              "      <td>44</td>\n",
              "      <td>N</td>\n",
              "      <td>93</td>\n",
              "      <td>43</td>\n",
              "      <td>1</td>\n",
              "      <td>NaN</td>\n",
              "      <td>3</td>\n",
              "      <td>1</td>\n",
              "      <td>NaN</td>\n",
              "      <td>1</td>\n",
              "      <td>1</td>\n",
              "      <td>1</td>\n",
              "      <td>1</td>\n",
              "      <td>NaN</td>\n",
              "      <td>1</td>\n",
              "      <td>1</td>\n",
              "      <td>1</td>\n",
              "      <td>1</td>\n",
              "      <td>2</td>\n",
              "      <td>2</td>\n",
              "      <td>2</td>\n",
              "      <td>3</td>\n",
              "      <td>1</td>\n",
              "      <td>2</td>\n",
              "      <td>0</td>\n",
              "      <td>1</td>\n",
              "      <td>1</td>\n",
              "      <td>2</td>\n",
              "      <td>2</td>\n",
              "      <td>0</td>\n",
              "      <td>2</td>\n",
              "      <td>0</td>\n",
              "      <td>1</td>\n",
              "      <td>NaN</td>\n",
              "      <td>1</td>\n",
              "      <td>...</td>\n",
              "      <td>1</td>\n",
              "      <td>1</td>\n",
              "      <td>2</td>\n",
              "      <td>2</td>\n",
              "      <td>2</td>\n",
              "      <td>2</td>\n",
              "      <td>2</td>\n",
              "      <td>0</td>\n",
              "      <td>2</td>\n",
              "      <td>77500</td>\n",
              "      <td>5</td>\n",
              "      <td>6.0</td>\n",
              "      <td>4</td>\n",
              "      <td>NaN</td>\n",
              "      <td>6.0</td>\n",
              "      <td>4</td>\n",
              "      <td>38750.0</td>\n",
              "      <td>7</td>\n",
              "      <td>7.0</td>\n",
              "      <td>5</td>\n",
              "      <td>NaN</td>\n",
              "      <td>7.0</td>\n",
              "      <td>5</td>\n",
              "      <td>57</td>\n",
              "      <td>1</td>\n",
              "      <td>2</td>\n",
              "      <td>98</td>\n",
              "      <td>0</td>\n",
              "      <td>0</td>\n",
              "      <td>0</td>\n",
              "      <td>1</td>\n",
              "      <td>1</td>\n",
              "      <td>72</td>\n",
              "      <td>1</td>\n",
              "      <td>2</td>\n",
              "      <td>0</td>\n",
              "      <td>1</td>\n",
              "      <td>0.83</td>\n",
              "      <td>1.50</td>\n",
              "      <td>51666.67</td>\n",
              "    </tr>\n",
              "    <tr>\n",
              "      <th>3</th>\n",
              "      <td>TQRMNOQYSHMNKTCDEOJAH00714386</td>\n",
              "      <td>2021</td>\n",
              "      <td>4</td>\n",
              "      <td>1</td>\n",
              "      <td>1</td>\n",
              "      <td>44</td>\n",
              "      <td>N</td>\n",
              "      <td>93</td>\n",
              "      <td>64</td>\n",
              "      <td>2</td>\n",
              "      <td>NaN</td>\n",
              "      <td>2</td>\n",
              "      <td>1</td>\n",
              "      <td>NaN</td>\n",
              "      <td>4</td>\n",
              "      <td>1</td>\n",
              "      <td>1</td>\n",
              "      <td>1</td>\n",
              "      <td>NaN</td>\n",
              "      <td>1</td>\n",
              "      <td>1</td>\n",
              "      <td>1</td>\n",
              "      <td>1</td>\n",
              "      <td>2</td>\n",
              "      <td>2</td>\n",
              "      <td>2</td>\n",
              "      <td>2</td>\n",
              "      <td>2</td>\n",
              "      <td>2</td>\n",
              "      <td>0</td>\n",
              "      <td>1</td>\n",
              "      <td>2</td>\n",
              "      <td>2</td>\n",
              "      <td>2</td>\n",
              "      <td>0</td>\n",
              "      <td>2</td>\n",
              "      <td>0</td>\n",
              "      <td>6</td>\n",
              "      <td>NaN</td>\n",
              "      <td>1</td>\n",
              "      <td>...</td>\n",
              "      <td>2</td>\n",
              "      <td>1</td>\n",
              "      <td>2</td>\n",
              "      <td>2</td>\n",
              "      <td>2</td>\n",
              "      <td>2</td>\n",
              "      <td>4</td>\n",
              "      <td>1</td>\n",
              "      <td>3</td>\n",
              "      <td>85000</td>\n",
              "      <td>6</td>\n",
              "      <td>6.0</td>\n",
              "      <td>5</td>\n",
              "      <td>NaN</td>\n",
              "      <td>6.0</td>\n",
              "      <td>5</td>\n",
              "      <td>21250.0</td>\n",
              "      <td>4</td>\n",
              "      <td>4.0</td>\n",
              "      <td>3</td>\n",
              "      <td>NaN</td>\n",
              "      <td>4.0</td>\n",
              "      <td>3</td>\n",
              "      <td>58</td>\n",
              "      <td>2</td>\n",
              "      <td>0</td>\n",
              "      <td>98</td>\n",
              "      <td>0</td>\n",
              "      <td>0</td>\n",
              "      <td>0</td>\n",
              "      <td>1</td>\n",
              "      <td>1</td>\n",
              "      <td>38</td>\n",
              "      <td>1</td>\n",
              "      <td>4</td>\n",
              "      <td>3</td>\n",
              "      <td>0</td>\n",
              "      <td>1.00</td>\n",
              "      <td>3.13</td>\n",
              "      <td>27156.55</td>\n",
              "    </tr>\n",
              "    <tr>\n",
              "      <th>4</th>\n",
              "      <td>TQRMNOQXVHLLPQCDEIJAH00718674</td>\n",
              "      <td>2021</td>\n",
              "      <td>4</td>\n",
              "      <td>1</td>\n",
              "      <td>1</td>\n",
              "      <td>1</td>\n",
              "      <td>S</td>\n",
              "      <td>33</td>\n",
              "      <td>2822</td>\n",
              "      <td>1</td>\n",
              "      <td>NaN</td>\n",
              "      <td>3</td>\n",
              "      <td>1</td>\n",
              "      <td>NaN</td>\n",
              "      <td>4</td>\n",
              "      <td>1</td>\n",
              "      <td>1</td>\n",
              "      <td>1</td>\n",
              "      <td>NaN</td>\n",
              "      <td>1</td>\n",
              "      <td>1</td>\n",
              "      <td>2</td>\n",
              "      <td>3</td>\n",
              "      <td>2</td>\n",
              "      <td>2</td>\n",
              "      <td>2</td>\n",
              "      <td>3</td>\n",
              "      <td>3</td>\n",
              "      <td>2</td>\n",
              "      <td>0</td>\n",
              "      <td>1</td>\n",
              "      <td>1</td>\n",
              "      <td>2</td>\n",
              "      <td>2</td>\n",
              "      <td>0</td>\n",
              "      <td>2</td>\n",
              "      <td>0</td>\n",
              "      <td>1</td>\n",
              "      <td>NaN</td>\n",
              "      <td>1</td>\n",
              "      <td>...</td>\n",
              "      <td>1</td>\n",
              "      <td>1</td>\n",
              "      <td>2</td>\n",
              "      <td>2</td>\n",
              "      <td>2</td>\n",
              "      <td>2</td>\n",
              "      <td>4</td>\n",
              "      <td>0</td>\n",
              "      <td>4</td>\n",
              "      <td>96870</td>\n",
              "      <td>7</td>\n",
              "      <td>NaN</td>\n",
              "      <td>6</td>\n",
              "      <td>7.0</td>\n",
              "      <td>NaN</td>\n",
              "      <td>7</td>\n",
              "      <td>24217.5</td>\n",
              "      <td>4</td>\n",
              "      <td>NaN</td>\n",
              "      <td>4</td>\n",
              "      <td>4.0</td>\n",
              "      <td>NaN</td>\n",
              "      <td>4</td>\n",
              "      <td>5658</td>\n",
              "      <td>1</td>\n",
              "      <td>2</td>\n",
              "      <td>98</td>\n",
              "      <td>0</td>\n",
              "      <td>0</td>\n",
              "      <td>0</td>\n",
              "      <td>1</td>\n",
              "      <td>1</td>\n",
              "      <td>67</td>\n",
              "      <td>1</td>\n",
              "      <td>4</td>\n",
              "      <td>3</td>\n",
              "      <td>0</td>\n",
              "      <td>0.83</td>\n",
              "      <td>3.33</td>\n",
              "      <td>29090.09</td>\n",
              "    </tr>\n",
              "  </tbody>\n",
              "</table>\n",
              "<p>5 rows × 98 columns</p>\n",
              "</div>\n",
              "      <button class=\"colab-df-convert\" onclick=\"convertToInteractive('df-3d2cb4c6-0c48-4503-9392-a7196a1d7033')\"\n",
              "              title=\"Convert this dataframe to an interactive table.\"\n",
              "              style=\"display:none;\">\n",
              "        \n",
              "  <svg xmlns=\"http://www.w3.org/2000/svg\" height=\"24px\"viewBox=\"0 0 24 24\"\n",
              "       width=\"24px\">\n",
              "    <path d=\"M0 0h24v24H0V0z\" fill=\"none\"/>\n",
              "    <path d=\"M18.56 5.44l.94 2.06.94-2.06 2.06-.94-2.06-.94-.94-2.06-.94 2.06-2.06.94zm-11 1L8.5 8.5l.94-2.06 2.06-.94-2.06-.94L8.5 2.5l-.94 2.06-2.06.94zm10 10l.94 2.06.94-2.06 2.06-.94-2.06-.94-.94-2.06-.94 2.06-2.06.94z\"/><path d=\"M17.41 7.96l-1.37-1.37c-.4-.4-.92-.59-1.43-.59-.52 0-1.04.2-1.43.59L10.3 9.45l-7.72 7.72c-.78.78-.78 2.05 0 2.83L4 21.41c.39.39.9.59 1.41.59.51 0 1.02-.2 1.41-.59l7.78-7.78 2.81-2.81c.8-.78.8-2.07 0-2.86zM5.41 20L4 18.59l7.72-7.72 1.47 1.35L5.41 20z\"/>\n",
              "  </svg>\n",
              "      </button>\n",
              "      \n",
              "  <style>\n",
              "    .colab-df-container {\n",
              "      display:flex;\n",
              "      flex-wrap:wrap;\n",
              "      gap: 12px;\n",
              "    }\n",
              "\n",
              "    .colab-df-convert {\n",
              "      background-color: #E8F0FE;\n",
              "      border: none;\n",
              "      border-radius: 50%;\n",
              "      cursor: pointer;\n",
              "      display: none;\n",
              "      fill: #1967D2;\n",
              "      height: 32px;\n",
              "      padding: 0 0 0 0;\n",
              "      width: 32px;\n",
              "    }\n",
              "\n",
              "    .colab-df-convert:hover {\n",
              "      background-color: #E2EBFA;\n",
              "      box-shadow: 0px 1px 2px rgba(60, 64, 67, 0.3), 0px 1px 3px 1px rgba(60, 64, 67, 0.15);\n",
              "      fill: #174EA6;\n",
              "    }\n",
              "\n",
              "    [theme=dark] .colab-df-convert {\n",
              "      background-color: #3B4455;\n",
              "      fill: #D2E3FC;\n",
              "    }\n",
              "\n",
              "    [theme=dark] .colab-df-convert:hover {\n",
              "      background-color: #434B5C;\n",
              "      box-shadow: 0px 1px 3px 1px rgba(0, 0, 0, 0.15);\n",
              "      filter: drop-shadow(0px 1px 2px rgba(0, 0, 0, 0.3));\n",
              "      fill: #FFFFFF;\n",
              "    }\n",
              "  </style>\n",
              "\n",
              "      <script>\n",
              "        const buttonEl =\n",
              "          document.querySelector('#df-3d2cb4c6-0c48-4503-9392-a7196a1d7033 button.colab-df-convert');\n",
              "        buttonEl.style.display =\n",
              "          google.colab.kernel.accessAllowed ? 'block' : 'none';\n",
              "\n",
              "        async function convertToInteractive(key) {\n",
              "          const element = document.querySelector('#df-3d2cb4c6-0c48-4503-9392-a7196a1d7033');\n",
              "          const dataTable =\n",
              "            await google.colab.kernel.invokeFunction('convertToInteractive',\n",
              "                                                     [key], {});\n",
              "          if (!dataTable) return;\n",
              "\n",
              "          const docLinkHtml = 'Like what you see? Visit the ' +\n",
              "            '<a target=\"_blank\" href=https://colab.research.google.com/notebooks/data_table.ipynb>data table notebook</a>'\n",
              "            + ' to learn more about interactive tables.';\n",
              "          element.innerHTML = '';\n",
              "          dataTable['output_type'] = 'display_data';\n",
              "          await google.colab.output.renderOutput(dataTable, element);\n",
              "          const docLink = document.createElement('div');\n",
              "          docLink.innerHTML = docLinkHtml;\n",
              "          element.appendChild(docLink);\n",
              "        }\n",
              "      </script>\n",
              "    </div>\n",
              "  </div>\n",
              "  "
            ]
          },
          "metadata": {},
          "execution_count": 92
        }
      ],
      "source": [
        "df_dataset.head()"
      ]
    },
    {
      "cell_type": "code",
      "execution_count": 93,
      "metadata": {
        "id": "8hYnKNHsevJ4"
      },
      "outputs": [],
      "source": [
        "#creamos la variable objetivo, pobreza\n",
        "\n",
        "\"\"\"\n",
        "De acuerdo con el archivo \"canasta_01_22DEF7D4AE32.pdf\", la canasta básica total para un adulto equivalente, para que \n",
        "no ingrese en la línea de pobreza, es de $24.643.\n",
        "\n",
        "Creamos la varibale pobreza, donde todos los hogares que tengan ingresos menores a este valor son pobres. \n",
        "\"\"\"\n",
        "\n",
        "df_dataset['pobreza'] = np.where(df_dataset['adulto_equivalente']<24643.00,1,0)\n"
      ]
    },
    {
      "cell_type": "code",
      "execution_count": 94,
      "metadata": {
        "colab": {
          "base_uri": "https://localhost:8080/"
        },
        "id": "oKh4HIQqtN1b",
        "outputId": "81330b44-01f0-43f7-d16a-c682dc71e838"
      },
      "outputs": [
        {
          "output_type": "execute_result",
          "data": {
            "text/plain": [
              "0    9196\n",
              "1    7841\n",
              "Name: pobreza, dtype: int64"
            ]
          },
          "metadata": {},
          "execution_count": 94
        }
      ],
      "source": [
        "df_dataset['pobreza'].value_counts()"
      ]
    },
    {
      "cell_type": "code",
      "execution_count": 95,
      "metadata": {
        "colab": {
          "base_uri": "https://localhost:8080/",
          "height": 299
        },
        "id": "AYFOGV4TlVRr",
        "outputId": "fbc19a92-144f-4bd4-bf46-d067bb1b8935"
      },
      "outputs": [
        {
          "output_type": "execute_result",
          "data": {
            "text/plain": [
              "                          CODUSU  ANO4  TRIMESTRE  NRO_HOGAR  REALIZADA  \\\n",
              "0  TQRMNOQRPHMOKOCDEOJAH00714382  2021          4          1          1   \n",
              "1  TQRMNOQYUHMMKPCDEOJAH00714383  2021          4          1          1   \n",
              "2  TQRMNOPSWHMMKRCDEOJAH00714384  2021          4          1          1   \n",
              "3  TQRMNOQYSHMNKTCDEOJAH00714386  2021          4          1          1   \n",
              "4  TQRMNOQXVHLLPQCDEIJAH00718674  2021          4          1          1   \n",
              "\n",
              "   REGION MAS_500  AGLOMERADO  PONDERA  IV1 IV1_ESP  IV2  IV3 IV3_ESP  IV4  \\\n",
              "0      44       N          93      116    1     NaN    1    1     NaN    4   \n",
              "1      44       N          93       46    1     NaN    4    1     NaN    2   \n",
              "2      44       N          93       43    1     NaN    3    1     NaN    1   \n",
              "3      44       N          93       64    2     NaN    2    1     NaN    4   \n",
              "4       1       S          33     2822    1     NaN    3    1     NaN    4   \n",
              "\n",
              "   IV5  IV6  IV7 IV7_ESP  IV8  IV9  IV10  IV11  IV12_1  IV12_2  IV12_3  II1  \\\n",
              "0    1    1    1     NaN    1    1     1     1       2       2       2    1   \n",
              "1    1    1    1     NaN    1    1     1     1       2       2       2    4   \n",
              "2    1    1    1     NaN    1    1     1     1       2       2       2    3   \n",
              "3    1    1    1     NaN    1    1     1     1       2       2       2    2   \n",
              "4    1    1    1     NaN    1    1     2     3       2       2       2    3   \n",
              "\n",
              "   II2  II3  II3_1  II4_1  II4_2  II4_3  II5  II5_1  II6  II6_1  II7 II7_ESP  \\\n",
              "0    1    2      0      1      2      2    2      0    2      0    1     NaN   \n",
              "1    2    2      0      1      2      1    2      0    2      0    3     NaN   \n",
              "2    1    2      0      1      1      2    2      0    2      0    1     NaN   \n",
              "3    2    2      0      1      2      2    2      0    2      0    6     NaN   \n",
              "4    3    2      0      1      1      2    2      0    2      0    1     NaN   \n",
              "\n",
              "   II8  ... V16  V17  V18  V19_A  V19_B  IX_TOT  IX_MEN10  IX_MAYEQ10    ITF  \\\n",
              "0    1  ...   2    2    2      2      2       3         2           1      0   \n",
              "1    1  ...   2    2    2      2      2       2         0           2      0   \n",
              "2    1  ...   1    2    2      2      2       2         0           2  77500   \n",
              "3    1  ...   1    2    2      2      2       4         1           3  85000   \n",
              "4    1  ...   1    2    2      2      2       4         0           4  96870   \n",
              "\n",
              "   DECIFR  IDECIFR  RDECIFR  GDECIFR  PDECIFR  ADECIFR     IPCF  DECCFR  \\\n",
              "0      12     12.0       12      NaN     12.0       12      0.0      12   \n",
              "1      12     12.0       12      NaN     12.0       12      0.0      12   \n",
              "2       5      6.0        4      NaN      6.0        4  38750.0       7   \n",
              "3       6      6.0        5      NaN      6.0        5  21250.0       4   \n",
              "4       7      NaN        6      7.0      NaN        7  24217.5       4   \n",
              "\n",
              "   IDECCFR  RDECCFR  GDECCFR  PDECCFR  ADECCFR  PONDIH  VII1_1  VII1_2  \\\n",
              "0     12.0       12      NaN     12.0       12       0       1       0   \n",
              "1     12.0       12      NaN     12.0       12       0       1       0   \n",
              "2      7.0        5      NaN      7.0        5      57       1       2   \n",
              "3      4.0        3      NaN      4.0        3      58       2       0   \n",
              "4      NaN        4      4.0      NaN        4    5658       1       2   \n",
              "\n",
              "   VII2_1  VII2_2  VII2_3  VII2_4  parentesco  genero  edad  cob_medica  \\\n",
              "0      98       0       0       0           1       2    38           1   \n",
              "1      98       0       0       0           1       2    64           1   \n",
              "2      98       0       0       0           1       1    72           1   \n",
              "3      98       0       0       0           1       1    38           1   \n",
              "4      98       0       0       0           1       1    67           1   \n",
              "\n",
              "   NIVEL_ED  CAT_OCUP  CAT_INAC  AE_ctrol_ind  AE_ctrol_ind_sum  \\\n",
              "0         6         3         0          0.77              2.10   \n",
              "1         6         0         1          0.67              1.44   \n",
              "2         2         0         1          0.83              1.50   \n",
              "3         4         3         0          1.00              3.13   \n",
              "4         4         3         0          0.83              3.33   \n",
              "\n",
              "   adulto_equivalente  pobreza  \n",
              "0                0.00        1  \n",
              "1                0.00        1  \n",
              "2            51666.67        0  \n",
              "3            27156.55        0  \n",
              "4            29090.09        0  \n",
              "\n",
              "[5 rows x 99 columns]"
            ],
            "text/html": [
              "\n",
              "  <div id=\"df-8e5e197f-e7be-4705-9984-90004e174c27\">\n",
              "    <div class=\"colab-df-container\">\n",
              "      <div>\n",
              "<style scoped>\n",
              "    .dataframe tbody tr th:only-of-type {\n",
              "        vertical-align: middle;\n",
              "    }\n",
              "\n",
              "    .dataframe tbody tr th {\n",
              "        vertical-align: top;\n",
              "    }\n",
              "\n",
              "    .dataframe thead th {\n",
              "        text-align: right;\n",
              "    }\n",
              "</style>\n",
              "<table border=\"1\" class=\"dataframe\">\n",
              "  <thead>\n",
              "    <tr style=\"text-align: right;\">\n",
              "      <th></th>\n",
              "      <th>CODUSU</th>\n",
              "      <th>ANO4</th>\n",
              "      <th>TRIMESTRE</th>\n",
              "      <th>NRO_HOGAR</th>\n",
              "      <th>REALIZADA</th>\n",
              "      <th>REGION</th>\n",
              "      <th>MAS_500</th>\n",
              "      <th>AGLOMERADO</th>\n",
              "      <th>PONDERA</th>\n",
              "      <th>IV1</th>\n",
              "      <th>IV1_ESP</th>\n",
              "      <th>IV2</th>\n",
              "      <th>IV3</th>\n",
              "      <th>IV3_ESP</th>\n",
              "      <th>IV4</th>\n",
              "      <th>IV5</th>\n",
              "      <th>IV6</th>\n",
              "      <th>IV7</th>\n",
              "      <th>IV7_ESP</th>\n",
              "      <th>IV8</th>\n",
              "      <th>IV9</th>\n",
              "      <th>IV10</th>\n",
              "      <th>IV11</th>\n",
              "      <th>IV12_1</th>\n",
              "      <th>IV12_2</th>\n",
              "      <th>IV12_3</th>\n",
              "      <th>II1</th>\n",
              "      <th>II2</th>\n",
              "      <th>II3</th>\n",
              "      <th>II3_1</th>\n",
              "      <th>II4_1</th>\n",
              "      <th>II4_2</th>\n",
              "      <th>II4_3</th>\n",
              "      <th>II5</th>\n",
              "      <th>II5_1</th>\n",
              "      <th>II6</th>\n",
              "      <th>II6_1</th>\n",
              "      <th>II7</th>\n",
              "      <th>II7_ESP</th>\n",
              "      <th>II8</th>\n",
              "      <th>...</th>\n",
              "      <th>V16</th>\n",
              "      <th>V17</th>\n",
              "      <th>V18</th>\n",
              "      <th>V19_A</th>\n",
              "      <th>V19_B</th>\n",
              "      <th>IX_TOT</th>\n",
              "      <th>IX_MEN10</th>\n",
              "      <th>IX_MAYEQ10</th>\n",
              "      <th>ITF</th>\n",
              "      <th>DECIFR</th>\n",
              "      <th>IDECIFR</th>\n",
              "      <th>RDECIFR</th>\n",
              "      <th>GDECIFR</th>\n",
              "      <th>PDECIFR</th>\n",
              "      <th>ADECIFR</th>\n",
              "      <th>IPCF</th>\n",
              "      <th>DECCFR</th>\n",
              "      <th>IDECCFR</th>\n",
              "      <th>RDECCFR</th>\n",
              "      <th>GDECCFR</th>\n",
              "      <th>PDECCFR</th>\n",
              "      <th>ADECCFR</th>\n",
              "      <th>PONDIH</th>\n",
              "      <th>VII1_1</th>\n",
              "      <th>VII1_2</th>\n",
              "      <th>VII2_1</th>\n",
              "      <th>VII2_2</th>\n",
              "      <th>VII2_3</th>\n",
              "      <th>VII2_4</th>\n",
              "      <th>parentesco</th>\n",
              "      <th>genero</th>\n",
              "      <th>edad</th>\n",
              "      <th>cob_medica</th>\n",
              "      <th>NIVEL_ED</th>\n",
              "      <th>CAT_OCUP</th>\n",
              "      <th>CAT_INAC</th>\n",
              "      <th>AE_ctrol_ind</th>\n",
              "      <th>AE_ctrol_ind_sum</th>\n",
              "      <th>adulto_equivalente</th>\n",
              "      <th>pobreza</th>\n",
              "    </tr>\n",
              "  </thead>\n",
              "  <tbody>\n",
              "    <tr>\n",
              "      <th>0</th>\n",
              "      <td>TQRMNOQRPHMOKOCDEOJAH00714382</td>\n",
              "      <td>2021</td>\n",
              "      <td>4</td>\n",
              "      <td>1</td>\n",
              "      <td>1</td>\n",
              "      <td>44</td>\n",
              "      <td>N</td>\n",
              "      <td>93</td>\n",
              "      <td>116</td>\n",
              "      <td>1</td>\n",
              "      <td>NaN</td>\n",
              "      <td>1</td>\n",
              "      <td>1</td>\n",
              "      <td>NaN</td>\n",
              "      <td>4</td>\n",
              "      <td>1</td>\n",
              "      <td>1</td>\n",
              "      <td>1</td>\n",
              "      <td>NaN</td>\n",
              "      <td>1</td>\n",
              "      <td>1</td>\n",
              "      <td>1</td>\n",
              "      <td>1</td>\n",
              "      <td>2</td>\n",
              "      <td>2</td>\n",
              "      <td>2</td>\n",
              "      <td>1</td>\n",
              "      <td>1</td>\n",
              "      <td>2</td>\n",
              "      <td>0</td>\n",
              "      <td>1</td>\n",
              "      <td>2</td>\n",
              "      <td>2</td>\n",
              "      <td>2</td>\n",
              "      <td>0</td>\n",
              "      <td>2</td>\n",
              "      <td>0</td>\n",
              "      <td>1</td>\n",
              "      <td>NaN</td>\n",
              "      <td>1</td>\n",
              "      <td>...</td>\n",
              "      <td>2</td>\n",
              "      <td>2</td>\n",
              "      <td>2</td>\n",
              "      <td>2</td>\n",
              "      <td>2</td>\n",
              "      <td>3</td>\n",
              "      <td>2</td>\n",
              "      <td>1</td>\n",
              "      <td>0</td>\n",
              "      <td>12</td>\n",
              "      <td>12.0</td>\n",
              "      <td>12</td>\n",
              "      <td>NaN</td>\n",
              "      <td>12.0</td>\n",
              "      <td>12</td>\n",
              "      <td>0.0</td>\n",
              "      <td>12</td>\n",
              "      <td>12.0</td>\n",
              "      <td>12</td>\n",
              "      <td>NaN</td>\n",
              "      <td>12.0</td>\n",
              "      <td>12</td>\n",
              "      <td>0</td>\n",
              "      <td>1</td>\n",
              "      <td>0</td>\n",
              "      <td>98</td>\n",
              "      <td>0</td>\n",
              "      <td>0</td>\n",
              "      <td>0</td>\n",
              "      <td>1</td>\n",
              "      <td>2</td>\n",
              "      <td>38</td>\n",
              "      <td>1</td>\n",
              "      <td>6</td>\n",
              "      <td>3</td>\n",
              "      <td>0</td>\n",
              "      <td>0.77</td>\n",
              "      <td>2.10</td>\n",
              "      <td>0.00</td>\n",
              "      <td>1</td>\n",
              "    </tr>\n",
              "    <tr>\n",
              "      <th>1</th>\n",
              "      <td>TQRMNOQYUHMMKPCDEOJAH00714383</td>\n",
              "      <td>2021</td>\n",
              "      <td>4</td>\n",
              "      <td>1</td>\n",
              "      <td>1</td>\n",
              "      <td>44</td>\n",
              "      <td>N</td>\n",
              "      <td>93</td>\n",
              "      <td>46</td>\n",
              "      <td>1</td>\n",
              "      <td>NaN</td>\n",
              "      <td>4</td>\n",
              "      <td>1</td>\n",
              "      <td>NaN</td>\n",
              "      <td>2</td>\n",
              "      <td>1</td>\n",
              "      <td>1</td>\n",
              "      <td>1</td>\n",
              "      <td>NaN</td>\n",
              "      <td>1</td>\n",
              "      <td>1</td>\n",
              "      <td>1</td>\n",
              "      <td>1</td>\n",
              "      <td>2</td>\n",
              "      <td>2</td>\n",
              "      <td>2</td>\n",
              "      <td>4</td>\n",
              "      <td>2</td>\n",
              "      <td>2</td>\n",
              "      <td>0</td>\n",
              "      <td>1</td>\n",
              "      <td>2</td>\n",
              "      <td>1</td>\n",
              "      <td>2</td>\n",
              "      <td>0</td>\n",
              "      <td>2</td>\n",
              "      <td>0</td>\n",
              "      <td>3</td>\n",
              "      <td>NaN</td>\n",
              "      <td>1</td>\n",
              "      <td>...</td>\n",
              "      <td>2</td>\n",
              "      <td>2</td>\n",
              "      <td>2</td>\n",
              "      <td>2</td>\n",
              "      <td>2</td>\n",
              "      <td>2</td>\n",
              "      <td>0</td>\n",
              "      <td>2</td>\n",
              "      <td>0</td>\n",
              "      <td>12</td>\n",
              "      <td>12.0</td>\n",
              "      <td>12</td>\n",
              "      <td>NaN</td>\n",
              "      <td>12.0</td>\n",
              "      <td>12</td>\n",
              "      <td>0.0</td>\n",
              "      <td>12</td>\n",
              "      <td>12.0</td>\n",
              "      <td>12</td>\n",
              "      <td>NaN</td>\n",
              "      <td>12.0</td>\n",
              "      <td>12</td>\n",
              "      <td>0</td>\n",
              "      <td>1</td>\n",
              "      <td>0</td>\n",
              "      <td>98</td>\n",
              "      <td>0</td>\n",
              "      <td>0</td>\n",
              "      <td>0</td>\n",
              "      <td>1</td>\n",
              "      <td>2</td>\n",
              "      <td>64</td>\n",
              "      <td>1</td>\n",
              "      <td>6</td>\n",
              "      <td>0</td>\n",
              "      <td>1</td>\n",
              "      <td>0.67</td>\n",
              "      <td>1.44</td>\n",
              "      <td>0.00</td>\n",
              "      <td>1</td>\n",
              "    </tr>\n",
              "    <tr>\n",
              "      <th>2</th>\n",
              "      <td>TQRMNOPSWHMMKRCDEOJAH00714384</td>\n",
              "      <td>2021</td>\n",
              "      <td>4</td>\n",
              "      <td>1</td>\n",
              "      <td>1</td>\n",
              "      <td>44</td>\n",
              "      <td>N</td>\n",
              "      <td>93</td>\n",
              "      <td>43</td>\n",
              "      <td>1</td>\n",
              "      <td>NaN</td>\n",
              "      <td>3</td>\n",
              "      <td>1</td>\n",
              "      <td>NaN</td>\n",
              "      <td>1</td>\n",
              "      <td>1</td>\n",
              "      <td>1</td>\n",
              "      <td>1</td>\n",
              "      <td>NaN</td>\n",
              "      <td>1</td>\n",
              "      <td>1</td>\n",
              "      <td>1</td>\n",
              "      <td>1</td>\n",
              "      <td>2</td>\n",
              "      <td>2</td>\n",
              "      <td>2</td>\n",
              "      <td>3</td>\n",
              "      <td>1</td>\n",
              "      <td>2</td>\n",
              "      <td>0</td>\n",
              "      <td>1</td>\n",
              "      <td>1</td>\n",
              "      <td>2</td>\n",
              "      <td>2</td>\n",
              "      <td>0</td>\n",
              "      <td>2</td>\n",
              "      <td>0</td>\n",
              "      <td>1</td>\n",
              "      <td>NaN</td>\n",
              "      <td>1</td>\n",
              "      <td>...</td>\n",
              "      <td>1</td>\n",
              "      <td>2</td>\n",
              "      <td>2</td>\n",
              "      <td>2</td>\n",
              "      <td>2</td>\n",
              "      <td>2</td>\n",
              "      <td>0</td>\n",
              "      <td>2</td>\n",
              "      <td>77500</td>\n",
              "      <td>5</td>\n",
              "      <td>6.0</td>\n",
              "      <td>4</td>\n",
              "      <td>NaN</td>\n",
              "      <td>6.0</td>\n",
              "      <td>4</td>\n",
              "      <td>38750.0</td>\n",
              "      <td>7</td>\n",
              "      <td>7.0</td>\n",
              "      <td>5</td>\n",
              "      <td>NaN</td>\n",
              "      <td>7.0</td>\n",
              "      <td>5</td>\n",
              "      <td>57</td>\n",
              "      <td>1</td>\n",
              "      <td>2</td>\n",
              "      <td>98</td>\n",
              "      <td>0</td>\n",
              "      <td>0</td>\n",
              "      <td>0</td>\n",
              "      <td>1</td>\n",
              "      <td>1</td>\n",
              "      <td>72</td>\n",
              "      <td>1</td>\n",
              "      <td>2</td>\n",
              "      <td>0</td>\n",
              "      <td>1</td>\n",
              "      <td>0.83</td>\n",
              "      <td>1.50</td>\n",
              "      <td>51666.67</td>\n",
              "      <td>0</td>\n",
              "    </tr>\n",
              "    <tr>\n",
              "      <th>3</th>\n",
              "      <td>TQRMNOQYSHMNKTCDEOJAH00714386</td>\n",
              "      <td>2021</td>\n",
              "      <td>4</td>\n",
              "      <td>1</td>\n",
              "      <td>1</td>\n",
              "      <td>44</td>\n",
              "      <td>N</td>\n",
              "      <td>93</td>\n",
              "      <td>64</td>\n",
              "      <td>2</td>\n",
              "      <td>NaN</td>\n",
              "      <td>2</td>\n",
              "      <td>1</td>\n",
              "      <td>NaN</td>\n",
              "      <td>4</td>\n",
              "      <td>1</td>\n",
              "      <td>1</td>\n",
              "      <td>1</td>\n",
              "      <td>NaN</td>\n",
              "      <td>1</td>\n",
              "      <td>1</td>\n",
              "      <td>1</td>\n",
              "      <td>1</td>\n",
              "      <td>2</td>\n",
              "      <td>2</td>\n",
              "      <td>2</td>\n",
              "      <td>2</td>\n",
              "      <td>2</td>\n",
              "      <td>2</td>\n",
              "      <td>0</td>\n",
              "      <td>1</td>\n",
              "      <td>2</td>\n",
              "      <td>2</td>\n",
              "      <td>2</td>\n",
              "      <td>0</td>\n",
              "      <td>2</td>\n",
              "      <td>0</td>\n",
              "      <td>6</td>\n",
              "      <td>NaN</td>\n",
              "      <td>1</td>\n",
              "      <td>...</td>\n",
              "      <td>1</td>\n",
              "      <td>2</td>\n",
              "      <td>2</td>\n",
              "      <td>2</td>\n",
              "      <td>2</td>\n",
              "      <td>4</td>\n",
              "      <td>1</td>\n",
              "      <td>3</td>\n",
              "      <td>85000</td>\n",
              "      <td>6</td>\n",
              "      <td>6.0</td>\n",
              "      <td>5</td>\n",
              "      <td>NaN</td>\n",
              "      <td>6.0</td>\n",
              "      <td>5</td>\n",
              "      <td>21250.0</td>\n",
              "      <td>4</td>\n",
              "      <td>4.0</td>\n",
              "      <td>3</td>\n",
              "      <td>NaN</td>\n",
              "      <td>4.0</td>\n",
              "      <td>3</td>\n",
              "      <td>58</td>\n",
              "      <td>2</td>\n",
              "      <td>0</td>\n",
              "      <td>98</td>\n",
              "      <td>0</td>\n",
              "      <td>0</td>\n",
              "      <td>0</td>\n",
              "      <td>1</td>\n",
              "      <td>1</td>\n",
              "      <td>38</td>\n",
              "      <td>1</td>\n",
              "      <td>4</td>\n",
              "      <td>3</td>\n",
              "      <td>0</td>\n",
              "      <td>1.00</td>\n",
              "      <td>3.13</td>\n",
              "      <td>27156.55</td>\n",
              "      <td>0</td>\n",
              "    </tr>\n",
              "    <tr>\n",
              "      <th>4</th>\n",
              "      <td>TQRMNOQXVHLLPQCDEIJAH00718674</td>\n",
              "      <td>2021</td>\n",
              "      <td>4</td>\n",
              "      <td>1</td>\n",
              "      <td>1</td>\n",
              "      <td>1</td>\n",
              "      <td>S</td>\n",
              "      <td>33</td>\n",
              "      <td>2822</td>\n",
              "      <td>1</td>\n",
              "      <td>NaN</td>\n",
              "      <td>3</td>\n",
              "      <td>1</td>\n",
              "      <td>NaN</td>\n",
              "      <td>4</td>\n",
              "      <td>1</td>\n",
              "      <td>1</td>\n",
              "      <td>1</td>\n",
              "      <td>NaN</td>\n",
              "      <td>1</td>\n",
              "      <td>1</td>\n",
              "      <td>2</td>\n",
              "      <td>3</td>\n",
              "      <td>2</td>\n",
              "      <td>2</td>\n",
              "      <td>2</td>\n",
              "      <td>3</td>\n",
              "      <td>3</td>\n",
              "      <td>2</td>\n",
              "      <td>0</td>\n",
              "      <td>1</td>\n",
              "      <td>1</td>\n",
              "      <td>2</td>\n",
              "      <td>2</td>\n",
              "      <td>0</td>\n",
              "      <td>2</td>\n",
              "      <td>0</td>\n",
              "      <td>1</td>\n",
              "      <td>NaN</td>\n",
              "      <td>1</td>\n",
              "      <td>...</td>\n",
              "      <td>1</td>\n",
              "      <td>2</td>\n",
              "      <td>2</td>\n",
              "      <td>2</td>\n",
              "      <td>2</td>\n",
              "      <td>4</td>\n",
              "      <td>0</td>\n",
              "      <td>4</td>\n",
              "      <td>96870</td>\n",
              "      <td>7</td>\n",
              "      <td>NaN</td>\n",
              "      <td>6</td>\n",
              "      <td>7.0</td>\n",
              "      <td>NaN</td>\n",
              "      <td>7</td>\n",
              "      <td>24217.5</td>\n",
              "      <td>4</td>\n",
              "      <td>NaN</td>\n",
              "      <td>4</td>\n",
              "      <td>4.0</td>\n",
              "      <td>NaN</td>\n",
              "      <td>4</td>\n",
              "      <td>5658</td>\n",
              "      <td>1</td>\n",
              "      <td>2</td>\n",
              "      <td>98</td>\n",
              "      <td>0</td>\n",
              "      <td>0</td>\n",
              "      <td>0</td>\n",
              "      <td>1</td>\n",
              "      <td>1</td>\n",
              "      <td>67</td>\n",
              "      <td>1</td>\n",
              "      <td>4</td>\n",
              "      <td>3</td>\n",
              "      <td>0</td>\n",
              "      <td>0.83</td>\n",
              "      <td>3.33</td>\n",
              "      <td>29090.09</td>\n",
              "      <td>0</td>\n",
              "    </tr>\n",
              "  </tbody>\n",
              "</table>\n",
              "<p>5 rows × 99 columns</p>\n",
              "</div>\n",
              "      <button class=\"colab-df-convert\" onclick=\"convertToInteractive('df-8e5e197f-e7be-4705-9984-90004e174c27')\"\n",
              "              title=\"Convert this dataframe to an interactive table.\"\n",
              "              style=\"display:none;\">\n",
              "        \n",
              "  <svg xmlns=\"http://www.w3.org/2000/svg\" height=\"24px\"viewBox=\"0 0 24 24\"\n",
              "       width=\"24px\">\n",
              "    <path d=\"M0 0h24v24H0V0z\" fill=\"none\"/>\n",
              "    <path d=\"M18.56 5.44l.94 2.06.94-2.06 2.06-.94-2.06-.94-.94-2.06-.94 2.06-2.06.94zm-11 1L8.5 8.5l.94-2.06 2.06-.94-2.06-.94L8.5 2.5l-.94 2.06-2.06.94zm10 10l.94 2.06.94-2.06 2.06-.94-2.06-.94-.94-2.06-.94 2.06-2.06.94z\"/><path d=\"M17.41 7.96l-1.37-1.37c-.4-.4-.92-.59-1.43-.59-.52 0-1.04.2-1.43.59L10.3 9.45l-7.72 7.72c-.78.78-.78 2.05 0 2.83L4 21.41c.39.39.9.59 1.41.59.51 0 1.02-.2 1.41-.59l7.78-7.78 2.81-2.81c.8-.78.8-2.07 0-2.86zM5.41 20L4 18.59l7.72-7.72 1.47 1.35L5.41 20z\"/>\n",
              "  </svg>\n",
              "      </button>\n",
              "      \n",
              "  <style>\n",
              "    .colab-df-container {\n",
              "      display:flex;\n",
              "      flex-wrap:wrap;\n",
              "      gap: 12px;\n",
              "    }\n",
              "\n",
              "    .colab-df-convert {\n",
              "      background-color: #E8F0FE;\n",
              "      border: none;\n",
              "      border-radius: 50%;\n",
              "      cursor: pointer;\n",
              "      display: none;\n",
              "      fill: #1967D2;\n",
              "      height: 32px;\n",
              "      padding: 0 0 0 0;\n",
              "      width: 32px;\n",
              "    }\n",
              "\n",
              "    .colab-df-convert:hover {\n",
              "      background-color: #E2EBFA;\n",
              "      box-shadow: 0px 1px 2px rgba(60, 64, 67, 0.3), 0px 1px 3px 1px rgba(60, 64, 67, 0.15);\n",
              "      fill: #174EA6;\n",
              "    }\n",
              "\n",
              "    [theme=dark] .colab-df-convert {\n",
              "      background-color: #3B4455;\n",
              "      fill: #D2E3FC;\n",
              "    }\n",
              "\n",
              "    [theme=dark] .colab-df-convert:hover {\n",
              "      background-color: #434B5C;\n",
              "      box-shadow: 0px 1px 3px 1px rgba(0, 0, 0, 0.15);\n",
              "      filter: drop-shadow(0px 1px 2px rgba(0, 0, 0, 0.3));\n",
              "      fill: #FFFFFF;\n",
              "    }\n",
              "  </style>\n",
              "\n",
              "      <script>\n",
              "        const buttonEl =\n",
              "          document.querySelector('#df-8e5e197f-e7be-4705-9984-90004e174c27 button.colab-df-convert');\n",
              "        buttonEl.style.display =\n",
              "          google.colab.kernel.accessAllowed ? 'block' : 'none';\n",
              "\n",
              "        async function convertToInteractive(key) {\n",
              "          const element = document.querySelector('#df-8e5e197f-e7be-4705-9984-90004e174c27');\n",
              "          const dataTable =\n",
              "            await google.colab.kernel.invokeFunction('convertToInteractive',\n",
              "                                                     [key], {});\n",
              "          if (!dataTable) return;\n",
              "\n",
              "          const docLinkHtml = 'Like what you see? Visit the ' +\n",
              "            '<a target=\"_blank\" href=https://colab.research.google.com/notebooks/data_table.ipynb>data table notebook</a>'\n",
              "            + ' to learn more about interactive tables.';\n",
              "          element.innerHTML = '';\n",
              "          dataTable['output_type'] = 'display_data';\n",
              "          await google.colab.output.renderOutput(dataTable, element);\n",
              "          const docLink = document.createElement('div');\n",
              "          docLink.innerHTML = docLinkHtml;\n",
              "          element.appendChild(docLink);\n",
              "        }\n",
              "      </script>\n",
              "    </div>\n",
              "  </div>\n",
              "  "
            ]
          },
          "metadata": {},
          "execution_count": 95
        }
      ],
      "source": [
        "df_dataset.head()"
      ]
    },
    {
      "cell_type": "code",
      "execution_count": 98,
      "metadata": {
        "id": "ilAB-wHFevzU"
      },
      "outputs": [],
      "source": [
        "df_dataset.to_csv('dataset.csv')"
      ]
    },
    {
      "cell_type": "markdown",
      "metadata": {
        "id": "pfPT-tRQuc59"
      },
      "source": [
        "# **Cleaning**"
      ]
    },
    {
      "cell_type": "code",
      "execution_count": null,
      "metadata": {
        "colab": {
          "base_uri": "https://localhost:8080/",
          "height": 74
        },
        "id": "47CVnC4tWvpv",
        "outputId": "71f0fe24-2e08-45d7-eb8c-dd040634b488"
      },
      "outputs": [
        {
          "output_type": "display_data",
          "data": {
            "text/plain": [
              "<IPython.core.display.HTML object>"
            ],
            "text/html": [
              "\n",
              "     <input type=\"file\" id=\"files-2663de4c-bd9d-4dbb-85dd-f610f9dcc874\" name=\"files[]\" multiple disabled\n",
              "        style=\"border:none\" />\n",
              "     <output id=\"result-2663de4c-bd9d-4dbb-85dd-f610f9dcc874\">\n",
              "      Upload widget is only available when the cell has been executed in the\n",
              "      current browser session. Please rerun this cell to enable.\n",
              "      </output>\n",
              "      <script>// Copyright 2017 Google LLC\n",
              "//\n",
              "// Licensed under the Apache License, Version 2.0 (the \"License\");\n",
              "// you may not use this file except in compliance with the License.\n",
              "// You may obtain a copy of the License at\n",
              "//\n",
              "//      http://www.apache.org/licenses/LICENSE-2.0\n",
              "//\n",
              "// Unless required by applicable law or agreed to in writing, software\n",
              "// distributed under the License is distributed on an \"AS IS\" BASIS,\n",
              "// WITHOUT WARRANTIES OR CONDITIONS OF ANY KIND, either express or implied.\n",
              "// See the License for the specific language governing permissions and\n",
              "// limitations under the License.\n",
              "\n",
              "/**\n",
              " * @fileoverview Helpers for google.colab Python module.\n",
              " */\n",
              "(function(scope) {\n",
              "function span(text, styleAttributes = {}) {\n",
              "  const element = document.createElement('span');\n",
              "  element.textContent = text;\n",
              "  for (const key of Object.keys(styleAttributes)) {\n",
              "    element.style[key] = styleAttributes[key];\n",
              "  }\n",
              "  return element;\n",
              "}\n",
              "\n",
              "// Max number of bytes which will be uploaded at a time.\n",
              "const MAX_PAYLOAD_SIZE = 100 * 1024;\n",
              "\n",
              "function _uploadFiles(inputId, outputId) {\n",
              "  const steps = uploadFilesStep(inputId, outputId);\n",
              "  const outputElement = document.getElementById(outputId);\n",
              "  // Cache steps on the outputElement to make it available for the next call\n",
              "  // to uploadFilesContinue from Python.\n",
              "  outputElement.steps = steps;\n",
              "\n",
              "  return _uploadFilesContinue(outputId);\n",
              "}\n",
              "\n",
              "// This is roughly an async generator (not supported in the browser yet),\n",
              "// where there are multiple asynchronous steps and the Python side is going\n",
              "// to poll for completion of each step.\n",
              "// This uses a Promise to block the python side on completion of each step,\n",
              "// then passes the result of the previous step as the input to the next step.\n",
              "function _uploadFilesContinue(outputId) {\n",
              "  const outputElement = document.getElementById(outputId);\n",
              "  const steps = outputElement.steps;\n",
              "\n",
              "  const next = steps.next(outputElement.lastPromiseValue);\n",
              "  return Promise.resolve(next.value.promise).then((value) => {\n",
              "    // Cache the last promise value to make it available to the next\n",
              "    // step of the generator.\n",
              "    outputElement.lastPromiseValue = value;\n",
              "    return next.value.response;\n",
              "  });\n",
              "}\n",
              "\n",
              "/**\n",
              " * Generator function which is called between each async step of the upload\n",
              " * process.\n",
              " * @param {string} inputId Element ID of the input file picker element.\n",
              " * @param {string} outputId Element ID of the output display.\n",
              " * @return {!Iterable<!Object>} Iterable of next steps.\n",
              " */\n",
              "function* uploadFilesStep(inputId, outputId) {\n",
              "  const inputElement = document.getElementById(inputId);\n",
              "  inputElement.disabled = false;\n",
              "\n",
              "  const outputElement = document.getElementById(outputId);\n",
              "  outputElement.innerHTML = '';\n",
              "\n",
              "  const pickedPromise = new Promise((resolve) => {\n",
              "    inputElement.addEventListener('change', (e) => {\n",
              "      resolve(e.target.files);\n",
              "    });\n",
              "  });\n",
              "\n",
              "  const cancel = document.createElement('button');\n",
              "  inputElement.parentElement.appendChild(cancel);\n",
              "  cancel.textContent = 'Cancel upload';\n",
              "  const cancelPromise = new Promise((resolve) => {\n",
              "    cancel.onclick = () => {\n",
              "      resolve(null);\n",
              "    };\n",
              "  });\n",
              "\n",
              "  // Wait for the user to pick the files.\n",
              "  const files = yield {\n",
              "    promise: Promise.race([pickedPromise, cancelPromise]),\n",
              "    response: {\n",
              "      action: 'starting',\n",
              "    }\n",
              "  };\n",
              "\n",
              "  cancel.remove();\n",
              "\n",
              "  // Disable the input element since further picks are not allowed.\n",
              "  inputElement.disabled = true;\n",
              "\n",
              "  if (!files) {\n",
              "    return {\n",
              "      response: {\n",
              "        action: 'complete',\n",
              "      }\n",
              "    };\n",
              "  }\n",
              "\n",
              "  for (const file of files) {\n",
              "    const li = document.createElement('li');\n",
              "    li.append(span(file.name, {fontWeight: 'bold'}));\n",
              "    li.append(span(\n",
              "        `(${file.type || 'n/a'}) - ${file.size} bytes, ` +\n",
              "        `last modified: ${\n",
              "            file.lastModifiedDate ? file.lastModifiedDate.toLocaleDateString() :\n",
              "                                    'n/a'} - `));\n",
              "    const percent = span('0% done');\n",
              "    li.appendChild(percent);\n",
              "\n",
              "    outputElement.appendChild(li);\n",
              "\n",
              "    const fileDataPromise = new Promise((resolve) => {\n",
              "      const reader = new FileReader();\n",
              "      reader.onload = (e) => {\n",
              "        resolve(e.target.result);\n",
              "      };\n",
              "      reader.readAsArrayBuffer(file);\n",
              "    });\n",
              "    // Wait for the data to be ready.\n",
              "    let fileData = yield {\n",
              "      promise: fileDataPromise,\n",
              "      response: {\n",
              "        action: 'continue',\n",
              "      }\n",
              "    };\n",
              "\n",
              "    // Use a chunked sending to avoid message size limits. See b/62115660.\n",
              "    let position = 0;\n",
              "    do {\n",
              "      const length = Math.min(fileData.byteLength - position, MAX_PAYLOAD_SIZE);\n",
              "      const chunk = new Uint8Array(fileData, position, length);\n",
              "      position += length;\n",
              "\n",
              "      const base64 = btoa(String.fromCharCode.apply(null, chunk));\n",
              "      yield {\n",
              "        response: {\n",
              "          action: 'append',\n",
              "          file: file.name,\n",
              "          data: base64,\n",
              "        },\n",
              "      };\n",
              "\n",
              "      let percentDone = fileData.byteLength === 0 ?\n",
              "          100 :\n",
              "          Math.round((position / fileData.byteLength) * 100);\n",
              "      percent.textContent = `${percentDone}% done`;\n",
              "\n",
              "    } while (position < fileData.byteLength);\n",
              "  }\n",
              "\n",
              "  // All done.\n",
              "  yield {\n",
              "    response: {\n",
              "      action: 'complete',\n",
              "    }\n",
              "  };\n",
              "}\n",
              "\n",
              "scope.google = scope.google || {};\n",
              "scope.google.colab = scope.google.colab || {};\n",
              "scope.google.colab._files = {\n",
              "  _uploadFiles,\n",
              "  _uploadFilesContinue,\n",
              "};\n",
              "})(self);\n",
              "</script> "
            ]
          },
          "metadata": {}
        },
        {
          "output_type": "stream",
          "name": "stdout",
          "text": [
            "Saving dataset.csv to dataset (1).csv\n"
          ]
        }
      ],
      "source": [
        "#from google.colab import files\n",
        "#uploaded  = files.upload() "
      ]
    },
    {
      "cell_type": "code",
      "execution_count": null,
      "metadata": {
        "id": "YtPXsd1CXzmS"
      },
      "outputs": [],
      "source": [
        "#df_dataset = pd.read_csv(\"dataset.csv\")"
      ]
    },
    {
      "cell_type": "code",
      "execution_count": null,
      "metadata": {
        "id": "PBXALlB3YDUD"
      },
      "outputs": [],
      "source": [
        "#df_dataset = df_dataset.drop(['Unnamed: 0'], axis=1)"
      ]
    },
    {
      "cell_type": "code",
      "execution_count": 99,
      "metadata": {
        "colab": {
          "base_uri": "https://localhost:8080/"
        },
        "id": "cSi2RelZLJ2c",
        "outputId": "ae8949f2-3a0f-47be-cce0-d2ef34ccd775"
      },
      "outputs": [
        {
          "output_type": "execute_result",
          "data": {
            "text/plain": [
              "Index(['CODUSU', 'ANO4', 'TRIMESTRE', 'NRO_HOGAR', 'REALIZADA', 'REGION',\n",
              "       'MAS_500', 'AGLOMERADO', 'PONDERA', 'IV1', 'IV1_ESP', 'IV2', 'IV3',\n",
              "       'IV3_ESP', 'IV4', 'IV5', 'IV6', 'IV7', 'IV7_ESP', 'IV8', 'IV9', 'IV10',\n",
              "       'IV11', 'IV12_1', 'IV12_2', 'IV12_3', 'II1', 'II2', 'II3', 'II3_1',\n",
              "       'II4_1', 'II4_2', 'II4_3', 'II5', 'II5_1', 'II6', 'II6_1', 'II7',\n",
              "       'II7_ESP', 'II8', 'II8_ESP', 'II9', 'V1', 'V2', 'V21', 'V22', 'V3',\n",
              "       'V4', 'V5', 'V6', 'V7', 'V8', 'V9', 'V10', 'V11', 'V12', 'V13', 'V14',\n",
              "       'V15', 'V16', 'V17', 'V18', 'V19_A', 'V19_B', 'IX_TOT', 'IX_MEN10',\n",
              "       'IX_MAYEQ10', 'ITF', 'DECIFR', 'IDECIFR', 'RDECIFR', 'GDECIFR',\n",
              "       'PDECIFR', 'ADECIFR', 'IPCF', 'DECCFR', 'IDECCFR', 'RDECCFR', 'GDECCFR',\n",
              "       'PDECCFR', 'ADECCFR', 'PONDIH', 'VII1_1', 'VII1_2', 'VII2_1', 'VII2_2',\n",
              "       'VII2_3', 'VII2_4', 'parentesco', 'genero', 'edad', 'cob_medica',\n",
              "       'NIVEL_ED', 'CAT_OCUP', 'CAT_INAC', 'AE_ctrol_ind', 'AE_ctrol_ind_sum',\n",
              "       'adulto_equivalente', 'pobreza'],\n",
              "      dtype='object')"
            ]
          },
          "metadata": {},
          "execution_count": 99
        }
      ],
      "source": [
        "# vemos los nombres de las columnas\n",
        "col_names = df_dataset.columns\n",
        "\n",
        "col_names"
      ]
    },
    {
      "cell_type": "code",
      "execution_count": 100,
      "metadata": {
        "colab": {
          "base_uri": "https://localhost:8080/"
        },
        "id": "MN3Ph_G7U2cs",
        "outputId": "500e07cc-ac69-4a40-ac49-acbbc16950b8"
      },
      "outputs": [
        {
          "output_type": "stream",
          "name": "stdout",
          "text": [
            "count      17037.0\n",
            "mean       68734.0\n",
            "std        77324.0\n",
            "min            0.0\n",
            "25%        22000.0\n",
            "50%        56000.0\n",
            "75%        95600.0\n",
            "max      4035000.0\n",
            "Name: ITF, dtype: float64 2\n"
          ]
        }
      ],
      "source": [
        "#la variable ITF representa el monto de ingreso total familiar\n",
        "#analizamos sus datos\n",
        "\n",
        "print(round(df_dataset['ITF'].describe()),2)"
      ]
    },
    {
      "cell_type": "code",
      "execution_count": 101,
      "metadata": {
        "colab": {
          "base_uri": "https://localhost:8080/"
        },
        "id": "-AIhwrBDaYKC",
        "outputId": "ee05bdeb-b3e5-473f-c5b4-88c1b1d5509d"
      },
      "outputs": [
        {
          "output_type": "execute_result",
          "data": {
            "text/plain": [
              "3582"
            ]
          },
          "metadata": {},
          "execution_count": 101
        }
      ],
      "source": [
        "ITF_cero = [x for x in df_dataset['ITF'] if x == 0]\n",
        "len(ITF_cero)"
      ]
    },
    {
      "cell_type": "code",
      "execution_count": 102,
      "metadata": {
        "id": "otqb5F5HccNy"
      },
      "outputs": [],
      "source": [
        "#hay 3.582 hogares que declararon ingresos $0. \n",
        "#para este estudio no los vamos a tener en cuenta\n",
        "\n",
        "df_dataset = df_dataset.drop(df_dataset[df_dataset['ITF']==0].index)"
      ]
    },
    {
      "cell_type": "code",
      "execution_count": 103,
      "metadata": {
        "colab": {
          "base_uri": "https://localhost:8080/"
        },
        "id": "1WN-xo9MaQNq",
        "outputId": "65d06977-574d-4ca9-9b8e-2b02b426a7dc"
      },
      "outputs": [
        {
          "output_type": "execute_result",
          "data": {
            "text/plain": [
              "0"
            ]
          },
          "metadata": {},
          "execution_count": 103
        }
      ],
      "source": [
        "ITF_cero = [x for x in df_dataset['ITF'] if x == 0]\n",
        "len(ITF_cero)"
      ]
    },
    {
      "cell_type": "code",
      "execution_count": 104,
      "metadata": {
        "colab": {
          "base_uri": "https://localhost:8080/"
        },
        "id": "wf5zJlTaNTZm",
        "outputId": "5a9e8045-a025-4aac-fa8a-764fcb09785d"
      },
      "outputs": [
        {
          "output_type": "stream",
          "name": "stdout",
          "text": [
            "<class 'pandas.core.frame.DataFrame'>\n",
            "Int64Index: 13455 entries, 2 to 17036\n",
            "Data columns (total 99 columns):\n",
            " #   Column              Non-Null Count  Dtype  \n",
            "---  ------              --------------  -----  \n",
            " 0   CODUSU              13455 non-null  object \n",
            " 1   ANO4                13455 non-null  int64  \n",
            " 2   TRIMESTRE           13455 non-null  int64  \n",
            " 3   NRO_HOGAR           13455 non-null  int64  \n",
            " 4   REALIZADA           13455 non-null  int64  \n",
            " 5   REGION              13455 non-null  int64  \n",
            " 6   MAS_500             13455 non-null  object \n",
            " 7   AGLOMERADO          13455 non-null  int64  \n",
            " 8   PONDERA             13455 non-null  int64  \n",
            " 9   IV1                 13455 non-null  int64  \n",
            " 10  IV1_ESP             29 non-null     object \n",
            " 11  IV2                 13455 non-null  int64  \n",
            " 12  IV3                 13455 non-null  int64  \n",
            " 13  IV3_ESP             27 non-null     object \n",
            " 14  IV4                 13455 non-null  int64  \n",
            " 15  IV5                 13455 non-null  int64  \n",
            " 16  IV6                 13455 non-null  int64  \n",
            " 17  IV7                 13455 non-null  int64  \n",
            " 18  IV7_ESP             17 non-null     object \n",
            " 19  IV8                 13455 non-null  int64  \n",
            " 20  IV9                 13455 non-null  int64  \n",
            " 21  IV10                13455 non-null  int64  \n",
            " 22  IV11                13455 non-null  int64  \n",
            " 23  IV12_1              13455 non-null  int64  \n",
            " 24  IV12_2              13455 non-null  int64  \n",
            " 25  IV12_3              13455 non-null  int64  \n",
            " 26  II1                 13455 non-null  int64  \n",
            " 27  II2                 13455 non-null  int64  \n",
            " 28  II3                 13455 non-null  int64  \n",
            " 29  II3_1               13455 non-null  int64  \n",
            " 30  II4_1               13455 non-null  int64  \n",
            " 31  II4_2               13455 non-null  int64  \n",
            " 32  II4_3               13455 non-null  int64  \n",
            " 33  II5                 13455 non-null  int64  \n",
            " 34  II5_1               13455 non-null  int64  \n",
            " 35  II6                 13455 non-null  int64  \n",
            " 36  II6_1               13455 non-null  int64  \n",
            " 37  II7                 13455 non-null  int64  \n",
            " 38  II7_ESP             19 non-null     object \n",
            " 39  II8                 13455 non-null  int64  \n",
            " 40  II8_ESP             107 non-null    object \n",
            " 41  II9                 13455 non-null  int64  \n",
            " 42  V1                  13455 non-null  int64  \n",
            " 43  V2                  13455 non-null  int64  \n",
            " 44  V21                 13455 non-null  int64  \n",
            " 45  V22                 13455 non-null  int64  \n",
            " 46  V3                  13455 non-null  int64  \n",
            " 47  V4                  13455 non-null  int64  \n",
            " 48  V5                  13455 non-null  int64  \n",
            " 49  V6                  13455 non-null  int64  \n",
            " 50  V7                  13455 non-null  int64  \n",
            " 51  V8                  13455 non-null  int64  \n",
            " 52  V9                  13455 non-null  int64  \n",
            " 53  V10                 13455 non-null  int64  \n",
            " 54  V11                 13455 non-null  int64  \n",
            " 55  V12                 13455 non-null  int64  \n",
            " 56  V13                 13455 non-null  int64  \n",
            " 57  V14                 13455 non-null  int64  \n",
            " 58  V15                 13455 non-null  int64  \n",
            " 59  V16                 13455 non-null  int64  \n",
            " 60  V17                 13455 non-null  int64  \n",
            " 61  V18                 13455 non-null  int64  \n",
            " 62  V19_A               13455 non-null  int64  \n",
            " 63  V19_B               13455 non-null  int64  \n",
            " 64  IX_TOT              13455 non-null  int64  \n",
            " 65  IX_MEN10            13455 non-null  int64  \n",
            " 66  IX_MAYEQ10          13455 non-null  int64  \n",
            " 67  ITF                 13455 non-null  int64  \n",
            " 68  DECIFR              13455 non-null  int64  \n",
            " 69  IDECIFR             11977 non-null  float64\n",
            " 70  RDECIFR             13455 non-null  int64  \n",
            " 71  GDECIFR             5698 non-null   float64\n",
            " 72  PDECIFR             7757 non-null   float64\n",
            " 73  ADECIFR             13455 non-null  int64  \n",
            " 74  IPCF                13455 non-null  float64\n",
            " 75  DECCFR              13455 non-null  int64  \n",
            " 76  IDECCFR             11977 non-null  float64\n",
            " 77  RDECCFR             13455 non-null  int64  \n",
            " 78  GDECCFR             5698 non-null   float64\n",
            " 79  PDECCFR             7757 non-null   float64\n",
            " 80  ADECCFR             13455 non-null  int64  \n",
            " 81  PONDIH              13455 non-null  int64  \n",
            " 82  VII1_1              13455 non-null  int64  \n",
            " 83  VII1_2              13455 non-null  int64  \n",
            " 84  VII2_1              13455 non-null  int64  \n",
            " 85  VII2_2              13455 non-null  int64  \n",
            " 86  VII2_3              13455 non-null  int64  \n",
            " 87  VII2_4              13455 non-null  int64  \n",
            " 88  parentesco          13455 non-null  int64  \n",
            " 89  genero              13455 non-null  int64  \n",
            " 90  edad                13455 non-null  int64  \n",
            " 91  cob_medica          13455 non-null  int64  \n",
            " 92  NIVEL_ED            13455 non-null  int64  \n",
            " 93  CAT_OCUP            13455 non-null  int64  \n",
            " 94  CAT_INAC            13455 non-null  int64  \n",
            " 95  AE_ctrol_ind        13455 non-null  float64\n",
            " 96  AE_ctrol_ind_sum    13455 non-null  float64\n",
            " 97  adulto_equivalente  13455 non-null  float64\n",
            " 98  pobreza             13455 non-null  int64  \n",
            "dtypes: float64(10), int64(82), object(7)\n",
            "memory usage: 10.3+ MB\n"
          ]
        }
      ],
      "source": [
        "df_dataset.info()"
      ]
    },
    {
      "cell_type": "code",
      "execution_count": 105,
      "metadata": {
        "id": "5o-H_FYlety4"
      },
      "outputs": [],
      "source": [
        "#de todas las columnas que indican localización dejamos solo Aglomerado\n",
        "#también quitamos año, trimestre y realizada\n",
        "#la variable de ponderación\n",
        "#todos los deciles\n",
        "#el % individual del jefe/a que reside en el hogar\n",
        "\n",
        "df_dataset = df_dataset.drop(['ANO4','TRIMESTRE','REALIZADA','REGION','MAS_500','PONDERA','DECIFR','IDECIFR','RDECIFR','GDECIFR','PDECIFR','ADECIFR','DECCFR','IDECCFR','RDECCFR','GDECCFR','PDECCFR','ADECCFR','PONDIH','AE_ctrol_ind'], axis=1)"
      ]
    },
    {
      "cell_type": "code",
      "execution_count": 106,
      "metadata": {
        "colab": {
          "base_uri": "https://localhost:8080/"
        },
        "id": "K5JZu3z_o_a8",
        "outputId": "38cb70f2-badb-4716-ac5f-9d4917f7888b"
      },
      "outputs": [
        {
          "output_type": "execute_result",
          "data": {
            "text/plain": [
              "(13455, 79)"
            ]
          },
          "metadata": {},
          "execution_count": 106
        }
      ],
      "source": [
        "df_dataset.shape"
      ]
    },
    {
      "cell_type": "code",
      "source": [
        "df_dataset.sort_values(by=['adulto_equivalente'])"
      ],
      "metadata": {
        "colab": {
          "base_uri": "https://localhost:8080/",
          "height": 487
        },
        "id": "w8k683cBiSpD",
        "outputId": "7cf44ba6-03cd-4457-f244-571696e77894"
      },
      "execution_count": 107,
      "outputs": [
        {
          "output_type": "execute_result",
          "data": {
            "text/plain": [
              "                              CODUSU  NRO_HOGAR  AGLOMERADO  IV1 IV1_ESP  IV2  \\\n",
              "11385  TQRMNORUVHKMKQCDEIJAH00719321          1          33    1     NaN    2   \n",
              "2856   TQRMNORSYHKMLPCDEHJGH00683376          1          23    1     NaN    5   \n",
              "8570   TQRMNORSPHKMLQCDEIJAH00663348          1          33    1     NaN    1   \n",
              "6381   TQRMNOQYWHMNQMCDEIJAH00719056          1          33    2     NaN    2   \n",
              "1430   TQRMNOPUTHMNLNCDEGGFB00715713          1          10    1     NaN    3   \n",
              "...                              ...        ...         ...  ...     ...  ...   \n",
              "15894  TQRMNORUQHJLLMCDEGJBF00675410          1          13    1     NaN    3   \n",
              "5351   TQRMNOPWSHKLOUCDEIJAH00663632          1          33    1     NaN    4   \n",
              "5094   TQRMNORUUHLMMOCDEFKID00714779          1           4    1     NaN    3   \n",
              "484    TQRMNOQUYHJOKMCDEIIAD00718213          1          32    2     NaN    4   \n",
              "5068   TQRMNOUTUHKNLSCDEIIAD00718373          1          32    2     NaN    3   \n",
              "\n",
              "       IV3 IV3_ESP  IV4  IV5  IV6  IV7 IV7_ESP  IV8  IV9  IV10  IV11  IV12_1  \\\n",
              "11385    1     NaN    4    1    1    2     NaN    1    1     1     3       2   \n",
              "2856     2     NaN    4    2    1    1     NaN    1    1     1     1       2   \n",
              "8570     2     NaN    2    2    1    1     NaN    1    1     2     3       2   \n",
              "6381     1     NaN    4    1    1    1     NaN    1    1     1     2       2   \n",
              "1430     1     NaN    1    1    1    1     NaN    1    1     1     1       2   \n",
              "...    ...     ...  ...  ...  ...  ...     ...  ...  ...   ...   ...     ...   \n",
              "15894    1     NaN    1    2    1    1     NaN    1    1     1     1       2   \n",
              "5351     1     NaN    1    1    1    1     NaN    1    1     1     1       2   \n",
              "5094     1     NaN    2    1    1    1     NaN    1    1     1     2       2   \n",
              "484      1     NaN    9    1    1    1     NaN    1    1     1     1       2   \n",
              "5068     1     NaN    2    1    1    1     NaN    1    1     1     1       2   \n",
              "\n",
              "       IV12_2  IV12_3  II1  II2  II3  II3_1  II4_1  II4_2  II4_3  II5  II5_1  \\\n",
              "11385       1       2    2    2    2      0      1      2      2    2      0   \n",
              "2856        2       2    5    4    2      0      1      2      2    2      0   \n",
              "8570        2       2    1    1    2      0      2      2      2    0      0   \n",
              "6381        2       2    2    1    2      0      1      2      1    2      0   \n",
              "1430        2       2    3    2    2      0      1      1      2    2      0   \n",
              "...       ...     ...  ...  ...  ...    ...    ...    ...    ...  ...    ...   \n",
              "15894       2       2    3    1    2      0      1      1      2    2      0   \n",
              "5351        2       2    4    1    2      0      1      1      1    2      0   \n",
              "5094        2       2    3    2    2      0      1      1      1    2      0   \n",
              "484         2       2    4    1    2      0      1      1      2    2      0   \n",
              "5068        2       2    3    2    2      0      1      2      1    2      0   \n",
              "\n",
              "       II6  II6_1  II7 II7_ESP  II8       II8_ESP  II9  V1  V2  V21  V22  V3  \\\n",
              "11385    2      0    1     NaN    2           NaN    1   9   9    2    2   9   \n",
              "2856     2      0    1     NaN    2           NaN    1   1   2    2    2   2   \n",
              "8570     0      0    1     NaN    2           NaN    1   1   2    2    2   2   \n",
              "6381     2      0    1     NaN    1           NaN    1   2   2    2    2   2   \n",
              "1430     2      0    3     NaN    1           NaN    1   1   2    2    2   2   \n",
              "...    ...    ...  ...     ...  ...           ...  ...  ..  ..  ...  ...  ..   \n",
              "15894    2      0    3     NaN    1           NaN    1   1   2    2    2   2   \n",
              "5351     2      0    1     NaN    1           NaN    1   1   2    2    2   2   \n",
              "5094     2      0    3     NaN    1           NaN    1   1   2    2    2   2   \n",
              "484      2      0    1     NaN    4  ELECTRICIDAD    1   2   1    2    2   2   \n",
              "5068     2      0    3     NaN    1           NaN    1   1   2    2    2   2   \n",
              "\n",
              "       V4  V5  V6  V7  V8  V9  V10  V11  V12  V13  V14  V15  V16  V17  V18  \\\n",
              "11385   9   9   9   9   9   9    9    9    9    9    9    9    9    9    9   \n",
              "2856    2   2   2   2   2   2    2    2    2    1    1    2    1    1    2   \n",
              "8570    2   2   2   1   2   2    2    2    2    2    2    2    2    2    2   \n",
              "6381    2   2   2   2   1   2    2    2    2    1    2    2    2    2    2   \n",
              "1430    2   2   2   2   2   2    2    2    2    1    2    2    2    2    2   \n",
              "...    ..  ..  ..  ..  ..  ..  ...  ...  ...  ...  ...  ...  ...  ...  ...   \n",
              "15894   2   2   2   2   2   2    2    2    2    2    2    2    2    2    1   \n",
              "5351    2   2   2   2   2   2    1    2    2    1    2    2    1    2    2   \n",
              "5094    2   2   2   2   2   2    2    2    2    2    2    2    1    2    2   \n",
              "484     2   2   2   2   2   2    2    2    2    2    2    2    2    2    2   \n",
              "5068    2   2   2   2   1   2    2    2    2    1    2    1    1    2    2   \n",
              "\n",
              "       V19_A  V19_B  IX_TOT  IX_MEN10  IX_MAYEQ10      ITF        IPCF  \\\n",
              "11385      9      9       6         2           4     1000      166.67   \n",
              "2856       2      2       4         1           3     1800      450.00   \n",
              "8570       2      2       1         0           1      900      900.00   \n",
              "6381       2      2       1         0           1     1100     1100.00   \n",
              "1430       2      2       4         0           4     4800     1200.00   \n",
              "...      ...    ...     ...       ...         ...      ...         ...   \n",
              "15894      2      2       1         0           1   680000   680000.00   \n",
              "5351       2      2       1         0           1   750000   750000.00   \n",
              "5094       2      2       3         1           2  2301000   767000.00   \n",
              "484        2      2       1         0           1   770000   770000.00   \n",
              "5068       2      2       2         0           2  4035000  2017500.00   \n",
              "\n",
              "       VII1_1  VII1_2  VII2_1  VII2_2  VII2_3  VII2_4  parentesco  genero  \\\n",
              "11385       9       9       9       9       9       9           1       1   \n",
              "2856        1       0      98       0       0       0           1       2   \n",
              "8570        1       0      98       0       0       0           1       1   \n",
              "6381        1       0      98       0       0       0           1       1   \n",
              "1430        1       0       2       3       4       0           1       2   \n",
              "...       ...     ...     ...     ...     ...     ...         ...     ...   \n",
              "15894       1       0      98       0       0       0           1       1   \n",
              "5351       96       0      98       0       0       0           1       1   \n",
              "5094       96       0       1       2       0       0           1       1   \n",
              "484        96       0      98       0       0       0           1       2   \n",
              "5068       96       0      98       0       0       0           1       1   \n",
              "\n",
              "       edad  cob_medica  NIVEL_ED  CAT_OCUP  CAT_INAC  AE_ctrol_ind_sum  \\\n",
              "11385    23           4         4         2         0              4.29   \n",
              "2856     53           4         2         3         0              3.01   \n",
              "8570     52           4         3         2         0              1.00   \n",
              "6381     62           4         2         0         2              0.83   \n",
              "1430     32           1         3         3         0              3.43   \n",
              "...     ...         ...       ...       ...       ...               ...   \n",
              "15894    61           1         5         3         0              0.83   \n",
              "5351     65          12         4         3         0              0.83   \n",
              "5094     43           1         5         1         0              2.37   \n",
              "484      87           1         4         0         1              0.63   \n",
              "5068     45           2         6         1         0              1.90   \n",
              "\n",
              "       adulto_equivalente  pobreza  \n",
              "11385              233.10        1  \n",
              "2856               598.01        1  \n",
              "8570               900.00        1  \n",
              "6381              1325.30        1  \n",
              "1430              1399.42        1  \n",
              "...                   ...      ...  \n",
              "15894           819277.11        0  \n",
              "5351            903614.46        0  \n",
              "5094            970886.08        0  \n",
              "484            1222222.22        0  \n",
              "5068           2123684.21        0  \n",
              "\n",
              "[13455 rows x 79 columns]"
            ],
            "text/html": [
              "\n",
              "  <div id=\"df-539a00ef-1a2b-48df-acf8-31197d3fd207\">\n",
              "    <div class=\"colab-df-container\">\n",
              "      <div>\n",
              "<style scoped>\n",
              "    .dataframe tbody tr th:only-of-type {\n",
              "        vertical-align: middle;\n",
              "    }\n",
              "\n",
              "    .dataframe tbody tr th {\n",
              "        vertical-align: top;\n",
              "    }\n",
              "\n",
              "    .dataframe thead th {\n",
              "        text-align: right;\n",
              "    }\n",
              "</style>\n",
              "<table border=\"1\" class=\"dataframe\">\n",
              "  <thead>\n",
              "    <tr style=\"text-align: right;\">\n",
              "      <th></th>\n",
              "      <th>CODUSU</th>\n",
              "      <th>NRO_HOGAR</th>\n",
              "      <th>AGLOMERADO</th>\n",
              "      <th>IV1</th>\n",
              "      <th>IV1_ESP</th>\n",
              "      <th>IV2</th>\n",
              "      <th>IV3</th>\n",
              "      <th>IV3_ESP</th>\n",
              "      <th>IV4</th>\n",
              "      <th>IV5</th>\n",
              "      <th>IV6</th>\n",
              "      <th>IV7</th>\n",
              "      <th>IV7_ESP</th>\n",
              "      <th>IV8</th>\n",
              "      <th>IV9</th>\n",
              "      <th>IV10</th>\n",
              "      <th>IV11</th>\n",
              "      <th>IV12_1</th>\n",
              "      <th>IV12_2</th>\n",
              "      <th>IV12_3</th>\n",
              "      <th>II1</th>\n",
              "      <th>II2</th>\n",
              "      <th>II3</th>\n",
              "      <th>II3_1</th>\n",
              "      <th>II4_1</th>\n",
              "      <th>II4_2</th>\n",
              "      <th>II4_3</th>\n",
              "      <th>II5</th>\n",
              "      <th>II5_1</th>\n",
              "      <th>II6</th>\n",
              "      <th>II6_1</th>\n",
              "      <th>II7</th>\n",
              "      <th>II7_ESP</th>\n",
              "      <th>II8</th>\n",
              "      <th>II8_ESP</th>\n",
              "      <th>II9</th>\n",
              "      <th>V1</th>\n",
              "      <th>V2</th>\n",
              "      <th>V21</th>\n",
              "      <th>V22</th>\n",
              "      <th>V3</th>\n",
              "      <th>V4</th>\n",
              "      <th>V5</th>\n",
              "      <th>V6</th>\n",
              "      <th>V7</th>\n",
              "      <th>V8</th>\n",
              "      <th>V9</th>\n",
              "      <th>V10</th>\n",
              "      <th>V11</th>\n",
              "      <th>V12</th>\n",
              "      <th>V13</th>\n",
              "      <th>V14</th>\n",
              "      <th>V15</th>\n",
              "      <th>V16</th>\n",
              "      <th>V17</th>\n",
              "      <th>V18</th>\n",
              "      <th>V19_A</th>\n",
              "      <th>V19_B</th>\n",
              "      <th>IX_TOT</th>\n",
              "      <th>IX_MEN10</th>\n",
              "      <th>IX_MAYEQ10</th>\n",
              "      <th>ITF</th>\n",
              "      <th>IPCF</th>\n",
              "      <th>VII1_1</th>\n",
              "      <th>VII1_2</th>\n",
              "      <th>VII2_1</th>\n",
              "      <th>VII2_2</th>\n",
              "      <th>VII2_3</th>\n",
              "      <th>VII2_4</th>\n",
              "      <th>parentesco</th>\n",
              "      <th>genero</th>\n",
              "      <th>edad</th>\n",
              "      <th>cob_medica</th>\n",
              "      <th>NIVEL_ED</th>\n",
              "      <th>CAT_OCUP</th>\n",
              "      <th>CAT_INAC</th>\n",
              "      <th>AE_ctrol_ind_sum</th>\n",
              "      <th>adulto_equivalente</th>\n",
              "      <th>pobreza</th>\n",
              "    </tr>\n",
              "  </thead>\n",
              "  <tbody>\n",
              "    <tr>\n",
              "      <th>11385</th>\n",
              "      <td>TQRMNORUVHKMKQCDEIJAH00719321</td>\n",
              "      <td>1</td>\n",
              "      <td>33</td>\n",
              "      <td>1</td>\n",
              "      <td>NaN</td>\n",
              "      <td>2</td>\n",
              "      <td>1</td>\n",
              "      <td>NaN</td>\n",
              "      <td>4</td>\n",
              "      <td>1</td>\n",
              "      <td>1</td>\n",
              "      <td>2</td>\n",
              "      <td>NaN</td>\n",
              "      <td>1</td>\n",
              "      <td>1</td>\n",
              "      <td>1</td>\n",
              "      <td>3</td>\n",
              "      <td>2</td>\n",
              "      <td>1</td>\n",
              "      <td>2</td>\n",
              "      <td>2</td>\n",
              "      <td>2</td>\n",
              "      <td>2</td>\n",
              "      <td>0</td>\n",
              "      <td>1</td>\n",
              "      <td>2</td>\n",
              "      <td>2</td>\n",
              "      <td>2</td>\n",
              "      <td>0</td>\n",
              "      <td>2</td>\n",
              "      <td>0</td>\n",
              "      <td>1</td>\n",
              "      <td>NaN</td>\n",
              "      <td>2</td>\n",
              "      <td>NaN</td>\n",
              "      <td>1</td>\n",
              "      <td>9</td>\n",
              "      <td>9</td>\n",
              "      <td>2</td>\n",
              "      <td>2</td>\n",
              "      <td>9</td>\n",
              "      <td>9</td>\n",
              "      <td>9</td>\n",
              "      <td>9</td>\n",
              "      <td>9</td>\n",
              "      <td>9</td>\n",
              "      <td>9</td>\n",
              "      <td>9</td>\n",
              "      <td>9</td>\n",
              "      <td>9</td>\n",
              "      <td>9</td>\n",
              "      <td>9</td>\n",
              "      <td>9</td>\n",
              "      <td>9</td>\n",
              "      <td>9</td>\n",
              "      <td>9</td>\n",
              "      <td>9</td>\n",
              "      <td>9</td>\n",
              "      <td>6</td>\n",
              "      <td>2</td>\n",
              "      <td>4</td>\n",
              "      <td>1000</td>\n",
              "      <td>166.67</td>\n",
              "      <td>9</td>\n",
              "      <td>9</td>\n",
              "      <td>9</td>\n",
              "      <td>9</td>\n",
              "      <td>9</td>\n",
              "      <td>9</td>\n",
              "      <td>1</td>\n",
              "      <td>1</td>\n",
              "      <td>23</td>\n",
              "      <td>4</td>\n",
              "      <td>4</td>\n",
              "      <td>2</td>\n",
              "      <td>0</td>\n",
              "      <td>4.29</td>\n",
              "      <td>233.10</td>\n",
              "      <td>1</td>\n",
              "    </tr>\n",
              "    <tr>\n",
              "      <th>2856</th>\n",
              "      <td>TQRMNORSYHKMLPCDEHJGH00683376</td>\n",
              "      <td>1</td>\n",
              "      <td>23</td>\n",
              "      <td>1</td>\n",
              "      <td>NaN</td>\n",
              "      <td>5</td>\n",
              "      <td>2</td>\n",
              "      <td>NaN</td>\n",
              "      <td>4</td>\n",
              "      <td>2</td>\n",
              "      <td>1</td>\n",
              "      <td>1</td>\n",
              "      <td>NaN</td>\n",
              "      <td>1</td>\n",
              "      <td>1</td>\n",
              "      <td>1</td>\n",
              "      <td>1</td>\n",
              "      <td>2</td>\n",
              "      <td>2</td>\n",
              "      <td>2</td>\n",
              "      <td>5</td>\n",
              "      <td>4</td>\n",
              "      <td>2</td>\n",
              "      <td>0</td>\n",
              "      <td>1</td>\n",
              "      <td>2</td>\n",
              "      <td>2</td>\n",
              "      <td>2</td>\n",
              "      <td>0</td>\n",
              "      <td>2</td>\n",
              "      <td>0</td>\n",
              "      <td>1</td>\n",
              "      <td>NaN</td>\n",
              "      <td>2</td>\n",
              "      <td>NaN</td>\n",
              "      <td>1</td>\n",
              "      <td>1</td>\n",
              "      <td>2</td>\n",
              "      <td>2</td>\n",
              "      <td>2</td>\n",
              "      <td>2</td>\n",
              "      <td>2</td>\n",
              "      <td>2</td>\n",
              "      <td>2</td>\n",
              "      <td>2</td>\n",
              "      <td>2</td>\n",
              "      <td>2</td>\n",
              "      <td>2</td>\n",
              "      <td>2</td>\n",
              "      <td>2</td>\n",
              "      <td>1</td>\n",
              "      <td>1</td>\n",
              "      <td>2</td>\n",
              "      <td>1</td>\n",
              "      <td>1</td>\n",
              "      <td>2</td>\n",
              "      <td>2</td>\n",
              "      <td>2</td>\n",
              "      <td>4</td>\n",
              "      <td>1</td>\n",
              "      <td>3</td>\n",
              "      <td>1800</td>\n",
              "      <td>450.00</td>\n",
              "      <td>1</td>\n",
              "      <td>0</td>\n",
              "      <td>98</td>\n",
              "      <td>0</td>\n",
              "      <td>0</td>\n",
              "      <td>0</td>\n",
              "      <td>1</td>\n",
              "      <td>2</td>\n",
              "      <td>53</td>\n",
              "      <td>4</td>\n",
              "      <td>2</td>\n",
              "      <td>3</td>\n",
              "      <td>0</td>\n",
              "      <td>3.01</td>\n",
              "      <td>598.01</td>\n",
              "      <td>1</td>\n",
              "    </tr>\n",
              "    <tr>\n",
              "      <th>8570</th>\n",
              "      <td>TQRMNORSPHKMLQCDEIJAH00663348</td>\n",
              "      <td>1</td>\n",
              "      <td>33</td>\n",
              "      <td>1</td>\n",
              "      <td>NaN</td>\n",
              "      <td>1</td>\n",
              "      <td>2</td>\n",
              "      <td>NaN</td>\n",
              "      <td>2</td>\n",
              "      <td>2</td>\n",
              "      <td>1</td>\n",
              "      <td>1</td>\n",
              "      <td>NaN</td>\n",
              "      <td>1</td>\n",
              "      <td>1</td>\n",
              "      <td>2</td>\n",
              "      <td>3</td>\n",
              "      <td>2</td>\n",
              "      <td>2</td>\n",
              "      <td>2</td>\n",
              "      <td>1</td>\n",
              "      <td>1</td>\n",
              "      <td>2</td>\n",
              "      <td>0</td>\n",
              "      <td>2</td>\n",
              "      <td>2</td>\n",
              "      <td>2</td>\n",
              "      <td>0</td>\n",
              "      <td>0</td>\n",
              "      <td>0</td>\n",
              "      <td>0</td>\n",
              "      <td>1</td>\n",
              "      <td>NaN</td>\n",
              "      <td>2</td>\n",
              "      <td>NaN</td>\n",
              "      <td>1</td>\n",
              "      <td>1</td>\n",
              "      <td>2</td>\n",
              "      <td>2</td>\n",
              "      <td>2</td>\n",
              "      <td>2</td>\n",
              "      <td>2</td>\n",
              "      <td>2</td>\n",
              "      <td>2</td>\n",
              "      <td>1</td>\n",
              "      <td>2</td>\n",
              "      <td>2</td>\n",
              "      <td>2</td>\n",
              "      <td>2</td>\n",
              "      <td>2</td>\n",
              "      <td>2</td>\n",
              "      <td>2</td>\n",
              "      <td>2</td>\n",
              "      <td>2</td>\n",
              "      <td>2</td>\n",
              "      <td>2</td>\n",
              "      <td>2</td>\n",
              "      <td>2</td>\n",
              "      <td>1</td>\n",
              "      <td>0</td>\n",
              "      <td>1</td>\n",
              "      <td>900</td>\n",
              "      <td>900.00</td>\n",
              "      <td>1</td>\n",
              "      <td>0</td>\n",
              "      <td>98</td>\n",
              "      <td>0</td>\n",
              "      <td>0</td>\n",
              "      <td>0</td>\n",
              "      <td>1</td>\n",
              "      <td>1</td>\n",
              "      <td>52</td>\n",
              "      <td>4</td>\n",
              "      <td>3</td>\n",
              "      <td>2</td>\n",
              "      <td>0</td>\n",
              "      <td>1.00</td>\n",
              "      <td>900.00</td>\n",
              "      <td>1</td>\n",
              "    </tr>\n",
              "    <tr>\n",
              "      <th>6381</th>\n",
              "      <td>TQRMNOQYWHMNQMCDEIJAH00719056</td>\n",
              "      <td>1</td>\n",
              "      <td>33</td>\n",
              "      <td>2</td>\n",
              "      <td>NaN</td>\n",
              "      <td>2</td>\n",
              "      <td>1</td>\n",
              "      <td>NaN</td>\n",
              "      <td>4</td>\n",
              "      <td>1</td>\n",
              "      <td>1</td>\n",
              "      <td>1</td>\n",
              "      <td>NaN</td>\n",
              "      <td>1</td>\n",
              "      <td>1</td>\n",
              "      <td>1</td>\n",
              "      <td>2</td>\n",
              "      <td>2</td>\n",
              "      <td>2</td>\n",
              "      <td>2</td>\n",
              "      <td>2</td>\n",
              "      <td>1</td>\n",
              "      <td>2</td>\n",
              "      <td>0</td>\n",
              "      <td>1</td>\n",
              "      <td>2</td>\n",
              "      <td>1</td>\n",
              "      <td>2</td>\n",
              "      <td>0</td>\n",
              "      <td>2</td>\n",
              "      <td>0</td>\n",
              "      <td>1</td>\n",
              "      <td>NaN</td>\n",
              "      <td>1</td>\n",
              "      <td>NaN</td>\n",
              "      <td>1</td>\n",
              "      <td>2</td>\n",
              "      <td>2</td>\n",
              "      <td>2</td>\n",
              "      <td>2</td>\n",
              "      <td>2</td>\n",
              "      <td>2</td>\n",
              "      <td>2</td>\n",
              "      <td>2</td>\n",
              "      <td>2</td>\n",
              "      <td>1</td>\n",
              "      <td>2</td>\n",
              "      <td>2</td>\n",
              "      <td>2</td>\n",
              "      <td>2</td>\n",
              "      <td>1</td>\n",
              "      <td>2</td>\n",
              "      <td>2</td>\n",
              "      <td>2</td>\n",
              "      <td>2</td>\n",
              "      <td>2</td>\n",
              "      <td>2</td>\n",
              "      <td>2</td>\n",
              "      <td>1</td>\n",
              "      <td>0</td>\n",
              "      <td>1</td>\n",
              "      <td>1100</td>\n",
              "      <td>1100.00</td>\n",
              "      <td>1</td>\n",
              "      <td>0</td>\n",
              "      <td>98</td>\n",
              "      <td>0</td>\n",
              "      <td>0</td>\n",
              "      <td>0</td>\n",
              "      <td>1</td>\n",
              "      <td>1</td>\n",
              "      <td>62</td>\n",
              "      <td>4</td>\n",
              "      <td>2</td>\n",
              "      <td>0</td>\n",
              "      <td>2</td>\n",
              "      <td>0.83</td>\n",
              "      <td>1325.30</td>\n",
              "      <td>1</td>\n",
              "    </tr>\n",
              "    <tr>\n",
              "      <th>1430</th>\n",
              "      <td>TQRMNOPUTHMNLNCDEGGFB00715713</td>\n",
              "      <td>1</td>\n",
              "      <td>10</td>\n",
              "      <td>1</td>\n",
              "      <td>NaN</td>\n",
              "      <td>3</td>\n",
              "      <td>1</td>\n",
              "      <td>NaN</td>\n",
              "      <td>1</td>\n",
              "      <td>1</td>\n",
              "      <td>1</td>\n",
              "      <td>1</td>\n",
              "      <td>NaN</td>\n",
              "      <td>1</td>\n",
              "      <td>1</td>\n",
              "      <td>1</td>\n",
              "      <td>1</td>\n",
              "      <td>2</td>\n",
              "      <td>2</td>\n",
              "      <td>2</td>\n",
              "      <td>3</td>\n",
              "      <td>2</td>\n",
              "      <td>2</td>\n",
              "      <td>0</td>\n",
              "      <td>1</td>\n",
              "      <td>1</td>\n",
              "      <td>2</td>\n",
              "      <td>2</td>\n",
              "      <td>0</td>\n",
              "      <td>2</td>\n",
              "      <td>0</td>\n",
              "      <td>3</td>\n",
              "      <td>NaN</td>\n",
              "      <td>1</td>\n",
              "      <td>NaN</td>\n",
              "      <td>1</td>\n",
              "      <td>1</td>\n",
              "      <td>2</td>\n",
              "      <td>2</td>\n",
              "      <td>2</td>\n",
              "      <td>2</td>\n",
              "      <td>2</td>\n",
              "      <td>2</td>\n",
              "      <td>2</td>\n",
              "      <td>2</td>\n",
              "      <td>2</td>\n",
              "      <td>2</td>\n",
              "      <td>2</td>\n",
              "      <td>2</td>\n",
              "      <td>2</td>\n",
              "      <td>1</td>\n",
              "      <td>2</td>\n",
              "      <td>2</td>\n",
              "      <td>2</td>\n",
              "      <td>2</td>\n",
              "      <td>2</td>\n",
              "      <td>2</td>\n",
              "      <td>2</td>\n",
              "      <td>4</td>\n",
              "      <td>0</td>\n",
              "      <td>4</td>\n",
              "      <td>4800</td>\n",
              "      <td>1200.00</td>\n",
              "      <td>1</td>\n",
              "      <td>0</td>\n",
              "      <td>2</td>\n",
              "      <td>3</td>\n",
              "      <td>4</td>\n",
              "      <td>0</td>\n",
              "      <td>1</td>\n",
              "      <td>2</td>\n",
              "      <td>32</td>\n",
              "      <td>1</td>\n",
              "      <td>3</td>\n",
              "      <td>3</td>\n",
              "      <td>0</td>\n",
              "      <td>3.43</td>\n",
              "      <td>1399.42</td>\n",
              "      <td>1</td>\n",
              "    </tr>\n",
              "    <tr>\n",
              "      <th>...</th>\n",
              "      <td>...</td>\n",
              "      <td>...</td>\n",
              "      <td>...</td>\n",
              "      <td>...</td>\n",
              "      <td>...</td>\n",
              "      <td>...</td>\n",
              "      <td>...</td>\n",
              "      <td>...</td>\n",
              "      <td>...</td>\n",
              "      <td>...</td>\n",
              "      <td>...</td>\n",
              "      <td>...</td>\n",
              "      <td>...</td>\n",
              "      <td>...</td>\n",
              "      <td>...</td>\n",
              "      <td>...</td>\n",
              "      <td>...</td>\n",
              "      <td>...</td>\n",
              "      <td>...</td>\n",
              "      <td>...</td>\n",
              "      <td>...</td>\n",
              "      <td>...</td>\n",
              "      <td>...</td>\n",
              "      <td>...</td>\n",
              "      <td>...</td>\n",
              "      <td>...</td>\n",
              "      <td>...</td>\n",
              "      <td>...</td>\n",
              "      <td>...</td>\n",
              "      <td>...</td>\n",
              "      <td>...</td>\n",
              "      <td>...</td>\n",
              "      <td>...</td>\n",
              "      <td>...</td>\n",
              "      <td>...</td>\n",
              "      <td>...</td>\n",
              "      <td>...</td>\n",
              "      <td>...</td>\n",
              "      <td>...</td>\n",
              "      <td>...</td>\n",
              "      <td>...</td>\n",
              "      <td>...</td>\n",
              "      <td>...</td>\n",
              "      <td>...</td>\n",
              "      <td>...</td>\n",
              "      <td>...</td>\n",
              "      <td>...</td>\n",
              "      <td>...</td>\n",
              "      <td>...</td>\n",
              "      <td>...</td>\n",
              "      <td>...</td>\n",
              "      <td>...</td>\n",
              "      <td>...</td>\n",
              "      <td>...</td>\n",
              "      <td>...</td>\n",
              "      <td>...</td>\n",
              "      <td>...</td>\n",
              "      <td>...</td>\n",
              "      <td>...</td>\n",
              "      <td>...</td>\n",
              "      <td>...</td>\n",
              "      <td>...</td>\n",
              "      <td>...</td>\n",
              "      <td>...</td>\n",
              "      <td>...</td>\n",
              "      <td>...</td>\n",
              "      <td>...</td>\n",
              "      <td>...</td>\n",
              "      <td>...</td>\n",
              "      <td>...</td>\n",
              "      <td>...</td>\n",
              "      <td>...</td>\n",
              "      <td>...</td>\n",
              "      <td>...</td>\n",
              "      <td>...</td>\n",
              "      <td>...</td>\n",
              "      <td>...</td>\n",
              "      <td>...</td>\n",
              "      <td>...</td>\n",
              "    </tr>\n",
              "    <tr>\n",
              "      <th>15894</th>\n",
              "      <td>TQRMNORUQHJLLMCDEGJBF00675410</td>\n",
              "      <td>1</td>\n",
              "      <td>13</td>\n",
              "      <td>1</td>\n",
              "      <td>NaN</td>\n",
              "      <td>3</td>\n",
              "      <td>1</td>\n",
              "      <td>NaN</td>\n",
              "      <td>1</td>\n",
              "      <td>2</td>\n",
              "      <td>1</td>\n",
              "      <td>1</td>\n",
              "      <td>NaN</td>\n",
              "      <td>1</td>\n",
              "      <td>1</td>\n",
              "      <td>1</td>\n",
              "      <td>1</td>\n",
              "      <td>2</td>\n",
              "      <td>2</td>\n",
              "      <td>2</td>\n",
              "      <td>3</td>\n",
              "      <td>1</td>\n",
              "      <td>2</td>\n",
              "      <td>0</td>\n",
              "      <td>1</td>\n",
              "      <td>1</td>\n",
              "      <td>2</td>\n",
              "      <td>2</td>\n",
              "      <td>0</td>\n",
              "      <td>2</td>\n",
              "      <td>0</td>\n",
              "      <td>3</td>\n",
              "      <td>NaN</td>\n",
              "      <td>1</td>\n",
              "      <td>NaN</td>\n",
              "      <td>1</td>\n",
              "      <td>1</td>\n",
              "      <td>2</td>\n",
              "      <td>2</td>\n",
              "      <td>2</td>\n",
              "      <td>2</td>\n",
              "      <td>2</td>\n",
              "      <td>2</td>\n",
              "      <td>2</td>\n",
              "      <td>2</td>\n",
              "      <td>2</td>\n",
              "      <td>2</td>\n",
              "      <td>2</td>\n",
              "      <td>2</td>\n",
              "      <td>2</td>\n",
              "      <td>2</td>\n",
              "      <td>2</td>\n",
              "      <td>2</td>\n",
              "      <td>2</td>\n",
              "      <td>2</td>\n",
              "      <td>1</td>\n",
              "      <td>2</td>\n",
              "      <td>2</td>\n",
              "      <td>1</td>\n",
              "      <td>0</td>\n",
              "      <td>1</td>\n",
              "      <td>680000</td>\n",
              "      <td>680000.00</td>\n",
              "      <td>1</td>\n",
              "      <td>0</td>\n",
              "      <td>98</td>\n",
              "      <td>0</td>\n",
              "      <td>0</td>\n",
              "      <td>0</td>\n",
              "      <td>1</td>\n",
              "      <td>1</td>\n",
              "      <td>61</td>\n",
              "      <td>1</td>\n",
              "      <td>5</td>\n",
              "      <td>3</td>\n",
              "      <td>0</td>\n",
              "      <td>0.83</td>\n",
              "      <td>819277.11</td>\n",
              "      <td>0</td>\n",
              "    </tr>\n",
              "    <tr>\n",
              "      <th>5351</th>\n",
              "      <td>TQRMNOPWSHKLOUCDEIJAH00663632</td>\n",
              "      <td>1</td>\n",
              "      <td>33</td>\n",
              "      <td>1</td>\n",
              "      <td>NaN</td>\n",
              "      <td>4</td>\n",
              "      <td>1</td>\n",
              "      <td>NaN</td>\n",
              "      <td>1</td>\n",
              "      <td>1</td>\n",
              "      <td>1</td>\n",
              "      <td>1</td>\n",
              "      <td>NaN</td>\n",
              "      <td>1</td>\n",
              "      <td>1</td>\n",
              "      <td>1</td>\n",
              "      <td>1</td>\n",
              "      <td>2</td>\n",
              "      <td>2</td>\n",
              "      <td>2</td>\n",
              "      <td>4</td>\n",
              "      <td>1</td>\n",
              "      <td>2</td>\n",
              "      <td>0</td>\n",
              "      <td>1</td>\n",
              "      <td>1</td>\n",
              "      <td>1</td>\n",
              "      <td>2</td>\n",
              "      <td>0</td>\n",
              "      <td>2</td>\n",
              "      <td>0</td>\n",
              "      <td>1</td>\n",
              "      <td>NaN</td>\n",
              "      <td>1</td>\n",
              "      <td>NaN</td>\n",
              "      <td>1</td>\n",
              "      <td>1</td>\n",
              "      <td>2</td>\n",
              "      <td>2</td>\n",
              "      <td>2</td>\n",
              "      <td>2</td>\n",
              "      <td>2</td>\n",
              "      <td>2</td>\n",
              "      <td>2</td>\n",
              "      <td>2</td>\n",
              "      <td>2</td>\n",
              "      <td>2</td>\n",
              "      <td>1</td>\n",
              "      <td>2</td>\n",
              "      <td>2</td>\n",
              "      <td>1</td>\n",
              "      <td>2</td>\n",
              "      <td>2</td>\n",
              "      <td>1</td>\n",
              "      <td>2</td>\n",
              "      <td>2</td>\n",
              "      <td>2</td>\n",
              "      <td>2</td>\n",
              "      <td>1</td>\n",
              "      <td>0</td>\n",
              "      <td>1</td>\n",
              "      <td>750000</td>\n",
              "      <td>750000.00</td>\n",
              "      <td>96</td>\n",
              "      <td>0</td>\n",
              "      <td>98</td>\n",
              "      <td>0</td>\n",
              "      <td>0</td>\n",
              "      <td>0</td>\n",
              "      <td>1</td>\n",
              "      <td>1</td>\n",
              "      <td>65</td>\n",
              "      <td>12</td>\n",
              "      <td>4</td>\n",
              "      <td>3</td>\n",
              "      <td>0</td>\n",
              "      <td>0.83</td>\n",
              "      <td>903614.46</td>\n",
              "      <td>0</td>\n",
              "    </tr>\n",
              "    <tr>\n",
              "      <th>5094</th>\n",
              "      <td>TQRMNORUUHLMMOCDEFKID00714779</td>\n",
              "      <td>1</td>\n",
              "      <td>4</td>\n",
              "      <td>1</td>\n",
              "      <td>NaN</td>\n",
              "      <td>3</td>\n",
              "      <td>1</td>\n",
              "      <td>NaN</td>\n",
              "      <td>2</td>\n",
              "      <td>1</td>\n",
              "      <td>1</td>\n",
              "      <td>1</td>\n",
              "      <td>NaN</td>\n",
              "      <td>1</td>\n",
              "      <td>1</td>\n",
              "      <td>1</td>\n",
              "      <td>2</td>\n",
              "      <td>2</td>\n",
              "      <td>2</td>\n",
              "      <td>2</td>\n",
              "      <td>3</td>\n",
              "      <td>2</td>\n",
              "      <td>2</td>\n",
              "      <td>0</td>\n",
              "      <td>1</td>\n",
              "      <td>1</td>\n",
              "      <td>1</td>\n",
              "      <td>2</td>\n",
              "      <td>0</td>\n",
              "      <td>2</td>\n",
              "      <td>0</td>\n",
              "      <td>3</td>\n",
              "      <td>NaN</td>\n",
              "      <td>1</td>\n",
              "      <td>NaN</td>\n",
              "      <td>1</td>\n",
              "      <td>1</td>\n",
              "      <td>2</td>\n",
              "      <td>2</td>\n",
              "      <td>2</td>\n",
              "      <td>2</td>\n",
              "      <td>2</td>\n",
              "      <td>2</td>\n",
              "      <td>2</td>\n",
              "      <td>2</td>\n",
              "      <td>2</td>\n",
              "      <td>2</td>\n",
              "      <td>2</td>\n",
              "      <td>2</td>\n",
              "      <td>2</td>\n",
              "      <td>2</td>\n",
              "      <td>2</td>\n",
              "      <td>2</td>\n",
              "      <td>1</td>\n",
              "      <td>2</td>\n",
              "      <td>2</td>\n",
              "      <td>2</td>\n",
              "      <td>2</td>\n",
              "      <td>3</td>\n",
              "      <td>1</td>\n",
              "      <td>2</td>\n",
              "      <td>2301000</td>\n",
              "      <td>767000.00</td>\n",
              "      <td>96</td>\n",
              "      <td>0</td>\n",
              "      <td>1</td>\n",
              "      <td>2</td>\n",
              "      <td>0</td>\n",
              "      <td>0</td>\n",
              "      <td>1</td>\n",
              "      <td>1</td>\n",
              "      <td>43</td>\n",
              "      <td>1</td>\n",
              "      <td>5</td>\n",
              "      <td>1</td>\n",
              "      <td>0</td>\n",
              "      <td>2.37</td>\n",
              "      <td>970886.08</td>\n",
              "      <td>0</td>\n",
              "    </tr>\n",
              "    <tr>\n",
              "      <th>484</th>\n",
              "      <td>TQRMNOQUYHJOKMCDEIIAD00718213</td>\n",
              "      <td>1</td>\n",
              "      <td>32</td>\n",
              "      <td>2</td>\n",
              "      <td>NaN</td>\n",
              "      <td>4</td>\n",
              "      <td>1</td>\n",
              "      <td>NaN</td>\n",
              "      <td>9</td>\n",
              "      <td>1</td>\n",
              "      <td>1</td>\n",
              "      <td>1</td>\n",
              "      <td>NaN</td>\n",
              "      <td>1</td>\n",
              "      <td>1</td>\n",
              "      <td>1</td>\n",
              "      <td>1</td>\n",
              "      <td>2</td>\n",
              "      <td>2</td>\n",
              "      <td>2</td>\n",
              "      <td>4</td>\n",
              "      <td>1</td>\n",
              "      <td>2</td>\n",
              "      <td>0</td>\n",
              "      <td>1</td>\n",
              "      <td>1</td>\n",
              "      <td>2</td>\n",
              "      <td>2</td>\n",
              "      <td>0</td>\n",
              "      <td>2</td>\n",
              "      <td>0</td>\n",
              "      <td>1</td>\n",
              "      <td>NaN</td>\n",
              "      <td>4</td>\n",
              "      <td>ELECTRICIDAD</td>\n",
              "      <td>1</td>\n",
              "      <td>2</td>\n",
              "      <td>1</td>\n",
              "      <td>2</td>\n",
              "      <td>2</td>\n",
              "      <td>2</td>\n",
              "      <td>2</td>\n",
              "      <td>2</td>\n",
              "      <td>2</td>\n",
              "      <td>2</td>\n",
              "      <td>2</td>\n",
              "      <td>2</td>\n",
              "      <td>2</td>\n",
              "      <td>2</td>\n",
              "      <td>2</td>\n",
              "      <td>2</td>\n",
              "      <td>2</td>\n",
              "      <td>2</td>\n",
              "      <td>2</td>\n",
              "      <td>2</td>\n",
              "      <td>2</td>\n",
              "      <td>2</td>\n",
              "      <td>2</td>\n",
              "      <td>1</td>\n",
              "      <td>0</td>\n",
              "      <td>1</td>\n",
              "      <td>770000</td>\n",
              "      <td>770000.00</td>\n",
              "      <td>96</td>\n",
              "      <td>0</td>\n",
              "      <td>98</td>\n",
              "      <td>0</td>\n",
              "      <td>0</td>\n",
              "      <td>0</td>\n",
              "      <td>1</td>\n",
              "      <td>2</td>\n",
              "      <td>87</td>\n",
              "      <td>1</td>\n",
              "      <td>4</td>\n",
              "      <td>0</td>\n",
              "      <td>1</td>\n",
              "      <td>0.63</td>\n",
              "      <td>1222222.22</td>\n",
              "      <td>0</td>\n",
              "    </tr>\n",
              "    <tr>\n",
              "      <th>5068</th>\n",
              "      <td>TQRMNOUTUHKNLSCDEIIAD00718373</td>\n",
              "      <td>1</td>\n",
              "      <td>32</td>\n",
              "      <td>2</td>\n",
              "      <td>NaN</td>\n",
              "      <td>3</td>\n",
              "      <td>1</td>\n",
              "      <td>NaN</td>\n",
              "      <td>2</td>\n",
              "      <td>1</td>\n",
              "      <td>1</td>\n",
              "      <td>1</td>\n",
              "      <td>NaN</td>\n",
              "      <td>1</td>\n",
              "      <td>1</td>\n",
              "      <td>1</td>\n",
              "      <td>1</td>\n",
              "      <td>2</td>\n",
              "      <td>2</td>\n",
              "      <td>2</td>\n",
              "      <td>3</td>\n",
              "      <td>2</td>\n",
              "      <td>2</td>\n",
              "      <td>0</td>\n",
              "      <td>1</td>\n",
              "      <td>2</td>\n",
              "      <td>1</td>\n",
              "      <td>2</td>\n",
              "      <td>0</td>\n",
              "      <td>2</td>\n",
              "      <td>0</td>\n",
              "      <td>3</td>\n",
              "      <td>NaN</td>\n",
              "      <td>1</td>\n",
              "      <td>NaN</td>\n",
              "      <td>1</td>\n",
              "      <td>1</td>\n",
              "      <td>2</td>\n",
              "      <td>2</td>\n",
              "      <td>2</td>\n",
              "      <td>2</td>\n",
              "      <td>2</td>\n",
              "      <td>2</td>\n",
              "      <td>2</td>\n",
              "      <td>2</td>\n",
              "      <td>1</td>\n",
              "      <td>2</td>\n",
              "      <td>2</td>\n",
              "      <td>2</td>\n",
              "      <td>2</td>\n",
              "      <td>1</td>\n",
              "      <td>2</td>\n",
              "      <td>1</td>\n",
              "      <td>1</td>\n",
              "      <td>2</td>\n",
              "      <td>2</td>\n",
              "      <td>2</td>\n",
              "      <td>2</td>\n",
              "      <td>2</td>\n",
              "      <td>0</td>\n",
              "      <td>2</td>\n",
              "      <td>4035000</td>\n",
              "      <td>2017500.00</td>\n",
              "      <td>96</td>\n",
              "      <td>0</td>\n",
              "      <td>98</td>\n",
              "      <td>0</td>\n",
              "      <td>0</td>\n",
              "      <td>0</td>\n",
              "      <td>1</td>\n",
              "      <td>1</td>\n",
              "      <td>45</td>\n",
              "      <td>2</td>\n",
              "      <td>6</td>\n",
              "      <td>1</td>\n",
              "      <td>0</td>\n",
              "      <td>1.90</td>\n",
              "      <td>2123684.21</td>\n",
              "      <td>0</td>\n",
              "    </tr>\n",
              "  </tbody>\n",
              "</table>\n",
              "<p>13455 rows × 79 columns</p>\n",
              "</div>\n",
              "      <button class=\"colab-df-convert\" onclick=\"convertToInteractive('df-539a00ef-1a2b-48df-acf8-31197d3fd207')\"\n",
              "              title=\"Convert this dataframe to an interactive table.\"\n",
              "              style=\"display:none;\">\n",
              "        \n",
              "  <svg xmlns=\"http://www.w3.org/2000/svg\" height=\"24px\"viewBox=\"0 0 24 24\"\n",
              "       width=\"24px\">\n",
              "    <path d=\"M0 0h24v24H0V0z\" fill=\"none\"/>\n",
              "    <path d=\"M18.56 5.44l.94 2.06.94-2.06 2.06-.94-2.06-.94-.94-2.06-.94 2.06-2.06.94zm-11 1L8.5 8.5l.94-2.06 2.06-.94-2.06-.94L8.5 2.5l-.94 2.06-2.06.94zm10 10l.94 2.06.94-2.06 2.06-.94-2.06-.94-.94-2.06-.94 2.06-2.06.94z\"/><path d=\"M17.41 7.96l-1.37-1.37c-.4-.4-.92-.59-1.43-.59-.52 0-1.04.2-1.43.59L10.3 9.45l-7.72 7.72c-.78.78-.78 2.05 0 2.83L4 21.41c.39.39.9.59 1.41.59.51 0 1.02-.2 1.41-.59l7.78-7.78 2.81-2.81c.8-.78.8-2.07 0-2.86zM5.41 20L4 18.59l7.72-7.72 1.47 1.35L5.41 20z\"/>\n",
              "  </svg>\n",
              "      </button>\n",
              "      \n",
              "  <style>\n",
              "    .colab-df-container {\n",
              "      display:flex;\n",
              "      flex-wrap:wrap;\n",
              "      gap: 12px;\n",
              "    }\n",
              "\n",
              "    .colab-df-convert {\n",
              "      background-color: #E8F0FE;\n",
              "      border: none;\n",
              "      border-radius: 50%;\n",
              "      cursor: pointer;\n",
              "      display: none;\n",
              "      fill: #1967D2;\n",
              "      height: 32px;\n",
              "      padding: 0 0 0 0;\n",
              "      width: 32px;\n",
              "    }\n",
              "\n",
              "    .colab-df-convert:hover {\n",
              "      background-color: #E2EBFA;\n",
              "      box-shadow: 0px 1px 2px rgba(60, 64, 67, 0.3), 0px 1px 3px 1px rgba(60, 64, 67, 0.15);\n",
              "      fill: #174EA6;\n",
              "    }\n",
              "\n",
              "    [theme=dark] .colab-df-convert {\n",
              "      background-color: #3B4455;\n",
              "      fill: #D2E3FC;\n",
              "    }\n",
              "\n",
              "    [theme=dark] .colab-df-convert:hover {\n",
              "      background-color: #434B5C;\n",
              "      box-shadow: 0px 1px 3px 1px rgba(0, 0, 0, 0.15);\n",
              "      filter: drop-shadow(0px 1px 2px rgba(0, 0, 0, 0.3));\n",
              "      fill: #FFFFFF;\n",
              "    }\n",
              "  </style>\n",
              "\n",
              "      <script>\n",
              "        const buttonEl =\n",
              "          document.querySelector('#df-539a00ef-1a2b-48df-acf8-31197d3fd207 button.colab-df-convert');\n",
              "        buttonEl.style.display =\n",
              "          google.colab.kernel.accessAllowed ? 'block' : 'none';\n",
              "\n",
              "        async function convertToInteractive(key) {\n",
              "          const element = document.querySelector('#df-539a00ef-1a2b-48df-acf8-31197d3fd207');\n",
              "          const dataTable =\n",
              "            await google.colab.kernel.invokeFunction('convertToInteractive',\n",
              "                                                     [key], {});\n",
              "          if (!dataTable) return;\n",
              "\n",
              "          const docLinkHtml = 'Like what you see? Visit the ' +\n",
              "            '<a target=\"_blank\" href=https://colab.research.google.com/notebooks/data_table.ipynb>data table notebook</a>'\n",
              "            + ' to learn more about interactive tables.';\n",
              "          element.innerHTML = '';\n",
              "          dataTable['output_type'] = 'display_data';\n",
              "          await google.colab.output.renderOutput(dataTable, element);\n",
              "          const docLink = document.createElement('div');\n",
              "          docLink.innerHTML = docLinkHtml;\n",
              "          element.appendChild(docLink);\n",
              "        }\n",
              "      </script>\n",
              "    </div>\n",
              "  </div>\n",
              "  "
            ]
          },
          "metadata": {},
          "execution_count": 107
        }
      ]
    },
    {
      "cell_type": "markdown",
      "source": [
        "**Nulos**"
      ],
      "metadata": {
        "id": "XNDEQUlsW3MQ"
      }
    },
    {
      "cell_type": "code",
      "execution_count": 108,
      "metadata": {
        "id": "4XYqe1kE4k-7"
      },
      "outputs": [],
      "source": [
        "pd.set_option('max_rows', 80)\n",
        "pd.set_option('max_columns', 80)\n",
        "pd.set_option('display.width', 80)\n",
        "pd.set_option('display.max_colwidth', 80)"
      ]
    },
    {
      "cell_type": "code",
      "execution_count": 109,
      "metadata": {
        "id": "7Z4eH2RdyeHW"
      },
      "outputs": [],
      "source": [
        "nulos = df_dataset.isnull().sum()"
      ]
    },
    {
      "cell_type": "code",
      "execution_count": 110,
      "metadata": {
        "colab": {
          "base_uri": "https://localhost:8080/"
        },
        "id": "27vzYP0_lAQn",
        "outputId": "846072a4-30e5-426d-d5f7-a32de92421cc"
      },
      "outputs": [
        {
          "output_type": "execute_result",
          "data": {
            "text/plain": [
              "CODUSU                    0\n",
              "NRO_HOGAR                 0\n",
              "AGLOMERADO                0\n",
              "IV1                       0\n",
              "IV1_ESP               13426\n",
              "IV2                       0\n",
              "IV3                       0\n",
              "IV3_ESP               13428\n",
              "IV4                       0\n",
              "IV5                       0\n",
              "IV6                       0\n",
              "IV7                       0\n",
              "IV7_ESP               13438\n",
              "IV8                       0\n",
              "IV9                       0\n",
              "IV10                      0\n",
              "IV11                      0\n",
              "IV12_1                    0\n",
              "IV12_2                    0\n",
              "IV12_3                    0\n",
              "II1                       0\n",
              "II2                       0\n",
              "II3                       0\n",
              "II3_1                     0\n",
              "II4_1                     0\n",
              "II4_2                     0\n",
              "II4_3                     0\n",
              "II5                       0\n",
              "II5_1                     0\n",
              "II6                       0\n",
              "II6_1                     0\n",
              "II7                       0\n",
              "II7_ESP               13436\n",
              "II8                       0\n",
              "II8_ESP               13348\n",
              "II9                       0\n",
              "V1                        0\n",
              "V2                        0\n",
              "V21                       0\n",
              "V22                       0\n",
              "V3                        0\n",
              "V4                        0\n",
              "V5                        0\n",
              "V6                        0\n",
              "V7                        0\n",
              "V8                        0\n",
              "V9                        0\n",
              "V10                       0\n",
              "V11                       0\n",
              "V12                       0\n",
              "V13                       0\n",
              "V14                       0\n",
              "V15                       0\n",
              "V16                       0\n",
              "V17                       0\n",
              "V18                       0\n",
              "V19_A                     0\n",
              "V19_B                     0\n",
              "IX_TOT                    0\n",
              "IX_MEN10                  0\n",
              "IX_MAYEQ10                0\n",
              "ITF                       0\n",
              "IPCF                      0\n",
              "VII1_1                    0\n",
              "VII1_2                    0\n",
              "VII2_1                    0\n",
              "VII2_2                    0\n",
              "VII2_3                    0\n",
              "VII2_4                    0\n",
              "parentesco                0\n",
              "genero                    0\n",
              "edad                      0\n",
              "cob_medica                0\n",
              "NIVEL_ED                  0\n",
              "CAT_OCUP                  0\n",
              "CAT_INAC                  0\n",
              "AE_ctrol_ind_sum          0\n",
              "adulto_equivalente        0\n",
              "pobreza                   0\n",
              "dtype: int64"
            ]
          },
          "metadata": {},
          "execution_count": 110
        }
      ],
      "source": [
        "nulos"
      ]
    },
    {
      "cell_type": "code",
      "execution_count": 111,
      "metadata": {
        "colab": {
          "base_uri": "https://localhost:8080/"
        },
        "id": "Q_UTWEu8vold",
        "outputId": "9bca728a-4487-4d61-cbbb-8a5b8b67e49d"
      },
      "outputs": [
        {
          "output_type": "execute_result",
          "data": {
            "text/plain": [
              "IV1_ESP     29\n",
              "IV3_ESP     27\n",
              "IV7_ESP     17\n",
              "II7_ESP     19\n",
              "II8_ESP    107\n",
              "dtype: int64"
            ]
          },
          "metadata": {},
          "execution_count": 111
        }
      ],
      "source": [
        "# vemos que las variables que tienen valores nulos son \n",
        "#IV1_ESP, IV3_ESP, IV7_ESP, II7_ESP, II8_ESP\n",
        "\n",
        "#analizamos la cantidad que hay en cada una de ellas\n",
        "\n",
        "df_dataset[['IV1_ESP','IV3_ESP','IV7_ESP','II7_ESP','II8_ESP']].notnull().sum()\n"
      ]
    },
    {
      "cell_type": "code",
      "execution_count": 112,
      "metadata": {
        "id": "tN-ULNdJ9ADp"
      },
      "outputs": [],
      "source": [
        "\"\"\"\n",
        "La variable IV1 refiere al tipo de vivienda y tiene los valores desde el 1 al 6. \n",
        "Este último refiere a \"otro\" y en IV1_ESP se especifica la misma.\n",
        "\n",
        "La variable IV3 identifica los pisos y va los valores desde el 1 al 4. \n",
        "Este último refiere a \"otro\" y en IV3_ESP se especifica la misma.\n",
        "\n",
        "La variable IV7 es la fuente del agua y va del 1 al 4. \n",
        "Este último refiere a \"otro\" y en IV_ESP se especifica la misma.\n",
        "\n",
        "a variable II7 es el régimen de tenencia de la propiedad y va del 1 al 9. \n",
        "Este último refiere a \"otro\" y en II7_ESP se especifica la misma.\n",
        "\"\"\"\n",
        "# dada la escasa cantidad de valores presentes en estas variables no las vamos a tener en cuenta en este estudio\n",
        "\n",
        "df_dataset = df_dataset.drop(['IV1_ESP','IV3_ESP','IV7_ESP','II7_ESP'], axis=1)"
      ]
    },
    {
      "cell_type": "code",
      "source": [
        "df_dataset.shape"
      ],
      "metadata": {
        "colab": {
          "base_uri": "https://localhost:8080/"
        },
        "id": "ml6V4eI8Skly",
        "outputId": "c73a80e0-2022-4143-8619-c4698ad50136"
      },
      "execution_count": 113,
      "outputs": [
        {
          "output_type": "execute_result",
          "data": {
            "text/plain": [
              "(13455, 75)"
            ]
          },
          "metadata": {},
          "execution_count": 113
        }
      ]
    },
    {
      "cell_type": "code",
      "execution_count": 114,
      "metadata": {
        "colab": {
          "base_uri": "https://localhost:8080/"
        },
        "id": "eq5QsNTkixyZ",
        "outputId": "cc2bde5c-2302-434c-9663-a82a98682017"
      },
      "outputs": [
        {
          "output_type": "execute_result",
          "data": {
            "text/plain": [
              "1    8475\n",
              "2    4822\n",
              "4     107\n",
              "3      40\n",
              "0      11\n",
              "Name: II8, dtype: int64"
            ]
          },
          "metadata": {},
          "execution_count": 114
        }
      ],
      "source": [
        "\"\"\"\n",
        "La variable II8 es el combustible usado para cocina y va del 1 al 4. \n",
        "Este último refiere a \"otro\" y en II8_ESP se especifica la misma.\n",
        "\"\"\"\n",
        "# chequeamos cuántas veces aparece un valor en II8\n",
        "\n",
        "df_dataset['II8'].value_counts()"
      ]
    },
    {
      "cell_type": "markdown",
      "source": [
        "Vemos que hay filas con valores 0, los cuales vamos a cambiar por la mediana o la moda"
      ],
      "metadata": {
        "id": "kbbBnL5pMjnZ"
      }
    },
    {
      "cell_type": "code",
      "execution_count": 115,
      "metadata": {
        "colab": {
          "base_uri": "https://localhost:8080/"
        },
        "id": "E7_tgbtzpCzo",
        "outputId": "de40867e-c2f4-4cd6-d07d-d77feafd0633"
      },
      "outputs": [
        {
          "output_type": "execute_result",
          "data": {
            "text/plain": [
              "ELECTRICIDAD                                     29\n",
              "electricidad                                     25\n",
              "ELECTRICO                                        17\n",
              "ELECTRICA                                         6\n",
              "cocina electrica                                  4\n",
              "electrico                                         4\n",
              "COCINA ELECTRICA                                  3\n",
              "Electrica                                         2\n",
              "electrica                                         2\n",
              "COME EN LA CASA DE SU MADRE                       1\n",
              "electricista                                      1\n",
              "calentador                                        1\n",
              "CALENTADOR ELECTRICO                              1\n",
              "zepelin                                           1\n",
              "UTILIZAR GAS DE RED EN OTRA VIVIENDA              1\n",
              "utiliza la cocina de la madre                     1\n",
              "NO COCINA SU FAMILIA LE ALCANZA LA COMIDA O L     1\n",
              "olla electrica                                    1\n",
              "electico                                          1\n",
              "electricO                                         1\n",
              "garrafa a granel                                  1\n",
              "electricidad                                      1\n",
              "ANAFE                                             1\n",
              "NO COCINA                                         1\n",
              "Name: II8_ESP, dtype: int64"
            ]
          },
          "metadata": {},
          "execution_count": 115
        }
      ],
      "source": [
        "df_dataset['II8_ESP'].value_counts()"
      ]
    },
    {
      "cell_type": "code",
      "source": [
        "condiciones = [\n",
        "    (df_dataset['II8_ESP'] == 'ELECTRICIDAD') | (df_dataset['II8_ESP'] == 'electricidad') | (df_dataset['II8_ESP'] == 'ELECTRICO'),\n",
        "    (df_dataset['II8_ESP'] == 'ELECTRICA') | (df_dataset['II8_ESP'] == 'cocina electrica') | (df_dataset['II8_ESP'] == 'electrico'),\n",
        "    (df_dataset['II8_ESP'] == 'COCINA ELECTRICA') | (df_dataset['II8_ESP'] == 'Electrica') | (df_dataset['II8_ESP'] == 'electrica'),\n",
        "    (df_dataset['II8_ESP'] == 'COME EN LA CASA DE SU MADRE'),\n",
        "    (df_dataset['II8_ESP'] == 'electricista') | (df_dataset['II8_ESP'] == 'calentador') | (df_dataset['II8_ESP'] == 'CALENTADOR ELECTRICO'),\n",
        "    (df_dataset['II8_ESP'] == 'zepelin'),\n",
        "    (df_dataset['II8_ESP'] == 'UTILIZAR GAS DE RED EN OTRA VIVIENDA') | (df_dataset['II8_ESP'] == 'utiliza la cocina de la madre'),\n",
        "    (df_dataset['II8_ESP'] == 'olla electrica') | (df_dataset['II8_ESP'] == 'electico') | (df_dataset['II8_ESP'] == 'electricO'),  \n",
        "    (df_dataset['II8_ESP'] == 'garrafa a granel'),  \n",
        "    (df_dataset['II8_ESP'] == 'electricidad '),  \n",
        "    (df_dataset['II8_ESP'] == 'ANAFE') | (df_dataset['II8_ESP'] == 'NO COCINA'), \n",
        "    ]\n",
        "\n",
        "opciones = [5,5,5,4,5,4,1,5,2,5,4]"
      ],
      "metadata": {
        "id": "c-EIDPmCoyiW"
      },
      "execution_count": 116,
      "outputs": []
    },
    {
      "cell_type": "code",
      "source": [
        "df_dataset['II8_ESP']=np.select(condiciones,opciones)"
      ],
      "metadata": {
        "id": "fB9Gc-ssKGiF"
      },
      "execution_count": 117,
      "outputs": []
    },
    {
      "cell_type": "code",
      "source": [
        "condiciones8 = [\n",
        "    (df_dataset['II8'] == 0),\n",
        "    (df_dataset['II8'] == 1),\n",
        "    (df_dataset['II8'] == 2),\n",
        "    (df_dataset['II8'] == 3),\n",
        "    (df_dataset['II8'] == 4) & (df_dataset['II8_ESP'] == 0),\n",
        "    (df_dataset['II8'] == 4) & (df_dataset['II8_ESP'] == 1),\n",
        "    (df_dataset['II8'] == 4) & (df_dataset['II8_ESP'] == 2),\n",
        "    (df_dataset['II8'] == 4) & (df_dataset['II8_ESP'] == 4),\n",
        "    (df_dataset['II8'] == 4) & (df_dataset['II8_ESP'] == 5)\n",
        "   \n",
        "    ]\n",
        "\n",
        "opciones8 = [0,1,2,3,4,1,2,0,4]"
      ],
      "metadata": {
        "id": "NyQz7BSEpIOE"
      },
      "execution_count": 118,
      "outputs": []
    },
    {
      "cell_type": "code",
      "source": [
        "df_dataset['II8']=np.select(condiciones8,opciones8)"
      ],
      "metadata": {
        "id": "_JRZWhpso7Tm"
      },
      "execution_count": 119,
      "outputs": []
    },
    {
      "cell_type": "code",
      "execution_count": 120,
      "metadata": {
        "colab": {
          "base_uri": "https://localhost:8080/"
        },
        "id": "Zpp2fCV9revL",
        "outputId": "6fce002b-e7f4-45f2-d106-7a54385ae20f"
      },
      "outputs": [
        {
          "output_type": "execute_result",
          "data": {
            "text/plain": [
              "1    8477\n",
              "2    4823\n",
              "4     100\n",
              "3      40\n",
              "0      15\n",
              "Name: II8, dtype: int64"
            ]
          },
          "metadata": {},
          "execution_count": 120
        }
      ],
      "source": [
        "df_dataset['II8'].value_counts()"
      ]
    },
    {
      "cell_type": "code",
      "source": [
        "# borramos la variable II8_ESP\n",
        "\n",
        "df_dataset = df_dataset.drop(['II8_ESP'], axis=1)"
      ],
      "metadata": {
        "id": "KUrD7mftpy0x"
      },
      "execution_count": 121,
      "outputs": []
    },
    {
      "cell_type": "markdown",
      "source": [
        "**Variables numéricas**"
      ],
      "metadata": {
        "id": "iEmXZxh0XD_X"
      }
    },
    {
      "cell_type": "code",
      "source": [
        "#Analizamos las variables numéricas\n",
        "\n",
        "numerical = [var for var in df_dataset.columns if df_dataset[var].dtype!='O']\n",
        "# view summary statistics in numerical variables\n",
        "print(round(df_dataset[numerical].describe()),2)"
      ],
      "metadata": {
        "colab": {
          "base_uri": "https://localhost:8080/"
        },
        "id": "DOJ_av8pXu-U",
        "outputId": "1f8df476-e77b-4974-932b-8130bbda891c"
      },
      "execution_count": 122,
      "outputs": [
        {
          "output_type": "stream",
          "name": "stdout",
          "text": [
            "       NRO_HOGAR  AGLOMERADO      IV1      IV2      IV3      IV4      IV5  \\\n",
            "count    13455.0     13455.0  13455.0  13455.0  13455.0  13455.0  13455.0   \n",
            "mean         1.0        25.0      1.0      3.0      1.0      3.0      1.0   \n",
            "std          2.0        20.0      0.0      1.0      0.0      2.0      0.0   \n",
            "min          1.0         2.0      1.0      1.0      1.0      1.0      1.0   \n",
            "25%          1.0        12.0      1.0      2.0      1.0      1.0      1.0   \n",
            "50%          1.0        22.0      1.0      3.0      1.0      2.0      1.0   \n",
            "75%          1.0        32.0      1.0      4.0      1.0      4.0      1.0   \n",
            "max         72.0        93.0      6.0     99.0      4.0      9.0      2.0   \n",
            "\n",
            "           IV6      IV7      IV8      IV9     IV10     IV11   IV12_1   IV12_2  \\\n",
            "count  13455.0  13455.0  13455.0  13455.0  13455.0  13455.0  13455.0  13455.0   \n",
            "mean       1.0      1.0      1.0      1.0      1.0      1.0      2.0      2.0   \n",
            "std        0.0      0.0      0.0      0.0      0.0      1.0      0.0      0.0   \n",
            "min        1.0      1.0      1.0      0.0      0.0      0.0      1.0      1.0   \n",
            "25%        1.0      1.0      1.0      1.0      1.0      1.0      2.0      2.0   \n",
            "50%        1.0      1.0      1.0      1.0      1.0      1.0      2.0      2.0   \n",
            "75%        1.0      1.0      1.0      1.0      1.0      1.0      2.0      2.0   \n",
            "max        3.0      4.0      2.0      3.0      3.0      4.0      2.0      2.0   \n",
            "\n",
            "        IV12_3      II1      II2      II3    II3_1    II4_1    II4_2    II4_3  \\\n",
            "count  13455.0  13455.0  13455.0  13455.0  13455.0  13455.0  13455.0  13455.0   \n",
            "mean       2.0      3.0      2.0      2.0      0.0      1.0      2.0      2.0   \n",
            "std        0.0      1.0      1.0      0.0      0.0      0.0      0.0      0.0   \n",
            "min        1.0      0.0      0.0      0.0      0.0      0.0      0.0      0.0   \n",
            "25%        2.0      2.0      1.0      2.0      0.0      1.0      1.0      1.0   \n",
            "50%        2.0      3.0      2.0      2.0      0.0      1.0      2.0      2.0   \n",
            "75%        2.0      4.0      2.0      2.0      0.0      1.0      2.0      2.0   \n",
            "max        2.0     47.0      7.0      2.0      3.0      2.0      2.0      2.0   \n",
            "\n",
            "           II5    II5_1      II6    II6_1      II7      II8      II9       V1  \\\n",
            "count  13455.0  13455.0  13455.0  13455.0  13455.0  13455.0  13455.0  13455.0   \n",
            "mean       2.0      0.0      2.0      0.0      2.0      1.0      1.0      1.0   \n",
            "std        0.0      0.0      0.0      0.0      2.0      1.0      0.0      0.0   \n",
            "min        0.0      0.0      0.0      0.0      0.0      0.0      0.0      1.0   \n",
            "25%        2.0      0.0      2.0      0.0      1.0      1.0      1.0      1.0   \n",
            "50%        2.0      0.0      2.0      0.0      1.0      1.0      1.0      1.0   \n",
            "75%        2.0      0.0      2.0      0.0      3.0      2.0      1.0      1.0   \n",
            "max        2.0      2.0      2.0      3.0      9.0      4.0      4.0      9.0   \n",
            "\n",
            "            V2      V21      V22       V3       V4       V5       V6       V7  \\\n",
            "count  13455.0  13455.0  13455.0  13455.0  13455.0  13455.0  13455.0  13455.0   \n",
            "mean       2.0      2.0      2.0      2.0      2.0      2.0      2.0      2.0   \n",
            "std        0.0      0.0      0.0      0.0      0.0      0.0      0.0      0.0   \n",
            "min        1.0      1.0      1.0      1.0      1.0      1.0      1.0      1.0   \n",
            "25%        1.0      2.0      2.0      2.0      2.0      2.0      2.0      2.0   \n",
            "50%        2.0      2.0      2.0      2.0      2.0      2.0      2.0      2.0   \n",
            "75%        2.0      2.0      2.0      2.0      2.0      2.0      2.0      2.0   \n",
            "max        9.0      2.0      2.0      9.0      9.0      9.0      9.0      9.0   \n",
            "\n",
            "            V8       V9      V10      V11      V12      V13      V14      V15  \\\n",
            "count  13455.0  13455.0  13455.0  13455.0  13455.0  13455.0  13455.0  13455.0   \n",
            "mean       2.0      2.0      2.0      2.0      2.0      2.0      2.0      2.0   \n",
            "std        0.0      0.0      0.0      0.0      0.0      0.0      0.0      0.0   \n",
            "min        1.0      1.0      1.0      1.0      1.0      1.0      1.0      1.0   \n",
            "25%        2.0      2.0      2.0      2.0      2.0      1.0      2.0      2.0   \n",
            "50%        2.0      2.0      2.0      2.0      2.0      2.0      2.0      2.0   \n",
            "75%        2.0      2.0      2.0      2.0      2.0      2.0      2.0      2.0   \n",
            "max        9.0      9.0      9.0      9.0      9.0      9.0      9.0      9.0   \n",
            "\n",
            "           V16      V17      V18    V19_A    V19_B   IX_TOT  IX_MEN10  \\\n",
            "count  13455.0  13455.0  13455.0  13455.0  13455.0  13455.0   13455.0   \n",
            "mean       1.0      2.0      2.0      2.0      2.0      3.0       0.0   \n",
            "std        1.0      0.0      0.0      0.0      0.0      2.0       1.0   \n",
            "min        1.0      1.0      1.0      2.0      1.0      1.0       0.0   \n",
            "25%        1.0      2.0      2.0      2.0      2.0      2.0       0.0   \n",
            "50%        1.0      2.0      2.0      2.0      2.0      3.0       0.0   \n",
            "75%        2.0      2.0      2.0      2.0      2.0      4.0       1.0   \n",
            "max        9.0      9.0      9.0      9.0      9.0     14.0       6.0   \n",
            "\n",
            "       IX_MAYEQ10        ITF       IPCF   VII1_1   VII1_2   VII2_1   VII2_2  \\\n",
            "count     13455.0    13455.0    13455.0  13455.0  13455.0  13455.0  13455.0   \n",
            "mean          3.0    87032.0    36836.0      5.0      1.0     70.0      0.0   \n",
            "std           1.0    77319.0    38369.0     18.0      3.0     44.0      4.0   \n",
            "min           1.0      900.0      167.0      1.0      0.0      1.0      0.0   \n",
            "25%           2.0    45000.0    17500.0      1.0      0.0      3.0      0.0   \n",
            "50%           2.0    70000.0    27500.0      1.0      0.0     98.0      0.0   \n",
            "75%           3.0   109000.0    45000.0      2.0      0.0     98.0      0.0   \n",
            "max          12.0  4035000.0  2017500.0     98.0     98.0     98.0     98.0   \n",
            "\n",
            "        VII2_3   VII2_4  parentesco   genero     edad  cob_medica  NIVEL_ED  \\\n",
            "count  13455.0  13455.0     13455.0  13455.0  13455.0     13455.0   13455.0   \n",
            "mean       0.0      0.0         1.0      1.0     52.0         2.0       4.0   \n",
            "std        1.0      0.0         0.0      0.0     17.0         2.0       2.0   \n",
            "min        0.0      0.0         1.0      1.0     17.0         1.0       1.0   \n",
            "25%        0.0      0.0         1.0      1.0     39.0         1.0       2.0   \n",
            "50%        0.0      0.0         1.0      1.0     51.0         1.0       4.0   \n",
            "75%        0.0      0.0         1.0      2.0     65.0         2.0       5.0   \n",
            "max       98.0      9.0         1.0      2.0    100.0        23.0       7.0   \n",
            "\n",
            "       CAT_OCUP  CAT_INAC  AE_ctrol_ind_sum  adulto_equivalente  pobreza  \n",
            "count   13455.0   13455.0           13455.0             13455.0  13455.0  \n",
            "mean        2.0       1.0               2.0             45920.0      0.0  \n",
            "std         1.0       1.0               1.0             46362.0      0.0  \n",
            "min         0.0       0.0               1.0               233.0      0.0  \n",
            "25%         0.0       0.0               1.0             21510.0      0.0  \n",
            "50%         2.0       0.0               2.0             35036.0      0.0  \n",
            "75%         3.0       1.0               3.0             56818.0      1.0  \n",
            "max         4.0       7.0              11.0           2123684.0      1.0   2\n"
          ]
        }
      ]
    },
    {
      "cell_type": "code",
      "source": [
        "#analizamos la mediana\n",
        "\n",
        "df_dataset[numerical].median()"
      ],
      "metadata": {
        "colab": {
          "base_uri": "https://localhost:8080/"
        },
        "id": "VF2fNC1fqZp5",
        "outputId": "94705915-6b0f-4db2-f9bb-156d732e310c"
      },
      "execution_count": 123,
      "outputs": [
        {
          "output_type": "execute_result",
          "data": {
            "text/plain": [
              "NRO_HOGAR                 1.00\n",
              "AGLOMERADO               22.00\n",
              "IV1                       1.00\n",
              "IV2                       3.00\n",
              "IV3                       1.00\n",
              "IV4                       2.00\n",
              "IV5                       1.00\n",
              "IV6                       1.00\n",
              "IV7                       1.00\n",
              "IV8                       1.00\n",
              "IV9                       1.00\n",
              "IV10                      1.00\n",
              "IV11                      1.00\n",
              "IV12_1                    2.00\n",
              "IV12_2                    2.00\n",
              "IV12_3                    2.00\n",
              "II1                       3.00\n",
              "II2                       2.00\n",
              "II3                       2.00\n",
              "II3_1                     0.00\n",
              "II4_1                     1.00\n",
              "II4_2                     2.00\n",
              "II4_3                     2.00\n",
              "II5                       2.00\n",
              "II5_1                     0.00\n",
              "II6                       2.00\n",
              "II6_1                     0.00\n",
              "II7                       1.00\n",
              "II8                       1.00\n",
              "II9                       1.00\n",
              "V1                        1.00\n",
              "V2                        2.00\n",
              "V21                       2.00\n",
              "V22                       2.00\n",
              "V3                        2.00\n",
              "V4                        2.00\n",
              "V5                        2.00\n",
              "V6                        2.00\n",
              "V7                        2.00\n",
              "V8                        2.00\n",
              "V9                        2.00\n",
              "V10                       2.00\n",
              "V11                       2.00\n",
              "V12                       2.00\n",
              "V13                       2.00\n",
              "V14                       2.00\n",
              "V15                       2.00\n",
              "V16                       1.00\n",
              "V17                       2.00\n",
              "V18                       2.00\n",
              "V19_A                     2.00\n",
              "V19_B                     2.00\n",
              "IX_TOT                    3.00\n",
              "IX_MEN10                  0.00\n",
              "IX_MAYEQ10                2.00\n",
              "ITF                   70000.00\n",
              "IPCF                  27500.00\n",
              "VII1_1                    1.00\n",
              "VII1_2                    0.00\n",
              "VII2_1                   98.00\n",
              "VII2_2                    0.00\n",
              "VII2_3                    0.00\n",
              "VII2_4                    0.00\n",
              "parentesco                1.00\n",
              "genero                    1.00\n",
              "edad                     51.00\n",
              "cob_medica                1.00\n",
              "NIVEL_ED                  4.00\n",
              "CAT_OCUP                  2.00\n",
              "CAT_INAC                  0.00\n",
              "AE_ctrol_ind_sum          2.15\n",
              "adulto_equivalente    35036.50\n",
              "pobreza                   0.00\n",
              "dtype: float64"
            ]
          },
          "metadata": {},
          "execution_count": 123
        }
      ]
    },
    {
      "cell_type": "code",
      "source": [
        "#analizamos la moda\n",
        "\n",
        "df_dataset[numerical].mode()"
      ],
      "metadata": {
        "colab": {
          "base_uri": "https://localhost:8080/",
          "height": 145
        },
        "id": "xdtM926vsPf9",
        "outputId": "97108b57-f3c4-46b5-f33e-0eb7bec90500"
      },
      "execution_count": 124,
      "outputs": [
        {
          "output_type": "execute_result",
          "data": {
            "text/plain": [
              "   NRO_HOGAR  AGLOMERADO  IV1  IV2  IV3  IV4  IV5  IV6  IV7  IV8  IV9  IV10  \\\n",
              "0          1          33    1    3    1    4    1    1    1    1    1     1   \n",
              "\n",
              "   IV11  IV12_1  IV12_2  IV12_3  II1  II2  II3  II3_1  II4_1  II4_2  II4_3  \\\n",
              "0     1       2       2       2    3    1    2      0      1      2      2   \n",
              "\n",
              "   II5  II5_1  II6  II6_1  II7  II8  II9  V1  V2  V21  V22  V3  V4  V5  V6  \\\n",
              "0    2      0    2      0    1    1    1   1   2    2    2   2   2   2   2   \n",
              "\n",
              "   V7  V8  V9  V10  V11  V12  V13  V14  V15  V16  V17  V18  V19_A  V19_B  \\\n",
              "0   2   2   2    2    2    2    2    2    2    1    2    2      2      2   \n",
              "\n",
              "   IX_TOT  IX_MEN10  IX_MAYEQ10    ITF     IPCF  VII1_1  VII1_2  VII2_1  \\\n",
              "0       2         0           2  50000  25000.0       1       0      98   \n",
              "\n",
              "   VII2_2  VII2_3  VII2_4  parentesco  genero  edad  cob_medica  NIVEL_ED  \\\n",
              "0       0       0       0           1       1    50           1         4   \n",
              "\n",
              "   CAT_OCUP  CAT_INAC  AE_ctrol_ind_sum  adulto_equivalente  pobreza  \n",
              "0         3         0               1.0             50000.0        0  "
            ],
            "text/html": [
              "\n",
              "  <div id=\"df-08ec5e68-7a68-475d-8152-ac9417efcdb9\">\n",
              "    <div class=\"colab-df-container\">\n",
              "      <div>\n",
              "<style scoped>\n",
              "    .dataframe tbody tr th:only-of-type {\n",
              "        vertical-align: middle;\n",
              "    }\n",
              "\n",
              "    .dataframe tbody tr th {\n",
              "        vertical-align: top;\n",
              "    }\n",
              "\n",
              "    .dataframe thead th {\n",
              "        text-align: right;\n",
              "    }\n",
              "</style>\n",
              "<table border=\"1\" class=\"dataframe\">\n",
              "  <thead>\n",
              "    <tr style=\"text-align: right;\">\n",
              "      <th></th>\n",
              "      <th>NRO_HOGAR</th>\n",
              "      <th>AGLOMERADO</th>\n",
              "      <th>IV1</th>\n",
              "      <th>IV2</th>\n",
              "      <th>IV3</th>\n",
              "      <th>IV4</th>\n",
              "      <th>IV5</th>\n",
              "      <th>IV6</th>\n",
              "      <th>IV7</th>\n",
              "      <th>IV8</th>\n",
              "      <th>IV9</th>\n",
              "      <th>IV10</th>\n",
              "      <th>IV11</th>\n",
              "      <th>IV12_1</th>\n",
              "      <th>IV12_2</th>\n",
              "      <th>IV12_3</th>\n",
              "      <th>II1</th>\n",
              "      <th>II2</th>\n",
              "      <th>II3</th>\n",
              "      <th>II3_1</th>\n",
              "      <th>II4_1</th>\n",
              "      <th>II4_2</th>\n",
              "      <th>II4_3</th>\n",
              "      <th>II5</th>\n",
              "      <th>II5_1</th>\n",
              "      <th>II6</th>\n",
              "      <th>II6_1</th>\n",
              "      <th>II7</th>\n",
              "      <th>II8</th>\n",
              "      <th>II9</th>\n",
              "      <th>V1</th>\n",
              "      <th>V2</th>\n",
              "      <th>V21</th>\n",
              "      <th>V22</th>\n",
              "      <th>V3</th>\n",
              "      <th>V4</th>\n",
              "      <th>V5</th>\n",
              "      <th>V6</th>\n",
              "      <th>V7</th>\n",
              "      <th>V8</th>\n",
              "      <th>V9</th>\n",
              "      <th>V10</th>\n",
              "      <th>V11</th>\n",
              "      <th>V12</th>\n",
              "      <th>V13</th>\n",
              "      <th>V14</th>\n",
              "      <th>V15</th>\n",
              "      <th>V16</th>\n",
              "      <th>V17</th>\n",
              "      <th>V18</th>\n",
              "      <th>V19_A</th>\n",
              "      <th>V19_B</th>\n",
              "      <th>IX_TOT</th>\n",
              "      <th>IX_MEN10</th>\n",
              "      <th>IX_MAYEQ10</th>\n",
              "      <th>ITF</th>\n",
              "      <th>IPCF</th>\n",
              "      <th>VII1_1</th>\n",
              "      <th>VII1_2</th>\n",
              "      <th>VII2_1</th>\n",
              "      <th>VII2_2</th>\n",
              "      <th>VII2_3</th>\n",
              "      <th>VII2_4</th>\n",
              "      <th>parentesco</th>\n",
              "      <th>genero</th>\n",
              "      <th>edad</th>\n",
              "      <th>cob_medica</th>\n",
              "      <th>NIVEL_ED</th>\n",
              "      <th>CAT_OCUP</th>\n",
              "      <th>CAT_INAC</th>\n",
              "      <th>AE_ctrol_ind_sum</th>\n",
              "      <th>adulto_equivalente</th>\n",
              "      <th>pobreza</th>\n",
              "    </tr>\n",
              "  </thead>\n",
              "  <tbody>\n",
              "    <tr>\n",
              "      <th>0</th>\n",
              "      <td>1</td>\n",
              "      <td>33</td>\n",
              "      <td>1</td>\n",
              "      <td>3</td>\n",
              "      <td>1</td>\n",
              "      <td>4</td>\n",
              "      <td>1</td>\n",
              "      <td>1</td>\n",
              "      <td>1</td>\n",
              "      <td>1</td>\n",
              "      <td>1</td>\n",
              "      <td>1</td>\n",
              "      <td>1</td>\n",
              "      <td>2</td>\n",
              "      <td>2</td>\n",
              "      <td>2</td>\n",
              "      <td>3</td>\n",
              "      <td>1</td>\n",
              "      <td>2</td>\n",
              "      <td>0</td>\n",
              "      <td>1</td>\n",
              "      <td>2</td>\n",
              "      <td>2</td>\n",
              "      <td>2</td>\n",
              "      <td>0</td>\n",
              "      <td>2</td>\n",
              "      <td>0</td>\n",
              "      <td>1</td>\n",
              "      <td>1</td>\n",
              "      <td>1</td>\n",
              "      <td>1</td>\n",
              "      <td>2</td>\n",
              "      <td>2</td>\n",
              "      <td>2</td>\n",
              "      <td>2</td>\n",
              "      <td>2</td>\n",
              "      <td>2</td>\n",
              "      <td>2</td>\n",
              "      <td>2</td>\n",
              "      <td>2</td>\n",
              "      <td>2</td>\n",
              "      <td>2</td>\n",
              "      <td>2</td>\n",
              "      <td>2</td>\n",
              "      <td>2</td>\n",
              "      <td>2</td>\n",
              "      <td>2</td>\n",
              "      <td>1</td>\n",
              "      <td>2</td>\n",
              "      <td>2</td>\n",
              "      <td>2</td>\n",
              "      <td>2</td>\n",
              "      <td>2</td>\n",
              "      <td>0</td>\n",
              "      <td>2</td>\n",
              "      <td>50000</td>\n",
              "      <td>25000.0</td>\n",
              "      <td>1</td>\n",
              "      <td>0</td>\n",
              "      <td>98</td>\n",
              "      <td>0</td>\n",
              "      <td>0</td>\n",
              "      <td>0</td>\n",
              "      <td>1</td>\n",
              "      <td>1</td>\n",
              "      <td>50</td>\n",
              "      <td>1</td>\n",
              "      <td>4</td>\n",
              "      <td>3</td>\n",
              "      <td>0</td>\n",
              "      <td>1.0</td>\n",
              "      <td>50000.0</td>\n",
              "      <td>0</td>\n",
              "    </tr>\n",
              "  </tbody>\n",
              "</table>\n",
              "</div>\n",
              "      <button class=\"colab-df-convert\" onclick=\"convertToInteractive('df-08ec5e68-7a68-475d-8152-ac9417efcdb9')\"\n",
              "              title=\"Convert this dataframe to an interactive table.\"\n",
              "              style=\"display:none;\">\n",
              "        \n",
              "  <svg xmlns=\"http://www.w3.org/2000/svg\" height=\"24px\"viewBox=\"0 0 24 24\"\n",
              "       width=\"24px\">\n",
              "    <path d=\"M0 0h24v24H0V0z\" fill=\"none\"/>\n",
              "    <path d=\"M18.56 5.44l.94 2.06.94-2.06 2.06-.94-2.06-.94-.94-2.06-.94 2.06-2.06.94zm-11 1L8.5 8.5l.94-2.06 2.06-.94-2.06-.94L8.5 2.5l-.94 2.06-2.06.94zm10 10l.94 2.06.94-2.06 2.06-.94-2.06-.94-.94-2.06-.94 2.06-2.06.94z\"/><path d=\"M17.41 7.96l-1.37-1.37c-.4-.4-.92-.59-1.43-.59-.52 0-1.04.2-1.43.59L10.3 9.45l-7.72 7.72c-.78.78-.78 2.05 0 2.83L4 21.41c.39.39.9.59 1.41.59.51 0 1.02-.2 1.41-.59l7.78-7.78 2.81-2.81c.8-.78.8-2.07 0-2.86zM5.41 20L4 18.59l7.72-7.72 1.47 1.35L5.41 20z\"/>\n",
              "  </svg>\n",
              "      </button>\n",
              "      \n",
              "  <style>\n",
              "    .colab-df-container {\n",
              "      display:flex;\n",
              "      flex-wrap:wrap;\n",
              "      gap: 12px;\n",
              "    }\n",
              "\n",
              "    .colab-df-convert {\n",
              "      background-color: #E8F0FE;\n",
              "      border: none;\n",
              "      border-radius: 50%;\n",
              "      cursor: pointer;\n",
              "      display: none;\n",
              "      fill: #1967D2;\n",
              "      height: 32px;\n",
              "      padding: 0 0 0 0;\n",
              "      width: 32px;\n",
              "    }\n",
              "\n",
              "    .colab-df-convert:hover {\n",
              "      background-color: #E2EBFA;\n",
              "      box-shadow: 0px 1px 2px rgba(60, 64, 67, 0.3), 0px 1px 3px 1px rgba(60, 64, 67, 0.15);\n",
              "      fill: #174EA6;\n",
              "    }\n",
              "\n",
              "    [theme=dark] .colab-df-convert {\n",
              "      background-color: #3B4455;\n",
              "      fill: #D2E3FC;\n",
              "    }\n",
              "\n",
              "    [theme=dark] .colab-df-convert:hover {\n",
              "      background-color: #434B5C;\n",
              "      box-shadow: 0px 1px 3px 1px rgba(0, 0, 0, 0.15);\n",
              "      filter: drop-shadow(0px 1px 2px rgba(0, 0, 0, 0.3));\n",
              "      fill: #FFFFFF;\n",
              "    }\n",
              "  </style>\n",
              "\n",
              "      <script>\n",
              "        const buttonEl =\n",
              "          document.querySelector('#df-08ec5e68-7a68-475d-8152-ac9417efcdb9 button.colab-df-convert');\n",
              "        buttonEl.style.display =\n",
              "          google.colab.kernel.accessAllowed ? 'block' : 'none';\n",
              "\n",
              "        async function convertToInteractive(key) {\n",
              "          const element = document.querySelector('#df-08ec5e68-7a68-475d-8152-ac9417efcdb9');\n",
              "          const dataTable =\n",
              "            await google.colab.kernel.invokeFunction('convertToInteractive',\n",
              "                                                     [key], {});\n",
              "          if (!dataTable) return;\n",
              "\n",
              "          const docLinkHtml = 'Like what you see? Visit the ' +\n",
              "            '<a target=\"_blank\" href=https://colab.research.google.com/notebooks/data_table.ipynb>data table notebook</a>'\n",
              "            + ' to learn more about interactive tables.';\n",
              "          element.innerHTML = '';\n",
              "          dataTable['output_type'] = 'display_data';\n",
              "          await google.colab.output.renderOutput(dataTable, element);\n",
              "          const docLink = document.createElement('div');\n",
              "          docLink.innerHTML = docLinkHtml;\n",
              "          element.appendChild(docLink);\n",
              "        }\n",
              "      </script>\n",
              "    </div>\n",
              "  </div>\n",
              "  "
            ]
          },
          "metadata": {},
          "execution_count": 124
        }
      ]
    },
    {
      "cell_type": "markdown",
      "source": [
        "**Columnas que tienen valores 0 (que no corresponde)**"
      ],
      "metadata": {
        "id": "5hnnaqpfXIlr"
      }
    },
    {
      "cell_type": "code",
      "source": [
        "# buscamos las variables que tienen como mínimo 0\n",
        "\n",
        "minimo_cero = [var for var in df_dataset.columns if df_dataset[var].min() == 0]\n",
        "\n",
        "print('Hay {} variables con mínimo cero\\n'.format(len(minimo_cero)))\n",
        "\n",
        "print('Las variables con mínimo cero son:', minimo_cero)"
      ],
      "metadata": {
        "colab": {
          "base_uri": "https://localhost:8080/"
        },
        "id": "lxFmw7CF1353",
        "outputId": "393b1c39-07a6-4359-c074-d5b405bb9edc"
      },
      "execution_count": 125,
      "outputs": [
        {
          "output_type": "stream",
          "name": "stdout",
          "text": [
            "Hay 25 variables con mínimo cero\n",
            "\n",
            "Las variables con mínimo cero son: ['IV9', 'IV10', 'IV11', 'II1', 'II2', 'II3', 'II3_1', 'II4_1', 'II4_2', 'II4_3', 'II5', 'II5_1', 'II6', 'II6_1', 'II7', 'II8', 'II9', 'IX_MEN10', 'VII1_2', 'VII2_2', 'VII2_3', 'VII2_4', 'CAT_OCUP', 'CAT_INAC', 'pobreza']\n"
          ]
        }
      ]
    },
    {
      "cell_type": "code",
      "source": [
        "\"\"\"\n",
        "De éstas, las variables que no deberían tener valores = 0 son:\n",
        "'IV9', 'IV10', 'IV11'\n",
        "'II4_1', 'II4_2', 'II4_3'\n",
        "'II5'\n",
        "'II6'\n",
        "'II7', 'II8', 'II9'\n",
        "'CAT_OCUP' (en esta el 9 equivale a Ns/Nc)\n",
        "\"\"\"\n",
        "\n",
        "#cambiamos el 0 por 9 en CAT_OCUP\n",
        "\n",
        "df_dataset['CAT_OCUP'] = df_dataset['CAT_OCUP'].replace([0],9)\n"
      ],
      "metadata": {
        "id": "9gVihF6g7RBX"
      },
      "execution_count": 126,
      "outputs": []
    },
    {
      "cell_type": "code",
      "source": [
        "df_dataset['CAT_OCUP'].value_counts()"
      ],
      "metadata": {
        "colab": {
          "base_uri": "https://localhost:8080/"
        },
        "id": "J2ehCzgxUbTw",
        "outputId": "ddedab6e-f193-4426-bf36-bdee0cba9042"
      },
      "execution_count": 127,
      "outputs": [
        {
          "output_type": "execute_result",
          "data": {
            "text/plain": [
              "3    6107\n",
              "9    4932\n",
              "2    2042\n",
              "1     364\n",
              "4      10\n",
              "Name: CAT_OCUP, dtype: int64"
            ]
          },
          "metadata": {},
          "execution_count": 127
        }
      ]
    },
    {
      "cell_type": "code",
      "source": [
        "# las seleccionamos (excepto CAT_OCUP)\n",
        "\n",
        "minimo_cero = df_dataset[['CODUSU','NRO_HOGAR','IV9','IV10','IV11','II4_1','II4_2','II4_3','II5','II6','II7','II8','II9']]"
      ],
      "metadata": {
        "id": "O-zRiYE9UJEe"
      },
      "execution_count": 128,
      "outputs": []
    },
    {
      "cell_type": "code",
      "source": [
        "(minimo_cero==0).sum()"
      ],
      "metadata": {
        "colab": {
          "base_uri": "https://localhost:8080/"
        },
        "id": "cwF1hHfH6N9X",
        "outputId": "131ab818-e784-4b90-9906-32faaf19c848"
      },
      "execution_count": 129,
      "outputs": [
        {
          "output_type": "execute_result",
          "data": {
            "text/plain": [
              "CODUSU         0\n",
              "NRO_HOGAR      0\n",
              "IV9           41\n",
              "IV10          41\n",
              "IV11          41\n",
              "II4_1         11\n",
              "II4_2         11\n",
              "II4_3         11\n",
              "II5          815\n",
              "II6          815\n",
              "II7           11\n",
              "II8           15\n",
              "II9           11\n",
              "dtype: int64"
            ]
          },
          "metadata": {},
          "execution_count": 129
        }
      ]
    },
    {
      "cell_type": "code",
      "source": [
        "minimo_cero.median()"
      ],
      "metadata": {
        "colab": {
          "base_uri": "https://localhost:8080/"
        },
        "id": "lPysRrxy-D1d",
        "outputId": "d7855875-aa1b-43e0-a08c-77140e7cab2e"
      },
      "execution_count": 130,
      "outputs": [
        {
          "output_type": "execute_result",
          "data": {
            "text/plain": [
              "NRO_HOGAR    1.0\n",
              "IV9          1.0\n",
              "IV10         1.0\n",
              "IV11         1.0\n",
              "II4_1        1.0\n",
              "II4_2        2.0\n",
              "II4_3        2.0\n",
              "II5          2.0\n",
              "II6          2.0\n",
              "II7          1.0\n",
              "II8          1.0\n",
              "II9          1.0\n",
              "dtype: float64"
            ]
          },
          "metadata": {},
          "execution_count": 130
        }
      ]
    },
    {
      "cell_type": "code",
      "source": [
        "minimo_cero.mode()"
      ],
      "metadata": {
        "colab": {
          "base_uri": "https://localhost:8080/",
          "height": 81
        },
        "id": "1SuAQ7Us-G5x",
        "outputId": "ae1a3af5-821e-43a5-d119-575104f22a98"
      },
      "execution_count": 131,
      "outputs": [
        {
          "output_type": "execute_result",
          "data": {
            "text/plain": [
              "                          CODUSU  NRO_HOGAR  IV9  IV10  IV11  II4_1  II4_2  \\\n",
              "0  TQRMNORSYHLNLTCDEHJGH00717147          1    1     1     1      1      2   \n",
              "\n",
              "   II4_3  II5  II6  II7  II8  II9  \n",
              "0      2    2    2    1    1    1  "
            ],
            "text/html": [
              "\n",
              "  <div id=\"df-62a1ce01-65ba-4486-b093-325b887151d9\">\n",
              "    <div class=\"colab-df-container\">\n",
              "      <div>\n",
              "<style scoped>\n",
              "    .dataframe tbody tr th:only-of-type {\n",
              "        vertical-align: middle;\n",
              "    }\n",
              "\n",
              "    .dataframe tbody tr th {\n",
              "        vertical-align: top;\n",
              "    }\n",
              "\n",
              "    .dataframe thead th {\n",
              "        text-align: right;\n",
              "    }\n",
              "</style>\n",
              "<table border=\"1\" class=\"dataframe\">\n",
              "  <thead>\n",
              "    <tr style=\"text-align: right;\">\n",
              "      <th></th>\n",
              "      <th>CODUSU</th>\n",
              "      <th>NRO_HOGAR</th>\n",
              "      <th>IV9</th>\n",
              "      <th>IV10</th>\n",
              "      <th>IV11</th>\n",
              "      <th>II4_1</th>\n",
              "      <th>II4_2</th>\n",
              "      <th>II4_3</th>\n",
              "      <th>II5</th>\n",
              "      <th>II6</th>\n",
              "      <th>II7</th>\n",
              "      <th>II8</th>\n",
              "      <th>II9</th>\n",
              "    </tr>\n",
              "  </thead>\n",
              "  <tbody>\n",
              "    <tr>\n",
              "      <th>0</th>\n",
              "      <td>TQRMNORSYHLNLTCDEHJGH00717147</td>\n",
              "      <td>1</td>\n",
              "      <td>1</td>\n",
              "      <td>1</td>\n",
              "      <td>1</td>\n",
              "      <td>1</td>\n",
              "      <td>2</td>\n",
              "      <td>2</td>\n",
              "      <td>2</td>\n",
              "      <td>2</td>\n",
              "      <td>1</td>\n",
              "      <td>1</td>\n",
              "      <td>1</td>\n",
              "    </tr>\n",
              "  </tbody>\n",
              "</table>\n",
              "</div>\n",
              "      <button class=\"colab-df-convert\" onclick=\"convertToInteractive('df-62a1ce01-65ba-4486-b093-325b887151d9')\"\n",
              "              title=\"Convert this dataframe to an interactive table.\"\n",
              "              style=\"display:none;\">\n",
              "        \n",
              "  <svg xmlns=\"http://www.w3.org/2000/svg\" height=\"24px\"viewBox=\"0 0 24 24\"\n",
              "       width=\"24px\">\n",
              "    <path d=\"M0 0h24v24H0V0z\" fill=\"none\"/>\n",
              "    <path d=\"M18.56 5.44l.94 2.06.94-2.06 2.06-.94-2.06-.94-.94-2.06-.94 2.06-2.06.94zm-11 1L8.5 8.5l.94-2.06 2.06-.94-2.06-.94L8.5 2.5l-.94 2.06-2.06.94zm10 10l.94 2.06.94-2.06 2.06-.94-2.06-.94-.94-2.06-.94 2.06-2.06.94z\"/><path d=\"M17.41 7.96l-1.37-1.37c-.4-.4-.92-.59-1.43-.59-.52 0-1.04.2-1.43.59L10.3 9.45l-7.72 7.72c-.78.78-.78 2.05 0 2.83L4 21.41c.39.39.9.59 1.41.59.51 0 1.02-.2 1.41-.59l7.78-7.78 2.81-2.81c.8-.78.8-2.07 0-2.86zM5.41 20L4 18.59l7.72-7.72 1.47 1.35L5.41 20z\"/>\n",
              "  </svg>\n",
              "      </button>\n",
              "      \n",
              "  <style>\n",
              "    .colab-df-container {\n",
              "      display:flex;\n",
              "      flex-wrap:wrap;\n",
              "      gap: 12px;\n",
              "    }\n",
              "\n",
              "    .colab-df-convert {\n",
              "      background-color: #E8F0FE;\n",
              "      border: none;\n",
              "      border-radius: 50%;\n",
              "      cursor: pointer;\n",
              "      display: none;\n",
              "      fill: #1967D2;\n",
              "      height: 32px;\n",
              "      padding: 0 0 0 0;\n",
              "      width: 32px;\n",
              "    }\n",
              "\n",
              "    .colab-df-convert:hover {\n",
              "      background-color: #E2EBFA;\n",
              "      box-shadow: 0px 1px 2px rgba(60, 64, 67, 0.3), 0px 1px 3px 1px rgba(60, 64, 67, 0.15);\n",
              "      fill: #174EA6;\n",
              "    }\n",
              "\n",
              "    [theme=dark] .colab-df-convert {\n",
              "      background-color: #3B4455;\n",
              "      fill: #D2E3FC;\n",
              "    }\n",
              "\n",
              "    [theme=dark] .colab-df-convert:hover {\n",
              "      background-color: #434B5C;\n",
              "      box-shadow: 0px 1px 3px 1px rgba(0, 0, 0, 0.15);\n",
              "      filter: drop-shadow(0px 1px 2px rgba(0, 0, 0, 0.3));\n",
              "      fill: #FFFFFF;\n",
              "    }\n",
              "  </style>\n",
              "\n",
              "      <script>\n",
              "        const buttonEl =\n",
              "          document.querySelector('#df-62a1ce01-65ba-4486-b093-325b887151d9 button.colab-df-convert');\n",
              "        buttonEl.style.display =\n",
              "          google.colab.kernel.accessAllowed ? 'block' : 'none';\n",
              "\n",
              "        async function convertToInteractive(key) {\n",
              "          const element = document.querySelector('#df-62a1ce01-65ba-4486-b093-325b887151d9');\n",
              "          const dataTable =\n",
              "            await google.colab.kernel.invokeFunction('convertToInteractive',\n",
              "                                                     [key], {});\n",
              "          if (!dataTable) return;\n",
              "\n",
              "          const docLinkHtml = 'Like what you see? Visit the ' +\n",
              "            '<a target=\"_blank\" href=https://colab.research.google.com/notebooks/data_table.ipynb>data table notebook</a>'\n",
              "            + ' to learn more about interactive tables.';\n",
              "          element.innerHTML = '';\n",
              "          dataTable['output_type'] = 'display_data';\n",
              "          await google.colab.output.renderOutput(dataTable, element);\n",
              "          const docLink = document.createElement('div');\n",
              "          docLink.innerHTML = docLinkHtml;\n",
              "          element.appendChild(docLink);\n",
              "        }\n",
              "      </script>\n",
              "    </div>\n",
              "  </div>\n",
              "  "
            ]
          },
          "metadata": {},
          "execution_count": 131
        }
      ]
    },
    {
      "cell_type": "code",
      "source": [
        "#reemplazamos los valores cero por la moda\n",
        "\n",
        "for x in minimo_cero.columns:\n",
        "  minimo_cero[x] = minimo_cero[x].replace([0],minimo_cero[x].mode())  "
      ],
      "metadata": {
        "id": "50blNbwKN05_"
      },
      "execution_count": 132,
      "outputs": []
    },
    {
      "cell_type": "code",
      "source": [
        "minimo_cero.describe()"
      ],
      "metadata": {
        "colab": {
          "base_uri": "https://localhost:8080/",
          "height": 364
        },
        "id": "WVQH0nfJPRDZ",
        "outputId": "20307616-3eed-4f4d-fb8b-521603ea39d3"
      },
      "execution_count": 133,
      "outputs": [
        {
          "output_type": "execute_result",
          "data": {
            "text/plain": [
              "          NRO_HOGAR           IV9          IV10          IV11         II4_1  \\\n",
              "count  13455.000000  13455.000000  13455.000000  13455.000000  13455.000000   \n",
              "mean       1.081011      1.028614      1.040654      1.248086      1.087402   \n",
              "std        1.564948      0.167170      0.206330      0.536458      0.282434   \n",
              "min        1.000000      1.000000      1.000000      1.000000      1.000000   \n",
              "25%        1.000000      1.000000      1.000000      1.000000      1.000000   \n",
              "50%        1.000000      1.000000      1.000000      1.000000      1.000000   \n",
              "75%        1.000000      1.000000      1.000000      1.000000      1.000000   \n",
              "max       72.000000      3.000000      3.000000      4.000000      2.000000   \n",
              "\n",
              "              II4_2         II4_3           II5           II6           II7  \\\n",
              "count  13455.000000  13455.000000  13455.000000  13455.000000  13455.000000   \n",
              "mean       1.546265      1.677220      1.994649      1.990115      1.936455   \n",
              "std        0.497873      0.467557      0.072958      0.098933      1.602331   \n",
              "min        1.000000      1.000000      1.000000      1.000000      1.000000   \n",
              "25%        1.000000      1.000000      2.000000      2.000000      1.000000   \n",
              "50%        2.000000      2.000000      2.000000      2.000000      1.000000   \n",
              "75%        2.000000      2.000000      2.000000      2.000000      3.000000   \n",
              "max        2.000000      2.000000      2.000000      2.000000      9.000000   \n",
              "\n",
              "                II8           II9  \n",
              "count  13455.000000  13455.000000  \n",
              "mean       1.386696      1.039391  \n",
              "std        0.536398      0.269494  \n",
              "min        1.000000      1.000000  \n",
              "25%        1.000000      1.000000  \n",
              "50%        1.000000      1.000000  \n",
              "75%        2.000000      1.000000  \n",
              "max        4.000000      4.000000  "
            ],
            "text/html": [
              "\n",
              "  <div id=\"df-99207710-9d5f-4fae-a170-8b4f3f012da7\">\n",
              "    <div class=\"colab-df-container\">\n",
              "      <div>\n",
              "<style scoped>\n",
              "    .dataframe tbody tr th:only-of-type {\n",
              "        vertical-align: middle;\n",
              "    }\n",
              "\n",
              "    .dataframe tbody tr th {\n",
              "        vertical-align: top;\n",
              "    }\n",
              "\n",
              "    .dataframe thead th {\n",
              "        text-align: right;\n",
              "    }\n",
              "</style>\n",
              "<table border=\"1\" class=\"dataframe\">\n",
              "  <thead>\n",
              "    <tr style=\"text-align: right;\">\n",
              "      <th></th>\n",
              "      <th>NRO_HOGAR</th>\n",
              "      <th>IV9</th>\n",
              "      <th>IV10</th>\n",
              "      <th>IV11</th>\n",
              "      <th>II4_1</th>\n",
              "      <th>II4_2</th>\n",
              "      <th>II4_3</th>\n",
              "      <th>II5</th>\n",
              "      <th>II6</th>\n",
              "      <th>II7</th>\n",
              "      <th>II8</th>\n",
              "      <th>II9</th>\n",
              "    </tr>\n",
              "  </thead>\n",
              "  <tbody>\n",
              "    <tr>\n",
              "      <th>count</th>\n",
              "      <td>13455.000000</td>\n",
              "      <td>13455.000000</td>\n",
              "      <td>13455.000000</td>\n",
              "      <td>13455.000000</td>\n",
              "      <td>13455.000000</td>\n",
              "      <td>13455.000000</td>\n",
              "      <td>13455.000000</td>\n",
              "      <td>13455.000000</td>\n",
              "      <td>13455.000000</td>\n",
              "      <td>13455.000000</td>\n",
              "      <td>13455.000000</td>\n",
              "      <td>13455.000000</td>\n",
              "    </tr>\n",
              "    <tr>\n",
              "      <th>mean</th>\n",
              "      <td>1.081011</td>\n",
              "      <td>1.028614</td>\n",
              "      <td>1.040654</td>\n",
              "      <td>1.248086</td>\n",
              "      <td>1.087402</td>\n",
              "      <td>1.546265</td>\n",
              "      <td>1.677220</td>\n",
              "      <td>1.994649</td>\n",
              "      <td>1.990115</td>\n",
              "      <td>1.936455</td>\n",
              "      <td>1.386696</td>\n",
              "      <td>1.039391</td>\n",
              "    </tr>\n",
              "    <tr>\n",
              "      <th>std</th>\n",
              "      <td>1.564948</td>\n",
              "      <td>0.167170</td>\n",
              "      <td>0.206330</td>\n",
              "      <td>0.536458</td>\n",
              "      <td>0.282434</td>\n",
              "      <td>0.497873</td>\n",
              "      <td>0.467557</td>\n",
              "      <td>0.072958</td>\n",
              "      <td>0.098933</td>\n",
              "      <td>1.602331</td>\n",
              "      <td>0.536398</td>\n",
              "      <td>0.269494</td>\n",
              "    </tr>\n",
              "    <tr>\n",
              "      <th>min</th>\n",
              "      <td>1.000000</td>\n",
              "      <td>1.000000</td>\n",
              "      <td>1.000000</td>\n",
              "      <td>1.000000</td>\n",
              "      <td>1.000000</td>\n",
              "      <td>1.000000</td>\n",
              "      <td>1.000000</td>\n",
              "      <td>1.000000</td>\n",
              "      <td>1.000000</td>\n",
              "      <td>1.000000</td>\n",
              "      <td>1.000000</td>\n",
              "      <td>1.000000</td>\n",
              "    </tr>\n",
              "    <tr>\n",
              "      <th>25%</th>\n",
              "      <td>1.000000</td>\n",
              "      <td>1.000000</td>\n",
              "      <td>1.000000</td>\n",
              "      <td>1.000000</td>\n",
              "      <td>1.000000</td>\n",
              "      <td>1.000000</td>\n",
              "      <td>1.000000</td>\n",
              "      <td>2.000000</td>\n",
              "      <td>2.000000</td>\n",
              "      <td>1.000000</td>\n",
              "      <td>1.000000</td>\n",
              "      <td>1.000000</td>\n",
              "    </tr>\n",
              "    <tr>\n",
              "      <th>50%</th>\n",
              "      <td>1.000000</td>\n",
              "      <td>1.000000</td>\n",
              "      <td>1.000000</td>\n",
              "      <td>1.000000</td>\n",
              "      <td>1.000000</td>\n",
              "      <td>2.000000</td>\n",
              "      <td>2.000000</td>\n",
              "      <td>2.000000</td>\n",
              "      <td>2.000000</td>\n",
              "      <td>1.000000</td>\n",
              "      <td>1.000000</td>\n",
              "      <td>1.000000</td>\n",
              "    </tr>\n",
              "    <tr>\n",
              "      <th>75%</th>\n",
              "      <td>1.000000</td>\n",
              "      <td>1.000000</td>\n",
              "      <td>1.000000</td>\n",
              "      <td>1.000000</td>\n",
              "      <td>1.000000</td>\n",
              "      <td>2.000000</td>\n",
              "      <td>2.000000</td>\n",
              "      <td>2.000000</td>\n",
              "      <td>2.000000</td>\n",
              "      <td>3.000000</td>\n",
              "      <td>2.000000</td>\n",
              "      <td>1.000000</td>\n",
              "    </tr>\n",
              "    <tr>\n",
              "      <th>max</th>\n",
              "      <td>72.000000</td>\n",
              "      <td>3.000000</td>\n",
              "      <td>3.000000</td>\n",
              "      <td>4.000000</td>\n",
              "      <td>2.000000</td>\n",
              "      <td>2.000000</td>\n",
              "      <td>2.000000</td>\n",
              "      <td>2.000000</td>\n",
              "      <td>2.000000</td>\n",
              "      <td>9.000000</td>\n",
              "      <td>4.000000</td>\n",
              "      <td>4.000000</td>\n",
              "    </tr>\n",
              "  </tbody>\n",
              "</table>\n",
              "</div>\n",
              "      <button class=\"colab-df-convert\" onclick=\"convertToInteractive('df-99207710-9d5f-4fae-a170-8b4f3f012da7')\"\n",
              "              title=\"Convert this dataframe to an interactive table.\"\n",
              "              style=\"display:none;\">\n",
              "        \n",
              "  <svg xmlns=\"http://www.w3.org/2000/svg\" height=\"24px\"viewBox=\"0 0 24 24\"\n",
              "       width=\"24px\">\n",
              "    <path d=\"M0 0h24v24H0V0z\" fill=\"none\"/>\n",
              "    <path d=\"M18.56 5.44l.94 2.06.94-2.06 2.06-.94-2.06-.94-.94-2.06-.94 2.06-2.06.94zm-11 1L8.5 8.5l.94-2.06 2.06-.94-2.06-.94L8.5 2.5l-.94 2.06-2.06.94zm10 10l.94 2.06.94-2.06 2.06-.94-2.06-.94-.94-2.06-.94 2.06-2.06.94z\"/><path d=\"M17.41 7.96l-1.37-1.37c-.4-.4-.92-.59-1.43-.59-.52 0-1.04.2-1.43.59L10.3 9.45l-7.72 7.72c-.78.78-.78 2.05 0 2.83L4 21.41c.39.39.9.59 1.41.59.51 0 1.02-.2 1.41-.59l7.78-7.78 2.81-2.81c.8-.78.8-2.07 0-2.86zM5.41 20L4 18.59l7.72-7.72 1.47 1.35L5.41 20z\"/>\n",
              "  </svg>\n",
              "      </button>\n",
              "      \n",
              "  <style>\n",
              "    .colab-df-container {\n",
              "      display:flex;\n",
              "      flex-wrap:wrap;\n",
              "      gap: 12px;\n",
              "    }\n",
              "\n",
              "    .colab-df-convert {\n",
              "      background-color: #E8F0FE;\n",
              "      border: none;\n",
              "      border-radius: 50%;\n",
              "      cursor: pointer;\n",
              "      display: none;\n",
              "      fill: #1967D2;\n",
              "      height: 32px;\n",
              "      padding: 0 0 0 0;\n",
              "      width: 32px;\n",
              "    }\n",
              "\n",
              "    .colab-df-convert:hover {\n",
              "      background-color: #E2EBFA;\n",
              "      box-shadow: 0px 1px 2px rgba(60, 64, 67, 0.3), 0px 1px 3px 1px rgba(60, 64, 67, 0.15);\n",
              "      fill: #174EA6;\n",
              "    }\n",
              "\n",
              "    [theme=dark] .colab-df-convert {\n",
              "      background-color: #3B4455;\n",
              "      fill: #D2E3FC;\n",
              "    }\n",
              "\n",
              "    [theme=dark] .colab-df-convert:hover {\n",
              "      background-color: #434B5C;\n",
              "      box-shadow: 0px 1px 3px 1px rgba(0, 0, 0, 0.15);\n",
              "      filter: drop-shadow(0px 1px 2px rgba(0, 0, 0, 0.3));\n",
              "      fill: #FFFFFF;\n",
              "    }\n",
              "  </style>\n",
              "\n",
              "      <script>\n",
              "        const buttonEl =\n",
              "          document.querySelector('#df-99207710-9d5f-4fae-a170-8b4f3f012da7 button.colab-df-convert');\n",
              "        buttonEl.style.display =\n",
              "          google.colab.kernel.accessAllowed ? 'block' : 'none';\n",
              "\n",
              "        async function convertToInteractive(key) {\n",
              "          const element = document.querySelector('#df-99207710-9d5f-4fae-a170-8b4f3f012da7');\n",
              "          const dataTable =\n",
              "            await google.colab.kernel.invokeFunction('convertToInteractive',\n",
              "                                                     [key], {});\n",
              "          if (!dataTable) return;\n",
              "\n",
              "          const docLinkHtml = 'Like what you see? Visit the ' +\n",
              "            '<a target=\"_blank\" href=https://colab.research.google.com/notebooks/data_table.ipynb>data table notebook</a>'\n",
              "            + ' to learn more about interactive tables.';\n",
              "          element.innerHTML = '';\n",
              "          dataTable['output_type'] = 'display_data';\n",
              "          await google.colab.output.renderOutput(dataTable, element);\n",
              "          const docLink = document.createElement('div');\n",
              "          docLink.innerHTML = docLinkHtml;\n",
              "          element.appendChild(docLink);\n",
              "        }\n",
              "      </script>\n",
              "    </div>\n",
              "  </div>\n",
              "  "
            ]
          },
          "metadata": {},
          "execution_count": 133
        }
      ]
    },
    {
      "cell_type": "code",
      "source": [
        "#borramos las columnas que corregimos del dataset\n",
        "\n",
        "df_dataset = df_dataset.drop(['IV9','IV10','IV11','II4_1','II4_2','II4_3','II5','II6','II7','II8','II9'], axis=1)"
      ],
      "metadata": {
        "id": "zicm_5AWRw4G"
      },
      "execution_count": 134,
      "outputs": []
    },
    {
      "cell_type": "code",
      "source": [
        "#unimos el dataset con las columnas corregidas, por CODUSU y NRO HOGAR\n",
        "\n",
        "df_dataset_corregido = pd.merge(df_dataset, minimo_cero, on=['CODUSU','NRO_HOGAR']) "
      ],
      "metadata": {
        "id": "P7dnHqICSpyG"
      },
      "execution_count": 135,
      "outputs": []
    },
    {
      "cell_type": "code",
      "source": [
        "df_dataset_corregido.head()"
      ],
      "metadata": {
        "colab": {
          "base_uri": "https://localhost:8080/",
          "height": 270
        },
        "id": "tkTyML0DSwfW",
        "outputId": "985d3419-35c1-46bb-af0a-270015011dbb"
      },
      "execution_count": 136,
      "outputs": [
        {
          "output_type": "execute_result",
          "data": {
            "text/plain": [
              "                          CODUSU  NRO_HOGAR  AGLOMERADO  IV1  IV2  IV3  IV4  \\\n",
              "0  TQRMNOPSWHMMKRCDEOJAH00714384          1          93    1    3    1    1   \n",
              "1  TQRMNOQYSHMNKTCDEOJAH00714386          1          93    2    2    1    4   \n",
              "2  TQRMNOQXVHLLPQCDEIJAH00718674          1          33    1    3    1    4   \n",
              "3  TQRMNORWPHLKPRCDEIJAH00718675          1          33    2    2    1    9   \n",
              "4  TQRMNOPWQHKLOUCDEIJAH00714088          1          33    1    3    1    1   \n",
              "\n",
              "   IV5  IV6  IV7  IV8  IV12_1  IV12_2  IV12_3  II1  II2  II3  II3_1  II5_1  \\\n",
              "0    1    1    1    1       2       2       2    3    1    2      0      0   \n",
              "1    1    1    1    1       2       2       2    2    2    2      0      0   \n",
              "2    1    1    1    1       2       2       2    3    3    2      0      0   \n",
              "3    1    1    1    1       2       1       2    2    1    2      0      0   \n",
              "4    1    1    1    1       2       2       2    3    2    2      0      0   \n",
              "\n",
              "   II6_1  V1  V2  V21  V22  V3  V4  V5  V6  V7  V8  V9  V10  V11  V12  V13  \\\n",
              "0      0   2   1    2    2   2   2   2   2   2   2   2    2    2    2    2   \n",
              "1      0   1   2    2    2   2   2   2   2   2   2   2    2    2    2    2   \n",
              "2      0   1   1    2    2   2   2   2   2   2   2   2    2    2    2    1   \n",
              "3      0   1   2    2    2   2   2   2   2   2   2   2    2    2    2    2   \n",
              "4      0   1   2    2    2   2   2   2   2   2   2   2    2    2    2    1   \n",
              "\n",
              "   V14  V15  V16  V17  V18  V19_A  V19_B  IX_TOT  IX_MEN10  IX_MAYEQ10    ITF  \\\n",
              "0    2    1    1    2    2      2      2       2         0           2  77500   \n",
              "1    2    2    1    2    2      2      2       4         1           3  85000   \n",
              "2    2    1    1    2    2      2      2       4         0           4  96870   \n",
              "3    1    2    1    2    2      2      2       2         0           2  90000   \n",
              "4    1    2    1    2    2      2      2       3         0           3  92000   \n",
              "\n",
              "       IPCF  VII1_1  VII1_2  VII2_1  VII2_2  VII2_3  VII2_4  parentesco  \\\n",
              "0  38750.00       1       2      98       0       0       0           1   \n",
              "1  21250.00       2       0      98       0       0       0           1   \n",
              "2  24217.50       1       2      98       0       0       0           1   \n",
              "3  45000.00       1       2      98       0       0       0           1   \n",
              "4  30666.67       2       1      98       0       0       0           1   \n",
              "\n",
              "   genero  edad  cob_medica  NIVEL_ED  CAT_OCUP  CAT_INAC  AE_ctrol_ind_sum  \\\n",
              "0       1    72           1         2         9         1              1.50   \n",
              "1       1    38           1         4         3         0              3.13   \n",
              "2       1    67           1         4         3         0              3.33   \n",
              "3       1    35           1         5         3         0              1.77   \n",
              "4       2    33           1         6         3         0              2.54   \n",
              "\n",
              "   adulto_equivalente  pobreza  IV9  IV10  IV11  II4_1  II4_2  II4_3  II5  \\\n",
              "0            51666.67        0    1     1     1      1      1      2    2   \n",
              "1            27156.55        0    1     1     1      1      2      2    2   \n",
              "2            29090.09        0    1     2     3      1      1      2    2   \n",
              "3            50847.46        0    1     1     1      1      2      1    2   \n",
              "4            36220.47        0    1     1     1      1      1      1    2   \n",
              "\n",
              "   II6  II7  II8  II9  \n",
              "0    2    1    1    1  \n",
              "1    2    6    1    1  \n",
              "2    2    1    1    1  \n",
              "3    2    1    1    1  \n",
              "4    2    1    1    1  "
            ],
            "text/html": [
              "\n",
              "  <div id=\"df-ed1dbb38-356c-4dbb-ba83-8a0e4ff14e58\">\n",
              "    <div class=\"colab-df-container\">\n",
              "      <div>\n",
              "<style scoped>\n",
              "    .dataframe tbody tr th:only-of-type {\n",
              "        vertical-align: middle;\n",
              "    }\n",
              "\n",
              "    .dataframe tbody tr th {\n",
              "        vertical-align: top;\n",
              "    }\n",
              "\n",
              "    .dataframe thead th {\n",
              "        text-align: right;\n",
              "    }\n",
              "</style>\n",
              "<table border=\"1\" class=\"dataframe\">\n",
              "  <thead>\n",
              "    <tr style=\"text-align: right;\">\n",
              "      <th></th>\n",
              "      <th>CODUSU</th>\n",
              "      <th>NRO_HOGAR</th>\n",
              "      <th>AGLOMERADO</th>\n",
              "      <th>IV1</th>\n",
              "      <th>IV2</th>\n",
              "      <th>IV3</th>\n",
              "      <th>IV4</th>\n",
              "      <th>IV5</th>\n",
              "      <th>IV6</th>\n",
              "      <th>IV7</th>\n",
              "      <th>IV8</th>\n",
              "      <th>IV12_1</th>\n",
              "      <th>IV12_2</th>\n",
              "      <th>IV12_3</th>\n",
              "      <th>II1</th>\n",
              "      <th>II2</th>\n",
              "      <th>II3</th>\n",
              "      <th>II3_1</th>\n",
              "      <th>II5_1</th>\n",
              "      <th>II6_1</th>\n",
              "      <th>V1</th>\n",
              "      <th>V2</th>\n",
              "      <th>V21</th>\n",
              "      <th>V22</th>\n",
              "      <th>V3</th>\n",
              "      <th>V4</th>\n",
              "      <th>V5</th>\n",
              "      <th>V6</th>\n",
              "      <th>V7</th>\n",
              "      <th>V8</th>\n",
              "      <th>V9</th>\n",
              "      <th>V10</th>\n",
              "      <th>V11</th>\n",
              "      <th>V12</th>\n",
              "      <th>V13</th>\n",
              "      <th>V14</th>\n",
              "      <th>V15</th>\n",
              "      <th>V16</th>\n",
              "      <th>V17</th>\n",
              "      <th>V18</th>\n",
              "      <th>V19_A</th>\n",
              "      <th>V19_B</th>\n",
              "      <th>IX_TOT</th>\n",
              "      <th>IX_MEN10</th>\n",
              "      <th>IX_MAYEQ10</th>\n",
              "      <th>ITF</th>\n",
              "      <th>IPCF</th>\n",
              "      <th>VII1_1</th>\n",
              "      <th>VII1_2</th>\n",
              "      <th>VII2_1</th>\n",
              "      <th>VII2_2</th>\n",
              "      <th>VII2_3</th>\n",
              "      <th>VII2_4</th>\n",
              "      <th>parentesco</th>\n",
              "      <th>genero</th>\n",
              "      <th>edad</th>\n",
              "      <th>cob_medica</th>\n",
              "      <th>NIVEL_ED</th>\n",
              "      <th>CAT_OCUP</th>\n",
              "      <th>CAT_INAC</th>\n",
              "      <th>AE_ctrol_ind_sum</th>\n",
              "      <th>adulto_equivalente</th>\n",
              "      <th>pobreza</th>\n",
              "      <th>IV9</th>\n",
              "      <th>IV10</th>\n",
              "      <th>IV11</th>\n",
              "      <th>II4_1</th>\n",
              "      <th>II4_2</th>\n",
              "      <th>II4_3</th>\n",
              "      <th>II5</th>\n",
              "      <th>II6</th>\n",
              "      <th>II7</th>\n",
              "      <th>II8</th>\n",
              "      <th>II9</th>\n",
              "    </tr>\n",
              "  </thead>\n",
              "  <tbody>\n",
              "    <tr>\n",
              "      <th>0</th>\n",
              "      <td>TQRMNOPSWHMMKRCDEOJAH00714384</td>\n",
              "      <td>1</td>\n",
              "      <td>93</td>\n",
              "      <td>1</td>\n",
              "      <td>3</td>\n",
              "      <td>1</td>\n",
              "      <td>1</td>\n",
              "      <td>1</td>\n",
              "      <td>1</td>\n",
              "      <td>1</td>\n",
              "      <td>1</td>\n",
              "      <td>2</td>\n",
              "      <td>2</td>\n",
              "      <td>2</td>\n",
              "      <td>3</td>\n",
              "      <td>1</td>\n",
              "      <td>2</td>\n",
              "      <td>0</td>\n",
              "      <td>0</td>\n",
              "      <td>0</td>\n",
              "      <td>2</td>\n",
              "      <td>1</td>\n",
              "      <td>2</td>\n",
              "      <td>2</td>\n",
              "      <td>2</td>\n",
              "      <td>2</td>\n",
              "      <td>2</td>\n",
              "      <td>2</td>\n",
              "      <td>2</td>\n",
              "      <td>2</td>\n",
              "      <td>2</td>\n",
              "      <td>2</td>\n",
              "      <td>2</td>\n",
              "      <td>2</td>\n",
              "      <td>2</td>\n",
              "      <td>2</td>\n",
              "      <td>1</td>\n",
              "      <td>1</td>\n",
              "      <td>2</td>\n",
              "      <td>2</td>\n",
              "      <td>2</td>\n",
              "      <td>2</td>\n",
              "      <td>2</td>\n",
              "      <td>0</td>\n",
              "      <td>2</td>\n",
              "      <td>77500</td>\n",
              "      <td>38750.00</td>\n",
              "      <td>1</td>\n",
              "      <td>2</td>\n",
              "      <td>98</td>\n",
              "      <td>0</td>\n",
              "      <td>0</td>\n",
              "      <td>0</td>\n",
              "      <td>1</td>\n",
              "      <td>1</td>\n",
              "      <td>72</td>\n",
              "      <td>1</td>\n",
              "      <td>2</td>\n",
              "      <td>9</td>\n",
              "      <td>1</td>\n",
              "      <td>1.50</td>\n",
              "      <td>51666.67</td>\n",
              "      <td>0</td>\n",
              "      <td>1</td>\n",
              "      <td>1</td>\n",
              "      <td>1</td>\n",
              "      <td>1</td>\n",
              "      <td>1</td>\n",
              "      <td>2</td>\n",
              "      <td>2</td>\n",
              "      <td>2</td>\n",
              "      <td>1</td>\n",
              "      <td>1</td>\n",
              "      <td>1</td>\n",
              "    </tr>\n",
              "    <tr>\n",
              "      <th>1</th>\n",
              "      <td>TQRMNOQYSHMNKTCDEOJAH00714386</td>\n",
              "      <td>1</td>\n",
              "      <td>93</td>\n",
              "      <td>2</td>\n",
              "      <td>2</td>\n",
              "      <td>1</td>\n",
              "      <td>4</td>\n",
              "      <td>1</td>\n",
              "      <td>1</td>\n",
              "      <td>1</td>\n",
              "      <td>1</td>\n",
              "      <td>2</td>\n",
              "      <td>2</td>\n",
              "      <td>2</td>\n",
              "      <td>2</td>\n",
              "      <td>2</td>\n",
              "      <td>2</td>\n",
              "      <td>0</td>\n",
              "      <td>0</td>\n",
              "      <td>0</td>\n",
              "      <td>1</td>\n",
              "      <td>2</td>\n",
              "      <td>2</td>\n",
              "      <td>2</td>\n",
              "      <td>2</td>\n",
              "      <td>2</td>\n",
              "      <td>2</td>\n",
              "      <td>2</td>\n",
              "      <td>2</td>\n",
              "      <td>2</td>\n",
              "      <td>2</td>\n",
              "      <td>2</td>\n",
              "      <td>2</td>\n",
              "      <td>2</td>\n",
              "      <td>2</td>\n",
              "      <td>2</td>\n",
              "      <td>2</td>\n",
              "      <td>1</td>\n",
              "      <td>2</td>\n",
              "      <td>2</td>\n",
              "      <td>2</td>\n",
              "      <td>2</td>\n",
              "      <td>4</td>\n",
              "      <td>1</td>\n",
              "      <td>3</td>\n",
              "      <td>85000</td>\n",
              "      <td>21250.00</td>\n",
              "      <td>2</td>\n",
              "      <td>0</td>\n",
              "      <td>98</td>\n",
              "      <td>0</td>\n",
              "      <td>0</td>\n",
              "      <td>0</td>\n",
              "      <td>1</td>\n",
              "      <td>1</td>\n",
              "      <td>38</td>\n",
              "      <td>1</td>\n",
              "      <td>4</td>\n",
              "      <td>3</td>\n",
              "      <td>0</td>\n",
              "      <td>3.13</td>\n",
              "      <td>27156.55</td>\n",
              "      <td>0</td>\n",
              "      <td>1</td>\n",
              "      <td>1</td>\n",
              "      <td>1</td>\n",
              "      <td>1</td>\n",
              "      <td>2</td>\n",
              "      <td>2</td>\n",
              "      <td>2</td>\n",
              "      <td>2</td>\n",
              "      <td>6</td>\n",
              "      <td>1</td>\n",
              "      <td>1</td>\n",
              "    </tr>\n",
              "    <tr>\n",
              "      <th>2</th>\n",
              "      <td>TQRMNOQXVHLLPQCDEIJAH00718674</td>\n",
              "      <td>1</td>\n",
              "      <td>33</td>\n",
              "      <td>1</td>\n",
              "      <td>3</td>\n",
              "      <td>1</td>\n",
              "      <td>4</td>\n",
              "      <td>1</td>\n",
              "      <td>1</td>\n",
              "      <td>1</td>\n",
              "      <td>1</td>\n",
              "      <td>2</td>\n",
              "      <td>2</td>\n",
              "      <td>2</td>\n",
              "      <td>3</td>\n",
              "      <td>3</td>\n",
              "      <td>2</td>\n",
              "      <td>0</td>\n",
              "      <td>0</td>\n",
              "      <td>0</td>\n",
              "      <td>1</td>\n",
              "      <td>1</td>\n",
              "      <td>2</td>\n",
              "      <td>2</td>\n",
              "      <td>2</td>\n",
              "      <td>2</td>\n",
              "      <td>2</td>\n",
              "      <td>2</td>\n",
              "      <td>2</td>\n",
              "      <td>2</td>\n",
              "      <td>2</td>\n",
              "      <td>2</td>\n",
              "      <td>2</td>\n",
              "      <td>2</td>\n",
              "      <td>1</td>\n",
              "      <td>2</td>\n",
              "      <td>1</td>\n",
              "      <td>1</td>\n",
              "      <td>2</td>\n",
              "      <td>2</td>\n",
              "      <td>2</td>\n",
              "      <td>2</td>\n",
              "      <td>4</td>\n",
              "      <td>0</td>\n",
              "      <td>4</td>\n",
              "      <td>96870</td>\n",
              "      <td>24217.50</td>\n",
              "      <td>1</td>\n",
              "      <td>2</td>\n",
              "      <td>98</td>\n",
              "      <td>0</td>\n",
              "      <td>0</td>\n",
              "      <td>0</td>\n",
              "      <td>1</td>\n",
              "      <td>1</td>\n",
              "      <td>67</td>\n",
              "      <td>1</td>\n",
              "      <td>4</td>\n",
              "      <td>3</td>\n",
              "      <td>0</td>\n",
              "      <td>3.33</td>\n",
              "      <td>29090.09</td>\n",
              "      <td>0</td>\n",
              "      <td>1</td>\n",
              "      <td>2</td>\n",
              "      <td>3</td>\n",
              "      <td>1</td>\n",
              "      <td>1</td>\n",
              "      <td>2</td>\n",
              "      <td>2</td>\n",
              "      <td>2</td>\n",
              "      <td>1</td>\n",
              "      <td>1</td>\n",
              "      <td>1</td>\n",
              "    </tr>\n",
              "    <tr>\n",
              "      <th>3</th>\n",
              "      <td>TQRMNORWPHLKPRCDEIJAH00718675</td>\n",
              "      <td>1</td>\n",
              "      <td>33</td>\n",
              "      <td>2</td>\n",
              "      <td>2</td>\n",
              "      <td>1</td>\n",
              "      <td>9</td>\n",
              "      <td>1</td>\n",
              "      <td>1</td>\n",
              "      <td>1</td>\n",
              "      <td>1</td>\n",
              "      <td>2</td>\n",
              "      <td>1</td>\n",
              "      <td>2</td>\n",
              "      <td>2</td>\n",
              "      <td>1</td>\n",
              "      <td>2</td>\n",
              "      <td>0</td>\n",
              "      <td>0</td>\n",
              "      <td>0</td>\n",
              "      <td>1</td>\n",
              "      <td>2</td>\n",
              "      <td>2</td>\n",
              "      <td>2</td>\n",
              "      <td>2</td>\n",
              "      <td>2</td>\n",
              "      <td>2</td>\n",
              "      <td>2</td>\n",
              "      <td>2</td>\n",
              "      <td>2</td>\n",
              "      <td>2</td>\n",
              "      <td>2</td>\n",
              "      <td>2</td>\n",
              "      <td>2</td>\n",
              "      <td>2</td>\n",
              "      <td>1</td>\n",
              "      <td>2</td>\n",
              "      <td>1</td>\n",
              "      <td>2</td>\n",
              "      <td>2</td>\n",
              "      <td>2</td>\n",
              "      <td>2</td>\n",
              "      <td>2</td>\n",
              "      <td>0</td>\n",
              "      <td>2</td>\n",
              "      <td>90000</td>\n",
              "      <td>45000.00</td>\n",
              "      <td>1</td>\n",
              "      <td>2</td>\n",
              "      <td>98</td>\n",
              "      <td>0</td>\n",
              "      <td>0</td>\n",
              "      <td>0</td>\n",
              "      <td>1</td>\n",
              "      <td>1</td>\n",
              "      <td>35</td>\n",
              "      <td>1</td>\n",
              "      <td>5</td>\n",
              "      <td>3</td>\n",
              "      <td>0</td>\n",
              "      <td>1.77</td>\n",
              "      <td>50847.46</td>\n",
              "      <td>0</td>\n",
              "      <td>1</td>\n",
              "      <td>1</td>\n",
              "      <td>1</td>\n",
              "      <td>1</td>\n",
              "      <td>2</td>\n",
              "      <td>1</td>\n",
              "      <td>2</td>\n",
              "      <td>2</td>\n",
              "      <td>1</td>\n",
              "      <td>1</td>\n",
              "      <td>1</td>\n",
              "    </tr>\n",
              "    <tr>\n",
              "      <th>4</th>\n",
              "      <td>TQRMNOPWQHKLOUCDEIJAH00714088</td>\n",
              "      <td>1</td>\n",
              "      <td>33</td>\n",
              "      <td>1</td>\n",
              "      <td>3</td>\n",
              "      <td>1</td>\n",
              "      <td>1</td>\n",
              "      <td>1</td>\n",
              "      <td>1</td>\n",
              "      <td>1</td>\n",
              "      <td>1</td>\n",
              "      <td>2</td>\n",
              "      <td>2</td>\n",
              "      <td>2</td>\n",
              "      <td>3</td>\n",
              "      <td>2</td>\n",
              "      <td>2</td>\n",
              "      <td>0</td>\n",
              "      <td>0</td>\n",
              "      <td>0</td>\n",
              "      <td>1</td>\n",
              "      <td>2</td>\n",
              "      <td>2</td>\n",
              "      <td>2</td>\n",
              "      <td>2</td>\n",
              "      <td>2</td>\n",
              "      <td>2</td>\n",
              "      <td>2</td>\n",
              "      <td>2</td>\n",
              "      <td>2</td>\n",
              "      <td>2</td>\n",
              "      <td>2</td>\n",
              "      <td>2</td>\n",
              "      <td>2</td>\n",
              "      <td>1</td>\n",
              "      <td>1</td>\n",
              "      <td>2</td>\n",
              "      <td>1</td>\n",
              "      <td>2</td>\n",
              "      <td>2</td>\n",
              "      <td>2</td>\n",
              "      <td>2</td>\n",
              "      <td>3</td>\n",
              "      <td>0</td>\n",
              "      <td>3</td>\n",
              "      <td>92000</td>\n",
              "      <td>30666.67</td>\n",
              "      <td>2</td>\n",
              "      <td>1</td>\n",
              "      <td>98</td>\n",
              "      <td>0</td>\n",
              "      <td>0</td>\n",
              "      <td>0</td>\n",
              "      <td>1</td>\n",
              "      <td>2</td>\n",
              "      <td>33</td>\n",
              "      <td>1</td>\n",
              "      <td>6</td>\n",
              "      <td>3</td>\n",
              "      <td>0</td>\n",
              "      <td>2.54</td>\n",
              "      <td>36220.47</td>\n",
              "      <td>0</td>\n",
              "      <td>1</td>\n",
              "      <td>1</td>\n",
              "      <td>1</td>\n",
              "      <td>1</td>\n",
              "      <td>1</td>\n",
              "      <td>1</td>\n",
              "      <td>2</td>\n",
              "      <td>2</td>\n",
              "      <td>1</td>\n",
              "      <td>1</td>\n",
              "      <td>1</td>\n",
              "    </tr>\n",
              "  </tbody>\n",
              "</table>\n",
              "</div>\n",
              "      <button class=\"colab-df-convert\" onclick=\"convertToInteractive('df-ed1dbb38-356c-4dbb-ba83-8a0e4ff14e58')\"\n",
              "              title=\"Convert this dataframe to an interactive table.\"\n",
              "              style=\"display:none;\">\n",
              "        \n",
              "  <svg xmlns=\"http://www.w3.org/2000/svg\" height=\"24px\"viewBox=\"0 0 24 24\"\n",
              "       width=\"24px\">\n",
              "    <path d=\"M0 0h24v24H0V0z\" fill=\"none\"/>\n",
              "    <path d=\"M18.56 5.44l.94 2.06.94-2.06 2.06-.94-2.06-.94-.94-2.06-.94 2.06-2.06.94zm-11 1L8.5 8.5l.94-2.06 2.06-.94-2.06-.94L8.5 2.5l-.94 2.06-2.06.94zm10 10l.94 2.06.94-2.06 2.06-.94-2.06-.94-.94-2.06-.94 2.06-2.06.94z\"/><path d=\"M17.41 7.96l-1.37-1.37c-.4-.4-.92-.59-1.43-.59-.52 0-1.04.2-1.43.59L10.3 9.45l-7.72 7.72c-.78.78-.78 2.05 0 2.83L4 21.41c.39.39.9.59 1.41.59.51 0 1.02-.2 1.41-.59l7.78-7.78 2.81-2.81c.8-.78.8-2.07 0-2.86zM5.41 20L4 18.59l7.72-7.72 1.47 1.35L5.41 20z\"/>\n",
              "  </svg>\n",
              "      </button>\n",
              "      \n",
              "  <style>\n",
              "    .colab-df-container {\n",
              "      display:flex;\n",
              "      flex-wrap:wrap;\n",
              "      gap: 12px;\n",
              "    }\n",
              "\n",
              "    .colab-df-convert {\n",
              "      background-color: #E8F0FE;\n",
              "      border: none;\n",
              "      border-radius: 50%;\n",
              "      cursor: pointer;\n",
              "      display: none;\n",
              "      fill: #1967D2;\n",
              "      height: 32px;\n",
              "      padding: 0 0 0 0;\n",
              "      width: 32px;\n",
              "    }\n",
              "\n",
              "    .colab-df-convert:hover {\n",
              "      background-color: #E2EBFA;\n",
              "      box-shadow: 0px 1px 2px rgba(60, 64, 67, 0.3), 0px 1px 3px 1px rgba(60, 64, 67, 0.15);\n",
              "      fill: #174EA6;\n",
              "    }\n",
              "\n",
              "    [theme=dark] .colab-df-convert {\n",
              "      background-color: #3B4455;\n",
              "      fill: #D2E3FC;\n",
              "    }\n",
              "\n",
              "    [theme=dark] .colab-df-convert:hover {\n",
              "      background-color: #434B5C;\n",
              "      box-shadow: 0px 1px 3px 1px rgba(0, 0, 0, 0.15);\n",
              "      filter: drop-shadow(0px 1px 2px rgba(0, 0, 0, 0.3));\n",
              "      fill: #FFFFFF;\n",
              "    }\n",
              "  </style>\n",
              "\n",
              "      <script>\n",
              "        const buttonEl =\n",
              "          document.querySelector('#df-ed1dbb38-356c-4dbb-ba83-8a0e4ff14e58 button.colab-df-convert');\n",
              "        buttonEl.style.display =\n",
              "          google.colab.kernel.accessAllowed ? 'block' : 'none';\n",
              "\n",
              "        async function convertToInteractive(key) {\n",
              "          const element = document.querySelector('#df-ed1dbb38-356c-4dbb-ba83-8a0e4ff14e58');\n",
              "          const dataTable =\n",
              "            await google.colab.kernel.invokeFunction('convertToInteractive',\n",
              "                                                     [key], {});\n",
              "          if (!dataTable) return;\n",
              "\n",
              "          const docLinkHtml = 'Like what you see? Visit the ' +\n",
              "            '<a target=\"_blank\" href=https://colab.research.google.com/notebooks/data_table.ipynb>data table notebook</a>'\n",
              "            + ' to learn more about interactive tables.';\n",
              "          element.innerHTML = '';\n",
              "          dataTable['output_type'] = 'display_data';\n",
              "          await google.colab.output.renderOutput(dataTable, element);\n",
              "          const docLink = document.createElement('div');\n",
              "          docLink.innerHTML = docLinkHtml;\n",
              "          element.appendChild(docLink);\n",
              "        }\n",
              "      </script>\n",
              "    </div>\n",
              "  </div>\n",
              "  "
            ]
          },
          "metadata": {},
          "execution_count": 136
        }
      ]
    },
    {
      "cell_type": "markdown",
      "source": [
        "**Outliers**"
      ],
      "metadata": {
        "id": "RV2kfJsBWkor"
      }
    },
    {
      "cell_type": "code",
      "source": [
        "#En análisis de las variables numéricas vimos que IV2 e II1 tienen un máximo que quizás esté fuera de rango\n",
        "\n",
        "#IV2 es la cantidad de habitaciones por hogar\n",
        "\n",
        "df_dataset_corregido['IV2'].value_counts()"
      ],
      "metadata": {
        "colab": {
          "base_uri": "https://localhost:8080/"
        },
        "id": "sYD56mk2Ta3K",
        "outputId": "40c70c0a-50cc-45d8-bc81-dc32c6ef031a"
      },
      "execution_count": 137,
      "outputs": [
        {
          "output_type": "execute_result",
          "data": {
            "text/plain": [
              "3     4971\n",
              "2     3237\n",
              "4     2856\n",
              "1     1089\n",
              "5      904\n",
              "6      280\n",
              "7       78\n",
              "8       28\n",
              "9        6\n",
              "10       3\n",
              "21       1\n",
              "99       1\n",
              "13       1\n",
              "Name: IV2, dtype: int64"
            ]
          },
          "metadata": {},
          "execution_count": 137
        }
      ]
    },
    {
      "cell_type": "code",
      "source": [
        "plt.boxplot(df_dataset_corregido['IV2'])\n",
        "plt.ylabel(\"Cantidad de ambientes por hogar\")\n",
        "plt.title(\"Boxplot de cantidad de ambientes por hogar\")"
      ],
      "metadata": {
        "colab": {
          "base_uri": "https://localhost:8080/",
          "height": 298
        },
        "id": "Mder37yzYzHs",
        "outputId": "08f79ba8-5003-485e-fcef-05e2b6981549"
      },
      "execution_count": 138,
      "outputs": [
        {
          "output_type": "execute_result",
          "data": {
            "text/plain": [
              "Text(0.5, 1.0, 'Boxplot de cantidad de ambientes por hogar')"
            ]
          },
          "metadata": {},
          "execution_count": 138
        },
        {
          "output_type": "display_data",
          "data": {
            "text/plain": [
              "<Figure size 432x288 with 1 Axes>"
            ],
            "image/png": "[encoded data removed]"
          },
          "metadata": {
            "needs_background": "light"
          }
        }
      ]
    },
    {
      "cell_type": "code",
      "source": [
        "#acotamos el rango de 1 a 10\n",
        "\n",
        "df_dataset_corregido['IV2'] = df_dataset_corregido['IV2'].clip(lower=1,upper = 10)"
      ],
      "metadata": {
        "id": "RT8haNcoZIjP"
      },
      "execution_count": 139,
      "outputs": []
    },
    {
      "cell_type": "code",
      "source": [
        "df_dataset_corregido['IV2'].describe()"
      ],
      "metadata": {
        "colab": {
          "base_uri": "https://localhost:8080/"
        },
        "id": "o0YtrDubZiAU",
        "outputId": "01333935-dfb3-49e1-8edf-64661833f69c"
      },
      "execution_count": 140,
      "outputs": [
        {
          "output_type": "execute_result",
          "data": {
            "text/plain": [
              "count    13455.000000\n",
              "mean         3.046005\n",
              "std          1.188822\n",
              "min          1.000000\n",
              "25%          2.000000\n",
              "50%          3.000000\n",
              "75%          4.000000\n",
              "max         10.000000\n",
              "Name: IV2, dtype: float64"
            ]
          },
          "metadata": {},
          "execution_count": 140
        }
      ]
    },
    {
      "cell_type": "code",
      "source": [
        "#II1 es la cantidad de habitaciones que usan para dormir por hogar\n",
        "\n",
        "df_dataset_corregido['II1'].value_counts()"
      ],
      "metadata": {
        "colab": {
          "base_uri": "https://localhost:8080/"
        },
        "id": "4BI27tqWZpG9",
        "outputId": "9fb529ac-51ad-4ec2-8746-c05a503924fc"
      },
      "execution_count": 141,
      "outputs": [
        {
          "output_type": "execute_result",
          "data": {
            "text/plain": [
              "3     4937\n",
              "2     3303\n",
              "4     2780\n",
              "1     1190\n",
              "5      878\n",
              "6      251\n",
              "7       70\n",
              "8       22\n",
              "0       11\n",
              "9        7\n",
              "10       3\n",
              "47       1\n",
              "42       1\n",
              "13       1\n",
              "Name: II1, dtype: int64"
            ]
          },
          "metadata": {},
          "execution_count": 141
        }
      ]
    },
    {
      "cell_type": "code",
      "source": [
        "plt.boxplot(df_dataset_corregido['II1'])\n",
        "plt.ylabel(\"Cantidad de ambientes que usan para dormir por hogar\")\n",
        "plt.title(\"Boxplot de cantidad de ambientes que usan para dormir por hogar\")"
      ],
      "metadata": {
        "colab": {
          "base_uri": "https://localhost:8080/",
          "height": 327
        },
        "id": "vd-XF476aHCl",
        "outputId": "94d9708f-b9b2-40d8-95b7-138837b18b2c"
      },
      "execution_count": 142,
      "outputs": [
        {
          "output_type": "execute_result",
          "data": {
            "text/plain": [
              "Text(0.5, 1.0, 'Boxplot de cantidad de ambientes que usan para dormir por hogar')"
            ]
          },
          "metadata": {},
          "execution_count": 142
        },
        {
          "output_type": "display_data",
          "data": {
            "text/plain": [
              "<Figure size 432x288 with 1 Axes>"
            ],
            "image/png": "[encoded data removed]"
          },
          "metadata": {
            "needs_background": "light"
          }
        }
      ]
    },
    {
      "cell_type": "code",
      "source": [
        "#acotamos el rango de 1 a 10\n",
        "\n",
        "df_dataset_corregido['II1'] = df_dataset_corregido['II1'].clip(lower=1,upper = 10)"
      ],
      "metadata": {
        "id": "rXcY_bxBbF4g"
      },
      "execution_count": 143,
      "outputs": []
    },
    {
      "cell_type": "code",
      "source": [
        "df_dataset_corregido['II1'].describe()"
      ],
      "metadata": {
        "colab": {
          "base_uri": "https://localhost:8080/"
        },
        "id": "Ianks1n0bM53",
        "outputId": "ee0b329f-c45f-49ec-ad99-fd560c0d8976"
      },
      "execution_count": 144,
      "outputs": [
        {
          "output_type": "execute_result",
          "data": {
            "text/plain": [
              "count    13455.000000\n",
              "mean         3.004311\n",
              "std          1.184414\n",
              "min          1.000000\n",
              "25%          2.000000\n",
              "50%          3.000000\n",
              "75%          4.000000\n",
              "max         10.000000\n",
              "Name: II1, dtype: float64"
            ]
          },
          "metadata": {},
          "execution_count": 144
        }
      ]
    },
    {
      "cell_type": "code",
      "source": [
        "df_dataset_corregido.to_csv('dataset_corregido.csv')"
      ],
      "metadata": {
        "id": "sOsYwP9VbSd1"
      },
      "execution_count": 145,
      "outputs": []
    },
    {
      "cell_type": "markdown",
      "source": [
        "# **Modelo**"
      ],
      "metadata": {
        "id": "NcSRC6qMbtjj"
      }
    },
    {
      "cell_type": "markdown",
      "source": [
        "**Experimento 1:**\n",
        "\n",
        "En esta primera instancia implementaremos una regresión logística\n"
      ],
      "metadata": {
        "id": "E03wJ9kKWaj4"
      }
    },
    {
      "cell_type": "code",
      "source": [
        "# Buscamos las variables categóricas\n",
        "\n",
        "categorical = [var for var in df_dataset_corregido.columns if df_dataset_corregido[var].dtype=='O']\n",
        "\n",
        "print('Hay {} variables categóricas\\n'.format(len(categorical)))\n",
        "\n",
        "print('Las variables categórica son:', categorical)"
      ],
      "metadata": {
        "colab": {
          "base_uri": "https://localhost:8080/"
        },
        "id": "zex0YOLubsCL",
        "outputId": "45805ea8-9db2-49b0-eb4f-85f0db9bafee"
      },
      "execution_count": 146,
      "outputs": [
        {
          "output_type": "stream",
          "name": "stdout",
          "text": [
            "Hay 1 variables categóricas\n",
            "\n",
            "Las variables categórica son: ['CODUSU']\n"
          ]
        }
      ]
    },
    {
      "cell_type": "code",
      "source": [
        "#borramos CODUSU y Nro de hogar\n",
        "df = df_dataset_corregido.drop(['CODUSU','NRO_HOGAR'], axis=1)"
      ],
      "metadata": {
        "id": "ouf96sEbguOE"
      },
      "execution_count": 147,
      "outputs": []
    },
    {
      "cell_type": "code",
      "source": [
        "df.head()"
      ],
      "metadata": {
        "colab": {
          "base_uri": "https://localhost:8080/",
          "height": 270
        },
        "id": "8iP-lm5Qg2_E",
        "outputId": "41826d17-d595-4b3c-fa4c-751344dc83a6"
      },
      "execution_count": 148,
      "outputs": [
        {
          "output_type": "execute_result",
          "data": {
            "text/plain": [
              "   AGLOMERADO  IV1  IV2  IV3  IV4  IV5  IV6  IV7  IV8  IV12_1  IV12_2  IV12_3  \\\n",
              "0          93    1    3    1    1    1    1    1    1       2       2       2   \n",
              "1          93    2    2    1    4    1    1    1    1       2       2       2   \n",
              "2          33    1    3    1    4    1    1    1    1       2       2       2   \n",
              "3          33    2    2    1    9    1    1    1    1       2       1       2   \n",
              "4          33    1    3    1    1    1    1    1    1       2       2       2   \n",
              "\n",
              "   II1  II2  II3  II3_1  II5_1  II6_1  V1  V2  V21  V22  V3  V4  V5  V6  V7  \\\n",
              "0    3    1    2      0      0      0   2   1    2    2   2   2   2   2   2   \n",
              "1    2    2    2      0      0      0   1   2    2    2   2   2   2   2   2   \n",
              "2    3    3    2      0      0      0   1   1    2    2   2   2   2   2   2   \n",
              "3    2    1    2      0      0      0   1   2    2    2   2   2   2   2   2   \n",
              "4    3    2    2      0      0      0   1   2    2    2   2   2   2   2   2   \n",
              "\n",
              "   V8  V9  V10  V11  V12  V13  V14  V15  V16  V17  V18  V19_A  V19_B  IX_TOT  \\\n",
              "0   2   2    2    2    2    2    2    1    1    2    2      2      2       2   \n",
              "1   2   2    2    2    2    2    2    2    1    2    2      2      2       4   \n",
              "2   2   2    2    2    2    1    2    1    1    2    2      2      2       4   \n",
              "3   2   2    2    2    2    2    1    2    1    2    2      2      2       2   \n",
              "4   2   2    2    2    2    1    1    2    1    2    2      2      2       3   \n",
              "\n",
              "   IX_MEN10  IX_MAYEQ10    ITF      IPCF  VII1_1  VII1_2  VII2_1  VII2_2  \\\n",
              "0         0           2  77500  38750.00       1       2      98       0   \n",
              "1         1           3  85000  21250.00       2       0      98       0   \n",
              "2         0           4  96870  24217.50       1       2      98       0   \n",
              "3         0           2  90000  45000.00       1       2      98       0   \n",
              "4         0           3  92000  30666.67       2       1      98       0   \n",
              "\n",
              "   VII2_3  VII2_4  parentesco  genero  edad  cob_medica  NIVEL_ED  CAT_OCUP  \\\n",
              "0       0       0           1       1    72           1         2         9   \n",
              "1       0       0           1       1    38           1         4         3   \n",
              "2       0       0           1       1    67           1         4         3   \n",
              "3       0       0           1       1    35           1         5         3   \n",
              "4       0       0           1       2    33           1         6         3   \n",
              "\n",
              "   CAT_INAC  AE_ctrol_ind_sum  adulto_equivalente  pobreza  IV9  IV10  IV11  \\\n",
              "0         1              1.50            51666.67        0    1     1     1   \n",
              "1         0              3.13            27156.55        0    1     1     1   \n",
              "2         0              3.33            29090.09        0    1     2     3   \n",
              "3         0              1.77            50847.46        0    1     1     1   \n",
              "4         0              2.54            36220.47        0    1     1     1   \n",
              "\n",
              "   II4_1  II4_2  II4_3  II5  II6  II7  II8  II9  \n",
              "0      1      1      2    2    2    1    1    1  \n",
              "1      1      2      2    2    2    6    1    1  \n",
              "2      1      1      2    2    2    1    1    1  \n",
              "3      1      2      1    2    2    1    1    1  \n",
              "4      1      1      1    2    2    1    1    1  "
            ],
            "text/html": [
              "\n",
              "  <div id=\"df-192c1a6a-aff4-4bed-9e3d-813dd52f3e2a\">\n",
              "    <div class=\"colab-df-container\">\n",
              "      <div>\n",
              "<style scoped>\n",
              "    .dataframe tbody tr th:only-of-type {\n",
              "        vertical-align: middle;\n",
              "    }\n",
              "\n",
              "    .dataframe tbody tr th {\n",
              "        vertical-align: top;\n",
              "    }\n",
              "\n",
              "    .dataframe thead th {\n",
              "        text-align: right;\n",
              "    }\n",
              "</style>\n",
              "<table border=\"1\" class=\"dataframe\">\n",
              "  <thead>\n",
              "    <tr style=\"text-align: right;\">\n",
              "      <th></th>\n",
              "      <th>AGLOMERADO</th>\n",
              "      <th>IV1</th>\n",
              "      <th>IV2</th>\n",
              "      <th>IV3</th>\n",
              "      <th>IV4</th>\n",
              "      <th>IV5</th>\n",
              "      <th>IV6</th>\n",
              "      <th>IV7</th>\n",
              "      <th>IV8</th>\n",
              "      <th>IV12_1</th>\n",
              "      <th>IV12_2</th>\n",
              "      <th>IV12_3</th>\n",
              "      <th>II1</th>\n",
              "      <th>II2</th>\n",
              "      <th>II3</th>\n",
              "      <th>II3_1</th>\n",
              "      <th>II5_1</th>\n",
              "      <th>II6_1</th>\n",
              "      <th>V1</th>\n",
              "      <th>V2</th>\n",
              "      <th>V21</th>\n",
              "      <th>V22</th>\n",
              "      <th>V3</th>\n",
              "      <th>V4</th>\n",
              "      <th>V5</th>\n",
              "      <th>V6</th>\n",
              "      <th>V7</th>\n",
              "      <th>V8</th>\n",
              "      <th>V9</th>\n",
              "      <th>V10</th>\n",
              "      <th>V11</th>\n",
              "      <th>V12</th>\n",
              "      <th>V13</th>\n",
              "      <th>V14</th>\n",
              "      <th>V15</th>\n",
              "      <th>V16</th>\n",
              "      <th>V17</th>\n",
              "      <th>V18</th>\n",
              "      <th>V19_A</th>\n",
              "      <th>V19_B</th>\n",
              "      <th>IX_TOT</th>\n",
              "      <th>IX_MEN10</th>\n",
              "      <th>IX_MAYEQ10</th>\n",
              "      <th>ITF</th>\n",
              "      <th>IPCF</th>\n",
              "      <th>VII1_1</th>\n",
              "      <th>VII1_2</th>\n",
              "      <th>VII2_1</th>\n",
              "      <th>VII2_2</th>\n",
              "      <th>VII2_3</th>\n",
              "      <th>VII2_4</th>\n",
              "      <th>parentesco</th>\n",
              "      <th>genero</th>\n",
              "      <th>edad</th>\n",
              "      <th>cob_medica</th>\n",
              "      <th>NIVEL_ED</th>\n",
              "      <th>CAT_OCUP</th>\n",
              "      <th>CAT_INAC</th>\n",
              "      <th>AE_ctrol_ind_sum</th>\n",
              "      <th>adulto_equivalente</th>\n",
              "      <th>pobreza</th>\n",
              "      <th>IV9</th>\n",
              "      <th>IV10</th>\n",
              "      <th>IV11</th>\n",
              "      <th>II4_1</th>\n",
              "      <th>II4_2</th>\n",
              "      <th>II4_3</th>\n",
              "      <th>II5</th>\n",
              "      <th>II6</th>\n",
              "      <th>II7</th>\n",
              "      <th>II8</th>\n",
              "      <th>II9</th>\n",
              "    </tr>\n",
              "  </thead>\n",
              "  <tbody>\n",
              "    <tr>\n",
              "      <th>0</th>\n",
              "      <td>93</td>\n",
              "      <td>1</td>\n",
              "      <td>3</td>\n",
              "      <td>1</td>\n",
              "      <td>1</td>\n",
              "      <td>1</td>\n",
              "      <td>1</td>\n",
              "      <td>1</td>\n",
              "      <td>1</td>\n",
              "      <td>2</td>\n",
              "      <td>2</td>\n",
              "      <td>2</td>\n",
              "      <td>3</td>\n",
              "      <td>1</td>\n",
              "      <td>2</td>\n",
              "      <td>0</td>\n",
              "      <td>0</td>\n",
              "      <td>0</td>\n",
              "      <td>2</td>\n",
              "      <td>1</td>\n",
              "      <td>2</td>\n",
              "      <td>2</td>\n",
              "      <td>2</td>\n",
              "      <td>2</td>\n",
              "      <td>2</td>\n",
              "      <td>2</td>\n",
              "      <td>2</td>\n",
              "      <td>2</td>\n",
              "      <td>2</td>\n",
              "      <td>2</td>\n",
              "      <td>2</td>\n",
              "      <td>2</td>\n",
              "      <td>2</td>\n",
              "      <td>2</td>\n",
              "      <td>1</td>\n",
              "      <td>1</td>\n",
              "      <td>2</td>\n",
              "      <td>2</td>\n",
              "      <td>2</td>\n",
              "      <td>2</td>\n",
              "      <td>2</td>\n",
              "      <td>0</td>\n",
              "      <td>2</td>\n",
              "      <td>77500</td>\n",
              "      <td>38750.00</td>\n",
              "      <td>1</td>\n",
              "      <td>2</td>\n",
              "      <td>98</td>\n",
              "      <td>0</td>\n",
              "      <td>0</td>\n",
              "      <td>0</td>\n",
              "      <td>1</td>\n",
              "      <td>1</td>\n",
              "      <td>72</td>\n",
              "      <td>1</td>\n",
              "      <td>2</td>\n",
              "      <td>9</td>\n",
              "      <td>1</td>\n",
              "      <td>1.50</td>\n",
              "      <td>51666.67</td>\n",
              "      <td>0</td>\n",
              "      <td>1</td>\n",
              "      <td>1</td>\n",
              "      <td>1</td>\n",
              "      <td>1</td>\n",
              "      <td>1</td>\n",
              "      <td>2</td>\n",
              "      <td>2</td>\n",
              "      <td>2</td>\n",
              "      <td>1</td>\n",
              "      <td>1</td>\n",
              "      <td>1</td>\n",
              "    </tr>\n",
              "    <tr>\n",
              "      <th>1</th>\n",
              "      <td>93</td>\n",
              "      <td>2</td>\n",
              "      <td>2</td>\n",
              "      <td>1</td>\n",
              "      <td>4</td>\n",
              "      <td>1</td>\n",
              "      <td>1</td>\n",
              "      <td>1</td>\n",
              "      <td>1</td>\n",
              "      <td>2</td>\n",
              "      <td>2</td>\n",
              "      <td>2</td>\n",
              "      <td>2</td>\n",
              "      <td>2</td>\n",
              "      <td>2</td>\n",
              "      <td>0</td>\n",
              "      <td>0</td>\n",
              "      <td>0</td>\n",
              "      <td>1</td>\n",
              "      <td>2</td>\n",
              "      <td>2</td>\n",
              "      <td>2</td>\n",
              "      <td>2</td>\n",
              "      <td>2</td>\n",
              "      <td>2</td>\n",
              "      <td>2</td>\n",
              "      <td>2</td>\n",
              "      <td>2</td>\n",
              "      <td>2</td>\n",
              "      <td>2</td>\n",
              "      <td>2</td>\n",
              "      <td>2</td>\n",
              "      <td>2</td>\n",
              "      <td>2</td>\n",
              "      <td>2</td>\n",
              "      <td>1</td>\n",
              "      <td>2</td>\n",
              "      <td>2</td>\n",
              "      <td>2</td>\n",
              "      <td>2</td>\n",
              "      <td>4</td>\n",
              "      <td>1</td>\n",
              "      <td>3</td>\n",
              "      <td>85000</td>\n",
              "      <td>21250.00</td>\n",
              "      <td>2</td>\n",
              "      <td>0</td>\n",
              "      <td>98</td>\n",
              "      <td>0</td>\n",
              "      <td>0</td>\n",
              "      <td>0</td>\n",
              "      <td>1</td>\n",
              "      <td>1</td>\n",
              "      <td>38</td>\n",
              "      <td>1</td>\n",
              "      <td>4</td>\n",
              "      <td>3</td>\n",
              "      <td>0</td>\n",
              "      <td>3.13</td>\n",
              "      <td>27156.55</td>\n",
              "      <td>0</td>\n",
              "      <td>1</td>\n",
              "      <td>1</td>\n",
              "      <td>1</td>\n",
              "      <td>1</td>\n",
              "      <td>2</td>\n",
              "      <td>2</td>\n",
              "      <td>2</td>\n",
              "      <td>2</td>\n",
              "      <td>6</td>\n",
              "      <td>1</td>\n",
              "      <td>1</td>\n",
              "    </tr>\n",
              "    <tr>\n",
              "      <th>2</th>\n",
              "      <td>33</td>\n",
              "      <td>1</td>\n",
              "      <td>3</td>\n",
              "      <td>1</td>\n",
              "      <td>4</td>\n",
              "      <td>1</td>\n",
              "      <td>1</td>\n",
              "      <td>1</td>\n",
              "      <td>1</td>\n",
              "      <td>2</td>\n",
              "      <td>2</td>\n",
              "      <td>2</td>\n",
              "      <td>3</td>\n",
              "      <td>3</td>\n",
              "      <td>2</td>\n",
              "      <td>0</td>\n",
              "      <td>0</td>\n",
              "      <td>0</td>\n",
              "      <td>1</td>\n",
              "      <td>1</td>\n",
              "      <td>2</td>\n",
              "      <td>2</td>\n",
              "      <td>2</td>\n",
              "      <td>2</td>\n",
              "      <td>2</td>\n",
              "      <td>2</td>\n",
              "      <td>2</td>\n",
              "      <td>2</td>\n",
              "      <td>2</td>\n",
              "      <td>2</td>\n",
              "      <td>2</td>\n",
              "      <td>2</td>\n",
              "      <td>1</td>\n",
              "      <td>2</td>\n",
              "      <td>1</td>\n",
              "      <td>1</td>\n",
              "      <td>2</td>\n",
              "      <td>2</td>\n",
              "      <td>2</td>\n",
              "      <td>2</td>\n",
              "      <td>4</td>\n",
              "      <td>0</td>\n",
              "      <td>4</td>\n",
              "      <td>96870</td>\n",
              "      <td>24217.50</td>\n",
              "      <td>1</td>\n",
              "      <td>2</td>\n",
              "      <td>98</td>\n",
              "      <td>0</td>\n",
              "      <td>0</td>\n",
              "      <td>0</td>\n",
              "      <td>1</td>\n",
              "      <td>1</td>\n",
              "      <td>67</td>\n",
              "      <td>1</td>\n",
              "      <td>4</td>\n",
              "      <td>3</td>\n",
              "      <td>0</td>\n",
              "      <td>3.33</td>\n",
              "      <td>29090.09</td>\n",
              "      <td>0</td>\n",
              "      <td>1</td>\n",
              "      <td>2</td>\n",
              "      <td>3</td>\n",
              "      <td>1</td>\n",
              "      <td>1</td>\n",
              "      <td>2</td>\n",
              "      <td>2</td>\n",
              "      <td>2</td>\n",
              "      <td>1</td>\n",
              "      <td>1</td>\n",
              "      <td>1</td>\n",
              "    </tr>\n",
              "    <tr>\n",
              "      <th>3</th>\n",
              "      <td>33</td>\n",
              "      <td>2</td>\n",
              "      <td>2</td>\n",
              "      <td>1</td>\n",
              "      <td>9</td>\n",
              "      <td>1</td>\n",
              "      <td>1</td>\n",
              "      <td>1</td>\n",
              "      <td>1</td>\n",
              "      <td>2</td>\n",
              "      <td>1</td>\n",
              "      <td>2</td>\n",
              "      <td>2</td>\n",
              "      <td>1</td>\n",
              "      <td>2</td>\n",
              "      <td>0</td>\n",
              "      <td>0</td>\n",
              "      <td>0</td>\n",
              "      <td>1</td>\n",
              "      <td>2</td>\n",
              "      <td>2</td>\n",
              "      <td>2</td>\n",
              "      <td>2</td>\n",
              "      <td>2</td>\n",
              "      <td>2</td>\n",
              "      <td>2</td>\n",
              "      <td>2</td>\n",
              "      <td>2</td>\n",
              "      <td>2</td>\n",
              "      <td>2</td>\n",
              "      <td>2</td>\n",
              "      <td>2</td>\n",
              "      <td>2</td>\n",
              "      <td>1</td>\n",
              "      <td>2</td>\n",
              "      <td>1</td>\n",
              "      <td>2</td>\n",
              "      <td>2</td>\n",
              "      <td>2</td>\n",
              "      <td>2</td>\n",
              "      <td>2</td>\n",
              "      <td>0</td>\n",
              "      <td>2</td>\n",
              "      <td>90000</td>\n",
              "      <td>45000.00</td>\n",
              "      <td>1</td>\n",
              "      <td>2</td>\n",
              "      <td>98</td>\n",
              "      <td>0</td>\n",
              "      <td>0</td>\n",
              "      <td>0</td>\n",
              "      <td>1</td>\n",
              "      <td>1</td>\n",
              "      <td>35</td>\n",
              "      <td>1</td>\n",
              "      <td>5</td>\n",
              "      <td>3</td>\n",
              "      <td>0</td>\n",
              "      <td>1.77</td>\n",
              "      <td>50847.46</td>\n",
              "      <td>0</td>\n",
              "      <td>1</td>\n",
              "      <td>1</td>\n",
              "      <td>1</td>\n",
              "      <td>1</td>\n",
              "      <td>2</td>\n",
              "      <td>1</td>\n",
              "      <td>2</td>\n",
              "      <td>2</td>\n",
              "      <td>1</td>\n",
              "      <td>1</td>\n",
              "      <td>1</td>\n",
              "    </tr>\n",
              "    <tr>\n",
              "      <th>4</th>\n",
              "      <td>33</td>\n",
              "      <td>1</td>\n",
              "      <td>3</td>\n",
              "      <td>1</td>\n",
              "      <td>1</td>\n",
              "      <td>1</td>\n",
              "      <td>1</td>\n",
              "      <td>1</td>\n",
              "      <td>1</td>\n",
              "      <td>2</td>\n",
              "      <td>2</td>\n",
              "      <td>2</td>\n",
              "      <td>3</td>\n",
              "      <td>2</td>\n",
              "      <td>2</td>\n",
              "      <td>0</td>\n",
              "      <td>0</td>\n",
              "      <td>0</td>\n",
              "      <td>1</td>\n",
              "      <td>2</td>\n",
              "      <td>2</td>\n",
              "      <td>2</td>\n",
              "      <td>2</td>\n",
              "      <td>2</td>\n",
              "      <td>2</td>\n",
              "      <td>2</td>\n",
              "      <td>2</td>\n",
              "      <td>2</td>\n",
              "      <td>2</td>\n",
              "      <td>2</td>\n",
              "      <td>2</td>\n",
              "      <td>2</td>\n",
              "      <td>1</td>\n",
              "      <td>1</td>\n",
              "      <td>2</td>\n",
              "      <td>1</td>\n",
              "      <td>2</td>\n",
              "      <td>2</td>\n",
              "      <td>2</td>\n",
              "      <td>2</td>\n",
              "      <td>3</td>\n",
              "      <td>0</td>\n",
              "      <td>3</td>\n",
              "      <td>92000</td>\n",
              "      <td>30666.67</td>\n",
              "      <td>2</td>\n",
              "      <td>1</td>\n",
              "      <td>98</td>\n",
              "      <td>0</td>\n",
              "      <td>0</td>\n",
              "      <td>0</td>\n",
              "      <td>1</td>\n",
              "      <td>2</td>\n",
              "      <td>33</td>\n",
              "      <td>1</td>\n",
              "      <td>6</td>\n",
              "      <td>3</td>\n",
              "      <td>0</td>\n",
              "      <td>2.54</td>\n",
              "      <td>36220.47</td>\n",
              "      <td>0</td>\n",
              "      <td>1</td>\n",
              "      <td>1</td>\n",
              "      <td>1</td>\n",
              "      <td>1</td>\n",
              "      <td>1</td>\n",
              "      <td>1</td>\n",
              "      <td>2</td>\n",
              "      <td>2</td>\n",
              "      <td>1</td>\n",
              "      <td>1</td>\n",
              "      <td>1</td>\n",
              "    </tr>\n",
              "  </tbody>\n",
              "</table>\n",
              "</div>\n",
              "      <button class=\"colab-df-convert\" onclick=\"convertToInteractive('df-192c1a6a-aff4-4bed-9e3d-813dd52f3e2a')\"\n",
              "              title=\"Convert this dataframe to an interactive table.\"\n",
              "              style=\"display:none;\">\n",
              "        \n",
              "  <svg xmlns=\"http://www.w3.org/2000/svg\" height=\"24px\"viewBox=\"0 0 24 24\"\n",
              "       width=\"24px\">\n",
              "    <path d=\"M0 0h24v24H0V0z\" fill=\"none\"/>\n",
              "    <path d=\"M18.56 5.44l.94 2.06.94-2.06 2.06-.94-2.06-.94-.94-2.06-.94 2.06-2.06.94zm-11 1L8.5 8.5l.94-2.06 2.06-.94-2.06-.94L8.5 2.5l-.94 2.06-2.06.94zm10 10l.94 2.06.94-2.06 2.06-.94-2.06-.94-.94-2.06-.94 2.06-2.06.94z\"/><path d=\"M17.41 7.96l-1.37-1.37c-.4-.4-.92-.59-1.43-.59-.52 0-1.04.2-1.43.59L10.3 9.45l-7.72 7.72c-.78.78-.78 2.05 0 2.83L4 21.41c.39.39.9.59 1.41.59.51 0 1.02-.2 1.41-.59l7.78-7.78 2.81-2.81c.8-.78.8-2.07 0-2.86zM5.41 20L4 18.59l7.72-7.72 1.47 1.35L5.41 20z\"/>\n",
              "  </svg>\n",
              "      </button>\n",
              "      \n",
              "  <style>\n",
              "    .colab-df-container {\n",
              "      display:flex;\n",
              "      flex-wrap:wrap;\n",
              "      gap: 12px;\n",
              "    }\n",
              "\n",
              "    .colab-df-convert {\n",
              "      background-color: #E8F0FE;\n",
              "      border: none;\n",
              "      border-radius: 50%;\n",
              "      cursor: pointer;\n",
              "      display: none;\n",
              "      fill: #1967D2;\n",
              "      height: 32px;\n",
              "      padding: 0 0 0 0;\n",
              "      width: 32px;\n",
              "    }\n",
              "\n",
              "    .colab-df-convert:hover {\n",
              "      background-color: #E2EBFA;\n",
              "      box-shadow: 0px 1px 2px rgba(60, 64, 67, 0.3), 0px 1px 3px 1px rgba(60, 64, 67, 0.15);\n",
              "      fill: #174EA6;\n",
              "    }\n",
              "\n",
              "    [theme=dark] .colab-df-convert {\n",
              "      background-color: #3B4455;\n",
              "      fill: #D2E3FC;\n",
              "    }\n",
              "\n",
              "    [theme=dark] .colab-df-convert:hover {\n",
              "      background-color: #434B5C;\n",
              "      box-shadow: 0px 1px 3px 1px rgba(0, 0, 0, 0.15);\n",
              "      filter: drop-shadow(0px 1px 2px rgba(0, 0, 0, 0.3));\n",
              "      fill: #FFFFFF;\n",
              "    }\n",
              "  </style>\n",
              "\n",
              "      <script>\n",
              "        const buttonEl =\n",
              "          document.querySelector('#df-192c1a6a-aff4-4bed-9e3d-813dd52f3e2a button.colab-df-convert');\n",
              "        buttonEl.style.display =\n",
              "          google.colab.kernel.accessAllowed ? 'block' : 'none';\n",
              "\n",
              "        async function convertToInteractive(key) {\n",
              "          const element = document.querySelector('#df-192c1a6a-aff4-4bed-9e3d-813dd52f3e2a');\n",
              "          const dataTable =\n",
              "            await google.colab.kernel.invokeFunction('convertToInteractive',\n",
              "                                                     [key], {});\n",
              "          if (!dataTable) return;\n",
              "\n",
              "          const docLinkHtml = 'Like what you see? Visit the ' +\n",
              "            '<a target=\"_blank\" href=https://colab.research.google.com/notebooks/data_table.ipynb>data table notebook</a>'\n",
              "            + ' to learn more about interactive tables.';\n",
              "          element.innerHTML = '';\n",
              "          dataTable['output_type'] = 'display_data';\n",
              "          await google.colab.output.renderOutput(dataTable, element);\n",
              "          const docLink = document.createElement('div');\n",
              "          docLink.innerHTML = docLinkHtml;\n",
              "          element.appendChild(docLink);\n",
              "        }\n",
              "      </script>\n",
              "    </div>\n",
              "  </div>\n",
              "  "
            ]
          },
          "metadata": {},
          "execution_count": 148
        }
      ]
    },
    {
      "cell_type": "code",
      "source": [
        "#creamos la variable objetivo\n",
        "df['pobreza'].value_counts()"
      ],
      "metadata": {
        "colab": {
          "base_uri": "https://localhost:8080/"
        },
        "id": "FnekUpDzhFfn",
        "outputId": "e61702eb-a7ad-4fda-8f8b-415b0d8a10f8"
      },
      "execution_count": 149,
      "outputs": [
        {
          "output_type": "execute_result",
          "data": {
            "text/plain": [
              "0    9196\n",
              "1    4259\n",
              "Name: pobreza, dtype: int64"
            ]
          },
          "metadata": {},
          "execution_count": 149
        }
      ]
    },
    {
      "cell_type": "code",
      "source": [
        "X = df.drop(['pobreza'], axis=1)\n",
        "\n",
        "y = df['pobreza']"
      ],
      "metadata": {
        "id": "lCiwOAM4h98B"
      },
      "execution_count": 150,
      "outputs": []
    },
    {
      "cell_type": "code",
      "source": [
        "# dividir X e y en sets de entrenamiento y de prueba\n",
        "\n",
        "from sklearn.model_selection import train_test_split\n",
        "\n",
        "X_train, X_test, y_train, y_test = train_test_split(X, y, test_size = 0.3, random_state = 0)"
      ],
      "metadata": {
        "id": "uEFsPGS8iMe3"
      },
      "execution_count": 152,
      "outputs": []
    },
    {
      "cell_type": "code",
      "source": [
        "# comprobar X_train y X_test\n",
        "\n",
        "X_train.shape, X_test.shape"
      ],
      "metadata": {
        "colab": {
          "base_uri": "https://localhost:8080/"
        },
        "id": "ZOaJed4SiQwm",
        "outputId": "44d0b2ae-4159-43df-df4f-1cc48b66748f"
      },
      "execution_count": 153,
      "outputs": [
        {
          "output_type": "execute_result",
          "data": {
            "text/plain": [
              "((9418, 71), (4037, 71))"
            ]
          },
          "metadata": {},
          "execution_count": 153
        }
      ]
    },
    {
      "cell_type": "code",
      "source": [
        "cols = X_train.columns"
      ],
      "metadata": {
        "id": "dzxPbSKLiUgo"
      },
      "execution_count": 154,
      "outputs": []
    },
    {
      "cell_type": "code",
      "source": [
        "from sklearn.preprocessing import MinMaxScaler\n",
        "\n",
        "scaler = MinMaxScaler()\n",
        "\n",
        "X_train = scaler.fit_transform(X_train)\n",
        "\n",
        "X_test = scaler.transform(X_test)"
      ],
      "metadata": {
        "id": "zAIHRZA0iXvW"
      },
      "execution_count": 155,
      "outputs": []
    },
    {
      "cell_type": "code",
      "source": [
        "X_train = pd.DataFrame(X_train, columns=[cols])"
      ],
      "metadata": {
        "id": "0ehsy1xVidH2"
      },
      "execution_count": 156,
      "outputs": []
    },
    {
      "cell_type": "code",
      "source": [
        "X_test = pd.DataFrame(X_test, columns=[cols])"
      ],
      "metadata": {
        "id": "En0VGKPaieUw"
      },
      "execution_count": 157,
      "outputs": []
    },
    {
      "cell_type": "code",
      "source": [
        "X_train.describe()"
      ],
      "metadata": {
        "colab": {
          "base_uri": "https://localhost:8080/",
          "height": 364
        },
        "id": "BNxkEZQUigiy",
        "outputId": "17691510-8e54-4b18-d00a-3b6d38973c70"
      },
      "execution_count": 158,
      "outputs": [
        {
          "output_type": "execute_result",
          "data": {
            "text/plain": [
              "        AGLOMERADO          IV1          IV2          IV3          IV4  \\\n",
              "count  9418.000000  9418.000000  9418.000000  9418.000000  9418.000000   \n",
              "mean      0.246373     0.040476     0.225195     0.039888     0.238612   \n",
              "std       0.217203     0.093730     0.130666     0.117902     0.250066   \n",
              "min       0.000000     0.000000     0.000000     0.000000     0.000000   \n",
              "25%       0.109890     0.000000     0.111111     0.000000     0.000000   \n",
              "50%       0.219780     0.000000     0.222222     0.000000     0.125000   \n",
              "75%       0.329670     0.000000     0.333333     0.000000     0.375000   \n",
              "max       1.000000     1.000000     1.000000     1.000000     1.000000   \n",
              "\n",
              "               IV5          IV6          IV7          IV8       IV12_1  \\\n",
              "count  9418.000000  9418.000000  9418.000000  9418.000000  9418.000000   \n",
              "mean      0.134954     0.010830     0.010724     0.002867     0.942238   \n",
              "std       0.341693     0.079083     0.066006     0.053469     0.233305   \n",
              "min       0.000000     0.000000     0.000000     0.000000     0.000000   \n",
              "25%       0.000000     0.000000     0.000000     0.000000     1.000000   \n",
              "50%       0.000000     0.000000     0.000000     0.000000     1.000000   \n",
              "75%       0.000000     0.000000     0.000000     0.000000     1.000000   \n",
              "max       1.000000     1.000000     1.000000     1.000000     1.000000   \n",
              "\n",
              "            IV12_2       IV12_3          II1          II2          II3  \\\n",
              "count  9418.000000  9418.000000  9418.000000  9418.000000  9418.000000   \n",
              "mean      0.942026     0.992249     0.220806     0.264114     0.971491   \n",
              "std       0.233707     0.087703     0.130410     0.121330     0.117763   \n",
              "min       0.000000     0.000000     0.000000     0.000000     0.000000   \n",
              "25%       1.000000     1.000000     0.111111     0.142857     1.000000   \n",
              "50%       1.000000     1.000000     0.222222     0.285714     1.000000   \n",
              "75%       1.000000     1.000000     0.333333     0.285714     1.000000   \n",
              "max       1.000000     1.000000     1.000000     1.000000     1.000000   \n",
              "\n",
              "             II3_1        II5_1        II6_1           V1           V2  \\\n",
              "count  9418.000000  9418.000000  9418.000000  9418.000000  9418.000000   \n",
              "mean      0.019042     0.003345     0.003646     0.027700     0.074034   \n",
              "std       0.080062     0.044496     0.038538     0.052805     0.062182   \n",
              "min       0.000000     0.000000     0.000000     0.000000     0.000000   \n",
              "25%       0.000000     0.000000     0.000000     0.000000     0.000000   \n",
              "50%       0.000000     0.000000     0.000000     0.000000     0.125000   \n",
              "75%       0.000000     0.000000     0.000000     0.000000     0.125000   \n",
              "max       1.000000     1.000000     1.000000     1.000000     1.000000   \n",
              "\n",
              "               V21          V22           V3           V4           V5  \\\n",
              "count  9418.000000  9418.000000  9418.000000  9418.000000  9418.000000   \n",
              "mean      0.994054     0.992567     0.124854     0.124562     0.104600   \n",
              "std       0.076885     0.085896     0.010543     0.012144     0.047191   \n",
              "min       0.000000     0.000000     0.000000     0.000000     0.000000   \n",
              "25%       1.000000     1.000000     0.125000     0.125000     0.125000   \n",
              "50%       1.000000     1.000000     0.125000     0.125000     0.125000   \n",
              "75%       1.000000     1.000000     0.125000     0.125000     0.125000   \n",
              "max       1.000000     1.000000     1.000000     1.000000     1.000000   \n",
              "\n",
              "                V6           V7           V8           V9          V10  \\\n",
              "count  9418.000000  9418.000000  9418.000000  9418.000000  9418.000000   \n",
              "mean      0.117859     0.113294     0.122093     0.124867     0.124323   \n",
              "std       0.030571     0.037674     0.021162     0.010464     0.013307   \n",
              "min       0.000000     0.000000     0.000000     0.000000     0.000000   \n",
              "25%       0.125000     0.125000     0.125000     0.125000     0.125000   \n",
              "50%       0.125000     0.125000     0.125000     0.125000     0.125000   \n",
              "75%       0.125000     0.125000     0.125000     0.125000     0.125000   \n",
              "max       1.000000     1.000000     1.000000     1.000000     1.000000   \n",
              "\n",
              "               V11          V12          V13          V14          V15  \\\n",
              "count  9418.000000  9418.000000  9418.000000  9418.000000  9418.000000   \n",
              "mean      0.121854     0.114103     0.089350     0.107281     0.109272   \n",
              "std       0.021823     0.036557     0.057259     0.044654     0.042564   \n",
              "min       0.000000     0.000000     0.000000     0.000000     0.000000   \n",
              "25%       0.125000     0.125000     0.000000     0.125000     0.125000   \n",
              "50%       0.125000     0.125000     0.125000     0.125000     0.125000   \n",
              "75%       0.125000     0.125000     0.125000     0.125000     0.125000   \n",
              "max       1.000000     1.000000     1.000000     1.000000     1.000000   \n",
              "\n",
              "               V16          V17          V18        V19_A        V19_B  \\\n",
              "count  9418.000000  9418.000000  9418.000000  9418.000000  9418.000000   \n",
              "mean      0.060562     0.112497     0.124894     0.000106     0.125066   \n",
              "std       0.063213     0.038724     0.010304     0.010304     0.009199   \n",
              "min       0.000000     0.000000     0.000000     0.000000     0.000000   \n",
              "25%       0.000000     0.125000     0.125000     0.000000     0.125000   \n",
              "50%       0.000000     0.125000     0.125000     0.000000     0.125000   \n",
              "75%       0.125000     0.125000     0.125000     0.000000     0.125000   \n",
              "max       1.000000     1.000000     1.000000     1.000000     1.000000   \n",
              "\n",
              "            IX_TOT     IX_MEN10   IX_MAYEQ10          ITF         IPCF  \\\n",
              "count  9418.000000  9418.000000  9418.000000  9418.000000  9418.000000   \n",
              "mean      0.148219     0.079019     0.139250     0.021295     0.018140   \n",
              "std       0.130465     0.148517     0.124870     0.020165     0.019835   \n",
              "min       0.000000     0.000000     0.000000     0.000000     0.000000   \n",
              "25%       0.076923     0.000000     0.090909     0.010932     0.008510   \n",
              "50%       0.153846     0.000000     0.090909     0.017129     0.013549   \n",
              "75%       0.230769     0.200000     0.181818     0.026797     0.022224   \n",
              "max       1.000000     1.000000     1.000000     1.000000     1.000000   \n",
              "\n",
              "            VII1_1       VII1_2       VII2_1       VII2_2       VII2_3  \\\n",
              "count  9418.000000  9418.000000  9418.000000  9418.000000  9418.000000   \n",
              "mean      0.040449     0.006516     0.704007     0.004183     0.000971   \n",
              "std       0.185457     0.032253     0.451709     0.036732     0.012109   \n",
              "min       0.000000     0.000000     0.000000     0.000000     0.000000   \n",
              "25%       0.000000     0.000000     0.020619     0.000000     0.000000   \n",
              "50%       0.000000     0.000000     1.000000     0.000000     0.000000   \n",
              "75%       0.010309     0.000000     1.000000     0.000000     0.000000   \n",
              "max       1.000000     1.000000     1.000000     1.000000     1.000000   \n",
              "\n",
              "            VII2_4 parentesco       genero         edad   cob_medica  \\\n",
              "count  9418.000000     9418.0  9418.000000  9418.000000  9418.000000   \n",
              "mean      0.001097        0.0     0.472181     0.424442     0.042588   \n",
              "std       0.026312        0.0     0.499252     0.201492     0.088093   \n",
              "min       0.000000        0.0     0.000000     0.000000     0.000000   \n",
              "25%       0.000000        0.0     0.000000     0.265060     0.000000   \n",
              "50%       0.000000        0.0     0.000000     0.409639     0.000000   \n",
              "75%       0.000000        0.0     1.000000     0.578313     0.090909   \n",
              "max       1.000000        0.0     1.000000     1.000000     1.000000   \n",
              "\n",
              "          NIVEL_ED     CAT_OCUP     CAT_INAC AE_ctrol_ind_sum  \\\n",
              "count  9418.000000  9418.000000  9418.000000      9418.000000   \n",
              "mean      0.461404     0.496775     0.078421         0.161026   \n",
              "std       0.265660     0.384550     0.146282         0.127591   \n",
              "min       0.000000     0.000000     0.000000         0.000000   \n",
              "25%       0.166667     0.250000     0.000000         0.072829   \n",
              "50%       0.500000     0.250000     0.000000         0.140990   \n",
              "75%       0.666667     1.000000     0.142857         0.239963   \n",
              "max       1.000000     1.000000     1.000000         1.000000   \n",
              "\n",
              "      adulto_equivalente          IV9         IV10         IV11        II4_1  \\\n",
              "count        9418.000000  9418.000000  9418.000000  9418.000000  9418.000000   \n",
              "mean            0.021435     0.015131     0.019749     0.084094     0.087280   \n",
              "std             0.022572     0.085967     0.101923     0.180150     0.282259   \n",
              "min             0.000000     0.000000     0.000000     0.000000     0.000000   \n",
              "25%             0.009947     0.000000     0.000000     0.000000     0.000000   \n",
              "50%             0.016309     0.000000     0.000000     0.000000     0.000000   \n",
              "75%             0.026596     0.000000     0.000000     0.000000     0.000000   \n",
              "max             1.000000     1.000000     1.000000     1.000000     1.000000   \n",
              "\n",
              "             II4_2        II4_3          II5          II6          II7  \\\n",
              "count  9418.000000  9418.000000  9418.000000  9418.000000  9418.000000   \n",
              "mean      0.551709     0.680824     0.993948     0.990019     0.117979   \n",
              "std       0.497345     0.466182     0.077564     0.099410     0.200777   \n",
              "min       0.000000     0.000000     0.000000     0.000000     0.000000   \n",
              "25%       0.000000     0.000000     1.000000     1.000000     0.000000   \n",
              "50%       1.000000     1.000000     1.000000     1.000000     0.000000   \n",
              "75%       1.000000     1.000000     1.000000     1.000000     0.250000   \n",
              "max       1.000000     1.000000     1.000000     1.000000     1.000000   \n",
              "\n",
              "               II8          II9  \n",
              "count  9418.000000  9418.000000  \n",
              "mean      0.129150     0.013308  \n",
              "std       0.177399     0.089770  \n",
              "min       0.000000     0.000000  \n",
              "25%       0.000000     0.000000  \n",
              "50%       0.000000     0.000000  \n",
              "75%       0.333333     0.000000  \n",
              "max       1.000000     1.000000  "
            ],
            "text/html": [
              "\n",
              "  <div id=\"df-b128ceee-41a8-4755-92a7-1db1c82a1ae1\">\n",
              "    <div class=\"colab-df-container\">\n",
              "      <div>\n",
              "<style scoped>\n",
              "    .dataframe tbody tr th:only-of-type {\n",
              "        vertical-align: middle;\n",
              "    }\n",
              "\n",
              "    .dataframe tbody tr th {\n",
              "        vertical-align: top;\n",
              "    }\n",
              "\n",
              "    .dataframe thead tr th {\n",
              "        text-align: left;\n",
              "    }\n",
              "</style>\n",
              "<table border=\"1\" class=\"dataframe\">\n",
              "  <thead>\n",
              "    <tr>\n",
              "      <th></th>\n",
              "      <th>AGLOMERADO</th>\n",
              "      <th>IV1</th>\n",
              "      <th>IV2</th>\n",
              "      <th>IV3</th>\n",
              "      <th>IV4</th>\n",
              "      <th>IV5</th>\n",
              "      <th>IV6</th>\n",
              "      <th>IV7</th>\n",
              "      <th>IV8</th>\n",
              "      <th>IV12_1</th>\n",
              "      <th>IV12_2</th>\n",
              "      <th>IV12_3</th>\n",
              "      <th>II1</th>\n",
              "      <th>II2</th>\n",
              "      <th>II3</th>\n",
              "      <th>II3_1</th>\n",
              "      <th>II5_1</th>\n",
              "      <th>II6_1</th>\n",
              "      <th>V1</th>\n",
              "      <th>V2</th>\n",
              "      <th>V21</th>\n",
              "      <th>V22</th>\n",
              "      <th>V3</th>\n",
              "      <th>V4</th>\n",
              "      <th>V5</th>\n",
              "      <th>V6</th>\n",
              "      <th>V7</th>\n",
              "      <th>V8</th>\n",
              "      <th>V9</th>\n",
              "      <th>V10</th>\n",
              "      <th>V11</th>\n",
              "      <th>V12</th>\n",
              "      <th>V13</th>\n",
              "      <th>V14</th>\n",
              "      <th>V15</th>\n",
              "      <th>V16</th>\n",
              "      <th>V17</th>\n",
              "      <th>V18</th>\n",
              "      <th>V19_A</th>\n",
              "      <th>V19_B</th>\n",
              "      <th>IX_TOT</th>\n",
              "      <th>IX_MEN10</th>\n",
              "      <th>IX_MAYEQ10</th>\n",
              "      <th>ITF</th>\n",
              "      <th>IPCF</th>\n",
              "      <th>VII1_1</th>\n",
              "      <th>VII1_2</th>\n",
              "      <th>VII2_1</th>\n",
              "      <th>VII2_2</th>\n",
              "      <th>VII2_3</th>\n",
              "      <th>VII2_4</th>\n",
              "      <th>parentesco</th>\n",
              "      <th>genero</th>\n",
              "      <th>edad</th>\n",
              "      <th>cob_medica</th>\n",
              "      <th>NIVEL_ED</th>\n",
              "      <th>CAT_OCUP</th>\n",
              "      <th>CAT_INAC</th>\n",
              "      <th>AE_ctrol_ind_sum</th>\n",
              "      <th>adulto_equivalente</th>\n",
              "      <th>IV9</th>\n",
              "      <th>IV10</th>\n",
              "      <th>IV11</th>\n",
              "      <th>II4_1</th>\n",
              "      <th>II4_2</th>\n",
              "      <th>II4_3</th>\n",
              "      <th>II5</th>\n",
              "      <th>II6</th>\n",
              "      <th>II7</th>\n",
              "      <th>II8</th>\n",
              "      <th>II9</th>\n",
              "    </tr>\n",
              "  </thead>\n",
              "  <tbody>\n",
              "    <tr>\n",
              "      <th>count</th>\n",
              "      <td>9418.000000</td>\n",
              "      <td>9418.000000</td>\n",
              "      <td>9418.000000</td>\n",
              "      <td>9418.000000</td>\n",
              "      <td>9418.000000</td>\n",
              "      <td>9418.000000</td>\n",
              "      <td>9418.000000</td>\n",
              "      <td>9418.000000</td>\n",
              "      <td>9418.000000</td>\n",
              "      <td>9418.000000</td>\n",
              "      <td>9418.000000</td>\n",
              "      <td>9418.000000</td>\n",
              "      <td>9418.000000</td>\n",
              "      <td>9418.000000</td>\n",
              "      <td>9418.000000</td>\n",
              "      <td>9418.000000</td>\n",
              "      <td>9418.000000</td>\n",
              "      <td>9418.000000</td>\n",
              "      <td>9418.000000</td>\n",
              "      <td>9418.000000</td>\n",
              "      <td>9418.000000</td>\n",
              "      <td>9418.000000</td>\n",
              "      <td>9418.000000</td>\n",
              "      <td>9418.000000</td>\n",
              "      <td>9418.000000</td>\n",
              "      <td>9418.000000</td>\n",
              "      <td>9418.000000</td>\n",
              "      <td>9418.000000</td>\n",
              "      <td>9418.000000</td>\n",
              "      <td>9418.000000</td>\n",
              "      <td>9418.000000</td>\n",
              "      <td>9418.000000</td>\n",
              "      <td>9418.000000</td>\n",
              "      <td>9418.000000</td>\n",
              "      <td>9418.000000</td>\n",
              "      <td>9418.000000</td>\n",
              "      <td>9418.000000</td>\n",
              "      <td>9418.000000</td>\n",
              "      <td>9418.000000</td>\n",
              "      <td>9418.000000</td>\n",
              "      <td>9418.000000</td>\n",
              "      <td>9418.000000</td>\n",
              "      <td>9418.000000</td>\n",
              "      <td>9418.000000</td>\n",
              "      <td>9418.000000</td>\n",
              "      <td>9418.000000</td>\n",
              "      <td>9418.000000</td>\n",
              "      <td>9418.000000</td>\n",
              "      <td>9418.000000</td>\n",
              "      <td>9418.000000</td>\n",
              "      <td>9418.000000</td>\n",
              "      <td>9418.0</td>\n",
              "      <td>9418.000000</td>\n",
              "      <td>9418.000000</td>\n",
              "      <td>9418.000000</td>\n",
              "      <td>9418.000000</td>\n",
              "      <td>9418.000000</td>\n",
              "      <td>9418.000000</td>\n",
              "      <td>9418.000000</td>\n",
              "      <td>9418.000000</td>\n",
              "      <td>9418.000000</td>\n",
              "      <td>9418.000000</td>\n",
              "      <td>9418.000000</td>\n",
              "      <td>9418.000000</td>\n",
              "      <td>9418.000000</td>\n",
              "      <td>9418.000000</td>\n",
              "      <td>9418.000000</td>\n",
              "      <td>9418.000000</td>\n",
              "      <td>9418.000000</td>\n",
              "      <td>9418.000000</td>\n",
              "      <td>9418.000000</td>\n",
              "    </tr>\n",
              "    <tr>\n",
              "      <th>mean</th>\n",
              "      <td>0.246373</td>\n",
              "      <td>0.040476</td>\n",
              "      <td>0.225195</td>\n",
              "      <td>0.039888</td>\n",
              "      <td>0.238612</td>\n",
              "      <td>0.134954</td>\n",
              "      <td>0.010830</td>\n",
              "      <td>0.010724</td>\n",
              "      <td>0.002867</td>\n",
              "      <td>0.942238</td>\n",
              "      <td>0.942026</td>\n",
              "      <td>0.992249</td>\n",
              "      <td>0.220806</td>\n",
              "      <td>0.264114</td>\n",
              "      <td>0.971491</td>\n",
              "      <td>0.019042</td>\n",
              "      <td>0.003345</td>\n",
              "      <td>0.003646</td>\n",
              "      <td>0.027700</td>\n",
              "      <td>0.074034</td>\n",
              "      <td>0.994054</td>\n",
              "      <td>0.992567</td>\n",
              "      <td>0.124854</td>\n",
              "      <td>0.124562</td>\n",
              "      <td>0.104600</td>\n",
              "      <td>0.117859</td>\n",
              "      <td>0.113294</td>\n",
              "      <td>0.122093</td>\n",
              "      <td>0.124867</td>\n",
              "      <td>0.124323</td>\n",
              "      <td>0.121854</td>\n",
              "      <td>0.114103</td>\n",
              "      <td>0.089350</td>\n",
              "      <td>0.107281</td>\n",
              "      <td>0.109272</td>\n",
              "      <td>0.060562</td>\n",
              "      <td>0.112497</td>\n",
              "      <td>0.124894</td>\n",
              "      <td>0.000106</td>\n",
              "      <td>0.125066</td>\n",
              "      <td>0.148219</td>\n",
              "      <td>0.079019</td>\n",
              "      <td>0.139250</td>\n",
              "      <td>0.021295</td>\n",
              "      <td>0.018140</td>\n",
              "      <td>0.040449</td>\n",
              "      <td>0.006516</td>\n",
              "      <td>0.704007</td>\n",
              "      <td>0.004183</td>\n",
              "      <td>0.000971</td>\n",
              "      <td>0.001097</td>\n",
              "      <td>0.0</td>\n",
              "      <td>0.472181</td>\n",
              "      <td>0.424442</td>\n",
              "      <td>0.042588</td>\n",
              "      <td>0.461404</td>\n",
              "      <td>0.496775</td>\n",
              "      <td>0.078421</td>\n",
              "      <td>0.161026</td>\n",
              "      <td>0.021435</td>\n",
              "      <td>0.015131</td>\n",
              "      <td>0.019749</td>\n",
              "      <td>0.084094</td>\n",
              "      <td>0.087280</td>\n",
              "      <td>0.551709</td>\n",
              "      <td>0.680824</td>\n",
              "      <td>0.993948</td>\n",
              "      <td>0.990019</td>\n",
              "      <td>0.117979</td>\n",
              "      <td>0.129150</td>\n",
              "      <td>0.013308</td>\n",
              "    </tr>\n",
              "    <tr>\n",
              "      <th>std</th>\n",
              "      <td>0.217203</td>\n",
              "      <td>0.093730</td>\n",
              "      <td>0.130666</td>\n",
              "      <td>0.117902</td>\n",
              "      <td>0.250066</td>\n",
              "      <td>0.341693</td>\n",
              "      <td>0.079083</td>\n",
              "      <td>0.066006</td>\n",
              "      <td>0.053469</td>\n",
              "      <td>0.233305</td>\n",
              "      <td>0.233707</td>\n",
              "      <td>0.087703</td>\n",
              "      <td>0.130410</td>\n",
              "      <td>0.121330</td>\n",
              "      <td>0.117763</td>\n",
              "      <td>0.080062</td>\n",
              "      <td>0.044496</td>\n",
              "      <td>0.038538</td>\n",
              "      <td>0.052805</td>\n",
              "      <td>0.062182</td>\n",
              "      <td>0.076885</td>\n",
              "      <td>0.085896</td>\n",
              "      <td>0.010543</td>\n",
              "      <td>0.012144</td>\n",
              "      <td>0.047191</td>\n",
              "      <td>0.030571</td>\n",
              "      <td>0.037674</td>\n",
              "      <td>0.021162</td>\n",
              "      <td>0.010464</td>\n",
              "      <td>0.013307</td>\n",
              "      <td>0.021823</td>\n",
              "      <td>0.036557</td>\n",
              "      <td>0.057259</td>\n",
              "      <td>0.044654</td>\n",
              "      <td>0.042564</td>\n",
              "      <td>0.063213</td>\n",
              "      <td>0.038724</td>\n",
              "      <td>0.010304</td>\n",
              "      <td>0.010304</td>\n",
              "      <td>0.009199</td>\n",
              "      <td>0.130465</td>\n",
              "      <td>0.148517</td>\n",
              "      <td>0.124870</td>\n",
              "      <td>0.020165</td>\n",
              "      <td>0.019835</td>\n",
              "      <td>0.185457</td>\n",
              "      <td>0.032253</td>\n",
              "      <td>0.451709</td>\n",
              "      <td>0.036732</td>\n",
              "      <td>0.012109</td>\n",
              "      <td>0.026312</td>\n",
              "      <td>0.0</td>\n",
              "      <td>0.499252</td>\n",
              "      <td>0.201492</td>\n",
              "      <td>0.088093</td>\n",
              "      <td>0.265660</td>\n",
              "      <td>0.384550</td>\n",
              "      <td>0.146282</td>\n",
              "      <td>0.127591</td>\n",
              "      <td>0.022572</td>\n",
              "      <td>0.085967</td>\n",
              "      <td>0.101923</td>\n",
              "      <td>0.180150</td>\n",
              "      <td>0.282259</td>\n",
              "      <td>0.497345</td>\n",
              "      <td>0.466182</td>\n",
              "      <td>0.077564</td>\n",
              "      <td>0.099410</td>\n",
              "      <td>0.200777</td>\n",
              "      <td>0.177399</td>\n",
              "      <td>0.089770</td>\n",
              "    </tr>\n",
              "    <tr>\n",
              "      <th>min</th>\n",
              "      <td>0.000000</td>\n",
              "      <td>0.000000</td>\n",
              "      <td>0.000000</td>\n",
              "      <td>0.000000</td>\n",
              "      <td>0.000000</td>\n",
              "      <td>0.000000</td>\n",
              "      <td>0.000000</td>\n",
              "      <td>0.000000</td>\n",
              "      <td>0.000000</td>\n",
              "      <td>0.000000</td>\n",
              "      <td>0.000000</td>\n",
              "      <td>0.000000</td>\n",
              "      <td>0.000000</td>\n",
              "      <td>0.000000</td>\n",
              "      <td>0.000000</td>\n",
              "      <td>0.000000</td>\n",
              "      <td>0.000000</td>\n",
              "      <td>0.000000</td>\n",
              "      <td>0.000000</td>\n",
              "      <td>0.000000</td>\n",
              "      <td>0.000000</td>\n",
              "      <td>0.000000</td>\n",
              "      <td>0.000000</td>\n",
              "      <td>0.000000</td>\n",
              "      <td>0.000000</td>\n",
              "      <td>0.000000</td>\n",
              "      <td>0.000000</td>\n",
              "      <td>0.000000</td>\n",
              "      <td>0.000000</td>\n",
              "      <td>0.000000</td>\n",
              "      <td>0.000000</td>\n",
              "      <td>0.000000</td>\n",
              "      <td>0.000000</td>\n",
              "      <td>0.000000</td>\n",
              "      <td>0.000000</td>\n",
              "      <td>0.000000</td>\n",
              "      <td>0.000000</td>\n",
              "      <td>0.000000</td>\n",
              "      <td>0.000000</td>\n",
              "      <td>0.000000</td>\n",
              "      <td>0.000000</td>\n",
              "      <td>0.000000</td>\n",
              "      <td>0.000000</td>\n",
              "      <td>0.000000</td>\n",
              "      <td>0.000000</td>\n",
              "      <td>0.000000</td>\n",
              "      <td>0.000000</td>\n",
              "      <td>0.000000</td>\n",
              "      <td>0.000000</td>\n",
              "      <td>0.000000</td>\n",
              "      <td>0.000000</td>\n",
              "      <td>0.0</td>\n",
              "      <td>0.000000</td>\n",
              "      <td>0.000000</td>\n",
              "      <td>0.000000</td>\n",
              "      <td>0.000000</td>\n",
              "      <td>0.000000</td>\n",
              "      <td>0.000000</td>\n",
              "      <td>0.000000</td>\n",
              "      <td>0.000000</td>\n",
              "      <td>0.000000</td>\n",
              "      <td>0.000000</td>\n",
              "      <td>0.000000</td>\n",
              "      <td>0.000000</td>\n",
              "      <td>0.000000</td>\n",
              "      <td>0.000000</td>\n",
              "      <td>0.000000</td>\n",
              "      <td>0.000000</td>\n",
              "      <td>0.000000</td>\n",
              "      <td>0.000000</td>\n",
              "      <td>0.000000</td>\n",
              "    </tr>\n",
              "    <tr>\n",
              "      <th>25%</th>\n",
              "      <td>0.109890</td>\n",
              "      <td>0.000000</td>\n",
              "      <td>0.111111</td>\n",
              "      <td>0.000000</td>\n",
              "      <td>0.000000</td>\n",
              "      <td>0.000000</td>\n",
              "      <td>0.000000</td>\n",
              "      <td>0.000000</td>\n",
              "      <td>0.000000</td>\n",
              "      <td>1.000000</td>\n",
              "      <td>1.000000</td>\n",
              "      <td>1.000000</td>\n",
              "      <td>0.111111</td>\n",
              "      <td>0.142857</td>\n",
              "      <td>1.000000</td>\n",
              "      <td>0.000000</td>\n",
              "      <td>0.000000</td>\n",
              "      <td>0.000000</td>\n",
              "      <td>0.000000</td>\n",
              "      <td>0.000000</td>\n",
              "      <td>1.000000</td>\n",
              "      <td>1.000000</td>\n",
              "      <td>0.125000</td>\n",
              "      <td>0.125000</td>\n",
              "      <td>0.125000</td>\n",
              "      <td>0.125000</td>\n",
              "      <td>0.125000</td>\n",
              "      <td>0.125000</td>\n",
              "      <td>0.125000</td>\n",
              "      <td>0.125000</td>\n",
              "      <td>0.125000</td>\n",
              "      <td>0.125000</td>\n",
              "      <td>0.000000</td>\n",
              "      <td>0.125000</td>\n",
              "      <td>0.125000</td>\n",
              "      <td>0.000000</td>\n",
              "      <td>0.125000</td>\n",
              "      <td>0.125000</td>\n",
              "      <td>0.000000</td>\n",
              "      <td>0.125000</td>\n",
              "      <td>0.076923</td>\n",
              "      <td>0.000000</td>\n",
              "      <td>0.090909</td>\n",
              "      <td>0.010932</td>\n",
              "      <td>0.008510</td>\n",
              "      <td>0.000000</td>\n",
              "      <td>0.000000</td>\n",
              "      <td>0.020619</td>\n",
              "      <td>0.000000</td>\n",
              "      <td>0.000000</td>\n",
              "      <td>0.000000</td>\n",
              "      <td>0.0</td>\n",
              "      <td>0.000000</td>\n",
              "      <td>0.265060</td>\n",
              "      <td>0.000000</td>\n",
              "      <td>0.166667</td>\n",
              "      <td>0.250000</td>\n",
              "      <td>0.000000</td>\n",
              "      <td>0.072829</td>\n",
              "      <td>0.009947</td>\n",
              "      <td>0.000000</td>\n",
              "      <td>0.000000</td>\n",
              "      <td>0.000000</td>\n",
              "      <td>0.000000</td>\n",
              "      <td>0.000000</td>\n",
              "      <td>0.000000</td>\n",
              "      <td>1.000000</td>\n",
              "      <td>1.000000</td>\n",
              "      <td>0.000000</td>\n",
              "      <td>0.000000</td>\n",
              "      <td>0.000000</td>\n",
              "    </tr>\n",
              "    <tr>\n",
              "      <th>50%</th>\n",
              "      <td>0.219780</td>\n",
              "      <td>0.000000</td>\n",
              "      <td>0.222222</td>\n",
              "      <td>0.000000</td>\n",
              "      <td>0.125000</td>\n",
              "      <td>0.000000</td>\n",
              "      <td>0.000000</td>\n",
              "      <td>0.000000</td>\n",
              "      <td>0.000000</td>\n",
              "      <td>1.000000</td>\n",
              "      <td>1.000000</td>\n",
              "      <td>1.000000</td>\n",
              "      <td>0.222222</td>\n",
              "      <td>0.285714</td>\n",
              "      <td>1.000000</td>\n",
              "      <td>0.000000</td>\n",
              "      <td>0.000000</td>\n",
              "      <td>0.000000</td>\n",
              "      <td>0.000000</td>\n",
              "      <td>0.125000</td>\n",
              "      <td>1.000000</td>\n",
              "      <td>1.000000</td>\n",
              "      <td>0.125000</td>\n",
              "      <td>0.125000</td>\n",
              "      <td>0.125000</td>\n",
              "      <td>0.125000</td>\n",
              "      <td>0.125000</td>\n",
              "      <td>0.125000</td>\n",
              "      <td>0.125000</td>\n",
              "      <td>0.125000</td>\n",
              "      <td>0.125000</td>\n",
              "      <td>0.125000</td>\n",
              "      <td>0.125000</td>\n",
              "      <td>0.125000</td>\n",
              "      <td>0.125000</td>\n",
              "      <td>0.000000</td>\n",
              "      <td>0.125000</td>\n",
              "      <td>0.125000</td>\n",
              "      <td>0.000000</td>\n",
              "      <td>0.125000</td>\n",
              "      <td>0.153846</td>\n",
              "      <td>0.000000</td>\n",
              "      <td>0.090909</td>\n",
              "      <td>0.017129</td>\n",
              "      <td>0.013549</td>\n",
              "      <td>0.000000</td>\n",
              "      <td>0.000000</td>\n",
              "      <td>1.000000</td>\n",
              "      <td>0.000000</td>\n",
              "      <td>0.000000</td>\n",
              "      <td>0.000000</td>\n",
              "      <td>0.0</td>\n",
              "      <td>0.000000</td>\n",
              "      <td>0.409639</td>\n",
              "      <td>0.000000</td>\n",
              "      <td>0.500000</td>\n",
              "      <td>0.250000</td>\n",
              "      <td>0.000000</td>\n",
              "      <td>0.140990</td>\n",
              "      <td>0.016309</td>\n",
              "      <td>0.000000</td>\n",
              "      <td>0.000000</td>\n",
              "      <td>0.000000</td>\n",
              "      <td>0.000000</td>\n",
              "      <td>1.000000</td>\n",
              "      <td>1.000000</td>\n",
              "      <td>1.000000</td>\n",
              "      <td>1.000000</td>\n",
              "      <td>0.000000</td>\n",
              "      <td>0.000000</td>\n",
              "      <td>0.000000</td>\n",
              "    </tr>\n",
              "    <tr>\n",
              "      <th>75%</th>\n",
              "      <td>0.329670</td>\n",
              "      <td>0.000000</td>\n",
              "      <td>0.333333</td>\n",
              "      <td>0.000000</td>\n",
              "      <td>0.375000</td>\n",
              "      <td>0.000000</td>\n",
              "      <td>0.000000</td>\n",
              "      <td>0.000000</td>\n",
              "      <td>0.000000</td>\n",
              "      <td>1.000000</td>\n",
              "      <td>1.000000</td>\n",
              "      <td>1.000000</td>\n",
              "      <td>0.333333</td>\n",
              "      <td>0.285714</td>\n",
              "      <td>1.000000</td>\n",
              "      <td>0.000000</td>\n",
              "      <td>0.000000</td>\n",
              "      <td>0.000000</td>\n",
              "      <td>0.000000</td>\n",
              "      <td>0.125000</td>\n",
              "      <td>1.000000</td>\n",
              "      <td>1.000000</td>\n",
              "      <td>0.125000</td>\n",
              "      <td>0.125000</td>\n",
              "      <td>0.125000</td>\n",
              "      <td>0.125000</td>\n",
              "      <td>0.125000</td>\n",
              "      <td>0.125000</td>\n",
              "      <td>0.125000</td>\n",
              "      <td>0.125000</td>\n",
              "      <td>0.125000</td>\n",
              "      <td>0.125000</td>\n",
              "      <td>0.125000</td>\n",
              "      <td>0.125000</td>\n",
              "      <td>0.125000</td>\n",
              "      <td>0.125000</td>\n",
              "      <td>0.125000</td>\n",
              "      <td>0.125000</td>\n",
              "      <td>0.000000</td>\n",
              "      <td>0.125000</td>\n",
              "      <td>0.230769</td>\n",
              "      <td>0.200000</td>\n",
              "      <td>0.181818</td>\n",
              "      <td>0.026797</td>\n",
              "      <td>0.022224</td>\n",
              "      <td>0.010309</td>\n",
              "      <td>0.000000</td>\n",
              "      <td>1.000000</td>\n",
              "      <td>0.000000</td>\n",
              "      <td>0.000000</td>\n",
              "      <td>0.000000</td>\n",
              "      <td>0.0</td>\n",
              "      <td>1.000000</td>\n",
              "      <td>0.578313</td>\n",
              "      <td>0.090909</td>\n",
              "      <td>0.666667</td>\n",
              "      <td>1.000000</td>\n",
              "      <td>0.142857</td>\n",
              "      <td>0.239963</td>\n",
              "      <td>0.026596</td>\n",
              "      <td>0.000000</td>\n",
              "      <td>0.000000</td>\n",
              "      <td>0.000000</td>\n",
              "      <td>0.000000</td>\n",
              "      <td>1.000000</td>\n",
              "      <td>1.000000</td>\n",
              "      <td>1.000000</td>\n",
              "      <td>1.000000</td>\n",
              "      <td>0.250000</td>\n",
              "      <td>0.333333</td>\n",
              "      <td>0.000000</td>\n",
              "    </tr>\n",
              "    <tr>\n",
              "      <th>max</th>\n",
              "      <td>1.000000</td>\n",
              "      <td>1.000000</td>\n",
              "      <td>1.000000</td>\n",
              "      <td>1.000000</td>\n",
              "      <td>1.000000</td>\n",
              "      <td>1.000000</td>\n",
              "      <td>1.000000</td>\n",
              "      <td>1.000000</td>\n",
              "      <td>1.000000</td>\n",
              "      <td>1.000000</td>\n",
              "      <td>1.000000</td>\n",
              "      <td>1.000000</td>\n",
              "      <td>1.000000</td>\n",
              "      <td>1.000000</td>\n",
              "      <td>1.000000</td>\n",
              "      <td>1.000000</td>\n",
              "      <td>1.000000</td>\n",
              "      <td>1.000000</td>\n",
              "      <td>1.000000</td>\n",
              "      <td>1.000000</td>\n",
              "      <td>1.000000</td>\n",
              "      <td>1.000000</td>\n",
              "      <td>1.000000</td>\n",
              "      <td>1.000000</td>\n",
              "      <td>1.000000</td>\n",
              "      <td>1.000000</td>\n",
              "      <td>1.000000</td>\n",
              "      <td>1.000000</td>\n",
              "      <td>1.000000</td>\n",
              "      <td>1.000000</td>\n",
              "      <td>1.000000</td>\n",
              "      <td>1.000000</td>\n",
              "      <td>1.000000</td>\n",
              "      <td>1.000000</td>\n",
              "      <td>1.000000</td>\n",
              "      <td>1.000000</td>\n",
              "      <td>1.000000</td>\n",
              "      <td>1.000000</td>\n",
              "      <td>1.000000</td>\n",
              "      <td>1.000000</td>\n",
              "      <td>1.000000</td>\n",
              "      <td>1.000000</td>\n",
              "      <td>1.000000</td>\n",
              "      <td>1.000000</td>\n",
              "      <td>1.000000</td>\n",
              "      <td>1.000000</td>\n",
              "      <td>1.000000</td>\n",
              "      <td>1.000000</td>\n",
              "      <td>1.000000</td>\n",
              "      <td>1.000000</td>\n",
              "      <td>1.000000</td>\n",
              "      <td>0.0</td>\n",
              "      <td>1.000000</td>\n",
              "      <td>1.000000</td>\n",
              "      <td>1.000000</td>\n",
              "      <td>1.000000</td>\n",
              "      <td>1.000000</td>\n",
              "      <td>1.000000</td>\n",
              "      <td>1.000000</td>\n",
              "      <td>1.000000</td>\n",
              "      <td>1.000000</td>\n",
              "      <td>1.000000</td>\n",
              "      <td>1.000000</td>\n",
              "      <td>1.000000</td>\n",
              "      <td>1.000000</td>\n",
              "      <td>1.000000</td>\n",
              "      <td>1.000000</td>\n",
              "      <td>1.000000</td>\n",
              "      <td>1.000000</td>\n",
              "      <td>1.000000</td>\n",
              "      <td>1.000000</td>\n",
              "    </tr>\n",
              "  </tbody>\n",
              "</table>\n",
              "</div>\n",
              "      <button class=\"colab-df-convert\" onclick=\"convertToInteractive('df-b128ceee-41a8-4755-92a7-1db1c82a1ae1')\"\n",
              "              title=\"Convert this dataframe to an interactive table.\"\n",
              "              style=\"display:none;\">\n",
              "        \n",
              "  <svg xmlns=\"http://www.w3.org/2000/svg\" height=\"24px\"viewBox=\"0 0 24 24\"\n",
              "       width=\"24px\">\n",
              "    <path d=\"M0 0h24v24H0V0z\" fill=\"none\"/>\n",
              "    <path d=\"M18.56 5.44l.94 2.06.94-2.06 2.06-.94-2.06-.94-.94-2.06-.94 2.06-2.06.94zm-11 1L8.5 8.5l.94-2.06 2.06-.94-2.06-.94L8.5 2.5l-.94 2.06-2.06.94zm10 10l.94 2.06.94-2.06 2.06-.94-2.06-.94-.94-2.06-.94 2.06-2.06.94z\"/><path d=\"M17.41 7.96l-1.37-1.37c-.4-.4-.92-.59-1.43-.59-.52 0-1.04.2-1.43.59L10.3 9.45l-7.72 7.72c-.78.78-.78 2.05 0 2.83L4 21.41c.39.39.9.59 1.41.59.51 0 1.02-.2 1.41-.59l7.78-7.78 2.81-2.81c.8-.78.8-2.07 0-2.86zM5.41 20L4 18.59l7.72-7.72 1.47 1.35L5.41 20z\"/>\n",
              "  </svg>\n",
              "      </button>\n",
              "      \n",
              "  <style>\n",
              "    .colab-df-container {\n",
              "      display:flex;\n",
              "      flex-wrap:wrap;\n",
              "      gap: 12px;\n",
              "    }\n",
              "\n",
              "    .colab-df-convert {\n",
              "      background-color: #E8F0FE;\n",
              "      border: none;\n",
              "      border-radius: 50%;\n",
              "      cursor: pointer;\n",
              "      display: none;\n",
              "      fill: #1967D2;\n",
              "      height: 32px;\n",
              "      padding: 0 0 0 0;\n",
              "      width: 32px;\n",
              "    }\n",
              "\n",
              "    .colab-df-convert:hover {\n",
              "      background-color: #E2EBFA;\n",
              "      box-shadow: 0px 1px 2px rgba(60, 64, 67, 0.3), 0px 1px 3px 1px rgba(60, 64, 67, 0.15);\n",
              "      fill: #174EA6;\n",
              "    }\n",
              "\n",
              "    [theme=dark] .colab-df-convert {\n",
              "      background-color: #3B4455;\n",
              "      fill: #D2E3FC;\n",
              "    }\n",
              "\n",
              "    [theme=dark] .colab-df-convert:hover {\n",
              "      background-color: #434B5C;\n",
              "      box-shadow: 0px 1px 3px 1px rgba(0, 0, 0, 0.15);\n",
              "      filter: drop-shadow(0px 1px 2px rgba(0, 0, 0, 0.3));\n",
              "      fill: #FFFFFF;\n",
              "    }\n",
              "  </style>\n",
              "\n",
              "      <script>\n",
              "        const buttonEl =\n",
              "          document.querySelector('#df-b128ceee-41a8-4755-92a7-1db1c82a1ae1 button.colab-df-convert');\n",
              "        buttonEl.style.display =\n",
              "          google.colab.kernel.accessAllowed ? 'block' : 'none';\n",
              "\n",
              "        async function convertToInteractive(key) {\n",
              "          const element = document.querySelector('#df-b128ceee-41a8-4755-92a7-1db1c82a1ae1');\n",
              "          const dataTable =\n",
              "            await google.colab.kernel.invokeFunction('convertToInteractive',\n",
              "                                                     [key], {});\n",
              "          if (!dataTable) return;\n",
              "\n",
              "          const docLinkHtml = 'Like what you see? Visit the ' +\n",
              "            '<a target=\"_blank\" href=https://colab.research.google.com/notebooks/data_table.ipynb>data table notebook</a>'\n",
              "            + ' to learn more about interactive tables.';\n",
              "          element.innerHTML = '';\n",
              "          dataTable['output_type'] = 'display_data';\n",
              "          await google.colab.output.renderOutput(dataTable, element);\n",
              "          const docLink = document.createElement('div');\n",
              "          docLink.innerHTML = docLinkHtml;\n",
              "          element.appendChild(docLink);\n",
              "        }\n",
              "      </script>\n",
              "    </div>\n",
              "  </div>\n",
              "  "
            ]
          },
          "metadata": {},
          "execution_count": 158
        }
      ]
    },
    {
      "cell_type": "code",
      "source": [
        "# entrenamos un modelo de regresión logística en el conjunto de entrenamiento\n",
        "from sklearn.linear_model import LogisticRegression\n",
        "\n",
        "\n",
        "# instanciamos el modelo\n",
        "logreg = LogisticRegression(solver='liblinear', random_state=0)\n",
        "\n",
        "\n",
        "# ajustamos el modelo\n",
        "logreg.fit(X_train, y_train)"
      ],
      "metadata": {
        "colab": {
          "base_uri": "https://localhost:8080/"
        },
        "id": "91qm5Vm3iuZh",
        "outputId": "10e2c0ff-1f62-4440-b84e-aa8cbf7b3c55"
      },
      "execution_count": 159,
      "outputs": [
        {
          "output_type": "execute_result",
          "data": {
            "text/plain": [
              "LogisticRegression(random_state=0, solver='liblinear')"
            ]
          },
          "metadata": {},
          "execution_count": 159
        }
      ]
    },
    {
      "cell_type": "code",
      "source": [
        "y_pred_test = logreg.predict(X_test)\n",
        "\n",
        "y_pred_test"
      ],
      "metadata": {
        "colab": {
          "base_uri": "https://localhost:8080/"
        },
        "id": "Tg46QwBqi0NB",
        "outputId": "b026c93f-03d4-4005-b269-948e68b003ba"
      },
      "execution_count": 160,
      "outputs": [
        {
          "output_type": "execute_result",
          "data": {
            "text/plain": [
              "array([0, 0, 0, ..., 0, 0, 1])"
            ]
          },
          "metadata": {},
          "execution_count": 160
        }
      ]
    },
    {
      "cell_type": "code",
      "source": [
        "# probabilidad de obtener la salida como 0 - sin probreza\n",
        "\n",
        "logreg.predict_proba(X_test)[:,0]"
      ],
      "metadata": {
        "colab": {
          "base_uri": "https://localhost:8080/"
        },
        "id": "_llsDwfni3o8",
        "outputId": "168f8b19-3d38-406b-fb26-7c48e518935c"
      },
      "execution_count": 161,
      "outputs": [
        {
          "output_type": "execute_result",
          "data": {
            "text/plain": [
              "array([0.85533174, 0.60767795, 0.85002332, ..., 0.93253238, 0.8800409 ,\n",
              "       0.45133657])"
            ]
          },
          "metadata": {},
          "execution_count": 161
        }
      ]
    },
    {
      "cell_type": "code",
      "source": [
        "# probabilidad de obtener la salida como 1 - pobreza\n",
        "\n",
        "logreg.predict_proba(X_test)[:,1]"
      ],
      "metadata": {
        "colab": {
          "base_uri": "https://localhost:8080/"
        },
        "id": "2pD2n8DAi6TE",
        "outputId": "ded5e4f2-6a2f-4f49-d5e2-5c31875e13aa"
      },
      "execution_count": 162,
      "outputs": [
        {
          "output_type": "execute_result",
          "data": {
            "text/plain": [
              "array([0.14466826, 0.39232205, 0.14997668, ..., 0.06746762, 0.1199591 ,\n",
              "       0.54866343])"
            ]
          },
          "metadata": {},
          "execution_count": 162
        }
      ]
    },
    {
      "cell_type": "markdown",
      "source": [
        "**Métricas**"
      ],
      "metadata": {
        "id": "fKgmKRl1nKYK"
      }
    },
    {
      "cell_type": "code",
      "source": [
        "from sklearn.metrics import accuracy_score\n",
        "\n",
        "print('Model accuracy score: {0:0.4f}'. format(accuracy_score(y_test, y_pred_test)))"
      ],
      "metadata": {
        "colab": {
          "base_uri": "https://localhost:8080/"
        },
        "id": "W9kr1RHIi92U",
        "outputId": "73826e3f-80b6-4927-81cd-310b6b46dd4f"
      },
      "execution_count": 163,
      "outputs": [
        {
          "output_type": "stream",
          "name": "stdout",
          "text": [
            "Model accuracy score: 0.8526\n"
          ]
        }
      ]
    },
    {
      "cell_type": "markdown",
      "source": [
        "**Overfitting y  underfitting**: \n",
        "\n",
        "Comparamos la precisión del set de entrenamiento y set de testeo"
      ],
      "metadata": {
        "id": "s4z2WYTekbsr"
      }
    },
    {
      "cell_type": "code",
      "source": [
        "y_pred_train = logreg.predict(X_train)\n",
        "\n",
        "y_pred_train"
      ],
      "metadata": {
        "colab": {
          "base_uri": "https://localhost:8080/"
        },
        "id": "UPQ8FuCPkSNY",
        "outputId": "a10416e9-ec17-43dc-a4a3-b558f21876ba"
      },
      "execution_count": 164,
      "outputs": [
        {
          "output_type": "execute_result",
          "data": {
            "text/plain": [
              "array([0, 0, 0, ..., 1, 0, 0])"
            ]
          },
          "metadata": {},
          "execution_count": 164
        }
      ]
    },
    {
      "cell_type": "code",
      "source": [
        "print('Training-set accuracy score: {0:0.4f}'. format(accuracy_score(y_train, y_pred_train)))"
      ],
      "metadata": {
        "colab": {
          "base_uri": "https://localhost:8080/"
        },
        "id": "9fLOz_9vkXTO",
        "outputId": "bc0510b3-396b-42e5-db22-5c3dbf77fb39"
      },
      "execution_count": 165,
      "outputs": [
        {
          "output_type": "stream",
          "name": "stdout",
          "text": [
            "Training-set accuracy score: 0.8377\n"
          ]
        }
      ]
    },
    {
      "cell_type": "code",
      "source": [
        "print('Training set score: {:.4f}'.format(logreg.score(X_train, y_train)))\n",
        "\n",
        "print('Test set score: {:.4f}'.format(logreg.score(X_test, y_test)))"
      ],
      "metadata": {
        "colab": {
          "base_uri": "https://localhost:8080/"
        },
        "id": "s-qtxVxvkYrB",
        "outputId": "d518d46f-2c3f-4bd4-b5b5-eb683cf45678"
      },
      "execution_count": 166,
      "outputs": [
        {
          "output_type": "stream",
          "name": "stdout",
          "text": [
            "Training set score: 0.8377\n",
            "Test set score: 0.8526\n"
          ]
        }
      ]
    },
    {
      "cell_type": "markdown",
      "source": [
        "La precisión del conjunto de entrenamiento es de 0,8377, mientras que la del conjunto de prueba es de 0,8526. Estos dos valores son bastante comparables. Por lo tanto, no hay problema de sobreajuste.\n",
        "\n",
        "En la regresión logística, utilizamos el valor por defecto de C = 1. Proporciona un buen rendimiento con una precisión de aproximadamente el 85% tanto en el conjunto de entrenamiento como en el de prueba. \n",
        "Pero el rendimiento del modelo tanto en el conjunto de entrenamiento como en el de prueba son muy comparables. Puede que se trate de un caso de infraajuste.\n",
        "\n",
        "Modificamos C y ajustamos un modelo más flexible.\n",
        "\n"
      ],
      "metadata": {
        "id": "5TW9mO7lZcgE"
      }
    },
    {
      "cell_type": "code",
      "source": [
        "# ajustamos el modelo de Regresion logística con C=100\n",
        "\n",
        "# instanciamos el modelo\n",
        "logreg100 = LogisticRegression(C=100, solver='liblinear', random_state=0)\n",
        "\n",
        "\n",
        "# ajustamos el modelo\n",
        "logreg100.fit(X_train, y_train)"
      ],
      "metadata": {
        "colab": {
          "base_uri": "https://localhost:8080/"
        },
        "id": "eYNh8F1elOLF",
        "outputId": "fe8aaaeb-0d08-4e04-8f6d-f3ba56c41c80"
      },
      "execution_count": 167,
      "outputs": [
        {
          "output_type": "execute_result",
          "data": {
            "text/plain": [
              "LogisticRegression(C=100, random_state=0, solver='liblinear')"
            ]
          },
          "metadata": {},
          "execution_count": 167
        }
      ]
    },
    {
      "cell_type": "code",
      "source": [
        "#mostramos\n",
        "\n",
        "print('Training set score: {:.4f}'.format(logreg100.score(X_train, y_train)))\n",
        "\n",
        "print('Test set score: {:.4f}'.format(logreg100.score(X_test, y_test)))"
      ],
      "metadata": {
        "colab": {
          "base_uri": "https://localhost:8080/"
        },
        "id": "jT6I97sulmek",
        "outputId": "ccbd93bd-3974-48fe-d3d4-73c7ff57a878"
      },
      "execution_count": 168,
      "outputs": [
        {
          "output_type": "stream",
          "name": "stdout",
          "text": [
            "Training set score: 0.9755\n",
            "Test set score: 0.9757\n"
          ]
        }
      ]
    },
    {
      "cell_type": "markdown",
      "source": [
        "Podemos ver que C=100 da como resultado una mayor precisión en el conjunto de pruebas y en el conjunto de entrenamiento. Por lo tanto, podemos concluir que un modelo más complejo debería funcionar mejor.\n",
        "\n",
        "Ahora investigaremos qué ocurre si utilizamos un modelo más regularizado que el valor por defecto de C=1, estableciendo C=0,01.\n"
      ],
      "metadata": {
        "id": "6HexN5v-PBXm"
      }
    },
    {
      "cell_type": "code",
      "source": [
        "# ajustamos el modelo de regresión logarítmica con C=001\n",
        "\n",
        "# instanciamos el modelo\n",
        "logreg001 = LogisticRegression(C=0.01, solver='liblinear', random_state=0)\n",
        "\n",
        "\n",
        "# ajustamos\n",
        "logreg001.fit(X_train, y_train)"
      ],
      "metadata": {
        "colab": {
          "base_uri": "https://localhost:8080/"
        },
        "id": "betzYF2UlwUN",
        "outputId": "607f950d-ee01-4a11-e1ac-b64a2045299d"
      },
      "execution_count": 169,
      "outputs": [
        {
          "output_type": "execute_result",
          "data": {
            "text/plain": [
              "LogisticRegression(C=0.01, random_state=0, solver='liblinear')"
            ]
          },
          "metadata": {},
          "execution_count": 169
        }
      ]
    },
    {
      "cell_type": "code",
      "source": [
        "print('Training set score: {:.4f}'.format(logreg001.score(X_train, y_train)))\n",
        "\n",
        "print('Test set score: {:.4f}'.format(logreg001.score(X_test, y_test)))"
      ],
      "metadata": {
        "colab": {
          "base_uri": "https://localhost:8080/"
        },
        "id": "3yQA22Qoly0S",
        "outputId": "f5af06d8-b4c2-4307-9484-a88ab8e20d79"
      },
      "execution_count": 170,
      "outputs": [
        {
          "output_type": "stream",
          "name": "stdout",
          "text": [
            "Training set score: 0.7690\n",
            "Test set score: 0.7872\n"
          ]
        }
      ]
    },
    {
      "cell_type": "markdown",
      "source": [
        "Por lo tanto, si utilizamos un modelo más regularizado estableciendo C=0,01, tanto la precisión del conjunto de entrenamiento como la del conjunto de prueba disminuyen en relación con los parámetros por defecto."
      ],
      "metadata": {
        "id": "osEcwt5JPJoL"
      }
    },
    {
      "cell_type": "markdown",
      "source": [
        "**Presición nula**\n",
        "\n",
        "Comparamos la precisión del modelo con la precisión nula.\n",
        "\n",
        "\n",
        "La precisión del modelo es de 0,8526. Pero no podemos decir que nuestro modelo sea muy bueno basándonos en la precisión anterior. \n",
        "Debemos compararla con la precisión nula. La exactitud nula es la exactitud que se podría alcanzar prediciendo siempre la clase más frecuente.\n",
        "\n",
        "Por lo tanto, primero debemos comprobar la distribución de las clases en el conjunto de pruebas."
      ],
      "metadata": {
        "id": "h7KvPG-iPSZO"
      }
    },
    {
      "cell_type": "code",
      "source": [
        "y_test.value_counts()"
      ],
      "metadata": {
        "colab": {
          "base_uri": "https://localhost:8080/"
        },
        "id": "_VH8jNqlmHJY",
        "outputId": "63f25363-031a-40db-edf9-d7e165dd254f"
      },
      "execution_count": 171,
      "outputs": [
        {
          "output_type": "execute_result",
          "data": {
            "text/plain": [
              "0    2803\n",
              "1    1234\n",
              "Name: pobreza, dtype: int64"
            ]
          },
          "metadata": {},
          "execution_count": 171
        }
      ]
    },
    {
      "cell_type": "markdown",
      "source": [
        "Podemos ver que la clase más frecuente suma 2803. Por lo tanto, podemos calcular la precisión nula dividiendo 2803 por el número total de casos."
      ],
      "metadata": {
        "id": "O8D3H063Pglo"
      }
    },
    {
      "cell_type": "code",
      "source": [
        "# comprobar la precisión nula\n",
        "\n",
        "null_accuracy = (2780/(2780+1257))\n",
        "\n",
        "print('Null accuracy score: {0:0.4f}'. format(null_accuracy))"
      ],
      "metadata": {
        "colab": {
          "base_uri": "https://localhost:8080/"
        },
        "id": "m06tfWYqmNhv",
        "outputId": "3f4cc62c-0601-4c9b-d819-7de802cfb08e"
      },
      "execution_count": 172,
      "outputs": [
        {
          "output_type": "stream",
          "name": "stdout",
          "text": [
            "Null accuracy score: 0.6886\n"
          ]
        }
      ]
    },
    {
      "cell_type": "markdown",
      "source": [
        "La precisión de nuestro modelo es de 0,8526 y la precisión nula es de 0,6886. "
      ],
      "metadata": {
        "id": "_eCrExe3Pmjx"
      }
    },
    {
      "cell_type": "markdown",
      "source": [
        "**Matriz de confusión**"
      ],
      "metadata": {
        "id": "2OHpgqIYmXHt"
      }
    },
    {
      "cell_type": "code",
      "source": [
        "# Matriz de confusión \n",
        "\n",
        "from sklearn.metrics import confusion_matrix\n",
        "\n",
        "cm = confusion_matrix(y_test, y_pred_test)\n",
        "\n",
        "print('Confusion matrix\\n\\n', cm)\n",
        "\n",
        "print('\\nTrue Positives(TP) = ', cm[0,0])\n",
        "\n",
        "print('\\nTrue Negatives(TN) = ', cm[1,1])\n",
        "\n",
        "print('\\nFalse Positives(FP) = ', cm[0,1])\n",
        "\n",
        "print('\\nFalse Negatives(FN) = ', cm[1,0])"
      ],
      "metadata": {
        "colab": {
          "base_uri": "https://localhost:8080/"
        },
        "id": "i7-9y43zmNkj",
        "outputId": "757a7152-2b30-42de-b64f-a28e70f34ece"
      },
      "execution_count": 173,
      "outputs": [
        {
          "output_type": "stream",
          "name": "stdout",
          "text": [
            "Confusion matrix\n",
            "\n",
            " [[2617  186]\n",
            " [ 409  825]]\n",
            "\n",
            "True Positives(TP) =  2617\n",
            "\n",
            "True Negatives(TN) =  825\n",
            "\n",
            "False Positives(FP) =  186\n",
            "\n",
            "False Negatives(FN) =  409\n"
          ]
        }
      ]
    },
    {
      "cell_type": "code",
      "source": [
        "# visualize confusion matrix with seaborn heatmap\n",
        "\n",
        "cm_matrix = pd.DataFrame(data=cm, columns=['Actual Positive:1', 'Actual Negative:0'], \n",
        "                                 index=['Predict Positive:1', 'Predict Negative:0'])\n",
        "\n",
        "sns.heatmap(cm_matrix, annot=True, fmt='d', cmap='YlGnBu')"
      ],
      "metadata": {
        "colab": {
          "base_uri": "https://localhost:8080/",
          "height": 282
        },
        "id": "L1EZfnO9mgfF",
        "outputId": "debdbf13-b278-4d19-bcec-27f7b281b969"
      },
      "execution_count": 174,
      "outputs": [
        {
          "output_type": "execute_result",
          "data": {
            "text/plain": [
              "<matplotlib.axes._subplots.AxesSubplot at 0x7f3c30a536d0>"
            ]
          },
          "metadata": {},
          "execution_count": 174
        },
        {
          "output_type": "display_data",
          "data": {
            "text/plain": [
              "<Figure size 432x288 with 2 Axes>"
            ],
            "image/png": "[encoded data removed]"
          },
          "metadata": {
            "needs_background": "light"
          }
        }
      ]
    },
    {
      "cell_type": "markdown",
      "source": [
        "Podemos ver que la matriz de confusión está desbalanceada, por lo que vamos a proceder a balancear la misma. "
      ],
      "metadata": {
        "id": "PSGaNWImPyb0"
      }
    },
    {
      "cell_type": "markdown",
      "source": [
        "\n",
        "\n",
        "---\n",
        "\n"
      ],
      "metadata": {
        "id": "CdkLKdwQ_16v"
      }
    },
    {
      "cell_type": "markdown",
      "source": [
        "## **Experimento 2:**\n",
        "\n",
        "Procedemos a balancear la matriz de confusión para aplicar regresión logística"
      ],
      "metadata": {
        "id": "50M4BqfOj0sf"
      }
    },
    {
      "cell_type": "code",
      "source": [
        "df.head()"
      ],
      "metadata": {
        "colab": {
          "base_uri": "https://localhost:8080/",
          "height": 270
        },
        "id": "zkJNGapZlgbO",
        "outputId": "9f75fab9-4605-4249-dcfc-f963716ab6f7"
      },
      "execution_count": 220,
      "outputs": [
        {
          "output_type": "execute_result",
          "data": {
            "text/plain": [
              "   AGLOMERADO  IV1  IV2  IV3  IV4  IV5  IV6  IV7  IV8  IV12_1  IV12_2  IV12_3  \\\n",
              "0          93    1    3    1    1    1    1    1    1       2       2       2   \n",
              "1          93    2    2    1    4    1    1    1    1       2       2       2   \n",
              "2          33    1    3    1    4    1    1    1    1       2       2       2   \n",
              "3          33    2    2    1    9    1    1    1    1       2       1       2   \n",
              "4          33    1    3    1    1    1    1    1    1       2       2       2   \n",
              "\n",
              "   II1  II2  II3  II3_1  II5_1  II6_1  V1  V2  V21  V22  V3  V4  V5  V6  V7  \\\n",
              "0    3    1    2      0      0      0   2   1    2    2   2   2   2   2   2   \n",
              "1    2    2    2      0      0      0   1   2    2    2   2   2   2   2   2   \n",
              "2    3    3    2      0      0      0   1   1    2    2   2   2   2   2   2   \n",
              "3    2    1    2      0      0      0   1   2    2    2   2   2   2   2   2   \n",
              "4    3    2    2      0      0      0   1   2    2    2   2   2   2   2   2   \n",
              "\n",
              "   V8  V9  V10  V11  V12  V13  V14  V15  V16  V17  V18  V19_A  V19_B  IX_TOT  \\\n",
              "0   2   2    2    2    2    2    2    1    1    2    2      2      2       2   \n",
              "1   2   2    2    2    2    2    2    2    1    2    2      2      2       4   \n",
              "2   2   2    2    2    2    1    2    1    1    2    2      2      2       4   \n",
              "3   2   2    2    2    2    2    1    2    1    2    2      2      2       2   \n",
              "4   2   2    2    2    2    1    1    2    1    2    2      2      2       3   \n",
              "\n",
              "   IX_MEN10  IX_MAYEQ10    ITF      IPCF  VII1_1  VII1_2  VII2_1  VII2_2  \\\n",
              "0         0           2  77500  38750.00       1       2      98       0   \n",
              "1         1           3  85000  21250.00       2       0      98       0   \n",
              "2         0           4  96870  24217.50       1       2      98       0   \n",
              "3         0           2  90000  45000.00       1       2      98       0   \n",
              "4         0           3  92000  30666.67       2       1      98       0   \n",
              "\n",
              "   VII2_3  VII2_4  parentesco  genero  edad  cob_medica  NIVEL_ED  CAT_OCUP  \\\n",
              "0       0       0           1       1    72           1         2         9   \n",
              "1       0       0           1       1    38           1         4         3   \n",
              "2       0       0           1       1    67           1         4         3   \n",
              "3       0       0           1       1    35           1         5         3   \n",
              "4       0       0           1       2    33           1         6         3   \n",
              "\n",
              "   CAT_INAC  AE_ctrol_ind_sum  adulto_equivalente  pobreza  IV9  IV10  IV11  \\\n",
              "0         1              1.50            51666.67        0    1     1     1   \n",
              "1         0              3.13            27156.55        0    1     1     1   \n",
              "2         0              3.33            29090.09        0    1     2     3   \n",
              "3         0              1.77            50847.46        0    1     1     1   \n",
              "4         0              2.54            36220.47        0    1     1     1   \n",
              "\n",
              "   II4_1  II4_2  II4_3  II5  II6  II7  II8  II9  \n",
              "0      1      1      2    2    2    1    1    1  \n",
              "1      1      2      2    2    2    6    1    1  \n",
              "2      1      1      2    2    2    1    1    1  \n",
              "3      1      2      1    2    2    1    1    1  \n",
              "4      1      1      1    2    2    1    1    1  "
            ],
            "text/html": [
              "\n",
              "  <div id=\"df-496ed657-4263-4a15-b6ca-5d1915ebebf9\">\n",
              "    <div class=\"colab-df-container\">\n",
              "      <div>\n",
              "<style scoped>\n",
              "    .dataframe tbody tr th:only-of-type {\n",
              "        vertical-align: middle;\n",
              "    }\n",
              "\n",
              "    .dataframe tbody tr th {\n",
              "        vertical-align: top;\n",
              "    }\n",
              "\n",
              "    .dataframe thead th {\n",
              "        text-align: right;\n",
              "    }\n",
              "</style>\n",
              "<table border=\"1\" class=\"dataframe\">\n",
              "  <thead>\n",
              "    <tr style=\"text-align: right;\">\n",
              "      <th></th>\n",
              "      <th>AGLOMERADO</th>\n",
              "      <th>IV1</th>\n",
              "      <th>IV2</th>\n",
              "      <th>IV3</th>\n",
              "      <th>IV4</th>\n",
              "      <th>IV5</th>\n",
              "      <th>IV6</th>\n",
              "      <th>IV7</th>\n",
              "      <th>IV8</th>\n",
              "      <th>IV12_1</th>\n",
              "      <th>IV12_2</th>\n",
              "      <th>IV12_3</th>\n",
              "      <th>II1</th>\n",
              "      <th>II2</th>\n",
              "      <th>II3</th>\n",
              "      <th>II3_1</th>\n",
              "      <th>II5_1</th>\n",
              "      <th>II6_1</th>\n",
              "      <th>V1</th>\n",
              "      <th>V2</th>\n",
              "      <th>V21</th>\n",
              "      <th>V22</th>\n",
              "      <th>V3</th>\n",
              "      <th>V4</th>\n",
              "      <th>V5</th>\n",
              "      <th>V6</th>\n",
              "      <th>V7</th>\n",
              "      <th>V8</th>\n",
              "      <th>V9</th>\n",
              "      <th>V10</th>\n",
              "      <th>V11</th>\n",
              "      <th>V12</th>\n",
              "      <th>V13</th>\n",
              "      <th>V14</th>\n",
              "      <th>V15</th>\n",
              "      <th>V16</th>\n",
              "      <th>V17</th>\n",
              "      <th>V18</th>\n",
              "      <th>V19_A</th>\n",
              "      <th>V19_B</th>\n",
              "      <th>IX_TOT</th>\n",
              "      <th>IX_MEN10</th>\n",
              "      <th>IX_MAYEQ10</th>\n",
              "      <th>ITF</th>\n",
              "      <th>IPCF</th>\n",
              "      <th>VII1_1</th>\n",
              "      <th>VII1_2</th>\n",
              "      <th>VII2_1</th>\n",
              "      <th>VII2_2</th>\n",
              "      <th>VII2_3</th>\n",
              "      <th>VII2_4</th>\n",
              "      <th>parentesco</th>\n",
              "      <th>genero</th>\n",
              "      <th>edad</th>\n",
              "      <th>cob_medica</th>\n",
              "      <th>NIVEL_ED</th>\n",
              "      <th>CAT_OCUP</th>\n",
              "      <th>CAT_INAC</th>\n",
              "      <th>AE_ctrol_ind_sum</th>\n",
              "      <th>adulto_equivalente</th>\n",
              "      <th>pobreza</th>\n",
              "      <th>IV9</th>\n",
              "      <th>IV10</th>\n",
              "      <th>IV11</th>\n",
              "      <th>II4_1</th>\n",
              "      <th>II4_2</th>\n",
              "      <th>II4_3</th>\n",
              "      <th>II5</th>\n",
              "      <th>II6</th>\n",
              "      <th>II7</th>\n",
              "      <th>II8</th>\n",
              "      <th>II9</th>\n",
              "    </tr>\n",
              "  </thead>\n",
              "  <tbody>\n",
              "    <tr>\n",
              "      <th>0</th>\n",
              "      <td>93</td>\n",
              "      <td>1</td>\n",
              "      <td>3</td>\n",
              "      <td>1</td>\n",
              "      <td>1</td>\n",
              "      <td>1</td>\n",
              "      <td>1</td>\n",
              "      <td>1</td>\n",
              "      <td>1</td>\n",
              "      <td>2</td>\n",
              "      <td>2</td>\n",
              "      <td>2</td>\n",
              "      <td>3</td>\n",
              "      <td>1</td>\n",
              "      <td>2</td>\n",
              "      <td>0</td>\n",
              "      <td>0</td>\n",
              "      <td>0</td>\n",
              "      <td>2</td>\n",
              "      <td>1</td>\n",
              "      <td>2</td>\n",
              "      <td>2</td>\n",
              "      <td>2</td>\n",
              "      <td>2</td>\n",
              "      <td>2</td>\n",
              "      <td>2</td>\n",
              "      <td>2</td>\n",
              "      <td>2</td>\n",
              "      <td>2</td>\n",
              "      <td>2</td>\n",
              "      <td>2</td>\n",
              "      <td>2</td>\n",
              "      <td>2</td>\n",
              "      <td>2</td>\n",
              "      <td>1</td>\n",
              "      <td>1</td>\n",
              "      <td>2</td>\n",
              "      <td>2</td>\n",
              "      <td>2</td>\n",
              "      <td>2</td>\n",
              "      <td>2</td>\n",
              "      <td>0</td>\n",
              "      <td>2</td>\n",
              "      <td>77500</td>\n",
              "      <td>38750.00</td>\n",
              "      <td>1</td>\n",
              "      <td>2</td>\n",
              "      <td>98</td>\n",
              "      <td>0</td>\n",
              "      <td>0</td>\n",
              "      <td>0</td>\n",
              "      <td>1</td>\n",
              "      <td>1</td>\n",
              "      <td>72</td>\n",
              "      <td>1</td>\n",
              "      <td>2</td>\n",
              "      <td>9</td>\n",
              "      <td>1</td>\n",
              "      <td>1.50</td>\n",
              "      <td>51666.67</td>\n",
              "      <td>0</td>\n",
              "      <td>1</td>\n",
              "      <td>1</td>\n",
              "      <td>1</td>\n",
              "      <td>1</td>\n",
              "      <td>1</td>\n",
              "      <td>2</td>\n",
              "      <td>2</td>\n",
              "      <td>2</td>\n",
              "      <td>1</td>\n",
              "      <td>1</td>\n",
              "      <td>1</td>\n",
              "    </tr>\n",
              "    <tr>\n",
              "      <th>1</th>\n",
              "      <td>93</td>\n",
              "      <td>2</td>\n",
              "      <td>2</td>\n",
              "      <td>1</td>\n",
              "      <td>4</td>\n",
              "      <td>1</td>\n",
              "      <td>1</td>\n",
              "      <td>1</td>\n",
              "      <td>1</td>\n",
              "      <td>2</td>\n",
              "      <td>2</td>\n",
              "      <td>2</td>\n",
              "      <td>2</td>\n",
              "      <td>2</td>\n",
              "      <td>2</td>\n",
              "      <td>0</td>\n",
              "      <td>0</td>\n",
              "      <td>0</td>\n",
              "      <td>1</td>\n",
              "      <td>2</td>\n",
              "      <td>2</td>\n",
              "      <td>2</td>\n",
              "      <td>2</td>\n",
              "      <td>2</td>\n",
              "      <td>2</td>\n",
              "      <td>2</td>\n",
              "      <td>2</td>\n",
              "      <td>2</td>\n",
              "      <td>2</td>\n",
              "      <td>2</td>\n",
              "      <td>2</td>\n",
              "      <td>2</td>\n",
              "      <td>2</td>\n",
              "      <td>2</td>\n",
              "      <td>2</td>\n",
              "      <td>1</td>\n",
              "      <td>2</td>\n",
              "      <td>2</td>\n",
              "      <td>2</td>\n",
              "      <td>2</td>\n",
              "      <td>4</td>\n",
              "      <td>1</td>\n",
              "      <td>3</td>\n",
              "      <td>85000</td>\n",
              "      <td>21250.00</td>\n",
              "      <td>2</td>\n",
              "      <td>0</td>\n",
              "      <td>98</td>\n",
              "      <td>0</td>\n",
              "      <td>0</td>\n",
              "      <td>0</td>\n",
              "      <td>1</td>\n",
              "      <td>1</td>\n",
              "      <td>38</td>\n",
              "      <td>1</td>\n",
              "      <td>4</td>\n",
              "      <td>3</td>\n",
              "      <td>0</td>\n",
              "      <td>3.13</td>\n",
              "      <td>27156.55</td>\n",
              "      <td>0</td>\n",
              "      <td>1</td>\n",
              "      <td>1</td>\n",
              "      <td>1</td>\n",
              "      <td>1</td>\n",
              "      <td>2</td>\n",
              "      <td>2</td>\n",
              "      <td>2</td>\n",
              "      <td>2</td>\n",
              "      <td>6</td>\n",
              "      <td>1</td>\n",
              "      <td>1</td>\n",
              "    </tr>\n",
              "    <tr>\n",
              "      <th>2</th>\n",
              "      <td>33</td>\n",
              "      <td>1</td>\n",
              "      <td>3</td>\n",
              "      <td>1</td>\n",
              "      <td>4</td>\n",
              "      <td>1</td>\n",
              "      <td>1</td>\n",
              "      <td>1</td>\n",
              "      <td>1</td>\n",
              "      <td>2</td>\n",
              "      <td>2</td>\n",
              "      <td>2</td>\n",
              "      <td>3</td>\n",
              "      <td>3</td>\n",
              "      <td>2</td>\n",
              "      <td>0</td>\n",
              "      <td>0</td>\n",
              "      <td>0</td>\n",
              "      <td>1</td>\n",
              "      <td>1</td>\n",
              "      <td>2</td>\n",
              "      <td>2</td>\n",
              "      <td>2</td>\n",
              "      <td>2</td>\n",
              "      <td>2</td>\n",
              "      <td>2</td>\n",
              "      <td>2</td>\n",
              "      <td>2</td>\n",
              "      <td>2</td>\n",
              "      <td>2</td>\n",
              "      <td>2</td>\n",
              "      <td>2</td>\n",
              "      <td>1</td>\n",
              "      <td>2</td>\n",
              "      <td>1</td>\n",
              "      <td>1</td>\n",
              "      <td>2</td>\n",
              "      <td>2</td>\n",
              "      <td>2</td>\n",
              "      <td>2</td>\n",
              "      <td>4</td>\n",
              "      <td>0</td>\n",
              "      <td>4</td>\n",
              "      <td>96870</td>\n",
              "      <td>24217.50</td>\n",
              "      <td>1</td>\n",
              "      <td>2</td>\n",
              "      <td>98</td>\n",
              "      <td>0</td>\n",
              "      <td>0</td>\n",
              "      <td>0</td>\n",
              "      <td>1</td>\n",
              "      <td>1</td>\n",
              "      <td>67</td>\n",
              "      <td>1</td>\n",
              "      <td>4</td>\n",
              "      <td>3</td>\n",
              "      <td>0</td>\n",
              "      <td>3.33</td>\n",
              "      <td>29090.09</td>\n",
              "      <td>0</td>\n",
              "      <td>1</td>\n",
              "      <td>2</td>\n",
              "      <td>3</td>\n",
              "      <td>1</td>\n",
              "      <td>1</td>\n",
              "      <td>2</td>\n",
              "      <td>2</td>\n",
              "      <td>2</td>\n",
              "      <td>1</td>\n",
              "      <td>1</td>\n",
              "      <td>1</td>\n",
              "    </tr>\n",
              "    <tr>\n",
              "      <th>3</th>\n",
              "      <td>33</td>\n",
              "      <td>2</td>\n",
              "      <td>2</td>\n",
              "      <td>1</td>\n",
              "      <td>9</td>\n",
              "      <td>1</td>\n",
              "      <td>1</td>\n",
              "      <td>1</td>\n",
              "      <td>1</td>\n",
              "      <td>2</td>\n",
              "      <td>1</td>\n",
              "      <td>2</td>\n",
              "      <td>2</td>\n",
              "      <td>1</td>\n",
              "      <td>2</td>\n",
              "      <td>0</td>\n",
              "      <td>0</td>\n",
              "      <td>0</td>\n",
              "      <td>1</td>\n",
              "      <td>2</td>\n",
              "      <td>2</td>\n",
              "      <td>2</td>\n",
              "      <td>2</td>\n",
              "      <td>2</td>\n",
              "      <td>2</td>\n",
              "      <td>2</td>\n",
              "      <td>2</td>\n",
              "      <td>2</td>\n",
              "      <td>2</td>\n",
              "      <td>2</td>\n",
              "      <td>2</td>\n",
              "      <td>2</td>\n",
              "      <td>2</td>\n",
              "      <td>1</td>\n",
              "      <td>2</td>\n",
              "      <td>1</td>\n",
              "      <td>2</td>\n",
              "      <td>2</td>\n",
              "      <td>2</td>\n",
              "      <td>2</td>\n",
              "      <td>2</td>\n",
              "      <td>0</td>\n",
              "      <td>2</td>\n",
              "      <td>90000</td>\n",
              "      <td>45000.00</td>\n",
              "      <td>1</td>\n",
              "      <td>2</td>\n",
              "      <td>98</td>\n",
              "      <td>0</td>\n",
              "      <td>0</td>\n",
              "      <td>0</td>\n",
              "      <td>1</td>\n",
              "      <td>1</td>\n",
              "      <td>35</td>\n",
              "      <td>1</td>\n",
              "      <td>5</td>\n",
              "      <td>3</td>\n",
              "      <td>0</td>\n",
              "      <td>1.77</td>\n",
              "      <td>50847.46</td>\n",
              "      <td>0</td>\n",
              "      <td>1</td>\n",
              "      <td>1</td>\n",
              "      <td>1</td>\n",
              "      <td>1</td>\n",
              "      <td>2</td>\n",
              "      <td>1</td>\n",
              "      <td>2</td>\n",
              "      <td>2</td>\n",
              "      <td>1</td>\n",
              "      <td>1</td>\n",
              "      <td>1</td>\n",
              "    </tr>\n",
              "    <tr>\n",
              "      <th>4</th>\n",
              "      <td>33</td>\n",
              "      <td>1</td>\n",
              "      <td>3</td>\n",
              "      <td>1</td>\n",
              "      <td>1</td>\n",
              "      <td>1</td>\n",
              "      <td>1</td>\n",
              "      <td>1</td>\n",
              "      <td>1</td>\n",
              "      <td>2</td>\n",
              "      <td>2</td>\n",
              "      <td>2</td>\n",
              "      <td>3</td>\n",
              "      <td>2</td>\n",
              "      <td>2</td>\n",
              "      <td>0</td>\n",
              "      <td>0</td>\n",
              "      <td>0</td>\n",
              "      <td>1</td>\n",
              "      <td>2</td>\n",
              "      <td>2</td>\n",
              "      <td>2</td>\n",
              "      <td>2</td>\n",
              "      <td>2</td>\n",
              "      <td>2</td>\n",
              "      <td>2</td>\n",
              "      <td>2</td>\n",
              "      <td>2</td>\n",
              "      <td>2</td>\n",
              "      <td>2</td>\n",
              "      <td>2</td>\n",
              "      <td>2</td>\n",
              "      <td>1</td>\n",
              "      <td>1</td>\n",
              "      <td>2</td>\n",
              "      <td>1</td>\n",
              "      <td>2</td>\n",
              "      <td>2</td>\n",
              "      <td>2</td>\n",
              "      <td>2</td>\n",
              "      <td>3</td>\n",
              "      <td>0</td>\n",
              "      <td>3</td>\n",
              "      <td>92000</td>\n",
              "      <td>30666.67</td>\n",
              "      <td>2</td>\n",
              "      <td>1</td>\n",
              "      <td>98</td>\n",
              "      <td>0</td>\n",
              "      <td>0</td>\n",
              "      <td>0</td>\n",
              "      <td>1</td>\n",
              "      <td>2</td>\n",
              "      <td>33</td>\n",
              "      <td>1</td>\n",
              "      <td>6</td>\n",
              "      <td>3</td>\n",
              "      <td>0</td>\n",
              "      <td>2.54</td>\n",
              "      <td>36220.47</td>\n",
              "      <td>0</td>\n",
              "      <td>1</td>\n",
              "      <td>1</td>\n",
              "      <td>1</td>\n",
              "      <td>1</td>\n",
              "      <td>1</td>\n",
              "      <td>1</td>\n",
              "      <td>2</td>\n",
              "      <td>2</td>\n",
              "      <td>1</td>\n",
              "      <td>1</td>\n",
              "      <td>1</td>\n",
              "    </tr>\n",
              "  </tbody>\n",
              "</table>\n",
              "</div>\n",
              "      <button class=\"colab-df-convert\" onclick=\"convertToInteractive('df-496ed657-4263-4a15-b6ca-5d1915ebebf9')\"\n",
              "              title=\"Convert this dataframe to an interactive table.\"\n",
              "              style=\"display:none;\">\n",
              "        \n",
              "  <svg xmlns=\"http://www.w3.org/2000/svg\" height=\"24px\"viewBox=\"0 0 24 24\"\n",
              "       width=\"24px\">\n",
              "    <path d=\"M0 0h24v24H0V0z\" fill=\"none\"/>\n",
              "    <path d=\"M18.56 5.44l.94 2.06.94-2.06 2.06-.94-2.06-.94-.94-2.06-.94 2.06-2.06.94zm-11 1L8.5 8.5l.94-2.06 2.06-.94-2.06-.94L8.5 2.5l-.94 2.06-2.06.94zm10 10l.94 2.06.94-2.06 2.06-.94-2.06-.94-.94-2.06-.94 2.06-2.06.94z\"/><path d=\"M17.41 7.96l-1.37-1.37c-.4-.4-.92-.59-1.43-.59-.52 0-1.04.2-1.43.59L10.3 9.45l-7.72 7.72c-.78.78-.78 2.05 0 2.83L4 21.41c.39.39.9.59 1.41.59.51 0 1.02-.2 1.41-.59l7.78-7.78 2.81-2.81c.8-.78.8-2.07 0-2.86zM5.41 20L4 18.59l7.72-7.72 1.47 1.35L5.41 20z\"/>\n",
              "  </svg>\n",
              "      </button>\n",
              "      \n",
              "  <style>\n",
              "    .colab-df-container {\n",
              "      display:flex;\n",
              "      flex-wrap:wrap;\n",
              "      gap: 12px;\n",
              "    }\n",
              "\n",
              "    .colab-df-convert {\n",
              "      background-color: #E8F0FE;\n",
              "      border: none;\n",
              "      border-radius: 50%;\n",
              "      cursor: pointer;\n",
              "      display: none;\n",
              "      fill: #1967D2;\n",
              "      height: 32px;\n",
              "      padding: 0 0 0 0;\n",
              "      width: 32px;\n",
              "    }\n",
              "\n",
              "    .colab-df-convert:hover {\n",
              "      background-color: #E2EBFA;\n",
              "      box-shadow: 0px 1px 2px rgba(60, 64, 67, 0.3), 0px 1px 3px 1px rgba(60, 64, 67, 0.15);\n",
              "      fill: #174EA6;\n",
              "    }\n",
              "\n",
              "    [theme=dark] .colab-df-convert {\n",
              "      background-color: #3B4455;\n",
              "      fill: #D2E3FC;\n",
              "    }\n",
              "\n",
              "    [theme=dark] .colab-df-convert:hover {\n",
              "      background-color: #434B5C;\n",
              "      box-shadow: 0px 1px 3px 1px rgba(0, 0, 0, 0.15);\n",
              "      filter: drop-shadow(0px 1px 2px rgba(0, 0, 0, 0.3));\n",
              "      fill: #FFFFFF;\n",
              "    }\n",
              "  </style>\n",
              "\n",
              "      <script>\n",
              "        const buttonEl =\n",
              "          document.querySelector('#df-496ed657-4263-4a15-b6ca-5d1915ebebf9 button.colab-df-convert');\n",
              "        buttonEl.style.display =\n",
              "          google.colab.kernel.accessAllowed ? 'block' : 'none';\n",
              "\n",
              "        async function convertToInteractive(key) {\n",
              "          const element = document.querySelector('#df-496ed657-4263-4a15-b6ca-5d1915ebebf9');\n",
              "          const dataTable =\n",
              "            await google.colab.kernel.invokeFunction('convertToInteractive',\n",
              "                                                     [key], {});\n",
              "          if (!dataTable) return;\n",
              "\n",
              "          const docLinkHtml = 'Like what you see? Visit the ' +\n",
              "            '<a target=\"_blank\" href=https://colab.research.google.com/notebooks/data_table.ipynb>data table notebook</a>'\n",
              "            + ' to learn more about interactive tables.';\n",
              "          element.innerHTML = '';\n",
              "          dataTable['output_type'] = 'display_data';\n",
              "          await google.colab.output.renderOutput(dataTable, element);\n",
              "          const docLink = document.createElement('div');\n",
              "          docLink.innerHTML = docLinkHtml;\n",
              "          element.appendChild(docLink);\n",
              "        }\n",
              "      </script>\n",
              "    </div>\n",
              "  </div>\n",
              "  "
            ]
          },
          "metadata": {},
          "execution_count": 220
        }
      ]
    },
    {
      "cell_type": "code",
      "source": [
        "df['pobreza'].value_counts()"
      ],
      "metadata": {
        "colab": {
          "base_uri": "https://localhost:8080/"
        },
        "id": "N3f-KW2vkgef",
        "outputId": "3e5cd36b-ddf0-48d8-a0ff-64628dbabc47"
      },
      "execution_count": 221,
      "outputs": [
        {
          "output_type": "execute_result",
          "data": {
            "text/plain": [
              "0    9196\n",
              "1    4259\n",
              "Name: pobreza, dtype: int64"
            ]
          },
          "metadata": {},
          "execution_count": 221
        }
      ]
    },
    {
      "cell_type": "code",
      "source": [
        "from sklearn.utils import resample"
      ],
      "metadata": {
        "id": "blrGxYoRknml"
      },
      "execution_count": 196,
      "outputs": []
    },
    {
      "cell_type": "code",
      "source": [
        "# Separamos las clases \n",
        "df_majority = df[df.pobreza==0]\n",
        "df_minority = df[df.pobreza==1]\n",
        " \n",
        "# Upsample minority class\n",
        "df_majority_upsampled = resample(df_majority, \n",
        "                                 replace=True,     # sample with replacement\n",
        "                                 n_samples=4259,    # to match majority class\n",
        "                                 random_state=0) # reproducible results\n",
        " \n",
        "# Combinamos majority class con upsampled minority class\n",
        "df_upsampled = pd.concat([df_minority, df_majority_upsampled])\n",
        " \n"
      ],
      "metadata": {
        "id": "91_cMK6-koed"
      },
      "execution_count": 222,
      "outputs": []
    },
    {
      "cell_type": "code",
      "source": [
        "df_upsampled.pobreza.value_counts()"
      ],
      "metadata": {
        "colab": {
          "base_uri": "https://localhost:8080/"
        },
        "id": "GXd3fA4Okojf",
        "outputId": "f0fa4cc0-a74e-4569-a89e-f2908e012d6f"
      },
      "execution_count": 223,
      "outputs": [
        {
          "output_type": "execute_result",
          "data": {
            "text/plain": [
              "1    4259\n",
              "0    4259\n",
              "Name: pobreza, dtype: int64"
            ]
          },
          "metadata": {},
          "execution_count": 223
        }
      ]
    },
    {
      "cell_type": "code",
      "source": [
        "X = df_upsampled.drop(['pobreza'], axis=1)\n",
        "\n",
        "y = df_upsampled['pobreza']"
      ],
      "metadata": {
        "id": "SpwQeuPDkomA"
      },
      "execution_count": 224,
      "outputs": []
    },
    {
      "cell_type": "code",
      "source": [
        "X_train, X_test, y_train, y_test = train_test_split(X, y, test_size = 0.3, random_state = 0)"
      ],
      "metadata": {
        "id": "2r02t6-OlUTy"
      },
      "execution_count": 225,
      "outputs": []
    },
    {
      "cell_type": "code",
      "source": [
        "# chequeamos\n",
        "\n",
        "X_train.shape, X_test.shape"
      ],
      "metadata": {
        "colab": {
          "base_uri": "https://localhost:8080/"
        },
        "id": "gBZPh23QlUd6",
        "outputId": "0ae2e4d8-78c9-4a1f-c1f6-9f148867d99e"
      },
      "execution_count": 226,
      "outputs": [
        {
          "output_type": "execute_result",
          "data": {
            "text/plain": [
              "((5962, 71), (2556, 71))"
            ]
          },
          "metadata": {},
          "execution_count": 226
        }
      ]
    },
    {
      "cell_type": "code",
      "source": [
        "cols = X_train.columns"
      ],
      "metadata": {
        "id": "5ZllgnQYlUk7"
      },
      "execution_count": 227,
      "outputs": []
    },
    {
      "cell_type": "code",
      "source": [
        "scaler = MinMaxScaler()\n",
        "\n",
        "X_train = scaler.fit_transform(X_train)\n",
        "\n",
        "X_test = scaler.transform(X_test)"
      ],
      "metadata": {
        "id": "uYfBYpuXlUsf"
      },
      "execution_count": 228,
      "outputs": []
    },
    {
      "cell_type": "code",
      "source": [
        "X_train = pd.DataFrame(X_train, columns=[cols])"
      ],
      "metadata": {
        "id": "PUs0LKyvlUxZ"
      },
      "execution_count": 229,
      "outputs": []
    },
    {
      "cell_type": "code",
      "source": [
        "X_test = pd.DataFrame(X_test, columns=[cols])"
      ],
      "metadata": {
        "id": "r_-hD45MlU0U"
      },
      "execution_count": null,
      "outputs": []
    },
    {
      "cell_type": "code",
      "source": [
        "X_train.describe()"
      ],
      "metadata": {
        "colab": {
          "base_uri": "https://localhost:8080/",
          "height": 364
        },
        "id": "6bl5pEDEmOfu",
        "outputId": "ae2a97f7-0e8a-45bb-b911-11387f11e236"
      },
      "execution_count": 230,
      "outputs": [
        {
          "output_type": "execute_result",
          "data": {
            "text/plain": [
              "        AGLOMERADO          IV1          IV2          IV3          IV4  \\\n",
              "count  5962.000000  5962.000000  5962.000000  5962.000000  5962.000000   \n",
              "mean      0.239580     0.038443     0.227850     0.049592     0.238343   \n",
              "std       0.206621     0.094033     0.133029     0.128585     0.237814   \n",
              "min       0.000000     0.000000     0.000000     0.000000     0.000000   \n",
              "25%       0.109890     0.000000     0.111111     0.000000     0.000000   \n",
              "50%       0.219780     0.000000     0.222222     0.000000     0.125000   \n",
              "75%       0.318681     0.000000     0.333333     0.000000     0.375000   \n",
              "max       1.000000     1.000000     1.000000     1.000000     1.000000   \n",
              "\n",
              "               IV5          IV6          IV7          IV8       IV12_1  \\\n",
              "count  5962.000000  5962.000000  5962.000000  5962.000000  5962.000000   \n",
              "mean      0.154311     0.014844     0.011014     0.004025     0.935592   \n",
              "std       0.361277     0.092439     0.068057     0.063324     0.245499   \n",
              "min       0.000000     0.000000     0.000000     0.000000     0.000000   \n",
              "25%       0.000000     0.000000     0.000000     0.000000     1.000000   \n",
              "50%       0.000000     0.000000     0.000000     0.000000     1.000000   \n",
              "75%       0.000000     0.000000     0.000000     0.000000     1.000000   \n",
              "max       1.000000     1.000000     1.000000     1.000000     1.000000   \n",
              "\n",
              "            IV12_2       IV12_3          II1          II2          II3  \\\n",
              "count  5962.000000  5962.000000  5962.000000  5962.000000  5962.000000   \n",
              "mean      0.938779     0.994297     0.221682     0.321229     0.972409   \n",
              "std       0.239755     0.075307     0.132375     0.144060     0.116000   \n",
              "min       0.000000     0.000000     0.000000     0.000000     0.000000   \n",
              "25%       1.000000     1.000000     0.111111     0.166667     1.000000   \n",
              "50%       1.000000     1.000000     0.222222     0.333333     1.000000   \n",
              "75%       1.000000     1.000000     0.333333     0.333333     1.000000   \n",
              "max       1.000000     1.000000     1.000000     1.000000     1.000000   \n",
              "\n",
              "             II3_1        II5_1        II6_1           V1           V2  \\\n",
              "count  5962.000000  5962.000000  5962.000000  5962.000000  5962.000000   \n",
              "mean      0.018618     0.004025     0.004361     0.026082     0.077512   \n",
              "std       0.080122     0.047418     0.041180     0.052222     0.061873   \n",
              "min       0.000000     0.000000     0.000000     0.000000     0.000000   \n",
              "25%       0.000000     0.000000     0.000000     0.000000     0.000000   \n",
              "50%       0.000000     0.000000     0.000000     0.000000     0.125000   \n",
              "75%       0.000000     0.000000     0.000000     0.000000     0.125000   \n",
              "max       1.000000     1.000000     1.000000     1.000000     1.000000   \n",
              "\n",
              "               V21          V22           V3           V4           V5  \\\n",
              "count  5962.000000  5962.000000  5962.000000  5962.000000  5962.000000   \n",
              "mean      0.995975     0.992284     0.124937     0.124497     0.096968   \n",
              "std       0.063324     0.087506     0.012436     0.014472     0.053530   \n",
              "min       0.000000     0.000000     0.000000     0.000000     0.000000   \n",
              "25%       1.000000     1.000000     0.125000     0.125000     0.125000   \n",
              "50%       1.000000     1.000000     0.125000     0.125000     0.125000   \n",
              "75%       1.000000     1.000000     0.125000     0.125000     0.125000   \n",
              "max       1.000000     1.000000     1.000000     1.000000     1.000000   \n",
              "\n",
              "                V6           V7           V8           V9          V10  \\\n",
              "count  5962.000000  5962.000000  5962.000000  5962.000000  5962.000000   \n",
              "mean      0.116006     0.111833     0.122484     0.124916     0.124748   \n",
              "std       0.034502     0.040243     0.021331     0.012541     0.013348   \n",
              "min       0.000000     0.000000     0.000000     0.000000     0.000000   \n",
              "25%       0.125000     0.125000     0.125000     0.125000     0.125000   \n",
              "50%       0.125000     0.125000     0.125000     0.125000     0.125000   \n",
              "75%       0.125000     0.125000     0.125000     0.125000     0.125000   \n",
              "max       1.000000     1.000000     1.000000     1.000000     1.000000   \n",
              "\n",
              "               V11          V12          V13          V14          V15  \\\n",
              "count  5962.000000  5962.000000  5962.000000  5962.000000  5962.000000   \n",
              "mean      0.121813     0.112861     0.090720     0.105711     0.110533   \n",
              "std       0.023131     0.038950     0.057072     0.046757     0.041786   \n",
              "min       0.000000     0.000000     0.000000     0.000000     0.000000   \n",
              "25%       0.125000     0.125000     0.000000     0.125000     0.125000   \n",
              "50%       0.125000     0.125000     0.125000     0.125000     0.125000   \n",
              "75%       0.125000     0.125000     0.125000     0.125000     0.125000   \n",
              "max       1.000000     1.000000     1.000000     1.000000     1.000000   \n",
              "\n",
              "               V16          V17          V18        V19_A        V19_B  \\\n",
              "count  5962.000000  5962.000000  5962.000000  5962.000000  5962.000000   \n",
              "mean      0.064387     0.110617     0.125000     0.000168     0.125105   \n",
              "std       0.063641     0.041690     0.012116     0.012951     0.011562   \n",
              "min       0.000000     0.000000     0.000000     0.000000     0.000000   \n",
              "25%       0.000000     0.125000     0.125000     0.000000     0.125000   \n",
              "50%       0.125000     0.125000     0.125000     0.000000     0.125000   \n",
              "75%       0.125000     0.125000     0.125000     0.000000     0.125000   \n",
              "max       1.000000     1.000000     1.000000     1.000000     1.000000   \n",
              "\n",
              "            IX_TOT     IX_MEN10   IX_MAYEQ10          ITF         IPCF  \\\n",
              "count  5962.000000  5962.000000  5962.000000  5962.000000  5962.000000   \n",
              "mean      0.170967     0.080761     0.173801     0.018941     0.014783   \n",
              "std       0.136432     0.134274     0.143393     0.019441     0.018683   \n",
              "min       0.000000     0.000000     0.000000     0.000000     0.000000   \n",
              "25%       0.076923     0.000000     0.100000     0.009668     0.006634   \n",
              "50%       0.153846     0.000000     0.100000     0.015121     0.009955   \n",
              "75%       0.230769     0.166667     0.300000     0.023302     0.018000   \n",
              "max       1.000000     1.000000     1.000000     1.000000     1.000000   \n",
              "\n",
              "            VII1_1       VII1_2       VII2_1       VII2_2       VII2_3  \\\n",
              "count  5962.000000  5962.000000  5962.000000  5962.000000  5962.000000   \n",
              "mean      0.034346     0.007235     0.687341     0.004654     0.001124   \n",
              "std       0.168666     0.033319     0.458388     0.035594     0.014548   \n",
              "min       0.000000     0.000000     0.000000     0.000000     0.000000   \n",
              "25%       0.000000     0.000000     0.020619     0.000000     0.000000   \n",
              "50%       0.000000     0.000000     1.000000     0.000000     0.000000   \n",
              "75%       0.010309     0.010204     1.000000     0.000000     0.000000   \n",
              "max       1.000000     1.000000     1.000000     1.000000     1.000000   \n",
              "\n",
              "            VII2_4 parentesco       genero         edad   cob_medica  \\\n",
              "count  5962.000000     5962.0  5962.000000  5962.000000  5962.000000   \n",
              "mean      0.001416        0.0     0.475679     0.429165     0.048802   \n",
              "std       0.030967        0.0     0.499450     0.205960     0.084787   \n",
              "min       0.000000        0.0     0.000000     0.000000     0.000000   \n",
              "25%       0.000000        0.0     0.000000     0.265823     0.000000   \n",
              "50%       0.000000        0.0     0.000000     0.417722     0.000000   \n",
              "75%       0.000000        0.0     1.000000     0.582278     0.136364   \n",
              "max       1.000000        0.0     1.000000     1.000000     1.000000   \n",
              "\n",
              "          NIVEL_ED     CAT_OCUP     CAT_INAC AE_ctrol_ind_sum  \\\n",
              "count  5962.000000  5962.000000  5962.000000      5962.000000   \n",
              "mean      0.437325     0.489328     0.085590         0.182898   \n",
              "std       0.260038     0.384056     0.162952         0.132860   \n",
              "min       0.000000     0.000000     0.000000         0.000000   \n",
              "25%       0.166667     0.250000     0.000000         0.081232   \n",
              "50%       0.500000     0.250000     0.000000         0.169935   \n",
              "75%       0.666667     1.000000     0.142857         0.265173   \n",
              "max       1.000000     1.000000     1.000000         1.000000   \n",
              "\n",
              "      adulto_equivalente          IV9         IV10         IV11        II4_1  \\\n",
              "count        5962.000000  5962.000000  5962.000000  5962.000000  5962.000000   \n",
              "mean            0.017520     0.037404     0.028598     0.093593     0.097786   \n",
              "std             0.020726     0.189765     0.121760     0.189865     0.297050   \n",
              "min             0.000000     0.000000     0.000000     0.000000     0.000000   \n",
              "25%             0.007869     0.000000     0.000000     0.000000     0.000000   \n",
              "50%             0.011493     0.000000     0.000000     0.000000     0.000000   \n",
              "75%             0.021540     0.000000     0.000000     0.000000     0.000000   \n",
              "max             1.000000     1.000000     1.000000     1.000000     1.000000   \n",
              "\n",
              "             II4_2        II4_3          II5          II6          II7  \\\n",
              "count  5962.000000  5962.000000  5962.000000  5962.000000  5962.000000   \n",
              "mean      0.573465     0.696578     0.992452     0.987756     0.119738   \n",
              "std       0.494615     0.459774     0.086557     0.109983     0.205471   \n",
              "min       0.000000     0.000000     0.000000     0.000000     0.000000   \n",
              "25%       0.000000     0.000000     1.000000     1.000000     0.000000   \n",
              "50%       1.000000     1.000000     1.000000     1.000000     0.000000   \n",
              "75%       1.000000     1.000000     1.000000     1.000000     0.250000   \n",
              "max       1.000000     1.000000     1.000000     1.000000     1.000000   \n",
              "\n",
              "               II8          II9  \n",
              "count  5962.000000  5962.000000  \n",
              "mean      0.146539     0.015767  \n",
              "std       0.178259     0.098703  \n",
              "min       0.000000     0.000000  \n",
              "25%       0.000000     0.000000  \n",
              "50%       0.000000     0.000000  \n",
              "75%       0.333333     0.000000  \n",
              "max       1.000000     1.000000  "
            ],
            "text/html": [
              "\n",
              "  <div id=\"df-d495e9e5-7f34-4b25-86f1-0a8a03bcbf19\">\n",
              "    <div class=\"colab-df-container\">\n",
              "      <div>\n",
              "<style scoped>\n",
              "    .dataframe tbody tr th:only-of-type {\n",
              "        vertical-align: middle;\n",
              "    }\n",
              "\n",
              "    .dataframe tbody tr th {\n",
              "        vertical-align: top;\n",
              "    }\n",
              "\n",
              "    .dataframe thead tr th {\n",
              "        text-align: left;\n",
              "    }\n",
              "</style>\n",
              "<table border=\"1\" class=\"dataframe\">\n",
              "  <thead>\n",
              "    <tr>\n",
              "      <th></th>\n",
              "      <th>AGLOMERADO</th>\n",
              "      <th>IV1</th>\n",
              "      <th>IV2</th>\n",
              "      <th>IV3</th>\n",
              "      <th>IV4</th>\n",
              "      <th>IV5</th>\n",
              "      <th>IV6</th>\n",
              "      <th>IV7</th>\n",
              "      <th>IV8</th>\n",
              "      <th>IV12_1</th>\n",
              "      <th>IV12_2</th>\n",
              "      <th>IV12_3</th>\n",
              "      <th>II1</th>\n",
              "      <th>II2</th>\n",
              "      <th>II3</th>\n",
              "      <th>II3_1</th>\n",
              "      <th>II5_1</th>\n",
              "      <th>II6_1</th>\n",
              "      <th>V1</th>\n",
              "      <th>V2</th>\n",
              "      <th>V21</th>\n",
              "      <th>V22</th>\n",
              "      <th>V3</th>\n",
              "      <th>V4</th>\n",
              "      <th>V5</th>\n",
              "      <th>V6</th>\n",
              "      <th>V7</th>\n",
              "      <th>V8</th>\n",
              "      <th>V9</th>\n",
              "      <th>V10</th>\n",
              "      <th>V11</th>\n",
              "      <th>V12</th>\n",
              "      <th>V13</th>\n",
              "      <th>V14</th>\n",
              "      <th>V15</th>\n",
              "      <th>V16</th>\n",
              "      <th>V17</th>\n",
              "      <th>V18</th>\n",
              "      <th>V19_A</th>\n",
              "      <th>V19_B</th>\n",
              "      <th>IX_TOT</th>\n",
              "      <th>IX_MEN10</th>\n",
              "      <th>IX_MAYEQ10</th>\n",
              "      <th>ITF</th>\n",
              "      <th>IPCF</th>\n",
              "      <th>VII1_1</th>\n",
              "      <th>VII1_2</th>\n",
              "      <th>VII2_1</th>\n",
              "      <th>VII2_2</th>\n",
              "      <th>VII2_3</th>\n",
              "      <th>VII2_4</th>\n",
              "      <th>parentesco</th>\n",
              "      <th>genero</th>\n",
              "      <th>edad</th>\n",
              "      <th>cob_medica</th>\n",
              "      <th>NIVEL_ED</th>\n",
              "      <th>CAT_OCUP</th>\n",
              "      <th>CAT_INAC</th>\n",
              "      <th>AE_ctrol_ind_sum</th>\n",
              "      <th>adulto_equivalente</th>\n",
              "      <th>IV9</th>\n",
              "      <th>IV10</th>\n",
              "      <th>IV11</th>\n",
              "      <th>II4_1</th>\n",
              "      <th>II4_2</th>\n",
              "      <th>II4_3</th>\n",
              "      <th>II5</th>\n",
              "      <th>II6</th>\n",
              "      <th>II7</th>\n",
              "      <th>II8</th>\n",
              "      <th>II9</th>\n",
              "    </tr>\n",
              "  </thead>\n",
              "  <tbody>\n",
              "    <tr>\n",
              "      <th>count</th>\n",
              "      <td>5962.000000</td>\n",
              "      <td>5962.000000</td>\n",
              "      <td>5962.000000</td>\n",
              "      <td>5962.000000</td>\n",
              "      <td>5962.000000</td>\n",
              "      <td>5962.000000</td>\n",
              "      <td>5962.000000</td>\n",
              "      <td>5962.000000</td>\n",
              "      <td>5962.000000</td>\n",
              "      <td>5962.000000</td>\n",
              "      <td>5962.000000</td>\n",
              "      <td>5962.000000</td>\n",
              "      <td>5962.000000</td>\n",
              "      <td>5962.000000</td>\n",
              "      <td>5962.000000</td>\n",
              "      <td>5962.000000</td>\n",
              "      <td>5962.000000</td>\n",
              "      <td>5962.000000</td>\n",
              "      <td>5962.000000</td>\n",
              "      <td>5962.000000</td>\n",
              "      <td>5962.000000</td>\n",
              "      <td>5962.000000</td>\n",
              "      <td>5962.000000</td>\n",
              "      <td>5962.000000</td>\n",
              "      <td>5962.000000</td>\n",
              "      <td>5962.000000</td>\n",
              "      <td>5962.000000</td>\n",
              "      <td>5962.000000</td>\n",
              "      <td>5962.000000</td>\n",
              "      <td>5962.000000</td>\n",
              "      <td>5962.000000</td>\n",
              "      <td>5962.000000</td>\n",
              "      <td>5962.000000</td>\n",
              "      <td>5962.000000</td>\n",
              "      <td>5962.000000</td>\n",
              "      <td>5962.000000</td>\n",
              "      <td>5962.000000</td>\n",
              "      <td>5962.000000</td>\n",
              "      <td>5962.000000</td>\n",
              "      <td>5962.000000</td>\n",
              "      <td>5962.000000</td>\n",
              "      <td>5962.000000</td>\n",
              "      <td>5962.000000</td>\n",
              "      <td>5962.000000</td>\n",
              "      <td>5962.000000</td>\n",
              "      <td>5962.000000</td>\n",
              "      <td>5962.000000</td>\n",
              "      <td>5962.000000</td>\n",
              "      <td>5962.000000</td>\n",
              "      <td>5962.000000</td>\n",
              "      <td>5962.000000</td>\n",
              "      <td>5962.0</td>\n",
              "      <td>5962.000000</td>\n",
              "      <td>5962.000000</td>\n",
              "      <td>5962.000000</td>\n",
              "      <td>5962.000000</td>\n",
              "      <td>5962.000000</td>\n",
              "      <td>5962.000000</td>\n",
              "      <td>5962.000000</td>\n",
              "      <td>5962.000000</td>\n",
              "      <td>5962.000000</td>\n",
              "      <td>5962.000000</td>\n",
              "      <td>5962.000000</td>\n",
              "      <td>5962.000000</td>\n",
              "      <td>5962.000000</td>\n",
              "      <td>5962.000000</td>\n",
              "      <td>5962.000000</td>\n",
              "      <td>5962.000000</td>\n",
              "      <td>5962.000000</td>\n",
              "      <td>5962.000000</td>\n",
              "      <td>5962.000000</td>\n",
              "    </tr>\n",
              "    <tr>\n",
              "      <th>mean</th>\n",
              "      <td>0.239580</td>\n",
              "      <td>0.038443</td>\n",
              "      <td>0.227850</td>\n",
              "      <td>0.049592</td>\n",
              "      <td>0.238343</td>\n",
              "      <td>0.154311</td>\n",
              "      <td>0.014844</td>\n",
              "      <td>0.011014</td>\n",
              "      <td>0.004025</td>\n",
              "      <td>0.935592</td>\n",
              "      <td>0.938779</td>\n",
              "      <td>0.994297</td>\n",
              "      <td>0.221682</td>\n",
              "      <td>0.321229</td>\n",
              "      <td>0.972409</td>\n",
              "      <td>0.018618</td>\n",
              "      <td>0.004025</td>\n",
              "      <td>0.004361</td>\n",
              "      <td>0.026082</td>\n",
              "      <td>0.077512</td>\n",
              "      <td>0.995975</td>\n",
              "      <td>0.992284</td>\n",
              "      <td>0.124937</td>\n",
              "      <td>0.124497</td>\n",
              "      <td>0.096968</td>\n",
              "      <td>0.116006</td>\n",
              "      <td>0.111833</td>\n",
              "      <td>0.122484</td>\n",
              "      <td>0.124916</td>\n",
              "      <td>0.124748</td>\n",
              "      <td>0.121813</td>\n",
              "      <td>0.112861</td>\n",
              "      <td>0.090720</td>\n",
              "      <td>0.105711</td>\n",
              "      <td>0.110533</td>\n",
              "      <td>0.064387</td>\n",
              "      <td>0.110617</td>\n",
              "      <td>0.125000</td>\n",
              "      <td>0.000168</td>\n",
              "      <td>0.125105</td>\n",
              "      <td>0.170967</td>\n",
              "      <td>0.080761</td>\n",
              "      <td>0.173801</td>\n",
              "      <td>0.018941</td>\n",
              "      <td>0.014783</td>\n",
              "      <td>0.034346</td>\n",
              "      <td>0.007235</td>\n",
              "      <td>0.687341</td>\n",
              "      <td>0.004654</td>\n",
              "      <td>0.001124</td>\n",
              "      <td>0.001416</td>\n",
              "      <td>0.0</td>\n",
              "      <td>0.475679</td>\n",
              "      <td>0.429165</td>\n",
              "      <td>0.048802</td>\n",
              "      <td>0.437325</td>\n",
              "      <td>0.489328</td>\n",
              "      <td>0.085590</td>\n",
              "      <td>0.182898</td>\n",
              "      <td>0.017520</td>\n",
              "      <td>0.037404</td>\n",
              "      <td>0.028598</td>\n",
              "      <td>0.093593</td>\n",
              "      <td>0.097786</td>\n",
              "      <td>0.573465</td>\n",
              "      <td>0.696578</td>\n",
              "      <td>0.992452</td>\n",
              "      <td>0.987756</td>\n",
              "      <td>0.119738</td>\n",
              "      <td>0.146539</td>\n",
              "      <td>0.015767</td>\n",
              "    </tr>\n",
              "    <tr>\n",
              "      <th>std</th>\n",
              "      <td>0.206621</td>\n",
              "      <td>0.094033</td>\n",
              "      <td>0.133029</td>\n",
              "      <td>0.128585</td>\n",
              "      <td>0.237814</td>\n",
              "      <td>0.361277</td>\n",
              "      <td>0.092439</td>\n",
              "      <td>0.068057</td>\n",
              "      <td>0.063324</td>\n",
              "      <td>0.245499</td>\n",
              "      <td>0.239755</td>\n",
              "      <td>0.075307</td>\n",
              "      <td>0.132375</td>\n",
              "      <td>0.144060</td>\n",
              "      <td>0.116000</td>\n",
              "      <td>0.080122</td>\n",
              "      <td>0.047418</td>\n",
              "      <td>0.041180</td>\n",
              "      <td>0.052222</td>\n",
              "      <td>0.061873</td>\n",
              "      <td>0.063324</td>\n",
              "      <td>0.087506</td>\n",
              "      <td>0.012436</td>\n",
              "      <td>0.014472</td>\n",
              "      <td>0.053530</td>\n",
              "      <td>0.034502</td>\n",
              "      <td>0.040243</td>\n",
              "      <td>0.021331</td>\n",
              "      <td>0.012541</td>\n",
              "      <td>0.013348</td>\n",
              "      <td>0.023131</td>\n",
              "      <td>0.038950</td>\n",
              "      <td>0.057072</td>\n",
              "      <td>0.046757</td>\n",
              "      <td>0.041786</td>\n",
              "      <td>0.063641</td>\n",
              "      <td>0.041690</td>\n",
              "      <td>0.012116</td>\n",
              "      <td>0.012951</td>\n",
              "      <td>0.011562</td>\n",
              "      <td>0.136432</td>\n",
              "      <td>0.134274</td>\n",
              "      <td>0.143393</td>\n",
              "      <td>0.019441</td>\n",
              "      <td>0.018683</td>\n",
              "      <td>0.168666</td>\n",
              "      <td>0.033319</td>\n",
              "      <td>0.458388</td>\n",
              "      <td>0.035594</td>\n",
              "      <td>0.014548</td>\n",
              "      <td>0.030967</td>\n",
              "      <td>0.0</td>\n",
              "      <td>0.499450</td>\n",
              "      <td>0.205960</td>\n",
              "      <td>0.084787</td>\n",
              "      <td>0.260038</td>\n",
              "      <td>0.384056</td>\n",
              "      <td>0.162952</td>\n",
              "      <td>0.132860</td>\n",
              "      <td>0.020726</td>\n",
              "      <td>0.189765</td>\n",
              "      <td>0.121760</td>\n",
              "      <td>0.189865</td>\n",
              "      <td>0.297050</td>\n",
              "      <td>0.494615</td>\n",
              "      <td>0.459774</td>\n",
              "      <td>0.086557</td>\n",
              "      <td>0.109983</td>\n",
              "      <td>0.205471</td>\n",
              "      <td>0.178259</td>\n",
              "      <td>0.098703</td>\n",
              "    </tr>\n",
              "    <tr>\n",
              "      <th>min</th>\n",
              "      <td>0.000000</td>\n",
              "      <td>0.000000</td>\n",
              "      <td>0.000000</td>\n",
              "      <td>0.000000</td>\n",
              "      <td>0.000000</td>\n",
              "      <td>0.000000</td>\n",
              "      <td>0.000000</td>\n",
              "      <td>0.000000</td>\n",
              "      <td>0.000000</td>\n",
              "      <td>0.000000</td>\n",
              "      <td>0.000000</td>\n",
              "      <td>0.000000</td>\n",
              "      <td>0.000000</td>\n",
              "      <td>0.000000</td>\n",
              "      <td>0.000000</td>\n",
              "      <td>0.000000</td>\n",
              "      <td>0.000000</td>\n",
              "      <td>0.000000</td>\n",
              "      <td>0.000000</td>\n",
              "      <td>0.000000</td>\n",
              "      <td>0.000000</td>\n",
              "      <td>0.000000</td>\n",
              "      <td>0.000000</td>\n",
              "      <td>0.000000</td>\n",
              "      <td>0.000000</td>\n",
              "      <td>0.000000</td>\n",
              "      <td>0.000000</td>\n",
              "      <td>0.000000</td>\n",
              "      <td>0.000000</td>\n",
              "      <td>0.000000</td>\n",
              "      <td>0.000000</td>\n",
              "      <td>0.000000</td>\n",
              "      <td>0.000000</td>\n",
              "      <td>0.000000</td>\n",
              "      <td>0.000000</td>\n",
              "      <td>0.000000</td>\n",
              "      <td>0.000000</td>\n",
              "      <td>0.000000</td>\n",
              "      <td>0.000000</td>\n",
              "      <td>0.000000</td>\n",
              "      <td>0.000000</td>\n",
              "      <td>0.000000</td>\n",
              "      <td>0.000000</td>\n",
              "      <td>0.000000</td>\n",
              "      <td>0.000000</td>\n",
              "      <td>0.000000</td>\n",
              "      <td>0.000000</td>\n",
              "      <td>0.000000</td>\n",
              "      <td>0.000000</td>\n",
              "      <td>0.000000</td>\n",
              "      <td>0.000000</td>\n",
              "      <td>0.0</td>\n",
              "      <td>0.000000</td>\n",
              "      <td>0.000000</td>\n",
              "      <td>0.000000</td>\n",
              "      <td>0.000000</td>\n",
              "      <td>0.000000</td>\n",
              "      <td>0.000000</td>\n",
              "      <td>0.000000</td>\n",
              "      <td>0.000000</td>\n",
              "      <td>0.000000</td>\n",
              "      <td>0.000000</td>\n",
              "      <td>0.000000</td>\n",
              "      <td>0.000000</td>\n",
              "      <td>0.000000</td>\n",
              "      <td>0.000000</td>\n",
              "      <td>0.000000</td>\n",
              "      <td>0.000000</td>\n",
              "      <td>0.000000</td>\n",
              "      <td>0.000000</td>\n",
              "      <td>0.000000</td>\n",
              "    </tr>\n",
              "    <tr>\n",
              "      <th>25%</th>\n",
              "      <td>0.109890</td>\n",
              "      <td>0.000000</td>\n",
              "      <td>0.111111</td>\n",
              "      <td>0.000000</td>\n",
              "      <td>0.000000</td>\n",
              "      <td>0.000000</td>\n",
              "      <td>0.000000</td>\n",
              "      <td>0.000000</td>\n",
              "      <td>0.000000</td>\n",
              "      <td>1.000000</td>\n",
              "      <td>1.000000</td>\n",
              "      <td>1.000000</td>\n",
              "      <td>0.111111</td>\n",
              "      <td>0.166667</td>\n",
              "      <td>1.000000</td>\n",
              "      <td>0.000000</td>\n",
              "      <td>0.000000</td>\n",
              "      <td>0.000000</td>\n",
              "      <td>0.000000</td>\n",
              "      <td>0.000000</td>\n",
              "      <td>1.000000</td>\n",
              "      <td>1.000000</td>\n",
              "      <td>0.125000</td>\n",
              "      <td>0.125000</td>\n",
              "      <td>0.125000</td>\n",
              "      <td>0.125000</td>\n",
              "      <td>0.125000</td>\n",
              "      <td>0.125000</td>\n",
              "      <td>0.125000</td>\n",
              "      <td>0.125000</td>\n",
              "      <td>0.125000</td>\n",
              "      <td>0.125000</td>\n",
              "      <td>0.000000</td>\n",
              "      <td>0.125000</td>\n",
              "      <td>0.125000</td>\n",
              "      <td>0.000000</td>\n",
              "      <td>0.125000</td>\n",
              "      <td>0.125000</td>\n",
              "      <td>0.000000</td>\n",
              "      <td>0.125000</td>\n",
              "      <td>0.076923</td>\n",
              "      <td>0.000000</td>\n",
              "      <td>0.100000</td>\n",
              "      <td>0.009668</td>\n",
              "      <td>0.006634</td>\n",
              "      <td>0.000000</td>\n",
              "      <td>0.000000</td>\n",
              "      <td>0.020619</td>\n",
              "      <td>0.000000</td>\n",
              "      <td>0.000000</td>\n",
              "      <td>0.000000</td>\n",
              "      <td>0.0</td>\n",
              "      <td>0.000000</td>\n",
              "      <td>0.265823</td>\n",
              "      <td>0.000000</td>\n",
              "      <td>0.166667</td>\n",
              "      <td>0.250000</td>\n",
              "      <td>0.000000</td>\n",
              "      <td>0.081232</td>\n",
              "      <td>0.007869</td>\n",
              "      <td>0.000000</td>\n",
              "      <td>0.000000</td>\n",
              "      <td>0.000000</td>\n",
              "      <td>0.000000</td>\n",
              "      <td>0.000000</td>\n",
              "      <td>0.000000</td>\n",
              "      <td>1.000000</td>\n",
              "      <td>1.000000</td>\n",
              "      <td>0.000000</td>\n",
              "      <td>0.000000</td>\n",
              "      <td>0.000000</td>\n",
              "    </tr>\n",
              "    <tr>\n",
              "      <th>50%</th>\n",
              "      <td>0.219780</td>\n",
              "      <td>0.000000</td>\n",
              "      <td>0.222222</td>\n",
              "      <td>0.000000</td>\n",
              "      <td>0.125000</td>\n",
              "      <td>0.000000</td>\n",
              "      <td>0.000000</td>\n",
              "      <td>0.000000</td>\n",
              "      <td>0.000000</td>\n",
              "      <td>1.000000</td>\n",
              "      <td>1.000000</td>\n",
              "      <td>1.000000</td>\n",
              "      <td>0.222222</td>\n",
              "      <td>0.333333</td>\n",
              "      <td>1.000000</td>\n",
              "      <td>0.000000</td>\n",
              "      <td>0.000000</td>\n",
              "      <td>0.000000</td>\n",
              "      <td>0.000000</td>\n",
              "      <td>0.125000</td>\n",
              "      <td>1.000000</td>\n",
              "      <td>1.000000</td>\n",
              "      <td>0.125000</td>\n",
              "      <td>0.125000</td>\n",
              "      <td>0.125000</td>\n",
              "      <td>0.125000</td>\n",
              "      <td>0.125000</td>\n",
              "      <td>0.125000</td>\n",
              "      <td>0.125000</td>\n",
              "      <td>0.125000</td>\n",
              "      <td>0.125000</td>\n",
              "      <td>0.125000</td>\n",
              "      <td>0.125000</td>\n",
              "      <td>0.125000</td>\n",
              "      <td>0.125000</td>\n",
              "      <td>0.125000</td>\n",
              "      <td>0.125000</td>\n",
              "      <td>0.125000</td>\n",
              "      <td>0.000000</td>\n",
              "      <td>0.125000</td>\n",
              "      <td>0.153846</td>\n",
              "      <td>0.000000</td>\n",
              "      <td>0.100000</td>\n",
              "      <td>0.015121</td>\n",
              "      <td>0.009955</td>\n",
              "      <td>0.000000</td>\n",
              "      <td>0.000000</td>\n",
              "      <td>1.000000</td>\n",
              "      <td>0.000000</td>\n",
              "      <td>0.000000</td>\n",
              "      <td>0.000000</td>\n",
              "      <td>0.0</td>\n",
              "      <td>0.000000</td>\n",
              "      <td>0.417722</td>\n",
              "      <td>0.000000</td>\n",
              "      <td>0.500000</td>\n",
              "      <td>0.250000</td>\n",
              "      <td>0.000000</td>\n",
              "      <td>0.169935</td>\n",
              "      <td>0.011493</td>\n",
              "      <td>0.000000</td>\n",
              "      <td>0.000000</td>\n",
              "      <td>0.000000</td>\n",
              "      <td>0.000000</td>\n",
              "      <td>1.000000</td>\n",
              "      <td>1.000000</td>\n",
              "      <td>1.000000</td>\n",
              "      <td>1.000000</td>\n",
              "      <td>0.000000</td>\n",
              "      <td>0.000000</td>\n",
              "      <td>0.000000</td>\n",
              "    </tr>\n",
              "    <tr>\n",
              "      <th>75%</th>\n",
              "      <td>0.318681</td>\n",
              "      <td>0.000000</td>\n",
              "      <td>0.333333</td>\n",
              "      <td>0.000000</td>\n",
              "      <td>0.375000</td>\n",
              "      <td>0.000000</td>\n",
              "      <td>0.000000</td>\n",
              "      <td>0.000000</td>\n",
              "      <td>0.000000</td>\n",
              "      <td>1.000000</td>\n",
              "      <td>1.000000</td>\n",
              "      <td>1.000000</td>\n",
              "      <td>0.333333</td>\n",
              "      <td>0.333333</td>\n",
              "      <td>1.000000</td>\n",
              "      <td>0.000000</td>\n",
              "      <td>0.000000</td>\n",
              "      <td>0.000000</td>\n",
              "      <td>0.000000</td>\n",
              "      <td>0.125000</td>\n",
              "      <td>1.000000</td>\n",
              "      <td>1.000000</td>\n",
              "      <td>0.125000</td>\n",
              "      <td>0.125000</td>\n",
              "      <td>0.125000</td>\n",
              "      <td>0.125000</td>\n",
              "      <td>0.125000</td>\n",
              "      <td>0.125000</td>\n",
              "      <td>0.125000</td>\n",
              "      <td>0.125000</td>\n",
              "      <td>0.125000</td>\n",
              "      <td>0.125000</td>\n",
              "      <td>0.125000</td>\n",
              "      <td>0.125000</td>\n",
              "      <td>0.125000</td>\n",
              "      <td>0.125000</td>\n",
              "      <td>0.125000</td>\n",
              "      <td>0.125000</td>\n",
              "      <td>0.000000</td>\n",
              "      <td>0.125000</td>\n",
              "      <td>0.230769</td>\n",
              "      <td>0.166667</td>\n",
              "      <td>0.300000</td>\n",
              "      <td>0.023302</td>\n",
              "      <td>0.018000</td>\n",
              "      <td>0.010309</td>\n",
              "      <td>0.010204</td>\n",
              "      <td>1.000000</td>\n",
              "      <td>0.000000</td>\n",
              "      <td>0.000000</td>\n",
              "      <td>0.000000</td>\n",
              "      <td>0.0</td>\n",
              "      <td>1.000000</td>\n",
              "      <td>0.582278</td>\n",
              "      <td>0.136364</td>\n",
              "      <td>0.666667</td>\n",
              "      <td>1.000000</td>\n",
              "      <td>0.142857</td>\n",
              "      <td>0.265173</td>\n",
              "      <td>0.021540</td>\n",
              "      <td>0.000000</td>\n",
              "      <td>0.000000</td>\n",
              "      <td>0.000000</td>\n",
              "      <td>0.000000</td>\n",
              "      <td>1.000000</td>\n",
              "      <td>1.000000</td>\n",
              "      <td>1.000000</td>\n",
              "      <td>1.000000</td>\n",
              "      <td>0.250000</td>\n",
              "      <td>0.333333</td>\n",
              "      <td>0.000000</td>\n",
              "    </tr>\n",
              "    <tr>\n",
              "      <th>max</th>\n",
              "      <td>1.000000</td>\n",
              "      <td>1.000000</td>\n",
              "      <td>1.000000</td>\n",
              "      <td>1.000000</td>\n",
              "      <td>1.000000</td>\n",
              "      <td>1.000000</td>\n",
              "      <td>1.000000</td>\n",
              "      <td>1.000000</td>\n",
              "      <td>1.000000</td>\n",
              "      <td>1.000000</td>\n",
              "      <td>1.000000</td>\n",
              "      <td>1.000000</td>\n",
              "      <td>1.000000</td>\n",
              "      <td>1.000000</td>\n",
              "      <td>1.000000</td>\n",
              "      <td>1.000000</td>\n",
              "      <td>1.000000</td>\n",
              "      <td>1.000000</td>\n",
              "      <td>1.000000</td>\n",
              "      <td>1.000000</td>\n",
              "      <td>1.000000</td>\n",
              "      <td>1.000000</td>\n",
              "      <td>1.000000</td>\n",
              "      <td>1.000000</td>\n",
              "      <td>1.000000</td>\n",
              "      <td>1.000000</td>\n",
              "      <td>1.000000</td>\n",
              "      <td>1.000000</td>\n",
              "      <td>1.000000</td>\n",
              "      <td>1.000000</td>\n",
              "      <td>1.000000</td>\n",
              "      <td>1.000000</td>\n",
              "      <td>1.000000</td>\n",
              "      <td>1.000000</td>\n",
              "      <td>1.000000</td>\n",
              "      <td>1.000000</td>\n",
              "      <td>1.000000</td>\n",
              "      <td>1.000000</td>\n",
              "      <td>1.000000</td>\n",
              "      <td>1.000000</td>\n",
              "      <td>1.000000</td>\n",
              "      <td>1.000000</td>\n",
              "      <td>1.000000</td>\n",
              "      <td>1.000000</td>\n",
              "      <td>1.000000</td>\n",
              "      <td>1.000000</td>\n",
              "      <td>1.000000</td>\n",
              "      <td>1.000000</td>\n",
              "      <td>1.000000</td>\n",
              "      <td>1.000000</td>\n",
              "      <td>1.000000</td>\n",
              "      <td>0.0</td>\n",
              "      <td>1.000000</td>\n",
              "      <td>1.000000</td>\n",
              "      <td>1.000000</td>\n",
              "      <td>1.000000</td>\n",
              "      <td>1.000000</td>\n",
              "      <td>1.000000</td>\n",
              "      <td>1.000000</td>\n",
              "      <td>1.000000</td>\n",
              "      <td>1.000000</td>\n",
              "      <td>1.000000</td>\n",
              "      <td>1.000000</td>\n",
              "      <td>1.000000</td>\n",
              "      <td>1.000000</td>\n",
              "      <td>1.000000</td>\n",
              "      <td>1.000000</td>\n",
              "      <td>1.000000</td>\n",
              "      <td>1.000000</td>\n",
              "      <td>1.000000</td>\n",
              "      <td>1.000000</td>\n",
              "    </tr>\n",
              "  </tbody>\n",
              "</table>\n",
              "</div>\n",
              "      <button class=\"colab-df-convert\" onclick=\"convertToInteractive('df-d495e9e5-7f34-4b25-86f1-0a8a03bcbf19')\"\n",
              "              title=\"Convert this dataframe to an interactive table.\"\n",
              "              style=\"display:none;\">\n",
              "        \n",
              "  <svg xmlns=\"http://www.w3.org/2000/svg\" height=\"24px\"viewBox=\"0 0 24 24\"\n",
              "       width=\"24px\">\n",
              "    <path d=\"M0 0h24v24H0V0z\" fill=\"none\"/>\n",
              "    <path d=\"M18.56 5.44l.94 2.06.94-2.06 2.06-.94-2.06-.94-.94-2.06-.94 2.06-2.06.94zm-11 1L8.5 8.5l.94-2.06 2.06-.94-2.06-.94L8.5 2.5l-.94 2.06-2.06.94zm10 10l.94 2.06.94-2.06 2.06-.94-2.06-.94-.94-2.06-.94 2.06-2.06.94z\"/><path d=\"M17.41 7.96l-1.37-1.37c-.4-.4-.92-.59-1.43-.59-.52 0-1.04.2-1.43.59L10.3 9.45l-7.72 7.72c-.78.78-.78 2.05 0 2.83L4 21.41c.39.39.9.59 1.41.59.51 0 1.02-.2 1.41-.59l7.78-7.78 2.81-2.81c.8-.78.8-2.07 0-2.86zM5.41 20L4 18.59l7.72-7.72 1.47 1.35L5.41 20z\"/>\n",
              "  </svg>\n",
              "      </button>\n",
              "      \n",
              "  <style>\n",
              "    .colab-df-container {\n",
              "      display:flex;\n",
              "      flex-wrap:wrap;\n",
              "      gap: 12px;\n",
              "    }\n",
              "\n",
              "    .colab-df-convert {\n",
              "      background-color: #E8F0FE;\n",
              "      border: none;\n",
              "      border-radius: 50%;\n",
              "      cursor: pointer;\n",
              "      display: none;\n",
              "      fill: #1967D2;\n",
              "      height: 32px;\n",
              "      padding: 0 0 0 0;\n",
              "      width: 32px;\n",
              "    }\n",
              "\n",
              "    .colab-df-convert:hover {\n",
              "      background-color: #E2EBFA;\n",
              "      box-shadow: 0px 1px 2px rgba(60, 64, 67, 0.3), 0px 1px 3px 1px rgba(60, 64, 67, 0.15);\n",
              "      fill: #174EA6;\n",
              "    }\n",
              "\n",
              "    [theme=dark] .colab-df-convert {\n",
              "      background-color: #3B4455;\n",
              "      fill: #D2E3FC;\n",
              "    }\n",
              "\n",
              "    [theme=dark] .colab-df-convert:hover {\n",
              "      background-color: #434B5C;\n",
              "      box-shadow: 0px 1px 3px 1px rgba(0, 0, 0, 0.15);\n",
              "      filter: drop-shadow(0px 1px 2px rgba(0, 0, 0, 0.3));\n",
              "      fill: #FFFFFF;\n",
              "    }\n",
              "  </style>\n",
              "\n",
              "      <script>\n",
              "        const buttonEl =\n",
              "          document.querySelector('#df-d495e9e5-7f34-4b25-86f1-0a8a03bcbf19 button.colab-df-convert');\n",
              "        buttonEl.style.display =\n",
              "          google.colab.kernel.accessAllowed ? 'block' : 'none';\n",
              "\n",
              "        async function convertToInteractive(key) {\n",
              "          const element = document.querySelector('#df-d495e9e5-7f34-4b25-86f1-0a8a03bcbf19');\n",
              "          const dataTable =\n",
              "            await google.colab.kernel.invokeFunction('convertToInteractive',\n",
              "                                                     [key], {});\n",
              "          if (!dataTable) return;\n",
              "\n",
              "          const docLinkHtml = 'Like what you see? Visit the ' +\n",
              "            '<a target=\"_blank\" href=https://colab.research.google.com/notebooks/data_table.ipynb>data table notebook</a>'\n",
              "            + ' to learn more about interactive tables.';\n",
              "          element.innerHTML = '';\n",
              "          dataTable['output_type'] = 'display_data';\n",
              "          await google.colab.output.renderOutput(dataTable, element);\n",
              "          const docLink = document.createElement('div');\n",
              "          docLink.innerHTML = docLinkHtml;\n",
              "          element.appendChild(docLink);\n",
              "        }\n",
              "      </script>\n",
              "    </div>\n",
              "  </div>\n",
              "  "
            ]
          },
          "metadata": {},
          "execution_count": 230
        }
      ]
    },
    {
      "cell_type": "markdown",
      "source": [
        "**Ajustamos el modelo**\n",
        "\n",
        "Como vimos en el experiemento 1, si trabajamos con un modelo más complejo, este podría funcionar mejor. \n",
        "\n",
        "Por tanto, vamos a ajustar C a C=100"
      ],
      "metadata": {
        "id": "42O_ypeg2YSf"
      }
    },
    {
      "cell_type": "code",
      "source": [
        "# instanciamos\n",
        "logreg = LogisticRegression(C=100, solver='liblinear', random_state=0)\n",
        "\n",
        "\n",
        "# modelo\n",
        "logreg.fit(X_train, y_train)"
      ],
      "metadata": {
        "colab": {
          "base_uri": "https://localhost:8080/"
        },
        "id": "aIZ2-fWOmOo0",
        "outputId": "d0ba27d0-3b16-4718-8673-a5cf5f97b23c"
      },
      "execution_count": 241,
      "outputs": [
        {
          "output_type": "execute_result",
          "data": {
            "text/plain": [
              "LogisticRegression(C=100, random_state=0, solver='liblinear')"
            ]
          },
          "metadata": {},
          "execution_count": 241
        }
      ]
    },
    {
      "cell_type": "code",
      "source": [
        "y_pred_test = logreg.predict(X_test)\n",
        "\n",
        "y_pred_test"
      ],
      "metadata": {
        "colab": {
          "base_uri": "https://localhost:8080/"
        },
        "id": "bOTBcrUwmqP7",
        "outputId": "2b1d1ad6-a868-4adc-8914-7983b70291c9"
      },
      "execution_count": 242,
      "outputs": [
        {
          "output_type": "execute_result",
          "data": {
            "text/plain": [
              "array([1, 1, 0, ..., 1, 0, 1])"
            ]
          },
          "metadata": {},
          "execution_count": 242
        }
      ]
    },
    {
      "cell_type": "code",
      "source": [
        "# probabilidad 0 - no probreza\n",
        "\n",
        "logreg.predict_proba(X_test)[:,0]"
      ],
      "metadata": {
        "colab": {
          "base_uri": "https://localhost:8080/"
        },
        "id": "OOXTu50CmOuG",
        "outputId": "57948e14-aa92-474a-e5d3-fc2ab5078d79"
      },
      "execution_count": 243,
      "outputs": [
        {
          "output_type": "execute_result",
          "data": {
            "text/plain": [
              "array([0.19653473, 0.1545782 , 0.63223931, ..., 0.00612275, 0.6814992 ,\n",
              "       0.09139664])"
            ]
          },
          "metadata": {},
          "execution_count": 243
        }
      ]
    },
    {
      "cell_type": "code",
      "source": [
        "# probabilidad 1 - pobreza\n",
        "\n",
        "logreg.predict_proba(X_test)[:,1]"
      ],
      "metadata": {
        "colab": {
          "base_uri": "https://localhost:8080/"
        },
        "id": "GK1n8ttAmOyu",
        "outputId": "52cbf057-bfa1-407d-f2b6-dd637614d615"
      },
      "execution_count": 244,
      "outputs": [
        {
          "output_type": "execute_result",
          "data": {
            "text/plain": [
              "array([0.80346527, 0.8454218 , 0.36776069, ..., 0.99387725, 0.3185008 ,\n",
              "       0.90860336])"
            ]
          },
          "metadata": {},
          "execution_count": 244
        }
      ]
    },
    {
      "cell_type": "markdown",
      "source": [
        "**Métricas**"
      ],
      "metadata": {
        "id": "a6MxO6N5nVfp"
      }
    },
    {
      "cell_type": "code",
      "source": [
        "#from sklearn.metrics import accuracy_score\n",
        "\n",
        "print('Model accuracy score: {0:0.4f}'. format(accuracy_score(y_test, y_pred_test)))"
      ],
      "metadata": {
        "colab": {
          "base_uri": "https://localhost:8080/"
        },
        "id": "VO9Z-sHVmO2q",
        "outputId": "0afb344f-4f1e-4136-d3c7-6b3bedeaf7ed"
      },
      "execution_count": 245,
      "outputs": [
        {
          "output_type": "stream",
          "name": "stdout",
          "text": [
            "Model accuracy score: 0.9710\n"
          ]
        }
      ]
    },
    {
      "cell_type": "markdown",
      "source": [
        "Comparamos la precisión del conjunto de entrenamiento y del conjunto de prueba."
      ],
      "metadata": {
        "id": "wUncxB-qnd-l"
      }
    },
    {
      "cell_type": "code",
      "source": [
        "y_pred_train = logreg.predict(X_train)\n",
        "\n",
        "y_pred_train"
      ],
      "metadata": {
        "colab": {
          "base_uri": "https://localhost:8080/"
        },
        "id": "IWz62EnAmO5Y",
        "outputId": "d8b380f7-dba2-4599-a471-6c877613efc2"
      },
      "execution_count": 248,
      "outputs": [
        {
          "output_type": "execute_result",
          "data": {
            "text/plain": [
              "array([1, 1, 1, ..., 0, 1, 1])"
            ]
          },
          "metadata": {},
          "execution_count": 248
        }
      ]
    },
    {
      "cell_type": "code",
      "source": [
        "print('Training-set accuracy score: {0:0.4f}'. format(accuracy_score(y_train, y_pred_train)))"
      ],
      "metadata": {
        "colab": {
          "base_uri": "https://localhost:8080/"
        },
        "id": "ah2wgUT1kooj",
        "outputId": "e22c4db6-27f8-42a2-9611-5f024c78f51a"
      },
      "execution_count": 247,
      "outputs": [
        {
          "output_type": "stream",
          "name": "stdout",
          "text": [
            "Training-set accuracy score: 0.9668\n"
          ]
        }
      ]
    },
    {
      "cell_type": "markdown",
      "source": [
        "**Chequeamos overfitting y underfitting**"
      ],
      "metadata": {
        "id": "jgxAL6Wmnnvt"
      }
    },
    {
      "cell_type": "code",
      "source": [
        "# print the scores on training and test set\n",
        "\n",
        "print('Training set score: {:.4f}'.format(logreg.score(X_train, y_train)))\n",
        "\n",
        "print('Test set score: {:.4f}'.format(logreg.score(X_test, y_test)))"
      ],
      "metadata": {
        "colab": {
          "base_uri": "https://localhost:8080/"
        },
        "id": "XcwJmHV3nkgn",
        "outputId": "4b0e44cf-f130-410b-ae55-7cad6f92c19f"
      },
      "execution_count": 256,
      "outputs": [
        {
          "output_type": "stream",
          "name": "stdout",
          "text": [
            "Training set score: 0.9668\n",
            "Test set score: 0.9710\n"
          ]
        }
      ]
    },
    {
      "cell_type": "code",
      "source": [
        "#Ajustamos C \n",
        "\n",
        "# C=1000\n",
        "\n",
        "# instanciamos\n",
        "logreg1000 = LogisticRegression(C=1000, solver='liblinear', random_state=0)\n",
        "\n",
        "\n",
        "# fit the model\n",
        "logreg1000.fit(X_train, y_train)"
      ],
      "metadata": {
        "colab": {
          "base_uri": "https://localhost:8080/"
        },
        "id": "KQwcAPTgnkq7",
        "outputId": "d0153734-69cb-4408-e916-26b0e2b850cd"
      },
      "execution_count": 257,
      "outputs": [
        {
          "output_type": "execute_result",
          "data": {
            "text/plain": [
              "LogisticRegression(C=1000, random_state=0, solver='liblinear')"
            ]
          },
          "metadata": {},
          "execution_count": 257
        }
      ]
    },
    {
      "cell_type": "code",
      "source": [
        "print('Training set score: {:.4f}'.format(logreg1000.score(X_train, y_train)))\n",
        "\n",
        "print('Test set score: {:.4f}'.format(logreg1000.score(X_test, y_test)))"
      ],
      "metadata": {
        "colab": {
          "base_uri": "https://localhost:8080/"
        },
        "id": "MaweE-Xknr9M",
        "outputId": "a69a2630-0d84-44cb-e03a-9325a4d153ea"
      },
      "execution_count": 258,
      "outputs": [
        {
          "output_type": "stream",
          "name": "stdout",
          "text": [
            "Training set score: 0.9878\n",
            "Test set score: 0.9859\n"
          ]
        }
      ]
    },
    {
      "cell_type": "markdown",
      "source": [
        "Como en el experimento anterior, si ajustamos C a un valor más elevamos, C=1000, obtenemos mayor precisión en el conjunto de pruebas y en el conjunto de entrenamiento. \n",
        "\n"
      ],
      "metadata": {
        "id": "STKKn8bGoHBP"
      }
    },
    {
      "cell_type": "markdown",
      "source": [
        "**Precisión nula**"
      ],
      "metadata": {
        "id": "5cFlilL4oMPy"
      }
    },
    {
      "cell_type": "code",
      "source": [
        "y_test.value_counts()"
      ],
      "metadata": {
        "colab": {
          "base_uri": "https://localhost:8080/"
        },
        "id": "TvyQUr6insRe",
        "outputId": "e98e0685-0239-45ee-8dc1-505dfc605c13"
      },
      "execution_count": 259,
      "outputs": [
        {
          "output_type": "execute_result",
          "data": {
            "text/plain": [
              "0    1281\n",
              "1    1275\n",
              "Name: pobreza, dtype: int64"
            ]
          },
          "metadata": {},
          "execution_count": 259
        }
      ]
    },
    {
      "cell_type": "code",
      "source": [
        "# comprobar la precisión nula\n",
        "\n",
        "null_accuracy = (1281/(1281+1275))\n",
        "\n",
        "print('Null accuracy score: {0:0.4f}'. format(null_accuracy))"
      ],
      "metadata": {
        "colab": {
          "base_uri": "https://localhost:8080/"
        },
        "id": "-OWWSZzS4DJz",
        "outputId": "07f41664-997d-4158-fe99-5a56649d5cfd"
      },
      "execution_count": 260,
      "outputs": [
        {
          "output_type": "stream",
          "name": "stdout",
          "text": [
            "Null accuracy score: 0.5012\n"
          ]
        }
      ]
    },
    {
      "cell_type": "markdown",
      "source": [
        "La presición del modelo es 0.9668 y la precisión nula es 0.5012."
      ],
      "metadata": {
        "id": "gH-2kWlCodco"
      }
    },
    {
      "cell_type": "markdown",
      "source": [
        "**Matriz de confusión**"
      ],
      "metadata": {
        "id": "cAzPI4y1ooa6"
      }
    },
    {
      "cell_type": "code",
      "source": [
        "# Matriz de confusión\n",
        "\n",
        "#from sklearn.metrics import confusion_matrix\n",
        "\n",
        "cm = confusion_matrix(y_test, y_pred_test)\n",
        "\n",
        "print('Confusion matrix\\n\\n', cm)\n",
        "\n",
        "print('\\nTrue Positives(TP) = ', cm[0,0])\n",
        "\n",
        "print('\\nTrue Negatives(TN) = ', cm[1,1])\n",
        "\n",
        "print('\\nFalse Positives(FP) = ', cm[0,1])\n",
        "\n",
        "print('\\nFalse Negatives(FN) = ', cm[1,0])"
      ],
      "metadata": {
        "colab": {
          "base_uri": "https://localhost:8080/"
        },
        "id": "3uGO58quonKH",
        "outputId": "a13c84b8-2c2f-4136-94b1-f01eaa92b35f"
      },
      "execution_count": 261,
      "outputs": [
        {
          "output_type": "stream",
          "name": "stdout",
          "text": [
            "Confusion matrix\n",
            "\n",
            " [[1218   63]\n",
            " [  11 1264]]\n",
            "\n",
            "True Positives(TP) =  1218\n",
            "\n",
            "True Negatives(TN) =  1264\n",
            "\n",
            "False Positives(FP) =  63\n",
            "\n",
            "False Negatives(FN) =  11\n"
          ]
        }
      ]
    },
    {
      "cell_type": "code",
      "source": [
        "# visualize confusion matrix with seaborn heatmap\n",
        "\n",
        "cm_matrix = pd.DataFrame(data=cm, columns=['Actual Positive:1', 'Actual Negative:0'], \n",
        "                                 index=['Predict Positive:1', 'Predict Negative:0'])\n",
        "\n",
        "sns.heatmap(cm_matrix, annot=True, fmt='d', cmap='YlGnBu')"
      ],
      "metadata": {
        "colab": {
          "base_uri": "https://localhost:8080/",
          "height": 282
        },
        "id": "jIY_D66Unk9J",
        "outputId": "d92aca40-4536-41a1-9df3-f37385db75bb"
      },
      "execution_count": 262,
      "outputs": [
        {
          "output_type": "execute_result",
          "data": {
            "text/plain": [
              "<matplotlib.axes._subplots.AxesSubplot at 0x7f3c308a4850>"
            ]
          },
          "metadata": {},
          "execution_count": 262
        },
        {
          "output_type": "display_data",
          "data": {
            "text/plain": [
              "<Figure size 432x288 with 2 Axes>"
            ],
            "image/png": "[encoded data removed]"
          },
          "metadata": {
            "needs_background": "light"
          }
        }
      ]
    },
    {
      "cell_type": "code",
      "source": [
        "#Informe de clasificación\n",
        "from sklearn.metrics import classification_report\n",
        "\n",
        "print(classification_report(y_test, y_pred_test))"
      ],
      "metadata": {
        "colab": {
          "base_uri": "https://localhost:8080/"
        },
        "id": "NBNDPGVemlcX",
        "outputId": "3d8220eb-5073-4989-d473-be6702374264"
      },
      "execution_count": 263,
      "outputs": [
        {
          "output_type": "stream",
          "name": "stdout",
          "text": [
            "              precision    recall  f1-score   support\n",
            "\n",
            "           0       0.99      0.95      0.97      1281\n",
            "           1       0.95      0.99      0.97      1275\n",
            "\n",
            "    accuracy                           0.97      2556\n",
            "   macro avg       0.97      0.97      0.97      2556\n",
            "weighted avg       0.97      0.97      0.97      2556\n",
            "\n"
          ]
        }
      ]
    },
    {
      "cell_type": "code",
      "source": [
        "#Precisión de la clasificación\n",
        "TP = cm[0,0]\n",
        "TN = cm[1,1]\n",
        "FP = cm[0,1]\n",
        "FN = cm[1,0]"
      ],
      "metadata": {
        "id": "dFHCQRz5mufC"
      },
      "execution_count": 265,
      "outputs": []
    },
    {
      "cell_type": "code",
      "source": [
        "classification_accuracy = (TP + TN) / float(TP + TN + FP + FN)\n",
        "\n",
        "print('Classification accuracy : {0:0.4f}'.format(classification_accuracy))"
      ],
      "metadata": {
        "colab": {
          "base_uri": "https://localhost:8080/"
        },
        "id": "WvFFy98imNnQ",
        "outputId": "65432d58-e9db-400f-cb98-02556b95b169"
      },
      "execution_count": 266,
      "outputs": [
        {
          "output_type": "stream",
          "name": "stdout",
          "text": [
            "Classification accuracy : 0.9710\n"
          ]
        }
      ]
    },
    {
      "cell_type": "code",
      "source": [
        "#Classification error\n",
        "\n",
        "classification_error = (FP + FN) / float(TP + TN + FP + FN)\n",
        "\n",
        "print('Classification error : {0:0.4f}'.format(classification_error))"
      ],
      "metadata": {
        "colab": {
          "base_uri": "https://localhost:8080/"
        },
        "id": "NWazeNF5mzfh",
        "outputId": "bfd70dc2-373c-440b-b5ec-3174371adfe6"
      },
      "execution_count": 267,
      "outputs": [
        {
          "output_type": "stream",
          "name": "stdout",
          "text": [
            "Classification error : 0.0290\n"
          ]
        }
      ]
    },
    {
      "cell_type": "markdown",
      "source": [
        "La precisión puede definirse como el porcentaje de resultados positivos predichos correctamente de todos los resultados positivos predichos. \n",
        "Puede darse como la relación entre los verdaderos positivos (TP) y la suma de los verdaderos y falsos positivos (TP + FP). S\n",
        "e refiere más a la clase positiva que a la negativa. Matemáticamente, la precisión puede definirse como la relación entre TP y (TP + FP).\n"
      ],
      "metadata": {
        "id": "bFmfZgZBpIwI"
      }
    },
    {
      "cell_type": "code",
      "source": [
        "# print precision score\n",
        "\n",
        "precision = TP / float(TP + FP)\n",
        "\n",
        "\n",
        "print('Precision : {0:0.4f}'.format(precision))"
      ],
      "metadata": {
        "colab": {
          "base_uri": "https://localhost:8080/"
        },
        "id": "76GqvdZwnHl0",
        "outputId": "54916402-4d7a-4407-a146-5e66bede0df5"
      },
      "execution_count": 268,
      "outputs": [
        {
          "output_type": "stream",
          "name": "stdout",
          "text": [
            "Precision : 0.9508\n"
          ]
        }
      ]
    },
    {
      "cell_type": "markdown",
      "source": [
        "**Recall**\n",
        "\n",
        "Puede definirse como el porcentaje de resultados positivos correctamente predichos de todos los resultados positivos reales. \n",
        "\n",
        "Puede darse como la relación entre los verdaderos positivos (TP) y la suma de los verdaderos positivos y los falsos negativos (TP + FN). \n",
        "\n",
        "La recuperación también se denomina sensibilidad. La recuperación identifica la proporción de positivos reales predichos correctamente.\n"
      ],
      "metadata": {
        "id": "kuKwGi2dpOTZ"
      }
    },
    {
      "cell_type": "code",
      "source": [
        "recall = TP / float(TP + FN)\n",
        "\n",
        "print('Recall or Sensitivity : {0:0.4f}'.format(recall))"
      ],
      "metadata": {
        "colab": {
          "base_uri": "https://localhost:8080/"
        },
        "id": "jIEITrNRmNqU",
        "outputId": "306bbfb7-6459-4008-8819-ec27323ad914"
      },
      "execution_count": 269,
      "outputs": [
        {
          "output_type": "stream",
          "name": "stdout",
          "text": [
            "Recall or Sensitivity : 0.9910\n"
          ]
        }
      ]
    },
    {
      "cell_type": "code",
      "source": [
        "#Tasa de verdaderos positivos\n",
        "#True Positive Rate is synonymous with Recall.\n",
        "\n",
        "true_positive_rate = TP / float(TP + FN)\n",
        "\n",
        "\n",
        "print('True Positive Rate : {0:0.4f}'.format(true_positive_rate))"
      ],
      "metadata": {
        "colab": {
          "base_uri": "https://localhost:8080/"
        },
        "id": "tpo9IEdRrukd",
        "outputId": "8a0faa11-3f7b-4d9e-a32f-55b05cb0d1c2"
      },
      "execution_count": 270,
      "outputs": [
        {
          "output_type": "stream",
          "name": "stdout",
          "text": [
            "True Positive Rate : 0.9910\n"
          ]
        }
      ]
    },
    {
      "cell_type": "code",
      "source": [
        "#Tasa de flasos positivos\n",
        "\n",
        "\"\"\"Se define como el ratio entre el número de falsos positivos y el número de negativos (reales). \n",
        "Lógicamente, el clasificador ideal tendría un FPR de cero (pues no tendría falsos positivos), \n",
        "y el peor clasificador posible tendría un FPR de uno (todos los negativos reales serían identificados erróneamente como positivos):\n",
        "\"\"\"\n",
        "false_positive_rate = FP / float(FP + TN)"
      ],
      "metadata": {
        "id": "Tpd0XF00rwAh"
      },
      "execution_count": 271,
      "outputs": []
    },
    {
      "cell_type": "code",
      "source": [
        "#Specificity\n",
        "\"\"\"especificidad es el porcentaje de 0’s (reales) correctamente predicho. \n",
        "La especificidad también puede calcularse como 1-Tasa Falsos Positivos.\n",
        "\"\"\"\n",
        "\n",
        "specificity = TN / (TN + FP)\n",
        "\n",
        "print('Specificity : {0:0.4f}'.format(specificity))"
      ],
      "metadata": {
        "colab": {
          "base_uri": "https://localhost:8080/"
        },
        "id": "qdTroD52rupW",
        "outputId": "6b5b32f4-8373-438b-d6d1-0056213002d1"
      },
      "execution_count": 272,
      "outputs": [
        {
          "output_type": "stream",
          "name": "stdout",
          "text": [
            "Specificity : 0.9525\n"
          ]
        }
      ]
    },
    {
      "cell_type": "code",
      "source": [
        "# ajustamos el nivel de umbral\n",
        "# mostrar las 10 primeras probabilidades predichas de dos clases - 0 y 1\n",
        "\n",
        "y_pred_prob = logreg.predict_proba(X_test)[0:10]\n",
        "\n",
        "y_pred_prob"
      ],
      "metadata": {
        "colab": {
          "base_uri": "https://localhost:8080/"
        },
        "id": "vE7G2_FDr6aG",
        "outputId": "c231383e-af69-4b49-e001-dfc3212c1ec4"
      },
      "execution_count": 273,
      "outputs": [
        {
          "output_type": "execute_result",
          "data": {
            "text/plain": [
              "array([[1.96534733e-01, 8.03465267e-01],\n",
              "       [1.54578203e-01, 8.45421797e-01],\n",
              "       [6.32239310e-01, 3.67760690e-01],\n",
              "       [1.84936014e-01, 8.15063986e-01],\n",
              "       [5.38433599e-01, 4.61566401e-01],\n",
              "       [1.00000000e+00, 1.71082957e-12],\n",
              "       [3.11520494e-02, 9.68847951e-01],\n",
              "       [1.42706559e-01, 8.57293441e-01],\n",
              "       [1.74167974e-03, 9.98258320e-01],\n",
              "       [9.77225998e-01, 2.27740024e-02]])"
            ]
          },
          "metadata": {},
          "execution_count": 273
        }
      ]
    },
    {
      "cell_type": "markdown",
      "source": [
        "Nivel de umbral de clasificación\n",
        "\n",
        "El nivel de umbral de clasificación de 0,5.\n",
        "\n",
        "Class 1 - probability of pobreza is predicted if probability > 0.5.\n",
        "Class 0 - probability of no pobreza is predicted if probability < 0.5."
      ],
      "metadata": {
        "id": "2bFXBNycpeZD"
      }
    },
    {
      "cell_type": "code",
      "source": [
        "# almacenar las probabilidades en un dataframe\n",
        "\n",
        "y_pred_prob_df = pd.DataFrame(data=y_pred_prob, columns=['Prob of - No POBREZA (0)', 'Prob of - POBREZA (1)'])\n",
        "\n",
        "y_pred_prob_df"
      ],
      "metadata": {
        "colab": {
          "base_uri": "https://localhost:8080/",
          "height": 363
        },
        "id": "-vv03xEtsAbM",
        "outputId": "bf5a7af9-ec95-417e-b6d4-1116c30d5851"
      },
      "execution_count": 274,
      "outputs": [
        {
          "output_type": "execute_result",
          "data": {
            "text/plain": [
              "   Prob of - No POBREZA (0)  Prob of - POBREZA (1)\n",
              "0                  0.196535           8.034653e-01\n",
              "1                  0.154578           8.454218e-01\n",
              "2                  0.632239           3.677607e-01\n",
              "3                  0.184936           8.150640e-01\n",
              "4                  0.538434           4.615664e-01\n",
              "5                  1.000000           1.710830e-12\n",
              "6                  0.031152           9.688480e-01\n",
              "7                  0.142707           8.572934e-01\n",
              "8                  0.001742           9.982583e-01\n",
              "9                  0.977226           2.277400e-02"
            ],
            "text/html": [
              "\n",
              "  <div id=\"df-ff18d512-78fe-4005-9d86-1a3f2817ff57\">\n",
              "    <div class=\"colab-df-container\">\n",
              "      <div>\n",
              "<style scoped>\n",
              "    .dataframe tbody tr th:only-of-type {\n",
              "        vertical-align: middle;\n",
              "    }\n",
              "\n",
              "    .dataframe tbody tr th {\n",
              "        vertical-align: top;\n",
              "    }\n",
              "\n",
              "    .dataframe thead th {\n",
              "        text-align: right;\n",
              "    }\n",
              "</style>\n",
              "<table border=\"1\" class=\"dataframe\">\n",
              "  <thead>\n",
              "    <tr style=\"text-align: right;\">\n",
              "      <th></th>\n",
              "      <th>Prob of - No POBREZA (0)</th>\n",
              "      <th>Prob of - POBREZA (1)</th>\n",
              "    </tr>\n",
              "  </thead>\n",
              "  <tbody>\n",
              "    <tr>\n",
              "      <th>0</th>\n",
              "      <td>0.196535</td>\n",
              "      <td>8.034653e-01</td>\n",
              "    </tr>\n",
              "    <tr>\n",
              "      <th>1</th>\n",
              "      <td>0.154578</td>\n",
              "      <td>8.454218e-01</td>\n",
              "    </tr>\n",
              "    <tr>\n",
              "      <th>2</th>\n",
              "      <td>0.632239</td>\n",
              "      <td>3.677607e-01</td>\n",
              "    </tr>\n",
              "    <tr>\n",
              "      <th>3</th>\n",
              "      <td>0.184936</td>\n",
              "      <td>8.150640e-01</td>\n",
              "    </tr>\n",
              "    <tr>\n",
              "      <th>4</th>\n",
              "      <td>0.538434</td>\n",
              "      <td>4.615664e-01</td>\n",
              "    </tr>\n",
              "    <tr>\n",
              "      <th>5</th>\n",
              "      <td>1.000000</td>\n",
              "      <td>1.710830e-12</td>\n",
              "    </tr>\n",
              "    <tr>\n",
              "      <th>6</th>\n",
              "      <td>0.031152</td>\n",
              "      <td>9.688480e-01</td>\n",
              "    </tr>\n",
              "    <tr>\n",
              "      <th>7</th>\n",
              "      <td>0.142707</td>\n",
              "      <td>8.572934e-01</td>\n",
              "    </tr>\n",
              "    <tr>\n",
              "      <th>8</th>\n",
              "      <td>0.001742</td>\n",
              "      <td>9.982583e-01</td>\n",
              "    </tr>\n",
              "    <tr>\n",
              "      <th>9</th>\n",
              "      <td>0.977226</td>\n",
              "      <td>2.277400e-02</td>\n",
              "    </tr>\n",
              "  </tbody>\n",
              "</table>\n",
              "</div>\n",
              "      <button class=\"colab-df-convert\" onclick=\"convertToInteractive('df-ff18d512-78fe-4005-9d86-1a3f2817ff57')\"\n",
              "              title=\"Convert this dataframe to an interactive table.\"\n",
              "              style=\"display:none;\">\n",
              "        \n",
              "  <svg xmlns=\"http://www.w3.org/2000/svg\" height=\"24px\"viewBox=\"0 0 24 24\"\n",
              "       width=\"24px\">\n",
              "    <path d=\"M0 0h24v24H0V0z\" fill=\"none\"/>\n",
              "    <path d=\"M18.56 5.44l.94 2.06.94-2.06 2.06-.94-2.06-.94-.94-2.06-.94 2.06-2.06.94zm-11 1L8.5 8.5l.94-2.06 2.06-.94-2.06-.94L8.5 2.5l-.94 2.06-2.06.94zm10 10l.94 2.06.94-2.06 2.06-.94-2.06-.94-.94-2.06-.94 2.06-2.06.94z\"/><path d=\"M17.41 7.96l-1.37-1.37c-.4-.4-.92-.59-1.43-.59-.52 0-1.04.2-1.43.59L10.3 9.45l-7.72 7.72c-.78.78-.78 2.05 0 2.83L4 21.41c.39.39.9.59 1.41.59.51 0 1.02-.2 1.41-.59l7.78-7.78 2.81-2.81c.8-.78.8-2.07 0-2.86zM5.41 20L4 18.59l7.72-7.72 1.47 1.35L5.41 20z\"/>\n",
              "  </svg>\n",
              "      </button>\n",
              "      \n",
              "  <style>\n",
              "    .colab-df-container {\n",
              "      display:flex;\n",
              "      flex-wrap:wrap;\n",
              "      gap: 12px;\n",
              "    }\n",
              "\n",
              "    .colab-df-convert {\n",
              "      background-color: #E8F0FE;\n",
              "      border: none;\n",
              "      border-radius: 50%;\n",
              "      cursor: pointer;\n",
              "      display: none;\n",
              "      fill: #1967D2;\n",
              "      height: 32px;\n",
              "      padding: 0 0 0 0;\n",
              "      width: 32px;\n",
              "    }\n",
              "\n",
              "    .colab-df-convert:hover {\n",
              "      background-color: #E2EBFA;\n",
              "      box-shadow: 0px 1px 2px rgba(60, 64, 67, 0.3), 0px 1px 3px 1px rgba(60, 64, 67, 0.15);\n",
              "      fill: #174EA6;\n",
              "    }\n",
              "\n",
              "    [theme=dark] .colab-df-convert {\n",
              "      background-color: #3B4455;\n",
              "      fill: #D2E3FC;\n",
              "    }\n",
              "\n",
              "    [theme=dark] .colab-df-convert:hover {\n",
              "      background-color: #434B5C;\n",
              "      box-shadow: 0px 1px 3px 1px rgba(0, 0, 0, 0.15);\n",
              "      filter: drop-shadow(0px 1px 2px rgba(0, 0, 0, 0.3));\n",
              "      fill: #FFFFFF;\n",
              "    }\n",
              "  </style>\n",
              "\n",
              "      <script>\n",
              "        const buttonEl =\n",
              "          document.querySelector('#df-ff18d512-78fe-4005-9d86-1a3f2817ff57 button.colab-df-convert');\n",
              "        buttonEl.style.display =\n",
              "          google.colab.kernel.accessAllowed ? 'block' : 'none';\n",
              "\n",
              "        async function convertToInteractive(key) {\n",
              "          const element = document.querySelector('#df-ff18d512-78fe-4005-9d86-1a3f2817ff57');\n",
              "          const dataTable =\n",
              "            await google.colab.kernel.invokeFunction('convertToInteractive',\n",
              "                                                     [key], {});\n",
              "          if (!dataTable) return;\n",
              "\n",
              "          const docLinkHtml = 'Like what you see? Visit the ' +\n",
              "            '<a target=\"_blank\" href=https://colab.research.google.com/notebooks/data_table.ipynb>data table notebook</a>'\n",
              "            + ' to learn more about interactive tables.';\n",
              "          element.innerHTML = '';\n",
              "          dataTable['output_type'] = 'display_data';\n",
              "          await google.colab.output.renderOutput(dataTable, element);\n",
              "          const docLink = document.createElement('div');\n",
              "          docLink.innerHTML = docLinkHtml;\n",
              "          element.appendChild(docLink);\n",
              "        }\n",
              "      </script>\n",
              "    </div>\n",
              "  </div>\n",
              "  "
            ]
          },
          "metadata": {},
          "execution_count": 274
        }
      ]
    },
    {
      "cell_type": "code",
      "source": [
        "# 10 primeros probabilidades para la clase 1 - Probability of POBREZA\n",
        "\n",
        "logreg.predict_proba(X_test)[0:10, 1]"
      ],
      "metadata": {
        "colab": {
          "base_uri": "https://localhost:8080/"
        },
        "id": "cKOcS1jbsDju",
        "outputId": "847760e6-3d03-4b33-f220-719af149e491"
      },
      "execution_count": 156,
      "outputs": [
        {
          "output_type": "execute_result",
          "data": {
            "text/plain": [
              "array([0.70742469, 0.93146552, 0.13845828, 0.56446801, 0.12176947,\n",
              "       0.75072049, 0.95821075, 0.44335397, 0.77337568, 0.32777469])"
            ]
          },
          "metadata": {},
          "execution_count": 156
        }
      ]
    },
    {
      "cell_type": "code",
      "source": [
        "#almacenar las probabilidades previstas para la clase 1 - Probabilidad de POBREZA\n",
        "\n",
        "y_pred1 = logreg.predict_proba(X_test)[:, 1]"
      ],
      "metadata": {
        "id": "nlPg5gLUsILg"
      },
      "execution_count": 275,
      "outputs": []
    },
    {
      "cell_type": "code",
      "source": [
        "# histograma \n",
        "\n",
        "\n",
        "# adjust the font size \n",
        "plt.rcParams['font.size'] = 12\n",
        "\n",
        "\n",
        "# plot histogram with 10 bins\n",
        "plt.hist(y_pred1, bins = 10)\n",
        "\n",
        "\n",
        "# set the title of predicted probabilities\n",
        "plt.title('Histogram of predicted probabilities of POBREZA')\n",
        "\n",
        "\n",
        "# set the x-axis limit\n",
        "plt.xlim(0,1)\n",
        "\n",
        "\n",
        "# set the title\n",
        "plt.xlabel('Predicted probabilities of POBREZA')\n",
        "plt.ylabel('Frequency')"
      ],
      "metadata": {
        "colab": {
          "base_uri": "https://localhost:8080/",
          "height": 319
        },
        "id": "8QBcjy_4sL0i",
        "outputId": "ab4d7abd-b5b1-4d3a-85b7-1226b51bce72"
      },
      "execution_count": 276,
      "outputs": [
        {
          "output_type": "execute_result",
          "data": {
            "text/plain": [
              "Text(0, 0.5, 'Frequency')"
            ]
          },
          "metadata": {},
          "execution_count": 276
        },
        {
          "output_type": "display_data",
          "data": {
            "text/plain": [
              "<Figure size 432x288 with 1 Axes>"
            ],
            "image/png": "[encoded data removed]"
          },
          "metadata": {
            "needs_background": "light"
          }
        }
      ]
    },
    {
      "cell_type": "markdown",
      "source": [
        "**Bajar el umbral**"
      ],
      "metadata": {
        "id": "z9uOZ0EBsSrn"
      }
    },
    {
      "cell_type": "code",
      "source": [
        "from sklearn.preprocessing import binarize \n",
        "\n",
        "\n",
        "for i in range(1,5):\n",
        "    \n",
        "    cm1=0\n",
        "    \n",
        "    y_pred1 = logreg.predict_proba(X_test)[:,1]\n",
        "    y_pred1 = y_pred1.reshape(-1,1)\n",
        "    y_pred2 = binarize(y_pred1,threshold=i/10)\n",
        "    y_pred2 = np.where(y_pred2 == 1, 1, 0)\n",
        "    \n",
        "    cm1 = confusion_matrix(y_test, y_pred2)\n",
        "        \n",
        "    print ('With',i/10,'threshold the Confusion Matrix is ','\\n\\n',cm1,'\\n\\n',\n",
        "           \n",
        "            'with',cm1[0,0]+cm1[1,1],'correct predictions, ', '\\n\\n', \n",
        "           \n",
        "            cm1[0,1],'Type I errors( False Positives), ','\\n\\n',\n",
        "           \n",
        "            cm1[1,0],'Type II errors( False Negatives), ','\\n\\n',\n",
        "           \n",
        "           'Accuracy score: ', (accuracy_score(y_test, y_pred2)), '\\n\\n',\n",
        "           'Sensitivity: ',cm1[1,1]/(float(cm1[1,1]+cm1[1,0])), '\\n\\n',\n",
        "           'Specificity: ',cm1[0,0]/(float(cm1[0,0]+cm1[0,1])),'\\n\\n',\n",
        "          \n",
        "            '====================================================', '\\n\\n')"
      ],
      "metadata": {
        "colab": {
          "base_uri": "https://localhost:8080/"
        },
        "id": "EkQVlJNksQCd",
        "outputId": "da007dea-dfaa-4b6e-c286-d37e1dc8938a"
      },
      "execution_count": 277,
      "outputs": [
        {
          "output_type": "stream",
          "name": "stdout",
          "text": [
            "With 0.1 threshold the Confusion Matrix is  \n",
            "\n",
            " [[ 893  388]\n",
            " [   0 1275]] \n",
            "\n",
            " with 2168 correct predictions,  \n",
            "\n",
            " 388 Type I errors( False Positives),  \n",
            "\n",
            " 0 Type II errors( False Negatives),  \n",
            "\n",
            " Accuracy score:  0.8482003129890454 \n",
            "\n",
            " Sensitivity:  1.0 \n",
            "\n",
            " Specificity:  0.697111631537861 \n",
            "\n",
            " ==================================================== \n",
            "\n",
            "\n",
            "With 0.2 threshold the Confusion Matrix is  \n",
            "\n",
            " [[1037  244]\n",
            " [   0 1275]] \n",
            "\n",
            " with 2312 correct predictions,  \n",
            "\n",
            " 244 Type I errors( False Positives),  \n",
            "\n",
            " 0 Type II errors( False Negatives),  \n",
            "\n",
            " Accuracy score:  0.9045383411580594 \n",
            "\n",
            " Sensitivity:  1.0 \n",
            "\n",
            " Specificity:  0.8095238095238095 \n",
            "\n",
            " ==================================================== \n",
            "\n",
            "\n",
            "With 0.3 threshold the Confusion Matrix is  \n",
            "\n",
            " [[1110  171]\n",
            " [   0 1275]] \n",
            "\n",
            " with 2385 correct predictions,  \n",
            "\n",
            " 171 Type I errors( False Positives),  \n",
            "\n",
            " 0 Type II errors( False Negatives),  \n",
            "\n",
            " Accuracy score:  0.9330985915492958 \n",
            "\n",
            " Sensitivity:  1.0 \n",
            "\n",
            " Specificity:  0.8665105386416861 \n",
            "\n",
            " ==================================================== \n",
            "\n",
            "\n",
            "With 0.4 threshold the Confusion Matrix is  \n",
            "\n",
            " [[1171  110]\n",
            " [   1 1274]] \n",
            "\n",
            " with 2445 correct predictions,  \n",
            "\n",
            " 110 Type I errors( False Positives),  \n",
            "\n",
            " 1 Type II errors( False Negatives),  \n",
            "\n",
            " Accuracy score:  0.9565727699530516 \n",
            "\n",
            " Sensitivity:  0.9992156862745099 \n",
            "\n",
            " Specificity:  0.9141295862607338 \n",
            "\n",
            " ==================================================== \n",
            "\n",
            "\n"
          ]
        }
      ]
    },
    {
      "cell_type": "markdown",
      "source": [
        "Comentarios\n",
        "\n",
        "En los problemas binarios, el umbral de 0,5 se utiliza por defecto para convertir las probabilidades predichas en predicciones de clase.\n",
        "\n",
        "El umbral puede ajustarse para aumentar la sensibilidad o la especificidad.\n",
        "\n",
        "La sensibilidad y la especificidad tienen una relación inversa. El aumento de una de ellas siempre disminuirá la otra y viceversa.\n",
        "Podemos ver que el aumento del nivel de umbral resulta en un aumento de la precisión.\n",
        "\n",
        "Ajustar el nivel de umbral debería ser uno de los últimos pasos que se realizan en el proceso de construcción del modelo.\n"
      ],
      "metadata": {
        "id": "5DW8NAI3ptwI"
      }
    },
    {
      "cell_type": "markdown",
      "source": [
        "**Curva ROC**"
      ],
      "metadata": {
        "id": "9P-9FofLs8JF"
      }
    },
    {
      "cell_type": "markdown",
      "source": [
        "Curva ROC\n",
        "\n",
        "\n",
        "Otra herramienta para medir visualmente el rendimiento del modelo de clasificación es la curva ROC. \n",
        "Curva ROC significa Curva de Característica Operativa del Receptor. \n",
        "Una curva ROC es un gráfico que muestra el rendimiento de un modelo de clasificación en varios niveles de umbral de clasificación.\n",
        "\n",
        "La curva ROC traza la tasa de verdaderos positivos (TPR) frente a la tasa de falsos positivos (FPR) en varios niveles de umbral.\n",
        "\n",
        "La tasa de verdaderos positivos (TPR) también se denomina recuperación. Se define como la relación entre TP y (TP + FN).\n",
        "\n",
        "La tasa de falsos positivos (FPR) se define como la relación entre FP y (FP + TN).\n",
        "\n",
        "En la curva ROC, nos centraremos en la TPR (tasa de verdaderos positivos) y la FPR (tasa de falsos positivos) de un solo punto. \n",
        "Esto nos dará el rendimiento general de la curva ROC que consiste en el TPR y el FPR en varios niveles de umbral. Así, una curva ROC traza el TPR frente al FPR a diferentes niveles de umbral de clasificación. Si bajamos los niveles de umbral, puede que se clasifiquen más elementos como positivos. Aumentará tanto los Verdaderos Positivos (TP) como los Falsos Positivos (FP).\n"
      ],
      "metadata": {
        "id": "gTpBaDwOpxTs"
      }
    },
    {
      "cell_type": "code",
      "source": [
        "# plot ROC Curve\n",
        "\n",
        "from sklearn.metrics import roc_curve\n",
        "fpr, tpr, thresholds = roc_curve(y_test, y_pred1, pos_label = 1)\n",
        "plt.figure(figsize=(6,4))\n",
        "plt.plot(fpr, tpr, linewidth=2)\n",
        "plt.plot([0,1], [0,1], 'k--' )\n",
        "plt.rcParams['font.size'] = 12\n",
        "plt.title('ROC curve for POBREZA classifier')\n",
        "plt.xlabel('False Positive Rate (1 - Specificity)')\n",
        "plt.ylabel('True Positive Rate (Sensitivity)')\n",
        "plt.show()\n"
      ],
      "metadata": {
        "colab": {
          "base_uri": "https://localhost:8080/",
          "height": 302
        },
        "id": "WLJuiG9Js3yQ",
        "outputId": "5f88dc50-a6aa-4d48-aaff-869808271cca"
      },
      "execution_count": 278,
      "outputs": [
        {
          "output_type": "display_data",
          "data": {
            "text/plain": [
              "<Figure size 432x288 with 1 Axes>"
            ],
            "image/png": "[encoded data removed]"
          },
          "metadata": {
            "needs_background": "light"
          }
        }
      ]
    },
    {
      "cell_type": "code",
      "source": [
        "# compute ROC AUC\n",
        "\n",
        "from sklearn.metrics import roc_auc_score\n",
        "\n",
        "ROC_AUC = roc_auc_score(y_test, y_pred1)\n",
        "\n",
        "print('ROC AUC : {:.4f}'.format(ROC_AUC))"
      ],
      "metadata": {
        "colab": {
          "base_uri": "https://localhost:8080/"
        },
        "id": "wNHnk0pOtBeJ",
        "outputId": "ae2a38ee-5e0d-4406-f78b-15d19692fec3"
      },
      "execution_count": 279,
      "outputs": [
        {
          "output_type": "stream",
          "name": "stdout",
          "text": [
            "ROC AUC : 0.9967\n"
          ]
        }
      ]
    },
    {
      "cell_type": "markdown",
      "source": [
        "Comentarios\n",
        "\n",
        "El AUC del ROC es un resumen numérico del rendimiento del clasificador. Cuanto mayor sea el valor, mejor será el clasificador.\n",
        "\n",
        "El ROC AUC de nuestro modelo se aproxima a 1. Por lo tanto, podemos concluir que nuestro clasificador hace un buen trabajo al predecir si HAY POBREZA o no."
      ],
      "metadata": {
        "id": "tF5XJwdUp52g"
      }
    },
    {
      "cell_type": "code",
      "source": [
        "# calculate cross-validated ROC AUC \n",
        "\n",
        "from sklearn.model_selection import cross_val_score\n",
        "\n",
        "Cross_validated_ROC_AUC = cross_val_score(logreg, X_train, y_train, cv=5, scoring='roc_auc').mean()\n",
        "\n",
        "print('Cross validated ROC AUC : {:.4f}'.format(Cross_validated_ROC_AUC))"
      ],
      "metadata": {
        "colab": {
          "base_uri": "https://localhost:8080/"
        },
        "id": "T8W7ZITQtE59",
        "outputId": "855babc9-b82d-4ea4-8c1e-66c444aa1968"
      },
      "execution_count": 280,
      "outputs": [
        {
          "output_type": "stream",
          "name": "stdout",
          "text": [
            "Cross validated ROC AUC : 0.9947\n"
          ]
        }
      ]
    },
    {
      "cell_type": "code",
      "source": [
        "# Validación cruzada k-fold \n",
        "# Aplicación de la validación cruzada por quintuplicado\n",
        "\n",
        "from sklearn.model_selection import cross_val_score\n",
        "\n",
        "scores = cross_val_score(logreg, X_train, y_train, cv = 5, scoring='accuracy')\n",
        "\n",
        "print('Cross-validation scores:{}'.format(scores))"
      ],
      "metadata": {
        "colab": {
          "base_uri": "https://localhost:8080/"
        },
        "id": "0fzXszyJtIjY",
        "outputId": "1d1211b6-991f-4439-8868-8229da21297b"
      },
      "execution_count": 281,
      "outputs": [
        {
          "output_type": "stream",
          "name": "stdout",
          "text": [
            "Cross-validation scores:[0.96395641 0.96395641 0.95805369 0.95553691 0.95218121]\n"
          ]
        }
      ]
    },
    {
      "cell_type": "code",
      "source": [
        "#Podemos resumir la precisión de la validación cruzada calculando su media.\n",
        "print('Average cross-validation score: {:.4f}'.format(scores.mean()))"
      ],
      "metadata": {
        "colab": {
          "base_uri": "https://localhost:8080/"
        },
        "id": "ow9EPGcwtO-o",
        "outputId": "4b16ccc0-5895-4189-8ba1-c8db2e4a09f4"
      },
      "execution_count": 282,
      "outputs": [
        {
          "output_type": "stream",
          "name": "stdout",
          "text": [
            "Average cross-validation score: 0.9587\n"
          ]
        }
      ]
    },
    {
      "cell_type": "markdown",
      "source": [
        "La puntuación del modelo original es de 0,9710. \n",
        "\n",
        "La puntuación media de la validación cruzada es de 0,9587. \n",
        "\n",
        "Por lo tanto, podemos concluir que la validación cruzada no mejora el rendimiento."
      ],
      "metadata": {
        "id": "Lf_C4n6xqBAp"
      }
    },
    {
      "cell_type": "markdown",
      "source": [
        "**Optimización de hiperparámetros mediante GridSearch CV**"
      ],
      "metadata": {
        "id": "0rxObV-CtYKJ"
      }
    },
    {
      "cell_type": "code",
      "source": [
        "from sklearn.model_selection import GridSearchCV\n",
        "\n",
        "\n",
        "parameters = [{'penalty':['l1','l2']}, \n",
        "              {'C':[1, 10, 100, 1000]}]\n",
        "\n",
        "\n",
        "\n",
        "grid_search = GridSearchCV(estimator = logreg,  \n",
        "                           param_grid = parameters,\n",
        "                           scoring = 'accuracy',\n",
        "                           cv = 10,\n",
        "                           verbose=0)\n",
        "\n",
        "\n",
        "grid_search.fit(X_train, y_train)"
      ],
      "metadata": {
        "colab": {
          "base_uri": "https://localhost:8080/"
        },
        "id": "wopvIRc9tfn3",
        "outputId": "b78002d1-7b4c-4b73-aabd-3ae61f0ada56"
      },
      "execution_count": 290,
      "outputs": [
        {
          "output_type": "execute_result",
          "data": {
            "text/plain": [
              "GridSearchCV(cv=10,\n",
              "             estimator=LogisticRegression(C=100, random_state=0,\n",
              "                                          solver='liblinear'),\n",
              "             param_grid=[{'penalty': ['l1', 'l2']}, {'C': [1, 10, 100, 1000]}],\n",
              "             scoring='accuracy')"
            ]
          },
          "metadata": {},
          "execution_count": 290
        }
      ]
    },
    {
      "cell_type": "code",
      "source": [
        "# examinar los parámetros del mejor modelos\n",
        "\n",
        "# mejor puntuación obtenida durante la GridSearchCV\n",
        "print('Mejor puntuación GridSearch CV: {:.4f}\\n\\n'.format(grid_search.best_score_))\n",
        "\n",
        "# mostrar los parámetros que dan los mejores resultados\n",
        "print('Parámetros que dan los mejores resultados :','\\n\\n', (grid_search.best_params_))\n",
        "\n",
        "# estimador que fue elegido por el GridSearch\n",
        "print('\\n\\nEstimador elegido:','\\n\\n', (grid_search.best_estimator_))"
      ],
      "metadata": {
        "colab": {
          "base_uri": "https://localhost:8080/"
        },
        "id": "1rxUD1DjtpXk",
        "outputId": "e00675e3-0779-4e7d-e9eb-f05c27ec8095"
      },
      "execution_count": 291,
      "outputs": [
        {
          "output_type": "stream",
          "name": "stdout",
          "text": [
            "Mejor puntuación GridSearch CV: 0.9938\n",
            "\n",
            "\n",
            "Parámetros que dan los mejores resultados : \n",
            "\n",
            " {'penalty': 'l1'}\n",
            "\n",
            "\n",
            "Estimador elegido: \n",
            "\n",
            " LogisticRegression(C=100, penalty='l1', random_state=0, solver='liblinear')\n"
          ]
        }
      ]
    },
    {
      "cell_type": "code",
      "source": [
        "# calcular la puntuación CV de GridSearch en el conjunto de pruebas\n",
        "\n",
        "print('Puntuación del CV de GridSearch en test set: {0:0.4f}'.format(grid_search.score(X_test, y_test)))"
      ],
      "metadata": {
        "colab": {
          "base_uri": "https://localhost:8080/"
        },
        "id": "7BAYs2AXtxkE",
        "outputId": "567759c2-a3d8-4fa0-fec3-e97bec07bddc"
      },
      "execution_count": 292,
      "outputs": [
        {
          "output_type": "stream",
          "name": "stdout",
          "text": [
            "Puntuación del CV de GridSearch en test set: 0.9949\n"
          ]
        }
      ]
    },
    {
      "cell_type": "markdown",
      "source": [
        "Comentarios\n",
        "\n",
        "La precisión de la prueba de nuestro modelo original es de 0,9710, mientras que la precisión de GridSearch CV es de 0,9949.\n",
        "Podemos ver que GridSearch CV mejora el rendimiento de este modelo en particular.\n",
        "\n",
        "\n"
      ],
      "metadata": {
        "id": "x6o3oO2NqZSQ"
      }
    },
    {
      "cell_type": "markdown",
      "source": [
        "\n",
        "\n",
        "---\n",
        "\n"
      ],
      "metadata": {
        "id": "Wuk0rTQJ_eze"
      }
    },
    {
      "cell_type": "markdown",
      "source": [
        "# **Experimento 3**"
      ],
      "metadata": {
        "id": "1bVDw6mstbJ9"
      }
    },
    {
      "cell_type": "markdown",
      "source": [
        "Vamos a correr nuevamente el modelo con los resultados obtenidos en GridSearch CV del experimento 2.\n",
        "\n",
        "Estimador elegido: \n",
        "\n",
        "LogisticRegression(C=100, penalty='l1', random_state=0, solver='liblinear')"
      ],
      "metadata": {
        "id": "KhXsqzJX-SK1"
      }
    },
    {
      "cell_type": "code",
      "source": [
        "# instanciamos\n",
        "logreg = LogisticRegression(C=100, penalty='l1', solver='liblinear', random_state=0)\n",
        "\n",
        "\n",
        "# modelo\n",
        "logreg.fit(X_train, y_train)"
      ],
      "metadata": {
        "id": "JIYQkur7t33O",
        "colab": {
          "base_uri": "https://localhost:8080/"
        },
        "outputId": "16a5918f-6e21-470f-b922-d650bb53add0"
      },
      "execution_count": 293,
      "outputs": [
        {
          "output_type": "execute_result",
          "data": {
            "text/plain": [
              "LogisticRegression(C=100, penalty='l1', random_state=0, solver='liblinear')"
            ]
          },
          "metadata": {},
          "execution_count": 293
        }
      ]
    },
    {
      "cell_type": "code",
      "source": [
        "y_pred_test = logreg.predict(X_test)\n",
        "y_pred_test"
      ],
      "metadata": {
        "id": "VF5dOZ5jtTgN",
        "colab": {
          "base_uri": "https://localhost:8080/"
        },
        "outputId": "3bb4f61c-2044-43d0-e807-76d4143f2787"
      },
      "execution_count": 294,
      "outputs": [
        {
          "output_type": "execute_result",
          "data": {
            "text/plain": [
              "array([1, 1, 0, ..., 1, 0, 1])"
            ]
          },
          "metadata": {},
          "execution_count": 294
        }
      ]
    },
    {
      "cell_type": "code",
      "source": [
        "# probabilidad 0 - no probreza\n",
        "\n",
        "logreg.predict_proba(X_test)[:,0]"
      ],
      "metadata": {
        "id": "fhiq0S6qtTkR",
        "colab": {
          "base_uri": "https://localhost:8080/"
        },
        "outputId": "1c13b046-ef2f-4bf8-980c-97fbedae4585"
      },
      "execution_count": 295,
      "outputs": [
        {
          "output_type": "execute_result",
          "data": {
            "text/plain": [
              "array([3.02555278e-06, 2.58384346e-03, 9.99994991e-01, ...,\n",
              "       0.00000000e+00, 9.99999645e-01, 6.21807630e-05])"
            ]
          },
          "metadata": {},
          "execution_count": 295
        }
      ]
    },
    {
      "cell_type": "code",
      "source": [
        "# probabilidad 1 - pobreza\n",
        "\n",
        "logreg.predict_proba(X_test)[:,1]"
      ],
      "metadata": {
        "id": "bT1GMe_YtToF",
        "colab": {
          "base_uri": "https://localhost:8080/"
        },
        "outputId": "e294f60b-b0cc-4e24-a06f-979c4c7f2850"
      },
      "execution_count": 296,
      "outputs": [
        {
          "output_type": "execute_result",
          "data": {
            "text/plain": [
              "array([9.99996974e-01, 9.97416157e-01, 5.00872072e-06, ...,\n",
              "       1.00000000e+00, 3.55212218e-07, 9.99937819e-01])"
            ]
          },
          "metadata": {},
          "execution_count": 296
        }
      ]
    },
    {
      "cell_type": "markdown",
      "source": [
        "**Métricas**"
      ],
      "metadata": {
        "id": "4ojfDxfXBkwN"
      }
    },
    {
      "cell_type": "code",
      "source": [
        "print('Model accuracy score: {0:0.4f}'. format(accuracy_score(y_test, y_pred_test)))"
      ],
      "metadata": {
        "colab": {
          "base_uri": "https://localhost:8080/"
        },
        "id": "F6Wvhu0SBin0",
        "outputId": "9fc214de-ae22-4f0f-bede-e2be893ee28b"
      },
      "execution_count": 297,
      "outputs": [
        {
          "output_type": "stream",
          "name": "stdout",
          "text": [
            "Model accuracy score: 0.9949\n"
          ]
        }
      ]
    },
    {
      "cell_type": "code",
      "source": [
        "y_pred_train = logreg.predict(X_train)\n",
        "y_pred_train"
      ],
      "metadata": {
        "colab": {
          "base_uri": "https://localhost:8080/"
        },
        "id": "M6BR4rIYBiy5",
        "outputId": "1b6f8265-053b-47b6-97ad-c3a918c0667e"
      },
      "execution_count": 298,
      "outputs": [
        {
          "output_type": "execute_result",
          "data": {
            "text/plain": [
              "array([1, 1, 1, ..., 0, 1, 1])"
            ]
          },
          "metadata": {},
          "execution_count": 298
        }
      ]
    },
    {
      "cell_type": "code",
      "source": [
        "print('Training-set accuracy score: {0:0.4f}'. format(accuracy_score(y_train, y_pred_train)))"
      ],
      "metadata": {
        "colab": {
          "base_uri": "https://localhost:8080/"
        },
        "id": "IzVI0n6jBi53",
        "outputId": "e6efc0b5-690b-44af-85d4-26d8195a0dd3"
      },
      "execution_count": 299,
      "outputs": [
        {
          "output_type": "stream",
          "name": "stdout",
          "text": [
            "Training-set accuracy score: 0.9990\n"
          ]
        }
      ]
    },
    {
      "cell_type": "markdown",
      "source": [
        "**Overfitting y underfitting**"
      ],
      "metadata": {
        "id": "yz95UPmNCCv_"
      }
    },
    {
      "cell_type": "code",
      "source": [
        "#Ajustamos C \n",
        "\n",
        "# C=1000\n",
        "\n",
        "# instanciamos\n",
        "logreg1000 = LogisticRegression(C=1000, penalty='l1', solver='liblinear', random_state=0)\n",
        "\n",
        "# fit the model\n",
        "logreg1000.fit(X_train, y_train)"
      ],
      "metadata": {
        "colab": {
          "base_uri": "https://localhost:8080/"
        },
        "id": "QFyjKyj5BjCB",
        "outputId": "c8c771cc-499c-43a7-ff4a-84e80f9f6ab0"
      },
      "execution_count": 301,
      "outputs": [
        {
          "output_type": "execute_result",
          "data": {
            "text/plain": [
              "LogisticRegression(C=1000, penalty='l1', random_state=0, solver='liblinear')"
            ]
          },
          "metadata": {},
          "execution_count": 301
        }
      ]
    },
    {
      "cell_type": "code",
      "source": [
        "print('Training set score: {:.4f}'.format(logreg1000.score(X_train, y_train)))\n",
        "\n",
        "print('Test set score: {:.4f}'.format(logreg1000.score(X_test, y_test)))"
      ],
      "metadata": {
        "colab": {
          "base_uri": "https://localhost:8080/"
        },
        "id": "Bpw78CGVBjFn",
        "outputId": "09729d41-a068-48ec-ef55-ad2ab1960c4e"
      },
      "execution_count": 302,
      "outputs": [
        {
          "output_type": "stream",
          "name": "stdout",
          "text": [
            "Training set score: 0.9998\n",
            "Test set score: 0.9957\n"
          ]
        }
      ]
    },
    {
      "cell_type": "markdown",
      "source": [
        "**Precisión nula**"
      ],
      "metadata": {
        "id": "939NFtdhC5Do"
      }
    },
    {
      "cell_type": "code",
      "source": [
        "y_test.value_counts()"
      ],
      "metadata": {
        "colab": {
          "base_uri": "https://localhost:8080/"
        },
        "id": "krket0tkBjJ1",
        "outputId": "a61a050b-97d7-4dca-9497-0a506ee18320"
      },
      "execution_count": 303,
      "outputs": [
        {
          "output_type": "execute_result",
          "data": {
            "text/plain": [
              "0    1281\n",
              "1    1275\n",
              "Name: pobreza, dtype: int64"
            ]
          },
          "metadata": {},
          "execution_count": 303
        }
      ]
    },
    {
      "cell_type": "code",
      "source": [
        "# comprobar la precisión nula\n",
        "\n",
        "null_accuracy = (1281/(1281+1275))\n",
        "\n",
        "print('Null accuracy score: {0:0.4f}'. format(null_accuracy))"
      ],
      "metadata": {
        "colab": {
          "base_uri": "https://localhost:8080/"
        },
        "id": "lJdi5wlwC9lo",
        "outputId": "820e3f8f-15a3-4e99-917c-aad620a1c76a"
      },
      "execution_count": 304,
      "outputs": [
        {
          "output_type": "stream",
          "name": "stdout",
          "text": [
            "Null accuracy score: 0.5012\n"
          ]
        }
      ]
    },
    {
      "cell_type": "markdown",
      "source": [
        "**Matriz de confusión**"
      ],
      "metadata": {
        "id": "xSru3DgLDIQI"
      }
    },
    {
      "cell_type": "code",
      "source": [
        "# Matriz de confusión\n",
        "\n",
        "#from sklearn.metrics import confusion_matrix\n",
        "\n",
        "cm = confusion_matrix(y_test, y_pred_test)\n",
        "\n",
        "print('Confusion matrix\\n\\n', cm)\n",
        "\n",
        "print('\\nTrue Positives(TP) = ', cm[0,0])\n",
        "\n",
        "print('\\nTrue Negatives(TN) = ', cm[1,1])\n",
        "\n",
        "print('\\nFalse Positives(FP) = ', cm[0,1])\n",
        "\n",
        "print('\\nFalse Negatives(FN) = ', cm[1,0])"
      ],
      "metadata": {
        "colab": {
          "base_uri": "https://localhost:8080/"
        },
        "id": "po7DszQnDKYv",
        "outputId": "f996e158-7ac6-46e9-dbf1-4e5e37d8e114"
      },
      "execution_count": 305,
      "outputs": [
        {
          "output_type": "stream",
          "name": "stdout",
          "text": [
            "Confusion matrix\n",
            "\n",
            " [[1276    5]\n",
            " [   8 1267]]\n",
            "\n",
            "True Positives(TP) =  1276\n",
            "\n",
            "True Negatives(TN) =  1267\n",
            "\n",
            "False Positives(FP) =  5\n",
            "\n",
            "False Negatives(FN) =  8\n"
          ]
        }
      ]
    },
    {
      "cell_type": "code",
      "source": [
        "# visualize confusion matrix with seaborn heatmap\n",
        "\n",
        "cm_matrix = pd.DataFrame(data=cm, columns=['Actual Positive:1', 'Actual Negative:0'], \n",
        "                                 index=['Predict Positive:1', 'Predict Negative:0'])\n",
        "\n",
        "sns.heatmap(cm_matrix, annot=True, fmt='d', cmap='YlGnBu')"
      ],
      "metadata": {
        "colab": {
          "base_uri": "https://localhost:8080/",
          "height": 285
        },
        "id": "lNXU0dL6DrUD",
        "outputId": "c71af760-d2e7-427f-f231-2882e91bc23f"
      },
      "execution_count": 306,
      "outputs": [
        {
          "output_type": "execute_result",
          "data": {
            "text/plain": [
              "<matplotlib.axes._subplots.AxesSubplot at 0x7f3c30693f50>"
            ]
          },
          "metadata": {},
          "execution_count": 306
        },
        {
          "output_type": "display_data",
          "data": {
            "text/plain": [
              "<Figure size 432x288 with 2 Axes>"
            ],
            "image/png": "[encoded data removed]"
          },
          "metadata": {
            "needs_background": "light"
          }
        }
      ]
    },
    {
      "cell_type": "code",
      "source": [
        "#Informe de clasificación\n",
        "from sklearn.metrics import classification_report\n",
        "\n",
        "print(classification_report(y_test, y_pred_test))"
      ],
      "metadata": {
        "colab": {
          "base_uri": "https://localhost:8080/"
        },
        "id": "Zfh2cI6bDvEc",
        "outputId": "7ed90846-ad38-4d18-9318-abfa512e537a"
      },
      "execution_count": 307,
      "outputs": [
        {
          "output_type": "stream",
          "name": "stdout",
          "text": [
            "              precision    recall  f1-score   support\n",
            "\n",
            "           0       0.99      1.00      0.99      1281\n",
            "           1       1.00      0.99      0.99      1275\n",
            "\n",
            "    accuracy                           0.99      2556\n",
            "   macro avg       0.99      0.99      0.99      2556\n",
            "weighted avg       0.99      0.99      0.99      2556\n",
            "\n"
          ]
        }
      ]
    },
    {
      "cell_type": "code",
      "source": [
        "#Precisión de la clasificación\n",
        "TP = cm[0,0]\n",
        "TN = cm[1,1]\n",
        "FP = cm[0,1]\n",
        "FN = cm[1,0]"
      ],
      "metadata": {
        "id": "TMdUeP7HDvI3"
      },
      "execution_count": 308,
      "outputs": []
    },
    {
      "cell_type": "code",
      "source": [
        "classification_accuracy = (TP + TN) / float(TP + TN + FP + FN)\n",
        "\n",
        "print('Classification accuracy : {0:0.4f}'.format(classification_accuracy))"
      ],
      "metadata": {
        "colab": {
          "base_uri": "https://localhost:8080/"
        },
        "id": "HOLZeSjxDvQY",
        "outputId": "536b47d4-eac5-4667-b7c6-c10906ed7617"
      },
      "execution_count": 309,
      "outputs": [
        {
          "output_type": "stream",
          "name": "stdout",
          "text": [
            "Classification accuracy : 0.9949\n"
          ]
        }
      ]
    },
    {
      "cell_type": "code",
      "source": [
        "#Classification error\n",
        "\n",
        "classification_error = (FP + FN) / float(TP + TN + FP + FN)\n",
        "\n",
        "print('Classification error : {0:0.4f}'.format(classification_error))"
      ],
      "metadata": {
        "colab": {
          "base_uri": "https://localhost:8080/"
        },
        "id": "Se070bN_DvUQ",
        "outputId": "6762921b-0105-4081-e0a2-8875b88a9445"
      },
      "execution_count": 310,
      "outputs": [
        {
          "output_type": "stream",
          "name": "stdout",
          "text": [
            "Classification error : 0.0051\n"
          ]
        }
      ]
    },
    {
      "cell_type": "code",
      "source": [
        "# print precision score\n",
        "\n",
        "precision = TP / float(TP + FP)\n",
        "\n",
        "\n",
        "print('Precision : {0:0.4f}'.format(precision))"
      ],
      "metadata": {
        "colab": {
          "base_uri": "https://localhost:8080/"
        },
        "id": "fgEA8ezKDvYP",
        "outputId": "9e09d8ed-eb3c-462f-9939-7d339675ece6"
      },
      "execution_count": 311,
      "outputs": [
        {
          "output_type": "stream",
          "name": "stdout",
          "text": [
            "Precision : 0.9961\n"
          ]
        }
      ]
    },
    {
      "cell_type": "code",
      "source": [
        "recall = TP / float(TP + FN)\n",
        "\n",
        "print('Recall or Sensitivity : {0:0.4f}'.format(recall))"
      ],
      "metadata": {
        "colab": {
          "base_uri": "https://localhost:8080/"
        },
        "id": "6UffbOW4DvcF",
        "outputId": "0bd76149-50c1-4e92-a70b-98f489c343b5"
      },
      "execution_count": 312,
      "outputs": [
        {
          "output_type": "stream",
          "name": "stdout",
          "text": [
            "Recall or Sensitivity : 0.9938\n"
          ]
        }
      ]
    },
    {
      "cell_type": "code",
      "source": [
        "true_positive_rate = TP / float(TP + FN)\n",
        "print('True Positive Rate : {0:0.4f}'.format(true_positive_rate))"
      ],
      "metadata": {
        "colab": {
          "base_uri": "https://localhost:8080/"
        },
        "id": "d-Uiiq-TDvwX",
        "outputId": "75696640-6332-48ca-d982-042554373eaa"
      },
      "execution_count": 313,
      "outputs": [
        {
          "output_type": "stream",
          "name": "stdout",
          "text": [
            "True Positive Rate : 0.9938\n"
          ]
        }
      ]
    },
    {
      "cell_type": "code",
      "source": [
        "false_positive_rate = FP / float(FP + TN)\n",
        "print('False Positive Rate : {0:0.4f}'.format(false_positive_rate))"
      ],
      "metadata": {
        "colab": {
          "base_uri": "https://localhost:8080/"
        },
        "id": "D3IOdPFYDv0j",
        "outputId": "b39290d5-9883-404b-f005-090730561a8f"
      },
      "execution_count": 315,
      "outputs": [
        {
          "output_type": "stream",
          "name": "stdout",
          "text": [
            "False Positive Rate : 0.0039\n"
          ]
        }
      ]
    },
    {
      "cell_type": "code",
      "source": [
        "specificity = TN / (TN + FP)\n",
        "\n",
        "print('Specificity : {0:0.4f}'.format(specificity))"
      ],
      "metadata": {
        "colab": {
          "base_uri": "https://localhost:8080/"
        },
        "id": "6QiOiApqDv46",
        "outputId": "c710f412-dd58-4d20-f268-51e05850b8a3"
      },
      "execution_count": 316,
      "outputs": [
        {
          "output_type": "stream",
          "name": "stdout",
          "text": [
            "Specificity : 0.9961\n"
          ]
        }
      ]
    },
    {
      "cell_type": "code",
      "source": [
        "# ajustamos el nivel de umbral\n",
        "# mostrar las 10 primeras probabilidades predichas de dos clases - 0 y 1\n",
        "\n",
        "y_pred_prob = logreg.predict_proba(X_test)[0:10]\n",
        "\n",
        "y_pred_prob"
      ],
      "metadata": {
        "colab": {
          "base_uri": "https://localhost:8080/"
        },
        "id": "seTXTsrsDv9A",
        "outputId": "1aeb5b4d-7ab2-487e-bbb1-c71f6c1b6c31"
      },
      "execution_count": 317,
      "outputs": [
        {
          "output_type": "execute_result",
          "data": {
            "text/plain": [
              "array([[3.02555278e-006, 9.99996974e-001],\n",
              "       [2.58384346e-003, 9.97416157e-001],\n",
              "       [9.99994991e-001, 5.00872072e-006],\n",
              "       [2.37549159e-007, 9.99999762e-001],\n",
              "       [9.98976799e-001, 1.02320080e-003],\n",
              "       [1.00000000e+000, 1.59206845e-162],\n",
              "       [1.75637282e-013, 1.00000000e+000],\n",
              "       [1.34927625e-011, 1.00000000e+000],\n",
              "       [0.00000000e+000, 1.00000000e+000],\n",
              "       [1.00000000e+000, 1.08822413e-026]])"
            ]
          },
          "metadata": {},
          "execution_count": 317
        }
      ]
    },
    {
      "cell_type": "code",
      "source": [
        "# almacenar las probabilidades en un dataframe\n",
        "\n",
        "y_pred_prob_df = pd.DataFrame(data=y_pred_prob, columns=['Prob of - No POBREZA (0)', 'Prob of - POBREZA (1)'])\n",
        "\n",
        "y_pred_prob_df"
      ],
      "metadata": {
        "colab": {
          "base_uri": "https://localhost:8080/",
          "height": 363
        },
        "id": "mlCeWomsE6fd",
        "outputId": "904c3b5c-a15d-4e66-8ee6-4f25257cb0d6"
      },
      "execution_count": 318,
      "outputs": [
        {
          "output_type": "execute_result",
          "data": {
            "text/plain": [
              "   Prob of - No POBREZA (0)  Prob of - POBREZA (1)\n",
              "0              3.025553e-06           9.999970e-01\n",
              "1              2.583843e-03           9.974162e-01\n",
              "2              9.999950e-01           5.008721e-06\n",
              "3              2.375492e-07           9.999998e-01\n",
              "4              9.989768e-01           1.023201e-03\n",
              "5              1.000000e+00          1.592068e-162\n",
              "6              1.756373e-13           1.000000e+00\n",
              "7              1.349276e-11           1.000000e+00\n",
              "8              0.000000e+00           1.000000e+00\n",
              "9              1.000000e+00           1.088224e-26"
            ],
            "text/html": [
              "\n",
              "  <div id=\"df-2cac000a-8ead-4d86-8700-60b1a31634d9\">\n",
              "    <div class=\"colab-df-container\">\n",
              "      <div>\n",
              "<style scoped>\n",
              "    .dataframe tbody tr th:only-of-type {\n",
              "        vertical-align: middle;\n",
              "    }\n",
              "\n",
              "    .dataframe tbody tr th {\n",
              "        vertical-align: top;\n",
              "    }\n",
              "\n",
              "    .dataframe thead th {\n",
              "        text-align: right;\n",
              "    }\n",
              "</style>\n",
              "<table border=\"1\" class=\"dataframe\">\n",
              "  <thead>\n",
              "    <tr style=\"text-align: right;\">\n",
              "      <th></th>\n",
              "      <th>Prob of - No POBREZA (0)</th>\n",
              "      <th>Prob of - POBREZA (1)</th>\n",
              "    </tr>\n",
              "  </thead>\n",
              "  <tbody>\n",
              "    <tr>\n",
              "      <th>0</th>\n",
              "      <td>3.025553e-06</td>\n",
              "      <td>9.999970e-01</td>\n",
              "    </tr>\n",
              "    <tr>\n",
              "      <th>1</th>\n",
              "      <td>2.583843e-03</td>\n",
              "      <td>9.974162e-01</td>\n",
              "    </tr>\n",
              "    <tr>\n",
              "      <th>2</th>\n",
              "      <td>9.999950e-01</td>\n",
              "      <td>5.008721e-06</td>\n",
              "    </tr>\n",
              "    <tr>\n",
              "      <th>3</th>\n",
              "      <td>2.375492e-07</td>\n",
              "      <td>9.999998e-01</td>\n",
              "    </tr>\n",
              "    <tr>\n",
              "      <th>4</th>\n",
              "      <td>9.989768e-01</td>\n",
              "      <td>1.023201e-03</td>\n",
              "    </tr>\n",
              "    <tr>\n",
              "      <th>5</th>\n",
              "      <td>1.000000e+00</td>\n",
              "      <td>1.592068e-162</td>\n",
              "    </tr>\n",
              "    <tr>\n",
              "      <th>6</th>\n",
              "      <td>1.756373e-13</td>\n",
              "      <td>1.000000e+00</td>\n",
              "    </tr>\n",
              "    <tr>\n",
              "      <th>7</th>\n",
              "      <td>1.349276e-11</td>\n",
              "      <td>1.000000e+00</td>\n",
              "    </tr>\n",
              "    <tr>\n",
              "      <th>8</th>\n",
              "      <td>0.000000e+00</td>\n",
              "      <td>1.000000e+00</td>\n",
              "    </tr>\n",
              "    <tr>\n",
              "      <th>9</th>\n",
              "      <td>1.000000e+00</td>\n",
              "      <td>1.088224e-26</td>\n",
              "    </tr>\n",
              "  </tbody>\n",
              "</table>\n",
              "</div>\n",
              "      <button class=\"colab-df-convert\" onclick=\"convertToInteractive('df-2cac000a-8ead-4d86-8700-60b1a31634d9')\"\n",
              "              title=\"Convert this dataframe to an interactive table.\"\n",
              "              style=\"display:none;\">\n",
              "        \n",
              "  <svg xmlns=\"http://www.w3.org/2000/svg\" height=\"24px\"viewBox=\"0 0 24 24\"\n",
              "       width=\"24px\">\n",
              "    <path d=\"M0 0h24v24H0V0z\" fill=\"none\"/>\n",
              "    <path d=\"M18.56 5.44l.94 2.06.94-2.06 2.06-.94-2.06-.94-.94-2.06-.94 2.06-2.06.94zm-11 1L8.5 8.5l.94-2.06 2.06-.94-2.06-.94L8.5 2.5l-.94 2.06-2.06.94zm10 10l.94 2.06.94-2.06 2.06-.94-2.06-.94-.94-2.06-.94 2.06-2.06.94z\"/><path d=\"M17.41 7.96l-1.37-1.37c-.4-.4-.92-.59-1.43-.59-.52 0-1.04.2-1.43.59L10.3 9.45l-7.72 7.72c-.78.78-.78 2.05 0 2.83L4 21.41c.39.39.9.59 1.41.59.51 0 1.02-.2 1.41-.59l7.78-7.78 2.81-2.81c.8-.78.8-2.07 0-2.86zM5.41 20L4 18.59l7.72-7.72 1.47 1.35L5.41 20z\"/>\n",
              "  </svg>\n",
              "      </button>\n",
              "      \n",
              "  <style>\n",
              "    .colab-df-container {\n",
              "      display:flex;\n",
              "      flex-wrap:wrap;\n",
              "      gap: 12px;\n",
              "    }\n",
              "\n",
              "    .colab-df-convert {\n",
              "      background-color: #E8F0FE;\n",
              "      border: none;\n",
              "      border-radius: 50%;\n",
              "      cursor: pointer;\n",
              "      display: none;\n",
              "      fill: #1967D2;\n",
              "      height: 32px;\n",
              "      padding: 0 0 0 0;\n",
              "      width: 32px;\n",
              "    }\n",
              "\n",
              "    .colab-df-convert:hover {\n",
              "      background-color: #E2EBFA;\n",
              "      box-shadow: 0px 1px 2px rgba(60, 64, 67, 0.3), 0px 1px 3px 1px rgba(60, 64, 67, 0.15);\n",
              "      fill: #174EA6;\n",
              "    }\n",
              "\n",
              "    [theme=dark] .colab-df-convert {\n",
              "      background-color: #3B4455;\n",
              "      fill: #D2E3FC;\n",
              "    }\n",
              "\n",
              "    [theme=dark] .colab-df-convert:hover {\n",
              "      background-color: #434B5C;\n",
              "      box-shadow: 0px 1px 3px 1px rgba(0, 0, 0, 0.15);\n",
              "      filter: drop-shadow(0px 1px 2px rgba(0, 0, 0, 0.3));\n",
              "      fill: #FFFFFF;\n",
              "    }\n",
              "  </style>\n",
              "\n",
              "      <script>\n",
              "        const buttonEl =\n",
              "          document.querySelector('#df-2cac000a-8ead-4d86-8700-60b1a31634d9 button.colab-df-convert');\n",
              "        buttonEl.style.display =\n",
              "          google.colab.kernel.accessAllowed ? 'block' : 'none';\n",
              "\n",
              "        async function convertToInteractive(key) {\n",
              "          const element = document.querySelector('#df-2cac000a-8ead-4d86-8700-60b1a31634d9');\n",
              "          const dataTable =\n",
              "            await google.colab.kernel.invokeFunction('convertToInteractive',\n",
              "                                                     [key], {});\n",
              "          if (!dataTable) return;\n",
              "\n",
              "          const docLinkHtml = 'Like what you see? Visit the ' +\n",
              "            '<a target=\"_blank\" href=https://colab.research.google.com/notebooks/data_table.ipynb>data table notebook</a>'\n",
              "            + ' to learn more about interactive tables.';\n",
              "          element.innerHTML = '';\n",
              "          dataTable['output_type'] = 'display_data';\n",
              "          await google.colab.output.renderOutput(dataTable, element);\n",
              "          const docLink = document.createElement('div');\n",
              "          docLink.innerHTML = docLinkHtml;\n",
              "          element.appendChild(docLink);\n",
              "        }\n",
              "      </script>\n",
              "    </div>\n",
              "  </div>\n",
              "  "
            ]
          },
          "metadata": {},
          "execution_count": 318
        }
      ]
    },
    {
      "cell_type": "code",
      "source": [
        "# 10 primeros probabilidades para la clase 1 - Probability of POBREZA\n",
        "\n",
        "logreg.predict_proba(X_test)[0:10, 1]"
      ],
      "metadata": {
        "colab": {
          "base_uri": "https://localhost:8080/"
        },
        "id": "eOJQbL_3FBBR",
        "outputId": "b0fc3fd6-6ebe-4d9c-cc0a-98dccd53b2fe"
      },
      "execution_count": 319,
      "outputs": [
        {
          "output_type": "execute_result",
          "data": {
            "text/plain": [
              "array([9.99996974e-001, 9.97416157e-001, 5.00872072e-006, 9.99999762e-001,\n",
              "       1.02320080e-003, 1.59206845e-162, 1.00000000e+000, 1.00000000e+000,\n",
              "       1.00000000e+000, 1.08822413e-026])"
            ]
          },
          "metadata": {},
          "execution_count": 319
        }
      ]
    },
    {
      "cell_type": "code",
      "source": [
        "#almacenar las probabilidades previstas para la clase 1 - Probabilidad de POBREZA\n",
        "\n",
        "y_pred1 = logreg.predict_proba(X_test)[:, 1]"
      ],
      "metadata": {
        "id": "MYgrl3qKFBTN"
      },
      "execution_count": 320,
      "outputs": []
    },
    {
      "cell_type": "code",
      "source": [
        "# histograma \n",
        "\n",
        "\n",
        "# adjust the font size \n",
        "plt.rcParams['font.size'] = 12\n",
        "\n",
        "\n",
        "# plot histogram with 10 bins\n",
        "plt.hist(y_pred1, bins = 10)\n",
        "\n",
        "\n",
        "# set the title of predicted probabilities\n",
        "plt.title('Histogram of predicted probabilities of POBREZA')\n",
        "\n",
        "\n",
        "# set the x-axis limit\n",
        "plt.xlim(0,1)\n",
        "\n",
        "\n",
        "# set the title\n",
        "plt.xlabel('Predicted probabilities of POBREZA')\n",
        "plt.ylabel('Frequency')"
      ],
      "metadata": {
        "colab": {
          "base_uri": "https://localhost:8080/",
          "height": 319
        },
        "id": "rqxt5W_YFBfB",
        "outputId": "9ccd99d7-d1ed-46c9-f63c-75d926205330"
      },
      "execution_count": 321,
      "outputs": [
        {
          "output_type": "execute_result",
          "data": {
            "text/plain": [
              "Text(0, 0.5, 'Frequency')"
            ]
          },
          "metadata": {},
          "execution_count": 321
        },
        {
          "output_type": "display_data",
          "data": {
            "text/plain": [
              "<Figure size 432x288 with 1 Axes>"
            ],
            "image/png": "[encoded data removed]"
          },
          "metadata": {
            "needs_background": "light"
          }
        }
      ]
    },
    {
      "cell_type": "markdown",
      "source": [
        "Bajar el umbral"
      ],
      "metadata": {
        "id": "iZEV1ZEtFMDc"
      }
    },
    {
      "cell_type": "code",
      "source": [
        "#from sklearn.preprocessing import binarize \n",
        "\n",
        "\n",
        "for i in range(1,5):\n",
        "    \n",
        "    cm1=0\n",
        "    \n",
        "    y_pred1 = logreg.predict_proba(X_test)[:,1]\n",
        "    y_pred1 = y_pred1.reshape(-1,1)\n",
        "    y_pred2 = binarize(y_pred1,threshold=i/10)\n",
        "    y_pred2 = np.where(y_pred2 == 1, 1, 0)\n",
        "    \n",
        "    cm1 = confusion_matrix(y_test, y_pred2)\n",
        "        \n",
        "    print ('With',i/10,'threshold the Confusion Matrix is ','\\n\\n',cm1,'\\n\\n',\n",
        "           \n",
        "            'with',cm1[0,0]+cm1[1,1],'correct predictions, ', '\\n\\n', \n",
        "           \n",
        "            cm1[0,1],'Type I errors( False Positives), ','\\n\\n',\n",
        "           \n",
        "            cm1[1,0],'Type II errors( False Negatives), ','\\n\\n',\n",
        "           \n",
        "           'Accuracy score: ', (accuracy_score(y_test, y_pred2)), '\\n\\n',\n",
        "           'Sensitivity: ',cm1[1,1]/(float(cm1[1,1]+cm1[1,0])), '\\n\\n',\n",
        "           'Specificity: ',cm1[0,0]/(float(cm1[0,0]+cm1[0,1])),'\\n\\n',\n",
        "          \n",
        "            '====================================================', '\\n\\n')"
      ],
      "metadata": {
        "colab": {
          "base_uri": "https://localhost:8080/"
        },
        "id": "LgGSL1rpFNEo",
        "outputId": "3d576c2b-e7e6-43b2-c816-d5c5427cbcaa"
      },
      "execution_count": 322,
      "outputs": [
        {
          "output_type": "stream",
          "name": "stdout",
          "text": [
            "With 0.1 threshold the Confusion Matrix is  \n",
            "\n",
            " [[1248   33]\n",
            " [   0 1275]] \n",
            "\n",
            " with 2523 correct predictions,  \n",
            "\n",
            " 33 Type I errors( False Positives),  \n",
            "\n",
            " 0 Type II errors( False Negatives),  \n",
            "\n",
            " Accuracy score:  0.9870892018779343 \n",
            "\n",
            " Sensitivity:  1.0 \n",
            "\n",
            " Specificity:  0.9742388758782201 \n",
            "\n",
            " ==================================================== \n",
            "\n",
            "\n",
            "With 0.2 threshold the Confusion Matrix is  \n",
            "\n",
            " [[1259   22]\n",
            " [   3 1272]] \n",
            "\n",
            " with 2531 correct predictions,  \n",
            "\n",
            " 22 Type I errors( False Positives),  \n",
            "\n",
            " 3 Type II errors( False Negatives),  \n",
            "\n",
            " Accuracy score:  0.9902190923317684 \n",
            "\n",
            " Sensitivity:  0.9976470588235294 \n",
            "\n",
            " Specificity:  0.9828259172521467 \n",
            "\n",
            " ==================================================== \n",
            "\n",
            "\n",
            "With 0.3 threshold the Confusion Matrix is  \n",
            "\n",
            " [[1267   14]\n",
            " [   5 1270]] \n",
            "\n",
            " with 2537 correct predictions,  \n",
            "\n",
            " 14 Type I errors( False Positives),  \n",
            "\n",
            " 5 Type II errors( False Negatives),  \n",
            "\n",
            " Accuracy score:  0.9925665101721439 \n",
            "\n",
            " Sensitivity:  0.996078431372549 \n",
            "\n",
            " Specificity:  0.9890710382513661 \n",
            "\n",
            " ==================================================== \n",
            "\n",
            "\n",
            "With 0.4 threshold the Confusion Matrix is  \n",
            "\n",
            " [[1268   13]\n",
            " [   6 1269]] \n",
            "\n",
            " with 2537 correct predictions,  \n",
            "\n",
            " 13 Type I errors( False Positives),  \n",
            "\n",
            " 6 Type II errors( False Negatives),  \n",
            "\n",
            " Accuracy score:  0.9925665101721439 \n",
            "\n",
            " Sensitivity:  0.9952941176470588 \n",
            "\n",
            " Specificity:  0.9898516783762685 \n",
            "\n",
            " ==================================================== \n",
            "\n",
            "\n"
          ]
        }
      ]
    },
    {
      "cell_type": "markdown",
      "source": [
        "**Curva ROC**"
      ],
      "metadata": {
        "id": "Djy3z19MFj-k"
      }
    },
    {
      "cell_type": "code",
      "source": [
        "# plot ROC Curve\n",
        "\n",
        "#from sklearn.metrics import roc_curve\n",
        "fpr, tpr, thresholds = roc_curve(y_test, y_pred1, pos_label = 1)\n",
        "plt.figure(figsize=(6,4))\n",
        "plt.plot(fpr, tpr, linewidth=2)\n",
        "plt.plot([0,1], [0,1], 'k--' )\n",
        "plt.rcParams['font.size'] = 12\n",
        "plt.title('ROC curve for POBREZA classifier')\n",
        "plt.xlabel('False Positive Rate (1 - Specificity)')\n",
        "plt.ylabel('True Positive Rate (Sensitivity)')\n",
        "plt.show()"
      ],
      "metadata": {
        "colab": {
          "base_uri": "https://localhost:8080/",
          "height": 302
        },
        "id": "RH9fWWs9FNJb",
        "outputId": "a4cdd6a0-8afb-42f0-cc9e-dcfba88d33b0"
      },
      "execution_count": 323,
      "outputs": [
        {
          "output_type": "display_data",
          "data": {
            "text/plain": [
              "<Figure size 432x288 with 1 Axes>"
            ],
            "image/png": "[encoded data removed]"
          },
          "metadata": {
            "needs_background": "light"
          }
        }
      ]
    },
    {
      "cell_type": "code",
      "source": [
        "# compute ROC AUC\n",
        "\n",
        "ROC_AUC = roc_auc_score(y_test, y_pred1)\n",
        "print('ROC AUC : {:.4f}'.format(ROC_AUC))"
      ],
      "metadata": {
        "colab": {
          "base_uri": "https://localhost:8080/"
        },
        "id": "4UD2T9QhFNRc",
        "outputId": "56b0a96d-121f-4470-d584-292c230caa14"
      },
      "execution_count": 324,
      "outputs": [
        {
          "output_type": "stream",
          "name": "stdout",
          "text": [
            "ROC AUC : 0.9999\n"
          ]
        }
      ]
    },
    {
      "cell_type": "code",
      "source": [
        "# calculate cross-validated ROC AUC \n",
        "\n",
        "Cross_validated_ROC_AUC = cross_val_score(logreg, X_train, y_train, cv=5, scoring='roc_auc').mean()\n",
        "print('Cross validated ROC AUC : {:.4f}'.format(Cross_validated_ROC_AUC))"
      ],
      "metadata": {
        "colab": {
          "base_uri": "https://localhost:8080/"
        },
        "id": "wM5sIIIRFNV8",
        "outputId": "a20c5edc-5820-4b85-f512-f43aec7995dc"
      },
      "execution_count": 325,
      "outputs": [
        {
          "output_type": "stream",
          "name": "stdout",
          "text": [
            "Cross validated ROC AUC : 0.9998\n"
          ]
        }
      ]
    },
    {
      "cell_type": "code",
      "source": [
        "# Validación cruzada k-fold \n",
        "# Aplicación de la validación cruzada por quintuplicado\n",
        "\n",
        "scores = cross_val_score(logreg, X_train, y_train, cv = 5, scoring='accuracy')\n",
        "print('Cross-validation scores:{}'.format(scores))"
      ],
      "metadata": {
        "colab": {
          "base_uri": "https://localhost:8080/"
        },
        "id": "6cJr7lgJFNa3",
        "outputId": "5d68402d-497e-487d-f63a-2f11c455b0a7"
      },
      "execution_count": 326,
      "outputs": [
        {
          "output_type": "stream",
          "name": "stdout",
          "text": [
            "Cross-validation scores:[0.99497066 0.99664711 0.98993289 0.99161074 0.9966443 ]\n"
          ]
        }
      ]
    },
    {
      "cell_type": "code",
      "source": [
        "#Podemos resumir la precisión de la validación cruzada calculando su media.\n",
        "print('Average cross-validation score: {:.4f}'.format(scores.mean()))"
      ],
      "metadata": {
        "colab": {
          "base_uri": "https://localhost:8080/"
        },
        "id": "LVWy3BgxGGhj",
        "outputId": "97018e8a-e3db-4613-b47f-093027baf239"
      },
      "execution_count": 327,
      "outputs": [
        {
          "output_type": "stream",
          "name": "stdout",
          "text": [
            "Average cross-validation score: 0.9940\n"
          ]
        }
      ]
    },
    {
      "cell_type": "markdown",
      "source": [
        "La puntuación del modelo original es de 0,9949.\n",
        "\n",
        "La puntuación media de la validación cruzada es de 0,9940.\n",
        "\n",
        "Por lo tanto, podemos concluir que la validación cruzada no mejora el rendimiento."
      ],
      "metadata": {
        "id": "BH2I6uSwGJEw"
      }
    },
    {
      "cell_type": "markdown",
      "source": [
        "**Optimización de hiperparámetros mediante GridSearch CV**"
      ],
      "metadata": {
        "id": "bTHQ39v9GXhe"
      }
    },
    {
      "cell_type": "code",
      "source": [
        "#from sklearn.model_selection import GridSearchCV\n",
        "\n",
        "\n",
        "parameters = [{'penalty':['l1','l2']}, \n",
        "              {'C':[1, 10, 100, 1000]}]\n",
        "\n",
        "\n",
        "grid_search = GridSearchCV(estimator = logreg,  \n",
        "                           param_grid = parameters,\n",
        "                           scoring = 'accuracy',\n",
        "                           cv = 10,\n",
        "                           verbose=0)\n",
        "\n",
        "grid_search.fit(X_train, y_train)"
      ],
      "metadata": {
        "colab": {
          "base_uri": "https://localhost:8080/"
        },
        "id": "KCVNbhHVGWau",
        "outputId": "bed72b47-a170-4903-eb52-6c501b115757"
      },
      "execution_count": 328,
      "outputs": [
        {
          "output_type": "execute_result",
          "data": {
            "text/plain": [
              "GridSearchCV(cv=10,\n",
              "             estimator=LogisticRegression(C=100, penalty='l1', random_state=0,\n",
              "                                          solver='liblinear'),\n",
              "             param_grid=[{'penalty': ['l1', 'l2']}, {'C': [1, 10, 100, 1000]}],\n",
              "             scoring='accuracy')"
            ]
          },
          "metadata": {},
          "execution_count": 328
        }
      ]
    },
    {
      "cell_type": "code",
      "source": [
        "# examinar los parámetros del mejor modelos\n",
        "\n",
        "# mejor puntuación obtenida durante la GridSearchCV\n",
        "print('Mejor puntuación GridSearch CV: {:.4f}\\n\\n'.format(grid_search.best_score_))\n",
        "\n",
        "# mostrar los parámetros que dan los mejores resultados\n",
        "print('Parámetros que dan los mejores resultados :','\\n\\n', (grid_search.best_params_))\n",
        "\n",
        "# estimador que fue elegido por el GridSearch\n",
        "print('\\n\\nEstimador elegido:','\\n\\n', (grid_search.best_estimator_))"
      ],
      "metadata": {
        "colab": {
          "base_uri": "https://localhost:8080/"
        },
        "id": "njFJnIfnGW9P",
        "outputId": "cf9b6065-d9ab-4a75-cd11-1a525a5ec389"
      },
      "execution_count": 329,
      "outputs": [
        {
          "output_type": "stream",
          "name": "stdout",
          "text": [
            "Mejor puntuación GridSearch CV: 0.9948\n",
            "\n",
            "\n",
            "Parámetros que dan los mejores resultados : \n",
            "\n",
            " {'C': 1000}\n",
            "\n",
            "\n",
            "Estimador elegido: \n",
            "\n",
            " LogisticRegression(C=1000, penalty='l1', random_state=0, solver='liblinear')\n"
          ]
        }
      ]
    },
    {
      "cell_type": "markdown",
      "source": [
        "\n",
        "\n",
        "---\n",
        "\n"
      ],
      "metadata": {
        "id": "MACynZF1HX4p"
      }
    },
    {
      "cell_type": "markdown",
      "source": [
        "# **Experimento 4**"
      ],
      "metadata": {
        "id": "WPUpLYQ0H2fa"
      }
    },
    {
      "cell_type": "markdown",
      "source": [
        "Ajustamos nuevamente el modelo con los datos de optimizaciñon obtenidos en el experimento 3"
      ],
      "metadata": {
        "id": "PyEwqcP1H5zM"
      }
    },
    {
      "cell_type": "code",
      "source": [
        "# instanciamos\n",
        "logreg = LogisticRegression(C=1000, penalty='l1', solver='liblinear', random_state=0)\n",
        "# modelo\n",
        "logreg.fit(X_train, y_train)"
      ],
      "metadata": {
        "colab": {
          "base_uri": "https://localhost:8080/"
        },
        "id": "asWqb0qSGXBh",
        "outputId": "cc01960b-aa8b-46ca-f412-a11603fbda5e"
      },
      "execution_count": 330,
      "outputs": [
        {
          "output_type": "execute_result",
          "data": {
            "text/plain": [
              "LogisticRegression(C=1000, penalty='l1', random_state=0, solver='liblinear')"
            ]
          },
          "metadata": {},
          "execution_count": 330
        }
      ]
    },
    {
      "cell_type": "code",
      "source": [
        "y_pred_test = logreg.predict(X_test)\n",
        "y_pred_test"
      ],
      "metadata": {
        "colab": {
          "base_uri": "https://localhost:8080/"
        },
        "id": "H2D_tm7iGXF7",
        "outputId": "de34b411-a5ab-4fb3-a7a6-09deb5429c78"
      },
      "execution_count": 331,
      "outputs": [
        {
          "output_type": "execute_result",
          "data": {
            "text/plain": [
              "array([1, 1, 0, ..., 1, 0, 1])"
            ]
          },
          "metadata": {},
          "execution_count": 331
        }
      ]
    },
    {
      "cell_type": "code",
      "source": [
        "# probabilidad 0 - no probreza\n",
        "logreg.predict_proba(X_test)[:,0]"
      ],
      "metadata": {
        "colab": {
          "base_uri": "https://localhost:8080/"
        },
        "id": "KP1-g8bBIREy",
        "outputId": "4618a66b-54fb-428c-fba4-8e01435499da"
      },
      "execution_count": 332,
      "outputs": [
        {
          "output_type": "execute_result",
          "data": {
            "text/plain": [
              "array([2.74891221e-12, 2.26829625e-05, 1.00000000e+00, ...,\n",
              "       0.00000000e+00, 1.00000000e+00, 4.91734164e-09])"
            ]
          },
          "metadata": {},
          "execution_count": 332
        }
      ]
    },
    {
      "cell_type": "code",
      "source": [
        "# probabilidad 1 - pobreza\n",
        "logreg.predict_proba(X_test)[:,1]"
      ],
      "metadata": {
        "colab": {
          "base_uri": "https://localhost:8080/"
        },
        "id": "gMaImf_tIRQ_",
        "outputId": "9e6cec1a-12bd-4009-f59b-efb5a0278bb4"
      },
      "execution_count": 333,
      "outputs": [
        {
          "output_type": "execute_result",
          "data": {
            "text/plain": [
              "array([1.00000000e+00, 9.99977317e-01, 7.21204323e-12, ...,\n",
              "       1.00000000e+00, 5.40715808e-15, 9.99999995e-01])"
            ]
          },
          "metadata": {},
          "execution_count": 333
        }
      ]
    },
    {
      "cell_type": "markdown",
      "source": [
        "**Métricas**"
      ],
      "metadata": {
        "id": "G6Hg1FrjIW80"
      }
    },
    {
      "cell_type": "code",
      "source": [
        "print('Model accuracy score: {0:0.4f}'. format(accuracy_score(y_test, y_pred_test)))"
      ],
      "metadata": {
        "colab": {
          "base_uri": "https://localhost:8080/"
        },
        "id": "4eylxKzKIRbc",
        "outputId": "dca0dc0c-59a4-4034-d7fd-4ef7cfdb905d"
      },
      "execution_count": 334,
      "outputs": [
        {
          "output_type": "stream",
          "name": "stdout",
          "text": [
            "Model accuracy score: 0.9957\n"
          ]
        }
      ]
    },
    {
      "cell_type": "code",
      "source": [
        "y_pred_train = logreg.predict(X_train)\n",
        "y_pred_train"
      ],
      "metadata": {
        "colab": {
          "base_uri": "https://localhost:8080/"
        },
        "id": "QldP-rDzIRgZ",
        "outputId": "ca0855df-cfc0-4540-c9f1-0ed8a21b9d1a"
      },
      "execution_count": 335,
      "outputs": [
        {
          "output_type": "execute_result",
          "data": {
            "text/plain": [
              "array([1, 1, 1, ..., 0, 1, 1])"
            ]
          },
          "metadata": {},
          "execution_count": 335
        }
      ]
    },
    {
      "cell_type": "code",
      "source": [
        "print('Training-set accuracy score: {0:0.4f}'. format(accuracy_score(y_train, y_pred_train)))"
      ],
      "metadata": {
        "colab": {
          "base_uri": "https://localhost:8080/"
        },
        "id": "043JhvuFIRk2",
        "outputId": "d2ca7fd1-0b86-4624-99f1-ec01a485862b"
      },
      "execution_count": 336,
      "outputs": [
        {
          "output_type": "stream",
          "name": "stdout",
          "text": [
            "Training-set accuracy score: 0.9998\n"
          ]
        }
      ]
    },
    {
      "cell_type": "markdown",
      "source": [
        "**Precisión nula**"
      ],
      "metadata": {
        "id": "kPrB2aHaK-h1"
      }
    },
    {
      "cell_type": "code",
      "source": [
        "y_test.value_counts()"
      ],
      "metadata": {
        "colab": {
          "base_uri": "https://localhost:8080/"
        },
        "id": "hEXn4yW-K_xv",
        "outputId": "2b3e7edb-2ac8-42d8-b396-8f8d36be3bf9"
      },
      "execution_count": 359,
      "outputs": [
        {
          "output_type": "execute_result",
          "data": {
            "text/plain": [
              "0    1281\n",
              "1    1275\n",
              "Name: pobreza, dtype: int64"
            ]
          },
          "metadata": {},
          "execution_count": 359
        }
      ]
    },
    {
      "cell_type": "code",
      "source": [
        "# comprobar la precisión nula\n",
        "null_accuracy = (1281/(1281+1275))\n",
        "print('Null accuracy score: {0:0.4f}'. format(null_accuracy))"
      ],
      "metadata": {
        "colab": {
          "base_uri": "https://localhost:8080/"
        },
        "id": "yUdLzF59LDMN",
        "outputId": "40945a1c-1f6d-4f22-b0a0-be9a10591185"
      },
      "execution_count": 360,
      "outputs": [
        {
          "output_type": "stream",
          "name": "stdout",
          "text": [
            "Null accuracy score: 0.5012\n"
          ]
        }
      ]
    },
    {
      "cell_type": "markdown",
      "source": [
        "**Matriz de confusión**"
      ],
      "metadata": {
        "id": "v8O2JF1vI4aD"
      }
    },
    {
      "cell_type": "code",
      "source": [
        "# Matriz de confusión\n",
        "\n",
        "#from sklearn.metrics import confusion_matrix\n",
        "cm = confusion_matrix(y_test, y_pred_test)\n",
        "print('Confusion matrix\\n\\n', cm)\n",
        "print('\\nTrue Positives(TP) = ', cm[0,0])\n",
        "print('\\nTrue Negatives(TN) = ', cm[1,1])\n",
        "print('\\nFalse Positives(FP) = ', cm[0,1])\n",
        "print('\\nFalse Negatives(FN) = ', cm[1,0])"
      ],
      "metadata": {
        "colab": {
          "base_uri": "https://localhost:8080/"
        },
        "id": "6ojVtI9YImBo",
        "outputId": "bdc75983-c714-46b5-c4c9-ce681fa5f407"
      },
      "execution_count": 338,
      "outputs": [
        {
          "output_type": "stream",
          "name": "stdout",
          "text": [
            "Confusion matrix\n",
            "\n",
            " [[1278    3]\n",
            " [   8 1267]]\n",
            "\n",
            "True Positives(TP) =  1278\n",
            "\n",
            "True Negatives(TN) =  1267\n",
            "\n",
            "False Positives(FP) =  3\n",
            "\n",
            "False Negatives(FN) =  8\n"
          ]
        }
      ]
    },
    {
      "cell_type": "code",
      "source": [
        "# visualize confusion matrix with seaborn heatmap\n",
        "\n",
        "cm_matrix = pd.DataFrame(data=cm, columns=['Actual Positive:1', 'Actual Negative:0'], \n",
        "                                 index=['Predict Positive:1', 'Predict Negative:0'])\n",
        "\n",
        "sns.heatmap(cm_matrix, annot=True, fmt='d', cmap='YlGnBu')"
      ],
      "metadata": {
        "colab": {
          "base_uri": "https://localhost:8080/",
          "height": 285
        },
        "id": "seq2v2WYImN5",
        "outputId": "01743251-d345-4f1f-8aee-71d5a1609e42"
      },
      "execution_count": 339,
      "outputs": [
        {
          "output_type": "execute_result",
          "data": {
            "text/plain": [
              "<matplotlib.axes._subplots.AxesSubplot at 0x7f3c305242d0>"
            ]
          },
          "metadata": {},
          "execution_count": 339
        },
        {
          "output_type": "display_data",
          "data": {
            "text/plain": [
              "<Figure size 432x288 with 2 Axes>"
            ],
            "image/png": "[encoded data removed]"
          },
          "metadata": {
            "needs_background": "light"
          }
        }
      ]
    },
    {
      "cell_type": "code",
      "source": [
        "#Informe de clasificación\n",
        "from sklearn.metrics import classification_report\n",
        "\n",
        "print(classification_report(y_test, y_pred_test))"
      ],
      "metadata": {
        "colab": {
          "base_uri": "https://localhost:8080/"
        },
        "id": "x6BrO3yRImSj",
        "outputId": "0125b698-5c3f-415a-eaee-500eaee3574e"
      },
      "execution_count": 340,
      "outputs": [
        {
          "output_type": "stream",
          "name": "stdout",
          "text": [
            "              precision    recall  f1-score   support\n",
            "\n",
            "           0       0.99      1.00      1.00      1281\n",
            "           1       1.00      0.99      1.00      1275\n",
            "\n",
            "    accuracy                           1.00      2556\n",
            "   macro avg       1.00      1.00      1.00      2556\n",
            "weighted avg       1.00      1.00      1.00      2556\n",
            "\n"
          ]
        }
      ]
    },
    {
      "cell_type": "code",
      "source": [
        "#Precisión de la clasificación\n",
        "TP = cm[0,0]\n",
        "TN = cm[1,1]\n",
        "FP = cm[0,1]\n",
        "FN = cm[1,0]"
      ],
      "metadata": {
        "id": "d8z20i1QJE27"
      },
      "execution_count": 341,
      "outputs": []
    },
    {
      "cell_type": "code",
      "source": [
        "classification_accuracy = (TP + TN) / float(TP + TN + FP + FN)\n",
        "print('Classification accuracy : {0:0.4f}'.format(classification_accuracy))"
      ],
      "metadata": {
        "colab": {
          "base_uri": "https://localhost:8080/"
        },
        "id": "2y6iJ8ruJIfx",
        "outputId": "3d5b7c8b-60fb-4e16-95ec-40f168f5cc7a"
      },
      "execution_count": 342,
      "outputs": [
        {
          "output_type": "stream",
          "name": "stdout",
          "text": [
            "Classification accuracy : 0.9957\n"
          ]
        }
      ]
    },
    {
      "cell_type": "code",
      "source": [
        "#Classification error\n",
        "classification_error = (FP + FN) / float(TP + TN + FP + FN)\n",
        "print('Classification error : {0:0.4f}'.format(classification_error))"
      ],
      "metadata": {
        "colab": {
          "base_uri": "https://localhost:8080/"
        },
        "id": "m3msbMp9JIkP",
        "outputId": "afc50c1d-4707-495c-afd6-883bba70aff1"
      },
      "execution_count": 343,
      "outputs": [
        {
          "output_type": "stream",
          "name": "stdout",
          "text": [
            "Classification error : 0.0043\n"
          ]
        }
      ]
    },
    {
      "cell_type": "code",
      "source": [
        "# print precision score\n",
        "precision = TP / float(TP + FP)\n",
        "print('Precision : {0:0.4f}'.format(precision))"
      ],
      "metadata": {
        "colab": {
          "base_uri": "https://localhost:8080/"
        },
        "id": "HRLTaIytJIpP",
        "outputId": "ca35d763-6c5d-46e7-ab3b-42e9d8b5a51f"
      },
      "execution_count": 344,
      "outputs": [
        {
          "output_type": "stream",
          "name": "stdout",
          "text": [
            "Precision : 0.9977\n"
          ]
        }
      ]
    },
    {
      "cell_type": "code",
      "source": [
        "recall = TP / float(TP + FN)\n",
        "print('Recall or Sensitivity : {0:0.4f}'.format(recall))"
      ],
      "metadata": {
        "colab": {
          "base_uri": "https://localhost:8080/"
        },
        "id": "alFjM6kRJItg",
        "outputId": "6b5ee4d0-c89b-40b0-f330-b88a7649fbb0"
      },
      "execution_count": 345,
      "outputs": [
        {
          "output_type": "stream",
          "name": "stdout",
          "text": [
            "Recall or Sensitivity : 0.9938\n"
          ]
        }
      ]
    },
    {
      "cell_type": "code",
      "source": [
        "true_positive_rate = TP / float(TP + FN)\n",
        "print('True Positive Rate : {0:0.4f}'.format(true_positive_rate))"
      ],
      "metadata": {
        "colab": {
          "base_uri": "https://localhost:8080/"
        },
        "id": "93CTjDZfJJAV",
        "outputId": "852463ed-34d9-4aa2-8029-a5db8f3dfce2"
      },
      "execution_count": 346,
      "outputs": [
        {
          "output_type": "stream",
          "name": "stdout",
          "text": [
            "True Positive Rate : 0.9938\n"
          ]
        }
      ]
    },
    {
      "cell_type": "code",
      "source": [
        "false_positive_rate = FP / float(FP + TN)\n",
        "print('False Positive Rate : {0:0.4f}'.format(false_positive_rate))"
      ],
      "metadata": {
        "colab": {
          "base_uri": "https://localhost:8080/"
        },
        "id": "VqkLeVprJJE-",
        "outputId": "20b37fe7-6773-4d97-87ae-03fef84a5042"
      },
      "execution_count": 347,
      "outputs": [
        {
          "output_type": "stream",
          "name": "stdout",
          "text": [
            "False Positive Rate : 0.0024\n"
          ]
        }
      ]
    },
    {
      "cell_type": "code",
      "source": [
        "specificity = TN / (TN + FP)\n",
        "print('Specificity : {0:0.4f}'.format(specificity))"
      ],
      "metadata": {
        "colab": {
          "base_uri": "https://localhost:8080/"
        },
        "id": "unay5Q7VJbUm",
        "outputId": "7b470a14-c6d9-476d-b125-7c71fc578e09"
      },
      "execution_count": 348,
      "outputs": [
        {
          "output_type": "stream",
          "name": "stdout",
          "text": [
            "Specificity : 0.9976\n"
          ]
        }
      ]
    },
    {
      "cell_type": "code",
      "source": [
        "# ajustamos el nivel de umbral\n",
        "# mostrar las 10 primeras probabilidades predichas de dos clases - 0 y 1\n",
        "y_pred_prob = logreg.predict_proba(X_test)[0:10]\n",
        "y_pred_prob"
      ],
      "metadata": {
        "colab": {
          "base_uri": "https://localhost:8080/"
        },
        "id": "0sCKVVJUJbgo",
        "outputId": "3339cb03-794f-484e-b52b-c09fce2074d1"
      },
      "execution_count": 349,
      "outputs": [
        {
          "output_type": "execute_result",
          "data": {
            "text/plain": [
              "array([[2.74891221e-12, 1.00000000e+00],\n",
              "       [2.26829625e-05, 9.99977317e-01],\n",
              "       [1.00000000e+00, 7.21204323e-12],\n",
              "       [3.73034936e-14, 1.00000000e+00],\n",
              "       [9.99998969e-01, 1.03074681e-06],\n",
              "       [1.00000000e+00, 0.00000000e+00],\n",
              "       [0.00000000e+00, 1.00000000e+00],\n",
              "       [0.00000000e+00, 1.00000000e+00],\n",
              "       [0.00000000e+00, 1.00000000e+00],\n",
              "       [1.00000000e+00, 4.50368250e-57]])"
            ]
          },
          "metadata": {},
          "execution_count": 349
        }
      ]
    },
    {
      "cell_type": "code",
      "source": [
        "# almacenar las probabilidades en un dataframe\n",
        "y_pred_prob_df = pd.DataFrame(data=y_pred_prob, columns=['Prob of - No POBREZA (0)', 'Prob of - POBREZA (1)'])\n",
        "y_pred_prob_df"
      ],
      "metadata": {
        "colab": {
          "base_uri": "https://localhost:8080/",
          "height": 363
        },
        "id": "YDLf_96iJbtk",
        "outputId": "3f5b4879-c20e-4be4-8be5-43857326cc44"
      },
      "execution_count": 350,
      "outputs": [
        {
          "output_type": "execute_result",
          "data": {
            "text/plain": [
              "   Prob of - No POBREZA (0)  Prob of - POBREZA (1)\n",
              "0              2.748912e-12           1.000000e+00\n",
              "1              2.268296e-05           9.999773e-01\n",
              "2              1.000000e+00           7.212043e-12\n",
              "3              3.730349e-14           1.000000e+00\n",
              "4              9.999990e-01           1.030747e-06\n",
              "5              1.000000e+00           0.000000e+00\n",
              "6              0.000000e+00           1.000000e+00\n",
              "7              0.000000e+00           1.000000e+00\n",
              "8              0.000000e+00           1.000000e+00\n",
              "9              1.000000e+00           4.503683e-57"
            ],
            "text/html": [
              "\n",
              "  <div id=\"df-67eab97a-ea19-4f16-aed7-5e92a8932ec8\">\n",
              "    <div class=\"colab-df-container\">\n",
              "      <div>\n",
              "<style scoped>\n",
              "    .dataframe tbody tr th:only-of-type {\n",
              "        vertical-align: middle;\n",
              "    }\n",
              "\n",
              "    .dataframe tbody tr th {\n",
              "        vertical-align: top;\n",
              "    }\n",
              "\n",
              "    .dataframe thead th {\n",
              "        text-align: right;\n",
              "    }\n",
              "</style>\n",
              "<table border=\"1\" class=\"dataframe\">\n",
              "  <thead>\n",
              "    <tr style=\"text-align: right;\">\n",
              "      <th></th>\n",
              "      <th>Prob of - No POBREZA (0)</th>\n",
              "      <th>Prob of - POBREZA (1)</th>\n",
              "    </tr>\n",
              "  </thead>\n",
              "  <tbody>\n",
              "    <tr>\n",
              "      <th>0</th>\n",
              "      <td>2.748912e-12</td>\n",
              "      <td>1.000000e+00</td>\n",
              "    </tr>\n",
              "    <tr>\n",
              "      <th>1</th>\n",
              "      <td>2.268296e-05</td>\n",
              "      <td>9.999773e-01</td>\n",
              "    </tr>\n",
              "    <tr>\n",
              "      <th>2</th>\n",
              "      <td>1.000000e+00</td>\n",
              "      <td>7.212043e-12</td>\n",
              "    </tr>\n",
              "    <tr>\n",
              "      <th>3</th>\n",
              "      <td>3.730349e-14</td>\n",
              "      <td>1.000000e+00</td>\n",
              "    </tr>\n",
              "    <tr>\n",
              "      <th>4</th>\n",
              "      <td>9.999990e-01</td>\n",
              "      <td>1.030747e-06</td>\n",
              "    </tr>\n",
              "    <tr>\n",
              "      <th>5</th>\n",
              "      <td>1.000000e+00</td>\n",
              "      <td>0.000000e+00</td>\n",
              "    </tr>\n",
              "    <tr>\n",
              "      <th>6</th>\n",
              "      <td>0.000000e+00</td>\n",
              "      <td>1.000000e+00</td>\n",
              "    </tr>\n",
              "    <tr>\n",
              "      <th>7</th>\n",
              "      <td>0.000000e+00</td>\n",
              "      <td>1.000000e+00</td>\n",
              "    </tr>\n",
              "    <tr>\n",
              "      <th>8</th>\n",
              "      <td>0.000000e+00</td>\n",
              "      <td>1.000000e+00</td>\n",
              "    </tr>\n",
              "    <tr>\n",
              "      <th>9</th>\n",
              "      <td>1.000000e+00</td>\n",
              "      <td>4.503683e-57</td>\n",
              "    </tr>\n",
              "  </tbody>\n",
              "</table>\n",
              "</div>\n",
              "      <button class=\"colab-df-convert\" onclick=\"convertToInteractive('df-67eab97a-ea19-4f16-aed7-5e92a8932ec8')\"\n",
              "              title=\"Convert this dataframe to an interactive table.\"\n",
              "              style=\"display:none;\">\n",
              "        \n",
              "  <svg xmlns=\"http://www.w3.org/2000/svg\" height=\"24px\"viewBox=\"0 0 24 24\"\n",
              "       width=\"24px\">\n",
              "    <path d=\"M0 0h24v24H0V0z\" fill=\"none\"/>\n",
              "    <path d=\"M18.56 5.44l.94 2.06.94-2.06 2.06-.94-2.06-.94-.94-2.06-.94 2.06-2.06.94zm-11 1L8.5 8.5l.94-2.06 2.06-.94-2.06-.94L8.5 2.5l-.94 2.06-2.06.94zm10 10l.94 2.06.94-2.06 2.06-.94-2.06-.94-.94-2.06-.94 2.06-2.06.94z\"/><path d=\"M17.41 7.96l-1.37-1.37c-.4-.4-.92-.59-1.43-.59-.52 0-1.04.2-1.43.59L10.3 9.45l-7.72 7.72c-.78.78-.78 2.05 0 2.83L4 21.41c.39.39.9.59 1.41.59.51 0 1.02-.2 1.41-.59l7.78-7.78 2.81-2.81c.8-.78.8-2.07 0-2.86zM5.41 20L4 18.59l7.72-7.72 1.47 1.35L5.41 20z\"/>\n",
              "  </svg>\n",
              "      </button>\n",
              "      \n",
              "  <style>\n",
              "    .colab-df-container {\n",
              "      display:flex;\n",
              "      flex-wrap:wrap;\n",
              "      gap: 12px;\n",
              "    }\n",
              "\n",
              "    .colab-df-convert {\n",
              "      background-color: #E8F0FE;\n",
              "      border: none;\n",
              "      border-radius: 50%;\n",
              "      cursor: pointer;\n",
              "      display: none;\n",
              "      fill: #1967D2;\n",
              "      height: 32px;\n",
              "      padding: 0 0 0 0;\n",
              "      width: 32px;\n",
              "    }\n",
              "\n",
              "    .colab-df-convert:hover {\n",
              "      background-color: #E2EBFA;\n",
              "      box-shadow: 0px 1px 2px rgba(60, 64, 67, 0.3), 0px 1px 3px 1px rgba(60, 64, 67, 0.15);\n",
              "      fill: #174EA6;\n",
              "    }\n",
              "\n",
              "    [theme=dark] .colab-df-convert {\n",
              "      background-color: #3B4455;\n",
              "      fill: #D2E3FC;\n",
              "    }\n",
              "\n",
              "    [theme=dark] .colab-df-convert:hover {\n",
              "      background-color: #434B5C;\n",
              "      box-shadow: 0px 1px 3px 1px rgba(0, 0, 0, 0.15);\n",
              "      filter: drop-shadow(0px 1px 2px rgba(0, 0, 0, 0.3));\n",
              "      fill: #FFFFFF;\n",
              "    }\n",
              "  </style>\n",
              "\n",
              "      <script>\n",
              "        const buttonEl =\n",
              "          document.querySelector('#df-67eab97a-ea19-4f16-aed7-5e92a8932ec8 button.colab-df-convert');\n",
              "        buttonEl.style.display =\n",
              "          google.colab.kernel.accessAllowed ? 'block' : 'none';\n",
              "\n",
              "        async function convertToInteractive(key) {\n",
              "          const element = document.querySelector('#df-67eab97a-ea19-4f16-aed7-5e92a8932ec8');\n",
              "          const dataTable =\n",
              "            await google.colab.kernel.invokeFunction('convertToInteractive',\n",
              "                                                     [key], {});\n",
              "          if (!dataTable) return;\n",
              "\n",
              "          const docLinkHtml = 'Like what you see? Visit the ' +\n",
              "            '<a target=\"_blank\" href=https://colab.research.google.com/notebooks/data_table.ipynb>data table notebook</a>'\n",
              "            + ' to learn more about interactive tables.';\n",
              "          element.innerHTML = '';\n",
              "          dataTable['output_type'] = 'display_data';\n",
              "          await google.colab.output.renderOutput(dataTable, element);\n",
              "          const docLink = document.createElement('div');\n",
              "          docLink.innerHTML = docLinkHtml;\n",
              "          element.appendChild(docLink);\n",
              "        }\n",
              "      </script>\n",
              "    </div>\n",
              "  </div>\n",
              "  "
            ]
          },
          "metadata": {},
          "execution_count": 350
        }
      ]
    },
    {
      "cell_type": "code",
      "source": [
        "# 10 primeros probabilidades para la clase 1 - Probability of POBREZA\n",
        "logreg.predict_proba(X_test)[0:10, 1]"
      ],
      "metadata": {
        "colab": {
          "base_uri": "https://localhost:8080/"
        },
        "id": "ux6A1B4NJJJm",
        "outputId": "f3a897f9-8aa1-4b51-f65c-b2b87ee68ab6"
      },
      "execution_count": 351,
      "outputs": [
        {
          "output_type": "execute_result",
          "data": {
            "text/plain": [
              "array([1.00000000e+00, 9.99977317e-01, 7.21204323e-12, 1.00000000e+00,\n",
              "       1.03074681e-06, 0.00000000e+00, 1.00000000e+00, 1.00000000e+00,\n",
              "       1.00000000e+00, 4.50368250e-57])"
            ]
          },
          "metadata": {},
          "execution_count": 351
        }
      ]
    },
    {
      "cell_type": "code",
      "source": [
        "#almacenar las probabilidades previstas para la clase 1 - Probabilidad de POBREZA\n",
        "y_pred1 = logreg.predict_proba(X_test)[:, 1]"
      ],
      "metadata": {
        "id": "lhqBnBVGJJOX"
      },
      "execution_count": 352,
      "outputs": []
    },
    {
      "cell_type": "code",
      "source": [
        "# histograma \n",
        "# adjust the font size \n",
        "plt.rcParams['font.size'] = 12\n",
        "# plot histogram with 10 bins\n",
        "plt.hist(y_pred1, bins = 10)\n",
        "# set the title of predicted probabilities\n",
        "plt.title('Histogram of predicted probabilities of POBREZA')\n",
        "# set the x-axis limit\n",
        "plt.xlim(0,1)\n",
        "# set the title\n",
        "plt.xlabel('Predicted probabilities of POBREZA')\n",
        "plt.ylabel('Frequency')"
      ],
      "metadata": {
        "colab": {
          "base_uri": "https://localhost:8080/",
          "height": 319
        },
        "id": "GRdcTBpGJvkL",
        "outputId": "5f6d2d55-bbf2-4722-c193-a7e92adf1f31"
      },
      "execution_count": 353,
      "outputs": [
        {
          "output_type": "execute_result",
          "data": {
            "text/plain": [
              "Text(0, 0.5, 'Frequency')"
            ]
          },
          "metadata": {},
          "execution_count": 353
        },
        {
          "output_type": "display_data",
          "data": {
            "text/plain": [
              "<Figure size 432x288 with 1 Axes>"
            ],
            "image/png": "[encoded data removed]"
          },
          "metadata": {
            "needs_background": "light"
          }
        }
      ]
    },
    {
      "cell_type": "markdown",
      "source": [
        "**Bajar el umbral**"
      ],
      "metadata": {
        "id": "t53NRz7uLPW6"
      }
    },
    {
      "cell_type": "code",
      "source": [
        "#from sklearn.preprocessing import binarize \n",
        "\n",
        "\n",
        "for i in range(1,5):\n",
        "    \n",
        "    cm1=0\n",
        "    \n",
        "    y_pred1 = logreg.predict_proba(X_test)[:,1]\n",
        "    y_pred1 = y_pred1.reshape(-1,1)\n",
        "    y_pred2 = binarize(y_pred1,threshold=i/10)\n",
        "    y_pred2 = np.where(y_pred2 == 1, 1, 0)\n",
        "    \n",
        "    cm1 = confusion_matrix(y_test, y_pred2)\n",
        "        \n",
        "    print ('With',i/10,'threshold the Confusion Matrix is ','\\n\\n',cm1,'\\n\\n',\n",
        "           \n",
        "            'with',cm1[0,0]+cm1[1,1],'correct predictions, ', '\\n\\n', \n",
        "           \n",
        "            cm1[0,1],'Type I errors( False Positives), ','\\n\\n',\n",
        "           \n",
        "            cm1[1,0],'Type II errors( False Negatives), ','\\n\\n',\n",
        "           \n",
        "           'Accuracy score: ', (accuracy_score(y_test, y_pred2)), '\\n\\n',\n",
        "           'Sensitivity: ',cm1[1,1]/(float(cm1[1,1]+cm1[1,0])), '\\n\\n',\n",
        "           'Specificity: ',cm1[0,0]/(float(cm1[0,0]+cm1[0,1])),'\\n\\n',\n",
        "          \n",
        "            '====================================================', '\\n\\n')"
      ],
      "metadata": {
        "colab": {
          "base_uri": "https://localhost:8080/"
        },
        "id": "cHBJjT1nLQbO",
        "outputId": "50887130-c95d-4661-a16d-a09899779b4e"
      },
      "execution_count": 361,
      "outputs": [
        {
          "output_type": "stream",
          "name": "stdout",
          "text": [
            "With 0.1 threshold the Confusion Matrix is  \n",
            "\n",
            " [[1264   17]\n",
            " [   4 1271]] \n",
            "\n",
            " with 2535 correct predictions,  \n",
            "\n",
            " 17 Type I errors( False Positives),  \n",
            "\n",
            " 4 Type II errors( False Negatives),  \n",
            "\n",
            " Accuracy score:  0.9917840375586855 \n",
            "\n",
            " Sensitivity:  0.9968627450980392 \n",
            "\n",
            " Specificity:  0.9867291178766588 \n",
            "\n",
            " ==================================================== \n",
            "\n",
            "\n",
            "With 0.2 threshold the Confusion Matrix is  \n",
            "\n",
            " [[1274    7]\n",
            " [   4 1271]] \n",
            "\n",
            " with 2545 correct predictions,  \n",
            "\n",
            " 7 Type I errors( False Positives),  \n",
            "\n",
            " 4 Type II errors( False Negatives),  \n",
            "\n",
            " Accuracy score:  0.9956964006259781 \n",
            "\n",
            " Sensitivity:  0.9968627450980392 \n",
            "\n",
            " Specificity:  0.994535519125683 \n",
            "\n",
            " ==================================================== \n",
            "\n",
            "\n",
            "With 0.3 threshold the Confusion Matrix is  \n",
            "\n",
            " [[1276    5]\n",
            " [   6 1269]] \n",
            "\n",
            " with 2545 correct predictions,  \n",
            "\n",
            " 5 Type I errors( False Positives),  \n",
            "\n",
            " 6 Type II errors( False Negatives),  \n",
            "\n",
            " Accuracy score:  0.9956964006259781 \n",
            "\n",
            " Sensitivity:  0.9952941176470588 \n",
            "\n",
            " Specificity:  0.9960967993754879 \n",
            "\n",
            " ==================================================== \n",
            "\n",
            "\n",
            "With 0.4 threshold the Confusion Matrix is  \n",
            "\n",
            " [[1276    5]\n",
            " [   8 1267]] \n",
            "\n",
            " with 2543 correct predictions,  \n",
            "\n",
            " 5 Type I errors( False Positives),  \n",
            "\n",
            " 8 Type II errors( False Negatives),  \n",
            "\n",
            " Accuracy score:  0.9949139280125195 \n",
            "\n",
            " Sensitivity:  0.9937254901960785 \n",
            "\n",
            " Specificity:  0.9960967993754879 \n",
            "\n",
            " ==================================================== \n",
            "\n",
            "\n"
          ]
        }
      ]
    },
    {
      "cell_type": "markdown",
      "source": [
        "**Curva ROC**"
      ],
      "metadata": {
        "id": "-eL3yhkKJ5xg"
      }
    },
    {
      "cell_type": "code",
      "source": [
        "# plot ROC Curve\n",
        "\n",
        "#from sklearn.metrics import roc_curve\n",
        "fpr, tpr, thresholds = roc_curve(y_test, y_pred1, pos_label = 1)\n",
        "plt.figure(figsize=(6,4))\n",
        "plt.plot(fpr, tpr, linewidth=2)\n",
        "plt.plot([0,1], [0,1], 'k--' )\n",
        "plt.rcParams['font.size'] = 12\n",
        "plt.title('ROC curve for POBREZA classifier')\n",
        "plt.xlabel('False Positive Rate (1 - Specificity)')\n",
        "plt.ylabel('True Positive Rate (Sensitivity)')\n",
        "plt.show()"
      ],
      "metadata": {
        "colab": {
          "base_uri": "https://localhost:8080/",
          "height": 302
        },
        "id": "Oj6Nxzr2Jvqs",
        "outputId": "8c704220-48ee-43e1-ed56-cdc7b474370a"
      },
      "execution_count": 354,
      "outputs": [
        {
          "output_type": "display_data",
          "data": {
            "text/plain": [
              "<Figure size 432x288 with 1 Axes>"
            ],
            "image/png": "[encoded data removed]"
          },
          "metadata": {
            "needs_background": "light"
          }
        }
      ]
    },
    {
      "cell_type": "code",
      "source": [
        "# compute ROC AUC\n",
        "\n",
        "ROC_AUC = roc_auc_score(y_test, y_pred1)\n",
        "print('ROC AUC : {:.4f}'.format(ROC_AUC))"
      ],
      "metadata": {
        "colab": {
          "base_uri": "https://localhost:8080/"
        },
        "id": "7-obgcWkJvvE",
        "outputId": "9011526d-3ffd-4ae2-cabd-d0232e362617"
      },
      "execution_count": 355,
      "outputs": [
        {
          "output_type": "stream",
          "name": "stdout",
          "text": [
            "ROC AUC : 0.9999\n"
          ]
        }
      ]
    },
    {
      "cell_type": "code",
      "source": [
        "# calculate cross-validated ROC AUC \n",
        "\n",
        "Cross_validated_ROC_AUC = cross_val_score(logreg, X_train, y_train, cv=5, scoring='roc_auc').mean()\n",
        "print('Cross validated ROC AUC : {:.4f}'.format(Cross_validated_ROC_AUC))"
      ],
      "metadata": {
        "colab": {
          "base_uri": "https://localhost:8080/"
        },
        "id": "WxzdJ3m9Jv0x",
        "outputId": "e180d268-9038-4bcd-e7ae-20a92a165157"
      },
      "execution_count": 356,
      "outputs": [
        {
          "output_type": "stream",
          "name": "stdout",
          "text": [
            "Cross validated ROC AUC : 0.9999\n"
          ]
        }
      ]
    },
    {
      "cell_type": "code",
      "source": [
        "# Validación cruzada k-fold \n",
        "# Aplicación de la validación cruzada por quintuplicado\n",
        "\n",
        "scores = cross_val_score(logreg, X_train, y_train, cv = 5, scoring='accuracy')\n",
        "print('Cross-validation scores:{}'.format(scores))"
      ],
      "metadata": {
        "colab": {
          "base_uri": "https://localhost:8080/"
        },
        "id": "Bx5om5noJv6E",
        "outputId": "0a41ba38-7381-4fae-dc77-7c7855f66689"
      },
      "execution_count": 357,
      "outputs": [
        {
          "output_type": "stream",
          "name": "stdout",
          "text": [
            "Cross-validation scores:[0.99580889 0.99497066 0.99244966 0.99412752 0.9966443 ]\n"
          ]
        }
      ]
    },
    {
      "cell_type": "code",
      "source": [
        "#Podemos resumir la precisión de la validación cruzada calculando su media.\n",
        "print('Average cross-validation score: {:.4f}'.format(scores.mean()))"
      ],
      "metadata": {
        "colab": {
          "base_uri": "https://localhost:8080/"
        },
        "id": "txq_H4qOKU1X",
        "outputId": "d211b50e-5898-4ceb-899f-651b16ba918a"
      },
      "execution_count": 358,
      "outputs": [
        {
          "output_type": "stream",
          "name": "stdout",
          "text": [
            "Average cross-validation score: 0.9948\n"
          ]
        }
      ]
    },
    {
      "cell_type": "markdown",
      "source": [
        "La puntuación del modelo original es de 0,9957.\n",
        "\n",
        "La puntuación media de la validación cruzada es de 0,9948.\n",
        "\n",
        "Por lo tanto, podemos concluir que la validación cruzada no mejora el rendimiento."
      ],
      "metadata": {
        "id": "i-4ELVsgKbBq"
      }
    }
  ],
  "metadata": {
    "colab": {
      "collapsed_sections": [],
      "provenance": [],
      "authorship_tag": "ABX9TyObdk5wova2hJBvThRJRuX/",
      "include_colab_link": true
    },
    "kernelspec": {
      "display_name": "Python 3",
      "name": "python3"
    },
    "language_info": {
      "name": "python"
    }
  },
  "nbformat": 4,
  "nbformat_minor": 0
}