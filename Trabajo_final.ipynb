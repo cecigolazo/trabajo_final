{
  "cells": [
    {
      "cell_type": "markdown",
      "metadata": {
        "id": "view-in-github",
        "colab_type": "text"
      },
      "source": [
        "<a href=\"https://colab.research.google.com/github/cecigolazo/trabajo_final/blob/main/Trabajo_final.ipynb\" target=\"_parent\"><img src=\"https://colab.research.google.com/assets/colab-badge.svg\" alt=\"Open In Colab\"/></a>"
      ]
    },
    {
      "cell_type": "markdown",
      "metadata": {
        "id": "3C8jufPFT23v"
      },
      "source": [
        "# **Predicción de la pobreza en Argentina**\n",
        "\n",
        "El objetivo de este trabajo es diseñar un modelo de aprendizaje automático que pueda predecir la pobreza en Argentina, a partir de los datos disponibles en la Encuesta Permanente de Hogares (https://www.indec.gob.ar/indec/web/Institucional-Indec-BasesDeDatos).\n",
        "\n",
        "Las bases de datos que se toman en este caso son las del último trimestre del año 2021.\n",
        "\n",
        "\n"
      ]
    },
    {
      "cell_type": "code",
      "execution_count": null,
      "metadata": {
        "id": "BwBzJH2KA06h"
      },
      "outputs": [],
      "source": [
        "import numpy as np # linear algebra\n",
        "import pandas as pd # data processing, CSV file I/O (e.g. pd.read_csv)\n",
        "import matplotlib.pyplot as plt # data visualization\n",
        "import seaborn as sns # statistical data visualization\n",
        "%matplotlib inline\n",
        "\n",
        "# Input data files are available in the \"../input/\" directory.\n",
        "# For example, running this (by clicking run or pressing Shift+Enter) will list all files under the input directory\n",
        "\n",
        "import os\n",
        "import warnings\n",
        "\n",
        "warnings.filterwarnings('ignore')"
      ]
    },
    {
      "cell_type": "markdown",
      "metadata": {
        "id": "HmNBTgGhKSGa"
      },
      "source": [
        "# **Creamos el dataset**"
      ]
    },
    {
      "cell_type": "code",
      "execution_count": 1,
      "metadata": {
        "colab": {
          "base_uri": "https://localhost:8080/",
          "height": 37
        },
        "id": "RahFhAckBA7m",
        "outputId": "8961bd58-0235-4e0e-8176-9e8591954e12"
      },
      "outputs": [
        {
          "output_type": "display_data",
          "data": {
            "text/plain": [
              "<IPython.core.display.HTML object>"
            ],
            "text/html": [
              "\n",
              "     <input type=\"file\" id=\"files-db581c86-fdf7-410e-8568-34b546d169a9\" name=\"files[]\" multiple disabled\n",
              "        style=\"border:none\" />\n",
              "     <output id=\"result-db581c86-fdf7-410e-8568-34b546d169a9\">\n",
              "      Upload widget is only available when the cell has been executed in the\n",
              "      current browser session. Please rerun this cell to enable.\n",
              "      </output>\n",
              "      <script>// Copyright 2017 Google LLC\n",
              "//\n",
              "// Licensed under the Apache License, Version 2.0 (the \"License\");\n",
              "// you may not use this file except in compliance with the License.\n",
              "// You may obtain a copy of the License at\n",
              "//\n",
              "//      http://www.apache.org/licenses/LICENSE-2.0\n",
              "//\n",
              "// Unless required by applicable law or agreed to in writing, software\n",
              "// distributed under the License is distributed on an \"AS IS\" BASIS,\n",
              "// WITHOUT WARRANTIES OR CONDITIONS OF ANY KIND, either express or implied.\n",
              "// See the License for the specific language governing permissions and\n",
              "// limitations under the License.\n",
              "\n",
              "/**\n",
              " * @fileoverview Helpers for google.colab Python module.\n",
              " */\n",
              "(function(scope) {\n",
              "function span(text, styleAttributes = {}) {\n",
              "  const element = document.createElement('span');\n",
              "  element.textContent = text;\n",
              "  for (const key of Object.keys(styleAttributes)) {\n",
              "    element.style[key] = styleAttributes[key];\n",
              "  }\n",
              "  return element;\n",
              "}\n",
              "\n",
              "// Max number of bytes which will be uploaded at a time.\n",
              "const MAX_PAYLOAD_SIZE = 100 * 1024;\n",
              "\n",
              "function _uploadFiles(inputId, outputId) {\n",
              "  const steps = uploadFilesStep(inputId, outputId);\n",
              "  const outputElement = document.getElementById(outputId);\n",
              "  // Cache steps on the outputElement to make it available for the next call\n",
              "  // to uploadFilesContinue from Python.\n",
              "  outputElement.steps = steps;\n",
              "\n",
              "  return _uploadFilesContinue(outputId);\n",
              "}\n",
              "\n",
              "// This is roughly an async generator (not supported in the browser yet),\n",
              "// where there are multiple asynchronous steps and the Python side is going\n",
              "// to poll for completion of each step.\n",
              "// This uses a Promise to block the python side on completion of each step,\n",
              "// then passes the result of the previous step as the input to the next step.\n",
              "function _uploadFilesContinue(outputId) {\n",
              "  const outputElement = document.getElementById(outputId);\n",
              "  const steps = outputElement.steps;\n",
              "\n",
              "  const next = steps.next(outputElement.lastPromiseValue);\n",
              "  return Promise.resolve(next.value.promise).then((value) => {\n",
              "    // Cache the last promise value to make it available to the next\n",
              "    // step of the generator.\n",
              "    outputElement.lastPromiseValue = value;\n",
              "    return next.value.response;\n",
              "  });\n",
              "}\n",
              "\n",
              "/**\n",
              " * Generator function which is called between each async step of the upload\n",
              " * process.\n",
              " * @param {string} inputId Element ID of the input file picker element.\n",
              " * @param {string} outputId Element ID of the output display.\n",
              " * @return {!Iterable<!Object>} Iterable of next steps.\n",
              " */\n",
              "function* uploadFilesStep(inputId, outputId) {\n",
              "  const inputElement = document.getElementById(inputId);\n",
              "  inputElement.disabled = false;\n",
              "\n",
              "  const outputElement = document.getElementById(outputId);\n",
              "  outputElement.innerHTML = '';\n",
              "\n",
              "  const pickedPromise = new Promise((resolve) => {\n",
              "    inputElement.addEventListener('change', (e) => {\n",
              "      resolve(e.target.files);\n",
              "    });\n",
              "  });\n",
              "\n",
              "  const cancel = document.createElement('button');\n",
              "  inputElement.parentElement.appendChild(cancel);\n",
              "  cancel.textContent = 'Cancel upload';\n",
              "  const cancelPromise = new Promise((resolve) => {\n",
              "    cancel.onclick = () => {\n",
              "      resolve(null);\n",
              "    };\n",
              "  });\n",
              "\n",
              "  // Wait for the user to pick the files.\n",
              "  const files = yield {\n",
              "    promise: Promise.race([pickedPromise, cancelPromise]),\n",
              "    response: {\n",
              "      action: 'starting',\n",
              "    }\n",
              "  };\n",
              "\n",
              "  cancel.remove();\n",
              "\n",
              "  // Disable the input element since further picks are not allowed.\n",
              "  inputElement.disabled = true;\n",
              "\n",
              "  if (!files) {\n",
              "    return {\n",
              "      response: {\n",
              "        action: 'complete',\n",
              "      }\n",
              "    };\n",
              "  }\n",
              "\n",
              "  for (const file of files) {\n",
              "    const li = document.createElement('li');\n",
              "    li.append(span(file.name, {fontWeight: 'bold'}));\n",
              "    li.append(span(\n",
              "        `(${file.type || 'n/a'}) - ${file.size} bytes, ` +\n",
              "        `last modified: ${\n",
              "            file.lastModifiedDate ? file.lastModifiedDate.toLocaleDateString() :\n",
              "                                    'n/a'} - `));\n",
              "    const percent = span('0% done');\n",
              "    li.appendChild(percent);\n",
              "\n",
              "    outputElement.appendChild(li);\n",
              "\n",
              "    const fileDataPromise = new Promise((resolve) => {\n",
              "      const reader = new FileReader();\n",
              "      reader.onload = (e) => {\n",
              "        resolve(e.target.result);\n",
              "      };\n",
              "      reader.readAsArrayBuffer(file);\n",
              "    });\n",
              "    // Wait for the data to be ready.\n",
              "    let fileData = yield {\n",
              "      promise: fileDataPromise,\n",
              "      response: {\n",
              "        action: 'continue',\n",
              "      }\n",
              "    };\n",
              "\n",
              "    // Use a chunked sending to avoid message size limits. See b/62115660.\n",
              "    let position = 0;\n",
              "    do {\n",
              "      const length = Math.min(fileData.byteLength - position, MAX_PAYLOAD_SIZE);\n",
              "      const chunk = new Uint8Array(fileData, position, length);\n",
              "      position += length;\n",
              "\n",
              "      const base64 = btoa(String.fromCharCode.apply(null, chunk));\n",
              "      yield {\n",
              "        response: {\n",
              "          action: 'append',\n",
              "          file: file.name,\n",
              "          data: base64,\n",
              "        },\n",
              "      };\n",
              "\n",
              "      let percentDone = fileData.byteLength === 0 ?\n",
              "          100 :\n",
              "          Math.round((position / fileData.byteLength) * 100);\n",
              "      percent.textContent = `${percentDone}% done`;\n",
              "\n",
              "    } while (position < fileData.byteLength);\n",
              "  }\n",
              "\n",
              "  // All done.\n",
              "  yield {\n",
              "    response: {\n",
              "      action: 'complete',\n",
              "    }\n",
              "  };\n",
              "}\n",
              "\n",
              "scope.google = scope.google || {};\n",
              "scope.google.colab = scope.google.colab || {};\n",
              "scope.google.colab._files = {\n",
              "  _uploadFiles,\n",
              "  _uploadFilesContinue,\n",
              "};\n",
              "})(self);\n",
              "</script> "
            ]
          },
          "metadata": {}
        }
      ],
      "source": [
        "#cargamos el archivo de individuos \"usu_individual_T421.csv\"\n",
        "\n",
        "from google.colab import files\n",
        "uploaded  = files.upload()"
      ]
    },
    {
      "cell_type": "code",
      "execution_count": null,
      "metadata": {
        "id": "BOfj5reHCqcb"
      },
      "outputs": [],
      "source": [
        "df_individual = pd.read_csv(\"usu_individual_T421.csv\")"
      ]
    },
    {
      "cell_type": "code",
      "execution_count": null,
      "metadata": {
        "colab": {
          "base_uri": "https://localhost:8080/"
        },
        "id": "Ix3p_VwvGcPr",
        "outputId": "1846c427-0434-44c8-aeb0-ff851f0eaffa"
      },
      "outputs": [
        {
          "output_type": "execute_result",
          "data": {
            "text/plain": [
              "(50154, 177)"
            ]
          },
          "metadata": {},
          "execution_count": 57
        }
      ],
      "source": [
        "df_individual.shape"
      ]
    },
    {
      "cell_type": "code",
      "execution_count": null,
      "metadata": {
        "id": "MdnN-BXrCx-_"
      },
      "outputs": [],
      "source": [
        "# le asignamos un % a cada persona que vive en el hogar según género y edad, en la variable 'AE_ctrol_ind'\n",
        "\n",
        "condiciones = [\n",
        "    (df_individual ['CH04'] >= 1) & (df_individual['CH06'] < 1),\n",
        "    (df_individual['CH04'] >= 1) & (df_individual['CH06'] == 1),\n",
        "    (df_individual['CH04'] >= 1) & (df_individual['CH06'] == 2),\n",
        "    (df_individual['CH04'] >= 1) & (df_individual['CH06'] == 3),\n",
        "    (df_individual['CH04'] >= 1) & (df_individual['CH06'] == 4),\n",
        "    (df_individual['CH04'] >= 1 ) & ( df_individual['CH06'] == 5),\n",
        "    (df_individual['CH04'] >= 1) & (df_individual['CH06'] == 6),\n",
        "    (df_individual['CH04'] >= 1) & (df_individual['CH06'] == 7),\n",
        "    (df_individual['CH04'] >= 1) & (df_individual['CH06'] == 8),\n",
        "    (df_individual['CH04'] >= 1) & (df_individual['CH06'] == 9),\n",
        "    (df_individual['CH04'] == 2) & (df_individual['CH06'] == 10),\n",
        "    (df_individual['CH04'] == 2) & (df_individual['CH06'] == 11),\n",
        "    (df_individual['CH04'] == 2) & (df_individual['CH06'] == 12),\n",
        "    (df_individual['CH04'] == 2) & (df_individual['CH06'] >= 13) & (df_individual['CH06'] <=14),\n",
        "    (df_individual['CH04'] == 2) & (df_individual['CH06'] >= 15) & (df_individual['CH06'] <=17),\n",
        "    (df_individual['CH04'] == 2) & (df_individual['CH06'] >= 18) & (df_individual['CH06'] <=29),\n",
        "    (df_individual['CH04'] == 2) & (df_individual['CH06'] >= 30) & (df_individual['CH06'] <=45),\n",
        "    (df_individual['CH04'] == 2) & (df_individual['CH06'] >= 46) & (df_individual['CH06'] <=60),\n",
        "    (df_individual['CH04'] == 2) & (df_individual['CH06'] >= 61) & (df_individual['CH06'] <=75),\n",
        "    (df_individual['CH04'] == 2) & (df_individual['CH06'] > 75),\n",
        "    (df_individual['CH04'] == 1) & (df_individual['CH06'] ==10),\n",
        "    (df_individual['CH04'] == 1) & (df_individual['CH06'] ==11),\n",
        "    (df_individual['CH04'] == 1) & (df_individual['CH06'] ==12),\n",
        "    (df_individual['CH04'] == 1) & (df_individual['CH06'] ==13),\n",
        "    (df_individual['CH04'] == 1) & (df_individual['CH06'] ==14),\n",
        "    (df_individual['CH04'] == 1) & (df_individual['CH06'] ==15),\n",
        "    (df_individual['CH04'] == 1) & (df_individual['CH06'] ==16),\n",
        "    (df_individual['CH04'] == 1) & (df_individual['CH06'] ==17),\n",
        "    (df_individual['CH04'] == 1) & (df_individual['CH06'] >= 18) & (df_individual['CH06'] <=29),\n",
        "    (df_individual['CH04'] == 1) & (df_individual['CH06'] >= 30) & (df_individual['CH06'] <=45),\n",
        "    (df_individual['CH04'] == 1) & (df_individual['CH06'] >= 46) & (df_individual['CH06'] <=60),\n",
        "    (df_individual['CH04'] == 1) & (df_individual['CH06'] >= 61) & (df_individual['CH06'] <=75),\n",
        "    (df_individual['CH04'] == 1) & (df_individual['CH06'] > 75)\n",
        "    ]\n",
        "\n",
        "opciones = [0.35,0.37,0.46,0.51,0.55,0.60,0.64,0.66,0.68,0.69,0.70,0.72,0.74,0.76,0.77,0.76,0.77,0.76,0.67,0.63,0.79,0.82,0.85,0.90,\n",
        "            0.96,1.00,1.03,1.04,1.02,1.00,1.00,0.83,0.74]\n",
        "\n"
      ]
    },
    {
      "cell_type": "code",
      "execution_count": null,
      "metadata": {
        "id": "JWTr4G0ZNu8I"
      },
      "outputs": [],
      "source": [
        "df_individual['AE_ctrol_ind']=np.select(condiciones,opciones)"
      ]
    },
    {
      "cell_type": "code",
      "execution_count": null,
      "metadata": {
        "colab": {
          "base_uri": "https://localhost:8080/",
          "height": 473
        },
        "id": "iAI_PMJgOAxO",
        "outputId": "957703cd-94fc-4e0b-c205-cf1de2227da3"
      },
      "outputs": [
        {
          "output_type": "execute_result",
          "data": {
            "text/plain": [
              "                          CODUSU  ANO4  TRIMESTRE  NRO_HOGAR  COMPONENTE  H15  \\\n",
              "0  TQRMNOPPQHMOLPCDEGNFJ00714305  2021          4          1           4    1   \n",
              "1  TQRMNOQPYHKMPUCDEIJAH00663642  2021          4          1           1    1   \n",
              "2  TQRMNOQPYHKMPUCDEIJAH00663642  2021          4          1           2    1   \n",
              "3  TQRMNOQYRHMOQRCDEIJAH00718661  2021          4          1           1    1   \n",
              "4  TQRMNOPSTHMMLPCDEFMDB00713515  2021          4          1           2    1   \n",
              "\n",
              "   REGION MAS_500  AGLOMERADO  PONDERA  CH03  CH04                 CH05  CH06  \\\n",
              "0      44       N          17      309     3     1  2008-02-14 00:00:00    13   \n",
              "1       1       S          33     1573     1     1  1942-07-07 00:00:00    79   \n",
              "2       1       S          33     1573     2     2  1942-02-05 00:00:00    79   \n",
              "3       1       S          33     2635     1     1  1900-01-01 00:00:00    48   \n",
              "4      43       N           6       87     2     2  1900-01-01 00:00:00    65   \n",
              "\n",
              "   CH07  CH08  CH09  CH10  CH11  CH12  CH13  CH14  CH15  CH15_COD  CH16  \\\n",
              "0     5     1     1     1     1     4     2   0.0     1       NaN     1   \n",
              "1     2     1     1     2     0     2     1   NaN     3      90.0     1   \n",
              "2     2     1     1     2     0     4     2   3.0     3      22.0     1   \n",
              "3     2     1     1     2     0     4     1   NaN     1       NaN     1   \n",
              "4     2     1     1     2     0     4     1   NaN     1       NaN     1   \n",
              "\n",
              "   CH16_COD  NIVEL_ED  ESTADO  CAT_OCUP  CAT_INAC  IMPUTA  PP02C1  PP02C2  \\\n",
              "0       NaN         3       3         0         3     NaN       0       0   \n",
              "1       NaN         2       3         0         1     NaN       0       0   \n",
              "2       NaN         3       3         0         1     NaN       0       0   \n",
              "3       NaN         4       1         3         0     NaN       0       0   \n",
              "4       NaN         4       3         0         1     NaN       0       0   \n",
              "\n",
              "   PP02C3  PP02C4  PP02C5  PP02C6  PP02C7  PP02C8  PP02E  ...  ADECOCUR  \\\n",
              "0       0       0       0       0       0       0      0  ...         0   \n",
              "1       0       0       0       0       0       0      0  ...         0   \n",
              "2       0       0       0       0       0       0      0  ...         0   \n",
              "3       0       0       0       0       0       0      0  ...        12   \n",
              "4       0       0       0       0       0       0      0  ...         0   \n",
              "\n",
              "   PONDIIO  TOT_P12     P47T  DECINDR  IDECINDR  RDECINDR  GDECINDR  PDECINDR  \\\n",
              "0      309        0      0.0        0       0.0         0       NaN       0.0   \n",
              "1     1573        0  35000.0        5       NaN         4       5.0       NaN   \n",
              "2     1573        0  29000.0        4       NaN         4       4.0       NaN   \n",
              "3        0        0     -9.0       12       NaN        12      12.0       NaN   \n",
              "4       87        0  26000.0        4       4.0         4       NaN       4.0   \n",
              "\n",
              "   ADECINDR  PONDII   V2_M  V3_M  V4_M  V5_M  V8_M  V9_M  V10_M  V11_M  V12_M  \\\n",
              "0         0     309      0     0     0     0     0     0      0      0      0   \n",
              "1         5    1954  35000     0     0     0     0     0      0      0      0   \n",
              "2         4    1960  29000     0     0     0     0     0      0      0      0   \n",
              "3        12       0      0     0     0  4000     0     0      0      0      0   \n",
              "4         3     106  26000     0     0     0     0     0      0      0      0   \n",
              "\n",
              "   V18_M  V19_AM  V21_M   T_VI     ITF  DECIFR  IDECIFR  RDECIFR  GDECIFR  \\\n",
              "0      0       0      0      0  134000       8      9.0        7      NaN   \n",
              "1      0       0      0  35000   64000       4      NaN        4      4.0   \n",
              "2      0       0      0  29000   64000       4      NaN        4      4.0   \n",
              "3      0       0      0   4000       0      12      NaN       12     12.0   \n",
              "4      0       0      0  26000   86000       6      7.0        7      NaN   \n",
              "\n",
              "   PDECIFR  ADECIFR     IPCF  DECCFR  IDECCFR  RDECCFR  GDECCFR  PDECCFR  \\\n",
              "0      9.0        7  33500.0       6      7.0        5      NaN      7.0   \n",
              "1      NaN        4  32000.0       6      NaN        6      6.0      NaN   \n",
              "2      NaN        4  32000.0       6      NaN        6      6.0      NaN   \n",
              "3      NaN       12      0.0      12      NaN       12     12.0      NaN   \n",
              "4      7.0        7  43000.0       7      8.0        8      NaN      8.0   \n",
              "\n",
              "   ADECCFR  PONDIH  AE_ctrol_ind  \n",
              "0        5     411          0.90  \n",
              "1        6    2285          0.74  \n",
              "2        6    2285          0.63  \n",
              "3       12       0          1.00  \n",
              "4        8     129          0.67  \n",
              "\n",
              "[5 rows x 178 columns]"
            ],
            "text/html": [
              "\n",
              "  <div id=\"df-156e6ebd-7542-4e3a-8e10-5d6fa08c13fa\">\n",
              "    <div class=\"colab-df-container\">\n",
              "      <div>\n",
              "<style scoped>\n",
              "    .dataframe tbody tr th:only-of-type {\n",
              "        vertical-align: middle;\n",
              "    }\n",
              "\n",
              "    .dataframe tbody tr th {\n",
              "        vertical-align: top;\n",
              "    }\n",
              "\n",
              "    .dataframe thead th {\n",
              "        text-align: right;\n",
              "    }\n",
              "</style>\n",
              "<table border=\"1\" class=\"dataframe\">\n",
              "  <thead>\n",
              "    <tr style=\"text-align: right;\">\n",
              "      <th></th>\n",
              "      <th>CODUSU</th>\n",
              "      <th>ANO4</th>\n",
              "      <th>TRIMESTRE</th>\n",
              "      <th>NRO_HOGAR</th>\n",
              "      <th>COMPONENTE</th>\n",
              "      <th>H15</th>\n",
              "      <th>REGION</th>\n",
              "      <th>MAS_500</th>\n",
              "      <th>AGLOMERADO</th>\n",
              "      <th>PONDERA</th>\n",
              "      <th>CH03</th>\n",
              "      <th>CH04</th>\n",
              "      <th>CH05</th>\n",
              "      <th>CH06</th>\n",
              "      <th>CH07</th>\n",
              "      <th>CH08</th>\n",
              "      <th>CH09</th>\n",
              "      <th>CH10</th>\n",
              "      <th>CH11</th>\n",
              "      <th>CH12</th>\n",
              "      <th>CH13</th>\n",
              "      <th>CH14</th>\n",
              "      <th>CH15</th>\n",
              "      <th>CH15_COD</th>\n",
              "      <th>CH16</th>\n",
              "      <th>CH16_COD</th>\n",
              "      <th>NIVEL_ED</th>\n",
              "      <th>ESTADO</th>\n",
              "      <th>CAT_OCUP</th>\n",
              "      <th>CAT_INAC</th>\n",
              "      <th>IMPUTA</th>\n",
              "      <th>PP02C1</th>\n",
              "      <th>PP02C2</th>\n",
              "      <th>PP02C3</th>\n",
              "      <th>PP02C4</th>\n",
              "      <th>PP02C5</th>\n",
              "      <th>PP02C6</th>\n",
              "      <th>PP02C7</th>\n",
              "      <th>PP02C8</th>\n",
              "      <th>PP02E</th>\n",
              "      <th>...</th>\n",
              "      <th>ADECOCUR</th>\n",
              "      <th>PONDIIO</th>\n",
              "      <th>TOT_P12</th>\n",
              "      <th>P47T</th>\n",
              "      <th>DECINDR</th>\n",
              "      <th>IDECINDR</th>\n",
              "      <th>RDECINDR</th>\n",
              "      <th>GDECINDR</th>\n",
              "      <th>PDECINDR</th>\n",
              "      <th>ADECINDR</th>\n",
              "      <th>PONDII</th>\n",
              "      <th>V2_M</th>\n",
              "      <th>V3_M</th>\n",
              "      <th>V4_M</th>\n",
              "      <th>V5_M</th>\n",
              "      <th>V8_M</th>\n",
              "      <th>V9_M</th>\n",
              "      <th>V10_M</th>\n",
              "      <th>V11_M</th>\n",
              "      <th>V12_M</th>\n",
              "      <th>V18_M</th>\n",
              "      <th>V19_AM</th>\n",
              "      <th>V21_M</th>\n",
              "      <th>T_VI</th>\n",
              "      <th>ITF</th>\n",
              "      <th>DECIFR</th>\n",
              "      <th>IDECIFR</th>\n",
              "      <th>RDECIFR</th>\n",
              "      <th>GDECIFR</th>\n",
              "      <th>PDECIFR</th>\n",
              "      <th>ADECIFR</th>\n",
              "      <th>IPCF</th>\n",
              "      <th>DECCFR</th>\n",
              "      <th>IDECCFR</th>\n",
              "      <th>RDECCFR</th>\n",
              "      <th>GDECCFR</th>\n",
              "      <th>PDECCFR</th>\n",
              "      <th>ADECCFR</th>\n",
              "      <th>PONDIH</th>\n",
              "      <th>AE_ctrol_ind</th>\n",
              "    </tr>\n",
              "  </thead>\n",
              "  <tbody>\n",
              "    <tr>\n",
              "      <th>0</th>\n",
              "      <td>TQRMNOPPQHMOLPCDEGNFJ00714305</td>\n",
              "      <td>2021</td>\n",
              "      <td>4</td>\n",
              "      <td>1</td>\n",
              "      <td>4</td>\n",
              "      <td>1</td>\n",
              "      <td>44</td>\n",
              "      <td>N</td>\n",
              "      <td>17</td>\n",
              "      <td>309</td>\n",
              "      <td>3</td>\n",
              "      <td>1</td>\n",
              "      <td>2008-02-14 00:00:00</td>\n",
              "      <td>13</td>\n",
              "      <td>5</td>\n",
              "      <td>1</td>\n",
              "      <td>1</td>\n",
              "      <td>1</td>\n",
              "      <td>1</td>\n",
              "      <td>4</td>\n",
              "      <td>2</td>\n",
              "      <td>0.0</td>\n",
              "      <td>1</td>\n",
              "      <td>NaN</td>\n",
              "      <td>1</td>\n",
              "      <td>NaN</td>\n",
              "      <td>3</td>\n",
              "      <td>3</td>\n",
              "      <td>0</td>\n",
              "      <td>3</td>\n",
              "      <td>NaN</td>\n",
              "      <td>0</td>\n",
              "      <td>0</td>\n",
              "      <td>0</td>\n",
              "      <td>0</td>\n",
              "      <td>0</td>\n",
              "      <td>0</td>\n",
              "      <td>0</td>\n",
              "      <td>0</td>\n",
              "      <td>0</td>\n",
              "      <td>...</td>\n",
              "      <td>0</td>\n",
              "      <td>309</td>\n",
              "      <td>0</td>\n",
              "      <td>0.0</td>\n",
              "      <td>0</td>\n",
              "      <td>0.0</td>\n",
              "      <td>0</td>\n",
              "      <td>NaN</td>\n",
              "      <td>0.0</td>\n",
              "      <td>0</td>\n",
              "      <td>309</td>\n",
              "      <td>0</td>\n",
              "      <td>0</td>\n",
              "      <td>0</td>\n",
              "      <td>0</td>\n",
              "      <td>0</td>\n",
              "      <td>0</td>\n",
              "      <td>0</td>\n",
              "      <td>0</td>\n",
              "      <td>0</td>\n",
              "      <td>0</td>\n",
              "      <td>0</td>\n",
              "      <td>0</td>\n",
              "      <td>0</td>\n",
              "      <td>134000</td>\n",
              "      <td>8</td>\n",
              "      <td>9.0</td>\n",
              "      <td>7</td>\n",
              "      <td>NaN</td>\n",
              "      <td>9.0</td>\n",
              "      <td>7</td>\n",
              "      <td>33500.0</td>\n",
              "      <td>6</td>\n",
              "      <td>7.0</td>\n",
              "      <td>5</td>\n",
              "      <td>NaN</td>\n",
              "      <td>7.0</td>\n",
              "      <td>5</td>\n",
              "      <td>411</td>\n",
              "      <td>0.90</td>\n",
              "    </tr>\n",
              "    <tr>\n",
              "      <th>1</th>\n",
              "      <td>TQRMNOQPYHKMPUCDEIJAH00663642</td>\n",
              "      <td>2021</td>\n",
              "      <td>4</td>\n",
              "      <td>1</td>\n",
              "      <td>1</td>\n",
              "      <td>1</td>\n",
              "      <td>1</td>\n",
              "      <td>S</td>\n",
              "      <td>33</td>\n",
              "      <td>1573</td>\n",
              "      <td>1</td>\n",
              "      <td>1</td>\n",
              "      <td>1942-07-07 00:00:00</td>\n",
              "      <td>79</td>\n",
              "      <td>2</td>\n",
              "      <td>1</td>\n",
              "      <td>1</td>\n",
              "      <td>2</td>\n",
              "      <td>0</td>\n",
              "      <td>2</td>\n",
              "      <td>1</td>\n",
              "      <td>NaN</td>\n",
              "      <td>3</td>\n",
              "      <td>90.0</td>\n",
              "      <td>1</td>\n",
              "      <td>NaN</td>\n",
              "      <td>2</td>\n",
              "      <td>3</td>\n",
              "      <td>0</td>\n",
              "      <td>1</td>\n",
              "      <td>NaN</td>\n",
              "      <td>0</td>\n",
              "      <td>0</td>\n",
              "      <td>0</td>\n",
              "      <td>0</td>\n",
              "      <td>0</td>\n",
              "      <td>0</td>\n",
              "      <td>0</td>\n",
              "      <td>0</td>\n",
              "      <td>0</td>\n",
              "      <td>...</td>\n",
              "      <td>0</td>\n",
              "      <td>1573</td>\n",
              "      <td>0</td>\n",
              "      <td>35000.0</td>\n",
              "      <td>5</td>\n",
              "      <td>NaN</td>\n",
              "      <td>4</td>\n",
              "      <td>5.0</td>\n",
              "      <td>NaN</td>\n",
              "      <td>5</td>\n",
              "      <td>1954</td>\n",
              "      <td>35000</td>\n",
              "      <td>0</td>\n",
              "      <td>0</td>\n",
              "      <td>0</td>\n",
              "      <td>0</td>\n",
              "      <td>0</td>\n",
              "      <td>0</td>\n",
              "      <td>0</td>\n",
              "      <td>0</td>\n",
              "      <td>0</td>\n",
              "      <td>0</td>\n",
              "      <td>0</td>\n",
              "      <td>35000</td>\n",
              "      <td>64000</td>\n",
              "      <td>4</td>\n",
              "      <td>NaN</td>\n",
              "      <td>4</td>\n",
              "      <td>4.0</td>\n",
              "      <td>NaN</td>\n",
              "      <td>4</td>\n",
              "      <td>32000.0</td>\n",
              "      <td>6</td>\n",
              "      <td>NaN</td>\n",
              "      <td>6</td>\n",
              "      <td>6.0</td>\n",
              "      <td>NaN</td>\n",
              "      <td>6</td>\n",
              "      <td>2285</td>\n",
              "      <td>0.74</td>\n",
              "    </tr>\n",
              "    <tr>\n",
              "      <th>2</th>\n",
              "      <td>TQRMNOQPYHKMPUCDEIJAH00663642</td>\n",
              "      <td>2021</td>\n",
              "      <td>4</td>\n",
              "      <td>1</td>\n",
              "      <td>2</td>\n",
              "      <td>1</td>\n",
              "      <td>1</td>\n",
              "      <td>S</td>\n",
              "      <td>33</td>\n",
              "      <td>1573</td>\n",
              "      <td>2</td>\n",
              "      <td>2</td>\n",
              "      <td>1942-02-05 00:00:00</td>\n",
              "      <td>79</td>\n",
              "      <td>2</td>\n",
              "      <td>1</td>\n",
              "      <td>1</td>\n",
              "      <td>2</td>\n",
              "      <td>0</td>\n",
              "      <td>4</td>\n",
              "      <td>2</td>\n",
              "      <td>3.0</td>\n",
              "      <td>3</td>\n",
              "      <td>22.0</td>\n",
              "      <td>1</td>\n",
              "      <td>NaN</td>\n",
              "      <td>3</td>\n",
              "      <td>3</td>\n",
              "      <td>0</td>\n",
              "      <td>1</td>\n",
              "      <td>NaN</td>\n",
              "      <td>0</td>\n",
              "      <td>0</td>\n",
              "      <td>0</td>\n",
              "      <td>0</td>\n",
              "      <td>0</td>\n",
              "      <td>0</td>\n",
              "      <td>0</td>\n",
              "      <td>0</td>\n",
              "      <td>0</td>\n",
              "      <td>...</td>\n",
              "      <td>0</td>\n",
              "      <td>1573</td>\n",
              "      <td>0</td>\n",
              "      <td>29000.0</td>\n",
              "      <td>4</td>\n",
              "      <td>NaN</td>\n",
              "      <td>4</td>\n",
              "      <td>4.0</td>\n",
              "      <td>NaN</td>\n",
              "      <td>4</td>\n",
              "      <td>1960</td>\n",
              "      <td>29000</td>\n",
              "      <td>0</td>\n",
              "      <td>0</td>\n",
              "      <td>0</td>\n",
              "      <td>0</td>\n",
              "      <td>0</td>\n",
              "      <td>0</td>\n",
              "      <td>0</td>\n",
              "      <td>0</td>\n",
              "      <td>0</td>\n",
              "      <td>0</td>\n",
              "      <td>0</td>\n",
              "      <td>29000</td>\n",
              "      <td>64000</td>\n",
              "      <td>4</td>\n",
              "      <td>NaN</td>\n",
              "      <td>4</td>\n",
              "      <td>4.0</td>\n",
              "      <td>NaN</td>\n",
              "      <td>4</td>\n",
              "      <td>32000.0</td>\n",
              "      <td>6</td>\n",
              "      <td>NaN</td>\n",
              "      <td>6</td>\n",
              "      <td>6.0</td>\n",
              "      <td>NaN</td>\n",
              "      <td>6</td>\n",
              "      <td>2285</td>\n",
              "      <td>0.63</td>\n",
              "    </tr>\n",
              "    <tr>\n",
              "      <th>3</th>\n",
              "      <td>TQRMNOQYRHMOQRCDEIJAH00718661</td>\n",
              "      <td>2021</td>\n",
              "      <td>4</td>\n",
              "      <td>1</td>\n",
              "      <td>1</td>\n",
              "      <td>1</td>\n",
              "      <td>1</td>\n",
              "      <td>S</td>\n",
              "      <td>33</td>\n",
              "      <td>2635</td>\n",
              "      <td>1</td>\n",
              "      <td>1</td>\n",
              "      <td>1900-01-01 00:00:00</td>\n",
              "      <td>48</td>\n",
              "      <td>2</td>\n",
              "      <td>1</td>\n",
              "      <td>1</td>\n",
              "      <td>2</td>\n",
              "      <td>0</td>\n",
              "      <td>4</td>\n",
              "      <td>1</td>\n",
              "      <td>NaN</td>\n",
              "      <td>1</td>\n",
              "      <td>NaN</td>\n",
              "      <td>1</td>\n",
              "      <td>NaN</td>\n",
              "      <td>4</td>\n",
              "      <td>1</td>\n",
              "      <td>3</td>\n",
              "      <td>0</td>\n",
              "      <td>NaN</td>\n",
              "      <td>0</td>\n",
              "      <td>0</td>\n",
              "      <td>0</td>\n",
              "      <td>0</td>\n",
              "      <td>0</td>\n",
              "      <td>0</td>\n",
              "      <td>0</td>\n",
              "      <td>0</td>\n",
              "      <td>0</td>\n",
              "      <td>...</td>\n",
              "      <td>12</td>\n",
              "      <td>0</td>\n",
              "      <td>0</td>\n",
              "      <td>-9.0</td>\n",
              "      <td>12</td>\n",
              "      <td>NaN</td>\n",
              "      <td>12</td>\n",
              "      <td>12.0</td>\n",
              "      <td>NaN</td>\n",
              "      <td>12</td>\n",
              "      <td>0</td>\n",
              "      <td>0</td>\n",
              "      <td>0</td>\n",
              "      <td>0</td>\n",
              "      <td>4000</td>\n",
              "      <td>0</td>\n",
              "      <td>0</td>\n",
              "      <td>0</td>\n",
              "      <td>0</td>\n",
              "      <td>0</td>\n",
              "      <td>0</td>\n",
              "      <td>0</td>\n",
              "      <td>0</td>\n",
              "      <td>4000</td>\n",
              "      <td>0</td>\n",
              "      <td>12</td>\n",
              "      <td>NaN</td>\n",
              "      <td>12</td>\n",
              "      <td>12.0</td>\n",
              "      <td>NaN</td>\n",
              "      <td>12</td>\n",
              "      <td>0.0</td>\n",
              "      <td>12</td>\n",
              "      <td>NaN</td>\n",
              "      <td>12</td>\n",
              "      <td>12.0</td>\n",
              "      <td>NaN</td>\n",
              "      <td>12</td>\n",
              "      <td>0</td>\n",
              "      <td>1.00</td>\n",
              "    </tr>\n",
              "    <tr>\n",
              "      <th>4</th>\n",
              "      <td>TQRMNOPSTHMMLPCDEFMDB00713515</td>\n",
              "      <td>2021</td>\n",
              "      <td>4</td>\n",
              "      <td>1</td>\n",
              "      <td>2</td>\n",
              "      <td>1</td>\n",
              "      <td>43</td>\n",
              "      <td>N</td>\n",
              "      <td>6</td>\n",
              "      <td>87</td>\n",
              "      <td>2</td>\n",
              "      <td>2</td>\n",
              "      <td>1900-01-01 00:00:00</td>\n",
              "      <td>65</td>\n",
              "      <td>2</td>\n",
              "      <td>1</td>\n",
              "      <td>1</td>\n",
              "      <td>2</td>\n",
              "      <td>0</td>\n",
              "      <td>4</td>\n",
              "      <td>1</td>\n",
              "      <td>NaN</td>\n",
              "      <td>1</td>\n",
              "      <td>NaN</td>\n",
              "      <td>1</td>\n",
              "      <td>NaN</td>\n",
              "      <td>4</td>\n",
              "      <td>3</td>\n",
              "      <td>0</td>\n",
              "      <td>1</td>\n",
              "      <td>NaN</td>\n",
              "      <td>0</td>\n",
              "      <td>0</td>\n",
              "      <td>0</td>\n",
              "      <td>0</td>\n",
              "      <td>0</td>\n",
              "      <td>0</td>\n",
              "      <td>0</td>\n",
              "      <td>0</td>\n",
              "      <td>0</td>\n",
              "      <td>...</td>\n",
              "      <td>0</td>\n",
              "      <td>87</td>\n",
              "      <td>0</td>\n",
              "      <td>26000.0</td>\n",
              "      <td>4</td>\n",
              "      <td>4.0</td>\n",
              "      <td>4</td>\n",
              "      <td>NaN</td>\n",
              "      <td>4.0</td>\n",
              "      <td>3</td>\n",
              "      <td>106</td>\n",
              "      <td>26000</td>\n",
              "      <td>0</td>\n",
              "      <td>0</td>\n",
              "      <td>0</td>\n",
              "      <td>0</td>\n",
              "      <td>0</td>\n",
              "      <td>0</td>\n",
              "      <td>0</td>\n",
              "      <td>0</td>\n",
              "      <td>0</td>\n",
              "      <td>0</td>\n",
              "      <td>0</td>\n",
              "      <td>26000</td>\n",
              "      <td>86000</td>\n",
              "      <td>6</td>\n",
              "      <td>7.0</td>\n",
              "      <td>7</td>\n",
              "      <td>NaN</td>\n",
              "      <td>7.0</td>\n",
              "      <td>7</td>\n",
              "      <td>43000.0</td>\n",
              "      <td>7</td>\n",
              "      <td>8.0</td>\n",
              "      <td>8</td>\n",
              "      <td>NaN</td>\n",
              "      <td>8.0</td>\n",
              "      <td>8</td>\n",
              "      <td>129</td>\n",
              "      <td>0.67</td>\n",
              "    </tr>\n",
              "  </tbody>\n",
              "</table>\n",
              "<p>5 rows × 178 columns</p>\n",
              "</div>\n",
              "      <button class=\"colab-df-convert\" onclick=\"convertToInteractive('df-156e6ebd-7542-4e3a-8e10-5d6fa08c13fa')\"\n",
              "              title=\"Convert this dataframe to an interactive table.\"\n",
              "              style=\"display:none;\">\n",
              "        \n",
              "  <svg xmlns=\"http://www.w3.org/2000/svg\" height=\"24px\"viewBox=\"0 0 24 24\"\n",
              "       width=\"24px\">\n",
              "    <path d=\"M0 0h24v24H0V0z\" fill=\"none\"/>\n",
              "    <path d=\"M18.56 5.44l.94 2.06.94-2.06 2.06-.94-2.06-.94-.94-2.06-.94 2.06-2.06.94zm-11 1L8.5 8.5l.94-2.06 2.06-.94-2.06-.94L8.5 2.5l-.94 2.06-2.06.94zm10 10l.94 2.06.94-2.06 2.06-.94-2.06-.94-.94-2.06-.94 2.06-2.06.94z\"/><path d=\"M17.41 7.96l-1.37-1.37c-.4-.4-.92-.59-1.43-.59-.52 0-1.04.2-1.43.59L10.3 9.45l-7.72 7.72c-.78.78-.78 2.05 0 2.83L4 21.41c.39.39.9.59 1.41.59.51 0 1.02-.2 1.41-.59l7.78-7.78 2.81-2.81c.8-.78.8-2.07 0-2.86zM5.41 20L4 18.59l7.72-7.72 1.47 1.35L5.41 20z\"/>\n",
              "  </svg>\n",
              "      </button>\n",
              "      \n",
              "  <style>\n",
              "    .colab-df-container {\n",
              "      display:flex;\n",
              "      flex-wrap:wrap;\n",
              "      gap: 12px;\n",
              "    }\n",
              "\n",
              "    .colab-df-convert {\n",
              "      background-color: #E8F0FE;\n",
              "      border: none;\n",
              "      border-radius: 50%;\n",
              "      cursor: pointer;\n",
              "      display: none;\n",
              "      fill: #1967D2;\n",
              "      height: 32px;\n",
              "      padding: 0 0 0 0;\n",
              "      width: 32px;\n",
              "    }\n",
              "\n",
              "    .colab-df-convert:hover {\n",
              "      background-color: #E2EBFA;\n",
              "      box-shadow: 0px 1px 2px rgba(60, 64, 67, 0.3), 0px 1px 3px 1px rgba(60, 64, 67, 0.15);\n",
              "      fill: #174EA6;\n",
              "    }\n",
              "\n",
              "    [theme=dark] .colab-df-convert {\n",
              "      background-color: #3B4455;\n",
              "      fill: #D2E3FC;\n",
              "    }\n",
              "\n",
              "    [theme=dark] .colab-df-convert:hover {\n",
              "      background-color: #434B5C;\n",
              "      box-shadow: 0px 1px 3px 1px rgba(0, 0, 0, 0.15);\n",
              "      filter: drop-shadow(0px 1px 2px rgba(0, 0, 0, 0.3));\n",
              "      fill: #FFFFFF;\n",
              "    }\n",
              "  </style>\n",
              "\n",
              "      <script>\n",
              "        const buttonEl =\n",
              "          document.querySelector('#df-156e6ebd-7542-4e3a-8e10-5d6fa08c13fa button.colab-df-convert');\n",
              "        buttonEl.style.display =\n",
              "          google.colab.kernel.accessAllowed ? 'block' : 'none';\n",
              "\n",
              "        async function convertToInteractive(key) {\n",
              "          const element = document.querySelector('#df-156e6ebd-7542-4e3a-8e10-5d6fa08c13fa');\n",
              "          const dataTable =\n",
              "            await google.colab.kernel.invokeFunction('convertToInteractive',\n",
              "                                                     [key], {});\n",
              "          if (!dataTable) return;\n",
              "\n",
              "          const docLinkHtml = 'Like what you see? Visit the ' +\n",
              "            '<a target=\"_blank\" href=https://colab.research.google.com/notebooks/data_table.ipynb>data table notebook</a>'\n",
              "            + ' to learn more about interactive tables.';\n",
              "          element.innerHTML = '';\n",
              "          dataTable['output_type'] = 'display_data';\n",
              "          await google.colab.output.renderOutput(dataTable, element);\n",
              "          const docLink = document.createElement('div');\n",
              "          docLink.innerHTML = docLinkHtml;\n",
              "          element.appendChild(docLink);\n",
              "        }\n",
              "      </script>\n",
              "    </div>\n",
              "  </div>\n",
              "  "
            ]
          },
          "metadata": {},
          "execution_count": 61
        }
      ],
      "source": [
        "df_individual.head()"
      ]
    },
    {
      "cell_type": "code",
      "execution_count": null,
      "metadata": {
        "id": "8o9uLIkDT3Ki"
      },
      "outputs": [],
      "source": [
        "#seleccionamos solo las columnas que nos interesan para este estudio (ver archivo \"EPH_registro_4T2021.pdf\")\n",
        "\n",
        "df_personas = df_individual[['CODUSU','NRO_HOGAR','CH03','CH04','CH06','CH08','NIVEL_ED','CAT_OCUP','CAT_INAC','AE_ctrol_ind']]"
      ]
    },
    {
      "cell_type": "code",
      "execution_count": null,
      "metadata": {
        "colab": {
          "base_uri": "https://localhost:8080/",
          "height": 206
        },
        "id": "qHs7-uGldkz0",
        "outputId": "6724b908-6a81-4e28-fac6-a31e93d16cbc"
      },
      "outputs": [
        {
          "output_type": "execute_result",
          "data": {
            "text/plain": [
              "                          CODUSU  NRO_HOGAR  CH03  CH04  CH06  CH08  NIVEL_ED  \\\n",
              "0  TQRMNOPPQHMOLPCDEGNFJ00714305          1     3     1    13     1         3   \n",
              "1  TQRMNOQPYHKMPUCDEIJAH00663642          1     1     1    79     1         2   \n",
              "2  TQRMNOQPYHKMPUCDEIJAH00663642          1     2     2    79     1         3   \n",
              "3  TQRMNOQYRHMOQRCDEIJAH00718661          1     1     1    48     1         4   \n",
              "4  TQRMNOPSTHMMLPCDEFMDB00713515          1     2     2    65     1         4   \n",
              "\n",
              "   CAT_OCUP  CAT_INAC  AE_ctrol_ind  \n",
              "0         0         3          0.90  \n",
              "1         0         1          0.74  \n",
              "2         0         1          0.63  \n",
              "3         3         0          1.00  \n",
              "4         0         1          0.67  "
            ],
            "text/html": [
              "\n",
              "  <div id=\"df-20f2da08-6868-4f2d-9369-bb48c95d3ff3\">\n",
              "    <div class=\"colab-df-container\">\n",
              "      <div>\n",
              "<style scoped>\n",
              "    .dataframe tbody tr th:only-of-type {\n",
              "        vertical-align: middle;\n",
              "    }\n",
              "\n",
              "    .dataframe tbody tr th {\n",
              "        vertical-align: top;\n",
              "    }\n",
              "\n",
              "    .dataframe thead th {\n",
              "        text-align: right;\n",
              "    }\n",
              "</style>\n",
              "<table border=\"1\" class=\"dataframe\">\n",
              "  <thead>\n",
              "    <tr style=\"text-align: right;\">\n",
              "      <th></th>\n",
              "      <th>CODUSU</th>\n",
              "      <th>NRO_HOGAR</th>\n",
              "      <th>CH03</th>\n",
              "      <th>CH04</th>\n",
              "      <th>CH06</th>\n",
              "      <th>CH08</th>\n",
              "      <th>NIVEL_ED</th>\n",
              "      <th>CAT_OCUP</th>\n",
              "      <th>CAT_INAC</th>\n",
              "      <th>AE_ctrol_ind</th>\n",
              "    </tr>\n",
              "  </thead>\n",
              "  <tbody>\n",
              "    <tr>\n",
              "      <th>0</th>\n",
              "      <td>TQRMNOPPQHMOLPCDEGNFJ00714305</td>\n",
              "      <td>1</td>\n",
              "      <td>3</td>\n",
              "      <td>1</td>\n",
              "      <td>13</td>\n",
              "      <td>1</td>\n",
              "      <td>3</td>\n",
              "      <td>0</td>\n",
              "      <td>3</td>\n",
              "      <td>0.90</td>\n",
              "    </tr>\n",
              "    <tr>\n",
              "      <th>1</th>\n",
              "      <td>TQRMNOQPYHKMPUCDEIJAH00663642</td>\n",
              "      <td>1</td>\n",
              "      <td>1</td>\n",
              "      <td>1</td>\n",
              "      <td>79</td>\n",
              "      <td>1</td>\n",
              "      <td>2</td>\n",
              "      <td>0</td>\n",
              "      <td>1</td>\n",
              "      <td>0.74</td>\n",
              "    </tr>\n",
              "    <tr>\n",
              "      <th>2</th>\n",
              "      <td>TQRMNOQPYHKMPUCDEIJAH00663642</td>\n",
              "      <td>1</td>\n",
              "      <td>2</td>\n",
              "      <td>2</td>\n",
              "      <td>79</td>\n",
              "      <td>1</td>\n",
              "      <td>3</td>\n",
              "      <td>0</td>\n",
              "      <td>1</td>\n",
              "      <td>0.63</td>\n",
              "    </tr>\n",
              "    <tr>\n",
              "      <th>3</th>\n",
              "      <td>TQRMNOQYRHMOQRCDEIJAH00718661</td>\n",
              "      <td>1</td>\n",
              "      <td>1</td>\n",
              "      <td>1</td>\n",
              "      <td>48</td>\n",
              "      <td>1</td>\n",
              "      <td>4</td>\n",
              "      <td>3</td>\n",
              "      <td>0</td>\n",
              "      <td>1.00</td>\n",
              "    </tr>\n",
              "    <tr>\n",
              "      <th>4</th>\n",
              "      <td>TQRMNOPSTHMMLPCDEFMDB00713515</td>\n",
              "      <td>1</td>\n",
              "      <td>2</td>\n",
              "      <td>2</td>\n",
              "      <td>65</td>\n",
              "      <td>1</td>\n",
              "      <td>4</td>\n",
              "      <td>0</td>\n",
              "      <td>1</td>\n",
              "      <td>0.67</td>\n",
              "    </tr>\n",
              "  </tbody>\n",
              "</table>\n",
              "</div>\n",
              "      <button class=\"colab-df-convert\" onclick=\"convertToInteractive('df-20f2da08-6868-4f2d-9369-bb48c95d3ff3')\"\n",
              "              title=\"Convert this dataframe to an interactive table.\"\n",
              "              style=\"display:none;\">\n",
              "        \n",
              "  <svg xmlns=\"http://www.w3.org/2000/svg\" height=\"24px\"viewBox=\"0 0 24 24\"\n",
              "       width=\"24px\">\n",
              "    <path d=\"M0 0h24v24H0V0z\" fill=\"none\"/>\n",
              "    <path d=\"M18.56 5.44l.94 2.06.94-2.06 2.06-.94-2.06-.94-.94-2.06-.94 2.06-2.06.94zm-11 1L8.5 8.5l.94-2.06 2.06-.94-2.06-.94L8.5 2.5l-.94 2.06-2.06.94zm10 10l.94 2.06.94-2.06 2.06-.94-2.06-.94-.94-2.06-.94 2.06-2.06.94z\"/><path d=\"M17.41 7.96l-1.37-1.37c-.4-.4-.92-.59-1.43-.59-.52 0-1.04.2-1.43.59L10.3 9.45l-7.72 7.72c-.78.78-.78 2.05 0 2.83L4 21.41c.39.39.9.59 1.41.59.51 0 1.02-.2 1.41-.59l7.78-7.78 2.81-2.81c.8-.78.8-2.07 0-2.86zM5.41 20L4 18.59l7.72-7.72 1.47 1.35L5.41 20z\"/>\n",
              "  </svg>\n",
              "      </button>\n",
              "      \n",
              "  <style>\n",
              "    .colab-df-container {\n",
              "      display:flex;\n",
              "      flex-wrap:wrap;\n",
              "      gap: 12px;\n",
              "    }\n",
              "\n",
              "    .colab-df-convert {\n",
              "      background-color: #E8F0FE;\n",
              "      border: none;\n",
              "      border-radius: 50%;\n",
              "      cursor: pointer;\n",
              "      display: none;\n",
              "      fill: #1967D2;\n",
              "      height: 32px;\n",
              "      padding: 0 0 0 0;\n",
              "      width: 32px;\n",
              "    }\n",
              "\n",
              "    .colab-df-convert:hover {\n",
              "      background-color: #E2EBFA;\n",
              "      box-shadow: 0px 1px 2px rgba(60, 64, 67, 0.3), 0px 1px 3px 1px rgba(60, 64, 67, 0.15);\n",
              "      fill: #174EA6;\n",
              "    }\n",
              "\n",
              "    [theme=dark] .colab-df-convert {\n",
              "      background-color: #3B4455;\n",
              "      fill: #D2E3FC;\n",
              "    }\n",
              "\n",
              "    [theme=dark] .colab-df-convert:hover {\n",
              "      background-color: #434B5C;\n",
              "      box-shadow: 0px 1px 3px 1px rgba(0, 0, 0, 0.15);\n",
              "      filter: drop-shadow(0px 1px 2px rgba(0, 0, 0, 0.3));\n",
              "      fill: #FFFFFF;\n",
              "    }\n",
              "  </style>\n",
              "\n",
              "      <script>\n",
              "        const buttonEl =\n",
              "          document.querySelector('#df-20f2da08-6868-4f2d-9369-bb48c95d3ff3 button.colab-df-convert');\n",
              "        buttonEl.style.display =\n",
              "          google.colab.kernel.accessAllowed ? 'block' : 'none';\n",
              "\n",
              "        async function convertToInteractive(key) {\n",
              "          const element = document.querySelector('#df-20f2da08-6868-4f2d-9369-bb48c95d3ff3');\n",
              "          const dataTable =\n",
              "            await google.colab.kernel.invokeFunction('convertToInteractive',\n",
              "                                                     [key], {});\n",
              "          if (!dataTable) return;\n",
              "\n",
              "          const docLinkHtml = 'Like what you see? Visit the ' +\n",
              "            '<a target=\"_blank\" href=https://colab.research.google.com/notebooks/data_table.ipynb>data table notebook</a>'\n",
              "            + ' to learn more about interactive tables.';\n",
              "          element.innerHTML = '';\n",
              "          dataTable['output_type'] = 'display_data';\n",
              "          await google.colab.output.renderOutput(dataTable, element);\n",
              "          const docLink = document.createElement('div');\n",
              "          docLink.innerHTML = docLinkHtml;\n",
              "          element.appendChild(docLink);\n",
              "        }\n",
              "      </script>\n",
              "    </div>\n",
              "  </div>\n",
              "  "
            ]
          },
          "metadata": {},
          "execution_count": 63
        }
      ],
      "source": [
        "df_personas.head()"
      ]
    },
    {
      "cell_type": "code",
      "execution_count": null,
      "metadata": {
        "id": "B5sAk0OuNpiW"
      },
      "outputs": [],
      "source": [
        "#sumamos el % de cada persona que compone el hogar (las variables CODUSU y NRO_HOGAR identifican a cada hogar)\n",
        "\n",
        "df_suma = df_personas.groupby(['CODUSU','NRO_HOGAR']).AE_ctrol_ind.sum()"
      ]
    },
    {
      "cell_type": "code",
      "execution_count": null,
      "metadata": {
        "colab": {
          "base_uri": "https://localhost:8080/"
        },
        "id": "D9yT3Op7Nplg",
        "outputId": "fd089cee-6bfd-4d21-e29f-63188bfe8784"
      },
      "outputs": [
        {
          "output_type": "execute_result",
          "data": {
            "text/plain": [
              "CODUSU                         NRO_HOGAR\n",
              "TQRMNOPPQHJLKTCDEGNFJ00699079  1            1.40\n",
              "TQRMNOPPQHJMKMCDEFKID00667054  1            1.77\n",
              "TQRMNOPPQHJMKMCDEOJAH00697751  1            0.63\n",
              "TQRMNOPPQHJMKTCDEHNHB00686535  1            2.19\n",
              "TQRMNOPPQHJMLPCDEFNFF00670213  1            1.52\n",
              "Name: AE_ctrol_ind, dtype: float64"
            ]
          },
          "metadata": {},
          "execution_count": 65
        }
      ],
      "source": [
        "df_suma.head()"
      ]
    },
    {
      "cell_type": "code",
      "execution_count": null,
      "metadata": {
        "colab": {
          "base_uri": "https://localhost:8080/"
        },
        "id": "uKG9mJW_dlAK",
        "outputId": "30a0aa41-c6c4-44eb-ceed-73ff731a7586"
      },
      "outputs": [
        {
          "output_type": "execute_result",
          "data": {
            "text/plain": [
              "(17037,)"
            ]
          },
          "metadata": {},
          "execution_count": 66
        }
      ],
      "source": [
        "df_suma.shape"
      ]
    },
    {
      "cell_type": "code",
      "execution_count": null,
      "metadata": {
        "id": "CVyiMCzAaj0k"
      },
      "outputs": [],
      "source": [
        "#unimos los dos dataframes según las variables CODUSU y NRO_HOGAR\n",
        "\n",
        "df_personas_suma = pd.merge(df_personas, df_suma, on=['CODUSU','NRO_HOGAR'])"
      ]
    },
    {
      "cell_type": "code",
      "execution_count": null,
      "metadata": {
        "colab": {
          "base_uri": "https://localhost:8080/",
          "height": 206
        },
        "id": "P9x7vhRYSghx",
        "outputId": "7b4995ef-2f2f-406c-de75-c1d75e2c2b38"
      },
      "outputs": [
        {
          "output_type": "execute_result",
          "data": {
            "text/plain": [
              "                          CODUSU  NRO_HOGAR  CH03  CH04  CH06  CH08  NIVEL_ED  \\\n",
              "0  TQRMNOPPQHMOLPCDEGNFJ00714305          1     3     1    13     1         3   \n",
              "1  TQRMNOPPQHMOLPCDEGNFJ00714305          1     1     2    37     1         6   \n",
              "2  TQRMNOPPQHMOLPCDEGNFJ00714305          1     2     1    37     1         4   \n",
              "3  TQRMNOPPQHMOLPCDEGNFJ00714305          1     3     2     8     1         1   \n",
              "4  TQRMNOQPYHKMPUCDEIJAH00663642          1     1     1    79     1         2   \n",
              "\n",
              "   CAT_OCUP  CAT_INAC  AE_ctrol_ind_x  AE_ctrol_ind_y  \n",
              "0         0         3            0.90            3.35  \n",
              "1         3         0            0.77            3.35  \n",
              "2         3         0            1.00            3.35  \n",
              "3         0         3            0.68            3.35  \n",
              "4         0         1            0.74            1.37  "
            ],
            "text/html": [
              "\n",
              "  <div id=\"df-e5790941-7b49-4028-9cd1-8b2ef7f05e69\">\n",
              "    <div class=\"colab-df-container\">\n",
              "      <div>\n",
              "<style scoped>\n",
              "    .dataframe tbody tr th:only-of-type {\n",
              "        vertical-align: middle;\n",
              "    }\n",
              "\n",
              "    .dataframe tbody tr th {\n",
              "        vertical-align: top;\n",
              "    }\n",
              "\n",
              "    .dataframe thead th {\n",
              "        text-align: right;\n",
              "    }\n",
              "</style>\n",
              "<table border=\"1\" class=\"dataframe\">\n",
              "  <thead>\n",
              "    <tr style=\"text-align: right;\">\n",
              "      <th></th>\n",
              "      <th>CODUSU</th>\n",
              "      <th>NRO_HOGAR</th>\n",
              "      <th>CH03</th>\n",
              "      <th>CH04</th>\n",
              "      <th>CH06</th>\n",
              "      <th>CH08</th>\n",
              "      <th>NIVEL_ED</th>\n",
              "      <th>CAT_OCUP</th>\n",
              "      <th>CAT_INAC</th>\n",
              "      <th>AE_ctrol_ind_x</th>\n",
              "      <th>AE_ctrol_ind_y</th>\n",
              "    </tr>\n",
              "  </thead>\n",
              "  <tbody>\n",
              "    <tr>\n",
              "      <th>0</th>\n",
              "      <td>TQRMNOPPQHMOLPCDEGNFJ00714305</td>\n",
              "      <td>1</td>\n",
              "      <td>3</td>\n",
              "      <td>1</td>\n",
              "      <td>13</td>\n",
              "      <td>1</td>\n",
              "      <td>3</td>\n",
              "      <td>0</td>\n",
              "      <td>3</td>\n",
              "      <td>0.90</td>\n",
              "      <td>3.35</td>\n",
              "    </tr>\n",
              "    <tr>\n",
              "      <th>1</th>\n",
              "      <td>TQRMNOPPQHMOLPCDEGNFJ00714305</td>\n",
              "      <td>1</td>\n",
              "      <td>1</td>\n",
              "      <td>2</td>\n",
              "      <td>37</td>\n",
              "      <td>1</td>\n",
              "      <td>6</td>\n",
              "      <td>3</td>\n",
              "      <td>0</td>\n",
              "      <td>0.77</td>\n",
              "      <td>3.35</td>\n",
              "    </tr>\n",
              "    <tr>\n",
              "      <th>2</th>\n",
              "      <td>TQRMNOPPQHMOLPCDEGNFJ00714305</td>\n",
              "      <td>1</td>\n",
              "      <td>2</td>\n",
              "      <td>1</td>\n",
              "      <td>37</td>\n",
              "      <td>1</td>\n",
              "      <td>4</td>\n",
              "      <td>3</td>\n",
              "      <td>0</td>\n",
              "      <td>1.00</td>\n",
              "      <td>3.35</td>\n",
              "    </tr>\n",
              "    <tr>\n",
              "      <th>3</th>\n",
              "      <td>TQRMNOPPQHMOLPCDEGNFJ00714305</td>\n",
              "      <td>1</td>\n",
              "      <td>3</td>\n",
              "      <td>2</td>\n",
              "      <td>8</td>\n",
              "      <td>1</td>\n",
              "      <td>1</td>\n",
              "      <td>0</td>\n",
              "      <td>3</td>\n",
              "      <td>0.68</td>\n",
              "      <td>3.35</td>\n",
              "    </tr>\n",
              "    <tr>\n",
              "      <th>4</th>\n",
              "      <td>TQRMNOQPYHKMPUCDEIJAH00663642</td>\n",
              "      <td>1</td>\n",
              "      <td>1</td>\n",
              "      <td>1</td>\n",
              "      <td>79</td>\n",
              "      <td>1</td>\n",
              "      <td>2</td>\n",
              "      <td>0</td>\n",
              "      <td>1</td>\n",
              "      <td>0.74</td>\n",
              "      <td>1.37</td>\n",
              "    </tr>\n",
              "  </tbody>\n",
              "</table>\n",
              "</div>\n",
              "      <button class=\"colab-df-convert\" onclick=\"convertToInteractive('df-e5790941-7b49-4028-9cd1-8b2ef7f05e69')\"\n",
              "              title=\"Convert this dataframe to an interactive table.\"\n",
              "              style=\"display:none;\">\n",
              "        \n",
              "  <svg xmlns=\"http://www.w3.org/2000/svg\" height=\"24px\"viewBox=\"0 0 24 24\"\n",
              "       width=\"24px\">\n",
              "    <path d=\"M0 0h24v24H0V0z\" fill=\"none\"/>\n",
              "    <path d=\"M18.56 5.44l.94 2.06.94-2.06 2.06-.94-2.06-.94-.94-2.06-.94 2.06-2.06.94zm-11 1L8.5 8.5l.94-2.06 2.06-.94-2.06-.94L8.5 2.5l-.94 2.06-2.06.94zm10 10l.94 2.06.94-2.06 2.06-.94-2.06-.94-.94-2.06-.94 2.06-2.06.94z\"/><path d=\"M17.41 7.96l-1.37-1.37c-.4-.4-.92-.59-1.43-.59-.52 0-1.04.2-1.43.59L10.3 9.45l-7.72 7.72c-.78.78-.78 2.05 0 2.83L4 21.41c.39.39.9.59 1.41.59.51 0 1.02-.2 1.41-.59l7.78-7.78 2.81-2.81c.8-.78.8-2.07 0-2.86zM5.41 20L4 18.59l7.72-7.72 1.47 1.35L5.41 20z\"/>\n",
              "  </svg>\n",
              "      </button>\n",
              "      \n",
              "  <style>\n",
              "    .colab-df-container {\n",
              "      display:flex;\n",
              "      flex-wrap:wrap;\n",
              "      gap: 12px;\n",
              "    }\n",
              "\n",
              "    .colab-df-convert {\n",
              "      background-color: #E8F0FE;\n",
              "      border: none;\n",
              "      border-radius: 50%;\n",
              "      cursor: pointer;\n",
              "      display: none;\n",
              "      fill: #1967D2;\n",
              "      height: 32px;\n",
              "      padding: 0 0 0 0;\n",
              "      width: 32px;\n",
              "    }\n",
              "\n",
              "    .colab-df-convert:hover {\n",
              "      background-color: #E2EBFA;\n",
              "      box-shadow: 0px 1px 2px rgba(60, 64, 67, 0.3), 0px 1px 3px 1px rgba(60, 64, 67, 0.15);\n",
              "      fill: #174EA6;\n",
              "    }\n",
              "\n",
              "    [theme=dark] .colab-df-convert {\n",
              "      background-color: #3B4455;\n",
              "      fill: #D2E3FC;\n",
              "    }\n",
              "\n",
              "    [theme=dark] .colab-df-convert:hover {\n",
              "      background-color: #434B5C;\n",
              "      box-shadow: 0px 1px 3px 1px rgba(0, 0, 0, 0.15);\n",
              "      filter: drop-shadow(0px 1px 2px rgba(0, 0, 0, 0.3));\n",
              "      fill: #FFFFFF;\n",
              "    }\n",
              "  </style>\n",
              "\n",
              "      <script>\n",
              "        const buttonEl =\n",
              "          document.querySelector('#df-e5790941-7b49-4028-9cd1-8b2ef7f05e69 button.colab-df-convert');\n",
              "        buttonEl.style.display =\n",
              "          google.colab.kernel.accessAllowed ? 'block' : 'none';\n",
              "\n",
              "        async function convertToInteractive(key) {\n",
              "          const element = document.querySelector('#df-e5790941-7b49-4028-9cd1-8b2ef7f05e69');\n",
              "          const dataTable =\n",
              "            await google.colab.kernel.invokeFunction('convertToInteractive',\n",
              "                                                     [key], {});\n",
              "          if (!dataTable) return;\n",
              "\n",
              "          const docLinkHtml = 'Like what you see? Visit the ' +\n",
              "            '<a target=\"_blank\" href=https://colab.research.google.com/notebooks/data_table.ipynb>data table notebook</a>'\n",
              "            + ' to learn more about interactive tables.';\n",
              "          element.innerHTML = '';\n",
              "          dataTable['output_type'] = 'display_data';\n",
              "          await google.colab.output.renderOutput(dataTable, element);\n",
              "          const docLink = document.createElement('div');\n",
              "          docLink.innerHTML = docLinkHtml;\n",
              "          element.appendChild(docLink);\n",
              "        }\n",
              "      </script>\n",
              "    </div>\n",
              "  </div>\n",
              "  "
            ]
          },
          "metadata": {},
          "execution_count": 68
        }
      ],
      "source": [
        "df_personas_suma.head()"
      ]
    },
    {
      "cell_type": "code",
      "execution_count": null,
      "metadata": {
        "id": "HxvWMCDvUbrB"
      },
      "outputs": [],
      "source": [
        "#renombramos las columnas\n",
        "\n",
        "df_personas_suma = df_personas_suma.rename(columns={\n",
        "     'CH03':'parentesco',\n",
        "     'CH04':'genero',\n",
        "     'CH06':'edad',\n",
        "     'CH08':'cob_medica',\n",
        "     'AE_ctrol_ind_x':'AE_ctrol_ind',\n",
        "     'AE_ctrol_ind_y':'AE_ctrol_ind_sum'})"
      ]
    },
    {
      "cell_type": "code",
      "execution_count": null,
      "metadata": {
        "colab": {
          "base_uri": "https://localhost:8080/",
          "height": 176
        },
        "id": "_k3D7D1DUtJY",
        "outputId": "e7f7c2e5-5e89-46e7-e443-e5c6b86b1752"
      },
      "outputs": [
        {
          "output_type": "execute_result",
          "data": {
            "text/plain": [
              "                          CODUSU  NRO_HOGAR  parentesco  genero  edad  \\\n",
              "0  TQRMNOPPQHMOLPCDEGNFJ00714305          1           3       1    13   \n",
              "1  TQRMNOPPQHMOLPCDEGNFJ00714305          1           1       2    37   \n",
              "\n",
              "   cob_medica  NIVEL_ED  CAT_OCUP  CAT_INAC  AE_ctrol_ind  AE_ctrol_ind_sum  \n",
              "0           1         3         0         3          0.90              3.35  \n",
              "1           1         6         3         0          0.77              3.35  "
            ],
            "text/html": [
              "\n",
              "  <div id=\"df-0125e120-d40c-4440-8571-4ed6b2ffe743\">\n",
              "    <div class=\"colab-df-container\">\n",
              "      <div>\n",
              "<style scoped>\n",
              "    .dataframe tbody tr th:only-of-type {\n",
              "        vertical-align: middle;\n",
              "    }\n",
              "\n",
              "    .dataframe tbody tr th {\n",
              "        vertical-align: top;\n",
              "    }\n",
              "\n",
              "    .dataframe thead th {\n",
              "        text-align: right;\n",
              "    }\n",
              "</style>\n",
              "<table border=\"1\" class=\"dataframe\">\n",
              "  <thead>\n",
              "    <tr style=\"text-align: right;\">\n",
              "      <th></th>\n",
              "      <th>CODUSU</th>\n",
              "      <th>NRO_HOGAR</th>\n",
              "      <th>parentesco</th>\n",
              "      <th>genero</th>\n",
              "      <th>edad</th>\n",
              "      <th>cob_medica</th>\n",
              "      <th>NIVEL_ED</th>\n",
              "      <th>CAT_OCUP</th>\n",
              "      <th>CAT_INAC</th>\n",
              "      <th>AE_ctrol_ind</th>\n",
              "      <th>AE_ctrol_ind_sum</th>\n",
              "    </tr>\n",
              "  </thead>\n",
              "  <tbody>\n",
              "    <tr>\n",
              "      <th>0</th>\n",
              "      <td>TQRMNOPPQHMOLPCDEGNFJ00714305</td>\n",
              "      <td>1</td>\n",
              "      <td>3</td>\n",
              "      <td>1</td>\n",
              "      <td>13</td>\n",
              "      <td>1</td>\n",
              "      <td>3</td>\n",
              "      <td>0</td>\n",
              "      <td>3</td>\n",
              "      <td>0.90</td>\n",
              "      <td>3.35</td>\n",
              "    </tr>\n",
              "    <tr>\n",
              "      <th>1</th>\n",
              "      <td>TQRMNOPPQHMOLPCDEGNFJ00714305</td>\n",
              "      <td>1</td>\n",
              "      <td>1</td>\n",
              "      <td>2</td>\n",
              "      <td>37</td>\n",
              "      <td>1</td>\n",
              "      <td>6</td>\n",
              "      <td>3</td>\n",
              "      <td>0</td>\n",
              "      <td>0.77</td>\n",
              "      <td>3.35</td>\n",
              "    </tr>\n",
              "  </tbody>\n",
              "</table>\n",
              "</div>\n",
              "      <button class=\"colab-df-convert\" onclick=\"convertToInteractive('df-0125e120-d40c-4440-8571-4ed6b2ffe743')\"\n",
              "              title=\"Convert this dataframe to an interactive table.\"\n",
              "              style=\"display:none;\">\n",
              "        \n",
              "  <svg xmlns=\"http://www.w3.org/2000/svg\" height=\"24px\"viewBox=\"0 0 24 24\"\n",
              "       width=\"24px\">\n",
              "    <path d=\"M0 0h24v24H0V0z\" fill=\"none\"/>\n",
              "    <path d=\"M18.56 5.44l.94 2.06.94-2.06 2.06-.94-2.06-.94-.94-2.06-.94 2.06-2.06.94zm-11 1L8.5 8.5l.94-2.06 2.06-.94-2.06-.94L8.5 2.5l-.94 2.06-2.06.94zm10 10l.94 2.06.94-2.06 2.06-.94-2.06-.94-.94-2.06-.94 2.06-2.06.94z\"/><path d=\"M17.41 7.96l-1.37-1.37c-.4-.4-.92-.59-1.43-.59-.52 0-1.04.2-1.43.59L10.3 9.45l-7.72 7.72c-.78.78-.78 2.05 0 2.83L4 21.41c.39.39.9.59 1.41.59.51 0 1.02-.2 1.41-.59l7.78-7.78 2.81-2.81c.8-.78.8-2.07 0-2.86zM5.41 20L4 18.59l7.72-7.72 1.47 1.35L5.41 20z\"/>\n",
              "  </svg>\n",
              "      </button>\n",
              "      \n",
              "  <style>\n",
              "    .colab-df-container {\n",
              "      display:flex;\n",
              "      flex-wrap:wrap;\n",
              "      gap: 12px;\n",
              "    }\n",
              "\n",
              "    .colab-df-convert {\n",
              "      background-color: #E8F0FE;\n",
              "      border: none;\n",
              "      border-radius: 50%;\n",
              "      cursor: pointer;\n",
              "      display: none;\n",
              "      fill: #1967D2;\n",
              "      height: 32px;\n",
              "      padding: 0 0 0 0;\n",
              "      width: 32px;\n",
              "    }\n",
              "\n",
              "    .colab-df-convert:hover {\n",
              "      background-color: #E2EBFA;\n",
              "      box-shadow: 0px 1px 2px rgba(60, 64, 67, 0.3), 0px 1px 3px 1px rgba(60, 64, 67, 0.15);\n",
              "      fill: #174EA6;\n",
              "    }\n",
              "\n",
              "    [theme=dark] .colab-df-convert {\n",
              "      background-color: #3B4455;\n",
              "      fill: #D2E3FC;\n",
              "    }\n",
              "\n",
              "    [theme=dark] .colab-df-convert:hover {\n",
              "      background-color: #434B5C;\n",
              "      box-shadow: 0px 1px 3px 1px rgba(0, 0, 0, 0.15);\n",
              "      filter: drop-shadow(0px 1px 2px rgba(0, 0, 0, 0.3));\n",
              "      fill: #FFFFFF;\n",
              "    }\n",
              "  </style>\n",
              "\n",
              "      <script>\n",
              "        const buttonEl =\n",
              "          document.querySelector('#df-0125e120-d40c-4440-8571-4ed6b2ffe743 button.colab-df-convert');\n",
              "        buttonEl.style.display =\n",
              "          google.colab.kernel.accessAllowed ? 'block' : 'none';\n",
              "\n",
              "        async function convertToInteractive(key) {\n",
              "          const element = document.querySelector('#df-0125e120-d40c-4440-8571-4ed6b2ffe743');\n",
              "          const dataTable =\n",
              "            await google.colab.kernel.invokeFunction('convertToInteractive',\n",
              "                                                     [key], {});\n",
              "          if (!dataTable) return;\n",
              "\n",
              "          const docLinkHtml = 'Like what you see? Visit the ' +\n",
              "            '<a target=\"_blank\" href=https://colab.research.google.com/notebooks/data_table.ipynb>data table notebook</a>'\n",
              "            + ' to learn more about interactive tables.';\n",
              "          element.innerHTML = '';\n",
              "          dataTable['output_type'] = 'display_data';\n",
              "          await google.colab.output.renderOutput(dataTable, element);\n",
              "          const docLink = document.createElement('div');\n",
              "          docLink.innerHTML = docLinkHtml;\n",
              "          element.appendChild(docLink);\n",
              "        }\n",
              "      </script>\n",
              "    </div>\n",
              "  </div>\n",
              "  "
            ]
          },
          "metadata": {},
          "execution_count": 70
        }
      ],
      "source": [
        "df_personas_suma.head(2)"
      ]
    },
    {
      "cell_type": "code",
      "execution_count": null,
      "metadata": {
        "colab": {
          "base_uri": "https://localhost:8080/"
        },
        "id": "aO8myyQEVROW",
        "outputId": "b2b0c9d6-df97-4fbb-cddc-4c4fef57fe50"
      },
      "outputs": [
        {
          "output_type": "execute_result",
          "data": {
            "text/plain": [
              "(50154, 11)"
            ]
          },
          "metadata": {},
          "execution_count": 71
        }
      ],
      "source": [
        "df_personas_suma.shape"
      ]
    },
    {
      "cell_type": "code",
      "execution_count": null,
      "metadata": {
        "id": "C36-R3tcniae"
      },
      "outputs": [],
      "source": [
        "#seleccionamos solo los que cumplen la condición de jefes/as de hogar\n",
        "\n",
        "df_personas_jefes = df_personas_suma.loc[df_personas_suma.loc[:, 'parentesco'] == 1]"
      ]
    },
    {
      "cell_type": "code",
      "execution_count": null,
      "metadata": {
        "colab": {
          "base_uri": "https://localhost:8080/",
          "height": 270
        },
        "id": "_X9L1WcVrGCh",
        "outputId": "31f775c3-77ad-4cc8-b910-a3086c61423a"
      },
      "outputs": [
        {
          "output_type": "execute_result",
          "data": {
            "text/plain": [
              "                           CODUSU  NRO_HOGAR  parentesco  genero  edad  \\\n",
              "1   TQRMNOPPQHMOLPCDEGNFJ00714305          1           1       2    37   \n",
              "4   TQRMNOQPYHKMPUCDEIJAH00663642          1           1       1    79   \n",
              "6   TQRMNOQYRHMOQRCDEIJAH00718661          1           1       1    48   \n",
              "12  TQRMNOPSTHMMLPCDEFMDB00713515          1           1       1    67   \n",
              "13  TQRMNOQQSHJMKUCDEHJGH00702130          1           1       2    76   \n",
              "\n",
              "    cob_medica  NIVEL_ED  CAT_OCUP  CAT_INAC  AE_ctrol_ind  AE_ctrol_ind_sum  \n",
              "1            1         6         3         0          0.77              3.35  \n",
              "4            1         2         0         1          0.74              1.37  \n",
              "6            1         4         3         0          1.00              4.24  \n",
              "12           1         5         0         1          0.83              1.50  \n",
              "13           1         6         0         1          0.63              1.63  "
            ],
            "text/html": [
              "\n",
              "  <div id=\"df-94b0b3fe-4442-4af2-9135-ef3b6af93568\">\n",
              "    <div class=\"colab-df-container\">\n",
              "      <div>\n",
              "<style scoped>\n",
              "    .dataframe tbody tr th:only-of-type {\n",
              "        vertical-align: middle;\n",
              "    }\n",
              "\n",
              "    .dataframe tbody tr th {\n",
              "        vertical-align: top;\n",
              "    }\n",
              "\n",
              "    .dataframe thead th {\n",
              "        text-align: right;\n",
              "    }\n",
              "</style>\n",
              "<table border=\"1\" class=\"dataframe\">\n",
              "  <thead>\n",
              "    <tr style=\"text-align: right;\">\n",
              "      <th></th>\n",
              "      <th>CODUSU</th>\n",
              "      <th>NRO_HOGAR</th>\n",
              "      <th>parentesco</th>\n",
              "      <th>genero</th>\n",
              "      <th>edad</th>\n",
              "      <th>cob_medica</th>\n",
              "      <th>NIVEL_ED</th>\n",
              "      <th>CAT_OCUP</th>\n",
              "      <th>CAT_INAC</th>\n",
              "      <th>AE_ctrol_ind</th>\n",
              "      <th>AE_ctrol_ind_sum</th>\n",
              "    </tr>\n",
              "  </thead>\n",
              "  <tbody>\n",
              "    <tr>\n",
              "      <th>1</th>\n",
              "      <td>TQRMNOPPQHMOLPCDEGNFJ00714305</td>\n",
              "      <td>1</td>\n",
              "      <td>1</td>\n",
              "      <td>2</td>\n",
              "      <td>37</td>\n",
              "      <td>1</td>\n",
              "      <td>6</td>\n",
              "      <td>3</td>\n",
              "      <td>0</td>\n",
              "      <td>0.77</td>\n",
              "      <td>3.35</td>\n",
              "    </tr>\n",
              "    <tr>\n",
              "      <th>4</th>\n",
              "      <td>TQRMNOQPYHKMPUCDEIJAH00663642</td>\n",
              "      <td>1</td>\n",
              "      <td>1</td>\n",
              "      <td>1</td>\n",
              "      <td>79</td>\n",
              "      <td>1</td>\n",
              "      <td>2</td>\n",
              "      <td>0</td>\n",
              "      <td>1</td>\n",
              "      <td>0.74</td>\n",
              "      <td>1.37</td>\n",
              "    </tr>\n",
              "    <tr>\n",
              "      <th>6</th>\n",
              "      <td>TQRMNOQYRHMOQRCDEIJAH00718661</td>\n",
              "      <td>1</td>\n",
              "      <td>1</td>\n",
              "      <td>1</td>\n",
              "      <td>48</td>\n",
              "      <td>1</td>\n",
              "      <td>4</td>\n",
              "      <td>3</td>\n",
              "      <td>0</td>\n",
              "      <td>1.00</td>\n",
              "      <td>4.24</td>\n",
              "    </tr>\n",
              "    <tr>\n",
              "      <th>12</th>\n",
              "      <td>TQRMNOPSTHMMLPCDEFMDB00713515</td>\n",
              "      <td>1</td>\n",
              "      <td>1</td>\n",
              "      <td>1</td>\n",
              "      <td>67</td>\n",
              "      <td>1</td>\n",
              "      <td>5</td>\n",
              "      <td>0</td>\n",
              "      <td>1</td>\n",
              "      <td>0.83</td>\n",
              "      <td>1.50</td>\n",
              "    </tr>\n",
              "    <tr>\n",
              "      <th>13</th>\n",
              "      <td>TQRMNOQQSHJMKUCDEHJGH00702130</td>\n",
              "      <td>1</td>\n",
              "      <td>1</td>\n",
              "      <td>2</td>\n",
              "      <td>76</td>\n",
              "      <td>1</td>\n",
              "      <td>6</td>\n",
              "      <td>0</td>\n",
              "      <td>1</td>\n",
              "      <td>0.63</td>\n",
              "      <td>1.63</td>\n",
              "    </tr>\n",
              "  </tbody>\n",
              "</table>\n",
              "</div>\n",
              "      <button class=\"colab-df-convert\" onclick=\"convertToInteractive('df-94b0b3fe-4442-4af2-9135-ef3b6af93568')\"\n",
              "              title=\"Convert this dataframe to an interactive table.\"\n",
              "              style=\"display:none;\">\n",
              "        \n",
              "  <svg xmlns=\"http://www.w3.org/2000/svg\" height=\"24px\"viewBox=\"0 0 24 24\"\n",
              "       width=\"24px\">\n",
              "    <path d=\"M0 0h24v24H0V0z\" fill=\"none\"/>\n",
              "    <path d=\"M18.56 5.44l.94 2.06.94-2.06 2.06-.94-2.06-.94-.94-2.06-.94 2.06-2.06.94zm-11 1L8.5 8.5l.94-2.06 2.06-.94-2.06-.94L8.5 2.5l-.94 2.06-2.06.94zm10 10l.94 2.06.94-2.06 2.06-.94-2.06-.94-.94-2.06-.94 2.06-2.06.94z\"/><path d=\"M17.41 7.96l-1.37-1.37c-.4-.4-.92-.59-1.43-.59-.52 0-1.04.2-1.43.59L10.3 9.45l-7.72 7.72c-.78.78-.78 2.05 0 2.83L4 21.41c.39.39.9.59 1.41.59.51 0 1.02-.2 1.41-.59l7.78-7.78 2.81-2.81c.8-.78.8-2.07 0-2.86zM5.41 20L4 18.59l7.72-7.72 1.47 1.35L5.41 20z\"/>\n",
              "  </svg>\n",
              "      </button>\n",
              "      \n",
              "  <style>\n",
              "    .colab-df-container {\n",
              "      display:flex;\n",
              "      flex-wrap:wrap;\n",
              "      gap: 12px;\n",
              "    }\n",
              "\n",
              "    .colab-df-convert {\n",
              "      background-color: #E8F0FE;\n",
              "      border: none;\n",
              "      border-radius: 50%;\n",
              "      cursor: pointer;\n",
              "      display: none;\n",
              "      fill: #1967D2;\n",
              "      height: 32px;\n",
              "      padding: 0 0 0 0;\n",
              "      width: 32px;\n",
              "    }\n",
              "\n",
              "    .colab-df-convert:hover {\n",
              "      background-color: #E2EBFA;\n",
              "      box-shadow: 0px 1px 2px rgba(60, 64, 67, 0.3), 0px 1px 3px 1px rgba(60, 64, 67, 0.15);\n",
              "      fill: #174EA6;\n",
              "    }\n",
              "\n",
              "    [theme=dark] .colab-df-convert {\n",
              "      background-color: #3B4455;\n",
              "      fill: #D2E3FC;\n",
              "    }\n",
              "\n",
              "    [theme=dark] .colab-df-convert:hover {\n",
              "      background-color: #434B5C;\n",
              "      box-shadow: 0px 1px 3px 1px rgba(0, 0, 0, 0.15);\n",
              "      filter: drop-shadow(0px 1px 2px rgba(0, 0, 0, 0.3));\n",
              "      fill: #FFFFFF;\n",
              "    }\n",
              "  </style>\n",
              "\n",
              "      <script>\n",
              "        const buttonEl =\n",
              "          document.querySelector('#df-94b0b3fe-4442-4af2-9135-ef3b6af93568 button.colab-df-convert');\n",
              "        buttonEl.style.display =\n",
              "          google.colab.kernel.accessAllowed ? 'block' : 'none';\n",
              "\n",
              "        async function convertToInteractive(key) {\n",
              "          const element = document.querySelector('#df-94b0b3fe-4442-4af2-9135-ef3b6af93568');\n",
              "          const dataTable =\n",
              "            await google.colab.kernel.invokeFunction('convertToInteractive',\n",
              "                                                     [key], {});\n",
              "          if (!dataTable) return;\n",
              "\n",
              "          const docLinkHtml = 'Like what you see? Visit the ' +\n",
              "            '<a target=\"_blank\" href=https://colab.research.google.com/notebooks/data_table.ipynb>data table notebook</a>'\n",
              "            + ' to learn more about interactive tables.';\n",
              "          element.innerHTML = '';\n",
              "          dataTable['output_type'] = 'display_data';\n",
              "          await google.colab.output.renderOutput(dataTable, element);\n",
              "          const docLink = document.createElement('div');\n",
              "          docLink.innerHTML = docLinkHtml;\n",
              "          element.appendChild(docLink);\n",
              "        }\n",
              "      </script>\n",
              "    </div>\n",
              "  </div>\n",
              "  "
            ]
          },
          "metadata": {},
          "execution_count": 73
        }
      ],
      "source": [
        "df_personas_jefes.head()"
      ]
    },
    {
      "cell_type": "code",
      "execution_count": null,
      "metadata": {
        "colab": {
          "base_uri": "https://localhost:8080/"
        },
        "id": "PGXKYnK_rzuF",
        "outputId": "008eccfa-6bdd-4f4a-cbc7-26e2ae3d5ccd"
      },
      "outputs": [
        {
          "output_type": "execute_result",
          "data": {
            "text/plain": [
              "(17037, 11)"
            ]
          },
          "metadata": {},
          "execution_count": 74
        }
      ],
      "source": [
        "#comprobamos la cantidad de filas\n",
        "\n",
        "df_personas_jefes.shape"
      ]
    },
    {
      "cell_type": "code",
      "execution_count": null,
      "metadata": {
        "colab": {
          "base_uri": "https://localhost:8080/",
          "height": 74
        },
        "id": "yjEgBwTLSidc",
        "outputId": "4f7bb876-55e4-4fba-9b0c-e074657735e1"
      },
      "outputs": [
        {
          "output_type": "display_data",
          "data": {
            "text/plain": [
              "<IPython.core.display.HTML object>"
            ],
            "text/html": [
              "\n",
              "     <input type=\"file\" id=\"files-0b76c258-458f-4df6-800d-c41bd986d8af\" name=\"files[]\" multiple disabled\n",
              "        style=\"border:none\" />\n",
              "     <output id=\"result-0b76c258-458f-4df6-800d-c41bd986d8af\">\n",
              "      Upload widget is only available when the cell has been executed in the\n",
              "      current browser session. Please rerun this cell to enable.\n",
              "      </output>\n",
              "      <script>// Copyright 2017 Google LLC\n",
              "//\n",
              "// Licensed under the Apache License, Version 2.0 (the \"License\");\n",
              "// you may not use this file except in compliance with the License.\n",
              "// You may obtain a copy of the License at\n",
              "//\n",
              "//      http://www.apache.org/licenses/LICENSE-2.0\n",
              "//\n",
              "// Unless required by applicable law or agreed to in writing, software\n",
              "// distributed under the License is distributed on an \"AS IS\" BASIS,\n",
              "// WITHOUT WARRANTIES OR CONDITIONS OF ANY KIND, either express or implied.\n",
              "// See the License for the specific language governing permissions and\n",
              "// limitations under the License.\n",
              "\n",
              "/**\n",
              " * @fileoverview Helpers for google.colab Python module.\n",
              " */\n",
              "(function(scope) {\n",
              "function span(text, styleAttributes = {}) {\n",
              "  const element = document.createElement('span');\n",
              "  element.textContent = text;\n",
              "  for (const key of Object.keys(styleAttributes)) {\n",
              "    element.style[key] = styleAttributes[key];\n",
              "  }\n",
              "  return element;\n",
              "}\n",
              "\n",
              "// Max number of bytes which will be uploaded at a time.\n",
              "const MAX_PAYLOAD_SIZE = 100 * 1024;\n",
              "\n",
              "function _uploadFiles(inputId, outputId) {\n",
              "  const steps = uploadFilesStep(inputId, outputId);\n",
              "  const outputElement = document.getElementById(outputId);\n",
              "  // Cache steps on the outputElement to make it available for the next call\n",
              "  // to uploadFilesContinue from Python.\n",
              "  outputElement.steps = steps;\n",
              "\n",
              "  return _uploadFilesContinue(outputId);\n",
              "}\n",
              "\n",
              "// This is roughly an async generator (not supported in the browser yet),\n",
              "// where there are multiple asynchronous steps and the Python side is going\n",
              "// to poll for completion of each step.\n",
              "// This uses a Promise to block the python side on completion of each step,\n",
              "// then passes the result of the previous step as the input to the next step.\n",
              "function _uploadFilesContinue(outputId) {\n",
              "  const outputElement = document.getElementById(outputId);\n",
              "  const steps = outputElement.steps;\n",
              "\n",
              "  const next = steps.next(outputElement.lastPromiseValue);\n",
              "  return Promise.resolve(next.value.promise).then((value) => {\n",
              "    // Cache the last promise value to make it available to the next\n",
              "    // step of the generator.\n",
              "    outputElement.lastPromiseValue = value;\n",
              "    return next.value.response;\n",
              "  });\n",
              "}\n",
              "\n",
              "/**\n",
              " * Generator function which is called between each async step of the upload\n",
              " * process.\n",
              " * @param {string} inputId Element ID of the input file picker element.\n",
              " * @param {string} outputId Element ID of the output display.\n",
              " * @return {!Iterable<!Object>} Iterable of next steps.\n",
              " */\n",
              "function* uploadFilesStep(inputId, outputId) {\n",
              "  const inputElement = document.getElementById(inputId);\n",
              "  inputElement.disabled = false;\n",
              "\n",
              "  const outputElement = document.getElementById(outputId);\n",
              "  outputElement.innerHTML = '';\n",
              "\n",
              "  const pickedPromise = new Promise((resolve) => {\n",
              "    inputElement.addEventListener('change', (e) => {\n",
              "      resolve(e.target.files);\n",
              "    });\n",
              "  });\n",
              "\n",
              "  const cancel = document.createElement('button');\n",
              "  inputElement.parentElement.appendChild(cancel);\n",
              "  cancel.textContent = 'Cancel upload';\n",
              "  const cancelPromise = new Promise((resolve) => {\n",
              "    cancel.onclick = () => {\n",
              "      resolve(null);\n",
              "    };\n",
              "  });\n",
              "\n",
              "  // Wait for the user to pick the files.\n",
              "  const files = yield {\n",
              "    promise: Promise.race([pickedPromise, cancelPromise]),\n",
              "    response: {\n",
              "      action: 'starting',\n",
              "    }\n",
              "  };\n",
              "\n",
              "  cancel.remove();\n",
              "\n",
              "  // Disable the input element since further picks are not allowed.\n",
              "  inputElement.disabled = true;\n",
              "\n",
              "  if (!files) {\n",
              "    return {\n",
              "      response: {\n",
              "        action: 'complete',\n",
              "      }\n",
              "    };\n",
              "  }\n",
              "\n",
              "  for (const file of files) {\n",
              "    const li = document.createElement('li');\n",
              "    li.append(span(file.name, {fontWeight: 'bold'}));\n",
              "    li.append(span(\n",
              "        `(${file.type || 'n/a'}) - ${file.size} bytes, ` +\n",
              "        `last modified: ${\n",
              "            file.lastModifiedDate ? file.lastModifiedDate.toLocaleDateString() :\n",
              "                                    'n/a'} - `));\n",
              "    const percent = span('0% done');\n",
              "    li.appendChild(percent);\n",
              "\n",
              "    outputElement.appendChild(li);\n",
              "\n",
              "    const fileDataPromise = new Promise((resolve) => {\n",
              "      const reader = new FileReader();\n",
              "      reader.onload = (e) => {\n",
              "        resolve(e.target.result);\n",
              "      };\n",
              "      reader.readAsArrayBuffer(file);\n",
              "    });\n",
              "    // Wait for the data to be ready.\n",
              "    let fileData = yield {\n",
              "      promise: fileDataPromise,\n",
              "      response: {\n",
              "        action: 'continue',\n",
              "      }\n",
              "    };\n",
              "\n",
              "    // Use a chunked sending to avoid message size limits. See b/62115660.\n",
              "    let position = 0;\n",
              "    do {\n",
              "      const length = Math.min(fileData.byteLength - position, MAX_PAYLOAD_SIZE);\n",
              "      const chunk = new Uint8Array(fileData, position, length);\n",
              "      position += length;\n",
              "\n",
              "      const base64 = btoa(String.fromCharCode.apply(null, chunk));\n",
              "      yield {\n",
              "        response: {\n",
              "          action: 'append',\n",
              "          file: file.name,\n",
              "          data: base64,\n",
              "        },\n",
              "      };\n",
              "\n",
              "      let percentDone = fileData.byteLength === 0 ?\n",
              "          100 :\n",
              "          Math.round((position / fileData.byteLength) * 100);\n",
              "      percent.textContent = `${percentDone}% done`;\n",
              "\n",
              "    } while (position < fileData.byteLength);\n",
              "  }\n",
              "\n",
              "  // All done.\n",
              "  yield {\n",
              "    response: {\n",
              "      action: 'complete',\n",
              "    }\n",
              "  };\n",
              "}\n",
              "\n",
              "scope.google = scope.google || {};\n",
              "scope.google.colab = scope.google.colab || {};\n",
              "scope.google.colab._files = {\n",
              "  _uploadFiles,\n",
              "  _uploadFilesContinue,\n",
              "};\n",
              "})(self);\n",
              "</script> "
            ]
          },
          "metadata": {}
        },
        {
          "output_type": "stream",
          "name": "stdout",
          "text": [
            "Saving usu_hogar_T421.csv to usu_hogar_T421.csv\n"
          ]
        }
      ],
      "source": [
        "#cargamos el archivo de hogares \"usu_hogar_T421.csv\"\n",
        "\n",
        "from google.colab import files\n",
        "uploaded  = files.upload()"
      ]
    },
    {
      "cell_type": "code",
      "execution_count": null,
      "metadata": {
        "id": "079eUZH0bboZ"
      },
      "outputs": [],
      "source": [
        "df_hogares = pd.read_csv(\"usu_hogar_T421.csv\")"
      ]
    },
    {
      "cell_type": "code",
      "execution_count": null,
      "metadata": {
        "colab": {
          "base_uri": "https://localhost:8080/"
        },
        "id": "r-T8WY3Sr7cD",
        "outputId": "3558d6a5-00a0-41d8-cc5e-9c2f55138936"
      },
      "outputs": [
        {
          "output_type": "execute_result",
          "data": {
            "text/plain": [
              "(17037, 88)"
            ]
          },
          "metadata": {},
          "execution_count": 86
        }
      ],
      "source": [
        "#comprobamos la cantidad de filas\n",
        "\n",
        "df_hogares.shape"
      ]
    },
    {
      "cell_type": "code",
      "execution_count": null,
      "metadata": {
        "id": "Ni5sI17AnD3p"
      },
      "outputs": [],
      "source": [
        "#unimos los dos dataframes, que tienen la misma cantidad de filas, según las variables CODUSU y NRO_HOGAR\n",
        "\n",
        "df_dataset = pd.merge(df_hogares, df_personas_jefes, on=['CODUSU','NRO_HOGAR'])"
      ]
    },
    {
      "cell_type": "code",
      "execution_count": null,
      "metadata": {
        "colab": {
          "base_uri": "https://localhost:8080/"
        },
        "id": "yCUnWi5XK918",
        "outputId": "3494fbf0-8eaa-4faf-f4a4-a2d3d6ee59b5"
      },
      "outputs": [
        {
          "output_type": "execute_result",
          "data": {
            "text/plain": [
              "(17037, 97)"
            ]
          },
          "metadata": {},
          "execution_count": 88
        }
      ],
      "source": [
        "#comprobamos la cantidad de filas\n",
        "\n",
        "df_dataset.shape"
      ]
    },
    {
      "cell_type": "code",
      "execution_count": null,
      "metadata": {
        "colab": {
          "base_uri": "https://localhost:8080/",
          "height": 205
        },
        "id": "KYbChetLnSfC",
        "outputId": "e26a2efe-edea-4353-91c8-566b9aabd657"
      },
      "outputs": [
        {
          "output_type": "execute_result",
          "data": {
            "text/plain": [
              "                          CODUSU  ANO4  TRIMESTRE  NRO_HOGAR  REALIZADA  \\\n",
              "0  TQRMNOQRPHMOKOCDEOJAH00714382  2021          4          1          1   \n",
              "1  TQRMNOQYUHMMKPCDEOJAH00714383  2021          4          1          1   \n",
              "\n",
              "   REGION MAS_500  AGLOMERADO  PONDERA  IV1 IV1_ESP  IV2  IV3 IV3_ESP  IV4  \\\n",
              "0      44       N          93      116    1     NaN    1    1     NaN    4   \n",
              "1      44       N          93       46    1     NaN    4    1     NaN    2   \n",
              "\n",
              "   IV5  IV6  IV7 IV7_ESP  IV8  IV9  IV10  IV11  IV12_1  IV12_2  IV12_3  II1  \\\n",
              "0    1    1    1     NaN    1    1     1     1       2       2       2    1   \n",
              "1    1    1    1     NaN    1    1     1     1       2       2       2    4   \n",
              "\n",
              "   II2  II3  II3_1  II4_1  II4_2  II4_3  II5  II5_1  II6  II6_1  II7 II7_ESP  \\\n",
              "0    1    2      0      1      2      2    2      0    2      0    1     NaN   \n",
              "1    2    2      0      1      2      1    2      0    2      0    3     NaN   \n",
              "\n",
              "   II8  ... V14  V15  V16  V17  V18  V19_A  V19_B  IX_TOT  IX_MEN10  \\\n",
              "0    1  ...   2    2    2    2    2      2      2       3         2   \n",
              "1    1  ...   2    2    2    2    2      2      2       2         0   \n",
              "\n",
              "   IX_MAYEQ10  ITF  DECIFR  IDECIFR  RDECIFR  GDECIFR  PDECIFR  ADECIFR  IPCF  \\\n",
              "0           1    0      12     12.0       12      NaN     12.0       12   0.0   \n",
              "1           2    0      12     12.0       12      NaN     12.0       12   0.0   \n",
              "\n",
              "   DECCFR  IDECCFR  RDECCFR  GDECCFR  PDECCFR  ADECCFR  PONDIH  VII1_1  \\\n",
              "0      12     12.0       12      NaN     12.0       12       0       1   \n",
              "1      12     12.0       12      NaN     12.0       12       0       1   \n",
              "\n",
              "   VII1_2  VII2_1  VII2_2  VII2_3  VII2_4  parentesco  genero  edad  \\\n",
              "0       0      98       0       0       0           1       2    38   \n",
              "1       0      98       0       0       0           1       2    64   \n",
              "\n",
              "   cob_medica  NIVEL_ED  CAT_OCUP  CAT_INAC  AE_ctrol_ind  AE_ctrol_ind_sum  \n",
              "0           1         6         3         0          0.77              2.10  \n",
              "1           1         6         0         1          0.67              1.44  \n",
              "\n",
              "[2 rows x 97 columns]"
            ],
            "text/html": [
              "\n",
              "  <div id=\"df-cdf464d4-6cbe-4866-9d7c-718d74780d2c\">\n",
              "    <div class=\"colab-df-container\">\n",
              "      <div>\n",
              "<style scoped>\n",
              "    .dataframe tbody tr th:only-of-type {\n",
              "        vertical-align: middle;\n",
              "    }\n",
              "\n",
              "    .dataframe tbody tr th {\n",
              "        vertical-align: top;\n",
              "    }\n",
              "\n",
              "    .dataframe thead th {\n",
              "        text-align: right;\n",
              "    }\n",
              "</style>\n",
              "<table border=\"1\" class=\"dataframe\">\n",
              "  <thead>\n",
              "    <tr style=\"text-align: right;\">\n",
              "      <th></th>\n",
              "      <th>CODUSU</th>\n",
              "      <th>ANO4</th>\n",
              "      <th>TRIMESTRE</th>\n",
              "      <th>NRO_HOGAR</th>\n",
              "      <th>REALIZADA</th>\n",
              "      <th>REGION</th>\n",
              "      <th>MAS_500</th>\n",
              "      <th>AGLOMERADO</th>\n",
              "      <th>PONDERA</th>\n",
              "      <th>IV1</th>\n",
              "      <th>IV1_ESP</th>\n",
              "      <th>IV2</th>\n",
              "      <th>IV3</th>\n",
              "      <th>IV3_ESP</th>\n",
              "      <th>IV4</th>\n",
              "      <th>IV5</th>\n",
              "      <th>IV6</th>\n",
              "      <th>IV7</th>\n",
              "      <th>IV7_ESP</th>\n",
              "      <th>IV8</th>\n",
              "      <th>IV9</th>\n",
              "      <th>IV10</th>\n",
              "      <th>IV11</th>\n",
              "      <th>IV12_1</th>\n",
              "      <th>IV12_2</th>\n",
              "      <th>IV12_3</th>\n",
              "      <th>II1</th>\n",
              "      <th>II2</th>\n",
              "      <th>II3</th>\n",
              "      <th>II3_1</th>\n",
              "      <th>II4_1</th>\n",
              "      <th>II4_2</th>\n",
              "      <th>II4_3</th>\n",
              "      <th>II5</th>\n",
              "      <th>II5_1</th>\n",
              "      <th>II6</th>\n",
              "      <th>II6_1</th>\n",
              "      <th>II7</th>\n",
              "      <th>II7_ESP</th>\n",
              "      <th>II8</th>\n",
              "      <th>...</th>\n",
              "      <th>V14</th>\n",
              "      <th>V15</th>\n",
              "      <th>V16</th>\n",
              "      <th>V17</th>\n",
              "      <th>V18</th>\n",
              "      <th>V19_A</th>\n",
              "      <th>V19_B</th>\n",
              "      <th>IX_TOT</th>\n",
              "      <th>IX_MEN10</th>\n",
              "      <th>IX_MAYEQ10</th>\n",
              "      <th>ITF</th>\n",
              "      <th>DECIFR</th>\n",
              "      <th>IDECIFR</th>\n",
              "      <th>RDECIFR</th>\n",
              "      <th>GDECIFR</th>\n",
              "      <th>PDECIFR</th>\n",
              "      <th>ADECIFR</th>\n",
              "      <th>IPCF</th>\n",
              "      <th>DECCFR</th>\n",
              "      <th>IDECCFR</th>\n",
              "      <th>RDECCFR</th>\n",
              "      <th>GDECCFR</th>\n",
              "      <th>PDECCFR</th>\n",
              "      <th>ADECCFR</th>\n",
              "      <th>PONDIH</th>\n",
              "      <th>VII1_1</th>\n",
              "      <th>VII1_2</th>\n",
              "      <th>VII2_1</th>\n",
              "      <th>VII2_2</th>\n",
              "      <th>VII2_3</th>\n",
              "      <th>VII2_4</th>\n",
              "      <th>parentesco</th>\n",
              "      <th>genero</th>\n",
              "      <th>edad</th>\n",
              "      <th>cob_medica</th>\n",
              "      <th>NIVEL_ED</th>\n",
              "      <th>CAT_OCUP</th>\n",
              "      <th>CAT_INAC</th>\n",
              "      <th>AE_ctrol_ind</th>\n",
              "      <th>AE_ctrol_ind_sum</th>\n",
              "    </tr>\n",
              "  </thead>\n",
              "  <tbody>\n",
              "    <tr>\n",
              "      <th>0</th>\n",
              "      <td>TQRMNOQRPHMOKOCDEOJAH00714382</td>\n",
              "      <td>2021</td>\n",
              "      <td>4</td>\n",
              "      <td>1</td>\n",
              "      <td>1</td>\n",
              "      <td>44</td>\n",
              "      <td>N</td>\n",
              "      <td>93</td>\n",
              "      <td>116</td>\n",
              "      <td>1</td>\n",
              "      <td>NaN</td>\n",
              "      <td>1</td>\n",
              "      <td>1</td>\n",
              "      <td>NaN</td>\n",
              "      <td>4</td>\n",
              "      <td>1</td>\n",
              "      <td>1</td>\n",
              "      <td>1</td>\n",
              "      <td>NaN</td>\n",
              "      <td>1</td>\n",
              "      <td>1</td>\n",
              "      <td>1</td>\n",
              "      <td>1</td>\n",
              "      <td>2</td>\n",
              "      <td>2</td>\n",
              "      <td>2</td>\n",
              "      <td>1</td>\n",
              "      <td>1</td>\n",
              "      <td>2</td>\n",
              "      <td>0</td>\n",
              "      <td>1</td>\n",
              "      <td>2</td>\n",
              "      <td>2</td>\n",
              "      <td>2</td>\n",
              "      <td>0</td>\n",
              "      <td>2</td>\n",
              "      <td>0</td>\n",
              "      <td>1</td>\n",
              "      <td>NaN</td>\n",
              "      <td>1</td>\n",
              "      <td>...</td>\n",
              "      <td>2</td>\n",
              "      <td>2</td>\n",
              "      <td>2</td>\n",
              "      <td>2</td>\n",
              "      <td>2</td>\n",
              "      <td>2</td>\n",
              "      <td>2</td>\n",
              "      <td>3</td>\n",
              "      <td>2</td>\n",
              "      <td>1</td>\n",
              "      <td>0</td>\n",
              "      <td>12</td>\n",
              "      <td>12.0</td>\n",
              "      <td>12</td>\n",
              "      <td>NaN</td>\n",
              "      <td>12.0</td>\n",
              "      <td>12</td>\n",
              "      <td>0.0</td>\n",
              "      <td>12</td>\n",
              "      <td>12.0</td>\n",
              "      <td>12</td>\n",
              "      <td>NaN</td>\n",
              "      <td>12.0</td>\n",
              "      <td>12</td>\n",
              "      <td>0</td>\n",
              "      <td>1</td>\n",
              "      <td>0</td>\n",
              "      <td>98</td>\n",
              "      <td>0</td>\n",
              "      <td>0</td>\n",
              "      <td>0</td>\n",
              "      <td>1</td>\n",
              "      <td>2</td>\n",
              "      <td>38</td>\n",
              "      <td>1</td>\n",
              "      <td>6</td>\n",
              "      <td>3</td>\n",
              "      <td>0</td>\n",
              "      <td>0.77</td>\n",
              "      <td>2.10</td>\n",
              "    </tr>\n",
              "    <tr>\n",
              "      <th>1</th>\n",
              "      <td>TQRMNOQYUHMMKPCDEOJAH00714383</td>\n",
              "      <td>2021</td>\n",
              "      <td>4</td>\n",
              "      <td>1</td>\n",
              "      <td>1</td>\n",
              "      <td>44</td>\n",
              "      <td>N</td>\n",
              "      <td>93</td>\n",
              "      <td>46</td>\n",
              "      <td>1</td>\n",
              "      <td>NaN</td>\n",
              "      <td>4</td>\n",
              "      <td>1</td>\n",
              "      <td>NaN</td>\n",
              "      <td>2</td>\n",
              "      <td>1</td>\n",
              "      <td>1</td>\n",
              "      <td>1</td>\n",
              "      <td>NaN</td>\n",
              "      <td>1</td>\n",
              "      <td>1</td>\n",
              "      <td>1</td>\n",
              "      <td>1</td>\n",
              "      <td>2</td>\n",
              "      <td>2</td>\n",
              "      <td>2</td>\n",
              "      <td>4</td>\n",
              "      <td>2</td>\n",
              "      <td>2</td>\n",
              "      <td>0</td>\n",
              "      <td>1</td>\n",
              "      <td>2</td>\n",
              "      <td>1</td>\n",
              "      <td>2</td>\n",
              "      <td>0</td>\n",
              "      <td>2</td>\n",
              "      <td>0</td>\n",
              "      <td>3</td>\n",
              "      <td>NaN</td>\n",
              "      <td>1</td>\n",
              "      <td>...</td>\n",
              "      <td>2</td>\n",
              "      <td>2</td>\n",
              "      <td>2</td>\n",
              "      <td>2</td>\n",
              "      <td>2</td>\n",
              "      <td>2</td>\n",
              "      <td>2</td>\n",
              "      <td>2</td>\n",
              "      <td>0</td>\n",
              "      <td>2</td>\n",
              "      <td>0</td>\n",
              "      <td>12</td>\n",
              "      <td>12.0</td>\n",
              "      <td>12</td>\n",
              "      <td>NaN</td>\n",
              "      <td>12.0</td>\n",
              "      <td>12</td>\n",
              "      <td>0.0</td>\n",
              "      <td>12</td>\n",
              "      <td>12.0</td>\n",
              "      <td>12</td>\n",
              "      <td>NaN</td>\n",
              "      <td>12.0</td>\n",
              "      <td>12</td>\n",
              "      <td>0</td>\n",
              "      <td>1</td>\n",
              "      <td>0</td>\n",
              "      <td>98</td>\n",
              "      <td>0</td>\n",
              "      <td>0</td>\n",
              "      <td>0</td>\n",
              "      <td>1</td>\n",
              "      <td>2</td>\n",
              "      <td>64</td>\n",
              "      <td>1</td>\n",
              "      <td>6</td>\n",
              "      <td>0</td>\n",
              "      <td>1</td>\n",
              "      <td>0.67</td>\n",
              "      <td>1.44</td>\n",
              "    </tr>\n",
              "  </tbody>\n",
              "</table>\n",
              "<p>2 rows × 97 columns</p>\n",
              "</div>\n",
              "      <button class=\"colab-df-convert\" onclick=\"convertToInteractive('df-cdf464d4-6cbe-4866-9d7c-718d74780d2c')\"\n",
              "              title=\"Convert this dataframe to an interactive table.\"\n",
              "              style=\"display:none;\">\n",
              "        \n",
              "  <svg xmlns=\"http://www.w3.org/2000/svg\" height=\"24px\"viewBox=\"0 0 24 24\"\n",
              "       width=\"24px\">\n",
              "    <path d=\"M0 0h24v24H0V0z\" fill=\"none\"/>\n",
              "    <path d=\"M18.56 5.44l.94 2.06.94-2.06 2.06-.94-2.06-.94-.94-2.06-.94 2.06-2.06.94zm-11 1L8.5 8.5l.94-2.06 2.06-.94-2.06-.94L8.5 2.5l-.94 2.06-2.06.94zm10 10l.94 2.06.94-2.06 2.06-.94-2.06-.94-.94-2.06-.94 2.06-2.06.94z\"/><path d=\"M17.41 7.96l-1.37-1.37c-.4-.4-.92-.59-1.43-.59-.52 0-1.04.2-1.43.59L10.3 9.45l-7.72 7.72c-.78.78-.78 2.05 0 2.83L4 21.41c.39.39.9.59 1.41.59.51 0 1.02-.2 1.41-.59l7.78-7.78 2.81-2.81c.8-.78.8-2.07 0-2.86zM5.41 20L4 18.59l7.72-7.72 1.47 1.35L5.41 20z\"/>\n",
              "  </svg>\n",
              "      </button>\n",
              "      \n",
              "  <style>\n",
              "    .colab-df-container {\n",
              "      display:flex;\n",
              "      flex-wrap:wrap;\n",
              "      gap: 12px;\n",
              "    }\n",
              "\n",
              "    .colab-df-convert {\n",
              "      background-color: #E8F0FE;\n",
              "      border: none;\n",
              "      border-radius: 50%;\n",
              "      cursor: pointer;\n",
              "      display: none;\n",
              "      fill: #1967D2;\n",
              "      height: 32px;\n",
              "      padding: 0 0 0 0;\n",
              "      width: 32px;\n",
              "    }\n",
              "\n",
              "    .colab-df-convert:hover {\n",
              "      background-color: #E2EBFA;\n",
              "      box-shadow: 0px 1px 2px rgba(60, 64, 67, 0.3), 0px 1px 3px 1px rgba(60, 64, 67, 0.15);\n",
              "      fill: #174EA6;\n",
              "    }\n",
              "\n",
              "    [theme=dark] .colab-df-convert {\n",
              "      background-color: #3B4455;\n",
              "      fill: #D2E3FC;\n",
              "    }\n",
              "\n",
              "    [theme=dark] .colab-df-convert:hover {\n",
              "      background-color: #434B5C;\n",
              "      box-shadow: 0px 1px 3px 1px rgba(0, 0, 0, 0.15);\n",
              "      filter: drop-shadow(0px 1px 2px rgba(0, 0, 0, 0.3));\n",
              "      fill: #FFFFFF;\n",
              "    }\n",
              "  </style>\n",
              "\n",
              "      <script>\n",
              "        const buttonEl =\n",
              "          document.querySelector('#df-cdf464d4-6cbe-4866-9d7c-718d74780d2c button.colab-df-convert');\n",
              "        buttonEl.style.display =\n",
              "          google.colab.kernel.accessAllowed ? 'block' : 'none';\n",
              "\n",
              "        async function convertToInteractive(key) {\n",
              "          const element = document.querySelector('#df-cdf464d4-6cbe-4866-9d7c-718d74780d2c');\n",
              "          const dataTable =\n",
              "            await google.colab.kernel.invokeFunction('convertToInteractive',\n",
              "                                                     [key], {});\n",
              "          if (!dataTable) return;\n",
              "\n",
              "          const docLinkHtml = 'Like what you see? Visit the ' +\n",
              "            '<a target=\"_blank\" href=https://colab.research.google.com/notebooks/data_table.ipynb>data table notebook</a>'\n",
              "            + ' to learn more about interactive tables.';\n",
              "          element.innerHTML = '';\n",
              "          dataTable['output_type'] = 'display_data';\n",
              "          await google.colab.output.renderOutput(dataTable, element);\n",
              "          const docLink = document.createElement('div');\n",
              "          docLink.innerHTML = docLinkHtml;\n",
              "          element.appendChild(docLink);\n",
              "        }\n",
              "      </script>\n",
              "    </div>\n",
              "  </div>\n",
              "  "
            ]
          },
          "metadata": {},
          "execution_count": 89
        }
      ],
      "source": [
        "df_dataset.head(2)"
      ]
    },
    {
      "cell_type": "code",
      "source": [
        "#df_dataset = df_dataset.drop(['Unnamed: 0'], axis=1)"
      ],
      "metadata": {
        "id": "pdTVOt7DiChw"
      },
      "execution_count": null,
      "outputs": []
    },
    {
      "cell_type": "code",
      "execution_count": null,
      "metadata": {
        "id": "wYHohGGiE_ZT"
      },
      "outputs": [],
      "source": [
        "#la variable ITF representa el monto de ingreso total familiar\n",
        "#a este monto lo dividimos por la suma de % de las personas que residen en el hogar para obtener el ingreso por adulto equivalente\n",
        "\n",
        "df_dataset['adulto_equivalente']= df_dataset.apply(lambda row: row.ITF/row.AE_ctrol_ind_sum, axis=1)"
      ]
    },
    {
      "cell_type": "code",
      "execution_count": null,
      "metadata": {
        "id": "DXJ_jn3lKoQF"
      },
      "outputs": [],
      "source": [
        "df_dataset['adulto_equivalente']= round(df_dataset['adulto_equivalente'], 2)"
      ]
    },
    {
      "cell_type": "code",
      "execution_count": null,
      "metadata": {
        "colab": {
          "base_uri": "https://localhost:8080/",
          "height": 299
        },
        "id": "697UkkJnJFHZ",
        "outputId": "9e5ddd0e-807e-42fb-c8d0-81995adf1542"
      },
      "outputs": [
        {
          "output_type": "execute_result",
          "data": {
            "text/plain": [
              "                          CODUSU  ANO4  TRIMESTRE  NRO_HOGAR  REALIZADA  \\\n",
              "0  TQRMNOQRPHMOKOCDEOJAH00714382  2021          4          1          1   \n",
              "1  TQRMNOQYUHMMKPCDEOJAH00714383  2021          4          1          1   \n",
              "2  TQRMNOPSWHMMKRCDEOJAH00714384  2021          4          1          1   \n",
              "3  TQRMNOQYSHMNKTCDEOJAH00714386  2021          4          1          1   \n",
              "4  TQRMNOQXVHLLPQCDEIJAH00718674  2021          4          1          1   \n",
              "\n",
              "   REGION MAS_500  AGLOMERADO  PONDERA  IV1 IV1_ESP  IV2  IV3 IV3_ESP  IV4  \\\n",
              "0      44       N          93      116    1     NaN    1    1     NaN    4   \n",
              "1      44       N          93       46    1     NaN    4    1     NaN    2   \n",
              "2      44       N          93       43    1     NaN    3    1     NaN    1   \n",
              "3      44       N          93       64    2     NaN    2    1     NaN    4   \n",
              "4       1       S          33     2822    1     NaN    3    1     NaN    4   \n",
              "\n",
              "   IV5  IV6  IV7 IV7_ESP  IV8  IV9  IV10  IV11  IV12_1  IV12_2  IV12_3  II1  \\\n",
              "0    1    1    1     NaN    1    1     1     1       2       2       2    1   \n",
              "1    1    1    1     NaN    1    1     1     1       2       2       2    4   \n",
              "2    1    1    1     NaN    1    1     1     1       2       2       2    3   \n",
              "3    1    1    1     NaN    1    1     1     1       2       2       2    2   \n",
              "4    1    1    1     NaN    1    1     2     3       2       2       2    3   \n",
              "\n",
              "   II2  II3  II3_1  II4_1  II4_2  II4_3  II5  II5_1  II6  II6_1  II7 II7_ESP  \\\n",
              "0    1    2      0      1      2      2    2      0    2      0    1     NaN   \n",
              "1    2    2      0      1      2      1    2      0    2      0    3     NaN   \n",
              "2    1    2      0      1      1      2    2      0    2      0    1     NaN   \n",
              "3    2    2      0      1      2      2    2      0    2      0    6     NaN   \n",
              "4    3    2      0      1      1      2    2      0    2      0    1     NaN   \n",
              "\n",
              "   II8  ... V15  V16  V17  V18  V19_A  V19_B  IX_TOT  IX_MEN10  IX_MAYEQ10  \\\n",
              "0    1  ...   2    2    2    2      2      2       3         2           1   \n",
              "1    1  ...   2    2    2    2      2      2       2         0           2   \n",
              "2    1  ...   1    1    2    2      2      2       2         0           2   \n",
              "3    1  ...   2    1    2    2      2      2       4         1           3   \n",
              "4    1  ...   1    1    2    2      2      2       4         0           4   \n",
              "\n",
              "     ITF  DECIFR  IDECIFR  RDECIFR  GDECIFR  PDECIFR  ADECIFR     IPCF  \\\n",
              "0      0      12     12.0       12      NaN     12.0       12      0.0   \n",
              "1      0      12     12.0       12      NaN     12.0       12      0.0   \n",
              "2  77500       5      6.0        4      NaN      6.0        4  38750.0   \n",
              "3  85000       6      6.0        5      NaN      6.0        5  21250.0   \n",
              "4  96870       7      NaN        6      7.0      NaN        7  24217.5   \n",
              "\n",
              "   DECCFR  IDECCFR  RDECCFR  GDECCFR  PDECCFR  ADECCFR  PONDIH  VII1_1  \\\n",
              "0      12     12.0       12      NaN     12.0       12       0       1   \n",
              "1      12     12.0       12      NaN     12.0       12       0       1   \n",
              "2       7      7.0        5      NaN      7.0        5      57       1   \n",
              "3       4      4.0        3      NaN      4.0        3      58       2   \n",
              "4       4      NaN        4      4.0      NaN        4    5658       1   \n",
              "\n",
              "   VII1_2  VII2_1  VII2_2  VII2_3  VII2_4  parentesco  genero  edad  \\\n",
              "0       0      98       0       0       0           1       2    38   \n",
              "1       0      98       0       0       0           1       2    64   \n",
              "2       2      98       0       0       0           1       1    72   \n",
              "3       0      98       0       0       0           1       1    38   \n",
              "4       2      98       0       0       0           1       1    67   \n",
              "\n",
              "   cob_medica  NIVEL_ED  CAT_OCUP  CAT_INAC  AE_ctrol_ind  AE_ctrol_ind_sum  \\\n",
              "0           1         6         3         0          0.77              2.10   \n",
              "1           1         6         0         1          0.67              1.44   \n",
              "2           1         2         0         1          0.83              1.50   \n",
              "3           1         4         3         0          1.00              3.13   \n",
              "4           1         4         3         0          0.83              3.33   \n",
              "\n",
              "   adulto_equivalente  \n",
              "0                0.00  \n",
              "1                0.00  \n",
              "2            51666.67  \n",
              "3            27156.55  \n",
              "4            29090.09  \n",
              "\n",
              "[5 rows x 98 columns]"
            ],
            "text/html": [
              "\n",
              "  <div id=\"df-3d2cb4c6-0c48-4503-9392-a7196a1d7033\">\n",
              "    <div class=\"colab-df-container\">\n",
              "      <div>\n",
              "<style scoped>\n",
              "    .dataframe tbody tr th:only-of-type {\n",
              "        vertical-align: middle;\n",
              "    }\n",
              "\n",
              "    .dataframe tbody tr th {\n",
              "        vertical-align: top;\n",
              "    }\n",
              "\n",
              "    .dataframe thead th {\n",
              "        text-align: right;\n",
              "    }\n",
              "</style>\n",
              "<table border=\"1\" class=\"dataframe\">\n",
              "  <thead>\n",
              "    <tr style=\"text-align: right;\">\n",
              "      <th></th>\n",
              "      <th>CODUSU</th>\n",
              "      <th>ANO4</th>\n",
              "      <th>TRIMESTRE</th>\n",
              "      <th>NRO_HOGAR</th>\n",
              "      <th>REALIZADA</th>\n",
              "      <th>REGION</th>\n",
              "      <th>MAS_500</th>\n",
              "      <th>AGLOMERADO</th>\n",
              "      <th>PONDERA</th>\n",
              "      <th>IV1</th>\n",
              "      <th>IV1_ESP</th>\n",
              "      <th>IV2</th>\n",
              "      <th>IV3</th>\n",
              "      <th>IV3_ESP</th>\n",
              "      <th>IV4</th>\n",
              "      <th>IV5</th>\n",
              "      <th>IV6</th>\n",
              "      <th>IV7</th>\n",
              "      <th>IV7_ESP</th>\n",
              "      <th>IV8</th>\n",
              "      <th>IV9</th>\n",
              "      <th>IV10</th>\n",
              "      <th>IV11</th>\n",
              "      <th>IV12_1</th>\n",
              "      <th>IV12_2</th>\n",
              "      <th>IV12_3</th>\n",
              "      <th>II1</th>\n",
              "      <th>II2</th>\n",
              "      <th>II3</th>\n",
              "      <th>II3_1</th>\n",
              "      <th>II4_1</th>\n",
              "      <th>II4_2</th>\n",
              "      <th>II4_3</th>\n",
              "      <th>II5</th>\n",
              "      <th>II5_1</th>\n",
              "      <th>II6</th>\n",
              "      <th>II6_1</th>\n",
              "      <th>II7</th>\n",
              "      <th>II7_ESP</th>\n",
              "      <th>II8</th>\n",
              "      <th>...</th>\n",
              "      <th>V15</th>\n",
              "      <th>V16</th>\n",
              "      <th>V17</th>\n",
              "      <th>V18</th>\n",
              "      <th>V19_A</th>\n",
              "      <th>V19_B</th>\n",
              "      <th>IX_TOT</th>\n",
              "      <th>IX_MEN10</th>\n",
              "      <th>IX_MAYEQ10</th>\n",
              "      <th>ITF</th>\n",
              "      <th>DECIFR</th>\n",
              "      <th>IDECIFR</th>\n",
              "      <th>RDECIFR</th>\n",
              "      <th>GDECIFR</th>\n",
              "      <th>PDECIFR</th>\n",
              "      <th>ADECIFR</th>\n",
              "      <th>IPCF</th>\n",
              "      <th>DECCFR</th>\n",
              "      <th>IDECCFR</th>\n",
              "      <th>RDECCFR</th>\n",
              "      <th>GDECCFR</th>\n",
              "      <th>PDECCFR</th>\n",
              "      <th>ADECCFR</th>\n",
              "      <th>PONDIH</th>\n",
              "      <th>VII1_1</th>\n",
              "      <th>VII1_2</th>\n",
              "      <th>VII2_1</th>\n",
              "      <th>VII2_2</th>\n",
              "      <th>VII2_3</th>\n",
              "      <th>VII2_4</th>\n",
              "      <th>parentesco</th>\n",
              "      <th>genero</th>\n",
              "      <th>edad</th>\n",
              "      <th>cob_medica</th>\n",
              "      <th>NIVEL_ED</th>\n",
              "      <th>CAT_OCUP</th>\n",
              "      <th>CAT_INAC</th>\n",
              "      <th>AE_ctrol_ind</th>\n",
              "      <th>AE_ctrol_ind_sum</th>\n",
              "      <th>adulto_equivalente</th>\n",
              "    </tr>\n",
              "  </thead>\n",
              "  <tbody>\n",
              "    <tr>\n",
              "      <th>0</th>\n",
              "      <td>TQRMNOQRPHMOKOCDEOJAH00714382</td>\n",
              "      <td>2021</td>\n",
              "      <td>4</td>\n",
              "      <td>1</td>\n",
              "      <td>1</td>\n",
              "      <td>44</td>\n",
              "      <td>N</td>\n",
              "      <td>93</td>\n",
              "      <td>116</td>\n",
              "      <td>1</td>\n",
              "      <td>NaN</td>\n",
              "      <td>1</td>\n",
              "      <td>1</td>\n",
              "      <td>NaN</td>\n",
              "      <td>4</td>\n",
              "      <td>1</td>\n",
              "      <td>1</td>\n",
              "      <td>1</td>\n",
              "      <td>NaN</td>\n",
              "      <td>1</td>\n",
              "      <td>1</td>\n",
              "      <td>1</td>\n",
              "      <td>1</td>\n",
              "      <td>2</td>\n",
              "      <td>2</td>\n",
              "      <td>2</td>\n",
              "      <td>1</td>\n",
              "      <td>1</td>\n",
              "      <td>2</td>\n",
              "      <td>0</td>\n",
              "      <td>1</td>\n",
              "      <td>2</td>\n",
              "      <td>2</td>\n",
              "      <td>2</td>\n",
              "      <td>0</td>\n",
              "      <td>2</td>\n",
              "      <td>0</td>\n",
              "      <td>1</td>\n",
              "      <td>NaN</td>\n",
              "      <td>1</td>\n",
              "      <td>...</td>\n",
              "      <td>2</td>\n",
              "      <td>2</td>\n",
              "      <td>2</td>\n",
              "      <td>2</td>\n",
              "      <td>2</td>\n",
              "      <td>2</td>\n",
              "      <td>3</td>\n",
              "      <td>2</td>\n",
              "      <td>1</td>\n",
              "      <td>0</td>\n",
              "      <td>12</td>\n",
              "      <td>12.0</td>\n",
              "      <td>12</td>\n",
              "      <td>NaN</td>\n",
              "      <td>12.0</td>\n",
              "      <td>12</td>\n",
              "      <td>0.0</td>\n",
              "      <td>12</td>\n",
              "      <td>12.0</td>\n",
              "      <td>12</td>\n",
              "      <td>NaN</td>\n",
              "      <td>12.0</td>\n",
              "      <td>12</td>\n",
              "      <td>0</td>\n",
              "      <td>1</td>\n",
              "      <td>0</td>\n",
              "      <td>98</td>\n",
              "      <td>0</td>\n",
              "      <td>0</td>\n",
              "      <td>0</td>\n",
              "      <td>1</td>\n",
              "      <td>2</td>\n",
              "      <td>38</td>\n",
              "      <td>1</td>\n",
              "      <td>6</td>\n",
              "      <td>3</td>\n",
              "      <td>0</td>\n",
              "      <td>0.77</td>\n",
              "      <td>2.10</td>\n",
              "      <td>0.00</td>\n",
              "    </tr>\n",
              "    <tr>\n",
              "      <th>1</th>\n",
              "      <td>TQRMNOQYUHMMKPCDEOJAH00714383</td>\n",
              "      <td>2021</td>\n",
              "      <td>4</td>\n",
              "      <td>1</td>\n",
              "      <td>1</td>\n",
              "      <td>44</td>\n",
              "      <td>N</td>\n",
              "      <td>93</td>\n",
              "      <td>46</td>\n",
              "      <td>1</td>\n",
              "      <td>NaN</td>\n",
              "      <td>4</td>\n",
              "      <td>1</td>\n",
              "      <td>NaN</td>\n",
              "      <td>2</td>\n",
              "      <td>1</td>\n",
              "      <td>1</td>\n",
              "      <td>1</td>\n",
              "      <td>NaN</td>\n",
              "      <td>1</td>\n",
              "      <td>1</td>\n",
              "      <td>1</td>\n",
              "      <td>1</td>\n",
              "      <td>2</td>\n",
              "      <td>2</td>\n",
              "      <td>2</td>\n",
              "      <td>4</td>\n",
              "      <td>2</td>\n",
              "      <td>2</td>\n",
              "      <td>0</td>\n",
              "      <td>1</td>\n",
              "      <td>2</td>\n",
              "      <td>1</td>\n",
              "      <td>2</td>\n",
              "      <td>0</td>\n",
              "      <td>2</td>\n",
              "      <td>0</td>\n",
              "      <td>3</td>\n",
              "      <td>NaN</td>\n",
              "      <td>1</td>\n",
              "      <td>...</td>\n",
              "      <td>2</td>\n",
              "      <td>2</td>\n",
              "      <td>2</td>\n",
              "      <td>2</td>\n",
              "      <td>2</td>\n",
              "      <td>2</td>\n",
              "      <td>2</td>\n",
              "      <td>0</td>\n",
              "      <td>2</td>\n",
              "      <td>0</td>\n",
              "      <td>12</td>\n",
              "      <td>12.0</td>\n",
              "      <td>12</td>\n",
              "      <td>NaN</td>\n",
              "      <td>12.0</td>\n",
              "      <td>12</td>\n",
              "      <td>0.0</td>\n",
              "      <td>12</td>\n",
              "      <td>12.0</td>\n",
              "      <td>12</td>\n",
              "      <td>NaN</td>\n",
              "      <td>12.0</td>\n",
              "      <td>12</td>\n",
              "      <td>0</td>\n",
              "      <td>1</td>\n",
              "      <td>0</td>\n",
              "      <td>98</td>\n",
              "      <td>0</td>\n",
              "      <td>0</td>\n",
              "      <td>0</td>\n",
              "      <td>1</td>\n",
              "      <td>2</td>\n",
              "      <td>64</td>\n",
              "      <td>1</td>\n",
              "      <td>6</td>\n",
              "      <td>0</td>\n",
              "      <td>1</td>\n",
              "      <td>0.67</td>\n",
              "      <td>1.44</td>\n",
              "      <td>0.00</td>\n",
              "    </tr>\n",
              "    <tr>\n",
              "      <th>2</th>\n",
              "      <td>TQRMNOPSWHMMKRCDEOJAH00714384</td>\n",
              "      <td>2021</td>\n",
              "      <td>4</td>\n",
              "      <td>1</td>\n",
              "      <td>1</td>\n",
              "      <td>44</td>\n",
              "      <td>N</td>\n",
              "      <td>93</td>\n",
              "      <td>43</td>\n",
              "      <td>1</td>\n",
              "      <td>NaN</td>\n",
              "      <td>3</td>\n",
              "      <td>1</td>\n",
              "      <td>NaN</td>\n",
              "      <td>1</td>\n",
              "      <td>1</td>\n",
              "      <td>1</td>\n",
              "      <td>1</td>\n",
              "      <td>NaN</td>\n",
              "      <td>1</td>\n",
              "      <td>1</td>\n",
              "      <td>1</td>\n",
              "      <td>1</td>\n",
              "      <td>2</td>\n",
              "      <td>2</td>\n",
              "      <td>2</td>\n",
              "      <td>3</td>\n",
              "      <td>1</td>\n",
              "      <td>2</td>\n",
              "      <td>0</td>\n",
              "      <td>1</td>\n",
              "      <td>1</td>\n",
              "      <td>2</td>\n",
              "      <td>2</td>\n",
              "      <td>0</td>\n",
              "      <td>2</td>\n",
              "      <td>0</td>\n",
              "      <td>1</td>\n",
              "      <td>NaN</td>\n",
              "      <td>1</td>\n",
              "      <td>...</td>\n",
              "      <td>1</td>\n",
              "      <td>1</td>\n",
              "      <td>2</td>\n",
              "      <td>2</td>\n",
              "      <td>2</td>\n",
              "      <td>2</td>\n",
              "      <td>2</td>\n",
              "      <td>0</td>\n",
              "      <td>2</td>\n",
              "      <td>77500</td>\n",
              "      <td>5</td>\n",
              "      <td>6.0</td>\n",
              "      <td>4</td>\n",
              "      <td>NaN</td>\n",
              "      <td>6.0</td>\n",
              "      <td>4</td>\n",
              "      <td>38750.0</td>\n",
              "      <td>7</td>\n",
              "      <td>7.0</td>\n",
              "      <td>5</td>\n",
              "      <td>NaN</td>\n",
              "      <td>7.0</td>\n",
              "      <td>5</td>\n",
              "      <td>57</td>\n",
              "      <td>1</td>\n",
              "      <td>2</td>\n",
              "      <td>98</td>\n",
              "      <td>0</td>\n",
              "      <td>0</td>\n",
              "      <td>0</td>\n",
              "      <td>1</td>\n",
              "      <td>1</td>\n",
              "      <td>72</td>\n",
              "      <td>1</td>\n",
              "      <td>2</td>\n",
              "      <td>0</td>\n",
              "      <td>1</td>\n",
              "      <td>0.83</td>\n",
              "      <td>1.50</td>\n",
              "      <td>51666.67</td>\n",
              "    </tr>\n",
              "    <tr>\n",
              "      <th>3</th>\n",
              "      <td>TQRMNOQYSHMNKTCDEOJAH00714386</td>\n",
              "      <td>2021</td>\n",
              "      <td>4</td>\n",
              "      <td>1</td>\n",
              "      <td>1</td>\n",
              "      <td>44</td>\n",
              "      <td>N</td>\n",
              "      <td>93</td>\n",
              "      <td>64</td>\n",
              "      <td>2</td>\n",
              "      <td>NaN</td>\n",
              "      <td>2</td>\n",
              "      <td>1</td>\n",
              "      <td>NaN</td>\n",
              "      <td>4</td>\n",
              "      <td>1</td>\n",
              "      <td>1</td>\n",
              "      <td>1</td>\n",
              "      <td>NaN</td>\n",
              "      <td>1</td>\n",
              "      <td>1</td>\n",
              "      <td>1</td>\n",
              "      <td>1</td>\n",
              "      <td>2</td>\n",
              "      <td>2</td>\n",
              "      <td>2</td>\n",
              "      <td>2</td>\n",
              "      <td>2</td>\n",
              "      <td>2</td>\n",
              "      <td>0</td>\n",
              "      <td>1</td>\n",
              "      <td>2</td>\n",
              "      <td>2</td>\n",
              "      <td>2</td>\n",
              "      <td>0</td>\n",
              "      <td>2</td>\n",
              "      <td>0</td>\n",
              "      <td>6</td>\n",
              "      <td>NaN</td>\n",
              "      <td>1</td>\n",
              "      <td>...</td>\n",
              "      <td>2</td>\n",
              "      <td>1</td>\n",
              "      <td>2</td>\n",
              "      <td>2</td>\n",
              "      <td>2</td>\n",
              "      <td>2</td>\n",
              "      <td>4</td>\n",
              "      <td>1</td>\n",
              "      <td>3</td>\n",
              "      <td>85000</td>\n",
              "      <td>6</td>\n",
              "      <td>6.0</td>\n",
              "      <td>5</td>\n",
              "      <td>NaN</td>\n",
              "      <td>6.0</td>\n",
              "      <td>5</td>\n",
              "      <td>21250.0</td>\n",
              "      <td>4</td>\n",
              "      <td>4.0</td>\n",
              "      <td>3</td>\n",
              "      <td>NaN</td>\n",
              "      <td>4.0</td>\n",
              "      <td>3</td>\n",
              "      <td>58</td>\n",
              "      <td>2</td>\n",
              "      <td>0</td>\n",
              "      <td>98</td>\n",
              "      <td>0</td>\n",
              "      <td>0</td>\n",
              "      <td>0</td>\n",
              "      <td>1</td>\n",
              "      <td>1</td>\n",
              "      <td>38</td>\n",
              "      <td>1</td>\n",
              "      <td>4</td>\n",
              "      <td>3</td>\n",
              "      <td>0</td>\n",
              "      <td>1.00</td>\n",
              "      <td>3.13</td>\n",
              "      <td>27156.55</td>\n",
              "    </tr>\n",
              "    <tr>\n",
              "      <th>4</th>\n",
              "      <td>TQRMNOQXVHLLPQCDEIJAH00718674</td>\n",
              "      <td>2021</td>\n",
              "      <td>4</td>\n",
              "      <td>1</td>\n",
              "      <td>1</td>\n",
              "      <td>1</td>\n",
              "      <td>S</td>\n",
              "      <td>33</td>\n",
              "      <td>2822</td>\n",
              "      <td>1</td>\n",
              "      <td>NaN</td>\n",
              "      <td>3</td>\n",
              "      <td>1</td>\n",
              "      <td>NaN</td>\n",
              "      <td>4</td>\n",
              "      <td>1</td>\n",
              "      <td>1</td>\n",
              "      <td>1</td>\n",
              "      <td>NaN</td>\n",
              "      <td>1</td>\n",
              "      <td>1</td>\n",
              "      <td>2</td>\n",
              "      <td>3</td>\n",
              "      <td>2</td>\n",
              "      <td>2</td>\n",
              "      <td>2</td>\n",
              "      <td>3</td>\n",
              "      <td>3</td>\n",
              "      <td>2</td>\n",
              "      <td>0</td>\n",
              "      <td>1</td>\n",
              "      <td>1</td>\n",
              "      <td>2</td>\n",
              "      <td>2</td>\n",
              "      <td>0</td>\n",
              "      <td>2</td>\n",
              "      <td>0</td>\n",
              "      <td>1</td>\n",
              "      <td>NaN</td>\n",
              "      <td>1</td>\n",
              "      <td>...</td>\n",
              "      <td>1</td>\n",
              "      <td>1</td>\n",
              "      <td>2</td>\n",
              "      <td>2</td>\n",
              "      <td>2</td>\n",
              "      <td>2</td>\n",
              "      <td>4</td>\n",
              "      <td>0</td>\n",
              "      <td>4</td>\n",
              "      <td>96870</td>\n",
              "      <td>7</td>\n",
              "      <td>NaN</td>\n",
              "      <td>6</td>\n",
              "      <td>7.0</td>\n",
              "      <td>NaN</td>\n",
              "      <td>7</td>\n",
              "      <td>24217.5</td>\n",
              "      <td>4</td>\n",
              "      <td>NaN</td>\n",
              "      <td>4</td>\n",
              "      <td>4.0</td>\n",
              "      <td>NaN</td>\n",
              "      <td>4</td>\n",
              "      <td>5658</td>\n",
              "      <td>1</td>\n",
              "      <td>2</td>\n",
              "      <td>98</td>\n",
              "      <td>0</td>\n",
              "      <td>0</td>\n",
              "      <td>0</td>\n",
              "      <td>1</td>\n",
              "      <td>1</td>\n",
              "      <td>67</td>\n",
              "      <td>1</td>\n",
              "      <td>4</td>\n",
              "      <td>3</td>\n",
              "      <td>0</td>\n",
              "      <td>0.83</td>\n",
              "      <td>3.33</td>\n",
              "      <td>29090.09</td>\n",
              "    </tr>\n",
              "  </tbody>\n",
              "</table>\n",
              "<p>5 rows × 98 columns</p>\n",
              "</div>\n",
              "      <button class=\"colab-df-convert\" onclick=\"convertToInteractive('df-3d2cb4c6-0c48-4503-9392-a7196a1d7033')\"\n",
              "              title=\"Convert this dataframe to an interactive table.\"\n",
              "              style=\"display:none;\">\n",
              "        \n",
              "  <svg xmlns=\"http://www.w3.org/2000/svg\" height=\"24px\"viewBox=\"0 0 24 24\"\n",
              "       width=\"24px\">\n",
              "    <path d=\"M0 0h24v24H0V0z\" fill=\"none\"/>\n",
              "    <path d=\"M18.56 5.44l.94 2.06.94-2.06 2.06-.94-2.06-.94-.94-2.06-.94 2.06-2.06.94zm-11 1L8.5 8.5l.94-2.06 2.06-.94-2.06-.94L8.5 2.5l-.94 2.06-2.06.94zm10 10l.94 2.06.94-2.06 2.06-.94-2.06-.94-.94-2.06-.94 2.06-2.06.94z\"/><path d=\"M17.41 7.96l-1.37-1.37c-.4-.4-.92-.59-1.43-.59-.52 0-1.04.2-1.43.59L10.3 9.45l-7.72 7.72c-.78.78-.78 2.05 0 2.83L4 21.41c.39.39.9.59 1.41.59.51 0 1.02-.2 1.41-.59l7.78-7.78 2.81-2.81c.8-.78.8-2.07 0-2.86zM5.41 20L4 18.59l7.72-7.72 1.47 1.35L5.41 20z\"/>\n",
              "  </svg>\n",
              "      </button>\n",
              "      \n",
              "  <style>\n",
              "    .colab-df-container {\n",
              "      display:flex;\n",
              "      flex-wrap:wrap;\n",
              "      gap: 12px;\n",
              "    }\n",
              "\n",
              "    .colab-df-convert {\n",
              "      background-color: #E8F0FE;\n",
              "      border: none;\n",
              "      border-radius: 50%;\n",
              "      cursor: pointer;\n",
              "      display: none;\n",
              "      fill: #1967D2;\n",
              "      height: 32px;\n",
              "      padding: 0 0 0 0;\n",
              "      width: 32px;\n",
              "    }\n",
              "\n",
              "    .colab-df-convert:hover {\n",
              "      background-color: #E2EBFA;\n",
              "      box-shadow: 0px 1px 2px rgba(60, 64, 67, 0.3), 0px 1px 3px 1px rgba(60, 64, 67, 0.15);\n",
              "      fill: #174EA6;\n",
              "    }\n",
              "\n",
              "    [theme=dark] .colab-df-convert {\n",
              "      background-color: #3B4455;\n",
              "      fill: #D2E3FC;\n",
              "    }\n",
              "\n",
              "    [theme=dark] .colab-df-convert:hover {\n",
              "      background-color: #434B5C;\n",
              "      box-shadow: 0px 1px 3px 1px rgba(0, 0, 0, 0.15);\n",
              "      filter: drop-shadow(0px 1px 2px rgba(0, 0, 0, 0.3));\n",
              "      fill: #FFFFFF;\n",
              "    }\n",
              "  </style>\n",
              "\n",
              "      <script>\n",
              "        const buttonEl =\n",
              "          document.querySelector('#df-3d2cb4c6-0c48-4503-9392-a7196a1d7033 button.colab-df-convert');\n",
              "        buttonEl.style.display =\n",
              "          google.colab.kernel.accessAllowed ? 'block' : 'none';\n",
              "\n",
              "        async function convertToInteractive(key) {\n",
              "          const element = document.querySelector('#df-3d2cb4c6-0c48-4503-9392-a7196a1d7033');\n",
              "          const dataTable =\n",
              "            await google.colab.kernel.invokeFunction('convertToInteractive',\n",
              "                                                     [key], {});\n",
              "          if (!dataTable) return;\n",
              "\n",
              "          const docLinkHtml = 'Like what you see? Visit the ' +\n",
              "            '<a target=\"_blank\" href=https://colab.research.google.com/notebooks/data_table.ipynb>data table notebook</a>'\n",
              "            + ' to learn more about interactive tables.';\n",
              "          element.innerHTML = '';\n",
              "          dataTable['output_type'] = 'display_data';\n",
              "          await google.colab.output.renderOutput(dataTable, element);\n",
              "          const docLink = document.createElement('div');\n",
              "          docLink.innerHTML = docLinkHtml;\n",
              "          element.appendChild(docLink);\n",
              "        }\n",
              "      </script>\n",
              "    </div>\n",
              "  </div>\n",
              "  "
            ]
          },
          "metadata": {},
          "execution_count": 92
        }
      ],
      "source": [
        "df_dataset.head()"
      ]
    },
    {
      "cell_type": "code",
      "execution_count": null,
      "metadata": {
        "id": "8hYnKNHsevJ4"
      },
      "outputs": [],
      "source": [
        "#creamos la variable objetivo, pobreza\n",
        "\n",
        "\"\"\"\n",
        "De acuerdo con el archivo \"canasta_01_22DEF7D4AE32.pdf\", la canasta básica total para un adulto equivalente, para que\n",
        "no ingrese en la línea de pobreza, es de $24.643.\n",
        "\n",
        "Creamos la varibale pobreza, donde todos los hogares que tengan ingresos menores a este valor son pobres.\n",
        "\"\"\"\n",
        "\n",
        "df_dataset['pobreza'] = np.where(df_dataset['adulto_equivalente']<24643.00,1,0)\n"
      ]
    },
    {
      "cell_type": "code",
      "execution_count": null,
      "metadata": {
        "colab": {
          "base_uri": "https://localhost:8080/"
        },
        "id": "oKh4HIQqtN1b",
        "outputId": "81330b44-01f0-43f7-d16a-c682dc71e838"
      },
      "outputs": [
        {
          "output_type": "execute_result",
          "data": {
            "text/plain": [
              "0    9196\n",
              "1    7841\n",
              "Name: pobreza, dtype: int64"
            ]
          },
          "metadata": {},
          "execution_count": 94
        }
      ],
      "source": [
        "df_dataset['pobreza'].value_counts()"
      ]
    },
    {
      "cell_type": "code",
      "execution_count": null,
      "metadata": {
        "colab": {
          "base_uri": "https://localhost:8080/",
          "height": 299
        },
        "id": "AYFOGV4TlVRr",
        "outputId": "fbc19a92-144f-4bd4-bf46-d067bb1b8935"
      },
      "outputs": [
        {
          "output_type": "execute_result",
          "data": {
            "text/plain": [
              "                          CODUSU  ANO4  TRIMESTRE  NRO_HOGAR  REALIZADA  \\\n",
              "0  TQRMNOQRPHMOKOCDEOJAH00714382  2021          4          1          1   \n",
              "1  TQRMNOQYUHMMKPCDEOJAH00714383  2021          4          1          1   \n",
              "2  TQRMNOPSWHMMKRCDEOJAH00714384  2021          4          1          1   \n",
              "3  TQRMNOQYSHMNKTCDEOJAH00714386  2021          4          1          1   \n",
              "4  TQRMNOQXVHLLPQCDEIJAH00718674  2021          4          1          1   \n",
              "\n",
              "   REGION MAS_500  AGLOMERADO  PONDERA  IV1 IV1_ESP  IV2  IV3 IV3_ESP  IV4  \\\n",
              "0      44       N          93      116    1     NaN    1    1     NaN    4   \n",
              "1      44       N          93       46    1     NaN    4    1     NaN    2   \n",
              "2      44       N          93       43    1     NaN    3    1     NaN    1   \n",
              "3      44       N          93       64    2     NaN    2    1     NaN    4   \n",
              "4       1       S          33     2822    1     NaN    3    1     NaN    4   \n",
              "\n",
              "   IV5  IV6  IV7 IV7_ESP  IV8  IV9  IV10  IV11  IV12_1  IV12_2  IV12_3  II1  \\\n",
              "0    1    1    1     NaN    1    1     1     1       2       2       2    1   \n",
              "1    1    1    1     NaN    1    1     1     1       2       2       2    4   \n",
              "2    1    1    1     NaN    1    1     1     1       2       2       2    3   \n",
              "3    1    1    1     NaN    1    1     1     1       2       2       2    2   \n",
              "4    1    1    1     NaN    1    1     2     3       2       2       2    3   \n",
              "\n",
              "   II2  II3  II3_1  II4_1  II4_2  II4_3  II5  II5_1  II6  II6_1  II7 II7_ESP  \\\n",
              "0    1    2      0      1      2      2    2      0    2      0    1     NaN   \n",
              "1    2    2      0      1      2      1    2      0    2      0    3     NaN   \n",
              "2    1    2      0      1      1      2    2      0    2      0    1     NaN   \n",
              "3    2    2      0      1      2      2    2      0    2      0    6     NaN   \n",
              "4    3    2      0      1      1      2    2      0    2      0    1     NaN   \n",
              "\n",
              "   II8  ... V16  V17  V18  V19_A  V19_B  IX_TOT  IX_MEN10  IX_MAYEQ10    ITF  \\\n",
              "0    1  ...   2    2    2      2      2       3         2           1      0   \n",
              "1    1  ...   2    2    2      2      2       2         0           2      0   \n",
              "2    1  ...   1    2    2      2      2       2         0           2  77500   \n",
              "3    1  ...   1    2    2      2      2       4         1           3  85000   \n",
              "4    1  ...   1    2    2      2      2       4         0           4  96870   \n",
              "\n",
              "   DECIFR  IDECIFR  RDECIFR  GDECIFR  PDECIFR  ADECIFR     IPCF  DECCFR  \\\n",
              "0      12     12.0       12      NaN     12.0       12      0.0      12   \n",
              "1      12     12.0       12      NaN     12.0       12      0.0      12   \n",
              "2       5      6.0        4      NaN      6.0        4  38750.0       7   \n",
              "3       6      6.0        5      NaN      6.0        5  21250.0       4   \n",
              "4       7      NaN        6      7.0      NaN        7  24217.5       4   \n",
              "\n",
              "   IDECCFR  RDECCFR  GDECCFR  PDECCFR  ADECCFR  PONDIH  VII1_1  VII1_2  \\\n",
              "0     12.0       12      NaN     12.0       12       0       1       0   \n",
              "1     12.0       12      NaN     12.0       12       0       1       0   \n",
              "2      7.0        5      NaN      7.0        5      57       1       2   \n",
              "3      4.0        3      NaN      4.0        3      58       2       0   \n",
              "4      NaN        4      4.0      NaN        4    5658       1       2   \n",
              "\n",
              "   VII2_1  VII2_2  VII2_3  VII2_4  parentesco  genero  edad  cob_medica  \\\n",
              "0      98       0       0       0           1       2    38           1   \n",
              "1      98       0       0       0           1       2    64           1   \n",
              "2      98       0       0       0           1       1    72           1   \n",
              "3      98       0       0       0           1       1    38           1   \n",
              "4      98       0       0       0           1       1    67           1   \n",
              "\n",
              "   NIVEL_ED  CAT_OCUP  CAT_INAC  AE_ctrol_ind  AE_ctrol_ind_sum  \\\n",
              "0         6         3         0          0.77              2.10   \n",
              "1         6         0         1          0.67              1.44   \n",
              "2         2         0         1          0.83              1.50   \n",
              "3         4         3         0          1.00              3.13   \n",
              "4         4         3         0          0.83              3.33   \n",
              "\n",
              "   adulto_equivalente  pobreza  \n",
              "0                0.00        1  \n",
              "1                0.00        1  \n",
              "2            51666.67        0  \n",
              "3            27156.55        0  \n",
              "4            29090.09        0  \n",
              "\n",
              "[5 rows x 99 columns]"
            ],
            "text/html": [
              "\n",
              "  <div id=\"df-8e5e197f-e7be-4705-9984-90004e174c27\">\n",
              "    <div class=\"colab-df-container\">\n",
              "      <div>\n",
              "<style scoped>\n",
              "    .dataframe tbody tr th:only-of-type {\n",
              "        vertical-align: middle;\n",
              "    }\n",
              "\n",
              "    .dataframe tbody tr th {\n",
              "        vertical-align: top;\n",
              "    }\n",
              "\n",
              "    .dataframe thead th {\n",
              "        text-align: right;\n",
              "    }\n",
              "</style>\n",
              "<table border=\"1\" class=\"dataframe\">\n",
              "  <thead>\n",
              "    <tr style=\"text-align: right;\">\n",
              "      <th></th>\n",
              "      <th>CODUSU</th>\n",
              "      <th>ANO4</th>\n",
              "      <th>TRIMESTRE</th>\n",
              "      <th>NRO_HOGAR</th>\n",
              "      <th>REALIZADA</th>\n",
              "      <th>REGION</th>\n",
              "      <th>MAS_500</th>\n",
              "      <th>AGLOMERADO</th>\n",
              "      <th>PONDERA</th>\n",
              "      <th>IV1</th>\n",
              "      <th>IV1_ESP</th>\n",
              "      <th>IV2</th>\n",
              "      <th>IV3</th>\n",
              "      <th>IV3_ESP</th>\n",
              "      <th>IV4</th>\n",
              "      <th>IV5</th>\n",
              "      <th>IV6</th>\n",
              "      <th>IV7</th>\n",
              "      <th>IV7_ESP</th>\n",
              "      <th>IV8</th>\n",
              "      <th>IV9</th>\n",
              "      <th>IV10</th>\n",
              "      <th>IV11</th>\n",
              "      <th>IV12_1</th>\n",
              "      <th>IV12_2</th>\n",
              "      <th>IV12_3</th>\n",
              "      <th>II1</th>\n",
              "      <th>II2</th>\n",
              "      <th>II3</th>\n",
              "      <th>II3_1</th>\n",
              "      <th>II4_1</th>\n",
              "      <th>II4_2</th>\n",
              "      <th>II4_3</th>\n",
              "      <th>II5</th>\n",
              "      <th>II5_1</th>\n",
              "      <th>II6</th>\n",
              "      <th>II6_1</th>\n",
              "      <th>II7</th>\n",
              "      <th>II7_ESP</th>\n",
              "      <th>II8</th>\n",
              "      <th>...</th>\n",
              "      <th>V16</th>\n",
              "      <th>V17</th>\n",
              "      <th>V18</th>\n",
              "      <th>V19_A</th>\n",
              "      <th>V19_B</th>\n",
              "      <th>IX_TOT</th>\n",
              "      <th>IX_MEN10</th>\n",
              "      <th>IX_MAYEQ10</th>\n",
              "      <th>ITF</th>\n",
              "      <th>DECIFR</th>\n",
              "      <th>IDECIFR</th>\n",
              "      <th>RDECIFR</th>\n",
              "      <th>GDECIFR</th>\n",
              "      <th>PDECIFR</th>\n",
              "      <th>ADECIFR</th>\n",
              "      <th>IPCF</th>\n",
              "      <th>DECCFR</th>\n",
              "      <th>IDECCFR</th>\n",
              "      <th>RDECCFR</th>\n",
              "      <th>GDECCFR</th>\n",
              "      <th>PDECCFR</th>\n",
              "      <th>ADECCFR</th>\n",
              "      <th>PONDIH</th>\n",
              "      <th>VII1_1</th>\n",
              "      <th>VII1_2</th>\n",
              "      <th>VII2_1</th>\n",
              "      <th>VII2_2</th>\n",
              "      <th>VII2_3</th>\n",
              "      <th>VII2_4</th>\n",
              "      <th>parentesco</th>\n",
              "      <th>genero</th>\n",
              "      <th>edad</th>\n",
              "      <th>cob_medica</th>\n",
              "      <th>NIVEL_ED</th>\n",
              "      <th>CAT_OCUP</th>\n",
              "      <th>CAT_INAC</th>\n",
              "      <th>AE_ctrol_ind</th>\n",
              "      <th>AE_ctrol_ind_sum</th>\n",
              "      <th>adulto_equivalente</th>\n",
              "      <th>pobreza</th>\n",
              "    </tr>\n",
              "  </thead>\n",
              "  <tbody>\n",
              "    <tr>\n",
              "      <th>0</th>\n",
              "      <td>TQRMNOQRPHMOKOCDEOJAH00714382</td>\n",
              "      <td>2021</td>\n",
              "      <td>4</td>\n",
              "      <td>1</td>\n",
              "      <td>1</td>\n",
              "      <td>44</td>\n",
              "      <td>N</td>\n",
              "      <td>93</td>\n",
              "      <td>116</td>\n",
              "      <td>1</td>\n",
              "      <td>NaN</td>\n",
              "      <td>1</td>\n",
              "      <td>1</td>\n",
              "      <td>NaN</td>\n",
              "      <td>4</td>\n",
              "      <td>1</td>\n",
              "      <td>1</td>\n",
              "      <td>1</td>\n",
              "      <td>NaN</td>\n",
              "      <td>1</td>\n",
              "      <td>1</td>\n",
              "      <td>1</td>\n",
              "      <td>1</td>\n",
              "      <td>2</td>\n",
              "      <td>2</td>\n",
              "      <td>2</td>\n",
              "      <td>1</td>\n",
              "      <td>1</td>\n",
              "      <td>2</td>\n",
              "      <td>0</td>\n",
              "      <td>1</td>\n",
              "      <td>2</td>\n",
              "      <td>2</td>\n",
              "      <td>2</td>\n",
              "      <td>0</td>\n",
              "      <td>2</td>\n",
              "      <td>0</td>\n",
              "      <td>1</td>\n",
              "      <td>NaN</td>\n",
              "      <td>1</td>\n",
              "      <td>...</td>\n",
              "      <td>2</td>\n",
              "      <td>2</td>\n",
              "      <td>2</td>\n",
              "      <td>2</td>\n",
              "      <td>2</td>\n",
              "      <td>3</td>\n",
              "      <td>2</td>\n",
              "      <td>1</td>\n",
              "      <td>0</td>\n",
              "      <td>12</td>\n",
              "      <td>12.0</td>\n",
              "      <td>12</td>\n",
              "      <td>NaN</td>\n",
              "      <td>12.0</td>\n",
              "      <td>12</td>\n",
              "      <td>0.0</td>\n",
              "      <td>12</td>\n",
              "      <td>12.0</td>\n",
              "      <td>12</td>\n",
              "      <td>NaN</td>\n",
              "      <td>12.0</td>\n",
              "      <td>12</td>\n",
              "      <td>0</td>\n",
              "      <td>1</td>\n",
              "      <td>0</td>\n",
              "      <td>98</td>\n",
              "      <td>0</td>\n",
              "      <td>0</td>\n",
              "      <td>0</td>\n",
              "      <td>1</td>\n",
              "      <td>2</td>\n",
              "      <td>38</td>\n",
              "      <td>1</td>\n",
              "      <td>6</td>\n",
              "      <td>3</td>\n",
              "      <td>0</td>\n",
              "      <td>0.77</td>\n",
              "      <td>2.10</td>\n",
              "      <td>0.00</td>\n",
              "      <td>1</td>\n",
              "    </tr>\n",
              "    <tr>\n",
              "      <th>1</th>\n",
              "      <td>TQRMNOQYUHMMKPCDEOJAH00714383</td>\n",
              "      <td>2021</td>\n",
              "      <td>4</td>\n",
              "      <td>1</td>\n",
              "      <td>1</td>\n",
              "      <td>44</td>\n",
              "      <td>N</td>\n",
              "      <td>93</td>\n",
              "      <td>46</td>\n",
              "      <td>1</td>\n",
              "      <td>NaN</td>\n",
              "      <td>4</td>\n",
              "      <td>1</td>\n",
              "      <td>NaN</td>\n",
              "      <td>2</td>\n",
              "      <td>1</td>\n",
              "      <td>1</td>\n",
              "      <td>1</td>\n",
              "      <td>NaN</td>\n",
              "      <td>1</td>\n",
              "      <td>1</td>\n",
              "      <td>1</td>\n",
              "      <td>1</td>\n",
              "      <td>2</td>\n",
              "      <td>2</td>\n",
              "      <td>2</td>\n",
              "      <td>4</td>\n",
              "      <td>2</td>\n",
              "      <td>2</td>\n",
              "      <td>0</td>\n",
              "      <td>1</td>\n",
              "      <td>2</td>\n",
              "      <td>1</td>\n",
              "      <td>2</td>\n",
              "      <td>0</td>\n",
              "      <td>2</td>\n",
              "      <td>0</td>\n",
              "      <td>3</td>\n",
              "      <td>NaN</td>\n",
              "      <td>1</td>\n",
              "      <td>...</td>\n",
              "      <td>2</td>\n",
              "      <td>2</td>\n",
              "      <td>2</td>\n",
              "      <td>2</td>\n",
              "      <td>2</td>\n",
              "      <td>2</td>\n",
              "      <td>0</td>\n",
              "      <td>2</td>\n",
              "      <td>0</td>\n",
              "      <td>12</td>\n",
              "      <td>12.0</td>\n",
              "      <td>12</td>\n",
              "      <td>NaN</td>\n",
              "      <td>12.0</td>\n",
              "      <td>12</td>\n",
              "      <td>0.0</td>\n",
              "      <td>12</td>\n",
              "      <td>12.0</td>\n",
              "      <td>12</td>\n",
              "      <td>NaN</td>\n",
              "      <td>12.0</td>\n",
              "      <td>12</td>\n",
              "      <td>0</td>\n",
              "      <td>1</td>\n",
              "      <td>0</td>\n",
              "      <td>98</td>\n",
              "      <td>0</td>\n",
              "      <td>0</td>\n",
              "      <td>0</td>\n",
              "      <td>1</td>\n",
              "      <td>2</td>\n",
              "      <td>64</td>\n",
              "      <td>1</td>\n",
              "      <td>6</td>\n",
              "      <td>0</td>\n",
              "      <td>1</td>\n",
              "      <td>0.67</td>\n",
              "      <td>1.44</td>\n",
              "      <td>0.00</td>\n",
              "      <td>1</td>\n",
              "    </tr>\n",
              "    <tr>\n",
              "      <th>2</th>\n",
              "      <td>TQRMNOPSWHMMKRCDEOJAH00714384</td>\n",
              "      <td>2021</td>\n",
              "      <td>4</td>\n",
              "      <td>1</td>\n",
              "      <td>1</td>\n",
              "      <td>44</td>\n",
              "      <td>N</td>\n",
              "      <td>93</td>\n",
              "      <td>43</td>\n",
              "      <td>1</td>\n",
              "      <td>NaN</td>\n",
              "      <td>3</td>\n",
              "      <td>1</td>\n",
              "      <td>NaN</td>\n",
              "      <td>1</td>\n",
              "      <td>1</td>\n",
              "      <td>1</td>\n",
              "      <td>1</td>\n",
              "      <td>NaN</td>\n",
              "      <td>1</td>\n",
              "      <td>1</td>\n",
              "      <td>1</td>\n",
              "      <td>1</td>\n",
              "      <td>2</td>\n",
              "      <td>2</td>\n",
              "      <td>2</td>\n",
              "      <td>3</td>\n",
              "      <td>1</td>\n",
              "      <td>2</td>\n",
              "      <td>0</td>\n",
              "      <td>1</td>\n",
              "      <td>1</td>\n",
              "      <td>2</td>\n",
              "      <td>2</td>\n",
              "      <td>0</td>\n",
              "      <td>2</td>\n",
              "      <td>0</td>\n",
              "      <td>1</td>\n",
              "      <td>NaN</td>\n",
              "      <td>1</td>\n",
              "      <td>...</td>\n",
              "      <td>1</td>\n",
              "      <td>2</td>\n",
              "      <td>2</td>\n",
              "      <td>2</td>\n",
              "      <td>2</td>\n",
              "      <td>2</td>\n",
              "      <td>0</td>\n",
              "      <td>2</td>\n",
              "      <td>77500</td>\n",
              "      <td>5</td>\n",
              "      <td>6.0</td>\n",
              "      <td>4</td>\n",
              "      <td>NaN</td>\n",
              "      <td>6.0</td>\n",
              "      <td>4</td>\n",
              "      <td>38750.0</td>\n",
              "      <td>7</td>\n",
              "      <td>7.0</td>\n",
              "      <td>5</td>\n",
              "      <td>NaN</td>\n",
              "      <td>7.0</td>\n",
              "      <td>5</td>\n",
              "      <td>57</td>\n",
              "      <td>1</td>\n",
              "      <td>2</td>\n",
              "      <td>98</td>\n",
              "      <td>0</td>\n",
              "      <td>0</td>\n",
              "      <td>0</td>\n",
              "      <td>1</td>\n",
              "      <td>1</td>\n",
              "      <td>72</td>\n",
              "      <td>1</td>\n",
              "      <td>2</td>\n",
              "      <td>0</td>\n",
              "      <td>1</td>\n",
              "      <td>0.83</td>\n",
              "      <td>1.50</td>\n",
              "      <td>51666.67</td>\n",
              "      <td>0</td>\n",
              "    </tr>\n",
              "    <tr>\n",
              "      <th>3</th>\n",
              "      <td>TQRMNOQYSHMNKTCDEOJAH00714386</td>\n",
              "      <td>2021</td>\n",
              "      <td>4</td>\n",
              "      <td>1</td>\n",
              "      <td>1</td>\n",
              "      <td>44</td>\n",
              "      <td>N</td>\n",
              "      <td>93</td>\n",
              "      <td>64</td>\n",
              "      <td>2</td>\n",
              "      <td>NaN</td>\n",
              "      <td>2</td>\n",
              "      <td>1</td>\n",
              "      <td>NaN</td>\n",
              "      <td>4</td>\n",
              "      <td>1</td>\n",
              "      <td>1</td>\n",
              "      <td>1</td>\n",
              "      <td>NaN</td>\n",
              "      <td>1</td>\n",
              "      <td>1</td>\n",
              "      <td>1</td>\n",
              "      <td>1</td>\n",
              "      <td>2</td>\n",
              "      <td>2</td>\n",
              "      <td>2</td>\n",
              "      <td>2</td>\n",
              "      <td>2</td>\n",
              "      <td>2</td>\n",
              "      <td>0</td>\n",
              "      <td>1</td>\n",
              "      <td>2</td>\n",
              "      <td>2</td>\n",
              "      <td>2</td>\n",
              "      <td>0</td>\n",
              "      <td>2</td>\n",
              "      <td>0</td>\n",
              "      <td>6</td>\n",
              "      <td>NaN</td>\n",
              "      <td>1</td>\n",
              "      <td>...</td>\n",
              "      <td>1</td>\n",
              "      <td>2</td>\n",
              "      <td>2</td>\n",
              "      <td>2</td>\n",
              "      <td>2</td>\n",
              "      <td>4</td>\n",
              "      <td>1</td>\n",
              "      <td>3</td>\n",
              "      <td>85000</td>\n",
              "      <td>6</td>\n",
              "      <td>6.0</td>\n",
              "      <td>5</td>\n",
              "      <td>NaN</td>\n",
              "      <td>6.0</td>\n",
              "      <td>5</td>\n",
              "      <td>21250.0</td>\n",
              "      <td>4</td>\n",
              "      <td>4.0</td>\n",
              "      <td>3</td>\n",
              "      <td>NaN</td>\n",
              "      <td>4.0</td>\n",
              "      <td>3</td>\n",
              "      <td>58</td>\n",
              "      <td>2</td>\n",
              "      <td>0</td>\n",
              "      <td>98</td>\n",
              "      <td>0</td>\n",
              "      <td>0</td>\n",
              "      <td>0</td>\n",
              "      <td>1</td>\n",
              "      <td>1</td>\n",
              "      <td>38</td>\n",
              "      <td>1</td>\n",
              "      <td>4</td>\n",
              "      <td>3</td>\n",
              "      <td>0</td>\n",
              "      <td>1.00</td>\n",
              "      <td>3.13</td>\n",
              "      <td>27156.55</td>\n",
              "      <td>0</td>\n",
              "    </tr>\n",
              "    <tr>\n",
              "      <th>4</th>\n",
              "      <td>TQRMNOQXVHLLPQCDEIJAH00718674</td>\n",
              "      <td>2021</td>\n",
              "      <td>4</td>\n",
              "      <td>1</td>\n",
              "      <td>1</td>\n",
              "      <td>1</td>\n",
              "      <td>S</td>\n",
              "      <td>33</td>\n",
              "      <td>2822</td>\n",
              "      <td>1</td>\n",
              "      <td>NaN</td>\n",
              "      <td>3</td>\n",
              "      <td>1</td>\n",
              "      <td>NaN</td>\n",
              "      <td>4</td>\n",
              "      <td>1</td>\n",
              "      <td>1</td>\n",
              "      <td>1</td>\n",
              "      <td>NaN</td>\n",
              "      <td>1</td>\n",
              "      <td>1</td>\n",
              "      <td>2</td>\n",
              "      <td>3</td>\n",
              "      <td>2</td>\n",
              "      <td>2</td>\n",
              "      <td>2</td>\n",
              "      <td>3</td>\n",
              "      <td>3</td>\n",
              "      <td>2</td>\n",
              "      <td>0</td>\n",
              "      <td>1</td>\n",
              "      <td>1</td>\n",
              "      <td>2</td>\n",
              "      <td>2</td>\n",
              "      <td>0</td>\n",
              "      <td>2</td>\n",
              "      <td>0</td>\n",
              "      <td>1</td>\n",
              "      <td>NaN</td>\n",
              "      <td>1</td>\n",
              "      <td>...</td>\n",
              "      <td>1</td>\n",
              "      <td>2</td>\n",
              "      <td>2</td>\n",
              "      <td>2</td>\n",
              "      <td>2</td>\n",
              "      <td>4</td>\n",
              "      <td>0</td>\n",
              "      <td>4</td>\n",
              "      <td>96870</td>\n",
              "      <td>7</td>\n",
              "      <td>NaN</td>\n",
              "      <td>6</td>\n",
              "      <td>7.0</td>\n",
              "      <td>NaN</td>\n",
              "      <td>7</td>\n",
              "      <td>24217.5</td>\n",
              "      <td>4</td>\n",
              "      <td>NaN</td>\n",
              "      <td>4</td>\n",
              "      <td>4.0</td>\n",
              "      <td>NaN</td>\n",
              "      <td>4</td>\n",
              "      <td>5658</td>\n",
              "      <td>1</td>\n",
              "      <td>2</td>\n",
              "      <td>98</td>\n",
              "      <td>0</td>\n",
              "      <td>0</td>\n",
              "      <td>0</td>\n",
              "      <td>1</td>\n",
              "      <td>1</td>\n",
              "      <td>67</td>\n",
              "      <td>1</td>\n",
              "      <td>4</td>\n",
              "      <td>3</td>\n",
              "      <td>0</td>\n",
              "      <td>0.83</td>\n",
              "      <td>3.33</td>\n",
              "      <td>29090.09</td>\n",
              "      <td>0</td>\n",
              "    </tr>\n",
              "  </tbody>\n",
              "</table>\n",
              "<p>5 rows × 99 columns</p>\n",
              "</div>\n",
              "      <button class=\"colab-df-convert\" onclick=\"convertToInteractive('df-8e5e197f-e7be-4705-9984-90004e174c27')\"\n",
              "              title=\"Convert this dataframe to an interactive table.\"\n",
              "              style=\"display:none;\">\n",
              "        \n",
              "  <svg xmlns=\"http://www.w3.org/2000/svg\" height=\"24px\"viewBox=\"0 0 24 24\"\n",
              "       width=\"24px\">\n",
              "    <path d=\"M0 0h24v24H0V0z\" fill=\"none\"/>\n",
              "    <path d=\"M18.56 5.44l.94 2.06.94-2.06 2.06-.94-2.06-.94-.94-2.06-.94 2.06-2.06.94zm-11 1L8.5 8.5l.94-2.06 2.06-.94-2.06-.94L8.5 2.5l-.94 2.06-2.06.94zm10 10l.94 2.06.94-2.06 2.06-.94-2.06-.94-.94-2.06-.94 2.06-2.06.94z\"/><path d=\"M17.41 7.96l-1.37-1.37c-.4-.4-.92-.59-1.43-.59-.52 0-1.04.2-1.43.59L10.3 9.45l-7.72 7.72c-.78.78-.78 2.05 0 2.83L4 21.41c.39.39.9.59 1.41.59.51 0 1.02-.2 1.41-.59l7.78-7.78 2.81-2.81c.8-.78.8-2.07 0-2.86zM5.41 20L4 18.59l7.72-7.72 1.47 1.35L5.41 20z\"/>\n",
              "  </svg>\n",
              "      </button>\n",
              "      \n",
              "  <style>\n",
              "    .colab-df-container {\n",
              "      display:flex;\n",
              "      flex-wrap:wrap;\n",
              "      gap: 12px;\n",
              "    }\n",
              "\n",
              "    .colab-df-convert {\n",
              "      background-color: #E8F0FE;\n",
              "      border: none;\n",
              "      border-radius: 50%;\n",
              "      cursor: pointer;\n",
              "      display: none;\n",
              "      fill: #1967D2;\n",
              "      height: 32px;\n",
              "      padding: 0 0 0 0;\n",
              "      width: 32px;\n",
              "    }\n",
              "\n",
              "    .colab-df-convert:hover {\n",
              "      background-color: #E2EBFA;\n",
              "      box-shadow: 0px 1px 2px rgba(60, 64, 67, 0.3), 0px 1px 3px 1px rgba(60, 64, 67, 0.15);\n",
              "      fill: #174EA6;\n",
              "    }\n",
              "\n",
              "    [theme=dark] .colab-df-convert {\n",
              "      background-color: #3B4455;\n",
              "      fill: #D2E3FC;\n",
              "    }\n",
              "\n",
              "    [theme=dark] .colab-df-convert:hover {\n",
              "      background-color: #434B5C;\n",
              "      box-shadow: 0px 1px 3px 1px rgba(0, 0, 0, 0.15);\n",
              "      filter: drop-shadow(0px 1px 2px rgba(0, 0, 0, 0.3));\n",
              "      fill: #FFFFFF;\n",
              "    }\n",
              "  </style>\n",
              "\n",
              "      <script>\n",
              "        const buttonEl =\n",
              "          document.querySelector('#df-8e5e197f-e7be-4705-9984-90004e174c27 button.colab-df-convert');\n",
              "        buttonEl.style.display =\n",
              "          google.colab.kernel.accessAllowed ? 'block' : 'none';\n",
              "\n",
              "        async function convertToInteractive(key) {\n",
              "          const element = document.querySelector('#df-8e5e197f-e7be-4705-9984-90004e174c27');\n",
              "          const dataTable =\n",
              "            await google.colab.kernel.invokeFunction('convertToInteractive',\n",
              "                                                     [key], {});\n",
              "          if (!dataTable) return;\n",
              "\n",
              "          const docLinkHtml = 'Like what you see? Visit the ' +\n",
              "            '<a target=\"_blank\" href=https://colab.research.google.com/notebooks/data_table.ipynb>data table notebook</a>'\n",
              "            + ' to learn more about interactive tables.';\n",
              "          element.innerHTML = '';\n",
              "          dataTable['output_type'] = 'display_data';\n",
              "          await google.colab.output.renderOutput(dataTable, element);\n",
              "          const docLink = document.createElement('div');\n",
              "          docLink.innerHTML = docLinkHtml;\n",
              "          element.appendChild(docLink);\n",
              "        }\n",
              "      </script>\n",
              "    </div>\n",
              "  </div>\n",
              "  "
            ]
          },
          "metadata": {},
          "execution_count": 95
        }
      ],
      "source": [
        "df_dataset.head()"
      ]
    },
    {
      "cell_type": "code",
      "execution_count": null,
      "metadata": {
        "id": "ilAB-wHFevzU"
      },
      "outputs": [],
      "source": [
        "df_dataset.to_csv('dataset.csv')"
      ]
    },
    {
      "cell_type": "markdown",
      "metadata": {
        "id": "pfPT-tRQuc59"
      },
      "source": [
        "# **Cleaning**"
      ]
    },
    {
      "cell_type": "code",
      "execution_count": null,
      "metadata": {
        "colab": {
          "base_uri": "https://localhost:8080/",
          "height": 74
        },
        "id": "47CVnC4tWvpv",
        "outputId": "71f0fe24-2e08-45d7-eb8c-dd040634b488"
      },
      "outputs": [
        {
          "output_type": "display_data",
          "data": {
            "text/plain": [
              "<IPython.core.display.HTML object>"
            ],
            "text/html": [
              "\n",
              "     <input type=\"file\" id=\"files-2663de4c-bd9d-4dbb-85dd-f610f9dcc874\" name=\"files[]\" multiple disabled\n",
              "        style=\"border:none\" />\n",
              "     <output id=\"result-2663de4c-bd9d-4dbb-85dd-f610f9dcc874\">\n",
              "      Upload widget is only available when the cell has been executed in the\n",
              "      current browser session. Please rerun this cell to enable.\n",
              "      </output>\n",
              "      <script>// Copyright 2017 Google LLC\n",
              "//\n",
              "// Licensed under the Apache License, Version 2.0 (the \"License\");\n",
              "// you may not use this file except in compliance with the License.\n",
              "// You may obtain a copy of the License at\n",
              "//\n",
              "//      http://www.apache.org/licenses/LICENSE-2.0\n",
              "//\n",
              "// Unless required by applicable law or agreed to in writing, software\n",
              "// distributed under the License is distributed on an \"AS IS\" BASIS,\n",
              "// WITHOUT WARRANTIES OR CONDITIONS OF ANY KIND, either express or implied.\n",
              "// See the License for the specific language governing permissions and\n",
              "// limitations under the License.\n",
              "\n",
              "/**\n",
              " * @fileoverview Helpers for google.colab Python module.\n",
              " */\n",
              "(function(scope) {\n",
              "function span(text, styleAttributes = {}) {\n",
              "  const element = document.createElement('span');\n",
              "  element.textContent = text;\n",
              "  for (const key of Object.keys(styleAttributes)) {\n",
              "    element.style[key] = styleAttributes[key];\n",
              "  }\n",
              "  return element;\n",
              "}\n",
              "\n",
              "// Max number of bytes which will be uploaded at a time.\n",
              "const MAX_PAYLOAD_SIZE = 100 * 1024;\n",
              "\n",
              "function _uploadFiles(inputId, outputId) {\n",
              "  const steps = uploadFilesStep(inputId, outputId);\n",
              "  const outputElement = document.getElementById(outputId);\n",
              "  // Cache steps on the outputElement to make it available for the next call\n",
              "  // to uploadFilesContinue from Python.\n",
              "  outputElement.steps = steps;\n",
              "\n",
              "  return _uploadFilesContinue(outputId);\n",
              "}\n",
              "\n",
              "// This is roughly an async generator (not supported in the browser yet),\n",
              "// where there are multiple asynchronous steps and the Python side is going\n",
              "// to poll for completion of each step.\n",
              "// This uses a Promise to block the python side on completion of each step,\n",
              "// then passes the result of the previous step as the input to the next step.\n",
              "function _uploadFilesContinue(outputId) {\n",
              "  const outputElement = document.getElementById(outputId);\n",
              "  const steps = outputElement.steps;\n",
              "\n",
              "  const next = steps.next(outputElement.lastPromiseValue);\n",
              "  return Promise.resolve(next.value.promise).then((value) => {\n",
              "    // Cache the last promise value to make it available to the next\n",
              "    // step of the generator.\n",
              "    outputElement.lastPromiseValue = value;\n",
              "    return next.value.response;\n",
              "  });\n",
              "}\n",
              "\n",
              "/**\n",
              " * Generator function which is called between each async step of the upload\n",
              " * process.\n",
              " * @param {string} inputId Element ID of the input file picker element.\n",
              " * @param {string} outputId Element ID of the output display.\n",
              " * @return {!Iterable<!Object>} Iterable of next steps.\n",
              " */\n",
              "function* uploadFilesStep(inputId, outputId) {\n",
              "  const inputElement = document.getElementById(inputId);\n",
              "  inputElement.disabled = false;\n",
              "\n",
              "  const outputElement = document.getElementById(outputId);\n",
              "  outputElement.innerHTML = '';\n",
              "\n",
              "  const pickedPromise = new Promise((resolve) => {\n",
              "    inputElement.addEventListener('change', (e) => {\n",
              "      resolve(e.target.files);\n",
              "    });\n",
              "  });\n",
              "\n",
              "  const cancel = document.createElement('button');\n",
              "  inputElement.parentElement.appendChild(cancel);\n",
              "  cancel.textContent = 'Cancel upload';\n",
              "  const cancelPromise = new Promise((resolve) => {\n",
              "    cancel.onclick = () => {\n",
              "      resolve(null);\n",
              "    };\n",
              "  });\n",
              "\n",
              "  // Wait for the user to pick the files.\n",
              "  const files = yield {\n",
              "    promise: Promise.race([pickedPromise, cancelPromise]),\n",
              "    response: {\n",
              "      action: 'starting',\n",
              "    }\n",
              "  };\n",
              "\n",
              "  cancel.remove();\n",
              "\n",
              "  // Disable the input element since further picks are not allowed.\n",
              "  inputElement.disabled = true;\n",
              "\n",
              "  if (!files) {\n",
              "    return {\n",
              "      response: {\n",
              "        action: 'complete',\n",
              "      }\n",
              "    };\n",
              "  }\n",
              "\n",
              "  for (const file of files) {\n",
              "    const li = document.createElement('li');\n",
              "    li.append(span(file.name, {fontWeight: 'bold'}));\n",
              "    li.append(span(\n",
              "        `(${file.type || 'n/a'}) - ${file.size} bytes, ` +\n",
              "        `last modified: ${\n",
              "            file.lastModifiedDate ? file.lastModifiedDate.toLocaleDateString() :\n",
              "                                    'n/a'} - `));\n",
              "    const percent = span('0% done');\n",
              "    li.appendChild(percent);\n",
              "\n",
              "    outputElement.appendChild(li);\n",
              "\n",
              "    const fileDataPromise = new Promise((resolve) => {\n",
              "      const reader = new FileReader();\n",
              "      reader.onload = (e) => {\n",
              "        resolve(e.target.result);\n",
              "      };\n",
              "      reader.readAsArrayBuffer(file);\n",
              "    });\n",
              "    // Wait for the data to be ready.\n",
              "    let fileData = yield {\n",
              "      promise: fileDataPromise,\n",
              "      response: {\n",
              "        action: 'continue',\n",
              "      }\n",
              "    };\n",
              "\n",
              "    // Use a chunked sending to avoid message size limits. See b/62115660.\n",
              "    let position = 0;\n",
              "    do {\n",
              "      const length = Math.min(fileData.byteLength - position, MAX_PAYLOAD_SIZE);\n",
              "      const chunk = new Uint8Array(fileData, position, length);\n",
              "      position += length;\n",
              "\n",
              "      const base64 = btoa(String.fromCharCode.apply(null, chunk));\n",
              "      yield {\n",
              "        response: {\n",
              "          action: 'append',\n",
              "          file: file.name,\n",
              "          data: base64,\n",
              "        },\n",
              "      };\n",
              "\n",
              "      let percentDone = fileData.byteLength === 0 ?\n",
              "          100 :\n",
              "          Math.round((position / fileData.byteLength) * 100);\n",
              "      percent.textContent = `${percentDone}% done`;\n",
              "\n",
              "    } while (position < fileData.byteLength);\n",
              "  }\n",
              "\n",
              "  // All done.\n",
              "  yield {\n",
              "    response: {\n",
              "      action: 'complete',\n",
              "    }\n",
              "  };\n",
              "}\n",
              "\n",
              "scope.google = scope.google || {};\n",
              "scope.google.colab = scope.google.colab || {};\n",
              "scope.google.colab._files = {\n",
              "  _uploadFiles,\n",
              "  _uploadFilesContinue,\n",
              "};\n",
              "})(self);\n",
              "</script> "
            ]
          },
          "metadata": {}
        },
        {
          "output_type": "stream",
          "name": "stdout",
          "text": [
            "Saving dataset.csv to dataset (1).csv\n"
          ]
        }
      ],
      "source": [
        "#from google.colab import files\n",
        "#uploaded  = files.upload()"
      ]
    },
    {
      "cell_type": "code",
      "execution_count": null,
      "metadata": {
        "id": "YtPXsd1CXzmS"
      },
      "outputs": [],
      "source": [
        "#df_dataset = pd.read_csv(\"dataset.csv\")"
      ]
    },
    {
      "cell_type": "code",
      "execution_count": null,
      "metadata": {
        "id": "PBXALlB3YDUD"
      },
      "outputs": [],
      "source": [
        "#df_dataset = df_dataset.drop(['Unnamed: 0'], axis=1)"
      ]
    },
    {
      "cell_type": "code",
      "execution_count": null,
      "metadata": {
        "colab": {
          "base_uri": "https://localhost:8080/"
        },
        "id": "cSi2RelZLJ2c",
        "outputId": "ae8949f2-3a0f-47be-cce0-d2ef34ccd775"
      },
      "outputs": [
        {
          "output_type": "execute_result",
          "data": {
            "text/plain": [
              "Index(['CODUSU', 'ANO4', 'TRIMESTRE', 'NRO_HOGAR', 'REALIZADA', 'REGION',\n",
              "       'MAS_500', 'AGLOMERADO', 'PONDERA', 'IV1', 'IV1_ESP', 'IV2', 'IV3',\n",
              "       'IV3_ESP', 'IV4', 'IV5', 'IV6', 'IV7', 'IV7_ESP', 'IV8', 'IV9', 'IV10',\n",
              "       'IV11', 'IV12_1', 'IV12_2', 'IV12_3', 'II1', 'II2', 'II3', 'II3_1',\n",
              "       'II4_1', 'II4_2', 'II4_3', 'II5', 'II5_1', 'II6', 'II6_1', 'II7',\n",
              "       'II7_ESP', 'II8', 'II8_ESP', 'II9', 'V1', 'V2', 'V21', 'V22', 'V3',\n",
              "       'V4', 'V5', 'V6', 'V7', 'V8', 'V9', 'V10', 'V11', 'V12', 'V13', 'V14',\n",
              "       'V15', 'V16', 'V17', 'V18', 'V19_A', 'V19_B', 'IX_TOT', 'IX_MEN10',\n",
              "       'IX_MAYEQ10', 'ITF', 'DECIFR', 'IDECIFR', 'RDECIFR', 'GDECIFR',\n",
              "       'PDECIFR', 'ADECIFR', 'IPCF', 'DECCFR', 'IDECCFR', 'RDECCFR', 'GDECCFR',\n",
              "       'PDECCFR', 'ADECCFR', 'PONDIH', 'VII1_1', 'VII1_2', 'VII2_1', 'VII2_2',\n",
              "       'VII2_3', 'VII2_4', 'parentesco', 'genero', 'edad', 'cob_medica',\n",
              "       'NIVEL_ED', 'CAT_OCUP', 'CAT_INAC', 'AE_ctrol_ind', 'AE_ctrol_ind_sum',\n",
              "       'adulto_equivalente', 'pobreza'],\n",
              "      dtype='object')"
            ]
          },
          "metadata": {},
          "execution_count": 99
        }
      ],
      "source": [
        "# vemos los nombres de las columnas\n",
        "col_names = df_dataset.columns\n",
        "\n",
        "col_names"
      ]
    },
    {
      "cell_type": "code",
      "execution_count": null,
      "metadata": {
        "colab": {
          "base_uri": "https://localhost:8080/"
        },
        "id": "MN3Ph_G7U2cs",
        "outputId": "500e07cc-ac69-4a40-ac49-acbbc16950b8"
      },
      "outputs": [
        {
          "output_type": "stream",
          "name": "stdout",
          "text": [
            "count      17037.0\n",
            "mean       68734.0\n",
            "std        77324.0\n",
            "min            0.0\n",
            "25%        22000.0\n",
            "50%        56000.0\n",
            "75%        95600.0\n",
            "max      4035000.0\n",
            "Name: ITF, dtype: float64 2\n"
          ]
        }
      ],
      "source": [
        "#la variable ITF representa el monto de ingreso total familiar\n",
        "#analizamos sus datos\n",
        "\n",
        "print(round(df_dataset['ITF'].describe()),2)"
      ]
    },
    {
      "cell_type": "code",
      "execution_count": null,
      "metadata": {
        "colab": {
          "base_uri": "https://localhost:8080/"
        },
        "id": "-AIhwrBDaYKC",
        "outputId": "ee05bdeb-b3e5-473f-c5b4-88c1b1d5509d"
      },
      "outputs": [
        {
          "output_type": "execute_result",
          "data": {
            "text/plain": [
              "3582"
            ]
          },
          "metadata": {},
          "execution_count": 101
        }
      ],
      "source": [
        "ITF_cero = [x for x in df_dataset['ITF'] if x == 0]\n",
        "len(ITF_cero)"
      ]
    },
    {
      "cell_type": "code",
      "execution_count": null,
      "metadata": {
        "id": "otqb5F5HccNy"
      },
      "outputs": [],
      "source": [
        "#hay 3.582 hogares que declararon ingresos $0.\n",
        "#para este estudio no los vamos a tener en cuenta\n",
        "\n",
        "df_dataset = df_dataset.drop(df_dataset[df_dataset['ITF']==0].index)"
      ]
    },
    {
      "cell_type": "code",
      "execution_count": null,
      "metadata": {
        "colab": {
          "base_uri": "https://localhost:8080/"
        },
        "id": "1WN-xo9MaQNq",
        "outputId": "65d06977-574d-4ca9-9b8e-2b02b426a7dc"
      },
      "outputs": [
        {
          "output_type": "execute_result",
          "data": {
            "text/plain": [
              "0"
            ]
          },
          "metadata": {},
          "execution_count": 103
        }
      ],
      "source": [
        "ITF_cero = [x for x in df_dataset['ITF'] if x == 0]\n",
        "len(ITF_cero)"
      ]
    },
    {
      "cell_type": "code",
      "execution_count": null,
      "metadata": {
        "colab": {
          "base_uri": "https://localhost:8080/"
        },
        "id": "wf5zJlTaNTZm",
        "outputId": "5a9e8045-a025-4aac-fa8a-764fcb09785d"
      },
      "outputs": [
        {
          "output_type": "stream",
          "name": "stdout",
          "text": [
            "<class 'pandas.core.frame.DataFrame'>\n",
            "Int64Index: 13455 entries, 2 to 17036\n",
            "Data columns (total 99 columns):\n",
            " #   Column              Non-Null Count  Dtype  \n",
            "---  ------              --------------  -----  \n",
            " 0   CODUSU              13455 non-null  object \n",
            " 1   ANO4                13455 non-null  int64  \n",
            " 2   TRIMESTRE           13455 non-null  int64  \n",
            " 3   NRO_HOGAR           13455 non-null  int64  \n",
            " 4   REALIZADA           13455 non-null  int64  \n",
            " 5   REGION              13455 non-null  int64  \n",
            " 6   MAS_500             13455 non-null  object \n",
            " 7   AGLOMERADO          13455 non-null  int64  \n",
            " 8   PONDERA             13455 non-null  int64  \n",
            " 9   IV1                 13455 non-null  int64  \n",
            " 10  IV1_ESP             29 non-null     object \n",
            " 11  IV2                 13455 non-null  int64  \n",
            " 12  IV3                 13455 non-null  int64  \n",
            " 13  IV3_ESP             27 non-null     object \n",
            " 14  IV4                 13455 non-null  int64  \n",
            " 15  IV5                 13455 non-null  int64  \n",
            " 16  IV6                 13455 non-null  int64  \n",
            " 17  IV7                 13455 non-null  int64  \n",
            " 18  IV7_ESP             17 non-null     object \n",
            " 19  IV8                 13455 non-null  int64  \n",
            " 20  IV9                 13455 non-null  int64  \n",
            " 21  IV10                13455 non-null  int64  \n",
            " 22  IV11                13455 non-null  int64  \n",
            " 23  IV12_1              13455 non-null  int64  \n",
            " 24  IV12_2              13455 non-null  int64  \n",
            " 25  IV12_3              13455 non-null  int64  \n",
            " 26  II1                 13455 non-null  int64  \n",
            " 27  II2                 13455 non-null  int64  \n",
            " 28  II3                 13455 non-null  int64  \n",
            " 29  II3_1               13455 non-null  int64  \n",
            " 30  II4_1               13455 non-null  int64  \n",
            " 31  II4_2               13455 non-null  int64  \n",
            " 32  II4_3               13455 non-null  int64  \n",
            " 33  II5                 13455 non-null  int64  \n",
            " 34  II5_1               13455 non-null  int64  \n",
            " 35  II6                 13455 non-null  int64  \n",
            " 36  II6_1               13455 non-null  int64  \n",
            " 37  II7                 13455 non-null  int64  \n",
            " 38  II7_ESP             19 non-null     object \n",
            " 39  II8                 13455 non-null  int64  \n",
            " 40  II8_ESP             107 non-null    object \n",
            " 41  II9                 13455 non-null  int64  \n",
            " 42  V1                  13455 non-null  int64  \n",
            " 43  V2                  13455 non-null  int64  \n",
            " 44  V21                 13455 non-null  int64  \n",
            " 45  V22                 13455 non-null  int64  \n",
            " 46  V3                  13455 non-null  int64  \n",
            " 47  V4                  13455 non-null  int64  \n",
            " 48  V5                  13455 non-null  int64  \n",
            " 49  V6                  13455 non-null  int64  \n",
            " 50  V7                  13455 non-null  int64  \n",
            " 51  V8                  13455 non-null  int64  \n",
            " 52  V9                  13455 non-null  int64  \n",
            " 53  V10                 13455 non-null  int64  \n",
            " 54  V11                 13455 non-null  int64  \n",
            " 55  V12                 13455 non-null  int64  \n",
            " 56  V13                 13455 non-null  int64  \n",
            " 57  V14                 13455 non-null  int64  \n",
            " 58  V15                 13455 non-null  int64  \n",
            " 59  V16                 13455 non-null  int64  \n",
            " 60  V17                 13455 non-null  int64  \n",
            " 61  V18                 13455 non-null  int64  \n",
            " 62  V19_A               13455 non-null  int64  \n",
            " 63  V19_B               13455 non-null  int64  \n",
            " 64  IX_TOT              13455 non-null  int64  \n",
            " 65  IX_MEN10            13455 non-null  int64  \n",
            " 66  IX_MAYEQ10          13455 non-null  int64  \n",
            " 67  ITF                 13455 non-null  int64  \n",
            " 68  DECIFR              13455 non-null  int64  \n",
            " 69  IDECIFR             11977 non-null  float64\n",
            " 70  RDECIFR             13455 non-null  int64  \n",
            " 71  GDECIFR             5698 non-null   float64\n",
            " 72  PDECIFR             7757 non-null   float64\n",
            " 73  ADECIFR             13455 non-null  int64  \n",
            " 74  IPCF                13455 non-null  float64\n",
            " 75  DECCFR              13455 non-null  int64  \n",
            " 76  IDECCFR             11977 non-null  float64\n",
            " 77  RDECCFR             13455 non-null  int64  \n",
            " 78  GDECCFR             5698 non-null   float64\n",
            " 79  PDECCFR             7757 non-null   float64\n",
            " 80  ADECCFR             13455 non-null  int64  \n",
            " 81  PONDIH              13455 non-null  int64  \n",
            " 82  VII1_1              13455 non-null  int64  \n",
            " 83  VII1_2              13455 non-null  int64  \n",
            " 84  VII2_1              13455 non-null  int64  \n",
            " 85  VII2_2              13455 non-null  int64  \n",
            " 86  VII2_3              13455 non-null  int64  \n",
            " 87  VII2_4              13455 non-null  int64  \n",
            " 88  parentesco          13455 non-null  int64  \n",
            " 89  genero              13455 non-null  int64  \n",
            " 90  edad                13455 non-null  int64  \n",
            " 91  cob_medica          13455 non-null  int64  \n",
            " 92  NIVEL_ED            13455 non-null  int64  \n",
            " 93  CAT_OCUP            13455 non-null  int64  \n",
            " 94  CAT_INAC            13455 non-null  int64  \n",
            " 95  AE_ctrol_ind        13455 non-null  float64\n",
            " 96  AE_ctrol_ind_sum    13455 non-null  float64\n",
            " 97  adulto_equivalente  13455 non-null  float64\n",
            " 98  pobreza             13455 non-null  int64  \n",
            "dtypes: float64(10), int64(82), object(7)\n",
            "memory usage: 10.3+ MB\n"
          ]
        }
      ],
      "source": [
        "df_dataset.info()"
      ]
    },
    {
      "cell_type": "code",
      "execution_count": null,
      "metadata": {
        "id": "5o-H_FYlety4"
      },
      "outputs": [],
      "source": [
        "#de todas las columnas que indican localización dejamos solo Aglomerado\n",
        "#también quitamos año, trimestre y realizada\n",
        "#la variable de ponderación\n",
        "#todos los deciles\n",
        "#el % individual del jefe/a que reside en el hogar\n",
        "\n",
        "df_dataset = df_dataset.drop(['ANO4','TRIMESTRE','REALIZADA','REGION','MAS_500','PONDERA','DECIFR','IDECIFR','RDECIFR','GDECIFR','PDECIFR','ADECIFR','DECCFR','IDECCFR','RDECCFR','GDECCFR','PDECCFR','ADECCFR','PONDIH','AE_ctrol_ind'], axis=1)"
      ]
    },
    {
      "cell_type": "code",
      "execution_count": null,
      "metadata": {
        "colab": {
          "base_uri": "https://localhost:8080/"
        },
        "id": "K5JZu3z_o_a8",
        "outputId": "38cb70f2-badb-4716-ac5f-9d4917f7888b"
      },
      "outputs": [
        {
          "output_type": "execute_result",
          "data": {
            "text/plain": [
              "(13455, 79)"
            ]
          },
          "metadata": {},
          "execution_count": 106
        }
      ],
      "source": [
        "df_dataset.shape"
      ]
    },
    {
      "cell_type": "code",
      "source": [
        "df_dataset.sort_values(by=['adulto_equivalente'])"
      ],
      "metadata": {
        "colab": {
          "base_uri": "https://localhost:8080/",
          "height": 487
        },
        "id": "w8k683cBiSpD",
        "outputId": "7cf44ba6-03cd-4457-f244-571696e77894"
      },
      "execution_count": null,
      "outputs": [
        {
          "output_type": "execute_result",
          "data": {
            "text/plain": [
              "                              CODUSU  NRO_HOGAR  AGLOMERADO  IV1 IV1_ESP  IV2  \\\n",
              "11385  TQRMNORUVHKMKQCDEIJAH00719321          1          33    1     NaN    2   \n",
              "2856   TQRMNORSYHKMLPCDEHJGH00683376          1          23    1     NaN    5   \n",
              "8570   TQRMNORSPHKMLQCDEIJAH00663348          1          33    1     NaN    1   \n",
              "6381   TQRMNOQYWHMNQMCDEIJAH00719056          1          33    2     NaN    2   \n",
              "1430   TQRMNOPUTHMNLNCDEGGFB00715713          1          10    1     NaN    3   \n",
              "...                              ...        ...         ...  ...     ...  ...   \n",
              "15894  TQRMNORUQHJLLMCDEGJBF00675410          1          13    1     NaN    3   \n",
              "5351   TQRMNOPWSHKLOUCDEIJAH00663632          1          33    1     NaN    4   \n",
              "5094   TQRMNORUUHLMMOCDEFKID00714779          1           4    1     NaN    3   \n",
              "484    TQRMNOQUYHJOKMCDEIIAD00718213          1          32    2     NaN    4   \n",
              "5068   TQRMNOUTUHKNLSCDEIIAD00718373          1          32    2     NaN    3   \n",
              "\n",
              "       IV3 IV3_ESP  IV4  IV5  IV6  IV7 IV7_ESP  IV8  IV9  IV10  IV11  IV12_1  \\\n",
              "11385    1     NaN    4    1    1    2     NaN    1    1     1     3       2   \n",
              "2856     2     NaN    4    2    1    1     NaN    1    1     1     1       2   \n",
              "8570     2     NaN    2    2    1    1     NaN    1    1     2     3       2   \n",
              "6381     1     NaN    4    1    1    1     NaN    1    1     1     2       2   \n",
              "1430     1     NaN    1    1    1    1     NaN    1    1     1     1       2   \n",
              "...    ...     ...  ...  ...  ...  ...     ...  ...  ...   ...   ...     ...   \n",
              "15894    1     NaN    1    2    1    1     NaN    1    1     1     1       2   \n",
              "5351     1     NaN    1    1    1    1     NaN    1    1     1     1       2   \n",
              "5094     1     NaN    2    1    1    1     NaN    1    1     1     2       2   \n",
              "484      1     NaN    9    1    1    1     NaN    1    1     1     1       2   \n",
              "5068     1     NaN    2    1    1    1     NaN    1    1     1     1       2   \n",
              "\n",
              "       IV12_2  IV12_3  II1  II2  II3  II3_1  II4_1  II4_2  II4_3  II5  II5_1  \\\n",
              "11385       1       2    2    2    2      0      1      2      2    2      0   \n",
              "2856        2       2    5    4    2      0      1      2      2    2      0   \n",
              "8570        2       2    1    1    2      0      2      2      2    0      0   \n",
              "6381        2       2    2    1    2      0      1      2      1    2      0   \n",
              "1430        2       2    3    2    2      0      1      1      2    2      0   \n",
              "...       ...     ...  ...  ...  ...    ...    ...    ...    ...  ...    ...   \n",
              "15894       2       2    3    1    2      0      1      1      2    2      0   \n",
              "5351        2       2    4    1    2      0      1      1      1    2      0   \n",
              "5094        2       2    3    2    2      0      1      1      1    2      0   \n",
              "484         2       2    4    1    2      0      1      1      2    2      0   \n",
              "5068        2       2    3    2    2      0      1      2      1    2      0   \n",
              "\n",
              "       II6  II6_1  II7 II7_ESP  II8       II8_ESP  II9  V1  V2  V21  V22  V3  \\\n",
              "11385    2      0    1     NaN    2           NaN    1   9   9    2    2   9   \n",
              "2856     2      0    1     NaN    2           NaN    1   1   2    2    2   2   \n",
              "8570     0      0    1     NaN    2           NaN    1   1   2    2    2   2   \n",
              "6381     2      0    1     NaN    1           NaN    1   2   2    2    2   2   \n",
              "1430     2      0    3     NaN    1           NaN    1   1   2    2    2   2   \n",
              "...    ...    ...  ...     ...  ...           ...  ...  ..  ..  ...  ...  ..   \n",
              "15894    2      0    3     NaN    1           NaN    1   1   2    2    2   2   \n",
              "5351     2      0    1     NaN    1           NaN    1   1   2    2    2   2   \n",
              "5094     2      0    3     NaN    1           NaN    1   1   2    2    2   2   \n",
              "484      2      0    1     NaN    4  ELECTRICIDAD    1   2   1    2    2   2   \n",
              "5068     2      0    3     NaN    1           NaN    1   1   2    2    2   2   \n",
              "\n",
              "       V4  V5  V6  V7  V8  V9  V10  V11  V12  V13  V14  V15  V16  V17  V18  \\\n",
              "11385   9   9   9   9   9   9    9    9    9    9    9    9    9    9    9   \n",
              "2856    2   2   2   2   2   2    2    2    2    1    1    2    1    1    2   \n",
              "8570    2   2   2   1   2   2    2    2    2    2    2    2    2    2    2   \n",
              "6381    2   2   2   2   1   2    2    2    2    1    2    2    2    2    2   \n",
              "1430    2   2   2   2   2   2    2    2    2    1    2    2    2    2    2   \n",
              "...    ..  ..  ..  ..  ..  ..  ...  ...  ...  ...  ...  ...  ...  ...  ...   \n",
              "15894   2   2   2   2   2   2    2    2    2    2    2    2    2    2    1   \n",
              "5351    2   2   2   2   2   2    1    2    2    1    2    2    1    2    2   \n",
              "5094    2   2   2   2   2   2    2    2    2    2    2    2    1    2    2   \n",
              "484     2   2   2   2   2   2    2    2    2    2    2    2    2    2    2   \n",
              "5068    2   2   2   2   1   2    2    2    2    1    2    1    1    2    2   \n",
              "\n",
              "       V19_A  V19_B  IX_TOT  IX_MEN10  IX_MAYEQ10      ITF        IPCF  \\\n",
              "11385      9      9       6         2           4     1000      166.67   \n",
              "2856       2      2       4         1           3     1800      450.00   \n",
              "8570       2      2       1         0           1      900      900.00   \n",
              "6381       2      2       1         0           1     1100     1100.00   \n",
              "1430       2      2       4         0           4     4800     1200.00   \n",
              "...      ...    ...     ...       ...         ...      ...         ...   \n",
              "15894      2      2       1         0           1   680000   680000.00   \n",
              "5351       2      2       1         0           1   750000   750000.00   \n",
              "5094       2      2       3         1           2  2301000   767000.00   \n",
              "484        2      2       1         0           1   770000   770000.00   \n",
              "5068       2      2       2         0           2  4035000  2017500.00   \n",
              "\n",
              "       VII1_1  VII1_2  VII2_1  VII2_2  VII2_3  VII2_4  parentesco  genero  \\\n",
              "11385       9       9       9       9       9       9           1       1   \n",
              "2856        1       0      98       0       0       0           1       2   \n",
              "8570        1       0      98       0       0       0           1       1   \n",
              "6381        1       0      98       0       0       0           1       1   \n",
              "1430        1       0       2       3       4       0           1       2   \n",
              "...       ...     ...     ...     ...     ...     ...         ...     ...   \n",
              "15894       1       0      98       0       0       0           1       1   \n",
              "5351       96       0      98       0       0       0           1       1   \n",
              "5094       96       0       1       2       0       0           1       1   \n",
              "484        96       0      98       0       0       0           1       2   \n",
              "5068       96       0      98       0       0       0           1       1   \n",
              "\n",
              "       edad  cob_medica  NIVEL_ED  CAT_OCUP  CAT_INAC  AE_ctrol_ind_sum  \\\n",
              "11385    23           4         4         2         0              4.29   \n",
              "2856     53           4         2         3         0              3.01   \n",
              "8570     52           4         3         2         0              1.00   \n",
              "6381     62           4         2         0         2              0.83   \n",
              "1430     32           1         3         3         0              3.43   \n",
              "...     ...         ...       ...       ...       ...               ...   \n",
              "15894    61           1         5         3         0              0.83   \n",
              "5351     65          12         4         3         0              0.83   \n",
              "5094     43           1         5         1         0              2.37   \n",
              "484      87           1         4         0         1              0.63   \n",
              "5068     45           2         6         1         0              1.90   \n",
              "\n",
              "       adulto_equivalente  pobreza  \n",
              "11385              233.10        1  \n",
              "2856               598.01        1  \n",
              "8570               900.00        1  \n",
              "6381              1325.30        1  \n",
              "1430              1399.42        1  \n",
              "...                   ...      ...  \n",
              "15894           819277.11        0  \n",
              "5351            903614.46        0  \n",
              "5094            970886.08        0  \n",
              "484            1222222.22        0  \n",
              "5068           2123684.21        0  \n",
              "\n",
              "[13455 rows x 79 columns]"
            ],
            "text/html": [
              "\n",
              "  <div id=\"df-539a00ef-1a2b-48df-acf8-31197d3fd207\">\n",
              "    <div class=\"colab-df-container\">\n",
              "      <div>\n",
              "<style scoped>\n",
              "    .dataframe tbody tr th:only-of-type {\n",
              "        vertical-align: middle;\n",
              "    }\n",
              "\n",
              "    .dataframe tbody tr th {\n",
              "        vertical-align: top;\n",
              "    }\n",
              "\n",
              "    .dataframe thead th {\n",
              "        text-align: right;\n",
              "    }\n",
              "</style>\n",
              "<table border=\"1\" class=\"dataframe\">\n",
              "  <thead>\n",
              "    <tr style=\"text-align: right;\">\n",
              "      <th></th>\n",
              "      <th>CODUSU</th>\n",
              "      <th>NRO_HOGAR</th>\n",
              "      <th>AGLOMERADO</th>\n",
              "      <th>IV1</th>\n",
              "      <th>IV1_ESP</th>\n",
              "      <th>IV2</th>\n",
              "      <th>IV3</th>\n",
              "      <th>IV3_ESP</th>\n",
              "      <th>IV4</th>\n",
              "      <th>IV5</th>\n",
              "      <th>IV6</th>\n",
              "      <th>IV7</th>\n",
              "      <th>IV7_ESP</th>\n",
              "      <th>IV8</th>\n",
              "      <th>IV9</th>\n",
              "      <th>IV10</th>\n",
              "      <th>IV11</th>\n",
              "      <th>IV12_1</th>\n",
              "      <th>IV12_2</th>\n",
              "      <th>IV12_3</th>\n",
              "      <th>II1</th>\n",
              "      <th>II2</th>\n",
              "      <th>II3</th>\n",
              "      <th>II3_1</th>\n",
              "      <th>II4_1</th>\n",
              "      <th>II4_2</th>\n",
              "      <th>II4_3</th>\n",
              "      <th>II5</th>\n",
              "      <th>II5_1</th>\n",
              "      <th>II6</th>\n",
              "      <th>II6_1</th>\n",
              "      <th>II7</th>\n",
              "      <th>II7_ESP</th>\n",
              "      <th>II8</th>\n",
              "      <th>II8_ESP</th>\n",
              "      <th>II9</th>\n",
              "      <th>V1</th>\n",
              "      <th>V2</th>\n",
              "      <th>V21</th>\n",
              "      <th>V22</th>\n",
              "      <th>V3</th>\n",
              "      <th>V4</th>\n",
              "      <th>V5</th>\n",
              "      <th>V6</th>\n",
              "      <th>V7</th>\n",
              "      <th>V8</th>\n",
              "      <th>V9</th>\n",
              "      <th>V10</th>\n",
              "      <th>V11</th>\n",
              "      <th>V12</th>\n",
              "      <th>V13</th>\n",
              "      <th>V14</th>\n",
              "      <th>V15</th>\n",
              "      <th>V16</th>\n",
              "      <th>V17</th>\n",
              "      <th>V18</th>\n",
              "      <th>V19_A</th>\n",
              "      <th>V19_B</th>\n",
              "      <th>IX_TOT</th>\n",
              "      <th>IX_MEN10</th>\n",
              "      <th>IX_MAYEQ10</th>\n",
              "      <th>ITF</th>\n",
              "      <th>IPCF</th>\n",
              "      <th>VII1_1</th>\n",
              "      <th>VII1_2</th>\n",
              "      <th>VII2_1</th>\n",
              "      <th>VII2_2</th>\n",
              "      <th>VII2_3</th>\n",
              "      <th>VII2_4</th>\n",
              "      <th>parentesco</th>\n",
              "      <th>genero</th>\n",
              "      <th>edad</th>\n",
              "      <th>cob_medica</th>\n",
              "      <th>NIVEL_ED</th>\n",
              "      <th>CAT_OCUP</th>\n",
              "      <th>CAT_INAC</th>\n",
              "      <th>AE_ctrol_ind_sum</th>\n",
              "      <th>adulto_equivalente</th>\n",
              "      <th>pobreza</th>\n",
              "    </tr>\n",
              "  </thead>\n",
              "  <tbody>\n",
              "    <tr>\n",
              "      <th>11385</th>\n",
              "      <td>TQRMNORUVHKMKQCDEIJAH00719321</td>\n",
              "      <td>1</td>\n",
              "      <td>33</td>\n",
              "      <td>1</td>\n",
              "      <td>NaN</td>\n",
              "      <td>2</td>\n",
              "      <td>1</td>\n",
              "      <td>NaN</td>\n",
              "      <td>4</td>\n",
              "      <td>1</td>\n",
              "      <td>1</td>\n",
              "      <td>2</td>\n",
              "      <td>NaN</td>\n",
              "      <td>1</td>\n",
              "      <td>1</td>\n",
              "      <td>1</td>\n",
              "      <td>3</td>\n",
              "      <td>2</td>\n",
              "      <td>1</td>\n",
              "      <td>2</td>\n",
              "      <td>2</td>\n",
              "      <td>2</td>\n",
              "      <td>2</td>\n",
              "      <td>0</td>\n",
              "      <td>1</td>\n",
              "      <td>2</td>\n",
              "      <td>2</td>\n",
              "      <td>2</td>\n",
              "      <td>0</td>\n",
              "      <td>2</td>\n",
              "      <td>0</td>\n",
              "      <td>1</td>\n",
              "      <td>NaN</td>\n",
              "      <td>2</td>\n",
              "      <td>NaN</td>\n",
              "      <td>1</td>\n",
              "      <td>9</td>\n",
              "      <td>9</td>\n",
              "      <td>2</td>\n",
              "      <td>2</td>\n",
              "      <td>9</td>\n",
              "      <td>9</td>\n",
              "      <td>9</td>\n",
              "      <td>9</td>\n",
              "      <td>9</td>\n",
              "      <td>9</td>\n",
              "      <td>9</td>\n",
              "      <td>9</td>\n",
              "      <td>9</td>\n",
              "      <td>9</td>\n",
              "      <td>9</td>\n",
              "      <td>9</td>\n",
              "      <td>9</td>\n",
              "      <td>9</td>\n",
              "      <td>9</td>\n",
              "      <td>9</td>\n",
              "      <td>9</td>\n",
              "      <td>9</td>\n",
              "      <td>6</td>\n",
              "      <td>2</td>\n",
              "      <td>4</td>\n",
              "      <td>1000</td>\n",
              "      <td>166.67</td>\n",
              "      <td>9</td>\n",
              "      <td>9</td>\n",
              "      <td>9</td>\n",
              "      <td>9</td>\n",
              "      <td>9</td>\n",
              "      <td>9</td>\n",
              "      <td>1</td>\n",
              "      <td>1</td>\n",
              "      <td>23</td>\n",
              "      <td>4</td>\n",
              "      <td>4</td>\n",
              "      <td>2</td>\n",
              "      <td>0</td>\n",
              "      <td>4.29</td>\n",
              "      <td>233.10</td>\n",
              "      <td>1</td>\n",
              "    </tr>\n",
              "    <tr>\n",
              "      <th>2856</th>\n",
              "      <td>TQRMNORSYHKMLPCDEHJGH00683376</td>\n",
              "      <td>1</td>\n",
              "      <td>23</td>\n",
              "      <td>1</td>\n",
              "      <td>NaN</td>\n",
              "      <td>5</td>\n",
              "      <td>2</td>\n",
              "      <td>NaN</td>\n",
              "      <td>4</td>\n",
              "      <td>2</td>\n",
              "      <td>1</td>\n",
              "      <td>1</td>\n",
              "      <td>NaN</td>\n",
              "      <td>1</td>\n",
              "      <td>1</td>\n",
              "      <td>1</td>\n",
              "      <td>1</td>\n",
              "      <td>2</td>\n",
              "      <td>2</td>\n",
              "      <td>2</td>\n",
              "      <td>5</td>\n",
              "      <td>4</td>\n",
              "      <td>2</td>\n",
              "      <td>0</td>\n",
              "      <td>1</td>\n",
              "      <td>2</td>\n",
              "      <td>2</td>\n",
              "      <td>2</td>\n",
              "      <td>0</td>\n",
              "      <td>2</td>\n",
              "      <td>0</td>\n",
              "      <td>1</td>\n",
              "      <td>NaN</td>\n",
              "      <td>2</td>\n",
              "      <td>NaN</td>\n",
              "      <td>1</td>\n",
              "      <td>1</td>\n",
              "      <td>2</td>\n",
              "      <td>2</td>\n",
              "      <td>2</td>\n",
              "      <td>2</td>\n",
              "      <td>2</td>\n",
              "      <td>2</td>\n",
              "      <td>2</td>\n",
              "      <td>2</td>\n",
              "      <td>2</td>\n",
              "      <td>2</td>\n",
              "      <td>2</td>\n",
              "      <td>2</td>\n",
              "      <td>2</td>\n",
              "      <td>1</td>\n",
              "      <td>1</td>\n",
              "      <td>2</td>\n",
              "      <td>1</td>\n",
              "      <td>1</td>\n",
              "      <td>2</td>\n",
              "      <td>2</td>\n",
              "      <td>2</td>\n",
              "      <td>4</td>\n",
              "      <td>1</td>\n",
              "      <td>3</td>\n",
              "      <td>1800</td>\n",
              "      <td>450.00</td>\n",
              "      <td>1</td>\n",
              "      <td>0</td>\n",
              "      <td>98</td>\n",
              "      <td>0</td>\n",
              "      <td>0</td>\n",
              "      <td>0</td>\n",
              "      <td>1</td>\n",
              "      <td>2</td>\n",
              "      <td>53</td>\n",
              "      <td>4</td>\n",
              "      <td>2</td>\n",
              "      <td>3</td>\n",
              "      <td>0</td>\n",
              "      <td>3.01</td>\n",
              "      <td>598.01</td>\n",
              "      <td>1</td>\n",
              "    </tr>\n",
              "    <tr>\n",
              "      <th>8570</th>\n",
              "      <td>TQRMNORSPHKMLQCDEIJAH00663348</td>\n",
              "      <td>1</td>\n",
              "      <td>33</td>\n",
              "      <td>1</td>\n",
              "      <td>NaN</td>\n",
              "      <td>1</td>\n",
              "      <td>2</td>\n",
              "      <td>NaN</td>\n",
              "      <td>2</td>\n",
              "      <td>2</td>\n",
              "      <td>1</td>\n",
              "      <td>1</td>\n",
              "      <td>NaN</td>\n",
              "      <td>1</td>\n",
              "      <td>1</td>\n",
              "      <td>2</td>\n",
              "      <td>3</td>\n",
              "      <td>2</td>\n",
              "      <td>2</td>\n",
              "      <td>2</td>\n",
              "      <td>1</td>\n",
              "      <td>1</td>\n",
              "      <td>2</td>\n",
              "      <td>0</td>\n",
              "      <td>2</td>\n",
              "      <td>2</td>\n",
              "      <td>2</td>\n",
              "      <td>0</td>\n",
              "      <td>0</td>\n",
              "      <td>0</td>\n",
              "      <td>0</td>\n",
              "      <td>1</td>\n",
              "      <td>NaN</td>\n",
              "      <td>2</td>\n",
              "      <td>NaN</td>\n",
              "      <td>1</td>\n",
              "      <td>1</td>\n",
              "      <td>2</td>\n",
              "      <td>2</td>\n",
              "      <td>2</td>\n",
              "      <td>2</td>\n",
              "      <td>2</td>\n",
              "      <td>2</td>\n",
              "      <td>2</td>\n",
              "      <td>1</td>\n",
              "      <td>2</td>\n",
              "      <td>2</td>\n",
              "      <td>2</td>\n",
              "      <td>2</td>\n",
              "      <td>2</td>\n",
              "      <td>2</td>\n",
              "      <td>2</td>\n",
              "      <td>2</td>\n",
              "      <td>2</td>\n",
              "      <td>2</td>\n",
              "      <td>2</td>\n",
              "      <td>2</td>\n",
              "      <td>2</td>\n",
              "      <td>1</td>\n",
              "      <td>0</td>\n",
              "      <td>1</td>\n",
              "      <td>900</td>\n",
              "      <td>900.00</td>\n",
              "      <td>1</td>\n",
              "      <td>0</td>\n",
              "      <td>98</td>\n",
              "      <td>0</td>\n",
              "      <td>0</td>\n",
              "      <td>0</td>\n",
              "      <td>1</td>\n",
              "      <td>1</td>\n",
              "      <td>52</td>\n",
              "      <td>4</td>\n",
              "      <td>3</td>\n",
              "      <td>2</td>\n",
              "      <td>0</td>\n",
              "      <td>1.00</td>\n",
              "      <td>900.00</td>\n",
              "      <td>1</td>\n",
              "    </tr>\n",
              "    <tr>\n",
              "      <th>6381</th>\n",
              "      <td>TQRMNOQYWHMNQMCDEIJAH00719056</td>\n",
              "      <td>1</td>\n",
              "      <td>33</td>\n",
              "      <td>2</td>\n",
              "      <td>NaN</td>\n",
              "      <td>2</td>\n",
              "      <td>1</td>\n",
              "      <td>NaN</td>\n",
              "      <td>4</td>\n",
              "      <td>1</td>\n",
              "      <td>1</td>\n",
              "      <td>1</td>\n",
              "      <td>NaN</td>\n",
              "      <td>1</td>\n",
              "      <td>1</td>\n",
              "      <td>1</td>\n",
              "      <td>2</td>\n",
              "      <td>2</td>\n",
              "      <td>2</td>\n",
              "      <td>2</td>\n",
              "      <td>2</td>\n",
              "      <td>1</td>\n",
              "      <td>2</td>\n",
              "      <td>0</td>\n",
              "      <td>1</td>\n",
              "      <td>2</td>\n",
              "      <td>1</td>\n",
              "      <td>2</td>\n",
              "      <td>0</td>\n",
              "      <td>2</td>\n",
              "      <td>0</td>\n",
              "      <td>1</td>\n",
              "      <td>NaN</td>\n",
              "      <td>1</td>\n",
              "      <td>NaN</td>\n",
              "      <td>1</td>\n",
              "      <td>2</td>\n",
              "      <td>2</td>\n",
              "      <td>2</td>\n",
              "      <td>2</td>\n",
              "      <td>2</td>\n",
              "      <td>2</td>\n",
              "      <td>2</td>\n",
              "      <td>2</td>\n",
              "      <td>2</td>\n",
              "      <td>1</td>\n",
              "      <td>2</td>\n",
              "      <td>2</td>\n",
              "      <td>2</td>\n",
              "      <td>2</td>\n",
              "      <td>1</td>\n",
              "      <td>2</td>\n",
              "      <td>2</td>\n",
              "      <td>2</td>\n",
              "      <td>2</td>\n",
              "      <td>2</td>\n",
              "      <td>2</td>\n",
              "      <td>2</td>\n",
              "      <td>1</td>\n",
              "      <td>0</td>\n",
              "      <td>1</td>\n",
              "      <td>1100</td>\n",
              "      <td>1100.00</td>\n",
              "      <td>1</td>\n",
              "      <td>0</td>\n",
              "      <td>98</td>\n",
              "      <td>0</td>\n",
              "      <td>0</td>\n",
              "      <td>0</td>\n",
              "      <td>1</td>\n",
              "      <td>1</td>\n",
              "      <td>62</td>\n",
              "      <td>4</td>\n",
              "      <td>2</td>\n",
              "      <td>0</td>\n",
              "      <td>2</td>\n",
              "      <td>0.83</td>\n",
              "      <td>1325.30</td>\n",
              "      <td>1</td>\n",
              "    </tr>\n",
              "    <tr>\n",
              "      <th>1430</th>\n",
              "      <td>TQRMNOPUTHMNLNCDEGGFB00715713</td>\n",
              "      <td>1</td>\n",
              "      <td>10</td>\n",
              "      <td>1</td>\n",
              "      <td>NaN</td>\n",
              "      <td>3</td>\n",
              "      <td>1</td>\n",
              "      <td>NaN</td>\n",
              "      <td>1</td>\n",
              "      <td>1</td>\n",
              "      <td>1</td>\n",
              "      <td>1</td>\n",
              "      <td>NaN</td>\n",
              "      <td>1</td>\n",
              "      <td>1</td>\n",
              "      <td>1</td>\n",
              "      <td>1</td>\n",
              "      <td>2</td>\n",
              "      <td>2</td>\n",
              "      <td>2</td>\n",
              "      <td>3</td>\n",
              "      <td>2</td>\n",
              "      <td>2</td>\n",
              "      <td>0</td>\n",
              "      <td>1</td>\n",
              "      <td>1</td>\n",
              "      <td>2</td>\n",
              "      <td>2</td>\n",
              "      <td>0</td>\n",
              "      <td>2</td>\n",
              "      <td>0</td>\n",
              "      <td>3</td>\n",
              "      <td>NaN</td>\n",
              "      <td>1</td>\n",
              "      <td>NaN</td>\n",
              "      <td>1</td>\n",
              "      <td>1</td>\n",
              "      <td>2</td>\n",
              "      <td>2</td>\n",
              "      <td>2</td>\n",
              "      <td>2</td>\n",
              "      <td>2</td>\n",
              "      <td>2</td>\n",
              "      <td>2</td>\n",
              "      <td>2</td>\n",
              "      <td>2</td>\n",
              "      <td>2</td>\n",
              "      <td>2</td>\n",
              "      <td>2</td>\n",
              "      <td>2</td>\n",
              "      <td>1</td>\n",
              "      <td>2</td>\n",
              "      <td>2</td>\n",
              "      <td>2</td>\n",
              "      <td>2</td>\n",
              "      <td>2</td>\n",
              "      <td>2</td>\n",
              "      <td>2</td>\n",
              "      <td>4</td>\n",
              "      <td>0</td>\n",
              "      <td>4</td>\n",
              "      <td>4800</td>\n",
              "      <td>1200.00</td>\n",
              "      <td>1</td>\n",
              "      <td>0</td>\n",
              "      <td>2</td>\n",
              "      <td>3</td>\n",
              "      <td>4</td>\n",
              "      <td>0</td>\n",
              "      <td>1</td>\n",
              "      <td>2</td>\n",
              "      <td>32</td>\n",
              "      <td>1</td>\n",
              "      <td>3</td>\n",
              "      <td>3</td>\n",
              "      <td>0</td>\n",
              "      <td>3.43</td>\n",
              "      <td>1399.42</td>\n",
              "      <td>1</td>\n",
              "    </tr>\n",
              "    <tr>\n",
              "      <th>...</th>\n",
              "      <td>...</td>\n",
              "      <td>...</td>\n",
              "      <td>...</td>\n",
              "      <td>...</td>\n",
              "      <td>...</td>\n",
              "      <td>...</td>\n",
              "      <td>...</td>\n",
              "      <td>...</td>\n",
              "      <td>...</td>\n",
              "      <td>...</td>\n",
              "      <td>...</td>\n",
              "      <td>...</td>\n",
              "      <td>...</td>\n",
              "      <td>...</td>\n",
              "      <td>...</td>\n",
              "      <td>...</td>\n",
              "      <td>...</td>\n",
              "      <td>...</td>\n",
              "      <td>...</td>\n",
              "      <td>...</td>\n",
              "      <td>...</td>\n",
              "      <td>...</td>\n",
              "      <td>...</td>\n",
              "      <td>...</td>\n",
              "      <td>...</td>\n",
              "      <td>...</td>\n",
              "      <td>...</td>\n",
              "      <td>...</td>\n",
              "      <td>...</td>\n",
              "      <td>...</td>\n",
              "      <td>...</td>\n",
              "      <td>...</td>\n",
              "      <td>...</td>\n",
              "      <td>...</td>\n",
              "      <td>...</td>\n",
              "      <td>...</td>\n",
              "      <td>...</td>\n",
              "      <td>...</td>\n",
              "      <td>...</td>\n",
              "      <td>...</td>\n",
              "      <td>...</td>\n",
              "      <td>...</td>\n",
              "      <td>...</td>\n",
              "      <td>...</td>\n",
              "      <td>...</td>\n",
              "      <td>...</td>\n",
              "      <td>...</td>\n",
              "      <td>...</td>\n",
              "      <td>...</td>\n",
              "      <td>...</td>\n",
              "      <td>...</td>\n",
              "      <td>...</td>\n",
              "      <td>...</td>\n",
              "      <td>...</td>\n",
              "      <td>...</td>\n",
              "      <td>...</td>\n",
              "      <td>...</td>\n",
              "      <td>...</td>\n",
              "      <td>...</td>\n",
              "      <td>...</td>\n",
              "      <td>...</td>\n",
              "      <td>...</td>\n",
              "      <td>...</td>\n",
              "      <td>...</td>\n",
              "      <td>...</td>\n",
              "      <td>...</td>\n",
              "      <td>...</td>\n",
              "      <td>...</td>\n",
              "      <td>...</td>\n",
              "      <td>...</td>\n",
              "      <td>...</td>\n",
              "      <td>...</td>\n",
              "      <td>...</td>\n",
              "      <td>...</td>\n",
              "      <td>...</td>\n",
              "      <td>...</td>\n",
              "      <td>...</td>\n",
              "      <td>...</td>\n",
              "      <td>...</td>\n",
              "    </tr>\n",
              "    <tr>\n",
              "      <th>15894</th>\n",
              "      <td>TQRMNORUQHJLLMCDEGJBF00675410</td>\n",
              "      <td>1</td>\n",
              "      <td>13</td>\n",
              "      <td>1</td>\n",
              "      <td>NaN</td>\n",
              "      <td>3</td>\n",
              "      <td>1</td>\n",
              "      <td>NaN</td>\n",
              "      <td>1</td>\n",
              "      <td>2</td>\n",
              "      <td>1</td>\n",
              "      <td>1</td>\n",
              "      <td>NaN</td>\n",
              "      <td>1</td>\n",
              "      <td>1</td>\n",
              "      <td>1</td>\n",
              "      <td>1</td>\n",
              "      <td>2</td>\n",
              "      <td>2</td>\n",
              "      <td>2</td>\n",
              "      <td>3</td>\n",
              "      <td>1</td>\n",
              "      <td>2</td>\n",
              "      <td>0</td>\n",
              "      <td>1</td>\n",
              "      <td>1</td>\n",
              "      <td>2</td>\n",
              "      <td>2</td>\n",
              "      <td>0</td>\n",
              "      <td>2</td>\n",
              "      <td>0</td>\n",
              "      <td>3</td>\n",
              "      <td>NaN</td>\n",
              "      <td>1</td>\n",
              "      <td>NaN</td>\n",
              "      <td>1</td>\n",
              "      <td>1</td>\n",
              "      <td>2</td>\n",
              "      <td>2</td>\n",
              "      <td>2</td>\n",
              "      <td>2</td>\n",
              "      <td>2</td>\n",
              "      <td>2</td>\n",
              "      <td>2</td>\n",
              "      <td>2</td>\n",
              "      <td>2</td>\n",
              "      <td>2</td>\n",
              "      <td>2</td>\n",
              "      <td>2</td>\n",
              "      <td>2</td>\n",
              "      <td>2</td>\n",
              "      <td>2</td>\n",
              "      <td>2</td>\n",
              "      <td>2</td>\n",
              "      <td>2</td>\n",
              "      <td>1</td>\n",
              "      <td>2</td>\n",
              "      <td>2</td>\n",
              "      <td>1</td>\n",
              "      <td>0</td>\n",
              "      <td>1</td>\n",
              "      <td>680000</td>\n",
              "      <td>680000.00</td>\n",
              "      <td>1</td>\n",
              "      <td>0</td>\n",
              "      <td>98</td>\n",
              "      <td>0</td>\n",
              "      <td>0</td>\n",
              "      <td>0</td>\n",
              "      <td>1</td>\n",
              "      <td>1</td>\n",
              "      <td>61</td>\n",
              "      <td>1</td>\n",
              "      <td>5</td>\n",
              "      <td>3</td>\n",
              "      <td>0</td>\n",
              "      <td>0.83</td>\n",
              "      <td>819277.11</td>\n",
              "      <td>0</td>\n",
              "    </tr>\n",
              "    <tr>\n",
              "      <th>5351</th>\n",
              "      <td>TQRMNOPWSHKLOUCDEIJAH00663632</td>\n",
              "      <td>1</td>\n",
              "      <td>33</td>\n",
              "      <td>1</td>\n",
              "      <td>NaN</td>\n",
              "      <td>4</td>\n",
              "      <td>1</td>\n",
              "      <td>NaN</td>\n",
              "      <td>1</td>\n",
              "      <td>1</td>\n",
              "      <td>1</td>\n",
              "      <td>1</td>\n",
              "      <td>NaN</td>\n",
              "      <td>1</td>\n",
              "      <td>1</td>\n",
              "      <td>1</td>\n",
              "      <td>1</td>\n",
              "      <td>2</td>\n",
              "      <td>2</td>\n",
              "      <td>2</td>\n",
              "      <td>4</td>\n",
              "      <td>1</td>\n",
              "      <td>2</td>\n",
              "      <td>0</td>\n",
              "      <td>1</td>\n",
              "      <td>1</td>\n",
              "      <td>1</td>\n",
              "      <td>2</td>\n",
              "      <td>0</td>\n",
              "      <td>2</td>\n",
              "      <td>0</td>\n",
              "      <td>1</td>\n",
              "      <td>NaN</td>\n",
              "      <td>1</td>\n",
              "      <td>NaN</td>\n",
              "      <td>1</td>\n",
              "      <td>1</td>\n",
              "      <td>2</td>\n",
              "      <td>2</td>\n",
              "      <td>2</td>\n",
              "      <td>2</td>\n",
              "      <td>2</td>\n",
              "      <td>2</td>\n",
              "      <td>2</td>\n",
              "      <td>2</td>\n",
              "      <td>2</td>\n",
              "      <td>2</td>\n",
              "      <td>1</td>\n",
              "      <td>2</td>\n",
              "      <td>2</td>\n",
              "      <td>1</td>\n",
              "      <td>2</td>\n",
              "      <td>2</td>\n",
              "      <td>1</td>\n",
              "      <td>2</td>\n",
              "      <td>2</td>\n",
              "      <td>2</td>\n",
              "      <td>2</td>\n",
              "      <td>1</td>\n",
              "      <td>0</td>\n",
              "      <td>1</td>\n",
              "      <td>750000</td>\n",
              "      <td>750000.00</td>\n",
              "      <td>96</td>\n",
              "      <td>0</td>\n",
              "      <td>98</td>\n",
              "      <td>0</td>\n",
              "      <td>0</td>\n",
              "      <td>0</td>\n",
              "      <td>1</td>\n",
              "      <td>1</td>\n",
              "      <td>65</td>\n",
              "      <td>12</td>\n",
              "      <td>4</td>\n",
              "      <td>3</td>\n",
              "      <td>0</td>\n",
              "      <td>0.83</td>\n",
              "      <td>903614.46</td>\n",
              "      <td>0</td>\n",
              "    </tr>\n",
              "    <tr>\n",
              "      <th>5094</th>\n",
              "      <td>TQRMNORUUHLMMOCDEFKID00714779</td>\n",
              "      <td>1</td>\n",
              "      <td>4</td>\n",
              "      <td>1</td>\n",
              "      <td>NaN</td>\n",
              "      <td>3</td>\n",
              "      <td>1</td>\n",
              "      <td>NaN</td>\n",
              "      <td>2</td>\n",
              "      <td>1</td>\n",
              "      <td>1</td>\n",
              "      <td>1</td>\n",
              "      <td>NaN</td>\n",
              "      <td>1</td>\n",
              "      <td>1</td>\n",
              "      <td>1</td>\n",
              "      <td>2</td>\n",
              "      <td>2</td>\n",
              "      <td>2</td>\n",
              "      <td>2</td>\n",
              "      <td>3</td>\n",
              "      <td>2</td>\n",
              "      <td>2</td>\n",
              "      <td>0</td>\n",
              "      <td>1</td>\n",
              "      <td>1</td>\n",
              "      <td>1</td>\n",
              "      <td>2</td>\n",
              "      <td>0</td>\n",
              "      <td>2</td>\n",
              "      <td>0</td>\n",
              "      <td>3</td>\n",
              "      <td>NaN</td>\n",
              "      <td>1</td>\n",
              "      <td>NaN</td>\n",
              "      <td>1</td>\n",
              "      <td>1</td>\n",
              "      <td>2</td>\n",
              "      <td>2</td>\n",
              "      <td>2</td>\n",
              "      <td>2</td>\n",
              "      <td>2</td>\n",
              "      <td>2</td>\n",
              "      <td>2</td>\n",
              "      <td>2</td>\n",
              "      <td>2</td>\n",
              "      <td>2</td>\n",
              "      <td>2</td>\n",
              "      <td>2</td>\n",
              "      <td>2</td>\n",
              "      <td>2</td>\n",
              "      <td>2</td>\n",
              "      <td>2</td>\n",
              "      <td>1</td>\n",
              "      <td>2</td>\n",
              "      <td>2</td>\n",
              "      <td>2</td>\n",
              "      <td>2</td>\n",
              "      <td>3</td>\n",
              "      <td>1</td>\n",
              "      <td>2</td>\n",
              "      <td>2301000</td>\n",
              "      <td>767000.00</td>\n",
              "      <td>96</td>\n",
              "      <td>0</td>\n",
              "      <td>1</td>\n",
              "      <td>2</td>\n",
              "      <td>0</td>\n",
              "      <td>0</td>\n",
              "      <td>1</td>\n",
              "      <td>1</td>\n",
              "      <td>43</td>\n",
              "      <td>1</td>\n",
              "      <td>5</td>\n",
              "      <td>1</td>\n",
              "      <td>0</td>\n",
              "      <td>2.37</td>\n",
              "      <td>970886.08</td>\n",
              "      <td>0</td>\n",
              "    </tr>\n",
              "    <tr>\n",
              "      <th>484</th>\n",
              "      <td>TQRMNOQUYHJOKMCDEIIAD00718213</td>\n",
              "      <td>1</td>\n",
              "      <td>32</td>\n",
              "      <td>2</td>\n",
              "      <td>NaN</td>\n",
              "      <td>4</td>\n",
              "      <td>1</td>\n",
              "      <td>NaN</td>\n",
              "      <td>9</td>\n",
              "      <td>1</td>\n",
              "      <td>1</td>\n",
              "      <td>1</td>\n",
              "      <td>NaN</td>\n",
              "      <td>1</td>\n",
              "      <td>1</td>\n",
              "      <td>1</td>\n",
              "      <td>1</td>\n",
              "      <td>2</td>\n",
              "      <td>2</td>\n",
              "      <td>2</td>\n",
              "      <td>4</td>\n",
              "      <td>1</td>\n",
              "      <td>2</td>\n",
              "      <td>0</td>\n",
              "      <td>1</td>\n",
              "      <td>1</td>\n",
              "      <td>2</td>\n",
              "      <td>2</td>\n",
              "      <td>0</td>\n",
              "      <td>2</td>\n",
              "      <td>0</td>\n",
              "      <td>1</td>\n",
              "      <td>NaN</td>\n",
              "      <td>4</td>\n",
              "      <td>ELECTRICIDAD</td>\n",
              "      <td>1</td>\n",
              "      <td>2</td>\n",
              "      <td>1</td>\n",
              "      <td>2</td>\n",
              "      <td>2</td>\n",
              "      <td>2</td>\n",
              "      <td>2</td>\n",
              "      <td>2</td>\n",
              "      <td>2</td>\n",
              "      <td>2</td>\n",
              "      <td>2</td>\n",
              "      <td>2</td>\n",
              "      <td>2</td>\n",
              "      <td>2</td>\n",
              "      <td>2</td>\n",
              "      <td>2</td>\n",
              "      <td>2</td>\n",
              "      <td>2</td>\n",
              "      <td>2</td>\n",
              "      <td>2</td>\n",
              "      <td>2</td>\n",
              "      <td>2</td>\n",
              "      <td>2</td>\n",
              "      <td>1</td>\n",
              "      <td>0</td>\n",
              "      <td>1</td>\n",
              "      <td>770000</td>\n",
              "      <td>770000.00</td>\n",
              "      <td>96</td>\n",
              "      <td>0</td>\n",
              "      <td>98</td>\n",
              "      <td>0</td>\n",
              "      <td>0</td>\n",
              "      <td>0</td>\n",
              "      <td>1</td>\n",
              "      <td>2</td>\n",
              "      <td>87</td>\n",
              "      <td>1</td>\n",
              "      <td>4</td>\n",
              "      <td>0</td>\n",
              "      <td>1</td>\n",
              "      <td>0.63</td>\n",
              "      <td>1222222.22</td>\n",
              "      <td>0</td>\n",
              "    </tr>\n",
              "    <tr>\n",
              "      <th>5068</th>\n",
              "      <td>TQRMNOUTUHKNLSCDEIIAD00718373</td>\n",
              "      <td>1</td>\n",
              "      <td>32</td>\n",
              "      <td>2</td>\n",
              "      <td>NaN</td>\n",
              "      <td>3</td>\n",
              "      <td>1</td>\n",
              "      <td>NaN</td>\n",
              "      <td>2</td>\n",
              "      <td>1</td>\n",
              "      <td>1</td>\n",
              "      <td>1</td>\n",
              "      <td>NaN</td>\n",
              "      <td>1</td>\n",
              "      <td>1</td>\n",
              "      <td>1</td>\n",
              "      <td>1</td>\n",
              "      <td>2</td>\n",
              "      <td>2</td>\n",
              "      <td>2</td>\n",
              "      <td>3</td>\n",
              "      <td>2</td>\n",
              "      <td>2</td>\n",
              "      <td>0</td>\n",
              "      <td>1</td>\n",
              "      <td>2</td>\n",
              "      <td>1</td>\n",
              "      <td>2</td>\n",
              "      <td>0</td>\n",
              "      <td>2</td>\n",
              "      <td>0</td>\n",
              "      <td>3</td>\n",
              "      <td>NaN</td>\n",
              "      <td>1</td>\n",
              "      <td>NaN</td>\n",
              "      <td>1</td>\n",
              "      <td>1</td>\n",
              "      <td>2</td>\n",
              "      <td>2</td>\n",
              "      <td>2</td>\n",
              "      <td>2</td>\n",
              "      <td>2</td>\n",
              "      <td>2</td>\n",
              "      <td>2</td>\n",
              "      <td>2</td>\n",
              "      <td>1</td>\n",
              "      <td>2</td>\n",
              "      <td>2</td>\n",
              "      <td>2</td>\n",
              "      <td>2</td>\n",
              "      <td>1</td>\n",
              "      <td>2</td>\n",
              "      <td>1</td>\n",
              "      <td>1</td>\n",
              "      <td>2</td>\n",
              "      <td>2</td>\n",
              "      <td>2</td>\n",
              "      <td>2</td>\n",
              "      <td>2</td>\n",
              "      <td>0</td>\n",
              "      <td>2</td>\n",
              "      <td>4035000</td>\n",
              "      <td>2017500.00</td>\n",
              "      <td>96</td>\n",
              "      <td>0</td>\n",
              "      <td>98</td>\n",
              "      <td>0</td>\n",
              "      <td>0</td>\n",
              "      <td>0</td>\n",
              "      <td>1</td>\n",
              "      <td>1</td>\n",
              "      <td>45</td>\n",
              "      <td>2</td>\n",
              "      <td>6</td>\n",
              "      <td>1</td>\n",
              "      <td>0</td>\n",
              "      <td>1.90</td>\n",
              "      <td>2123684.21</td>\n",
              "      <td>0</td>\n",
              "    </tr>\n",
              "  </tbody>\n",
              "</table>\n",
              "<p>13455 rows × 79 columns</p>\n",
              "</div>\n",
              "      <button class=\"colab-df-convert\" onclick=\"convertToInteractive('df-539a00ef-1a2b-48df-acf8-31197d3fd207')\"\n",
              "              title=\"Convert this dataframe to an interactive table.\"\n",
              "              style=\"display:none;\">\n",
              "        \n",
              "  <svg xmlns=\"http://www.w3.org/2000/svg\" height=\"24px\"viewBox=\"0 0 24 24\"\n",
              "       width=\"24px\">\n",
              "    <path d=\"M0 0h24v24H0V0z\" fill=\"none\"/>\n",
              "    <path d=\"M18.56 5.44l.94 2.06.94-2.06 2.06-.94-2.06-.94-.94-2.06-.94 2.06-2.06.94zm-11 1L8.5 8.5l.94-2.06 2.06-.94-2.06-.94L8.5 2.5l-.94 2.06-2.06.94zm10 10l.94 2.06.94-2.06 2.06-.94-2.06-.94-.94-2.06-.94 2.06-2.06.94z\"/><path d=\"M17.41 7.96l-1.37-1.37c-.4-.4-.92-.59-1.43-.59-.52 0-1.04.2-1.43.59L10.3 9.45l-7.72 7.72c-.78.78-.78 2.05 0 2.83L4 21.41c.39.39.9.59 1.41.59.51 0 1.02-.2 1.41-.59l7.78-7.78 2.81-2.81c.8-.78.8-2.07 0-2.86zM5.41 20L4 18.59l7.72-7.72 1.47 1.35L5.41 20z\"/>\n",
              "  </svg>\n",
              "      </button>\n",
              "      \n",
              "  <style>\n",
              "    .colab-df-container {\n",
              "      display:flex;\n",
              "      flex-wrap:wrap;\n",
              "      gap: 12px;\n",
              "    }\n",
              "\n",
              "    .colab-df-convert {\n",
              "      background-color: #E8F0FE;\n",
              "      border: none;\n",
              "      border-radius: 50%;\n",
              "      cursor: pointer;\n",
              "      display: none;\n",
              "      fill: #1967D2;\n",
              "      height: 32px;\n",
              "      padding: 0 0 0 0;\n",
              "      width: 32px;\n",
              "    }\n",
              "\n",
              "    .colab-df-convert:hover {\n",
              "      background-color: #E2EBFA;\n",
              "      box-shadow: 0px 1px 2px rgba(60, 64, 67, 0.3), 0px 1px 3px 1px rgba(60, 64, 67, 0.15);\n",
              "      fill: #174EA6;\n",
              "    }\n",
              "\n",
              "    [theme=dark] .colab-df-convert {\n",
              "      background-color: #3B4455;\n",
              "      fill: #D2E3FC;\n",
              "    }\n",
              "\n",
              "    [theme=dark] .colab-df-convert:hover {\n",
              "      background-color: #434B5C;\n",
              "      box-shadow: 0px 1px 3px 1px rgba(0, 0, 0, 0.15);\n",
              "      filter: drop-shadow(0px 1px 2px rgba(0, 0, 0, 0.3));\n",
              "      fill: #FFFFFF;\n",
              "    }\n",
              "  </style>\n",
              "\n",
              "      <script>\n",
              "        const buttonEl =\n",
              "          document.querySelector('#df-539a00ef-1a2b-48df-acf8-31197d3fd207 button.colab-df-convert');\n",
              "        buttonEl.style.display =\n",
              "          google.colab.kernel.accessAllowed ? 'block' : 'none';\n",
              "\n",
              "        async function convertToInteractive(key) {\n",
              "          const element = document.querySelector('#df-539a00ef-1a2b-48df-acf8-31197d3fd207');\n",
              "          const dataTable =\n",
              "            await google.colab.kernel.invokeFunction('convertToInteractive',\n",
              "                                                     [key], {});\n",
              "          if (!dataTable) return;\n",
              "\n",
              "          const docLinkHtml = 'Like what you see? Visit the ' +\n",
              "            '<a target=\"_blank\" href=https://colab.research.google.com/notebooks/data_table.ipynb>data table notebook</a>'\n",
              "            + ' to learn more about interactive tables.';\n",
              "          element.innerHTML = '';\n",
              "          dataTable['output_type'] = 'display_data';\n",
              "          await google.colab.output.renderOutput(dataTable, element);\n",
              "          const docLink = document.createElement('div');\n",
              "          docLink.innerHTML = docLinkHtml;\n",
              "          element.appendChild(docLink);\n",
              "        }\n",
              "      </script>\n",
              "    </div>\n",
              "  </div>\n",
              "  "
            ]
          },
          "metadata": {},
          "execution_count": 107
        }
      ]
    },
    {
      "cell_type": "markdown",
      "source": [
        "**Nulos**"
      ],
      "metadata": {
        "id": "XNDEQUlsW3MQ"
      }
    },
    {
      "cell_type": "code",
      "execution_count": null,
      "metadata": {
        "id": "4XYqe1kE4k-7"
      },
      "outputs": [],
      "source": [
        "pd.set_option('max_rows', 80)\n",
        "pd.set_option('max_columns', 80)\n",
        "pd.set_option('display.width', 80)\n",
        "pd.set_option('display.max_colwidth', 80)"
      ]
    },
    {
      "cell_type": "code",
      "execution_count": null,
      "metadata": {
        "id": "7Z4eH2RdyeHW"
      },
      "outputs": [],
      "source": [
        "nulos = df_dataset.isnull().sum()"
      ]
    },
    {
      "cell_type": "code",
      "execution_count": null,
      "metadata": {
        "colab": {
          "base_uri": "https://localhost:8080/"
        },
        "id": "27vzYP0_lAQn",
        "outputId": "846072a4-30e5-426d-d5f7-a32de92421cc"
      },
      "outputs": [
        {
          "output_type": "execute_result",
          "data": {
            "text/plain": [
              "CODUSU                    0\n",
              "NRO_HOGAR                 0\n",
              "AGLOMERADO                0\n",
              "IV1                       0\n",
              "IV1_ESP               13426\n",
              "IV2                       0\n",
              "IV3                       0\n",
              "IV3_ESP               13428\n",
              "IV4                       0\n",
              "IV5                       0\n",
              "IV6                       0\n",
              "IV7                       0\n",
              "IV7_ESP               13438\n",
              "IV8                       0\n",
              "IV9                       0\n",
              "IV10                      0\n",
              "IV11                      0\n",
              "IV12_1                    0\n",
              "IV12_2                    0\n",
              "IV12_3                    0\n",
              "II1                       0\n",
              "II2                       0\n",
              "II3                       0\n",
              "II3_1                     0\n",
              "II4_1                     0\n",
              "II4_2                     0\n",
              "II4_3                     0\n",
              "II5                       0\n",
              "II5_1                     0\n",
              "II6                       0\n",
              "II6_1                     0\n",
              "II7                       0\n",
              "II7_ESP               13436\n",
              "II8                       0\n",
              "II8_ESP               13348\n",
              "II9                       0\n",
              "V1                        0\n",
              "V2                        0\n",
              "V21                       0\n",
              "V22                       0\n",
              "V3                        0\n",
              "V4                        0\n",
              "V5                        0\n",
              "V6                        0\n",
              "V7                        0\n",
              "V8                        0\n",
              "V9                        0\n",
              "V10                       0\n",
              "V11                       0\n",
              "V12                       0\n",
              "V13                       0\n",
              "V14                       0\n",
              "V15                       0\n",
              "V16                       0\n",
              "V17                       0\n",
              "V18                       0\n",
              "V19_A                     0\n",
              "V19_B                     0\n",
              "IX_TOT                    0\n",
              "IX_MEN10                  0\n",
              "IX_MAYEQ10                0\n",
              "ITF                       0\n",
              "IPCF                      0\n",
              "VII1_1                    0\n",
              "VII1_2                    0\n",
              "VII2_1                    0\n",
              "VII2_2                    0\n",
              "VII2_3                    0\n",
              "VII2_4                    0\n",
              "parentesco                0\n",
              "genero                    0\n",
              "edad                      0\n",
              "cob_medica                0\n",
              "NIVEL_ED                  0\n",
              "CAT_OCUP                  0\n",
              "CAT_INAC                  0\n",
              "AE_ctrol_ind_sum          0\n",
              "adulto_equivalente        0\n",
              "pobreza                   0\n",
              "dtype: int64"
            ]
          },
          "metadata": {},
          "execution_count": 110
        }
      ],
      "source": [
        "nulos"
      ]
    },
    {
      "cell_type": "code",
      "execution_count": null,
      "metadata": {
        "colab": {
          "base_uri": "https://localhost:8080/"
        },
        "id": "Q_UTWEu8vold",
        "outputId": "9bca728a-4487-4d61-cbbb-8a5b8b67e49d"
      },
      "outputs": [
        {
          "output_type": "execute_result",
          "data": {
            "text/plain": [
              "IV1_ESP     29\n",
              "IV3_ESP     27\n",
              "IV7_ESP     17\n",
              "II7_ESP     19\n",
              "II8_ESP    107\n",
              "dtype: int64"
            ]
          },
          "metadata": {},
          "execution_count": 111
        }
      ],
      "source": [
        "# vemos que las variables que tienen valores nulos son\n",
        "#IV1_ESP, IV3_ESP, IV7_ESP, II7_ESP, II8_ESP\n",
        "\n",
        "#analizamos la cantidad que hay en cada una de ellas\n",
        "\n",
        "df_dataset[['IV1_ESP','IV3_ESP','IV7_ESP','II7_ESP','II8_ESP']].notnull().sum()\n"
      ]
    },
    {
      "cell_type": "code",
      "execution_count": null,
      "metadata": {
        "id": "tN-ULNdJ9ADp"
      },
      "outputs": [],
      "source": [
        "\"\"\"\n",
        "La variable IV1 refiere al tipo de vivienda y tiene los valores desde el 1 al 6.\n",
        "Este último refiere a \"otro\" y en IV1_ESP se especifica la misma.\n",
        "\n",
        "La variable IV3 identifica los pisos y va los valores desde el 1 al 4.\n",
        "Este último refiere a \"otro\" y en IV3_ESP se especifica la misma.\n",
        "\n",
        "La variable IV7 es la fuente del agua y va del 1 al 4.\n",
        "Este último refiere a \"otro\" y en IV_ESP se especifica la misma.\n",
        "\n",
        "a variable II7 es el régimen de tenencia de la propiedad y va del 1 al 9.\n",
        "Este último refiere a \"otro\" y en II7_ESP se especifica la misma.\n",
        "\"\"\"\n",
        "# dada la escasa cantidad de valores presentes en estas variables no las vamos a tener en cuenta en este estudio\n",
        "\n",
        "df_dataset = df_dataset.drop(['IV1_ESP','IV3_ESP','IV7_ESP','II7_ESP'], axis=1)"
      ]
    },
    {
      "cell_type": "code",
      "source": [
        "df_dataset.shape"
      ],
      "metadata": {
        "colab": {
          "base_uri": "https://localhost:8080/"
        },
        "id": "ml6V4eI8Skly",
        "outputId": "c73a80e0-2022-4143-8619-c4698ad50136"
      },
      "execution_count": null,
      "outputs": [
        {
          "output_type": "execute_result",
          "data": {
            "text/plain": [
              "(13455, 75)"
            ]
          },
          "metadata": {},
          "execution_count": 113
        }
      ]
    },
    {
      "cell_type": "code",
      "execution_count": null,
      "metadata": {
        "colab": {
          "base_uri": "https://localhost:8080/"
        },
        "id": "eq5QsNTkixyZ",
        "outputId": "cc2bde5c-2302-434c-9663-a82a98682017"
      },
      "outputs": [
        {
          "output_type": "execute_result",
          "data": {
            "text/plain": [
              "1    8475\n",
              "2    4822\n",
              "4     107\n",
              "3      40\n",
              "0      11\n",
              "Name: II8, dtype: int64"
            ]
          },
          "metadata": {},
          "execution_count": 114
        }
      ],
      "source": [
        "\"\"\"\n",
        "La variable II8 es el combustible usado para cocina y va del 1 al 4.\n",
        "Este último refiere a \"otro\" y en II8_ESP se especifica la misma.\n",
        "\"\"\"\n",
        "# chequeamos cuántas veces aparece un valor en II8\n",
        "\n",
        "df_dataset['II8'].value_counts()"
      ]
    },
    {
      "cell_type": "markdown",
      "source": [
        "Vemos que hay filas con valores 0, los cuales vamos a cambiar por la mediana o la moda"
      ],
      "metadata": {
        "id": "kbbBnL5pMjnZ"
      }
    },
    {
      "cell_type": "code",
      "execution_count": null,
      "metadata": {
        "colab": {
          "base_uri": "https://localhost:8080/"
        },
        "id": "E7_tgbtzpCzo",
        "outputId": "de40867e-c2f4-4cd6-d07d-d77feafd0633"
      },
      "outputs": [
        {
          "output_type": "execute_result",
          "data": {
            "text/plain": [
              "ELECTRICIDAD                                     29\n",
              "electricidad                                     25\n",
              "ELECTRICO                                        17\n",
              "ELECTRICA                                         6\n",
              "cocina electrica                                  4\n",
              "electrico                                         4\n",
              "COCINA ELECTRICA                                  3\n",
              "Electrica                                         2\n",
              "electrica                                         2\n",
              "COME EN LA CASA DE SU MADRE                       1\n",
              "electricista                                      1\n",
              "calentador                                        1\n",
              "CALENTADOR ELECTRICO                              1\n",
              "zepelin                                           1\n",
              "UTILIZAR GAS DE RED EN OTRA VIVIENDA              1\n",
              "utiliza la cocina de la madre                     1\n",
              "NO COCINA SU FAMILIA LE ALCANZA LA COMIDA O L     1\n",
              "olla electrica                                    1\n",
              "electico                                          1\n",
              "electricO                                         1\n",
              "garrafa a granel                                  1\n",
              "electricidad                                      1\n",
              "ANAFE                                             1\n",
              "NO COCINA                                         1\n",
              "Name: II8_ESP, dtype: int64"
            ]
          },
          "metadata": {},
          "execution_count": 115
        }
      ],
      "source": [
        "df_dataset['II8_ESP'].value_counts()"
      ]
    },
    {
      "cell_type": "code",
      "source": [
        "condiciones = [\n",
        "    (df_dataset['II8_ESP'] == 'ELECTRICIDAD') | (df_dataset['II8_ESP'] == 'electricidad') | (df_dataset['II8_ESP'] == 'ELECTRICO'),\n",
        "    (df_dataset['II8_ESP'] == 'ELECTRICA') | (df_dataset['II8_ESP'] == 'cocina electrica') | (df_dataset['II8_ESP'] == 'electrico'),\n",
        "    (df_dataset['II8_ESP'] == 'COCINA ELECTRICA') | (df_dataset['II8_ESP'] == 'Electrica') | (df_dataset['II8_ESP'] == 'electrica'),\n",
        "    (df_dataset['II8_ESP'] == 'COME EN LA CASA DE SU MADRE'),\n",
        "    (df_dataset['II8_ESP'] == 'electricista') | (df_dataset['II8_ESP'] == 'calentador') | (df_dataset['II8_ESP'] == 'CALENTADOR ELECTRICO'),\n",
        "    (df_dataset['II8_ESP'] == 'zepelin'),\n",
        "    (df_dataset['II8_ESP'] == 'UTILIZAR GAS DE RED EN OTRA VIVIENDA') | (df_dataset['II8_ESP'] == 'utiliza la cocina de la madre'),\n",
        "    (df_dataset['II8_ESP'] == 'olla electrica') | (df_dataset['II8_ESP'] == 'electico') | (df_dataset['II8_ESP'] == 'electricO'),\n",
        "    (df_dataset['II8_ESP'] == 'garrafa a granel'),\n",
        "    (df_dataset['II8_ESP'] == 'electricidad '),\n",
        "    (df_dataset['II8_ESP'] == 'ANAFE') | (df_dataset['II8_ESP'] == 'NO COCINA'),\n",
        "    ]\n",
        "\n",
        "opciones = [5,5,5,4,5,4,1,5,2,5,4]"
      ],
      "metadata": {
        "id": "c-EIDPmCoyiW"
      },
      "execution_count": null,
      "outputs": []
    },
    {
      "cell_type": "code",
      "source": [
        "df_dataset['II8_ESP']=np.select(condiciones,opciones)"
      ],
      "metadata": {
        "id": "fB9Gc-ssKGiF"
      },
      "execution_count": null,
      "outputs": []
    },
    {
      "cell_type": "code",
      "source": [
        "condiciones8 = [\n",
        "    (df_dataset['II8'] == 0),\n",
        "    (df_dataset['II8'] == 1),\n",
        "    (df_dataset['II8'] == 2),\n",
        "    (df_dataset['II8'] == 3),\n",
        "    (df_dataset['II8'] == 4) & (df_dataset['II8_ESP'] == 0),\n",
        "    (df_dataset['II8'] == 4) & (df_dataset['II8_ESP'] == 1),\n",
        "    (df_dataset['II8'] == 4) & (df_dataset['II8_ESP'] == 2),\n",
        "    (df_dataset['II8'] == 4) & (df_dataset['II8_ESP'] == 4),\n",
        "    (df_dataset['II8'] == 4) & (df_dataset['II8_ESP'] == 5)\n",
        "\n",
        "    ]\n",
        "\n",
        "opciones8 = [0,1,2,3,4,1,2,0,4]"
      ],
      "metadata": {
        "id": "NyQz7BSEpIOE"
      },
      "execution_count": null,
      "outputs": []
    },
    {
      "cell_type": "code",
      "source": [
        "df_dataset['II8']=np.select(condiciones8,opciones8)"
      ],
      "metadata": {
        "id": "_JRZWhpso7Tm"
      },
      "execution_count": null,
      "outputs": []
    },
    {
      "cell_type": "code",
      "execution_count": null,
      "metadata": {
        "colab": {
          "base_uri": "https://localhost:8080/"
        },
        "id": "Zpp2fCV9revL",
        "outputId": "6fce002b-e7f4-45f2-d106-7a54385ae20f"
      },
      "outputs": [
        {
          "output_type": "execute_result",
          "data": {
            "text/plain": [
              "1    8477\n",
              "2    4823\n",
              "4     100\n",
              "3      40\n",
              "0      15\n",
              "Name: II8, dtype: int64"
            ]
          },
          "metadata": {},
          "execution_count": 120
        }
      ],
      "source": [
        "df_dataset['II8'].value_counts()"
      ]
    },
    {
      "cell_type": "code",
      "source": [
        "# borramos la variable II8_ESP\n",
        "\n",
        "df_dataset = df_dataset.drop(['II8_ESP'], axis=1)"
      ],
      "metadata": {
        "id": "KUrD7mftpy0x"
      },
      "execution_count": null,
      "outputs": []
    },
    {
      "cell_type": "markdown",
      "source": [
        "**Variables numéricas**"
      ],
      "metadata": {
        "id": "iEmXZxh0XD_X"
      }
    },
    {
      "cell_type": "code",
      "source": [
        "#Analizamos las variables numéricas\n",
        "\n",
        "numerical = [var for var in df_dataset.columns if df_dataset[var].dtype!='O']\n",
        "# view summary statistics in numerical variables\n",
        "print(round(df_dataset[numerical].describe()),2)"
      ],
      "metadata": {
        "colab": {
          "base_uri": "https://localhost:8080/"
        },
        "id": "DOJ_av8pXu-U",
        "outputId": "1f8df476-e77b-4974-932b-8130bbda891c"
      },
      "execution_count": null,
      "outputs": [
        {
          "output_type": "stream",
          "name": "stdout",
          "text": [
            "       NRO_HOGAR  AGLOMERADO      IV1      IV2      IV3      IV4      IV5  \\\n",
            "count    13455.0     13455.0  13455.0  13455.0  13455.0  13455.0  13455.0   \n",
            "mean         1.0        25.0      1.0      3.0      1.0      3.0      1.0   \n",
            "std          2.0        20.0      0.0      1.0      0.0      2.0      0.0   \n",
            "min          1.0         2.0      1.0      1.0      1.0      1.0      1.0   \n",
            "25%          1.0        12.0      1.0      2.0      1.0      1.0      1.0   \n",
            "50%          1.0        22.0      1.0      3.0      1.0      2.0      1.0   \n",
            "75%          1.0        32.0      1.0      4.0      1.0      4.0      1.0   \n",
            "max         72.0        93.0      6.0     99.0      4.0      9.0      2.0   \n",
            "\n",
            "           IV6      IV7      IV8      IV9     IV10     IV11   IV12_1   IV12_2  \\\n",
            "count  13455.0  13455.0  13455.0  13455.0  13455.0  13455.0  13455.0  13455.0   \n",
            "mean       1.0      1.0      1.0      1.0      1.0      1.0      2.0      2.0   \n",
            "std        0.0      0.0      0.0      0.0      0.0      1.0      0.0      0.0   \n",
            "min        1.0      1.0      1.0      0.0      0.0      0.0      1.0      1.0   \n",
            "25%        1.0      1.0      1.0      1.0      1.0      1.0      2.0      2.0   \n",
            "50%        1.0      1.0      1.0      1.0      1.0      1.0      2.0      2.0   \n",
            "75%        1.0      1.0      1.0      1.0      1.0      1.0      2.0      2.0   \n",
            "max        3.0      4.0      2.0      3.0      3.0      4.0      2.0      2.0   \n",
            "\n",
            "        IV12_3      II1      II2      II3    II3_1    II4_1    II4_2    II4_3  \\\n",
            "count  13455.0  13455.0  13455.0  13455.0  13455.0  13455.0  13455.0  13455.0   \n",
            "mean       2.0      3.0      2.0      2.0      0.0      1.0      2.0      2.0   \n",
            "std        0.0      1.0      1.0      0.0      0.0      0.0      0.0      0.0   \n",
            "min        1.0      0.0      0.0      0.0      0.0      0.0      0.0      0.0   \n",
            "25%        2.0      2.0      1.0      2.0      0.0      1.0      1.0      1.0   \n",
            "50%        2.0      3.0      2.0      2.0      0.0      1.0      2.0      2.0   \n",
            "75%        2.0      4.0      2.0      2.0      0.0      1.0      2.0      2.0   \n",
            "max        2.0     47.0      7.0      2.0      3.0      2.0      2.0      2.0   \n",
            "\n",
            "           II5    II5_1      II6    II6_1      II7      II8      II9       V1  \\\n",
            "count  13455.0  13455.0  13455.0  13455.0  13455.0  13455.0  13455.0  13455.0   \n",
            "mean       2.0      0.0      2.0      0.0      2.0      1.0      1.0      1.0   \n",
            "std        0.0      0.0      0.0      0.0      2.0      1.0      0.0      0.0   \n",
            "min        0.0      0.0      0.0      0.0      0.0      0.0      0.0      1.0   \n",
            "25%        2.0      0.0      2.0      0.0      1.0      1.0      1.0      1.0   \n",
            "50%        2.0      0.0      2.0      0.0      1.0      1.0      1.0      1.0   \n",
            "75%        2.0      0.0      2.0      0.0      3.0      2.0      1.0      1.0   \n",
            "max        2.0      2.0      2.0      3.0      9.0      4.0      4.0      9.0   \n",
            "\n",
            "            V2      V21      V22       V3       V4       V5       V6       V7  \\\n",
            "count  13455.0  13455.0  13455.0  13455.0  13455.0  13455.0  13455.0  13455.0   \n",
            "mean       2.0      2.0      2.0      2.0      2.0      2.0      2.0      2.0   \n",
            "std        0.0      0.0      0.0      0.0      0.0      0.0      0.0      0.0   \n",
            "min        1.0      1.0      1.0      1.0      1.0      1.0      1.0      1.0   \n",
            "25%        1.0      2.0      2.0      2.0      2.0      2.0      2.0      2.0   \n",
            "50%        2.0      2.0      2.0      2.0      2.0      2.0      2.0      2.0   \n",
            "75%        2.0      2.0      2.0      2.0      2.0      2.0      2.0      2.0   \n",
            "max        9.0      2.0      2.0      9.0      9.0      9.0      9.0      9.0   \n",
            "\n",
            "            V8       V9      V10      V11      V12      V13      V14      V15  \\\n",
            "count  13455.0  13455.0  13455.0  13455.0  13455.0  13455.0  13455.0  13455.0   \n",
            "mean       2.0      2.0      2.0      2.0      2.0      2.0      2.0      2.0   \n",
            "std        0.0      0.0      0.0      0.0      0.0      0.0      0.0      0.0   \n",
            "min        1.0      1.0      1.0      1.0      1.0      1.0      1.0      1.0   \n",
            "25%        2.0      2.0      2.0      2.0      2.0      1.0      2.0      2.0   \n",
            "50%        2.0      2.0      2.0      2.0      2.0      2.0      2.0      2.0   \n",
            "75%        2.0      2.0      2.0      2.0      2.0      2.0      2.0      2.0   \n",
            "max        9.0      9.0      9.0      9.0      9.0      9.0      9.0      9.0   \n",
            "\n",
            "           V16      V17      V18    V19_A    V19_B   IX_TOT  IX_MEN10  \\\n",
            "count  13455.0  13455.0  13455.0  13455.0  13455.0  13455.0   13455.0   \n",
            "mean       1.0      2.0      2.0      2.0      2.0      3.0       0.0   \n",
            "std        1.0      0.0      0.0      0.0      0.0      2.0       1.0   \n",
            "min        1.0      1.0      1.0      2.0      1.0      1.0       0.0   \n",
            "25%        1.0      2.0      2.0      2.0      2.0      2.0       0.0   \n",
            "50%        1.0      2.0      2.0      2.0      2.0      3.0       0.0   \n",
            "75%        2.0      2.0      2.0      2.0      2.0      4.0       1.0   \n",
            "max        9.0      9.0      9.0      9.0      9.0     14.0       6.0   \n",
            "\n",
            "       IX_MAYEQ10        ITF       IPCF   VII1_1   VII1_2   VII2_1   VII2_2  \\\n",
            "count     13455.0    13455.0    13455.0  13455.0  13455.0  13455.0  13455.0   \n",
            "mean          3.0    87032.0    36836.0      5.0      1.0     70.0      0.0   \n",
            "std           1.0    77319.0    38369.0     18.0      3.0     44.0      4.0   \n",
            "min           1.0      900.0      167.0      1.0      0.0      1.0      0.0   \n",
            "25%           2.0    45000.0    17500.0      1.0      0.0      3.0      0.0   \n",
            "50%           2.0    70000.0    27500.0      1.0      0.0     98.0      0.0   \n",
            "75%           3.0   109000.0    45000.0      2.0      0.0     98.0      0.0   \n",
            "max          12.0  4035000.0  2017500.0     98.0     98.0     98.0     98.0   \n",
            "\n",
            "        VII2_3   VII2_4  parentesco   genero     edad  cob_medica  NIVEL_ED  \\\n",
            "count  13455.0  13455.0     13455.0  13455.0  13455.0     13455.0   13455.0   \n",
            "mean       0.0      0.0         1.0      1.0     52.0         2.0       4.0   \n",
            "std        1.0      0.0         0.0      0.0     17.0         2.0       2.0   \n",
            "min        0.0      0.0         1.0      1.0     17.0         1.0       1.0   \n",
            "25%        0.0      0.0         1.0      1.0     39.0         1.0       2.0   \n",
            "50%        0.0      0.0         1.0      1.0     51.0         1.0       4.0   \n",
            "75%        0.0      0.0         1.0      2.0     65.0         2.0       5.0   \n",
            "max       98.0      9.0         1.0      2.0    100.0        23.0       7.0   \n",
            "\n",
            "       CAT_OCUP  CAT_INAC  AE_ctrol_ind_sum  adulto_equivalente  pobreza  \n",
            "count   13455.0   13455.0           13455.0             13455.0  13455.0  \n",
            "mean        2.0       1.0               2.0             45920.0      0.0  \n",
            "std         1.0       1.0               1.0             46362.0      0.0  \n",
            "min         0.0       0.0               1.0               233.0      0.0  \n",
            "25%         0.0       0.0               1.0             21510.0      0.0  \n",
            "50%         2.0       0.0               2.0             35036.0      0.0  \n",
            "75%         3.0       1.0               3.0             56818.0      1.0  \n",
            "max         4.0       7.0              11.0           2123684.0      1.0   2\n"
          ]
        }
      ]
    },
    {
      "cell_type": "code",
      "source": [
        "#analizamos la mediana\n",
        "\n",
        "df_dataset[numerical].median()"
      ],
      "metadata": {
        "colab": {
          "base_uri": "https://localhost:8080/"
        },
        "id": "VF2fNC1fqZp5",
        "outputId": "94705915-6b0f-4db2-f9bb-156d732e310c"
      },
      "execution_count": null,
      "outputs": [
        {
          "output_type": "execute_result",
          "data": {
            "text/plain": [
              "NRO_HOGAR                 1.00\n",
              "AGLOMERADO               22.00\n",
              "IV1                       1.00\n",
              "IV2                       3.00\n",
              "IV3                       1.00\n",
              "IV4                       2.00\n",
              "IV5                       1.00\n",
              "IV6                       1.00\n",
              "IV7                       1.00\n",
              "IV8                       1.00\n",
              "IV9                       1.00\n",
              "IV10                      1.00\n",
              "IV11                      1.00\n",
              "IV12_1                    2.00\n",
              "IV12_2                    2.00\n",
              "IV12_3                    2.00\n",
              "II1                       3.00\n",
              "II2                       2.00\n",
              "II3                       2.00\n",
              "II3_1                     0.00\n",
              "II4_1                     1.00\n",
              "II4_2                     2.00\n",
              "II4_3                     2.00\n",
              "II5                       2.00\n",
              "II5_1                     0.00\n",
              "II6                       2.00\n",
              "II6_1                     0.00\n",
              "II7                       1.00\n",
              "II8                       1.00\n",
              "II9                       1.00\n",
              "V1                        1.00\n",
              "V2                        2.00\n",
              "V21                       2.00\n",
              "V22                       2.00\n",
              "V3                        2.00\n",
              "V4                        2.00\n",
              "V5                        2.00\n",
              "V6                        2.00\n",
              "V7                        2.00\n",
              "V8                        2.00\n",
              "V9                        2.00\n",
              "V10                       2.00\n",
              "V11                       2.00\n",
              "V12                       2.00\n",
              "V13                       2.00\n",
              "V14                       2.00\n",
              "V15                       2.00\n",
              "V16                       1.00\n",
              "V17                       2.00\n",
              "V18                       2.00\n",
              "V19_A                     2.00\n",
              "V19_B                     2.00\n",
              "IX_TOT                    3.00\n",
              "IX_MEN10                  0.00\n",
              "IX_MAYEQ10                2.00\n",
              "ITF                   70000.00\n",
              "IPCF                  27500.00\n",
              "VII1_1                    1.00\n",
              "VII1_2                    0.00\n",
              "VII2_1                   98.00\n",
              "VII2_2                    0.00\n",
              "VII2_3                    0.00\n",
              "VII2_4                    0.00\n",
              "parentesco                1.00\n",
              "genero                    1.00\n",
              "edad                     51.00\n",
              "cob_medica                1.00\n",
              "NIVEL_ED                  4.00\n",
              "CAT_OCUP                  2.00\n",
              "CAT_INAC                  0.00\n",
              "AE_ctrol_ind_sum          2.15\n",
              "adulto_equivalente    35036.50\n",
              "pobreza                   0.00\n",
              "dtype: float64"
            ]
          },
          "metadata": {},
          "execution_count": 123
        }
      ]
    },
    {
      "cell_type": "code",
      "source": [
        "#analizamos la moda\n",
        "\n",
        "df_dataset[numerical].mode()"
      ],
      "metadata": {
        "colab": {
          "base_uri": "https://localhost:8080/",
          "height": 145
        },
        "id": "xdtM926vsPf9",
        "outputId": "97108b57-f3c4-46b5-f33e-0eb7bec90500"
      },
      "execution_count": null,
      "outputs": [
        {
          "output_type": "execute_result",
          "data": {
            "text/plain": [
              "   NRO_HOGAR  AGLOMERADO  IV1  IV2  IV3  IV4  IV5  IV6  IV7  IV8  IV9  IV10  \\\n",
              "0          1          33    1    3    1    4    1    1    1    1    1     1   \n",
              "\n",
              "   IV11  IV12_1  IV12_2  IV12_3  II1  II2  II3  II3_1  II4_1  II4_2  II4_3  \\\n",
              "0     1       2       2       2    3    1    2      0      1      2      2   \n",
              "\n",
              "   II5  II5_1  II6  II6_1  II7  II8  II9  V1  V2  V21  V22  V3  V4  V5  V6  \\\n",
              "0    2      0    2      0    1    1    1   1   2    2    2   2   2   2   2   \n",
              "\n",
              "   V7  V8  V9  V10  V11  V12  V13  V14  V15  V16  V17  V18  V19_A  V19_B  \\\n",
              "0   2   2   2    2    2    2    2    2    2    1    2    2      2      2   \n",
              "\n",
              "   IX_TOT  IX_MEN10  IX_MAYEQ10    ITF     IPCF  VII1_1  VII1_2  VII2_1  \\\n",
              "0       2         0           2  50000  25000.0       1       0      98   \n",
              "\n",
              "   VII2_2  VII2_3  VII2_4  parentesco  genero  edad  cob_medica  NIVEL_ED  \\\n",
              "0       0       0       0           1       1    50           1         4   \n",
              "\n",
              "   CAT_OCUP  CAT_INAC  AE_ctrol_ind_sum  adulto_equivalente  pobreza  \n",
              "0         3         0               1.0             50000.0        0  "
            ],
            "text/html": [
              "\n",
              "  <div id=\"df-08ec5e68-7a68-475d-8152-ac9417efcdb9\">\n",
              "    <div class=\"colab-df-container\">\n",
              "      <div>\n",
              "<style scoped>\n",
              "    .dataframe tbody tr th:only-of-type {\n",
              "        vertical-align: middle;\n",
              "    }\n",
              "\n",
              "    .dataframe tbody tr th {\n",
              "        vertical-align: top;\n",
              "    }\n",
              "\n",
              "    .dataframe thead th {\n",
              "        text-align: right;\n",
              "    }\n",
              "</style>\n",
              "<table border=\"1\" class=\"dataframe\">\n",
              "  <thead>\n",
              "    <tr style=\"text-align: right;\">\n",
              "      <th></th>\n",
              "      <th>NRO_HOGAR</th>\n",
              "      <th>AGLOMERADO</th>\n",
              "      <th>IV1</th>\n",
              "      <th>IV2</th>\n",
              "      <th>IV3</th>\n",
              "      <th>IV4</th>\n",
              "      <th>IV5</th>\n",
              "      <th>IV6</th>\n",
              "      <th>IV7</th>\n",
              "      <th>IV8</th>\n",
              "      <th>IV9</th>\n",
              "      <th>IV10</th>\n",
              "      <th>IV11</th>\n",
              "      <th>IV12_1</th>\n",
              "      <th>IV12_2</th>\n",
              "      <th>IV12_3</th>\n",
              "      <th>II1</th>\n",
              "      <th>II2</th>\n",
              "      <th>II3</th>\n",
              "      <th>II3_1</th>\n",
              "      <th>II4_1</th>\n",
              "      <th>II4_2</th>\n",
              "      <th>II4_3</th>\n",
              "      <th>II5</th>\n",
              "      <th>II5_1</th>\n",
              "      <th>II6</th>\n",
              "      <th>II6_1</th>\n",
              "      <th>II7</th>\n",
              "      <th>II8</th>\n",
              "      <th>II9</th>\n",
              "      <th>V1</th>\n",
              "      <th>V2</th>\n",
              "      <th>V21</th>\n",
              "      <th>V22</th>\n",
              "      <th>V3</th>\n",
              "      <th>V4</th>\n",
              "      <th>V5</th>\n",
              "      <th>V6</th>\n",
              "      <th>V7</th>\n",
              "      <th>V8</th>\n",
              "      <th>V9</th>\n",
              "      <th>V10</th>\n",
              "      <th>V11</th>\n",
              "      <th>V12</th>\n",
              "      <th>V13</th>\n",
              "      <th>V14</th>\n",
              "      <th>V15</th>\n",
              "      <th>V16</th>\n",
              "      <th>V17</th>\n",
              "      <th>V18</th>\n",
              "      <th>V19_A</th>\n",
              "      <th>V19_B</th>\n",
              "      <th>IX_TOT</th>\n",
              "      <th>IX_MEN10</th>\n",
              "      <th>IX_MAYEQ10</th>\n",
              "      <th>ITF</th>\n",
              "      <th>IPCF</th>\n",
              "      <th>VII1_1</th>\n",
              "      <th>VII1_2</th>\n",
              "      <th>VII2_1</th>\n",
              "      <th>VII2_2</th>\n",
              "      <th>VII2_3</th>\n",
              "      <th>VII2_4</th>\n",
              "      <th>parentesco</th>\n",
              "      <th>genero</th>\n",
              "      <th>edad</th>\n",
              "      <th>cob_medica</th>\n",
              "      <th>NIVEL_ED</th>\n",
              "      <th>CAT_OCUP</th>\n",
              "      <th>CAT_INAC</th>\n",
              "      <th>AE_ctrol_ind_sum</th>\n",
              "      <th>adulto_equivalente</th>\n",
              "      <th>pobreza</th>\n",
              "    </tr>\n",
              "  </thead>\n",
              "  <tbody>\n",
              "    <tr>\n",
              "      <th>0</th>\n",
              "      <td>1</td>\n",
              "      <td>33</td>\n",
              "      <td>1</td>\n",
              "      <td>3</td>\n",
              "      <td>1</td>\n",
              "      <td>4</td>\n",
              "      <td>1</td>\n",
              "      <td>1</td>\n",
              "      <td>1</td>\n",
              "      <td>1</td>\n",
              "      <td>1</td>\n",
              "      <td>1</td>\n",
              "      <td>1</td>\n",
              "      <td>2</td>\n",
              "      <td>2</td>\n",
              "      <td>2</td>\n",
              "      <td>3</td>\n",
              "      <td>1</td>\n",
              "      <td>2</td>\n",
              "      <td>0</td>\n",
              "      <td>1</td>\n",
              "      <td>2</td>\n",
              "      <td>2</td>\n",
              "      <td>2</td>\n",
              "      <td>0</td>\n",
              "      <td>2</td>\n",
              "      <td>0</td>\n",
              "      <td>1</td>\n",
              "      <td>1</td>\n",
              "      <td>1</td>\n",
              "      <td>1</td>\n",
              "      <td>2</td>\n",
              "      <td>2</td>\n",
              "      <td>2</td>\n",
              "      <td>2</td>\n",
              "      <td>2</td>\n",
              "      <td>2</td>\n",
              "      <td>2</td>\n",
              "      <td>2</td>\n",
              "      <td>2</td>\n",
              "      <td>2</td>\n",
              "      <td>2</td>\n",
              "      <td>2</td>\n",
              "      <td>2</td>\n",
              "      <td>2</td>\n",
              "      <td>2</td>\n",
              "      <td>2</td>\n",
              "      <td>1</td>\n",
              "      <td>2</td>\n",
              "      <td>2</td>\n",
              "      <td>2</td>\n",
              "      <td>2</td>\n",
              "      <td>2</td>\n",
              "      <td>0</td>\n",
              "      <td>2</td>\n",
              "      <td>50000</td>\n",
              "      <td>25000.0</td>\n",
              "      <td>1</td>\n",
              "      <td>0</td>\n",
              "      <td>98</td>\n",
              "      <td>0</td>\n",
              "      <td>0</td>\n",
              "      <td>0</td>\n",
              "      <td>1</td>\n",
              "      <td>1</td>\n",
              "      <td>50</td>\n",
              "      <td>1</td>\n",
              "      <td>4</td>\n",
              "      <td>3</td>\n",
              "      <td>0</td>\n",
              "      <td>1.0</td>\n",
              "      <td>50000.0</td>\n",
              "      <td>0</td>\n",
              "    </tr>\n",
              "  </tbody>\n",
              "</table>\n",
              "</div>\n",
              "      <button class=\"colab-df-convert\" onclick=\"convertToInteractive('df-08ec5e68-7a68-475d-8152-ac9417efcdb9')\"\n",
              "              title=\"Convert this dataframe to an interactive table.\"\n",
              "              style=\"display:none;\">\n",
              "        \n",
              "  <svg xmlns=\"http://www.w3.org/2000/svg\" height=\"24px\"viewBox=\"0 0 24 24\"\n",
              "       width=\"24px\">\n",
              "    <path d=\"M0 0h24v24H0V0z\" fill=\"none\"/>\n",
              "    <path d=\"M18.56 5.44l.94 2.06.94-2.06 2.06-.94-2.06-.94-.94-2.06-.94 2.06-2.06.94zm-11 1L8.5 8.5l.94-2.06 2.06-.94-2.06-.94L8.5 2.5l-.94 2.06-2.06.94zm10 10l.94 2.06.94-2.06 2.06-.94-2.06-.94-.94-2.06-.94 2.06-2.06.94z\"/><path d=\"M17.41 7.96l-1.37-1.37c-.4-.4-.92-.59-1.43-.59-.52 0-1.04.2-1.43.59L10.3 9.45l-7.72 7.72c-.78.78-.78 2.05 0 2.83L4 21.41c.39.39.9.59 1.41.59.51 0 1.02-.2 1.41-.59l7.78-7.78 2.81-2.81c.8-.78.8-2.07 0-2.86zM5.41 20L4 18.59l7.72-7.72 1.47 1.35L5.41 20z\"/>\n",
              "  </svg>\n",
              "      </button>\n",
              "      \n",
              "  <style>\n",
              "    .colab-df-container {\n",
              "      display:flex;\n",
              "      flex-wrap:wrap;\n",
              "      gap: 12px;\n",
              "    }\n",
              "\n",
              "    .colab-df-convert {\n",
              "      background-color: #E8F0FE;\n",
              "      border: none;\n",
              "      border-radius: 50%;\n",
              "      cursor: pointer;\n",
              "      display: none;\n",
              "      fill: #1967D2;\n",
              "      height: 32px;\n",
              "      padding: 0 0 0 0;\n",
              "      width: 32px;\n",
              "    }\n",
              "\n",
              "    .colab-df-convert:hover {\n",
              "      background-color: #E2EBFA;\n",
              "      box-shadow: 0px 1px 2px rgba(60, 64, 67, 0.3), 0px 1px 3px 1px rgba(60, 64, 67, 0.15);\n",
              "      fill: #174EA6;\n",
              "    }\n",
              "\n",
              "    [theme=dark] .colab-df-convert {\n",
              "      background-color: #3B4455;\n",
              "      fill: #D2E3FC;\n",
              "    }\n",
              "\n",
              "    [theme=dark] .colab-df-convert:hover {\n",
              "      background-color: #434B5C;\n",
              "      box-shadow: 0px 1px 3px 1px rgba(0, 0, 0, 0.15);\n",
              "      filter: drop-shadow(0px 1px 2px rgba(0, 0, 0, 0.3));\n",
              "      fill: #FFFFFF;\n",
              "    }\n",
              "  </style>\n",
              "\n",
              "      <script>\n",
              "        const buttonEl =\n",
              "          document.querySelector('#df-08ec5e68-7a68-475d-8152-ac9417efcdb9 button.colab-df-convert');\n",
              "        buttonEl.style.display =\n",
              "          google.colab.kernel.accessAllowed ? 'block' : 'none';\n",
              "\n",
              "        async function convertToInteractive(key) {\n",
              "          const element = document.querySelector('#df-08ec5e68-7a68-475d-8152-ac9417efcdb9');\n",
              "          const dataTable =\n",
              "            await google.colab.kernel.invokeFunction('convertToInteractive',\n",
              "                                                     [key], {});\n",
              "          if (!dataTable) return;\n",
              "\n",
              "          const docLinkHtml = 'Like what you see? Visit the ' +\n",
              "            '<a target=\"_blank\" href=https://colab.research.google.com/notebooks/data_table.ipynb>data table notebook</a>'\n",
              "            + ' to learn more about interactive tables.';\n",
              "          element.innerHTML = '';\n",
              "          dataTable['output_type'] = 'display_data';\n",
              "          await google.colab.output.renderOutput(dataTable, element);\n",
              "          const docLink = document.createElement('div');\n",
              "          docLink.innerHTML = docLinkHtml;\n",
              "          element.appendChild(docLink);\n",
              "        }\n",
              "      </script>\n",
              "    </div>\n",
              "  </div>\n",
              "  "
            ]
          },
          "metadata": {},
          "execution_count": 124
        }
      ]
    },
    {
      "cell_type": "markdown",
      "source": [
        "**Columnas que tienen valores 0 (que no corresponde)**"
      ],
      "metadata": {
        "id": "5hnnaqpfXIlr"
      }
    },
    {
      "cell_type": "code",
      "source": [
        "# buscamos las variables que tienen como mínimo 0\n",
        "\n",
        "minimo_cero = [var for var in df_dataset.columns if df_dataset[var].min() == 0]\n",
        "\n",
        "print('Hay {} variables con mínimo cero\\n'.format(len(minimo_cero)))\n",
        "\n",
        "print('Las variables con mínimo cero son:', minimo_cero)"
      ],
      "metadata": {
        "colab": {
          "base_uri": "https://localhost:8080/"
        },
        "id": "lxFmw7CF1353",
        "outputId": "393b1c39-07a6-4359-c074-d5b405bb9edc"
      },
      "execution_count": null,
      "outputs": [
        {
          "output_type": "stream",
          "name": "stdout",
          "text": [
            "Hay 25 variables con mínimo cero\n",
            "\n",
            "Las variables con mínimo cero son: ['IV9', 'IV10', 'IV11', 'II1', 'II2', 'II3', 'II3_1', 'II4_1', 'II4_2', 'II4_3', 'II5', 'II5_1', 'II6', 'II6_1', 'II7', 'II8', 'II9', 'IX_MEN10', 'VII1_2', 'VII2_2', 'VII2_3', 'VII2_4', 'CAT_OCUP', 'CAT_INAC', 'pobreza']\n"
          ]
        }
      ]
    },
    {
      "cell_type": "code",
      "source": [
        "\"\"\"\n",
        "De éstas, las variables que no deberían tener valores = 0 son:\n",
        "'IV9', 'IV10', 'IV11'\n",
        "'II4_1', 'II4_2', 'II4_3'\n",
        "'II5'\n",
        "'II6'\n",
        "'II7', 'II8', 'II9'\n",
        "'CAT_OCUP' (en esta el 9 equivale a Ns/Nc)\n",
        "\"\"\"\n",
        "\n",
        "#cambiamos el 0 por 9 en CAT_OCUP\n",
        "\n",
        "df_dataset['CAT_OCUP'] = df_dataset['CAT_OCUP'].replace([0],9)\n"
      ],
      "metadata": {
        "id": "9gVihF6g7RBX"
      },
      "execution_count": null,
      "outputs": []
    },
    {
      "cell_type": "code",
      "source": [
        "df_dataset['CAT_OCUP'].value_counts()"
      ],
      "metadata": {
        "colab": {
          "base_uri": "https://localhost:8080/"
        },
        "id": "J2ehCzgxUbTw",
        "outputId": "ddedab6e-f193-4426-bf36-bdee0cba9042"
      },
      "execution_count": null,
      "outputs": [
        {
          "output_type": "execute_result",
          "data": {
            "text/plain": [
              "3    6107\n",
              "9    4932\n",
              "2    2042\n",
              "1     364\n",
              "4      10\n",
              "Name: CAT_OCUP, dtype: int64"
            ]
          },
          "metadata": {},
          "execution_count": 127
        }
      ]
    },
    {
      "cell_type": "code",
      "source": [
        "# las seleccionamos (excepto CAT_OCUP)\n",
        "\n",
        "minimo_cero = df_dataset[['CODUSU','NRO_HOGAR','IV9','IV10','IV11','II4_1','II4_2','II4_3','II5','II6','II7','II8','II9']]"
      ],
      "metadata": {
        "id": "O-zRiYE9UJEe"
      },
      "execution_count": null,
      "outputs": []
    },
    {
      "cell_type": "code",
      "source": [
        "(minimo_cero==0).sum()"
      ],
      "metadata": {
        "colab": {
          "base_uri": "https://localhost:8080/"
        },
        "id": "cwF1hHfH6N9X",
        "outputId": "131ab818-e784-4b90-9906-32faaf19c848"
      },
      "execution_count": null,
      "outputs": [
        {
          "output_type": "execute_result",
          "data": {
            "text/plain": [
              "CODUSU         0\n",
              "NRO_HOGAR      0\n",
              "IV9           41\n",
              "IV10          41\n",
              "IV11          41\n",
              "II4_1         11\n",
              "II4_2         11\n",
              "II4_3         11\n",
              "II5          815\n",
              "II6          815\n",
              "II7           11\n",
              "II8           15\n",
              "II9           11\n",
              "dtype: int64"
            ]
          },
          "metadata": {},
          "execution_count": 129
        }
      ]
    },
    {
      "cell_type": "code",
      "source": [
        "minimo_cero.median()"
      ],
      "metadata": {
        "colab": {
          "base_uri": "https://localhost:8080/"
        },
        "id": "lPysRrxy-D1d",
        "outputId": "d7855875-aa1b-43e0-a08c-77140e7cab2e"
      },
      "execution_count": null,
      "outputs": [
        {
          "output_type": "execute_result",
          "data": {
            "text/plain": [
              "NRO_HOGAR    1.0\n",
              "IV9          1.0\n",
              "IV10         1.0\n",
              "IV11         1.0\n",
              "II4_1        1.0\n",
              "II4_2        2.0\n",
              "II4_3        2.0\n",
              "II5          2.0\n",
              "II6          2.0\n",
              "II7          1.0\n",
              "II8          1.0\n",
              "II9          1.0\n",
              "dtype: float64"
            ]
          },
          "metadata": {},
          "execution_count": 130
        }
      ]
    },
    {
      "cell_type": "code",
      "source": [
        "minimo_cero.mode()"
      ],
      "metadata": {
        "colab": {
          "base_uri": "https://localhost:8080/",
          "height": 81
        },
        "id": "1SuAQ7Us-G5x",
        "outputId": "ae1a3af5-821e-43a5-d119-575104f22a98"
      },
      "execution_count": null,
      "outputs": [
        {
          "output_type": "execute_result",
          "data": {
            "text/plain": [
              "                          CODUSU  NRO_HOGAR  IV9  IV10  IV11  II4_1  II4_2  \\\n",
              "0  TQRMNORSYHLNLTCDEHJGH00717147          1    1     1     1      1      2   \n",
              "\n",
              "   II4_3  II5  II6  II7  II8  II9  \n",
              "0      2    2    2    1    1    1  "
            ],
            "text/html": [
              "\n",
              "  <div id=\"df-62a1ce01-65ba-4486-b093-325b887151d9\">\n",
              "    <div class=\"colab-df-container\">\n",
              "      <div>\n",
              "<style scoped>\n",
              "    .dataframe tbody tr th:only-of-type {\n",
              "        vertical-align: middle;\n",
              "    }\n",
              "\n",
              "    .dataframe tbody tr th {\n",
              "        vertical-align: top;\n",
              "    }\n",
              "\n",
              "    .dataframe thead th {\n",
              "        text-align: right;\n",
              "    }\n",
              "</style>\n",
              "<table border=\"1\" class=\"dataframe\">\n",
              "  <thead>\n",
              "    <tr style=\"text-align: right;\">\n",
              "      <th></th>\n",
              "      <th>CODUSU</th>\n",
              "      <th>NRO_HOGAR</th>\n",
              "      <th>IV9</th>\n",
              "      <th>IV10</th>\n",
              "      <th>IV11</th>\n",
              "      <th>II4_1</th>\n",
              "      <th>II4_2</th>\n",
              "      <th>II4_3</th>\n",
              "      <th>II5</th>\n",
              "      <th>II6</th>\n",
              "      <th>II7</th>\n",
              "      <th>II8</th>\n",
              "      <th>II9</th>\n",
              "    </tr>\n",
              "  </thead>\n",
              "  <tbody>\n",
              "    <tr>\n",
              "      <th>0</th>\n",
              "      <td>TQRMNORSYHLNLTCDEHJGH00717147</td>\n",
              "      <td>1</td>\n",
              "      <td>1</td>\n",
              "      <td>1</td>\n",
              "      <td>1</td>\n",
              "      <td>1</td>\n",
              "      <td>2</td>\n",
              "      <td>2</td>\n",
              "      <td>2</td>\n",
              "      <td>2</td>\n",
              "      <td>1</td>\n",
              "      <td>1</td>\n",
              "      <td>1</td>\n",
              "    </tr>\n",
              "  </tbody>\n",
              "</table>\n",
              "</div>\n",
              "      <button class=\"colab-df-convert\" onclick=\"convertToInteractive('df-62a1ce01-65ba-4486-b093-325b887151d9')\"\n",
              "              title=\"Convert this dataframe to an interactive table.\"\n",
              "              style=\"display:none;\">\n",
              "        \n",
              "  <svg xmlns=\"http://www.w3.org/2000/svg\" height=\"24px\"viewBox=\"0 0 24 24\"\n",
              "       width=\"24px\">\n",
              "    <path d=\"M0 0h24v24H0V0z\" fill=\"none\"/>\n",
              "    <path d=\"M18.56 5.44l.94 2.06.94-2.06 2.06-.94-2.06-.94-.94-2.06-.94 2.06-2.06.94zm-11 1L8.5 8.5l.94-2.06 2.06-.94-2.06-.94L8.5 2.5l-.94 2.06-2.06.94zm10 10l.94 2.06.94-2.06 2.06-.94-2.06-.94-.94-2.06-.94 2.06-2.06.94z\"/><path d=\"M17.41 7.96l-1.37-1.37c-.4-.4-.92-.59-1.43-.59-.52 0-1.04.2-1.43.59L10.3 9.45l-7.72 7.72c-.78.78-.78 2.05 0 2.83L4 21.41c.39.39.9.59 1.41.59.51 0 1.02-.2 1.41-.59l7.78-7.78 2.81-2.81c.8-.78.8-2.07 0-2.86zM5.41 20L4 18.59l7.72-7.72 1.47 1.35L5.41 20z\"/>\n",
              "  </svg>\n",
              "      </button>\n",
              "      \n",
              "  <style>\n",
              "    .colab-df-container {\n",
              "      display:flex;\n",
              "      flex-wrap:wrap;\n",
              "      gap: 12px;\n",
              "    }\n",
              "\n",
              "    .colab-df-convert {\n",
              "      background-color: #E8F0FE;\n",
              "      border: none;\n",
              "      border-radius: 50%;\n",
              "      cursor: pointer;\n",
              "      display: none;\n",
              "      fill: #1967D2;\n",
              "      height: 32px;\n",
              "      padding: 0 0 0 0;\n",
              "      width: 32px;\n",
              "    }\n",
              "\n",
              "    .colab-df-convert:hover {\n",
              "      background-color: #E2EBFA;\n",
              "      box-shadow: 0px 1px 2px rgba(60, 64, 67, 0.3), 0px 1px 3px 1px rgba(60, 64, 67, 0.15);\n",
              "      fill: #174EA6;\n",
              "    }\n",
              "\n",
              "    [theme=dark] .colab-df-convert {\n",
              "      background-color: #3B4455;\n",
              "      fill: #D2E3FC;\n",
              "    }\n",
              "\n",
              "    [theme=dark] .colab-df-convert:hover {\n",
              "      background-color: #434B5C;\n",
              "      box-shadow: 0px 1px 3px 1px rgba(0, 0, 0, 0.15);\n",
              "      filter: drop-shadow(0px 1px 2px rgba(0, 0, 0, 0.3));\n",
              "      fill: #FFFFFF;\n",
              "    }\n",
              "  </style>\n",
              "\n",
              "      <script>\n",
              "        const buttonEl =\n",
              "          document.querySelector('#df-62a1ce01-65ba-4486-b093-325b887151d9 button.colab-df-convert');\n",
              "        buttonEl.style.display =\n",
              "          google.colab.kernel.accessAllowed ? 'block' : 'none';\n",
              "\n",
              "        async function convertToInteractive(key) {\n",
              "          const element = document.querySelector('#df-62a1ce01-65ba-4486-b093-325b887151d9');\n",
              "          const dataTable =\n",
              "            await google.colab.kernel.invokeFunction('convertToInteractive',\n",
              "                                                     [key], {});\n",
              "          if (!dataTable) return;\n",
              "\n",
              "          const docLinkHtml = 'Like what you see? Visit the ' +\n",
              "            '<a target=\"_blank\" href=https://colab.research.google.com/notebooks/data_table.ipynb>data table notebook</a>'\n",
              "            + ' to learn more about interactive tables.';\n",
              "          element.innerHTML = '';\n",
              "          dataTable['output_type'] = 'display_data';\n",
              "          await google.colab.output.renderOutput(dataTable, element);\n",
              "          const docLink = document.createElement('div');\n",
              "          docLink.innerHTML = docLinkHtml;\n",
              "          element.appendChild(docLink);\n",
              "        }\n",
              "      </script>\n",
              "    </div>\n",
              "  </div>\n",
              "  "
            ]
          },
          "metadata": {},
          "execution_count": 131
        }
      ]
    },
    {
      "cell_type": "code",
      "source": [
        "#reemplazamos los valores cero por la moda\n",
        "\n",
        "for x in minimo_cero.columns:\n",
        "  minimo_cero[x] = minimo_cero[x].replace([0],minimo_cero[x].mode())"
      ],
      "metadata": {
        "id": "50blNbwKN05_"
      },
      "execution_count": null,
      "outputs": []
    },
    {
      "cell_type": "code",
      "source": [
        "minimo_cero.describe()"
      ],
      "metadata": {
        "colab": {
          "base_uri": "https://localhost:8080/",
          "height": 364
        },
        "id": "WVQH0nfJPRDZ",
        "outputId": "20307616-3eed-4f4d-fb8b-521603ea39d3"
      },
      "execution_count": null,
      "outputs": [
        {
          "output_type": "execute_result",
          "data": {
            "text/plain": [
              "          NRO_HOGAR           IV9          IV10          IV11         II4_1  \\\n",
              "count  13455.000000  13455.000000  13455.000000  13455.000000  13455.000000   \n",
              "mean       1.081011      1.028614      1.040654      1.248086      1.087402   \n",
              "std        1.564948      0.167170      0.206330      0.536458      0.282434   \n",
              "min        1.000000      1.000000      1.000000      1.000000      1.000000   \n",
              "25%        1.000000      1.000000      1.000000      1.000000      1.000000   \n",
              "50%        1.000000      1.000000      1.000000      1.000000      1.000000   \n",
              "75%        1.000000      1.000000      1.000000      1.000000      1.000000   \n",
              "max       72.000000      3.000000      3.000000      4.000000      2.000000   \n",
              "\n",
              "              II4_2         II4_3           II5           II6           II7  \\\n",
              "count  13455.000000  13455.000000  13455.000000  13455.000000  13455.000000   \n",
              "mean       1.546265      1.677220      1.994649      1.990115      1.936455   \n",
              "std        0.497873      0.467557      0.072958      0.098933      1.602331   \n",
              "min        1.000000      1.000000      1.000000      1.000000      1.000000   \n",
              "25%        1.000000      1.000000      2.000000      2.000000      1.000000   \n",
              "50%        2.000000      2.000000      2.000000      2.000000      1.000000   \n",
              "75%        2.000000      2.000000      2.000000      2.000000      3.000000   \n",
              "max        2.000000      2.000000      2.000000      2.000000      9.000000   \n",
              "\n",
              "                II8           II9  \n",
              "count  13455.000000  13455.000000  \n",
              "mean       1.386696      1.039391  \n",
              "std        0.536398      0.269494  \n",
              "min        1.000000      1.000000  \n",
              "25%        1.000000      1.000000  \n",
              "50%        1.000000      1.000000  \n",
              "75%        2.000000      1.000000  \n",
              "max        4.000000      4.000000  "
            ],
            "text/html": [
              "\n",
              "  <div id=\"df-99207710-9d5f-4fae-a170-8b4f3f012da7\">\n",
              "    <div class=\"colab-df-container\">\n",
              "      <div>\n",
              "<style scoped>\n",
              "    .dataframe tbody tr th:only-of-type {\n",
              "        vertical-align: middle;\n",
              "    }\n",
              "\n",
              "    .dataframe tbody tr th {\n",
              "        vertical-align: top;\n",
              "    }\n",
              "\n",
              "    .dataframe thead th {\n",
              "        text-align: right;\n",
              "    }\n",
              "</style>\n",
              "<table border=\"1\" class=\"dataframe\">\n",
              "  <thead>\n",
              "    <tr style=\"text-align: right;\">\n",
              "      <th></th>\n",
              "      <th>NRO_HOGAR</th>\n",
              "      <th>IV9</th>\n",
              "      <th>IV10</th>\n",
              "      <th>IV11</th>\n",
              "      <th>II4_1</th>\n",
              "      <th>II4_2</th>\n",
              "      <th>II4_3</th>\n",
              "      <th>II5</th>\n",
              "      <th>II6</th>\n",
              "      <th>II7</th>\n",
              "      <th>II8</th>\n",
              "      <th>II9</th>\n",
              "    </tr>\n",
              "  </thead>\n",
              "  <tbody>\n",
              "    <tr>\n",
              "      <th>count</th>\n",
              "      <td>13455.000000</td>\n",
              "      <td>13455.000000</td>\n",
              "      <td>13455.000000</td>\n",
              "      <td>13455.000000</td>\n",
              "      <td>13455.000000</td>\n",
              "      <td>13455.000000</td>\n",
              "      <td>13455.000000</td>\n",
              "      <td>13455.000000</td>\n",
              "      <td>13455.000000</td>\n",
              "      <td>13455.000000</td>\n",
              "      <td>13455.000000</td>\n",
              "      <td>13455.000000</td>\n",
              "    </tr>\n",
              "    <tr>\n",
              "      <th>mean</th>\n",
              "      <td>1.081011</td>\n",
              "      <td>1.028614</td>\n",
              "      <td>1.040654</td>\n",
              "      <td>1.248086</td>\n",
              "      <td>1.087402</td>\n",
              "      <td>1.546265</td>\n",
              "      <td>1.677220</td>\n",
              "      <td>1.994649</td>\n",
              "      <td>1.990115</td>\n",
              "      <td>1.936455</td>\n",
              "      <td>1.386696</td>\n",
              "      <td>1.039391</td>\n",
              "    </tr>\n",
              "    <tr>\n",
              "      <th>std</th>\n",
              "      <td>1.564948</td>\n",
              "      <td>0.167170</td>\n",
              "      <td>0.206330</td>\n",
              "      <td>0.536458</td>\n",
              "      <td>0.282434</td>\n",
              "      <td>0.497873</td>\n",
              "      <td>0.467557</td>\n",
              "      <td>0.072958</td>\n",
              "      <td>0.098933</td>\n",
              "      <td>1.602331</td>\n",
              "      <td>0.536398</td>\n",
              "      <td>0.269494</td>\n",
              "    </tr>\n",
              "    <tr>\n",
              "      <th>min</th>\n",
              "      <td>1.000000</td>\n",
              "      <td>1.000000</td>\n",
              "      <td>1.000000</td>\n",
              "      <td>1.000000</td>\n",
              "      <td>1.000000</td>\n",
              "      <td>1.000000</td>\n",
              "      <td>1.000000</td>\n",
              "      <td>1.000000</td>\n",
              "      <td>1.000000</td>\n",
              "      <td>1.000000</td>\n",
              "      <td>1.000000</td>\n",
              "      <td>1.000000</td>\n",
              "    </tr>\n",
              "    <tr>\n",
              "      <th>25%</th>\n",
              "      <td>1.000000</td>\n",
              "      <td>1.000000</td>\n",
              "      <td>1.000000</td>\n",
              "      <td>1.000000</td>\n",
              "      <td>1.000000</td>\n",
              "      <td>1.000000</td>\n",
              "      <td>1.000000</td>\n",
              "      <td>2.000000</td>\n",
              "      <td>2.000000</td>\n",
              "      <td>1.000000</td>\n",
              "      <td>1.000000</td>\n",
              "      <td>1.000000</td>\n",
              "    </tr>\n",
              "    <tr>\n",
              "      <th>50%</th>\n",
              "      <td>1.000000</td>\n",
              "      <td>1.000000</td>\n",
              "      <td>1.000000</td>\n",
              "      <td>1.000000</td>\n",
              "      <td>1.000000</td>\n",
              "      <td>2.000000</td>\n",
              "      <td>2.000000</td>\n",
              "      <td>2.000000</td>\n",
              "      <td>2.000000</td>\n",
              "      <td>1.000000</td>\n",
              "      <td>1.000000</td>\n",
              "      <td>1.000000</td>\n",
              "    </tr>\n",
              "    <tr>\n",
              "      <th>75%</th>\n",
              "      <td>1.000000</td>\n",
              "      <td>1.000000</td>\n",
              "      <td>1.000000</td>\n",
              "      <td>1.000000</td>\n",
              "      <td>1.000000</td>\n",
              "      <td>2.000000</td>\n",
              "      <td>2.000000</td>\n",
              "      <td>2.000000</td>\n",
              "      <td>2.000000</td>\n",
              "      <td>3.000000</td>\n",
              "      <td>2.000000</td>\n",
              "      <td>1.000000</td>\n",
              "    </tr>\n",
              "    <tr>\n",
              "      <th>max</th>\n",
              "      <td>72.000000</td>\n",
              "      <td>3.000000</td>\n",
              "      <td>3.000000</td>\n",
              "      <td>4.000000</td>\n",
              "      <td>2.000000</td>\n",
              "      <td>2.000000</td>\n",
              "      <td>2.000000</td>\n",
              "      <td>2.000000</td>\n",
              "      <td>2.000000</td>\n",
              "      <td>9.000000</td>\n",
              "      <td>4.000000</td>\n",
              "      <td>4.000000</td>\n",
              "    </tr>\n",
              "  </tbody>\n",
              "</table>\n",
              "</div>\n",
              "      <button class=\"colab-df-convert\" onclick=\"convertToInteractive('df-99207710-9d5f-4fae-a170-8b4f3f012da7')\"\n",
              "              title=\"Convert this dataframe to an interactive table.\"\n",
              "              style=\"display:none;\">\n",
              "        \n",
              "  <svg xmlns=\"http://www.w3.org/2000/svg\" height=\"24px\"viewBox=\"0 0 24 24\"\n",
              "       width=\"24px\">\n",
              "    <path d=\"M0 0h24v24H0V0z\" fill=\"none\"/>\n",
              "    <path d=\"M18.56 5.44l.94 2.06.94-2.06 2.06-.94-2.06-.94-.94-2.06-.94 2.06-2.06.94zm-11 1L8.5 8.5l.94-2.06 2.06-.94-2.06-.94L8.5 2.5l-.94 2.06-2.06.94zm10 10l.94 2.06.94-2.06 2.06-.94-2.06-.94-.94-2.06-.94 2.06-2.06.94z\"/><path d=\"M17.41 7.96l-1.37-1.37c-.4-.4-.92-.59-1.43-.59-.52 0-1.04.2-1.43.59L10.3 9.45l-7.72 7.72c-.78.78-.78 2.05 0 2.83L4 21.41c.39.39.9.59 1.41.59.51 0 1.02-.2 1.41-.59l7.78-7.78 2.81-2.81c.8-.78.8-2.07 0-2.86zM5.41 20L4 18.59l7.72-7.72 1.47 1.35L5.41 20z\"/>\n",
              "  </svg>\n",
              "      </button>\n",
              "      \n",
              "  <style>\n",
              "    .colab-df-container {\n",
              "      display:flex;\n",
              "      flex-wrap:wrap;\n",
              "      gap: 12px;\n",
              "    }\n",
              "\n",
              "    .colab-df-convert {\n",
              "      background-color: #E8F0FE;\n",
              "      border: none;\n",
              "      border-radius: 50%;\n",
              "      cursor: pointer;\n",
              "      display: none;\n",
              "      fill: #1967D2;\n",
              "      height: 32px;\n",
              "      padding: 0 0 0 0;\n",
              "      width: 32px;\n",
              "    }\n",
              "\n",
              "    .colab-df-convert:hover {\n",
              "      background-color: #E2EBFA;\n",
              "      box-shadow: 0px 1px 2px rgba(60, 64, 67, 0.3), 0px 1px 3px 1px rgba(60, 64, 67, 0.15);\n",
              "      fill: #174EA6;\n",
              "    }\n",
              "\n",
              "    [theme=dark] .colab-df-convert {\n",
              "      background-color: #3B4455;\n",
              "      fill: #D2E3FC;\n",
              "    }\n",
              "\n",
              "    [theme=dark] .colab-df-convert:hover {\n",
              "      background-color: #434B5C;\n",
              "      box-shadow: 0px 1px 3px 1px rgba(0, 0, 0, 0.15);\n",
              "      filter: drop-shadow(0px 1px 2px rgba(0, 0, 0, 0.3));\n",
              "      fill: #FFFFFF;\n",
              "    }\n",
              "  </style>\n",
              "\n",
              "      <script>\n",
              "        const buttonEl =\n",
              "          document.querySelector('#df-99207710-9d5f-4fae-a170-8b4f3f012da7 button.colab-df-convert');\n",
              "        buttonEl.style.display =\n",
              "          google.colab.kernel.accessAllowed ? 'block' : 'none';\n",
              "\n",
              "        async function convertToInteractive(key) {\n",
              "          const element = document.querySelector('#df-99207710-9d5f-4fae-a170-8b4f3f012da7');\n",
              "          const dataTable =\n",
              "            await google.colab.kernel.invokeFunction('convertToInteractive',\n",
              "                                                     [key], {});\n",
              "          if (!dataTable) return;\n",
              "\n",
              "          const docLinkHtml = 'Like what you see? Visit the ' +\n",
              "            '<a target=\"_blank\" href=https://colab.research.google.com/notebooks/data_table.ipynb>data table notebook</a>'\n",
              "            + ' to learn more about interactive tables.';\n",
              "          element.innerHTML = '';\n",
              "          dataTable['output_type'] = 'display_data';\n",
              "          await google.colab.output.renderOutput(dataTable, element);\n",
              "          const docLink = document.createElement('div');\n",
              "          docLink.innerHTML = docLinkHtml;\n",
              "          element.appendChild(docLink);\n",
              "        }\n",
              "      </script>\n",
              "    </div>\n",
              "  </div>\n",
              "  "
            ]
          },
          "metadata": {},
          "execution_count": 133
        }
      ]
    },
    {
      "cell_type": "code",
      "source": [
        "#borramos las columnas que corregimos del dataset\n",
        "\n",
        "df_dataset = df_dataset.drop(['IV9','IV10','IV11','II4_1','II4_2','II4_3','II5','II6','II7','II8','II9'], axis=1)"
      ],
      "metadata": {
        "id": "zicm_5AWRw4G"
      },
      "execution_count": null,
      "outputs": []
    },
    {
      "cell_type": "code",
      "source": [
        "#unimos el dataset con las columnas corregidas, por CODUSU y NRO HOGAR\n",
        "\n",
        "df_dataset_corregido = pd.merge(df_dataset, minimo_cero, on=['CODUSU','NRO_HOGAR'])"
      ],
      "metadata": {
        "id": "P7dnHqICSpyG"
      },
      "execution_count": null,
      "outputs": []
    },
    {
      "cell_type": "code",
      "source": [
        "df_dataset_corregido.head()"
      ],
      "metadata": {
        "colab": {
          "base_uri": "https://localhost:8080/",
          "height": 270
        },
        "id": "tkTyML0DSwfW",
        "outputId": "985d3419-35c1-46bb-af0a-270015011dbb"
      },
      "execution_count": null,
      "outputs": [
        {
          "output_type": "execute_result",
          "data": {
            "text/plain": [
              "                          CODUSU  NRO_HOGAR  AGLOMERADO  IV1  IV2  IV3  IV4  \\\n",
              "0  TQRMNOPSWHMMKRCDEOJAH00714384          1          93    1    3    1    1   \n",
              "1  TQRMNOQYSHMNKTCDEOJAH00714386          1          93    2    2    1    4   \n",
              "2  TQRMNOQXVHLLPQCDEIJAH00718674          1          33    1    3    1    4   \n",
              "3  TQRMNORWPHLKPRCDEIJAH00718675          1          33    2    2    1    9   \n",
              "4  TQRMNOPWQHKLOUCDEIJAH00714088          1          33    1    3    1    1   \n",
              "\n",
              "   IV5  IV6  IV7  IV8  IV12_1  IV12_2  IV12_3  II1  II2  II3  II3_1  II5_1  \\\n",
              "0    1    1    1    1       2       2       2    3    1    2      0      0   \n",
              "1    1    1    1    1       2       2       2    2    2    2      0      0   \n",
              "2    1    1    1    1       2       2       2    3    3    2      0      0   \n",
              "3    1    1    1    1       2       1       2    2    1    2      0      0   \n",
              "4    1    1    1    1       2       2       2    3    2    2      0      0   \n",
              "\n",
              "   II6_1  V1  V2  V21  V22  V3  V4  V5  V6  V7  V8  V9  V10  V11  V12  V13  \\\n",
              "0      0   2   1    2    2   2   2   2   2   2   2   2    2    2    2    2   \n",
              "1      0   1   2    2    2   2   2   2   2   2   2   2    2    2    2    2   \n",
              "2      0   1   1    2    2   2   2   2   2   2   2   2    2    2    2    1   \n",
              "3      0   1   2    2    2   2   2   2   2   2   2   2    2    2    2    2   \n",
              "4      0   1   2    2    2   2   2   2   2   2   2   2    2    2    2    1   \n",
              "\n",
              "   V14  V15  V16  V17  V18  V19_A  V19_B  IX_TOT  IX_MEN10  IX_MAYEQ10    ITF  \\\n",
              "0    2    1    1    2    2      2      2       2         0           2  77500   \n",
              "1    2    2    1    2    2      2      2       4         1           3  85000   \n",
              "2    2    1    1    2    2      2      2       4         0           4  96870   \n",
              "3    1    2    1    2    2      2      2       2         0           2  90000   \n",
              "4    1    2    1    2    2      2      2       3         0           3  92000   \n",
              "\n",
              "       IPCF  VII1_1  VII1_2  VII2_1  VII2_2  VII2_3  VII2_4  parentesco  \\\n",
              "0  38750.00       1       2      98       0       0       0           1   \n",
              "1  21250.00       2       0      98       0       0       0           1   \n",
              "2  24217.50       1       2      98       0       0       0           1   \n",
              "3  45000.00       1       2      98       0       0       0           1   \n",
              "4  30666.67       2       1      98       0       0       0           1   \n",
              "\n",
              "   genero  edad  cob_medica  NIVEL_ED  CAT_OCUP  CAT_INAC  AE_ctrol_ind_sum  \\\n",
              "0       1    72           1         2         9         1              1.50   \n",
              "1       1    38           1         4         3         0              3.13   \n",
              "2       1    67           1         4         3         0              3.33   \n",
              "3       1    35           1         5         3         0              1.77   \n",
              "4       2    33           1         6         3         0              2.54   \n",
              "\n",
              "   adulto_equivalente  pobreza  IV9  IV10  IV11  II4_1  II4_2  II4_3  II5  \\\n",
              "0            51666.67        0    1     1     1      1      1      2    2   \n",
              "1            27156.55        0    1     1     1      1      2      2    2   \n",
              "2            29090.09        0    1     2     3      1      1      2    2   \n",
              "3            50847.46        0    1     1     1      1      2      1    2   \n",
              "4            36220.47        0    1     1     1      1      1      1    2   \n",
              "\n",
              "   II6  II7  II8  II9  \n",
              "0    2    1    1    1  \n",
              "1    2    6    1    1  \n",
              "2    2    1    1    1  \n",
              "3    2    1    1    1  \n",
              "4    2    1    1    1  "
            ],
            "text/html": [
              "\n",
              "  <div id=\"df-ed1dbb38-356c-4dbb-ba83-8a0e4ff14e58\">\n",
              "    <div class=\"colab-df-container\">\n",
              "      <div>\n",
              "<style scoped>\n",
              "    .dataframe tbody tr th:only-of-type {\n",
              "        vertical-align: middle;\n",
              "    }\n",
              "\n",
              "    .dataframe tbody tr th {\n",
              "        vertical-align: top;\n",
              "    }\n",
              "\n",
              "    .dataframe thead th {\n",
              "        text-align: right;\n",
              "    }\n",
              "</style>\n",
              "<table border=\"1\" class=\"dataframe\">\n",
              "  <thead>\n",
              "    <tr style=\"text-align: right;\">\n",
              "      <th></th>\n",
              "      <th>CODUSU</th>\n",
              "      <th>NRO_HOGAR</th>\n",
              "      <th>AGLOMERADO</th>\n",
              "      <th>IV1</th>\n",
              "      <th>IV2</th>\n",
              "      <th>IV3</th>\n",
              "      <th>IV4</th>\n",
              "      <th>IV5</th>\n",
              "      <th>IV6</th>\n",
              "      <th>IV7</th>\n",
              "      <th>IV8</th>\n",
              "      <th>IV12_1</th>\n",
              "      <th>IV12_2</th>\n",
              "      <th>IV12_3</th>\n",
              "      <th>II1</th>\n",
              "      <th>II2</th>\n",
              "      <th>II3</th>\n",
              "      <th>II3_1</th>\n",
              "      <th>II5_1</th>\n",
              "      <th>II6_1</th>\n",
              "      <th>V1</th>\n",
              "      <th>V2</th>\n",
              "      <th>V21</th>\n",
              "      <th>V22</th>\n",
              "      <th>V3</th>\n",
              "      <th>V4</th>\n",
              "      <th>V5</th>\n",
              "      <th>V6</th>\n",
              "      <th>V7</th>\n",
              "      <th>V8</th>\n",
              "      <th>V9</th>\n",
              "      <th>V10</th>\n",
              "      <th>V11</th>\n",
              "      <th>V12</th>\n",
              "      <th>V13</th>\n",
              "      <th>V14</th>\n",
              "      <th>V15</th>\n",
              "      <th>V16</th>\n",
              "      <th>V17</th>\n",
              "      <th>V18</th>\n",
              "      <th>V19_A</th>\n",
              "      <th>V19_B</th>\n",
              "      <th>IX_TOT</th>\n",
              "      <th>IX_MEN10</th>\n",
              "      <th>IX_MAYEQ10</th>\n",
              "      <th>ITF</th>\n",
              "      <th>IPCF</th>\n",
              "      <th>VII1_1</th>\n",
              "      <th>VII1_2</th>\n",
              "      <th>VII2_1</th>\n",
              "      <th>VII2_2</th>\n",
              "      <th>VII2_3</th>\n",
              "      <th>VII2_4</th>\n",
              "      <th>parentesco</th>\n",
              "      <th>genero</th>\n",
              "      <th>edad</th>\n",
              "      <th>cob_medica</th>\n",
              "      <th>NIVEL_ED</th>\n",
              "      <th>CAT_OCUP</th>\n",
              "      <th>CAT_INAC</th>\n",
              "      <th>AE_ctrol_ind_sum</th>\n",
              "      <th>adulto_equivalente</th>\n",
              "      <th>pobreza</th>\n",
              "      <th>IV9</th>\n",
              "      <th>IV10</th>\n",
              "      <th>IV11</th>\n",
              "      <th>II4_1</th>\n",
              "      <th>II4_2</th>\n",
              "      <th>II4_3</th>\n",
              "      <th>II5</th>\n",
              "      <th>II6</th>\n",
              "      <th>II7</th>\n",
              "      <th>II8</th>\n",
              "      <th>II9</th>\n",
              "    </tr>\n",
              "  </thead>\n",
              "  <tbody>\n",
              "    <tr>\n",
              "      <th>0</th>\n",
              "      <td>TQRMNOPSWHMMKRCDEOJAH00714384</td>\n",
              "      <td>1</td>\n",
              "      <td>93</td>\n",
              "      <td>1</td>\n",
              "      <td>3</td>\n",
              "      <td>1</td>\n",
              "      <td>1</td>\n",
              "      <td>1</td>\n",
              "      <td>1</td>\n",
              "      <td>1</td>\n",
              "      <td>1</td>\n",
              "      <td>2</td>\n",
              "      <td>2</td>\n",
              "      <td>2</td>\n",
              "      <td>3</td>\n",
              "      <td>1</td>\n",
              "      <td>2</td>\n",
              "      <td>0</td>\n",
              "      <td>0</td>\n",
              "      <td>0</td>\n",
              "      <td>2</td>\n",
              "      <td>1</td>\n",
              "      <td>2</td>\n",
              "      <td>2</td>\n",
              "      <td>2</td>\n",
              "      <td>2</td>\n",
              "      <td>2</td>\n",
              "      <td>2</td>\n",
              "      <td>2</td>\n",
              "      <td>2</td>\n",
              "      <td>2</td>\n",
              "      <td>2</td>\n",
              "      <td>2</td>\n",
              "      <td>2</td>\n",
              "      <td>2</td>\n",
              "      <td>2</td>\n",
              "      <td>1</td>\n",
              "      <td>1</td>\n",
              "      <td>2</td>\n",
              "      <td>2</td>\n",
              "      <td>2</td>\n",
              "      <td>2</td>\n",
              "      <td>2</td>\n",
              "      <td>0</td>\n",
              "      <td>2</td>\n",
              "      <td>77500</td>\n",
              "      <td>38750.00</td>\n",
              "      <td>1</td>\n",
              "      <td>2</td>\n",
              "      <td>98</td>\n",
              "      <td>0</td>\n",
              "      <td>0</td>\n",
              "      <td>0</td>\n",
              "      <td>1</td>\n",
              "      <td>1</td>\n",
              "      <td>72</td>\n",
              "      <td>1</td>\n",
              "      <td>2</td>\n",
              "      <td>9</td>\n",
              "      <td>1</td>\n",
              "      <td>1.50</td>\n",
              "      <td>51666.67</td>\n",
              "      <td>0</td>\n",
              "      <td>1</td>\n",
              "      <td>1</td>\n",
              "      <td>1</td>\n",
              "      <td>1</td>\n",
              "      <td>1</td>\n",
              "      <td>2</td>\n",
              "      <td>2</td>\n",
              "      <td>2</td>\n",
              "      <td>1</td>\n",
              "      <td>1</td>\n",
              "      <td>1</td>\n",
              "    </tr>\n",
              "    <tr>\n",
              "      <th>1</th>\n",
              "      <td>TQRMNOQYSHMNKTCDEOJAH00714386</td>\n",
              "      <td>1</td>\n",
              "      <td>93</td>\n",
              "      <td>2</td>\n",
              "      <td>2</td>\n",
              "      <td>1</td>\n",
              "      <td>4</td>\n",
              "      <td>1</td>\n",
              "      <td>1</td>\n",
              "      <td>1</td>\n",
              "      <td>1</td>\n",
              "      <td>2</td>\n",
              "      <td>2</td>\n",
              "      <td>2</td>\n",
              "      <td>2</td>\n",
              "      <td>2</td>\n",
              "      <td>2</td>\n",
              "      <td>0</td>\n",
              "      <td>0</td>\n",
              "      <td>0</td>\n",
              "      <td>1</td>\n",
              "      <td>2</td>\n",
              "      <td>2</td>\n",
              "      <td>2</td>\n",
              "      <td>2</td>\n",
              "      <td>2</td>\n",
              "      <td>2</td>\n",
              "      <td>2</td>\n",
              "      <td>2</td>\n",
              "      <td>2</td>\n",
              "      <td>2</td>\n",
              "      <td>2</td>\n",
              "      <td>2</td>\n",
              "      <td>2</td>\n",
              "      <td>2</td>\n",
              "      <td>2</td>\n",
              "      <td>2</td>\n",
              "      <td>1</td>\n",
              "      <td>2</td>\n",
              "      <td>2</td>\n",
              "      <td>2</td>\n",
              "      <td>2</td>\n",
              "      <td>4</td>\n",
              "      <td>1</td>\n",
              "      <td>3</td>\n",
              "      <td>85000</td>\n",
              "      <td>21250.00</td>\n",
              "      <td>2</td>\n",
              "      <td>0</td>\n",
              "      <td>98</td>\n",
              "      <td>0</td>\n",
              "      <td>0</td>\n",
              "      <td>0</td>\n",
              "      <td>1</td>\n",
              "      <td>1</td>\n",
              "      <td>38</td>\n",
              "      <td>1</td>\n",
              "      <td>4</td>\n",
              "      <td>3</td>\n",
              "      <td>0</td>\n",
              "      <td>3.13</td>\n",
              "      <td>27156.55</td>\n",
              "      <td>0</td>\n",
              "      <td>1</td>\n",
              "      <td>1</td>\n",
              "      <td>1</td>\n",
              "      <td>1</td>\n",
              "      <td>2</td>\n",
              "      <td>2</td>\n",
              "      <td>2</td>\n",
              "      <td>2</td>\n",
              "      <td>6</td>\n",
              "      <td>1</td>\n",
              "      <td>1</td>\n",
              "    </tr>\n",
              "    <tr>\n",
              "      <th>2</th>\n",
              "      <td>TQRMNOQXVHLLPQCDEIJAH00718674</td>\n",
              "      <td>1</td>\n",
              "      <td>33</td>\n",
              "      <td>1</td>\n",
              "      <td>3</td>\n",
              "      <td>1</td>\n",
              "      <td>4</td>\n",
              "      <td>1</td>\n",
              "      <td>1</td>\n",
              "      <td>1</td>\n",
              "      <td>1</td>\n",
              "      <td>2</td>\n",
              "      <td>2</td>\n",
              "      <td>2</td>\n",
              "      <td>3</td>\n",
              "      <td>3</td>\n",
              "      <td>2</td>\n",
              "      <td>0</td>\n",
              "      <td>0</td>\n",
              "      <td>0</td>\n",
              "      <td>1</td>\n",
              "      <td>1</td>\n",
              "      <td>2</td>\n",
              "      <td>2</td>\n",
              "      <td>2</td>\n",
              "      <td>2</td>\n",
              "      <td>2</td>\n",
              "      <td>2</td>\n",
              "      <td>2</td>\n",
              "      <td>2</td>\n",
              "      <td>2</td>\n",
              "      <td>2</td>\n",
              "      <td>2</td>\n",
              "      <td>2</td>\n",
              "      <td>1</td>\n",
              "      <td>2</td>\n",
              "      <td>1</td>\n",
              "      <td>1</td>\n",
              "      <td>2</td>\n",
              "      <td>2</td>\n",
              "      <td>2</td>\n",
              "      <td>2</td>\n",
              "      <td>4</td>\n",
              "      <td>0</td>\n",
              "      <td>4</td>\n",
              "      <td>96870</td>\n",
              "      <td>24217.50</td>\n",
              "      <td>1</td>\n",
              "      <td>2</td>\n",
              "      <td>98</td>\n",
              "      <td>0</td>\n",
              "      <td>0</td>\n",
              "      <td>0</td>\n",
              "      <td>1</td>\n",
              "      <td>1</td>\n",
              "      <td>67</td>\n",
              "      <td>1</td>\n",
              "      <td>4</td>\n",
              "      <td>3</td>\n",
              "      <td>0</td>\n",
              "      <td>3.33</td>\n",
              "      <td>29090.09</td>\n",
              "      <td>0</td>\n",
              "      <td>1</td>\n",
              "      <td>2</td>\n",
              "      <td>3</td>\n",
              "      <td>1</td>\n",
              "      <td>1</td>\n",
              "      <td>2</td>\n",
              "      <td>2</td>\n",
              "      <td>2</td>\n",
              "      <td>1</td>\n",
              "      <td>1</td>\n",
              "      <td>1</td>\n",
              "    </tr>\n",
              "    <tr>\n",
              "      <th>3</th>\n",
              "      <td>TQRMNORWPHLKPRCDEIJAH00718675</td>\n",
              "      <td>1</td>\n",
              "      <td>33</td>\n",
              "      <td>2</td>\n",
              "      <td>2</td>\n",
              "      <td>1</td>\n",
              "      <td>9</td>\n",
              "      <td>1</td>\n",
              "      <td>1</td>\n",
              "      <td>1</td>\n",
              "      <td>1</td>\n",
              "      <td>2</td>\n",
              "      <td>1</td>\n",
              "      <td>2</td>\n",
              "      <td>2</td>\n",
              "      <td>1</td>\n",
              "      <td>2</td>\n",
              "      <td>0</td>\n",
              "      <td>0</td>\n",
              "      <td>0</td>\n",
              "      <td>1</td>\n",
              "      <td>2</td>\n",
              "      <td>2</td>\n",
              "      <td>2</td>\n",
              "      <td>2</td>\n",
              "      <td>2</td>\n",
              "      <td>2</td>\n",
              "      <td>2</td>\n",
              "      <td>2</td>\n",
              "      <td>2</td>\n",
              "      <td>2</td>\n",
              "      <td>2</td>\n",
              "      <td>2</td>\n",
              "      <td>2</td>\n",
              "      <td>2</td>\n",
              "      <td>1</td>\n",
              "      <td>2</td>\n",
              "      <td>1</td>\n",
              "      <td>2</td>\n",
              "      <td>2</td>\n",
              "      <td>2</td>\n",
              "      <td>2</td>\n",
              "      <td>2</td>\n",
              "      <td>0</td>\n",
              "      <td>2</td>\n",
              "      <td>90000</td>\n",
              "      <td>45000.00</td>\n",
              "      <td>1</td>\n",
              "      <td>2</td>\n",
              "      <td>98</td>\n",
              "      <td>0</td>\n",
              "      <td>0</td>\n",
              "      <td>0</td>\n",
              "      <td>1</td>\n",
              "      <td>1</td>\n",
              "      <td>35</td>\n",
              "      <td>1</td>\n",
              "      <td>5</td>\n",
              "      <td>3</td>\n",
              "      <td>0</td>\n",
              "      <td>1.77</td>\n",
              "      <td>50847.46</td>\n",
              "      <td>0</td>\n",
              "      <td>1</td>\n",
              "      <td>1</td>\n",
              "      <td>1</td>\n",
              "      <td>1</td>\n",
              "      <td>2</td>\n",
              "      <td>1</td>\n",
              "      <td>2</td>\n",
              "      <td>2</td>\n",
              "      <td>1</td>\n",
              "      <td>1</td>\n",
              "      <td>1</td>\n",
              "    </tr>\n",
              "    <tr>\n",
              "      <th>4</th>\n",
              "      <td>TQRMNOPWQHKLOUCDEIJAH00714088</td>\n",
              "      <td>1</td>\n",
              "      <td>33</td>\n",
              "      <td>1</td>\n",
              "      <td>3</td>\n",
              "      <td>1</td>\n",
              "      <td>1</td>\n",
              "      <td>1</td>\n",
              "      <td>1</td>\n",
              "      <td>1</td>\n",
              "      <td>1</td>\n",
              "      <td>2</td>\n",
              "      <td>2</td>\n",
              "      <td>2</td>\n",
              "      <td>3</td>\n",
              "      <td>2</td>\n",
              "      <td>2</td>\n",
              "      <td>0</td>\n",
              "      <td>0</td>\n",
              "      <td>0</td>\n",
              "      <td>1</td>\n",
              "      <td>2</td>\n",
              "      <td>2</td>\n",
              "      <td>2</td>\n",
              "      <td>2</td>\n",
              "      <td>2</td>\n",
              "      <td>2</td>\n",
              "      <td>2</td>\n",
              "      <td>2</td>\n",
              "      <td>2</td>\n",
              "      <td>2</td>\n",
              "      <td>2</td>\n",
              "      <td>2</td>\n",
              "      <td>2</td>\n",
              "      <td>1</td>\n",
              "      <td>1</td>\n",
              "      <td>2</td>\n",
              "      <td>1</td>\n",
              "      <td>2</td>\n",
              "      <td>2</td>\n",
              "      <td>2</td>\n",
              "      <td>2</td>\n",
              "      <td>3</td>\n",
              "      <td>0</td>\n",
              "      <td>3</td>\n",
              "      <td>92000</td>\n",
              "      <td>30666.67</td>\n",
              "      <td>2</td>\n",
              "      <td>1</td>\n",
              "      <td>98</td>\n",
              "      <td>0</td>\n",
              "      <td>0</td>\n",
              "      <td>0</td>\n",
              "      <td>1</td>\n",
              "      <td>2</td>\n",
              "      <td>33</td>\n",
              "      <td>1</td>\n",
              "      <td>6</td>\n",
              "      <td>3</td>\n",
              "      <td>0</td>\n",
              "      <td>2.54</td>\n",
              "      <td>36220.47</td>\n",
              "      <td>0</td>\n",
              "      <td>1</td>\n",
              "      <td>1</td>\n",
              "      <td>1</td>\n",
              "      <td>1</td>\n",
              "      <td>1</td>\n",
              "      <td>1</td>\n",
              "      <td>2</td>\n",
              "      <td>2</td>\n",
              "      <td>1</td>\n",
              "      <td>1</td>\n",
              "      <td>1</td>\n",
              "    </tr>\n",
              "  </tbody>\n",
              "</table>\n",
              "</div>\n",
              "      <button class=\"colab-df-convert\" onclick=\"convertToInteractive('df-ed1dbb38-356c-4dbb-ba83-8a0e4ff14e58')\"\n",
              "              title=\"Convert this dataframe to an interactive table.\"\n",
              "              style=\"display:none;\">\n",
              "        \n",
              "  <svg xmlns=\"http://www.w3.org/2000/svg\" height=\"24px\"viewBox=\"0 0 24 24\"\n",
              "       width=\"24px\">\n",
              "    <path d=\"M0 0h24v24H0V0z\" fill=\"none\"/>\n",
              "    <path d=\"M18.56 5.44l.94 2.06.94-2.06 2.06-.94-2.06-.94-.94-2.06-.94 2.06-2.06.94zm-11 1L8.5 8.5l.94-2.06 2.06-.94-2.06-.94L8.5 2.5l-.94 2.06-2.06.94zm10 10l.94 2.06.94-2.06 2.06-.94-2.06-.94-.94-2.06-.94 2.06-2.06.94z\"/><path d=\"M17.41 7.96l-1.37-1.37c-.4-.4-.92-.59-1.43-.59-.52 0-1.04.2-1.43.59L10.3 9.45l-7.72 7.72c-.78.78-.78 2.05 0 2.83L4 21.41c.39.39.9.59 1.41.59.51 0 1.02-.2 1.41-.59l7.78-7.78 2.81-2.81c.8-.78.8-2.07 0-2.86zM5.41 20L4 18.59l7.72-7.72 1.47 1.35L5.41 20z\"/>\n",
              "  </svg>\n",
              "      </button>\n",
              "      \n",
              "  <style>\n",
              "    .colab-df-container {\n",
              "      display:flex;\n",
              "      flex-wrap:wrap;\n",
              "      gap: 12px;\n",
              "    }\n",
              "\n",
              "    .colab-df-convert {\n",
              "      background-color: #E8F0FE;\n",
              "      border: none;\n",
              "      border-radius: 50%;\n",
              "      cursor: pointer;\n",
              "      display: none;\n",
              "      fill: #1967D2;\n",
              "      height: 32px;\n",
              "      padding: 0 0 0 0;\n",
              "      width: 32px;\n",
              "    }\n",
              "\n",
              "    .colab-df-convert:hover {\n",
              "      background-color: #E2EBFA;\n",
              "      box-shadow: 0px 1px 2px rgba(60, 64, 67, 0.3), 0px 1px 3px 1px rgba(60, 64, 67, 0.15);\n",
              "      fill: #174EA6;\n",
              "    }\n",
              "\n",
              "    [theme=dark] .colab-df-convert {\n",
              "      background-color: #3B4455;\n",
              "      fill: #D2E3FC;\n",
              "    }\n",
              "\n",
              "    [theme=dark] .colab-df-convert:hover {\n",
              "      background-color: #434B5C;\n",
              "      box-shadow: 0px 1px 3px 1px rgba(0, 0, 0, 0.15);\n",
              "      filter: drop-shadow(0px 1px 2px rgba(0, 0, 0, 0.3));\n",
              "      fill: #FFFFFF;\n",
              "    }\n",
              "  </style>\n",
              "\n",
              "      <script>\n",
              "        const buttonEl =\n",
              "          document.querySelector('#df-ed1dbb38-356c-4dbb-ba83-8a0e4ff14e58 button.colab-df-convert');\n",
              "        buttonEl.style.display =\n",
              "          google.colab.kernel.accessAllowed ? 'block' : 'none';\n",
              "\n",
              "        async function convertToInteractive(key) {\n",
              "          const element = document.querySelector('#df-ed1dbb38-356c-4dbb-ba83-8a0e4ff14e58');\n",
              "          const dataTable =\n",
              "            await google.colab.kernel.invokeFunction('convertToInteractive',\n",
              "                                                     [key], {});\n",
              "          if (!dataTable) return;\n",
              "\n",
              "          const docLinkHtml = 'Like what you see? Visit the ' +\n",
              "            '<a target=\"_blank\" href=https://colab.research.google.com/notebooks/data_table.ipynb>data table notebook</a>'\n",
              "            + ' to learn more about interactive tables.';\n",
              "          element.innerHTML = '';\n",
              "          dataTable['output_type'] = 'display_data';\n",
              "          await google.colab.output.renderOutput(dataTable, element);\n",
              "          const docLink = document.createElement('div');\n",
              "          docLink.innerHTML = docLinkHtml;\n",
              "          element.appendChild(docLink);\n",
              "        }\n",
              "      </script>\n",
              "    </div>\n",
              "  </div>\n",
              "  "
            ]
          },
          "metadata": {},
          "execution_count": 136
        }
      ]
    },
    {
      "cell_type": "markdown",
      "source": [
        "**Outliers**"
      ],
      "metadata": {
        "id": "RV2kfJsBWkor"
      }
    },
    {
      "cell_type": "code",
      "source": [
        "#En análisis de las variables numéricas vimos que IV2 e II1 tienen un máximo que quizás esté fuera de rango\n",
        "\n",
        "#IV2 es la cantidad de habitaciones por hogar\n",
        "\n",
        "df_dataset_corregido['IV2'].value_counts()"
      ],
      "metadata": {
        "colab": {
          "base_uri": "https://localhost:8080/"
        },
        "id": "sYD56mk2Ta3K",
        "outputId": "40c70c0a-50cc-45d8-bc81-dc32c6ef031a"
      },
      "execution_count": null,
      "outputs": [
        {
          "output_type": "execute_result",
          "data": {
            "text/plain": [
              "3     4971\n",
              "2     3237\n",
              "4     2856\n",
              "1     1089\n",
              "5      904\n",
              "6      280\n",
              "7       78\n",
              "8       28\n",
              "9        6\n",
              "10       3\n",
              "21       1\n",
              "99       1\n",
              "13       1\n",
              "Name: IV2, dtype: int64"
            ]
          },
          "metadata": {},
          "execution_count": 137
        }
      ]
    },
    {
      "cell_type": "code",
      "source": [
        "plt.boxplot(df_dataset_corregido['IV2'])\n",
        "plt.ylabel(\"Cantidad de ambientes por hogar\")\n",
        "plt.title(\"Boxplot de cantidad de ambientes por hogar\")"
      ],
      "metadata": {
        "colab": {
          "base_uri": "https://localhost:8080/",
          "height": 298
        },
        "id": "Mder37yzYzHs",
        "outputId": "08f79ba8-5003-485e-fcef-05e2b6981549"
      },
      "execution_count": null,
      "outputs": [
        {
          "output_type": "execute_result",
          "data": {
            "text/plain": [
              "Text(0.5, 1.0, 'Boxplot de cantidad de ambientes por hogar')"
            ]
          },
          "metadata": {},
          "execution_count": 138
        },
        {
          "output_type": "display_data",
          "data": {
            "text/plain": [
              "<Figure size 432x288 with 1 Axes>"
            ],
            "image/png": "[encoded data removed]"
          },
          "metadata": {
            "needs_background": "light"
          }
        }
      ]
    },
    {
      "cell_type": "code",
      "source": [
        "#acotamos el rango de 1 a 10\n",
        "\n",
        "df_dataset_corregido['IV2'] = df_dataset_corregido['IV2'].clip(lower=1,upper = 10)"
      ],
      "metadata": {
        "id": "RT8haNcoZIjP"
      },
      "execution_count": null,
      "outputs": []
    },
    {
      "cell_type": "code",
      "source": [
        "df_dataset_corregido['IV2'].describe()"
      ],
      "metadata": {
        "colab": {
          "base_uri": "https://localhost:8080/"
        },
        "id": "o0YtrDubZiAU",
        "outputId": "01333935-dfb3-49e1-8edf-64661833f69c"
      },
      "execution_count": null,
      "outputs": [
        {
          "output_type": "execute_result",
          "data": {
            "text/plain": [
              "count    13455.000000\n",
              "mean         3.046005\n",
              "std          1.188822\n",
              "min          1.000000\n",
              "25%          2.000000\n",
              "50%          3.000000\n",
              "75%          4.000000\n",
              "max         10.000000\n",
              "Name: IV2, dtype: float64"
            ]
          },
          "metadata": {},
          "execution_count": 140
        }
      ]
    },
    {
      "cell_type": "code",
      "source": [
        "#II1 es la cantidad de habitaciones que usan para dormir por hogar\n",
        "\n",
        "df_dataset_corregido['II1'].value_counts()"
      ],
      "metadata": {
        "colab": {
          "base_uri": "https://localhost:8080/"
        },
        "id": "4BI27tqWZpG9",
        "outputId": "9fb529ac-51ad-4ec2-8746-c05a503924fc"
      },
      "execution_count": null,
      "outputs": [
        {
          "output_type": "execute_result",
          "data": {
            "text/plain": [
              "3     4937\n",
              "2     3303\n",
              "4     2780\n",
              "1     1190\n",
              "5      878\n",
              "6      251\n",
              "7       70\n",
              "8       22\n",
              "0       11\n",
              "9        7\n",
              "10       3\n",
              "47       1\n",
              "42       1\n",
              "13       1\n",
              "Name: II1, dtype: int64"
            ]
          },
          "metadata": {},
          "execution_count": 141
        }
      ]
    },
    {
      "cell_type": "code",
      "source": [
        "plt.boxplot(df_dataset_corregido['II1'])\n",
        "plt.ylabel(\"Cantidad de ambientes que usan para dormir por hogar\")\n",
        "plt.title(\"Boxplot de cantidad de ambientes que usan para dormir por hogar\")"
      ],
      "metadata": {
        "colab": {
          "base_uri": "https://localhost:8080/",
          "height": 327
        },
        "id": "vd-XF476aHCl",
        "outputId": "94d9708f-b9b2-40d8-95b7-138837b18b2c"
      },
      "execution_count": null,
      "outputs": [
        {
          "output_type": "execute_result",
          "data": {
            "text/plain": [
              "Text(0.5, 1.0, 'Boxplot de cantidad de ambientes que usan para dormir por hogar')"
            ]
          },
          "metadata": {},
          "execution_count": 142
        },
        {
          "output_type": "display_data",
          "data": {
            "text/plain": [
              "<Figure size 432x288 with 1 Axes>"
            ],
            "image/png": "[encoded data removed]"
          },
          "metadata": {
            "needs_background": "light"
          }
        }
      ]
    },
    {
      "cell_type": "code",
      "source": [
        "#acotamos el rango de 1 a 10\n",
        "\n",
        "df_dataset_corregido['II1'] = df_dataset_corregido['II1'].clip(lower=1,upper = 10)"
      ],
      "metadata": {
        "id": "rXcY_bxBbF4g"
      },
      "execution_count": null,
      "outputs": []
    },
    {
      "cell_type": "code",
      "source": [
        "df_dataset_corregido['II1'].describe()"
      ],
      "metadata": {
        "colab": {
          "base_uri": "https://localhost:8080/"
        },
        "id": "Ianks1n0bM53",
        "outputId": "ee0b329f-c45f-49ec-ad99-fd560c0d8976"
      },
      "execution_count": null,
      "outputs": [
        {
          "output_type": "execute_result",
          "data": {
            "text/plain": [
              "count    13455.000000\n",
              "mean         3.004311\n",
              "std          1.184414\n",
              "min          1.000000\n",
              "25%          2.000000\n",
              "50%          3.000000\n",
              "75%          4.000000\n",
              "max         10.000000\n",
              "Name: II1, dtype: float64"
            ]
          },
          "metadata": {},
          "execution_count": 144
        }
      ]
    },
    {
      "cell_type": "code",
      "source": [
        "df_dataset_corregido.to_csv('dataset_corregido.csv')"
      ],
      "metadata": {
        "id": "sOsYwP9VbSd1"
      },
      "execution_count": null,
      "outputs": []
    },
    {
      "cell_type": "markdown",
      "source": [
        "# **Modelo**"
      ],
      "metadata": {
        "id": "NcSRC6qMbtjj"
      }
    },
    {
      "cell_type": "markdown",
      "source": [
        "En esta primera instancia implementaremos una regresión logística"
      ],
      "metadata": {
        "id": "weYoHQWdbmEO"
      }
    },
    {
      "cell_type": "markdown",
      "source": [
        "# **Experimento 1:**"
      ],
      "metadata": {
        "id": "E03wJ9kKWaj4"
      }
    },
    {
      "cell_type": "code",
      "source": [
        "#from google.colab import files\n",
        "#uploaded  = files.upload()"
      ],
      "metadata": {
        "colab": {
          "base_uri": "https://localhost:8080/",
          "height": 74
        },
        "id": "ONJX8Ke7bDVE",
        "outputId": "5b16dcf1-5f95-4387-b3d6-809e7388c642"
      },
      "execution_count": null,
      "outputs": [
        {
          "output_type": "display_data",
          "data": {
            "text/plain": [
              "<IPython.core.display.HTML object>"
            ],
            "text/html": [
              "\n",
              "     <input type=\"file\" id=\"files-22433436-adc8-4532-8bdf-f12519003a30\" name=\"files[]\" multiple disabled\n",
              "        style=\"border:none\" />\n",
              "     <output id=\"result-22433436-adc8-4532-8bdf-f12519003a30\">\n",
              "      Upload widget is only available when the cell has been executed in the\n",
              "      current browser session. Please rerun this cell to enable.\n",
              "      </output>\n",
              "      <script>// Copyright 2017 Google LLC\n",
              "//\n",
              "// Licensed under the Apache License, Version 2.0 (the \"License\");\n",
              "// you may not use this file except in compliance with the License.\n",
              "// You may obtain a copy of the License at\n",
              "//\n",
              "//      http://www.apache.org/licenses/LICENSE-2.0\n",
              "//\n",
              "// Unless required by applicable law or agreed to in writing, software\n",
              "// distributed under the License is distributed on an \"AS IS\" BASIS,\n",
              "// WITHOUT WARRANTIES OR CONDITIONS OF ANY KIND, either express or implied.\n",
              "// See the License for the specific language governing permissions and\n",
              "// limitations under the License.\n",
              "\n",
              "/**\n",
              " * @fileoverview Helpers for google.colab Python module.\n",
              " */\n",
              "(function(scope) {\n",
              "function span(text, styleAttributes = {}) {\n",
              "  const element = document.createElement('span');\n",
              "  element.textContent = text;\n",
              "  for (const key of Object.keys(styleAttributes)) {\n",
              "    element.style[key] = styleAttributes[key];\n",
              "  }\n",
              "  return element;\n",
              "}\n",
              "\n",
              "// Max number of bytes which will be uploaded at a time.\n",
              "const MAX_PAYLOAD_SIZE = 100 * 1024;\n",
              "\n",
              "function _uploadFiles(inputId, outputId) {\n",
              "  const steps = uploadFilesStep(inputId, outputId);\n",
              "  const outputElement = document.getElementById(outputId);\n",
              "  // Cache steps on the outputElement to make it available for the next call\n",
              "  // to uploadFilesContinue from Python.\n",
              "  outputElement.steps = steps;\n",
              "\n",
              "  return _uploadFilesContinue(outputId);\n",
              "}\n",
              "\n",
              "// This is roughly an async generator (not supported in the browser yet),\n",
              "// where there are multiple asynchronous steps and the Python side is going\n",
              "// to poll for completion of each step.\n",
              "// This uses a Promise to block the python side on completion of each step,\n",
              "// then passes the result of the previous step as the input to the next step.\n",
              "function _uploadFilesContinue(outputId) {\n",
              "  const outputElement = document.getElementById(outputId);\n",
              "  const steps = outputElement.steps;\n",
              "\n",
              "  const next = steps.next(outputElement.lastPromiseValue);\n",
              "  return Promise.resolve(next.value.promise).then((value) => {\n",
              "    // Cache the last promise value to make it available to the next\n",
              "    // step of the generator.\n",
              "    outputElement.lastPromiseValue = value;\n",
              "    return next.value.response;\n",
              "  });\n",
              "}\n",
              "\n",
              "/**\n",
              " * Generator function which is called between each async step of the upload\n",
              " * process.\n",
              " * @param {string} inputId Element ID of the input file picker element.\n",
              " * @param {string} outputId Element ID of the output display.\n",
              " * @return {!Iterable<!Object>} Iterable of next steps.\n",
              " */\n",
              "function* uploadFilesStep(inputId, outputId) {\n",
              "  const inputElement = document.getElementById(inputId);\n",
              "  inputElement.disabled = false;\n",
              "\n",
              "  const outputElement = document.getElementById(outputId);\n",
              "  outputElement.innerHTML = '';\n",
              "\n",
              "  const pickedPromise = new Promise((resolve) => {\n",
              "    inputElement.addEventListener('change', (e) => {\n",
              "      resolve(e.target.files);\n",
              "    });\n",
              "  });\n",
              "\n",
              "  const cancel = document.createElement('button');\n",
              "  inputElement.parentElement.appendChild(cancel);\n",
              "  cancel.textContent = 'Cancel upload';\n",
              "  const cancelPromise = new Promise((resolve) => {\n",
              "    cancel.onclick = () => {\n",
              "      resolve(null);\n",
              "    };\n",
              "  });\n",
              "\n",
              "  // Wait for the user to pick the files.\n",
              "  const files = yield {\n",
              "    promise: Promise.race([pickedPromise, cancelPromise]),\n",
              "    response: {\n",
              "      action: 'starting',\n",
              "    }\n",
              "  };\n",
              "\n",
              "  cancel.remove();\n",
              "\n",
              "  // Disable the input element since further picks are not allowed.\n",
              "  inputElement.disabled = true;\n",
              "\n",
              "  if (!files) {\n",
              "    return {\n",
              "      response: {\n",
              "        action: 'complete',\n",
              "      }\n",
              "    };\n",
              "  }\n",
              "\n",
              "  for (const file of files) {\n",
              "    const li = document.createElement('li');\n",
              "    li.append(span(file.name, {fontWeight: 'bold'}));\n",
              "    li.append(span(\n",
              "        `(${file.type || 'n/a'}) - ${file.size} bytes, ` +\n",
              "        `last modified: ${\n",
              "            file.lastModifiedDate ? file.lastModifiedDate.toLocaleDateString() :\n",
              "                                    'n/a'} - `));\n",
              "    const percent = span('0% done');\n",
              "    li.appendChild(percent);\n",
              "\n",
              "    outputElement.appendChild(li);\n",
              "\n",
              "    const fileDataPromise = new Promise((resolve) => {\n",
              "      const reader = new FileReader();\n",
              "      reader.onload = (e) => {\n",
              "        resolve(e.target.result);\n",
              "      };\n",
              "      reader.readAsArrayBuffer(file);\n",
              "    });\n",
              "    // Wait for the data to be ready.\n",
              "    let fileData = yield {\n",
              "      promise: fileDataPromise,\n",
              "      response: {\n",
              "        action: 'continue',\n",
              "      }\n",
              "    };\n",
              "\n",
              "    // Use a chunked sending to avoid message size limits. See b/62115660.\n",
              "    let position = 0;\n",
              "    do {\n",
              "      const length = Math.min(fileData.byteLength - position, MAX_PAYLOAD_SIZE);\n",
              "      const chunk = new Uint8Array(fileData, position, length);\n",
              "      position += length;\n",
              "\n",
              "      const base64 = btoa(String.fromCharCode.apply(null, chunk));\n",
              "      yield {\n",
              "        response: {\n",
              "          action: 'append',\n",
              "          file: file.name,\n",
              "          data: base64,\n",
              "        },\n",
              "      };\n",
              "\n",
              "      let percentDone = fileData.byteLength === 0 ?\n",
              "          100 :\n",
              "          Math.round((position / fileData.byteLength) * 100);\n",
              "      percent.textContent = `${percentDone}% done`;\n",
              "\n",
              "    } while (position < fileData.byteLength);\n",
              "  }\n",
              "\n",
              "  // All done.\n",
              "  yield {\n",
              "    response: {\n",
              "      action: 'complete',\n",
              "    }\n",
              "  };\n",
              "}\n",
              "\n",
              "scope.google = scope.google || {};\n",
              "scope.google.colab = scope.google.colab || {};\n",
              "scope.google.colab._files = {\n",
              "  _uploadFiles,\n",
              "  _uploadFilesContinue,\n",
              "};\n",
              "})(self);\n",
              "</script> "
            ]
          },
          "metadata": {}
        },
        {
          "output_type": "stream",
          "name": "stdout",
          "text": [
            "Saving dataset_corregido.csv to dataset_corregido.csv\n"
          ]
        }
      ]
    },
    {
      "cell_type": "code",
      "source": [
        "#df_dataset_corregido = pd.read_csv(\"dataset_corregido.csv\")"
      ],
      "metadata": {
        "id": "rNa2AbWrbIdy"
      },
      "execution_count": null,
      "outputs": []
    },
    {
      "cell_type": "code",
      "source": [
        "# Buscamos las variables categóricas\n",
        "categorical = [var for var in df_dataset_corregido.columns if df_dataset_corregido[var].dtype=='O']\n",
        "print('Hay {} variables categóricas\\n'.format(len(categorical)))\n",
        "print('Las variables categórica son:', categorical)"
      ],
      "metadata": {
        "colab": {
          "base_uri": "https://localhost:8080/"
        },
        "id": "zex0YOLubsCL",
        "outputId": "7adec398-456d-4199-d431-b0d6b2c5589f"
      },
      "execution_count": null,
      "outputs": [
        {
          "output_type": "stream",
          "name": "stdout",
          "text": [
            "Hay 1 variables categóricas\n",
            "\n",
            "Las variables categórica son: ['CODUSU']\n"
          ]
        }
      ]
    },
    {
      "cell_type": "code",
      "source": [
        "#borramos CODUSU y Nro de hogar\n",
        "df = df_dataset_corregido.drop(['CODUSU','NRO_HOGAR'], axis=1)"
      ],
      "metadata": {
        "id": "ouf96sEbguOE"
      },
      "execution_count": null,
      "outputs": []
    },
    {
      "cell_type": "code",
      "source": [
        "#df = df.drop(['Unnamed: 0'], axis=1)"
      ],
      "metadata": {
        "id": "69uBs4OKb40Y"
      },
      "execution_count": null,
      "outputs": []
    },
    {
      "cell_type": "code",
      "source": [
        "df.head()"
      ],
      "metadata": {
        "colab": {
          "base_uri": "https://localhost:8080/",
          "height": 235
        },
        "id": "8iP-lm5Qg2_E",
        "outputId": "d8e5bd85-39a0-461d-fe13-86efc8498326"
      },
      "execution_count": null,
      "outputs": [
        {
          "output_type": "execute_result",
          "data": {
            "text/plain": [
              "   AGLOMERADO  IV1  IV2  IV3  IV4  IV5  IV6  IV7  IV8  IV12_1  ...  IV10  \\\n",
              "0          93    1    3    1    1    1    1    1    1       2  ...     1   \n",
              "1          93    2    2    1    4    1    1    1    1       2  ...     1   \n",
              "2          33    1    3    1    4    1    1    1    1       2  ...     2   \n",
              "3          33    2    2    1    9    1    1    1    1       2  ...     1   \n",
              "4          33    1    3    1    1    1    1    1    1       2  ...     1   \n",
              "\n",
              "   IV11  II4_1  II4_2  II4_3  II5  II6  II7  II8  II9  \n",
              "0     1      1      1      2    2    2    1    1    1  \n",
              "1     1      1      2      2    2    2    6    1    1  \n",
              "2     3      1      1      2    2    2    1    1    1  \n",
              "3     1      1      2      1    2    2    1    1    1  \n",
              "4     1      1      1      1    2    2    1    1    1  \n",
              "\n",
              "[5 rows x 72 columns]"
            ],
            "text/html": [
              "\n",
              "  <div id=\"df-ae1f03fc-fd77-4efd-ac5c-445850a1635d\">\n",
              "    <div class=\"colab-df-container\">\n",
              "      <div>\n",
              "<style scoped>\n",
              "    .dataframe tbody tr th:only-of-type {\n",
              "        vertical-align: middle;\n",
              "    }\n",
              "\n",
              "    .dataframe tbody tr th {\n",
              "        vertical-align: top;\n",
              "    }\n",
              "\n",
              "    .dataframe thead th {\n",
              "        text-align: right;\n",
              "    }\n",
              "</style>\n",
              "<table border=\"1\" class=\"dataframe\">\n",
              "  <thead>\n",
              "    <tr style=\"text-align: right;\">\n",
              "      <th></th>\n",
              "      <th>AGLOMERADO</th>\n",
              "      <th>IV1</th>\n",
              "      <th>IV2</th>\n",
              "      <th>IV3</th>\n",
              "      <th>IV4</th>\n",
              "      <th>IV5</th>\n",
              "      <th>IV6</th>\n",
              "      <th>IV7</th>\n",
              "      <th>IV8</th>\n",
              "      <th>IV12_1</th>\n",
              "      <th>...</th>\n",
              "      <th>IV10</th>\n",
              "      <th>IV11</th>\n",
              "      <th>II4_1</th>\n",
              "      <th>II4_2</th>\n",
              "      <th>II4_3</th>\n",
              "      <th>II5</th>\n",
              "      <th>II6</th>\n",
              "      <th>II7</th>\n",
              "      <th>II8</th>\n",
              "      <th>II9</th>\n",
              "    </tr>\n",
              "  </thead>\n",
              "  <tbody>\n",
              "    <tr>\n",
              "      <th>0</th>\n",
              "      <td>93</td>\n",
              "      <td>1</td>\n",
              "      <td>3</td>\n",
              "      <td>1</td>\n",
              "      <td>1</td>\n",
              "      <td>1</td>\n",
              "      <td>1</td>\n",
              "      <td>1</td>\n",
              "      <td>1</td>\n",
              "      <td>2</td>\n",
              "      <td>...</td>\n",
              "      <td>1</td>\n",
              "      <td>1</td>\n",
              "      <td>1</td>\n",
              "      <td>1</td>\n",
              "      <td>2</td>\n",
              "      <td>2</td>\n",
              "      <td>2</td>\n",
              "      <td>1</td>\n",
              "      <td>1</td>\n",
              "      <td>1</td>\n",
              "    </tr>\n",
              "    <tr>\n",
              "      <th>1</th>\n",
              "      <td>93</td>\n",
              "      <td>2</td>\n",
              "      <td>2</td>\n",
              "      <td>1</td>\n",
              "      <td>4</td>\n",
              "      <td>1</td>\n",
              "      <td>1</td>\n",
              "      <td>1</td>\n",
              "      <td>1</td>\n",
              "      <td>2</td>\n",
              "      <td>...</td>\n",
              "      <td>1</td>\n",
              "      <td>1</td>\n",
              "      <td>1</td>\n",
              "      <td>2</td>\n",
              "      <td>2</td>\n",
              "      <td>2</td>\n",
              "      <td>2</td>\n",
              "      <td>6</td>\n",
              "      <td>1</td>\n",
              "      <td>1</td>\n",
              "    </tr>\n",
              "    <tr>\n",
              "      <th>2</th>\n",
              "      <td>33</td>\n",
              "      <td>1</td>\n",
              "      <td>3</td>\n",
              "      <td>1</td>\n",
              "      <td>4</td>\n",
              "      <td>1</td>\n",
              "      <td>1</td>\n",
              "      <td>1</td>\n",
              "      <td>1</td>\n",
              "      <td>2</td>\n",
              "      <td>...</td>\n",
              "      <td>2</td>\n",
              "      <td>3</td>\n",
              "      <td>1</td>\n",
              "      <td>1</td>\n",
              "      <td>2</td>\n",
              "      <td>2</td>\n",
              "      <td>2</td>\n",
              "      <td>1</td>\n",
              "      <td>1</td>\n",
              "      <td>1</td>\n",
              "    </tr>\n",
              "    <tr>\n",
              "      <th>3</th>\n",
              "      <td>33</td>\n",
              "      <td>2</td>\n",
              "      <td>2</td>\n",
              "      <td>1</td>\n",
              "      <td>9</td>\n",
              "      <td>1</td>\n",
              "      <td>1</td>\n",
              "      <td>1</td>\n",
              "      <td>1</td>\n",
              "      <td>2</td>\n",
              "      <td>...</td>\n",
              "      <td>1</td>\n",
              "      <td>1</td>\n",
              "      <td>1</td>\n",
              "      <td>2</td>\n",
              "      <td>1</td>\n",
              "      <td>2</td>\n",
              "      <td>2</td>\n",
              "      <td>1</td>\n",
              "      <td>1</td>\n",
              "      <td>1</td>\n",
              "    </tr>\n",
              "    <tr>\n",
              "      <th>4</th>\n",
              "      <td>33</td>\n",
              "      <td>1</td>\n",
              "      <td>3</td>\n",
              "      <td>1</td>\n",
              "      <td>1</td>\n",
              "      <td>1</td>\n",
              "      <td>1</td>\n",
              "      <td>1</td>\n",
              "      <td>1</td>\n",
              "      <td>2</td>\n",
              "      <td>...</td>\n",
              "      <td>1</td>\n",
              "      <td>1</td>\n",
              "      <td>1</td>\n",
              "      <td>1</td>\n",
              "      <td>1</td>\n",
              "      <td>2</td>\n",
              "      <td>2</td>\n",
              "      <td>1</td>\n",
              "      <td>1</td>\n",
              "      <td>1</td>\n",
              "    </tr>\n",
              "  </tbody>\n",
              "</table>\n",
              "<p>5 rows × 72 columns</p>\n",
              "</div>\n",
              "      <button class=\"colab-df-convert\" onclick=\"convertToInteractive('df-ae1f03fc-fd77-4efd-ac5c-445850a1635d')\"\n",
              "              title=\"Convert this dataframe to an interactive table.\"\n",
              "              style=\"display:none;\">\n",
              "        \n",
              "  <svg xmlns=\"http://www.w3.org/2000/svg\" height=\"24px\"viewBox=\"0 0 24 24\"\n",
              "       width=\"24px\">\n",
              "    <path d=\"M0 0h24v24H0V0z\" fill=\"none\"/>\n",
              "    <path d=\"M18.56 5.44l.94 2.06.94-2.06 2.06-.94-2.06-.94-.94-2.06-.94 2.06-2.06.94zm-11 1L8.5 8.5l.94-2.06 2.06-.94-2.06-.94L8.5 2.5l-.94 2.06-2.06.94zm10 10l.94 2.06.94-2.06 2.06-.94-2.06-.94-.94-2.06-.94 2.06-2.06.94z\"/><path d=\"M17.41 7.96l-1.37-1.37c-.4-.4-.92-.59-1.43-.59-.52 0-1.04.2-1.43.59L10.3 9.45l-7.72 7.72c-.78.78-.78 2.05 0 2.83L4 21.41c.39.39.9.59 1.41.59.51 0 1.02-.2 1.41-.59l7.78-7.78 2.81-2.81c.8-.78.8-2.07 0-2.86zM5.41 20L4 18.59l7.72-7.72 1.47 1.35L5.41 20z\"/>\n",
              "  </svg>\n",
              "      </button>\n",
              "      \n",
              "  <style>\n",
              "    .colab-df-container {\n",
              "      display:flex;\n",
              "      flex-wrap:wrap;\n",
              "      gap: 12px;\n",
              "    }\n",
              "\n",
              "    .colab-df-convert {\n",
              "      background-color: #E8F0FE;\n",
              "      border: none;\n",
              "      border-radius: 50%;\n",
              "      cursor: pointer;\n",
              "      display: none;\n",
              "      fill: #1967D2;\n",
              "      height: 32px;\n",
              "      padding: 0 0 0 0;\n",
              "      width: 32px;\n",
              "    }\n",
              "\n",
              "    .colab-df-convert:hover {\n",
              "      background-color: #E2EBFA;\n",
              "      box-shadow: 0px 1px 2px rgba(60, 64, 67, 0.3), 0px 1px 3px 1px rgba(60, 64, 67, 0.15);\n",
              "      fill: #174EA6;\n",
              "    }\n",
              "\n",
              "    [theme=dark] .colab-df-convert {\n",
              "      background-color: #3B4455;\n",
              "      fill: #D2E3FC;\n",
              "    }\n",
              "\n",
              "    [theme=dark] .colab-df-convert:hover {\n",
              "      background-color: #434B5C;\n",
              "      box-shadow: 0px 1px 3px 1px rgba(0, 0, 0, 0.15);\n",
              "      filter: drop-shadow(0px 1px 2px rgba(0, 0, 0, 0.3));\n",
              "      fill: #FFFFFF;\n",
              "    }\n",
              "  </style>\n",
              "\n",
              "      <script>\n",
              "        const buttonEl =\n",
              "          document.querySelector('#df-ae1f03fc-fd77-4efd-ac5c-445850a1635d button.colab-df-convert');\n",
              "        buttonEl.style.display =\n",
              "          google.colab.kernel.accessAllowed ? 'block' : 'none';\n",
              "\n",
              "        async function convertToInteractive(key) {\n",
              "          const element = document.querySelector('#df-ae1f03fc-fd77-4efd-ac5c-445850a1635d');\n",
              "          const dataTable =\n",
              "            await google.colab.kernel.invokeFunction('convertToInteractive',\n",
              "                                                     [key], {});\n",
              "          if (!dataTable) return;\n",
              "\n",
              "          const docLinkHtml = 'Like what you see? Visit the ' +\n",
              "            '<a target=\"_blank\" href=https://colab.research.google.com/notebooks/data_table.ipynb>data table notebook</a>'\n",
              "            + ' to learn more about interactive tables.';\n",
              "          element.innerHTML = '';\n",
              "          dataTable['output_type'] = 'display_data';\n",
              "          await google.colab.output.renderOutput(dataTable, element);\n",
              "          const docLink = document.createElement('div');\n",
              "          docLink.innerHTML = docLinkHtml;\n",
              "          element.appendChild(docLink);\n",
              "        }\n",
              "      </script>\n",
              "    </div>\n",
              "  </div>\n",
              "  "
            ]
          },
          "metadata": {},
          "execution_count": 19
        }
      ]
    },
    {
      "cell_type": "code",
      "source": [
        "#creamos la variable objetivo\n",
        "df['pobreza'].value_counts()"
      ],
      "metadata": {
        "colab": {
          "base_uri": "https://localhost:8080/"
        },
        "id": "FnekUpDzhFfn",
        "outputId": "5c1b3298-25f4-4714-b232-81e03f318fa5"
      },
      "execution_count": null,
      "outputs": [
        {
          "output_type": "execute_result",
          "data": {
            "text/plain": [
              "0    9196\n",
              "1    4259\n",
              "Name: pobreza, dtype: int64"
            ]
          },
          "metadata": {},
          "execution_count": 20
        }
      ]
    },
    {
      "cell_type": "code",
      "source": [
        "X = df.drop(['pobreza'], axis=1)\n",
        "y = df['pobreza']"
      ],
      "metadata": {
        "id": "lCiwOAM4h98B"
      },
      "execution_count": null,
      "outputs": []
    },
    {
      "cell_type": "code",
      "source": [
        "# dividir X e y en sets de entrenamiento y de prueba\n",
        "from sklearn.model_selection import train_test_split\n",
        "X_train, X_test, y_train, y_test = train_test_split(X, y, test_size = 0.3, random_state = 0)"
      ],
      "metadata": {
        "id": "uEFsPGS8iMe3"
      },
      "execution_count": null,
      "outputs": []
    },
    {
      "cell_type": "code",
      "source": [
        "# comprobar X_train y X_test\n",
        "X_train.shape, X_test.shape"
      ],
      "metadata": {
        "colab": {
          "base_uri": "https://localhost:8080/"
        },
        "id": "ZOaJed4SiQwm",
        "outputId": "2ff261d7-10c6-4f7a-9b75-8ef4ba6fb888"
      },
      "execution_count": null,
      "outputs": [
        {
          "output_type": "execute_result",
          "data": {
            "text/plain": [
              "((9418, 71), (4037, 71))"
            ]
          },
          "metadata": {},
          "execution_count": 23
        }
      ]
    },
    {
      "cell_type": "code",
      "source": [
        "cols = X_train.columns"
      ],
      "metadata": {
        "id": "dzxPbSKLiUgo"
      },
      "execution_count": null,
      "outputs": []
    },
    {
      "cell_type": "code",
      "source": [
        "from sklearn.preprocessing import MinMaxScaler\n",
        "scaler = MinMaxScaler()\n",
        "X_train = scaler.fit_transform(X_train)\n",
        "X_test = scaler.transform(X_test)"
      ],
      "metadata": {
        "id": "zAIHRZA0iXvW"
      },
      "execution_count": null,
      "outputs": []
    },
    {
      "cell_type": "code",
      "source": [
        "X_train = pd.DataFrame(X_train, columns=[cols])"
      ],
      "metadata": {
        "id": "0ehsy1xVidH2"
      },
      "execution_count": null,
      "outputs": []
    },
    {
      "cell_type": "code",
      "source": [
        "X_test = pd.DataFrame(X_test, columns=[cols])"
      ],
      "metadata": {
        "id": "En0VGKPaieUw"
      },
      "execution_count": null,
      "outputs": []
    },
    {
      "cell_type": "code",
      "source": [
        "X_train.describe()"
      ],
      "metadata": {
        "colab": {
          "base_uri": "https://localhost:8080/",
          "height": 393
        },
        "id": "BNxkEZQUigiy",
        "outputId": "50338faa-d977-4286-e44f-59047dd9e6af"
      },
      "execution_count": null,
      "outputs": [
        {
          "output_type": "execute_result",
          "data": {
            "text/plain": [
              "        AGLOMERADO          IV1          IV2          IV3          IV4  \\\n",
              "count  9418.000000  9418.000000  9418.000000  9418.000000  9418.000000   \n",
              "mean      0.246373     0.040476     0.225195     0.039888     0.238612   \n",
              "std       0.217203     0.093730     0.130666     0.117902     0.250066   \n",
              "min       0.000000     0.000000     0.000000     0.000000     0.000000   \n",
              "25%       0.109890     0.000000     0.111111     0.000000     0.000000   \n",
              "50%       0.219780     0.000000     0.222222     0.000000     0.125000   \n",
              "75%       0.329670     0.000000     0.333333     0.000000     0.375000   \n",
              "max       1.000000     1.000000     1.000000     1.000000     1.000000   \n",
              "\n",
              "               IV5          IV6          IV7          IV8       IV12_1  ...  \\\n",
              "count  9418.000000  9418.000000  9418.000000  9418.000000  9418.000000  ...   \n",
              "mean      0.134954     0.010830     0.010724     0.002867     0.942238  ...   \n",
              "std       0.341693     0.079083     0.066006     0.053469     0.233305  ...   \n",
              "min       0.000000     0.000000     0.000000     0.000000     0.000000  ...   \n",
              "25%       0.000000     0.000000     0.000000     0.000000     1.000000  ...   \n",
              "50%       0.000000     0.000000     0.000000     0.000000     1.000000  ...   \n",
              "75%       0.000000     0.000000     0.000000     0.000000     1.000000  ...   \n",
              "max       1.000000     1.000000     1.000000     1.000000     1.000000  ...   \n",
              "\n",
              "              IV10         IV11        II4_1        II4_2        II4_3  \\\n",
              "count  9418.000000  9418.000000  9418.000000  9418.000000  9418.000000   \n",
              "mean      0.019749     0.084094     0.087280     0.551709     0.680824   \n",
              "std       0.101923     0.180150     0.282259     0.497345     0.466182   \n",
              "min       0.000000     0.000000     0.000000     0.000000     0.000000   \n",
              "25%       0.000000     0.000000     0.000000     0.000000     0.000000   \n",
              "50%       0.000000     0.000000     0.000000     1.000000     1.000000   \n",
              "75%       0.000000     0.000000     0.000000     1.000000     1.000000   \n",
              "max       1.000000     1.000000     1.000000     1.000000     1.000000   \n",
              "\n",
              "               II5          II6          II7          II8          II9  \n",
              "count  9418.000000  9418.000000  9418.000000  9418.000000  9418.000000  \n",
              "mean      0.993948     0.990019     0.117979     0.129150     0.013308  \n",
              "std       0.077564     0.099410     0.200777     0.177399     0.089770  \n",
              "min       0.000000     0.000000     0.000000     0.000000     0.000000  \n",
              "25%       1.000000     1.000000     0.000000     0.000000     0.000000  \n",
              "50%       1.000000     1.000000     0.000000     0.000000     0.000000  \n",
              "75%       1.000000     1.000000     0.250000     0.333333     0.000000  \n",
              "max       1.000000     1.000000     1.000000     1.000000     1.000000  \n",
              "\n",
              "[8 rows x 71 columns]"
            ],
            "text/html": [
              "\n",
              "  <div id=\"df-72edb288-d4f6-4d9f-bb59-4b09845c63bb\">\n",
              "    <div class=\"colab-df-container\">\n",
              "      <div>\n",
              "<style scoped>\n",
              "    .dataframe tbody tr th:only-of-type {\n",
              "        vertical-align: middle;\n",
              "    }\n",
              "\n",
              "    .dataframe tbody tr th {\n",
              "        vertical-align: top;\n",
              "    }\n",
              "\n",
              "    .dataframe thead tr th {\n",
              "        text-align: left;\n",
              "    }\n",
              "</style>\n",
              "<table border=\"1\" class=\"dataframe\">\n",
              "  <thead>\n",
              "    <tr>\n",
              "      <th></th>\n",
              "      <th>AGLOMERADO</th>\n",
              "      <th>IV1</th>\n",
              "      <th>IV2</th>\n",
              "      <th>IV3</th>\n",
              "      <th>IV4</th>\n",
              "      <th>IV5</th>\n",
              "      <th>IV6</th>\n",
              "      <th>IV7</th>\n",
              "      <th>IV8</th>\n",
              "      <th>IV12_1</th>\n",
              "      <th>...</th>\n",
              "      <th>IV10</th>\n",
              "      <th>IV11</th>\n",
              "      <th>II4_1</th>\n",
              "      <th>II4_2</th>\n",
              "      <th>II4_3</th>\n",
              "      <th>II5</th>\n",
              "      <th>II6</th>\n",
              "      <th>II7</th>\n",
              "      <th>II8</th>\n",
              "      <th>II9</th>\n",
              "    </tr>\n",
              "  </thead>\n",
              "  <tbody>\n",
              "    <tr>\n",
              "      <th>count</th>\n",
              "      <td>9418.000000</td>\n",
              "      <td>9418.000000</td>\n",
              "      <td>9418.000000</td>\n",
              "      <td>9418.000000</td>\n",
              "      <td>9418.000000</td>\n",
              "      <td>9418.000000</td>\n",
              "      <td>9418.000000</td>\n",
              "      <td>9418.000000</td>\n",
              "      <td>9418.000000</td>\n",
              "      <td>9418.000000</td>\n",
              "      <td>...</td>\n",
              "      <td>9418.000000</td>\n",
              "      <td>9418.000000</td>\n",
              "      <td>9418.000000</td>\n",
              "      <td>9418.000000</td>\n",
              "      <td>9418.000000</td>\n",
              "      <td>9418.000000</td>\n",
              "      <td>9418.000000</td>\n",
              "      <td>9418.000000</td>\n",
              "      <td>9418.000000</td>\n",
              "      <td>9418.000000</td>\n",
              "    </tr>\n",
              "    <tr>\n",
              "      <th>mean</th>\n",
              "      <td>0.246373</td>\n",
              "      <td>0.040476</td>\n",
              "      <td>0.225195</td>\n",
              "      <td>0.039888</td>\n",
              "      <td>0.238612</td>\n",
              "      <td>0.134954</td>\n",
              "      <td>0.010830</td>\n",
              "      <td>0.010724</td>\n",
              "      <td>0.002867</td>\n",
              "      <td>0.942238</td>\n",
              "      <td>...</td>\n",
              "      <td>0.019749</td>\n",
              "      <td>0.084094</td>\n",
              "      <td>0.087280</td>\n",
              "      <td>0.551709</td>\n",
              "      <td>0.680824</td>\n",
              "      <td>0.993948</td>\n",
              "      <td>0.990019</td>\n",
              "      <td>0.117979</td>\n",
              "      <td>0.129150</td>\n",
              "      <td>0.013308</td>\n",
              "    </tr>\n",
              "    <tr>\n",
              "      <th>std</th>\n",
              "      <td>0.217203</td>\n",
              "      <td>0.093730</td>\n",
              "      <td>0.130666</td>\n",
              "      <td>0.117902</td>\n",
              "      <td>0.250066</td>\n",
              "      <td>0.341693</td>\n",
              "      <td>0.079083</td>\n",
              "      <td>0.066006</td>\n",
              "      <td>0.053469</td>\n",
              "      <td>0.233305</td>\n",
              "      <td>...</td>\n",
              "      <td>0.101923</td>\n",
              "      <td>0.180150</td>\n",
              "      <td>0.282259</td>\n",
              "      <td>0.497345</td>\n",
              "      <td>0.466182</td>\n",
              "      <td>0.077564</td>\n",
              "      <td>0.099410</td>\n",
              "      <td>0.200777</td>\n",
              "      <td>0.177399</td>\n",
              "      <td>0.089770</td>\n",
              "    </tr>\n",
              "    <tr>\n",
              "      <th>min</th>\n",
              "      <td>0.000000</td>\n",
              "      <td>0.000000</td>\n",
              "      <td>0.000000</td>\n",
              "      <td>0.000000</td>\n",
              "      <td>0.000000</td>\n",
              "      <td>0.000000</td>\n",
              "      <td>0.000000</td>\n",
              "      <td>0.000000</td>\n",
              "      <td>0.000000</td>\n",
              "      <td>0.000000</td>\n",
              "      <td>...</td>\n",
              "      <td>0.000000</td>\n",
              "      <td>0.000000</td>\n",
              "      <td>0.000000</td>\n",
              "      <td>0.000000</td>\n",
              "      <td>0.000000</td>\n",
              "      <td>0.000000</td>\n",
              "      <td>0.000000</td>\n",
              "      <td>0.000000</td>\n",
              "      <td>0.000000</td>\n",
              "      <td>0.000000</td>\n",
              "    </tr>\n",
              "    <tr>\n",
              "      <th>25%</th>\n",
              "      <td>0.109890</td>\n",
              "      <td>0.000000</td>\n",
              "      <td>0.111111</td>\n",
              "      <td>0.000000</td>\n",
              "      <td>0.000000</td>\n",
              "      <td>0.000000</td>\n",
              "      <td>0.000000</td>\n",
              "      <td>0.000000</td>\n",
              "      <td>0.000000</td>\n",
              "      <td>1.000000</td>\n",
              "      <td>...</td>\n",
              "      <td>0.000000</td>\n",
              "      <td>0.000000</td>\n",
              "      <td>0.000000</td>\n",
              "      <td>0.000000</td>\n",
              "      <td>0.000000</td>\n",
              "      <td>1.000000</td>\n",
              "      <td>1.000000</td>\n",
              "      <td>0.000000</td>\n",
              "      <td>0.000000</td>\n",
              "      <td>0.000000</td>\n",
              "    </tr>\n",
              "    <tr>\n",
              "      <th>50%</th>\n",
              "      <td>0.219780</td>\n",
              "      <td>0.000000</td>\n",
              "      <td>0.222222</td>\n",
              "      <td>0.000000</td>\n",
              "      <td>0.125000</td>\n",
              "      <td>0.000000</td>\n",
              "      <td>0.000000</td>\n",
              "      <td>0.000000</td>\n",
              "      <td>0.000000</td>\n",
              "      <td>1.000000</td>\n",
              "      <td>...</td>\n",
              "      <td>0.000000</td>\n",
              "      <td>0.000000</td>\n",
              "      <td>0.000000</td>\n",
              "      <td>1.000000</td>\n",
              "      <td>1.000000</td>\n",
              "      <td>1.000000</td>\n",
              "      <td>1.000000</td>\n",
              "      <td>0.000000</td>\n",
              "      <td>0.000000</td>\n",
              "      <td>0.000000</td>\n",
              "    </tr>\n",
              "    <tr>\n",
              "      <th>75%</th>\n",
              "      <td>0.329670</td>\n",
              "      <td>0.000000</td>\n",
              "      <td>0.333333</td>\n",
              "      <td>0.000000</td>\n",
              "      <td>0.375000</td>\n",
              "      <td>0.000000</td>\n",
              "      <td>0.000000</td>\n",
              "      <td>0.000000</td>\n",
              "      <td>0.000000</td>\n",
              "      <td>1.000000</td>\n",
              "      <td>...</td>\n",
              "      <td>0.000000</td>\n",
              "      <td>0.000000</td>\n",
              "      <td>0.000000</td>\n",
              "      <td>1.000000</td>\n",
              "      <td>1.000000</td>\n",
              "      <td>1.000000</td>\n",
              "      <td>1.000000</td>\n",
              "      <td>0.250000</td>\n",
              "      <td>0.333333</td>\n",
              "      <td>0.000000</td>\n",
              "    </tr>\n",
              "    <tr>\n",
              "      <th>max</th>\n",
              "      <td>1.000000</td>\n",
              "      <td>1.000000</td>\n",
              "      <td>1.000000</td>\n",
              "      <td>1.000000</td>\n",
              "      <td>1.000000</td>\n",
              "      <td>1.000000</td>\n",
              "      <td>1.000000</td>\n",
              "      <td>1.000000</td>\n",
              "      <td>1.000000</td>\n",
              "      <td>1.000000</td>\n",
              "      <td>...</td>\n",
              "      <td>1.000000</td>\n",
              "      <td>1.000000</td>\n",
              "      <td>1.000000</td>\n",
              "      <td>1.000000</td>\n",
              "      <td>1.000000</td>\n",
              "      <td>1.000000</td>\n",
              "      <td>1.000000</td>\n",
              "      <td>1.000000</td>\n",
              "      <td>1.000000</td>\n",
              "      <td>1.000000</td>\n",
              "    </tr>\n",
              "  </tbody>\n",
              "</table>\n",
              "<p>8 rows × 71 columns</p>\n",
              "</div>\n",
              "      <button class=\"colab-df-convert\" onclick=\"convertToInteractive('df-72edb288-d4f6-4d9f-bb59-4b09845c63bb')\"\n",
              "              title=\"Convert this dataframe to an interactive table.\"\n",
              "              style=\"display:none;\">\n",
              "        \n",
              "  <svg xmlns=\"http://www.w3.org/2000/svg\" height=\"24px\"viewBox=\"0 0 24 24\"\n",
              "       width=\"24px\">\n",
              "    <path d=\"M0 0h24v24H0V0z\" fill=\"none\"/>\n",
              "    <path d=\"M18.56 5.44l.94 2.06.94-2.06 2.06-.94-2.06-.94-.94-2.06-.94 2.06-2.06.94zm-11 1L8.5 8.5l.94-2.06 2.06-.94-2.06-.94L8.5 2.5l-.94 2.06-2.06.94zm10 10l.94 2.06.94-2.06 2.06-.94-2.06-.94-.94-2.06-.94 2.06-2.06.94z\"/><path d=\"M17.41 7.96l-1.37-1.37c-.4-.4-.92-.59-1.43-.59-.52 0-1.04.2-1.43.59L10.3 9.45l-7.72 7.72c-.78.78-.78 2.05 0 2.83L4 21.41c.39.39.9.59 1.41.59.51 0 1.02-.2 1.41-.59l7.78-7.78 2.81-2.81c.8-.78.8-2.07 0-2.86zM5.41 20L4 18.59l7.72-7.72 1.47 1.35L5.41 20z\"/>\n",
              "  </svg>\n",
              "      </button>\n",
              "      \n",
              "  <style>\n",
              "    .colab-df-container {\n",
              "      display:flex;\n",
              "      flex-wrap:wrap;\n",
              "      gap: 12px;\n",
              "    }\n",
              "\n",
              "    .colab-df-convert {\n",
              "      background-color: #E8F0FE;\n",
              "      border: none;\n",
              "      border-radius: 50%;\n",
              "      cursor: pointer;\n",
              "      display: none;\n",
              "      fill: #1967D2;\n",
              "      height: 32px;\n",
              "      padding: 0 0 0 0;\n",
              "      width: 32px;\n",
              "    }\n",
              "\n",
              "    .colab-df-convert:hover {\n",
              "      background-color: #E2EBFA;\n",
              "      box-shadow: 0px 1px 2px rgba(60, 64, 67, 0.3), 0px 1px 3px 1px rgba(60, 64, 67, 0.15);\n",
              "      fill: #174EA6;\n",
              "    }\n",
              "\n",
              "    [theme=dark] .colab-df-convert {\n",
              "      background-color: #3B4455;\n",
              "      fill: #D2E3FC;\n",
              "    }\n",
              "\n",
              "    [theme=dark] .colab-df-convert:hover {\n",
              "      background-color: #434B5C;\n",
              "      box-shadow: 0px 1px 3px 1px rgba(0, 0, 0, 0.15);\n",
              "      filter: drop-shadow(0px 1px 2px rgba(0, 0, 0, 0.3));\n",
              "      fill: #FFFFFF;\n",
              "    }\n",
              "  </style>\n",
              "\n",
              "      <script>\n",
              "        const buttonEl =\n",
              "          document.querySelector('#df-72edb288-d4f6-4d9f-bb59-4b09845c63bb button.colab-df-convert');\n",
              "        buttonEl.style.display =\n",
              "          google.colab.kernel.accessAllowed ? 'block' : 'none';\n",
              "\n",
              "        async function convertToInteractive(key) {\n",
              "          const element = document.querySelector('#df-72edb288-d4f6-4d9f-bb59-4b09845c63bb');\n",
              "          const dataTable =\n",
              "            await google.colab.kernel.invokeFunction('convertToInteractive',\n",
              "                                                     [key], {});\n",
              "          if (!dataTable) return;\n",
              "\n",
              "          const docLinkHtml = 'Like what you see? Visit the ' +\n",
              "            '<a target=\"_blank\" href=https://colab.research.google.com/notebooks/data_table.ipynb>data table notebook</a>'\n",
              "            + ' to learn more about interactive tables.';\n",
              "          element.innerHTML = '';\n",
              "          dataTable['output_type'] = 'display_data';\n",
              "          await google.colab.output.renderOutput(dataTable, element);\n",
              "          const docLink = document.createElement('div');\n",
              "          docLink.innerHTML = docLinkHtml;\n",
              "          element.appendChild(docLink);\n",
              "        }\n",
              "      </script>\n",
              "    </div>\n",
              "  </div>\n",
              "  "
            ]
          },
          "metadata": {},
          "execution_count": 28
        }
      ]
    },
    {
      "cell_type": "code",
      "source": [
        "# entrenamos un modelo de regresión logística en el conjunto de entrenamiento\n",
        "from sklearn.linear_model import LogisticRegression\n",
        "\n",
        "# instanciamos el modelo\n",
        "logreg = LogisticRegression(solver='liblinear', random_state=0)\n",
        "\n",
        "# ajustamos el modelo\n",
        "logreg.fit(X_train, y_train)"
      ],
      "metadata": {
        "colab": {
          "base_uri": "https://localhost:8080/"
        },
        "id": "91qm5Vm3iuZh",
        "outputId": "ee1ceec1-fdcc-48a9-add5-4775210c6eb9"
      },
      "execution_count": null,
      "outputs": [
        {
          "output_type": "execute_result",
          "data": {
            "text/plain": [
              "LogisticRegression(random_state=0, solver='liblinear')"
            ]
          },
          "metadata": {},
          "execution_count": 29
        }
      ]
    },
    {
      "cell_type": "code",
      "source": [
        "y_pred_test = logreg.predict(X_test)\n",
        "y_pred_test"
      ],
      "metadata": {
        "colab": {
          "base_uri": "https://localhost:8080/"
        },
        "id": "Tg46QwBqi0NB",
        "outputId": "aef57282-a1e5-4976-b226-0e3320888ef2"
      },
      "execution_count": null,
      "outputs": [
        {
          "output_type": "execute_result",
          "data": {
            "text/plain": [
              "array([0, 0, 0, ..., 0, 0, 1])"
            ]
          },
          "metadata": {},
          "execution_count": 30
        }
      ]
    },
    {
      "cell_type": "code",
      "source": [
        "# probabilidad de obtener la salida como 0 - sin probreza\n",
        "logreg.predict_proba(X_test)[:,0]"
      ],
      "metadata": {
        "colab": {
          "base_uri": "https://localhost:8080/"
        },
        "id": "_llsDwfni3o8",
        "outputId": "d20cecea-ae04-46c5-d95f-39218f4564e0"
      },
      "execution_count": null,
      "outputs": [
        {
          "output_type": "execute_result",
          "data": {
            "text/plain": [
              "array([0.85538865, 0.60767034, 0.85006435, ..., 0.93252727, 0.88002528,\n",
              "       0.45132463])"
            ]
          },
          "metadata": {},
          "execution_count": 31
        }
      ]
    },
    {
      "cell_type": "code",
      "source": [
        "# probabilidad de obtener la salida como 1 - pobreza\n",
        "logreg.predict_proba(X_test)[:,1]"
      ],
      "metadata": {
        "colab": {
          "base_uri": "https://localhost:8080/"
        },
        "id": "2pD2n8DAi6TE",
        "outputId": "60ebe713-8659-487f-df7c-e565fa00874d"
      },
      "execution_count": null,
      "outputs": [
        {
          "output_type": "execute_result",
          "data": {
            "text/plain": [
              "array([0.14461135, 0.39232966, 0.14993565, ..., 0.06747273, 0.11997472,\n",
              "       0.54867537])"
            ]
          },
          "metadata": {},
          "execution_count": 32
        }
      ]
    },
    {
      "cell_type": "markdown",
      "source": [
        "### **Métricas**"
      ],
      "metadata": {
        "id": "fKgmKRl1nKYK"
      }
    },
    {
      "cell_type": "code",
      "source": [
        "from sklearn.metrics import accuracy_score\n",
        "print('Model accuracy score: {0:0.4f}'. format(accuracy_score(y_test, y_pred_test)))"
      ],
      "metadata": {
        "colab": {
          "base_uri": "https://localhost:8080/"
        },
        "id": "W9kr1RHIi92U",
        "outputId": "5d9928a7-aafd-484f-b863-39c4ad284991"
      },
      "execution_count": null,
      "outputs": [
        {
          "output_type": "stream",
          "name": "stdout",
          "text": [
            "Model accuracy score: 0.8526\n"
          ]
        }
      ]
    },
    {
      "cell_type": "markdown",
      "source": [
        "**Matriz de confusión**"
      ],
      "metadata": {
        "id": "2OHpgqIYmXHt"
      }
    },
    {
      "cell_type": "code",
      "source": [
        "# Matriz de confusión\n",
        "from sklearn.metrics import confusion_matrix\n",
        "cm = confusion_matrix(y_test, y_pred_test)\n",
        "print('Confusion matrix\\n\\n', cm)\n",
        "print('\\nTrue Positives(TP) = ', cm[0,0])\n",
        "print('\\nTrue Negatives(TN) = ', cm[1,1])\n",
        "print('\\nFalse Positives(FP) = ', cm[0,1])\n",
        "print('\\nFalse Negatives(FN) = ', cm[1,0])"
      ],
      "metadata": {
        "colab": {
          "base_uri": "https://localhost:8080/"
        },
        "id": "i7-9y43zmNkj",
        "outputId": "b324ec5a-e1ab-4a53-9df8-f7c9e341a2a2"
      },
      "execution_count": null,
      "outputs": [
        {
          "output_type": "stream",
          "name": "stdout",
          "text": [
            "Confusion matrix\n",
            "\n",
            " [[2617  186]\n",
            " [ 409  825]]\n",
            "\n",
            "True Positives(TP) =  2617\n",
            "\n",
            "True Negatives(TN) =  825\n",
            "\n",
            "False Positives(FP) =  186\n",
            "\n",
            "False Negatives(FN) =  409\n"
          ]
        }
      ]
    },
    {
      "cell_type": "code",
      "source": [
        "# visualize confusion matrix with seaborn heatmap\n",
        "\n",
        "cm_matrix = pd.DataFrame(data=cm, columns=['Actual Positive:1', 'Actual Negative:0'],\n",
        "                                 index=['Predict Positive:1', 'Predict Negative:0'])\n",
        "\n",
        "sns.heatmap(cm_matrix, annot=True, fmt='d', cmap='YlGnBu')"
      ],
      "metadata": {
        "colab": {
          "base_uri": "https://localhost:8080/",
          "height": 282
        },
        "id": "L1EZfnO9mgfF",
        "outputId": "92224640-dad1-4b02-93fe-ecd8413ef05c"
      },
      "execution_count": null,
      "outputs": [
        {
          "output_type": "execute_result",
          "data": {
            "text/plain": [
              "<matplotlib.axes._subplots.AxesSubplot at 0x7fca65ed9910>"
            ]
          },
          "metadata": {},
          "execution_count": 35
        },
        {
          "output_type": "display_data",
          "data": {
            "text/plain": [
              "<Figure size 432x288 with 2 Axes>"
            ],
            "image/png": "[encoded data removed]"
          },
          "metadata": {
            "needs_background": "light"
          }
        }
      ]
    },
    {
      "cell_type": "markdown",
      "source": [
        "Podemos ver que la matriz de confusión está desbalanceada, por lo que vamos a proceder a balancear la misma."
      ],
      "metadata": {
        "id": "PSGaNWImPyb0"
      }
    },
    {
      "cell_type": "markdown",
      "source": [
        "**Balancear matriz de confusión**"
      ],
      "metadata": {
        "id": "t23zp5FYcxnq"
      }
    },
    {
      "cell_type": "code",
      "source": [
        "df.head()"
      ],
      "metadata": {
        "colab": {
          "base_uri": "https://localhost:8080/",
          "height": 235
        },
        "id": "zkJNGapZlgbO",
        "outputId": "26c33f34-c338-4237-e9bd-faca477dffbc"
      },
      "execution_count": null,
      "outputs": [
        {
          "output_type": "execute_result",
          "data": {
            "text/plain": [
              "   AGLOMERADO  IV1  IV2  IV3  IV4  IV5  IV6  IV7  IV8  IV12_1  ...  IV10  \\\n",
              "0          93    1    3    1    1    1    1    1    1       2  ...     1   \n",
              "1          93    2    2    1    4    1    1    1    1       2  ...     1   \n",
              "2          33    1    3    1    4    1    1    1    1       2  ...     2   \n",
              "3          33    2    2    1    9    1    1    1    1       2  ...     1   \n",
              "4          33    1    3    1    1    1    1    1    1       2  ...     1   \n",
              "\n",
              "   IV11  II4_1  II4_2  II4_3  II5  II6  II7  II8  II9  \n",
              "0     1      1      1      2    2    2    1    1    1  \n",
              "1     1      1      2      2    2    2    6    1    1  \n",
              "2     3      1      1      2    2    2    1    1    1  \n",
              "3     1      1      2      1    2    2    1    1    1  \n",
              "4     1      1      1      1    2    2    1    1    1  \n",
              "\n",
              "[5 rows x 72 columns]"
            ],
            "text/html": [
              "\n",
              "  <div id=\"df-a7cd217c-a1a3-46e4-af35-dad909974d60\">\n",
              "    <div class=\"colab-df-container\">\n",
              "      <div>\n",
              "<style scoped>\n",
              "    .dataframe tbody tr th:only-of-type {\n",
              "        vertical-align: middle;\n",
              "    }\n",
              "\n",
              "    .dataframe tbody tr th {\n",
              "        vertical-align: top;\n",
              "    }\n",
              "\n",
              "    .dataframe thead th {\n",
              "        text-align: right;\n",
              "    }\n",
              "</style>\n",
              "<table border=\"1\" class=\"dataframe\">\n",
              "  <thead>\n",
              "    <tr style=\"text-align: right;\">\n",
              "      <th></th>\n",
              "      <th>AGLOMERADO</th>\n",
              "      <th>IV1</th>\n",
              "      <th>IV2</th>\n",
              "      <th>IV3</th>\n",
              "      <th>IV4</th>\n",
              "      <th>IV5</th>\n",
              "      <th>IV6</th>\n",
              "      <th>IV7</th>\n",
              "      <th>IV8</th>\n",
              "      <th>IV12_1</th>\n",
              "      <th>...</th>\n",
              "      <th>IV10</th>\n",
              "      <th>IV11</th>\n",
              "      <th>II4_1</th>\n",
              "      <th>II4_2</th>\n",
              "      <th>II4_3</th>\n",
              "      <th>II5</th>\n",
              "      <th>II6</th>\n",
              "      <th>II7</th>\n",
              "      <th>II8</th>\n",
              "      <th>II9</th>\n",
              "    </tr>\n",
              "  </thead>\n",
              "  <tbody>\n",
              "    <tr>\n",
              "      <th>0</th>\n",
              "      <td>93</td>\n",
              "      <td>1</td>\n",
              "      <td>3</td>\n",
              "      <td>1</td>\n",
              "      <td>1</td>\n",
              "      <td>1</td>\n",
              "      <td>1</td>\n",
              "      <td>1</td>\n",
              "      <td>1</td>\n",
              "      <td>2</td>\n",
              "      <td>...</td>\n",
              "      <td>1</td>\n",
              "      <td>1</td>\n",
              "      <td>1</td>\n",
              "      <td>1</td>\n",
              "      <td>2</td>\n",
              "      <td>2</td>\n",
              "      <td>2</td>\n",
              "      <td>1</td>\n",
              "      <td>1</td>\n",
              "      <td>1</td>\n",
              "    </tr>\n",
              "    <tr>\n",
              "      <th>1</th>\n",
              "      <td>93</td>\n",
              "      <td>2</td>\n",
              "      <td>2</td>\n",
              "      <td>1</td>\n",
              "      <td>4</td>\n",
              "      <td>1</td>\n",
              "      <td>1</td>\n",
              "      <td>1</td>\n",
              "      <td>1</td>\n",
              "      <td>2</td>\n",
              "      <td>...</td>\n",
              "      <td>1</td>\n",
              "      <td>1</td>\n",
              "      <td>1</td>\n",
              "      <td>2</td>\n",
              "      <td>2</td>\n",
              "      <td>2</td>\n",
              "      <td>2</td>\n",
              "      <td>6</td>\n",
              "      <td>1</td>\n",
              "      <td>1</td>\n",
              "    </tr>\n",
              "    <tr>\n",
              "      <th>2</th>\n",
              "      <td>33</td>\n",
              "      <td>1</td>\n",
              "      <td>3</td>\n",
              "      <td>1</td>\n",
              "      <td>4</td>\n",
              "      <td>1</td>\n",
              "      <td>1</td>\n",
              "      <td>1</td>\n",
              "      <td>1</td>\n",
              "      <td>2</td>\n",
              "      <td>...</td>\n",
              "      <td>2</td>\n",
              "      <td>3</td>\n",
              "      <td>1</td>\n",
              "      <td>1</td>\n",
              "      <td>2</td>\n",
              "      <td>2</td>\n",
              "      <td>2</td>\n",
              "      <td>1</td>\n",
              "      <td>1</td>\n",
              "      <td>1</td>\n",
              "    </tr>\n",
              "    <tr>\n",
              "      <th>3</th>\n",
              "      <td>33</td>\n",
              "      <td>2</td>\n",
              "      <td>2</td>\n",
              "      <td>1</td>\n",
              "      <td>9</td>\n",
              "      <td>1</td>\n",
              "      <td>1</td>\n",
              "      <td>1</td>\n",
              "      <td>1</td>\n",
              "      <td>2</td>\n",
              "      <td>...</td>\n",
              "      <td>1</td>\n",
              "      <td>1</td>\n",
              "      <td>1</td>\n",
              "      <td>2</td>\n",
              "      <td>1</td>\n",
              "      <td>2</td>\n",
              "      <td>2</td>\n",
              "      <td>1</td>\n",
              "      <td>1</td>\n",
              "      <td>1</td>\n",
              "    </tr>\n",
              "    <tr>\n",
              "      <th>4</th>\n",
              "      <td>33</td>\n",
              "      <td>1</td>\n",
              "      <td>3</td>\n",
              "      <td>1</td>\n",
              "      <td>1</td>\n",
              "      <td>1</td>\n",
              "      <td>1</td>\n",
              "      <td>1</td>\n",
              "      <td>1</td>\n",
              "      <td>2</td>\n",
              "      <td>...</td>\n",
              "      <td>1</td>\n",
              "      <td>1</td>\n",
              "      <td>1</td>\n",
              "      <td>1</td>\n",
              "      <td>1</td>\n",
              "      <td>2</td>\n",
              "      <td>2</td>\n",
              "      <td>1</td>\n",
              "      <td>1</td>\n",
              "      <td>1</td>\n",
              "    </tr>\n",
              "  </tbody>\n",
              "</table>\n",
              "<p>5 rows × 72 columns</p>\n",
              "</div>\n",
              "      <button class=\"colab-df-convert\" onclick=\"convertToInteractive('df-a7cd217c-a1a3-46e4-af35-dad909974d60')\"\n",
              "              title=\"Convert this dataframe to an interactive table.\"\n",
              "              style=\"display:none;\">\n",
              "        \n",
              "  <svg xmlns=\"http://www.w3.org/2000/svg\" height=\"24px\"viewBox=\"0 0 24 24\"\n",
              "       width=\"24px\">\n",
              "    <path d=\"M0 0h24v24H0V0z\" fill=\"none\"/>\n",
              "    <path d=\"M18.56 5.44l.94 2.06.94-2.06 2.06-.94-2.06-.94-.94-2.06-.94 2.06-2.06.94zm-11 1L8.5 8.5l.94-2.06 2.06-.94-2.06-.94L8.5 2.5l-.94 2.06-2.06.94zm10 10l.94 2.06.94-2.06 2.06-.94-2.06-.94-.94-2.06-.94 2.06-2.06.94z\"/><path d=\"M17.41 7.96l-1.37-1.37c-.4-.4-.92-.59-1.43-.59-.52 0-1.04.2-1.43.59L10.3 9.45l-7.72 7.72c-.78.78-.78 2.05 0 2.83L4 21.41c.39.39.9.59 1.41.59.51 0 1.02-.2 1.41-.59l7.78-7.78 2.81-2.81c.8-.78.8-2.07 0-2.86zM5.41 20L4 18.59l7.72-7.72 1.47 1.35L5.41 20z\"/>\n",
              "  </svg>\n",
              "      </button>\n",
              "      \n",
              "  <style>\n",
              "    .colab-df-container {\n",
              "      display:flex;\n",
              "      flex-wrap:wrap;\n",
              "      gap: 12px;\n",
              "    }\n",
              "\n",
              "    .colab-df-convert {\n",
              "      background-color: #E8F0FE;\n",
              "      border: none;\n",
              "      border-radius: 50%;\n",
              "      cursor: pointer;\n",
              "      display: none;\n",
              "      fill: #1967D2;\n",
              "      height: 32px;\n",
              "      padding: 0 0 0 0;\n",
              "      width: 32px;\n",
              "    }\n",
              "\n",
              "    .colab-df-convert:hover {\n",
              "      background-color: #E2EBFA;\n",
              "      box-shadow: 0px 1px 2px rgba(60, 64, 67, 0.3), 0px 1px 3px 1px rgba(60, 64, 67, 0.15);\n",
              "      fill: #174EA6;\n",
              "    }\n",
              "\n",
              "    [theme=dark] .colab-df-convert {\n",
              "      background-color: #3B4455;\n",
              "      fill: #D2E3FC;\n",
              "    }\n",
              "\n",
              "    [theme=dark] .colab-df-convert:hover {\n",
              "      background-color: #434B5C;\n",
              "      box-shadow: 0px 1px 3px 1px rgba(0, 0, 0, 0.15);\n",
              "      filter: drop-shadow(0px 1px 2px rgba(0, 0, 0, 0.3));\n",
              "      fill: #FFFFFF;\n",
              "    }\n",
              "  </style>\n",
              "\n",
              "      <script>\n",
              "        const buttonEl =\n",
              "          document.querySelector('#df-a7cd217c-a1a3-46e4-af35-dad909974d60 button.colab-df-convert');\n",
              "        buttonEl.style.display =\n",
              "          google.colab.kernel.accessAllowed ? 'block' : 'none';\n",
              "\n",
              "        async function convertToInteractive(key) {\n",
              "          const element = document.querySelector('#df-a7cd217c-a1a3-46e4-af35-dad909974d60');\n",
              "          const dataTable =\n",
              "            await google.colab.kernel.invokeFunction('convertToInteractive',\n",
              "                                                     [key], {});\n",
              "          if (!dataTable) return;\n",
              "\n",
              "          const docLinkHtml = 'Like what you see? Visit the ' +\n",
              "            '<a target=\"_blank\" href=https://colab.research.google.com/notebooks/data_table.ipynb>data table notebook</a>'\n",
              "            + ' to learn more about interactive tables.';\n",
              "          element.innerHTML = '';\n",
              "          dataTable['output_type'] = 'display_data';\n",
              "          await google.colab.output.renderOutput(dataTable, element);\n",
              "          const docLink = document.createElement('div');\n",
              "          docLink.innerHTML = docLinkHtml;\n",
              "          element.appendChild(docLink);\n",
              "        }\n",
              "      </script>\n",
              "    </div>\n",
              "  </div>\n",
              "  "
            ]
          },
          "metadata": {},
          "execution_count": 36
        }
      ]
    },
    {
      "cell_type": "code",
      "source": [
        "df['pobreza'].value_counts()"
      ],
      "metadata": {
        "colab": {
          "base_uri": "https://localhost:8080/"
        },
        "id": "N3f-KW2vkgef",
        "outputId": "40907a61-8605-4ea5-8790-5d576534389d"
      },
      "execution_count": null,
      "outputs": [
        {
          "output_type": "execute_result",
          "data": {
            "text/plain": [
              "0    9196\n",
              "1    4259\n",
              "Name: pobreza, dtype: int64"
            ]
          },
          "metadata": {},
          "execution_count": 37
        }
      ]
    },
    {
      "cell_type": "code",
      "source": [
        "from sklearn.utils import resample"
      ],
      "metadata": {
        "id": "blrGxYoRknml"
      },
      "execution_count": null,
      "outputs": []
    },
    {
      "cell_type": "code",
      "source": [
        "# Separamos las clases\n",
        "df_majority = df[df.pobreza==0]\n",
        "df_minority = df[df.pobreza==1]\n",
        "\n",
        "# Upsample minority class\n",
        "df_majority_upsampled = resample(df_majority,\n",
        "                                 replace=True,     # sample with replacement\n",
        "                                 n_samples=4259,    # to match majority class\n",
        "                                 random_state=0) # reproducible results\n",
        "\n",
        "# Combinamos majority class con upsampled minority class\n",
        "df_upsampled = pd.concat([df_minority, df_majority_upsampled])\n",
        "\n"
      ],
      "metadata": {
        "id": "91_cMK6-koed"
      },
      "execution_count": null,
      "outputs": []
    },
    {
      "cell_type": "code",
      "source": [
        "df_upsampled.pobreza.value_counts()"
      ],
      "metadata": {
        "colab": {
          "base_uri": "https://localhost:8080/"
        },
        "id": "GXd3fA4Okojf",
        "outputId": "cbc2d25e-ae94-41e4-9f4e-ccca81326fa2"
      },
      "execution_count": null,
      "outputs": [
        {
          "output_type": "execute_result",
          "data": {
            "text/plain": [
              "1    4259\n",
              "0    4259\n",
              "Name: pobreza, dtype: int64"
            ]
          },
          "metadata": {},
          "execution_count": 40
        }
      ]
    },
    {
      "cell_type": "code",
      "source": [
        "X = df_upsampled.drop(['pobreza'], axis=1)\n",
        "y = df_upsampled['pobreza']"
      ],
      "metadata": {
        "id": "SpwQeuPDkomA"
      },
      "execution_count": null,
      "outputs": []
    },
    {
      "cell_type": "code",
      "source": [
        "X_train, X_test, y_train, y_test = train_test_split(X, y, test_size = 0.3, random_state = 0)"
      ],
      "metadata": {
        "id": "2r02t6-OlUTy"
      },
      "execution_count": null,
      "outputs": []
    },
    {
      "cell_type": "code",
      "source": [
        "# chequeamos\n",
        "X_train.shape, X_test.shape"
      ],
      "metadata": {
        "colab": {
          "base_uri": "https://localhost:8080/"
        },
        "id": "gBZPh23QlUd6",
        "outputId": "cd518842-8bd5-4114-e555-30e5a7eaa9a3"
      },
      "execution_count": null,
      "outputs": [
        {
          "output_type": "execute_result",
          "data": {
            "text/plain": [
              "((5962, 71), (2556, 71))"
            ]
          },
          "metadata": {},
          "execution_count": 43
        }
      ]
    },
    {
      "cell_type": "code",
      "source": [
        "cols = X_train.columns"
      ],
      "metadata": {
        "id": "5ZllgnQYlUk7"
      },
      "execution_count": null,
      "outputs": []
    },
    {
      "cell_type": "code",
      "source": [
        "scaler = MinMaxScaler()\n",
        "X_train = scaler.fit_transform(X_train)\n",
        "X_test = scaler.transform(X_test)"
      ],
      "metadata": {
        "id": "uYfBYpuXlUsf"
      },
      "execution_count": null,
      "outputs": []
    },
    {
      "cell_type": "code",
      "source": [
        "X_train = pd.DataFrame(X_train, columns=[cols])"
      ],
      "metadata": {
        "id": "PUs0LKyvlUxZ"
      },
      "execution_count": null,
      "outputs": []
    },
    {
      "cell_type": "code",
      "source": [
        "X_test = pd.DataFrame(X_test, columns=[cols])"
      ],
      "metadata": {
        "id": "r_-hD45MlU0U"
      },
      "execution_count": null,
      "outputs": []
    },
    {
      "cell_type": "code",
      "source": [
        "X_train.describe()"
      ],
      "metadata": {
        "colab": {
          "base_uri": "https://localhost:8080/",
          "height": 393
        },
        "id": "6bl5pEDEmOfu",
        "outputId": "909f8e43-309d-45e5-9914-7456f2e9c4ea"
      },
      "execution_count": null,
      "outputs": [
        {
          "output_type": "execute_result",
          "data": {
            "text/plain": [
              "        AGLOMERADO          IV1          IV2          IV3          IV4  \\\n",
              "count  5962.000000  5962.000000  5962.000000  5962.000000  5962.000000   \n",
              "mean      0.239580     0.038443     0.227850     0.049592     0.238343   \n",
              "std       0.206621     0.094033     0.133029     0.128585     0.237814   \n",
              "min       0.000000     0.000000     0.000000     0.000000     0.000000   \n",
              "25%       0.109890     0.000000     0.111111     0.000000     0.000000   \n",
              "50%       0.219780     0.000000     0.222222     0.000000     0.125000   \n",
              "75%       0.318681     0.000000     0.333333     0.000000     0.375000   \n",
              "max       1.000000     1.000000     1.000000     1.000000     1.000000   \n",
              "\n",
              "               IV5          IV6          IV7          IV8       IV12_1  ...  \\\n",
              "count  5962.000000  5962.000000  5962.000000  5962.000000  5962.000000  ...   \n",
              "mean      0.154311     0.014844     0.011014     0.004025     0.935592  ...   \n",
              "std       0.361277     0.092439     0.068057     0.063324     0.245499  ...   \n",
              "min       0.000000     0.000000     0.000000     0.000000     0.000000  ...   \n",
              "25%       0.000000     0.000000     0.000000     0.000000     1.000000  ...   \n",
              "50%       0.000000     0.000000     0.000000     0.000000     1.000000  ...   \n",
              "75%       0.000000     0.000000     0.000000     0.000000     1.000000  ...   \n",
              "max       1.000000     1.000000     1.000000     1.000000     1.000000  ...   \n",
              "\n",
              "              IV10         IV11        II4_1        II4_2        II4_3  \\\n",
              "count  5962.000000  5962.000000  5962.000000  5962.000000  5962.000000   \n",
              "mean      0.028598     0.093593     0.097786     0.573465     0.696578   \n",
              "std       0.121760     0.189865     0.297050     0.494615     0.459774   \n",
              "min       0.000000     0.000000     0.000000     0.000000     0.000000   \n",
              "25%       0.000000     0.000000     0.000000     0.000000     0.000000   \n",
              "50%       0.000000     0.000000     0.000000     1.000000     1.000000   \n",
              "75%       0.000000     0.000000     0.000000     1.000000     1.000000   \n",
              "max       1.000000     1.000000     1.000000     1.000000     1.000000   \n",
              "\n",
              "               II5          II6          II7          II8          II9  \n",
              "count  5962.000000  5962.000000  5962.000000  5962.000000  5962.000000  \n",
              "mean      0.992452     0.987756     0.119738     0.146539     0.015767  \n",
              "std       0.086557     0.109983     0.205471     0.178259     0.098703  \n",
              "min       0.000000     0.000000     0.000000     0.000000     0.000000  \n",
              "25%       1.000000     1.000000     0.000000     0.000000     0.000000  \n",
              "50%       1.000000     1.000000     0.000000     0.000000     0.000000  \n",
              "75%       1.000000     1.000000     0.250000     0.333333     0.000000  \n",
              "max       1.000000     1.000000     1.000000     1.000000     1.000000  \n",
              "\n",
              "[8 rows x 71 columns]"
            ],
            "text/html": [
              "\n",
              "  <div id=\"df-32681138-e764-4f72-8aaf-51dc37a0d09f\">\n",
              "    <div class=\"colab-df-container\">\n",
              "      <div>\n",
              "<style scoped>\n",
              "    .dataframe tbody tr th:only-of-type {\n",
              "        vertical-align: middle;\n",
              "    }\n",
              "\n",
              "    .dataframe tbody tr th {\n",
              "        vertical-align: top;\n",
              "    }\n",
              "\n",
              "    .dataframe thead tr th {\n",
              "        text-align: left;\n",
              "    }\n",
              "</style>\n",
              "<table border=\"1\" class=\"dataframe\">\n",
              "  <thead>\n",
              "    <tr>\n",
              "      <th></th>\n",
              "      <th>AGLOMERADO</th>\n",
              "      <th>IV1</th>\n",
              "      <th>IV2</th>\n",
              "      <th>IV3</th>\n",
              "      <th>IV4</th>\n",
              "      <th>IV5</th>\n",
              "      <th>IV6</th>\n",
              "      <th>IV7</th>\n",
              "      <th>IV8</th>\n",
              "      <th>IV12_1</th>\n",
              "      <th>...</th>\n",
              "      <th>IV10</th>\n",
              "      <th>IV11</th>\n",
              "      <th>II4_1</th>\n",
              "      <th>II4_2</th>\n",
              "      <th>II4_3</th>\n",
              "      <th>II5</th>\n",
              "      <th>II6</th>\n",
              "      <th>II7</th>\n",
              "      <th>II8</th>\n",
              "      <th>II9</th>\n",
              "    </tr>\n",
              "  </thead>\n",
              "  <tbody>\n",
              "    <tr>\n",
              "      <th>count</th>\n",
              "      <td>5962.000000</td>\n",
              "      <td>5962.000000</td>\n",
              "      <td>5962.000000</td>\n",
              "      <td>5962.000000</td>\n",
              "      <td>5962.000000</td>\n",
              "      <td>5962.000000</td>\n",
              "      <td>5962.000000</td>\n",
              "      <td>5962.000000</td>\n",
              "      <td>5962.000000</td>\n",
              "      <td>5962.000000</td>\n",
              "      <td>...</td>\n",
              "      <td>5962.000000</td>\n",
              "      <td>5962.000000</td>\n",
              "      <td>5962.000000</td>\n",
              "      <td>5962.000000</td>\n",
              "      <td>5962.000000</td>\n",
              "      <td>5962.000000</td>\n",
              "      <td>5962.000000</td>\n",
              "      <td>5962.000000</td>\n",
              "      <td>5962.000000</td>\n",
              "      <td>5962.000000</td>\n",
              "    </tr>\n",
              "    <tr>\n",
              "      <th>mean</th>\n",
              "      <td>0.239580</td>\n",
              "      <td>0.038443</td>\n",
              "      <td>0.227850</td>\n",
              "      <td>0.049592</td>\n",
              "      <td>0.238343</td>\n",
              "      <td>0.154311</td>\n",
              "      <td>0.014844</td>\n",
              "      <td>0.011014</td>\n",
              "      <td>0.004025</td>\n",
              "      <td>0.935592</td>\n",
              "      <td>...</td>\n",
              "      <td>0.028598</td>\n",
              "      <td>0.093593</td>\n",
              "      <td>0.097786</td>\n",
              "      <td>0.573465</td>\n",
              "      <td>0.696578</td>\n",
              "      <td>0.992452</td>\n",
              "      <td>0.987756</td>\n",
              "      <td>0.119738</td>\n",
              "      <td>0.146539</td>\n",
              "      <td>0.015767</td>\n",
              "    </tr>\n",
              "    <tr>\n",
              "      <th>std</th>\n",
              "      <td>0.206621</td>\n",
              "      <td>0.094033</td>\n",
              "      <td>0.133029</td>\n",
              "      <td>0.128585</td>\n",
              "      <td>0.237814</td>\n",
              "      <td>0.361277</td>\n",
              "      <td>0.092439</td>\n",
              "      <td>0.068057</td>\n",
              "      <td>0.063324</td>\n",
              "      <td>0.245499</td>\n",
              "      <td>...</td>\n",
              "      <td>0.121760</td>\n",
              "      <td>0.189865</td>\n",
              "      <td>0.297050</td>\n",
              "      <td>0.494615</td>\n",
              "      <td>0.459774</td>\n",
              "      <td>0.086557</td>\n",
              "      <td>0.109983</td>\n",
              "      <td>0.205471</td>\n",
              "      <td>0.178259</td>\n",
              "      <td>0.098703</td>\n",
              "    </tr>\n",
              "    <tr>\n",
              "      <th>min</th>\n",
              "      <td>0.000000</td>\n",
              "      <td>0.000000</td>\n",
              "      <td>0.000000</td>\n",
              "      <td>0.000000</td>\n",
              "      <td>0.000000</td>\n",
              "      <td>0.000000</td>\n",
              "      <td>0.000000</td>\n",
              "      <td>0.000000</td>\n",
              "      <td>0.000000</td>\n",
              "      <td>0.000000</td>\n",
              "      <td>...</td>\n",
              "      <td>0.000000</td>\n",
              "      <td>0.000000</td>\n",
              "      <td>0.000000</td>\n",
              "      <td>0.000000</td>\n",
              "      <td>0.000000</td>\n",
              "      <td>0.000000</td>\n",
              "      <td>0.000000</td>\n",
              "      <td>0.000000</td>\n",
              "      <td>0.000000</td>\n",
              "      <td>0.000000</td>\n",
              "    </tr>\n",
              "    <tr>\n",
              "      <th>25%</th>\n",
              "      <td>0.109890</td>\n",
              "      <td>0.000000</td>\n",
              "      <td>0.111111</td>\n",
              "      <td>0.000000</td>\n",
              "      <td>0.000000</td>\n",
              "      <td>0.000000</td>\n",
              "      <td>0.000000</td>\n",
              "      <td>0.000000</td>\n",
              "      <td>0.000000</td>\n",
              "      <td>1.000000</td>\n",
              "      <td>...</td>\n",
              "      <td>0.000000</td>\n",
              "      <td>0.000000</td>\n",
              "      <td>0.000000</td>\n",
              "      <td>0.000000</td>\n",
              "      <td>0.000000</td>\n",
              "      <td>1.000000</td>\n",
              "      <td>1.000000</td>\n",
              "      <td>0.000000</td>\n",
              "      <td>0.000000</td>\n",
              "      <td>0.000000</td>\n",
              "    </tr>\n",
              "    <tr>\n",
              "      <th>50%</th>\n",
              "      <td>0.219780</td>\n",
              "      <td>0.000000</td>\n",
              "      <td>0.222222</td>\n",
              "      <td>0.000000</td>\n",
              "      <td>0.125000</td>\n",
              "      <td>0.000000</td>\n",
              "      <td>0.000000</td>\n",
              "      <td>0.000000</td>\n",
              "      <td>0.000000</td>\n",
              "      <td>1.000000</td>\n",
              "      <td>...</td>\n",
              "      <td>0.000000</td>\n",
              "      <td>0.000000</td>\n",
              "      <td>0.000000</td>\n",
              "      <td>1.000000</td>\n",
              "      <td>1.000000</td>\n",
              "      <td>1.000000</td>\n",
              "      <td>1.000000</td>\n",
              "      <td>0.000000</td>\n",
              "      <td>0.000000</td>\n",
              "      <td>0.000000</td>\n",
              "    </tr>\n",
              "    <tr>\n",
              "      <th>75%</th>\n",
              "      <td>0.318681</td>\n",
              "      <td>0.000000</td>\n",
              "      <td>0.333333</td>\n",
              "      <td>0.000000</td>\n",
              "      <td>0.375000</td>\n",
              "      <td>0.000000</td>\n",
              "      <td>0.000000</td>\n",
              "      <td>0.000000</td>\n",
              "      <td>0.000000</td>\n",
              "      <td>1.000000</td>\n",
              "      <td>...</td>\n",
              "      <td>0.000000</td>\n",
              "      <td>0.000000</td>\n",
              "      <td>0.000000</td>\n",
              "      <td>1.000000</td>\n",
              "      <td>1.000000</td>\n",
              "      <td>1.000000</td>\n",
              "      <td>1.000000</td>\n",
              "      <td>0.250000</td>\n",
              "      <td>0.333333</td>\n",
              "      <td>0.000000</td>\n",
              "    </tr>\n",
              "    <tr>\n",
              "      <th>max</th>\n",
              "      <td>1.000000</td>\n",
              "      <td>1.000000</td>\n",
              "      <td>1.000000</td>\n",
              "      <td>1.000000</td>\n",
              "      <td>1.000000</td>\n",
              "      <td>1.000000</td>\n",
              "      <td>1.000000</td>\n",
              "      <td>1.000000</td>\n",
              "      <td>1.000000</td>\n",
              "      <td>1.000000</td>\n",
              "      <td>...</td>\n",
              "      <td>1.000000</td>\n",
              "      <td>1.000000</td>\n",
              "      <td>1.000000</td>\n",
              "      <td>1.000000</td>\n",
              "      <td>1.000000</td>\n",
              "      <td>1.000000</td>\n",
              "      <td>1.000000</td>\n",
              "      <td>1.000000</td>\n",
              "      <td>1.000000</td>\n",
              "      <td>1.000000</td>\n",
              "    </tr>\n",
              "  </tbody>\n",
              "</table>\n",
              "<p>8 rows × 71 columns</p>\n",
              "</div>\n",
              "      <button class=\"colab-df-convert\" onclick=\"convertToInteractive('df-32681138-e764-4f72-8aaf-51dc37a0d09f')\"\n",
              "              title=\"Convert this dataframe to an interactive table.\"\n",
              "              style=\"display:none;\">\n",
              "        \n",
              "  <svg xmlns=\"http://www.w3.org/2000/svg\" height=\"24px\"viewBox=\"0 0 24 24\"\n",
              "       width=\"24px\">\n",
              "    <path d=\"M0 0h24v24H0V0z\" fill=\"none\"/>\n",
              "    <path d=\"M18.56 5.44l.94 2.06.94-2.06 2.06-.94-2.06-.94-.94-2.06-.94 2.06-2.06.94zm-11 1L8.5 8.5l.94-2.06 2.06-.94-2.06-.94L8.5 2.5l-.94 2.06-2.06.94zm10 10l.94 2.06.94-2.06 2.06-.94-2.06-.94-.94-2.06-.94 2.06-2.06.94z\"/><path d=\"M17.41 7.96l-1.37-1.37c-.4-.4-.92-.59-1.43-.59-.52 0-1.04.2-1.43.59L10.3 9.45l-7.72 7.72c-.78.78-.78 2.05 0 2.83L4 21.41c.39.39.9.59 1.41.59.51 0 1.02-.2 1.41-.59l7.78-7.78 2.81-2.81c.8-.78.8-2.07 0-2.86zM5.41 20L4 18.59l7.72-7.72 1.47 1.35L5.41 20z\"/>\n",
              "  </svg>\n",
              "      </button>\n",
              "      \n",
              "  <style>\n",
              "    .colab-df-container {\n",
              "      display:flex;\n",
              "      flex-wrap:wrap;\n",
              "      gap: 12px;\n",
              "    }\n",
              "\n",
              "    .colab-df-convert {\n",
              "      background-color: #E8F0FE;\n",
              "      border: none;\n",
              "      border-radius: 50%;\n",
              "      cursor: pointer;\n",
              "      display: none;\n",
              "      fill: #1967D2;\n",
              "      height: 32px;\n",
              "      padding: 0 0 0 0;\n",
              "      width: 32px;\n",
              "    }\n",
              "\n",
              "    .colab-df-convert:hover {\n",
              "      background-color: #E2EBFA;\n",
              "      box-shadow: 0px 1px 2px rgba(60, 64, 67, 0.3), 0px 1px 3px 1px rgba(60, 64, 67, 0.15);\n",
              "      fill: #174EA6;\n",
              "    }\n",
              "\n",
              "    [theme=dark] .colab-df-convert {\n",
              "      background-color: #3B4455;\n",
              "      fill: #D2E3FC;\n",
              "    }\n",
              "\n",
              "    [theme=dark] .colab-df-convert:hover {\n",
              "      background-color: #434B5C;\n",
              "      box-shadow: 0px 1px 3px 1px rgba(0, 0, 0, 0.15);\n",
              "      filter: drop-shadow(0px 1px 2px rgba(0, 0, 0, 0.3));\n",
              "      fill: #FFFFFF;\n",
              "    }\n",
              "  </style>\n",
              "\n",
              "      <script>\n",
              "        const buttonEl =\n",
              "          document.querySelector('#df-32681138-e764-4f72-8aaf-51dc37a0d09f button.colab-df-convert');\n",
              "        buttonEl.style.display =\n",
              "          google.colab.kernel.accessAllowed ? 'block' : 'none';\n",
              "\n",
              "        async function convertToInteractive(key) {\n",
              "          const element = document.querySelector('#df-32681138-e764-4f72-8aaf-51dc37a0d09f');\n",
              "          const dataTable =\n",
              "            await google.colab.kernel.invokeFunction('convertToInteractive',\n",
              "                                                     [key], {});\n",
              "          if (!dataTable) return;\n",
              "\n",
              "          const docLinkHtml = 'Like what you see? Visit the ' +\n",
              "            '<a target=\"_blank\" href=https://colab.research.google.com/notebooks/data_table.ipynb>data table notebook</a>'\n",
              "            + ' to learn more about interactive tables.';\n",
              "          element.innerHTML = '';\n",
              "          dataTable['output_type'] = 'display_data';\n",
              "          await google.colab.output.renderOutput(dataTable, element);\n",
              "          const docLink = document.createElement('div');\n",
              "          docLink.innerHTML = docLinkHtml;\n",
              "          element.appendChild(docLink);\n",
              "        }\n",
              "      </script>\n",
              "    </div>\n",
              "  </div>\n",
              "  "
            ]
          },
          "metadata": {},
          "execution_count": 48
        }
      ]
    },
    {
      "cell_type": "code",
      "source": [
        "# instanciamos con matriz balanceada\n",
        "logreg = LogisticRegression(solver='liblinear', random_state=0)\n",
        "\n",
        "# modelo\n",
        "logreg.fit(X_train, y_train)"
      ],
      "metadata": {
        "colab": {
          "base_uri": "https://localhost:8080/"
        },
        "id": "aIZ2-fWOmOo0",
        "outputId": "56c5ac47-baab-4ce3-e4f6-9465bae5741c"
      },
      "execution_count": null,
      "outputs": [
        {
          "output_type": "execute_result",
          "data": {
            "text/plain": [
              "LogisticRegression(random_state=0, solver='liblinear')"
            ]
          },
          "metadata": {},
          "execution_count": 50
        }
      ]
    },
    {
      "cell_type": "code",
      "source": [
        "y_pred_test = logreg.predict(X_test)\n",
        "y_pred_test"
      ],
      "metadata": {
        "colab": {
          "base_uri": "https://localhost:8080/"
        },
        "id": "bOTBcrUwmqP7",
        "outputId": "25624315-129d-4c84-86d6-b022b682607b"
      },
      "execution_count": null,
      "outputs": [
        {
          "output_type": "execute_result",
          "data": {
            "text/plain": [
              "array([1, 1, 0, ..., 1, 0, 1])"
            ]
          },
          "metadata": {},
          "execution_count": 51
        }
      ]
    },
    {
      "cell_type": "code",
      "source": [
        "# probabilidad 0 - no probreza\n",
        "logreg.predict_proba(X_test)[:,0]"
      ],
      "metadata": {
        "colab": {
          "base_uri": "https://localhost:8080/"
        },
        "id": "OOXTu50CmOuG",
        "outputId": "cec571ee-4bfe-498e-8e0c-d582070cb882"
      },
      "execution_count": null,
      "outputs": [
        {
          "output_type": "execute_result",
          "data": {
            "text/plain": [
              "array([0.37020683, 0.0756605 , 0.55204541, ..., 0.02921043, 0.65802469,\n",
              "       0.07026045])"
            ]
          },
          "metadata": {},
          "execution_count": 52
        }
      ]
    },
    {
      "cell_type": "code",
      "source": [
        "# probabilidad 1 - pobreza\n",
        "logreg.predict_proba(X_test)[:,1]"
      ],
      "metadata": {
        "colab": {
          "base_uri": "https://localhost:8080/"
        },
        "id": "GK1n8ttAmOyu",
        "outputId": "5dcc78a8-7a01-4c26-fe3b-c74c47d7e1b3"
      },
      "execution_count": null,
      "outputs": [
        {
          "output_type": "execute_result",
          "data": {
            "text/plain": [
              "array([0.62979317, 0.9243395 , 0.44795459, ..., 0.97078957, 0.34197531,\n",
              "       0.92973955])"
            ]
          },
          "metadata": {},
          "execution_count": 53
        }
      ]
    },
    {
      "cell_type": "markdown",
      "source": [
        "### **Métricas - matriz balanceada**"
      ],
      "metadata": {
        "id": "a6MxO6N5nVfp"
      }
    },
    {
      "cell_type": "code",
      "source": [
        "#from sklearn.metrics import accuracy_score\n",
        "print('Model accuracy score: {0:0.4f}'. format(accuracy_score(y_test, y_pred_test)))"
      ],
      "metadata": {
        "colab": {
          "base_uri": "https://localhost:8080/"
        },
        "id": "VO9Z-sHVmO2q",
        "outputId": "6fa52559-bec2-42dc-8b46-e74db8f728e9"
      },
      "execution_count": null,
      "outputs": [
        {
          "output_type": "stream",
          "name": "stdout",
          "text": [
            "Model accuracy score: 0.8337\n"
          ]
        }
      ]
    },
    {
      "cell_type": "markdown",
      "source": [
        "**Matriz de confusión**"
      ],
      "metadata": {
        "id": "cAzPI4y1ooa6"
      }
    },
    {
      "cell_type": "code",
      "source": [
        "# Matriz de confusión\n",
        "#from sklearn.metrics import confusion_matrix\n",
        "cm = confusion_matrix(y_test, y_pred_test)\n",
        "print('Confusion matrix\\n\\n', cm)\n",
        "print('\\nTrue Positives(TP) = ', cm[0,0])\n",
        "print('\\nTrue Negatives(TN) = ', cm[1,1])\n",
        "print('\\nFalse Positives(FP) = ', cm[0,1])\n",
        "print('\\nFalse Negatives(FN) = ', cm[1,0])"
      ],
      "metadata": {
        "colab": {
          "base_uri": "https://localhost:8080/"
        },
        "id": "3uGO58quonKH",
        "outputId": "e4c7451c-f87a-4b19-8c08-542c8ec50ad9"
      },
      "execution_count": null,
      "outputs": [
        {
          "output_type": "stream",
          "name": "stdout",
          "text": [
            "Confusion matrix\n",
            "\n",
            " [[1074  207]\n",
            " [ 218 1057]]\n",
            "\n",
            "True Positives(TP) =  1074\n",
            "\n",
            "True Negatives(TN) =  1057\n",
            "\n",
            "False Positives(FP) =  207\n",
            "\n",
            "False Negatives(FN) =  218\n"
          ]
        }
      ]
    },
    {
      "cell_type": "code",
      "source": [
        "# visualize confusion matrix with seaborn heatmap\n",
        "cm_matrix = pd.DataFrame(data=cm, columns=['Actual Positive:1', 'Actual Negative:0'],\n",
        "                                 index=['Predict Positive:1', 'Predict Negative:0'])\n",
        "\n",
        "sns.heatmap(cm_matrix, annot=True, fmt='d', cmap='YlGnBu')"
      ],
      "metadata": {
        "colab": {
          "base_uri": "https://localhost:8080/",
          "height": 282
        },
        "id": "jIY_D66Unk9J",
        "outputId": "65e79ef5-59ff-4b1d-d802-2bf2399b5e45"
      },
      "execution_count": null,
      "outputs": [
        {
          "output_type": "execute_result",
          "data": {
            "text/plain": [
              "<matplotlib.axes._subplots.AxesSubplot at 0x7fca6309a990>"
            ]
          },
          "metadata": {},
          "execution_count": 60
        },
        {
          "output_type": "display_data",
          "data": {
            "text/plain": [
              "<Figure size 432x288 with 2 Axes>"
            ],
            "image/png": "[encoded data removed]"
          },
          "metadata": {
            "needs_background": "light"
          }
        }
      ]
    },
    {
      "cell_type": "code",
      "source": [
        "#Informe de clasificación\n",
        "from sklearn.metrics import classification_report\n",
        "print(classification_report(y_test, y_pred_test))"
      ],
      "metadata": {
        "colab": {
          "base_uri": "https://localhost:8080/"
        },
        "id": "NBNDPGVemlcX",
        "outputId": "fe3619fb-b402-475f-fadf-0be0c00879d1"
      },
      "execution_count": null,
      "outputs": [
        {
          "output_type": "stream",
          "name": "stdout",
          "text": [
            "              precision    recall  f1-score   support\n",
            "\n",
            "           0       0.83      0.84      0.83      1281\n",
            "           1       0.84      0.83      0.83      1275\n",
            "\n",
            "    accuracy                           0.83      2556\n",
            "   macro avg       0.83      0.83      0.83      2556\n",
            "weighted avg       0.83      0.83      0.83      2556\n",
            "\n"
          ]
        }
      ]
    },
    {
      "cell_type": "code",
      "source": [
        "#Precisión de la clasificación\n",
        "TP = cm[0,0]\n",
        "TN = cm[1,1]\n",
        "FP = cm[0,1]\n",
        "FN = cm[1,0]"
      ],
      "metadata": {
        "id": "dFHCQRz5mufC"
      },
      "execution_count": null,
      "outputs": []
    },
    {
      "cell_type": "code",
      "source": [
        "classification_accuracy = (TP + TN) / float(TP + TN + FP + FN)\n",
        "print('Classification accuracy : {0:0.4f}'.format(classification_accuracy))"
      ],
      "metadata": {
        "colab": {
          "base_uri": "https://localhost:8080/"
        },
        "id": "WvFFy98imNnQ",
        "outputId": "f359b757-6062-4e0a-ac5b-f2e59fd067b4"
      },
      "execution_count": null,
      "outputs": [
        {
          "output_type": "stream",
          "name": "stdout",
          "text": [
            "Classification accuracy : 0.8337\n"
          ]
        }
      ]
    },
    {
      "cell_type": "code",
      "source": [
        "#Classification error\n",
        "classification_error = (FP + FN) / float(TP + TN + FP + FN)\n",
        "print('Classification error : {0:0.4f}'.format(classification_error))"
      ],
      "metadata": {
        "colab": {
          "base_uri": "https://localhost:8080/"
        },
        "id": "NWazeNF5mzfh",
        "outputId": "9502725e-8ef5-4d20-9deb-e264a31e5e73"
      },
      "execution_count": null,
      "outputs": [
        {
          "output_type": "stream",
          "name": "stdout",
          "text": [
            "Classification error : 0.1663\n"
          ]
        }
      ]
    },
    {
      "cell_type": "markdown",
      "source": [
        "La precisión puede definirse como el porcentaje de resultados positivos predichos correctamente de todos los resultados positivos predichos.\n",
        "Puede darse como la relación entre los verdaderos positivos (TP) y la suma de los verdaderos y falsos positivos (TP + FP). S\n",
        "e refiere más a la clase positiva que a la negativa. Matemáticamente, la precisión puede definirse como la relación entre TP y (TP + FP).\n"
      ],
      "metadata": {
        "id": "bFmfZgZBpIwI"
      }
    },
    {
      "cell_type": "code",
      "source": [
        "# print precision score\n",
        "precision = TP / float(TP + FP)\n",
        "print('Precision : {0:0.4f}'.format(precision))"
      ],
      "metadata": {
        "colab": {
          "base_uri": "https://localhost:8080/"
        },
        "id": "76GqvdZwnHl0",
        "outputId": "bce1e48c-65af-436d-aa57-ab04fa23f159"
      },
      "execution_count": null,
      "outputs": [
        {
          "output_type": "stream",
          "name": "stdout",
          "text": [
            "Precision : 0.8384\n"
          ]
        }
      ]
    },
    {
      "cell_type": "markdown",
      "source": [
        "**Recall**\n",
        "\n",
        "Puede definirse como el porcentaje de resultados positivos correctamente predichos de todos los resultados positivos reales.\n",
        "\n",
        "Puede darse como la relación entre los verdaderos positivos (TP) y la suma de los verdaderos positivos y los falsos negativos (TP + FN).\n",
        "\n",
        "La recuperación también se denomina sensibilidad. La recuperación identifica la proporción de positivos reales predichos correctamente.\n"
      ],
      "metadata": {
        "id": "kuKwGi2dpOTZ"
      }
    },
    {
      "cell_type": "code",
      "source": [
        "recall = TP / float(TP + FN)\n",
        "print('Recall or Sensitivity : {0:0.4f}'.format(recall))"
      ],
      "metadata": {
        "colab": {
          "base_uri": "https://localhost:8080/"
        },
        "id": "jIEITrNRmNqU",
        "outputId": "454b20c9-b6ee-4b61-fea1-71c4ac568177"
      },
      "execution_count": null,
      "outputs": [
        {
          "output_type": "stream",
          "name": "stdout",
          "text": [
            "Recall or Sensitivity : 0.8313\n"
          ]
        }
      ]
    },
    {
      "cell_type": "code",
      "source": [
        "#Tasa de verdaderos positivos\n",
        "#True Positive Rate is synonymous with Recall.\n",
        "\n",
        "true_positive_rate = TP / float(TP + FN)\n",
        "print('True Positive Rate : {0:0.4f}'.format(true_positive_rate))"
      ],
      "metadata": {
        "colab": {
          "base_uri": "https://localhost:8080/"
        },
        "id": "tpo9IEdRrukd",
        "outputId": "f2388b82-07a4-4988-88eb-0bc6447ea342"
      },
      "execution_count": null,
      "outputs": [
        {
          "output_type": "stream",
          "name": "stdout",
          "text": [
            "True Positive Rate : 0.8313\n"
          ]
        }
      ]
    },
    {
      "cell_type": "code",
      "source": [
        "#Tasa de falsos positivos\n",
        "\n",
        "\"\"\"Se define como el ratio entre el número de falsos positivos y el número de negativos (reales).\n",
        "Lógicamente, el clasificador ideal tendría un FPR de cero (pues no tendría falsos positivos),\n",
        "y el peor clasificador posible tendría un FPR de uno (todos los negativos reales serían identificados erróneamente como positivos):\n",
        "\"\"\"\n",
        "false_positive_rate = FP / float(FP + TN)\n",
        "print('False Positive Rate : {0:0.4f}'.format(false_positive_rate))"
      ],
      "metadata": {
        "id": "Tpd0XF00rwAh",
        "colab": {
          "base_uri": "https://localhost:8080/"
        },
        "outputId": "77021b4e-a5b0-446f-ef4f-5de5b6fda538"
      },
      "execution_count": null,
      "outputs": [
        {
          "output_type": "stream",
          "name": "stdout",
          "text": [
            "False Positive Rate : 0.1638\n"
          ]
        }
      ]
    },
    {
      "cell_type": "code",
      "source": [
        "#Specificity\n",
        "\"\"\"especificidad es el porcentaje de 0’s (reales) correctamente predicho.\n",
        "La especificidad también puede calcularse como 1-Tasa Falsos Positivos.\n",
        "\"\"\"\n",
        "\n",
        "specificity = TN / (TN + FP)\n",
        "print('Specificity : {0:0.4f}'.format(specificity))"
      ],
      "metadata": {
        "colab": {
          "base_uri": "https://localhost:8080/"
        },
        "id": "qdTroD52rupW",
        "outputId": "2032c28b-bbf7-40e0-a222-ea5706a31ed1"
      },
      "execution_count": null,
      "outputs": [
        {
          "output_type": "stream",
          "name": "stdout",
          "text": [
            "Specificity : 0.8362\n"
          ]
        }
      ]
    },
    {
      "cell_type": "code",
      "source": [
        "# ajustamos el nivel de umbral\n",
        "# mostrar las 10 primeras probabilidades predichas de dos clases - 0 y 1\n",
        "\n",
        "y_pred_prob = logreg.predict_proba(X_test)[0:10]\n",
        "y_pred_prob"
      ],
      "metadata": {
        "colab": {
          "base_uri": "https://localhost:8080/"
        },
        "id": "vE7G2_FDr6aG",
        "outputId": "f5aa5951-c868-4f8c-96d4-7a513e613fed"
      },
      "execution_count": null,
      "outputs": [
        {
          "output_type": "execute_result",
          "data": {
            "text/plain": [
              "array([[0.37020683, 0.62979317],\n",
              "       [0.0756605 , 0.9243395 ],\n",
              "       [0.55204541, 0.44795459],\n",
              "       [0.40832054, 0.59167946],\n",
              "       [0.46614933, 0.53385067],\n",
              "       [0.99238432, 0.00761568],\n",
              "       [0.06000233, 0.93999767],\n",
              "       [0.58435735, 0.41564265],\n",
              "       [0.07868326, 0.92131674],\n",
              "       [0.5409091 , 0.4590909 ]])"
            ]
          },
          "metadata": {},
          "execution_count": 70
        }
      ]
    },
    {
      "cell_type": "markdown",
      "source": [
        "Nivel de umbral de clasificación\n",
        "\n",
        "El nivel de umbral de clasificación de 0,5.\n",
        "\n",
        "Class 1 - probability of pobreza is predicted if probability > 0.5.\n",
        "Class 0 - probability of no pobreza is predicted if probability < 0.5."
      ],
      "metadata": {
        "id": "2bFXBNycpeZD"
      }
    },
    {
      "cell_type": "code",
      "source": [
        "# almacenar las probabilidades en un dataframe\n",
        "y_pred_prob_df = pd.DataFrame(data=y_pred_prob, columns=['Prob of - No POBREZA (0)', 'Prob of - POBREZA (1)'])\n",
        "y_pred_prob_df"
      ],
      "metadata": {
        "colab": {
          "base_uri": "https://localhost:8080/",
          "height": 363
        },
        "id": "-vv03xEtsAbM",
        "outputId": "551170f9-0d43-454f-9ffa-7c875d398e7b"
      },
      "execution_count": null,
      "outputs": [
        {
          "output_type": "execute_result",
          "data": {
            "text/plain": [
              "   Prob of - No POBREZA (0)  Prob of - POBREZA (1)\n",
              "0                  0.370207               0.629793\n",
              "1                  0.075660               0.924340\n",
              "2                  0.552045               0.447955\n",
              "3                  0.408321               0.591679\n",
              "4                  0.466149               0.533851\n",
              "5                  0.992384               0.007616\n",
              "6                  0.060002               0.939998\n",
              "7                  0.584357               0.415643\n",
              "8                  0.078683               0.921317\n",
              "9                  0.540909               0.459091"
            ],
            "text/html": [
              "\n",
              "  <div id=\"df-938ec4b4-13e6-42d5-bc8e-922c7c89cc88\">\n",
              "    <div class=\"colab-df-container\">\n",
              "      <div>\n",
              "<style scoped>\n",
              "    .dataframe tbody tr th:only-of-type {\n",
              "        vertical-align: middle;\n",
              "    }\n",
              "\n",
              "    .dataframe tbody tr th {\n",
              "        vertical-align: top;\n",
              "    }\n",
              "\n",
              "    .dataframe thead th {\n",
              "        text-align: right;\n",
              "    }\n",
              "</style>\n",
              "<table border=\"1\" class=\"dataframe\">\n",
              "  <thead>\n",
              "    <tr style=\"text-align: right;\">\n",
              "      <th></th>\n",
              "      <th>Prob of - No POBREZA (0)</th>\n",
              "      <th>Prob of - POBREZA (1)</th>\n",
              "    </tr>\n",
              "  </thead>\n",
              "  <tbody>\n",
              "    <tr>\n",
              "      <th>0</th>\n",
              "      <td>0.370207</td>\n",
              "      <td>0.629793</td>\n",
              "    </tr>\n",
              "    <tr>\n",
              "      <th>1</th>\n",
              "      <td>0.075660</td>\n",
              "      <td>0.924340</td>\n",
              "    </tr>\n",
              "    <tr>\n",
              "      <th>2</th>\n",
              "      <td>0.552045</td>\n",
              "      <td>0.447955</td>\n",
              "    </tr>\n",
              "    <tr>\n",
              "      <th>3</th>\n",
              "      <td>0.408321</td>\n",
              "      <td>0.591679</td>\n",
              "    </tr>\n",
              "    <tr>\n",
              "      <th>4</th>\n",
              "      <td>0.466149</td>\n",
              "      <td>0.533851</td>\n",
              "    </tr>\n",
              "    <tr>\n",
              "      <th>5</th>\n",
              "      <td>0.992384</td>\n",
              "      <td>0.007616</td>\n",
              "    </tr>\n",
              "    <tr>\n",
              "      <th>6</th>\n",
              "      <td>0.060002</td>\n",
              "      <td>0.939998</td>\n",
              "    </tr>\n",
              "    <tr>\n",
              "      <th>7</th>\n",
              "      <td>0.584357</td>\n",
              "      <td>0.415643</td>\n",
              "    </tr>\n",
              "    <tr>\n",
              "      <th>8</th>\n",
              "      <td>0.078683</td>\n",
              "      <td>0.921317</td>\n",
              "    </tr>\n",
              "    <tr>\n",
              "      <th>9</th>\n",
              "      <td>0.540909</td>\n",
              "      <td>0.459091</td>\n",
              "    </tr>\n",
              "  </tbody>\n",
              "</table>\n",
              "</div>\n",
              "      <button class=\"colab-df-convert\" onclick=\"convertToInteractive('df-938ec4b4-13e6-42d5-bc8e-922c7c89cc88')\"\n",
              "              title=\"Convert this dataframe to an interactive table.\"\n",
              "              style=\"display:none;\">\n",
              "        \n",
              "  <svg xmlns=\"http://www.w3.org/2000/svg\" height=\"24px\"viewBox=\"0 0 24 24\"\n",
              "       width=\"24px\">\n",
              "    <path d=\"M0 0h24v24H0V0z\" fill=\"none\"/>\n",
              "    <path d=\"M18.56 5.44l.94 2.06.94-2.06 2.06-.94-2.06-.94-.94-2.06-.94 2.06-2.06.94zm-11 1L8.5 8.5l.94-2.06 2.06-.94-2.06-.94L8.5 2.5l-.94 2.06-2.06.94zm10 10l.94 2.06.94-2.06 2.06-.94-2.06-.94-.94-2.06-.94 2.06-2.06.94z\"/><path d=\"M17.41 7.96l-1.37-1.37c-.4-.4-.92-.59-1.43-.59-.52 0-1.04.2-1.43.59L10.3 9.45l-7.72 7.72c-.78.78-.78 2.05 0 2.83L4 21.41c.39.39.9.59 1.41.59.51 0 1.02-.2 1.41-.59l7.78-7.78 2.81-2.81c.8-.78.8-2.07 0-2.86zM5.41 20L4 18.59l7.72-7.72 1.47 1.35L5.41 20z\"/>\n",
              "  </svg>\n",
              "      </button>\n",
              "      \n",
              "  <style>\n",
              "    .colab-df-container {\n",
              "      display:flex;\n",
              "      flex-wrap:wrap;\n",
              "      gap: 12px;\n",
              "    }\n",
              "\n",
              "    .colab-df-convert {\n",
              "      background-color: #E8F0FE;\n",
              "      border: none;\n",
              "      border-radius: 50%;\n",
              "      cursor: pointer;\n",
              "      display: none;\n",
              "      fill: #1967D2;\n",
              "      height: 32px;\n",
              "      padding: 0 0 0 0;\n",
              "      width: 32px;\n",
              "    }\n",
              "\n",
              "    .colab-df-convert:hover {\n",
              "      background-color: #E2EBFA;\n",
              "      box-shadow: 0px 1px 2px rgba(60, 64, 67, 0.3), 0px 1px 3px 1px rgba(60, 64, 67, 0.15);\n",
              "      fill: #174EA6;\n",
              "    }\n",
              "\n",
              "    [theme=dark] .colab-df-convert {\n",
              "      background-color: #3B4455;\n",
              "      fill: #D2E3FC;\n",
              "    }\n",
              "\n",
              "    [theme=dark] .colab-df-convert:hover {\n",
              "      background-color: #434B5C;\n",
              "      box-shadow: 0px 1px 3px 1px rgba(0, 0, 0, 0.15);\n",
              "      filter: drop-shadow(0px 1px 2px rgba(0, 0, 0, 0.3));\n",
              "      fill: #FFFFFF;\n",
              "    }\n",
              "  </style>\n",
              "\n",
              "      <script>\n",
              "        const buttonEl =\n",
              "          document.querySelector('#df-938ec4b4-13e6-42d5-bc8e-922c7c89cc88 button.colab-df-convert');\n",
              "        buttonEl.style.display =\n",
              "          google.colab.kernel.accessAllowed ? 'block' : 'none';\n",
              "\n",
              "        async function convertToInteractive(key) {\n",
              "          const element = document.querySelector('#df-938ec4b4-13e6-42d5-bc8e-922c7c89cc88');\n",
              "          const dataTable =\n",
              "            await google.colab.kernel.invokeFunction('convertToInteractive',\n",
              "                                                     [key], {});\n",
              "          if (!dataTable) return;\n",
              "\n",
              "          const docLinkHtml = 'Like what you see? Visit the ' +\n",
              "            '<a target=\"_blank\" href=https://colab.research.google.com/notebooks/data_table.ipynb>data table notebook</a>'\n",
              "            + ' to learn more about interactive tables.';\n",
              "          element.innerHTML = '';\n",
              "          dataTable['output_type'] = 'display_data';\n",
              "          await google.colab.output.renderOutput(dataTable, element);\n",
              "          const docLink = document.createElement('div');\n",
              "          docLink.innerHTML = docLinkHtml;\n",
              "          element.appendChild(docLink);\n",
              "        }\n",
              "      </script>\n",
              "    </div>\n",
              "  </div>\n",
              "  "
            ]
          },
          "metadata": {},
          "execution_count": 71
        }
      ]
    },
    {
      "cell_type": "code",
      "source": [
        "# 10 primeros probabilidades para la clase 1 - Probability of POBREZA\n",
        "logreg.predict_proba(X_test)[0:10, 1]"
      ],
      "metadata": {
        "colab": {
          "base_uri": "https://localhost:8080/"
        },
        "id": "cKOcS1jbsDju",
        "outputId": "95b511a7-3812-4509-c651-add8d02c6737"
      },
      "execution_count": null,
      "outputs": [
        {
          "output_type": "execute_result",
          "data": {
            "text/plain": [
              "array([0.62979317, 0.9243395 , 0.44795459, 0.59167946, 0.53385067,\n",
              "       0.00761568, 0.93999767, 0.41564265, 0.92131674, 0.4590909 ])"
            ]
          },
          "metadata": {},
          "execution_count": 72
        }
      ]
    },
    {
      "cell_type": "code",
      "source": [
        "#almacenar las probabilidades previstas para la clase 1 - Probabilidad de POBREZA\n",
        "y_pred1 = logreg.predict_proba(X_test)[:, 1]"
      ],
      "metadata": {
        "id": "nlPg5gLUsILg"
      },
      "execution_count": null,
      "outputs": []
    },
    {
      "cell_type": "code",
      "source": [
        "# histograma\n",
        "\n",
        "# adjust the font size\n",
        "plt.rcParams['font.size'] = 12\n",
        "\n",
        "# plot histogram with 10 bins\n",
        "plt.hist(y_pred1, bins = 10)\n",
        "\n",
        "# set the title of predicted probabilities\n",
        "plt.title('Histogram of predicted probabilities of POBREZA')\n",
        "\n",
        "# set the x-axis limit\n",
        "plt.xlim(0,1)\n",
        "\n",
        "# set the title\n",
        "plt.xlabel('Predicted probabilities of POBREZA')\n",
        "plt.ylabel('Frequency')"
      ],
      "metadata": {
        "colab": {
          "base_uri": "https://localhost:8080/",
          "height": 319
        },
        "id": "8QBcjy_4sL0i",
        "outputId": "d2d08ab0-700c-42c6-d472-7c4962effbce"
      },
      "execution_count": null,
      "outputs": [
        {
          "output_type": "execute_result",
          "data": {
            "text/plain": [
              "Text(0, 0.5, 'Frequency')"
            ]
          },
          "metadata": {},
          "execution_count": 74
        },
        {
          "output_type": "display_data",
          "data": {
            "text/plain": [
              "<Figure size 432x288 with 1 Axes>"
            ],
            "image/png": "[encoded data removed]"
          },
          "metadata": {
            "needs_background": "light"
          }
        }
      ]
    },
    {
      "cell_type": "markdown",
      "source": [
        "**Bajar el umbral**"
      ],
      "metadata": {
        "id": "z9uOZ0EBsSrn"
      }
    },
    {
      "cell_type": "code",
      "source": [
        "from sklearn.preprocessing import binarize\n",
        "\n",
        "for i in range(1,5):\n",
        "\n",
        "    cm1=0\n",
        "\n",
        "    y_pred1 = logreg.predict_proba(X_test)[:,1]\n",
        "    y_pred1 = y_pred1.reshape(-1,1)\n",
        "    y_pred2 = binarize(y_pred1,threshold=i/10)\n",
        "    y_pred2 = np.where(y_pred2 == 1, 1, 0)\n",
        "\n",
        "    cm1 = confusion_matrix(y_test, y_pred2)\n",
        "\n",
        "    print ('With',i/10,'threshold the Confusion Matrix is ','\\n\\n',cm1,'\\n\\n',\n",
        "\n",
        "            'with',cm1[0,0]+cm1[1,1],'correct predictions, ', '\\n\\n',\n",
        "\n",
        "            cm1[0,1],'Type I errors( False Positives), ','\\n\\n',\n",
        "\n",
        "            cm1[1,0],'Type II errors( False Negatives), ','\\n\\n',\n",
        "\n",
        "           'Accuracy score: ', (accuracy_score(y_test, y_pred2)), '\\n\\n',\n",
        "           'Sensitivity: ',cm1[1,1]/(float(cm1[1,1]+cm1[1,0])), '\\n\\n',\n",
        "           'Specificity: ',cm1[0,0]/(float(cm1[0,0]+cm1[0,1])),'\\n\\n',\n",
        "\n",
        "            '====================================================', '\\n\\n')"
      ],
      "metadata": {
        "colab": {
          "base_uri": "https://localhost:8080/"
        },
        "id": "EkQVlJNksQCd",
        "outputId": "6be560af-1c97-473f-91cf-f1848ffc0dd6"
      },
      "execution_count": null,
      "outputs": [
        {
          "output_type": "stream",
          "name": "stdout",
          "text": [
            "With 0.1 threshold the Confusion Matrix is  \n",
            "\n",
            " [[ 285  996]\n",
            " [   2 1273]] \n",
            "\n",
            " with 1558 correct predictions,  \n",
            "\n",
            " 996 Type I errors( False Positives),  \n",
            "\n",
            " 2 Type II errors( False Negatives),  \n",
            "\n",
            " Accuracy score:  0.6095461658841941 \n",
            "\n",
            " Sensitivity:  0.9984313725490196 \n",
            "\n",
            " Specificity:  0.2224824355971897 \n",
            "\n",
            " ==================================================== \n",
            "\n",
            "\n",
            "With 0.2 threshold the Confusion Matrix is  \n",
            "\n",
            " [[ 620  661]\n",
            " [  22 1253]] \n",
            "\n",
            " with 1873 correct predictions,  \n",
            "\n",
            " 661 Type I errors( False Positives),  \n",
            "\n",
            " 22 Type II errors( False Negatives),  \n",
            "\n",
            " Accuracy score:  0.7327856025039123 \n",
            "\n",
            " Sensitivity:  0.9827450980392157 \n",
            "\n",
            " Specificity:  0.4839968774395004 \n",
            "\n",
            " ==================================================== \n",
            "\n",
            "\n",
            "With 0.3 threshold the Confusion Matrix is  \n",
            "\n",
            " [[ 833  448]\n",
            " [  55 1220]] \n",
            "\n",
            " with 2053 correct predictions,  \n",
            "\n",
            " 448 Type I errors( False Positives),  \n",
            "\n",
            " 55 Type II errors( False Negatives),  \n",
            "\n",
            " Accuracy score:  0.80320813771518 \n",
            "\n",
            " Sensitivity:  0.9568627450980393 \n",
            "\n",
            " Specificity:  0.6502732240437158 \n",
            "\n",
            " ==================================================== \n",
            "\n",
            "\n",
            "With 0.4 threshold the Confusion Matrix is  \n",
            "\n",
            " [[ 976  305]\n",
            " [ 113 1162]] \n",
            "\n",
            " with 2138 correct predictions,  \n",
            "\n",
            " 305 Type I errors( False Positives),  \n",
            "\n",
            " 113 Type II errors( False Negatives),  \n",
            "\n",
            " Accuracy score:  0.8364632237871674 \n",
            "\n",
            " Sensitivity:  0.9113725490196078 \n",
            "\n",
            " Specificity:  0.7619047619047619 \n",
            "\n",
            " ==================================================== \n",
            "\n",
            "\n"
          ]
        }
      ]
    },
    {
      "cell_type": "markdown",
      "source": [
        "Comentarios\n",
        "\n",
        "En los problemas binarios, el umbral de 0,5 se utiliza por defecto para convertir las probabilidades predichas en predicciones de clase.\n",
        "\n",
        "El umbral puede ajustarse para aumentar la sensibilidad o la especificidad.\n",
        "\n",
        "La sensibilidad y la especificidad tienen una relación inversa. El aumento de una de ellas siempre disminuirá la otra y viceversa.\n",
        "Podemos ver que el aumento del nivel de umbral resulta en un aumento de la precisión.\n",
        "\n",
        "Ajustar el nivel de umbral debería ser uno de los últimos pasos que se realizan en el proceso de construcción del modelo.\n"
      ],
      "metadata": {
        "id": "5DW8NAI3ptwI"
      }
    },
    {
      "cell_type": "markdown",
      "source": [
        "**Precisión nula**"
      ],
      "metadata": {
        "id": "5cFlilL4oMPy"
      }
    },
    {
      "cell_type": "code",
      "source": [
        "y_test.value_counts()"
      ],
      "metadata": {
        "colab": {
          "base_uri": "https://localhost:8080/"
        },
        "id": "TvyQUr6insRe",
        "outputId": "cd7bd661-2989-4db4-c343-f34f759b492e"
      },
      "execution_count": null,
      "outputs": [
        {
          "output_type": "execute_result",
          "data": {
            "text/plain": [
              "0    1281\n",
              "1    1275\n",
              "Name: pobreza, dtype: int64"
            ]
          },
          "metadata": {},
          "execution_count": 57
        }
      ]
    },
    {
      "cell_type": "code",
      "source": [
        "# comprobar la precisión nula\n",
        "null_accuracy = (1281/(1281+1275))\n",
        "print('Null accuracy score: {0:0.4f}'. format(null_accuracy))"
      ],
      "metadata": {
        "colab": {
          "base_uri": "https://localhost:8080/"
        },
        "id": "-OWWSZzS4DJz",
        "outputId": "ba3c7385-2ba3-4aa8-c9c1-d00632fa742b"
      },
      "execution_count": null,
      "outputs": [
        {
          "output_type": "stream",
          "name": "stdout",
          "text": [
            "Null accuracy score: 0.5012\n"
          ]
        }
      ]
    },
    {
      "cell_type": "markdown",
      "source": [
        "La presición del modelo es 0.8337 y la precisión nula es 0.5012."
      ],
      "metadata": {
        "id": "gH-2kWlCodco"
      }
    },
    {
      "cell_type": "markdown",
      "source": [
        "**Curva ROC**"
      ],
      "metadata": {
        "id": "9P-9FofLs8JF"
      }
    },
    {
      "cell_type": "markdown",
      "source": [
        "Otra herramienta para medir visualmente el rendimiento del modelo de clasificación es la curva ROC.\n",
        "Curva ROC significa Curva de Característica Operativa del Receptor.\n",
        "Una curva ROC es un gráfico que muestra el rendimiento de un modelo de clasificación en varios niveles de umbral de clasificación.\n",
        "\n",
        "La curva ROC traza la tasa de verdaderos positivos (TPR) frente a la tasa de falsos positivos (FPR) en varios niveles de umbral.\n",
        "\n",
        "La tasa de verdaderos positivos (TPR) también se denomina recuperación. Se define como la relación entre TP y (TP + FN).\n",
        "\n",
        "La tasa de falsos positivos (FPR) se define como la relación entre FP y (FP + TN).\n",
        "\n",
        "En la curva ROC, nos centraremos en la TPR (tasa de verdaderos positivos) y la FPR (tasa de falsos positivos) de un solo punto.\n",
        "Esto nos dará el rendimiento general de la curva ROC que consiste en el TPR y el FPR en varios niveles de umbral. Así, una curva ROC traza el TPR frente al FPR a diferentes niveles de umbral de clasificación. Si bajamos los niveles de umbral, puede que se clasifiquen más elementos como positivos. Aumentará tanto los Verdaderos Positivos (TP) como los Falsos Positivos (FP).\n"
      ],
      "metadata": {
        "id": "gTpBaDwOpxTs"
      }
    },
    {
      "cell_type": "code",
      "source": [
        "# plot ROC Curve\n",
        "\n",
        "from sklearn.metrics import roc_curve\n",
        "fpr, tpr, thresholds = roc_curve(y_test, y_pred1, pos_label = 1)\n",
        "plt.figure(figsize=(6,4))\n",
        "plt.plot(fpr, tpr, linewidth=2)\n",
        "plt.plot([0,1], [0,1], 'k--' )\n",
        "plt.rcParams['font.size'] = 12\n",
        "plt.title('ROC curve for POBREZA classifier')\n",
        "plt.xlabel('False Positive Rate (1 - Specificity)')\n",
        "plt.ylabel('True Positive Rate (Sensitivity)')\n",
        "plt.show()\n"
      ],
      "metadata": {
        "colab": {
          "base_uri": "https://localhost:8080/",
          "height": 302
        },
        "id": "WLJuiG9Js3yQ",
        "outputId": "92b9efb1-5fdd-43e4-de51-9327d43ff6e1"
      },
      "execution_count": null,
      "outputs": [
        {
          "output_type": "display_data",
          "data": {
            "text/plain": [
              "<Figure size 432x288 with 1 Axes>"
            ],
            "image/png": "[encoded data removed]"
          },
          "metadata": {
            "needs_background": "light"
          }
        }
      ]
    },
    {
      "cell_type": "code",
      "source": [
        "# compute ROC AUC\n",
        "\n",
        "from sklearn.metrics import roc_auc_score\n",
        "ROC_AUC = roc_auc_score(y_test, y_pred1)\n",
        "print('ROC AUC : {:.4f}'.format(ROC_AUC))"
      ],
      "metadata": {
        "colab": {
          "base_uri": "https://localhost:8080/"
        },
        "id": "wNHnk0pOtBeJ",
        "outputId": "48673db0-3e62-417e-8ee3-90babdca0f19"
      },
      "execution_count": null,
      "outputs": [
        {
          "output_type": "stream",
          "name": "stdout",
          "text": [
            "ROC AUC : 0.9151\n"
          ]
        }
      ]
    },
    {
      "cell_type": "markdown",
      "source": [
        "Comentarios\n",
        "\n",
        "El AUC del ROC es un resumen numérico del rendimiento del clasificador. Cuanto mayor sea el valor, mejor será el clasificador.\n",
        "\n",
        "El ROC AUC de nuestro modelo se aproxima a 1. Por lo que se puede decir que estaría haciendo un buen trabajo al predecir si HAY POBREZA o no."
      ],
      "metadata": {
        "id": "tF5XJwdUp52g"
      }
    },
    {
      "cell_type": "markdown",
      "source": [
        "### **Evaluación**"
      ],
      "metadata": {
        "id": "-zwyUQ_cfe0V"
      }
    },
    {
      "cell_type": "code",
      "source": [
        "# calculate cross-validated ROC AUC\n",
        "from sklearn.model_selection import cross_val_score\n",
        "Cross_validated_ROC_AUC = cross_val_score(logreg, X_train, y_train, cv=5, scoring='roc_auc').mean()\n",
        "print('Cross validated ROC AUC : {:.4f}'.format(Cross_validated_ROC_AUC))"
      ],
      "metadata": {
        "colab": {
          "base_uri": "https://localhost:8080/"
        },
        "id": "T8W7ZITQtE59",
        "outputId": "a552a83e-45a2-48b9-b67c-ad78fba881ed"
      },
      "execution_count": null,
      "outputs": [
        {
          "output_type": "stream",
          "name": "stdout",
          "text": [
            "Cross validated ROC AUC : 0.8918\n"
          ]
        }
      ]
    },
    {
      "cell_type": "code",
      "source": [
        "# Validación cruzada k-fold\n",
        "# Aplicación de la validación cruzada por quintuplicado\n",
        "\n",
        "from sklearn.model_selection import cross_val_score\n",
        "\n",
        "scores = cross_val_score(logreg, X_train, y_train, cv = 5, scoring='accuracy')\n",
        "print('Cross-validation scores:{}'.format(scores))"
      ],
      "metadata": {
        "colab": {
          "base_uri": "https://localhost:8080/"
        },
        "id": "0fzXszyJtIjY",
        "outputId": "57dba885-dc11-4979-cb3b-72597b369e35"
      },
      "execution_count": null,
      "outputs": [
        {
          "output_type": "stream",
          "name": "stdout",
          "text": [
            "Cross-validation scores:[0.80050293 0.81139983 0.80536913 0.8238255  0.79614094]\n"
          ]
        }
      ]
    },
    {
      "cell_type": "code",
      "source": [
        "#Podemos resumir la precisión de la validación cruzada calculando su media.\n",
        "print('Average cross-validation score: {:.4f}'.format(scores.mean()))"
      ],
      "metadata": {
        "colab": {
          "base_uri": "https://localhost:8080/"
        },
        "id": "ow9EPGcwtO-o",
        "outputId": "ed49e434-228f-441a-8388-954a34728495"
      },
      "execution_count": null,
      "outputs": [
        {
          "output_type": "stream",
          "name": "stdout",
          "text": [
            "Average cross-validation score: 0.8074\n"
          ]
        }
      ]
    },
    {
      "cell_type": "markdown",
      "source": [
        "La puntuación del modelo original es de 0.8337.\n",
        "\n",
        "La puntuación media de la validación cruzada es de 0.8074.\n",
        "\n",
        "Por lo tanto, podemos concluir que la validación cruzada no mejora el rendimiento."
      ],
      "metadata": {
        "id": "Lf_C4n6xqBAp"
      }
    },
    {
      "cell_type": "markdown",
      "source": [
        "**Chequeamos overfitting y underfitting**"
      ],
      "metadata": {
        "id": "jgxAL6Wmnnvt"
      }
    },
    {
      "cell_type": "markdown",
      "source": [
        "Comparamos la precisión del conjunto de entrenamiento y del conjunto de prueba."
      ],
      "metadata": {
        "id": "wUncxB-qnd-l"
      }
    },
    {
      "cell_type": "code",
      "source": [
        "y_pred_train = logreg.predict(X_train)\n",
        "y_pred_train"
      ],
      "metadata": {
        "colab": {
          "base_uri": "https://localhost:8080/"
        },
        "id": "IWz62EnAmO5Y",
        "outputId": "8c3ff748-fc8b-4f9f-85d2-b5d8a3ae6d2d"
      },
      "execution_count": null,
      "outputs": [
        {
          "output_type": "execute_result",
          "data": {
            "text/plain": [
              "array([1, 1, 1, ..., 0, 0, 1])"
            ]
          },
          "metadata": {},
          "execution_count": 85
        }
      ]
    },
    {
      "cell_type": "code",
      "source": [
        "print('Training-set accuracy score: {0:0.4f}'. format(accuracy_score(y_train, y_pred_train)))"
      ],
      "metadata": {
        "colab": {
          "base_uri": "https://localhost:8080/"
        },
        "id": "ah2wgUT1kooj",
        "outputId": "93f07407-1cb8-454a-c4bb-2b6326096265"
      },
      "execution_count": null,
      "outputs": [
        {
          "output_type": "stream",
          "name": "stdout",
          "text": [
            "Training-set accuracy score: 0.8175\n"
          ]
        }
      ]
    },
    {
      "cell_type": "code",
      "source": [
        "# print the scores on training and test set\n",
        "print('Training set score: {:.4f}'.format(logreg.score(X_train, y_train)))\n",
        "print('Test set score: {:.4f}'.format(logreg.score(X_test, y_test)))"
      ],
      "metadata": {
        "colab": {
          "base_uri": "https://localhost:8080/"
        },
        "id": "XcwJmHV3nkgn",
        "outputId": "ba534f5e-a621-4873-a51e-e516b4e39848"
      },
      "execution_count": null,
      "outputs": [
        {
          "output_type": "stream",
          "name": "stdout",
          "text": [
            "Training set score: 0.8175\n",
            "Test set score: 0.8337\n"
          ]
        }
      ]
    },
    {
      "cell_type": "markdown",
      "source": [
        "La precisión del conjunto de entrenamiento es de 0,8337, mientras que la del conjunto de prueba es de 0,8175. Estos dos valores son bastante comparables. Por lo tanto, no hay problema de sobreajuste.\n",
        "\n",
        "En la regresión logística, utilizamos el valor por defecto de C = 1. Proporciona un buen rendimiento con una precisión de aproximadamente el 85% tanto en el conjunto de entrenamiento como en el de prueba. Pero el rendimiento del modelo tanto en el conjunto de entrenamiento como en el de prueba son muy comparables. Puede que se trate de un caso de infraajuste.\n",
        "\n",
        "Modificamos C y ajustamos un modelo más flexible."
      ],
      "metadata": {
        "id": "t_lzeU0vkkIa"
      }
    },
    {
      "cell_type": "code",
      "source": [
        "# ajustamos el modelo de Regresion logística con C=100\n",
        "\n",
        "# instanciamos el modelo\n",
        "logreg100 = LogisticRegression(C=100, solver='liblinear', random_state=0)\n",
        "\n",
        "# ajustamos el modelo\n",
        "logreg100.fit(X_train, y_train)"
      ],
      "metadata": {
        "colab": {
          "base_uri": "https://localhost:8080/"
        },
        "id": "KQwcAPTgnkq7",
        "outputId": "8b98aaee-dbaa-40e9-971b-0ff1ee29cf37"
      },
      "execution_count": null,
      "outputs": [
        {
          "output_type": "execute_result",
          "data": {
            "text/plain": [
              "LogisticRegression(C=100, random_state=0, solver='liblinear')"
            ]
          },
          "metadata": {},
          "execution_count": 88
        }
      ]
    },
    {
      "cell_type": "code",
      "source": [
        "print('Training set score: {:.4f}'.format(logreg100.score(X_train, y_train)))\n",
        "print('Test set score: {:.4f}'.format(logreg100.score(X_test, y_test)))"
      ],
      "metadata": {
        "colab": {
          "base_uri": "https://localhost:8080/"
        },
        "id": "MaweE-Xknr9M",
        "outputId": "dd8c87be-10f3-4273-f0e2-5e77f2cf42b2"
      },
      "execution_count": null,
      "outputs": [
        {
          "output_type": "stream",
          "name": "stdout",
          "text": [
            "Training set score: 0.9666\n",
            "Test set score: 0.9710\n"
          ]
        }
      ]
    },
    {
      "cell_type": "markdown",
      "source": [
        "Podemos ver que C=100 da como resultado una mayor precisión en el conjunto de pruebas y en el conjunto de entrenamiento. Por lo tanto, podemos concluir que un modelo más complejo debería funcionar mejor.\n",
        "\n",
        "Ahora investigaremos qué ocurre si utilizamos un modelo más regularizado que el valor por defecto de C=1, estableciendo C=0,01.\n"
      ],
      "metadata": {
        "id": "STKKn8bGoHBP"
      }
    },
    {
      "cell_type": "code",
      "source": [
        "# ajustamos el modelo de regresión logarítmica con C=001\n",
        "\n",
        "# instanciamos el modelo\n",
        "logreg001 = LogisticRegression(C=0.01, solver='liblinear', random_state=0)\n",
        "\n",
        "# ajustamos\n",
        "logreg001.fit(X_train, y_train)"
      ],
      "metadata": {
        "colab": {
          "base_uri": "https://localhost:8080/"
        },
        "id": "7eOvoJnVlD4y",
        "outputId": "62421ba5-5d1e-48f9-b98a-4966ef120b74"
      },
      "execution_count": null,
      "outputs": [
        {
          "output_type": "execute_result",
          "data": {
            "text/plain": [
              "LogisticRegression(C=0.01, random_state=0, solver='liblinear')"
            ]
          },
          "metadata": {},
          "execution_count": 90
        }
      ]
    },
    {
      "cell_type": "code",
      "source": [
        "print('Training set score: {:.4f}'.format(logreg001.score(X_train, y_train)))\n",
        "print('Test set score: {:.4f}'.format(logreg001.score(X_test, y_test)))"
      ],
      "metadata": {
        "colab": {
          "base_uri": "https://localhost:8080/"
        },
        "id": "wlBYUPqmlJP6",
        "outputId": "416a4503-4a81-4b91-f711-e60c5d7494ab"
      },
      "execution_count": null,
      "outputs": [
        {
          "output_type": "stream",
          "name": "stdout",
          "text": [
            "Training set score: 0.7496\n",
            "Test set score: 0.7852\n"
          ]
        }
      ]
    },
    {
      "cell_type": "markdown",
      "source": [
        "Como vemos, si utilizamos un modelo más regularizado estableciendo C=0,01, tanto la precisión del conjunto de entrenamiento como la del conjunto de prueba disminuyen en relación con los parámetros por defecto."
      ],
      "metadata": {
        "id": "C2kBp0c2lM0S"
      }
    },
    {
      "cell_type": "markdown",
      "source": [
        "**Optimización de hiperparámetros mediante GridSearch CV**"
      ],
      "metadata": {
        "id": "0rxObV-CtYKJ"
      }
    },
    {
      "cell_type": "code",
      "source": [
        "from sklearn.model_selection import GridSearchCV\n",
        "\n",
        "parameters = [{'penalty':['l1','l2']},\n",
        "              {'C':[1, 10, 100, 1000]}]\n",
        "\n",
        "grid_search = GridSearchCV(estimator = logreg,\n",
        "                           param_grid = parameters,\n",
        "                           scoring = 'accuracy',\n",
        "                           cv = 10,\n",
        "                           verbose=0)\n",
        "\n",
        "grid_search.fit(X_train, y_train)"
      ],
      "metadata": {
        "colab": {
          "base_uri": "https://localhost:8080/"
        },
        "id": "wopvIRc9tfn3",
        "outputId": "3d3e9c32-b7c2-4324-fc2e-dbb0882c52f2"
      },
      "execution_count": null,
      "outputs": [
        {
          "output_type": "execute_result",
          "data": {
            "text/plain": [
              "GridSearchCV(cv=10,\n",
              "             estimator=LogisticRegression(random_state=0, solver='liblinear'),\n",
              "             param_grid=[{'penalty': ['l1', 'l2']}, {'C': [1, 10, 100, 1000]}],\n",
              "             scoring='accuracy')"
            ]
          },
          "metadata": {},
          "execution_count": 92
        }
      ]
    },
    {
      "cell_type": "code",
      "source": [
        "# examinar los parámetros del mejor modelos\n",
        "\n",
        "# mejor puntuación obtenida durante la GridSearchCV\n",
        "print('Mejor puntuación GridSearch CV: {:.4f}\\n\\n'.format(grid_search.best_score_))\n",
        "\n",
        "# mostrar los parámetros que dan los mejores resultados\n",
        "print('Parámetros que dan los mejores resultados :','\\n\\n', (grid_search.best_params_))\n",
        "\n",
        "# estimador que fue elegido por el GridSearch\n",
        "print('\\n\\nEstimador elegido:','\\n\\n', (grid_search.best_estimator_))"
      ],
      "metadata": {
        "colab": {
          "base_uri": "https://localhost:8080/"
        },
        "id": "1rxUD1DjtpXk",
        "outputId": "99732023-5223-4393-8041-06819ed1a6e0"
      },
      "execution_count": null,
      "outputs": [
        {
          "output_type": "stream",
          "name": "stdout",
          "text": [
            "Mejor puntuación GridSearch CV: 0.9837\n",
            "\n",
            "\n",
            "Parámetros que dan los mejores resultados : \n",
            "\n",
            " {'C': 1000}\n",
            "\n",
            "\n",
            "Estimador elegido: \n",
            "\n",
            " LogisticRegression(C=1000, random_state=0, solver='liblinear')\n"
          ]
        }
      ]
    },
    {
      "cell_type": "code",
      "source": [
        "# calcular la puntuación CV de GridSearch en el conjunto de pruebas\n",
        "\n",
        "print('Puntuación del CV de GridSearch en test set: {0:0.4f}'.format(grid_search.score(X_test, y_test)))"
      ],
      "metadata": {
        "colab": {
          "base_uri": "https://localhost:8080/"
        },
        "id": "7BAYs2AXtxkE",
        "outputId": "da80d33d-ede0-469d-d3c1-63fa330e22ee"
      },
      "execution_count": null,
      "outputs": [
        {
          "output_type": "stream",
          "name": "stdout",
          "text": [
            "Puntuación del CV de GridSearch en test set: 0.9859\n"
          ]
        }
      ]
    },
    {
      "cell_type": "markdown",
      "source": [
        "Comentarios\n",
        "\n",
        "La precisión de la prueba de nuestro modelo original es de 0,8337, mientras que la precisión de GridSearch CV es de 0,9859.\n",
        "Podemos ver que GridSearch CV mejora el rendimiento de este modelo en particular.\n",
        "\n",
        "\n"
      ],
      "metadata": {
        "id": "x6o3oO2NqZSQ"
      }
    },
    {
      "cell_type": "markdown",
      "source": [
        "\n",
        "\n",
        "---\n",
        "\n"
      ],
      "metadata": {
        "id": "Wuk0rTQJ_eze"
      }
    },
    {
      "cell_type": "markdown",
      "source": [
        "# **Experimento 2**"
      ],
      "metadata": {
        "id": "1bVDw6mstbJ9"
      }
    },
    {
      "cell_type": "markdown",
      "source": [
        "Vamos a correr nuevamente el modelo con los resultados obtenidos en GridSearch CV del experimento 1.\n",
        "\n",
        "Estimador elegido:\n",
        "\n",
        "LogisticRegression(C=1000, random_state=0, solver='liblinear')"
      ],
      "metadata": {
        "id": "KhXsqzJX-SK1"
      }
    },
    {
      "cell_type": "code",
      "source": [
        "# instanciamos\n",
        "logreg = LogisticRegression(C=1000, solver='liblinear', random_state=0)\n",
        "\n",
        "# modelo\n",
        "logreg.fit(X_train, y_train)"
      ],
      "metadata": {
        "id": "JIYQkur7t33O",
        "colab": {
          "base_uri": "https://localhost:8080/"
        },
        "outputId": "257903c7-e6d3-4a27-eac1-46b6d0325c66"
      },
      "execution_count": null,
      "outputs": [
        {
          "output_type": "execute_result",
          "data": {
            "text/plain": [
              "LogisticRegression(C=1000, random_state=0, solver='liblinear')"
            ]
          },
          "metadata": {},
          "execution_count": 95
        }
      ]
    },
    {
      "cell_type": "code",
      "source": [
        "y_pred_test = logreg.predict(X_test)\n",
        "y_pred_test"
      ],
      "metadata": {
        "id": "VF5dOZ5jtTgN",
        "colab": {
          "base_uri": "https://localhost:8080/"
        },
        "outputId": "a5f932c6-28de-425b-cf2f-2ed1d63b3be9"
      },
      "execution_count": null,
      "outputs": [
        {
          "output_type": "execute_result",
          "data": {
            "text/plain": [
              "array([1, 1, 0, ..., 1, 0, 1])"
            ]
          },
          "metadata": {},
          "execution_count": 96
        }
      ]
    },
    {
      "cell_type": "code",
      "source": [
        "# probabilidad 0 - no probreza\n",
        "\n",
        "logreg.predict_proba(X_test)[:,0]"
      ],
      "metadata": {
        "id": "fhiq0S6qtTkR",
        "colab": {
          "base_uri": "https://localhost:8080/"
        },
        "outputId": "6f83cdc7-4442-4154-d20a-bedb7c698a09"
      },
      "execution_count": null,
      "outputs": [
        {
          "output_type": "execute_result",
          "data": {
            "text/plain": [
              "array([7.66160110e-02, 1.44124407e-01, 8.49763964e-01, ...,\n",
              "       1.25252922e-04, 8.48818574e-01, 4.90336245e-02])"
            ]
          },
          "metadata": {},
          "execution_count": 97
        }
      ]
    },
    {
      "cell_type": "code",
      "source": [
        "# probabilidad 1 - pobreza\n",
        "\n",
        "logreg.predict_proba(X_test)[:,1]"
      ],
      "metadata": {
        "id": "bT1GMe_YtToF",
        "colab": {
          "base_uri": "https://localhost:8080/"
        },
        "outputId": "fdeb1e71-4974-4ea5-8618-ec5568750cce"
      },
      "execution_count": null,
      "outputs": [
        {
          "output_type": "execute_result",
          "data": {
            "text/plain": [
              "array([0.92338399, 0.85587559, 0.15023604, ..., 0.99987475, 0.15118143,\n",
              "       0.95096638])"
            ]
          },
          "metadata": {},
          "execution_count": 98
        }
      ]
    },
    {
      "cell_type": "markdown",
      "source": [
        "### **Métricas - Exp 2**"
      ],
      "metadata": {
        "id": "4ojfDxfXBkwN"
      }
    },
    {
      "cell_type": "code",
      "source": [
        "print('Model accuracy score: {0:0.4f}'. format(accuracy_score(y_test, y_pred_test)))"
      ],
      "metadata": {
        "colab": {
          "base_uri": "https://localhost:8080/"
        },
        "id": "F6Wvhu0SBin0",
        "outputId": "c2c6e752-39f2-4042-edb7-d97f700011f4"
      },
      "execution_count": null,
      "outputs": [
        {
          "output_type": "stream",
          "name": "stdout",
          "text": [
            "Model accuracy score: 0.9859\n"
          ]
        }
      ]
    },
    {
      "cell_type": "markdown",
      "source": [
        "**Matriz de confusión**"
      ],
      "metadata": {
        "id": "xSru3DgLDIQI"
      }
    },
    {
      "cell_type": "code",
      "source": [
        "# Matriz de confusión\n",
        "\n",
        "#from sklearn.metrics import confusion_matrix\n",
        "cm = confusion_matrix(y_test, y_pred_test)\n",
        "print('Confusion matrix\\n\\n', cm)\n",
        "print('\\nTrue Positives(TP) = ', cm[0,0])\n",
        "print('\\nTrue Negatives(TN) = ', cm[1,1])\n",
        "print('\\nFalse Positives(FP) = ', cm[0,1])\n",
        "print('\\nFalse Negatives(FN) = ', cm[1,0])"
      ],
      "metadata": {
        "colab": {
          "base_uri": "https://localhost:8080/"
        },
        "id": "po7DszQnDKYv",
        "outputId": "e60e3acf-86b7-40c3-8996-7b64132fc5c7"
      },
      "execution_count": null,
      "outputs": [
        {
          "output_type": "stream",
          "name": "stdout",
          "text": [
            "Confusion matrix\n",
            "\n",
            " [[1252   29]\n",
            " [   7 1268]]\n",
            "\n",
            "True Positives(TP) =  1252\n",
            "\n",
            "True Negatives(TN) =  1268\n",
            "\n",
            "False Positives(FP) =  29\n",
            "\n",
            "False Negatives(FN) =  7\n"
          ]
        }
      ]
    },
    {
      "cell_type": "code",
      "source": [
        "# visualize confusion matrix with seaborn heatmap\n",
        "\n",
        "cm_matrix = pd.DataFrame(data=cm, columns=['Actual Positive:1', 'Actual Negative:0'],\n",
        "                                 index=['Predict Positive:1', 'Predict Negative:0'])\n",
        "\n",
        "sns.heatmap(cm_matrix, annot=True, fmt='d', cmap='YlGnBu')"
      ],
      "metadata": {
        "colab": {
          "base_uri": "https://localhost:8080/",
          "height": 285
        },
        "id": "lNXU0dL6DrUD",
        "outputId": "8f21b645-8d5a-4f06-ef22-f578c4c4c6a9"
      },
      "execution_count": null,
      "outputs": [
        {
          "output_type": "execute_result",
          "data": {
            "text/plain": [
              "<matplotlib.axes._subplots.AxesSubplot at 0x7fca62ef0990>"
            ]
          },
          "metadata": {},
          "execution_count": 103
        },
        {
          "output_type": "display_data",
          "data": {
            "text/plain": [
              "<Figure size 432x288 with 2 Axes>"
            ],
            "image/png": "[encoded data removed]"
          },
          "metadata": {
            "needs_background": "light"
          }
        }
      ]
    },
    {
      "cell_type": "code",
      "source": [
        "#Informe de clasificación\n",
        "from sklearn.metrics import classification_report\n",
        "\n",
        "print(classification_report(y_test, y_pred_test))"
      ],
      "metadata": {
        "colab": {
          "base_uri": "https://localhost:8080/"
        },
        "id": "Zfh2cI6bDvEc",
        "outputId": "a77b8f3f-baa4-400a-8bf5-ec7b50a0ccbc"
      },
      "execution_count": null,
      "outputs": [
        {
          "output_type": "stream",
          "name": "stdout",
          "text": [
            "              precision    recall  f1-score   support\n",
            "\n",
            "           0       0.99      0.98      0.99      1281\n",
            "           1       0.98      0.99      0.99      1275\n",
            "\n",
            "    accuracy                           0.99      2556\n",
            "   macro avg       0.99      0.99      0.99      2556\n",
            "weighted avg       0.99      0.99      0.99      2556\n",
            "\n"
          ]
        }
      ]
    },
    {
      "cell_type": "code",
      "source": [
        "#Precisión de la clasificación\n",
        "TP = cm[0,0]\n",
        "TN = cm[1,1]\n",
        "FP = cm[0,1]\n",
        "FN = cm[1,0]"
      ],
      "metadata": {
        "id": "TMdUeP7HDvI3"
      },
      "execution_count": null,
      "outputs": []
    },
    {
      "cell_type": "code",
      "source": [
        "classification_accuracy = (TP + TN) / float(TP + TN + FP + FN)\n",
        "print('Classification accuracy : {0:0.4f}'.format(classification_accuracy))"
      ],
      "metadata": {
        "colab": {
          "base_uri": "https://localhost:8080/"
        },
        "id": "HOLZeSjxDvQY",
        "outputId": "8b5973b9-830c-41df-fac3-5199258ed0dd"
      },
      "execution_count": null,
      "outputs": [
        {
          "output_type": "stream",
          "name": "stdout",
          "text": [
            "Classification accuracy : 0.9859\n"
          ]
        }
      ]
    },
    {
      "cell_type": "code",
      "source": [
        "#Classification error\n",
        "classification_error = (FP + FN) / float(TP + TN + FP + FN)\n",
        "print('Classification error : {0:0.4f}'.format(classification_error))"
      ],
      "metadata": {
        "colab": {
          "base_uri": "https://localhost:8080/"
        },
        "id": "Se070bN_DvUQ",
        "outputId": "449c17d0-7885-42ef-8739-c65e9fa74cca"
      },
      "execution_count": null,
      "outputs": [
        {
          "output_type": "stream",
          "name": "stdout",
          "text": [
            "Classification error : 0.0141\n"
          ]
        }
      ]
    },
    {
      "cell_type": "code",
      "source": [
        "# print precision score\n",
        "precision = TP / float(TP + FP)\n",
        "print('Precision : {0:0.4f}'.format(precision))"
      ],
      "metadata": {
        "colab": {
          "base_uri": "https://localhost:8080/"
        },
        "id": "fgEA8ezKDvYP",
        "outputId": "e99b22af-0343-43ea-ed19-586202dfd729"
      },
      "execution_count": null,
      "outputs": [
        {
          "output_type": "stream",
          "name": "stdout",
          "text": [
            "Precision : 0.9774\n"
          ]
        }
      ]
    },
    {
      "cell_type": "code",
      "source": [
        "recall = TP / float(TP + FN)\n",
        "print('Recall or Sensitivity : {0:0.4f}'.format(recall))"
      ],
      "metadata": {
        "colab": {
          "base_uri": "https://localhost:8080/"
        },
        "id": "6UffbOW4DvcF",
        "outputId": "d11bf122-5fa4-4f64-cb78-fc8c831104b3"
      },
      "execution_count": null,
      "outputs": [
        {
          "output_type": "stream",
          "name": "stdout",
          "text": [
            "Recall or Sensitivity : 0.9944\n"
          ]
        }
      ]
    },
    {
      "cell_type": "code",
      "source": [
        "true_positive_rate = TP / float(TP + FN)\n",
        "print('True Positive Rate : {0:0.4f}'.format(true_positive_rate))"
      ],
      "metadata": {
        "colab": {
          "base_uri": "https://localhost:8080/"
        },
        "id": "d-Uiiq-TDvwX",
        "outputId": "49945aa0-b353-4685-f61b-edf9f1854559"
      },
      "execution_count": null,
      "outputs": [
        {
          "output_type": "stream",
          "name": "stdout",
          "text": [
            "True Positive Rate : 0.9944\n"
          ]
        }
      ]
    },
    {
      "cell_type": "code",
      "source": [
        "false_positive_rate = FP / float(FP + TN)\n",
        "print('False Positive Rate : {0:0.4f}'.format(false_positive_rate))"
      ],
      "metadata": {
        "colab": {
          "base_uri": "https://localhost:8080/"
        },
        "id": "D3IOdPFYDv0j",
        "outputId": "df565c36-e485-425d-a6e8-108a9f47ddc4"
      },
      "execution_count": null,
      "outputs": [
        {
          "output_type": "stream",
          "name": "stdout",
          "text": [
            "False Positive Rate : 0.0224\n"
          ]
        }
      ]
    },
    {
      "cell_type": "code",
      "source": [
        "specificity = TN / (TN + FP)\n",
        "print('Specificity : {0:0.4f}'.format(specificity))"
      ],
      "metadata": {
        "colab": {
          "base_uri": "https://localhost:8080/"
        },
        "id": "6QiOiApqDv46",
        "outputId": "295a1e80-ddbf-4a5f-fa65-790c9725a94f"
      },
      "execution_count": null,
      "outputs": [
        {
          "output_type": "stream",
          "name": "stdout",
          "text": [
            "Specificity : 0.9776\n"
          ]
        }
      ]
    },
    {
      "cell_type": "code",
      "source": [
        "# ajustamos el nivel de umbral\n",
        "# mostrar las 10 primeras probabilidades predichas de dos clases - 0 y 1\n",
        "\n",
        "y_pred_prob = logreg.predict_proba(X_test)[0:10]\n",
        "\n",
        "y_pred_prob"
      ],
      "metadata": {
        "colab": {
          "base_uri": "https://localhost:8080/"
        },
        "id": "seTXTsrsDv9A",
        "outputId": "eb36bcb4-d1f6-489d-b32f-573f29ecadcd"
      },
      "execution_count": null,
      "outputs": [
        {
          "output_type": "execute_result",
          "data": {
            "text/plain": [
              "array([[7.66160110e-02, 9.23383989e-01],\n",
              "       [1.44124407e-01, 8.55875593e-01],\n",
              "       [8.49763964e-01, 1.50236036e-01],\n",
              "       [5.99237452e-02, 9.40076255e-01],\n",
              "       [7.30247618e-01, 2.69752382e-01],\n",
              "       [1.00000000e+00, 1.46143257e-27],\n",
              "       [2.75620830e-03, 9.97243792e-01],\n",
              "       [1.28508356e-02, 9.87149164e-01],\n",
              "       [2.45628135e-06, 9.99997544e-01],\n",
              "       [9.99933081e-01, 6.69190648e-05]])"
            ]
          },
          "metadata": {},
          "execution_count": 113
        }
      ]
    },
    {
      "cell_type": "code",
      "source": [
        "# almacenar las probabilidades en un dataframe\n",
        "\n",
        "y_pred_prob_df = pd.DataFrame(data=y_pred_prob, columns=['Prob of - No POBREZA (0)', 'Prob of - POBREZA (1)'])\n",
        "\n",
        "y_pred_prob_df"
      ],
      "metadata": {
        "colab": {
          "base_uri": "https://localhost:8080/",
          "height": 363
        },
        "id": "mlCeWomsE6fd",
        "outputId": "1108983b-35e2-4abc-ad01-baad59859687"
      },
      "execution_count": null,
      "outputs": [
        {
          "output_type": "execute_result",
          "data": {
            "text/plain": [
              "   Prob of - No POBREZA (0)  Prob of - POBREZA (1)\n",
              "0                  0.076616           9.233840e-01\n",
              "1                  0.144124           8.558756e-01\n",
              "2                  0.849764           1.502360e-01\n",
              "3                  0.059924           9.400763e-01\n",
              "4                  0.730248           2.697524e-01\n",
              "5                  1.000000           1.461433e-27\n",
              "6                  0.002756           9.972438e-01\n",
              "7                  0.012851           9.871492e-01\n",
              "8                  0.000002           9.999975e-01\n",
              "9                  0.999933           6.691906e-05"
            ],
            "text/html": [
              "\n",
              "  <div id=\"df-604e72b9-ddb8-4cb2-bec6-aa185be647f3\">\n",
              "    <div class=\"colab-df-container\">\n",
              "      <div>\n",
              "<style scoped>\n",
              "    .dataframe tbody tr th:only-of-type {\n",
              "        vertical-align: middle;\n",
              "    }\n",
              "\n",
              "    .dataframe tbody tr th {\n",
              "        vertical-align: top;\n",
              "    }\n",
              "\n",
              "    .dataframe thead th {\n",
              "        text-align: right;\n",
              "    }\n",
              "</style>\n",
              "<table border=\"1\" class=\"dataframe\">\n",
              "  <thead>\n",
              "    <tr style=\"text-align: right;\">\n",
              "      <th></th>\n",
              "      <th>Prob of - No POBREZA (0)</th>\n",
              "      <th>Prob of - POBREZA (1)</th>\n",
              "    </tr>\n",
              "  </thead>\n",
              "  <tbody>\n",
              "    <tr>\n",
              "      <th>0</th>\n",
              "      <td>0.076616</td>\n",
              "      <td>9.233840e-01</td>\n",
              "    </tr>\n",
              "    <tr>\n",
              "      <th>1</th>\n",
              "      <td>0.144124</td>\n",
              "      <td>8.558756e-01</td>\n",
              "    </tr>\n",
              "    <tr>\n",
              "      <th>2</th>\n",
              "      <td>0.849764</td>\n",
              "      <td>1.502360e-01</td>\n",
              "    </tr>\n",
              "    <tr>\n",
              "      <th>3</th>\n",
              "      <td>0.059924</td>\n",
              "      <td>9.400763e-01</td>\n",
              "    </tr>\n",
              "    <tr>\n",
              "      <th>4</th>\n",
              "      <td>0.730248</td>\n",
              "      <td>2.697524e-01</td>\n",
              "    </tr>\n",
              "    <tr>\n",
              "      <th>5</th>\n",
              "      <td>1.000000</td>\n",
              "      <td>1.461433e-27</td>\n",
              "    </tr>\n",
              "    <tr>\n",
              "      <th>6</th>\n",
              "      <td>0.002756</td>\n",
              "      <td>9.972438e-01</td>\n",
              "    </tr>\n",
              "    <tr>\n",
              "      <th>7</th>\n",
              "      <td>0.012851</td>\n",
              "      <td>9.871492e-01</td>\n",
              "    </tr>\n",
              "    <tr>\n",
              "      <th>8</th>\n",
              "      <td>0.000002</td>\n",
              "      <td>9.999975e-01</td>\n",
              "    </tr>\n",
              "    <tr>\n",
              "      <th>9</th>\n",
              "      <td>0.999933</td>\n",
              "      <td>6.691906e-05</td>\n",
              "    </tr>\n",
              "  </tbody>\n",
              "</table>\n",
              "</div>\n",
              "      <button class=\"colab-df-convert\" onclick=\"convertToInteractive('df-604e72b9-ddb8-4cb2-bec6-aa185be647f3')\"\n",
              "              title=\"Convert this dataframe to an interactive table.\"\n",
              "              style=\"display:none;\">\n",
              "        \n",
              "  <svg xmlns=\"http://www.w3.org/2000/svg\" height=\"24px\"viewBox=\"0 0 24 24\"\n",
              "       width=\"24px\">\n",
              "    <path d=\"M0 0h24v24H0V0z\" fill=\"none\"/>\n",
              "    <path d=\"M18.56 5.44l.94 2.06.94-2.06 2.06-.94-2.06-.94-.94-2.06-.94 2.06-2.06.94zm-11 1L8.5 8.5l.94-2.06 2.06-.94-2.06-.94L8.5 2.5l-.94 2.06-2.06.94zm10 10l.94 2.06.94-2.06 2.06-.94-2.06-.94-.94-2.06-.94 2.06-2.06.94z\"/><path d=\"M17.41 7.96l-1.37-1.37c-.4-.4-.92-.59-1.43-.59-.52 0-1.04.2-1.43.59L10.3 9.45l-7.72 7.72c-.78.78-.78 2.05 0 2.83L4 21.41c.39.39.9.59 1.41.59.51 0 1.02-.2 1.41-.59l7.78-7.78 2.81-2.81c.8-.78.8-2.07 0-2.86zM5.41 20L4 18.59l7.72-7.72 1.47 1.35L5.41 20z\"/>\n",
              "  </svg>\n",
              "      </button>\n",
              "      \n",
              "  <style>\n",
              "    .colab-df-container {\n",
              "      display:flex;\n",
              "      flex-wrap:wrap;\n",
              "      gap: 12px;\n",
              "    }\n",
              "\n",
              "    .colab-df-convert {\n",
              "      background-color: #E8F0FE;\n",
              "      border: none;\n",
              "      border-radius: 50%;\n",
              "      cursor: pointer;\n",
              "      display: none;\n",
              "      fill: #1967D2;\n",
              "      height: 32px;\n",
              "      padding: 0 0 0 0;\n",
              "      width: 32px;\n",
              "    }\n",
              "\n",
              "    .colab-df-convert:hover {\n",
              "      background-color: #E2EBFA;\n",
              "      box-shadow: 0px 1px 2px rgba(60, 64, 67, 0.3), 0px 1px 3px 1px rgba(60, 64, 67, 0.15);\n",
              "      fill: #174EA6;\n",
              "    }\n",
              "\n",
              "    [theme=dark] .colab-df-convert {\n",
              "      background-color: #3B4455;\n",
              "      fill: #D2E3FC;\n",
              "    }\n",
              "\n",
              "    [theme=dark] .colab-df-convert:hover {\n",
              "      background-color: #434B5C;\n",
              "      box-shadow: 0px 1px 3px 1px rgba(0, 0, 0, 0.15);\n",
              "      filter: drop-shadow(0px 1px 2px rgba(0, 0, 0, 0.3));\n",
              "      fill: #FFFFFF;\n",
              "    }\n",
              "  </style>\n",
              "\n",
              "      <script>\n",
              "        const buttonEl =\n",
              "          document.querySelector('#df-604e72b9-ddb8-4cb2-bec6-aa185be647f3 button.colab-df-convert');\n",
              "        buttonEl.style.display =\n",
              "          google.colab.kernel.accessAllowed ? 'block' : 'none';\n",
              "\n",
              "        async function convertToInteractive(key) {\n",
              "          const element = document.querySelector('#df-604e72b9-ddb8-4cb2-bec6-aa185be647f3');\n",
              "          const dataTable =\n",
              "            await google.colab.kernel.invokeFunction('convertToInteractive',\n",
              "                                                     [key], {});\n",
              "          if (!dataTable) return;\n",
              "\n",
              "          const docLinkHtml = 'Like what you see? Visit the ' +\n",
              "            '<a target=\"_blank\" href=https://colab.research.google.com/notebooks/data_table.ipynb>data table notebook</a>'\n",
              "            + ' to learn more about interactive tables.';\n",
              "          element.innerHTML = '';\n",
              "          dataTable['output_type'] = 'display_data';\n",
              "          await google.colab.output.renderOutput(dataTable, element);\n",
              "          const docLink = document.createElement('div');\n",
              "          docLink.innerHTML = docLinkHtml;\n",
              "          element.appendChild(docLink);\n",
              "        }\n",
              "      </script>\n",
              "    </div>\n",
              "  </div>\n",
              "  "
            ]
          },
          "metadata": {},
          "execution_count": 114
        }
      ]
    },
    {
      "cell_type": "code",
      "source": [
        "# 10 primeros probabilidades para la clase 1 - Probability of POBREZA\n",
        "logreg.predict_proba(X_test)[0:10, 1]"
      ],
      "metadata": {
        "colab": {
          "base_uri": "https://localhost:8080/"
        },
        "id": "eOJQbL_3FBBR",
        "outputId": "6dc94db2-8626-4ba7-a9d1-f0ba56d88aa2"
      },
      "execution_count": null,
      "outputs": [
        {
          "output_type": "execute_result",
          "data": {
            "text/plain": [
              "array([9.23383989e-01, 8.55875593e-01, 1.50236036e-01, 9.40076255e-01,\n",
              "       2.69752382e-01, 1.46143257e-27, 9.97243792e-01, 9.87149164e-01,\n",
              "       9.99997544e-01, 6.69190648e-05])"
            ]
          },
          "metadata": {},
          "execution_count": 115
        }
      ]
    },
    {
      "cell_type": "code",
      "source": [
        "#almacenar las probabilidades previstas para la clase 1 - Probabilidad de POBREZA\n",
        "y_pred1 = logreg.predict_proba(X_test)[:, 1]"
      ],
      "metadata": {
        "id": "MYgrl3qKFBTN"
      },
      "execution_count": null,
      "outputs": []
    },
    {
      "cell_type": "code",
      "source": [
        "# histograma\n",
        "\n",
        "# adjust the font size\n",
        "plt.rcParams['font.size'] = 12\n",
        "\n",
        "# plot histogram with 10 bins\n",
        "plt.hist(y_pred1, bins = 10)\n",
        "\n",
        "# set the title of predicted probabilities\n",
        "plt.title('Histogram of predicted probabilities of POBREZA')\n",
        "\n",
        "# set the x-axis limit\n",
        "plt.xlim(0,1)\n",
        "\n",
        "# set the title\n",
        "plt.xlabel('Predicted probabilities of POBREZA')\n",
        "plt.ylabel('Frequency')"
      ],
      "metadata": {
        "colab": {
          "base_uri": "https://localhost:8080/",
          "height": 319
        },
        "id": "rqxt5W_YFBfB",
        "outputId": "bf60ea2f-d7df-487d-f79d-571a6d0cef1a"
      },
      "execution_count": null,
      "outputs": [
        {
          "output_type": "execute_result",
          "data": {
            "text/plain": [
              "Text(0, 0.5, 'Frequency')"
            ]
          },
          "metadata": {},
          "execution_count": 117
        },
        {
          "output_type": "display_data",
          "data": {
            "text/plain": [
              "<Figure size 432x288 with 1 Axes>"
            ],
            "image/png": "[encoded data removed]"
          },
          "metadata": {
            "needs_background": "light"
          }
        }
      ]
    },
    {
      "cell_type": "markdown",
      "source": [
        "**Bajar el umbral**"
      ],
      "metadata": {
        "id": "iZEV1ZEtFMDc"
      }
    },
    {
      "cell_type": "code",
      "source": [
        "#from sklearn.preprocessing import binarize\n",
        "\n",
        "for i in range(1,5):\n",
        "\n",
        "    cm1=0\n",
        "\n",
        "    y_pred1 = logreg.predict_proba(X_test)[:,1]\n",
        "    y_pred1 = y_pred1.reshape(-1,1)\n",
        "    y_pred2 = binarize(y_pred1,threshold=i/10)\n",
        "    y_pred2 = np.where(y_pred2 == 1, 1, 0)\n",
        "\n",
        "    cm1 = confusion_matrix(y_test, y_pred2)\n",
        "\n",
        "    print ('With',i/10,'threshold the Confusion Matrix is ','\\n\\n',cm1,'\\n\\n',\n",
        "\n",
        "            'with',cm1[0,0]+cm1[1,1],'correct predictions, ', '\\n\\n',\n",
        "\n",
        "            cm1[0,1],'Type I errors( False Positives), ','\\n\\n',\n",
        "\n",
        "            cm1[1,0],'Type II errors( False Negatives), ','\\n\\n',\n",
        "\n",
        "           'Accuracy score: ', (accuracy_score(y_test, y_pred2)), '\\n\\n',\n",
        "           'Sensitivity: ',cm1[1,1]/(float(cm1[1,1]+cm1[1,0])), '\\n\\n',\n",
        "           'Specificity: ',cm1[0,0]/(float(cm1[0,0]+cm1[0,1])),'\\n\\n',\n",
        "\n",
        "            '====================================================', '\\n\\n')"
      ],
      "metadata": {
        "colab": {
          "base_uri": "https://localhost:8080/"
        },
        "id": "LgGSL1rpFNEo",
        "outputId": "ddc86708-2d6c-4bf0-c99f-526f9fbbe7fe"
      },
      "execution_count": null,
      "outputs": [
        {
          "output_type": "stream",
          "name": "stdout",
          "text": [
            "With 0.1 threshold the Confusion Matrix is  \n",
            "\n",
            " [[1114  167]\n",
            " [   0 1275]] \n",
            "\n",
            " with 2389 correct predictions,  \n",
            "\n",
            " 167 Type I errors( False Positives),  \n",
            "\n",
            " 0 Type II errors( False Negatives),  \n",
            "\n",
            " Accuracy score:  0.9346635367762128 \n",
            "\n",
            " Sensitivity:  1.0 \n",
            "\n",
            " Specificity:  0.8696330991412958 \n",
            "\n",
            " ==================================================== \n",
            "\n",
            "\n",
            "With 0.2 threshold the Confusion Matrix is  \n",
            "\n",
            " [[1176  105]\n",
            " [   0 1275]] \n",
            "\n",
            " with 2451 correct predictions,  \n",
            "\n",
            " 105 Type I errors( False Positives),  \n",
            "\n",
            " 0 Type II errors( False Negatives),  \n",
            "\n",
            " Accuracy score:  0.9589201877934272 \n",
            "\n",
            " Sensitivity:  1.0 \n",
            "\n",
            " Specificity:  0.9180327868852459 \n",
            "\n",
            " ==================================================== \n",
            "\n",
            "\n",
            "With 0.3 threshold the Confusion Matrix is  \n",
            "\n",
            " [[1210   71]\n",
            " [   1 1274]] \n",
            "\n",
            " with 2484 correct predictions,  \n",
            "\n",
            " 71 Type I errors( False Positives),  \n",
            "\n",
            " 1 Type II errors( False Negatives),  \n",
            "\n",
            " Accuracy score:  0.971830985915493 \n",
            "\n",
            " Sensitivity:  0.9992156862745099 \n",
            "\n",
            " Specificity:  0.9445745511319282 \n",
            "\n",
            " ==================================================== \n",
            "\n",
            "\n",
            "With 0.4 threshold the Confusion Matrix is  \n",
            "\n",
            " [[1234   47]\n",
            " [   2 1273]] \n",
            "\n",
            " with 2507 correct predictions,  \n",
            "\n",
            " 47 Type I errors( False Positives),  \n",
            "\n",
            " 2 Type II errors( False Negatives),  \n",
            "\n",
            " Accuracy score:  0.980829420970266 \n",
            "\n",
            " Sensitivity:  0.9984313725490196 \n",
            "\n",
            " Specificity:  0.9633099141295862 \n",
            "\n",
            " ==================================================== \n",
            "\n",
            "\n"
          ]
        }
      ]
    },
    {
      "cell_type": "markdown",
      "source": [
        "**Precisión nula**"
      ],
      "metadata": {
        "id": "939NFtdhC5Do"
      }
    },
    {
      "cell_type": "code",
      "source": [
        "y_test.value_counts()"
      ],
      "metadata": {
        "colab": {
          "base_uri": "https://localhost:8080/"
        },
        "id": "krket0tkBjJ1",
        "outputId": "1884cc32-3cf4-4dd7-d45a-42d88beea93e"
      },
      "execution_count": null,
      "outputs": [
        {
          "output_type": "execute_result",
          "data": {
            "text/plain": [
              "0    1281\n",
              "1    1275\n",
              "Name: pobreza, dtype: int64"
            ]
          },
          "metadata": {},
          "execution_count": 119
        }
      ]
    },
    {
      "cell_type": "code",
      "source": [
        "# comprobar la precisión nula\n",
        "\n",
        "null_accuracy = (1281/(1281+1275))\n",
        "\n",
        "print('Null accuracy score: {0:0.4f}'. format(null_accuracy))"
      ],
      "metadata": {
        "colab": {
          "base_uri": "https://localhost:8080/"
        },
        "id": "lJdi5wlwC9lo",
        "outputId": "20dc18a5-15c1-4c8e-fdb8-ba77ec164b31"
      },
      "execution_count": null,
      "outputs": [
        {
          "output_type": "stream",
          "name": "stdout",
          "text": [
            "Null accuracy score: 0.5012\n"
          ]
        }
      ]
    },
    {
      "cell_type": "markdown",
      "source": [
        "**Curva ROC**"
      ],
      "metadata": {
        "id": "Djy3z19MFj-k"
      }
    },
    {
      "cell_type": "code",
      "source": [
        "# plot ROC Curve\n",
        "\n",
        "#from sklearn.metrics import roc_curve\n",
        "fpr, tpr, thresholds = roc_curve(y_test, y_pred1, pos_label = 1)\n",
        "plt.figure(figsize=(6,4))\n",
        "plt.plot(fpr, tpr, linewidth=2)\n",
        "plt.plot([0,1], [0,1], 'k--' )\n",
        "plt.rcParams['font.size'] = 12\n",
        "plt.title('ROC curve for POBREZA classifier')\n",
        "plt.xlabel('False Positive Rate (1 - Specificity)')\n",
        "plt.ylabel('True Positive Rate (Sensitivity)')\n",
        "plt.show()"
      ],
      "metadata": {
        "colab": {
          "base_uri": "https://localhost:8080/",
          "height": 302
        },
        "id": "RH9fWWs9FNJb",
        "outputId": "9f4c142f-1762-4cbd-c72e-b0b1b14c6861"
      },
      "execution_count": null,
      "outputs": [
        {
          "output_type": "display_data",
          "data": {
            "text/plain": [
              "<Figure size 432x288 with 1 Axes>"
            ],
            "image/png": "[encoded data removed]"
          },
          "metadata": {
            "needs_background": "light"
          }
        }
      ]
    },
    {
      "cell_type": "code",
      "source": [
        "# compute ROC AUC\n",
        "\n",
        "ROC_AUC = roc_auc_score(y_test, y_pred1)\n",
        "print('ROC AUC : {:.4f}'.format(ROC_AUC))"
      ],
      "metadata": {
        "colab": {
          "base_uri": "https://localhost:8080/"
        },
        "id": "4UD2T9QhFNRc",
        "outputId": "b8127834-3383-449e-c6f7-c23408647f77"
      },
      "execution_count": null,
      "outputs": [
        {
          "output_type": "stream",
          "name": "stdout",
          "text": [
            "ROC AUC : 0.9992\n"
          ]
        }
      ]
    },
    {
      "cell_type": "markdown",
      "source": [
        "Se aproxima a 1"
      ],
      "metadata": {
        "id": "pphobsLeogwZ"
      }
    },
    {
      "cell_type": "markdown",
      "source": [
        "### **Evaluación - Exp 2**"
      ],
      "metadata": {
        "id": "rAwNoFJ9oK0i"
      }
    },
    {
      "cell_type": "code",
      "source": [
        "# calculate cross-validated ROC AUC\n",
        "\n",
        "Cross_validated_ROC_AUC = cross_val_score(logreg, X_train, y_train, cv=5, scoring='roc_auc').mean()\n",
        "print('Cross validated ROC AUC : {:.4f}'.format(Cross_validated_ROC_AUC))"
      ],
      "metadata": {
        "colab": {
          "base_uri": "https://localhost:8080/"
        },
        "id": "wM5sIIIRFNV8",
        "outputId": "c8be1c82-8a2d-435d-8521-94839081b8d2"
      },
      "execution_count": null,
      "outputs": [
        {
          "output_type": "stream",
          "name": "stdout",
          "text": [
            "Cross validated ROC AUC : 0.9992\n"
          ]
        }
      ]
    },
    {
      "cell_type": "code",
      "source": [
        "# Validación cruzada k-fold\n",
        "# Aplicación de la validación cruzada por quintuplicado\n",
        "\n",
        "scores = cross_val_score(logreg, X_train, y_train, cv = 5, scoring='accuracy')\n",
        "print('Cross-validation scores:{}'.format(scores))"
      ],
      "metadata": {
        "colab": {
          "base_uri": "https://localhost:8080/"
        },
        "id": "6cJr7lgJFNa3",
        "outputId": "a7a83b07-5be3-46ae-c291-8877ffdc5de7"
      },
      "execution_count": null,
      "outputs": [
        {
          "output_type": "stream",
          "name": "stdout",
          "text": [
            "Cross-validation scores:[0.98407376 0.98155909 0.97986577 0.9840604  0.98489933]\n"
          ]
        }
      ]
    },
    {
      "cell_type": "code",
      "source": [
        "#Podemos resumir la precisión de la validación cruzada calculando su media.\n",
        "print('Average cross-validation score: {:.4f}'.format(scores.mean()))"
      ],
      "metadata": {
        "colab": {
          "base_uri": "https://localhost:8080/"
        },
        "id": "LVWy3BgxGGhj",
        "outputId": "5ae0cc86-9b1b-454a-9980-d683661c6467"
      },
      "execution_count": null,
      "outputs": [
        {
          "output_type": "stream",
          "name": "stdout",
          "text": [
            "Average cross-validation score: 0.9829\n"
          ]
        }
      ]
    },
    {
      "cell_type": "markdown",
      "source": [
        "La puntuación del modelo original es de 0.9859. La puntuación media de la validación cruzada es de 0,9829. Como en el experimento anterior, la validación cruzada no mejora el rendimiento."
      ],
      "metadata": {
        "id": "BH2I6uSwGJEw"
      }
    },
    {
      "cell_type": "markdown",
      "source": [
        "**Optimización de hiperparámetros mediante GridSearch CV**"
      ],
      "metadata": {
        "id": "bTHQ39v9GXhe"
      }
    },
    {
      "cell_type": "code",
      "source": [
        "#from sklearn.model_selection import GridSearchCV\n",
        "\n",
        "\n",
        "parameters = [{'penalty':['l1','l2']},\n",
        "              {'C':[1, 10, 100, 1000]}]\n",
        "\n",
        "\n",
        "grid_search = GridSearchCV(estimator = logreg,\n",
        "                           param_grid = parameters,\n",
        "                           scoring = 'accuracy',\n",
        "                           cv = 10,\n",
        "                           verbose=0)\n",
        "\n",
        "grid_search.fit(X_train, y_train)"
      ],
      "metadata": {
        "colab": {
          "base_uri": "https://localhost:8080/"
        },
        "id": "KCVNbhHVGWau",
        "outputId": "62399dc5-fbc7-48dc-8bfb-cc0e0a768737"
      },
      "execution_count": null,
      "outputs": [
        {
          "output_type": "execute_result",
          "data": {
            "text/plain": [
              "GridSearchCV(cv=10,\n",
              "             estimator=LogisticRegression(C=1000, random_state=0,\n",
              "                                          solver='liblinear'),\n",
              "             param_grid=[{'penalty': ['l1', 'l2']}, {'C': [1, 10, 100, 1000]}],\n",
              "             scoring='accuracy')"
            ]
          },
          "metadata": {},
          "execution_count": 129
        }
      ]
    },
    {
      "cell_type": "code",
      "source": [
        "# examinar los parámetros del mejor modelos\n",
        "\n",
        "# mejor puntuación obtenida durante la GridSearchCV\n",
        "print('Mejor puntuación GridSearch CV: {:.4f}\\n\\n'.format(grid_search.best_score_))\n",
        "\n",
        "# mostrar los parámetros que dan los mejores resultados\n",
        "print('Parámetros que dan los mejores resultados :','\\n\\n', (grid_search.best_params_))\n",
        "\n",
        "# estimador que fue elegido por el GridSearch\n",
        "print('\\n\\nEstimador elegido:','\\n\\n', (grid_search.best_estimator_))"
      ],
      "metadata": {
        "colab": {
          "base_uri": "https://localhost:8080/"
        },
        "id": "njFJnIfnGW9P",
        "outputId": "d80d45cc-001d-4192-ad92-3626db7abe7a"
      },
      "execution_count": null,
      "outputs": [
        {
          "output_type": "stream",
          "name": "stdout",
          "text": [
            "Mejor puntuación GridSearch CV: 0.9948\n",
            "\n",
            "\n",
            "Parámetros que dan los mejores resultados : \n",
            "\n",
            " {'penalty': 'l1'}\n",
            "\n",
            "\n",
            "Estimador elegido: \n",
            "\n",
            " LogisticRegression(C=1000, penalty='l1', random_state=0, solver='liblinear')\n"
          ]
        }
      ]
    },
    {
      "cell_type": "markdown",
      "source": [
        "\n",
        "\n",
        "---\n",
        "\n"
      ],
      "metadata": {
        "id": "MACynZF1HX4p"
      }
    },
    {
      "cell_type": "markdown",
      "source": [
        "# **Experimento 3**"
      ],
      "metadata": {
        "id": "WPUpLYQ0H2fa"
      }
    },
    {
      "cell_type": "markdown",
      "source": [
        "Ajustamos nuevamente el modelo con los datos de optimizaciñon obtenidos en el experimento 2"
      ],
      "metadata": {
        "id": "PyEwqcP1H5zM"
      }
    },
    {
      "cell_type": "code",
      "source": [
        "# instanciamos\n",
        "logreg = LogisticRegression(C=1000, penalty='l1', solver='liblinear', random_state=0)\n",
        "# modelo\n",
        "logreg.fit(X_train, y_train)"
      ],
      "metadata": {
        "colab": {
          "base_uri": "https://localhost:8080/"
        },
        "id": "asWqb0qSGXBh",
        "outputId": "34cb6f98-2288-4f2b-867d-6bb9cb698aa5"
      },
      "execution_count": null,
      "outputs": [
        {
          "output_type": "execute_result",
          "data": {
            "text/plain": [
              "LogisticRegression(C=1000, penalty='l1', random_state=0, solver='liblinear')"
            ]
          },
          "metadata": {},
          "execution_count": 131
        }
      ]
    },
    {
      "cell_type": "code",
      "source": [
        "y_pred_test = logreg.predict(X_test)\n",
        "y_pred_test"
      ],
      "metadata": {
        "colab": {
          "base_uri": "https://localhost:8080/"
        },
        "id": "H2D_tm7iGXF7",
        "outputId": "521d50ef-bf12-4f01-8abd-6ca99e2ea125"
      },
      "execution_count": null,
      "outputs": [
        {
          "output_type": "execute_result",
          "data": {
            "text/plain": [
              "array([1, 1, 0, ..., 1, 0, 1])"
            ]
          },
          "metadata": {},
          "execution_count": 132
        }
      ]
    },
    {
      "cell_type": "code",
      "source": [
        "# probabilidad 0 - no probreza\n",
        "logreg.predict_proba(X_test)[:,0]"
      ],
      "metadata": {
        "colab": {
          "base_uri": "https://localhost:8080/"
        },
        "id": "KP1-g8bBIREy",
        "outputId": "4d1e64b1-9f0e-45e6-b5d9-bb1a2ae23b1c"
      },
      "execution_count": null,
      "outputs": [
        {
          "output_type": "execute_result",
          "data": {
            "text/plain": [
              "array([2.74891221e-12, 2.26829625e-05, 1.00000000e+00, ...,\n",
              "       0.00000000e+00, 1.00000000e+00, 4.91734164e-09])"
            ]
          },
          "metadata": {},
          "execution_count": 133
        }
      ]
    },
    {
      "cell_type": "code",
      "source": [
        "# probabilidad 1 - pobreza\n",
        "logreg.predict_proba(X_test)[:,1]"
      ],
      "metadata": {
        "colab": {
          "base_uri": "https://localhost:8080/"
        },
        "id": "gMaImf_tIRQ_",
        "outputId": "9d4df063-d9ff-4d58-af17-7be154cec9ce"
      },
      "execution_count": null,
      "outputs": [
        {
          "output_type": "execute_result",
          "data": {
            "text/plain": [
              "array([1.00000000e+00, 9.99977317e-01, 7.21204323e-12, ...,\n",
              "       1.00000000e+00, 5.40715808e-15, 9.99999995e-01])"
            ]
          },
          "metadata": {},
          "execution_count": 134
        }
      ]
    },
    {
      "cell_type": "markdown",
      "source": [
        "**Precisión del modelo**"
      ],
      "metadata": {
        "id": "G6Hg1FrjIW80"
      }
    },
    {
      "cell_type": "code",
      "source": [
        "print('Model accuracy score: {0:0.4f}'. format(accuracy_score(y_test, y_pred_test)))"
      ],
      "metadata": {
        "colab": {
          "base_uri": "https://localhost:8080/"
        },
        "id": "4eylxKzKIRbc",
        "outputId": "e9792d65-2096-41c1-a433-56887f78020c"
      },
      "execution_count": null,
      "outputs": [
        {
          "output_type": "stream",
          "name": "stdout",
          "text": [
            "Model accuracy score: 0.9957\n"
          ]
        }
      ]
    },
    {
      "cell_type": "markdown",
      "source": [
        "**Matriz de confusión**"
      ],
      "metadata": {
        "id": "v8O2JF1vI4aD"
      }
    },
    {
      "cell_type": "code",
      "source": [
        "# Matriz de confusión\n",
        "\n",
        "#from sklearn.metrics import confusion_matrix\n",
        "cm = confusion_matrix(y_test, y_pred_test)\n",
        "print('Confusion matrix\\n\\n', cm)\n",
        "print('\\nTrue Positives(TP) = ', cm[0,0])\n",
        "print('\\nTrue Negatives(TN) = ', cm[1,1])\n",
        "print('\\nFalse Positives(FP) = ', cm[0,1])\n",
        "print('\\nFalse Negatives(FN) = ', cm[1,0])"
      ],
      "metadata": {
        "colab": {
          "base_uri": "https://localhost:8080/"
        },
        "id": "6ojVtI9YImBo",
        "outputId": "1c5dfe17-b5fd-43dd-e0ba-f9f8f342992f"
      },
      "execution_count": null,
      "outputs": [
        {
          "output_type": "stream",
          "name": "stdout",
          "text": [
            "Confusion matrix\n",
            "\n",
            " [[1278    3]\n",
            " [   8 1267]]\n",
            "\n",
            "True Positives(TP) =  1278\n",
            "\n",
            "True Negatives(TN) =  1267\n",
            "\n",
            "False Positives(FP) =  3\n",
            "\n",
            "False Negatives(FN) =  8\n"
          ]
        }
      ]
    },
    {
      "cell_type": "code",
      "source": [
        "# visualize confusion matrix with seaborn heatmap\n",
        "\n",
        "cm_matrix = pd.DataFrame(data=cm, columns=['Actual Positive:1', 'Actual Negative:0'],\n",
        "                                 index=['Predict Positive:1', 'Predict Negative:0'])\n",
        "\n",
        "sns.heatmap(cm_matrix, annot=True, fmt='d', cmap='YlGnBu')"
      ],
      "metadata": {
        "colab": {
          "base_uri": "https://localhost:8080/",
          "height": 285
        },
        "id": "seq2v2WYImN5",
        "outputId": "33ffaaa7-a4aa-4ade-87fd-ec4a40f17b90"
      },
      "execution_count": null,
      "outputs": [
        {
          "output_type": "execute_result",
          "data": {
            "text/plain": [
              "<matplotlib.axes._subplots.AxesSubplot at 0x7fca62dd2750>"
            ]
          },
          "metadata": {},
          "execution_count": 139
        },
        {
          "output_type": "display_data",
          "data": {
            "text/plain": [
              "<Figure size 432x288 with 2 Axes>"
            ],
            "image/png": "[encoded data removed]"
          },
          "metadata": {
            "needs_background": "light"
          }
        }
      ]
    },
    {
      "cell_type": "code",
      "source": [
        "#Informe de clasificación\n",
        "from sklearn.metrics import classification_report\n",
        "\n",
        "print(classification_report(y_test, y_pred_test))"
      ],
      "metadata": {
        "colab": {
          "base_uri": "https://localhost:8080/"
        },
        "id": "x6BrO3yRImSj",
        "outputId": "59200d88-939b-4d21-c2b7-9a5698d05649"
      },
      "execution_count": null,
      "outputs": [
        {
          "output_type": "stream",
          "name": "stdout",
          "text": [
            "              precision    recall  f1-score   support\n",
            "\n",
            "           0       0.99      1.00      1.00      1281\n",
            "           1       1.00      0.99      1.00      1275\n",
            "\n",
            "    accuracy                           1.00      2556\n",
            "   macro avg       1.00      1.00      1.00      2556\n",
            "weighted avg       1.00      1.00      1.00      2556\n",
            "\n"
          ]
        }
      ]
    },
    {
      "cell_type": "code",
      "source": [
        "#Precisión de la clasificación\n",
        "TP = cm[0,0]\n",
        "TN = cm[1,1]\n",
        "FP = cm[0,1]\n",
        "FN = cm[1,0]"
      ],
      "metadata": {
        "id": "d8z20i1QJE27"
      },
      "execution_count": null,
      "outputs": []
    },
    {
      "cell_type": "code",
      "source": [
        "classification_accuracy = (TP + TN) / float(TP + TN + FP + FN)\n",
        "print('Classification accuracy : {0:0.4f}'.format(classification_accuracy))"
      ],
      "metadata": {
        "colab": {
          "base_uri": "https://localhost:8080/"
        },
        "id": "2y6iJ8ruJIfx",
        "outputId": "364a0ee9-2c7c-4a71-b4b5-47667c7388f9"
      },
      "execution_count": null,
      "outputs": [
        {
          "output_type": "stream",
          "name": "stdout",
          "text": [
            "Classification accuracy : 0.9957\n"
          ]
        }
      ]
    },
    {
      "cell_type": "code",
      "source": [
        "#Classification error\n",
        "classification_error = (FP + FN) / float(TP + TN + FP + FN)\n",
        "print('Classification error : {0:0.4f}'.format(classification_error))"
      ],
      "metadata": {
        "colab": {
          "base_uri": "https://localhost:8080/"
        },
        "id": "m3msbMp9JIkP",
        "outputId": "f4cb5801-d1f9-483f-ba65-93b94a09e90c"
      },
      "execution_count": null,
      "outputs": [
        {
          "output_type": "stream",
          "name": "stdout",
          "text": [
            "Classification error : 0.0043\n"
          ]
        }
      ]
    },
    {
      "cell_type": "code",
      "source": [
        "# print precision score\n",
        "precision = TP / float(TP + FP)\n",
        "print('Precision : {0:0.4f}'.format(precision))"
      ],
      "metadata": {
        "colab": {
          "base_uri": "https://localhost:8080/"
        },
        "id": "HRLTaIytJIpP",
        "outputId": "959abb02-7573-4071-c540-b0190f503f92"
      },
      "execution_count": null,
      "outputs": [
        {
          "output_type": "stream",
          "name": "stdout",
          "text": [
            "Precision : 0.9977\n"
          ]
        }
      ]
    },
    {
      "cell_type": "code",
      "source": [
        "recall = TP / float(TP + FN)\n",
        "print('Recall or Sensitivity : {0:0.4f}'.format(recall))"
      ],
      "metadata": {
        "colab": {
          "base_uri": "https://localhost:8080/"
        },
        "id": "alFjM6kRJItg",
        "outputId": "ac8785da-c571-4a66-a972-fb7ba6d17d25"
      },
      "execution_count": null,
      "outputs": [
        {
          "output_type": "stream",
          "name": "stdout",
          "text": [
            "Recall or Sensitivity : 0.9938\n"
          ]
        }
      ]
    },
    {
      "cell_type": "code",
      "source": [
        "true_positive_rate = TP / float(TP + FN)\n",
        "print('True Positive Rate : {0:0.4f}'.format(true_positive_rate))"
      ],
      "metadata": {
        "colab": {
          "base_uri": "https://localhost:8080/"
        },
        "id": "93CTjDZfJJAV",
        "outputId": "9a25636b-fe54-4351-ef51-b0fd9dcf4694"
      },
      "execution_count": null,
      "outputs": [
        {
          "output_type": "stream",
          "name": "stdout",
          "text": [
            "True Positive Rate : 0.9938\n"
          ]
        }
      ]
    },
    {
      "cell_type": "code",
      "source": [
        "false_positive_rate = FP / float(FP + TN)\n",
        "print('False Positive Rate : {0:0.4f}'.format(false_positive_rate))"
      ],
      "metadata": {
        "colab": {
          "base_uri": "https://localhost:8080/"
        },
        "id": "VqkLeVprJJE-",
        "outputId": "d67d8af9-68f6-4326-e026-0290f6e42508"
      },
      "execution_count": null,
      "outputs": [
        {
          "output_type": "stream",
          "name": "stdout",
          "text": [
            "False Positive Rate : 0.0024\n"
          ]
        }
      ]
    },
    {
      "cell_type": "code",
      "source": [
        "specificity = TN / (TN + FP)\n",
        "print('Specificity : {0:0.4f}'.format(specificity))"
      ],
      "metadata": {
        "colab": {
          "base_uri": "https://localhost:8080/"
        },
        "id": "unay5Q7VJbUm",
        "outputId": "5bca2a96-c2a0-40ff-b502-dde29b56be68"
      },
      "execution_count": null,
      "outputs": [
        {
          "output_type": "stream",
          "name": "stdout",
          "text": [
            "Specificity : 0.9976\n"
          ]
        }
      ]
    },
    {
      "cell_type": "code",
      "source": [
        "# ajustamos el nivel de umbral\n",
        "# mostrar las 10 primeras probabilidades predichas de dos clases - 0 y 1\n",
        "y_pred_prob = logreg.predict_proba(X_test)[0:10]\n",
        "y_pred_prob"
      ],
      "metadata": {
        "colab": {
          "base_uri": "https://localhost:8080/"
        },
        "id": "0sCKVVJUJbgo",
        "outputId": "07843a9a-3645-4bd4-b49f-948ad6de1d74"
      },
      "execution_count": null,
      "outputs": [
        {
          "output_type": "execute_result",
          "data": {
            "text/plain": [
              "array([[2.74891221e-12, 1.00000000e+00],\n",
              "       [2.26829625e-05, 9.99977317e-01],\n",
              "       [1.00000000e+00, 7.21204323e-12],\n",
              "       [3.73034936e-14, 1.00000000e+00],\n",
              "       [9.99998969e-01, 1.03074681e-06],\n",
              "       [1.00000000e+00, 0.00000000e+00],\n",
              "       [0.00000000e+00, 1.00000000e+00],\n",
              "       [0.00000000e+00, 1.00000000e+00],\n",
              "       [0.00000000e+00, 1.00000000e+00],\n",
              "       [1.00000000e+00, 4.50368250e-57]])"
            ]
          },
          "metadata": {},
          "execution_count": 149
        }
      ]
    },
    {
      "cell_type": "code",
      "source": [
        "# almacenar las probabilidades en un dataframe\n",
        "y_pred_prob_df = pd.DataFrame(data=y_pred_prob, columns=['Prob of - No POBREZA (0)', 'Prob of - POBREZA (1)'])\n",
        "y_pred_prob_df"
      ],
      "metadata": {
        "colab": {
          "base_uri": "https://localhost:8080/",
          "height": 363
        },
        "id": "YDLf_96iJbtk",
        "outputId": "668c37f1-2413-4507-d5db-bef555a80fb2"
      },
      "execution_count": null,
      "outputs": [
        {
          "output_type": "execute_result",
          "data": {
            "text/plain": [
              "   Prob of - No POBREZA (0)  Prob of - POBREZA (1)\n",
              "0              2.748912e-12           1.000000e+00\n",
              "1              2.268296e-05           9.999773e-01\n",
              "2              1.000000e+00           7.212043e-12\n",
              "3              3.730349e-14           1.000000e+00\n",
              "4              9.999990e-01           1.030747e-06\n",
              "5              1.000000e+00           0.000000e+00\n",
              "6              0.000000e+00           1.000000e+00\n",
              "7              0.000000e+00           1.000000e+00\n",
              "8              0.000000e+00           1.000000e+00\n",
              "9              1.000000e+00           4.503683e-57"
            ],
            "text/html": [
              "\n",
              "  <div id=\"df-673f5312-25c8-4b90-aa67-5dd10aecf7fb\">\n",
              "    <div class=\"colab-df-container\">\n",
              "      <div>\n",
              "<style scoped>\n",
              "    .dataframe tbody tr th:only-of-type {\n",
              "        vertical-align: middle;\n",
              "    }\n",
              "\n",
              "    .dataframe tbody tr th {\n",
              "        vertical-align: top;\n",
              "    }\n",
              "\n",
              "    .dataframe thead th {\n",
              "        text-align: right;\n",
              "    }\n",
              "</style>\n",
              "<table border=\"1\" class=\"dataframe\">\n",
              "  <thead>\n",
              "    <tr style=\"text-align: right;\">\n",
              "      <th></th>\n",
              "      <th>Prob of - No POBREZA (0)</th>\n",
              "      <th>Prob of - POBREZA (1)</th>\n",
              "    </tr>\n",
              "  </thead>\n",
              "  <tbody>\n",
              "    <tr>\n",
              "      <th>0</th>\n",
              "      <td>2.748912e-12</td>\n",
              "      <td>1.000000e+00</td>\n",
              "    </tr>\n",
              "    <tr>\n",
              "      <th>1</th>\n",
              "      <td>2.268296e-05</td>\n",
              "      <td>9.999773e-01</td>\n",
              "    </tr>\n",
              "    <tr>\n",
              "      <th>2</th>\n",
              "      <td>1.000000e+00</td>\n",
              "      <td>7.212043e-12</td>\n",
              "    </tr>\n",
              "    <tr>\n",
              "      <th>3</th>\n",
              "      <td>3.730349e-14</td>\n",
              "      <td>1.000000e+00</td>\n",
              "    </tr>\n",
              "    <tr>\n",
              "      <th>4</th>\n",
              "      <td>9.999990e-01</td>\n",
              "      <td>1.030747e-06</td>\n",
              "    </tr>\n",
              "    <tr>\n",
              "      <th>5</th>\n",
              "      <td>1.000000e+00</td>\n",
              "      <td>0.000000e+00</td>\n",
              "    </tr>\n",
              "    <tr>\n",
              "      <th>6</th>\n",
              "      <td>0.000000e+00</td>\n",
              "      <td>1.000000e+00</td>\n",
              "    </tr>\n",
              "    <tr>\n",
              "      <th>7</th>\n",
              "      <td>0.000000e+00</td>\n",
              "      <td>1.000000e+00</td>\n",
              "    </tr>\n",
              "    <tr>\n",
              "      <th>8</th>\n",
              "      <td>0.000000e+00</td>\n",
              "      <td>1.000000e+00</td>\n",
              "    </tr>\n",
              "    <tr>\n",
              "      <th>9</th>\n",
              "      <td>1.000000e+00</td>\n",
              "      <td>4.503683e-57</td>\n",
              "    </tr>\n",
              "  </tbody>\n",
              "</table>\n",
              "</div>\n",
              "      <button class=\"colab-df-convert\" onclick=\"convertToInteractive('df-673f5312-25c8-4b90-aa67-5dd10aecf7fb')\"\n",
              "              title=\"Convert this dataframe to an interactive table.\"\n",
              "              style=\"display:none;\">\n",
              "        \n",
              "  <svg xmlns=\"http://www.w3.org/2000/svg\" height=\"24px\"viewBox=\"0 0 24 24\"\n",
              "       width=\"24px\">\n",
              "    <path d=\"M0 0h24v24H0V0z\" fill=\"none\"/>\n",
              "    <path d=\"M18.56 5.44l.94 2.06.94-2.06 2.06-.94-2.06-.94-.94-2.06-.94 2.06-2.06.94zm-11 1L8.5 8.5l.94-2.06 2.06-.94-2.06-.94L8.5 2.5l-.94 2.06-2.06.94zm10 10l.94 2.06.94-2.06 2.06-.94-2.06-.94-.94-2.06-.94 2.06-2.06.94z\"/><path d=\"M17.41 7.96l-1.37-1.37c-.4-.4-.92-.59-1.43-.59-.52 0-1.04.2-1.43.59L10.3 9.45l-7.72 7.72c-.78.78-.78 2.05 0 2.83L4 21.41c.39.39.9.59 1.41.59.51 0 1.02-.2 1.41-.59l7.78-7.78 2.81-2.81c.8-.78.8-2.07 0-2.86zM5.41 20L4 18.59l7.72-7.72 1.47 1.35L5.41 20z\"/>\n",
              "  </svg>\n",
              "      </button>\n",
              "      \n",
              "  <style>\n",
              "    .colab-df-container {\n",
              "      display:flex;\n",
              "      flex-wrap:wrap;\n",
              "      gap: 12px;\n",
              "    }\n",
              "\n",
              "    .colab-df-convert {\n",
              "      background-color: #E8F0FE;\n",
              "      border: none;\n",
              "      border-radius: 50%;\n",
              "      cursor: pointer;\n",
              "      display: none;\n",
              "      fill: #1967D2;\n",
              "      height: 32px;\n",
              "      padding: 0 0 0 0;\n",
              "      width: 32px;\n",
              "    }\n",
              "\n",
              "    .colab-df-convert:hover {\n",
              "      background-color: #E2EBFA;\n",
              "      box-shadow: 0px 1px 2px rgba(60, 64, 67, 0.3), 0px 1px 3px 1px rgba(60, 64, 67, 0.15);\n",
              "      fill: #174EA6;\n",
              "    }\n",
              "\n",
              "    [theme=dark] .colab-df-convert {\n",
              "      background-color: #3B4455;\n",
              "      fill: #D2E3FC;\n",
              "    }\n",
              "\n",
              "    [theme=dark] .colab-df-convert:hover {\n",
              "      background-color: #434B5C;\n",
              "      box-shadow: 0px 1px 3px 1px rgba(0, 0, 0, 0.15);\n",
              "      filter: drop-shadow(0px 1px 2px rgba(0, 0, 0, 0.3));\n",
              "      fill: #FFFFFF;\n",
              "    }\n",
              "  </style>\n",
              "\n",
              "      <script>\n",
              "        const buttonEl =\n",
              "          document.querySelector('#df-673f5312-25c8-4b90-aa67-5dd10aecf7fb button.colab-df-convert');\n",
              "        buttonEl.style.display =\n",
              "          google.colab.kernel.accessAllowed ? 'block' : 'none';\n",
              "\n",
              "        async function convertToInteractive(key) {\n",
              "          const element = document.querySelector('#df-673f5312-25c8-4b90-aa67-5dd10aecf7fb');\n",
              "          const dataTable =\n",
              "            await google.colab.kernel.invokeFunction('convertToInteractive',\n",
              "                                                     [key], {});\n",
              "          if (!dataTable) return;\n",
              "\n",
              "          const docLinkHtml = 'Like what you see? Visit the ' +\n",
              "            '<a target=\"_blank\" href=https://colab.research.google.com/notebooks/data_table.ipynb>data table notebook</a>'\n",
              "            + ' to learn more about interactive tables.';\n",
              "          element.innerHTML = '';\n",
              "          dataTable['output_type'] = 'display_data';\n",
              "          await google.colab.output.renderOutput(dataTable, element);\n",
              "          const docLink = document.createElement('div');\n",
              "          docLink.innerHTML = docLinkHtml;\n",
              "          element.appendChild(docLink);\n",
              "        }\n",
              "      </script>\n",
              "    </div>\n",
              "  </div>\n",
              "  "
            ]
          },
          "metadata": {},
          "execution_count": 150
        }
      ]
    },
    {
      "cell_type": "code",
      "source": [
        "# 10 primeros probabilidades para la clase 1 - Probability of POBREZA\n",
        "logreg.predict_proba(X_test)[0:10, 1]"
      ],
      "metadata": {
        "colab": {
          "base_uri": "https://localhost:8080/"
        },
        "id": "ux6A1B4NJJJm",
        "outputId": "b7220a08-2691-4eed-b0cd-e5c2fe592c29"
      },
      "execution_count": null,
      "outputs": [
        {
          "output_type": "execute_result",
          "data": {
            "text/plain": [
              "array([1.00000000e+00, 9.99977317e-01, 7.21204323e-12, 1.00000000e+00,\n",
              "       1.03074681e-06, 0.00000000e+00, 1.00000000e+00, 1.00000000e+00,\n",
              "       1.00000000e+00, 4.50368250e-57])"
            ]
          },
          "metadata": {},
          "execution_count": 151
        }
      ]
    },
    {
      "cell_type": "code",
      "source": [
        "#almacenar las probabilidades previstas para la clase 1 - Probabilidad de POBREZA\n",
        "y_pred1 = logreg.predict_proba(X_test)[:, 1]"
      ],
      "metadata": {
        "id": "lhqBnBVGJJOX"
      },
      "execution_count": null,
      "outputs": []
    },
    {
      "cell_type": "code",
      "source": [
        "# histograma\n",
        "# adjust the font size\n",
        "plt.rcParams['font.size'] = 12\n",
        "# plot histogram with 10 bins\n",
        "plt.hist(y_pred1, bins = 10)\n",
        "# set the title of predicted probabilities\n",
        "plt.title('Histogram of predicted probabilities of POBREZA')\n",
        "# set the x-axis limit\n",
        "plt.xlim(0,1)\n",
        "# set the title\n",
        "plt.xlabel('Predicted probabilities of POBREZA')\n",
        "plt.ylabel('Frequency')"
      ],
      "metadata": {
        "colab": {
          "base_uri": "https://localhost:8080/",
          "height": 319
        },
        "id": "GRdcTBpGJvkL",
        "outputId": "9b1fe266-6965-47cd-d533-20c6cb10d0f0"
      },
      "execution_count": null,
      "outputs": [
        {
          "output_type": "execute_result",
          "data": {
            "text/plain": [
              "Text(0, 0.5, 'Frequency')"
            ]
          },
          "metadata": {},
          "execution_count": 153
        },
        {
          "output_type": "display_data",
          "data": {
            "text/plain": [
              "<Figure size 432x288 with 1 Axes>"
            ],
            "image/png": "[encoded data removed]"
          },
          "metadata": {
            "needs_background": "light"
          }
        }
      ]
    },
    {
      "cell_type": "markdown",
      "source": [
        "**Bajar el umbral**"
      ],
      "metadata": {
        "id": "t53NRz7uLPW6"
      }
    },
    {
      "cell_type": "code",
      "source": [
        "#from sklearn.preprocessing import binarize\n",
        "\n",
        "\n",
        "for i in range(1,5):\n",
        "\n",
        "    cm1=0\n",
        "\n",
        "    y_pred1 = logreg.predict_proba(X_test)[:,1]\n",
        "    y_pred1 = y_pred1.reshape(-1,1)\n",
        "    y_pred2 = binarize(y_pred1,threshold=i/10)\n",
        "    y_pred2 = np.where(y_pred2 == 1, 1, 0)\n",
        "\n",
        "    cm1 = confusion_matrix(y_test, y_pred2)\n",
        "\n",
        "    print ('With',i/10,'threshold the Confusion Matrix is ','\\n\\n',cm1,'\\n\\n',\n",
        "\n",
        "            'with',cm1[0,0]+cm1[1,1],'correct predictions, ', '\\n\\n',\n",
        "\n",
        "            cm1[0,1],'Type I errors( False Positives), ','\\n\\n',\n",
        "\n",
        "            cm1[1,0],'Type II errors( False Negatives), ','\\n\\n',\n",
        "\n",
        "           'Accuracy score: ', (accuracy_score(y_test, y_pred2)), '\\n\\n',\n",
        "           'Sensitivity: ',cm1[1,1]/(float(cm1[1,1]+cm1[1,0])), '\\n\\n',\n",
        "           'Specificity: ',cm1[0,0]/(float(cm1[0,0]+cm1[0,1])),'\\n\\n',\n",
        "\n",
        "            '====================================================', '\\n\\n')"
      ],
      "metadata": {
        "colab": {
          "base_uri": "https://localhost:8080/"
        },
        "id": "cHBJjT1nLQbO",
        "outputId": "d04019cf-8d7a-40f8-e7f9-4181623c15b2"
      },
      "execution_count": null,
      "outputs": [
        {
          "output_type": "stream",
          "name": "stdout",
          "text": [
            "With 0.1 threshold the Confusion Matrix is  \n",
            "\n",
            " [[1264   17]\n",
            " [   4 1271]] \n",
            "\n",
            " with 2535 correct predictions,  \n",
            "\n",
            " 17 Type I errors( False Positives),  \n",
            "\n",
            " 4 Type II errors( False Negatives),  \n",
            "\n",
            " Accuracy score:  0.9917840375586855 \n",
            "\n",
            " Sensitivity:  0.9968627450980392 \n",
            "\n",
            " Specificity:  0.9867291178766588 \n",
            "\n",
            " ==================================================== \n",
            "\n",
            "\n",
            "With 0.2 threshold the Confusion Matrix is  \n",
            "\n",
            " [[1274    7]\n",
            " [   4 1271]] \n",
            "\n",
            " with 2545 correct predictions,  \n",
            "\n",
            " 7 Type I errors( False Positives),  \n",
            "\n",
            " 4 Type II errors( False Negatives),  \n",
            "\n",
            " Accuracy score:  0.9956964006259781 \n",
            "\n",
            " Sensitivity:  0.9968627450980392 \n",
            "\n",
            " Specificity:  0.994535519125683 \n",
            "\n",
            " ==================================================== \n",
            "\n",
            "\n",
            "With 0.3 threshold the Confusion Matrix is  \n",
            "\n",
            " [[1276    5]\n",
            " [   6 1269]] \n",
            "\n",
            " with 2545 correct predictions,  \n",
            "\n",
            " 5 Type I errors( False Positives),  \n",
            "\n",
            " 6 Type II errors( False Negatives),  \n",
            "\n",
            " Accuracy score:  0.9956964006259781 \n",
            "\n",
            " Sensitivity:  0.9952941176470588 \n",
            "\n",
            " Specificity:  0.9960967993754879 \n",
            "\n",
            " ==================================================== \n",
            "\n",
            "\n",
            "With 0.4 threshold the Confusion Matrix is  \n",
            "\n",
            " [[1276    5]\n",
            " [   8 1267]] \n",
            "\n",
            " with 2543 correct predictions,  \n",
            "\n",
            " 5 Type I errors( False Positives),  \n",
            "\n",
            " 8 Type II errors( False Negatives),  \n",
            "\n",
            " Accuracy score:  0.9949139280125195 \n",
            "\n",
            " Sensitivity:  0.9937254901960785 \n",
            "\n",
            " Specificity:  0.9960967993754879 \n",
            "\n",
            " ==================================================== \n",
            "\n",
            "\n"
          ]
        }
      ]
    },
    {
      "cell_type": "markdown",
      "source": [
        "**Curva ROC**"
      ],
      "metadata": {
        "id": "-eL3yhkKJ5xg"
      }
    },
    {
      "cell_type": "code",
      "source": [
        "# plot ROC Curve\n",
        "\n",
        "#from sklearn.metrics import roc_curve\n",
        "fpr, tpr, thresholds = roc_curve(y_test, y_pred1, pos_label = 1)\n",
        "plt.figure(figsize=(6,4))\n",
        "plt.plot(fpr, tpr, linewidth=2)\n",
        "plt.plot([0,1], [0,1], 'k--' )\n",
        "plt.rcParams['font.size'] = 12\n",
        "plt.title('ROC curve for POBREZA classifier')\n",
        "plt.xlabel('False Positive Rate (1 - Specificity)')\n",
        "plt.ylabel('True Positive Rate (Sensitivity)')\n",
        "plt.show()"
      ],
      "metadata": {
        "colab": {
          "base_uri": "https://localhost:8080/",
          "height": 302
        },
        "id": "Oj6Nxzr2Jvqs",
        "outputId": "976c59ce-fb52-4cf9-e9af-009b0cff2a7c"
      },
      "execution_count": null,
      "outputs": [
        {
          "output_type": "display_data",
          "data": {
            "text/plain": [
              "<Figure size 432x288 with 1 Axes>"
            ],
            "image/png": "[encoded data removed]"
          },
          "metadata": {
            "needs_background": "light"
          }
        }
      ]
    },
    {
      "cell_type": "code",
      "source": [
        "# compute ROC AUC\n",
        "\n",
        "ROC_AUC = roc_auc_score(y_test, y_pred1)\n",
        "print('ROC AUC : {:.4f}'.format(ROC_AUC))"
      ],
      "metadata": {
        "colab": {
          "base_uri": "https://localhost:8080/"
        },
        "id": "7-obgcWkJvvE",
        "outputId": "b2ad7235-9af8-495f-a5e6-477e38545890"
      },
      "execution_count": null,
      "outputs": [
        {
          "output_type": "stream",
          "name": "stdout",
          "text": [
            "ROC AUC : 0.9999\n"
          ]
        }
      ]
    },
    {
      "cell_type": "code",
      "source": [
        "# calculate cross-validated ROC AUC\n",
        "\n",
        "Cross_validated_ROC_AUC = cross_val_score(logreg, X_train, y_train, cv=5, scoring='roc_auc').mean()\n",
        "print('Cross validated ROC AUC : {:.4f}'.format(Cross_validated_ROC_AUC))"
      ],
      "metadata": {
        "colab": {
          "base_uri": "https://localhost:8080/"
        },
        "id": "WxzdJ3m9Jv0x",
        "outputId": "21348d0e-1deb-4db5-9409-7dd14d9c17c5"
      },
      "execution_count": null,
      "outputs": [
        {
          "output_type": "stream",
          "name": "stdout",
          "text": [
            "Cross validated ROC AUC : 0.9999\n"
          ]
        }
      ]
    },
    {
      "cell_type": "code",
      "source": [
        "# Validación cruzada k-fold\n",
        "# Aplicación de la validación cruzada por quintuplicado\n",
        "\n",
        "scores = cross_val_score(logreg, X_train, y_train, cv = 5, scoring='accuracy')\n",
        "print('Cross-validation scores:{}'.format(scores))"
      ],
      "metadata": {
        "colab": {
          "base_uri": "https://localhost:8080/"
        },
        "id": "Bx5om5noJv6E",
        "outputId": "1ba8aa32-7f07-434c-efe0-00d146990f11"
      },
      "execution_count": null,
      "outputs": [
        {
          "output_type": "stream",
          "name": "stdout",
          "text": [
            "Cross-validation scores:[0.99580889 0.99497066 0.99244966 0.99412752 0.9966443 ]\n"
          ]
        }
      ]
    },
    {
      "cell_type": "code",
      "source": [
        "#Podemos resumir la precisión de la validación cruzada calculando su media.\n",
        "print('Average cross-validation score: {:.4f}'.format(scores.mean()))"
      ],
      "metadata": {
        "colab": {
          "base_uri": "https://localhost:8080/"
        },
        "id": "txq_H4qOKU1X",
        "outputId": "fa3a9646-dda2-47a7-8b5f-a004d8a87921"
      },
      "execution_count": null,
      "outputs": [
        {
          "output_type": "stream",
          "name": "stdout",
          "text": [
            "Average cross-validation score: 0.9948\n"
          ]
        }
      ]
    },
    {
      "cell_type": "markdown",
      "source": [
        "La puntuación del modelo original es de 0,9957. La puntuación media de la validación cruzada es de 0,9948 por lo que no mejora el rendimiento."
      ],
      "metadata": {
        "id": "i-4ELVsgKbBq"
      }
    }
  ],
  "metadata": {
    "colab": {
      "provenance": [],
      "include_colab_link": true
    },
    "kernelspec": {
      "display_name": "Python 3",
      "name": "python3"
    },
    "language_info": {
      "name": "python"
    }
  },
  "nbformat": 4,
  "nbformat_minor": 0
}