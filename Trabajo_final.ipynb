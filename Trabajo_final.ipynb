{
  "cells": [
    {
      "cell_type": "markdown",
      "metadata": {
        "id": "view-in-github",
        "colab_type": "text"
      },
      "source": [
        "<a href=\"https://colab.research.google.com/github/practigol/trabajo_final/blob/main/Trabajo_final.ipynb\" target=\"_parent\"><img src=\"https://colab.research.google.com/assets/colab-badge.svg\" alt=\"Open In Colab\"/></a>"
      ]
    },
    {
      "cell_type": "markdown",
      "metadata": {
        "id": "3C8jufPFT23v"
      },
      "source": [
        "# **Predicción de la pobreza en Argentina**\n",
        "\n",
        "El objetivo de este trabajo es diseñar un modelo de aprendizaje automático que pueda predecir la pobreza en Argentina, a partir de los datos disponibles en la Encuesta Permanente de Hogares (https://www.indec.gob.ar/indec/web/Institucional-Indec-BasesDeDatos). \n",
        "\n",
        "Las bases de datos que se toman en este caso son las del último trimestre del año 2021.\n",
        "\n",
        "\n"
      ]
    },
    {
      "cell_type": "code",
      "execution_count": 1,
      "metadata": {
        "id": "BwBzJH2KA06h"
      },
      "outputs": [],
      "source": [
        "import numpy as np # linear algebra\n",
        "import pandas as pd # data processing, CSV file I/O (e.g. pd.read_csv)\n",
        "import matplotlib.pyplot as plt # data visualization\n",
        "import seaborn as sns # statistical data visualization\n",
        "%matplotlib inline\n",
        "\n",
        "# Input data files are available in the \"../input/\" directory.\n",
        "# For example, running this (by clicking run or pressing Shift+Enter) will list all files under the input directory\n",
        "\n",
        "import os\n",
        "import warnings\n",
        "\n",
        "warnings.filterwarnings('ignore')"
      ]
    },
    {
      "cell_type": "markdown",
      "metadata": {
        "id": "HmNBTgGhKSGa"
      },
      "source": [
        "# **Creamos el dataset**"
      ]
    },
    {
      "cell_type": "code",
      "execution_count": 2,
      "metadata": {
        "colab": {
          "base_uri": "https://localhost:8080/",
          "height": 74
        },
        "id": "RahFhAckBA7m",
        "outputId": "d07c4f5c-7c87-42e5-9510-c73fd7cf3a02"
      },
      "outputs": [
        {
          "output_type": "display_data",
          "data": {
            "text/plain": [
              "<IPython.core.display.HTML object>"
            ],
            "text/html": [
              "\n",
              "     <input type=\"file\" id=\"files-61186a04-368f-4b8f-87fd-d88a40e2f63c\" name=\"files[]\" multiple disabled\n",
              "        style=\"border:none\" />\n",
              "     <output id=\"result-61186a04-368f-4b8f-87fd-d88a40e2f63c\">\n",
              "      Upload widget is only available when the cell has been executed in the\n",
              "      current browser session. Please rerun this cell to enable.\n",
              "      </output>\n",
              "      <script>// Copyright 2017 Google LLC\n",
              "//\n",
              "// Licensed under the Apache License, Version 2.0 (the \"License\");\n",
              "// you may not use this file except in compliance with the License.\n",
              "// You may obtain a copy of the License at\n",
              "//\n",
              "//      http://www.apache.org/licenses/LICENSE-2.0\n",
              "//\n",
              "// Unless required by applicable law or agreed to in writing, software\n",
              "// distributed under the License is distributed on an \"AS IS\" BASIS,\n",
              "// WITHOUT WARRANTIES OR CONDITIONS OF ANY KIND, either express or implied.\n",
              "// See the License for the specific language governing permissions and\n",
              "// limitations under the License.\n",
              "\n",
              "/**\n",
              " * @fileoverview Helpers for google.colab Python module.\n",
              " */\n",
              "(function(scope) {\n",
              "function span(text, styleAttributes = {}) {\n",
              "  const element = document.createElement('span');\n",
              "  element.textContent = text;\n",
              "  for (const key of Object.keys(styleAttributes)) {\n",
              "    element.style[key] = styleAttributes[key];\n",
              "  }\n",
              "  return element;\n",
              "}\n",
              "\n",
              "// Max number of bytes which will be uploaded at a time.\n",
              "const MAX_PAYLOAD_SIZE = 100 * 1024;\n",
              "\n",
              "function _uploadFiles(inputId, outputId) {\n",
              "  const steps = uploadFilesStep(inputId, outputId);\n",
              "  const outputElement = document.getElementById(outputId);\n",
              "  // Cache steps on the outputElement to make it available for the next call\n",
              "  // to uploadFilesContinue from Python.\n",
              "  outputElement.steps = steps;\n",
              "\n",
              "  return _uploadFilesContinue(outputId);\n",
              "}\n",
              "\n",
              "// This is roughly an async generator (not supported in the browser yet),\n",
              "// where there are multiple asynchronous steps and the Python side is going\n",
              "// to poll for completion of each step.\n",
              "// This uses a Promise to block the python side on completion of each step,\n",
              "// then passes the result of the previous step as the input to the next step.\n",
              "function _uploadFilesContinue(outputId) {\n",
              "  const outputElement = document.getElementById(outputId);\n",
              "  const steps = outputElement.steps;\n",
              "\n",
              "  const next = steps.next(outputElement.lastPromiseValue);\n",
              "  return Promise.resolve(next.value.promise).then((value) => {\n",
              "    // Cache the last promise value to make it available to the next\n",
              "    // step of the generator.\n",
              "    outputElement.lastPromiseValue = value;\n",
              "    return next.value.response;\n",
              "  });\n",
              "}\n",
              "\n",
              "/**\n",
              " * Generator function which is called between each async step of the upload\n",
              " * process.\n",
              " * @param {string} inputId Element ID of the input file picker element.\n",
              " * @param {string} outputId Element ID of the output display.\n",
              " * @return {!Iterable<!Object>} Iterable of next steps.\n",
              " */\n",
              "function* uploadFilesStep(inputId, outputId) {\n",
              "  const inputElement = document.getElementById(inputId);\n",
              "  inputElement.disabled = false;\n",
              "\n",
              "  const outputElement = document.getElementById(outputId);\n",
              "  outputElement.innerHTML = '';\n",
              "\n",
              "  const pickedPromise = new Promise((resolve) => {\n",
              "    inputElement.addEventListener('change', (e) => {\n",
              "      resolve(e.target.files);\n",
              "    });\n",
              "  });\n",
              "\n",
              "  const cancel = document.createElement('button');\n",
              "  inputElement.parentElement.appendChild(cancel);\n",
              "  cancel.textContent = 'Cancel upload';\n",
              "  const cancelPromise = new Promise((resolve) => {\n",
              "    cancel.onclick = () => {\n",
              "      resolve(null);\n",
              "    };\n",
              "  });\n",
              "\n",
              "  // Wait for the user to pick the files.\n",
              "  const files = yield {\n",
              "    promise: Promise.race([pickedPromise, cancelPromise]),\n",
              "    response: {\n",
              "      action: 'starting',\n",
              "    }\n",
              "  };\n",
              "\n",
              "  cancel.remove();\n",
              "\n",
              "  // Disable the input element since further picks are not allowed.\n",
              "  inputElement.disabled = true;\n",
              "\n",
              "  if (!files) {\n",
              "    return {\n",
              "      response: {\n",
              "        action: 'complete',\n",
              "      }\n",
              "    };\n",
              "  }\n",
              "\n",
              "  for (const file of files) {\n",
              "    const li = document.createElement('li');\n",
              "    li.append(span(file.name, {fontWeight: 'bold'}));\n",
              "    li.append(span(\n",
              "        `(${file.type || 'n/a'}) - ${file.size} bytes, ` +\n",
              "        `last modified: ${\n",
              "            file.lastModifiedDate ? file.lastModifiedDate.toLocaleDateString() :\n",
              "                                    'n/a'} - `));\n",
              "    const percent = span('0% done');\n",
              "    li.appendChild(percent);\n",
              "\n",
              "    outputElement.appendChild(li);\n",
              "\n",
              "    const fileDataPromise = new Promise((resolve) => {\n",
              "      const reader = new FileReader();\n",
              "      reader.onload = (e) => {\n",
              "        resolve(e.target.result);\n",
              "      };\n",
              "      reader.readAsArrayBuffer(file);\n",
              "    });\n",
              "    // Wait for the data to be ready.\n",
              "    let fileData = yield {\n",
              "      promise: fileDataPromise,\n",
              "      response: {\n",
              "        action: 'continue',\n",
              "      }\n",
              "    };\n",
              "\n",
              "    // Use a chunked sending to avoid message size limits. See b/62115660.\n",
              "    let position = 0;\n",
              "    do {\n",
              "      const length = Math.min(fileData.byteLength - position, MAX_PAYLOAD_SIZE);\n",
              "      const chunk = new Uint8Array(fileData, position, length);\n",
              "      position += length;\n",
              "\n",
              "      const base64 = btoa(String.fromCharCode.apply(null, chunk));\n",
              "      yield {\n",
              "        response: {\n",
              "          action: 'append',\n",
              "          file: file.name,\n",
              "          data: base64,\n",
              "        },\n",
              "      };\n",
              "\n",
              "      let percentDone = fileData.byteLength === 0 ?\n",
              "          100 :\n",
              "          Math.round((position / fileData.byteLength) * 100);\n",
              "      percent.textContent = `${percentDone}% done`;\n",
              "\n",
              "    } while (position < fileData.byteLength);\n",
              "  }\n",
              "\n",
              "  // All done.\n",
              "  yield {\n",
              "    response: {\n",
              "      action: 'complete',\n",
              "    }\n",
              "  };\n",
              "}\n",
              "\n",
              "scope.google = scope.google || {};\n",
              "scope.google.colab = scope.google.colab || {};\n",
              "scope.google.colab._files = {\n",
              "  _uploadFiles,\n",
              "  _uploadFilesContinue,\n",
              "};\n",
              "})(self);\n",
              "</script> "
            ]
          },
          "metadata": {}
        },
        {
          "output_type": "stream",
          "name": "stdout",
          "text": [
            "Saving usu_individual_T421.csv to usu_individual_T421.csv\n"
          ]
        }
      ],
      "source": [
        "#cargamos el archivo de individuos \"usu_individual_T421.csv\"\n",
        "\n",
        "from google.colab import files\n",
        "uploaded  = files.upload() "
      ]
    },
    {
      "cell_type": "code",
      "execution_count": 3,
      "metadata": {
        "id": "BOfj5reHCqcb"
      },
      "outputs": [],
      "source": [
        "df_individual = pd.read_csv(\"usu_individual_T421.csv\")"
      ]
    },
    {
      "cell_type": "code",
      "execution_count": 4,
      "metadata": {
        "colab": {
          "base_uri": "https://localhost:8080/"
        },
        "id": "Ix3p_VwvGcPr",
        "outputId": "6a710a1c-d214-4135-c98d-4b9763abd115"
      },
      "outputs": [
        {
          "output_type": "execute_result",
          "data": {
            "text/plain": [
              "(50154, 177)"
            ]
          },
          "metadata": {},
          "execution_count": 4
        }
      ],
      "source": [
        "df_individual.shape"
      ]
    },
    {
      "cell_type": "code",
      "execution_count": 5,
      "metadata": {
        "id": "MdnN-BXrCx-_"
      },
      "outputs": [],
      "source": [
        "# le asignamos un % a cada persona que vive en el hogar según género y edad, en la variable 'AE_ctrol_ind'\n",
        "\n",
        "condiciones = [\n",
        "    (df_individual ['CH04'] >= 1) & (df_individual['CH06'] < 1),\n",
        "    (df_individual['CH04'] >= 1) & (df_individual['CH06'] == 1),\n",
        "    (df_individual['CH04'] >= 1) & (df_individual['CH06'] == 2),\n",
        "    (df_individual['CH04'] >= 1) & (df_individual['CH06'] == 3),\n",
        "    (df_individual['CH04'] >= 1) & (df_individual['CH06'] == 4),\n",
        "    (df_individual['CH04'] >= 1 ) & ( df_individual['CH06'] == 5),\n",
        "    (df_individual['CH04'] >= 1) & (df_individual['CH06'] == 6),\n",
        "    (df_individual['CH04'] >= 1) & (df_individual['CH06'] == 7),\n",
        "    (df_individual['CH04'] >= 1) & (df_individual['CH06'] == 8),\n",
        "    (df_individual['CH04'] >= 1) & (df_individual['CH06'] == 9),\n",
        "    (df_individual['CH04'] >= 1) & (df_individual['CH06'] == 10),\n",
        "    (df_individual['CH04'] >= 1) & (df_individual['CH06'] == 11),\n",
        "    (df_individual['CH04'] >= 1) & (df_individual['CH06'] == 12),\n",
        "    (df_individual['CH04'] == 2) & (df_individual['CH06'] >= 13) & (df_individual['CH06'] <=14),\n",
        "    (df_individual['CH04'] == 2) & (df_individual['CH06'] >= 15) & (df_individual['CH06'] <=17),\n",
        "    (df_individual['CH04'] == 2) & (df_individual['CH06'] >= 18) & (df_individual['CH06'] <=29),\n",
        "    (df_individual['CH04'] == 2) & (df_individual['CH06'] >= 30) & (df_individual['CH06'] <=45),\n",
        "    (df_individual['CH04'] == 2) & (df_individual['CH06'] >= 46) & (df_individual['CH06'] <=60),\n",
        "    (df_individual['CH04'] == 2) & (df_individual['CH06'] >= 61) & (df_individual['CH06'] <=75),\n",
        "    (df_individual['CH04'] == 2) & (df_individual['CH06'] > 75),\n",
        "    (df_individual['CH04'] == 1) & (df_individual['CH06'] ==10),\n",
        "    (df_individual['CH04'] == 1) & (df_individual['CH06'] ==11),\n",
        "    (df_individual['CH04'] == 1) & (df_individual['CH06'] ==12),\n",
        "    (df_individual['CH04'] == 1) & (df_individual['CH06'] ==13),\n",
        "    (df_individual['CH04'] == 1) & (df_individual['CH06'] ==14),\n",
        "    (df_individual['CH04'] == 1) & (df_individual['CH06'] ==15),\n",
        "    (df_individual['CH04'] == 1) & (df_individual['CH06'] ==16),\n",
        "    (df_individual['CH04'] == 1) & (df_individual['CH06'] ==17),\n",
        "    (df_individual['CH04'] == 1) & (df_individual['CH06'] >= 18) & (df_individual['CH06'] <=29),\n",
        "    (df_individual['CH04'] == 1) & (df_individual['CH06'] >= 30) & (df_individual['CH06'] <=45),\n",
        "    (df_individual['CH04'] == 1) & (df_individual['CH06'] >= 46) & (df_individual['CH06'] <=60),\n",
        "    (df_individual['CH04'] == 1) & (df_individual['CH06'] >= 61) & (df_individual['CH06'] <=75),\n",
        "    (df_individual['CH04'] == 1) & (df_individual['CH06'] > 75)   \n",
        "    ]\n",
        "\n",
        "opciones = [0.35,0.37,0.46,0.51,0.55,0.60,0.64,0.66,0.68,0.69,0.70,0.72,0.74,0.76,0.77,0.76,0.77,0.76,0.67,0.63,0.79,0.82,0.85,0.90,\n",
        "            0.96,1.00,1.03,1.04,1.02,1.00,1.00,0.83,0.74]\n",
        "\n"
      ]
    },
    {
      "cell_type": "code",
      "execution_count": 6,
      "metadata": {
        "id": "JWTr4G0ZNu8I"
      },
      "outputs": [],
      "source": [
        "df_individual['AE_ctrol_ind']=np.select(condiciones,opciones)"
      ]
    },
    {
      "cell_type": "code",
      "execution_count": 7,
      "metadata": {
        "colab": {
          "base_uri": "https://localhost:8080/",
          "height": 299
        },
        "id": "iAI_PMJgOAxO",
        "outputId": "84a2f7d1-5a31-4c80-b280-9c03572993ec"
      },
      "outputs": [
        {
          "output_type": "execute_result",
          "data": {
            "text/plain": [
              "                          CODUSU  ANO4  TRIMESTRE  NRO_HOGAR  COMPONENTE  H15  \\\n",
              "0  TQRMNOPPQHMOLPCDEGNFJ00714305  2021          4          1           4    1   \n",
              "1  TQRMNOQPYHKMPUCDEIJAH00663642  2021          4          1           1    1   \n",
              "2  TQRMNOQPYHKMPUCDEIJAH00663642  2021          4          1           2    1   \n",
              "3  TQRMNOQYRHMOQRCDEIJAH00718661  2021          4          1           1    1   \n",
              "4  TQRMNOPSTHMMLPCDEFMDB00713515  2021          4          1           2    1   \n",
              "\n",
              "   REGION MAS_500  AGLOMERADO  PONDERA  ...  ADECIFR     IPCF DECCFR  IDECCFR  \\\n",
              "0      44       N          17      309  ...        7  33500.0      6      7.0   \n",
              "1       1       S          33     1573  ...        4  32000.0      6      NaN   \n",
              "2       1       S          33     1573  ...        4  32000.0      6      NaN   \n",
              "3       1       S          33     2635  ...       12      0.0     12      NaN   \n",
              "4      43       N           6       87  ...        7  43000.0      7      8.0   \n",
              "\n",
              "   RDECCFR  GDECCFR  PDECCFR  ADECCFR  PONDIH  AE_ctrol_ind  \n",
              "0        5      NaN      7.0        5     411          0.90  \n",
              "1        6      6.0      NaN        6    2285          0.74  \n",
              "2        6      6.0      NaN        6    2285          0.63  \n",
              "3       12     12.0      NaN       12       0          1.00  \n",
              "4        8      NaN      8.0        8     129          0.67  \n",
              "\n",
              "[5 rows x 178 columns]"
            ],
            "text/html": [
              "\n",
              "  <div id=\"df-4ed340e0-48f0-436e-9867-5c4bf899dc75\">\n",
              "    <div class=\"colab-df-container\">\n",
              "      <div>\n",
              "<style scoped>\n",
              "    .dataframe tbody tr th:only-of-type {\n",
              "        vertical-align: middle;\n",
              "    }\n",
              "\n",
              "    .dataframe tbody tr th {\n",
              "        vertical-align: top;\n",
              "    }\n",
              "\n",
              "    .dataframe thead th {\n",
              "        text-align: right;\n",
              "    }\n",
              "</style>\n",
              "<table border=\"1\" class=\"dataframe\">\n",
              "  <thead>\n",
              "    <tr style=\"text-align: right;\">\n",
              "      <th></th>\n",
              "      <th>CODUSU</th>\n",
              "      <th>ANO4</th>\n",
              "      <th>TRIMESTRE</th>\n",
              "      <th>NRO_HOGAR</th>\n",
              "      <th>COMPONENTE</th>\n",
              "      <th>H15</th>\n",
              "      <th>REGION</th>\n",
              "      <th>MAS_500</th>\n",
              "      <th>AGLOMERADO</th>\n",
              "      <th>PONDERA</th>\n",
              "      <th>...</th>\n",
              "      <th>ADECIFR</th>\n",
              "      <th>IPCF</th>\n",
              "      <th>DECCFR</th>\n",
              "      <th>IDECCFR</th>\n",
              "      <th>RDECCFR</th>\n",
              "      <th>GDECCFR</th>\n",
              "      <th>PDECCFR</th>\n",
              "      <th>ADECCFR</th>\n",
              "      <th>PONDIH</th>\n",
              "      <th>AE_ctrol_ind</th>\n",
              "    </tr>\n",
              "  </thead>\n",
              "  <tbody>\n",
              "    <tr>\n",
              "      <th>0</th>\n",
              "      <td>TQRMNOPPQHMOLPCDEGNFJ00714305</td>\n",
              "      <td>2021</td>\n",
              "      <td>4</td>\n",
              "      <td>1</td>\n",
              "      <td>4</td>\n",
              "      <td>1</td>\n",
              "      <td>44</td>\n",
              "      <td>N</td>\n",
              "      <td>17</td>\n",
              "      <td>309</td>\n",
              "      <td>...</td>\n",
              "      <td>7</td>\n",
              "      <td>33500.0</td>\n",
              "      <td>6</td>\n",
              "      <td>7.0</td>\n",
              "      <td>5</td>\n",
              "      <td>NaN</td>\n",
              "      <td>7.0</td>\n",
              "      <td>5</td>\n",
              "      <td>411</td>\n",
              "      <td>0.90</td>\n",
              "    </tr>\n",
              "    <tr>\n",
              "      <th>1</th>\n",
              "      <td>TQRMNOQPYHKMPUCDEIJAH00663642</td>\n",
              "      <td>2021</td>\n",
              "      <td>4</td>\n",
              "      <td>1</td>\n",
              "      <td>1</td>\n",
              "      <td>1</td>\n",
              "      <td>1</td>\n",
              "      <td>S</td>\n",
              "      <td>33</td>\n",
              "      <td>1573</td>\n",
              "      <td>...</td>\n",
              "      <td>4</td>\n",
              "      <td>32000.0</td>\n",
              "      <td>6</td>\n",
              "      <td>NaN</td>\n",
              "      <td>6</td>\n",
              "      <td>6.0</td>\n",
              "      <td>NaN</td>\n",
              "      <td>6</td>\n",
              "      <td>2285</td>\n",
              "      <td>0.74</td>\n",
              "    </tr>\n",
              "    <tr>\n",
              "      <th>2</th>\n",
              "      <td>TQRMNOQPYHKMPUCDEIJAH00663642</td>\n",
              "      <td>2021</td>\n",
              "      <td>4</td>\n",
              "      <td>1</td>\n",
              "      <td>2</td>\n",
              "      <td>1</td>\n",
              "      <td>1</td>\n",
              "      <td>S</td>\n",
              "      <td>33</td>\n",
              "      <td>1573</td>\n",
              "      <td>...</td>\n",
              "      <td>4</td>\n",
              "      <td>32000.0</td>\n",
              "      <td>6</td>\n",
              "      <td>NaN</td>\n",
              "      <td>6</td>\n",
              "      <td>6.0</td>\n",
              "      <td>NaN</td>\n",
              "      <td>6</td>\n",
              "      <td>2285</td>\n",
              "      <td>0.63</td>\n",
              "    </tr>\n",
              "    <tr>\n",
              "      <th>3</th>\n",
              "      <td>TQRMNOQYRHMOQRCDEIJAH00718661</td>\n",
              "      <td>2021</td>\n",
              "      <td>4</td>\n",
              "      <td>1</td>\n",
              "      <td>1</td>\n",
              "      <td>1</td>\n",
              "      <td>1</td>\n",
              "      <td>S</td>\n",
              "      <td>33</td>\n",
              "      <td>2635</td>\n",
              "      <td>...</td>\n",
              "      <td>12</td>\n",
              "      <td>0.0</td>\n",
              "      <td>12</td>\n",
              "      <td>NaN</td>\n",
              "      <td>12</td>\n",
              "      <td>12.0</td>\n",
              "      <td>NaN</td>\n",
              "      <td>12</td>\n",
              "      <td>0</td>\n",
              "      <td>1.00</td>\n",
              "    </tr>\n",
              "    <tr>\n",
              "      <th>4</th>\n",
              "      <td>TQRMNOPSTHMMLPCDEFMDB00713515</td>\n",
              "      <td>2021</td>\n",
              "      <td>4</td>\n",
              "      <td>1</td>\n",
              "      <td>2</td>\n",
              "      <td>1</td>\n",
              "      <td>43</td>\n",
              "      <td>N</td>\n",
              "      <td>6</td>\n",
              "      <td>87</td>\n",
              "      <td>...</td>\n",
              "      <td>7</td>\n",
              "      <td>43000.0</td>\n",
              "      <td>7</td>\n",
              "      <td>8.0</td>\n",
              "      <td>8</td>\n",
              "      <td>NaN</td>\n",
              "      <td>8.0</td>\n",
              "      <td>8</td>\n",
              "      <td>129</td>\n",
              "      <td>0.67</td>\n",
              "    </tr>\n",
              "  </tbody>\n",
              "</table>\n",
              "<p>5 rows × 178 columns</p>\n",
              "</div>\n",
              "      <button class=\"colab-df-convert\" onclick=\"convertToInteractive('df-4ed340e0-48f0-436e-9867-5c4bf899dc75')\"\n",
              "              title=\"Convert this dataframe to an interactive table.\"\n",
              "              style=\"display:none;\">\n",
              "        \n",
              "  <svg xmlns=\"http://www.w3.org/2000/svg\" height=\"24px\"viewBox=\"0 0 24 24\"\n",
              "       width=\"24px\">\n",
              "    <path d=\"M0 0h24v24H0V0z\" fill=\"none\"/>\n",
              "    <path d=\"M18.56 5.44l.94 2.06.94-2.06 2.06-.94-2.06-.94-.94-2.06-.94 2.06-2.06.94zm-11 1L8.5 8.5l.94-2.06 2.06-.94-2.06-.94L8.5 2.5l-.94 2.06-2.06.94zm10 10l.94 2.06.94-2.06 2.06-.94-2.06-.94-.94-2.06-.94 2.06-2.06.94z\"/><path d=\"M17.41 7.96l-1.37-1.37c-.4-.4-.92-.59-1.43-.59-.52 0-1.04.2-1.43.59L10.3 9.45l-7.72 7.72c-.78.78-.78 2.05 0 2.83L4 21.41c.39.39.9.59 1.41.59.51 0 1.02-.2 1.41-.59l7.78-7.78 2.81-2.81c.8-.78.8-2.07 0-2.86zM5.41 20L4 18.59l7.72-7.72 1.47 1.35L5.41 20z\"/>\n",
              "  </svg>\n",
              "      </button>\n",
              "      \n",
              "  <style>\n",
              "    .colab-df-container {\n",
              "      display:flex;\n",
              "      flex-wrap:wrap;\n",
              "      gap: 12px;\n",
              "    }\n",
              "\n",
              "    .colab-df-convert {\n",
              "      background-color: #E8F0FE;\n",
              "      border: none;\n",
              "      border-radius: 50%;\n",
              "      cursor: pointer;\n",
              "      display: none;\n",
              "      fill: #1967D2;\n",
              "      height: 32px;\n",
              "      padding: 0 0 0 0;\n",
              "      width: 32px;\n",
              "    }\n",
              "\n",
              "    .colab-df-convert:hover {\n",
              "      background-color: #E2EBFA;\n",
              "      box-shadow: 0px 1px 2px rgba(60, 64, 67, 0.3), 0px 1px 3px 1px rgba(60, 64, 67, 0.15);\n",
              "      fill: #174EA6;\n",
              "    }\n",
              "\n",
              "    [theme=dark] .colab-df-convert {\n",
              "      background-color: #3B4455;\n",
              "      fill: #D2E3FC;\n",
              "    }\n",
              "\n",
              "    [theme=dark] .colab-df-convert:hover {\n",
              "      background-color: #434B5C;\n",
              "      box-shadow: 0px 1px 3px 1px rgba(0, 0, 0, 0.15);\n",
              "      filter: drop-shadow(0px 1px 2px rgba(0, 0, 0, 0.3));\n",
              "      fill: #FFFFFF;\n",
              "    }\n",
              "  </style>\n",
              "\n",
              "      <script>\n",
              "        const buttonEl =\n",
              "          document.querySelector('#df-4ed340e0-48f0-436e-9867-5c4bf899dc75 button.colab-df-convert');\n",
              "        buttonEl.style.display =\n",
              "          google.colab.kernel.accessAllowed ? 'block' : 'none';\n",
              "\n",
              "        async function convertToInteractive(key) {\n",
              "          const element = document.querySelector('#df-4ed340e0-48f0-436e-9867-5c4bf899dc75');\n",
              "          const dataTable =\n",
              "            await google.colab.kernel.invokeFunction('convertToInteractive',\n",
              "                                                     [key], {});\n",
              "          if (!dataTable) return;\n",
              "\n",
              "          const docLinkHtml = 'Like what you see? Visit the ' +\n",
              "            '<a target=\"_blank\" href=https://colab.research.google.com/notebooks/data_table.ipynb>data table notebook</a>'\n",
              "            + ' to learn more about interactive tables.';\n",
              "          element.innerHTML = '';\n",
              "          dataTable['output_type'] = 'display_data';\n",
              "          await google.colab.output.renderOutput(dataTable, element);\n",
              "          const docLink = document.createElement('div');\n",
              "          docLink.innerHTML = docLinkHtml;\n",
              "          element.appendChild(docLink);\n",
              "        }\n",
              "      </script>\n",
              "    </div>\n",
              "  </div>\n",
              "  "
            ]
          },
          "metadata": {},
          "execution_count": 7
        }
      ],
      "source": [
        "df_individual.head()"
      ]
    },
    {
      "cell_type": "code",
      "execution_count": 8,
      "metadata": {
        "id": "8o9uLIkDT3Ki"
      },
      "outputs": [],
      "source": [
        "#seleccionamos solo las columnas que nos interesan para este estudio (ver archivo \"EPH_registro_4T2021.pdf\")\n",
        "\n",
        "df_personas = df_individual[['CODUSU','NRO_HOGAR','CH03','CH04','CH06','CH08','NIVEL_ED','CAT_OCUP','CAT_INAC','AE_ctrol_ind']]"
      ]
    },
    {
      "cell_type": "code",
      "execution_count": 9,
      "metadata": {
        "colab": {
          "base_uri": "https://localhost:8080/",
          "height": 206
        },
        "id": "qHs7-uGldkz0",
        "outputId": "e24b333d-9a76-4c8c-dc90-63eea5b8f3a7"
      },
      "outputs": [
        {
          "output_type": "execute_result",
          "data": {
            "text/plain": [
              "                          CODUSU  NRO_HOGAR  CH03  CH04  CH06  CH08  NIVEL_ED  \\\n",
              "0  TQRMNOPPQHMOLPCDEGNFJ00714305          1     3     1    13     1         3   \n",
              "1  TQRMNOQPYHKMPUCDEIJAH00663642          1     1     1    79     1         2   \n",
              "2  TQRMNOQPYHKMPUCDEIJAH00663642          1     2     2    79     1         3   \n",
              "3  TQRMNOQYRHMOQRCDEIJAH00718661          1     1     1    48     1         4   \n",
              "4  TQRMNOPSTHMMLPCDEFMDB00713515          1     2     2    65     1         4   \n",
              "\n",
              "   CAT_OCUP  CAT_INAC  AE_ctrol_ind  \n",
              "0         0         3          0.90  \n",
              "1         0         1          0.74  \n",
              "2         0         1          0.63  \n",
              "3         3         0          1.00  \n",
              "4         0         1          0.67  "
            ],
            "text/html": [
              "\n",
              "  <div id=\"df-3b07994e-2b58-406d-92f3-75a82722489e\">\n",
              "    <div class=\"colab-df-container\">\n",
              "      <div>\n",
              "<style scoped>\n",
              "    .dataframe tbody tr th:only-of-type {\n",
              "        vertical-align: middle;\n",
              "    }\n",
              "\n",
              "    .dataframe tbody tr th {\n",
              "        vertical-align: top;\n",
              "    }\n",
              "\n",
              "    .dataframe thead th {\n",
              "        text-align: right;\n",
              "    }\n",
              "</style>\n",
              "<table border=\"1\" class=\"dataframe\">\n",
              "  <thead>\n",
              "    <tr style=\"text-align: right;\">\n",
              "      <th></th>\n",
              "      <th>CODUSU</th>\n",
              "      <th>NRO_HOGAR</th>\n",
              "      <th>CH03</th>\n",
              "      <th>CH04</th>\n",
              "      <th>CH06</th>\n",
              "      <th>CH08</th>\n",
              "      <th>NIVEL_ED</th>\n",
              "      <th>CAT_OCUP</th>\n",
              "      <th>CAT_INAC</th>\n",
              "      <th>AE_ctrol_ind</th>\n",
              "    </tr>\n",
              "  </thead>\n",
              "  <tbody>\n",
              "    <tr>\n",
              "      <th>0</th>\n",
              "      <td>TQRMNOPPQHMOLPCDEGNFJ00714305</td>\n",
              "      <td>1</td>\n",
              "      <td>3</td>\n",
              "      <td>1</td>\n",
              "      <td>13</td>\n",
              "      <td>1</td>\n",
              "      <td>3</td>\n",
              "      <td>0</td>\n",
              "      <td>3</td>\n",
              "      <td>0.90</td>\n",
              "    </tr>\n",
              "    <tr>\n",
              "      <th>1</th>\n",
              "      <td>TQRMNOQPYHKMPUCDEIJAH00663642</td>\n",
              "      <td>1</td>\n",
              "      <td>1</td>\n",
              "      <td>1</td>\n",
              "      <td>79</td>\n",
              "      <td>1</td>\n",
              "      <td>2</td>\n",
              "      <td>0</td>\n",
              "      <td>1</td>\n",
              "      <td>0.74</td>\n",
              "    </tr>\n",
              "    <tr>\n",
              "      <th>2</th>\n",
              "      <td>TQRMNOQPYHKMPUCDEIJAH00663642</td>\n",
              "      <td>1</td>\n",
              "      <td>2</td>\n",
              "      <td>2</td>\n",
              "      <td>79</td>\n",
              "      <td>1</td>\n",
              "      <td>3</td>\n",
              "      <td>0</td>\n",
              "      <td>1</td>\n",
              "      <td>0.63</td>\n",
              "    </tr>\n",
              "    <tr>\n",
              "      <th>3</th>\n",
              "      <td>TQRMNOQYRHMOQRCDEIJAH00718661</td>\n",
              "      <td>1</td>\n",
              "      <td>1</td>\n",
              "      <td>1</td>\n",
              "      <td>48</td>\n",
              "      <td>1</td>\n",
              "      <td>4</td>\n",
              "      <td>3</td>\n",
              "      <td>0</td>\n",
              "      <td>1.00</td>\n",
              "    </tr>\n",
              "    <tr>\n",
              "      <th>4</th>\n",
              "      <td>TQRMNOPSTHMMLPCDEFMDB00713515</td>\n",
              "      <td>1</td>\n",
              "      <td>2</td>\n",
              "      <td>2</td>\n",
              "      <td>65</td>\n",
              "      <td>1</td>\n",
              "      <td>4</td>\n",
              "      <td>0</td>\n",
              "      <td>1</td>\n",
              "      <td>0.67</td>\n",
              "    </tr>\n",
              "  </tbody>\n",
              "</table>\n",
              "</div>\n",
              "      <button class=\"colab-df-convert\" onclick=\"convertToInteractive('df-3b07994e-2b58-406d-92f3-75a82722489e')\"\n",
              "              title=\"Convert this dataframe to an interactive table.\"\n",
              "              style=\"display:none;\">\n",
              "        \n",
              "  <svg xmlns=\"http://www.w3.org/2000/svg\" height=\"24px\"viewBox=\"0 0 24 24\"\n",
              "       width=\"24px\">\n",
              "    <path d=\"M0 0h24v24H0V0z\" fill=\"none\"/>\n",
              "    <path d=\"M18.56 5.44l.94 2.06.94-2.06 2.06-.94-2.06-.94-.94-2.06-.94 2.06-2.06.94zm-11 1L8.5 8.5l.94-2.06 2.06-.94-2.06-.94L8.5 2.5l-.94 2.06-2.06.94zm10 10l.94 2.06.94-2.06 2.06-.94-2.06-.94-.94-2.06-.94 2.06-2.06.94z\"/><path d=\"M17.41 7.96l-1.37-1.37c-.4-.4-.92-.59-1.43-.59-.52 0-1.04.2-1.43.59L10.3 9.45l-7.72 7.72c-.78.78-.78 2.05 0 2.83L4 21.41c.39.39.9.59 1.41.59.51 0 1.02-.2 1.41-.59l7.78-7.78 2.81-2.81c.8-.78.8-2.07 0-2.86zM5.41 20L4 18.59l7.72-7.72 1.47 1.35L5.41 20z\"/>\n",
              "  </svg>\n",
              "      </button>\n",
              "      \n",
              "  <style>\n",
              "    .colab-df-container {\n",
              "      display:flex;\n",
              "      flex-wrap:wrap;\n",
              "      gap: 12px;\n",
              "    }\n",
              "\n",
              "    .colab-df-convert {\n",
              "      background-color: #E8F0FE;\n",
              "      border: none;\n",
              "      border-radius: 50%;\n",
              "      cursor: pointer;\n",
              "      display: none;\n",
              "      fill: #1967D2;\n",
              "      height: 32px;\n",
              "      padding: 0 0 0 0;\n",
              "      width: 32px;\n",
              "    }\n",
              "\n",
              "    .colab-df-convert:hover {\n",
              "      background-color: #E2EBFA;\n",
              "      box-shadow: 0px 1px 2px rgba(60, 64, 67, 0.3), 0px 1px 3px 1px rgba(60, 64, 67, 0.15);\n",
              "      fill: #174EA6;\n",
              "    }\n",
              "\n",
              "    [theme=dark] .colab-df-convert {\n",
              "      background-color: #3B4455;\n",
              "      fill: #D2E3FC;\n",
              "    }\n",
              "\n",
              "    [theme=dark] .colab-df-convert:hover {\n",
              "      background-color: #434B5C;\n",
              "      box-shadow: 0px 1px 3px 1px rgba(0, 0, 0, 0.15);\n",
              "      filter: drop-shadow(0px 1px 2px rgba(0, 0, 0, 0.3));\n",
              "      fill: #FFFFFF;\n",
              "    }\n",
              "  </style>\n",
              "\n",
              "      <script>\n",
              "        const buttonEl =\n",
              "          document.querySelector('#df-3b07994e-2b58-406d-92f3-75a82722489e button.colab-df-convert');\n",
              "        buttonEl.style.display =\n",
              "          google.colab.kernel.accessAllowed ? 'block' : 'none';\n",
              "\n",
              "        async function convertToInteractive(key) {\n",
              "          const element = document.querySelector('#df-3b07994e-2b58-406d-92f3-75a82722489e');\n",
              "          const dataTable =\n",
              "            await google.colab.kernel.invokeFunction('convertToInteractive',\n",
              "                                                     [key], {});\n",
              "          if (!dataTable) return;\n",
              "\n",
              "          const docLinkHtml = 'Like what you see? Visit the ' +\n",
              "            '<a target=\"_blank\" href=https://colab.research.google.com/notebooks/data_table.ipynb>data table notebook</a>'\n",
              "            + ' to learn more about interactive tables.';\n",
              "          element.innerHTML = '';\n",
              "          dataTable['output_type'] = 'display_data';\n",
              "          await google.colab.output.renderOutput(dataTable, element);\n",
              "          const docLink = document.createElement('div');\n",
              "          docLink.innerHTML = docLinkHtml;\n",
              "          element.appendChild(docLink);\n",
              "        }\n",
              "      </script>\n",
              "    </div>\n",
              "  </div>\n",
              "  "
            ]
          },
          "metadata": {},
          "execution_count": 9
        }
      ],
      "source": [
        "df_personas.head()"
      ]
    },
    {
      "cell_type": "code",
      "execution_count": 10,
      "metadata": {
        "id": "B5sAk0OuNpiW"
      },
      "outputs": [],
      "source": [
        "#sumamos el % de cada persona que compone el hogar (las variables CODUSU y NRO_HOGAR identifican a cada hogar)\n",
        "\n",
        "df_suma = df_personas.groupby(['CODUSU','NRO_HOGAR']).AE_ctrol_ind.sum()"
      ]
    },
    {
      "cell_type": "code",
      "execution_count": 11,
      "metadata": {
        "colab": {
          "base_uri": "https://localhost:8080/"
        },
        "id": "D9yT3Op7Nplg",
        "outputId": "36c32ec0-35cd-4d47-bc45-147bb58de615"
      },
      "outputs": [
        {
          "output_type": "execute_result",
          "data": {
            "text/plain": [
              "CODUSU                         NRO_HOGAR\n",
              "TQRMNOPPQHJLKTCDEGNFJ00699079  1            1.40\n",
              "TQRMNOPPQHJMKMCDEFKID00667054  1            1.77\n",
              "TQRMNOPPQHJMKMCDEOJAH00697751  1            0.63\n",
              "TQRMNOPPQHJMKTCDEHNHB00686535  1            2.19\n",
              "TQRMNOPPQHJMLPCDEFNFF00670213  1            1.52\n",
              "Name: AE_ctrol_ind, dtype: float64"
            ]
          },
          "metadata": {},
          "execution_count": 11
        }
      ],
      "source": [
        "df_suma.head()"
      ]
    },
    {
      "cell_type": "code",
      "execution_count": 12,
      "metadata": {
        "colab": {
          "base_uri": "https://localhost:8080/"
        },
        "id": "uKG9mJW_dlAK",
        "outputId": "001d7a8c-7690-4bd0-d8da-3f5194116784"
      },
      "outputs": [
        {
          "output_type": "execute_result",
          "data": {
            "text/plain": [
              "(17037,)"
            ]
          },
          "metadata": {},
          "execution_count": 12
        }
      ],
      "source": [
        "df_suma.shape"
      ]
    },
    {
      "cell_type": "code",
      "execution_count": 13,
      "metadata": {
        "id": "CVyiMCzAaj0k"
      },
      "outputs": [],
      "source": [
        "#unimos los dos dataframes según las variables CODUSU y NRO_HOGAR\n",
        "\n",
        "df_personas_suma = pd.merge(df_personas, df_suma, on=['CODUSU','NRO_HOGAR'])"
      ]
    },
    {
      "cell_type": "code",
      "execution_count": 14,
      "metadata": {
        "colab": {
          "base_uri": "https://localhost:8080/",
          "height": 206
        },
        "id": "P9x7vhRYSghx",
        "outputId": "1b42dfe7-26d2-4fc4-be02-fe1b93ae6646"
      },
      "outputs": [
        {
          "output_type": "execute_result",
          "data": {
            "text/plain": [
              "                          CODUSU  NRO_HOGAR  CH03  CH04  CH06  CH08  NIVEL_ED  \\\n",
              "0  TQRMNOPPQHMOLPCDEGNFJ00714305          1     3     1    13     1         3   \n",
              "1  TQRMNOPPQHMOLPCDEGNFJ00714305          1     1     2    37     1         6   \n",
              "2  TQRMNOPPQHMOLPCDEGNFJ00714305          1     2     1    37     1         4   \n",
              "3  TQRMNOPPQHMOLPCDEGNFJ00714305          1     3     2     8     1         1   \n",
              "4  TQRMNOQPYHKMPUCDEIJAH00663642          1     1     1    79     1         2   \n",
              "\n",
              "   CAT_OCUP  CAT_INAC  AE_ctrol_ind_x  AE_ctrol_ind_y  \n",
              "0         0         3            0.90            3.35  \n",
              "1         3         0            0.77            3.35  \n",
              "2         3         0            1.00            3.35  \n",
              "3         0         3            0.68            3.35  \n",
              "4         0         1            0.74            1.37  "
            ],
            "text/html": [
              "\n",
              "  <div id=\"df-6acf502d-f0bf-4379-874f-cfc3d9b05ebc\">\n",
              "    <div class=\"colab-df-container\">\n",
              "      <div>\n",
              "<style scoped>\n",
              "    .dataframe tbody tr th:only-of-type {\n",
              "        vertical-align: middle;\n",
              "    }\n",
              "\n",
              "    .dataframe tbody tr th {\n",
              "        vertical-align: top;\n",
              "    }\n",
              "\n",
              "    .dataframe thead th {\n",
              "        text-align: right;\n",
              "    }\n",
              "</style>\n",
              "<table border=\"1\" class=\"dataframe\">\n",
              "  <thead>\n",
              "    <tr style=\"text-align: right;\">\n",
              "      <th></th>\n",
              "      <th>CODUSU</th>\n",
              "      <th>NRO_HOGAR</th>\n",
              "      <th>CH03</th>\n",
              "      <th>CH04</th>\n",
              "      <th>CH06</th>\n",
              "      <th>CH08</th>\n",
              "      <th>NIVEL_ED</th>\n",
              "      <th>CAT_OCUP</th>\n",
              "      <th>CAT_INAC</th>\n",
              "      <th>AE_ctrol_ind_x</th>\n",
              "      <th>AE_ctrol_ind_y</th>\n",
              "    </tr>\n",
              "  </thead>\n",
              "  <tbody>\n",
              "    <tr>\n",
              "      <th>0</th>\n",
              "      <td>TQRMNOPPQHMOLPCDEGNFJ00714305</td>\n",
              "      <td>1</td>\n",
              "      <td>3</td>\n",
              "      <td>1</td>\n",
              "      <td>13</td>\n",
              "      <td>1</td>\n",
              "      <td>3</td>\n",
              "      <td>0</td>\n",
              "      <td>3</td>\n",
              "      <td>0.90</td>\n",
              "      <td>3.35</td>\n",
              "    </tr>\n",
              "    <tr>\n",
              "      <th>1</th>\n",
              "      <td>TQRMNOPPQHMOLPCDEGNFJ00714305</td>\n",
              "      <td>1</td>\n",
              "      <td>1</td>\n",
              "      <td>2</td>\n",
              "      <td>37</td>\n",
              "      <td>1</td>\n",
              "      <td>6</td>\n",
              "      <td>3</td>\n",
              "      <td>0</td>\n",
              "      <td>0.77</td>\n",
              "      <td>3.35</td>\n",
              "    </tr>\n",
              "    <tr>\n",
              "      <th>2</th>\n",
              "      <td>TQRMNOPPQHMOLPCDEGNFJ00714305</td>\n",
              "      <td>1</td>\n",
              "      <td>2</td>\n",
              "      <td>1</td>\n",
              "      <td>37</td>\n",
              "      <td>1</td>\n",
              "      <td>4</td>\n",
              "      <td>3</td>\n",
              "      <td>0</td>\n",
              "      <td>1.00</td>\n",
              "      <td>3.35</td>\n",
              "    </tr>\n",
              "    <tr>\n",
              "      <th>3</th>\n",
              "      <td>TQRMNOPPQHMOLPCDEGNFJ00714305</td>\n",
              "      <td>1</td>\n",
              "      <td>3</td>\n",
              "      <td>2</td>\n",
              "      <td>8</td>\n",
              "      <td>1</td>\n",
              "      <td>1</td>\n",
              "      <td>0</td>\n",
              "      <td>3</td>\n",
              "      <td>0.68</td>\n",
              "      <td>3.35</td>\n",
              "    </tr>\n",
              "    <tr>\n",
              "      <th>4</th>\n",
              "      <td>TQRMNOQPYHKMPUCDEIJAH00663642</td>\n",
              "      <td>1</td>\n",
              "      <td>1</td>\n",
              "      <td>1</td>\n",
              "      <td>79</td>\n",
              "      <td>1</td>\n",
              "      <td>2</td>\n",
              "      <td>0</td>\n",
              "      <td>1</td>\n",
              "      <td>0.74</td>\n",
              "      <td>1.37</td>\n",
              "    </tr>\n",
              "  </tbody>\n",
              "</table>\n",
              "</div>\n",
              "      <button class=\"colab-df-convert\" onclick=\"convertToInteractive('df-6acf502d-f0bf-4379-874f-cfc3d9b05ebc')\"\n",
              "              title=\"Convert this dataframe to an interactive table.\"\n",
              "              style=\"display:none;\">\n",
              "        \n",
              "  <svg xmlns=\"http://www.w3.org/2000/svg\" height=\"24px\"viewBox=\"0 0 24 24\"\n",
              "       width=\"24px\">\n",
              "    <path d=\"M0 0h24v24H0V0z\" fill=\"none\"/>\n",
              "    <path d=\"M18.56 5.44l.94 2.06.94-2.06 2.06-.94-2.06-.94-.94-2.06-.94 2.06-2.06.94zm-11 1L8.5 8.5l.94-2.06 2.06-.94-2.06-.94L8.5 2.5l-.94 2.06-2.06.94zm10 10l.94 2.06.94-2.06 2.06-.94-2.06-.94-.94-2.06-.94 2.06-2.06.94z\"/><path d=\"M17.41 7.96l-1.37-1.37c-.4-.4-.92-.59-1.43-.59-.52 0-1.04.2-1.43.59L10.3 9.45l-7.72 7.72c-.78.78-.78 2.05 0 2.83L4 21.41c.39.39.9.59 1.41.59.51 0 1.02-.2 1.41-.59l7.78-7.78 2.81-2.81c.8-.78.8-2.07 0-2.86zM5.41 20L4 18.59l7.72-7.72 1.47 1.35L5.41 20z\"/>\n",
              "  </svg>\n",
              "      </button>\n",
              "      \n",
              "  <style>\n",
              "    .colab-df-container {\n",
              "      display:flex;\n",
              "      flex-wrap:wrap;\n",
              "      gap: 12px;\n",
              "    }\n",
              "\n",
              "    .colab-df-convert {\n",
              "      background-color: #E8F0FE;\n",
              "      border: none;\n",
              "      border-radius: 50%;\n",
              "      cursor: pointer;\n",
              "      display: none;\n",
              "      fill: #1967D2;\n",
              "      height: 32px;\n",
              "      padding: 0 0 0 0;\n",
              "      width: 32px;\n",
              "    }\n",
              "\n",
              "    .colab-df-convert:hover {\n",
              "      background-color: #E2EBFA;\n",
              "      box-shadow: 0px 1px 2px rgba(60, 64, 67, 0.3), 0px 1px 3px 1px rgba(60, 64, 67, 0.15);\n",
              "      fill: #174EA6;\n",
              "    }\n",
              "\n",
              "    [theme=dark] .colab-df-convert {\n",
              "      background-color: #3B4455;\n",
              "      fill: #D2E3FC;\n",
              "    }\n",
              "\n",
              "    [theme=dark] .colab-df-convert:hover {\n",
              "      background-color: #434B5C;\n",
              "      box-shadow: 0px 1px 3px 1px rgba(0, 0, 0, 0.15);\n",
              "      filter: drop-shadow(0px 1px 2px rgba(0, 0, 0, 0.3));\n",
              "      fill: #FFFFFF;\n",
              "    }\n",
              "  </style>\n",
              "\n",
              "      <script>\n",
              "        const buttonEl =\n",
              "          document.querySelector('#df-6acf502d-f0bf-4379-874f-cfc3d9b05ebc button.colab-df-convert');\n",
              "        buttonEl.style.display =\n",
              "          google.colab.kernel.accessAllowed ? 'block' : 'none';\n",
              "\n",
              "        async function convertToInteractive(key) {\n",
              "          const element = document.querySelector('#df-6acf502d-f0bf-4379-874f-cfc3d9b05ebc');\n",
              "          const dataTable =\n",
              "            await google.colab.kernel.invokeFunction('convertToInteractive',\n",
              "                                                     [key], {});\n",
              "          if (!dataTable) return;\n",
              "\n",
              "          const docLinkHtml = 'Like what you see? Visit the ' +\n",
              "            '<a target=\"_blank\" href=https://colab.research.google.com/notebooks/data_table.ipynb>data table notebook</a>'\n",
              "            + ' to learn more about interactive tables.';\n",
              "          element.innerHTML = '';\n",
              "          dataTable['output_type'] = 'display_data';\n",
              "          await google.colab.output.renderOutput(dataTable, element);\n",
              "          const docLink = document.createElement('div');\n",
              "          docLink.innerHTML = docLinkHtml;\n",
              "          element.appendChild(docLink);\n",
              "        }\n",
              "      </script>\n",
              "    </div>\n",
              "  </div>\n",
              "  "
            ]
          },
          "metadata": {},
          "execution_count": 14
        }
      ],
      "source": [
        "df_personas_suma.head()"
      ]
    },
    {
      "cell_type": "code",
      "execution_count": 15,
      "metadata": {
        "id": "HxvWMCDvUbrB"
      },
      "outputs": [],
      "source": [
        "#renombramos las columnas\n",
        "\n",
        "df_personas_suma = df_personas_suma.rename(columns={\n",
        "     'CH03':'parentesco',\n",
        "     'CH04':'genero',\n",
        "     'CH06':'edad',\n",
        "     'CH08':'cob_medica',\n",
        "     'AE_ctrol_ind_x':'AE_ctrol_ind',\n",
        "     'AE_ctrol_ind_y':'AE_ctrol_ind_sum'})"
      ]
    },
    {
      "cell_type": "code",
      "execution_count": 16,
      "metadata": {
        "colab": {
          "base_uri": "https://localhost:8080/",
          "height": 176
        },
        "id": "_k3D7D1DUtJY",
        "outputId": "42c41b6f-5571-499d-9b41-7e0c808a3165"
      },
      "outputs": [
        {
          "output_type": "execute_result",
          "data": {
            "text/plain": [
              "                          CODUSU  NRO_HOGAR  parentesco  genero  edad  \\\n",
              "0  TQRMNOPPQHMOLPCDEGNFJ00714305          1           3       1    13   \n",
              "1  TQRMNOPPQHMOLPCDEGNFJ00714305          1           1       2    37   \n",
              "\n",
              "   cob_medica  NIVEL_ED  CAT_OCUP  CAT_INAC  AE_ctrol_ind  AE_ctrol_ind_sum  \n",
              "0           1         3         0         3          0.90              3.35  \n",
              "1           1         6         3         0          0.77              3.35  "
            ],
            "text/html": [
              "\n",
              "  <div id=\"df-f7bbb23c-de19-407c-bff6-4f5495bfdf37\">\n",
              "    <div class=\"colab-df-container\">\n",
              "      <div>\n",
              "<style scoped>\n",
              "    .dataframe tbody tr th:only-of-type {\n",
              "        vertical-align: middle;\n",
              "    }\n",
              "\n",
              "    .dataframe tbody tr th {\n",
              "        vertical-align: top;\n",
              "    }\n",
              "\n",
              "    .dataframe thead th {\n",
              "        text-align: right;\n",
              "    }\n",
              "</style>\n",
              "<table border=\"1\" class=\"dataframe\">\n",
              "  <thead>\n",
              "    <tr style=\"text-align: right;\">\n",
              "      <th></th>\n",
              "      <th>CODUSU</th>\n",
              "      <th>NRO_HOGAR</th>\n",
              "      <th>parentesco</th>\n",
              "      <th>genero</th>\n",
              "      <th>edad</th>\n",
              "      <th>cob_medica</th>\n",
              "      <th>NIVEL_ED</th>\n",
              "      <th>CAT_OCUP</th>\n",
              "      <th>CAT_INAC</th>\n",
              "      <th>AE_ctrol_ind</th>\n",
              "      <th>AE_ctrol_ind_sum</th>\n",
              "    </tr>\n",
              "  </thead>\n",
              "  <tbody>\n",
              "    <tr>\n",
              "      <th>0</th>\n",
              "      <td>TQRMNOPPQHMOLPCDEGNFJ00714305</td>\n",
              "      <td>1</td>\n",
              "      <td>3</td>\n",
              "      <td>1</td>\n",
              "      <td>13</td>\n",
              "      <td>1</td>\n",
              "      <td>3</td>\n",
              "      <td>0</td>\n",
              "      <td>3</td>\n",
              "      <td>0.90</td>\n",
              "      <td>3.35</td>\n",
              "    </tr>\n",
              "    <tr>\n",
              "      <th>1</th>\n",
              "      <td>TQRMNOPPQHMOLPCDEGNFJ00714305</td>\n",
              "      <td>1</td>\n",
              "      <td>1</td>\n",
              "      <td>2</td>\n",
              "      <td>37</td>\n",
              "      <td>1</td>\n",
              "      <td>6</td>\n",
              "      <td>3</td>\n",
              "      <td>0</td>\n",
              "      <td>0.77</td>\n",
              "      <td>3.35</td>\n",
              "    </tr>\n",
              "  </tbody>\n",
              "</table>\n",
              "</div>\n",
              "      <button class=\"colab-df-convert\" onclick=\"convertToInteractive('df-f7bbb23c-de19-407c-bff6-4f5495bfdf37')\"\n",
              "              title=\"Convert this dataframe to an interactive table.\"\n",
              "              style=\"display:none;\">\n",
              "        \n",
              "  <svg xmlns=\"http://www.w3.org/2000/svg\" height=\"24px\"viewBox=\"0 0 24 24\"\n",
              "       width=\"24px\">\n",
              "    <path d=\"M0 0h24v24H0V0z\" fill=\"none\"/>\n",
              "    <path d=\"M18.56 5.44l.94 2.06.94-2.06 2.06-.94-2.06-.94-.94-2.06-.94 2.06-2.06.94zm-11 1L8.5 8.5l.94-2.06 2.06-.94-2.06-.94L8.5 2.5l-.94 2.06-2.06.94zm10 10l.94 2.06.94-2.06 2.06-.94-2.06-.94-.94-2.06-.94 2.06-2.06.94z\"/><path d=\"M17.41 7.96l-1.37-1.37c-.4-.4-.92-.59-1.43-.59-.52 0-1.04.2-1.43.59L10.3 9.45l-7.72 7.72c-.78.78-.78 2.05 0 2.83L4 21.41c.39.39.9.59 1.41.59.51 0 1.02-.2 1.41-.59l7.78-7.78 2.81-2.81c.8-.78.8-2.07 0-2.86zM5.41 20L4 18.59l7.72-7.72 1.47 1.35L5.41 20z\"/>\n",
              "  </svg>\n",
              "      </button>\n",
              "      \n",
              "  <style>\n",
              "    .colab-df-container {\n",
              "      display:flex;\n",
              "      flex-wrap:wrap;\n",
              "      gap: 12px;\n",
              "    }\n",
              "\n",
              "    .colab-df-convert {\n",
              "      background-color: #E8F0FE;\n",
              "      border: none;\n",
              "      border-radius: 50%;\n",
              "      cursor: pointer;\n",
              "      display: none;\n",
              "      fill: #1967D2;\n",
              "      height: 32px;\n",
              "      padding: 0 0 0 0;\n",
              "      width: 32px;\n",
              "    }\n",
              "\n",
              "    .colab-df-convert:hover {\n",
              "      background-color: #E2EBFA;\n",
              "      box-shadow: 0px 1px 2px rgba(60, 64, 67, 0.3), 0px 1px 3px 1px rgba(60, 64, 67, 0.15);\n",
              "      fill: #174EA6;\n",
              "    }\n",
              "\n",
              "    [theme=dark] .colab-df-convert {\n",
              "      background-color: #3B4455;\n",
              "      fill: #D2E3FC;\n",
              "    }\n",
              "\n",
              "    [theme=dark] .colab-df-convert:hover {\n",
              "      background-color: #434B5C;\n",
              "      box-shadow: 0px 1px 3px 1px rgba(0, 0, 0, 0.15);\n",
              "      filter: drop-shadow(0px 1px 2px rgba(0, 0, 0, 0.3));\n",
              "      fill: #FFFFFF;\n",
              "    }\n",
              "  </style>\n",
              "\n",
              "      <script>\n",
              "        const buttonEl =\n",
              "          document.querySelector('#df-f7bbb23c-de19-407c-bff6-4f5495bfdf37 button.colab-df-convert');\n",
              "        buttonEl.style.display =\n",
              "          google.colab.kernel.accessAllowed ? 'block' : 'none';\n",
              "\n",
              "        async function convertToInteractive(key) {\n",
              "          const element = document.querySelector('#df-f7bbb23c-de19-407c-bff6-4f5495bfdf37');\n",
              "          const dataTable =\n",
              "            await google.colab.kernel.invokeFunction('convertToInteractive',\n",
              "                                                     [key], {});\n",
              "          if (!dataTable) return;\n",
              "\n",
              "          const docLinkHtml = 'Like what you see? Visit the ' +\n",
              "            '<a target=\"_blank\" href=https://colab.research.google.com/notebooks/data_table.ipynb>data table notebook</a>'\n",
              "            + ' to learn more about interactive tables.';\n",
              "          element.innerHTML = '';\n",
              "          dataTable['output_type'] = 'display_data';\n",
              "          await google.colab.output.renderOutput(dataTable, element);\n",
              "          const docLink = document.createElement('div');\n",
              "          docLink.innerHTML = docLinkHtml;\n",
              "          element.appendChild(docLink);\n",
              "        }\n",
              "      </script>\n",
              "    </div>\n",
              "  </div>\n",
              "  "
            ]
          },
          "metadata": {},
          "execution_count": 16
        }
      ],
      "source": [
        "df_personas_suma.head(2)"
      ]
    },
    {
      "cell_type": "code",
      "execution_count": 18,
      "metadata": {
        "colab": {
          "base_uri": "https://localhost:8080/"
        },
        "id": "aO8myyQEVROW",
        "outputId": "5a95f3bf-d4fd-4ac8-b41d-106ac8703d62"
      },
      "outputs": [
        {
          "output_type": "execute_result",
          "data": {
            "text/plain": [
              "(50154, 11)"
            ]
          },
          "metadata": {},
          "execution_count": 18
        }
      ],
      "source": [
        "df_personas_suma.shape"
      ]
    },
    {
      "cell_type": "code",
      "execution_count": 19,
      "metadata": {
        "id": "C36-R3tcniae"
      },
      "outputs": [],
      "source": [
        "#seleccionamos solo los que cumplen la condición de jefes/as de hogar\n",
        "\n",
        "df_personas_jefes = df_personas_suma.loc[df_personas_suma.loc[:, 'parentesco'] == 1]"
      ]
    },
    {
      "cell_type": "code",
      "execution_count": 21,
      "metadata": {
        "colab": {
          "base_uri": "https://localhost:8080/",
          "height": 176
        },
        "id": "_X9L1WcVrGCh",
        "outputId": "aabff3a2-16a4-44bf-ee8a-f108989ffaf7"
      },
      "outputs": [
        {
          "output_type": "execute_result",
          "data": {
            "text/plain": [
              "                          CODUSU  NRO_HOGAR  parentesco  genero  edad  \\\n",
              "1  TQRMNOPPQHMOLPCDEGNFJ00714305          1           1       2    37   \n",
              "4  TQRMNOQPYHKMPUCDEIJAH00663642          1           1       1    79   \n",
              "\n",
              "   cob_medica  NIVEL_ED  CAT_OCUP  CAT_INAC  AE_ctrol_ind  AE_ctrol_ind_sum  \n",
              "1           1         6         3         0          0.77              3.35  \n",
              "4           1         2         0         1          0.74              1.37  "
            ],
            "text/html": [
              "\n",
              "  <div id=\"df-11ff3e96-5c18-4235-9110-4e2855160231\">\n",
              "    <div class=\"colab-df-container\">\n",
              "      <div>\n",
              "<style scoped>\n",
              "    .dataframe tbody tr th:only-of-type {\n",
              "        vertical-align: middle;\n",
              "    }\n",
              "\n",
              "    .dataframe tbody tr th {\n",
              "        vertical-align: top;\n",
              "    }\n",
              "\n",
              "    .dataframe thead th {\n",
              "        text-align: right;\n",
              "    }\n",
              "</style>\n",
              "<table border=\"1\" class=\"dataframe\">\n",
              "  <thead>\n",
              "    <tr style=\"text-align: right;\">\n",
              "      <th></th>\n",
              "      <th>CODUSU</th>\n",
              "      <th>NRO_HOGAR</th>\n",
              "      <th>parentesco</th>\n",
              "      <th>genero</th>\n",
              "      <th>edad</th>\n",
              "      <th>cob_medica</th>\n",
              "      <th>NIVEL_ED</th>\n",
              "      <th>CAT_OCUP</th>\n",
              "      <th>CAT_INAC</th>\n",
              "      <th>AE_ctrol_ind</th>\n",
              "      <th>AE_ctrol_ind_sum</th>\n",
              "    </tr>\n",
              "  </thead>\n",
              "  <tbody>\n",
              "    <tr>\n",
              "      <th>1</th>\n",
              "      <td>TQRMNOPPQHMOLPCDEGNFJ00714305</td>\n",
              "      <td>1</td>\n",
              "      <td>1</td>\n",
              "      <td>2</td>\n",
              "      <td>37</td>\n",
              "      <td>1</td>\n",
              "      <td>6</td>\n",
              "      <td>3</td>\n",
              "      <td>0</td>\n",
              "      <td>0.77</td>\n",
              "      <td>3.35</td>\n",
              "    </tr>\n",
              "    <tr>\n",
              "      <th>4</th>\n",
              "      <td>TQRMNOQPYHKMPUCDEIJAH00663642</td>\n",
              "      <td>1</td>\n",
              "      <td>1</td>\n",
              "      <td>1</td>\n",
              "      <td>79</td>\n",
              "      <td>1</td>\n",
              "      <td>2</td>\n",
              "      <td>0</td>\n",
              "      <td>1</td>\n",
              "      <td>0.74</td>\n",
              "      <td>1.37</td>\n",
              "    </tr>\n",
              "  </tbody>\n",
              "</table>\n",
              "</div>\n",
              "      <button class=\"colab-df-convert\" onclick=\"convertToInteractive('df-11ff3e96-5c18-4235-9110-4e2855160231')\"\n",
              "              title=\"Convert this dataframe to an interactive table.\"\n",
              "              style=\"display:none;\">\n",
              "        \n",
              "  <svg xmlns=\"http://www.w3.org/2000/svg\" height=\"24px\"viewBox=\"0 0 24 24\"\n",
              "       width=\"24px\">\n",
              "    <path d=\"M0 0h24v24H0V0z\" fill=\"none\"/>\n",
              "    <path d=\"M18.56 5.44l.94 2.06.94-2.06 2.06-.94-2.06-.94-.94-2.06-.94 2.06-2.06.94zm-11 1L8.5 8.5l.94-2.06 2.06-.94-2.06-.94L8.5 2.5l-.94 2.06-2.06.94zm10 10l.94 2.06.94-2.06 2.06-.94-2.06-.94-.94-2.06-.94 2.06-2.06.94z\"/><path d=\"M17.41 7.96l-1.37-1.37c-.4-.4-.92-.59-1.43-.59-.52 0-1.04.2-1.43.59L10.3 9.45l-7.72 7.72c-.78.78-.78 2.05 0 2.83L4 21.41c.39.39.9.59 1.41.59.51 0 1.02-.2 1.41-.59l7.78-7.78 2.81-2.81c.8-.78.8-2.07 0-2.86zM5.41 20L4 18.59l7.72-7.72 1.47 1.35L5.41 20z\"/>\n",
              "  </svg>\n",
              "      </button>\n",
              "      \n",
              "  <style>\n",
              "    .colab-df-container {\n",
              "      display:flex;\n",
              "      flex-wrap:wrap;\n",
              "      gap: 12px;\n",
              "    }\n",
              "\n",
              "    .colab-df-convert {\n",
              "      background-color: #E8F0FE;\n",
              "      border: none;\n",
              "      border-radius: 50%;\n",
              "      cursor: pointer;\n",
              "      display: none;\n",
              "      fill: #1967D2;\n",
              "      height: 32px;\n",
              "      padding: 0 0 0 0;\n",
              "      width: 32px;\n",
              "    }\n",
              "\n",
              "    .colab-df-convert:hover {\n",
              "      background-color: #E2EBFA;\n",
              "      box-shadow: 0px 1px 2px rgba(60, 64, 67, 0.3), 0px 1px 3px 1px rgba(60, 64, 67, 0.15);\n",
              "      fill: #174EA6;\n",
              "    }\n",
              "\n",
              "    [theme=dark] .colab-df-convert {\n",
              "      background-color: #3B4455;\n",
              "      fill: #D2E3FC;\n",
              "    }\n",
              "\n",
              "    [theme=dark] .colab-df-convert:hover {\n",
              "      background-color: #434B5C;\n",
              "      box-shadow: 0px 1px 3px 1px rgba(0, 0, 0, 0.15);\n",
              "      filter: drop-shadow(0px 1px 2px rgba(0, 0, 0, 0.3));\n",
              "      fill: #FFFFFF;\n",
              "    }\n",
              "  </style>\n",
              "\n",
              "      <script>\n",
              "        const buttonEl =\n",
              "          document.querySelector('#df-11ff3e96-5c18-4235-9110-4e2855160231 button.colab-df-convert');\n",
              "        buttonEl.style.display =\n",
              "          google.colab.kernel.accessAllowed ? 'block' : 'none';\n",
              "\n",
              "        async function convertToInteractive(key) {\n",
              "          const element = document.querySelector('#df-11ff3e96-5c18-4235-9110-4e2855160231');\n",
              "          const dataTable =\n",
              "            await google.colab.kernel.invokeFunction('convertToInteractive',\n",
              "                                                     [key], {});\n",
              "          if (!dataTable) return;\n",
              "\n",
              "          const docLinkHtml = 'Like what you see? Visit the ' +\n",
              "            '<a target=\"_blank\" href=https://colab.research.google.com/notebooks/data_table.ipynb>data table notebook</a>'\n",
              "            + ' to learn more about interactive tables.';\n",
              "          element.innerHTML = '';\n",
              "          dataTable['output_type'] = 'display_data';\n",
              "          await google.colab.output.renderOutput(dataTable, element);\n",
              "          const docLink = document.createElement('div');\n",
              "          docLink.innerHTML = docLinkHtml;\n",
              "          element.appendChild(docLink);\n",
              "        }\n",
              "      </script>\n",
              "    </div>\n",
              "  </div>\n",
              "  "
            ]
          },
          "metadata": {},
          "execution_count": 21
        }
      ],
      "source": [
        "df_personas_jefes.head(2)"
      ]
    },
    {
      "cell_type": "code",
      "execution_count": 22,
      "metadata": {
        "colab": {
          "base_uri": "https://localhost:8080/"
        },
        "id": "PGXKYnK_rzuF",
        "outputId": "e117809a-a111-4f25-8620-e045e92f495b"
      },
      "outputs": [
        {
          "output_type": "execute_result",
          "data": {
            "text/plain": [
              "(17037, 11)"
            ]
          },
          "metadata": {},
          "execution_count": 22
        }
      ],
      "source": [
        "#comprobamos la cantidad de filas\n",
        "\n",
        "df_personas_jefes.shape"
      ]
    },
    {
      "cell_type": "code",
      "execution_count": 23,
      "metadata": {
        "colab": {
          "base_uri": "https://localhost:8080/",
          "height": 74
        },
        "id": "yjEgBwTLSidc",
        "outputId": "4f7bb876-55e4-4fba-9b0c-e074657735e1"
      },
      "outputs": [
        {
          "output_type": "display_data",
          "data": {
            "text/plain": [
              "<IPython.core.display.HTML object>"
            ],
            "text/html": [
              "\n",
              "     <input type=\"file\" id=\"files-0b76c258-458f-4df6-800d-c41bd986d8af\" name=\"files[]\" multiple disabled\n",
              "        style=\"border:none\" />\n",
              "     <output id=\"result-0b76c258-458f-4df6-800d-c41bd986d8af\">\n",
              "      Upload widget is only available when the cell has been executed in the\n",
              "      current browser session. Please rerun this cell to enable.\n",
              "      </output>\n",
              "      <script>// Copyright 2017 Google LLC\n",
              "//\n",
              "// Licensed under the Apache License, Version 2.0 (the \"License\");\n",
              "// you may not use this file except in compliance with the License.\n",
              "// You may obtain a copy of the License at\n",
              "//\n",
              "//      http://www.apache.org/licenses/LICENSE-2.0\n",
              "//\n",
              "// Unless required by applicable law or agreed to in writing, software\n",
              "// distributed under the License is distributed on an \"AS IS\" BASIS,\n",
              "// WITHOUT WARRANTIES OR CONDITIONS OF ANY KIND, either express or implied.\n",
              "// See the License for the specific language governing permissions and\n",
              "// limitations under the License.\n",
              "\n",
              "/**\n",
              " * @fileoverview Helpers for google.colab Python module.\n",
              " */\n",
              "(function(scope) {\n",
              "function span(text, styleAttributes = {}) {\n",
              "  const element = document.createElement('span');\n",
              "  element.textContent = text;\n",
              "  for (const key of Object.keys(styleAttributes)) {\n",
              "    element.style[key] = styleAttributes[key];\n",
              "  }\n",
              "  return element;\n",
              "}\n",
              "\n",
              "// Max number of bytes which will be uploaded at a time.\n",
              "const MAX_PAYLOAD_SIZE = 100 * 1024;\n",
              "\n",
              "function _uploadFiles(inputId, outputId) {\n",
              "  const steps = uploadFilesStep(inputId, outputId);\n",
              "  const outputElement = document.getElementById(outputId);\n",
              "  // Cache steps on the outputElement to make it available for the next call\n",
              "  // to uploadFilesContinue from Python.\n",
              "  outputElement.steps = steps;\n",
              "\n",
              "  return _uploadFilesContinue(outputId);\n",
              "}\n",
              "\n",
              "// This is roughly an async generator (not supported in the browser yet),\n",
              "// where there are multiple asynchronous steps and the Python side is going\n",
              "// to poll for completion of each step.\n",
              "// This uses a Promise to block the python side on completion of each step,\n",
              "// then passes the result of the previous step as the input to the next step.\n",
              "function _uploadFilesContinue(outputId) {\n",
              "  const outputElement = document.getElementById(outputId);\n",
              "  const steps = outputElement.steps;\n",
              "\n",
              "  const next = steps.next(outputElement.lastPromiseValue);\n",
              "  return Promise.resolve(next.value.promise).then((value) => {\n",
              "    // Cache the last promise value to make it available to the next\n",
              "    // step of the generator.\n",
              "    outputElement.lastPromiseValue = value;\n",
              "    return next.value.response;\n",
              "  });\n",
              "}\n",
              "\n",
              "/**\n",
              " * Generator function which is called between each async step of the upload\n",
              " * process.\n",
              " * @param {string} inputId Element ID of the input file picker element.\n",
              " * @param {string} outputId Element ID of the output display.\n",
              " * @return {!Iterable<!Object>} Iterable of next steps.\n",
              " */\n",
              "function* uploadFilesStep(inputId, outputId) {\n",
              "  const inputElement = document.getElementById(inputId);\n",
              "  inputElement.disabled = false;\n",
              "\n",
              "  const outputElement = document.getElementById(outputId);\n",
              "  outputElement.innerHTML = '';\n",
              "\n",
              "  const pickedPromise = new Promise((resolve) => {\n",
              "    inputElement.addEventListener('change', (e) => {\n",
              "      resolve(e.target.files);\n",
              "    });\n",
              "  });\n",
              "\n",
              "  const cancel = document.createElement('button');\n",
              "  inputElement.parentElement.appendChild(cancel);\n",
              "  cancel.textContent = 'Cancel upload';\n",
              "  const cancelPromise = new Promise((resolve) => {\n",
              "    cancel.onclick = () => {\n",
              "      resolve(null);\n",
              "    };\n",
              "  });\n",
              "\n",
              "  // Wait for the user to pick the files.\n",
              "  const files = yield {\n",
              "    promise: Promise.race([pickedPromise, cancelPromise]),\n",
              "    response: {\n",
              "      action: 'starting',\n",
              "    }\n",
              "  };\n",
              "\n",
              "  cancel.remove();\n",
              "\n",
              "  // Disable the input element since further picks are not allowed.\n",
              "  inputElement.disabled = true;\n",
              "\n",
              "  if (!files) {\n",
              "    return {\n",
              "      response: {\n",
              "        action: 'complete',\n",
              "      }\n",
              "    };\n",
              "  }\n",
              "\n",
              "  for (const file of files) {\n",
              "    const li = document.createElement('li');\n",
              "    li.append(span(file.name, {fontWeight: 'bold'}));\n",
              "    li.append(span(\n",
              "        `(${file.type || 'n/a'}) - ${file.size} bytes, ` +\n",
              "        `last modified: ${\n",
              "            file.lastModifiedDate ? file.lastModifiedDate.toLocaleDateString() :\n",
              "                                    'n/a'} - `));\n",
              "    const percent = span('0% done');\n",
              "    li.appendChild(percent);\n",
              "\n",
              "    outputElement.appendChild(li);\n",
              "\n",
              "    const fileDataPromise = new Promise((resolve) => {\n",
              "      const reader = new FileReader();\n",
              "      reader.onload = (e) => {\n",
              "        resolve(e.target.result);\n",
              "      };\n",
              "      reader.readAsArrayBuffer(file);\n",
              "    });\n",
              "    // Wait for the data to be ready.\n",
              "    let fileData = yield {\n",
              "      promise: fileDataPromise,\n",
              "      response: {\n",
              "        action: 'continue',\n",
              "      }\n",
              "    };\n",
              "\n",
              "    // Use a chunked sending to avoid message size limits. See b/62115660.\n",
              "    let position = 0;\n",
              "    do {\n",
              "      const length = Math.min(fileData.byteLength - position, MAX_PAYLOAD_SIZE);\n",
              "      const chunk = new Uint8Array(fileData, position, length);\n",
              "      position += length;\n",
              "\n",
              "      const base64 = btoa(String.fromCharCode.apply(null, chunk));\n",
              "      yield {\n",
              "        response: {\n",
              "          action: 'append',\n",
              "          file: file.name,\n",
              "          data: base64,\n",
              "        },\n",
              "      };\n",
              "\n",
              "      let percentDone = fileData.byteLength === 0 ?\n",
              "          100 :\n",
              "          Math.round((position / fileData.byteLength) * 100);\n",
              "      percent.textContent = `${percentDone}% done`;\n",
              "\n",
              "    } while (position < fileData.byteLength);\n",
              "  }\n",
              "\n",
              "  // All done.\n",
              "  yield {\n",
              "    response: {\n",
              "      action: 'complete',\n",
              "    }\n",
              "  };\n",
              "}\n",
              "\n",
              "scope.google = scope.google || {};\n",
              "scope.google.colab = scope.google.colab || {};\n",
              "scope.google.colab._files = {\n",
              "  _uploadFiles,\n",
              "  _uploadFilesContinue,\n",
              "};\n",
              "})(self);\n",
              "</script> "
            ]
          },
          "metadata": {}
        },
        {
          "output_type": "stream",
          "name": "stdout",
          "text": [
            "Saving usu_hogar_T421.csv to usu_hogar_T421.csv\n"
          ]
        }
      ],
      "source": [
        "#cargamos el archivo de hogares \"usu_hogar_T421.csv\"\n",
        "\n",
        "from google.colab import files\n",
        "uploaded  = files.upload() "
      ]
    },
    {
      "cell_type": "code",
      "execution_count": 24,
      "metadata": {
        "id": "079eUZH0bboZ"
      },
      "outputs": [],
      "source": [
        "df_hogares = pd.read_csv(\"usu_hogar_T421.csv\")"
      ]
    },
    {
      "cell_type": "code",
      "execution_count": 25,
      "metadata": {
        "colab": {
          "base_uri": "https://localhost:8080/"
        },
        "id": "r-T8WY3Sr7cD",
        "outputId": "8da84d1e-77dc-447e-c7b5-6bffb0c59bf8"
      },
      "outputs": [
        {
          "output_type": "execute_result",
          "data": {
            "text/plain": [
              "(17037, 88)"
            ]
          },
          "metadata": {},
          "execution_count": 25
        }
      ],
      "source": [
        "#comprobamos la cantidad de filas\n",
        "\n",
        "df_hogares.shape"
      ]
    },
    {
      "cell_type": "code",
      "execution_count": 26,
      "metadata": {
        "id": "Ni5sI17AnD3p"
      },
      "outputs": [],
      "source": [
        "#unimos los dos dataframes, que tienen la misma cantidad de filas, según las variables CODUSU y NRO_HOGAR\n",
        "\n",
        "df_dataset = pd.merge(df_hogares, df_personas_jefes, on=['CODUSU','NRO_HOGAR'])"
      ]
    },
    {
      "cell_type": "code",
      "execution_count": 27,
      "metadata": {
        "colab": {
          "base_uri": "https://localhost:8080/"
        },
        "id": "yCUnWi5XK918",
        "outputId": "ec0c4aad-1951-4fc0-d7ae-25df02bc19e7"
      },
      "outputs": [
        {
          "output_type": "execute_result",
          "data": {
            "text/plain": [
              "(17037, 97)"
            ]
          },
          "metadata": {},
          "execution_count": 27
        }
      ],
      "source": [
        "#comprobamos la cantidad de filas\n",
        "\n",
        "df_dataset.shape"
      ]
    },
    {
      "cell_type": "code",
      "execution_count": 28,
      "metadata": {
        "colab": {
          "base_uri": "https://localhost:8080/",
          "height": 205
        },
        "id": "KYbChetLnSfC",
        "outputId": "c833b788-4e80-4c9d-f479-c328ebd319e9"
      },
      "outputs": [
        {
          "output_type": "execute_result",
          "data": {
            "text/plain": [
              "                          CODUSU  ANO4  TRIMESTRE  NRO_HOGAR  REALIZADA  \\\n",
              "0  TQRMNOQRPHMOKOCDEOJAH00714382  2021          4          1          1   \n",
              "1  TQRMNOQYUHMMKPCDEOJAH00714383  2021          4          1          1   \n",
              "\n",
              "   REGION MAS_500  AGLOMERADO  PONDERA  IV1  ... VII2_4  parentesco  genero  \\\n",
              "0      44       N          93      116    1  ...      0           1       2   \n",
              "1      44       N          93       46    1  ...      0           1       2   \n",
              "\n",
              "  edad  cob_medica  NIVEL_ED  CAT_OCUP  CAT_INAC AE_ctrol_ind  \\\n",
              "0   38           1         6         3         0         0.77   \n",
              "1   64           1         6         0         1         0.67   \n",
              "\n",
              "   AE_ctrol_ind_sum  \n",
              "0              2.10  \n",
              "1              1.44  \n",
              "\n",
              "[2 rows x 97 columns]"
            ],
            "text/html": [
              "\n",
              "  <div id=\"df-f7d330f7-9a47-4368-94c9-685038637625\">\n",
              "    <div class=\"colab-df-container\">\n",
              "      <div>\n",
              "<style scoped>\n",
              "    .dataframe tbody tr th:only-of-type {\n",
              "        vertical-align: middle;\n",
              "    }\n",
              "\n",
              "    .dataframe tbody tr th {\n",
              "        vertical-align: top;\n",
              "    }\n",
              "\n",
              "    .dataframe thead th {\n",
              "        text-align: right;\n",
              "    }\n",
              "</style>\n",
              "<table border=\"1\" class=\"dataframe\">\n",
              "  <thead>\n",
              "    <tr style=\"text-align: right;\">\n",
              "      <th></th>\n",
              "      <th>CODUSU</th>\n",
              "      <th>ANO4</th>\n",
              "      <th>TRIMESTRE</th>\n",
              "      <th>NRO_HOGAR</th>\n",
              "      <th>REALIZADA</th>\n",
              "      <th>REGION</th>\n",
              "      <th>MAS_500</th>\n",
              "      <th>AGLOMERADO</th>\n",
              "      <th>PONDERA</th>\n",
              "      <th>IV1</th>\n",
              "      <th>...</th>\n",
              "      <th>VII2_4</th>\n",
              "      <th>parentesco</th>\n",
              "      <th>genero</th>\n",
              "      <th>edad</th>\n",
              "      <th>cob_medica</th>\n",
              "      <th>NIVEL_ED</th>\n",
              "      <th>CAT_OCUP</th>\n",
              "      <th>CAT_INAC</th>\n",
              "      <th>AE_ctrol_ind</th>\n",
              "      <th>AE_ctrol_ind_sum</th>\n",
              "    </tr>\n",
              "  </thead>\n",
              "  <tbody>\n",
              "    <tr>\n",
              "      <th>0</th>\n",
              "      <td>TQRMNOQRPHMOKOCDEOJAH00714382</td>\n",
              "      <td>2021</td>\n",
              "      <td>4</td>\n",
              "      <td>1</td>\n",
              "      <td>1</td>\n",
              "      <td>44</td>\n",
              "      <td>N</td>\n",
              "      <td>93</td>\n",
              "      <td>116</td>\n",
              "      <td>1</td>\n",
              "      <td>...</td>\n",
              "      <td>0</td>\n",
              "      <td>1</td>\n",
              "      <td>2</td>\n",
              "      <td>38</td>\n",
              "      <td>1</td>\n",
              "      <td>6</td>\n",
              "      <td>3</td>\n",
              "      <td>0</td>\n",
              "      <td>0.77</td>\n",
              "      <td>2.10</td>\n",
              "    </tr>\n",
              "    <tr>\n",
              "      <th>1</th>\n",
              "      <td>TQRMNOQYUHMMKPCDEOJAH00714383</td>\n",
              "      <td>2021</td>\n",
              "      <td>4</td>\n",
              "      <td>1</td>\n",
              "      <td>1</td>\n",
              "      <td>44</td>\n",
              "      <td>N</td>\n",
              "      <td>93</td>\n",
              "      <td>46</td>\n",
              "      <td>1</td>\n",
              "      <td>...</td>\n",
              "      <td>0</td>\n",
              "      <td>1</td>\n",
              "      <td>2</td>\n",
              "      <td>64</td>\n",
              "      <td>1</td>\n",
              "      <td>6</td>\n",
              "      <td>0</td>\n",
              "      <td>1</td>\n",
              "      <td>0.67</td>\n",
              "      <td>1.44</td>\n",
              "    </tr>\n",
              "  </tbody>\n",
              "</table>\n",
              "<p>2 rows × 97 columns</p>\n",
              "</div>\n",
              "      <button class=\"colab-df-convert\" onclick=\"convertToInteractive('df-f7d330f7-9a47-4368-94c9-685038637625')\"\n",
              "              title=\"Convert this dataframe to an interactive table.\"\n",
              "              style=\"display:none;\">\n",
              "        \n",
              "  <svg xmlns=\"http://www.w3.org/2000/svg\" height=\"24px\"viewBox=\"0 0 24 24\"\n",
              "       width=\"24px\">\n",
              "    <path d=\"M0 0h24v24H0V0z\" fill=\"none\"/>\n",
              "    <path d=\"M18.56 5.44l.94 2.06.94-2.06 2.06-.94-2.06-.94-.94-2.06-.94 2.06-2.06.94zm-11 1L8.5 8.5l.94-2.06 2.06-.94-2.06-.94L8.5 2.5l-.94 2.06-2.06.94zm10 10l.94 2.06.94-2.06 2.06-.94-2.06-.94-.94-2.06-.94 2.06-2.06.94z\"/><path d=\"M17.41 7.96l-1.37-1.37c-.4-.4-.92-.59-1.43-.59-.52 0-1.04.2-1.43.59L10.3 9.45l-7.72 7.72c-.78.78-.78 2.05 0 2.83L4 21.41c.39.39.9.59 1.41.59.51 0 1.02-.2 1.41-.59l7.78-7.78 2.81-2.81c.8-.78.8-2.07 0-2.86zM5.41 20L4 18.59l7.72-7.72 1.47 1.35L5.41 20z\"/>\n",
              "  </svg>\n",
              "      </button>\n",
              "      \n",
              "  <style>\n",
              "    .colab-df-container {\n",
              "      display:flex;\n",
              "      flex-wrap:wrap;\n",
              "      gap: 12px;\n",
              "    }\n",
              "\n",
              "    .colab-df-convert {\n",
              "      background-color: #E8F0FE;\n",
              "      border: none;\n",
              "      border-radius: 50%;\n",
              "      cursor: pointer;\n",
              "      display: none;\n",
              "      fill: #1967D2;\n",
              "      height: 32px;\n",
              "      padding: 0 0 0 0;\n",
              "      width: 32px;\n",
              "    }\n",
              "\n",
              "    .colab-df-convert:hover {\n",
              "      background-color: #E2EBFA;\n",
              "      box-shadow: 0px 1px 2px rgba(60, 64, 67, 0.3), 0px 1px 3px 1px rgba(60, 64, 67, 0.15);\n",
              "      fill: #174EA6;\n",
              "    }\n",
              "\n",
              "    [theme=dark] .colab-df-convert {\n",
              "      background-color: #3B4455;\n",
              "      fill: #D2E3FC;\n",
              "    }\n",
              "\n",
              "    [theme=dark] .colab-df-convert:hover {\n",
              "      background-color: #434B5C;\n",
              "      box-shadow: 0px 1px 3px 1px rgba(0, 0, 0, 0.15);\n",
              "      filter: drop-shadow(0px 1px 2px rgba(0, 0, 0, 0.3));\n",
              "      fill: #FFFFFF;\n",
              "    }\n",
              "  </style>\n",
              "\n",
              "      <script>\n",
              "        const buttonEl =\n",
              "          document.querySelector('#df-f7d330f7-9a47-4368-94c9-685038637625 button.colab-df-convert');\n",
              "        buttonEl.style.display =\n",
              "          google.colab.kernel.accessAllowed ? 'block' : 'none';\n",
              "\n",
              "        async function convertToInteractive(key) {\n",
              "          const element = document.querySelector('#df-f7d330f7-9a47-4368-94c9-685038637625');\n",
              "          const dataTable =\n",
              "            await google.colab.kernel.invokeFunction('convertToInteractive',\n",
              "                                                     [key], {});\n",
              "          if (!dataTable) return;\n",
              "\n",
              "          const docLinkHtml = 'Like what you see? Visit the ' +\n",
              "            '<a target=\"_blank\" href=https://colab.research.google.com/notebooks/data_table.ipynb>data table notebook</a>'\n",
              "            + ' to learn more about interactive tables.';\n",
              "          element.innerHTML = '';\n",
              "          dataTable['output_type'] = 'display_data';\n",
              "          await google.colab.output.renderOutput(dataTable, element);\n",
              "          const docLink = document.createElement('div');\n",
              "          docLink.innerHTML = docLinkHtml;\n",
              "          element.appendChild(docLink);\n",
              "        }\n",
              "      </script>\n",
              "    </div>\n",
              "  </div>\n",
              "  "
            ]
          },
          "metadata": {},
          "execution_count": 28
        }
      ],
      "source": [
        "df_dataset.head(2)"
      ]
    },
    {
      "cell_type": "code",
      "source": [
        "#df_dataset = df_dataset.drop(['Unnamed: 0'], axis=1)"
      ],
      "metadata": {
        "id": "pdTVOt7DiChw"
      },
      "execution_count": null,
      "outputs": []
    },
    {
      "cell_type": "code",
      "execution_count": 29,
      "metadata": {
        "id": "wYHohGGiE_ZT"
      },
      "outputs": [],
      "source": [
        "#la variable ITF representa el monto de ingreso total familiar\n",
        "#a este monto lo dividimos por la suma de % de las personas que residen en el hogar para obtener el ingreso por adulto equivalente\n",
        "\n",
        "df_dataset['adulto_equivalente']= df_dataset.apply(lambda row: row.ITF/row.AE_ctrol_ind_sum, axis=1)"
      ]
    },
    {
      "cell_type": "code",
      "execution_count": 30,
      "metadata": {
        "id": "DXJ_jn3lKoQF"
      },
      "outputs": [],
      "source": [
        "df_dataset['adulto_equivalente']= round(df_dataset['adulto_equivalente'], 0)"
      ]
    },
    {
      "cell_type": "code",
      "execution_count": 32,
      "metadata": {
        "colab": {
          "base_uri": "https://localhost:8080/",
          "height": 299
        },
        "id": "697UkkJnJFHZ",
        "outputId": "189cc1ad-3a11-4b5b-ec6c-275477928211"
      },
      "outputs": [
        {
          "output_type": "execute_result",
          "data": {
            "text/plain": [
              "                          CODUSU  ANO4  TRIMESTRE  NRO_HOGAR  REALIZADA  \\\n",
              "0  TQRMNOQRPHMOKOCDEOJAH00714382  2021          4          1          1   \n",
              "1  TQRMNOQYUHMMKPCDEOJAH00714383  2021          4          1          1   \n",
              "2  TQRMNOPSWHMMKRCDEOJAH00714384  2021          4          1          1   \n",
              "3  TQRMNOQYSHMNKTCDEOJAH00714386  2021          4          1          1   \n",
              "4  TQRMNOQXVHLLPQCDEIJAH00718674  2021          4          1          1   \n",
              "\n",
              "   REGION MAS_500  AGLOMERADO  PONDERA  IV1  ... parentesco  genero  edad  \\\n",
              "0      44       N          93      116    1  ...          1       2    38   \n",
              "1      44       N          93       46    1  ...          1       2    64   \n",
              "2      44       N          93       43    1  ...          1       1    72   \n",
              "3      44       N          93       64    2  ...          1       1    38   \n",
              "4       1       S          33     2822    1  ...          1       1    67   \n",
              "\n",
              "  cob_medica  NIVEL_ED  CAT_OCUP  CAT_INAC  AE_ctrol_ind AE_ctrol_ind_sum  \\\n",
              "0          1         6         3         0          0.77             2.10   \n",
              "1          1         6         0         1          0.67             1.44   \n",
              "2          1         2         0         1          0.83             1.50   \n",
              "3          1         4         3         0          1.00             3.13   \n",
              "4          1         4         3         0          0.83             3.33   \n",
              "\n",
              "   adulto_equivalente  \n",
              "0                 0.0  \n",
              "1                 0.0  \n",
              "2             51667.0  \n",
              "3             27157.0  \n",
              "4             29090.0  \n",
              "\n",
              "[5 rows x 98 columns]"
            ],
            "text/html": [
              "\n",
              "  <div id=\"df-e807f972-72ac-4a8a-ae7f-7b9d85117c88\">\n",
              "    <div class=\"colab-df-container\">\n",
              "      <div>\n",
              "<style scoped>\n",
              "    .dataframe tbody tr th:only-of-type {\n",
              "        vertical-align: middle;\n",
              "    }\n",
              "\n",
              "    .dataframe tbody tr th {\n",
              "        vertical-align: top;\n",
              "    }\n",
              "\n",
              "    .dataframe thead th {\n",
              "        text-align: right;\n",
              "    }\n",
              "</style>\n",
              "<table border=\"1\" class=\"dataframe\">\n",
              "  <thead>\n",
              "    <tr style=\"text-align: right;\">\n",
              "      <th></th>\n",
              "      <th>CODUSU</th>\n",
              "      <th>ANO4</th>\n",
              "      <th>TRIMESTRE</th>\n",
              "      <th>NRO_HOGAR</th>\n",
              "      <th>REALIZADA</th>\n",
              "      <th>REGION</th>\n",
              "      <th>MAS_500</th>\n",
              "      <th>AGLOMERADO</th>\n",
              "      <th>PONDERA</th>\n",
              "      <th>IV1</th>\n",
              "      <th>...</th>\n",
              "      <th>parentesco</th>\n",
              "      <th>genero</th>\n",
              "      <th>edad</th>\n",
              "      <th>cob_medica</th>\n",
              "      <th>NIVEL_ED</th>\n",
              "      <th>CAT_OCUP</th>\n",
              "      <th>CAT_INAC</th>\n",
              "      <th>AE_ctrol_ind</th>\n",
              "      <th>AE_ctrol_ind_sum</th>\n",
              "      <th>adulto_equivalente</th>\n",
              "    </tr>\n",
              "  </thead>\n",
              "  <tbody>\n",
              "    <tr>\n",
              "      <th>0</th>\n",
              "      <td>TQRMNOQRPHMOKOCDEOJAH00714382</td>\n",
              "      <td>2021</td>\n",
              "      <td>4</td>\n",
              "      <td>1</td>\n",
              "      <td>1</td>\n",
              "      <td>44</td>\n",
              "      <td>N</td>\n",
              "      <td>93</td>\n",
              "      <td>116</td>\n",
              "      <td>1</td>\n",
              "      <td>...</td>\n",
              "      <td>1</td>\n",
              "      <td>2</td>\n",
              "      <td>38</td>\n",
              "      <td>1</td>\n",
              "      <td>6</td>\n",
              "      <td>3</td>\n",
              "      <td>0</td>\n",
              "      <td>0.77</td>\n",
              "      <td>2.10</td>\n",
              "      <td>0.0</td>\n",
              "    </tr>\n",
              "    <tr>\n",
              "      <th>1</th>\n",
              "      <td>TQRMNOQYUHMMKPCDEOJAH00714383</td>\n",
              "      <td>2021</td>\n",
              "      <td>4</td>\n",
              "      <td>1</td>\n",
              "      <td>1</td>\n",
              "      <td>44</td>\n",
              "      <td>N</td>\n",
              "      <td>93</td>\n",
              "      <td>46</td>\n",
              "      <td>1</td>\n",
              "      <td>...</td>\n",
              "      <td>1</td>\n",
              "      <td>2</td>\n",
              "      <td>64</td>\n",
              "      <td>1</td>\n",
              "      <td>6</td>\n",
              "      <td>0</td>\n",
              "      <td>1</td>\n",
              "      <td>0.67</td>\n",
              "      <td>1.44</td>\n",
              "      <td>0.0</td>\n",
              "    </tr>\n",
              "    <tr>\n",
              "      <th>2</th>\n",
              "      <td>TQRMNOPSWHMMKRCDEOJAH00714384</td>\n",
              "      <td>2021</td>\n",
              "      <td>4</td>\n",
              "      <td>1</td>\n",
              "      <td>1</td>\n",
              "      <td>44</td>\n",
              "      <td>N</td>\n",
              "      <td>93</td>\n",
              "      <td>43</td>\n",
              "      <td>1</td>\n",
              "      <td>...</td>\n",
              "      <td>1</td>\n",
              "      <td>1</td>\n",
              "      <td>72</td>\n",
              "      <td>1</td>\n",
              "      <td>2</td>\n",
              "      <td>0</td>\n",
              "      <td>1</td>\n",
              "      <td>0.83</td>\n",
              "      <td>1.50</td>\n",
              "      <td>51667.0</td>\n",
              "    </tr>\n",
              "    <tr>\n",
              "      <th>3</th>\n",
              "      <td>TQRMNOQYSHMNKTCDEOJAH00714386</td>\n",
              "      <td>2021</td>\n",
              "      <td>4</td>\n",
              "      <td>1</td>\n",
              "      <td>1</td>\n",
              "      <td>44</td>\n",
              "      <td>N</td>\n",
              "      <td>93</td>\n",
              "      <td>64</td>\n",
              "      <td>2</td>\n",
              "      <td>...</td>\n",
              "      <td>1</td>\n",
              "      <td>1</td>\n",
              "      <td>38</td>\n",
              "      <td>1</td>\n",
              "      <td>4</td>\n",
              "      <td>3</td>\n",
              "      <td>0</td>\n",
              "      <td>1.00</td>\n",
              "      <td>3.13</td>\n",
              "      <td>27157.0</td>\n",
              "    </tr>\n",
              "    <tr>\n",
              "      <th>4</th>\n",
              "      <td>TQRMNOQXVHLLPQCDEIJAH00718674</td>\n",
              "      <td>2021</td>\n",
              "      <td>4</td>\n",
              "      <td>1</td>\n",
              "      <td>1</td>\n",
              "      <td>1</td>\n",
              "      <td>S</td>\n",
              "      <td>33</td>\n",
              "      <td>2822</td>\n",
              "      <td>1</td>\n",
              "      <td>...</td>\n",
              "      <td>1</td>\n",
              "      <td>1</td>\n",
              "      <td>67</td>\n",
              "      <td>1</td>\n",
              "      <td>4</td>\n",
              "      <td>3</td>\n",
              "      <td>0</td>\n",
              "      <td>0.83</td>\n",
              "      <td>3.33</td>\n",
              "      <td>29090.0</td>\n",
              "    </tr>\n",
              "  </tbody>\n",
              "</table>\n",
              "<p>5 rows × 98 columns</p>\n",
              "</div>\n",
              "      <button class=\"colab-df-convert\" onclick=\"convertToInteractive('df-e807f972-72ac-4a8a-ae7f-7b9d85117c88')\"\n",
              "              title=\"Convert this dataframe to an interactive table.\"\n",
              "              style=\"display:none;\">\n",
              "        \n",
              "  <svg xmlns=\"http://www.w3.org/2000/svg\" height=\"24px\"viewBox=\"0 0 24 24\"\n",
              "       width=\"24px\">\n",
              "    <path d=\"M0 0h24v24H0V0z\" fill=\"none\"/>\n",
              "    <path d=\"M18.56 5.44l.94 2.06.94-2.06 2.06-.94-2.06-.94-.94-2.06-.94 2.06-2.06.94zm-11 1L8.5 8.5l.94-2.06 2.06-.94-2.06-.94L8.5 2.5l-.94 2.06-2.06.94zm10 10l.94 2.06.94-2.06 2.06-.94-2.06-.94-.94-2.06-.94 2.06-2.06.94z\"/><path d=\"M17.41 7.96l-1.37-1.37c-.4-.4-.92-.59-1.43-.59-.52 0-1.04.2-1.43.59L10.3 9.45l-7.72 7.72c-.78.78-.78 2.05 0 2.83L4 21.41c.39.39.9.59 1.41.59.51 0 1.02-.2 1.41-.59l7.78-7.78 2.81-2.81c.8-.78.8-2.07 0-2.86zM5.41 20L4 18.59l7.72-7.72 1.47 1.35L5.41 20z\"/>\n",
              "  </svg>\n",
              "      </button>\n",
              "      \n",
              "  <style>\n",
              "    .colab-df-container {\n",
              "      display:flex;\n",
              "      flex-wrap:wrap;\n",
              "      gap: 12px;\n",
              "    }\n",
              "\n",
              "    .colab-df-convert {\n",
              "      background-color: #E8F0FE;\n",
              "      border: none;\n",
              "      border-radius: 50%;\n",
              "      cursor: pointer;\n",
              "      display: none;\n",
              "      fill: #1967D2;\n",
              "      height: 32px;\n",
              "      padding: 0 0 0 0;\n",
              "      width: 32px;\n",
              "    }\n",
              "\n",
              "    .colab-df-convert:hover {\n",
              "      background-color: #E2EBFA;\n",
              "      box-shadow: 0px 1px 2px rgba(60, 64, 67, 0.3), 0px 1px 3px 1px rgba(60, 64, 67, 0.15);\n",
              "      fill: #174EA6;\n",
              "    }\n",
              "\n",
              "    [theme=dark] .colab-df-convert {\n",
              "      background-color: #3B4455;\n",
              "      fill: #D2E3FC;\n",
              "    }\n",
              "\n",
              "    [theme=dark] .colab-df-convert:hover {\n",
              "      background-color: #434B5C;\n",
              "      box-shadow: 0px 1px 3px 1px rgba(0, 0, 0, 0.15);\n",
              "      filter: drop-shadow(0px 1px 2px rgba(0, 0, 0, 0.3));\n",
              "      fill: #FFFFFF;\n",
              "    }\n",
              "  </style>\n",
              "\n",
              "      <script>\n",
              "        const buttonEl =\n",
              "          document.querySelector('#df-e807f972-72ac-4a8a-ae7f-7b9d85117c88 button.colab-df-convert');\n",
              "        buttonEl.style.display =\n",
              "          google.colab.kernel.accessAllowed ? 'block' : 'none';\n",
              "\n",
              "        async function convertToInteractive(key) {\n",
              "          const element = document.querySelector('#df-e807f972-72ac-4a8a-ae7f-7b9d85117c88');\n",
              "          const dataTable =\n",
              "            await google.colab.kernel.invokeFunction('convertToInteractive',\n",
              "                                                     [key], {});\n",
              "          if (!dataTable) return;\n",
              "\n",
              "          const docLinkHtml = 'Like what you see? Visit the ' +\n",
              "            '<a target=\"_blank\" href=https://colab.research.google.com/notebooks/data_table.ipynb>data table notebook</a>'\n",
              "            + ' to learn more about interactive tables.';\n",
              "          element.innerHTML = '';\n",
              "          dataTable['output_type'] = 'display_data';\n",
              "          await google.colab.output.renderOutput(dataTable, element);\n",
              "          const docLink = document.createElement('div');\n",
              "          docLink.innerHTML = docLinkHtml;\n",
              "          element.appendChild(docLink);\n",
              "        }\n",
              "      </script>\n",
              "    </div>\n",
              "  </div>\n",
              "  "
            ]
          },
          "metadata": {},
          "execution_count": 32
        }
      ],
      "source": [
        "df_dataset.head()"
      ]
    },
    {
      "cell_type": "code",
      "execution_count": 33,
      "metadata": {
        "id": "8hYnKNHsevJ4"
      },
      "outputs": [],
      "source": [
        "#creamos la variable objetivo, pobreza\n",
        "\n",
        "\"\"\"\n",
        "De acuerdo con el archivo \"canasta_01_22DEF7D4AE32.pdf\", la canasta básica total para un adulto equivalente, para que \n",
        "no ingrese en la línea de pobreza, es de $24.643.\n",
        "\n",
        "Creamos la varibale pobreza, donde todos los hogares que tengan ingresos menores a este valor son pobres. \n",
        "\"\"\"\n",
        "\n",
        "df_dataset['pobreza'] = np.where(df_dataset['adulto_equivalente']<24643,1,0)\n"
      ]
    },
    {
      "cell_type": "code",
      "execution_count": 34,
      "metadata": {
        "colab": {
          "base_uri": "https://localhost:8080/"
        },
        "id": "oKh4HIQqtN1b",
        "outputId": "c367b72b-72b1-476c-e63a-6b3960075cab"
      },
      "outputs": [
        {
          "output_type": "execute_result",
          "data": {
            "text/plain": [
              "0    9197\n",
              "1    7840\n",
              "Name: pobreza, dtype: int64"
            ]
          },
          "metadata": {},
          "execution_count": 34
        }
      ],
      "source": [
        "df_dataset['pobreza'].value_counts()"
      ]
    },
    {
      "cell_type": "code",
      "execution_count": 35,
      "metadata": {
        "colab": {
          "base_uri": "https://localhost:8080/",
          "height": 299
        },
        "id": "AYFOGV4TlVRr",
        "outputId": "5e0df07b-5aeb-44bf-bef7-b6760244fbd5"
      },
      "outputs": [
        {
          "output_type": "execute_result",
          "data": {
            "text/plain": [
              "                          CODUSU  ANO4  TRIMESTRE  NRO_HOGAR  REALIZADA  \\\n",
              "0  TQRMNOQRPHMOKOCDEOJAH00714382  2021          4          1          1   \n",
              "1  TQRMNOQYUHMMKPCDEOJAH00714383  2021          4          1          1   \n",
              "2  TQRMNOPSWHMMKRCDEOJAH00714384  2021          4          1          1   \n",
              "3  TQRMNOQYSHMNKTCDEOJAH00714386  2021          4          1          1   \n",
              "4  TQRMNOQXVHLLPQCDEIJAH00718674  2021          4          1          1   \n",
              "\n",
              "   REGION MAS_500  AGLOMERADO  PONDERA  IV1  ... genero  edad  cob_medica  \\\n",
              "0      44       N          93      116    1  ...      2    38           1   \n",
              "1      44       N          93       46    1  ...      2    64           1   \n",
              "2      44       N          93       43    1  ...      1    72           1   \n",
              "3      44       N          93       64    2  ...      1    38           1   \n",
              "4       1       S          33     2822    1  ...      1    67           1   \n",
              "\n",
              "  NIVEL_ED  CAT_OCUP  CAT_INAC  AE_ctrol_ind  AE_ctrol_ind_sum  \\\n",
              "0        6         3         0          0.77              2.10   \n",
              "1        6         0         1          0.67              1.44   \n",
              "2        2         0         1          0.83              1.50   \n",
              "3        4         3         0          1.00              3.13   \n",
              "4        4         3         0          0.83              3.33   \n",
              "\n",
              "  adulto_equivalente  pobreza  \n",
              "0                0.0        1  \n",
              "1                0.0        1  \n",
              "2            51667.0        0  \n",
              "3            27157.0        0  \n",
              "4            29090.0        0  \n",
              "\n",
              "[5 rows x 99 columns]"
            ],
            "text/html": [
              "\n",
              "  <div id=\"df-39491b7b-9ea3-4098-9c1a-8501bf53c5c1\">\n",
              "    <div class=\"colab-df-container\">\n",
              "      <div>\n",
              "<style scoped>\n",
              "    .dataframe tbody tr th:only-of-type {\n",
              "        vertical-align: middle;\n",
              "    }\n",
              "\n",
              "    .dataframe tbody tr th {\n",
              "        vertical-align: top;\n",
              "    }\n",
              "\n",
              "    .dataframe thead th {\n",
              "        text-align: right;\n",
              "    }\n",
              "</style>\n",
              "<table border=\"1\" class=\"dataframe\">\n",
              "  <thead>\n",
              "    <tr style=\"text-align: right;\">\n",
              "      <th></th>\n",
              "      <th>CODUSU</th>\n",
              "      <th>ANO4</th>\n",
              "      <th>TRIMESTRE</th>\n",
              "      <th>NRO_HOGAR</th>\n",
              "      <th>REALIZADA</th>\n",
              "      <th>REGION</th>\n",
              "      <th>MAS_500</th>\n",
              "      <th>AGLOMERADO</th>\n",
              "      <th>PONDERA</th>\n",
              "      <th>IV1</th>\n",
              "      <th>...</th>\n",
              "      <th>genero</th>\n",
              "      <th>edad</th>\n",
              "      <th>cob_medica</th>\n",
              "      <th>NIVEL_ED</th>\n",
              "      <th>CAT_OCUP</th>\n",
              "      <th>CAT_INAC</th>\n",
              "      <th>AE_ctrol_ind</th>\n",
              "      <th>AE_ctrol_ind_sum</th>\n",
              "      <th>adulto_equivalente</th>\n",
              "      <th>pobreza</th>\n",
              "    </tr>\n",
              "  </thead>\n",
              "  <tbody>\n",
              "    <tr>\n",
              "      <th>0</th>\n",
              "      <td>TQRMNOQRPHMOKOCDEOJAH00714382</td>\n",
              "      <td>2021</td>\n",
              "      <td>4</td>\n",
              "      <td>1</td>\n",
              "      <td>1</td>\n",
              "      <td>44</td>\n",
              "      <td>N</td>\n",
              "      <td>93</td>\n",
              "      <td>116</td>\n",
              "      <td>1</td>\n",
              "      <td>...</td>\n",
              "      <td>2</td>\n",
              "      <td>38</td>\n",
              "      <td>1</td>\n",
              "      <td>6</td>\n",
              "      <td>3</td>\n",
              "      <td>0</td>\n",
              "      <td>0.77</td>\n",
              "      <td>2.10</td>\n",
              "      <td>0.0</td>\n",
              "      <td>1</td>\n",
              "    </tr>\n",
              "    <tr>\n",
              "      <th>1</th>\n",
              "      <td>TQRMNOQYUHMMKPCDEOJAH00714383</td>\n",
              "      <td>2021</td>\n",
              "      <td>4</td>\n",
              "      <td>1</td>\n",
              "      <td>1</td>\n",
              "      <td>44</td>\n",
              "      <td>N</td>\n",
              "      <td>93</td>\n",
              "      <td>46</td>\n",
              "      <td>1</td>\n",
              "      <td>...</td>\n",
              "      <td>2</td>\n",
              "      <td>64</td>\n",
              "      <td>1</td>\n",
              "      <td>6</td>\n",
              "      <td>0</td>\n",
              "      <td>1</td>\n",
              "      <td>0.67</td>\n",
              "      <td>1.44</td>\n",
              "      <td>0.0</td>\n",
              "      <td>1</td>\n",
              "    </tr>\n",
              "    <tr>\n",
              "      <th>2</th>\n",
              "      <td>TQRMNOPSWHMMKRCDEOJAH00714384</td>\n",
              "      <td>2021</td>\n",
              "      <td>4</td>\n",
              "      <td>1</td>\n",
              "      <td>1</td>\n",
              "      <td>44</td>\n",
              "      <td>N</td>\n",
              "      <td>93</td>\n",
              "      <td>43</td>\n",
              "      <td>1</td>\n",
              "      <td>...</td>\n",
              "      <td>1</td>\n",
              "      <td>72</td>\n",
              "      <td>1</td>\n",
              "      <td>2</td>\n",
              "      <td>0</td>\n",
              "      <td>1</td>\n",
              "      <td>0.83</td>\n",
              "      <td>1.50</td>\n",
              "      <td>51667.0</td>\n",
              "      <td>0</td>\n",
              "    </tr>\n",
              "    <tr>\n",
              "      <th>3</th>\n",
              "      <td>TQRMNOQYSHMNKTCDEOJAH00714386</td>\n",
              "      <td>2021</td>\n",
              "      <td>4</td>\n",
              "      <td>1</td>\n",
              "      <td>1</td>\n",
              "      <td>44</td>\n",
              "      <td>N</td>\n",
              "      <td>93</td>\n",
              "      <td>64</td>\n",
              "      <td>2</td>\n",
              "      <td>...</td>\n",
              "      <td>1</td>\n",
              "      <td>38</td>\n",
              "      <td>1</td>\n",
              "      <td>4</td>\n",
              "      <td>3</td>\n",
              "      <td>0</td>\n",
              "      <td>1.00</td>\n",
              "      <td>3.13</td>\n",
              "      <td>27157.0</td>\n",
              "      <td>0</td>\n",
              "    </tr>\n",
              "    <tr>\n",
              "      <th>4</th>\n",
              "      <td>TQRMNOQXVHLLPQCDEIJAH00718674</td>\n",
              "      <td>2021</td>\n",
              "      <td>4</td>\n",
              "      <td>1</td>\n",
              "      <td>1</td>\n",
              "      <td>1</td>\n",
              "      <td>S</td>\n",
              "      <td>33</td>\n",
              "      <td>2822</td>\n",
              "      <td>1</td>\n",
              "      <td>...</td>\n",
              "      <td>1</td>\n",
              "      <td>67</td>\n",
              "      <td>1</td>\n",
              "      <td>4</td>\n",
              "      <td>3</td>\n",
              "      <td>0</td>\n",
              "      <td>0.83</td>\n",
              "      <td>3.33</td>\n",
              "      <td>29090.0</td>\n",
              "      <td>0</td>\n",
              "    </tr>\n",
              "  </tbody>\n",
              "</table>\n",
              "<p>5 rows × 99 columns</p>\n",
              "</div>\n",
              "      <button class=\"colab-df-convert\" onclick=\"convertToInteractive('df-39491b7b-9ea3-4098-9c1a-8501bf53c5c1')\"\n",
              "              title=\"Convert this dataframe to an interactive table.\"\n",
              "              style=\"display:none;\">\n",
              "        \n",
              "  <svg xmlns=\"http://www.w3.org/2000/svg\" height=\"24px\"viewBox=\"0 0 24 24\"\n",
              "       width=\"24px\">\n",
              "    <path d=\"M0 0h24v24H0V0z\" fill=\"none\"/>\n",
              "    <path d=\"M18.56 5.44l.94 2.06.94-2.06 2.06-.94-2.06-.94-.94-2.06-.94 2.06-2.06.94zm-11 1L8.5 8.5l.94-2.06 2.06-.94-2.06-.94L8.5 2.5l-.94 2.06-2.06.94zm10 10l.94 2.06.94-2.06 2.06-.94-2.06-.94-.94-2.06-.94 2.06-2.06.94z\"/><path d=\"M17.41 7.96l-1.37-1.37c-.4-.4-.92-.59-1.43-.59-.52 0-1.04.2-1.43.59L10.3 9.45l-7.72 7.72c-.78.78-.78 2.05 0 2.83L4 21.41c.39.39.9.59 1.41.59.51 0 1.02-.2 1.41-.59l7.78-7.78 2.81-2.81c.8-.78.8-2.07 0-2.86zM5.41 20L4 18.59l7.72-7.72 1.47 1.35L5.41 20z\"/>\n",
              "  </svg>\n",
              "      </button>\n",
              "      \n",
              "  <style>\n",
              "    .colab-df-container {\n",
              "      display:flex;\n",
              "      flex-wrap:wrap;\n",
              "      gap: 12px;\n",
              "    }\n",
              "\n",
              "    .colab-df-convert {\n",
              "      background-color: #E8F0FE;\n",
              "      border: none;\n",
              "      border-radius: 50%;\n",
              "      cursor: pointer;\n",
              "      display: none;\n",
              "      fill: #1967D2;\n",
              "      height: 32px;\n",
              "      padding: 0 0 0 0;\n",
              "      width: 32px;\n",
              "    }\n",
              "\n",
              "    .colab-df-convert:hover {\n",
              "      background-color: #E2EBFA;\n",
              "      box-shadow: 0px 1px 2px rgba(60, 64, 67, 0.3), 0px 1px 3px 1px rgba(60, 64, 67, 0.15);\n",
              "      fill: #174EA6;\n",
              "    }\n",
              "\n",
              "    [theme=dark] .colab-df-convert {\n",
              "      background-color: #3B4455;\n",
              "      fill: #D2E3FC;\n",
              "    }\n",
              "\n",
              "    [theme=dark] .colab-df-convert:hover {\n",
              "      background-color: #434B5C;\n",
              "      box-shadow: 0px 1px 3px 1px rgba(0, 0, 0, 0.15);\n",
              "      filter: drop-shadow(0px 1px 2px rgba(0, 0, 0, 0.3));\n",
              "      fill: #FFFFFF;\n",
              "    }\n",
              "  </style>\n",
              "\n",
              "      <script>\n",
              "        const buttonEl =\n",
              "          document.querySelector('#df-39491b7b-9ea3-4098-9c1a-8501bf53c5c1 button.colab-df-convert');\n",
              "        buttonEl.style.display =\n",
              "          google.colab.kernel.accessAllowed ? 'block' : 'none';\n",
              "\n",
              "        async function convertToInteractive(key) {\n",
              "          const element = document.querySelector('#df-39491b7b-9ea3-4098-9c1a-8501bf53c5c1');\n",
              "          const dataTable =\n",
              "            await google.colab.kernel.invokeFunction('convertToInteractive',\n",
              "                                                     [key], {});\n",
              "          if (!dataTable) return;\n",
              "\n",
              "          const docLinkHtml = 'Like what you see? Visit the ' +\n",
              "            '<a target=\"_blank\" href=https://colab.research.google.com/notebooks/data_table.ipynb>data table notebook</a>'\n",
              "            + ' to learn more about interactive tables.';\n",
              "          element.innerHTML = '';\n",
              "          dataTable['output_type'] = 'display_data';\n",
              "          await google.colab.output.renderOutput(dataTable, element);\n",
              "          const docLink = document.createElement('div');\n",
              "          docLink.innerHTML = docLinkHtml;\n",
              "          element.appendChild(docLink);\n",
              "        }\n",
              "      </script>\n",
              "    </div>\n",
              "  </div>\n",
              "  "
            ]
          },
          "metadata": {},
          "execution_count": 35
        }
      ],
      "source": [
        "df_dataset.head()"
      ]
    },
    {
      "cell_type": "code",
      "execution_count": 36,
      "metadata": {
        "id": "ilAB-wHFevzU"
      },
      "outputs": [],
      "source": [
        "df_dataset.to_csv('dataset.csv')"
      ]
    },
    {
      "cell_type": "markdown",
      "metadata": {
        "id": "pfPT-tRQuc59"
      },
      "source": [
        "# **Cleaning**"
      ]
    },
    {
      "cell_type": "code",
      "execution_count": null,
      "metadata": {
        "colab": {
          "base_uri": "https://localhost:8080/",
          "height": 74
        },
        "id": "47CVnC4tWvpv",
        "outputId": "71f0fe24-2e08-45d7-eb8c-dd040634b488"
      },
      "outputs": [
        {
          "output_type": "display_data",
          "data": {
            "text/plain": [
              "<IPython.core.display.HTML object>"
            ],
            "text/html": [
              "\n",
              "     <input type=\"file\" id=\"files-2663de4c-bd9d-4dbb-85dd-f610f9dcc874\" name=\"files[]\" multiple disabled\n",
              "        style=\"border:none\" />\n",
              "     <output id=\"result-2663de4c-bd9d-4dbb-85dd-f610f9dcc874\">\n",
              "      Upload widget is only available when the cell has been executed in the\n",
              "      current browser session. Please rerun this cell to enable.\n",
              "      </output>\n",
              "      <script>// Copyright 2017 Google LLC\n",
              "//\n",
              "// Licensed under the Apache License, Version 2.0 (the \"License\");\n",
              "// you may not use this file except in compliance with the License.\n",
              "// You may obtain a copy of the License at\n",
              "//\n",
              "//      http://www.apache.org/licenses/LICENSE-2.0\n",
              "//\n",
              "// Unless required by applicable law or agreed to in writing, software\n",
              "// distributed under the License is distributed on an \"AS IS\" BASIS,\n",
              "// WITHOUT WARRANTIES OR CONDITIONS OF ANY KIND, either express or implied.\n",
              "// See the License for the specific language governing permissions and\n",
              "// limitations under the License.\n",
              "\n",
              "/**\n",
              " * @fileoverview Helpers for google.colab Python module.\n",
              " */\n",
              "(function(scope) {\n",
              "function span(text, styleAttributes = {}) {\n",
              "  const element = document.createElement('span');\n",
              "  element.textContent = text;\n",
              "  for (const key of Object.keys(styleAttributes)) {\n",
              "    element.style[key] = styleAttributes[key];\n",
              "  }\n",
              "  return element;\n",
              "}\n",
              "\n",
              "// Max number of bytes which will be uploaded at a time.\n",
              "const MAX_PAYLOAD_SIZE = 100 * 1024;\n",
              "\n",
              "function _uploadFiles(inputId, outputId) {\n",
              "  const steps = uploadFilesStep(inputId, outputId);\n",
              "  const outputElement = document.getElementById(outputId);\n",
              "  // Cache steps on the outputElement to make it available for the next call\n",
              "  // to uploadFilesContinue from Python.\n",
              "  outputElement.steps = steps;\n",
              "\n",
              "  return _uploadFilesContinue(outputId);\n",
              "}\n",
              "\n",
              "// This is roughly an async generator (not supported in the browser yet),\n",
              "// where there are multiple asynchronous steps and the Python side is going\n",
              "// to poll for completion of each step.\n",
              "// This uses a Promise to block the python side on completion of each step,\n",
              "// then passes the result of the previous step as the input to the next step.\n",
              "function _uploadFilesContinue(outputId) {\n",
              "  const outputElement = document.getElementById(outputId);\n",
              "  const steps = outputElement.steps;\n",
              "\n",
              "  const next = steps.next(outputElement.lastPromiseValue);\n",
              "  return Promise.resolve(next.value.promise).then((value) => {\n",
              "    // Cache the last promise value to make it available to the next\n",
              "    // step of the generator.\n",
              "    outputElement.lastPromiseValue = value;\n",
              "    return next.value.response;\n",
              "  });\n",
              "}\n",
              "\n",
              "/**\n",
              " * Generator function which is called between each async step of the upload\n",
              " * process.\n",
              " * @param {string} inputId Element ID of the input file picker element.\n",
              " * @param {string} outputId Element ID of the output display.\n",
              " * @return {!Iterable<!Object>} Iterable of next steps.\n",
              " */\n",
              "function* uploadFilesStep(inputId, outputId) {\n",
              "  const inputElement = document.getElementById(inputId);\n",
              "  inputElement.disabled = false;\n",
              "\n",
              "  const outputElement = document.getElementById(outputId);\n",
              "  outputElement.innerHTML = '';\n",
              "\n",
              "  const pickedPromise = new Promise((resolve) => {\n",
              "    inputElement.addEventListener('change', (e) => {\n",
              "      resolve(e.target.files);\n",
              "    });\n",
              "  });\n",
              "\n",
              "  const cancel = document.createElement('button');\n",
              "  inputElement.parentElement.appendChild(cancel);\n",
              "  cancel.textContent = 'Cancel upload';\n",
              "  const cancelPromise = new Promise((resolve) => {\n",
              "    cancel.onclick = () => {\n",
              "      resolve(null);\n",
              "    };\n",
              "  });\n",
              "\n",
              "  // Wait for the user to pick the files.\n",
              "  const files = yield {\n",
              "    promise: Promise.race([pickedPromise, cancelPromise]),\n",
              "    response: {\n",
              "      action: 'starting',\n",
              "    }\n",
              "  };\n",
              "\n",
              "  cancel.remove();\n",
              "\n",
              "  // Disable the input element since further picks are not allowed.\n",
              "  inputElement.disabled = true;\n",
              "\n",
              "  if (!files) {\n",
              "    return {\n",
              "      response: {\n",
              "        action: 'complete',\n",
              "      }\n",
              "    };\n",
              "  }\n",
              "\n",
              "  for (const file of files) {\n",
              "    const li = document.createElement('li');\n",
              "    li.append(span(file.name, {fontWeight: 'bold'}));\n",
              "    li.append(span(\n",
              "        `(${file.type || 'n/a'}) - ${file.size} bytes, ` +\n",
              "        `last modified: ${\n",
              "            file.lastModifiedDate ? file.lastModifiedDate.toLocaleDateString() :\n",
              "                                    'n/a'} - `));\n",
              "    const percent = span('0% done');\n",
              "    li.appendChild(percent);\n",
              "\n",
              "    outputElement.appendChild(li);\n",
              "\n",
              "    const fileDataPromise = new Promise((resolve) => {\n",
              "      const reader = new FileReader();\n",
              "      reader.onload = (e) => {\n",
              "        resolve(e.target.result);\n",
              "      };\n",
              "      reader.readAsArrayBuffer(file);\n",
              "    });\n",
              "    // Wait for the data to be ready.\n",
              "    let fileData = yield {\n",
              "      promise: fileDataPromise,\n",
              "      response: {\n",
              "        action: 'continue',\n",
              "      }\n",
              "    };\n",
              "\n",
              "    // Use a chunked sending to avoid message size limits. See b/62115660.\n",
              "    let position = 0;\n",
              "    do {\n",
              "      const length = Math.min(fileData.byteLength - position, MAX_PAYLOAD_SIZE);\n",
              "      const chunk = new Uint8Array(fileData, position, length);\n",
              "      position += length;\n",
              "\n",
              "      const base64 = btoa(String.fromCharCode.apply(null, chunk));\n",
              "      yield {\n",
              "        response: {\n",
              "          action: 'append',\n",
              "          file: file.name,\n",
              "          data: base64,\n",
              "        },\n",
              "      };\n",
              "\n",
              "      let percentDone = fileData.byteLength === 0 ?\n",
              "          100 :\n",
              "          Math.round((position / fileData.byteLength) * 100);\n",
              "      percent.textContent = `${percentDone}% done`;\n",
              "\n",
              "    } while (position < fileData.byteLength);\n",
              "  }\n",
              "\n",
              "  // All done.\n",
              "  yield {\n",
              "    response: {\n",
              "      action: 'complete',\n",
              "    }\n",
              "  };\n",
              "}\n",
              "\n",
              "scope.google = scope.google || {};\n",
              "scope.google.colab = scope.google.colab || {};\n",
              "scope.google.colab._files = {\n",
              "  _uploadFiles,\n",
              "  _uploadFilesContinue,\n",
              "};\n",
              "})(self);\n",
              "</script> "
            ]
          },
          "metadata": {}
        },
        {
          "output_type": "stream",
          "name": "stdout",
          "text": [
            "Saving dataset.csv to dataset (1).csv\n"
          ]
        }
      ],
      "source": [
        "#from google.colab import files\n",
        "#uploaded  = files.upload() "
      ]
    },
    {
      "cell_type": "code",
      "execution_count": null,
      "metadata": {
        "id": "YtPXsd1CXzmS"
      },
      "outputs": [],
      "source": [
        "#df_dataset = pd.read_csv(\"dataset.csv\")"
      ]
    },
    {
      "cell_type": "code",
      "execution_count": null,
      "metadata": {
        "id": "PBXALlB3YDUD"
      },
      "outputs": [],
      "source": [
        "#df_dataset = df_dataset.drop(['Unnamed: 0'], axis=1)"
      ]
    },
    {
      "cell_type": "code",
      "execution_count": 37,
      "metadata": {
        "colab": {
          "base_uri": "https://localhost:8080/"
        },
        "id": "cSi2RelZLJ2c",
        "outputId": "e8fd7636-9cb2-47fa-8bb4-a3189e715b90"
      },
      "outputs": [
        {
          "output_type": "execute_result",
          "data": {
            "text/plain": [
              "Index(['CODUSU', 'ANO4', 'TRIMESTRE', 'NRO_HOGAR', 'REALIZADA', 'REGION',\n",
              "       'MAS_500', 'AGLOMERADO', 'PONDERA', 'IV1', 'IV1_ESP', 'IV2', 'IV3',\n",
              "       'IV3_ESP', 'IV4', 'IV5', 'IV6', 'IV7', 'IV7_ESP', 'IV8', 'IV9', 'IV10',\n",
              "       'IV11', 'IV12_1', 'IV12_2', 'IV12_3', 'II1', 'II2', 'II3', 'II3_1',\n",
              "       'II4_1', 'II4_2', 'II4_3', 'II5', 'II5_1', 'II6', 'II6_1', 'II7',\n",
              "       'II7_ESP', 'II8', 'II8_ESP', 'II9', 'V1', 'V2', 'V21', 'V22', 'V3',\n",
              "       'V4', 'V5', 'V6', 'V7', 'V8', 'V9', 'V10', 'V11', 'V12', 'V13', 'V14',\n",
              "       'V15', 'V16', 'V17', 'V18', 'V19_A', 'V19_B', 'IX_TOT', 'IX_MEN10',\n",
              "       'IX_MAYEQ10', 'ITF', 'DECIFR', 'IDECIFR', 'RDECIFR', 'GDECIFR',\n",
              "       'PDECIFR', 'ADECIFR', 'IPCF', 'DECCFR', 'IDECCFR', 'RDECCFR', 'GDECCFR',\n",
              "       'PDECCFR', 'ADECCFR', 'PONDIH', 'VII1_1', 'VII1_2', 'VII2_1', 'VII2_2',\n",
              "       'VII2_3', 'VII2_4', 'parentesco', 'genero', 'edad', 'cob_medica',\n",
              "       'NIVEL_ED', 'CAT_OCUP', 'CAT_INAC', 'AE_ctrol_ind', 'AE_ctrol_ind_sum',\n",
              "       'adulto_equivalente', 'pobreza'],\n",
              "      dtype='object')"
            ]
          },
          "metadata": {},
          "execution_count": 37
        }
      ],
      "source": [
        "# vemos los nombres de las columnas\n",
        "col_names = df_dataset.columns\n",
        "\n",
        "col_names"
      ]
    },
    {
      "cell_type": "code",
      "execution_count": 38,
      "metadata": {
        "colab": {
          "base_uri": "https://localhost:8080/"
        },
        "id": "MN3Ph_G7U2cs",
        "outputId": "d9c8322c-b367-44ca-a843-437c7b97178e"
      },
      "outputs": [
        {
          "output_type": "stream",
          "name": "stdout",
          "text": [
            "count      17037.0\n",
            "mean       68734.0\n",
            "std        77324.0\n",
            "min            0.0\n",
            "25%        22000.0\n",
            "50%        56000.0\n",
            "75%        95600.0\n",
            "max      4035000.0\n",
            "Name: ITF, dtype: float64 2\n"
          ]
        }
      ],
      "source": [
        "#la variable ITF representa el monto de ingreso total familiar\n",
        "#analizamos sus datos\n",
        "\n",
        "print(round(df_dataset['ITF'].describe()),2)"
      ]
    },
    {
      "cell_type": "code",
      "execution_count": 39,
      "metadata": {
        "colab": {
          "base_uri": "https://localhost:8080/"
        },
        "id": "-AIhwrBDaYKC",
        "outputId": "b679d120-c243-4713-85eb-2bfc58107d2e"
      },
      "outputs": [
        {
          "output_type": "execute_result",
          "data": {
            "text/plain": [
              "3582"
            ]
          },
          "metadata": {},
          "execution_count": 39
        }
      ],
      "source": [
        "ITF_cero = [x for x in df_dataset['ITF'] if x == 0]\n",
        "len(ITF_cero)"
      ]
    },
    {
      "cell_type": "code",
      "execution_count": 40,
      "metadata": {
        "id": "otqb5F5HccNy"
      },
      "outputs": [],
      "source": [
        "#hay 3.582 hogares que declararon ingresos $0. \n",
        "#para este estudio no los vamos a tener en cuenta\n",
        "\n",
        "df_dataset = df_dataset.drop(df_dataset[df_dataset['ITF']==0].index)"
      ]
    },
    {
      "cell_type": "code",
      "execution_count": 41,
      "metadata": {
        "colab": {
          "base_uri": "https://localhost:8080/"
        },
        "id": "1WN-xo9MaQNq",
        "outputId": "3424a492-2ece-4628-8082-ad37327da387"
      },
      "outputs": [
        {
          "output_type": "execute_result",
          "data": {
            "text/plain": [
              "0"
            ]
          },
          "metadata": {},
          "execution_count": 41
        }
      ],
      "source": [
        "ITF_cero = [x for x in df_dataset['ITF'] if x == 0]\n",
        "len(ITF_cero)"
      ]
    },
    {
      "cell_type": "code",
      "execution_count": 42,
      "metadata": {
        "colab": {
          "base_uri": "https://localhost:8080/"
        },
        "id": "wf5zJlTaNTZm",
        "outputId": "352978eb-c7ec-4dfe-bd19-3f94df0c6a73"
      },
      "outputs": [
        {
          "output_type": "stream",
          "name": "stdout",
          "text": [
            "<class 'pandas.core.frame.DataFrame'>\n",
            "Int64Index: 13455 entries, 2 to 17036\n",
            "Data columns (total 99 columns):\n",
            " #   Column              Non-Null Count  Dtype  \n",
            "---  ------              --------------  -----  \n",
            " 0   CODUSU              13455 non-null  object \n",
            " 1   ANO4                13455 non-null  int64  \n",
            " 2   TRIMESTRE           13455 non-null  int64  \n",
            " 3   NRO_HOGAR           13455 non-null  int64  \n",
            " 4   REALIZADA           13455 non-null  int64  \n",
            " 5   REGION              13455 non-null  int64  \n",
            " 6   MAS_500             13455 non-null  object \n",
            " 7   AGLOMERADO          13455 non-null  int64  \n",
            " 8   PONDERA             13455 non-null  int64  \n",
            " 9   IV1                 13455 non-null  int64  \n",
            " 10  IV1_ESP             29 non-null     object \n",
            " 11  IV2                 13455 non-null  int64  \n",
            " 12  IV3                 13455 non-null  int64  \n",
            " 13  IV3_ESP             27 non-null     object \n",
            " 14  IV4                 13455 non-null  int64  \n",
            " 15  IV5                 13455 non-null  int64  \n",
            " 16  IV6                 13455 non-null  int64  \n",
            " 17  IV7                 13455 non-null  int64  \n",
            " 18  IV7_ESP             17 non-null     object \n",
            " 19  IV8                 13455 non-null  int64  \n",
            " 20  IV9                 13455 non-null  int64  \n",
            " 21  IV10                13455 non-null  int64  \n",
            " 22  IV11                13455 non-null  int64  \n",
            " 23  IV12_1              13455 non-null  int64  \n",
            " 24  IV12_2              13455 non-null  int64  \n",
            " 25  IV12_3              13455 non-null  int64  \n",
            " 26  II1                 13455 non-null  int64  \n",
            " 27  II2                 13455 non-null  int64  \n",
            " 28  II3                 13455 non-null  int64  \n",
            " 29  II3_1               13455 non-null  int64  \n",
            " 30  II4_1               13455 non-null  int64  \n",
            " 31  II4_2               13455 non-null  int64  \n",
            " 32  II4_3               13455 non-null  int64  \n",
            " 33  II5                 13455 non-null  int64  \n",
            " 34  II5_1               13455 non-null  int64  \n",
            " 35  II6                 13455 non-null  int64  \n",
            " 36  II6_1               13455 non-null  int64  \n",
            " 37  II7                 13455 non-null  int64  \n",
            " 38  II7_ESP             19 non-null     object \n",
            " 39  II8                 13455 non-null  int64  \n",
            " 40  II8_ESP             107 non-null    object \n",
            " 41  II9                 13455 non-null  int64  \n",
            " 42  V1                  13455 non-null  int64  \n",
            " 43  V2                  13455 non-null  int64  \n",
            " 44  V21                 13455 non-null  int64  \n",
            " 45  V22                 13455 non-null  int64  \n",
            " 46  V3                  13455 non-null  int64  \n",
            " 47  V4                  13455 non-null  int64  \n",
            " 48  V5                  13455 non-null  int64  \n",
            " 49  V6                  13455 non-null  int64  \n",
            " 50  V7                  13455 non-null  int64  \n",
            " 51  V8                  13455 non-null  int64  \n",
            " 52  V9                  13455 non-null  int64  \n",
            " 53  V10                 13455 non-null  int64  \n",
            " 54  V11                 13455 non-null  int64  \n",
            " 55  V12                 13455 non-null  int64  \n",
            " 56  V13                 13455 non-null  int64  \n",
            " 57  V14                 13455 non-null  int64  \n",
            " 58  V15                 13455 non-null  int64  \n",
            " 59  V16                 13455 non-null  int64  \n",
            " 60  V17                 13455 non-null  int64  \n",
            " 61  V18                 13455 non-null  int64  \n",
            " 62  V19_A               13455 non-null  int64  \n",
            " 63  V19_B               13455 non-null  int64  \n",
            " 64  IX_TOT              13455 non-null  int64  \n",
            " 65  IX_MEN10            13455 non-null  int64  \n",
            " 66  IX_MAYEQ10          13455 non-null  int64  \n",
            " 67  ITF                 13455 non-null  int64  \n",
            " 68  DECIFR              13455 non-null  int64  \n",
            " 69  IDECIFR             11977 non-null  float64\n",
            " 70  RDECIFR             13455 non-null  int64  \n",
            " 71  GDECIFR             5698 non-null   float64\n",
            " 72  PDECIFR             7757 non-null   float64\n",
            " 73  ADECIFR             13455 non-null  int64  \n",
            " 74  IPCF                13455 non-null  float64\n",
            " 75  DECCFR              13455 non-null  int64  \n",
            " 76  IDECCFR             11977 non-null  float64\n",
            " 77  RDECCFR             13455 non-null  int64  \n",
            " 78  GDECCFR             5698 non-null   float64\n",
            " 79  PDECCFR             7757 non-null   float64\n",
            " 80  ADECCFR             13455 non-null  int64  \n",
            " 81  PONDIH              13455 non-null  int64  \n",
            " 82  VII1_1              13455 non-null  int64  \n",
            " 83  VII1_2              13455 non-null  int64  \n",
            " 84  VII2_1              13455 non-null  int64  \n",
            " 85  VII2_2              13455 non-null  int64  \n",
            " 86  VII2_3              13455 non-null  int64  \n",
            " 87  VII2_4              13455 non-null  int64  \n",
            " 88  parentesco          13455 non-null  int64  \n",
            " 89  genero              13455 non-null  int64  \n",
            " 90  edad                13455 non-null  int64  \n",
            " 91  cob_medica          13455 non-null  int64  \n",
            " 92  NIVEL_ED            13455 non-null  int64  \n",
            " 93  CAT_OCUP            13455 non-null  int64  \n",
            " 94  CAT_INAC            13455 non-null  int64  \n",
            " 95  AE_ctrol_ind        13455 non-null  float64\n",
            " 96  AE_ctrol_ind_sum    13455 non-null  float64\n",
            " 97  adulto_equivalente  13455 non-null  float64\n",
            " 98  pobreza             13455 non-null  int64  \n",
            "dtypes: float64(10), int64(82), object(7)\n",
            "memory usage: 10.3+ MB\n"
          ]
        }
      ],
      "source": [
        "df_dataset.info()"
      ]
    },
    {
      "cell_type": "code",
      "execution_count": 43,
      "metadata": {
        "id": "5o-H_FYlety4"
      },
      "outputs": [],
      "source": [
        "#de todas las columnas que indican localización dejamos solo Aglomerado\n",
        "#también quitamos año, trimestre y realizada\n",
        "#la variable de ponderación\n",
        "#todos los deciles\n",
        "#el % individual del jefe/a que reside en el hogar\n",
        "\n",
        "df_dataset = df_dataset.drop(['ANO4','TRIMESTRE','REALIZADA','REGION','MAS_500','PONDERA','DECIFR','IDECIFR','RDECIFR','GDECIFR','PDECIFR','ADECIFR','IPCF','DECCFR','IDECCFR','RDECCFR','GDECCFR','PDECCFR','ADECCFR','PONDIH','AE_ctrol_ind'], axis=1)"
      ]
    },
    {
      "cell_type": "code",
      "execution_count": 44,
      "metadata": {
        "colab": {
          "base_uri": "https://localhost:8080/"
        },
        "id": "K5JZu3z_o_a8",
        "outputId": "947bc658-b4ce-4f11-cbf7-a41ccba905f8"
      },
      "outputs": [
        {
          "output_type": "execute_result",
          "data": {
            "text/plain": [
              "(13455, 78)"
            ]
          },
          "metadata": {},
          "execution_count": 44
        }
      ],
      "source": [
        "df_dataset.shape"
      ]
    },
    {
      "cell_type": "markdown",
      "source": [
        "**Nulos**"
      ],
      "metadata": {
        "id": "XNDEQUlsW3MQ"
      }
    },
    {
      "cell_type": "code",
      "execution_count": 45,
      "metadata": {
        "id": "4XYqe1kE4k-7"
      },
      "outputs": [],
      "source": [
        "pd.set_option('max_rows', 80)\n",
        "pd.set_option('max_columns', 80)\n",
        "pd.set_option('display.width', 80)\n",
        "pd.set_option('display.max_colwidth', 80)"
      ]
    },
    {
      "cell_type": "code",
      "execution_count": 46,
      "metadata": {
        "id": "7Z4eH2RdyeHW"
      },
      "outputs": [],
      "source": [
        "nulos = df_dataset.isnull().sum()"
      ]
    },
    {
      "cell_type": "code",
      "execution_count": 47,
      "metadata": {
        "colab": {
          "base_uri": "https://localhost:8080/"
        },
        "id": "27vzYP0_lAQn",
        "outputId": "2f572607-626f-48d6-c939-179df2bac3a6"
      },
      "outputs": [
        {
          "output_type": "execute_result",
          "data": {
            "text/plain": [
              "CODUSU                    0\n",
              "NRO_HOGAR                 0\n",
              "AGLOMERADO                0\n",
              "IV1                       0\n",
              "IV1_ESP               13426\n",
              "IV2                       0\n",
              "IV3                       0\n",
              "IV3_ESP               13428\n",
              "IV4                       0\n",
              "IV5                       0\n",
              "IV6                       0\n",
              "IV7                       0\n",
              "IV7_ESP               13438\n",
              "IV8                       0\n",
              "IV9                       0\n",
              "IV10                      0\n",
              "IV11                      0\n",
              "IV12_1                    0\n",
              "IV12_2                    0\n",
              "IV12_3                    0\n",
              "II1                       0\n",
              "II2                       0\n",
              "II3                       0\n",
              "II3_1                     0\n",
              "II4_1                     0\n",
              "II4_2                     0\n",
              "II4_3                     0\n",
              "II5                       0\n",
              "II5_1                     0\n",
              "II6                       0\n",
              "II6_1                     0\n",
              "II7                       0\n",
              "II7_ESP               13436\n",
              "II8                       0\n",
              "II8_ESP               13348\n",
              "II9                       0\n",
              "V1                        0\n",
              "V2                        0\n",
              "V21                       0\n",
              "V22                       0\n",
              "V3                        0\n",
              "V4                        0\n",
              "V5                        0\n",
              "V6                        0\n",
              "V7                        0\n",
              "V8                        0\n",
              "V9                        0\n",
              "V10                       0\n",
              "V11                       0\n",
              "V12                       0\n",
              "V13                       0\n",
              "V14                       0\n",
              "V15                       0\n",
              "V16                       0\n",
              "V17                       0\n",
              "V18                       0\n",
              "V19_A                     0\n",
              "V19_B                     0\n",
              "IX_TOT                    0\n",
              "IX_MEN10                  0\n",
              "IX_MAYEQ10                0\n",
              "ITF                       0\n",
              "VII1_1                    0\n",
              "VII1_2                    0\n",
              "VII2_1                    0\n",
              "VII2_2                    0\n",
              "VII2_3                    0\n",
              "VII2_4                    0\n",
              "parentesco                0\n",
              "genero                    0\n",
              "edad                      0\n",
              "cob_medica                0\n",
              "NIVEL_ED                  0\n",
              "CAT_OCUP                  0\n",
              "CAT_INAC                  0\n",
              "AE_ctrol_ind_sum          0\n",
              "adulto_equivalente        0\n",
              "pobreza                   0\n",
              "dtype: int64"
            ]
          },
          "metadata": {},
          "execution_count": 47
        }
      ],
      "source": [
        "nulos"
      ]
    },
    {
      "cell_type": "code",
      "execution_count": 48,
      "metadata": {
        "colab": {
          "base_uri": "https://localhost:8080/"
        },
        "id": "Q_UTWEu8vold",
        "outputId": "7cee9861-6516-425d-d88d-42aee2ff5d9f"
      },
      "outputs": [
        {
          "output_type": "execute_result",
          "data": {
            "text/plain": [
              "IV1_ESP     29\n",
              "IV3_ESP     27\n",
              "IV7_ESP     17\n",
              "II7_ESP     19\n",
              "II8_ESP    107\n",
              "dtype: int64"
            ]
          },
          "metadata": {},
          "execution_count": 48
        }
      ],
      "source": [
        "# vemos que las variables que tienen valores nulos son \n",
        "#IV1_ESP, IV3_ESP, IV7_ESP, II7_ESP, II8_ESP\n",
        "\n",
        "#analizamos la cantidad que hay en cada una de ellas\n",
        "\n",
        "df_dataset[['IV1_ESP','IV3_ESP','IV7_ESP','II7_ESP','II8_ESP']].notnull().sum()\n"
      ]
    },
    {
      "cell_type": "code",
      "execution_count": 49,
      "metadata": {
        "id": "tN-ULNdJ9ADp"
      },
      "outputs": [],
      "source": [
        "\"\"\"\n",
        "La variable IV1 refiere al tipo de vivienda y tiene los valores desde el 1 al 6. \n",
        "Este último refiere a \"otro\" y en IV1_ESP se especifica la misma.\n",
        "\n",
        "La variable IV3 identifica los pisos y va los valores desde el 1 al 4. \n",
        "Este último refiere a \"otro\" y en IV3_ESP se especifica la misma.\n",
        "\n",
        "La variable IV7 es la fuente del agua y va del 1 al 4. \n",
        "Este último refiere a \"otro\" y en IV_ESP se especifica la misma.\n",
        "\n",
        "a variable II7 es el régimen de tenencia de la propiedad y va del 1 al 9. \n",
        "Este último refiere a \"otro\" y en II7_ESP se especifica la misma.\n",
        "\"\"\"\n",
        "# dada la escasa cantidad de valores presentes en estas variables no las vamos a tener en cuenta en este estudio\n",
        "\n",
        "df_dataset = df_dataset.drop(['IV1_ESP','IV3_ESP','IV7_ESP','II7_ESP'], axis=1)"
      ]
    },
    {
      "cell_type": "code",
      "source": [
        "df_dataset.shape"
      ],
      "metadata": {
        "colab": {
          "base_uri": "https://localhost:8080/"
        },
        "id": "ml6V4eI8Skly",
        "outputId": "72c25c34-f840-44eb-983f-8579c72c1c3d"
      },
      "execution_count": 50,
      "outputs": [
        {
          "output_type": "execute_result",
          "data": {
            "text/plain": [
              "(13455, 74)"
            ]
          },
          "metadata": {},
          "execution_count": 50
        }
      ]
    },
    {
      "cell_type": "code",
      "execution_count": 51,
      "metadata": {
        "colab": {
          "base_uri": "https://localhost:8080/"
        },
        "id": "eq5QsNTkixyZ",
        "outputId": "085c65a2-6a8f-4c4c-b4ca-b4c37aca7f0f"
      },
      "outputs": [
        {
          "output_type": "execute_result",
          "data": {
            "text/plain": [
              "1    8475\n",
              "2    4822\n",
              "4     107\n",
              "3      40\n",
              "0      11\n",
              "Name: II8, dtype: int64"
            ]
          },
          "metadata": {},
          "execution_count": 51
        }
      ],
      "source": [
        "\"\"\"\n",
        "La variable II8 es el combustible usado para cocina y va del 1 al 4. \n",
        "Este último refiere a \"otro\" y en II8_ESP se especifica la misma.\n",
        "\"\"\"\n",
        "# chequeamos cuántas veces aparece un valor en II8\n",
        "\n",
        "df_dataset['II8'].value_counts()"
      ]
    },
    {
      "cell_type": "markdown",
      "source": [
        "Vemos que hay filas con valores 0, los cuales vamos a cambiar por la mediana o la moda"
      ],
      "metadata": {
        "id": "kbbBnL5pMjnZ"
      }
    },
    {
      "cell_type": "code",
      "execution_count": 52,
      "metadata": {
        "colab": {
          "base_uri": "https://localhost:8080/"
        },
        "id": "E7_tgbtzpCzo",
        "outputId": "63bb18f3-ef9b-4e16-ce16-00051f2f61ef"
      },
      "outputs": [
        {
          "output_type": "execute_result",
          "data": {
            "text/plain": [
              "ELECTRICIDAD                                     29\n",
              "electricidad                                     25\n",
              "ELECTRICO                                        17\n",
              "ELECTRICA                                         6\n",
              "cocina electrica                                  4\n",
              "electrico                                         4\n",
              "COCINA ELECTRICA                                  3\n",
              "Electrica                                         2\n",
              "electrica                                         2\n",
              "COME EN LA CASA DE SU MADRE                       1\n",
              "electricista                                      1\n",
              "calentador                                        1\n",
              "CALENTADOR ELECTRICO                              1\n",
              "zepelin                                           1\n",
              "UTILIZAR GAS DE RED EN OTRA VIVIENDA              1\n",
              "utiliza la cocina de la madre                     1\n",
              "NO COCINA SU FAMILIA LE ALCANZA LA COMIDA O L     1\n",
              "olla electrica                                    1\n",
              "electico                                          1\n",
              "electricO                                         1\n",
              "garrafa a granel                                  1\n",
              "electricidad                                      1\n",
              "ANAFE                                             1\n",
              "NO COCINA                                         1\n",
              "Name: II8_ESP, dtype: int64"
            ]
          },
          "metadata": {},
          "execution_count": 52
        }
      ],
      "source": [
        "df_dataset['II8_ESP'].value_counts()"
      ]
    },
    {
      "cell_type": "code",
      "source": [
        "condiciones = [\n",
        "    (df_dataset['II8_ESP'] == 'ELECTRICIDAD') | (df_dataset['II8_ESP'] == 'electricidad') | (df_dataset['II8_ESP'] == 'ELECTRICO'),\n",
        "    (df_dataset['II8_ESP'] == 'ELECTRICA') | (df_dataset['II8_ESP'] == 'cocina electrica') | (df_dataset['II8_ESP'] == 'electrico'),\n",
        "    (df_dataset['II8_ESP'] == 'COCINA ELECTRICA') | (df_dataset['II8_ESP'] == 'Electrica') | (df_dataset['II8_ESP'] == 'electrica'),\n",
        "    (df_dataset['II8_ESP'] == 'COME EN LA CASA DE SU MADRE'),\n",
        "    (df_dataset['II8_ESP'] == 'electricista') | (df_dataset['II8_ESP'] == 'calentador') | (df_dataset['II8_ESP'] == 'CALENTADOR ELECTRICO'),\n",
        "    (df_dataset['II8_ESP'] == 'zepelin'),\n",
        "    (df_dataset['II8_ESP'] == 'UTILIZAR GAS DE RED EN OTRA VIVIENDA') | (df_dataset['II8_ESP'] == 'utiliza la cocina de la madre'),\n",
        "    (df_dataset['II8_ESP'] == 'olla electrica') | (df_dataset['II8_ESP'] == 'electico') | (df_dataset['II8_ESP'] == 'electricO'),  \n",
        "    (df_dataset['II8_ESP'] == 'garrafa a granel'),  \n",
        "    (df_dataset['II8_ESP'] == 'electricidad '),  \n",
        "    (df_dataset['II8_ESP'] == 'ANAFE') | (df_dataset['II8_ESP'] == 'NO COCINA'), \n",
        "    ]\n",
        "\n",
        "opciones = [5,5,5,4,5,4,1,5,2,5,4]"
      ],
      "metadata": {
        "id": "c-EIDPmCoyiW"
      },
      "execution_count": 53,
      "outputs": []
    },
    {
      "cell_type": "code",
      "source": [
        "df_dataset['II8_ESP']=np.select(condiciones,opciones)"
      ],
      "metadata": {
        "id": "fB9Gc-ssKGiF"
      },
      "execution_count": 54,
      "outputs": []
    },
    {
      "cell_type": "code",
      "source": [
        "condiciones8 = [\n",
        "    (df_dataset['II8'] == 0),\n",
        "    (df_dataset['II8'] == 1),\n",
        "    (df_dataset['II8'] == 2),\n",
        "    (df_dataset['II8'] == 3),\n",
        "    (df_dataset['II8'] == 4) & (df_dataset['II8_ESP'] == 0),\n",
        "    (df_dataset['II8'] == 4) & (df_dataset['II8_ESP'] == 1),\n",
        "    (df_dataset['II8'] == 4) & (df_dataset['II8_ESP'] == 2),\n",
        "    (df_dataset['II8'] == 4) & (df_dataset['II8_ESP'] == 4),\n",
        "    (df_dataset['II8'] == 4) & (df_dataset['II8_ESP'] == 5)\n",
        "   \n",
        "    ]\n",
        "\n",
        "opciones8 = [0,1,2,3,4,1,2,0,4]"
      ],
      "metadata": {
        "id": "NyQz7BSEpIOE"
      },
      "execution_count": 55,
      "outputs": []
    },
    {
      "cell_type": "code",
      "source": [
        "df_dataset['II8']=np.select(condiciones8,opciones8)"
      ],
      "metadata": {
        "id": "_JRZWhpso7Tm"
      },
      "execution_count": 56,
      "outputs": []
    },
    {
      "cell_type": "code",
      "execution_count": 57,
      "metadata": {
        "colab": {
          "base_uri": "https://localhost:8080/"
        },
        "id": "Zpp2fCV9revL",
        "outputId": "b763d334-78df-4c84-8cd5-0b284f4ee314"
      },
      "outputs": [
        {
          "output_type": "execute_result",
          "data": {
            "text/plain": [
              "1    8477\n",
              "2    4823\n",
              "4     100\n",
              "3      40\n",
              "0      15\n",
              "Name: II8, dtype: int64"
            ]
          },
          "metadata": {},
          "execution_count": 57
        }
      ],
      "source": [
        "df_dataset['II8'].value_counts()"
      ]
    },
    {
      "cell_type": "code",
      "source": [
        "# borramos la variable II8_ESP\n",
        "\n",
        "df_dataset = df_dataset.drop(['II8_ESP'], axis=1)"
      ],
      "metadata": {
        "id": "KUrD7mftpy0x"
      },
      "execution_count": 58,
      "outputs": []
    },
    {
      "cell_type": "markdown",
      "source": [
        "**Variables numéricas**"
      ],
      "metadata": {
        "id": "iEmXZxh0XD_X"
      }
    },
    {
      "cell_type": "code",
      "source": [
        "#Analizamos las variables numéricas\n",
        "\n",
        "numerical = [var for var in df_dataset.columns if df_dataset[var].dtype!='O']\n",
        "# view summary statistics in numerical variables\n",
        "print(round(df_dataset[numerical].describe()),2)"
      ],
      "metadata": {
        "colab": {
          "base_uri": "https://localhost:8080/"
        },
        "id": "DOJ_av8pXu-U",
        "outputId": "6e3d3e4d-681d-48db-e461-f96fa18cf7ad"
      },
      "execution_count": 59,
      "outputs": [
        {
          "output_type": "stream",
          "name": "stdout",
          "text": [
            "       NRO_HOGAR  AGLOMERADO      IV1      IV2      IV3      IV4      IV5  \\\n",
            "count    13455.0     13455.0  13455.0  13455.0  13455.0  13455.0  13455.0   \n",
            "mean         1.0        25.0      1.0      3.0      1.0      3.0      1.0   \n",
            "std          2.0        20.0      0.0      1.0      0.0      2.0      0.0   \n",
            "min          1.0         2.0      1.0      1.0      1.0      1.0      1.0   \n",
            "25%          1.0        12.0      1.0      2.0      1.0      1.0      1.0   \n",
            "50%          1.0        22.0      1.0      3.0      1.0      2.0      1.0   \n",
            "75%          1.0        32.0      1.0      4.0      1.0      4.0      1.0   \n",
            "max         72.0        93.0      6.0     99.0      4.0      9.0      2.0   \n",
            "\n",
            "           IV6      IV7      IV8      IV9     IV10     IV11   IV12_1   IV12_2  \\\n",
            "count  13455.0  13455.0  13455.0  13455.0  13455.0  13455.0  13455.0  13455.0   \n",
            "mean       1.0      1.0      1.0      1.0      1.0      1.0      2.0      2.0   \n",
            "std        0.0      0.0      0.0      0.0      0.0      1.0      0.0      0.0   \n",
            "min        1.0      1.0      1.0      0.0      0.0      0.0      1.0      1.0   \n",
            "25%        1.0      1.0      1.0      1.0      1.0      1.0      2.0      2.0   \n",
            "50%        1.0      1.0      1.0      1.0      1.0      1.0      2.0      2.0   \n",
            "75%        1.0      1.0      1.0      1.0      1.0      1.0      2.0      2.0   \n",
            "max        3.0      4.0      2.0      3.0      3.0      4.0      2.0      2.0   \n",
            "\n",
            "        IV12_3      II1      II2      II3    II3_1    II4_1    II4_2    II4_3  \\\n",
            "count  13455.0  13455.0  13455.0  13455.0  13455.0  13455.0  13455.0  13455.0   \n",
            "mean       2.0      3.0      2.0      2.0      0.0      1.0      2.0      2.0   \n",
            "std        0.0      1.0      1.0      0.0      0.0      0.0      0.0      0.0   \n",
            "min        1.0      0.0      0.0      0.0      0.0      0.0      0.0      0.0   \n",
            "25%        2.0      2.0      1.0      2.0      0.0      1.0      1.0      1.0   \n",
            "50%        2.0      3.0      2.0      2.0      0.0      1.0      2.0      2.0   \n",
            "75%        2.0      4.0      2.0      2.0      0.0      1.0      2.0      2.0   \n",
            "max        2.0     47.0      7.0      2.0      3.0      2.0      2.0      2.0   \n",
            "\n",
            "           II5    II5_1      II6    II6_1      II7      II8      II9       V1  \\\n",
            "count  13455.0  13455.0  13455.0  13455.0  13455.0  13455.0  13455.0  13455.0   \n",
            "mean       2.0      0.0      2.0      0.0      2.0      1.0      1.0      1.0   \n",
            "std        0.0      0.0      0.0      0.0      2.0      1.0      0.0      0.0   \n",
            "min        0.0      0.0      0.0      0.0      0.0      0.0      0.0      1.0   \n",
            "25%        2.0      0.0      2.0      0.0      1.0      1.0      1.0      1.0   \n",
            "50%        2.0      0.0      2.0      0.0      1.0      1.0      1.0      1.0   \n",
            "75%        2.0      0.0      2.0      0.0      3.0      2.0      1.0      1.0   \n",
            "max        2.0      2.0      2.0      3.0      9.0      4.0      4.0      9.0   \n",
            "\n",
            "            V2      V21      V22       V3       V4       V5       V6       V7  \\\n",
            "count  13455.0  13455.0  13455.0  13455.0  13455.0  13455.0  13455.0  13455.0   \n",
            "mean       2.0      2.0      2.0      2.0      2.0      2.0      2.0      2.0   \n",
            "std        0.0      0.0      0.0      0.0      0.0      0.0      0.0      0.0   \n",
            "min        1.0      1.0      1.0      1.0      1.0      1.0      1.0      1.0   \n",
            "25%        1.0      2.0      2.0      2.0      2.0      2.0      2.0      2.0   \n",
            "50%        2.0      2.0      2.0      2.0      2.0      2.0      2.0      2.0   \n",
            "75%        2.0      2.0      2.0      2.0      2.0      2.0      2.0      2.0   \n",
            "max        9.0      2.0      2.0      9.0      9.0      9.0      9.0      9.0   \n",
            "\n",
            "            V8       V9      V10      V11      V12      V13      V14      V15  \\\n",
            "count  13455.0  13455.0  13455.0  13455.0  13455.0  13455.0  13455.0  13455.0   \n",
            "mean       2.0      2.0      2.0      2.0      2.0      2.0      2.0      2.0   \n",
            "std        0.0      0.0      0.0      0.0      0.0      0.0      0.0      0.0   \n",
            "min        1.0      1.0      1.0      1.0      1.0      1.0      1.0      1.0   \n",
            "25%        2.0      2.0      2.0      2.0      2.0      1.0      2.0      2.0   \n",
            "50%        2.0      2.0      2.0      2.0      2.0      2.0      2.0      2.0   \n",
            "75%        2.0      2.0      2.0      2.0      2.0      2.0      2.0      2.0   \n",
            "max        9.0      9.0      9.0      9.0      9.0      9.0      9.0      9.0   \n",
            "\n",
            "           V16      V17      V18    V19_A    V19_B   IX_TOT  IX_MEN10  \\\n",
            "count  13455.0  13455.0  13455.0  13455.0  13455.0  13455.0   13455.0   \n",
            "mean       1.0      2.0      2.0      2.0      2.0      3.0       0.0   \n",
            "std        1.0      0.0      0.0      0.0      0.0      2.0       1.0   \n",
            "min        1.0      1.0      1.0      2.0      1.0      1.0       0.0   \n",
            "25%        1.0      2.0      2.0      2.0      2.0      2.0       0.0   \n",
            "50%        1.0      2.0      2.0      2.0      2.0      3.0       0.0   \n",
            "75%        2.0      2.0      2.0      2.0      2.0      4.0       1.0   \n",
            "max        9.0      9.0      9.0      9.0      9.0     14.0       6.0   \n",
            "\n",
            "       IX_MAYEQ10        ITF   VII1_1   VII1_2   VII2_1   VII2_2   VII2_3  \\\n",
            "count     13455.0    13455.0  13455.0  13455.0  13455.0  13455.0  13455.0   \n",
            "mean          3.0    87032.0      5.0      1.0     70.0      0.0      0.0   \n",
            "std           1.0    77319.0     18.0      3.0     44.0      4.0      1.0   \n",
            "min           1.0      900.0      1.0      0.0      1.0      0.0      0.0   \n",
            "25%           2.0    45000.0      1.0      0.0      3.0      0.0      0.0   \n",
            "50%           2.0    70000.0      1.0      0.0     98.0      0.0      0.0   \n",
            "75%           3.0   109000.0      2.0      0.0     98.0      0.0      0.0   \n",
            "max          12.0  4035000.0     98.0     98.0     98.0     98.0     98.0   \n",
            "\n",
            "        VII2_4  parentesco   genero     edad  cob_medica  NIVEL_ED  CAT_OCUP  \\\n",
            "count  13455.0     13455.0  13455.0  13455.0     13455.0   13455.0   13455.0   \n",
            "mean       0.0         1.0      1.0     52.0         2.0       4.0       2.0   \n",
            "std        0.0         0.0      0.0     17.0         2.0       2.0       1.0   \n",
            "min        0.0         1.0      1.0     17.0         1.0       1.0       0.0   \n",
            "25%        0.0         1.0      1.0     39.0         1.0       2.0       0.0   \n",
            "50%        0.0         1.0      1.0     51.0         1.0       4.0       2.0   \n",
            "75%        0.0         1.0      2.0     65.0         2.0       5.0       3.0   \n",
            "max        9.0         1.0      2.0    100.0        23.0       7.0       4.0   \n",
            "\n",
            "       CAT_INAC  AE_ctrol_ind_sum  adulto_equivalente  pobreza  \n",
            "count   13455.0           13455.0             13455.0  13455.0  \n",
            "mean        1.0               2.0             45920.0      0.0  \n",
            "std         1.0               1.0             46362.0      0.0  \n",
            "min         0.0               1.0               233.0      0.0  \n",
            "25%         0.0               1.0             21510.0      0.0  \n",
            "50%         0.0               2.0             35036.0      0.0  \n",
            "75%         1.0               3.0             56818.0      1.0  \n",
            "max         7.0              11.0           2123684.0      1.0   2\n"
          ]
        }
      ]
    },
    {
      "cell_type": "code",
      "source": [
        "#analizamos la mediana\n",
        "\n",
        "df_dataset[numerical].median()"
      ],
      "metadata": {
        "colab": {
          "base_uri": "https://localhost:8080/"
        },
        "id": "VF2fNC1fqZp5",
        "outputId": "85e87442-cb36-47ec-d56e-ebf2c42327d8"
      },
      "execution_count": 60,
      "outputs": [
        {
          "output_type": "execute_result",
          "data": {
            "text/plain": [
              "NRO_HOGAR                 1.00\n",
              "AGLOMERADO               22.00\n",
              "IV1                       1.00\n",
              "IV2                       3.00\n",
              "IV3                       1.00\n",
              "IV4                       2.00\n",
              "IV5                       1.00\n",
              "IV6                       1.00\n",
              "IV7                       1.00\n",
              "IV8                       1.00\n",
              "IV9                       1.00\n",
              "IV10                      1.00\n",
              "IV11                      1.00\n",
              "IV12_1                    2.00\n",
              "IV12_2                    2.00\n",
              "IV12_3                    2.00\n",
              "II1                       3.00\n",
              "II2                       2.00\n",
              "II3                       2.00\n",
              "II3_1                     0.00\n",
              "II4_1                     1.00\n",
              "II4_2                     2.00\n",
              "II4_3                     2.00\n",
              "II5                       2.00\n",
              "II5_1                     0.00\n",
              "II6                       2.00\n",
              "II6_1                     0.00\n",
              "II7                       1.00\n",
              "II8                       1.00\n",
              "II9                       1.00\n",
              "V1                        1.00\n",
              "V2                        2.00\n",
              "V21                       2.00\n",
              "V22                       2.00\n",
              "V3                        2.00\n",
              "V4                        2.00\n",
              "V5                        2.00\n",
              "V6                        2.00\n",
              "V7                        2.00\n",
              "V8                        2.00\n",
              "V9                        2.00\n",
              "V10                       2.00\n",
              "V11                       2.00\n",
              "V12                       2.00\n",
              "V13                       2.00\n",
              "V14                       2.00\n",
              "V15                       2.00\n",
              "V16                       1.00\n",
              "V17                       2.00\n",
              "V18                       2.00\n",
              "V19_A                     2.00\n",
              "V19_B                     2.00\n",
              "IX_TOT                    3.00\n",
              "IX_MEN10                  0.00\n",
              "IX_MAYEQ10                2.00\n",
              "ITF                   70000.00\n",
              "VII1_1                    1.00\n",
              "VII1_2                    0.00\n",
              "VII2_1                   98.00\n",
              "VII2_2                    0.00\n",
              "VII2_3                    0.00\n",
              "VII2_4                    0.00\n",
              "parentesco                1.00\n",
              "genero                    1.00\n",
              "edad                     51.00\n",
              "cob_medica                1.00\n",
              "NIVEL_ED                  4.00\n",
              "CAT_OCUP                  2.00\n",
              "CAT_INAC                  0.00\n",
              "AE_ctrol_ind_sum          2.15\n",
              "adulto_equivalente    35036.00\n",
              "pobreza                   0.00\n",
              "dtype: float64"
            ]
          },
          "metadata": {},
          "execution_count": 60
        }
      ]
    },
    {
      "cell_type": "code",
      "source": [
        "#analizamos la moda\n",
        "\n",
        "df_dataset[numerical].mode()"
      ],
      "metadata": {
        "colab": {
          "base_uri": "https://localhost:8080/",
          "height": 145
        },
        "id": "xdtM926vsPf9",
        "outputId": "fe2a6a0e-929a-4b87-b476-9aaa81fae8d1"
      },
      "execution_count": 61,
      "outputs": [
        {
          "output_type": "execute_result",
          "data": {
            "text/plain": [
              "   NRO_HOGAR  AGLOMERADO  IV1  IV2  IV3  IV4  IV5  IV6  IV7  IV8  IV9  IV10  \\\n",
              "0          1          33    1    3    1    4    1    1    1    1    1     1   \n",
              "\n",
              "   IV11  IV12_1  IV12_2  IV12_3  II1  II2  II3  II3_1  II4_1  II4_2  II4_3  \\\n",
              "0     1       2       2       2    3    1    2      0      1      2      2   \n",
              "\n",
              "   II5  II5_1  II6  II6_1  II7  II8  II9  V1  V2  V21  V22  V3  V4  V5  V6  \\\n",
              "0    2      0    2      0    1    1    1   1   2    2    2   2   2   2   2   \n",
              "\n",
              "   V7  V8  V9  V10  V11  V12  V13  V14  V15  V16  V17  V18  V19_A  V19_B  \\\n",
              "0   2   2   2    2    2    2    2    2    2    1    2    2      2      2   \n",
              "\n",
              "   IX_TOT  IX_MEN10  IX_MAYEQ10    ITF  VII1_1  VII1_2  VII2_1  VII2_2  \\\n",
              "0       2         0           2  50000       1       0      98       0   \n",
              "\n",
              "   VII2_3  VII2_4  parentesco  genero  edad  cob_medica  NIVEL_ED  CAT_OCUP  \\\n",
              "0       0       0           1       1    50           1         4         3   \n",
              "\n",
              "   CAT_INAC  AE_ctrol_ind_sum  adulto_equivalente  pobreza  \n",
              "0         0               1.0             50000.0        0  "
            ],
            "text/html": [
              "\n",
              "  <div id=\"df-1066894f-9a72-419b-b873-2a36dc0d3ea8\">\n",
              "    <div class=\"colab-df-container\">\n",
              "      <div>\n",
              "<style scoped>\n",
              "    .dataframe tbody tr th:only-of-type {\n",
              "        vertical-align: middle;\n",
              "    }\n",
              "\n",
              "    .dataframe tbody tr th {\n",
              "        vertical-align: top;\n",
              "    }\n",
              "\n",
              "    .dataframe thead th {\n",
              "        text-align: right;\n",
              "    }\n",
              "</style>\n",
              "<table border=\"1\" class=\"dataframe\">\n",
              "  <thead>\n",
              "    <tr style=\"text-align: right;\">\n",
              "      <th></th>\n",
              "      <th>NRO_HOGAR</th>\n",
              "      <th>AGLOMERADO</th>\n",
              "      <th>IV1</th>\n",
              "      <th>IV2</th>\n",
              "      <th>IV3</th>\n",
              "      <th>IV4</th>\n",
              "      <th>IV5</th>\n",
              "      <th>IV6</th>\n",
              "      <th>IV7</th>\n",
              "      <th>IV8</th>\n",
              "      <th>IV9</th>\n",
              "      <th>IV10</th>\n",
              "      <th>IV11</th>\n",
              "      <th>IV12_1</th>\n",
              "      <th>IV12_2</th>\n",
              "      <th>IV12_3</th>\n",
              "      <th>II1</th>\n",
              "      <th>II2</th>\n",
              "      <th>II3</th>\n",
              "      <th>II3_1</th>\n",
              "      <th>II4_1</th>\n",
              "      <th>II4_2</th>\n",
              "      <th>II4_3</th>\n",
              "      <th>II5</th>\n",
              "      <th>II5_1</th>\n",
              "      <th>II6</th>\n",
              "      <th>II6_1</th>\n",
              "      <th>II7</th>\n",
              "      <th>II8</th>\n",
              "      <th>II9</th>\n",
              "      <th>V1</th>\n",
              "      <th>V2</th>\n",
              "      <th>V21</th>\n",
              "      <th>V22</th>\n",
              "      <th>V3</th>\n",
              "      <th>V4</th>\n",
              "      <th>V5</th>\n",
              "      <th>V6</th>\n",
              "      <th>V7</th>\n",
              "      <th>V8</th>\n",
              "      <th>V9</th>\n",
              "      <th>V10</th>\n",
              "      <th>V11</th>\n",
              "      <th>V12</th>\n",
              "      <th>V13</th>\n",
              "      <th>V14</th>\n",
              "      <th>V15</th>\n",
              "      <th>V16</th>\n",
              "      <th>V17</th>\n",
              "      <th>V18</th>\n",
              "      <th>V19_A</th>\n",
              "      <th>V19_B</th>\n",
              "      <th>IX_TOT</th>\n",
              "      <th>IX_MEN10</th>\n",
              "      <th>IX_MAYEQ10</th>\n",
              "      <th>ITF</th>\n",
              "      <th>VII1_1</th>\n",
              "      <th>VII1_2</th>\n",
              "      <th>VII2_1</th>\n",
              "      <th>VII2_2</th>\n",
              "      <th>VII2_3</th>\n",
              "      <th>VII2_4</th>\n",
              "      <th>parentesco</th>\n",
              "      <th>genero</th>\n",
              "      <th>edad</th>\n",
              "      <th>cob_medica</th>\n",
              "      <th>NIVEL_ED</th>\n",
              "      <th>CAT_OCUP</th>\n",
              "      <th>CAT_INAC</th>\n",
              "      <th>AE_ctrol_ind_sum</th>\n",
              "      <th>adulto_equivalente</th>\n",
              "      <th>pobreza</th>\n",
              "    </tr>\n",
              "  </thead>\n",
              "  <tbody>\n",
              "    <tr>\n",
              "      <th>0</th>\n",
              "      <td>1</td>\n",
              "      <td>33</td>\n",
              "      <td>1</td>\n",
              "      <td>3</td>\n",
              "      <td>1</td>\n",
              "      <td>4</td>\n",
              "      <td>1</td>\n",
              "      <td>1</td>\n",
              "      <td>1</td>\n",
              "      <td>1</td>\n",
              "      <td>1</td>\n",
              "      <td>1</td>\n",
              "      <td>1</td>\n",
              "      <td>2</td>\n",
              "      <td>2</td>\n",
              "      <td>2</td>\n",
              "      <td>3</td>\n",
              "      <td>1</td>\n",
              "      <td>2</td>\n",
              "      <td>0</td>\n",
              "      <td>1</td>\n",
              "      <td>2</td>\n",
              "      <td>2</td>\n",
              "      <td>2</td>\n",
              "      <td>0</td>\n",
              "      <td>2</td>\n",
              "      <td>0</td>\n",
              "      <td>1</td>\n",
              "      <td>1</td>\n",
              "      <td>1</td>\n",
              "      <td>1</td>\n",
              "      <td>2</td>\n",
              "      <td>2</td>\n",
              "      <td>2</td>\n",
              "      <td>2</td>\n",
              "      <td>2</td>\n",
              "      <td>2</td>\n",
              "      <td>2</td>\n",
              "      <td>2</td>\n",
              "      <td>2</td>\n",
              "      <td>2</td>\n",
              "      <td>2</td>\n",
              "      <td>2</td>\n",
              "      <td>2</td>\n",
              "      <td>2</td>\n",
              "      <td>2</td>\n",
              "      <td>2</td>\n",
              "      <td>1</td>\n",
              "      <td>2</td>\n",
              "      <td>2</td>\n",
              "      <td>2</td>\n",
              "      <td>2</td>\n",
              "      <td>2</td>\n",
              "      <td>0</td>\n",
              "      <td>2</td>\n",
              "      <td>50000</td>\n",
              "      <td>1</td>\n",
              "      <td>0</td>\n",
              "      <td>98</td>\n",
              "      <td>0</td>\n",
              "      <td>0</td>\n",
              "      <td>0</td>\n",
              "      <td>1</td>\n",
              "      <td>1</td>\n",
              "      <td>50</td>\n",
              "      <td>1</td>\n",
              "      <td>4</td>\n",
              "      <td>3</td>\n",
              "      <td>0</td>\n",
              "      <td>1.0</td>\n",
              "      <td>50000.0</td>\n",
              "      <td>0</td>\n",
              "    </tr>\n",
              "  </tbody>\n",
              "</table>\n",
              "</div>\n",
              "      <button class=\"colab-df-convert\" onclick=\"convertToInteractive('df-1066894f-9a72-419b-b873-2a36dc0d3ea8')\"\n",
              "              title=\"Convert this dataframe to an interactive table.\"\n",
              "              style=\"display:none;\">\n",
              "        \n",
              "  <svg xmlns=\"http://www.w3.org/2000/svg\" height=\"24px\"viewBox=\"0 0 24 24\"\n",
              "       width=\"24px\">\n",
              "    <path d=\"M0 0h24v24H0V0z\" fill=\"none\"/>\n",
              "    <path d=\"M18.56 5.44l.94 2.06.94-2.06 2.06-.94-2.06-.94-.94-2.06-.94 2.06-2.06.94zm-11 1L8.5 8.5l.94-2.06 2.06-.94-2.06-.94L8.5 2.5l-.94 2.06-2.06.94zm10 10l.94 2.06.94-2.06 2.06-.94-2.06-.94-.94-2.06-.94 2.06-2.06.94z\"/><path d=\"M17.41 7.96l-1.37-1.37c-.4-.4-.92-.59-1.43-.59-.52 0-1.04.2-1.43.59L10.3 9.45l-7.72 7.72c-.78.78-.78 2.05 0 2.83L4 21.41c.39.39.9.59 1.41.59.51 0 1.02-.2 1.41-.59l7.78-7.78 2.81-2.81c.8-.78.8-2.07 0-2.86zM5.41 20L4 18.59l7.72-7.72 1.47 1.35L5.41 20z\"/>\n",
              "  </svg>\n",
              "      </button>\n",
              "      \n",
              "  <style>\n",
              "    .colab-df-container {\n",
              "      display:flex;\n",
              "      flex-wrap:wrap;\n",
              "      gap: 12px;\n",
              "    }\n",
              "\n",
              "    .colab-df-convert {\n",
              "      background-color: #E8F0FE;\n",
              "      border: none;\n",
              "      border-radius: 50%;\n",
              "      cursor: pointer;\n",
              "      display: none;\n",
              "      fill: #1967D2;\n",
              "      height: 32px;\n",
              "      padding: 0 0 0 0;\n",
              "      width: 32px;\n",
              "    }\n",
              "\n",
              "    .colab-df-convert:hover {\n",
              "      background-color: #E2EBFA;\n",
              "      box-shadow: 0px 1px 2px rgba(60, 64, 67, 0.3), 0px 1px 3px 1px rgba(60, 64, 67, 0.15);\n",
              "      fill: #174EA6;\n",
              "    }\n",
              "\n",
              "    [theme=dark] .colab-df-convert {\n",
              "      background-color: #3B4455;\n",
              "      fill: #D2E3FC;\n",
              "    }\n",
              "\n",
              "    [theme=dark] .colab-df-convert:hover {\n",
              "      background-color: #434B5C;\n",
              "      box-shadow: 0px 1px 3px 1px rgba(0, 0, 0, 0.15);\n",
              "      filter: drop-shadow(0px 1px 2px rgba(0, 0, 0, 0.3));\n",
              "      fill: #FFFFFF;\n",
              "    }\n",
              "  </style>\n",
              "\n",
              "      <script>\n",
              "        const buttonEl =\n",
              "          document.querySelector('#df-1066894f-9a72-419b-b873-2a36dc0d3ea8 button.colab-df-convert');\n",
              "        buttonEl.style.display =\n",
              "          google.colab.kernel.accessAllowed ? 'block' : 'none';\n",
              "\n",
              "        async function convertToInteractive(key) {\n",
              "          const element = document.querySelector('#df-1066894f-9a72-419b-b873-2a36dc0d3ea8');\n",
              "          const dataTable =\n",
              "            await google.colab.kernel.invokeFunction('convertToInteractive',\n",
              "                                                     [key], {});\n",
              "          if (!dataTable) return;\n",
              "\n",
              "          const docLinkHtml = 'Like what you see? Visit the ' +\n",
              "            '<a target=\"_blank\" href=https://colab.research.google.com/notebooks/data_table.ipynb>data table notebook</a>'\n",
              "            + ' to learn more about interactive tables.';\n",
              "          element.innerHTML = '';\n",
              "          dataTable['output_type'] = 'display_data';\n",
              "          await google.colab.output.renderOutput(dataTable, element);\n",
              "          const docLink = document.createElement('div');\n",
              "          docLink.innerHTML = docLinkHtml;\n",
              "          element.appendChild(docLink);\n",
              "        }\n",
              "      </script>\n",
              "    </div>\n",
              "  </div>\n",
              "  "
            ]
          },
          "metadata": {},
          "execution_count": 61
        }
      ]
    },
    {
      "cell_type": "markdown",
      "source": [
        "**Columnas que tienen valores 0 (que no corresponde)**"
      ],
      "metadata": {
        "id": "5hnnaqpfXIlr"
      }
    },
    {
      "cell_type": "code",
      "source": [
        "# buscamos las variables que tienen como mínimo 0\n",
        "\n",
        "minimo_cero = [var for var in df_dataset.columns if df_dataset[var].min() == 0]\n",
        "\n",
        "print('Hay {} variables con mínimo cero\\n'.format(len(minimo_cero)))\n",
        "\n",
        "print('Las variables con mínimo cero son:', minimo_cero)"
      ],
      "metadata": {
        "colab": {
          "base_uri": "https://localhost:8080/"
        },
        "id": "lxFmw7CF1353",
        "outputId": "20373497-7e01-42fb-8bd9-0beba5bb1b44"
      },
      "execution_count": 62,
      "outputs": [
        {
          "output_type": "stream",
          "name": "stdout",
          "text": [
            "Hay 25 variables con mínimo cero\n",
            "\n",
            "Las variables con mínimo cero son: ['IV9', 'IV10', 'IV11', 'II1', 'II2', 'II3', 'II3_1', 'II4_1', 'II4_2', 'II4_3', 'II5', 'II5_1', 'II6', 'II6_1', 'II7', 'II8', 'II9', 'IX_MEN10', 'VII1_2', 'VII2_2', 'VII2_3', 'VII2_4', 'CAT_OCUP', 'CAT_INAC', 'pobreza']\n"
          ]
        }
      ]
    },
    {
      "cell_type": "code",
      "source": [
        "\"\"\"\n",
        "De éstas, las variables que no deberían tener valores = 0 son:\n",
        "'IV9', 'IV10', 'IV11'\n",
        "'II4_1', 'II4_2', 'II4_3'\n",
        "'II5'\n",
        "'II6'\n",
        "'II7', 'II8', 'II9'\n",
        "'CAT_OCUP' (en esta el 9 equivale a Ns/Nc)\n",
        "\"\"\"\n",
        "\n",
        "#cambiamos el 0 por 9 en CAT_OCUP\n",
        "\n",
        "df_dataset['CAT_OCUP'] = df_dataset['CAT_OCUP'].replace([0],9)\n"
      ],
      "metadata": {
        "id": "9gVihF6g7RBX"
      },
      "execution_count": 63,
      "outputs": []
    },
    {
      "cell_type": "code",
      "source": [
        "df_dataset['CAT_OCUP'].value_counts()"
      ],
      "metadata": {
        "colab": {
          "base_uri": "https://localhost:8080/"
        },
        "id": "J2ehCzgxUbTw",
        "outputId": "b81918f5-7231-49e0-90cc-041b68abeee0"
      },
      "execution_count": 64,
      "outputs": [
        {
          "output_type": "execute_result",
          "data": {
            "text/plain": [
              "3    6107\n",
              "9    4932\n",
              "2    2042\n",
              "1     364\n",
              "4      10\n",
              "Name: CAT_OCUP, dtype: int64"
            ]
          },
          "metadata": {},
          "execution_count": 64
        }
      ]
    },
    {
      "cell_type": "code",
      "source": [
        "# las seleccionamos (excepto CAT_OCUP)\n",
        "\n",
        "minimo_cero = df_dataset[['CODUSU','NRO_HOGAR','IV9','IV10','IV11','II4_1','II4_2','II4_3','II5','II6','II7','II8','II9']]"
      ],
      "metadata": {
        "id": "O-zRiYE9UJEe"
      },
      "execution_count": 65,
      "outputs": []
    },
    {
      "cell_type": "code",
      "source": [
        "(minimo_cero==0).sum()"
      ],
      "metadata": {
        "colab": {
          "base_uri": "https://localhost:8080/"
        },
        "id": "cwF1hHfH6N9X",
        "outputId": "1eba5b4f-8da8-47f4-a5a3-37c0bbf3ef5d"
      },
      "execution_count": 66,
      "outputs": [
        {
          "output_type": "execute_result",
          "data": {
            "text/plain": [
              "CODUSU         0\n",
              "NRO_HOGAR      0\n",
              "IV9           41\n",
              "IV10          41\n",
              "IV11          41\n",
              "II4_1         11\n",
              "II4_2         11\n",
              "II4_3         11\n",
              "II5          815\n",
              "II6          815\n",
              "II7           11\n",
              "II8           15\n",
              "II9           11\n",
              "dtype: int64"
            ]
          },
          "metadata": {},
          "execution_count": 66
        }
      ]
    },
    {
      "cell_type": "code",
      "source": [
        "minimo_cero.median()"
      ],
      "metadata": {
        "colab": {
          "base_uri": "https://localhost:8080/"
        },
        "id": "lPysRrxy-D1d",
        "outputId": "333d6db7-1587-4248-a82f-cb65f6e5e3cc"
      },
      "execution_count": 67,
      "outputs": [
        {
          "output_type": "execute_result",
          "data": {
            "text/plain": [
              "NRO_HOGAR    1.0\n",
              "IV9          1.0\n",
              "IV10         1.0\n",
              "IV11         1.0\n",
              "II4_1        1.0\n",
              "II4_2        2.0\n",
              "II4_3        2.0\n",
              "II5          2.0\n",
              "II6          2.0\n",
              "II7          1.0\n",
              "II8          1.0\n",
              "II9          1.0\n",
              "dtype: float64"
            ]
          },
          "metadata": {},
          "execution_count": 67
        }
      ]
    },
    {
      "cell_type": "code",
      "source": [
        "minimo_cero.mode()"
      ],
      "metadata": {
        "colab": {
          "base_uri": "https://localhost:8080/",
          "height": 81
        },
        "id": "1SuAQ7Us-G5x",
        "outputId": "df2b8355-65ad-46fb-8ae4-fdb6ec531c12"
      },
      "execution_count": 68,
      "outputs": [
        {
          "output_type": "execute_result",
          "data": {
            "text/plain": [
              "                          CODUSU  NRO_HOGAR  IV9  IV10  IV11  II4_1  II4_2  \\\n",
              "0  TQRMNORSYHLNLTCDEHJGH00717147          1    1     1     1      1      2   \n",
              "\n",
              "   II4_3  II5  II6  II7  II8  II9  \n",
              "0      2    2    2    1    1    1  "
            ],
            "text/html": [
              "\n",
              "  <div id=\"df-5d59d6d2-f1b4-442c-807d-c3457c481110\">\n",
              "    <div class=\"colab-df-container\">\n",
              "      <div>\n",
              "<style scoped>\n",
              "    .dataframe tbody tr th:only-of-type {\n",
              "        vertical-align: middle;\n",
              "    }\n",
              "\n",
              "    .dataframe tbody tr th {\n",
              "        vertical-align: top;\n",
              "    }\n",
              "\n",
              "    .dataframe thead th {\n",
              "        text-align: right;\n",
              "    }\n",
              "</style>\n",
              "<table border=\"1\" class=\"dataframe\">\n",
              "  <thead>\n",
              "    <tr style=\"text-align: right;\">\n",
              "      <th></th>\n",
              "      <th>CODUSU</th>\n",
              "      <th>NRO_HOGAR</th>\n",
              "      <th>IV9</th>\n",
              "      <th>IV10</th>\n",
              "      <th>IV11</th>\n",
              "      <th>II4_1</th>\n",
              "      <th>II4_2</th>\n",
              "      <th>II4_3</th>\n",
              "      <th>II5</th>\n",
              "      <th>II6</th>\n",
              "      <th>II7</th>\n",
              "      <th>II8</th>\n",
              "      <th>II9</th>\n",
              "    </tr>\n",
              "  </thead>\n",
              "  <tbody>\n",
              "    <tr>\n",
              "      <th>0</th>\n",
              "      <td>TQRMNORSYHLNLTCDEHJGH00717147</td>\n",
              "      <td>1</td>\n",
              "      <td>1</td>\n",
              "      <td>1</td>\n",
              "      <td>1</td>\n",
              "      <td>1</td>\n",
              "      <td>2</td>\n",
              "      <td>2</td>\n",
              "      <td>2</td>\n",
              "      <td>2</td>\n",
              "      <td>1</td>\n",
              "      <td>1</td>\n",
              "      <td>1</td>\n",
              "    </tr>\n",
              "  </tbody>\n",
              "</table>\n",
              "</div>\n",
              "      <button class=\"colab-df-convert\" onclick=\"convertToInteractive('df-5d59d6d2-f1b4-442c-807d-c3457c481110')\"\n",
              "              title=\"Convert this dataframe to an interactive table.\"\n",
              "              style=\"display:none;\">\n",
              "        \n",
              "  <svg xmlns=\"http://www.w3.org/2000/svg\" height=\"24px\"viewBox=\"0 0 24 24\"\n",
              "       width=\"24px\">\n",
              "    <path d=\"M0 0h24v24H0V0z\" fill=\"none\"/>\n",
              "    <path d=\"M18.56 5.44l.94 2.06.94-2.06 2.06-.94-2.06-.94-.94-2.06-.94 2.06-2.06.94zm-11 1L8.5 8.5l.94-2.06 2.06-.94-2.06-.94L8.5 2.5l-.94 2.06-2.06.94zm10 10l.94 2.06.94-2.06 2.06-.94-2.06-.94-.94-2.06-.94 2.06-2.06.94z\"/><path d=\"M17.41 7.96l-1.37-1.37c-.4-.4-.92-.59-1.43-.59-.52 0-1.04.2-1.43.59L10.3 9.45l-7.72 7.72c-.78.78-.78 2.05 0 2.83L4 21.41c.39.39.9.59 1.41.59.51 0 1.02-.2 1.41-.59l7.78-7.78 2.81-2.81c.8-.78.8-2.07 0-2.86zM5.41 20L4 18.59l7.72-7.72 1.47 1.35L5.41 20z\"/>\n",
              "  </svg>\n",
              "      </button>\n",
              "      \n",
              "  <style>\n",
              "    .colab-df-container {\n",
              "      display:flex;\n",
              "      flex-wrap:wrap;\n",
              "      gap: 12px;\n",
              "    }\n",
              "\n",
              "    .colab-df-convert {\n",
              "      background-color: #E8F0FE;\n",
              "      border: none;\n",
              "      border-radius: 50%;\n",
              "      cursor: pointer;\n",
              "      display: none;\n",
              "      fill: #1967D2;\n",
              "      height: 32px;\n",
              "      padding: 0 0 0 0;\n",
              "      width: 32px;\n",
              "    }\n",
              "\n",
              "    .colab-df-convert:hover {\n",
              "      background-color: #E2EBFA;\n",
              "      box-shadow: 0px 1px 2px rgba(60, 64, 67, 0.3), 0px 1px 3px 1px rgba(60, 64, 67, 0.15);\n",
              "      fill: #174EA6;\n",
              "    }\n",
              "\n",
              "    [theme=dark] .colab-df-convert {\n",
              "      background-color: #3B4455;\n",
              "      fill: #D2E3FC;\n",
              "    }\n",
              "\n",
              "    [theme=dark] .colab-df-convert:hover {\n",
              "      background-color: #434B5C;\n",
              "      box-shadow: 0px 1px 3px 1px rgba(0, 0, 0, 0.15);\n",
              "      filter: drop-shadow(0px 1px 2px rgba(0, 0, 0, 0.3));\n",
              "      fill: #FFFFFF;\n",
              "    }\n",
              "  </style>\n",
              "\n",
              "      <script>\n",
              "        const buttonEl =\n",
              "          document.querySelector('#df-5d59d6d2-f1b4-442c-807d-c3457c481110 button.colab-df-convert');\n",
              "        buttonEl.style.display =\n",
              "          google.colab.kernel.accessAllowed ? 'block' : 'none';\n",
              "\n",
              "        async function convertToInteractive(key) {\n",
              "          const element = document.querySelector('#df-5d59d6d2-f1b4-442c-807d-c3457c481110');\n",
              "          const dataTable =\n",
              "            await google.colab.kernel.invokeFunction('convertToInteractive',\n",
              "                                                     [key], {});\n",
              "          if (!dataTable) return;\n",
              "\n",
              "          const docLinkHtml = 'Like what you see? Visit the ' +\n",
              "            '<a target=\"_blank\" href=https://colab.research.google.com/notebooks/data_table.ipynb>data table notebook</a>'\n",
              "            + ' to learn more about interactive tables.';\n",
              "          element.innerHTML = '';\n",
              "          dataTable['output_type'] = 'display_data';\n",
              "          await google.colab.output.renderOutput(dataTable, element);\n",
              "          const docLink = document.createElement('div');\n",
              "          docLink.innerHTML = docLinkHtml;\n",
              "          element.appendChild(docLink);\n",
              "        }\n",
              "      </script>\n",
              "    </div>\n",
              "  </div>\n",
              "  "
            ]
          },
          "metadata": {},
          "execution_count": 68
        }
      ]
    },
    {
      "cell_type": "code",
      "source": [
        "#reemplazamos los valores cero por la moda\n",
        "\n",
        "for x in minimo_cero.columns:\n",
        "  minimo_cero[x] = minimo_cero[x].replace([0],minimo_cero[x].mode())  "
      ],
      "metadata": {
        "id": "50blNbwKN05_"
      },
      "execution_count": 69,
      "outputs": []
    },
    {
      "cell_type": "code",
      "source": [
        "minimo_cero.describe()"
      ],
      "metadata": {
        "colab": {
          "base_uri": "https://localhost:8080/",
          "height": 364
        },
        "id": "WVQH0nfJPRDZ",
        "outputId": "ac515bbf-8fee-4c60-91e0-f8bf17cd9190"
      },
      "execution_count": 70,
      "outputs": [
        {
          "output_type": "execute_result",
          "data": {
            "text/plain": [
              "          NRO_HOGAR           IV9          IV10          IV11         II4_1  \\\n",
              "count  13455.000000  13455.000000  13455.000000  13455.000000  13455.000000   \n",
              "mean       1.081011      1.028614      1.040654      1.248086      1.087402   \n",
              "std        1.564948      0.167170      0.206330      0.536458      0.282434   \n",
              "min        1.000000      1.000000      1.000000      1.000000      1.000000   \n",
              "25%        1.000000      1.000000      1.000000      1.000000      1.000000   \n",
              "50%        1.000000      1.000000      1.000000      1.000000      1.000000   \n",
              "75%        1.000000      1.000000      1.000000      1.000000      1.000000   \n",
              "max       72.000000      3.000000      3.000000      4.000000      2.000000   \n",
              "\n",
              "              II4_2         II4_3           II5           II6           II7  \\\n",
              "count  13455.000000  13455.000000  13455.000000  13455.000000  13455.000000   \n",
              "mean       1.546265      1.677220      1.994649      1.990115      1.936455   \n",
              "std        0.497873      0.467557      0.072958      0.098933      1.602331   \n",
              "min        1.000000      1.000000      1.000000      1.000000      1.000000   \n",
              "25%        1.000000      1.000000      2.000000      2.000000      1.000000   \n",
              "50%        2.000000      2.000000      2.000000      2.000000      1.000000   \n",
              "75%        2.000000      2.000000      2.000000      2.000000      3.000000   \n",
              "max        2.000000      2.000000      2.000000      2.000000      9.000000   \n",
              "\n",
              "                II8           II9  \n",
              "count  13455.000000  13455.000000  \n",
              "mean       1.386696      1.039391  \n",
              "std        0.536398      0.269494  \n",
              "min        1.000000      1.000000  \n",
              "25%        1.000000      1.000000  \n",
              "50%        1.000000      1.000000  \n",
              "75%        2.000000      1.000000  \n",
              "max        4.000000      4.000000  "
            ],
            "text/html": [
              "\n",
              "  <div id=\"df-a0fb23a6-613f-4f1b-b139-ced6866a0b85\">\n",
              "    <div class=\"colab-df-container\">\n",
              "      <div>\n",
              "<style scoped>\n",
              "    .dataframe tbody tr th:only-of-type {\n",
              "        vertical-align: middle;\n",
              "    }\n",
              "\n",
              "    .dataframe tbody tr th {\n",
              "        vertical-align: top;\n",
              "    }\n",
              "\n",
              "    .dataframe thead th {\n",
              "        text-align: right;\n",
              "    }\n",
              "</style>\n",
              "<table border=\"1\" class=\"dataframe\">\n",
              "  <thead>\n",
              "    <tr style=\"text-align: right;\">\n",
              "      <th></th>\n",
              "      <th>NRO_HOGAR</th>\n",
              "      <th>IV9</th>\n",
              "      <th>IV10</th>\n",
              "      <th>IV11</th>\n",
              "      <th>II4_1</th>\n",
              "      <th>II4_2</th>\n",
              "      <th>II4_3</th>\n",
              "      <th>II5</th>\n",
              "      <th>II6</th>\n",
              "      <th>II7</th>\n",
              "      <th>II8</th>\n",
              "      <th>II9</th>\n",
              "    </tr>\n",
              "  </thead>\n",
              "  <tbody>\n",
              "    <tr>\n",
              "      <th>count</th>\n",
              "      <td>13455.000000</td>\n",
              "      <td>13455.000000</td>\n",
              "      <td>13455.000000</td>\n",
              "      <td>13455.000000</td>\n",
              "      <td>13455.000000</td>\n",
              "      <td>13455.000000</td>\n",
              "      <td>13455.000000</td>\n",
              "      <td>13455.000000</td>\n",
              "      <td>13455.000000</td>\n",
              "      <td>13455.000000</td>\n",
              "      <td>13455.000000</td>\n",
              "      <td>13455.000000</td>\n",
              "    </tr>\n",
              "    <tr>\n",
              "      <th>mean</th>\n",
              "      <td>1.081011</td>\n",
              "      <td>1.028614</td>\n",
              "      <td>1.040654</td>\n",
              "      <td>1.248086</td>\n",
              "      <td>1.087402</td>\n",
              "      <td>1.546265</td>\n",
              "      <td>1.677220</td>\n",
              "      <td>1.994649</td>\n",
              "      <td>1.990115</td>\n",
              "      <td>1.936455</td>\n",
              "      <td>1.386696</td>\n",
              "      <td>1.039391</td>\n",
              "    </tr>\n",
              "    <tr>\n",
              "      <th>std</th>\n",
              "      <td>1.564948</td>\n",
              "      <td>0.167170</td>\n",
              "      <td>0.206330</td>\n",
              "      <td>0.536458</td>\n",
              "      <td>0.282434</td>\n",
              "      <td>0.497873</td>\n",
              "      <td>0.467557</td>\n",
              "      <td>0.072958</td>\n",
              "      <td>0.098933</td>\n",
              "      <td>1.602331</td>\n",
              "      <td>0.536398</td>\n",
              "      <td>0.269494</td>\n",
              "    </tr>\n",
              "    <tr>\n",
              "      <th>min</th>\n",
              "      <td>1.000000</td>\n",
              "      <td>1.000000</td>\n",
              "      <td>1.000000</td>\n",
              "      <td>1.000000</td>\n",
              "      <td>1.000000</td>\n",
              "      <td>1.000000</td>\n",
              "      <td>1.000000</td>\n",
              "      <td>1.000000</td>\n",
              "      <td>1.000000</td>\n",
              "      <td>1.000000</td>\n",
              "      <td>1.000000</td>\n",
              "      <td>1.000000</td>\n",
              "    </tr>\n",
              "    <tr>\n",
              "      <th>25%</th>\n",
              "      <td>1.000000</td>\n",
              "      <td>1.000000</td>\n",
              "      <td>1.000000</td>\n",
              "      <td>1.000000</td>\n",
              "      <td>1.000000</td>\n",
              "      <td>1.000000</td>\n",
              "      <td>1.000000</td>\n",
              "      <td>2.000000</td>\n",
              "      <td>2.000000</td>\n",
              "      <td>1.000000</td>\n",
              "      <td>1.000000</td>\n",
              "      <td>1.000000</td>\n",
              "    </tr>\n",
              "    <tr>\n",
              "      <th>50%</th>\n",
              "      <td>1.000000</td>\n",
              "      <td>1.000000</td>\n",
              "      <td>1.000000</td>\n",
              "      <td>1.000000</td>\n",
              "      <td>1.000000</td>\n",
              "      <td>2.000000</td>\n",
              "      <td>2.000000</td>\n",
              "      <td>2.000000</td>\n",
              "      <td>2.000000</td>\n",
              "      <td>1.000000</td>\n",
              "      <td>1.000000</td>\n",
              "      <td>1.000000</td>\n",
              "    </tr>\n",
              "    <tr>\n",
              "      <th>75%</th>\n",
              "      <td>1.000000</td>\n",
              "      <td>1.000000</td>\n",
              "      <td>1.000000</td>\n",
              "      <td>1.000000</td>\n",
              "      <td>1.000000</td>\n",
              "      <td>2.000000</td>\n",
              "      <td>2.000000</td>\n",
              "      <td>2.000000</td>\n",
              "      <td>2.000000</td>\n",
              "      <td>3.000000</td>\n",
              "      <td>2.000000</td>\n",
              "      <td>1.000000</td>\n",
              "    </tr>\n",
              "    <tr>\n",
              "      <th>max</th>\n",
              "      <td>72.000000</td>\n",
              "      <td>3.000000</td>\n",
              "      <td>3.000000</td>\n",
              "      <td>4.000000</td>\n",
              "      <td>2.000000</td>\n",
              "      <td>2.000000</td>\n",
              "      <td>2.000000</td>\n",
              "      <td>2.000000</td>\n",
              "      <td>2.000000</td>\n",
              "      <td>9.000000</td>\n",
              "      <td>4.000000</td>\n",
              "      <td>4.000000</td>\n",
              "    </tr>\n",
              "  </tbody>\n",
              "</table>\n",
              "</div>\n",
              "      <button class=\"colab-df-convert\" onclick=\"convertToInteractive('df-a0fb23a6-613f-4f1b-b139-ced6866a0b85')\"\n",
              "              title=\"Convert this dataframe to an interactive table.\"\n",
              "              style=\"display:none;\">\n",
              "        \n",
              "  <svg xmlns=\"http://www.w3.org/2000/svg\" height=\"24px\"viewBox=\"0 0 24 24\"\n",
              "       width=\"24px\">\n",
              "    <path d=\"M0 0h24v24H0V0z\" fill=\"none\"/>\n",
              "    <path d=\"M18.56 5.44l.94 2.06.94-2.06 2.06-.94-2.06-.94-.94-2.06-.94 2.06-2.06.94zm-11 1L8.5 8.5l.94-2.06 2.06-.94-2.06-.94L8.5 2.5l-.94 2.06-2.06.94zm10 10l.94 2.06.94-2.06 2.06-.94-2.06-.94-.94-2.06-.94 2.06-2.06.94z\"/><path d=\"M17.41 7.96l-1.37-1.37c-.4-.4-.92-.59-1.43-.59-.52 0-1.04.2-1.43.59L10.3 9.45l-7.72 7.72c-.78.78-.78 2.05 0 2.83L4 21.41c.39.39.9.59 1.41.59.51 0 1.02-.2 1.41-.59l7.78-7.78 2.81-2.81c.8-.78.8-2.07 0-2.86zM5.41 20L4 18.59l7.72-7.72 1.47 1.35L5.41 20z\"/>\n",
              "  </svg>\n",
              "      </button>\n",
              "      \n",
              "  <style>\n",
              "    .colab-df-container {\n",
              "      display:flex;\n",
              "      flex-wrap:wrap;\n",
              "      gap: 12px;\n",
              "    }\n",
              "\n",
              "    .colab-df-convert {\n",
              "      background-color: #E8F0FE;\n",
              "      border: none;\n",
              "      border-radius: 50%;\n",
              "      cursor: pointer;\n",
              "      display: none;\n",
              "      fill: #1967D2;\n",
              "      height: 32px;\n",
              "      padding: 0 0 0 0;\n",
              "      width: 32px;\n",
              "    }\n",
              "\n",
              "    .colab-df-convert:hover {\n",
              "      background-color: #E2EBFA;\n",
              "      box-shadow: 0px 1px 2px rgba(60, 64, 67, 0.3), 0px 1px 3px 1px rgba(60, 64, 67, 0.15);\n",
              "      fill: #174EA6;\n",
              "    }\n",
              "\n",
              "    [theme=dark] .colab-df-convert {\n",
              "      background-color: #3B4455;\n",
              "      fill: #D2E3FC;\n",
              "    }\n",
              "\n",
              "    [theme=dark] .colab-df-convert:hover {\n",
              "      background-color: #434B5C;\n",
              "      box-shadow: 0px 1px 3px 1px rgba(0, 0, 0, 0.15);\n",
              "      filter: drop-shadow(0px 1px 2px rgba(0, 0, 0, 0.3));\n",
              "      fill: #FFFFFF;\n",
              "    }\n",
              "  </style>\n",
              "\n",
              "      <script>\n",
              "        const buttonEl =\n",
              "          document.querySelector('#df-a0fb23a6-613f-4f1b-b139-ced6866a0b85 button.colab-df-convert');\n",
              "        buttonEl.style.display =\n",
              "          google.colab.kernel.accessAllowed ? 'block' : 'none';\n",
              "\n",
              "        async function convertToInteractive(key) {\n",
              "          const element = document.querySelector('#df-a0fb23a6-613f-4f1b-b139-ced6866a0b85');\n",
              "          const dataTable =\n",
              "            await google.colab.kernel.invokeFunction('convertToInteractive',\n",
              "                                                     [key], {});\n",
              "          if (!dataTable) return;\n",
              "\n",
              "          const docLinkHtml = 'Like what you see? Visit the ' +\n",
              "            '<a target=\"_blank\" href=https://colab.research.google.com/notebooks/data_table.ipynb>data table notebook</a>'\n",
              "            + ' to learn more about interactive tables.';\n",
              "          element.innerHTML = '';\n",
              "          dataTable['output_type'] = 'display_data';\n",
              "          await google.colab.output.renderOutput(dataTable, element);\n",
              "          const docLink = document.createElement('div');\n",
              "          docLink.innerHTML = docLinkHtml;\n",
              "          element.appendChild(docLink);\n",
              "        }\n",
              "      </script>\n",
              "    </div>\n",
              "  </div>\n",
              "  "
            ]
          },
          "metadata": {},
          "execution_count": 70
        }
      ]
    },
    {
      "cell_type": "code",
      "source": [
        "#borramos las columnas que corregimos del dataset\n",
        "\n",
        "df_dataset = df_dataset.drop(['IV9','IV10','IV11','II4_1','II4_2','II4_3','II5','II6','II7','II8','II9'], axis=1)"
      ],
      "metadata": {
        "id": "zicm_5AWRw4G",
        "colab": {
          "base_uri": "https://localhost:8080/",
          "height": 345
        },
        "outputId": "d8ecf5e8-c89d-4e8b-8907-75cedaed18f1"
      },
      "execution_count": 72,
      "outputs": [
        {
          "output_type": "error",
          "ename": "KeyError",
          "evalue": "ignored",
          "traceback": [
            "\u001b[0;31m---------------------------------------------------------------------------\u001b[0m",
            "\u001b[0;31mKeyError\u001b[0m                                  Traceback (most recent call last)",
            "\u001b[0;32m<ipython-input-72-6644bef9d5ed>\u001b[0m in \u001b[0;36m<module>\u001b[0;34m\u001b[0m\n\u001b[1;32m      1\u001b[0m \u001b[0;31m#borramos las columnas que corregimos del dataset\u001b[0m\u001b[0;34m\u001b[0m\u001b[0;34m\u001b[0m\u001b[0;34m\u001b[0m\u001b[0m\n\u001b[1;32m      2\u001b[0m \u001b[0;34m\u001b[0m\u001b[0m\n\u001b[0;32m----> 3\u001b[0;31m \u001b[0mdf_dataset\u001b[0m \u001b[0;34m=\u001b[0m \u001b[0mdf_dataset\u001b[0m\u001b[0;34m.\u001b[0m\u001b[0mdrop\u001b[0m\u001b[0;34m(\u001b[0m\u001b[0;34m[\u001b[0m\u001b[0;34m'IV9'\u001b[0m\u001b[0;34m,\u001b[0m\u001b[0;34m'IV10'\u001b[0m\u001b[0;34m,\u001b[0m\u001b[0;34m'IV11'\u001b[0m\u001b[0;34m,\u001b[0m\u001b[0;34m'II4_1'\u001b[0m\u001b[0;34m,\u001b[0m\u001b[0;34m'II4_2'\u001b[0m\u001b[0;34m,\u001b[0m\u001b[0;34m'II4_3'\u001b[0m\u001b[0;34m,\u001b[0m\u001b[0;34m'II5'\u001b[0m\u001b[0;34m,\u001b[0m\u001b[0;34m'II6'\u001b[0m\u001b[0;34m,\u001b[0m\u001b[0;34m'II7'\u001b[0m\u001b[0;34m,\u001b[0m\u001b[0;34m'II8'\u001b[0m\u001b[0;34m,\u001b[0m\u001b[0;34m'II9'\u001b[0m\u001b[0;34m]\u001b[0m\u001b[0;34m,\u001b[0m \u001b[0maxis\u001b[0m\u001b[0;34m=\u001b[0m\u001b[0;36m1\u001b[0m\u001b[0;34m)\u001b[0m\u001b[0;34m\u001b[0m\u001b[0;34m\u001b[0m\u001b[0m\n\u001b[0m",
            "\u001b[0;32m/usr/local/lib/python3.7/dist-packages/pandas/util/_decorators.py\u001b[0m in \u001b[0;36mwrapper\u001b[0;34m(*args, **kwargs)\u001b[0m\n\u001b[1;32m    309\u001b[0m                     \u001b[0mstacklevel\u001b[0m\u001b[0;34m=\u001b[0m\u001b[0mstacklevel\u001b[0m\u001b[0;34m,\u001b[0m\u001b[0;34m\u001b[0m\u001b[0;34m\u001b[0m\u001b[0m\n\u001b[1;32m    310\u001b[0m                 )\n\u001b[0;32m--> 311\u001b[0;31m             \u001b[0;32mreturn\u001b[0m \u001b[0mfunc\u001b[0m\u001b[0;34m(\u001b[0m\u001b[0;34m*\u001b[0m\u001b[0margs\u001b[0m\u001b[0;34m,\u001b[0m \u001b[0;34m**\u001b[0m\u001b[0mkwargs\u001b[0m\u001b[0;34m)\u001b[0m\u001b[0;34m\u001b[0m\u001b[0;34m\u001b[0m\u001b[0m\n\u001b[0m\u001b[1;32m    312\u001b[0m \u001b[0;34m\u001b[0m\u001b[0m\n\u001b[1;32m    313\u001b[0m         \u001b[0;32mreturn\u001b[0m \u001b[0mwrapper\u001b[0m\u001b[0;34m\u001b[0m\u001b[0;34m\u001b[0m\u001b[0m\n",
            "\u001b[0;32m/usr/local/lib/python3.7/dist-packages/pandas/core/frame.py\u001b[0m in \u001b[0;36mdrop\u001b[0;34m(self, labels, axis, index, columns, level, inplace, errors)\u001b[0m\n\u001b[1;32m   4911\u001b[0m             \u001b[0mlevel\u001b[0m\u001b[0;34m=\u001b[0m\u001b[0mlevel\u001b[0m\u001b[0;34m,\u001b[0m\u001b[0;34m\u001b[0m\u001b[0;34m\u001b[0m\u001b[0m\n\u001b[1;32m   4912\u001b[0m             \u001b[0minplace\u001b[0m\u001b[0;34m=\u001b[0m\u001b[0minplace\u001b[0m\u001b[0;34m,\u001b[0m\u001b[0;34m\u001b[0m\u001b[0;34m\u001b[0m\u001b[0m\n\u001b[0;32m-> 4913\u001b[0;31m             \u001b[0merrors\u001b[0m\u001b[0;34m=\u001b[0m\u001b[0merrors\u001b[0m\u001b[0;34m,\u001b[0m\u001b[0;34m\u001b[0m\u001b[0;34m\u001b[0m\u001b[0m\n\u001b[0m\u001b[1;32m   4914\u001b[0m         )\n\u001b[1;32m   4915\u001b[0m \u001b[0;34m\u001b[0m\u001b[0m\n",
            "\u001b[0;32m/usr/local/lib/python3.7/dist-packages/pandas/core/generic.py\u001b[0m in \u001b[0;36mdrop\u001b[0;34m(self, labels, axis, index, columns, level, inplace, errors)\u001b[0m\n\u001b[1;32m   4148\u001b[0m         \u001b[0;32mfor\u001b[0m \u001b[0maxis\u001b[0m\u001b[0;34m,\u001b[0m \u001b[0mlabels\u001b[0m \u001b[0;32min\u001b[0m \u001b[0maxes\u001b[0m\u001b[0;34m.\u001b[0m\u001b[0mitems\u001b[0m\u001b[0;34m(\u001b[0m\u001b[0;34m)\u001b[0m\u001b[0;34m:\u001b[0m\u001b[0;34m\u001b[0m\u001b[0;34m\u001b[0m\u001b[0m\n\u001b[1;32m   4149\u001b[0m             \u001b[0;32mif\u001b[0m \u001b[0mlabels\u001b[0m \u001b[0;32mis\u001b[0m \u001b[0;32mnot\u001b[0m \u001b[0;32mNone\u001b[0m\u001b[0;34m:\u001b[0m\u001b[0;34m\u001b[0m\u001b[0;34m\u001b[0m\u001b[0m\n\u001b[0;32m-> 4150\u001b[0;31m                 \u001b[0mobj\u001b[0m \u001b[0;34m=\u001b[0m \u001b[0mobj\u001b[0m\u001b[0;34m.\u001b[0m\u001b[0m_drop_axis\u001b[0m\u001b[0;34m(\u001b[0m\u001b[0mlabels\u001b[0m\u001b[0;34m,\u001b[0m \u001b[0maxis\u001b[0m\u001b[0;34m,\u001b[0m \u001b[0mlevel\u001b[0m\u001b[0;34m=\u001b[0m\u001b[0mlevel\u001b[0m\u001b[0;34m,\u001b[0m \u001b[0merrors\u001b[0m\u001b[0;34m=\u001b[0m\u001b[0merrors\u001b[0m\u001b[0;34m)\u001b[0m\u001b[0;34m\u001b[0m\u001b[0;34m\u001b[0m\u001b[0m\n\u001b[0m\u001b[1;32m   4151\u001b[0m \u001b[0;34m\u001b[0m\u001b[0m\n\u001b[1;32m   4152\u001b[0m         \u001b[0;32mif\u001b[0m \u001b[0minplace\u001b[0m\u001b[0;34m:\u001b[0m\u001b[0;34m\u001b[0m\u001b[0;34m\u001b[0m\u001b[0m\n",
            "\u001b[0;32m/usr/local/lib/python3.7/dist-packages/pandas/core/generic.py\u001b[0m in \u001b[0;36m_drop_axis\u001b[0;34m(self, labels, axis, level, errors)\u001b[0m\n\u001b[1;32m   4183\u001b[0m                 \u001b[0mnew_axis\u001b[0m \u001b[0;34m=\u001b[0m \u001b[0maxis\u001b[0m\u001b[0;34m.\u001b[0m\u001b[0mdrop\u001b[0m\u001b[0;34m(\u001b[0m\u001b[0mlabels\u001b[0m\u001b[0;34m,\u001b[0m \u001b[0mlevel\u001b[0m\u001b[0;34m=\u001b[0m\u001b[0mlevel\u001b[0m\u001b[0;34m,\u001b[0m \u001b[0merrors\u001b[0m\u001b[0;34m=\u001b[0m\u001b[0merrors\u001b[0m\u001b[0;34m)\u001b[0m\u001b[0;34m\u001b[0m\u001b[0;34m\u001b[0m\u001b[0m\n\u001b[1;32m   4184\u001b[0m             \u001b[0;32melse\u001b[0m\u001b[0;34m:\u001b[0m\u001b[0;34m\u001b[0m\u001b[0;34m\u001b[0m\u001b[0m\n\u001b[0;32m-> 4185\u001b[0;31m                 \u001b[0mnew_axis\u001b[0m \u001b[0;34m=\u001b[0m \u001b[0maxis\u001b[0m\u001b[0;34m.\u001b[0m\u001b[0mdrop\u001b[0m\u001b[0;34m(\u001b[0m\u001b[0mlabels\u001b[0m\u001b[0;34m,\u001b[0m \u001b[0merrors\u001b[0m\u001b[0;34m=\u001b[0m\u001b[0merrors\u001b[0m\u001b[0;34m)\u001b[0m\u001b[0;34m\u001b[0m\u001b[0;34m\u001b[0m\u001b[0m\n\u001b[0m\u001b[1;32m   4186\u001b[0m             \u001b[0mresult\u001b[0m \u001b[0;34m=\u001b[0m \u001b[0mself\u001b[0m\u001b[0;34m.\u001b[0m\u001b[0mreindex\u001b[0m\u001b[0;34m(\u001b[0m\u001b[0;34m**\u001b[0m\u001b[0;34m{\u001b[0m\u001b[0maxis_name\u001b[0m\u001b[0;34m:\u001b[0m \u001b[0mnew_axis\u001b[0m\u001b[0;34m}\u001b[0m\u001b[0;34m)\u001b[0m\u001b[0;34m\u001b[0m\u001b[0;34m\u001b[0m\u001b[0m\n\u001b[1;32m   4187\u001b[0m \u001b[0;34m\u001b[0m\u001b[0m\n",
            "\u001b[0;32m/usr/local/lib/python3.7/dist-packages/pandas/core/indexes/base.py\u001b[0m in \u001b[0;36mdrop\u001b[0;34m(self, labels, errors)\u001b[0m\n\u001b[1;32m   6015\u001b[0m         \u001b[0;32mif\u001b[0m \u001b[0mmask\u001b[0m\u001b[0;34m.\u001b[0m\u001b[0many\u001b[0m\u001b[0;34m(\u001b[0m\u001b[0;34m)\u001b[0m\u001b[0;34m:\u001b[0m\u001b[0;34m\u001b[0m\u001b[0;34m\u001b[0m\u001b[0m\n\u001b[1;32m   6016\u001b[0m             \u001b[0;32mif\u001b[0m \u001b[0merrors\u001b[0m \u001b[0;34m!=\u001b[0m \u001b[0;34m\"ignore\"\u001b[0m\u001b[0;34m:\u001b[0m\u001b[0;34m\u001b[0m\u001b[0;34m\u001b[0m\u001b[0m\n\u001b[0;32m-> 6017\u001b[0;31m                 \u001b[0;32mraise\u001b[0m \u001b[0mKeyError\u001b[0m\u001b[0;34m(\u001b[0m\u001b[0;34mf\"{labels[mask]} not found in axis\"\u001b[0m\u001b[0;34m)\u001b[0m\u001b[0;34m\u001b[0m\u001b[0;34m\u001b[0m\u001b[0m\n\u001b[0m\u001b[1;32m   6018\u001b[0m             \u001b[0mindexer\u001b[0m \u001b[0;34m=\u001b[0m \u001b[0mindexer\u001b[0m\u001b[0;34m[\u001b[0m\u001b[0;34m~\u001b[0m\u001b[0mmask\u001b[0m\u001b[0;34m]\u001b[0m\u001b[0;34m\u001b[0m\u001b[0;34m\u001b[0m\u001b[0m\n\u001b[1;32m   6019\u001b[0m         \u001b[0;32mreturn\u001b[0m \u001b[0mself\u001b[0m\u001b[0;34m.\u001b[0m\u001b[0mdelete\u001b[0m\u001b[0;34m(\u001b[0m\u001b[0mindexer\u001b[0m\u001b[0;34m)\u001b[0m\u001b[0;34m\u001b[0m\u001b[0;34m\u001b[0m\u001b[0m\n",
            "\u001b[0;31mKeyError\u001b[0m: \"['IV9' 'IV10' 'IV11' 'II4_1' 'II4_2' 'II4_3' 'II5' 'II6' 'II7' 'II8' 'II9'] not found in axis\""
          ]
        }
      ]
    },
    {
      "cell_type": "code",
      "source": [
        "#unimos el dataset con las columnas corregidas, por CODUSU y NRO HOGAR\n",
        "\n",
        "df_dataset_corregido = pd.merge(df_dataset, minimo_cero, on=['CODUSU','NRO_HOGAR']) "
      ],
      "metadata": {
        "id": "P7dnHqICSpyG"
      },
      "execution_count": 73,
      "outputs": []
    },
    {
      "cell_type": "code",
      "source": [
        "df_dataset_corregido.head()"
      ],
      "metadata": {
        "colab": {
          "base_uri": "https://localhost:8080/",
          "height": 270
        },
        "id": "tkTyML0DSwfW",
        "outputId": "aba69c52-6071-4b83-d86c-da46957a196d"
      },
      "execution_count": 74,
      "outputs": [
        {
          "output_type": "execute_result",
          "data": {
            "text/plain": [
              "                          CODUSU  NRO_HOGAR  AGLOMERADO  IV1  IV2  IV3  IV4  \\\n",
              "0  TQRMNOPSWHMMKRCDEOJAH00714384          1          93    1    3    1    1   \n",
              "1  TQRMNOQYSHMNKTCDEOJAH00714386          1          93    2    2    1    4   \n",
              "2  TQRMNOQXVHLLPQCDEIJAH00718674          1          33    1    3    1    4   \n",
              "3  TQRMNORWPHLKPRCDEIJAH00718675          1          33    2    2    1    9   \n",
              "4  TQRMNOPWQHKLOUCDEIJAH00714088          1          33    1    3    1    1   \n",
              "\n",
              "   IV5  IV6  IV7  IV8  IV12_1  IV12_2  IV12_3  II1  II2  II3  II3_1  II5_1  \\\n",
              "0    1    1    1    1       2       2       2    3    1    2      0      0   \n",
              "1    1    1    1    1       2       2       2    2    2    2      0      0   \n",
              "2    1    1    1    1       2       2       2    3    3    2      0      0   \n",
              "3    1    1    1    1       2       1       2    2    1    2      0      0   \n",
              "4    1    1    1    1       2       2       2    3    2    2      0      0   \n",
              "\n",
              "   II6_1  V1  V2  V21  V22  V3  V4  V5  V6  V7  V8  V9  V10  V11  V12  V13  \\\n",
              "0      0   2   1    2    2   2   2   2   2   2   2   2    2    2    2    2   \n",
              "1      0   1   2    2    2   2   2   2   2   2   2   2    2    2    2    2   \n",
              "2      0   1   1    2    2   2   2   2   2   2   2   2    2    2    2    1   \n",
              "3      0   1   2    2    2   2   2   2   2   2   2   2    2    2    2    2   \n",
              "4      0   1   2    2    2   2   2   2   2   2   2   2    2    2    2    1   \n",
              "\n",
              "   V14  V15  V16  V17  V18  V19_A  V19_B  IX_TOT  IX_MEN10  IX_MAYEQ10    ITF  \\\n",
              "0    2    1    1    2    2      2      2       2         0           2  77500   \n",
              "1    2    2    1    2    2      2      2       4         1           3  85000   \n",
              "2    2    1    1    2    2      2      2       4         0           4  96870   \n",
              "3    1    2    1    2    2      2      2       2         0           2  90000   \n",
              "4    1    2    1    2    2      2      2       3         0           3  92000   \n",
              "\n",
              "   VII1_1  VII1_2  VII2_1  VII2_2  VII2_3  VII2_4  parentesco  genero  edad  \\\n",
              "0       1       2      98       0       0       0           1       1    72   \n",
              "1       2       0      98       0       0       0           1       1    38   \n",
              "2       1       2      98       0       0       0           1       1    67   \n",
              "3       1       2      98       0       0       0           1       1    35   \n",
              "4       2       1      98       0       0       0           1       2    33   \n",
              "\n",
              "   cob_medica  NIVEL_ED  CAT_OCUP  CAT_INAC  AE_ctrol_ind_sum  \\\n",
              "0           1         2         9         1              1.50   \n",
              "1           1         4         3         0              3.13   \n",
              "2           1         4         3         0              3.33   \n",
              "3           1         5         3         0              1.77   \n",
              "4           1         6         3         0              2.54   \n",
              "\n",
              "   adulto_equivalente  pobreza  IV9  IV10  IV11  II4_1  II4_2  II4_3  II5  \\\n",
              "0             51667.0        0    1     1     1      1      1      2    2   \n",
              "1             27157.0        0    1     1     1      1      2      2    2   \n",
              "2             29090.0        0    1     2     3      1      1      2    2   \n",
              "3             50847.0        0    1     1     1      1      2      1    2   \n",
              "4             36220.0        0    1     1     1      1      1      1    2   \n",
              "\n",
              "   II6  II7  II8  II9  \n",
              "0    2    1    1    1  \n",
              "1    2    6    1    1  \n",
              "2    2    1    1    1  \n",
              "3    2    1    1    1  \n",
              "4    2    1    1    1  "
            ],
            "text/html": [
              "\n",
              "  <div id=\"df-ed22a921-cc95-44d0-984b-4ff2f812713e\">\n",
              "    <div class=\"colab-df-container\">\n",
              "      <div>\n",
              "<style scoped>\n",
              "    .dataframe tbody tr th:only-of-type {\n",
              "        vertical-align: middle;\n",
              "    }\n",
              "\n",
              "    .dataframe tbody tr th {\n",
              "        vertical-align: top;\n",
              "    }\n",
              "\n",
              "    .dataframe thead th {\n",
              "        text-align: right;\n",
              "    }\n",
              "</style>\n",
              "<table border=\"1\" class=\"dataframe\">\n",
              "  <thead>\n",
              "    <tr style=\"text-align: right;\">\n",
              "      <th></th>\n",
              "      <th>CODUSU</th>\n",
              "      <th>NRO_HOGAR</th>\n",
              "      <th>AGLOMERADO</th>\n",
              "      <th>IV1</th>\n",
              "      <th>IV2</th>\n",
              "      <th>IV3</th>\n",
              "      <th>IV4</th>\n",
              "      <th>IV5</th>\n",
              "      <th>IV6</th>\n",
              "      <th>IV7</th>\n",
              "      <th>IV8</th>\n",
              "      <th>IV12_1</th>\n",
              "      <th>IV12_2</th>\n",
              "      <th>IV12_3</th>\n",
              "      <th>II1</th>\n",
              "      <th>II2</th>\n",
              "      <th>II3</th>\n",
              "      <th>II3_1</th>\n",
              "      <th>II5_1</th>\n",
              "      <th>II6_1</th>\n",
              "      <th>V1</th>\n",
              "      <th>V2</th>\n",
              "      <th>V21</th>\n",
              "      <th>V22</th>\n",
              "      <th>V3</th>\n",
              "      <th>V4</th>\n",
              "      <th>V5</th>\n",
              "      <th>V6</th>\n",
              "      <th>V7</th>\n",
              "      <th>V8</th>\n",
              "      <th>V9</th>\n",
              "      <th>V10</th>\n",
              "      <th>V11</th>\n",
              "      <th>V12</th>\n",
              "      <th>V13</th>\n",
              "      <th>V14</th>\n",
              "      <th>V15</th>\n",
              "      <th>V16</th>\n",
              "      <th>V17</th>\n",
              "      <th>V18</th>\n",
              "      <th>V19_A</th>\n",
              "      <th>V19_B</th>\n",
              "      <th>IX_TOT</th>\n",
              "      <th>IX_MEN10</th>\n",
              "      <th>IX_MAYEQ10</th>\n",
              "      <th>ITF</th>\n",
              "      <th>VII1_1</th>\n",
              "      <th>VII1_2</th>\n",
              "      <th>VII2_1</th>\n",
              "      <th>VII2_2</th>\n",
              "      <th>VII2_3</th>\n",
              "      <th>VII2_4</th>\n",
              "      <th>parentesco</th>\n",
              "      <th>genero</th>\n",
              "      <th>edad</th>\n",
              "      <th>cob_medica</th>\n",
              "      <th>NIVEL_ED</th>\n",
              "      <th>CAT_OCUP</th>\n",
              "      <th>CAT_INAC</th>\n",
              "      <th>AE_ctrol_ind_sum</th>\n",
              "      <th>adulto_equivalente</th>\n",
              "      <th>pobreza</th>\n",
              "      <th>IV9</th>\n",
              "      <th>IV10</th>\n",
              "      <th>IV11</th>\n",
              "      <th>II4_1</th>\n",
              "      <th>II4_2</th>\n",
              "      <th>II4_3</th>\n",
              "      <th>II5</th>\n",
              "      <th>II6</th>\n",
              "      <th>II7</th>\n",
              "      <th>II8</th>\n",
              "      <th>II9</th>\n",
              "    </tr>\n",
              "  </thead>\n",
              "  <tbody>\n",
              "    <tr>\n",
              "      <th>0</th>\n",
              "      <td>TQRMNOPSWHMMKRCDEOJAH00714384</td>\n",
              "      <td>1</td>\n",
              "      <td>93</td>\n",
              "      <td>1</td>\n",
              "      <td>3</td>\n",
              "      <td>1</td>\n",
              "      <td>1</td>\n",
              "      <td>1</td>\n",
              "      <td>1</td>\n",
              "      <td>1</td>\n",
              "      <td>1</td>\n",
              "      <td>2</td>\n",
              "      <td>2</td>\n",
              "      <td>2</td>\n",
              "      <td>3</td>\n",
              "      <td>1</td>\n",
              "      <td>2</td>\n",
              "      <td>0</td>\n",
              "      <td>0</td>\n",
              "      <td>0</td>\n",
              "      <td>2</td>\n",
              "      <td>1</td>\n",
              "      <td>2</td>\n",
              "      <td>2</td>\n",
              "      <td>2</td>\n",
              "      <td>2</td>\n",
              "      <td>2</td>\n",
              "      <td>2</td>\n",
              "      <td>2</td>\n",
              "      <td>2</td>\n",
              "      <td>2</td>\n",
              "      <td>2</td>\n",
              "      <td>2</td>\n",
              "      <td>2</td>\n",
              "      <td>2</td>\n",
              "      <td>2</td>\n",
              "      <td>1</td>\n",
              "      <td>1</td>\n",
              "      <td>2</td>\n",
              "      <td>2</td>\n",
              "      <td>2</td>\n",
              "      <td>2</td>\n",
              "      <td>2</td>\n",
              "      <td>0</td>\n",
              "      <td>2</td>\n",
              "      <td>77500</td>\n",
              "      <td>1</td>\n",
              "      <td>2</td>\n",
              "      <td>98</td>\n",
              "      <td>0</td>\n",
              "      <td>0</td>\n",
              "      <td>0</td>\n",
              "      <td>1</td>\n",
              "      <td>1</td>\n",
              "      <td>72</td>\n",
              "      <td>1</td>\n",
              "      <td>2</td>\n",
              "      <td>9</td>\n",
              "      <td>1</td>\n",
              "      <td>1.50</td>\n",
              "      <td>51667.0</td>\n",
              "      <td>0</td>\n",
              "      <td>1</td>\n",
              "      <td>1</td>\n",
              "      <td>1</td>\n",
              "      <td>1</td>\n",
              "      <td>1</td>\n",
              "      <td>2</td>\n",
              "      <td>2</td>\n",
              "      <td>2</td>\n",
              "      <td>1</td>\n",
              "      <td>1</td>\n",
              "      <td>1</td>\n",
              "    </tr>\n",
              "    <tr>\n",
              "      <th>1</th>\n",
              "      <td>TQRMNOQYSHMNKTCDEOJAH00714386</td>\n",
              "      <td>1</td>\n",
              "      <td>93</td>\n",
              "      <td>2</td>\n",
              "      <td>2</td>\n",
              "      <td>1</td>\n",
              "      <td>4</td>\n",
              "      <td>1</td>\n",
              "      <td>1</td>\n",
              "      <td>1</td>\n",
              "      <td>1</td>\n",
              "      <td>2</td>\n",
              "      <td>2</td>\n",
              "      <td>2</td>\n",
              "      <td>2</td>\n",
              "      <td>2</td>\n",
              "      <td>2</td>\n",
              "      <td>0</td>\n",
              "      <td>0</td>\n",
              "      <td>0</td>\n",
              "      <td>1</td>\n",
              "      <td>2</td>\n",
              "      <td>2</td>\n",
              "      <td>2</td>\n",
              "      <td>2</td>\n",
              "      <td>2</td>\n",
              "      <td>2</td>\n",
              "      <td>2</td>\n",
              "      <td>2</td>\n",
              "      <td>2</td>\n",
              "      <td>2</td>\n",
              "      <td>2</td>\n",
              "      <td>2</td>\n",
              "      <td>2</td>\n",
              "      <td>2</td>\n",
              "      <td>2</td>\n",
              "      <td>2</td>\n",
              "      <td>1</td>\n",
              "      <td>2</td>\n",
              "      <td>2</td>\n",
              "      <td>2</td>\n",
              "      <td>2</td>\n",
              "      <td>4</td>\n",
              "      <td>1</td>\n",
              "      <td>3</td>\n",
              "      <td>85000</td>\n",
              "      <td>2</td>\n",
              "      <td>0</td>\n",
              "      <td>98</td>\n",
              "      <td>0</td>\n",
              "      <td>0</td>\n",
              "      <td>0</td>\n",
              "      <td>1</td>\n",
              "      <td>1</td>\n",
              "      <td>38</td>\n",
              "      <td>1</td>\n",
              "      <td>4</td>\n",
              "      <td>3</td>\n",
              "      <td>0</td>\n",
              "      <td>3.13</td>\n",
              "      <td>27157.0</td>\n",
              "      <td>0</td>\n",
              "      <td>1</td>\n",
              "      <td>1</td>\n",
              "      <td>1</td>\n",
              "      <td>1</td>\n",
              "      <td>2</td>\n",
              "      <td>2</td>\n",
              "      <td>2</td>\n",
              "      <td>2</td>\n",
              "      <td>6</td>\n",
              "      <td>1</td>\n",
              "      <td>1</td>\n",
              "    </tr>\n",
              "    <tr>\n",
              "      <th>2</th>\n",
              "      <td>TQRMNOQXVHLLPQCDEIJAH00718674</td>\n",
              "      <td>1</td>\n",
              "      <td>33</td>\n",
              "      <td>1</td>\n",
              "      <td>3</td>\n",
              "      <td>1</td>\n",
              "      <td>4</td>\n",
              "      <td>1</td>\n",
              "      <td>1</td>\n",
              "      <td>1</td>\n",
              "      <td>1</td>\n",
              "      <td>2</td>\n",
              "      <td>2</td>\n",
              "      <td>2</td>\n",
              "      <td>3</td>\n",
              "      <td>3</td>\n",
              "      <td>2</td>\n",
              "      <td>0</td>\n",
              "      <td>0</td>\n",
              "      <td>0</td>\n",
              "      <td>1</td>\n",
              "      <td>1</td>\n",
              "      <td>2</td>\n",
              "      <td>2</td>\n",
              "      <td>2</td>\n",
              "      <td>2</td>\n",
              "      <td>2</td>\n",
              "      <td>2</td>\n",
              "      <td>2</td>\n",
              "      <td>2</td>\n",
              "      <td>2</td>\n",
              "      <td>2</td>\n",
              "      <td>2</td>\n",
              "      <td>2</td>\n",
              "      <td>1</td>\n",
              "      <td>2</td>\n",
              "      <td>1</td>\n",
              "      <td>1</td>\n",
              "      <td>2</td>\n",
              "      <td>2</td>\n",
              "      <td>2</td>\n",
              "      <td>2</td>\n",
              "      <td>4</td>\n",
              "      <td>0</td>\n",
              "      <td>4</td>\n",
              "      <td>96870</td>\n",
              "      <td>1</td>\n",
              "      <td>2</td>\n",
              "      <td>98</td>\n",
              "      <td>0</td>\n",
              "      <td>0</td>\n",
              "      <td>0</td>\n",
              "      <td>1</td>\n",
              "      <td>1</td>\n",
              "      <td>67</td>\n",
              "      <td>1</td>\n",
              "      <td>4</td>\n",
              "      <td>3</td>\n",
              "      <td>0</td>\n",
              "      <td>3.33</td>\n",
              "      <td>29090.0</td>\n",
              "      <td>0</td>\n",
              "      <td>1</td>\n",
              "      <td>2</td>\n",
              "      <td>3</td>\n",
              "      <td>1</td>\n",
              "      <td>1</td>\n",
              "      <td>2</td>\n",
              "      <td>2</td>\n",
              "      <td>2</td>\n",
              "      <td>1</td>\n",
              "      <td>1</td>\n",
              "      <td>1</td>\n",
              "    </tr>\n",
              "    <tr>\n",
              "      <th>3</th>\n",
              "      <td>TQRMNORWPHLKPRCDEIJAH00718675</td>\n",
              "      <td>1</td>\n",
              "      <td>33</td>\n",
              "      <td>2</td>\n",
              "      <td>2</td>\n",
              "      <td>1</td>\n",
              "      <td>9</td>\n",
              "      <td>1</td>\n",
              "      <td>1</td>\n",
              "      <td>1</td>\n",
              "      <td>1</td>\n",
              "      <td>2</td>\n",
              "      <td>1</td>\n",
              "      <td>2</td>\n",
              "      <td>2</td>\n",
              "      <td>1</td>\n",
              "      <td>2</td>\n",
              "      <td>0</td>\n",
              "      <td>0</td>\n",
              "      <td>0</td>\n",
              "      <td>1</td>\n",
              "      <td>2</td>\n",
              "      <td>2</td>\n",
              "      <td>2</td>\n",
              "      <td>2</td>\n",
              "      <td>2</td>\n",
              "      <td>2</td>\n",
              "      <td>2</td>\n",
              "      <td>2</td>\n",
              "      <td>2</td>\n",
              "      <td>2</td>\n",
              "      <td>2</td>\n",
              "      <td>2</td>\n",
              "      <td>2</td>\n",
              "      <td>2</td>\n",
              "      <td>1</td>\n",
              "      <td>2</td>\n",
              "      <td>1</td>\n",
              "      <td>2</td>\n",
              "      <td>2</td>\n",
              "      <td>2</td>\n",
              "      <td>2</td>\n",
              "      <td>2</td>\n",
              "      <td>0</td>\n",
              "      <td>2</td>\n",
              "      <td>90000</td>\n",
              "      <td>1</td>\n",
              "      <td>2</td>\n",
              "      <td>98</td>\n",
              "      <td>0</td>\n",
              "      <td>0</td>\n",
              "      <td>0</td>\n",
              "      <td>1</td>\n",
              "      <td>1</td>\n",
              "      <td>35</td>\n",
              "      <td>1</td>\n",
              "      <td>5</td>\n",
              "      <td>3</td>\n",
              "      <td>0</td>\n",
              "      <td>1.77</td>\n",
              "      <td>50847.0</td>\n",
              "      <td>0</td>\n",
              "      <td>1</td>\n",
              "      <td>1</td>\n",
              "      <td>1</td>\n",
              "      <td>1</td>\n",
              "      <td>2</td>\n",
              "      <td>1</td>\n",
              "      <td>2</td>\n",
              "      <td>2</td>\n",
              "      <td>1</td>\n",
              "      <td>1</td>\n",
              "      <td>1</td>\n",
              "    </tr>\n",
              "    <tr>\n",
              "      <th>4</th>\n",
              "      <td>TQRMNOPWQHKLOUCDEIJAH00714088</td>\n",
              "      <td>1</td>\n",
              "      <td>33</td>\n",
              "      <td>1</td>\n",
              "      <td>3</td>\n",
              "      <td>1</td>\n",
              "      <td>1</td>\n",
              "      <td>1</td>\n",
              "      <td>1</td>\n",
              "      <td>1</td>\n",
              "      <td>1</td>\n",
              "      <td>2</td>\n",
              "      <td>2</td>\n",
              "      <td>2</td>\n",
              "      <td>3</td>\n",
              "      <td>2</td>\n",
              "      <td>2</td>\n",
              "      <td>0</td>\n",
              "      <td>0</td>\n",
              "      <td>0</td>\n",
              "      <td>1</td>\n",
              "      <td>2</td>\n",
              "      <td>2</td>\n",
              "      <td>2</td>\n",
              "      <td>2</td>\n",
              "      <td>2</td>\n",
              "      <td>2</td>\n",
              "      <td>2</td>\n",
              "      <td>2</td>\n",
              "      <td>2</td>\n",
              "      <td>2</td>\n",
              "      <td>2</td>\n",
              "      <td>2</td>\n",
              "      <td>2</td>\n",
              "      <td>1</td>\n",
              "      <td>1</td>\n",
              "      <td>2</td>\n",
              "      <td>1</td>\n",
              "      <td>2</td>\n",
              "      <td>2</td>\n",
              "      <td>2</td>\n",
              "      <td>2</td>\n",
              "      <td>3</td>\n",
              "      <td>0</td>\n",
              "      <td>3</td>\n",
              "      <td>92000</td>\n",
              "      <td>2</td>\n",
              "      <td>1</td>\n",
              "      <td>98</td>\n",
              "      <td>0</td>\n",
              "      <td>0</td>\n",
              "      <td>0</td>\n",
              "      <td>1</td>\n",
              "      <td>2</td>\n",
              "      <td>33</td>\n",
              "      <td>1</td>\n",
              "      <td>6</td>\n",
              "      <td>3</td>\n",
              "      <td>0</td>\n",
              "      <td>2.54</td>\n",
              "      <td>36220.0</td>\n",
              "      <td>0</td>\n",
              "      <td>1</td>\n",
              "      <td>1</td>\n",
              "      <td>1</td>\n",
              "      <td>1</td>\n",
              "      <td>1</td>\n",
              "      <td>1</td>\n",
              "      <td>2</td>\n",
              "      <td>2</td>\n",
              "      <td>1</td>\n",
              "      <td>1</td>\n",
              "      <td>1</td>\n",
              "    </tr>\n",
              "  </tbody>\n",
              "</table>\n",
              "</div>\n",
              "      <button class=\"colab-df-convert\" onclick=\"convertToInteractive('df-ed22a921-cc95-44d0-984b-4ff2f812713e')\"\n",
              "              title=\"Convert this dataframe to an interactive table.\"\n",
              "              style=\"display:none;\">\n",
              "        \n",
              "  <svg xmlns=\"http://www.w3.org/2000/svg\" height=\"24px\"viewBox=\"0 0 24 24\"\n",
              "       width=\"24px\">\n",
              "    <path d=\"M0 0h24v24H0V0z\" fill=\"none\"/>\n",
              "    <path d=\"M18.56 5.44l.94 2.06.94-2.06 2.06-.94-2.06-.94-.94-2.06-.94 2.06-2.06.94zm-11 1L8.5 8.5l.94-2.06 2.06-.94-2.06-.94L8.5 2.5l-.94 2.06-2.06.94zm10 10l.94 2.06.94-2.06 2.06-.94-2.06-.94-.94-2.06-.94 2.06-2.06.94z\"/><path d=\"M17.41 7.96l-1.37-1.37c-.4-.4-.92-.59-1.43-.59-.52 0-1.04.2-1.43.59L10.3 9.45l-7.72 7.72c-.78.78-.78 2.05 0 2.83L4 21.41c.39.39.9.59 1.41.59.51 0 1.02-.2 1.41-.59l7.78-7.78 2.81-2.81c.8-.78.8-2.07 0-2.86zM5.41 20L4 18.59l7.72-7.72 1.47 1.35L5.41 20z\"/>\n",
              "  </svg>\n",
              "      </button>\n",
              "      \n",
              "  <style>\n",
              "    .colab-df-container {\n",
              "      display:flex;\n",
              "      flex-wrap:wrap;\n",
              "      gap: 12px;\n",
              "    }\n",
              "\n",
              "    .colab-df-convert {\n",
              "      background-color: #E8F0FE;\n",
              "      border: none;\n",
              "      border-radius: 50%;\n",
              "      cursor: pointer;\n",
              "      display: none;\n",
              "      fill: #1967D2;\n",
              "      height: 32px;\n",
              "      padding: 0 0 0 0;\n",
              "      width: 32px;\n",
              "    }\n",
              "\n",
              "    .colab-df-convert:hover {\n",
              "      background-color: #E2EBFA;\n",
              "      box-shadow: 0px 1px 2px rgba(60, 64, 67, 0.3), 0px 1px 3px 1px rgba(60, 64, 67, 0.15);\n",
              "      fill: #174EA6;\n",
              "    }\n",
              "\n",
              "    [theme=dark] .colab-df-convert {\n",
              "      background-color: #3B4455;\n",
              "      fill: #D2E3FC;\n",
              "    }\n",
              "\n",
              "    [theme=dark] .colab-df-convert:hover {\n",
              "      background-color: #434B5C;\n",
              "      box-shadow: 0px 1px 3px 1px rgba(0, 0, 0, 0.15);\n",
              "      filter: drop-shadow(0px 1px 2px rgba(0, 0, 0, 0.3));\n",
              "      fill: #FFFFFF;\n",
              "    }\n",
              "  </style>\n",
              "\n",
              "      <script>\n",
              "        const buttonEl =\n",
              "          document.querySelector('#df-ed22a921-cc95-44d0-984b-4ff2f812713e button.colab-df-convert');\n",
              "        buttonEl.style.display =\n",
              "          google.colab.kernel.accessAllowed ? 'block' : 'none';\n",
              "\n",
              "        async function convertToInteractive(key) {\n",
              "          const element = document.querySelector('#df-ed22a921-cc95-44d0-984b-4ff2f812713e');\n",
              "          const dataTable =\n",
              "            await google.colab.kernel.invokeFunction('convertToInteractive',\n",
              "                                                     [key], {});\n",
              "          if (!dataTable) return;\n",
              "\n",
              "          const docLinkHtml = 'Like what you see? Visit the ' +\n",
              "            '<a target=\"_blank\" href=https://colab.research.google.com/notebooks/data_table.ipynb>data table notebook</a>'\n",
              "            + ' to learn more about interactive tables.';\n",
              "          element.innerHTML = '';\n",
              "          dataTable['output_type'] = 'display_data';\n",
              "          await google.colab.output.renderOutput(dataTable, element);\n",
              "          const docLink = document.createElement('div');\n",
              "          docLink.innerHTML = docLinkHtml;\n",
              "          element.appendChild(docLink);\n",
              "        }\n",
              "      </script>\n",
              "    </div>\n",
              "  </div>\n",
              "  "
            ]
          },
          "metadata": {},
          "execution_count": 74
        }
      ]
    },
    {
      "cell_type": "markdown",
      "source": [
        "**Outliers**"
      ],
      "metadata": {
        "id": "RV2kfJsBWkor"
      }
    },
    {
      "cell_type": "code",
      "source": [
        "#En análisis de las variables numéricas vimos que IV2 e II1 tienen un máximo que quizás esté fuera de rango\n",
        "\n",
        "#IV2 es la cantidad de habitaciones por hogar\n",
        "\n",
        "df_dataset_corregido['IV2'].value_counts()"
      ],
      "metadata": {
        "colab": {
          "base_uri": "https://localhost:8080/"
        },
        "id": "sYD56mk2Ta3K",
        "outputId": "868f6d45-d286-4a13-c69d-7ffdfbb4bd03"
      },
      "execution_count": 75,
      "outputs": [
        {
          "output_type": "execute_result",
          "data": {
            "text/plain": [
              "3     4971\n",
              "2     3237\n",
              "4     2856\n",
              "1     1089\n",
              "5      904\n",
              "6      280\n",
              "7       78\n",
              "8       28\n",
              "9        6\n",
              "10       3\n",
              "21       1\n",
              "99       1\n",
              "13       1\n",
              "Name: IV2, dtype: int64"
            ]
          },
          "metadata": {},
          "execution_count": 75
        }
      ]
    },
    {
      "cell_type": "code",
      "source": [
        "plt.boxplot(df_dataset_corregido['IV2'])\n",
        "plt.ylabel(\"Cantidad de ambientes por hogar\")\n",
        "plt.title(\"Boxplot de cantidad de ambientes por hogar\")"
      ],
      "metadata": {
        "colab": {
          "base_uri": "https://localhost:8080/",
          "height": 298
        },
        "id": "Mder37yzYzHs",
        "outputId": "0178f623-99a2-4c72-8d3f-b2e2de1bbc4c"
      },
      "execution_count": 76,
      "outputs": [
        {
          "output_type": "execute_result",
          "data": {
            "text/plain": [
              "Text(0.5, 1.0, 'Boxplot de cantidad de ambientes por hogar')"
            ]
          },
          "metadata": {},
          "execution_count": 76
        },
        {
          "output_type": "display_data",
          "data": {
            "text/plain": [
              "<Figure size 432x288 with 1 Axes>"
            ],
            "image/png": "[encoded data removed]"
          },
          "metadata": {
            "needs_background": "light"
          }
        }
      ]
    },
    {
      "cell_type": "code",
      "source": [
        "#acotamos el rango de 1 a 10\n",
        "\n",
        "df_dataset_corregido['IV2'] = df_dataset_corregido['IV2'].clip(lower=1,upper = 10)"
      ],
      "metadata": {
        "id": "RT8haNcoZIjP"
      },
      "execution_count": 77,
      "outputs": []
    },
    {
      "cell_type": "code",
      "source": [
        "df_dataset_corregido['IV2'].describe()"
      ],
      "metadata": {
        "colab": {
          "base_uri": "https://localhost:8080/"
        },
        "id": "o0YtrDubZiAU",
        "outputId": "daaf8910-946b-42e5-9da4-100b2af345ce"
      },
      "execution_count": 78,
      "outputs": [
        {
          "output_type": "execute_result",
          "data": {
            "text/plain": [
              "count    13455.000000\n",
              "mean         3.046005\n",
              "std          1.188822\n",
              "min          1.000000\n",
              "25%          2.000000\n",
              "50%          3.000000\n",
              "75%          4.000000\n",
              "max         10.000000\n",
              "Name: IV2, dtype: float64"
            ]
          },
          "metadata": {},
          "execution_count": 78
        }
      ]
    },
    {
      "cell_type": "code",
      "source": [
        "#II1 es la cantidad de habitaciones que usan para dormir por hogar\n",
        "\n",
        "df_dataset_corregido['II1'].value_counts()"
      ],
      "metadata": {
        "colab": {
          "base_uri": "https://localhost:8080/"
        },
        "id": "4BI27tqWZpG9",
        "outputId": "a60e5afb-a030-4cfe-90ac-98cb7ae750bf"
      },
      "execution_count": 79,
      "outputs": [
        {
          "output_type": "execute_result",
          "data": {
            "text/plain": [
              "3     4937\n",
              "2     3303\n",
              "4     2780\n",
              "1     1190\n",
              "5      878\n",
              "6      251\n",
              "7       70\n",
              "8       22\n",
              "0       11\n",
              "9        7\n",
              "10       3\n",
              "47       1\n",
              "42       1\n",
              "13       1\n",
              "Name: II1, dtype: int64"
            ]
          },
          "metadata": {},
          "execution_count": 79
        }
      ]
    },
    {
      "cell_type": "code",
      "source": [
        "plt.boxplot(df_dataset_corregido['II1'])\n",
        "plt.ylabel(\"Cantidad de ambientes que usan para dormir por hogar\")\n",
        "plt.title(\"Boxplot de cantidad de ambientes que usan para dormir por hogar\")"
      ],
      "metadata": {
        "colab": {
          "base_uri": "https://localhost:8080/",
          "height": 327
        },
        "id": "vd-XF476aHCl",
        "outputId": "f0f17ceb-3384-4f49-96ce-91945ed84360"
      },
      "execution_count": 80,
      "outputs": [
        {
          "output_type": "execute_result",
          "data": {
            "text/plain": [
              "Text(0.5, 1.0, 'Boxplot de cantidad de ambientes que usan para dormir por hogar')"
            ]
          },
          "metadata": {},
          "execution_count": 80
        },
        {
          "output_type": "display_data",
          "data": {
            "text/plain": [
              "<Figure size 432x288 with 1 Axes>"
            ],
            "image/png": "[encoded data removed]"
          },
          "metadata": {
            "needs_background": "light"
          }
        }
      ]
    },
    {
      "cell_type": "code",
      "source": [
        "#acotamos el rango de 1 a 10\n",
        "\n",
        "df_dataset_corregido['II1'] = df_dataset_corregido['II1'].clip(lower=1,upper = 10)"
      ],
      "metadata": {
        "id": "rXcY_bxBbF4g"
      },
      "execution_count": 81,
      "outputs": []
    },
    {
      "cell_type": "code",
      "source": [
        "df_dataset_corregido['II1'].describe()"
      ],
      "metadata": {
        "colab": {
          "base_uri": "https://localhost:8080/"
        },
        "id": "Ianks1n0bM53",
        "outputId": "8df63e03-de8a-4cd9-9078-904ba97c4f80"
      },
      "execution_count": 82,
      "outputs": [
        {
          "output_type": "execute_result",
          "data": {
            "text/plain": [
              "count    13455.000000\n",
              "mean         3.004311\n",
              "std          1.184414\n",
              "min          1.000000\n",
              "25%          2.000000\n",
              "50%          3.000000\n",
              "75%          4.000000\n",
              "max         10.000000\n",
              "Name: II1, dtype: float64"
            ]
          },
          "metadata": {},
          "execution_count": 82
        }
      ]
    },
    {
      "cell_type": "code",
      "source": [
        "df_dataset_corregido.to_csv('dataset_corregido.csv')"
      ],
      "metadata": {
        "id": "sOsYwP9VbSd1"
      },
      "execution_count": 83,
      "outputs": []
    },
    {
      "cell_type": "markdown",
      "source": [
        "# **Modelo**"
      ],
      "metadata": {
        "id": "NcSRC6qMbtjj"
      }
    },
    {
      "cell_type": "markdown",
      "source": [
        "**Experimento 1:**\n",
        "en esta primera instancia implementaremos una regresión logística\n"
      ],
      "metadata": {
        "id": "E03wJ9kKWaj4"
      }
    },
    {
      "cell_type": "code",
      "source": [
        "# Buscamos las variables categóricas\n",
        "\n",
        "categorical = [var for var in df_dataset_corregido.columns if df_dataset_corregido[var].dtype=='O']\n",
        "\n",
        "print('Hay {} variables categóricas\\n'.format(len(categorical)))\n",
        "\n",
        "print('Las variables categórica son:', categorical)"
      ],
      "metadata": {
        "colab": {
          "base_uri": "https://localhost:8080/"
        },
        "id": "zex0YOLubsCL",
        "outputId": "5da5470c-d2c3-46be-82ef-af7438c4a262"
      },
      "execution_count": 84,
      "outputs": [
        {
          "output_type": "stream",
          "name": "stdout",
          "text": [
            "Hay 1 variables categóricas\n",
            "\n",
            "Las variables categórica son: ['CODUSU']\n"
          ]
        }
      ]
    },
    {
      "cell_type": "code",
      "source": [
        "#borramos CODUSU y Nro de hogar\n",
        "df = df_dataset_corregido.drop(['CODUSU','NRO_HOGAR'], axis=1)"
      ],
      "metadata": {
        "id": "ouf96sEbguOE"
      },
      "execution_count": 85,
      "outputs": []
    },
    {
      "cell_type": "code",
      "source": [
        "df.head()"
      ],
      "metadata": {
        "colab": {
          "base_uri": "https://localhost:8080/",
          "height": 270
        },
        "id": "8iP-lm5Qg2_E",
        "outputId": "ed1b3e8f-1f48-47af-bf8e-39249b87d314"
      },
      "execution_count": 86,
      "outputs": [
        {
          "output_type": "execute_result",
          "data": {
            "text/plain": [
              "   AGLOMERADO  IV1  IV2  IV3  IV4  IV5  IV6  IV7  IV8  IV12_1  IV12_2  IV12_3  \\\n",
              "0          93    1    3    1    1    1    1    1    1       2       2       2   \n",
              "1          93    2    2    1    4    1    1    1    1       2       2       2   \n",
              "2          33    1    3    1    4    1    1    1    1       2       2       2   \n",
              "3          33    2    2    1    9    1    1    1    1       2       1       2   \n",
              "4          33    1    3    1    1    1    1    1    1       2       2       2   \n",
              "\n",
              "   II1  II2  II3  II3_1  II5_1  II6_1  V1  V2  V21  V22  V3  V4  V5  V6  V7  \\\n",
              "0    3    1    2      0      0      0   2   1    2    2   2   2   2   2   2   \n",
              "1    2    2    2      0      0      0   1   2    2    2   2   2   2   2   2   \n",
              "2    3    3    2      0      0      0   1   1    2    2   2   2   2   2   2   \n",
              "3    2    1    2      0      0      0   1   2    2    2   2   2   2   2   2   \n",
              "4    3    2    2      0      0      0   1   2    2    2   2   2   2   2   2   \n",
              "\n",
              "   V8  V9  V10  V11  V12  V13  V14  V15  V16  V17  V18  V19_A  V19_B  IX_TOT  \\\n",
              "0   2   2    2    2    2    2    2    1    1    2    2      2      2       2   \n",
              "1   2   2    2    2    2    2    2    2    1    2    2      2      2       4   \n",
              "2   2   2    2    2    2    1    2    1    1    2    2      2      2       4   \n",
              "3   2   2    2    2    2    2    1    2    1    2    2      2      2       2   \n",
              "4   2   2    2    2    2    1    1    2    1    2    2      2      2       3   \n",
              "\n",
              "   IX_MEN10  IX_MAYEQ10    ITF  VII1_1  VII1_2  VII2_1  VII2_2  VII2_3  \\\n",
              "0         0           2  77500       1       2      98       0       0   \n",
              "1         1           3  85000       2       0      98       0       0   \n",
              "2         0           4  96870       1       2      98       0       0   \n",
              "3         0           2  90000       1       2      98       0       0   \n",
              "4         0           3  92000       2       1      98       0       0   \n",
              "\n",
              "   VII2_4  parentesco  genero  edad  cob_medica  NIVEL_ED  CAT_OCUP  CAT_INAC  \\\n",
              "0       0           1       1    72           1         2         9         1   \n",
              "1       0           1       1    38           1         4         3         0   \n",
              "2       0           1       1    67           1         4         3         0   \n",
              "3       0           1       1    35           1         5         3         0   \n",
              "4       0           1       2    33           1         6         3         0   \n",
              "\n",
              "   AE_ctrol_ind_sum  adulto_equivalente  pobreza  IV9  IV10  IV11  II4_1  \\\n",
              "0              1.50             51667.0        0    1     1     1      1   \n",
              "1              3.13             27157.0        0    1     1     1      1   \n",
              "2              3.33             29090.0        0    1     2     3      1   \n",
              "3              1.77             50847.0        0    1     1     1      1   \n",
              "4              2.54             36220.0        0    1     1     1      1   \n",
              "\n",
              "   II4_2  II4_3  II5  II6  II7  II8  II9  \n",
              "0      1      2    2    2    1    1    1  \n",
              "1      2      2    2    2    6    1    1  \n",
              "2      1      2    2    2    1    1    1  \n",
              "3      2      1    2    2    1    1    1  \n",
              "4      1      1    2    2    1    1    1  "
            ],
            "text/html": [
              "\n",
              "  <div id=\"df-338544ce-1d15-47bd-b533-96bb5d53840e\">\n",
              "    <div class=\"colab-df-container\">\n",
              "      <div>\n",
              "<style scoped>\n",
              "    .dataframe tbody tr th:only-of-type {\n",
              "        vertical-align: middle;\n",
              "    }\n",
              "\n",
              "    .dataframe tbody tr th {\n",
              "        vertical-align: top;\n",
              "    }\n",
              "\n",
              "    .dataframe thead th {\n",
              "        text-align: right;\n",
              "    }\n",
              "</style>\n",
              "<table border=\"1\" class=\"dataframe\">\n",
              "  <thead>\n",
              "    <tr style=\"text-align: right;\">\n",
              "      <th></th>\n",
              "      <th>AGLOMERADO</th>\n",
              "      <th>IV1</th>\n",
              "      <th>IV2</th>\n",
              "      <th>IV3</th>\n",
              "      <th>IV4</th>\n",
              "      <th>IV5</th>\n",
              "      <th>IV6</th>\n",
              "      <th>IV7</th>\n",
              "      <th>IV8</th>\n",
              "      <th>IV12_1</th>\n",
              "      <th>IV12_2</th>\n",
              "      <th>IV12_3</th>\n",
              "      <th>II1</th>\n",
              "      <th>II2</th>\n",
              "      <th>II3</th>\n",
              "      <th>II3_1</th>\n",
              "      <th>II5_1</th>\n",
              "      <th>II6_1</th>\n",
              "      <th>V1</th>\n",
              "      <th>V2</th>\n",
              "      <th>V21</th>\n",
              "      <th>V22</th>\n",
              "      <th>V3</th>\n",
              "      <th>V4</th>\n",
              "      <th>V5</th>\n",
              "      <th>V6</th>\n",
              "      <th>V7</th>\n",
              "      <th>V8</th>\n",
              "      <th>V9</th>\n",
              "      <th>V10</th>\n",
              "      <th>V11</th>\n",
              "      <th>V12</th>\n",
              "      <th>V13</th>\n",
              "      <th>V14</th>\n",
              "      <th>V15</th>\n",
              "      <th>V16</th>\n",
              "      <th>V17</th>\n",
              "      <th>V18</th>\n",
              "      <th>V19_A</th>\n",
              "      <th>V19_B</th>\n",
              "      <th>IX_TOT</th>\n",
              "      <th>IX_MEN10</th>\n",
              "      <th>IX_MAYEQ10</th>\n",
              "      <th>ITF</th>\n",
              "      <th>VII1_1</th>\n",
              "      <th>VII1_2</th>\n",
              "      <th>VII2_1</th>\n",
              "      <th>VII2_2</th>\n",
              "      <th>VII2_3</th>\n",
              "      <th>VII2_4</th>\n",
              "      <th>parentesco</th>\n",
              "      <th>genero</th>\n",
              "      <th>edad</th>\n",
              "      <th>cob_medica</th>\n",
              "      <th>NIVEL_ED</th>\n",
              "      <th>CAT_OCUP</th>\n",
              "      <th>CAT_INAC</th>\n",
              "      <th>AE_ctrol_ind_sum</th>\n",
              "      <th>adulto_equivalente</th>\n",
              "      <th>pobreza</th>\n",
              "      <th>IV9</th>\n",
              "      <th>IV10</th>\n",
              "      <th>IV11</th>\n",
              "      <th>II4_1</th>\n",
              "      <th>II4_2</th>\n",
              "      <th>II4_3</th>\n",
              "      <th>II5</th>\n",
              "      <th>II6</th>\n",
              "      <th>II7</th>\n",
              "      <th>II8</th>\n",
              "      <th>II9</th>\n",
              "    </tr>\n",
              "  </thead>\n",
              "  <tbody>\n",
              "    <tr>\n",
              "      <th>0</th>\n",
              "      <td>93</td>\n",
              "      <td>1</td>\n",
              "      <td>3</td>\n",
              "      <td>1</td>\n",
              "      <td>1</td>\n",
              "      <td>1</td>\n",
              "      <td>1</td>\n",
              "      <td>1</td>\n",
              "      <td>1</td>\n",
              "      <td>2</td>\n",
              "      <td>2</td>\n",
              "      <td>2</td>\n",
              "      <td>3</td>\n",
              "      <td>1</td>\n",
              "      <td>2</td>\n",
              "      <td>0</td>\n",
              "      <td>0</td>\n",
              "      <td>0</td>\n",
              "      <td>2</td>\n",
              "      <td>1</td>\n",
              "      <td>2</td>\n",
              "      <td>2</td>\n",
              "      <td>2</td>\n",
              "      <td>2</td>\n",
              "      <td>2</td>\n",
              "      <td>2</td>\n",
              "      <td>2</td>\n",
              "      <td>2</td>\n",
              "      <td>2</td>\n",
              "      <td>2</td>\n",
              "      <td>2</td>\n",
              "      <td>2</td>\n",
              "      <td>2</td>\n",
              "      <td>2</td>\n",
              "      <td>1</td>\n",
              "      <td>1</td>\n",
              "      <td>2</td>\n",
              "      <td>2</td>\n",
              "      <td>2</td>\n",
              "      <td>2</td>\n",
              "      <td>2</td>\n",
              "      <td>0</td>\n",
              "      <td>2</td>\n",
              "      <td>77500</td>\n",
              "      <td>1</td>\n",
              "      <td>2</td>\n",
              "      <td>98</td>\n",
              "      <td>0</td>\n",
              "      <td>0</td>\n",
              "      <td>0</td>\n",
              "      <td>1</td>\n",
              "      <td>1</td>\n",
              "      <td>72</td>\n",
              "      <td>1</td>\n",
              "      <td>2</td>\n",
              "      <td>9</td>\n",
              "      <td>1</td>\n",
              "      <td>1.50</td>\n",
              "      <td>51667.0</td>\n",
              "      <td>0</td>\n",
              "      <td>1</td>\n",
              "      <td>1</td>\n",
              "      <td>1</td>\n",
              "      <td>1</td>\n",
              "      <td>1</td>\n",
              "      <td>2</td>\n",
              "      <td>2</td>\n",
              "      <td>2</td>\n",
              "      <td>1</td>\n",
              "      <td>1</td>\n",
              "      <td>1</td>\n",
              "    </tr>\n",
              "    <tr>\n",
              "      <th>1</th>\n",
              "      <td>93</td>\n",
              "      <td>2</td>\n",
              "      <td>2</td>\n",
              "      <td>1</td>\n",
              "      <td>4</td>\n",
              "      <td>1</td>\n",
              "      <td>1</td>\n",
              "      <td>1</td>\n",
              "      <td>1</td>\n",
              "      <td>2</td>\n",
              "      <td>2</td>\n",
              "      <td>2</td>\n",
              "      <td>2</td>\n",
              "      <td>2</td>\n",
              "      <td>2</td>\n",
              "      <td>0</td>\n",
              "      <td>0</td>\n",
              "      <td>0</td>\n",
              "      <td>1</td>\n",
              "      <td>2</td>\n",
              "      <td>2</td>\n",
              "      <td>2</td>\n",
              "      <td>2</td>\n",
              "      <td>2</td>\n",
              "      <td>2</td>\n",
              "      <td>2</td>\n",
              "      <td>2</td>\n",
              "      <td>2</td>\n",
              "      <td>2</td>\n",
              "      <td>2</td>\n",
              "      <td>2</td>\n",
              "      <td>2</td>\n",
              "      <td>2</td>\n",
              "      <td>2</td>\n",
              "      <td>2</td>\n",
              "      <td>1</td>\n",
              "      <td>2</td>\n",
              "      <td>2</td>\n",
              "      <td>2</td>\n",
              "      <td>2</td>\n",
              "      <td>4</td>\n",
              "      <td>1</td>\n",
              "      <td>3</td>\n",
              "      <td>85000</td>\n",
              "      <td>2</td>\n",
              "      <td>0</td>\n",
              "      <td>98</td>\n",
              "      <td>0</td>\n",
              "      <td>0</td>\n",
              "      <td>0</td>\n",
              "      <td>1</td>\n",
              "      <td>1</td>\n",
              "      <td>38</td>\n",
              "      <td>1</td>\n",
              "      <td>4</td>\n",
              "      <td>3</td>\n",
              "      <td>0</td>\n",
              "      <td>3.13</td>\n",
              "      <td>27157.0</td>\n",
              "      <td>0</td>\n",
              "      <td>1</td>\n",
              "      <td>1</td>\n",
              "      <td>1</td>\n",
              "      <td>1</td>\n",
              "      <td>2</td>\n",
              "      <td>2</td>\n",
              "      <td>2</td>\n",
              "      <td>2</td>\n",
              "      <td>6</td>\n",
              "      <td>1</td>\n",
              "      <td>1</td>\n",
              "    </tr>\n",
              "    <tr>\n",
              "      <th>2</th>\n",
              "      <td>33</td>\n",
              "      <td>1</td>\n",
              "      <td>3</td>\n",
              "      <td>1</td>\n",
              "      <td>4</td>\n",
              "      <td>1</td>\n",
              "      <td>1</td>\n",
              "      <td>1</td>\n",
              "      <td>1</td>\n",
              "      <td>2</td>\n",
              "      <td>2</td>\n",
              "      <td>2</td>\n",
              "      <td>3</td>\n",
              "      <td>3</td>\n",
              "      <td>2</td>\n",
              "      <td>0</td>\n",
              "      <td>0</td>\n",
              "      <td>0</td>\n",
              "      <td>1</td>\n",
              "      <td>1</td>\n",
              "      <td>2</td>\n",
              "      <td>2</td>\n",
              "      <td>2</td>\n",
              "      <td>2</td>\n",
              "      <td>2</td>\n",
              "      <td>2</td>\n",
              "      <td>2</td>\n",
              "      <td>2</td>\n",
              "      <td>2</td>\n",
              "      <td>2</td>\n",
              "      <td>2</td>\n",
              "      <td>2</td>\n",
              "      <td>1</td>\n",
              "      <td>2</td>\n",
              "      <td>1</td>\n",
              "      <td>1</td>\n",
              "      <td>2</td>\n",
              "      <td>2</td>\n",
              "      <td>2</td>\n",
              "      <td>2</td>\n",
              "      <td>4</td>\n",
              "      <td>0</td>\n",
              "      <td>4</td>\n",
              "      <td>96870</td>\n",
              "      <td>1</td>\n",
              "      <td>2</td>\n",
              "      <td>98</td>\n",
              "      <td>0</td>\n",
              "      <td>0</td>\n",
              "      <td>0</td>\n",
              "      <td>1</td>\n",
              "      <td>1</td>\n",
              "      <td>67</td>\n",
              "      <td>1</td>\n",
              "      <td>4</td>\n",
              "      <td>3</td>\n",
              "      <td>0</td>\n",
              "      <td>3.33</td>\n",
              "      <td>29090.0</td>\n",
              "      <td>0</td>\n",
              "      <td>1</td>\n",
              "      <td>2</td>\n",
              "      <td>3</td>\n",
              "      <td>1</td>\n",
              "      <td>1</td>\n",
              "      <td>2</td>\n",
              "      <td>2</td>\n",
              "      <td>2</td>\n",
              "      <td>1</td>\n",
              "      <td>1</td>\n",
              "      <td>1</td>\n",
              "    </tr>\n",
              "    <tr>\n",
              "      <th>3</th>\n",
              "      <td>33</td>\n",
              "      <td>2</td>\n",
              "      <td>2</td>\n",
              "      <td>1</td>\n",
              "      <td>9</td>\n",
              "      <td>1</td>\n",
              "      <td>1</td>\n",
              "      <td>1</td>\n",
              "      <td>1</td>\n",
              "      <td>2</td>\n",
              "      <td>1</td>\n",
              "      <td>2</td>\n",
              "      <td>2</td>\n",
              "      <td>1</td>\n",
              "      <td>2</td>\n",
              "      <td>0</td>\n",
              "      <td>0</td>\n",
              "      <td>0</td>\n",
              "      <td>1</td>\n",
              "      <td>2</td>\n",
              "      <td>2</td>\n",
              "      <td>2</td>\n",
              "      <td>2</td>\n",
              "      <td>2</td>\n",
              "      <td>2</td>\n",
              "      <td>2</td>\n",
              "      <td>2</td>\n",
              "      <td>2</td>\n",
              "      <td>2</td>\n",
              "      <td>2</td>\n",
              "      <td>2</td>\n",
              "      <td>2</td>\n",
              "      <td>2</td>\n",
              "      <td>1</td>\n",
              "      <td>2</td>\n",
              "      <td>1</td>\n",
              "      <td>2</td>\n",
              "      <td>2</td>\n",
              "      <td>2</td>\n",
              "      <td>2</td>\n",
              "      <td>2</td>\n",
              "      <td>0</td>\n",
              "      <td>2</td>\n",
              "      <td>90000</td>\n",
              "      <td>1</td>\n",
              "      <td>2</td>\n",
              "      <td>98</td>\n",
              "      <td>0</td>\n",
              "      <td>0</td>\n",
              "      <td>0</td>\n",
              "      <td>1</td>\n",
              "      <td>1</td>\n",
              "      <td>35</td>\n",
              "      <td>1</td>\n",
              "      <td>5</td>\n",
              "      <td>3</td>\n",
              "      <td>0</td>\n",
              "      <td>1.77</td>\n",
              "      <td>50847.0</td>\n",
              "      <td>0</td>\n",
              "      <td>1</td>\n",
              "      <td>1</td>\n",
              "      <td>1</td>\n",
              "      <td>1</td>\n",
              "      <td>2</td>\n",
              "      <td>1</td>\n",
              "      <td>2</td>\n",
              "      <td>2</td>\n",
              "      <td>1</td>\n",
              "      <td>1</td>\n",
              "      <td>1</td>\n",
              "    </tr>\n",
              "    <tr>\n",
              "      <th>4</th>\n",
              "      <td>33</td>\n",
              "      <td>1</td>\n",
              "      <td>3</td>\n",
              "      <td>1</td>\n",
              "      <td>1</td>\n",
              "      <td>1</td>\n",
              "      <td>1</td>\n",
              "      <td>1</td>\n",
              "      <td>1</td>\n",
              "      <td>2</td>\n",
              "      <td>2</td>\n",
              "      <td>2</td>\n",
              "      <td>3</td>\n",
              "      <td>2</td>\n",
              "      <td>2</td>\n",
              "      <td>0</td>\n",
              "      <td>0</td>\n",
              "      <td>0</td>\n",
              "      <td>1</td>\n",
              "      <td>2</td>\n",
              "      <td>2</td>\n",
              "      <td>2</td>\n",
              "      <td>2</td>\n",
              "      <td>2</td>\n",
              "      <td>2</td>\n",
              "      <td>2</td>\n",
              "      <td>2</td>\n",
              "      <td>2</td>\n",
              "      <td>2</td>\n",
              "      <td>2</td>\n",
              "      <td>2</td>\n",
              "      <td>2</td>\n",
              "      <td>1</td>\n",
              "      <td>1</td>\n",
              "      <td>2</td>\n",
              "      <td>1</td>\n",
              "      <td>2</td>\n",
              "      <td>2</td>\n",
              "      <td>2</td>\n",
              "      <td>2</td>\n",
              "      <td>3</td>\n",
              "      <td>0</td>\n",
              "      <td>3</td>\n",
              "      <td>92000</td>\n",
              "      <td>2</td>\n",
              "      <td>1</td>\n",
              "      <td>98</td>\n",
              "      <td>0</td>\n",
              "      <td>0</td>\n",
              "      <td>0</td>\n",
              "      <td>1</td>\n",
              "      <td>2</td>\n",
              "      <td>33</td>\n",
              "      <td>1</td>\n",
              "      <td>6</td>\n",
              "      <td>3</td>\n",
              "      <td>0</td>\n",
              "      <td>2.54</td>\n",
              "      <td>36220.0</td>\n",
              "      <td>0</td>\n",
              "      <td>1</td>\n",
              "      <td>1</td>\n",
              "      <td>1</td>\n",
              "      <td>1</td>\n",
              "      <td>1</td>\n",
              "      <td>1</td>\n",
              "      <td>2</td>\n",
              "      <td>2</td>\n",
              "      <td>1</td>\n",
              "      <td>1</td>\n",
              "      <td>1</td>\n",
              "    </tr>\n",
              "  </tbody>\n",
              "</table>\n",
              "</div>\n",
              "      <button class=\"colab-df-convert\" onclick=\"convertToInteractive('df-338544ce-1d15-47bd-b533-96bb5d53840e')\"\n",
              "              title=\"Convert this dataframe to an interactive table.\"\n",
              "              style=\"display:none;\">\n",
              "        \n",
              "  <svg xmlns=\"http://www.w3.org/2000/svg\" height=\"24px\"viewBox=\"0 0 24 24\"\n",
              "       width=\"24px\">\n",
              "    <path d=\"M0 0h24v24H0V0z\" fill=\"none\"/>\n",
              "    <path d=\"M18.56 5.44l.94 2.06.94-2.06 2.06-.94-2.06-.94-.94-2.06-.94 2.06-2.06.94zm-11 1L8.5 8.5l.94-2.06 2.06-.94-2.06-.94L8.5 2.5l-.94 2.06-2.06.94zm10 10l.94 2.06.94-2.06 2.06-.94-2.06-.94-.94-2.06-.94 2.06-2.06.94z\"/><path d=\"M17.41 7.96l-1.37-1.37c-.4-.4-.92-.59-1.43-.59-.52 0-1.04.2-1.43.59L10.3 9.45l-7.72 7.72c-.78.78-.78 2.05 0 2.83L4 21.41c.39.39.9.59 1.41.59.51 0 1.02-.2 1.41-.59l7.78-7.78 2.81-2.81c.8-.78.8-2.07 0-2.86zM5.41 20L4 18.59l7.72-7.72 1.47 1.35L5.41 20z\"/>\n",
              "  </svg>\n",
              "      </button>\n",
              "      \n",
              "  <style>\n",
              "    .colab-df-container {\n",
              "      display:flex;\n",
              "      flex-wrap:wrap;\n",
              "      gap: 12px;\n",
              "    }\n",
              "\n",
              "    .colab-df-convert {\n",
              "      background-color: #E8F0FE;\n",
              "      border: none;\n",
              "      border-radius: 50%;\n",
              "      cursor: pointer;\n",
              "      display: none;\n",
              "      fill: #1967D2;\n",
              "      height: 32px;\n",
              "      padding: 0 0 0 0;\n",
              "      width: 32px;\n",
              "    }\n",
              "\n",
              "    .colab-df-convert:hover {\n",
              "      background-color: #E2EBFA;\n",
              "      box-shadow: 0px 1px 2px rgba(60, 64, 67, 0.3), 0px 1px 3px 1px rgba(60, 64, 67, 0.15);\n",
              "      fill: #174EA6;\n",
              "    }\n",
              "\n",
              "    [theme=dark] .colab-df-convert {\n",
              "      background-color: #3B4455;\n",
              "      fill: #D2E3FC;\n",
              "    }\n",
              "\n",
              "    [theme=dark] .colab-df-convert:hover {\n",
              "      background-color: #434B5C;\n",
              "      box-shadow: 0px 1px 3px 1px rgba(0, 0, 0, 0.15);\n",
              "      filter: drop-shadow(0px 1px 2px rgba(0, 0, 0, 0.3));\n",
              "      fill: #FFFFFF;\n",
              "    }\n",
              "  </style>\n",
              "\n",
              "      <script>\n",
              "        const buttonEl =\n",
              "          document.querySelector('#df-338544ce-1d15-47bd-b533-96bb5d53840e button.colab-df-convert');\n",
              "        buttonEl.style.display =\n",
              "          google.colab.kernel.accessAllowed ? 'block' : 'none';\n",
              "\n",
              "        async function convertToInteractive(key) {\n",
              "          const element = document.querySelector('#df-338544ce-1d15-47bd-b533-96bb5d53840e');\n",
              "          const dataTable =\n",
              "            await google.colab.kernel.invokeFunction('convertToInteractive',\n",
              "                                                     [key], {});\n",
              "          if (!dataTable) return;\n",
              "\n",
              "          const docLinkHtml = 'Like what you see? Visit the ' +\n",
              "            '<a target=\"_blank\" href=https://colab.research.google.com/notebooks/data_table.ipynb>data table notebook</a>'\n",
              "            + ' to learn more about interactive tables.';\n",
              "          element.innerHTML = '';\n",
              "          dataTable['output_type'] = 'display_data';\n",
              "          await google.colab.output.renderOutput(dataTable, element);\n",
              "          const docLink = document.createElement('div');\n",
              "          docLink.innerHTML = docLinkHtml;\n",
              "          element.appendChild(docLink);\n",
              "        }\n",
              "      </script>\n",
              "    </div>\n",
              "  </div>\n",
              "  "
            ]
          },
          "metadata": {},
          "execution_count": 86
        }
      ]
    },
    {
      "cell_type": "code",
      "source": [
        "#creamos la variable objetivo\n",
        "df['pobreza'].value_counts()"
      ],
      "metadata": {
        "colab": {
          "base_uri": "https://localhost:8080/"
        },
        "id": "FnekUpDzhFfn",
        "outputId": "e1d02cec-e153-475e-d082-4d07e6861439"
      },
      "execution_count": 87,
      "outputs": [
        {
          "output_type": "execute_result",
          "data": {
            "text/plain": [
              "0    9197\n",
              "1    4258\n",
              "Name: pobreza, dtype: int64"
            ]
          },
          "metadata": {},
          "execution_count": 87
        }
      ]
    },
    {
      "cell_type": "code",
      "source": [
        "X = df.drop(['pobreza'], axis=1)\n",
        "\n",
        "y = df['pobreza']"
      ],
      "metadata": {
        "id": "lCiwOAM4h98B"
      },
      "execution_count": 88,
      "outputs": []
    },
    {
      "cell_type": "code",
      "source": [
        "# split X and y into training and testing sets\n",
        "\n",
        "from sklearn.model_selection import train_test_split\n",
        "\n",
        "X_train, X_test, y_train, y_test = train_test_split(X, y, test_size = 0.3, random_state = 0)"
      ],
      "metadata": {
        "id": "uEFsPGS8iMe3"
      },
      "execution_count": 89,
      "outputs": []
    },
    {
      "cell_type": "code",
      "source": [
        "# check the shape of X_train and X_test\n",
        "\n",
        "X_train.shape, X_test.shape"
      ],
      "metadata": {
        "colab": {
          "base_uri": "https://localhost:8080/"
        },
        "id": "ZOaJed4SiQwm",
        "outputId": "752edf9d-f52a-4f38-ca9f-2ac15c9c688b"
      },
      "execution_count": 90,
      "outputs": [
        {
          "output_type": "execute_result",
          "data": {
            "text/plain": [
              "((9418, 70), (4037, 70))"
            ]
          },
          "metadata": {},
          "execution_count": 90
        }
      ]
    },
    {
      "cell_type": "code",
      "source": [
        "cols = X_train.columns"
      ],
      "metadata": {
        "id": "dzxPbSKLiUgo"
      },
      "execution_count": 91,
      "outputs": []
    },
    {
      "cell_type": "code",
      "source": [
        "from sklearn.preprocessing import MinMaxScaler\n",
        "\n",
        "scaler = MinMaxScaler()\n",
        "\n",
        "X_train = scaler.fit_transform(X_train)\n",
        "\n",
        "X_test = scaler.transform(X_test)"
      ],
      "metadata": {
        "id": "zAIHRZA0iXvW"
      },
      "execution_count": 92,
      "outputs": []
    },
    {
      "cell_type": "code",
      "source": [
        "X_train = pd.DataFrame(X_train, columns=[cols])"
      ],
      "metadata": {
        "id": "0ehsy1xVidH2"
      },
      "execution_count": 93,
      "outputs": []
    },
    {
      "cell_type": "code",
      "source": [
        "X_test = pd.DataFrame(X_test, columns=[cols])"
      ],
      "metadata": {
        "id": "En0VGKPaieUw"
      },
      "execution_count": 94,
      "outputs": []
    },
    {
      "cell_type": "code",
      "source": [
        "X_train.describe()"
      ],
      "metadata": {
        "colab": {
          "base_uri": "https://localhost:8080/",
          "height": 364
        },
        "id": "BNxkEZQUigiy",
        "outputId": "b00624fb-8aaa-40e6-8a03-2ee80590c23e"
      },
      "execution_count": 95,
      "outputs": [
        {
          "output_type": "execute_result",
          "data": {
            "text/plain": [
              "        AGLOMERADO          IV1          IV2          IV3          IV4  \\\n",
              "count  9418.000000  9418.000000  9418.000000  9418.000000  9418.000000   \n",
              "mean      0.246373     0.040476     0.225195     0.039888     0.238612   \n",
              "std       0.217203     0.093730     0.130666     0.117902     0.250066   \n",
              "min       0.000000     0.000000     0.000000     0.000000     0.000000   \n",
              "25%       0.109890     0.000000     0.111111     0.000000     0.000000   \n",
              "50%       0.219780     0.000000     0.222222     0.000000     0.125000   \n",
              "75%       0.329670     0.000000     0.333333     0.000000     0.375000   \n",
              "max       1.000000     1.000000     1.000000     1.000000     1.000000   \n",
              "\n",
              "               IV5          IV6          IV7          IV8       IV12_1  \\\n",
              "count  9418.000000  9418.000000  9418.000000  9418.000000  9418.000000   \n",
              "mean      0.134954     0.010830     0.010724     0.002867     0.942238   \n",
              "std       0.341693     0.079083     0.066006     0.053469     0.233305   \n",
              "min       0.000000     0.000000     0.000000     0.000000     0.000000   \n",
              "25%       0.000000     0.000000     0.000000     0.000000     1.000000   \n",
              "50%       0.000000     0.000000     0.000000     0.000000     1.000000   \n",
              "75%       0.000000     0.000000     0.000000     0.000000     1.000000   \n",
              "max       1.000000     1.000000     1.000000     1.000000     1.000000   \n",
              "\n",
              "            IV12_2       IV12_3          II1          II2          II3  \\\n",
              "count  9418.000000  9418.000000  9418.000000  9418.000000  9418.000000   \n",
              "mean      0.942026     0.992249     0.220806     0.264114     0.971491   \n",
              "std       0.233707     0.087703     0.130410     0.121330     0.117763   \n",
              "min       0.000000     0.000000     0.000000     0.000000     0.000000   \n",
              "25%       1.000000     1.000000     0.111111     0.142857     1.000000   \n",
              "50%       1.000000     1.000000     0.222222     0.285714     1.000000   \n",
              "75%       1.000000     1.000000     0.333333     0.285714     1.000000   \n",
              "max       1.000000     1.000000     1.000000     1.000000     1.000000   \n",
              "\n",
              "             II3_1        II5_1        II6_1           V1           V2  \\\n",
              "count  9418.000000  9418.000000  9418.000000  9418.000000  9418.000000   \n",
              "mean      0.019042     0.003345     0.003646     0.027700     0.074034   \n",
              "std       0.080062     0.044496     0.038538     0.052805     0.062182   \n",
              "min       0.000000     0.000000     0.000000     0.000000     0.000000   \n",
              "25%       0.000000     0.000000     0.000000     0.000000     0.000000   \n",
              "50%       0.000000     0.000000     0.000000     0.000000     0.125000   \n",
              "75%       0.000000     0.000000     0.000000     0.000000     0.125000   \n",
              "max       1.000000     1.000000     1.000000     1.000000     1.000000   \n",
              "\n",
              "               V21          V22           V3           V4           V5  \\\n",
              "count  9418.000000  9418.000000  9418.000000  9418.000000  9418.000000   \n",
              "mean      0.994054     0.992567     0.124854     0.124562     0.104600   \n",
              "std       0.076885     0.085896     0.010543     0.012144     0.047191   \n",
              "min       0.000000     0.000000     0.000000     0.000000     0.000000   \n",
              "25%       1.000000     1.000000     0.125000     0.125000     0.125000   \n",
              "50%       1.000000     1.000000     0.125000     0.125000     0.125000   \n",
              "75%       1.000000     1.000000     0.125000     0.125000     0.125000   \n",
              "max       1.000000     1.000000     1.000000     1.000000     1.000000   \n",
              "\n",
              "                V6           V7           V8           V9          V10  \\\n",
              "count  9418.000000  9418.000000  9418.000000  9418.000000  9418.000000   \n",
              "mean      0.117859     0.113294     0.122093     0.124867     0.124323   \n",
              "std       0.030571     0.037674     0.021162     0.010464     0.013307   \n",
              "min       0.000000     0.000000     0.000000     0.000000     0.000000   \n",
              "25%       0.125000     0.125000     0.125000     0.125000     0.125000   \n",
              "50%       0.125000     0.125000     0.125000     0.125000     0.125000   \n",
              "75%       0.125000     0.125000     0.125000     0.125000     0.125000   \n",
              "max       1.000000     1.000000     1.000000     1.000000     1.000000   \n",
              "\n",
              "               V11          V12          V13          V14          V15  \\\n",
              "count  9418.000000  9418.000000  9418.000000  9418.000000  9418.000000   \n",
              "mean      0.121854     0.114103     0.089350     0.107281     0.109272   \n",
              "std       0.021823     0.036557     0.057259     0.044654     0.042564   \n",
              "min       0.000000     0.000000     0.000000     0.000000     0.000000   \n",
              "25%       0.125000     0.125000     0.000000     0.125000     0.125000   \n",
              "50%       0.125000     0.125000     0.125000     0.125000     0.125000   \n",
              "75%       0.125000     0.125000     0.125000     0.125000     0.125000   \n",
              "max       1.000000     1.000000     1.000000     1.000000     1.000000   \n",
              "\n",
              "               V16          V17          V18        V19_A        V19_B  \\\n",
              "count  9418.000000  9418.000000  9418.000000  9418.000000  9418.000000   \n",
              "mean      0.060562     0.112497     0.124894     0.000106     0.125066   \n",
              "std       0.063213     0.038724     0.010304     0.010304     0.009199   \n",
              "min       0.000000     0.000000     0.000000     0.000000     0.000000   \n",
              "25%       0.000000     0.125000     0.125000     0.000000     0.125000   \n",
              "50%       0.000000     0.125000     0.125000     0.000000     0.125000   \n",
              "75%       0.125000     0.125000     0.125000     0.000000     0.125000   \n",
              "max       1.000000     1.000000     1.000000     1.000000     1.000000   \n",
              "\n",
              "            IX_TOT     IX_MEN10   IX_MAYEQ10          ITF       VII1_1  \\\n",
              "count  9418.000000  9418.000000  9418.000000  9418.000000  9418.000000   \n",
              "mean      0.148219     0.079019     0.139250     0.021295     0.040449   \n",
              "std       0.130465     0.148517     0.124870     0.020165     0.185457   \n",
              "min       0.000000     0.000000     0.000000     0.000000     0.000000   \n",
              "25%       0.076923     0.000000     0.090909     0.010932     0.000000   \n",
              "50%       0.153846     0.000000     0.090909     0.017129     0.000000   \n",
              "75%       0.230769     0.200000     0.181818     0.026797     0.010309   \n",
              "max       1.000000     1.000000     1.000000     1.000000     1.000000   \n",
              "\n",
              "            VII1_2       VII2_1       VII2_2       VII2_3       VII2_4  \\\n",
              "count  9418.000000  9418.000000  9418.000000  9418.000000  9418.000000   \n",
              "mean      0.006516     0.704007     0.004183     0.000971     0.001097   \n",
              "std       0.032253     0.451709     0.036732     0.012109     0.026312   \n",
              "min       0.000000     0.000000     0.000000     0.000000     0.000000   \n",
              "25%       0.000000     0.020619     0.000000     0.000000     0.000000   \n",
              "50%       0.000000     1.000000     0.000000     0.000000     0.000000   \n",
              "75%       0.000000     1.000000     0.000000     0.000000     0.000000   \n",
              "max       1.000000     1.000000     1.000000     1.000000     1.000000   \n",
              "\n",
              "      parentesco       genero         edad   cob_medica     NIVEL_ED  \\\n",
              "count     9418.0  9418.000000  9418.000000  9418.000000  9418.000000   \n",
              "mean         0.0     0.472181     0.424442     0.042588     0.461404   \n",
              "std          0.0     0.499252     0.201492     0.088093     0.265660   \n",
              "min          0.0     0.000000     0.000000     0.000000     0.000000   \n",
              "25%          0.0     0.000000     0.265060     0.000000     0.166667   \n",
              "50%          0.0     0.000000     0.409639     0.000000     0.500000   \n",
              "75%          0.0     1.000000     0.578313     0.090909     0.666667   \n",
              "max          0.0     1.000000     1.000000     1.000000     1.000000   \n",
              "\n",
              "          CAT_OCUP     CAT_INAC AE_ctrol_ind_sum adulto_equivalente  \\\n",
              "count  9418.000000  9418.000000      9418.000000        9418.000000   \n",
              "mean      0.496775     0.078421         0.161026           0.021435   \n",
              "std       0.384550     0.146282         0.127591           0.022572   \n",
              "min       0.000000     0.000000         0.000000           0.000000   \n",
              "25%       0.250000     0.000000         0.072829           0.009947   \n",
              "50%       0.250000     0.000000         0.140990           0.016309   \n",
              "75%       1.000000     0.142857         0.239963           0.026596   \n",
              "max       1.000000     1.000000         1.000000           1.000000   \n",
              "\n",
              "               IV9         IV10         IV11        II4_1        II4_2  \\\n",
              "count  9418.000000  9418.000000  9418.000000  9418.000000  9418.000000   \n",
              "mean      0.015131     0.019749     0.084094     0.087280     0.551709   \n",
              "std       0.085967     0.101923     0.180150     0.282259     0.497345   \n",
              "min       0.000000     0.000000     0.000000     0.000000     0.000000   \n",
              "25%       0.000000     0.000000     0.000000     0.000000     0.000000   \n",
              "50%       0.000000     0.000000     0.000000     0.000000     1.000000   \n",
              "75%       0.000000     0.000000     0.000000     0.000000     1.000000   \n",
              "max       1.000000     1.000000     1.000000     1.000000     1.000000   \n",
              "\n",
              "             II4_3          II5          II6          II7          II8  \\\n",
              "count  9418.000000  9418.000000  9418.000000  9418.000000  9418.000000   \n",
              "mean      0.680824     0.993948     0.990019     0.117979     0.129150   \n",
              "std       0.466182     0.077564     0.099410     0.200777     0.177399   \n",
              "min       0.000000     0.000000     0.000000     0.000000     0.000000   \n",
              "25%       0.000000     1.000000     1.000000     0.000000     0.000000   \n",
              "50%       1.000000     1.000000     1.000000     0.000000     0.000000   \n",
              "75%       1.000000     1.000000     1.000000     0.250000     0.333333   \n",
              "max       1.000000     1.000000     1.000000     1.000000     1.000000   \n",
              "\n",
              "               II9  \n",
              "count  9418.000000  \n",
              "mean      0.013308  \n",
              "std       0.089770  \n",
              "min       0.000000  \n",
              "25%       0.000000  \n",
              "50%       0.000000  \n",
              "75%       0.000000  \n",
              "max       1.000000  "
            ],
            "text/html": [
              "\n",
              "  <div id=\"df-70abf24d-f9b5-4805-8d00-d80892cff530\">\n",
              "    <div class=\"colab-df-container\">\n",
              "      <div>\n",
              "<style scoped>\n",
              "    .dataframe tbody tr th:only-of-type {\n",
              "        vertical-align: middle;\n",
              "    }\n",
              "\n",
              "    .dataframe tbody tr th {\n",
              "        vertical-align: top;\n",
              "    }\n",
              "\n",
              "    .dataframe thead tr th {\n",
              "        text-align: left;\n",
              "    }\n",
              "</style>\n",
              "<table border=\"1\" class=\"dataframe\">\n",
              "  <thead>\n",
              "    <tr>\n",
              "      <th></th>\n",
              "      <th>AGLOMERADO</th>\n",
              "      <th>IV1</th>\n",
              "      <th>IV2</th>\n",
              "      <th>IV3</th>\n",
              "      <th>IV4</th>\n",
              "      <th>IV5</th>\n",
              "      <th>IV6</th>\n",
              "      <th>IV7</th>\n",
              "      <th>IV8</th>\n",
              "      <th>IV12_1</th>\n",
              "      <th>IV12_2</th>\n",
              "      <th>IV12_3</th>\n",
              "      <th>II1</th>\n",
              "      <th>II2</th>\n",
              "      <th>II3</th>\n",
              "      <th>II3_1</th>\n",
              "      <th>II5_1</th>\n",
              "      <th>II6_1</th>\n",
              "      <th>V1</th>\n",
              "      <th>V2</th>\n",
              "      <th>V21</th>\n",
              "      <th>V22</th>\n",
              "      <th>V3</th>\n",
              "      <th>V4</th>\n",
              "      <th>V5</th>\n",
              "      <th>V6</th>\n",
              "      <th>V7</th>\n",
              "      <th>V8</th>\n",
              "      <th>V9</th>\n",
              "      <th>V10</th>\n",
              "      <th>V11</th>\n",
              "      <th>V12</th>\n",
              "      <th>V13</th>\n",
              "      <th>V14</th>\n",
              "      <th>V15</th>\n",
              "      <th>V16</th>\n",
              "      <th>V17</th>\n",
              "      <th>V18</th>\n",
              "      <th>V19_A</th>\n",
              "      <th>V19_B</th>\n",
              "      <th>IX_TOT</th>\n",
              "      <th>IX_MEN10</th>\n",
              "      <th>IX_MAYEQ10</th>\n",
              "      <th>ITF</th>\n",
              "      <th>VII1_1</th>\n",
              "      <th>VII1_2</th>\n",
              "      <th>VII2_1</th>\n",
              "      <th>VII2_2</th>\n",
              "      <th>VII2_3</th>\n",
              "      <th>VII2_4</th>\n",
              "      <th>parentesco</th>\n",
              "      <th>genero</th>\n",
              "      <th>edad</th>\n",
              "      <th>cob_medica</th>\n",
              "      <th>NIVEL_ED</th>\n",
              "      <th>CAT_OCUP</th>\n",
              "      <th>CAT_INAC</th>\n",
              "      <th>AE_ctrol_ind_sum</th>\n",
              "      <th>adulto_equivalente</th>\n",
              "      <th>IV9</th>\n",
              "      <th>IV10</th>\n",
              "      <th>IV11</th>\n",
              "      <th>II4_1</th>\n",
              "      <th>II4_2</th>\n",
              "      <th>II4_3</th>\n",
              "      <th>II5</th>\n",
              "      <th>II6</th>\n",
              "      <th>II7</th>\n",
              "      <th>II8</th>\n",
              "      <th>II9</th>\n",
              "    </tr>\n",
              "  </thead>\n",
              "  <tbody>\n",
              "    <tr>\n",
              "      <th>count</th>\n",
              "      <td>9418.000000</td>\n",
              "      <td>9418.000000</td>\n",
              "      <td>9418.000000</td>\n",
              "      <td>9418.000000</td>\n",
              "      <td>9418.000000</td>\n",
              "      <td>9418.000000</td>\n",
              "      <td>9418.000000</td>\n",
              "      <td>9418.000000</td>\n",
              "      <td>9418.000000</td>\n",
              "      <td>9418.000000</td>\n",
              "      <td>9418.000000</td>\n",
              "      <td>9418.000000</td>\n",
              "      <td>9418.000000</td>\n",
              "      <td>9418.000000</td>\n",
              "      <td>9418.000000</td>\n",
              "      <td>9418.000000</td>\n",
              "      <td>9418.000000</td>\n",
              "      <td>9418.000000</td>\n",
              "      <td>9418.000000</td>\n",
              "      <td>9418.000000</td>\n",
              "      <td>9418.000000</td>\n",
              "      <td>9418.000000</td>\n",
              "      <td>9418.000000</td>\n",
              "      <td>9418.000000</td>\n",
              "      <td>9418.000000</td>\n",
              "      <td>9418.000000</td>\n",
              "      <td>9418.000000</td>\n",
              "      <td>9418.000000</td>\n",
              "      <td>9418.000000</td>\n",
              "      <td>9418.000000</td>\n",
              "      <td>9418.000000</td>\n",
              "      <td>9418.000000</td>\n",
              "      <td>9418.000000</td>\n",
              "      <td>9418.000000</td>\n",
              "      <td>9418.000000</td>\n",
              "      <td>9418.000000</td>\n",
              "      <td>9418.000000</td>\n",
              "      <td>9418.000000</td>\n",
              "      <td>9418.000000</td>\n",
              "      <td>9418.000000</td>\n",
              "      <td>9418.000000</td>\n",
              "      <td>9418.000000</td>\n",
              "      <td>9418.000000</td>\n",
              "      <td>9418.000000</td>\n",
              "      <td>9418.000000</td>\n",
              "      <td>9418.000000</td>\n",
              "      <td>9418.000000</td>\n",
              "      <td>9418.000000</td>\n",
              "      <td>9418.000000</td>\n",
              "      <td>9418.000000</td>\n",
              "      <td>9418.0</td>\n",
              "      <td>9418.000000</td>\n",
              "      <td>9418.000000</td>\n",
              "      <td>9418.000000</td>\n",
              "      <td>9418.000000</td>\n",
              "      <td>9418.000000</td>\n",
              "      <td>9418.000000</td>\n",
              "      <td>9418.000000</td>\n",
              "      <td>9418.000000</td>\n",
              "      <td>9418.000000</td>\n",
              "      <td>9418.000000</td>\n",
              "      <td>9418.000000</td>\n",
              "      <td>9418.000000</td>\n",
              "      <td>9418.000000</td>\n",
              "      <td>9418.000000</td>\n",
              "      <td>9418.000000</td>\n",
              "      <td>9418.000000</td>\n",
              "      <td>9418.000000</td>\n",
              "      <td>9418.000000</td>\n",
              "      <td>9418.000000</td>\n",
              "    </tr>\n",
              "    <tr>\n",
              "      <th>mean</th>\n",
              "      <td>0.246373</td>\n",
              "      <td>0.040476</td>\n",
              "      <td>0.225195</td>\n",
              "      <td>0.039888</td>\n",
              "      <td>0.238612</td>\n",
              "      <td>0.134954</td>\n",
              "      <td>0.010830</td>\n",
              "      <td>0.010724</td>\n",
              "      <td>0.002867</td>\n",
              "      <td>0.942238</td>\n",
              "      <td>0.942026</td>\n",
              "      <td>0.992249</td>\n",
              "      <td>0.220806</td>\n",
              "      <td>0.264114</td>\n",
              "      <td>0.971491</td>\n",
              "      <td>0.019042</td>\n",
              "      <td>0.003345</td>\n",
              "      <td>0.003646</td>\n",
              "      <td>0.027700</td>\n",
              "      <td>0.074034</td>\n",
              "      <td>0.994054</td>\n",
              "      <td>0.992567</td>\n",
              "      <td>0.124854</td>\n",
              "      <td>0.124562</td>\n",
              "      <td>0.104600</td>\n",
              "      <td>0.117859</td>\n",
              "      <td>0.113294</td>\n",
              "      <td>0.122093</td>\n",
              "      <td>0.124867</td>\n",
              "      <td>0.124323</td>\n",
              "      <td>0.121854</td>\n",
              "      <td>0.114103</td>\n",
              "      <td>0.089350</td>\n",
              "      <td>0.107281</td>\n",
              "      <td>0.109272</td>\n",
              "      <td>0.060562</td>\n",
              "      <td>0.112497</td>\n",
              "      <td>0.124894</td>\n",
              "      <td>0.000106</td>\n",
              "      <td>0.125066</td>\n",
              "      <td>0.148219</td>\n",
              "      <td>0.079019</td>\n",
              "      <td>0.139250</td>\n",
              "      <td>0.021295</td>\n",
              "      <td>0.040449</td>\n",
              "      <td>0.006516</td>\n",
              "      <td>0.704007</td>\n",
              "      <td>0.004183</td>\n",
              "      <td>0.000971</td>\n",
              "      <td>0.001097</td>\n",
              "      <td>0.0</td>\n",
              "      <td>0.472181</td>\n",
              "      <td>0.424442</td>\n",
              "      <td>0.042588</td>\n",
              "      <td>0.461404</td>\n",
              "      <td>0.496775</td>\n",
              "      <td>0.078421</td>\n",
              "      <td>0.161026</td>\n",
              "      <td>0.021435</td>\n",
              "      <td>0.015131</td>\n",
              "      <td>0.019749</td>\n",
              "      <td>0.084094</td>\n",
              "      <td>0.087280</td>\n",
              "      <td>0.551709</td>\n",
              "      <td>0.680824</td>\n",
              "      <td>0.993948</td>\n",
              "      <td>0.990019</td>\n",
              "      <td>0.117979</td>\n",
              "      <td>0.129150</td>\n",
              "      <td>0.013308</td>\n",
              "    </tr>\n",
              "    <tr>\n",
              "      <th>std</th>\n",
              "      <td>0.217203</td>\n",
              "      <td>0.093730</td>\n",
              "      <td>0.130666</td>\n",
              "      <td>0.117902</td>\n",
              "      <td>0.250066</td>\n",
              "      <td>0.341693</td>\n",
              "      <td>0.079083</td>\n",
              "      <td>0.066006</td>\n",
              "      <td>0.053469</td>\n",
              "      <td>0.233305</td>\n",
              "      <td>0.233707</td>\n",
              "      <td>0.087703</td>\n",
              "      <td>0.130410</td>\n",
              "      <td>0.121330</td>\n",
              "      <td>0.117763</td>\n",
              "      <td>0.080062</td>\n",
              "      <td>0.044496</td>\n",
              "      <td>0.038538</td>\n",
              "      <td>0.052805</td>\n",
              "      <td>0.062182</td>\n",
              "      <td>0.076885</td>\n",
              "      <td>0.085896</td>\n",
              "      <td>0.010543</td>\n",
              "      <td>0.012144</td>\n",
              "      <td>0.047191</td>\n",
              "      <td>0.030571</td>\n",
              "      <td>0.037674</td>\n",
              "      <td>0.021162</td>\n",
              "      <td>0.010464</td>\n",
              "      <td>0.013307</td>\n",
              "      <td>0.021823</td>\n",
              "      <td>0.036557</td>\n",
              "      <td>0.057259</td>\n",
              "      <td>0.044654</td>\n",
              "      <td>0.042564</td>\n",
              "      <td>0.063213</td>\n",
              "      <td>0.038724</td>\n",
              "      <td>0.010304</td>\n",
              "      <td>0.010304</td>\n",
              "      <td>0.009199</td>\n",
              "      <td>0.130465</td>\n",
              "      <td>0.148517</td>\n",
              "      <td>0.124870</td>\n",
              "      <td>0.020165</td>\n",
              "      <td>0.185457</td>\n",
              "      <td>0.032253</td>\n",
              "      <td>0.451709</td>\n",
              "      <td>0.036732</td>\n",
              "      <td>0.012109</td>\n",
              "      <td>0.026312</td>\n",
              "      <td>0.0</td>\n",
              "      <td>0.499252</td>\n",
              "      <td>0.201492</td>\n",
              "      <td>0.088093</td>\n",
              "      <td>0.265660</td>\n",
              "      <td>0.384550</td>\n",
              "      <td>0.146282</td>\n",
              "      <td>0.127591</td>\n",
              "      <td>0.022572</td>\n",
              "      <td>0.085967</td>\n",
              "      <td>0.101923</td>\n",
              "      <td>0.180150</td>\n",
              "      <td>0.282259</td>\n",
              "      <td>0.497345</td>\n",
              "      <td>0.466182</td>\n",
              "      <td>0.077564</td>\n",
              "      <td>0.099410</td>\n",
              "      <td>0.200777</td>\n",
              "      <td>0.177399</td>\n",
              "      <td>0.089770</td>\n",
              "    </tr>\n",
              "    <tr>\n",
              "      <th>min</th>\n",
              "      <td>0.000000</td>\n",
              "      <td>0.000000</td>\n",
              "      <td>0.000000</td>\n",
              "      <td>0.000000</td>\n",
              "      <td>0.000000</td>\n",
              "      <td>0.000000</td>\n",
              "      <td>0.000000</td>\n",
              "      <td>0.000000</td>\n",
              "      <td>0.000000</td>\n",
              "      <td>0.000000</td>\n",
              "      <td>0.000000</td>\n",
              "      <td>0.000000</td>\n",
              "      <td>0.000000</td>\n",
              "      <td>0.000000</td>\n",
              "      <td>0.000000</td>\n",
              "      <td>0.000000</td>\n",
              "      <td>0.000000</td>\n",
              "      <td>0.000000</td>\n",
              "      <td>0.000000</td>\n",
              "      <td>0.000000</td>\n",
              "      <td>0.000000</td>\n",
              "      <td>0.000000</td>\n",
              "      <td>0.000000</td>\n",
              "      <td>0.000000</td>\n",
              "      <td>0.000000</td>\n",
              "      <td>0.000000</td>\n",
              "      <td>0.000000</td>\n",
              "      <td>0.000000</td>\n",
              "      <td>0.000000</td>\n",
              "      <td>0.000000</td>\n",
              "      <td>0.000000</td>\n",
              "      <td>0.000000</td>\n",
              "      <td>0.000000</td>\n",
              "      <td>0.000000</td>\n",
              "      <td>0.000000</td>\n",
              "      <td>0.000000</td>\n",
              "      <td>0.000000</td>\n",
              "      <td>0.000000</td>\n",
              "      <td>0.000000</td>\n",
              "      <td>0.000000</td>\n",
              "      <td>0.000000</td>\n",
              "      <td>0.000000</td>\n",
              "      <td>0.000000</td>\n",
              "      <td>0.000000</td>\n",
              "      <td>0.000000</td>\n",
              "      <td>0.000000</td>\n",
              "      <td>0.000000</td>\n",
              "      <td>0.000000</td>\n",
              "      <td>0.000000</td>\n",
              "      <td>0.000000</td>\n",
              "      <td>0.0</td>\n",
              "      <td>0.000000</td>\n",
              "      <td>0.000000</td>\n",
              "      <td>0.000000</td>\n",
              "      <td>0.000000</td>\n",
              "      <td>0.000000</td>\n",
              "      <td>0.000000</td>\n",
              "      <td>0.000000</td>\n",
              "      <td>0.000000</td>\n",
              "      <td>0.000000</td>\n",
              "      <td>0.000000</td>\n",
              "      <td>0.000000</td>\n",
              "      <td>0.000000</td>\n",
              "      <td>0.000000</td>\n",
              "      <td>0.000000</td>\n",
              "      <td>0.000000</td>\n",
              "      <td>0.000000</td>\n",
              "      <td>0.000000</td>\n",
              "      <td>0.000000</td>\n",
              "      <td>0.000000</td>\n",
              "    </tr>\n",
              "    <tr>\n",
              "      <th>25%</th>\n",
              "      <td>0.109890</td>\n",
              "      <td>0.000000</td>\n",
              "      <td>0.111111</td>\n",
              "      <td>0.000000</td>\n",
              "      <td>0.000000</td>\n",
              "      <td>0.000000</td>\n",
              "      <td>0.000000</td>\n",
              "      <td>0.000000</td>\n",
              "      <td>0.000000</td>\n",
              "      <td>1.000000</td>\n",
              "      <td>1.000000</td>\n",
              "      <td>1.000000</td>\n",
              "      <td>0.111111</td>\n",
              "      <td>0.142857</td>\n",
              "      <td>1.000000</td>\n",
              "      <td>0.000000</td>\n",
              "      <td>0.000000</td>\n",
              "      <td>0.000000</td>\n",
              "      <td>0.000000</td>\n",
              "      <td>0.000000</td>\n",
              "      <td>1.000000</td>\n",
              "      <td>1.000000</td>\n",
              "      <td>0.125000</td>\n",
              "      <td>0.125000</td>\n",
              "      <td>0.125000</td>\n",
              "      <td>0.125000</td>\n",
              "      <td>0.125000</td>\n",
              "      <td>0.125000</td>\n",
              "      <td>0.125000</td>\n",
              "      <td>0.125000</td>\n",
              "      <td>0.125000</td>\n",
              "      <td>0.125000</td>\n",
              "      <td>0.000000</td>\n",
              "      <td>0.125000</td>\n",
              "      <td>0.125000</td>\n",
              "      <td>0.000000</td>\n",
              "      <td>0.125000</td>\n",
              "      <td>0.125000</td>\n",
              "      <td>0.000000</td>\n",
              "      <td>0.125000</td>\n",
              "      <td>0.076923</td>\n",
              "      <td>0.000000</td>\n",
              "      <td>0.090909</td>\n",
              "      <td>0.010932</td>\n",
              "      <td>0.000000</td>\n",
              "      <td>0.000000</td>\n",
              "      <td>0.020619</td>\n",
              "      <td>0.000000</td>\n",
              "      <td>0.000000</td>\n",
              "      <td>0.000000</td>\n",
              "      <td>0.0</td>\n",
              "      <td>0.000000</td>\n",
              "      <td>0.265060</td>\n",
              "      <td>0.000000</td>\n",
              "      <td>0.166667</td>\n",
              "      <td>0.250000</td>\n",
              "      <td>0.000000</td>\n",
              "      <td>0.072829</td>\n",
              "      <td>0.009947</td>\n",
              "      <td>0.000000</td>\n",
              "      <td>0.000000</td>\n",
              "      <td>0.000000</td>\n",
              "      <td>0.000000</td>\n",
              "      <td>0.000000</td>\n",
              "      <td>0.000000</td>\n",
              "      <td>1.000000</td>\n",
              "      <td>1.000000</td>\n",
              "      <td>0.000000</td>\n",
              "      <td>0.000000</td>\n",
              "      <td>0.000000</td>\n",
              "    </tr>\n",
              "    <tr>\n",
              "      <th>50%</th>\n",
              "      <td>0.219780</td>\n",
              "      <td>0.000000</td>\n",
              "      <td>0.222222</td>\n",
              "      <td>0.000000</td>\n",
              "      <td>0.125000</td>\n",
              "      <td>0.000000</td>\n",
              "      <td>0.000000</td>\n",
              "      <td>0.000000</td>\n",
              "      <td>0.000000</td>\n",
              "      <td>1.000000</td>\n",
              "      <td>1.000000</td>\n",
              "      <td>1.000000</td>\n",
              "      <td>0.222222</td>\n",
              "      <td>0.285714</td>\n",
              "      <td>1.000000</td>\n",
              "      <td>0.000000</td>\n",
              "      <td>0.000000</td>\n",
              "      <td>0.000000</td>\n",
              "      <td>0.000000</td>\n",
              "      <td>0.125000</td>\n",
              "      <td>1.000000</td>\n",
              "      <td>1.000000</td>\n",
              "      <td>0.125000</td>\n",
              "      <td>0.125000</td>\n",
              "      <td>0.125000</td>\n",
              "      <td>0.125000</td>\n",
              "      <td>0.125000</td>\n",
              "      <td>0.125000</td>\n",
              "      <td>0.125000</td>\n",
              "      <td>0.125000</td>\n",
              "      <td>0.125000</td>\n",
              "      <td>0.125000</td>\n",
              "      <td>0.125000</td>\n",
              "      <td>0.125000</td>\n",
              "      <td>0.125000</td>\n",
              "      <td>0.000000</td>\n",
              "      <td>0.125000</td>\n",
              "      <td>0.125000</td>\n",
              "      <td>0.000000</td>\n",
              "      <td>0.125000</td>\n",
              "      <td>0.153846</td>\n",
              "      <td>0.000000</td>\n",
              "      <td>0.090909</td>\n",
              "      <td>0.017129</td>\n",
              "      <td>0.000000</td>\n",
              "      <td>0.000000</td>\n",
              "      <td>1.000000</td>\n",
              "      <td>0.000000</td>\n",
              "      <td>0.000000</td>\n",
              "      <td>0.000000</td>\n",
              "      <td>0.0</td>\n",
              "      <td>0.000000</td>\n",
              "      <td>0.409639</td>\n",
              "      <td>0.000000</td>\n",
              "      <td>0.500000</td>\n",
              "      <td>0.250000</td>\n",
              "      <td>0.000000</td>\n",
              "      <td>0.140990</td>\n",
              "      <td>0.016309</td>\n",
              "      <td>0.000000</td>\n",
              "      <td>0.000000</td>\n",
              "      <td>0.000000</td>\n",
              "      <td>0.000000</td>\n",
              "      <td>1.000000</td>\n",
              "      <td>1.000000</td>\n",
              "      <td>1.000000</td>\n",
              "      <td>1.000000</td>\n",
              "      <td>0.000000</td>\n",
              "      <td>0.000000</td>\n",
              "      <td>0.000000</td>\n",
              "    </tr>\n",
              "    <tr>\n",
              "      <th>75%</th>\n",
              "      <td>0.329670</td>\n",
              "      <td>0.000000</td>\n",
              "      <td>0.333333</td>\n",
              "      <td>0.000000</td>\n",
              "      <td>0.375000</td>\n",
              "      <td>0.000000</td>\n",
              "      <td>0.000000</td>\n",
              "      <td>0.000000</td>\n",
              "      <td>0.000000</td>\n",
              "      <td>1.000000</td>\n",
              "      <td>1.000000</td>\n",
              "      <td>1.000000</td>\n",
              "      <td>0.333333</td>\n",
              "      <td>0.285714</td>\n",
              "      <td>1.000000</td>\n",
              "      <td>0.000000</td>\n",
              "      <td>0.000000</td>\n",
              "      <td>0.000000</td>\n",
              "      <td>0.000000</td>\n",
              "      <td>0.125000</td>\n",
              "      <td>1.000000</td>\n",
              "      <td>1.000000</td>\n",
              "      <td>0.125000</td>\n",
              "      <td>0.125000</td>\n",
              "      <td>0.125000</td>\n",
              "      <td>0.125000</td>\n",
              "      <td>0.125000</td>\n",
              "      <td>0.125000</td>\n",
              "      <td>0.125000</td>\n",
              "      <td>0.125000</td>\n",
              "      <td>0.125000</td>\n",
              "      <td>0.125000</td>\n",
              "      <td>0.125000</td>\n",
              "      <td>0.125000</td>\n",
              "      <td>0.125000</td>\n",
              "      <td>0.125000</td>\n",
              "      <td>0.125000</td>\n",
              "      <td>0.125000</td>\n",
              "      <td>0.000000</td>\n",
              "      <td>0.125000</td>\n",
              "      <td>0.230769</td>\n",
              "      <td>0.200000</td>\n",
              "      <td>0.181818</td>\n",
              "      <td>0.026797</td>\n",
              "      <td>0.010309</td>\n",
              "      <td>0.000000</td>\n",
              "      <td>1.000000</td>\n",
              "      <td>0.000000</td>\n",
              "      <td>0.000000</td>\n",
              "      <td>0.000000</td>\n",
              "      <td>0.0</td>\n",
              "      <td>1.000000</td>\n",
              "      <td>0.578313</td>\n",
              "      <td>0.090909</td>\n",
              "      <td>0.666667</td>\n",
              "      <td>1.000000</td>\n",
              "      <td>0.142857</td>\n",
              "      <td>0.239963</td>\n",
              "      <td>0.026596</td>\n",
              "      <td>0.000000</td>\n",
              "      <td>0.000000</td>\n",
              "      <td>0.000000</td>\n",
              "      <td>0.000000</td>\n",
              "      <td>1.000000</td>\n",
              "      <td>1.000000</td>\n",
              "      <td>1.000000</td>\n",
              "      <td>1.000000</td>\n",
              "      <td>0.250000</td>\n",
              "      <td>0.333333</td>\n",
              "      <td>0.000000</td>\n",
              "    </tr>\n",
              "    <tr>\n",
              "      <th>max</th>\n",
              "      <td>1.000000</td>\n",
              "      <td>1.000000</td>\n",
              "      <td>1.000000</td>\n",
              "      <td>1.000000</td>\n",
              "      <td>1.000000</td>\n",
              "      <td>1.000000</td>\n",
              "      <td>1.000000</td>\n",
              "      <td>1.000000</td>\n",
              "      <td>1.000000</td>\n",
              "      <td>1.000000</td>\n",
              "      <td>1.000000</td>\n",
              "      <td>1.000000</td>\n",
              "      <td>1.000000</td>\n",
              "      <td>1.000000</td>\n",
              "      <td>1.000000</td>\n",
              "      <td>1.000000</td>\n",
              "      <td>1.000000</td>\n",
              "      <td>1.000000</td>\n",
              "      <td>1.000000</td>\n",
              "      <td>1.000000</td>\n",
              "      <td>1.000000</td>\n",
              "      <td>1.000000</td>\n",
              "      <td>1.000000</td>\n",
              "      <td>1.000000</td>\n",
              "      <td>1.000000</td>\n",
              "      <td>1.000000</td>\n",
              "      <td>1.000000</td>\n",
              "      <td>1.000000</td>\n",
              "      <td>1.000000</td>\n",
              "      <td>1.000000</td>\n",
              "      <td>1.000000</td>\n",
              "      <td>1.000000</td>\n",
              "      <td>1.000000</td>\n",
              "      <td>1.000000</td>\n",
              "      <td>1.000000</td>\n",
              "      <td>1.000000</td>\n",
              "      <td>1.000000</td>\n",
              "      <td>1.000000</td>\n",
              "      <td>1.000000</td>\n",
              "      <td>1.000000</td>\n",
              "      <td>1.000000</td>\n",
              "      <td>1.000000</td>\n",
              "      <td>1.000000</td>\n",
              "      <td>1.000000</td>\n",
              "      <td>1.000000</td>\n",
              "      <td>1.000000</td>\n",
              "      <td>1.000000</td>\n",
              "      <td>1.000000</td>\n",
              "      <td>1.000000</td>\n",
              "      <td>1.000000</td>\n",
              "      <td>0.0</td>\n",
              "      <td>1.000000</td>\n",
              "      <td>1.000000</td>\n",
              "      <td>1.000000</td>\n",
              "      <td>1.000000</td>\n",
              "      <td>1.000000</td>\n",
              "      <td>1.000000</td>\n",
              "      <td>1.000000</td>\n",
              "      <td>1.000000</td>\n",
              "      <td>1.000000</td>\n",
              "      <td>1.000000</td>\n",
              "      <td>1.000000</td>\n",
              "      <td>1.000000</td>\n",
              "      <td>1.000000</td>\n",
              "      <td>1.000000</td>\n",
              "      <td>1.000000</td>\n",
              "      <td>1.000000</td>\n",
              "      <td>1.000000</td>\n",
              "      <td>1.000000</td>\n",
              "      <td>1.000000</td>\n",
              "    </tr>\n",
              "  </tbody>\n",
              "</table>\n",
              "</div>\n",
              "      <button class=\"colab-df-convert\" onclick=\"convertToInteractive('df-70abf24d-f9b5-4805-8d00-d80892cff530')\"\n",
              "              title=\"Convert this dataframe to an interactive table.\"\n",
              "              style=\"display:none;\">\n",
              "        \n",
              "  <svg xmlns=\"http://www.w3.org/2000/svg\" height=\"24px\"viewBox=\"0 0 24 24\"\n",
              "       width=\"24px\">\n",
              "    <path d=\"M0 0h24v24H0V0z\" fill=\"none\"/>\n",
              "    <path d=\"M18.56 5.44l.94 2.06.94-2.06 2.06-.94-2.06-.94-.94-2.06-.94 2.06-2.06.94zm-11 1L8.5 8.5l.94-2.06 2.06-.94-2.06-.94L8.5 2.5l-.94 2.06-2.06.94zm10 10l.94 2.06.94-2.06 2.06-.94-2.06-.94-.94-2.06-.94 2.06-2.06.94z\"/><path d=\"M17.41 7.96l-1.37-1.37c-.4-.4-.92-.59-1.43-.59-.52 0-1.04.2-1.43.59L10.3 9.45l-7.72 7.72c-.78.78-.78 2.05 0 2.83L4 21.41c.39.39.9.59 1.41.59.51 0 1.02-.2 1.41-.59l7.78-7.78 2.81-2.81c.8-.78.8-2.07 0-2.86zM5.41 20L4 18.59l7.72-7.72 1.47 1.35L5.41 20z\"/>\n",
              "  </svg>\n",
              "      </button>\n",
              "      \n",
              "  <style>\n",
              "    .colab-df-container {\n",
              "      display:flex;\n",
              "      flex-wrap:wrap;\n",
              "      gap: 12px;\n",
              "    }\n",
              "\n",
              "    .colab-df-convert {\n",
              "      background-color: #E8F0FE;\n",
              "      border: none;\n",
              "      border-radius: 50%;\n",
              "      cursor: pointer;\n",
              "      display: none;\n",
              "      fill: #1967D2;\n",
              "      height: 32px;\n",
              "      padding: 0 0 0 0;\n",
              "      width: 32px;\n",
              "    }\n",
              "\n",
              "    .colab-df-convert:hover {\n",
              "      background-color: #E2EBFA;\n",
              "      box-shadow: 0px 1px 2px rgba(60, 64, 67, 0.3), 0px 1px 3px 1px rgba(60, 64, 67, 0.15);\n",
              "      fill: #174EA6;\n",
              "    }\n",
              "\n",
              "    [theme=dark] .colab-df-convert {\n",
              "      background-color: #3B4455;\n",
              "      fill: #D2E3FC;\n",
              "    }\n",
              "\n",
              "    [theme=dark] .colab-df-convert:hover {\n",
              "      background-color: #434B5C;\n",
              "      box-shadow: 0px 1px 3px 1px rgba(0, 0, 0, 0.15);\n",
              "      filter: drop-shadow(0px 1px 2px rgba(0, 0, 0, 0.3));\n",
              "      fill: #FFFFFF;\n",
              "    }\n",
              "  </style>\n",
              "\n",
              "      <script>\n",
              "        const buttonEl =\n",
              "          document.querySelector('#df-70abf24d-f9b5-4805-8d00-d80892cff530 button.colab-df-convert');\n",
              "        buttonEl.style.display =\n",
              "          google.colab.kernel.accessAllowed ? 'block' : 'none';\n",
              "\n",
              "        async function convertToInteractive(key) {\n",
              "          const element = document.querySelector('#df-70abf24d-f9b5-4805-8d00-d80892cff530');\n",
              "          const dataTable =\n",
              "            await google.colab.kernel.invokeFunction('convertToInteractive',\n",
              "                                                     [key], {});\n",
              "          if (!dataTable) return;\n",
              "\n",
              "          const docLinkHtml = 'Like what you see? Visit the ' +\n",
              "            '<a target=\"_blank\" href=https://colab.research.google.com/notebooks/data_table.ipynb>data table notebook</a>'\n",
              "            + ' to learn more about interactive tables.';\n",
              "          element.innerHTML = '';\n",
              "          dataTable['output_type'] = 'display_data';\n",
              "          await google.colab.output.renderOutput(dataTable, element);\n",
              "          const docLink = document.createElement('div');\n",
              "          docLink.innerHTML = docLinkHtml;\n",
              "          element.appendChild(docLink);\n",
              "        }\n",
              "      </script>\n",
              "    </div>\n",
              "  </div>\n",
              "  "
            ]
          },
          "metadata": {},
          "execution_count": 95
        }
      ]
    },
    {
      "cell_type": "code",
      "source": [
        "# train a logistic regression model on the training set\n",
        "from sklearn.linear_model import LogisticRegression\n",
        "\n",
        "\n",
        "# instantiate the model\n",
        "logreg = LogisticRegression(solver='liblinear', random_state=0)\n",
        "\n",
        "\n",
        "# fit the model\n",
        "logreg.fit(X_train, y_train)"
      ],
      "metadata": {
        "colab": {
          "base_uri": "https://localhost:8080/"
        },
        "id": "91qm5Vm3iuZh",
        "outputId": "f4ff070b-bcd0-4bc7-f5b9-4edd0c10c167"
      },
      "execution_count": 96,
      "outputs": [
        {
          "output_type": "execute_result",
          "data": {
            "text/plain": [
              "LogisticRegression(random_state=0, solver='liblinear')"
            ]
          },
          "metadata": {},
          "execution_count": 96
        }
      ]
    },
    {
      "cell_type": "code",
      "source": [
        "y_pred_test = logreg.predict(X_test)\n",
        "\n",
        "y_pred_test"
      ],
      "metadata": {
        "colab": {
          "base_uri": "https://localhost:8080/"
        },
        "id": "Tg46QwBqi0NB",
        "outputId": "c40bdc0c-5df6-4490-c378-685786769c61"
      },
      "execution_count": 97,
      "outputs": [
        {
          "output_type": "execute_result",
          "data": {
            "text/plain": [
              "array([0, 0, 0, ..., 0, 0, 1])"
            ]
          },
          "metadata": {},
          "execution_count": 97
        }
      ]
    },
    {
      "cell_type": "code",
      "source": [
        "# probability of getting output as 0 - no probreza\n",
        "\n",
        "logreg.predict_proba(X_test)[:,0]"
      ],
      "metadata": {
        "colab": {
          "base_uri": "https://localhost:8080/"
        },
        "id": "_llsDwfni3o8",
        "outputId": "67845a58-7c53-4e8b-dbbc-b7cd92f113d5"
      },
      "execution_count": 98,
      "outputs": [
        {
          "output_type": "execute_result",
          "data": {
            "text/plain": [
              "array([0.83509535, 0.61287695, 0.85819099, ..., 0.92169463, 0.87643335,\n",
              "       0.46969155])"
            ]
          },
          "metadata": {},
          "execution_count": 98
        }
      ]
    },
    {
      "cell_type": "code",
      "source": [
        "# probability of getting output as 1 - pobreza\n",
        "\n",
        "logreg.predict_proba(X_test)[:,1]"
      ],
      "metadata": {
        "colab": {
          "base_uri": "https://localhost:8080/"
        },
        "id": "2pD2n8DAi6TE",
        "outputId": "1ed59d58-e94d-4c99-81c9-1e50d54da9f2"
      },
      "execution_count": 99,
      "outputs": [
        {
          "output_type": "execute_result",
          "data": {
            "text/plain": [
              "array([0.16490465, 0.38712305, 0.14180901, ..., 0.07830537, 0.12356665,\n",
              "       0.53030845])"
            ]
          },
          "metadata": {},
          "execution_count": 99
        }
      ]
    },
    {
      "cell_type": "markdown",
      "source": [
        "**Métricas**"
      ],
      "metadata": {
        "id": "fKgmKRl1nKYK"
      }
    },
    {
      "cell_type": "code",
      "source": [
        "from sklearn.metrics import accuracy_score\n",
        "\n",
        "print('Model accuracy score: {0:0.4f}'. format(accuracy_score(y_test, y_pred_test)))"
      ],
      "metadata": {
        "colab": {
          "base_uri": "https://localhost:8080/"
        },
        "id": "W9kr1RHIi92U",
        "outputId": "43fb62e2-38bc-4494-de88-99809e0b706f"
      },
      "execution_count": 100,
      "outputs": [
        {
          "output_type": "stream",
          "name": "stdout",
          "text": [
            "Model accuracy score: 0.8469\n"
          ]
        }
      ]
    },
    {
      "cell_type": "markdown",
      "source": [
        "**Overfitting**: \n",
        "\n",
        "Comparamos la precisión del set de entrenamiento y set de testeo"
      ],
      "metadata": {
        "id": "s4z2WYTekbsr"
      }
    },
    {
      "cell_type": "code",
      "source": [
        "y_pred_train = logreg.predict(X_train)\n",
        "\n",
        "y_pred_train"
      ],
      "metadata": {
        "colab": {
          "base_uri": "https://localhost:8080/"
        },
        "id": "UPQ8FuCPkSNY",
        "outputId": "2b079567-3407-4319-a3fc-430b6da6b540"
      },
      "execution_count": 101,
      "outputs": [
        {
          "output_type": "execute_result",
          "data": {
            "text/plain": [
              "array([0, 0, 0, ..., 1, 0, 0])"
            ]
          },
          "metadata": {},
          "execution_count": 101
        }
      ]
    },
    {
      "cell_type": "code",
      "source": [
        "print('Training-set accuracy score: {0:0.4f}'. format(accuracy_score(y_train, y_pred_train)))"
      ],
      "metadata": {
        "colab": {
          "base_uri": "https://localhost:8080/"
        },
        "id": "9fLOz_9vkXTO",
        "outputId": "e41faf76-bffb-4a96-b62a-37573218359d"
      },
      "execution_count": 102,
      "outputs": [
        {
          "output_type": "stream",
          "name": "stdout",
          "text": [
            "Training-set accuracy score: 0.8315\n"
          ]
        }
      ]
    },
    {
      "cell_type": "markdown",
      "source": [
        "Chequeamos **underfitting**"
      ],
      "metadata": {
        "id": "lkl3aCAMk7Gb"
      }
    },
    {
      "cell_type": "code",
      "source": [
        "# print the scores on training and test set\n",
        "\n",
        "print('Training set score: {:.4f}'.format(logreg.score(X_train, y_train)))\n",
        "\n",
        "print('Test set score: {:.4f}'.format(logreg.score(X_test, y_test)))"
      ],
      "metadata": {
        "colab": {
          "base_uri": "https://localhost:8080/"
        },
        "id": "s-qtxVxvkYrB",
        "outputId": "9017e441-6470-4959-f74a-2d21a2c3ef87"
      },
      "execution_count": 103,
      "outputs": [
        {
          "output_type": "stream",
          "name": "stdout",
          "text": [
            "Training set score: 0.8315\n",
            "Test set score: 0.8469\n"
          ]
        }
      ]
    },
    {
      "cell_type": "markdown",
      "source": [
        "La puntuación de precisión del conjunto de entrenamiento es de 0,8372, mientras que la precisión del conjunto de prueba es de 0,8529. Estos dos valores son bastante comparables. Por lo tanto, no hay problema de sobreajuste.\n",
        "\n",
        "En la regresión logística, utilizamos el valor por defecto de C = 1. Proporciona un buen rendimiento con una precisión de aproximadamente el 85% tanto en el conjunto de entrenamiento como en el de prueba. \n",
        "Pero el rendimiento del modelo tanto en el conjunto de entrenamiento como en el de prueba son muy comparables. Es probable que se trate de un caso de infraajuste.\n",
        "\n",
        "Aumentaré C y ajustaré un modelo más flexible.\n",
        "\n"
      ],
      "metadata": {
        "id": "5TW9mO7lZcgE"
      }
    },
    {
      "cell_type": "code",
      "source": [
        "# fit the Logsitic Regression model with C=100\n",
        "\n",
        "# instantiate the model\n",
        "logreg100 = LogisticRegression(C=100, solver='liblinear', random_state=0)\n",
        "\n",
        "\n",
        "# fit the model\n",
        "logreg100.fit(X_train, y_train)"
      ],
      "metadata": {
        "colab": {
          "base_uri": "https://localhost:8080/"
        },
        "id": "eYNh8F1elOLF",
        "outputId": "7078cd4a-7cbb-40cb-aa30-e1dd28de482f"
      },
      "execution_count": 104,
      "outputs": [
        {
          "output_type": "execute_result",
          "data": {
            "text/plain": [
              "LogisticRegression(C=100, random_state=0, solver='liblinear')"
            ]
          },
          "metadata": {},
          "execution_count": 104
        }
      ]
    },
    {
      "cell_type": "code",
      "source": [
        "# print the scores on training and test set\n",
        "\n",
        "print('Training set score: {:.4f}'.format(logreg100.score(X_train, y_train)))\n",
        "\n",
        "print('Test set score: {:.4f}'.format(logreg100.score(X_test, y_test)))"
      ],
      "metadata": {
        "colab": {
          "base_uri": "https://localhost:8080/"
        },
        "id": "jT6I97sulmek",
        "outputId": "0f7b6608-22c1-48cc-f111-0839b263ae36"
      },
      "execution_count": 105,
      "outputs": [
        {
          "output_type": "stream",
          "name": "stdout",
          "text": [
            "Training set score: 0.9708\n",
            "Test set score: 0.9728\n"
          ]
        }
      ]
    },
    {
      "cell_type": "markdown",
      "source": [
        "We can see that, C=100 results in higher test set accuracy and also a slightly increased training set accuracy. So, we can conclude that a more complex model should perform better.\n",
        "\n",
        "Now, I will investigate, what happens if we use more regularized model than the default value of C=1, by setting C=0.01.\n"
      ],
      "metadata": {
        "id": "6HexN5v-PBXm"
      }
    },
    {
      "cell_type": "code",
      "source": [
        "# fit the Logsitic Regression model with C=001\n",
        "\n",
        "# instantiate the model\n",
        "logreg001 = LogisticRegression(C=0.01, solver='liblinear', random_state=0)\n",
        "\n",
        "\n",
        "# fit the model\n",
        "logreg001.fit(X_train, y_train)"
      ],
      "metadata": {
        "colab": {
          "base_uri": "https://localhost:8080/"
        },
        "id": "betzYF2UlwUN",
        "outputId": "bda456f2-cc32-4e9c-c1d0-b4301a808be3"
      },
      "execution_count": 107,
      "outputs": [
        {
          "output_type": "execute_result",
          "data": {
            "text/plain": [
              "LogisticRegression(C=0.01, random_state=0, solver='liblinear')"
            ]
          },
          "metadata": {},
          "execution_count": 107
        }
      ]
    },
    {
      "cell_type": "code",
      "source": [
        "# print the scores on training and test set\n",
        "\n",
        "print('Training set score: {:.4f}'.format(logreg001.score(X_train, y_train)))\n",
        "\n",
        "print('Test set score: {:.4f}'.format(logreg001.score(X_test, y_test)))"
      ],
      "metadata": {
        "colab": {
          "base_uri": "https://localhost:8080/"
        },
        "id": "3yQA22Qoly0S",
        "outputId": "9352f503-85f1-4b9f-a719-941f7e7c4277"
      },
      "execution_count": 108,
      "outputs": [
        {
          "output_type": "stream",
          "name": "stdout",
          "text": [
            "Training set score: 0.7687\n",
            "Test set score: 0.7865\n"
          ]
        }
      ]
    },
    {
      "cell_type": "markdown",
      "source": [
        "Por lo tanto, si utilizamos un modelo más regularizado estableciendo C=0,01, tanto la precisión del conjunto de entrenamiento como la del conjunto de prueba disminuyen en relación con los parámetros por defecto."
      ],
      "metadata": {
        "id": "osEcwt5JPJoL"
      }
    },
    {
      "cell_type": "markdown",
      "source": [
        "**Presición nula**\n",
        "\n",
        "Compare model accuracy with null accuracy\n",
        "So, the model accuracy is 0.8700. But, we cannot say that our model is very good based on the above accuracy. \n",
        "We must compare it with the null accuracy. Null accuracy is the accuracy that could be achieved by always predicting the most frequent class.\n",
        "\n",
        "So, we should first check the class distribution in the test set."
      ],
      "metadata": {
        "id": "h7KvPG-iPSZO"
      }
    },
    {
      "cell_type": "code",
      "source": [
        "y_test.value_counts()"
      ],
      "metadata": {
        "colab": {
          "base_uri": "https://localhost:8080/"
        },
        "id": "_VH8jNqlmHJY",
        "outputId": "71405436-18a5-476f-c5e7-1a1dfeb1b2cf"
      },
      "execution_count": 109,
      "outputs": [
        {
          "output_type": "execute_result",
          "data": {
            "text/plain": [
              "0    2803\n",
              "1    1234\n",
              "Name: pobreza, dtype: int64"
            ]
          },
          "metadata": {},
          "execution_count": 109
        }
      ]
    },
    {
      "cell_type": "markdown",
      "source": [
        "We can see that the occurences of most frequent class is 2780. So, we can calculate null accuracy by dividing 2780 by total number of occurences."
      ],
      "metadata": {
        "id": "O8D3H063Pglo"
      }
    },
    {
      "cell_type": "code",
      "source": [
        "# check null accuracy score\n",
        "\n",
        "null_accuracy = (2780/(2780+1257))\n",
        "\n",
        "print('Null accuracy score: {0:0.4f}'. format(null_accuracy))"
      ],
      "metadata": {
        "colab": {
          "base_uri": "https://localhost:8080/"
        },
        "id": "m06tfWYqmNhv",
        "outputId": "0123125d-833d-44c1-afa9-4cedd896ea7f"
      },
      "execution_count": 110,
      "outputs": [
        {
          "output_type": "stream",
          "name": "stdout",
          "text": [
            "Null accuracy score: 0.6886\n"
          ]
        }
      ]
    },
    {
      "cell_type": "markdown",
      "source": [
        "We can see that our model accuracy score is 0.87 but null accuracy score is 0.6886. So, we can conclude that our Logistic Regression model is doing a very good job in predicting the class labels"
      ],
      "metadata": {
        "id": "_eCrExe3Pmjx"
      }
    },
    {
      "cell_type": "markdown",
      "source": [
        "# **Matriz de confusión**"
      ],
      "metadata": {
        "id": "2OHpgqIYmXHt"
      }
    },
    {
      "cell_type": "code",
      "source": [
        "# Print the Confusion Matrix and slice it into four pieces\n",
        "\n",
        "from sklearn.metrics import confusion_matrix\n",
        "\n",
        "cm = confusion_matrix(y_test, y_pred_test)\n",
        "\n",
        "print('Confusion matrix\\n\\n', cm)\n",
        "\n",
        "print('\\nTrue Positives(TP) = ', cm[0,0])\n",
        "\n",
        "print('\\nTrue Negatives(TN) = ', cm[1,1])\n",
        "\n",
        "print('\\nFalse Positives(FP) = ', cm[0,1])\n",
        "\n",
        "print('\\nFalse Negatives(FN) = ', cm[1,0])"
      ],
      "metadata": {
        "colab": {
          "base_uri": "https://localhost:8080/"
        },
        "id": "i7-9y43zmNkj",
        "outputId": "50c0c348-e666-4329-c5cc-f28ef53de2eb"
      },
      "execution_count": 111,
      "outputs": [
        {
          "output_type": "stream",
          "name": "stdout",
          "text": [
            "Confusion matrix\n",
            "\n",
            " [[2612  191]\n",
            " [ 427  807]]\n",
            "\n",
            "True Positives(TP) =  2612\n",
            "\n",
            "True Negatives(TN) =  807\n",
            "\n",
            "False Positives(FP) =  191\n",
            "\n",
            "False Negatives(FN) =  427\n"
          ]
        }
      ]
    },
    {
      "cell_type": "code",
      "source": [
        "# visualize confusion matrix with seaborn heatmap\n",
        "\n",
        "cm_matrix = pd.DataFrame(data=cm, columns=['Actual Positive:1', 'Actual Negative:0'], \n",
        "                                 index=['Predict Positive:1', 'Predict Negative:0'])\n",
        "\n",
        "sns.heatmap(cm_matrix, annot=True, fmt='d', cmap='YlGnBu')"
      ],
      "metadata": {
        "colab": {
          "base_uri": "https://localhost:8080/",
          "height": 282
        },
        "id": "L1EZfnO9mgfF",
        "outputId": "c0a3dd77-468c-4c6f-94d9-d564effc4cd1"
      },
      "execution_count": 112,
      "outputs": [
        {
          "output_type": "execute_result",
          "data": {
            "text/plain": [
              "<matplotlib.axes._subplots.AxesSubplot at 0x7fdf641f0ed0>"
            ]
          },
          "metadata": {},
          "execution_count": 112
        },
        {
          "output_type": "display_data",
          "data": {
            "text/plain": [
              "<Figure size 432x288 with 2 Axes>"
            ],
            "image/png": "[encoded data removed]"
          },
          "metadata": {
            "needs_background": "light"
          }
        }
      ]
    },
    {
      "cell_type": "markdown",
      "source": [
        "Podemos ver que la matriz de confusión está desbalanceada, por lo que vamos a proceder a balancear la misma. "
      ],
      "metadata": {
        "id": "PSGaNWImPyb0"
      }
    },
    {
      "cell_type": "markdown",
      "source": [
        "**Experimento 2:**\n",
        "\n",
        "Procedemos a balancear la matriz de confusión para aplicar regresión logística"
      ],
      "metadata": {
        "id": "50M4BqfOj0sf"
      }
    },
    {
      "cell_type": "code",
      "source": [
        "df.head()"
      ],
      "metadata": {
        "colab": {
          "base_uri": "https://localhost:8080/",
          "height": 270
        },
        "id": "zkJNGapZlgbO",
        "outputId": "7cbbe06e-088c-4e66-bf3a-5b64f5e1bed1"
      },
      "execution_count": 121,
      "outputs": [
        {
          "output_type": "execute_result",
          "data": {
            "text/plain": [
              "   AGLOMERADO  IV1  IV2  IV3  IV4  IV5  IV6  IV7  IV8  IV12_1  IV12_2  IV12_3  \\\n",
              "0          93    1    3    1    1    1    1    1    1       2       2       2   \n",
              "1          93    2    2    1    4    1    1    1    1       2       2       2   \n",
              "2          33    1    3    1    4    1    1    1    1       2       2       2   \n",
              "3          33    2    2    1    9    1    1    1    1       2       1       2   \n",
              "4          33    1    3    1    1    1    1    1    1       2       2       2   \n",
              "\n",
              "   II1  II2  II3  II3_1  II5_1  II6_1  V1  V2  V21  V22  V3  V4  V5  V6  V7  \\\n",
              "0    3    1    2      0      0      0   2   1    2    2   2   2   2   2   2   \n",
              "1    2    2    2      0      0      0   1   2    2    2   2   2   2   2   2   \n",
              "2    3    3    2      0      0      0   1   1    2    2   2   2   2   2   2   \n",
              "3    2    1    2      0      0      0   1   2    2    2   2   2   2   2   2   \n",
              "4    3    2    2      0      0      0   1   2    2    2   2   2   2   2   2   \n",
              "\n",
              "   V8  V9  V10  V11  V12  V13  V14  V15  V16  V17  V18  V19_A  V19_B  IX_TOT  \\\n",
              "0   2   2    2    2    2    2    2    1    1    2    2      2      2       2   \n",
              "1   2   2    2    2    2    2    2    2    1    2    2      2      2       4   \n",
              "2   2   2    2    2    2    1    2    1    1    2    2      2      2       4   \n",
              "3   2   2    2    2    2    2    1    2    1    2    2      2      2       2   \n",
              "4   2   2    2    2    2    1    1    2    1    2    2      2      2       3   \n",
              "\n",
              "   IX_MEN10  IX_MAYEQ10    ITF  VII1_1  VII1_2  VII2_1  VII2_2  VII2_3  \\\n",
              "0         0           2  77500       1       2      98       0       0   \n",
              "1         1           3  85000       2       0      98       0       0   \n",
              "2         0           4  96870       1       2      98       0       0   \n",
              "3         0           2  90000       1       2      98       0       0   \n",
              "4         0           3  92000       2       1      98       0       0   \n",
              "\n",
              "   VII2_4  parentesco  genero  edad  cob_medica  NIVEL_ED  CAT_OCUP  CAT_INAC  \\\n",
              "0       0           1       1    72           1         2         9         1   \n",
              "1       0           1       1    38           1         4         3         0   \n",
              "2       0           1       1    67           1         4         3         0   \n",
              "3       0           1       1    35           1         5         3         0   \n",
              "4       0           1       2    33           1         6         3         0   \n",
              "\n",
              "   AE_ctrol_ind_sum  adulto_equivalente  pobreza  IV9  IV10  IV11  II4_1  \\\n",
              "0              1.50             51667.0        0    1     1     1      1   \n",
              "1              3.13             27157.0        0    1     1     1      1   \n",
              "2              3.33             29090.0        0    1     2     3      1   \n",
              "3              1.77             50847.0        0    1     1     1      1   \n",
              "4              2.54             36220.0        0    1     1     1      1   \n",
              "\n",
              "   II4_2  II4_3  II5  II6  II7  II8  II9  \n",
              "0      1      2    2    2    1    1    1  \n",
              "1      2      2    2    2    6    1    1  \n",
              "2      1      2    2    2    1    1    1  \n",
              "3      2      1    2    2    1    1    1  \n",
              "4      1      1    2    2    1    1    1  "
            ],
            "text/html": [
              "\n",
              "  <div id=\"df-e61c318d-bf8a-434c-a247-2696baa98fed\">\n",
              "    <div class=\"colab-df-container\">\n",
              "      <div>\n",
              "<style scoped>\n",
              "    .dataframe tbody tr th:only-of-type {\n",
              "        vertical-align: middle;\n",
              "    }\n",
              "\n",
              "    .dataframe tbody tr th {\n",
              "        vertical-align: top;\n",
              "    }\n",
              "\n",
              "    .dataframe thead th {\n",
              "        text-align: right;\n",
              "    }\n",
              "</style>\n",
              "<table border=\"1\" class=\"dataframe\">\n",
              "  <thead>\n",
              "    <tr style=\"text-align: right;\">\n",
              "      <th></th>\n",
              "      <th>AGLOMERADO</th>\n",
              "      <th>IV1</th>\n",
              "      <th>IV2</th>\n",
              "      <th>IV3</th>\n",
              "      <th>IV4</th>\n",
              "      <th>IV5</th>\n",
              "      <th>IV6</th>\n",
              "      <th>IV7</th>\n",
              "      <th>IV8</th>\n",
              "      <th>IV12_1</th>\n",
              "      <th>IV12_2</th>\n",
              "      <th>IV12_3</th>\n",
              "      <th>II1</th>\n",
              "      <th>II2</th>\n",
              "      <th>II3</th>\n",
              "      <th>II3_1</th>\n",
              "      <th>II5_1</th>\n",
              "      <th>II6_1</th>\n",
              "      <th>V1</th>\n",
              "      <th>V2</th>\n",
              "      <th>V21</th>\n",
              "      <th>V22</th>\n",
              "      <th>V3</th>\n",
              "      <th>V4</th>\n",
              "      <th>V5</th>\n",
              "      <th>V6</th>\n",
              "      <th>V7</th>\n",
              "      <th>V8</th>\n",
              "      <th>V9</th>\n",
              "      <th>V10</th>\n",
              "      <th>V11</th>\n",
              "      <th>V12</th>\n",
              "      <th>V13</th>\n",
              "      <th>V14</th>\n",
              "      <th>V15</th>\n",
              "      <th>V16</th>\n",
              "      <th>V17</th>\n",
              "      <th>V18</th>\n",
              "      <th>V19_A</th>\n",
              "      <th>V19_B</th>\n",
              "      <th>IX_TOT</th>\n",
              "      <th>IX_MEN10</th>\n",
              "      <th>IX_MAYEQ10</th>\n",
              "      <th>ITF</th>\n",
              "      <th>VII1_1</th>\n",
              "      <th>VII1_2</th>\n",
              "      <th>VII2_1</th>\n",
              "      <th>VII2_2</th>\n",
              "      <th>VII2_3</th>\n",
              "      <th>VII2_4</th>\n",
              "      <th>parentesco</th>\n",
              "      <th>genero</th>\n",
              "      <th>edad</th>\n",
              "      <th>cob_medica</th>\n",
              "      <th>NIVEL_ED</th>\n",
              "      <th>CAT_OCUP</th>\n",
              "      <th>CAT_INAC</th>\n",
              "      <th>AE_ctrol_ind_sum</th>\n",
              "      <th>adulto_equivalente</th>\n",
              "      <th>pobreza</th>\n",
              "      <th>IV9</th>\n",
              "      <th>IV10</th>\n",
              "      <th>IV11</th>\n",
              "      <th>II4_1</th>\n",
              "      <th>II4_2</th>\n",
              "      <th>II4_3</th>\n",
              "      <th>II5</th>\n",
              "      <th>II6</th>\n",
              "      <th>II7</th>\n",
              "      <th>II8</th>\n",
              "      <th>II9</th>\n",
              "    </tr>\n",
              "  </thead>\n",
              "  <tbody>\n",
              "    <tr>\n",
              "      <th>0</th>\n",
              "      <td>93</td>\n",
              "      <td>1</td>\n",
              "      <td>3</td>\n",
              "      <td>1</td>\n",
              "      <td>1</td>\n",
              "      <td>1</td>\n",
              "      <td>1</td>\n",
              "      <td>1</td>\n",
              "      <td>1</td>\n",
              "      <td>2</td>\n",
              "      <td>2</td>\n",
              "      <td>2</td>\n",
              "      <td>3</td>\n",
              "      <td>1</td>\n",
              "      <td>2</td>\n",
              "      <td>0</td>\n",
              "      <td>0</td>\n",
              "      <td>0</td>\n",
              "      <td>2</td>\n",
              "      <td>1</td>\n",
              "      <td>2</td>\n",
              "      <td>2</td>\n",
              "      <td>2</td>\n",
              "      <td>2</td>\n",
              "      <td>2</td>\n",
              "      <td>2</td>\n",
              "      <td>2</td>\n",
              "      <td>2</td>\n",
              "      <td>2</td>\n",
              "      <td>2</td>\n",
              "      <td>2</td>\n",
              "      <td>2</td>\n",
              "      <td>2</td>\n",
              "      <td>2</td>\n",
              "      <td>1</td>\n",
              "      <td>1</td>\n",
              "      <td>2</td>\n",
              "      <td>2</td>\n",
              "      <td>2</td>\n",
              "      <td>2</td>\n",
              "      <td>2</td>\n",
              "      <td>0</td>\n",
              "      <td>2</td>\n",
              "      <td>77500</td>\n",
              "      <td>1</td>\n",
              "      <td>2</td>\n",
              "      <td>98</td>\n",
              "      <td>0</td>\n",
              "      <td>0</td>\n",
              "      <td>0</td>\n",
              "      <td>1</td>\n",
              "      <td>1</td>\n",
              "      <td>72</td>\n",
              "      <td>1</td>\n",
              "      <td>2</td>\n",
              "      <td>9</td>\n",
              "      <td>1</td>\n",
              "      <td>1.50</td>\n",
              "      <td>51667.0</td>\n",
              "      <td>0</td>\n",
              "      <td>1</td>\n",
              "      <td>1</td>\n",
              "      <td>1</td>\n",
              "      <td>1</td>\n",
              "      <td>1</td>\n",
              "      <td>2</td>\n",
              "      <td>2</td>\n",
              "      <td>2</td>\n",
              "      <td>1</td>\n",
              "      <td>1</td>\n",
              "      <td>1</td>\n",
              "    </tr>\n",
              "    <tr>\n",
              "      <th>1</th>\n",
              "      <td>93</td>\n",
              "      <td>2</td>\n",
              "      <td>2</td>\n",
              "      <td>1</td>\n",
              "      <td>4</td>\n",
              "      <td>1</td>\n",
              "      <td>1</td>\n",
              "      <td>1</td>\n",
              "      <td>1</td>\n",
              "      <td>2</td>\n",
              "      <td>2</td>\n",
              "      <td>2</td>\n",
              "      <td>2</td>\n",
              "      <td>2</td>\n",
              "      <td>2</td>\n",
              "      <td>0</td>\n",
              "      <td>0</td>\n",
              "      <td>0</td>\n",
              "      <td>1</td>\n",
              "      <td>2</td>\n",
              "      <td>2</td>\n",
              "      <td>2</td>\n",
              "      <td>2</td>\n",
              "      <td>2</td>\n",
              "      <td>2</td>\n",
              "      <td>2</td>\n",
              "      <td>2</td>\n",
              "      <td>2</td>\n",
              "      <td>2</td>\n",
              "      <td>2</td>\n",
              "      <td>2</td>\n",
              "      <td>2</td>\n",
              "      <td>2</td>\n",
              "      <td>2</td>\n",
              "      <td>2</td>\n",
              "      <td>1</td>\n",
              "      <td>2</td>\n",
              "      <td>2</td>\n",
              "      <td>2</td>\n",
              "      <td>2</td>\n",
              "      <td>4</td>\n",
              "      <td>1</td>\n",
              "      <td>3</td>\n",
              "      <td>85000</td>\n",
              "      <td>2</td>\n",
              "      <td>0</td>\n",
              "      <td>98</td>\n",
              "      <td>0</td>\n",
              "      <td>0</td>\n",
              "      <td>0</td>\n",
              "      <td>1</td>\n",
              "      <td>1</td>\n",
              "      <td>38</td>\n",
              "      <td>1</td>\n",
              "      <td>4</td>\n",
              "      <td>3</td>\n",
              "      <td>0</td>\n",
              "      <td>3.13</td>\n",
              "      <td>27157.0</td>\n",
              "      <td>0</td>\n",
              "      <td>1</td>\n",
              "      <td>1</td>\n",
              "      <td>1</td>\n",
              "      <td>1</td>\n",
              "      <td>2</td>\n",
              "      <td>2</td>\n",
              "      <td>2</td>\n",
              "      <td>2</td>\n",
              "      <td>6</td>\n",
              "      <td>1</td>\n",
              "      <td>1</td>\n",
              "    </tr>\n",
              "    <tr>\n",
              "      <th>2</th>\n",
              "      <td>33</td>\n",
              "      <td>1</td>\n",
              "      <td>3</td>\n",
              "      <td>1</td>\n",
              "      <td>4</td>\n",
              "      <td>1</td>\n",
              "      <td>1</td>\n",
              "      <td>1</td>\n",
              "      <td>1</td>\n",
              "      <td>2</td>\n",
              "      <td>2</td>\n",
              "      <td>2</td>\n",
              "      <td>3</td>\n",
              "      <td>3</td>\n",
              "      <td>2</td>\n",
              "      <td>0</td>\n",
              "      <td>0</td>\n",
              "      <td>0</td>\n",
              "      <td>1</td>\n",
              "      <td>1</td>\n",
              "      <td>2</td>\n",
              "      <td>2</td>\n",
              "      <td>2</td>\n",
              "      <td>2</td>\n",
              "      <td>2</td>\n",
              "      <td>2</td>\n",
              "      <td>2</td>\n",
              "      <td>2</td>\n",
              "      <td>2</td>\n",
              "      <td>2</td>\n",
              "      <td>2</td>\n",
              "      <td>2</td>\n",
              "      <td>1</td>\n",
              "      <td>2</td>\n",
              "      <td>1</td>\n",
              "      <td>1</td>\n",
              "      <td>2</td>\n",
              "      <td>2</td>\n",
              "      <td>2</td>\n",
              "      <td>2</td>\n",
              "      <td>4</td>\n",
              "      <td>0</td>\n",
              "      <td>4</td>\n",
              "      <td>96870</td>\n",
              "      <td>1</td>\n",
              "      <td>2</td>\n",
              "      <td>98</td>\n",
              "      <td>0</td>\n",
              "      <td>0</td>\n",
              "      <td>0</td>\n",
              "      <td>1</td>\n",
              "      <td>1</td>\n",
              "      <td>67</td>\n",
              "      <td>1</td>\n",
              "      <td>4</td>\n",
              "      <td>3</td>\n",
              "      <td>0</td>\n",
              "      <td>3.33</td>\n",
              "      <td>29090.0</td>\n",
              "      <td>0</td>\n",
              "      <td>1</td>\n",
              "      <td>2</td>\n",
              "      <td>3</td>\n",
              "      <td>1</td>\n",
              "      <td>1</td>\n",
              "      <td>2</td>\n",
              "      <td>2</td>\n",
              "      <td>2</td>\n",
              "      <td>1</td>\n",
              "      <td>1</td>\n",
              "      <td>1</td>\n",
              "    </tr>\n",
              "    <tr>\n",
              "      <th>3</th>\n",
              "      <td>33</td>\n",
              "      <td>2</td>\n",
              "      <td>2</td>\n",
              "      <td>1</td>\n",
              "      <td>9</td>\n",
              "      <td>1</td>\n",
              "      <td>1</td>\n",
              "      <td>1</td>\n",
              "      <td>1</td>\n",
              "      <td>2</td>\n",
              "      <td>1</td>\n",
              "      <td>2</td>\n",
              "      <td>2</td>\n",
              "      <td>1</td>\n",
              "      <td>2</td>\n",
              "      <td>0</td>\n",
              "      <td>0</td>\n",
              "      <td>0</td>\n",
              "      <td>1</td>\n",
              "      <td>2</td>\n",
              "      <td>2</td>\n",
              "      <td>2</td>\n",
              "      <td>2</td>\n",
              "      <td>2</td>\n",
              "      <td>2</td>\n",
              "      <td>2</td>\n",
              "      <td>2</td>\n",
              "      <td>2</td>\n",
              "      <td>2</td>\n",
              "      <td>2</td>\n",
              "      <td>2</td>\n",
              "      <td>2</td>\n",
              "      <td>2</td>\n",
              "      <td>1</td>\n",
              "      <td>2</td>\n",
              "      <td>1</td>\n",
              "      <td>2</td>\n",
              "      <td>2</td>\n",
              "      <td>2</td>\n",
              "      <td>2</td>\n",
              "      <td>2</td>\n",
              "      <td>0</td>\n",
              "      <td>2</td>\n",
              "      <td>90000</td>\n",
              "      <td>1</td>\n",
              "      <td>2</td>\n",
              "      <td>98</td>\n",
              "      <td>0</td>\n",
              "      <td>0</td>\n",
              "      <td>0</td>\n",
              "      <td>1</td>\n",
              "      <td>1</td>\n",
              "      <td>35</td>\n",
              "      <td>1</td>\n",
              "      <td>5</td>\n",
              "      <td>3</td>\n",
              "      <td>0</td>\n",
              "      <td>1.77</td>\n",
              "      <td>50847.0</td>\n",
              "      <td>0</td>\n",
              "      <td>1</td>\n",
              "      <td>1</td>\n",
              "      <td>1</td>\n",
              "      <td>1</td>\n",
              "      <td>2</td>\n",
              "      <td>1</td>\n",
              "      <td>2</td>\n",
              "      <td>2</td>\n",
              "      <td>1</td>\n",
              "      <td>1</td>\n",
              "      <td>1</td>\n",
              "    </tr>\n",
              "    <tr>\n",
              "      <th>4</th>\n",
              "      <td>33</td>\n",
              "      <td>1</td>\n",
              "      <td>3</td>\n",
              "      <td>1</td>\n",
              "      <td>1</td>\n",
              "      <td>1</td>\n",
              "      <td>1</td>\n",
              "      <td>1</td>\n",
              "      <td>1</td>\n",
              "      <td>2</td>\n",
              "      <td>2</td>\n",
              "      <td>2</td>\n",
              "      <td>3</td>\n",
              "      <td>2</td>\n",
              "      <td>2</td>\n",
              "      <td>0</td>\n",
              "      <td>0</td>\n",
              "      <td>0</td>\n",
              "      <td>1</td>\n",
              "      <td>2</td>\n",
              "      <td>2</td>\n",
              "      <td>2</td>\n",
              "      <td>2</td>\n",
              "      <td>2</td>\n",
              "      <td>2</td>\n",
              "      <td>2</td>\n",
              "      <td>2</td>\n",
              "      <td>2</td>\n",
              "      <td>2</td>\n",
              "      <td>2</td>\n",
              "      <td>2</td>\n",
              "      <td>2</td>\n",
              "      <td>1</td>\n",
              "      <td>1</td>\n",
              "      <td>2</td>\n",
              "      <td>1</td>\n",
              "      <td>2</td>\n",
              "      <td>2</td>\n",
              "      <td>2</td>\n",
              "      <td>2</td>\n",
              "      <td>3</td>\n",
              "      <td>0</td>\n",
              "      <td>3</td>\n",
              "      <td>92000</td>\n",
              "      <td>2</td>\n",
              "      <td>1</td>\n",
              "      <td>98</td>\n",
              "      <td>0</td>\n",
              "      <td>0</td>\n",
              "      <td>0</td>\n",
              "      <td>1</td>\n",
              "      <td>2</td>\n",
              "      <td>33</td>\n",
              "      <td>1</td>\n",
              "      <td>6</td>\n",
              "      <td>3</td>\n",
              "      <td>0</td>\n",
              "      <td>2.54</td>\n",
              "      <td>36220.0</td>\n",
              "      <td>0</td>\n",
              "      <td>1</td>\n",
              "      <td>1</td>\n",
              "      <td>1</td>\n",
              "      <td>1</td>\n",
              "      <td>1</td>\n",
              "      <td>1</td>\n",
              "      <td>2</td>\n",
              "      <td>2</td>\n",
              "      <td>1</td>\n",
              "      <td>1</td>\n",
              "      <td>1</td>\n",
              "    </tr>\n",
              "  </tbody>\n",
              "</table>\n",
              "</div>\n",
              "      <button class=\"colab-df-convert\" onclick=\"convertToInteractive('df-e61c318d-bf8a-434c-a247-2696baa98fed')\"\n",
              "              title=\"Convert this dataframe to an interactive table.\"\n",
              "              style=\"display:none;\">\n",
              "        \n",
              "  <svg xmlns=\"http://www.w3.org/2000/svg\" height=\"24px\"viewBox=\"0 0 24 24\"\n",
              "       width=\"24px\">\n",
              "    <path d=\"M0 0h24v24H0V0z\" fill=\"none\"/>\n",
              "    <path d=\"M18.56 5.44l.94 2.06.94-2.06 2.06-.94-2.06-.94-.94-2.06-.94 2.06-2.06.94zm-11 1L8.5 8.5l.94-2.06 2.06-.94-2.06-.94L8.5 2.5l-.94 2.06-2.06.94zm10 10l.94 2.06.94-2.06 2.06-.94-2.06-.94-.94-2.06-.94 2.06-2.06.94z\"/><path d=\"M17.41 7.96l-1.37-1.37c-.4-.4-.92-.59-1.43-.59-.52 0-1.04.2-1.43.59L10.3 9.45l-7.72 7.72c-.78.78-.78 2.05 0 2.83L4 21.41c.39.39.9.59 1.41.59.51 0 1.02-.2 1.41-.59l7.78-7.78 2.81-2.81c.8-.78.8-2.07 0-2.86zM5.41 20L4 18.59l7.72-7.72 1.47 1.35L5.41 20z\"/>\n",
              "  </svg>\n",
              "      </button>\n",
              "      \n",
              "  <style>\n",
              "    .colab-df-container {\n",
              "      display:flex;\n",
              "      flex-wrap:wrap;\n",
              "      gap: 12px;\n",
              "    }\n",
              "\n",
              "    .colab-df-convert {\n",
              "      background-color: #E8F0FE;\n",
              "      border: none;\n",
              "      border-radius: 50%;\n",
              "      cursor: pointer;\n",
              "      display: none;\n",
              "      fill: #1967D2;\n",
              "      height: 32px;\n",
              "      padding: 0 0 0 0;\n",
              "      width: 32px;\n",
              "    }\n",
              "\n",
              "    .colab-df-convert:hover {\n",
              "      background-color: #E2EBFA;\n",
              "      box-shadow: 0px 1px 2px rgba(60, 64, 67, 0.3), 0px 1px 3px 1px rgba(60, 64, 67, 0.15);\n",
              "      fill: #174EA6;\n",
              "    }\n",
              "\n",
              "    [theme=dark] .colab-df-convert {\n",
              "      background-color: #3B4455;\n",
              "      fill: #D2E3FC;\n",
              "    }\n",
              "\n",
              "    [theme=dark] .colab-df-convert:hover {\n",
              "      background-color: #434B5C;\n",
              "      box-shadow: 0px 1px 3px 1px rgba(0, 0, 0, 0.15);\n",
              "      filter: drop-shadow(0px 1px 2px rgba(0, 0, 0, 0.3));\n",
              "      fill: #FFFFFF;\n",
              "    }\n",
              "  </style>\n",
              "\n",
              "      <script>\n",
              "        const buttonEl =\n",
              "          document.querySelector('#df-e61c318d-bf8a-434c-a247-2696baa98fed button.colab-df-convert');\n",
              "        buttonEl.style.display =\n",
              "          google.colab.kernel.accessAllowed ? 'block' : 'none';\n",
              "\n",
              "        async function convertToInteractive(key) {\n",
              "          const element = document.querySelector('#df-e61c318d-bf8a-434c-a247-2696baa98fed');\n",
              "          const dataTable =\n",
              "            await google.colab.kernel.invokeFunction('convertToInteractive',\n",
              "                                                     [key], {});\n",
              "          if (!dataTable) return;\n",
              "\n",
              "          const docLinkHtml = 'Like what you see? Visit the ' +\n",
              "            '<a target=\"_blank\" href=https://colab.research.google.com/notebooks/data_table.ipynb>data table notebook</a>'\n",
              "            + ' to learn more about interactive tables.';\n",
              "          element.innerHTML = '';\n",
              "          dataTable['output_type'] = 'display_data';\n",
              "          await google.colab.output.renderOutput(dataTable, element);\n",
              "          const docLink = document.createElement('div');\n",
              "          docLink.innerHTML = docLinkHtml;\n",
              "          element.appendChild(docLink);\n",
              "        }\n",
              "      </script>\n",
              "    </div>\n",
              "  </div>\n",
              "  "
            ]
          },
          "metadata": {},
          "execution_count": 121
        }
      ]
    },
    {
      "cell_type": "code",
      "source": [
        "df['pobreza'].value_counts()"
      ],
      "metadata": {
        "colab": {
          "base_uri": "https://localhost:8080/"
        },
        "id": "N3f-KW2vkgef",
        "outputId": "d5a94589-9d6a-4bc8-e390-40cb07e6cff8"
      },
      "execution_count": 113,
      "outputs": [
        {
          "output_type": "execute_result",
          "data": {
            "text/plain": [
              "0    9197\n",
              "1    4258\n",
              "Name: pobreza, dtype: int64"
            ]
          },
          "metadata": {},
          "execution_count": 113
        }
      ]
    },
    {
      "cell_type": "code",
      "source": [
        "from sklearn.utils import resample"
      ],
      "metadata": {
        "id": "blrGxYoRknml"
      },
      "execution_count": 114,
      "outputs": []
    },
    {
      "cell_type": "code",
      "source": [
        "# Separate majority and minority classes\n",
        "df_majority = df[df.pobreza==0]\n",
        "df_minority = df[df.pobreza==1]\n",
        " \n",
        "# Upsample minority class\n",
        "df_majority_upsampled = resample(df_majority, \n",
        "                                 replace=True,     # sample with replacement\n",
        "                                 n_samples=4258,    # to match majority class\n",
        "                                 random_state=0) # reproducible results\n",
        " \n",
        "# Combine majority class with upsampled minority class\n",
        "df_upsampled = pd.concat([df_minority, df_majority_upsampled])\n",
        " \n"
      ],
      "metadata": {
        "id": "91_cMK6-koed"
      },
      "execution_count": 115,
      "outputs": []
    },
    {
      "cell_type": "code",
      "source": [
        "df_upsampled.pobreza.value_counts()"
      ],
      "metadata": {
        "colab": {
          "base_uri": "https://localhost:8080/"
        },
        "id": "GXd3fA4Okojf",
        "outputId": "bb075964-0688-49f1-d2fa-6460ed6b9000"
      },
      "execution_count": 116,
      "outputs": [
        {
          "output_type": "execute_result",
          "data": {
            "text/plain": [
              "1    4258\n",
              "0    4258\n",
              "Name: pobreza, dtype: int64"
            ]
          },
          "metadata": {},
          "execution_count": 116
        }
      ]
    },
    {
      "cell_type": "code",
      "source": [
        "X = df_upsampled.drop(['pobreza'], axis=1)\n",
        "\n",
        "y = df_upsampled['pobreza']"
      ],
      "metadata": {
        "id": "SpwQeuPDkomA"
      },
      "execution_count": 117,
      "outputs": []
    },
    {
      "cell_type": "code",
      "source": [
        "# split X and y into training and testing sets\n",
        "\n",
        "from sklearn.model_selection import train_test_split\n",
        "\n",
        "X_train, X_test, y_train, y_test = train_test_split(X, y, test_size = 0.3, random_state = 0)"
      ],
      "metadata": {
        "id": "2r02t6-OlUTy"
      },
      "execution_count": 118,
      "outputs": []
    },
    {
      "cell_type": "code",
      "source": [
        "# check the shape of X_train and X_test\n",
        "\n",
        "X_train.shape, X_test.shape"
      ],
      "metadata": {
        "colab": {
          "base_uri": "https://localhost:8080/"
        },
        "id": "gBZPh23QlUd6",
        "outputId": "2c3561c0-c591-4800-d099-19769014b2ed"
      },
      "execution_count": 122,
      "outputs": [
        {
          "output_type": "execute_result",
          "data": {
            "text/plain": [
              "((5961, 70), (2555, 70))"
            ]
          },
          "metadata": {},
          "execution_count": 122
        }
      ]
    },
    {
      "cell_type": "code",
      "source": [
        "cols = X_train.columns"
      ],
      "metadata": {
        "id": "5ZllgnQYlUk7"
      },
      "execution_count": 123,
      "outputs": []
    },
    {
      "cell_type": "code",
      "source": [
        "from sklearn.preprocessing import MinMaxScaler\n",
        "\n",
        "scaler = MinMaxScaler()\n",
        "\n",
        "X_train = scaler.fit_transform(X_train)\n",
        "\n",
        "X_test = scaler.transform(X_test)"
      ],
      "metadata": {
        "id": "uYfBYpuXlUsf"
      },
      "execution_count": 124,
      "outputs": []
    },
    {
      "cell_type": "code",
      "source": [
        "X_train = pd.DataFrame(X_train, columns=[cols])"
      ],
      "metadata": {
        "id": "PUs0LKyvlUxZ"
      },
      "execution_count": 125,
      "outputs": []
    },
    {
      "cell_type": "code",
      "source": [
        "X_test = pd.DataFrame(X_test, columns=[cols])"
      ],
      "metadata": {
        "id": "r_-hD45MlU0U"
      },
      "execution_count": 126,
      "outputs": []
    },
    {
      "cell_type": "code",
      "source": [
        "X_train.describe()"
      ],
      "metadata": {
        "colab": {
          "base_uri": "https://localhost:8080/",
          "height": 364
        },
        "id": "6bl5pEDEmOfu",
        "outputId": "634c29da-fdd6-470a-f655-73847f3d28b3"
      },
      "execution_count": 127,
      "outputs": [
        {
          "output_type": "execute_result",
          "data": {
            "text/plain": [
              "        AGLOMERADO          IV1          IV2          IV3          IV4  \\\n",
              "count  5961.000000  5961.000000  5961.000000  5961.000000  5961.000000   \n",
              "mean      0.242099     0.039121     0.225260     0.048034     0.237062   \n",
              "std       0.209357     0.096444     0.130635     0.124484     0.239914   \n",
              "min       0.000000     0.000000     0.000000     0.000000     0.000000   \n",
              "25%       0.109890     0.000000     0.111111     0.000000     0.000000   \n",
              "50%       0.219780     0.000000     0.222222     0.000000     0.125000   \n",
              "75%       0.318681     0.000000     0.333333     0.000000     0.375000   \n",
              "max       1.000000     1.000000     1.000000     1.000000     1.000000   \n",
              "\n",
              "               IV5          IV6          IV7          IV8       IV12_1  \\\n",
              "count  5961.000000  5961.000000  5961.000000  5961.000000  5961.000000   \n",
              "mean      0.157859     0.015853     0.010513     0.003691     0.936085   \n",
              "std       0.364640     0.095847     0.065206     0.060644     0.244623   \n",
              "min       0.000000     0.000000     0.000000     0.000000     0.000000   \n",
              "25%       0.000000     0.000000     0.000000     0.000000     1.000000   \n",
              "50%       0.000000     0.000000     0.000000     0.000000     1.000000   \n",
              "75%       0.000000     0.000000     0.000000     0.000000     1.000000   \n",
              "max       1.000000     1.000000     1.000000     1.000000     1.000000   \n",
              "\n",
              "            IV12_2       IV12_3          II1          II2          II3  \\\n",
              "count  5961.000000  5961.000000  5961.000000  5961.000000  5961.000000   \n",
              "mean      0.937930     0.993122     0.219147     0.321087     0.973327   \n",
              "std       0.241303     0.082655     0.129679     0.142515     0.113855   \n",
              "min       0.000000     0.000000     0.000000     0.000000     0.000000   \n",
              "25%       1.000000     1.000000     0.111111     0.166667     1.000000   \n",
              "50%       1.000000     1.000000     0.222222     0.333333     1.000000   \n",
              "75%       1.000000     1.000000     0.333333     0.333333     1.000000   \n",
              "max       1.000000     1.000000     1.000000     1.000000     1.000000   \n",
              "\n",
              "             II3_1        II5_1        II6_1           V1           V2  \\\n",
              "count  5961.000000  5961.000000  5961.000000  5961.000000  5961.000000   \n",
              "mean      0.018062     0.003775     0.005955     0.024996     0.078343   \n",
              "std       0.078850     0.046999     0.056519     0.051448     0.061666   \n",
              "min       0.000000     0.000000     0.000000     0.000000     0.000000   \n",
              "25%       0.000000     0.000000     0.000000     0.000000     0.000000   \n",
              "50%       0.000000     0.000000     0.000000     0.000000     0.125000   \n",
              "75%       0.000000     0.000000     0.000000     0.000000     0.125000   \n",
              "max       1.000000     1.000000     1.000000     1.000000     1.000000   \n",
              "\n",
              "               V21          V22           V3           V4           V5  \\\n",
              "count  5961.000000  5961.000000  5961.000000  5961.000000  5961.000000   \n",
              "mean      0.995135     0.993625     0.124895     0.124539     0.097760   \n",
              "std       0.069585     0.079594     0.012646     0.014292     0.053011   \n",
              "min       0.000000     0.000000     0.000000     0.000000     0.000000   \n",
              "25%       1.000000     1.000000     0.125000     0.125000     0.125000   \n",
              "50%       1.000000     1.000000     0.125000     0.125000     0.125000   \n",
              "75%       1.000000     1.000000     0.125000     0.125000     0.125000   \n",
              "max       1.000000     1.000000     1.000000     1.000000     1.000000   \n",
              "\n",
              "                V6           V7           V8           V9          V10  \\\n",
              "count  5961.000000  5961.000000  5961.000000  5961.000000  5961.000000   \n",
              "mean      0.115836     0.111978     0.122316     0.124979     0.124623   \n",
              "std       0.034763     0.040066     0.021799     0.012224     0.013923   \n",
              "min       0.000000     0.000000     0.000000     0.000000     0.000000   \n",
              "25%       0.125000     0.125000     0.125000     0.125000     0.125000   \n",
              "50%       0.125000     0.125000     0.125000     0.125000     0.125000   \n",
              "75%       0.125000     0.125000     0.125000     0.125000     0.125000   \n",
              "max       1.000000     1.000000     1.000000     1.000000     1.000000   \n",
              "\n",
              "               V11          V12          V13          V14          V15  \\\n",
              "count  5961.000000  5961.000000  5961.000000  5961.000000  5961.000000   \n",
              "mean      0.121414     0.112649     0.090169     0.105981     0.109692   \n",
              "std       0.024130     0.039222     0.057341     0.046506     0.042735   \n",
              "min       0.000000     0.000000     0.000000     0.000000     0.000000   \n",
              "25%       0.125000     0.125000     0.000000     0.125000     0.125000   \n",
              "50%       0.125000     0.125000     0.125000     0.125000     0.125000   \n",
              "75%       0.125000     0.125000     0.125000     0.125000     0.125000   \n",
              "max       1.000000     1.000000     1.000000     1.000000     1.000000   \n",
              "\n",
              "               V16          V17          V18        V19_A        V19_B  \\\n",
              "count  5961.000000  5961.000000  5961.000000  5961.000000  5961.000000   \n",
              "mean      0.063475     0.110804     0.124937     0.000168     0.125105   \n",
              "std       0.063661     0.041474     0.012437     0.012952     0.011563   \n",
              "min       0.000000     0.000000     0.000000     0.000000     0.000000   \n",
              "25%       0.000000     0.125000     0.125000     0.000000     0.125000   \n",
              "50%       0.125000     0.125000     0.125000     0.000000     0.125000   \n",
              "75%       0.125000     0.125000     0.125000     0.000000     0.125000   \n",
              "max       1.000000     1.000000     1.000000     1.000000     1.000000   \n",
              "\n",
              "            IX_TOT     IX_MEN10   IX_MAYEQ10          ITF       VII1_1  \\\n",
              "count  5961.000000  5961.000000  5961.000000  5961.000000  5961.000000   \n",
              "mean      0.171125     0.080607     0.174098     0.019085     0.033617   \n",
              "std       0.136511     0.134278     0.143868     0.019545     0.166912   \n",
              "min       0.000000     0.000000     0.000000     0.000000     0.000000   \n",
              "25%       0.076923     0.000000     0.100000     0.009668     0.000000   \n",
              "50%       0.153846     0.000000     0.100000     0.015245     0.000000   \n",
              "75%       0.230769     0.166667     0.300000     0.023302     0.010309   \n",
              "max       1.000000     1.000000     1.000000     1.000000     1.000000   \n",
              "\n",
              "            VII1_2       VII2_1       VII2_2       VII2_3       VII2_4  \\\n",
              "count  5961.000000  5961.000000  5961.000000  5961.000000  5961.000000   \n",
              "mean      0.006864     0.685281     0.005052     0.001335     0.001603   \n",
              "std       0.028172     0.459239     0.040450     0.019528     0.032591   \n",
              "min       0.000000     0.000000     0.000000     0.000000     0.000000   \n",
              "25%       0.000000     0.020619     0.000000     0.000000     0.000000   \n",
              "50%       0.000000     1.000000     0.000000     0.000000     0.000000   \n",
              "75%       0.010204     1.000000     0.000000     0.000000     0.000000   \n",
              "max       1.000000     1.000000     1.000000     1.000000     1.000000   \n",
              "\n",
              "      parentesco       genero         edad   cob_medica     NIVEL_ED  \\\n",
              "count     5961.0  5961.000000  5961.000000  5961.000000  5961.000000   \n",
              "mean         0.0     0.476766     0.425124     0.049565     0.435973   \n",
              "std          0.0     0.499502     0.204087     0.086313     0.259964   \n",
              "min          0.0     0.000000     0.000000     0.000000     0.000000   \n",
              "25%          0.0     0.000000     0.265823     0.000000     0.166667   \n",
              "50%          0.0     0.000000     0.405063     0.000000     0.500000   \n",
              "75%          0.0     1.000000     0.582278     0.136364     0.666667   \n",
              "max          0.0     1.000000     1.000000     1.000000     1.000000   \n",
              "\n",
              "          CAT_OCUP     CAT_INAC AE_ctrol_ind_sum adulto_equivalente  \\\n",
              "count  5961.000000  5961.000000      5961.000000        5961.000000   \n",
              "mean      0.485342     0.083926         0.183243           0.017787   \n",
              "std       0.382068     0.161453         0.132964           0.022681   \n",
              "min       0.000000     0.000000         0.000000           0.000000   \n",
              "25%       0.250000     0.000000         0.081232           0.007887   \n",
              "50%       0.250000     0.000000         0.169935           0.011507   \n",
              "75%       1.000000     0.142857         0.264239           0.021568   \n",
              "max       1.000000     1.000000         1.000000           1.000000   \n",
              "\n",
              "               IV9         IV10         IV11        II4_1        II4_2  \\\n",
              "count  5961.000000  5961.000000  5961.000000  5961.000000  5961.000000   \n",
              "mean      0.019879     0.029609     0.094895     0.098473     0.567522   \n",
              "std       0.098132     0.124932     0.192025     0.297979     0.495461   \n",
              "min       0.000000     0.000000     0.000000     0.000000     0.000000   \n",
              "25%       0.000000     0.000000     0.000000     0.000000     0.000000   \n",
              "50%       0.000000     0.000000     0.000000     0.000000     1.000000   \n",
              "75%       0.000000     0.000000     0.000000     0.000000     1.000000   \n",
              "max       1.000000     1.000000     1.000000     1.000000     1.000000   \n",
              "\n",
              "             II4_3          II5          II6          II7          II8  \\\n",
              "count  5961.000000  5961.000000  5961.000000  5961.000000  5961.000000   \n",
              "mean      0.700554     0.993122     0.988257     0.121603     0.148353   \n",
              "std       0.458054     0.082655     0.107736     0.205470     0.181152   \n",
              "min       0.000000     0.000000     0.000000     0.000000     0.000000   \n",
              "25%       0.000000     1.000000     1.000000     0.000000     0.000000   \n",
              "50%       1.000000     1.000000     1.000000     0.000000     0.000000   \n",
              "75%       1.000000     1.000000     1.000000     0.250000     0.333333   \n",
              "max       1.000000     1.000000     1.000000     1.000000     1.000000   \n",
              "\n",
              "               II9  \n",
              "count  5961.000000  \n",
              "mean      0.015713  \n",
              "std       0.097293  \n",
              "min       0.000000  \n",
              "25%       0.000000  \n",
              "50%       0.000000  \n",
              "75%       0.000000  \n",
              "max       1.000000  "
            ],
            "text/html": [
              "\n",
              "  <div id=\"df-46d81561-6f6d-4632-b054-1df9d2f3fe4d\">\n",
              "    <div class=\"colab-df-container\">\n",
              "      <div>\n",
              "<style scoped>\n",
              "    .dataframe tbody tr th:only-of-type {\n",
              "        vertical-align: middle;\n",
              "    }\n",
              "\n",
              "    .dataframe tbody tr th {\n",
              "        vertical-align: top;\n",
              "    }\n",
              "\n",
              "    .dataframe thead tr th {\n",
              "        text-align: left;\n",
              "    }\n",
              "</style>\n",
              "<table border=\"1\" class=\"dataframe\">\n",
              "  <thead>\n",
              "    <tr>\n",
              "      <th></th>\n",
              "      <th>AGLOMERADO</th>\n",
              "      <th>IV1</th>\n",
              "      <th>IV2</th>\n",
              "      <th>IV3</th>\n",
              "      <th>IV4</th>\n",
              "      <th>IV5</th>\n",
              "      <th>IV6</th>\n",
              "      <th>IV7</th>\n",
              "      <th>IV8</th>\n",
              "      <th>IV12_1</th>\n",
              "      <th>IV12_2</th>\n",
              "      <th>IV12_3</th>\n",
              "      <th>II1</th>\n",
              "      <th>II2</th>\n",
              "      <th>II3</th>\n",
              "      <th>II3_1</th>\n",
              "      <th>II5_1</th>\n",
              "      <th>II6_1</th>\n",
              "      <th>V1</th>\n",
              "      <th>V2</th>\n",
              "      <th>V21</th>\n",
              "      <th>V22</th>\n",
              "      <th>V3</th>\n",
              "      <th>V4</th>\n",
              "      <th>V5</th>\n",
              "      <th>V6</th>\n",
              "      <th>V7</th>\n",
              "      <th>V8</th>\n",
              "      <th>V9</th>\n",
              "      <th>V10</th>\n",
              "      <th>V11</th>\n",
              "      <th>V12</th>\n",
              "      <th>V13</th>\n",
              "      <th>V14</th>\n",
              "      <th>V15</th>\n",
              "      <th>V16</th>\n",
              "      <th>V17</th>\n",
              "      <th>V18</th>\n",
              "      <th>V19_A</th>\n",
              "      <th>V19_B</th>\n",
              "      <th>IX_TOT</th>\n",
              "      <th>IX_MEN10</th>\n",
              "      <th>IX_MAYEQ10</th>\n",
              "      <th>ITF</th>\n",
              "      <th>VII1_1</th>\n",
              "      <th>VII1_2</th>\n",
              "      <th>VII2_1</th>\n",
              "      <th>VII2_2</th>\n",
              "      <th>VII2_3</th>\n",
              "      <th>VII2_4</th>\n",
              "      <th>parentesco</th>\n",
              "      <th>genero</th>\n",
              "      <th>edad</th>\n",
              "      <th>cob_medica</th>\n",
              "      <th>NIVEL_ED</th>\n",
              "      <th>CAT_OCUP</th>\n",
              "      <th>CAT_INAC</th>\n",
              "      <th>AE_ctrol_ind_sum</th>\n",
              "      <th>adulto_equivalente</th>\n",
              "      <th>IV9</th>\n",
              "      <th>IV10</th>\n",
              "      <th>IV11</th>\n",
              "      <th>II4_1</th>\n",
              "      <th>II4_2</th>\n",
              "      <th>II4_3</th>\n",
              "      <th>II5</th>\n",
              "      <th>II6</th>\n",
              "      <th>II7</th>\n",
              "      <th>II8</th>\n",
              "      <th>II9</th>\n",
              "    </tr>\n",
              "  </thead>\n",
              "  <tbody>\n",
              "    <tr>\n",
              "      <th>count</th>\n",
              "      <td>5961.000000</td>\n",
              "      <td>5961.000000</td>\n",
              "      <td>5961.000000</td>\n",
              "      <td>5961.000000</td>\n",
              "      <td>5961.000000</td>\n",
              "      <td>5961.000000</td>\n",
              "      <td>5961.000000</td>\n",
              "      <td>5961.000000</td>\n",
              "      <td>5961.000000</td>\n",
              "      <td>5961.000000</td>\n",
              "      <td>5961.000000</td>\n",
              "      <td>5961.000000</td>\n",
              "      <td>5961.000000</td>\n",
              "      <td>5961.000000</td>\n",
              "      <td>5961.000000</td>\n",
              "      <td>5961.000000</td>\n",
              "      <td>5961.000000</td>\n",
              "      <td>5961.000000</td>\n",
              "      <td>5961.000000</td>\n",
              "      <td>5961.000000</td>\n",
              "      <td>5961.000000</td>\n",
              "      <td>5961.000000</td>\n",
              "      <td>5961.000000</td>\n",
              "      <td>5961.000000</td>\n",
              "      <td>5961.000000</td>\n",
              "      <td>5961.000000</td>\n",
              "      <td>5961.000000</td>\n",
              "      <td>5961.000000</td>\n",
              "      <td>5961.000000</td>\n",
              "      <td>5961.000000</td>\n",
              "      <td>5961.000000</td>\n",
              "      <td>5961.000000</td>\n",
              "      <td>5961.000000</td>\n",
              "      <td>5961.000000</td>\n",
              "      <td>5961.000000</td>\n",
              "      <td>5961.000000</td>\n",
              "      <td>5961.000000</td>\n",
              "      <td>5961.000000</td>\n",
              "      <td>5961.000000</td>\n",
              "      <td>5961.000000</td>\n",
              "      <td>5961.000000</td>\n",
              "      <td>5961.000000</td>\n",
              "      <td>5961.000000</td>\n",
              "      <td>5961.000000</td>\n",
              "      <td>5961.000000</td>\n",
              "      <td>5961.000000</td>\n",
              "      <td>5961.000000</td>\n",
              "      <td>5961.000000</td>\n",
              "      <td>5961.000000</td>\n",
              "      <td>5961.000000</td>\n",
              "      <td>5961.0</td>\n",
              "      <td>5961.000000</td>\n",
              "      <td>5961.000000</td>\n",
              "      <td>5961.000000</td>\n",
              "      <td>5961.000000</td>\n",
              "      <td>5961.000000</td>\n",
              "      <td>5961.000000</td>\n",
              "      <td>5961.000000</td>\n",
              "      <td>5961.000000</td>\n",
              "      <td>5961.000000</td>\n",
              "      <td>5961.000000</td>\n",
              "      <td>5961.000000</td>\n",
              "      <td>5961.000000</td>\n",
              "      <td>5961.000000</td>\n",
              "      <td>5961.000000</td>\n",
              "      <td>5961.000000</td>\n",
              "      <td>5961.000000</td>\n",
              "      <td>5961.000000</td>\n",
              "      <td>5961.000000</td>\n",
              "      <td>5961.000000</td>\n",
              "    </tr>\n",
              "    <tr>\n",
              "      <th>mean</th>\n",
              "      <td>0.242099</td>\n",
              "      <td>0.039121</td>\n",
              "      <td>0.225260</td>\n",
              "      <td>0.048034</td>\n",
              "      <td>0.237062</td>\n",
              "      <td>0.157859</td>\n",
              "      <td>0.015853</td>\n",
              "      <td>0.010513</td>\n",
              "      <td>0.003691</td>\n",
              "      <td>0.936085</td>\n",
              "      <td>0.937930</td>\n",
              "      <td>0.993122</td>\n",
              "      <td>0.219147</td>\n",
              "      <td>0.321087</td>\n",
              "      <td>0.973327</td>\n",
              "      <td>0.018062</td>\n",
              "      <td>0.003775</td>\n",
              "      <td>0.005955</td>\n",
              "      <td>0.024996</td>\n",
              "      <td>0.078343</td>\n",
              "      <td>0.995135</td>\n",
              "      <td>0.993625</td>\n",
              "      <td>0.124895</td>\n",
              "      <td>0.124539</td>\n",
              "      <td>0.097760</td>\n",
              "      <td>0.115836</td>\n",
              "      <td>0.111978</td>\n",
              "      <td>0.122316</td>\n",
              "      <td>0.124979</td>\n",
              "      <td>0.124623</td>\n",
              "      <td>0.121414</td>\n",
              "      <td>0.112649</td>\n",
              "      <td>0.090169</td>\n",
              "      <td>0.105981</td>\n",
              "      <td>0.109692</td>\n",
              "      <td>0.063475</td>\n",
              "      <td>0.110804</td>\n",
              "      <td>0.124937</td>\n",
              "      <td>0.000168</td>\n",
              "      <td>0.125105</td>\n",
              "      <td>0.171125</td>\n",
              "      <td>0.080607</td>\n",
              "      <td>0.174098</td>\n",
              "      <td>0.019085</td>\n",
              "      <td>0.033617</td>\n",
              "      <td>0.006864</td>\n",
              "      <td>0.685281</td>\n",
              "      <td>0.005052</td>\n",
              "      <td>0.001335</td>\n",
              "      <td>0.001603</td>\n",
              "      <td>0.0</td>\n",
              "      <td>0.476766</td>\n",
              "      <td>0.425124</td>\n",
              "      <td>0.049565</td>\n",
              "      <td>0.435973</td>\n",
              "      <td>0.485342</td>\n",
              "      <td>0.083926</td>\n",
              "      <td>0.183243</td>\n",
              "      <td>0.017787</td>\n",
              "      <td>0.019879</td>\n",
              "      <td>0.029609</td>\n",
              "      <td>0.094895</td>\n",
              "      <td>0.098473</td>\n",
              "      <td>0.567522</td>\n",
              "      <td>0.700554</td>\n",
              "      <td>0.993122</td>\n",
              "      <td>0.988257</td>\n",
              "      <td>0.121603</td>\n",
              "      <td>0.148353</td>\n",
              "      <td>0.015713</td>\n",
              "    </tr>\n",
              "    <tr>\n",
              "      <th>std</th>\n",
              "      <td>0.209357</td>\n",
              "      <td>0.096444</td>\n",
              "      <td>0.130635</td>\n",
              "      <td>0.124484</td>\n",
              "      <td>0.239914</td>\n",
              "      <td>0.364640</td>\n",
              "      <td>0.095847</td>\n",
              "      <td>0.065206</td>\n",
              "      <td>0.060644</td>\n",
              "      <td>0.244623</td>\n",
              "      <td>0.241303</td>\n",
              "      <td>0.082655</td>\n",
              "      <td>0.129679</td>\n",
              "      <td>0.142515</td>\n",
              "      <td>0.113855</td>\n",
              "      <td>0.078850</td>\n",
              "      <td>0.046999</td>\n",
              "      <td>0.056519</td>\n",
              "      <td>0.051448</td>\n",
              "      <td>0.061666</td>\n",
              "      <td>0.069585</td>\n",
              "      <td>0.079594</td>\n",
              "      <td>0.012646</td>\n",
              "      <td>0.014292</td>\n",
              "      <td>0.053011</td>\n",
              "      <td>0.034763</td>\n",
              "      <td>0.040066</td>\n",
              "      <td>0.021799</td>\n",
              "      <td>0.012224</td>\n",
              "      <td>0.013923</td>\n",
              "      <td>0.024130</td>\n",
              "      <td>0.039222</td>\n",
              "      <td>0.057341</td>\n",
              "      <td>0.046506</td>\n",
              "      <td>0.042735</td>\n",
              "      <td>0.063661</td>\n",
              "      <td>0.041474</td>\n",
              "      <td>0.012437</td>\n",
              "      <td>0.012952</td>\n",
              "      <td>0.011563</td>\n",
              "      <td>0.136511</td>\n",
              "      <td>0.134278</td>\n",
              "      <td>0.143868</td>\n",
              "      <td>0.019545</td>\n",
              "      <td>0.166912</td>\n",
              "      <td>0.028172</td>\n",
              "      <td>0.459239</td>\n",
              "      <td>0.040450</td>\n",
              "      <td>0.019528</td>\n",
              "      <td>0.032591</td>\n",
              "      <td>0.0</td>\n",
              "      <td>0.499502</td>\n",
              "      <td>0.204087</td>\n",
              "      <td>0.086313</td>\n",
              "      <td>0.259964</td>\n",
              "      <td>0.382068</td>\n",
              "      <td>0.161453</td>\n",
              "      <td>0.132964</td>\n",
              "      <td>0.022681</td>\n",
              "      <td>0.098132</td>\n",
              "      <td>0.124932</td>\n",
              "      <td>0.192025</td>\n",
              "      <td>0.297979</td>\n",
              "      <td>0.495461</td>\n",
              "      <td>0.458054</td>\n",
              "      <td>0.082655</td>\n",
              "      <td>0.107736</td>\n",
              "      <td>0.205470</td>\n",
              "      <td>0.181152</td>\n",
              "      <td>0.097293</td>\n",
              "    </tr>\n",
              "    <tr>\n",
              "      <th>min</th>\n",
              "      <td>0.000000</td>\n",
              "      <td>0.000000</td>\n",
              "      <td>0.000000</td>\n",
              "      <td>0.000000</td>\n",
              "      <td>0.000000</td>\n",
              "      <td>0.000000</td>\n",
              "      <td>0.000000</td>\n",
              "      <td>0.000000</td>\n",
              "      <td>0.000000</td>\n",
              "      <td>0.000000</td>\n",
              "      <td>0.000000</td>\n",
              "      <td>0.000000</td>\n",
              "      <td>0.000000</td>\n",
              "      <td>0.000000</td>\n",
              "      <td>0.000000</td>\n",
              "      <td>0.000000</td>\n",
              "      <td>0.000000</td>\n",
              "      <td>0.000000</td>\n",
              "      <td>0.000000</td>\n",
              "      <td>0.000000</td>\n",
              "      <td>0.000000</td>\n",
              "      <td>0.000000</td>\n",
              "      <td>0.000000</td>\n",
              "      <td>0.000000</td>\n",
              "      <td>0.000000</td>\n",
              "      <td>0.000000</td>\n",
              "      <td>0.000000</td>\n",
              "      <td>0.000000</td>\n",
              "      <td>0.000000</td>\n",
              "      <td>0.000000</td>\n",
              "      <td>0.000000</td>\n",
              "      <td>0.000000</td>\n",
              "      <td>0.000000</td>\n",
              "      <td>0.000000</td>\n",
              "      <td>0.000000</td>\n",
              "      <td>0.000000</td>\n",
              "      <td>0.000000</td>\n",
              "      <td>0.000000</td>\n",
              "      <td>0.000000</td>\n",
              "      <td>0.000000</td>\n",
              "      <td>0.000000</td>\n",
              "      <td>0.000000</td>\n",
              "      <td>0.000000</td>\n",
              "      <td>0.000000</td>\n",
              "      <td>0.000000</td>\n",
              "      <td>0.000000</td>\n",
              "      <td>0.000000</td>\n",
              "      <td>0.000000</td>\n",
              "      <td>0.000000</td>\n",
              "      <td>0.000000</td>\n",
              "      <td>0.0</td>\n",
              "      <td>0.000000</td>\n",
              "      <td>0.000000</td>\n",
              "      <td>0.000000</td>\n",
              "      <td>0.000000</td>\n",
              "      <td>0.000000</td>\n",
              "      <td>0.000000</td>\n",
              "      <td>0.000000</td>\n",
              "      <td>0.000000</td>\n",
              "      <td>0.000000</td>\n",
              "      <td>0.000000</td>\n",
              "      <td>0.000000</td>\n",
              "      <td>0.000000</td>\n",
              "      <td>0.000000</td>\n",
              "      <td>0.000000</td>\n",
              "      <td>0.000000</td>\n",
              "      <td>0.000000</td>\n",
              "      <td>0.000000</td>\n",
              "      <td>0.000000</td>\n",
              "      <td>0.000000</td>\n",
              "    </tr>\n",
              "    <tr>\n",
              "      <th>25%</th>\n",
              "      <td>0.109890</td>\n",
              "      <td>0.000000</td>\n",
              "      <td>0.111111</td>\n",
              "      <td>0.000000</td>\n",
              "      <td>0.000000</td>\n",
              "      <td>0.000000</td>\n",
              "      <td>0.000000</td>\n",
              "      <td>0.000000</td>\n",
              "      <td>0.000000</td>\n",
              "      <td>1.000000</td>\n",
              "      <td>1.000000</td>\n",
              "      <td>1.000000</td>\n",
              "      <td>0.111111</td>\n",
              "      <td>0.166667</td>\n",
              "      <td>1.000000</td>\n",
              "      <td>0.000000</td>\n",
              "      <td>0.000000</td>\n",
              "      <td>0.000000</td>\n",
              "      <td>0.000000</td>\n",
              "      <td>0.000000</td>\n",
              "      <td>1.000000</td>\n",
              "      <td>1.000000</td>\n",
              "      <td>0.125000</td>\n",
              "      <td>0.125000</td>\n",
              "      <td>0.125000</td>\n",
              "      <td>0.125000</td>\n",
              "      <td>0.125000</td>\n",
              "      <td>0.125000</td>\n",
              "      <td>0.125000</td>\n",
              "      <td>0.125000</td>\n",
              "      <td>0.125000</td>\n",
              "      <td>0.125000</td>\n",
              "      <td>0.000000</td>\n",
              "      <td>0.125000</td>\n",
              "      <td>0.125000</td>\n",
              "      <td>0.000000</td>\n",
              "      <td>0.125000</td>\n",
              "      <td>0.125000</td>\n",
              "      <td>0.000000</td>\n",
              "      <td>0.125000</td>\n",
              "      <td>0.076923</td>\n",
              "      <td>0.000000</td>\n",
              "      <td>0.100000</td>\n",
              "      <td>0.009668</td>\n",
              "      <td>0.000000</td>\n",
              "      <td>0.000000</td>\n",
              "      <td>0.020619</td>\n",
              "      <td>0.000000</td>\n",
              "      <td>0.000000</td>\n",
              "      <td>0.000000</td>\n",
              "      <td>0.0</td>\n",
              "      <td>0.000000</td>\n",
              "      <td>0.265823</td>\n",
              "      <td>0.000000</td>\n",
              "      <td>0.166667</td>\n",
              "      <td>0.250000</td>\n",
              "      <td>0.000000</td>\n",
              "      <td>0.081232</td>\n",
              "      <td>0.007887</td>\n",
              "      <td>0.000000</td>\n",
              "      <td>0.000000</td>\n",
              "      <td>0.000000</td>\n",
              "      <td>0.000000</td>\n",
              "      <td>0.000000</td>\n",
              "      <td>0.000000</td>\n",
              "      <td>1.000000</td>\n",
              "      <td>1.000000</td>\n",
              "      <td>0.000000</td>\n",
              "      <td>0.000000</td>\n",
              "      <td>0.000000</td>\n",
              "    </tr>\n",
              "    <tr>\n",
              "      <th>50%</th>\n",
              "      <td>0.219780</td>\n",
              "      <td>0.000000</td>\n",
              "      <td>0.222222</td>\n",
              "      <td>0.000000</td>\n",
              "      <td>0.125000</td>\n",
              "      <td>0.000000</td>\n",
              "      <td>0.000000</td>\n",
              "      <td>0.000000</td>\n",
              "      <td>0.000000</td>\n",
              "      <td>1.000000</td>\n",
              "      <td>1.000000</td>\n",
              "      <td>1.000000</td>\n",
              "      <td>0.222222</td>\n",
              "      <td>0.333333</td>\n",
              "      <td>1.000000</td>\n",
              "      <td>0.000000</td>\n",
              "      <td>0.000000</td>\n",
              "      <td>0.000000</td>\n",
              "      <td>0.000000</td>\n",
              "      <td>0.125000</td>\n",
              "      <td>1.000000</td>\n",
              "      <td>1.000000</td>\n",
              "      <td>0.125000</td>\n",
              "      <td>0.125000</td>\n",
              "      <td>0.125000</td>\n",
              "      <td>0.125000</td>\n",
              "      <td>0.125000</td>\n",
              "      <td>0.125000</td>\n",
              "      <td>0.125000</td>\n",
              "      <td>0.125000</td>\n",
              "      <td>0.125000</td>\n",
              "      <td>0.125000</td>\n",
              "      <td>0.125000</td>\n",
              "      <td>0.125000</td>\n",
              "      <td>0.125000</td>\n",
              "      <td>0.125000</td>\n",
              "      <td>0.125000</td>\n",
              "      <td>0.125000</td>\n",
              "      <td>0.000000</td>\n",
              "      <td>0.125000</td>\n",
              "      <td>0.153846</td>\n",
              "      <td>0.000000</td>\n",
              "      <td>0.100000</td>\n",
              "      <td>0.015245</td>\n",
              "      <td>0.000000</td>\n",
              "      <td>0.000000</td>\n",
              "      <td>1.000000</td>\n",
              "      <td>0.000000</td>\n",
              "      <td>0.000000</td>\n",
              "      <td>0.000000</td>\n",
              "      <td>0.0</td>\n",
              "      <td>0.000000</td>\n",
              "      <td>0.405063</td>\n",
              "      <td>0.000000</td>\n",
              "      <td>0.500000</td>\n",
              "      <td>0.250000</td>\n",
              "      <td>0.000000</td>\n",
              "      <td>0.169935</td>\n",
              "      <td>0.011507</td>\n",
              "      <td>0.000000</td>\n",
              "      <td>0.000000</td>\n",
              "      <td>0.000000</td>\n",
              "      <td>0.000000</td>\n",
              "      <td>1.000000</td>\n",
              "      <td>1.000000</td>\n",
              "      <td>1.000000</td>\n",
              "      <td>1.000000</td>\n",
              "      <td>0.000000</td>\n",
              "      <td>0.000000</td>\n",
              "      <td>0.000000</td>\n",
              "    </tr>\n",
              "    <tr>\n",
              "      <th>75%</th>\n",
              "      <td>0.318681</td>\n",
              "      <td>0.000000</td>\n",
              "      <td>0.333333</td>\n",
              "      <td>0.000000</td>\n",
              "      <td>0.375000</td>\n",
              "      <td>0.000000</td>\n",
              "      <td>0.000000</td>\n",
              "      <td>0.000000</td>\n",
              "      <td>0.000000</td>\n",
              "      <td>1.000000</td>\n",
              "      <td>1.000000</td>\n",
              "      <td>1.000000</td>\n",
              "      <td>0.333333</td>\n",
              "      <td>0.333333</td>\n",
              "      <td>1.000000</td>\n",
              "      <td>0.000000</td>\n",
              "      <td>0.000000</td>\n",
              "      <td>0.000000</td>\n",
              "      <td>0.000000</td>\n",
              "      <td>0.125000</td>\n",
              "      <td>1.000000</td>\n",
              "      <td>1.000000</td>\n",
              "      <td>0.125000</td>\n",
              "      <td>0.125000</td>\n",
              "      <td>0.125000</td>\n",
              "      <td>0.125000</td>\n",
              "      <td>0.125000</td>\n",
              "      <td>0.125000</td>\n",
              "      <td>0.125000</td>\n",
              "      <td>0.125000</td>\n",
              "      <td>0.125000</td>\n",
              "      <td>0.125000</td>\n",
              "      <td>0.125000</td>\n",
              "      <td>0.125000</td>\n",
              "      <td>0.125000</td>\n",
              "      <td>0.125000</td>\n",
              "      <td>0.125000</td>\n",
              "      <td>0.125000</td>\n",
              "      <td>0.000000</td>\n",
              "      <td>0.125000</td>\n",
              "      <td>0.230769</td>\n",
              "      <td>0.166667</td>\n",
              "      <td>0.300000</td>\n",
              "      <td>0.023302</td>\n",
              "      <td>0.010309</td>\n",
              "      <td>0.010204</td>\n",
              "      <td>1.000000</td>\n",
              "      <td>0.000000</td>\n",
              "      <td>0.000000</td>\n",
              "      <td>0.000000</td>\n",
              "      <td>0.0</td>\n",
              "      <td>1.000000</td>\n",
              "      <td>0.582278</td>\n",
              "      <td>0.136364</td>\n",
              "      <td>0.666667</td>\n",
              "      <td>1.000000</td>\n",
              "      <td>0.142857</td>\n",
              "      <td>0.264239</td>\n",
              "      <td>0.021568</td>\n",
              "      <td>0.000000</td>\n",
              "      <td>0.000000</td>\n",
              "      <td>0.000000</td>\n",
              "      <td>0.000000</td>\n",
              "      <td>1.000000</td>\n",
              "      <td>1.000000</td>\n",
              "      <td>1.000000</td>\n",
              "      <td>1.000000</td>\n",
              "      <td>0.250000</td>\n",
              "      <td>0.333333</td>\n",
              "      <td>0.000000</td>\n",
              "    </tr>\n",
              "    <tr>\n",
              "      <th>max</th>\n",
              "      <td>1.000000</td>\n",
              "      <td>1.000000</td>\n",
              "      <td>1.000000</td>\n",
              "      <td>1.000000</td>\n",
              "      <td>1.000000</td>\n",
              "      <td>1.000000</td>\n",
              "      <td>1.000000</td>\n",
              "      <td>1.000000</td>\n",
              "      <td>1.000000</td>\n",
              "      <td>1.000000</td>\n",
              "      <td>1.000000</td>\n",
              "      <td>1.000000</td>\n",
              "      <td>1.000000</td>\n",
              "      <td>1.000000</td>\n",
              "      <td>1.000000</td>\n",
              "      <td>1.000000</td>\n",
              "      <td>1.000000</td>\n",
              "      <td>1.000000</td>\n",
              "      <td>1.000000</td>\n",
              "      <td>1.000000</td>\n",
              "      <td>1.000000</td>\n",
              "      <td>1.000000</td>\n",
              "      <td>1.000000</td>\n",
              "      <td>1.000000</td>\n",
              "      <td>1.000000</td>\n",
              "      <td>1.000000</td>\n",
              "      <td>1.000000</td>\n",
              "      <td>1.000000</td>\n",
              "      <td>1.000000</td>\n",
              "      <td>1.000000</td>\n",
              "      <td>1.000000</td>\n",
              "      <td>1.000000</td>\n",
              "      <td>1.000000</td>\n",
              "      <td>1.000000</td>\n",
              "      <td>1.000000</td>\n",
              "      <td>1.000000</td>\n",
              "      <td>1.000000</td>\n",
              "      <td>1.000000</td>\n",
              "      <td>1.000000</td>\n",
              "      <td>1.000000</td>\n",
              "      <td>1.000000</td>\n",
              "      <td>1.000000</td>\n",
              "      <td>1.000000</td>\n",
              "      <td>1.000000</td>\n",
              "      <td>1.000000</td>\n",
              "      <td>1.000000</td>\n",
              "      <td>1.000000</td>\n",
              "      <td>1.000000</td>\n",
              "      <td>1.000000</td>\n",
              "      <td>1.000000</td>\n",
              "      <td>0.0</td>\n",
              "      <td>1.000000</td>\n",
              "      <td>1.000000</td>\n",
              "      <td>1.000000</td>\n",
              "      <td>1.000000</td>\n",
              "      <td>1.000000</td>\n",
              "      <td>1.000000</td>\n",
              "      <td>1.000000</td>\n",
              "      <td>1.000000</td>\n",
              "      <td>1.000000</td>\n",
              "      <td>1.000000</td>\n",
              "      <td>1.000000</td>\n",
              "      <td>1.000000</td>\n",
              "      <td>1.000000</td>\n",
              "      <td>1.000000</td>\n",
              "      <td>1.000000</td>\n",
              "      <td>1.000000</td>\n",
              "      <td>1.000000</td>\n",
              "      <td>1.000000</td>\n",
              "      <td>1.000000</td>\n",
              "    </tr>\n",
              "  </tbody>\n",
              "</table>\n",
              "</div>\n",
              "      <button class=\"colab-df-convert\" onclick=\"convertToInteractive('df-46d81561-6f6d-4632-b054-1df9d2f3fe4d')\"\n",
              "              title=\"Convert this dataframe to an interactive table.\"\n",
              "              style=\"display:none;\">\n",
              "        \n",
              "  <svg xmlns=\"http://www.w3.org/2000/svg\" height=\"24px\"viewBox=\"0 0 24 24\"\n",
              "       width=\"24px\">\n",
              "    <path d=\"M0 0h24v24H0V0z\" fill=\"none\"/>\n",
              "    <path d=\"M18.56 5.44l.94 2.06.94-2.06 2.06-.94-2.06-.94-.94-2.06-.94 2.06-2.06.94zm-11 1L8.5 8.5l.94-2.06 2.06-.94-2.06-.94L8.5 2.5l-.94 2.06-2.06.94zm10 10l.94 2.06.94-2.06 2.06-.94-2.06-.94-.94-2.06-.94 2.06-2.06.94z\"/><path d=\"M17.41 7.96l-1.37-1.37c-.4-.4-.92-.59-1.43-.59-.52 0-1.04.2-1.43.59L10.3 9.45l-7.72 7.72c-.78.78-.78 2.05 0 2.83L4 21.41c.39.39.9.59 1.41.59.51 0 1.02-.2 1.41-.59l7.78-7.78 2.81-2.81c.8-.78.8-2.07 0-2.86zM5.41 20L4 18.59l7.72-7.72 1.47 1.35L5.41 20z\"/>\n",
              "  </svg>\n",
              "      </button>\n",
              "      \n",
              "  <style>\n",
              "    .colab-df-container {\n",
              "      display:flex;\n",
              "      flex-wrap:wrap;\n",
              "      gap: 12px;\n",
              "    }\n",
              "\n",
              "    .colab-df-convert {\n",
              "      background-color: #E8F0FE;\n",
              "      border: none;\n",
              "      border-radius: 50%;\n",
              "      cursor: pointer;\n",
              "      display: none;\n",
              "      fill: #1967D2;\n",
              "      height: 32px;\n",
              "      padding: 0 0 0 0;\n",
              "      width: 32px;\n",
              "    }\n",
              "\n",
              "    .colab-df-convert:hover {\n",
              "      background-color: #E2EBFA;\n",
              "      box-shadow: 0px 1px 2px rgba(60, 64, 67, 0.3), 0px 1px 3px 1px rgba(60, 64, 67, 0.15);\n",
              "      fill: #174EA6;\n",
              "    }\n",
              "\n",
              "    [theme=dark] .colab-df-convert {\n",
              "      background-color: #3B4455;\n",
              "      fill: #D2E3FC;\n",
              "    }\n",
              "\n",
              "    [theme=dark] .colab-df-convert:hover {\n",
              "      background-color: #434B5C;\n",
              "      box-shadow: 0px 1px 3px 1px rgba(0, 0, 0, 0.15);\n",
              "      filter: drop-shadow(0px 1px 2px rgba(0, 0, 0, 0.3));\n",
              "      fill: #FFFFFF;\n",
              "    }\n",
              "  </style>\n",
              "\n",
              "      <script>\n",
              "        const buttonEl =\n",
              "          document.querySelector('#df-46d81561-6f6d-4632-b054-1df9d2f3fe4d button.colab-df-convert');\n",
              "        buttonEl.style.display =\n",
              "          google.colab.kernel.accessAllowed ? 'block' : 'none';\n",
              "\n",
              "        async function convertToInteractive(key) {\n",
              "          const element = document.querySelector('#df-46d81561-6f6d-4632-b054-1df9d2f3fe4d');\n",
              "          const dataTable =\n",
              "            await google.colab.kernel.invokeFunction('convertToInteractive',\n",
              "                                                     [key], {});\n",
              "          if (!dataTable) return;\n",
              "\n",
              "          const docLinkHtml = 'Like what you see? Visit the ' +\n",
              "            '<a target=\"_blank\" href=https://colab.research.google.com/notebooks/data_table.ipynb>data table notebook</a>'\n",
              "            + ' to learn more about interactive tables.';\n",
              "          element.innerHTML = '';\n",
              "          dataTable['output_type'] = 'display_data';\n",
              "          await google.colab.output.renderOutput(dataTable, element);\n",
              "          const docLink = document.createElement('div');\n",
              "          docLink.innerHTML = docLinkHtml;\n",
              "          element.appendChild(docLink);\n",
              "        }\n",
              "      </script>\n",
              "    </div>\n",
              "  </div>\n",
              "  "
            ]
          },
          "metadata": {},
          "execution_count": 127
        }
      ]
    },
    {
      "cell_type": "code",
      "source": [
        "# instantiate the model\n",
        "logreg = LogisticRegression(solver='liblinear', random_state=0)\n",
        "\n",
        "\n",
        "# fit the model\n",
        "logreg.fit(X_train, y_train)"
      ],
      "metadata": {
        "colab": {
          "base_uri": "https://localhost:8080/"
        },
        "id": "aIZ2-fWOmOo0",
        "outputId": "a76c01f3-aeaf-4f85-e0e1-20a378a982fc"
      },
      "execution_count": 128,
      "outputs": [
        {
          "output_type": "execute_result",
          "data": {
            "text/plain": [
              "LogisticRegression(random_state=0, solver='liblinear')"
            ]
          },
          "metadata": {},
          "execution_count": 128
        }
      ]
    },
    {
      "cell_type": "code",
      "source": [
        "y_pred_test = logreg.predict(X_test)\n",
        "\n",
        "y_pred_test"
      ],
      "metadata": {
        "colab": {
          "base_uri": "https://localhost:8080/"
        },
        "id": "bOTBcrUwmqP7",
        "outputId": "9d47a882-b9f6-4da2-df38-76d98d8ed55c"
      },
      "execution_count": 129,
      "outputs": [
        {
          "output_type": "execute_result",
          "data": {
            "text/plain": [
              "array([1, 1, 0, ..., 1, 1, 0])"
            ]
          },
          "metadata": {},
          "execution_count": 129
        }
      ]
    },
    {
      "cell_type": "code",
      "source": [
        "# probability of getting output as 0 - no probreza\n",
        "\n",
        "logreg.predict_proba(X_test)[:,0]"
      ],
      "metadata": {
        "colab": {
          "base_uri": "https://localhost:8080/"
        },
        "id": "OOXTu50CmOuG",
        "outputId": "5015c770-7b4d-441c-bd4d-9859f1d95df3"
      },
      "execution_count": 130,
      "outputs": [
        {
          "output_type": "execute_result",
          "data": {
            "text/plain": [
              "array([0.29257531, 0.06853448, 0.86154172, ..., 0.25557515, 0.02986241,\n",
              "       0.57032369])"
            ]
          },
          "metadata": {},
          "execution_count": 130
        }
      ]
    },
    {
      "cell_type": "code",
      "source": [
        "# probability of getting output as 1 - pobreza\n",
        "\n",
        "logreg.predict_proba(X_test)[:,1]"
      ],
      "metadata": {
        "colab": {
          "base_uri": "https://localhost:8080/"
        },
        "id": "GK1n8ttAmOyu",
        "outputId": "c96a35fb-9b95-49ab-af47-7d0dae25ec1f"
      },
      "execution_count": 131,
      "outputs": [
        {
          "output_type": "execute_result",
          "data": {
            "text/plain": [
              "array([0.70742469, 0.93146552, 0.13845828, ..., 0.74442485, 0.97013759,\n",
              "       0.42967631])"
            ]
          },
          "metadata": {},
          "execution_count": 131
        }
      ]
    },
    {
      "cell_type": "markdown",
      "source": [
        "**Métricas**"
      ],
      "metadata": {
        "id": "a6MxO6N5nVfp"
      }
    },
    {
      "cell_type": "code",
      "source": [
        "#from sklearn.metrics import accuracy_score\n",
        "\n",
        "print('Model accuracy score: {0:0.4f}'. format(accuracy_score(y_test, y_pred_test)))"
      ],
      "metadata": {
        "colab": {
          "base_uri": "https://localhost:8080/"
        },
        "id": "VO9Z-sHVmO2q",
        "outputId": "823988e0-b7e9-4054-efd1-166359f562eb"
      },
      "execution_count": 132,
      "outputs": [
        {
          "output_type": "stream",
          "name": "stdout",
          "text": [
            "Model accuracy score: 0.8274\n"
          ]
        }
      ]
    },
    {
      "cell_type": "markdown",
      "source": [
        "Compare the train-set and test-set accuracy."
      ],
      "metadata": {
        "id": "wUncxB-qnd-l"
      }
    },
    {
      "cell_type": "code",
      "source": [
        "y_pred_train = logreg.predict(X_train)\n",
        "\n",
        "y_pred_train"
      ],
      "metadata": {
        "colab": {
          "base_uri": "https://localhost:8080/"
        },
        "id": "IWz62EnAmO5Y",
        "outputId": "7bca2c5e-dda2-478e-ca53-8db53ee3751b"
      },
      "execution_count": 133,
      "outputs": [
        {
          "output_type": "execute_result",
          "data": {
            "text/plain": [
              "array([1, 1, 1, ..., 0, 1, 1])"
            ]
          },
          "metadata": {},
          "execution_count": 133
        }
      ]
    },
    {
      "cell_type": "code",
      "source": [
        "print('Training-set accuracy score: {0:0.4f}'. format(accuracy_score(y_train, y_pred_train)))"
      ],
      "metadata": {
        "colab": {
          "base_uri": "https://localhost:8080/"
        },
        "id": "ah2wgUT1kooj",
        "outputId": "59de3daf-670e-4500-9ac8-cb13d9f9b966"
      },
      "execution_count": 134,
      "outputs": [
        {
          "output_type": "stream",
          "name": "stdout",
          "text": [
            "Training-set accuracy score: 0.8156\n"
          ]
        }
      ]
    },
    {
      "cell_type": "markdown",
      "source": [
        "Check for overfitting and underfitting"
      ],
      "metadata": {
        "id": "jgxAL6Wmnnvt"
      }
    },
    {
      "cell_type": "code",
      "source": [
        "# print the scores on training and test set\n",
        "\n",
        "print('Training set score: {:.4f}'.format(logreg.score(X_train, y_train)))\n",
        "\n",
        "print('Test set score: {:.4f}'.format(logreg.score(X_test, y_test)))"
      ],
      "metadata": {
        "colab": {
          "base_uri": "https://localhost:8080/"
        },
        "id": "XcwJmHV3nkgn",
        "outputId": "09dc2ba6-96a5-4795-c2e8-bdd04628328b"
      },
      "execution_count": 135,
      "outputs": [
        {
          "output_type": "stream",
          "name": "stdout",
          "text": [
            "Training set score: 0.8156\n",
            "Test set score: 0.8274\n"
          ]
        }
      ]
    },
    {
      "cell_type": "markdown",
      "source": [
        "The training-set accuracy score is 0.8671 while the test-set accuracy to be 0.8702. These two values are quite comparable. So, there is no question of overfitting.\n",
        "\n",
        "In Logistic Regression,** we use default value of C = 1.** It provides good performance with approximately 85% accuracy on both the training and the test set.\n",
        "\n",
        "But the model performance on both the training and test set are very comparable. It is likely the case of underfitting.\n",
        "\n",
        "Pero el rendimiento del modelo en el conjunto de entrenamiento y en el de prueba es muy comparable. Es probable que se trate de un caso de infraajuste."
      ],
      "metadata": {
        "id": "fE-Vo2mVnuFW"
      }
    },
    {
      "cell_type": "code",
      "source": [
        "#I will increase C and fit a more flexible model.\n",
        "\n",
        "# fit (ajustar) the Logsitic Regression model with C=100\n",
        "\n",
        "# instantiate the model\n",
        "logreg2000 = LogisticRegression(C=100, solver='liblinear', random_state=0)\n",
        "\n",
        "\n",
        "# fit the model\n",
        "logreg2000.fit(X_train, y_train)"
      ],
      "metadata": {
        "colab": {
          "base_uri": "https://localhost:8080/"
        },
        "id": "KQwcAPTgnkq7",
        "outputId": "be792748-45a6-4ff7-b422-e8e5e5bbfd68"
      },
      "execution_count": 137,
      "outputs": [
        {
          "output_type": "execute_result",
          "data": {
            "text/plain": [
              "LogisticRegression(C=100, random_state=0, solver='liblinear')"
            ]
          },
          "metadata": {},
          "execution_count": 137
        }
      ]
    },
    {
      "cell_type": "code",
      "source": [
        "# print the scores on training and test set\n",
        "\n",
        "print('Training set score: {:.4f}'.format(logreg100.score(X_train, y_train)))\n",
        "\n",
        "print('Test set score: {:.4f}'.format(logreg100.score(X_test, y_test)))"
      ],
      "metadata": {
        "colab": {
          "base_uri": "https://localhost:8080/"
        },
        "id": "MaweE-Xknr9M",
        "outputId": "58f28d7e-06b7-4dd5-b8a2-eadb938bf381"
      },
      "execution_count": 138,
      "outputs": [
        {
          "output_type": "stream",
          "name": "stdout",
          "text": [
            "Training set score: 0.9675\n",
            "Test set score: 0.9683\n"
          ]
        }
      ]
    },
    {
      "cell_type": "markdown",
      "source": [
        "We can see that, C=2000 results in higher test set accuracy and also a slightly increased training set accuracy. So, we can conclude that a more complex model should perform better.\n",
        "\n",
        "Podemos ver que C=100 da como resultado una mayor precisión en el conjunto de pruebas y también una precisión ligeramente mayor en el conjunto de entrenamiento. Por lo tanto, podemos concluir que un modelo más complejo debería funcionar mejor.\n",
        "\n",
        "Now, I will investigate, what happens if we use more regularized model than the default value of C=1, by setting C=0.01."
      ],
      "metadata": {
        "id": "JN0YGPzPn-3q"
      }
    },
    {
      "cell_type": "code",
      "source": [
        "# fit the Logsitic Regression model with C=001\n",
        "\n",
        "# instantiate the model\n",
        "logreg001 = LogisticRegression(C=0.01, solver='liblinear', random_state=0)\n",
        "\n",
        "\n",
        "# fit the model\n",
        "logreg001.fit(X_train, y_train)"
      ],
      "metadata": {
        "colab": {
          "base_uri": "https://localhost:8080/"
        },
        "id": "oqm41tWfnsHQ",
        "outputId": "9079295b-ffc5-4e19-a774-b40f6be71df8"
      },
      "execution_count": 139,
      "outputs": [
        {
          "output_type": "execute_result",
          "data": {
            "text/plain": [
              "LogisticRegression(C=0.01, random_state=0, solver='liblinear')"
            ]
          },
          "metadata": {},
          "execution_count": 139
        }
      ]
    },
    {
      "cell_type": "code",
      "source": [
        "# print the scores on training and test set\n",
        "\n",
        "print('Training set score: {:.4f}'.format(logreg001.score(X_train, y_train)))\n",
        "\n",
        "print('Test set score: {:.4f}'.format(logreg001.score(X_test, y_test)))"
      ],
      "metadata": {
        "colab": {
          "base_uri": "https://localhost:8080/"
        },
        "id": "oK1qhXRUnsKq",
        "outputId": "c7783e8e-d8a5-4891-a27f-01ef57a27f9f"
      },
      "execution_count": 140,
      "outputs": [
        {
          "output_type": "stream",
          "name": "stdout",
          "text": [
            "Training set score: 0.7517\n",
            "Test set score: 0.7620\n"
          ]
        }
      ]
    },
    {
      "cell_type": "markdown",
      "source": [
        "Por lo tanto, si utilizamos un modelo más regularizado estableciendo C=0,01, tanto la precisión del conjunto de entrenamiento como la del conjunto de prueba disminuyen en relación con los parámetros por defecto."
      ],
      "metadata": {
        "id": "STKKn8bGoHBP"
      }
    },
    {
      "cell_type": "markdown",
      "source": [
        "**Presición nula**"
      ],
      "metadata": {
        "id": "5cFlilL4oMPy"
      }
    },
    {
      "cell_type": "markdown",
      "source": [
        "Compare model accuracy with null accuracy So, the model accuracy is 0.8702. But, we cannot say that our model is very good based on the above accuracy. We must compare it with the null accuracy. Null accuracy is the accuracy that could be achieved by always predicting the most frequent class.\n",
        "\n",
        "So, we should first check the class distribution in the test set."
      ],
      "metadata": {
        "id": "3V09fMZAoP_M"
      }
    },
    {
      "cell_type": "code",
      "source": [
        "y_test.value_counts()"
      ],
      "metadata": {
        "colab": {
          "base_uri": "https://localhost:8080/"
        },
        "id": "TvyQUr6insRe",
        "outputId": "f3266d97-8742-4bb8-f588-407abf2003f8"
      },
      "execution_count": 141,
      "outputs": [
        {
          "output_type": "execute_result",
          "data": {
            "text/plain": [
              "1    1281\n",
              "0    1274\n",
              "Name: pobreza, dtype: int64"
            ]
          },
          "metadata": {},
          "execution_count": 141
        }
      ]
    },
    {
      "cell_type": "markdown",
      "source": [
        "We can see that the occurences of most frequent class is 2780. So, we can calculate null accuracy by dividing 2780 by total number of occurences."
      ],
      "metadata": {
        "id": "658TY-s5oYpe"
      }
    },
    {
      "cell_type": "code",
      "source": [
        "# check null accuracy score\n",
        "\n",
        "null_accuracy = (1319/(1319+1292))\n",
        "\n",
        "print('Null accuracy score: {0:0.4f}'. format(null_accuracy))"
      ],
      "metadata": {
        "colab": {
          "base_uri": "https://localhost:8080/"
        },
        "id": "aD_KNNBDnkvk",
        "outputId": "ecba2cdb-d511-4d29-e3db-ae96251dd5a0"
      },
      "execution_count": 142,
      "outputs": [
        {
          "output_type": "stream",
          "name": "stdout",
          "text": [
            "Null accuracy score: 0.5052\n"
          ]
        }
      ]
    },
    {
      "cell_type": "markdown",
      "source": [
        "We can see that our model accuracy score is 0.8702 but null accuracy score is 0.6886. So, we can conclude that our Logistic Regression model is doing a very good job in predicting the class labels"
      ],
      "metadata": {
        "id": "gH-2kWlCodco"
      }
    },
    {
      "cell_type": "markdown",
      "source": [
        "# **Matriz de confusión**"
      ],
      "metadata": {
        "id": "cAzPI4y1ooa6"
      }
    },
    {
      "cell_type": "code",
      "source": [
        "# Print the Confusion Matrix and slice it into four pieces\n",
        "\n",
        "#from sklearn.metrics import confusion_matrix\n",
        "\n",
        "cm = confusion_matrix(y_test, y_pred_test)\n",
        "\n",
        "print('Confusion matrix\\n\\n', cm)\n",
        "\n",
        "print('\\nTrue Positives(TP) = ', cm[0,0])\n",
        "\n",
        "print('\\nTrue Negatives(TN) = ', cm[1,1])\n",
        "\n",
        "print('\\nFalse Positives(FP) = ', cm[0,1])\n",
        "\n",
        "print('\\nFalse Negatives(FN) = ', cm[1,0])"
      ],
      "metadata": {
        "colab": {
          "base_uri": "https://localhost:8080/"
        },
        "id": "3uGO58quonKH",
        "outputId": "d523248b-c773-4ed0-a3d5-fe8bca2aace3"
      },
      "execution_count": 143,
      "outputs": [
        {
          "output_type": "stream",
          "name": "stdout",
          "text": [
            "Confusion matrix\n",
            "\n",
            " [[1063  211]\n",
            " [ 230 1051]]\n",
            "\n",
            "True Positives(TP) =  1063\n",
            "\n",
            "True Negatives(TN) =  1051\n",
            "\n",
            "False Positives(FP) =  211\n",
            "\n",
            "False Negatives(FN) =  230\n"
          ]
        }
      ]
    },
    {
      "cell_type": "code",
      "source": [
        "# visualize confusion matrix with seaborn heatmap\n",
        "\n",
        "cm_matrix = pd.DataFrame(data=cm, columns=['Actual Positive:1', 'Actual Negative:0'], \n",
        "                                 index=['Predict Positive:1', 'Predict Negative:0'])\n",
        "\n",
        "sns.heatmap(cm_matrix, annot=True, fmt='d', cmap='YlGnBu')"
      ],
      "metadata": {
        "colab": {
          "base_uri": "https://localhost:8080/",
          "height": 282
        },
        "id": "jIY_D66Unk9J",
        "outputId": "aed41820-9aa0-4e36-c054-22f48ec7bd31"
      },
      "execution_count": 144,
      "outputs": [
        {
          "output_type": "execute_result",
          "data": {
            "text/plain": [
              "<matplotlib.axes._subplots.AxesSubplot at 0x7fdf60e3df90>"
            ]
          },
          "metadata": {},
          "execution_count": 144
        },
        {
          "output_type": "display_data",
          "data": {
            "text/plain": [
              "<Figure size 432x288 with 2 Axes>"
            ],
            "image/png": "[encoded data removed]"
          },
          "metadata": {
            "needs_background": "light"
          }
        }
      ]
    },
    {
      "cell_type": "code",
      "source": [
        "#Classification Report\n",
        "from sklearn.metrics import classification_report\n",
        "\n",
        "print(classification_report(y_test, y_pred_test))"
      ],
      "metadata": {
        "colab": {
          "base_uri": "https://localhost:8080/"
        },
        "id": "NBNDPGVemlcX",
        "outputId": "eb4b1c7c-8d2f-48e5-a8c6-c420b9e340fd"
      },
      "execution_count": 145,
      "outputs": [
        {
          "output_type": "stream",
          "name": "stdout",
          "text": [
            "              precision    recall  f1-score   support\n",
            "\n",
            "           0       0.82      0.83      0.83      1274\n",
            "           1       0.83      0.82      0.83      1281\n",
            "\n",
            "    accuracy                           0.83      2555\n",
            "   macro avg       0.83      0.83      0.83      2555\n",
            "weighted avg       0.83      0.83      0.83      2555\n",
            "\n"
          ]
        }
      ]
    },
    {
      "cell_type": "code",
      "source": [
        "#Classification accuracy\n",
        "TP = cm[0,0]\n",
        "TN = cm[1,1]\n",
        "FP = cm[0,1]\n",
        "FN = cm[1,0]"
      ],
      "metadata": {
        "id": "dFHCQRz5mufC"
      },
      "execution_count": 146,
      "outputs": []
    },
    {
      "cell_type": "code",
      "source": [
        "# print classification accuracy\n",
        "\n",
        "classification_accuracy = (TP + TN) / float(TP + TN + FP + FN)\n",
        "\n",
        "print('Classification accuracy : {0:0.4f}'.format(classification_accuracy))"
      ],
      "metadata": {
        "colab": {
          "base_uri": "https://localhost:8080/"
        },
        "id": "WvFFy98imNnQ",
        "outputId": "70e1f53f-df0a-4a1c-a883-3c295668e12f"
      },
      "execution_count": 147,
      "outputs": [
        {
          "output_type": "stream",
          "name": "stdout",
          "text": [
            "Classification accuracy : 0.8274\n"
          ]
        }
      ]
    },
    {
      "cell_type": "code",
      "source": [
        "#Classification error\n",
        "# print classification error\n",
        "\n",
        "classification_error = (FP + FN) / float(TP + TN + FP + FN)\n",
        "\n",
        "print('Classification error : {0:0.4f}'.format(classification_error))"
      ],
      "metadata": {
        "colab": {
          "base_uri": "https://localhost:8080/"
        },
        "id": "NWazeNF5mzfh",
        "outputId": "02446684-a2ca-49de-c209-8bcdaa9db845"
      },
      "execution_count": 148,
      "outputs": [
        {
          "output_type": "stream",
          "name": "stdout",
          "text": [
            "Classification error : 0.1726\n"
          ]
        }
      ]
    },
    {
      "cell_type": "markdown",
      "source": [
        "La precisión puede definirse como el porcentaje de resultados positivos predichos correctamente de todos los resultados positivos predichos. \n",
        "Puede darse como la relación entre los verdaderos positivos (TP) y la suma de los verdaderos y falsos positivos (TP + FP). S\n",
        "e refiere más a la clase positiva que a la negativa. Matemáticamente, la precisión puede definirse como la relación entre TP y (TP + FP).\n"
      ],
      "metadata": {
        "id": "bFmfZgZBpIwI"
      }
    },
    {
      "cell_type": "code",
      "source": [
        "# print precision score\n",
        "\n",
        "precision = TP / float(TP + FP)\n",
        "\n",
        "\n",
        "print('Precision : {0:0.4f}'.format(precision))"
      ],
      "metadata": {
        "colab": {
          "base_uri": "https://localhost:8080/"
        },
        "id": "76GqvdZwnHl0",
        "outputId": "d83689c2-025b-4ac9-dfa8-832fe0673241"
      },
      "execution_count": 149,
      "outputs": [
        {
          "output_type": "stream",
          "name": "stdout",
          "text": [
            "Precision : 0.8344\n"
          ]
        }
      ]
    },
    {
      "cell_type": "markdown",
      "source": [
        "Recall\n",
        "\\nRecall puede definirse como el porcentaje de resultados positivos correctamente predichos de todos los resultados positivos reales. \\n\n",
        "Puede darse como la relación entre los verdaderos positivos (TP) y la suma de los verdaderos positivos y los falsos negativos (TP + FN). \n",
        "La recuperación también se denomina sensibilidad. La recuperación identifica la proporción de positivos reales predichos correctamente.\n"
      ],
      "metadata": {
        "id": "kuKwGi2dpOTZ"
      }
    },
    {
      "cell_type": "code",
      "source": [
        "recall = TP / float(TP + FN)\n",
        "\n",
        "print('Recall or Sensitivity : {0:0.4f}'.format(recall))"
      ],
      "metadata": {
        "colab": {
          "base_uri": "https://localhost:8080/"
        },
        "id": "jIEITrNRmNqU",
        "outputId": "ead44b14-1ec1-4ad7-9dbc-c6a0ec288bcf"
      },
      "execution_count": 150,
      "outputs": [
        {
          "output_type": "stream",
          "name": "stdout",
          "text": [
            "Recall or Sensitivity : 0.8221\n"
          ]
        }
      ]
    },
    {
      "cell_type": "code",
      "source": [
        "#True Positive Rate\n",
        "#True Positive Rate is synonymous with Recall.\n",
        "\n",
        "true_positive_rate = TP / float(TP + FN)\n",
        "\n",
        "\n",
        "print('True Positive Rate : {0:0.4f}'.format(true_positive_rate))"
      ],
      "metadata": {
        "colab": {
          "base_uri": "https://localhost:8080/"
        },
        "id": "tpo9IEdRrukd",
        "outputId": "81ce4c91-f2f0-48ad-9da0-fa1a19e3cd8a"
      },
      "execution_count": 151,
      "outputs": [
        {
          "output_type": "stream",
          "name": "stdout",
          "text": [
            "True Positive Rate : 0.8221\n"
          ]
        }
      ]
    },
    {
      "cell_type": "code",
      "source": [
        "#False Positive Rate\n",
        "\n",
        "\"\"\"el False Positive Rate se define como el ratio entre el número de falsos positivos y el número de negativos (reales). \n",
        "Lógicamente, el clasificador ideal tendría un FPR de cero (pues no tendría falsos positivos), y el peor clasificador posible tendría un FPR de uno (todos los negativos reales serían identificados erróneamente como positivos):\n",
        "\"\"\"\n",
        "false_positive_rate = FP / float(FP + TN)"
      ],
      "metadata": {
        "id": "Tpd0XF00rwAh"
      },
      "execution_count": 152,
      "outputs": []
    },
    {
      "cell_type": "code",
      "source": [
        "#Specificity\n",
        "\"\"\"especificidad es el porcentaje de 0’s (reales) correctamente predicho. La especificidad también puede calcularse como 1-Tasa Falsos Positivos.\n",
        "\"\"\"\n",
        "\n",
        "specificity = TN / (TN + FP)\n",
        "\n",
        "print('Specificity : {0:0.4f}'.format(specificity))"
      ],
      "metadata": {
        "colab": {
          "base_uri": "https://localhost:8080/"
        },
        "id": "qdTroD52rupW",
        "outputId": "24bdcf6b-10fa-48da-c0d4-69f91a9bb752"
      },
      "execution_count": 153,
      "outputs": [
        {
          "output_type": "stream",
          "name": "stdout",
          "text": [
            "Specificity : 0.8328\n"
          ]
        }
      ]
    },
    {
      "cell_type": "code",
      "source": [
        "#17. Adjusting the threshold level (nivel de umbral)\n",
        "# print the first 10 predicted probabilities of two classes- 0 and 1\n",
        "\n",
        "y_pred_prob = logreg.predict_proba(X_test)[0:10]\n",
        "\n",
        "y_pred_prob"
      ],
      "metadata": {
        "colab": {
          "base_uri": "https://localhost:8080/"
        },
        "id": "vE7G2_FDr6aG",
        "outputId": "00282942-9e4d-4f45-8604-a031e7c32d91"
      },
      "execution_count": 154,
      "outputs": [
        {
          "output_type": "execute_result",
          "data": {
            "text/plain": [
              "array([[0.29257531, 0.70742469],\n",
              "       [0.06853448, 0.93146552],\n",
              "       [0.86154172, 0.13845828],\n",
              "       [0.43553199, 0.56446801],\n",
              "       [0.87823053, 0.12176947],\n",
              "       [0.24927951, 0.75072049],\n",
              "       [0.04178925, 0.95821075],\n",
              "       [0.55664603, 0.44335397],\n",
              "       [0.22662432, 0.77337568],\n",
              "       [0.67222531, 0.32777469]])"
            ]
          },
          "metadata": {},
          "execution_count": 154
        }
      ]
    },
    {
      "cell_type": "markdown",
      "source": [
        "\"\"\"Classification threshold level (Nivel de umbral de clasificación)\n",
        "\n",
        "There is a classification threshold level of 0.5.\n",
        "\n",
        "Class 1 - probability of pobreza is predicted if probability > 0.5.\n",
        "\n",
        "Class 0 - probability of no pobreza is predicted if probability < 0.5.\"\"\""
      ],
      "metadata": {
        "id": "2bFXBNycpeZD"
      }
    },
    {
      "cell_type": "code",
      "source": [
        "# store the probabilities in dataframe\n",
        "\n",
        "y_pred_prob_df = pd.DataFrame(data=y_pred_prob, columns=['Prob of - No POBREZA (0)', 'Prob of - POBREZA (1)'])\n",
        "\n",
        "y_pred_prob_df"
      ],
      "metadata": {
        "colab": {
          "base_uri": "https://localhost:8080/",
          "height": 363
        },
        "id": "-vv03xEtsAbM",
        "outputId": "a752de30-70a7-40a6-eb87-b911c26e3c37"
      },
      "execution_count": 155,
      "outputs": [
        {
          "output_type": "execute_result",
          "data": {
            "text/plain": [
              "   Prob of - No POBREZA (0)  Prob of - POBREZA (1)\n",
              "0                  0.292575               0.707425\n",
              "1                  0.068534               0.931466\n",
              "2                  0.861542               0.138458\n",
              "3                  0.435532               0.564468\n",
              "4                  0.878231               0.121769\n",
              "5                  0.249280               0.750720\n",
              "6                  0.041789               0.958211\n",
              "7                  0.556646               0.443354\n",
              "8                  0.226624               0.773376\n",
              "9                  0.672225               0.327775"
            ],
            "text/html": [
              "\n",
              "  <div id=\"df-64815f43-46e2-4975-b602-e08174b25539\">\n",
              "    <div class=\"colab-df-container\">\n",
              "      <div>\n",
              "<style scoped>\n",
              "    .dataframe tbody tr th:only-of-type {\n",
              "        vertical-align: middle;\n",
              "    }\n",
              "\n",
              "    .dataframe tbody tr th {\n",
              "        vertical-align: top;\n",
              "    }\n",
              "\n",
              "    .dataframe thead th {\n",
              "        text-align: right;\n",
              "    }\n",
              "</style>\n",
              "<table border=\"1\" class=\"dataframe\">\n",
              "  <thead>\n",
              "    <tr style=\"text-align: right;\">\n",
              "      <th></th>\n",
              "      <th>Prob of - No POBREZA (0)</th>\n",
              "      <th>Prob of - POBREZA (1)</th>\n",
              "    </tr>\n",
              "  </thead>\n",
              "  <tbody>\n",
              "    <tr>\n",
              "      <th>0</th>\n",
              "      <td>0.292575</td>\n",
              "      <td>0.707425</td>\n",
              "    </tr>\n",
              "    <tr>\n",
              "      <th>1</th>\n",
              "      <td>0.068534</td>\n",
              "      <td>0.931466</td>\n",
              "    </tr>\n",
              "    <tr>\n",
              "      <th>2</th>\n",
              "      <td>0.861542</td>\n",
              "      <td>0.138458</td>\n",
              "    </tr>\n",
              "    <tr>\n",
              "      <th>3</th>\n",
              "      <td>0.435532</td>\n",
              "      <td>0.564468</td>\n",
              "    </tr>\n",
              "    <tr>\n",
              "      <th>4</th>\n",
              "      <td>0.878231</td>\n",
              "      <td>0.121769</td>\n",
              "    </tr>\n",
              "    <tr>\n",
              "      <th>5</th>\n",
              "      <td>0.249280</td>\n",
              "      <td>0.750720</td>\n",
              "    </tr>\n",
              "    <tr>\n",
              "      <th>6</th>\n",
              "      <td>0.041789</td>\n",
              "      <td>0.958211</td>\n",
              "    </tr>\n",
              "    <tr>\n",
              "      <th>7</th>\n",
              "      <td>0.556646</td>\n",
              "      <td>0.443354</td>\n",
              "    </tr>\n",
              "    <tr>\n",
              "      <th>8</th>\n",
              "      <td>0.226624</td>\n",
              "      <td>0.773376</td>\n",
              "    </tr>\n",
              "    <tr>\n",
              "      <th>9</th>\n",
              "      <td>0.672225</td>\n",
              "      <td>0.327775</td>\n",
              "    </tr>\n",
              "  </tbody>\n",
              "</table>\n",
              "</div>\n",
              "      <button class=\"colab-df-convert\" onclick=\"convertToInteractive('df-64815f43-46e2-4975-b602-e08174b25539')\"\n",
              "              title=\"Convert this dataframe to an interactive table.\"\n",
              "              style=\"display:none;\">\n",
              "        \n",
              "  <svg xmlns=\"http://www.w3.org/2000/svg\" height=\"24px\"viewBox=\"0 0 24 24\"\n",
              "       width=\"24px\">\n",
              "    <path d=\"M0 0h24v24H0V0z\" fill=\"none\"/>\n",
              "    <path d=\"M18.56 5.44l.94 2.06.94-2.06 2.06-.94-2.06-.94-.94-2.06-.94 2.06-2.06.94zm-11 1L8.5 8.5l.94-2.06 2.06-.94-2.06-.94L8.5 2.5l-.94 2.06-2.06.94zm10 10l.94 2.06.94-2.06 2.06-.94-2.06-.94-.94-2.06-.94 2.06-2.06.94z\"/><path d=\"M17.41 7.96l-1.37-1.37c-.4-.4-.92-.59-1.43-.59-.52 0-1.04.2-1.43.59L10.3 9.45l-7.72 7.72c-.78.78-.78 2.05 0 2.83L4 21.41c.39.39.9.59 1.41.59.51 0 1.02-.2 1.41-.59l7.78-7.78 2.81-2.81c.8-.78.8-2.07 0-2.86zM5.41 20L4 18.59l7.72-7.72 1.47 1.35L5.41 20z\"/>\n",
              "  </svg>\n",
              "      </button>\n",
              "      \n",
              "  <style>\n",
              "    .colab-df-container {\n",
              "      display:flex;\n",
              "      flex-wrap:wrap;\n",
              "      gap: 12px;\n",
              "    }\n",
              "\n",
              "    .colab-df-convert {\n",
              "      background-color: #E8F0FE;\n",
              "      border: none;\n",
              "      border-radius: 50%;\n",
              "      cursor: pointer;\n",
              "      display: none;\n",
              "      fill: #1967D2;\n",
              "      height: 32px;\n",
              "      padding: 0 0 0 0;\n",
              "      width: 32px;\n",
              "    }\n",
              "\n",
              "    .colab-df-convert:hover {\n",
              "      background-color: #E2EBFA;\n",
              "      box-shadow: 0px 1px 2px rgba(60, 64, 67, 0.3), 0px 1px 3px 1px rgba(60, 64, 67, 0.15);\n",
              "      fill: #174EA6;\n",
              "    }\n",
              "\n",
              "    [theme=dark] .colab-df-convert {\n",
              "      background-color: #3B4455;\n",
              "      fill: #D2E3FC;\n",
              "    }\n",
              "\n",
              "    [theme=dark] .colab-df-convert:hover {\n",
              "      background-color: #434B5C;\n",
              "      box-shadow: 0px 1px 3px 1px rgba(0, 0, 0, 0.15);\n",
              "      filter: drop-shadow(0px 1px 2px rgba(0, 0, 0, 0.3));\n",
              "      fill: #FFFFFF;\n",
              "    }\n",
              "  </style>\n",
              "\n",
              "      <script>\n",
              "        const buttonEl =\n",
              "          document.querySelector('#df-64815f43-46e2-4975-b602-e08174b25539 button.colab-df-convert');\n",
              "        buttonEl.style.display =\n",
              "          google.colab.kernel.accessAllowed ? 'block' : 'none';\n",
              "\n",
              "        async function convertToInteractive(key) {\n",
              "          const element = document.querySelector('#df-64815f43-46e2-4975-b602-e08174b25539');\n",
              "          const dataTable =\n",
              "            await google.colab.kernel.invokeFunction('convertToInteractive',\n",
              "                                                     [key], {});\n",
              "          if (!dataTable) return;\n",
              "\n",
              "          const docLinkHtml = 'Like what you see? Visit the ' +\n",
              "            '<a target=\"_blank\" href=https://colab.research.google.com/notebooks/data_table.ipynb>data table notebook</a>'\n",
              "            + ' to learn more about interactive tables.';\n",
              "          element.innerHTML = '';\n",
              "          dataTable['output_type'] = 'display_data';\n",
              "          await google.colab.output.renderOutput(dataTable, element);\n",
              "          const docLink = document.createElement('div');\n",
              "          docLink.innerHTML = docLinkHtml;\n",
              "          element.appendChild(docLink);\n",
              "        }\n",
              "      </script>\n",
              "    </div>\n",
              "  </div>\n",
              "  "
            ]
          },
          "metadata": {},
          "execution_count": 155
        }
      ]
    },
    {
      "cell_type": "code",
      "source": [
        "# print the first 10 predicted probabilities for class 1 - Probability of POBREZA\n",
        "\n",
        "logreg.predict_proba(X_test)[0:10, 1]"
      ],
      "metadata": {
        "colab": {
          "base_uri": "https://localhost:8080/"
        },
        "id": "cKOcS1jbsDju",
        "outputId": "847760e6-3d03-4b33-f220-719af149e491"
      },
      "execution_count": 156,
      "outputs": [
        {
          "output_type": "execute_result",
          "data": {
            "text/plain": [
              "array([0.70742469, 0.93146552, 0.13845828, 0.56446801, 0.12176947,\n",
              "       0.75072049, 0.95821075, 0.44335397, 0.77337568, 0.32777469])"
            ]
          },
          "metadata": {},
          "execution_count": 156
        }
      ]
    },
    {
      "cell_type": "code",
      "source": [
        "# store the predicted probabilities for class 1 - Probability of POBREZA\n",
        "#almacenar las probabilidades previstas para la clase 1 - Probabilidad de POBREZA\n",
        "\n",
        "y_pred1 = logreg.predict_proba(X_test)[:, 1]"
      ],
      "metadata": {
        "id": "nlPg5gLUsILg"
      },
      "execution_count": 157,
      "outputs": []
    },
    {
      "cell_type": "code",
      "source": [
        "# plot histogram of predicted probabilities\n",
        "\n",
        "\n",
        "# adjust the font size \n",
        "plt.rcParams['font.size'] = 12\n",
        "\n",
        "\n",
        "# plot histogram with 10 bins\n",
        "plt.hist(y_pred1, bins = 10)\n",
        "\n",
        "\n",
        "# set the title of predicted probabilities\n",
        "plt.title('Histogram of predicted probabilities of POBREZA')\n",
        "\n",
        "\n",
        "# set the x-axis limit\n",
        "plt.xlim(0,1)\n",
        "\n",
        "\n",
        "# set the title\n",
        "plt.xlabel('Predicted probabilities of POBREZA')\n",
        "plt.ylabel('Frequency')"
      ],
      "metadata": {
        "colab": {
          "base_uri": "https://localhost:8080/",
          "height": 319
        },
        "id": "8QBcjy_4sL0i",
        "outputId": "2ad420fe-5141-4fd6-c832-fee5c837254c"
      },
      "execution_count": 158,
      "outputs": [
        {
          "output_type": "execute_result",
          "data": {
            "text/plain": [
              "Text(0, 0.5, 'Frequency')"
            ]
          },
          "metadata": {},
          "execution_count": 158
        },
        {
          "output_type": "display_data",
          "data": {
            "text/plain": [
              "<Figure size 432x288 with 1 Axes>"
            ],
            "image/png": "[encoded data removed]"
          },
          "metadata": {
            "needs_background": "light"
          }
        }
      ]
    },
    {
      "cell_type": "markdown",
      "source": [
        "Observaciones\n",
        "Podemos ver que el histograma anterior está muy sesgado positivamente.\n",
        "La primera columna nos dice que hay aproximadamente 1400 observaciones con una probabilidad entre 0,0 y 0,1.\n",
        "Hay un pequeño número de observaciones con probabilidad > 0,5.\n",
        "Por lo tanto, este pequeño número de observaciones predice que habrá pobreza.\n",
        "La mayoría de las observaciones predicen que no hay pobreza."
      ],
      "metadata": {
        "id": "tj87DpowpnJC"
      }
    },
    {
      "cell_type": "markdown",
      "source": [
        "**Bajar el umbral**"
      ],
      "metadata": {
        "id": "z9uOZ0EBsSrn"
      }
    },
    {
      "cell_type": "code",
      "source": [
        "from sklearn.preprocessing import binarize \n",
        "\n",
        "\n",
        "for i in range(1,5):\n",
        "    \n",
        "    cm1=0\n",
        "    \n",
        "    y_pred1 = logreg.predict_proba(X_test)[:,1]\n",
        "    y_pred1 = y_pred1.reshape(-1,1)\n",
        "    y_pred2 = binarize(y_pred1,threshold=i/10)\n",
        "    y_pred2 = np.where(y_pred2 == 1, 1, 0)\n",
        "    \n",
        "    cm1 = confusion_matrix(y_test, y_pred2)\n",
        "        \n",
        "    print ('With',i/10,'threshold the Confusion Matrix is ','\\n\\n',cm1,'\\n\\n',\n",
        "           \n",
        "            'with',cm1[0,0]+cm1[1,1],'correct predictions, ', '\\n\\n', \n",
        "           \n",
        "            cm1[0,1],'Type I errors( False Positives), ','\\n\\n',\n",
        "           \n",
        "            cm1[1,0],'Type II errors( False Negatives), ','\\n\\n',\n",
        "           \n",
        "           'Accuracy score: ', (accuracy_score(y_test, y_pred2)), '\\n\\n',\n",
        "           'Sensitivity: ',cm1[1,1]/(float(cm1[1,1]+cm1[1,0])), '\\n\\n',\n",
        "           'Specificity: ',cm1[0,0]/(float(cm1[0,0]+cm1[0,1])),'\\n\\n',\n",
        "          \n",
        "            '====================================================', '\\n\\n')"
      ],
      "metadata": {
        "colab": {
          "base_uri": "https://localhost:8080/"
        },
        "id": "EkQVlJNksQCd",
        "outputId": "c8e6f4f7-d7bc-4df2-b0b9-a68fae67a652"
      },
      "execution_count": 159,
      "outputs": [
        {
          "output_type": "stream",
          "name": "stdout",
          "text": [
            "With 0.1 threshold the Confusion Matrix is  \n",
            "\n",
            " [[ 297  977]\n",
            " [   3 1278]] \n",
            "\n",
            " with 1575 correct predictions,  \n",
            "\n",
            " 977 Type I errors( False Positives),  \n",
            "\n",
            " 3 Type II errors( False Negatives),  \n",
            "\n",
            " Accuracy score:  0.6164383561643836 \n",
            "\n",
            " Sensitivity:  0.9976580796252927 \n",
            "\n",
            " Specificity:  0.23312401883830455 \n",
            "\n",
            " ==================================================== \n",
            "\n",
            "\n",
            "With 0.2 threshold the Confusion Matrix is  \n",
            "\n",
            " [[ 599  675]\n",
            " [  28 1253]] \n",
            "\n",
            " with 1852 correct predictions,  \n",
            "\n",
            " 675 Type I errors( False Positives),  \n",
            "\n",
            " 28 Type II errors( False Negatives),  \n",
            "\n",
            " Accuracy score:  0.724853228962818 \n",
            "\n",
            " Sensitivity:  0.9781420765027322 \n",
            "\n",
            " Specificity:  0.47017268445839877 \n",
            "\n",
            " ==================================================== \n",
            "\n",
            "\n",
            "With 0.3 threshold the Confusion Matrix is  \n",
            "\n",
            " [[ 821  453]\n",
            " [  69 1212]] \n",
            "\n",
            " with 2033 correct predictions,  \n",
            "\n",
            " 453 Type I errors( False Positives),  \n",
            "\n",
            " 69 Type II errors( False Negatives),  \n",
            "\n",
            " Accuracy score:  0.7956947162426614 \n",
            "\n",
            " Sensitivity:  0.9461358313817331 \n",
            "\n",
            " Specificity:  0.6444270015698587 \n",
            "\n",
            " ==================================================== \n",
            "\n",
            "\n",
            "With 0.4 threshold the Confusion Matrix is  \n",
            "\n",
            " [[ 967  307]\n",
            " [ 130 1151]] \n",
            "\n",
            " with 2118 correct predictions,  \n",
            "\n",
            " 307 Type I errors( False Positives),  \n",
            "\n",
            " 130 Type II errors( False Negatives),  \n",
            "\n",
            " Accuracy score:  0.8289628180039139 \n",
            "\n",
            " Sensitivity:  0.8985167837626854 \n",
            "\n",
            " Specificity:  0.7590266875981162 \n",
            "\n",
            " ==================================================== \n",
            "\n",
            "\n"
          ]
        }
      ]
    },
    {
      "cell_type": "markdown",
      "source": [
        "Comentarios\n",
        "En los problemas binarios, el umbral de 0,5 se utiliza por defecto para convertir las probabilidades predichas en predicciones de clase.\n",
        "El umbral puede ajustarse para aumentar la sensibilidad o la especificidad.\n",
        "La sensibilidad y la especificidad tienen una relación inversa. El aumento de una de ellas siempre disminuirá la otra y viceversa.\n",
        "Podemos ver que el aumento del nivel de umbral resulta en un aumento de la precisión.\n",
        "Ajustar el nivel de umbral debería ser uno de los últimos pasos que se realizan en el proceso de construcción del modelo.\n"
      ],
      "metadata": {
        "id": "5DW8NAI3ptwI"
      }
    },
    {
      "cell_type": "markdown",
      "source": [
        "**Curva ROC**"
      ],
      "metadata": {
        "id": "9P-9FofLs8JF"
      }
    },
    {
      "cell_type": "markdown",
      "source": [
        "Curva ROC\n",
        "\n",
        "\n",
        "Otra herramienta para medir visualmente el rendimiento del modelo de clasificación es la curva ROC. \n",
        "Curva ROC significa Curva de Característica Operativa del Receptor. \n",
        "Una curva ROC es un gráfico que muestra el rendimiento de un modelo de clasificación en varios niveles de umbral de clasificación.\n",
        "\n",
        "La curva ROC traza la tasa de verdaderos positivos (TPR) frente a la tasa de falsos positivos (FPR) en varios niveles de umbral.\n",
        "\n",
        "La tasa de verdaderos positivos (TPR) también se denomina recuperación. Se define como la relación entre TP y (TP + FN).\n",
        "\n",
        "La tasa de falsos positivos (FPR) se define como la relación entre FP y (FP + TN).\n",
        "\n",
        "En la curva ROC, nos centraremos en la TPR (tasa de verdaderos positivos) y la FPR (tasa de falsos positivos) de un solo punto. \n",
        "Esto nos dará el rendimiento general de la curva ROC que consiste en el TPR y el FPR en varios niveles de umbral. Así, una curva ROC traza el TPR frente al FPR a diferentes niveles de umbral de clasificación. Si bajamos los niveles de umbral, puede que se clasifiquen más elementos como positivos. Aumentará tanto los Verdaderos Positivos (TP) como los Falsos Positivos (FP).\n"
      ],
      "metadata": {
        "id": "gTpBaDwOpxTs"
      }
    },
    {
      "cell_type": "code",
      "source": [
        "# plot ROC Curve\n",
        "\n",
        "from sklearn.metrics import roc_curve\n",
        "\n",
        "fpr, tpr, thresholds = roc_curve(y_test, y_pred1, pos_label = 1)\n",
        "\n",
        "plt.figure(figsize=(6,4))\n",
        "\n",
        "plt.plot(fpr, tpr, linewidth=2)\n",
        "\n",
        "plt.plot([0,1], [0,1], 'k--' )\n",
        "\n",
        "plt.rcParams['font.size'] = 12\n",
        "\n",
        "plt.title('ROC curve for POBREZA classifier')\n",
        "\n",
        "plt.xlabel('False Positive Rate (1 - Specificity)')\n",
        "\n",
        "plt.ylabel('True Positive Rate (Sensitivity)')\n",
        "\n",
        "plt.show()\n"
      ],
      "metadata": {
        "colab": {
          "base_uri": "https://localhost:8080/",
          "height": 302
        },
        "id": "WLJuiG9Js3yQ",
        "outputId": "85ac186b-e113-4b2f-f067-4b3b47732770"
      },
      "execution_count": 160,
      "outputs": [
        {
          "output_type": "display_data",
          "data": {
            "text/plain": [
              "<Figure size 432x288 with 1 Axes>"
            ],
            "image/png": "[encoded data removed]"
          },
          "metadata": {
            "needs_background": "light"
          }
        }
      ]
    },
    {
      "cell_type": "code",
      "source": [
        "# compute ROC AUC\n",
        "\n",
        "from sklearn.metrics import roc_auc_score\n",
        "\n",
        "ROC_AUC = roc_auc_score(y_test, y_pred1)\n",
        "\n",
        "print('ROC AUC : {:.4f}'.format(ROC_AUC))"
      ],
      "metadata": {
        "colab": {
          "base_uri": "https://localhost:8080/"
        },
        "id": "wNHnk0pOtBeJ",
        "outputId": "8ba9e41d-904b-4fa6-88bc-ad4d6366cad1"
      },
      "execution_count": 161,
      "outputs": [
        {
          "output_type": "stream",
          "name": "stdout",
          "text": [
            "ROC AUC : 0.9027\n"
          ]
        }
      ]
    },
    {
      "cell_type": "markdown",
      "source": [
        "Comentarios\n",
        "\n",
        "El AUC del ROC es un resumen numérico del rendimiento del clasificador. Cuanto mayor sea el valor, mejor será el clasificador.\n",
        "\n",
        "El ROC AUC de nuestro modelo se aproxima a 1. Por lo tanto, podemos concluir que nuestro clasificador hace un buen trabajo al predecir si HAY POBREZA o no."
      ],
      "metadata": {
        "id": "tF5XJwdUp52g"
      }
    },
    {
      "cell_type": "code",
      "source": [
        "# calculate cross-validated ROC AUC \n",
        "\n",
        "from sklearn.model_selection import cross_val_score\n",
        "\n",
        "Cross_validated_ROC_AUC = cross_val_score(logreg, X_train, y_train, cv=5, scoring='roc_auc').mean()\n",
        "\n",
        "print('Cross validated ROC AUC : {:.4f}'.format(Cross_validated_ROC_AUC))"
      ],
      "metadata": {
        "colab": {
          "base_uri": "https://localhost:8080/"
        },
        "id": "T8W7ZITQtE59",
        "outputId": "4b6cffe3-3498-4066-fb60-1c9ddbc5e205"
      },
      "execution_count": 162,
      "outputs": [
        {
          "output_type": "stream",
          "name": "stdout",
          "text": [
            "Cross validated ROC AUC : 0.8888\n"
          ]
        }
      ]
    },
    {
      "cell_type": "code",
      "source": [
        "#19. k-Fold Cross Validation (Validación cruzada k-fold )\n",
        "# Applying 5-Fold Cross Validation (Aplicación de la validación cruzada por quintuplicado)\n",
        "\n",
        "from sklearn.model_selection import cross_val_score\n",
        "\n",
        "scores = cross_val_score(logreg, X_train, y_train, cv = 5, scoring='accuracy')\n",
        "\n",
        "print('Cross-validation scores:{}'.format(scores))"
      ],
      "metadata": {
        "colab": {
          "base_uri": "https://localhost:8080/"
        },
        "id": "0fzXszyJtIjY",
        "outputId": "2da4c13e-6c11-40e2-9420-ba223b69a7da"
      },
      "execution_count": 163,
      "outputs": [
        {
          "output_type": "stream",
          "name": "stdout",
          "text": [
            "Cross-validation scores:[0.80720872 0.78439597 0.79530201 0.8397651  0.8045302 ]\n"
          ]
        }
      ]
    },
    {
      "cell_type": "code",
      "source": [
        "#Podemos resumir la precisión de la validación cruzada calculando su media.\n",
        "print('Average cross-validation score: {:.4f}'.format(scores.mean()))"
      ],
      "metadata": {
        "colab": {
          "base_uri": "https://localhost:8080/"
        },
        "id": "ow9EPGcwtO-o",
        "outputId": "040c960f-8ec2-4fcd-f6bd-9d367a861d6d"
      },
      "execution_count": 164,
      "outputs": [
        {
          "output_type": "stream",
          "name": "stdout",
          "text": [
            "Average cross-validation score: 0.8062\n"
          ]
        }
      ]
    },
    {
      "cell_type": "markdown",
      "source": [
        "La puntuación del modelo original es de 0,87. \n",
        "La puntuación media de la validación cruzada es de 0,8573. \n",
        "Por lo tanto, podemos concluir que la validación cruzada no mejora el rendimiento."
      ],
      "metadata": {
        "id": "Lf_C4n6xqBAp"
      }
    },
    {
      "cell_type": "markdown",
      "source": [
        "**Optimización de hiperparámetros mediante GridSearch CV**"
      ],
      "metadata": {
        "id": "0rxObV-CtYKJ"
      }
    },
    {
      "cell_type": "code",
      "source": [
        "from sklearn.model_selection import GridSearchCV\n",
        "\n",
        "\n",
        "parameters = [{'penalty':['l1','l2']}, \n",
        "              {'C':[1, 10, 100, 1000]}]\n",
        "\n",
        "\n",
        "\n",
        "grid_search = GridSearchCV(estimator = logreg,  \n",
        "                           param_grid = parameters,\n",
        "                           scoring = 'accuracy',\n",
        "                           cv = 10,\n",
        "                           verbose=0)\n",
        "\n",
        "\n",
        "grid_search.fit(X_train, y_train)"
      ],
      "metadata": {
        "colab": {
          "base_uri": "https://localhost:8080/"
        },
        "id": "wopvIRc9tfn3",
        "outputId": "1d15781f-a0a1-4aa9-b876-b10b74a9f39f"
      },
      "execution_count": 166,
      "outputs": [
        {
          "output_type": "execute_result",
          "data": {
            "text/plain": [
              "GridSearchCV(cv=10,\n",
              "             estimator=LogisticRegression(random_state=0, solver='liblinear'),\n",
              "             param_grid=[{'penalty': ['l1', 'l2']}, {'C': [1, 10, 100, 1000]}],\n",
              "             scoring='accuracy')"
            ]
          },
          "metadata": {},
          "execution_count": 166
        }
      ]
    },
    {
      "cell_type": "code",
      "source": [
        "# examine the best model\n",
        "\n",
        "# best score achieved during the GridSearchCV\n",
        "print('GridSearch CV best score : {:.4f}\\n\\n'.format(grid_search.best_score_))\n",
        "\n",
        "# print parameters that give the best results\n",
        "print('Parameters that give the best results :','\\n\\n', (grid_search.best_params_))\n",
        "\n",
        "# print estimator that was chosen by the GridSearch\n",
        "print('\\n\\nEstimator that was chosen by the search :','\\n\\n', (grid_search.best_estimator_))"
      ],
      "metadata": {
        "colab": {
          "base_uri": "https://localhost:8080/"
        },
        "id": "1rxUD1DjtpXk",
        "outputId": "cd3754b2-44b4-49e2-fbf9-f5ac877bac48"
      },
      "execution_count": 167,
      "outputs": [
        {
          "output_type": "stream",
          "name": "stdout",
          "text": [
            "GridSearch CV best score : 0.9827\n",
            "\n",
            "\n",
            "Parameters that give the best results : \n",
            "\n",
            " {'C': 1000}\n",
            "\n",
            "\n",
            "Estimator that was chosen by the search : \n",
            "\n",
            " LogisticRegression(C=1000, random_state=0, solver='liblinear')\n"
          ]
        }
      ]
    },
    {
      "cell_type": "code",
      "source": [
        "# calculate GridSearch CV score on test set\n",
        "\n",
        "print('GridSearch CV score on test set: {0:0.4f}'.format(grid_search.score(X_test, y_test)))"
      ],
      "metadata": {
        "colab": {
          "base_uri": "https://localhost:8080/"
        },
        "id": "7BAYs2AXtxkE",
        "outputId": "025caed4-889a-42cb-d8fd-05353de4936d"
      },
      "execution_count": 168,
      "outputs": [
        {
          "output_type": "stream",
          "name": "stdout",
          "text": [
            "GridSearch CV score on test set: 0.9836\n"
          ]
        }
      ]
    },
    {
      "cell_type": "markdown",
      "source": [
        "Comentarios\n",
        "La precisión de la prueba de nuestro modelo original es de 0,87, mientras que la precisión de GridSearch CV es de 0,9948.\n",
        "Podemos ver que GridSearch CV mejora el rendimiento de este modelo en particular."
      ],
      "metadata": {
        "id": "x6o3oO2NqZSQ"
      }
    },
    {
      "cell_type": "code",
      "source": [],
      "metadata": {
        "id": "JIYQkur7t33O"
      },
      "execution_count": null,
      "outputs": []
    },
    {
      "cell_type": "code",
      "source": [],
      "metadata": {
        "id": "VF5dOZ5jtTgN"
      },
      "execution_count": null,
      "outputs": []
    },
    {
      "cell_type": "code",
      "source": [],
      "metadata": {
        "id": "fhiq0S6qtTkR"
      },
      "execution_count": null,
      "outputs": []
    },
    {
      "cell_type": "code",
      "source": [],
      "metadata": {
        "id": "bT1GMe_YtToF"
      },
      "execution_count": null,
      "outputs": []
    }
  ],
  "metadata": {
    "colab": {
      "collapsed_sections": [],
      "provenance": [],
      "authorship_tag": "ABX9TyPsbB70ZvkATMy0J70YPaiM",
      "include_colab_link": true
    },
    "kernelspec": {
      "display_name": "Python 3",
      "name": "python3"
    },
    "language_info": {
      "name": "python"
    }
  },
  "nbformat": 4,
  "nbformat_minor": 0
}